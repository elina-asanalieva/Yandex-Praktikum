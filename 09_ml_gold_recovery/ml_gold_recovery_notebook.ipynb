{
 "cells": [
  {
   "cell_type": "markdown",
   "metadata": {},
   "source": [
    "# Восстановление золота из руды"
   ]
  },
  {
   "cell_type": "markdown",
   "metadata": {},
   "source": [
    "Подготовьте прототип модели машинного обучения для «Цифры». Компания разрабатывает решения для эффективной работы промышленных предприятий.\n",
    "\n",
    "Модель должна предсказать коэффициент восстановления золота из золотосодержащей руды. Используйте данные с параметрами добычи и очистки. \n",
    "\n",
    "Модель поможет оптимизировать производство, чтобы не запускать предприятие с убыточными характеристиками.\n",
    "\n",
    "Вам нужно:\n",
    "\n",
    "1. Подготовить данные;\n",
    "2. Провести исследовательский анализ данных;\n",
    "3. Построить и обучить модель.\n",
    "\n",
    "Чтобы выполнить проект, обращайтесь к библиотекам *pandas*, *matplotlib* и *sklearn.* Вам поможет их документация."
   ]
  },
  {
   "cell_type": "markdown",
   "metadata": {},
   "source": [
    "# Описание проекта"
   ]
  },
  {
   "cell_type": "markdown",
   "metadata": {},
   "source": [
    "Данные находятся в трёх файлах:\n",
    " - `gold_recovery_train_new.csv` — обучающая выборка;\n",
    " - `gold_recovery_test_new.csv` — тестовая выборка;\n",
    " - `gold_recovery_full_new.csv` — исходные данные.\n",
    " \n",
    " \n",
    "Данные индексируются датой и временем получения информации (признак `date`). Соседние по времени параметры часто похожи.\n",
    "\n",
    "\n",
    "Некоторые параметры недоступны, потому что замеряются и/или рассчитываются значительно позже. Из-за этого в тестовой выборке отсутствуют некоторые признаки, которые могут быть в обучающей. Также в тестовом наборе нет целевых признаков.\n",
    "Исходный датасет содержит обучающую и тестовую выборки со всеми признаками.\n",
    "\n",
    "\n",
    "В вашем распоряжении сырые данные: их просто выгрузили из хранилища. "
   ]
  },
  {
   "cell_type": "markdown",
   "metadata": {},
   "source": [
    "# Описание данных"
   ]
  },
  {
   "cell_type": "markdown",
   "metadata": {},
   "source": [
    "**Технологический процесс**\n",
    "\n",
    "- Rougher feed — исходное сырье\n",
    "- Rougher additions (или reagent additions) — флотационные реагенты: Xanthate, Sulphate, Depressant\n",
    "  \n",
    "  - Xanthate **— ксантогенат (промотер, или активатор флотации);\n",
    "  - Sulphate — сульфат (на данном производстве сульфид натрия);\n",
    "  - Depressant — депрессант (силикат натрия).\n",
    "- Rougher process (англ. «грубый процесс») — флотация\n",
    "- Rougher tails — отвальные хвосты\n",
    "- Float banks — флотационная установка\n",
    "- Cleaner process — очистка\n",
    "- Rougher Au — черновой концентрат золота\n",
    "- Final Au — финальный концентрат золота\n",
    "\n",
    "**Параметры этапов**\n",
    "\n",
    "- air amount — объём воздуха\n",
    "- fluid levels — уровень жидкости\n",
    "- feed size — размер гранул сырья\n",
    "- feed rate — скорость подачи"
   ]
  },
  {
   "cell_type": "markdown",
   "metadata": {},
   "source": [
    "# Наименование признаков"
   ]
  },
  {
   "cell_type": "markdown",
   "metadata": {},
   "source": [
    "Наименование признаков должно быть такое:\n",
    "\n",
    "`[этап].[тип_параметра].[название_параметра]`\n",
    "\n",
    "Пример: `rougher.input.feed_ag`"
   ]
  },
  {
   "cell_type": "markdown",
   "metadata": {},
   "source": [
    "Возможные значения для блока `[этап]`:\n",
    "- rougher — флотация\n",
    "- primary_cleaner — первичная очистка\n",
    "- secondary_cleaner — вторичная очистка\n",
    "- final — финальные характеристики\n",
    "\n",
    "Возможные значения для блока `[тип_параметра]`:\n",
    "- input — параметры сырья\n",
    "- output — параметры продукта\n",
    "- state — параметры, характеризующие текущее состояние этапа\n",
    "- calculation — расчётные характеристики"
   ]
  },
  {
   "cell_type": "markdown",
   "metadata": {
    "toc": true
   },
   "source": [
    "<h1>Содержание<span class=\"tocSkip\"></span></h1>\n",
    "<div class=\"toc\"><ul class=\"toc-item\"><li><span><a href=\"#Подготовка-данных\" data-toc-modified-id=\"Подготовка-данных-1\"><span class=\"toc-item-num\">1&nbsp;&nbsp;</span>Подготовка данных</a></span><ul class=\"toc-item\"><li><span><a href=\"#Открытие-и-изучение-файлов\" data-toc-modified-id=\"Открытие-и-изучение-файлов-1.1\"><span class=\"toc-item-num\">1.1&nbsp;&nbsp;</span>Открытие и изучение файлов</a></span></li><li><span><a href=\"#Проверка-расчета-эффективности-обогащения\" data-toc-modified-id=\"Проверка-расчета-эффективности-обогащения-1.2\"><span class=\"toc-item-num\">1.2&nbsp;&nbsp;</span>Проверка расчета эффективности обогащения</a></span></li><li><span><a href=\"#Анализ-признаков-недоступных-в-тестовой-выборке\" data-toc-modified-id=\"Анализ-признаков-недоступных-в-тестовой-выборке-1.3\"><span class=\"toc-item-num\">1.3&nbsp;&nbsp;</span>Анализ признаков недоступных в тестовой выборке</a></span></li><li><span><a href=\"#Предобработка-данных\" data-toc-modified-id=\"Предобработка-данных-1.4\"><span class=\"toc-item-num\">1.4&nbsp;&nbsp;</span>Предобработка данных</a></span></li></ul></li><li><span><a href=\"#Анализ-данных\" data-toc-modified-id=\"Анализ-данных-2\"><span class=\"toc-item-num\">2&nbsp;&nbsp;</span>Анализ данных</a></span><ul class=\"toc-item\"><li><span><a href=\"#Рассмотрение-изменения-концентрации-металлов-(Au,-Ag,-Pb)-на-различных-этапах-очистки.\" data-toc-modified-id=\"Рассмотрение-изменения-концентрации-металлов-(Au,-Ag,-Pb)-на-различных-этапах-очистки.-2.1\"><span class=\"toc-item-num\">2.1&nbsp;&nbsp;</span>Рассмотрение изменения концентрации металлов (Au, Ag, Pb) на различных этапах очистки.</a></span></li><li><span><a href=\"#Сравнение-распределения-размеров-гранул-сырья-на-обучающей-и-тестовой-выборках.-Если-распределения-сильно-отличаются-друг-от-друга,-оценка-модели-будет-неправильной.\" data-toc-modified-id=\"Сравнение-распределения-размеров-гранул-сырья-на-обучающей-и-тестовой-выборках.-Если-распределения-сильно-отличаются-друг-от-друга,-оценка-модели-будет-неправильной.-2.2\"><span class=\"toc-item-num\">2.2&nbsp;&nbsp;</span>Сравнение распределения размеров гранул сырья на обучающей и тестовой выборках. Если распределения сильно отличаются друг от друга, оценка модели будет неправильной.</a></span></li><li><span><a href=\"#Исследование-суммарной-концентрации-всех-веществ-на-разных-стадиях:-в-сырье,-в-черновом-и-финальном-концентратах.\" data-toc-modified-id=\"Исследование-суммарной-концентрации-всех-веществ-на-разных-стадиях:-в-сырье,-в-черновом-и-финальном-концентратах.-2.3\"><span class=\"toc-item-num\">2.3&nbsp;&nbsp;</span>Исследование суммарной концентрации всех веществ на разных стадиях: в сырье, в черновом и финальном концентратах.</a></span></li></ul></li><li><span><a href=\"#Модель\" data-toc-modified-id=\"Модель-3\"><span class=\"toc-item-num\">3&nbsp;&nbsp;</span>Модель</a></span><ul class=\"toc-item\"><li><span><a href=\"#Функция-для-вычисления-итоговой-sMAPE.\" data-toc-modified-id=\"Функция-для-вычисления-итоговой-sMAPE.-3.1\"><span class=\"toc-item-num\">3.1&nbsp;&nbsp;</span>Функция для вычисления итоговой sMAPE.</a></span></li><li><span><a href=\"#Обучение-разных-моделей-и-оценка-их-качества-кросс-валидацией.-Определение-лучшей-модели-и-проверка-её-на-тестовой-выборке.\" data-toc-modified-id=\"Обучение-разных-моделей-и-оценка-их-качества-кросс-валидацией.-Определение-лучшей-модели-и-проверка-её-на-тестовой-выборке.-3.2\"><span class=\"toc-item-num\">3.2&nbsp;&nbsp;</span>Обучение разных моделей и оценка их качества кросс-валидацией. Определение лучшей модели и проверка её на тестовой выборке.</a></span><ul class=\"toc-item\"><li><span><a href=\"#Линейная-регрессия\" data-toc-modified-id=\"Линейная-регрессия-3.2.1\"><span class=\"toc-item-num\">3.2.1&nbsp;&nbsp;</span>Линейная регрессия</a></span></li><li><span><a href=\"#Дерево-решений\" data-toc-modified-id=\"Дерево-решений-3.2.2\"><span class=\"toc-item-num\">3.2.2&nbsp;&nbsp;</span>Дерево решений</a></span></li><li><span><a href=\"#Случайный-лес\" data-toc-modified-id=\"Случайный-лес-3.2.3\"><span class=\"toc-item-num\">3.2.3&nbsp;&nbsp;</span>Случайный лес</a></span></li><li><span><a href=\"#Проверка-модели-на-тестовой-выборке\" data-toc-modified-id=\"Проверка-модели-на-тестовой-выборке-3.2.4\"><span class=\"toc-item-num\">3.2.4&nbsp;&nbsp;</span>Проверка модели на тестовой выборке</a></span></li><li><span><a href=\"#Проверка-модели-на-адекватность\" data-toc-modified-id=\"Проверка-модели-на-адекватность-3.2.5\"><span class=\"toc-item-num\">3.2.5&nbsp;&nbsp;</span>Проверка модели на адекватность</a></span></li></ul></li></ul></li><li><span><a href=\"#Общий-вывод\" data-toc-modified-id=\"Общий-вывод-4\"><span class=\"toc-item-num\">4&nbsp;&nbsp;</span>Общий вывод</a></span></li><li><span><a href=\"#Чек-лист-готовности-проекта\" data-toc-modified-id=\"Чек-лист-готовности-проекта-5\"><span class=\"toc-item-num\">5&nbsp;&nbsp;</span>Чек-лист готовности проекта</a></span></li></ul></div>"
   ]
  },
  {
   "cell_type": "markdown",
   "metadata": {},
   "source": [
    "## Подготовка данных"
   ]
  },
  {
   "cell_type": "markdown",
   "metadata": {},
   "source": [
    "### Открытие и изучение файлов"
   ]
  },
  {
   "cell_type": "markdown",
   "metadata": {},
   "source": [
    "Импортирую необходимые библиотеки"
   ]
  },
  {
   "cell_type": "code",
   "execution_count": 1,
   "metadata": {},
   "outputs": [],
   "source": [
    "import pandas as pd\n",
    "import seaborn as sns\n",
    "import numpy as np\n",
    "import matplotlib.pyplot as plt\n",
    "\n",
    "from sklearn.metrics import mean_absolute_error, make_scorer\n",
    "from sklearn.preprocessing import StandardScaler\n",
    "from sklearn.model_selection import cross_val_score\n",
    "from sklearn.linear_model import LinearRegression\n",
    "from sklearn.tree import DecisionTreeRegressor\n",
    "from sklearn.ensemble import RandomForestRegressor\n",
    "from sklearn.dummy import DummyRegressor\n",
    "\n",
    "import warnings\n",
    "warnings.filterwarnings('ignore')\n",
    "\n",
    "pd.options.mode.chained_assignment = None\n",
    "pd.options.display.max_columns = None\n",
    "pd.options.display.max_rows = None"
   ]
  },
  {
   "cell_type": "markdown",
   "metadata": {},
   "source": [
    "Открою файлы и изучу их."
   ]
  },
  {
   "cell_type": "code",
   "execution_count": 2,
   "metadata": {},
   "outputs": [],
   "source": [
    "train_data = pd.read_csv('/datasets/gold_recovery_train_new.csv')\n",
    "test_data = pd.read_csv('/datasets/gold_recovery_test_new.csv')\n",
    "full_data = pd.read_csv('/datasets/gold_recovery_full_new.csv')"
   ]
  },
  {
   "cell_type": "code",
   "execution_count": 3,
   "metadata": {},
   "outputs": [],
   "source": [
    "def info(data):\n",
    "    display(data.head())\n",
    "    print()\n",
    "    display(data.info())\n",
    "    print()\n",
    "    print('Количество пропусков')\n",
    "    missing_val_count_by_column = (data.isna().sum())\n",
    "    display(missing_val_count_by_column[missing_val_count_by_column > 0])\n",
    "    print()\n",
    "    display(data.describe())\n",
    "    print()\n",
    "    print('Количество явных дубликатов в таблице\\n')\n",
    "    display(data.duplicated().sum())   "
   ]
  },
  {
   "cell_type": "markdown",
   "metadata": {},
   "source": [
    "Для начала рассмотрю таблицу с исходными данными"
   ]
  },
  {
   "cell_type": "code",
   "execution_count": 4,
   "metadata": {},
   "outputs": [
    {
     "data": {
      "text/html": [
       "<div>\n",
       "<style scoped>\n",
       "    .dataframe tbody tr th:only-of-type {\n",
       "        vertical-align: middle;\n",
       "    }\n",
       "\n",
       "    .dataframe tbody tr th {\n",
       "        vertical-align: top;\n",
       "    }\n",
       "\n",
       "    .dataframe thead th {\n",
       "        text-align: right;\n",
       "    }\n",
       "</style>\n",
       "<table border=\"1\" class=\"dataframe\">\n",
       "  <thead>\n",
       "    <tr style=\"text-align: right;\">\n",
       "      <th></th>\n",
       "      <th>date</th>\n",
       "      <th>final.output.concentrate_ag</th>\n",
       "      <th>final.output.concentrate_pb</th>\n",
       "      <th>final.output.concentrate_sol</th>\n",
       "      <th>final.output.concentrate_au</th>\n",
       "      <th>final.output.recovery</th>\n",
       "      <th>final.output.tail_ag</th>\n",
       "      <th>final.output.tail_pb</th>\n",
       "      <th>final.output.tail_sol</th>\n",
       "      <th>final.output.tail_au</th>\n",
       "      <th>primary_cleaner.input.sulfate</th>\n",
       "      <th>primary_cleaner.input.depressant</th>\n",
       "      <th>primary_cleaner.input.feed_size</th>\n",
       "      <th>primary_cleaner.input.xanthate</th>\n",
       "      <th>primary_cleaner.output.concentrate_ag</th>\n",
       "      <th>primary_cleaner.output.concentrate_pb</th>\n",
       "      <th>primary_cleaner.output.concentrate_sol</th>\n",
       "      <th>primary_cleaner.output.concentrate_au</th>\n",
       "      <th>primary_cleaner.output.tail_ag</th>\n",
       "      <th>primary_cleaner.output.tail_pb</th>\n",
       "      <th>primary_cleaner.output.tail_sol</th>\n",
       "      <th>primary_cleaner.output.tail_au</th>\n",
       "      <th>primary_cleaner.state.floatbank8_a_air</th>\n",
       "      <th>primary_cleaner.state.floatbank8_a_level</th>\n",
       "      <th>primary_cleaner.state.floatbank8_b_air</th>\n",
       "      <th>primary_cleaner.state.floatbank8_b_level</th>\n",
       "      <th>primary_cleaner.state.floatbank8_c_air</th>\n",
       "      <th>primary_cleaner.state.floatbank8_c_level</th>\n",
       "      <th>primary_cleaner.state.floatbank8_d_air</th>\n",
       "      <th>primary_cleaner.state.floatbank8_d_level</th>\n",
       "      <th>rougher.calculation.sulfate_to_au_concentrate</th>\n",
       "      <th>rougher.calculation.floatbank10_sulfate_to_au_feed</th>\n",
       "      <th>rougher.calculation.floatbank11_sulfate_to_au_feed</th>\n",
       "      <th>rougher.calculation.au_pb_ratio</th>\n",
       "      <th>rougher.input.feed_ag</th>\n",
       "      <th>rougher.input.feed_pb</th>\n",
       "      <th>rougher.input.feed_rate</th>\n",
       "      <th>rougher.input.feed_size</th>\n",
       "      <th>rougher.input.feed_sol</th>\n",
       "      <th>rougher.input.feed_au</th>\n",
       "      <th>rougher.input.floatbank10_sulfate</th>\n",
       "      <th>rougher.input.floatbank10_xanthate</th>\n",
       "      <th>rougher.input.floatbank11_sulfate</th>\n",
       "      <th>rougher.input.floatbank11_xanthate</th>\n",
       "      <th>rougher.output.concentrate_ag</th>\n",
       "      <th>rougher.output.concentrate_pb</th>\n",
       "      <th>rougher.output.concentrate_sol</th>\n",
       "      <th>rougher.output.concentrate_au</th>\n",
       "      <th>rougher.output.recovery</th>\n",
       "      <th>rougher.output.tail_ag</th>\n",
       "      <th>rougher.output.tail_pb</th>\n",
       "      <th>rougher.output.tail_sol</th>\n",
       "      <th>rougher.output.tail_au</th>\n",
       "      <th>rougher.state.floatbank10_a_air</th>\n",
       "      <th>rougher.state.floatbank10_a_level</th>\n",
       "      <th>rougher.state.floatbank10_b_air</th>\n",
       "      <th>rougher.state.floatbank10_b_level</th>\n",
       "      <th>rougher.state.floatbank10_c_air</th>\n",
       "      <th>rougher.state.floatbank10_c_level</th>\n",
       "      <th>rougher.state.floatbank10_d_air</th>\n",
       "      <th>rougher.state.floatbank10_d_level</th>\n",
       "      <th>rougher.state.floatbank10_e_air</th>\n",
       "      <th>rougher.state.floatbank10_e_level</th>\n",
       "      <th>rougher.state.floatbank10_f_air</th>\n",
       "      <th>rougher.state.floatbank10_f_level</th>\n",
       "      <th>secondary_cleaner.output.tail_ag</th>\n",
       "      <th>secondary_cleaner.output.tail_pb</th>\n",
       "      <th>secondary_cleaner.output.tail_sol</th>\n",
       "      <th>secondary_cleaner.output.tail_au</th>\n",
       "      <th>secondary_cleaner.state.floatbank2_a_air</th>\n",
       "      <th>secondary_cleaner.state.floatbank2_a_level</th>\n",
       "      <th>secondary_cleaner.state.floatbank2_b_air</th>\n",
       "      <th>secondary_cleaner.state.floatbank2_b_level</th>\n",
       "      <th>secondary_cleaner.state.floatbank3_a_air</th>\n",
       "      <th>secondary_cleaner.state.floatbank3_a_level</th>\n",
       "      <th>secondary_cleaner.state.floatbank3_b_air</th>\n",
       "      <th>secondary_cleaner.state.floatbank3_b_level</th>\n",
       "      <th>secondary_cleaner.state.floatbank4_a_air</th>\n",
       "      <th>secondary_cleaner.state.floatbank4_a_level</th>\n",
       "      <th>secondary_cleaner.state.floatbank4_b_air</th>\n",
       "      <th>secondary_cleaner.state.floatbank4_b_level</th>\n",
       "      <th>secondary_cleaner.state.floatbank5_a_air</th>\n",
       "      <th>secondary_cleaner.state.floatbank5_a_level</th>\n",
       "      <th>secondary_cleaner.state.floatbank5_b_air</th>\n",
       "      <th>secondary_cleaner.state.floatbank5_b_level</th>\n",
       "      <th>secondary_cleaner.state.floatbank6_a_air</th>\n",
       "      <th>secondary_cleaner.state.floatbank6_a_level</th>\n",
       "    </tr>\n",
       "  </thead>\n",
       "  <tbody>\n",
       "    <tr>\n",
       "      <th>0</th>\n",
       "      <td>2016-01-15 00:00:00</td>\n",
       "      <td>6.055403</td>\n",
       "      <td>9.889648</td>\n",
       "      <td>5.507324</td>\n",
       "      <td>42.192020</td>\n",
       "      <td>70.541216</td>\n",
       "      <td>10.411962</td>\n",
       "      <td>0.895447</td>\n",
       "      <td>16.904297</td>\n",
       "      <td>2.143149</td>\n",
       "      <td>127.092003</td>\n",
       "      <td>10.128295</td>\n",
       "      <td>7.25</td>\n",
       "      <td>0.988759</td>\n",
       "      <td>8.547551</td>\n",
       "      <td>10.389648</td>\n",
       "      <td>19.529297</td>\n",
       "      <td>34.174427</td>\n",
       "      <td>14.936526</td>\n",
       "      <td>2.534912</td>\n",
       "      <td>7.476074</td>\n",
       "      <td>2.106679</td>\n",
       "      <td>1549.775757</td>\n",
       "      <td>-498.912140</td>\n",
       "      <td>1551.434204</td>\n",
       "      <td>-516.403442</td>\n",
       "      <td>1549.873901</td>\n",
       "      <td>-498.666595</td>\n",
       "      <td>1554.367432</td>\n",
       "      <td>-493.428131</td>\n",
       "      <td>41885.707031</td>\n",
       "      <td>3481.779053</td>\n",
       "      <td>3520.337158</td>\n",
       "      <td>2.838687</td>\n",
       "      <td>6.100378</td>\n",
       "      <td>2.284912</td>\n",
       "      <td>523.546326</td>\n",
       "      <td>55.486599</td>\n",
       "      <td>36.808594</td>\n",
       "      <td>6.486150</td>\n",
       "      <td>11.986616</td>\n",
       "      <td>6.007990</td>\n",
       "      <td>11.836743</td>\n",
       "      <td>6.005818</td>\n",
       "      <td>11.500771</td>\n",
       "      <td>7.101074</td>\n",
       "      <td>28.029297</td>\n",
       "      <td>19.793808</td>\n",
       "      <td>87.107763</td>\n",
       "      <td>5.008018</td>\n",
       "      <td>0.508728</td>\n",
       "      <td>19.154297</td>\n",
       "      <td>1.170244</td>\n",
       "      <td>999.706909</td>\n",
       "      <td>-404.066986</td>\n",
       "      <td>1603.011353</td>\n",
       "      <td>-434.715027</td>\n",
       "      <td>1602.375000</td>\n",
       "      <td>-442.204468</td>\n",
       "      <td>1598.937256</td>\n",
       "      <td>-451.294128</td>\n",
       "      <td>1404.472046</td>\n",
       "      <td>-455.462982</td>\n",
       "      <td>1416.354980</td>\n",
       "      <td>-451.939636</td>\n",
       "      <td>14.500184</td>\n",
       "      <td>4.694824</td>\n",
       "      <td>8.764648</td>\n",
       "      <td>2.606185</td>\n",
       "      <td>25.853109</td>\n",
       "      <td>-498.526489</td>\n",
       "      <td>23.893660</td>\n",
       "      <td>-501.406281</td>\n",
       "      <td>23.961798</td>\n",
       "      <td>-495.262817</td>\n",
       "      <td>21.940409</td>\n",
       "      <td>-499.340973</td>\n",
       "      <td>14.016835</td>\n",
       "      <td>-502.488007</td>\n",
       "      <td>12.099931</td>\n",
       "      <td>-504.715942</td>\n",
       "      <td>9.925633</td>\n",
       "      <td>-498.310211</td>\n",
       "      <td>8.079666</td>\n",
       "      <td>-500.470978</td>\n",
       "      <td>14.151341</td>\n",
       "      <td>-605.841980</td>\n",
       "    </tr>\n",
       "    <tr>\n",
       "      <th>1</th>\n",
       "      <td>2016-01-15 01:00:00</td>\n",
       "      <td>6.029369</td>\n",
       "      <td>9.968944</td>\n",
       "      <td>5.257781</td>\n",
       "      <td>42.701629</td>\n",
       "      <td>69.266198</td>\n",
       "      <td>10.462676</td>\n",
       "      <td>0.927452</td>\n",
       "      <td>16.634514</td>\n",
       "      <td>2.224930</td>\n",
       "      <td>125.629232</td>\n",
       "      <td>10.296251</td>\n",
       "      <td>7.25</td>\n",
       "      <td>1.002663</td>\n",
       "      <td>8.558743</td>\n",
       "      <td>10.497069</td>\n",
       "      <td>19.369147</td>\n",
       "      <td>34.118526</td>\n",
       "      <td>16.250511</td>\n",
       "      <td>3.049646</td>\n",
       "      <td>6.733907</td>\n",
       "      <td>2.353017</td>\n",
       "      <td>1576.166671</td>\n",
       "      <td>-500.904965</td>\n",
       "      <td>1575.950626</td>\n",
       "      <td>-499.865889</td>\n",
       "      <td>1575.994189</td>\n",
       "      <td>-499.315107</td>\n",
       "      <td>1574.479259</td>\n",
       "      <td>-498.931665</td>\n",
       "      <td>42050.861809</td>\n",
       "      <td>3498.370979</td>\n",
       "      <td>3489.981857</td>\n",
       "      <td>2.858998</td>\n",
       "      <td>6.161113</td>\n",
       "      <td>2.266033</td>\n",
       "      <td>525.290581</td>\n",
       "      <td>57.278666</td>\n",
       "      <td>35.753385</td>\n",
       "      <td>6.478583</td>\n",
       "      <td>11.971193</td>\n",
       "      <td>6.005766</td>\n",
       "      <td>11.996163</td>\n",
       "      <td>6.012594</td>\n",
       "      <td>11.615865</td>\n",
       "      <td>7.278807</td>\n",
       "      <td>28.067063</td>\n",
       "      <td>20.050975</td>\n",
       "      <td>86.843261</td>\n",
       "      <td>4.955378</td>\n",
       "      <td>0.536689</td>\n",
       "      <td>18.965234</td>\n",
       "      <td>1.184827</td>\n",
       "      <td>1000.286398</td>\n",
       "      <td>-400.065196</td>\n",
       "      <td>1600.754587</td>\n",
       "      <td>-449.953435</td>\n",
       "      <td>1600.479580</td>\n",
       "      <td>-449.830646</td>\n",
       "      <td>1600.527589</td>\n",
       "      <td>-449.953649</td>\n",
       "      <td>1399.227084</td>\n",
       "      <td>-450.869848</td>\n",
       "      <td>1399.719514</td>\n",
       "      <td>-450.119001</td>\n",
       "      <td>14.265474</td>\n",
       "      <td>4.592547</td>\n",
       "      <td>9.001494</td>\n",
       "      <td>2.488248</td>\n",
       "      <td>25.880539</td>\n",
       "      <td>-499.989656</td>\n",
       "      <td>23.889530</td>\n",
       "      <td>-500.372428</td>\n",
       "      <td>23.970550</td>\n",
       "      <td>-500.085473</td>\n",
       "      <td>22.085714</td>\n",
       "      <td>-499.446897</td>\n",
       "      <td>13.992281</td>\n",
       "      <td>-505.503262</td>\n",
       "      <td>11.950531</td>\n",
       "      <td>-501.331529</td>\n",
       "      <td>10.039245</td>\n",
       "      <td>-500.169983</td>\n",
       "      <td>7.984757</td>\n",
       "      <td>-500.582168</td>\n",
       "      <td>13.998353</td>\n",
       "      <td>-599.787184</td>\n",
       "    </tr>\n",
       "    <tr>\n",
       "      <th>2</th>\n",
       "      <td>2016-01-15 02:00:00</td>\n",
       "      <td>6.055926</td>\n",
       "      <td>10.213995</td>\n",
       "      <td>5.383759</td>\n",
       "      <td>42.657501</td>\n",
       "      <td>68.116445</td>\n",
       "      <td>10.507046</td>\n",
       "      <td>0.953716</td>\n",
       "      <td>16.208849</td>\n",
       "      <td>2.257889</td>\n",
       "      <td>123.819808</td>\n",
       "      <td>11.316280</td>\n",
       "      <td>7.25</td>\n",
       "      <td>0.991265</td>\n",
       "      <td>8.603505</td>\n",
       "      <td>10.354494</td>\n",
       "      <td>19.167579</td>\n",
       "      <td>33.969464</td>\n",
       "      <td>16.491823</td>\n",
       "      <td>3.124664</td>\n",
       "      <td>6.471768</td>\n",
       "      <td>2.416800</td>\n",
       "      <td>1601.556163</td>\n",
       "      <td>-499.997791</td>\n",
       "      <td>1600.386685</td>\n",
       "      <td>-500.607762</td>\n",
       "      <td>1602.003542</td>\n",
       "      <td>-500.870069</td>\n",
       "      <td>1599.541515</td>\n",
       "      <td>-499.827444</td>\n",
       "      <td>42018.101184</td>\n",
       "      <td>3495.348910</td>\n",
       "      <td>3502.359819</td>\n",
       "      <td>2.945989</td>\n",
       "      <td>6.116455</td>\n",
       "      <td>2.159622</td>\n",
       "      <td>530.026610</td>\n",
       "      <td>57.510649</td>\n",
       "      <td>35.971630</td>\n",
       "      <td>6.362222</td>\n",
       "      <td>11.920603</td>\n",
       "      <td>6.197377</td>\n",
       "      <td>11.920305</td>\n",
       "      <td>6.204633</td>\n",
       "      <td>11.695753</td>\n",
       "      <td>7.216833</td>\n",
       "      <td>27.454037</td>\n",
       "      <td>19.737170</td>\n",
       "      <td>86.842308</td>\n",
       "      <td>4.843460</td>\n",
       "      <td>0.546416</td>\n",
       "      <td>18.808533</td>\n",
       "      <td>1.162562</td>\n",
       "      <td>999.719565</td>\n",
       "      <td>-400.074028</td>\n",
       "      <td>1599.337330</td>\n",
       "      <td>-450.008530</td>\n",
       "      <td>1599.672797</td>\n",
       "      <td>-449.954491</td>\n",
       "      <td>1599.849325</td>\n",
       "      <td>-449.954185</td>\n",
       "      <td>1399.180945</td>\n",
       "      <td>-449.937588</td>\n",
       "      <td>1400.316682</td>\n",
       "      <td>-450.527147</td>\n",
       "      <td>14.115662</td>\n",
       "      <td>4.624775</td>\n",
       "      <td>8.842896</td>\n",
       "      <td>2.458187</td>\n",
       "      <td>26.005245</td>\n",
       "      <td>-499.929616</td>\n",
       "      <td>23.886657</td>\n",
       "      <td>-499.951928</td>\n",
       "      <td>23.913535</td>\n",
       "      <td>-499.442343</td>\n",
       "      <td>23.957717</td>\n",
       "      <td>-499.901982</td>\n",
       "      <td>14.015015</td>\n",
       "      <td>-502.520901</td>\n",
       "      <td>11.912783</td>\n",
       "      <td>-501.133383</td>\n",
       "      <td>10.070913</td>\n",
       "      <td>-500.129135</td>\n",
       "      <td>8.013877</td>\n",
       "      <td>-500.517572</td>\n",
       "      <td>14.028663</td>\n",
       "      <td>-601.427363</td>\n",
       "    </tr>\n",
       "    <tr>\n",
       "      <th>3</th>\n",
       "      <td>2016-01-15 03:00:00</td>\n",
       "      <td>6.047977</td>\n",
       "      <td>9.977019</td>\n",
       "      <td>4.858634</td>\n",
       "      <td>42.689819</td>\n",
       "      <td>68.347543</td>\n",
       "      <td>10.422762</td>\n",
       "      <td>0.883763</td>\n",
       "      <td>16.532835</td>\n",
       "      <td>2.146849</td>\n",
       "      <td>122.270188</td>\n",
       "      <td>11.322140</td>\n",
       "      <td>7.25</td>\n",
       "      <td>0.996739</td>\n",
       "      <td>7.221879</td>\n",
       "      <td>8.496563</td>\n",
       "      <td>15.978538</td>\n",
       "      <td>28.260743</td>\n",
       "      <td>16.024359</td>\n",
       "      <td>2.960362</td>\n",
       "      <td>6.843791</td>\n",
       "      <td>2.262051</td>\n",
       "      <td>1599.968720</td>\n",
       "      <td>-500.951778</td>\n",
       "      <td>1600.659236</td>\n",
       "      <td>-499.677094</td>\n",
       "      <td>1600.304144</td>\n",
       "      <td>-500.727997</td>\n",
       "      <td>1600.449520</td>\n",
       "      <td>-500.052575</td>\n",
       "      <td>42029.447991</td>\n",
       "      <td>3498.578313</td>\n",
       "      <td>3499.162912</td>\n",
       "      <td>3.002340</td>\n",
       "      <td>6.043309</td>\n",
       "      <td>2.037807</td>\n",
       "      <td>542.590390</td>\n",
       "      <td>57.792734</td>\n",
       "      <td>36.862241</td>\n",
       "      <td>6.118189</td>\n",
       "      <td>11.630094</td>\n",
       "      <td>6.203177</td>\n",
       "      <td>11.692450</td>\n",
       "      <td>6.196578</td>\n",
       "      <td>11.915047</td>\n",
       "      <td>7.175616</td>\n",
       "      <td>27.341277</td>\n",
       "      <td>19.320810</td>\n",
       "      <td>87.226430</td>\n",
       "      <td>4.655288</td>\n",
       "      <td>0.542525</td>\n",
       "      <td>19.330200</td>\n",
       "      <td>1.079755</td>\n",
       "      <td>999.814770</td>\n",
       "      <td>-400.200179</td>\n",
       "      <td>1600.059442</td>\n",
       "      <td>-450.619948</td>\n",
       "      <td>1600.012842</td>\n",
       "      <td>-449.910497</td>\n",
       "      <td>1597.725177</td>\n",
       "      <td>-450.130127</td>\n",
       "      <td>1400.943157</td>\n",
       "      <td>-450.030142</td>\n",
       "      <td>1400.234743</td>\n",
       "      <td>-449.790835</td>\n",
       "      <td>13.732071</td>\n",
       "      <td>4.482453</td>\n",
       "      <td>9.122857</td>\n",
       "      <td>2.322062</td>\n",
       "      <td>25.942508</td>\n",
       "      <td>-499.176749</td>\n",
       "      <td>23.955516</td>\n",
       "      <td>-499.848796</td>\n",
       "      <td>23.966838</td>\n",
       "      <td>-500.008812</td>\n",
       "      <td>23.954443</td>\n",
       "      <td>-499.944710</td>\n",
       "      <td>14.036510</td>\n",
       "      <td>-500.857308</td>\n",
       "      <td>11.999550</td>\n",
       "      <td>-501.193686</td>\n",
       "      <td>9.970366</td>\n",
       "      <td>-499.201640</td>\n",
       "      <td>7.977324</td>\n",
       "      <td>-500.255908</td>\n",
       "      <td>14.005551</td>\n",
       "      <td>-599.996129</td>\n",
       "    </tr>\n",
       "    <tr>\n",
       "      <th>4</th>\n",
       "      <td>2016-01-15 04:00:00</td>\n",
       "      <td>6.148599</td>\n",
       "      <td>10.142511</td>\n",
       "      <td>4.939416</td>\n",
       "      <td>42.774141</td>\n",
       "      <td>66.927016</td>\n",
       "      <td>10.360302</td>\n",
       "      <td>0.792826</td>\n",
       "      <td>16.525686</td>\n",
       "      <td>2.055292</td>\n",
       "      <td>117.988169</td>\n",
       "      <td>11.913613</td>\n",
       "      <td>7.25</td>\n",
       "      <td>1.009869</td>\n",
       "      <td>9.089428</td>\n",
       "      <td>9.986786</td>\n",
       "      <td>19.199864</td>\n",
       "      <td>33.044932</td>\n",
       "      <td>16.480185</td>\n",
       "      <td>3.112100</td>\n",
       "      <td>6.550154</td>\n",
       "      <td>2.277073</td>\n",
       "      <td>1601.339707</td>\n",
       "      <td>-498.975456</td>\n",
       "      <td>1601.437854</td>\n",
       "      <td>-500.323246</td>\n",
       "      <td>1599.581894</td>\n",
       "      <td>-500.888152</td>\n",
       "      <td>1602.649541</td>\n",
       "      <td>-500.593010</td>\n",
       "      <td>42125.354245</td>\n",
       "      <td>3494.800771</td>\n",
       "      <td>3506.679315</td>\n",
       "      <td>3.169615</td>\n",
       "      <td>6.060915</td>\n",
       "      <td>1.786875</td>\n",
       "      <td>540.531893</td>\n",
       "      <td>56.047189</td>\n",
       "      <td>34.347666</td>\n",
       "      <td>5.663707</td>\n",
       "      <td>10.957755</td>\n",
       "      <td>6.198826</td>\n",
       "      <td>10.960521</td>\n",
       "      <td>6.194897</td>\n",
       "      <td>12.411054</td>\n",
       "      <td>7.240205</td>\n",
       "      <td>27.041023</td>\n",
       "      <td>19.216101</td>\n",
       "      <td>86.688794</td>\n",
       "      <td>4.552800</td>\n",
       "      <td>0.515438</td>\n",
       "      <td>19.267422</td>\n",
       "      <td>1.012642</td>\n",
       "      <td>999.678690</td>\n",
       "      <td>-399.752729</td>\n",
       "      <td>1600.208824</td>\n",
       "      <td>-449.599614</td>\n",
       "      <td>1600.357732</td>\n",
       "      <td>-450.034364</td>\n",
       "      <td>1599.759049</td>\n",
       "      <td>-449.909799</td>\n",
       "      <td>1401.560902</td>\n",
       "      <td>-448.877187</td>\n",
       "      <td>1401.160227</td>\n",
       "      <td>-450.407128</td>\n",
       "      <td>14.079996</td>\n",
       "      <td>4.470737</td>\n",
       "      <td>8.871028</td>\n",
       "      <td>2.330448</td>\n",
       "      <td>26.024787</td>\n",
       "      <td>-500.279091</td>\n",
       "      <td>23.955345</td>\n",
       "      <td>-500.593614</td>\n",
       "      <td>23.985703</td>\n",
       "      <td>-500.083811</td>\n",
       "      <td>23.958945</td>\n",
       "      <td>-499.990309</td>\n",
       "      <td>14.027298</td>\n",
       "      <td>-499.838632</td>\n",
       "      <td>11.953070</td>\n",
       "      <td>-501.053894</td>\n",
       "      <td>9.925709</td>\n",
       "      <td>-501.686727</td>\n",
       "      <td>7.894242</td>\n",
       "      <td>-500.356035</td>\n",
       "      <td>13.996647</td>\n",
       "      <td>-601.496691</td>\n",
       "    </tr>\n",
       "  </tbody>\n",
       "</table>\n",
       "</div>"
      ],
      "text/plain": [
       "                  date  final.output.concentrate_ag  \\\n",
       "0  2016-01-15 00:00:00                     6.055403   \n",
       "1  2016-01-15 01:00:00                     6.029369   \n",
       "2  2016-01-15 02:00:00                     6.055926   \n",
       "3  2016-01-15 03:00:00                     6.047977   \n",
       "4  2016-01-15 04:00:00                     6.148599   \n",
       "\n",
       "   final.output.concentrate_pb  final.output.concentrate_sol  \\\n",
       "0                     9.889648                      5.507324   \n",
       "1                     9.968944                      5.257781   \n",
       "2                    10.213995                      5.383759   \n",
       "3                     9.977019                      4.858634   \n",
       "4                    10.142511                      4.939416   \n",
       "\n",
       "   final.output.concentrate_au  final.output.recovery  final.output.tail_ag  \\\n",
       "0                    42.192020              70.541216             10.411962   \n",
       "1                    42.701629              69.266198             10.462676   \n",
       "2                    42.657501              68.116445             10.507046   \n",
       "3                    42.689819              68.347543             10.422762   \n",
       "4                    42.774141              66.927016             10.360302   \n",
       "\n",
       "   final.output.tail_pb  final.output.tail_sol  final.output.tail_au  \\\n",
       "0              0.895447              16.904297              2.143149   \n",
       "1              0.927452              16.634514              2.224930   \n",
       "2              0.953716              16.208849              2.257889   \n",
       "3              0.883763              16.532835              2.146849   \n",
       "4              0.792826              16.525686              2.055292   \n",
       "\n",
       "   primary_cleaner.input.sulfate  primary_cleaner.input.depressant  \\\n",
       "0                     127.092003                         10.128295   \n",
       "1                     125.629232                         10.296251   \n",
       "2                     123.819808                         11.316280   \n",
       "3                     122.270188                         11.322140   \n",
       "4                     117.988169                         11.913613   \n",
       "\n",
       "   primary_cleaner.input.feed_size  primary_cleaner.input.xanthate  \\\n",
       "0                             7.25                        0.988759   \n",
       "1                             7.25                        1.002663   \n",
       "2                             7.25                        0.991265   \n",
       "3                             7.25                        0.996739   \n",
       "4                             7.25                        1.009869   \n",
       "\n",
       "   primary_cleaner.output.concentrate_ag  \\\n",
       "0                               8.547551   \n",
       "1                               8.558743   \n",
       "2                               8.603505   \n",
       "3                               7.221879   \n",
       "4                               9.089428   \n",
       "\n",
       "   primary_cleaner.output.concentrate_pb  \\\n",
       "0                              10.389648   \n",
       "1                              10.497069   \n",
       "2                              10.354494   \n",
       "3                               8.496563   \n",
       "4                               9.986786   \n",
       "\n",
       "   primary_cleaner.output.concentrate_sol  \\\n",
       "0                               19.529297   \n",
       "1                               19.369147   \n",
       "2                               19.167579   \n",
       "3                               15.978538   \n",
       "4                               19.199864   \n",
       "\n",
       "   primary_cleaner.output.concentrate_au  primary_cleaner.output.tail_ag  \\\n",
       "0                              34.174427                       14.936526   \n",
       "1                              34.118526                       16.250511   \n",
       "2                              33.969464                       16.491823   \n",
       "3                              28.260743                       16.024359   \n",
       "4                              33.044932                       16.480185   \n",
       "\n",
       "   primary_cleaner.output.tail_pb  primary_cleaner.output.tail_sol  \\\n",
       "0                        2.534912                         7.476074   \n",
       "1                        3.049646                         6.733907   \n",
       "2                        3.124664                         6.471768   \n",
       "3                        2.960362                         6.843791   \n",
       "4                        3.112100                         6.550154   \n",
       "\n",
       "   primary_cleaner.output.tail_au  primary_cleaner.state.floatbank8_a_air  \\\n",
       "0                        2.106679                             1549.775757   \n",
       "1                        2.353017                             1576.166671   \n",
       "2                        2.416800                             1601.556163   \n",
       "3                        2.262051                             1599.968720   \n",
       "4                        2.277073                             1601.339707   \n",
       "\n",
       "   primary_cleaner.state.floatbank8_a_level  \\\n",
       "0                               -498.912140   \n",
       "1                               -500.904965   \n",
       "2                               -499.997791   \n",
       "3                               -500.951778   \n",
       "4                               -498.975456   \n",
       "\n",
       "   primary_cleaner.state.floatbank8_b_air  \\\n",
       "0                             1551.434204   \n",
       "1                             1575.950626   \n",
       "2                             1600.386685   \n",
       "3                             1600.659236   \n",
       "4                             1601.437854   \n",
       "\n",
       "   primary_cleaner.state.floatbank8_b_level  \\\n",
       "0                               -516.403442   \n",
       "1                               -499.865889   \n",
       "2                               -500.607762   \n",
       "3                               -499.677094   \n",
       "4                               -500.323246   \n",
       "\n",
       "   primary_cleaner.state.floatbank8_c_air  \\\n",
       "0                             1549.873901   \n",
       "1                             1575.994189   \n",
       "2                             1602.003542   \n",
       "3                             1600.304144   \n",
       "4                             1599.581894   \n",
       "\n",
       "   primary_cleaner.state.floatbank8_c_level  \\\n",
       "0                               -498.666595   \n",
       "1                               -499.315107   \n",
       "2                               -500.870069   \n",
       "3                               -500.727997   \n",
       "4                               -500.888152   \n",
       "\n",
       "   primary_cleaner.state.floatbank8_d_air  \\\n",
       "0                             1554.367432   \n",
       "1                             1574.479259   \n",
       "2                             1599.541515   \n",
       "3                             1600.449520   \n",
       "4                             1602.649541   \n",
       "\n",
       "   primary_cleaner.state.floatbank8_d_level  \\\n",
       "0                               -493.428131   \n",
       "1                               -498.931665   \n",
       "2                               -499.827444   \n",
       "3                               -500.052575   \n",
       "4                               -500.593010   \n",
       "\n",
       "   rougher.calculation.sulfate_to_au_concentrate  \\\n",
       "0                                   41885.707031   \n",
       "1                                   42050.861809   \n",
       "2                                   42018.101184   \n",
       "3                                   42029.447991   \n",
       "4                                   42125.354245   \n",
       "\n",
       "   rougher.calculation.floatbank10_sulfate_to_au_feed  \\\n",
       "0                                        3481.779053    \n",
       "1                                        3498.370979    \n",
       "2                                        3495.348910    \n",
       "3                                        3498.578313    \n",
       "4                                        3494.800771    \n",
       "\n",
       "   rougher.calculation.floatbank11_sulfate_to_au_feed  \\\n",
       "0                                        3520.337158    \n",
       "1                                        3489.981857    \n",
       "2                                        3502.359819    \n",
       "3                                        3499.162912    \n",
       "4                                        3506.679315    \n",
       "\n",
       "   rougher.calculation.au_pb_ratio  rougher.input.feed_ag  \\\n",
       "0                         2.838687               6.100378   \n",
       "1                         2.858998               6.161113   \n",
       "2                         2.945989               6.116455   \n",
       "3                         3.002340               6.043309   \n",
       "4                         3.169615               6.060915   \n",
       "\n",
       "   rougher.input.feed_pb  rougher.input.feed_rate  rougher.input.feed_size  \\\n",
       "0               2.284912               523.546326                55.486599   \n",
       "1               2.266033               525.290581                57.278666   \n",
       "2               2.159622               530.026610                57.510649   \n",
       "3               2.037807               542.590390                57.792734   \n",
       "4               1.786875               540.531893                56.047189   \n",
       "\n",
       "   rougher.input.feed_sol  rougher.input.feed_au  \\\n",
       "0               36.808594               6.486150   \n",
       "1               35.753385               6.478583   \n",
       "2               35.971630               6.362222   \n",
       "3               36.862241               6.118189   \n",
       "4               34.347666               5.663707   \n",
       "\n",
       "   rougher.input.floatbank10_sulfate  rougher.input.floatbank10_xanthate  \\\n",
       "0                          11.986616                            6.007990   \n",
       "1                          11.971193                            6.005766   \n",
       "2                          11.920603                            6.197377   \n",
       "3                          11.630094                            6.203177   \n",
       "4                          10.957755                            6.198826   \n",
       "\n",
       "   rougher.input.floatbank11_sulfate  rougher.input.floatbank11_xanthate  \\\n",
       "0                          11.836743                            6.005818   \n",
       "1                          11.996163                            6.012594   \n",
       "2                          11.920305                            6.204633   \n",
       "3                          11.692450                            6.196578   \n",
       "4                          10.960521                            6.194897   \n",
       "\n",
       "   rougher.output.concentrate_ag  rougher.output.concentrate_pb  \\\n",
       "0                      11.500771                       7.101074   \n",
       "1                      11.615865                       7.278807   \n",
       "2                      11.695753                       7.216833   \n",
       "3                      11.915047                       7.175616   \n",
       "4                      12.411054                       7.240205   \n",
       "\n",
       "   rougher.output.concentrate_sol  rougher.output.concentrate_au  \\\n",
       "0                       28.029297                      19.793808   \n",
       "1                       28.067063                      20.050975   \n",
       "2                       27.454037                      19.737170   \n",
       "3                       27.341277                      19.320810   \n",
       "4                       27.041023                      19.216101   \n",
       "\n",
       "   rougher.output.recovery  rougher.output.tail_ag  rougher.output.tail_pb  \\\n",
       "0                87.107763                5.008018                0.508728   \n",
       "1                86.843261                4.955378                0.536689   \n",
       "2                86.842308                4.843460                0.546416   \n",
       "3                87.226430                4.655288                0.542525   \n",
       "4                86.688794                4.552800                0.515438   \n",
       "\n",
       "   rougher.output.tail_sol  rougher.output.tail_au  \\\n",
       "0                19.154297                1.170244   \n",
       "1                18.965234                1.184827   \n",
       "2                18.808533                1.162562   \n",
       "3                19.330200                1.079755   \n",
       "4                19.267422                1.012642   \n",
       "\n",
       "   rougher.state.floatbank10_a_air  rougher.state.floatbank10_a_level  \\\n",
       "0                       999.706909                        -404.066986   \n",
       "1                      1000.286398                        -400.065196   \n",
       "2                       999.719565                        -400.074028   \n",
       "3                       999.814770                        -400.200179   \n",
       "4                       999.678690                        -399.752729   \n",
       "\n",
       "   rougher.state.floatbank10_b_air  rougher.state.floatbank10_b_level  \\\n",
       "0                      1603.011353                        -434.715027   \n",
       "1                      1600.754587                        -449.953435   \n",
       "2                      1599.337330                        -450.008530   \n",
       "3                      1600.059442                        -450.619948   \n",
       "4                      1600.208824                        -449.599614   \n",
       "\n",
       "   rougher.state.floatbank10_c_air  rougher.state.floatbank10_c_level  \\\n",
       "0                      1602.375000                        -442.204468   \n",
       "1                      1600.479580                        -449.830646   \n",
       "2                      1599.672797                        -449.954491   \n",
       "3                      1600.012842                        -449.910497   \n",
       "4                      1600.357732                        -450.034364   \n",
       "\n",
       "   rougher.state.floatbank10_d_air  rougher.state.floatbank10_d_level  \\\n",
       "0                      1598.937256                        -451.294128   \n",
       "1                      1600.527589                        -449.953649   \n",
       "2                      1599.849325                        -449.954185   \n",
       "3                      1597.725177                        -450.130127   \n",
       "4                      1599.759049                        -449.909799   \n",
       "\n",
       "   rougher.state.floatbank10_e_air  rougher.state.floatbank10_e_level  \\\n",
       "0                      1404.472046                        -455.462982   \n",
       "1                      1399.227084                        -450.869848   \n",
       "2                      1399.180945                        -449.937588   \n",
       "3                      1400.943157                        -450.030142   \n",
       "4                      1401.560902                        -448.877187   \n",
       "\n",
       "   rougher.state.floatbank10_f_air  rougher.state.floatbank10_f_level  \\\n",
       "0                      1416.354980                        -451.939636   \n",
       "1                      1399.719514                        -450.119001   \n",
       "2                      1400.316682                        -450.527147   \n",
       "3                      1400.234743                        -449.790835   \n",
       "4                      1401.160227                        -450.407128   \n",
       "\n",
       "   secondary_cleaner.output.tail_ag  secondary_cleaner.output.tail_pb  \\\n",
       "0                         14.500184                          4.694824   \n",
       "1                         14.265474                          4.592547   \n",
       "2                         14.115662                          4.624775   \n",
       "3                         13.732071                          4.482453   \n",
       "4                         14.079996                          4.470737   \n",
       "\n",
       "   secondary_cleaner.output.tail_sol  secondary_cleaner.output.tail_au  \\\n",
       "0                           8.764648                          2.606185   \n",
       "1                           9.001494                          2.488248   \n",
       "2                           8.842896                          2.458187   \n",
       "3                           9.122857                          2.322062   \n",
       "4                           8.871028                          2.330448   \n",
       "\n",
       "   secondary_cleaner.state.floatbank2_a_air  \\\n",
       "0                                 25.853109   \n",
       "1                                 25.880539   \n",
       "2                                 26.005245   \n",
       "3                                 25.942508   \n",
       "4                                 26.024787   \n",
       "\n",
       "   secondary_cleaner.state.floatbank2_a_level  \\\n",
       "0                                 -498.526489   \n",
       "1                                 -499.989656   \n",
       "2                                 -499.929616   \n",
       "3                                 -499.176749   \n",
       "4                                 -500.279091   \n",
       "\n",
       "   secondary_cleaner.state.floatbank2_b_air  \\\n",
       "0                                 23.893660   \n",
       "1                                 23.889530   \n",
       "2                                 23.886657   \n",
       "3                                 23.955516   \n",
       "4                                 23.955345   \n",
       "\n",
       "   secondary_cleaner.state.floatbank2_b_level  \\\n",
       "0                                 -501.406281   \n",
       "1                                 -500.372428   \n",
       "2                                 -499.951928   \n",
       "3                                 -499.848796   \n",
       "4                                 -500.593614   \n",
       "\n",
       "   secondary_cleaner.state.floatbank3_a_air  \\\n",
       "0                                 23.961798   \n",
       "1                                 23.970550   \n",
       "2                                 23.913535   \n",
       "3                                 23.966838   \n",
       "4                                 23.985703   \n",
       "\n",
       "   secondary_cleaner.state.floatbank3_a_level  \\\n",
       "0                                 -495.262817   \n",
       "1                                 -500.085473   \n",
       "2                                 -499.442343   \n",
       "3                                 -500.008812   \n",
       "4                                 -500.083811   \n",
       "\n",
       "   secondary_cleaner.state.floatbank3_b_air  \\\n",
       "0                                 21.940409   \n",
       "1                                 22.085714   \n",
       "2                                 23.957717   \n",
       "3                                 23.954443   \n",
       "4                                 23.958945   \n",
       "\n",
       "   secondary_cleaner.state.floatbank3_b_level  \\\n",
       "0                                 -499.340973   \n",
       "1                                 -499.446897   \n",
       "2                                 -499.901982   \n",
       "3                                 -499.944710   \n",
       "4                                 -499.990309   \n",
       "\n",
       "   secondary_cleaner.state.floatbank4_a_air  \\\n",
       "0                                 14.016835   \n",
       "1                                 13.992281   \n",
       "2                                 14.015015   \n",
       "3                                 14.036510   \n",
       "4                                 14.027298   \n",
       "\n",
       "   secondary_cleaner.state.floatbank4_a_level  \\\n",
       "0                                 -502.488007   \n",
       "1                                 -505.503262   \n",
       "2                                 -502.520901   \n",
       "3                                 -500.857308   \n",
       "4                                 -499.838632   \n",
       "\n",
       "   secondary_cleaner.state.floatbank4_b_air  \\\n",
       "0                                 12.099931   \n",
       "1                                 11.950531   \n",
       "2                                 11.912783   \n",
       "3                                 11.999550   \n",
       "4                                 11.953070   \n",
       "\n",
       "   secondary_cleaner.state.floatbank4_b_level  \\\n",
       "0                                 -504.715942   \n",
       "1                                 -501.331529   \n",
       "2                                 -501.133383   \n",
       "3                                 -501.193686   \n",
       "4                                 -501.053894   \n",
       "\n",
       "   secondary_cleaner.state.floatbank5_a_air  \\\n",
       "0                                  9.925633   \n",
       "1                                 10.039245   \n",
       "2                                 10.070913   \n",
       "3                                  9.970366   \n",
       "4                                  9.925709   \n",
       "\n",
       "   secondary_cleaner.state.floatbank5_a_level  \\\n",
       "0                                 -498.310211   \n",
       "1                                 -500.169983   \n",
       "2                                 -500.129135   \n",
       "3                                 -499.201640   \n",
       "4                                 -501.686727   \n",
       "\n",
       "   secondary_cleaner.state.floatbank5_b_air  \\\n",
       "0                                  8.079666   \n",
       "1                                  7.984757   \n",
       "2                                  8.013877   \n",
       "3                                  7.977324   \n",
       "4                                  7.894242   \n",
       "\n",
       "   secondary_cleaner.state.floatbank5_b_level  \\\n",
       "0                                 -500.470978   \n",
       "1                                 -500.582168   \n",
       "2                                 -500.517572   \n",
       "3                                 -500.255908   \n",
       "4                                 -500.356035   \n",
       "\n",
       "   secondary_cleaner.state.floatbank6_a_air  \\\n",
       "0                                 14.151341   \n",
       "1                                 13.998353   \n",
       "2                                 14.028663   \n",
       "3                                 14.005551   \n",
       "4                                 13.996647   \n",
       "\n",
       "   secondary_cleaner.state.floatbank6_a_level  \n",
       "0                                 -605.841980  \n",
       "1                                 -599.787184  \n",
       "2                                 -601.427363  \n",
       "3                                 -599.996129  \n",
       "4                                 -601.496691  "
      ]
     },
     "metadata": {},
     "output_type": "display_data"
    },
    {
     "name": "stdout",
     "output_type": "stream",
     "text": [
      "\n",
      "<class 'pandas.core.frame.DataFrame'>\n",
      "RangeIndex: 19439 entries, 0 to 19438\n",
      "Data columns (total 87 columns):\n",
      " #   Column                                              Non-Null Count  Dtype  \n",
      "---  ------                                              --------------  -----  \n",
      " 0   date                                                19439 non-null  object \n",
      " 1   final.output.concentrate_ag                         19438 non-null  float64\n",
      " 2   final.output.concentrate_pb                         19438 non-null  float64\n",
      " 3   final.output.concentrate_sol                        19228 non-null  float64\n",
      " 4   final.output.concentrate_au                         19439 non-null  float64\n",
      " 5   final.output.recovery                               19439 non-null  float64\n",
      " 6   final.output.tail_ag                                19438 non-null  float64\n",
      " 7   final.output.tail_pb                                19338 non-null  float64\n",
      " 8   final.output.tail_sol                               19433 non-null  float64\n",
      " 9   final.output.tail_au                                19439 non-null  float64\n",
      " 10  primary_cleaner.input.sulfate                       19415 non-null  float64\n",
      " 11  primary_cleaner.input.depressant                    19402 non-null  float64\n",
      " 12  primary_cleaner.input.feed_size                     19439 non-null  float64\n",
      " 13  primary_cleaner.input.xanthate                      19335 non-null  float64\n",
      " 14  primary_cleaner.output.concentrate_ag               19439 non-null  float64\n",
      " 15  primary_cleaner.output.concentrate_pb               19323 non-null  float64\n",
      " 16  primary_cleaner.output.concentrate_sol              19069 non-null  float64\n",
      " 17  primary_cleaner.output.concentrate_au               19439 non-null  float64\n",
      " 18  primary_cleaner.output.tail_ag                      19435 non-null  float64\n",
      " 19  primary_cleaner.output.tail_pb                      19418 non-null  float64\n",
      " 20  primary_cleaner.output.tail_sol                     19377 non-null  float64\n",
      " 21  primary_cleaner.output.tail_au                      19439 non-null  float64\n",
      " 22  primary_cleaner.state.floatbank8_a_air              19435 non-null  float64\n",
      " 23  primary_cleaner.state.floatbank8_a_level            19438 non-null  float64\n",
      " 24  primary_cleaner.state.floatbank8_b_air              19435 non-null  float64\n",
      " 25  primary_cleaner.state.floatbank8_b_level            19438 non-null  float64\n",
      " 26  primary_cleaner.state.floatbank8_c_air              19437 non-null  float64\n",
      " 27  primary_cleaner.state.floatbank8_c_level            19438 non-null  float64\n",
      " 28  primary_cleaner.state.floatbank8_d_air              19436 non-null  float64\n",
      " 29  primary_cleaner.state.floatbank8_d_level            19438 non-null  float64\n",
      " 30  rougher.calculation.sulfate_to_au_concentrate       19437 non-null  float64\n",
      " 31  rougher.calculation.floatbank10_sulfate_to_au_feed  19437 non-null  float64\n",
      " 32  rougher.calculation.floatbank11_sulfate_to_au_feed  19437 non-null  float64\n",
      " 33  rougher.calculation.au_pb_ratio                     19439 non-null  float64\n",
      " 34  rougher.input.feed_ag                               19439 non-null  float64\n",
      " 35  rougher.input.feed_pb                               19339 non-null  float64\n",
      " 36  rougher.input.feed_rate                             19428 non-null  float64\n",
      " 37  rougher.input.feed_size                             19294 non-null  float64\n",
      " 38  rougher.input.feed_sol                              19340 non-null  float64\n",
      " 39  rougher.input.feed_au                               19439 non-null  float64\n",
      " 40  rougher.input.floatbank10_sulfate                   19405 non-null  float64\n",
      " 41  rougher.input.floatbank10_xanthate                  19431 non-null  float64\n",
      " 42  rougher.input.floatbank11_sulfate                   19395 non-null  float64\n",
      " 43  rougher.input.floatbank11_xanthate                  18986 non-null  float64\n",
      " 44  rougher.output.concentrate_ag                       19439 non-null  float64\n",
      " 45  rougher.output.concentrate_pb                       19439 non-null  float64\n",
      " 46  rougher.output.concentrate_sol                      19416 non-null  float64\n",
      " 47  rougher.output.concentrate_au                       19439 non-null  float64\n",
      " 48  rougher.output.recovery                             19439 non-null  float64\n",
      " 49  rougher.output.tail_ag                              19438 non-null  float64\n",
      " 50  rougher.output.tail_pb                              19439 non-null  float64\n",
      " 51  rougher.output.tail_sol                             19439 non-null  float64\n",
      " 52  rougher.output.tail_au                              19439 non-null  float64\n",
      " 53  rougher.state.floatbank10_a_air                     19438 non-null  float64\n",
      " 54  rougher.state.floatbank10_a_level                   19438 non-null  float64\n",
      " 55  rougher.state.floatbank10_b_air                     19438 non-null  float64\n",
      " 56  rougher.state.floatbank10_b_level                   19438 non-null  float64\n",
      " 57  rougher.state.floatbank10_c_air                     19438 non-null  float64\n",
      " 58  rougher.state.floatbank10_c_level                   19438 non-null  float64\n",
      " 59  rougher.state.floatbank10_d_air                     19439 non-null  float64\n",
      " 60  rougher.state.floatbank10_d_level                   19439 non-null  float64\n",
      " 61  rougher.state.floatbank10_e_air                     19003 non-null  float64\n",
      " 62  rougher.state.floatbank10_e_level                   19439 non-null  float64\n",
      " 63  rougher.state.floatbank10_f_air                     19439 non-null  float64\n",
      " 64  rougher.state.floatbank10_f_level                   19439 non-null  float64\n",
      " 65  secondary_cleaner.output.tail_ag                    19437 non-null  float64\n",
      " 66  secondary_cleaner.output.tail_pb                    19427 non-null  float64\n",
      " 67  secondary_cleaner.output.tail_sol                   17691 non-null  float64\n",
      " 68  secondary_cleaner.output.tail_au                    19439 non-null  float64\n",
      " 69  secondary_cleaner.state.floatbank2_a_air            19219 non-null  float64\n",
      " 70  secondary_cleaner.state.floatbank2_a_level          19438 non-null  float64\n",
      " 71  secondary_cleaner.state.floatbank2_b_air            19416 non-null  float64\n",
      " 72  secondary_cleaner.state.floatbank2_b_level          19438 non-null  float64\n",
      " 73  secondary_cleaner.state.floatbank3_a_air            19426 non-null  float64\n",
      " 74  secondary_cleaner.state.floatbank3_a_level          19438 non-null  float64\n",
      " 75  secondary_cleaner.state.floatbank3_b_air            19438 non-null  float64\n",
      " 76  secondary_cleaner.state.floatbank3_b_level          19438 non-null  float64\n",
      " 77  secondary_cleaner.state.floatbank4_a_air            19433 non-null  float64\n",
      " 78  secondary_cleaner.state.floatbank4_a_level          19438 non-null  float64\n",
      " 79  secondary_cleaner.state.floatbank4_b_air            19438 non-null  float64\n",
      " 80  secondary_cleaner.state.floatbank4_b_level          19438 non-null  float64\n",
      " 81  secondary_cleaner.state.floatbank5_a_air            19438 non-null  float64\n",
      " 82  secondary_cleaner.state.floatbank5_a_level          19438 non-null  float64\n",
      " 83  secondary_cleaner.state.floatbank5_b_air            19438 non-null  float64\n",
      " 84  secondary_cleaner.state.floatbank5_b_level          19438 non-null  float64\n",
      " 85  secondary_cleaner.state.floatbank6_a_air            19437 non-null  float64\n",
      " 86  secondary_cleaner.state.floatbank6_a_level          19438 non-null  float64\n",
      "dtypes: float64(86), object(1)\n",
      "memory usage: 12.9+ MB\n"
     ]
    },
    {
     "data": {
      "text/plain": [
       "None"
      ]
     },
     "metadata": {},
     "output_type": "display_data"
    },
    {
     "name": "stdout",
     "output_type": "stream",
     "text": [
      "\n",
      "Количество пропусков\n"
     ]
    },
    {
     "data": {
      "text/plain": [
       "final.output.concentrate_ag                              1\n",
       "final.output.concentrate_pb                              1\n",
       "final.output.concentrate_sol                           211\n",
       "final.output.tail_ag                                     1\n",
       "final.output.tail_pb                                   101\n",
       "final.output.tail_sol                                    6\n",
       "primary_cleaner.input.sulfate                           24\n",
       "primary_cleaner.input.depressant                        37\n",
       "primary_cleaner.input.xanthate                         104\n",
       "primary_cleaner.output.concentrate_pb                  116\n",
       "primary_cleaner.output.concentrate_sol                 370\n",
       "primary_cleaner.output.tail_ag                           4\n",
       "primary_cleaner.output.tail_pb                          21\n",
       "primary_cleaner.output.tail_sol                         62\n",
       "primary_cleaner.state.floatbank8_a_air                   4\n",
       "primary_cleaner.state.floatbank8_a_level                 1\n",
       "primary_cleaner.state.floatbank8_b_air                   4\n",
       "primary_cleaner.state.floatbank8_b_level                 1\n",
       "primary_cleaner.state.floatbank8_c_air                   2\n",
       "primary_cleaner.state.floatbank8_c_level                 1\n",
       "primary_cleaner.state.floatbank8_d_air                   3\n",
       "primary_cleaner.state.floatbank8_d_level                 1\n",
       "rougher.calculation.sulfate_to_au_concentrate            2\n",
       "rougher.calculation.floatbank10_sulfate_to_au_feed       2\n",
       "rougher.calculation.floatbank11_sulfate_to_au_feed       2\n",
       "rougher.input.feed_pb                                  100\n",
       "rougher.input.feed_rate                                 11\n",
       "rougher.input.feed_size                                145\n",
       "rougher.input.feed_sol                                  99\n",
       "rougher.input.floatbank10_sulfate                       34\n",
       "rougher.input.floatbank10_xanthate                       8\n",
       "rougher.input.floatbank11_sulfate                       44\n",
       "rougher.input.floatbank11_xanthate                     453\n",
       "rougher.output.concentrate_sol                          23\n",
       "rougher.output.tail_ag                                   1\n",
       "rougher.state.floatbank10_a_air                          1\n",
       "rougher.state.floatbank10_a_level                        1\n",
       "rougher.state.floatbank10_b_air                          1\n",
       "rougher.state.floatbank10_b_level                        1\n",
       "rougher.state.floatbank10_c_air                          1\n",
       "rougher.state.floatbank10_c_level                        1\n",
       "rougher.state.floatbank10_e_air                        436\n",
       "secondary_cleaner.output.tail_ag                         2\n",
       "secondary_cleaner.output.tail_pb                        12\n",
       "secondary_cleaner.output.tail_sol                     1748\n",
       "secondary_cleaner.state.floatbank2_a_air               220\n",
       "secondary_cleaner.state.floatbank2_a_level               1\n",
       "secondary_cleaner.state.floatbank2_b_air                23\n",
       "secondary_cleaner.state.floatbank2_b_level               1\n",
       "secondary_cleaner.state.floatbank3_a_air                13\n",
       "secondary_cleaner.state.floatbank3_a_level               1\n",
       "secondary_cleaner.state.floatbank3_b_air                 1\n",
       "secondary_cleaner.state.floatbank3_b_level               1\n",
       "secondary_cleaner.state.floatbank4_a_air                 6\n",
       "secondary_cleaner.state.floatbank4_a_level               1\n",
       "secondary_cleaner.state.floatbank4_b_air                 1\n",
       "secondary_cleaner.state.floatbank4_b_level               1\n",
       "secondary_cleaner.state.floatbank5_a_air                 1\n",
       "secondary_cleaner.state.floatbank5_a_level               1\n",
       "secondary_cleaner.state.floatbank5_b_air                 1\n",
       "secondary_cleaner.state.floatbank5_b_level               1\n",
       "secondary_cleaner.state.floatbank6_a_air                 2\n",
       "secondary_cleaner.state.floatbank6_a_level               1\n",
       "dtype: int64"
      ]
     },
     "metadata": {},
     "output_type": "display_data"
    },
    {
     "name": "stdout",
     "output_type": "stream",
     "text": [
      "\n"
     ]
    },
    {
     "data": {
      "text/html": [
       "<div>\n",
       "<style scoped>\n",
       "    .dataframe tbody tr th:only-of-type {\n",
       "        vertical-align: middle;\n",
       "    }\n",
       "\n",
       "    .dataframe tbody tr th {\n",
       "        vertical-align: top;\n",
       "    }\n",
       "\n",
       "    .dataframe thead th {\n",
       "        text-align: right;\n",
       "    }\n",
       "</style>\n",
       "<table border=\"1\" class=\"dataframe\">\n",
       "  <thead>\n",
       "    <tr style=\"text-align: right;\">\n",
       "      <th></th>\n",
       "      <th>final.output.concentrate_ag</th>\n",
       "      <th>final.output.concentrate_pb</th>\n",
       "      <th>final.output.concentrate_sol</th>\n",
       "      <th>final.output.concentrate_au</th>\n",
       "      <th>final.output.recovery</th>\n",
       "      <th>final.output.tail_ag</th>\n",
       "      <th>final.output.tail_pb</th>\n",
       "      <th>final.output.tail_sol</th>\n",
       "      <th>final.output.tail_au</th>\n",
       "      <th>primary_cleaner.input.sulfate</th>\n",
       "      <th>primary_cleaner.input.depressant</th>\n",
       "      <th>primary_cleaner.input.feed_size</th>\n",
       "      <th>primary_cleaner.input.xanthate</th>\n",
       "      <th>primary_cleaner.output.concentrate_ag</th>\n",
       "      <th>primary_cleaner.output.concentrate_pb</th>\n",
       "      <th>primary_cleaner.output.concentrate_sol</th>\n",
       "      <th>primary_cleaner.output.concentrate_au</th>\n",
       "      <th>primary_cleaner.output.tail_ag</th>\n",
       "      <th>primary_cleaner.output.tail_pb</th>\n",
       "      <th>primary_cleaner.output.tail_sol</th>\n",
       "      <th>primary_cleaner.output.tail_au</th>\n",
       "      <th>primary_cleaner.state.floatbank8_a_air</th>\n",
       "      <th>primary_cleaner.state.floatbank8_a_level</th>\n",
       "      <th>primary_cleaner.state.floatbank8_b_air</th>\n",
       "      <th>primary_cleaner.state.floatbank8_b_level</th>\n",
       "      <th>primary_cleaner.state.floatbank8_c_air</th>\n",
       "      <th>primary_cleaner.state.floatbank8_c_level</th>\n",
       "      <th>primary_cleaner.state.floatbank8_d_air</th>\n",
       "      <th>primary_cleaner.state.floatbank8_d_level</th>\n",
       "      <th>rougher.calculation.sulfate_to_au_concentrate</th>\n",
       "      <th>rougher.calculation.floatbank10_sulfate_to_au_feed</th>\n",
       "      <th>rougher.calculation.floatbank11_sulfate_to_au_feed</th>\n",
       "      <th>rougher.calculation.au_pb_ratio</th>\n",
       "      <th>rougher.input.feed_ag</th>\n",
       "      <th>rougher.input.feed_pb</th>\n",
       "      <th>rougher.input.feed_rate</th>\n",
       "      <th>rougher.input.feed_size</th>\n",
       "      <th>rougher.input.feed_sol</th>\n",
       "      <th>rougher.input.feed_au</th>\n",
       "      <th>rougher.input.floatbank10_sulfate</th>\n",
       "      <th>rougher.input.floatbank10_xanthate</th>\n",
       "      <th>rougher.input.floatbank11_sulfate</th>\n",
       "      <th>rougher.input.floatbank11_xanthate</th>\n",
       "      <th>rougher.output.concentrate_ag</th>\n",
       "      <th>rougher.output.concentrate_pb</th>\n",
       "      <th>rougher.output.concentrate_sol</th>\n",
       "      <th>rougher.output.concentrate_au</th>\n",
       "      <th>rougher.output.recovery</th>\n",
       "      <th>rougher.output.tail_ag</th>\n",
       "      <th>rougher.output.tail_pb</th>\n",
       "      <th>rougher.output.tail_sol</th>\n",
       "      <th>rougher.output.tail_au</th>\n",
       "      <th>rougher.state.floatbank10_a_air</th>\n",
       "      <th>rougher.state.floatbank10_a_level</th>\n",
       "      <th>rougher.state.floatbank10_b_air</th>\n",
       "      <th>rougher.state.floatbank10_b_level</th>\n",
       "      <th>rougher.state.floatbank10_c_air</th>\n",
       "      <th>rougher.state.floatbank10_c_level</th>\n",
       "      <th>rougher.state.floatbank10_d_air</th>\n",
       "      <th>rougher.state.floatbank10_d_level</th>\n",
       "      <th>rougher.state.floatbank10_e_air</th>\n",
       "      <th>rougher.state.floatbank10_e_level</th>\n",
       "      <th>rougher.state.floatbank10_f_air</th>\n",
       "      <th>rougher.state.floatbank10_f_level</th>\n",
       "      <th>secondary_cleaner.output.tail_ag</th>\n",
       "      <th>secondary_cleaner.output.tail_pb</th>\n",
       "      <th>secondary_cleaner.output.tail_sol</th>\n",
       "      <th>secondary_cleaner.output.tail_au</th>\n",
       "      <th>secondary_cleaner.state.floatbank2_a_air</th>\n",
       "      <th>secondary_cleaner.state.floatbank2_a_level</th>\n",
       "      <th>secondary_cleaner.state.floatbank2_b_air</th>\n",
       "      <th>secondary_cleaner.state.floatbank2_b_level</th>\n",
       "      <th>secondary_cleaner.state.floatbank3_a_air</th>\n",
       "      <th>secondary_cleaner.state.floatbank3_a_level</th>\n",
       "      <th>secondary_cleaner.state.floatbank3_b_air</th>\n",
       "      <th>secondary_cleaner.state.floatbank3_b_level</th>\n",
       "      <th>secondary_cleaner.state.floatbank4_a_air</th>\n",
       "      <th>secondary_cleaner.state.floatbank4_a_level</th>\n",
       "      <th>secondary_cleaner.state.floatbank4_b_air</th>\n",
       "      <th>secondary_cleaner.state.floatbank4_b_level</th>\n",
       "      <th>secondary_cleaner.state.floatbank5_a_air</th>\n",
       "      <th>secondary_cleaner.state.floatbank5_a_level</th>\n",
       "      <th>secondary_cleaner.state.floatbank5_b_air</th>\n",
       "      <th>secondary_cleaner.state.floatbank5_b_level</th>\n",
       "      <th>secondary_cleaner.state.floatbank6_a_air</th>\n",
       "      <th>secondary_cleaner.state.floatbank6_a_level</th>\n",
       "    </tr>\n",
       "  </thead>\n",
       "  <tbody>\n",
       "    <tr>\n",
       "      <th>count</th>\n",
       "      <td>19438.000000</td>\n",
       "      <td>19438.000000</td>\n",
       "      <td>19228.000000</td>\n",
       "      <td>19439.000000</td>\n",
       "      <td>19439.000000</td>\n",
       "      <td>19438.000000</td>\n",
       "      <td>19338.000000</td>\n",
       "      <td>19433.000000</td>\n",
       "      <td>19439.000000</td>\n",
       "      <td>19415.000000</td>\n",
       "      <td>19402.000000</td>\n",
       "      <td>19439.000000</td>\n",
       "      <td>19335.000000</td>\n",
       "      <td>19439.000000</td>\n",
       "      <td>19323.000000</td>\n",
       "      <td>19069.000000</td>\n",
       "      <td>19439.000000</td>\n",
       "      <td>19435.000000</td>\n",
       "      <td>19418.000000</td>\n",
       "      <td>19377.000000</td>\n",
       "      <td>19439.000000</td>\n",
       "      <td>1.943500e+04</td>\n",
       "      <td>19438.000000</td>\n",
       "      <td>1.943500e+04</td>\n",
       "      <td>19438.000000</td>\n",
       "      <td>1.943700e+04</td>\n",
       "      <td>19438.000000</td>\n",
       "      <td>1.943600e+04</td>\n",
       "      <td>19438.000000</td>\n",
       "      <td>1.943700e+04</td>\n",
       "      <td>19437.000000</td>\n",
       "      <td>19437.000000</td>\n",
       "      <td>19439.000000</td>\n",
       "      <td>19439.000000</td>\n",
       "      <td>19339.000000</td>\n",
       "      <td>19428.000000</td>\n",
       "      <td>19294.000000</td>\n",
       "      <td>19340.000000</td>\n",
       "      <td>19439.000000</td>\n",
       "      <td>19405.000000</td>\n",
       "      <td>19431.000000</td>\n",
       "      <td>19395.000000</td>\n",
       "      <td>18986.000000</td>\n",
       "      <td>19439.000000</td>\n",
       "      <td>19439.000000</td>\n",
       "      <td>19416.000000</td>\n",
       "      <td>19439.000000</td>\n",
       "      <td>19439.000000</td>\n",
       "      <td>19438.000000</td>\n",
       "      <td>19439.000000</td>\n",
       "      <td>19439.000000</td>\n",
       "      <td>19439.000000</td>\n",
       "      <td>19438.000000</td>\n",
       "      <td>19438.000000</td>\n",
       "      <td>19438.000000</td>\n",
       "      <td>19438.000000</td>\n",
       "      <td>19438.000000</td>\n",
       "      <td>19438.000000</td>\n",
       "      <td>19439.000000</td>\n",
       "      <td>19439.000000</td>\n",
       "      <td>19003.000000</td>\n",
       "      <td>19439.000000</td>\n",
       "      <td>19439.000000</td>\n",
       "      <td>19439.000000</td>\n",
       "      <td>19437.000000</td>\n",
       "      <td>19427.000000</td>\n",
       "      <td>17691.000000</td>\n",
       "      <td>19439.000000</td>\n",
       "      <td>19219.000000</td>\n",
       "      <td>19438.000000</td>\n",
       "      <td>19416.000000</td>\n",
       "      <td>19438.000000</td>\n",
       "      <td>19426.000000</td>\n",
       "      <td>19438.000000</td>\n",
       "      <td>19438.000000</td>\n",
       "      <td>19438.000000</td>\n",
       "      <td>19433.000000</td>\n",
       "      <td>19438.000000</td>\n",
       "      <td>19438.000000</td>\n",
       "      <td>19438.000000</td>\n",
       "      <td>19438.000000</td>\n",
       "      <td>19438.000000</td>\n",
       "      <td>19438.000000</td>\n",
       "      <td>19438.000000</td>\n",
       "      <td>19437.000000</td>\n",
       "      <td>19438.000000</td>\n",
       "    </tr>\n",
       "    <tr>\n",
       "      <th>mean</th>\n",
       "      <td>5.168470</td>\n",
       "      <td>9.978895</td>\n",
       "      <td>9.501224</td>\n",
       "      <td>44.076513</td>\n",
       "      <td>67.050208</td>\n",
       "      <td>9.688589</td>\n",
       "      <td>2.705795</td>\n",
       "      <td>10.583728</td>\n",
       "      <td>3.042467</td>\n",
       "      <td>144.624774</td>\n",
       "      <td>8.817039</td>\n",
       "      <td>7.307078</td>\n",
       "      <td>1.021795</td>\n",
       "      <td>8.442408</td>\n",
       "      <td>9.829530</td>\n",
       "      <td>10.489499</td>\n",
       "      <td>32.119400</td>\n",
       "      <td>16.145826</td>\n",
       "      <td>3.435656</td>\n",
       "      <td>7.973209</td>\n",
       "      <td>3.914179</td>\n",
       "      <td>1.589354e+03</td>\n",
       "      <td>-491.195012</td>\n",
       "      <td>1.591344e+03</td>\n",
       "      <td>-492.192978</td>\n",
       "      <td>1.586669e+03</td>\n",
       "      <td>-491.980070</td>\n",
       "      <td>1.542912e+03</td>\n",
       "      <td>-488.017382</td>\n",
       "      <td>4.217119e+04</td>\n",
       "      <td>3393.052498</td>\n",
       "      <td>3256.854171</td>\n",
       "      <td>2.420119</td>\n",
       "      <td>8.794927</td>\n",
       "      <td>3.598085</td>\n",
       "      <td>478.320042</td>\n",
       "      <td>58.970310</td>\n",
       "      <td>36.695114</td>\n",
       "      <td>8.266097</td>\n",
       "      <td>12.334373</td>\n",
       "      <td>6.021474</td>\n",
       "      <td>12.064140</td>\n",
       "      <td>6.065533</td>\n",
       "      <td>11.994759</td>\n",
       "      <td>7.606272</td>\n",
       "      <td>28.805571</td>\n",
       "      <td>19.772000</td>\n",
       "      <td>83.328587</td>\n",
       "      <td>5.588982</td>\n",
       "      <td>0.645782</td>\n",
       "      <td>18.057106</td>\n",
       "      <td>1.816391</td>\n",
       "      <td>1105.315068</td>\n",
       "      <td>-376.610690</td>\n",
       "      <td>1320.221139</td>\n",
       "      <td>-467.247826</td>\n",
       "      <td>1299.968799</td>\n",
       "      <td>-467.716946</td>\n",
       "      <td>1211.563299</td>\n",
       "      <td>-468.239912</td>\n",
       "      <td>1080.869685</td>\n",
       "      <td>-466.037742</td>\n",
       "      <td>1025.274256</td>\n",
       "      <td>-466.265327</td>\n",
       "      <td>14.586833</td>\n",
       "      <td>5.777703</td>\n",
       "      <td>7.167247</td>\n",
       "      <td>4.339625</td>\n",
       "      <td>28.705564</td>\n",
       "      <td>-502.367331</td>\n",
       "      <td>24.106800</td>\n",
       "      <td>-503.230712</td>\n",
       "      <td>28.199338</td>\n",
       "      <td>-486.203350</td>\n",
       "      <td>22.200645</td>\n",
       "      <td>-493.742107</td>\n",
       "      <td>18.987674</td>\n",
       "      <td>-485.894516</td>\n",
       "      <td>15.010366</td>\n",
       "      <td>-461.078636</td>\n",
       "      <td>15.694452</td>\n",
       "      <td>-488.684065</td>\n",
       "      <td>12.198224</td>\n",
       "      <td>-487.149827</td>\n",
       "      <td>18.959024</td>\n",
       "      <td>-505.436305</td>\n",
       "    </tr>\n",
       "    <tr>\n",
       "      <th>std</th>\n",
       "      <td>1.372348</td>\n",
       "      <td>1.669240</td>\n",
       "      <td>2.787537</td>\n",
       "      <td>5.129784</td>\n",
       "      <td>10.125840</td>\n",
       "      <td>2.328642</td>\n",
       "      <td>0.949077</td>\n",
       "      <td>2.868782</td>\n",
       "      <td>0.922808</td>\n",
       "      <td>44.464071</td>\n",
       "      <td>3.286186</td>\n",
       "      <td>0.613509</td>\n",
       "      <td>0.513254</td>\n",
       "      <td>2.054465</td>\n",
       "      <td>2.556843</td>\n",
       "      <td>3.909639</td>\n",
       "      <td>5.627611</td>\n",
       "      <td>3.548598</td>\n",
       "      <td>1.392536</td>\n",
       "      <td>2.212677</td>\n",
       "      <td>1.593034</td>\n",
       "      <td>1.289968e+02</td>\n",
       "      <td>32.431842</td>\n",
       "      <td>1.318109e+02</td>\n",
       "      <td>33.794822</td>\n",
       "      <td>1.361114e+02</td>\n",
       "      <td>32.711455</td>\n",
       "      <td>2.461996e+02</td>\n",
       "      <td>43.959780</td>\n",
       "      <td>3.243621e+05</td>\n",
       "      <td>4943.845943</td>\n",
       "      <td>5781.423659</td>\n",
       "      <td>0.814935</td>\n",
       "      <td>1.936847</td>\n",
       "      <td>1.049486</td>\n",
       "      <td>105.373758</td>\n",
       "      <td>21.634478</td>\n",
       "      <td>5.145445</td>\n",
       "      <td>1.955092</td>\n",
       "      <td>3.427317</td>\n",
       "      <td>1.127263</td>\n",
       "      <td>3.784221</td>\n",
       "      <td>1.099118</td>\n",
       "      <td>2.733862</td>\n",
       "      <td>1.796757</td>\n",
       "      <td>5.944207</td>\n",
       "      <td>3.753600</td>\n",
       "      <td>14.148086</td>\n",
       "      <td>1.111288</td>\n",
       "      <td>0.251526</td>\n",
       "      <td>3.449218</td>\n",
       "      <td>0.680046</td>\n",
       "      <td>160.826798</td>\n",
       "      <td>93.909667</td>\n",
       "      <td>176.287095</td>\n",
       "      <td>54.673142</td>\n",
       "      <td>202.804325</td>\n",
       "      <td>53.534825</td>\n",
       "      <td>204.019326</td>\n",
       "      <td>53.921458</td>\n",
       "      <td>172.149992</td>\n",
       "      <td>57.384424</td>\n",
       "      <td>164.487837</td>\n",
       "      <td>57.850263</td>\n",
       "      <td>4.265202</td>\n",
       "      <td>2.774598</td>\n",
       "      <td>3.916079</td>\n",
       "      <td>2.326751</td>\n",
       "      <td>5.458789</td>\n",
       "      <td>53.571950</td>\n",
       "      <td>5.749616</td>\n",
       "      <td>56.567724</td>\n",
       "      <td>6.134908</td>\n",
       "      <td>54.412349</td>\n",
       "      <td>5.574001</td>\n",
       "      <td>43.372158</td>\n",
       "      <td>5.411058</td>\n",
       "      <td>47.758570</td>\n",
       "      <td>4.890228</td>\n",
       "      <td>67.405524</td>\n",
       "      <td>5.510974</td>\n",
       "      <td>34.533396</td>\n",
       "      <td>5.333024</td>\n",
       "      <td>38.347312</td>\n",
       "      <td>5.550498</td>\n",
       "      <td>37.689057</td>\n",
       "    </tr>\n",
       "    <tr>\n",
       "      <th>min</th>\n",
       "      <td>0.000000</td>\n",
       "      <td>0.000000</td>\n",
       "      <td>0.000000</td>\n",
       "      <td>0.000000</td>\n",
       "      <td>0.000000</td>\n",
       "      <td>0.000000</td>\n",
       "      <td>0.000000</td>\n",
       "      <td>0.000000</td>\n",
       "      <td>0.000000</td>\n",
       "      <td>0.003112</td>\n",
       "      <td>0.000000</td>\n",
       "      <td>1.080000</td>\n",
       "      <td>0.000005</td>\n",
       "      <td>0.000000</td>\n",
       "      <td>0.000000</td>\n",
       "      <td>0.000000</td>\n",
       "      <td>0.000000</td>\n",
       "      <td>0.000000</td>\n",
       "      <td>0.000000</td>\n",
       "      <td>0.000000</td>\n",
       "      <td>0.000000</td>\n",
       "      <td>5.445860e-32</td>\n",
       "      <td>-798.641662</td>\n",
       "      <td>6.647490e-32</td>\n",
       "      <td>-799.997015</td>\n",
       "      <td>4.033736e-32</td>\n",
       "      <td>-799.960571</td>\n",
       "      <td>4.039220e-32</td>\n",
       "      <td>-799.794250</td>\n",
       "      <td>-4.223520e+07</td>\n",
       "      <td>-486.598675</td>\n",
       "      <td>-264.982785</td>\n",
       "      <td>-0.010548</td>\n",
       "      <td>0.010000</td>\n",
       "      <td>0.010000</td>\n",
       "      <td>0.002986</td>\n",
       "      <td>0.046369</td>\n",
       "      <td>0.010000</td>\n",
       "      <td>0.010000</td>\n",
       "      <td>0.001083</td>\n",
       "      <td>0.000568</td>\n",
       "      <td>0.000077</td>\n",
       "      <td>0.000290</td>\n",
       "      <td>0.000000</td>\n",
       "      <td>0.000000</td>\n",
       "      <td>0.000000</td>\n",
       "      <td>0.000000</td>\n",
       "      <td>0.000000</td>\n",
       "      <td>0.594562</td>\n",
       "      <td>0.007566</td>\n",
       "      <td>10.014648</td>\n",
       "      <td>0.020676</td>\n",
       "      <td>-0.042069</td>\n",
       "      <td>-657.949759</td>\n",
       "      <td>-0.721806</td>\n",
       "      <td>-650.260008</td>\n",
       "      <td>-0.056636</td>\n",
       "      <td>-647.544439</td>\n",
       "      <td>-0.992219</td>\n",
       "      <td>-648.390665</td>\n",
       "      <td>-1.982295</td>\n",
       "      <td>-649.443911</td>\n",
       "      <td>-2.593390</td>\n",
       "      <td>-649.949283</td>\n",
       "      <td>0.000000</td>\n",
       "      <td>0.000000</td>\n",
       "      <td>0.000000</td>\n",
       "      <td>0.000000</td>\n",
       "      <td>0.077503</td>\n",
       "      <td>-799.606441</td>\n",
       "      <td>0.000000</td>\n",
       "      <td>-799.873878</td>\n",
       "      <td>0.000000</td>\n",
       "      <td>-799.755798</td>\n",
       "      <td>0.000000</td>\n",
       "      <td>-809.333008</td>\n",
       "      <td>0.000000</td>\n",
       "      <td>-799.798523</td>\n",
       "      <td>0.000000</td>\n",
       "      <td>-800.836914</td>\n",
       "      <td>-0.372054</td>\n",
       "      <td>-797.323986</td>\n",
       "      <td>0.528083</td>\n",
       "      <td>-800.220337</td>\n",
       "      <td>-0.079426</td>\n",
       "      <td>-809.741464</td>\n",
       "    </tr>\n",
       "    <tr>\n",
       "      <th>25%</th>\n",
       "      <td>4.251240</td>\n",
       "      <td>9.137262</td>\n",
       "      <td>7.722820</td>\n",
       "      <td>43.402215</td>\n",
       "      <td>63.299712</td>\n",
       "      <td>8.062878</td>\n",
       "      <td>2.040119</td>\n",
       "      <td>8.938947</td>\n",
       "      <td>2.461138</td>\n",
       "      <td>114.107029</td>\n",
       "      <td>6.076909</td>\n",
       "      <td>6.940000</td>\n",
       "      <td>0.697224</td>\n",
       "      <td>7.263288</td>\n",
       "      <td>8.702328</td>\n",
       "      <td>7.893893</td>\n",
       "      <td>30.463140</td>\n",
       "      <td>14.017742</td>\n",
       "      <td>2.504365</td>\n",
       "      <td>6.747483</td>\n",
       "      <td>2.924844</td>\n",
       "      <td>1.505063e+03</td>\n",
       "      <td>-500.308544</td>\n",
       "      <td>1.503630e+03</td>\n",
       "      <td>-500.437171</td>\n",
       "      <td>1.500927e+03</td>\n",
       "      <td>-500.703932</td>\n",
       "      <td>1.494219e+03</td>\n",
       "      <td>-500.458365</td>\n",
       "      <td>4.070095e+04</td>\n",
       "      <td>2611.425833</td>\n",
       "      <td>2551.437587</td>\n",
       "      <td>2.035434</td>\n",
       "      <td>7.237967</td>\n",
       "      <td>2.887280</td>\n",
       "      <td>416.525453</td>\n",
       "      <td>47.435103</td>\n",
       "      <td>34.207799</td>\n",
       "      <td>6.854384</td>\n",
       "      <td>10.000362</td>\n",
       "      <td>5.398678</td>\n",
       "      <td>9.998460</td>\n",
       "      <td>5.402368</td>\n",
       "      <td>10.628337</td>\n",
       "      <td>6.725987</td>\n",
       "      <td>27.224120</td>\n",
       "      <td>18.802523</td>\n",
       "      <td>81.037957</td>\n",
       "      <td>4.889892</td>\n",
       "      <td>0.477728</td>\n",
       "      <td>15.822525</td>\n",
       "      <td>1.404207</td>\n",
       "      <td>999.661867</td>\n",
       "      <td>-499.835165</td>\n",
       "      <td>1199.626115</td>\n",
       "      <td>-500.201130</td>\n",
       "      <td>1151.076301</td>\n",
       "      <td>-500.217218</td>\n",
       "      <td>1061.051788</td>\n",
       "      <td>-500.386386</td>\n",
       "      <td>998.675263</td>\n",
       "      <td>-500.232191</td>\n",
       "      <td>900.995511</td>\n",
       "      <td>-500.522553</td>\n",
       "      <td>12.640239</td>\n",
       "      <td>3.864733</td>\n",
       "      <td>3.845475</td>\n",
       "      <td>3.182770</td>\n",
       "      <td>25.048462</td>\n",
       "      <td>-500.233700</td>\n",
       "      <td>20.919853</td>\n",
       "      <td>-500.253794</td>\n",
       "      <td>24.949227</td>\n",
       "      <td>-500.213546</td>\n",
       "      <td>18.995924</td>\n",
       "      <td>-500.123034</td>\n",
       "      <td>14.975734</td>\n",
       "      <td>-500.704892</td>\n",
       "      <td>11.940294</td>\n",
       "      <td>-500.187742</td>\n",
       "      <td>10.988606</td>\n",
       "      <td>-500.458467</td>\n",
       "      <td>8.971105</td>\n",
       "      <td>-500.129462</td>\n",
       "      <td>14.983037</td>\n",
       "      <td>-500.728067</td>\n",
       "    </tr>\n",
       "    <tr>\n",
       "      <th>50%</th>\n",
       "      <td>5.066094</td>\n",
       "      <td>10.102433</td>\n",
       "      <td>9.218961</td>\n",
       "      <td>45.011244</td>\n",
       "      <td>68.172738</td>\n",
       "      <td>9.743623</td>\n",
       "      <td>2.748730</td>\n",
       "      <td>10.622456</td>\n",
       "      <td>2.984909</td>\n",
       "      <td>143.232103</td>\n",
       "      <td>8.038311</td>\n",
       "      <td>7.280000</td>\n",
       "      <td>0.940863</td>\n",
       "      <td>8.507298</td>\n",
       "      <td>10.152433</td>\n",
       "      <td>10.314632</td>\n",
       "      <td>32.841295</td>\n",
       "      <td>15.842836</td>\n",
       "      <td>3.271153</td>\n",
       "      <td>8.183673</td>\n",
       "      <td>3.623234</td>\n",
       "      <td>1.600597e+03</td>\n",
       "      <td>-499.926134</td>\n",
       "      <td>1.600521e+03</td>\n",
       "      <td>-499.956767</td>\n",
       "      <td>1.600254e+03</td>\n",
       "      <td>-499.909524</td>\n",
       "      <td>1.599447e+03</td>\n",
       "      <td>-499.905974</td>\n",
       "      <td>4.469648e+04</td>\n",
       "      <td>3018.353876</td>\n",
       "      <td>2997.218088</td>\n",
       "      <td>2.309665</td>\n",
       "      <td>8.593574</td>\n",
       "      <td>3.534895</td>\n",
       "      <td>499.416120</td>\n",
       "      <td>54.610197</td>\n",
       "      <td>37.202650</td>\n",
       "      <td>8.125839</td>\n",
       "      <td>12.001174</td>\n",
       "      <td>6.008273</td>\n",
       "      <td>12.000204</td>\n",
       "      <td>6.098580</td>\n",
       "      <td>12.098115</td>\n",
       "      <td>7.742580</td>\n",
       "      <td>29.835345</td>\n",
       "      <td>20.280214</td>\n",
       "      <td>86.188892</td>\n",
       "      <td>5.765802</td>\n",
       "      <td>0.617465</td>\n",
       "      <td>18.106867</td>\n",
       "      <td>1.808170</td>\n",
       "      <td>1001.072890</td>\n",
       "      <td>-300.263994</td>\n",
       "      <td>1301.579988</td>\n",
       "      <td>-499.784045</td>\n",
       "      <td>1300.211537</td>\n",
       "      <td>-499.713364</td>\n",
       "      <td>1201.569141</td>\n",
       "      <td>-499.532412</td>\n",
       "      <td>1050.029461</td>\n",
       "      <td>-499.663089</td>\n",
       "      <td>999.924821</td>\n",
       "      <td>-499.471777</td>\n",
       "      <td>15.641902</td>\n",
       "      <td>5.344073</td>\n",
       "      <td>7.685827</td>\n",
       "      <td>4.072412</td>\n",
       "      <td>29.099943</td>\n",
       "      <td>-499.973250</td>\n",
       "      <td>25.043289</td>\n",
       "      <td>-500.015439</td>\n",
       "      <td>27.982129</td>\n",
       "      <td>-499.930680</td>\n",
       "      <td>22.011231</td>\n",
       "      <td>-499.981902</td>\n",
       "      <td>18.017481</td>\n",
       "      <td>-499.837793</td>\n",
       "      <td>14.971014</td>\n",
       "      <td>-499.459786</td>\n",
       "      <td>15.000036</td>\n",
       "      <td>-499.802605</td>\n",
       "      <td>11.019433</td>\n",
       "      <td>-499.935317</td>\n",
       "      <td>19.960541</td>\n",
       "      <td>-500.048400</td>\n",
       "    </tr>\n",
       "    <tr>\n",
       "      <th>75%</th>\n",
       "      <td>5.895527</td>\n",
       "      <td>11.035769</td>\n",
       "      <td>10.947813</td>\n",
       "      <td>46.275313</td>\n",
       "      <td>72.686642</td>\n",
       "      <td>11.134294</td>\n",
       "      <td>3.333216</td>\n",
       "      <td>12.104271</td>\n",
       "      <td>3.571351</td>\n",
       "      <td>175.075656</td>\n",
       "      <td>11.013521</td>\n",
       "      <td>7.670000</td>\n",
       "      <td>1.210990</td>\n",
       "      <td>9.809001</td>\n",
       "      <td>11.424971</td>\n",
       "      <td>13.446702</td>\n",
       "      <td>35.048006</td>\n",
       "      <td>18.013975</td>\n",
       "      <td>4.181748</td>\n",
       "      <td>9.548586</td>\n",
       "      <td>4.585705</td>\n",
       "      <td>1.697658e+03</td>\n",
       "      <td>-499.433950</td>\n",
       "      <td>1.699218e+03</td>\n",
       "      <td>-499.373336</td>\n",
       "      <td>1.699483e+03</td>\n",
       "      <td>-498.857643</td>\n",
       "      <td>1.698525e+03</td>\n",
       "      <td>-499.064695</td>\n",
       "      <td>4.816821e+04</td>\n",
       "      <td>3676.769750</td>\n",
       "      <td>3601.998911</td>\n",
       "      <td>2.731794</td>\n",
       "      <td>10.213771</td>\n",
       "      <td>4.244161</td>\n",
       "      <td>550.172183</td>\n",
       "      <td>65.023044</td>\n",
       "      <td>40.039133</td>\n",
       "      <td>9.769917</td>\n",
       "      <td>14.716595</td>\n",
       "      <td>6.798051</td>\n",
       "      <td>14.636766</td>\n",
       "      <td>6.801233</td>\n",
       "      <td>13.736996</td>\n",
       "      <td>8.565199</td>\n",
       "      <td>32.189933</td>\n",
       "      <td>21.717843</td>\n",
       "      <td>90.010670</td>\n",
       "      <td>6.389234</td>\n",
       "      <td>0.778271</td>\n",
       "      <td>20.088151</td>\n",
       "      <td>2.211861</td>\n",
       "      <td>1205.620588</td>\n",
       "      <td>-299.981998</td>\n",
       "      <td>1448.630789</td>\n",
       "      <td>-400.615589</td>\n",
       "      <td>1449.464001</td>\n",
       "      <td>-400.985743</td>\n",
       "      <td>1352.880320</td>\n",
       "      <td>-401.638550</td>\n",
       "      <td>1199.425140</td>\n",
       "      <td>-401.161191</td>\n",
       "      <td>1099.719692</td>\n",
       "      <td>-401.511042</td>\n",
       "      <td>17.358217</td>\n",
       "      <td>7.788467</td>\n",
       "      <td>10.411296</td>\n",
       "      <td>5.063081</td>\n",
       "      <td>33.012536</td>\n",
       "      <td>-499.671261</td>\n",
       "      <td>28.008197</td>\n",
       "      <td>-499.785698</td>\n",
       "      <td>33.002798</td>\n",
       "      <td>-499.325739</td>\n",
       "      <td>25.998206</td>\n",
       "      <td>-499.812834</td>\n",
       "      <td>23.012470</td>\n",
       "      <td>-498.249730</td>\n",
       "      <td>19.034162</td>\n",
       "      <td>-400.118106</td>\n",
       "      <td>18.026190</td>\n",
       "      <td>-498.384187</td>\n",
       "      <td>14.019088</td>\n",
       "      <td>-499.436708</td>\n",
       "      <td>24.003170</td>\n",
       "      <td>-499.495378</td>\n",
       "    </tr>\n",
       "    <tr>\n",
       "      <th>max</th>\n",
       "      <td>16.001945</td>\n",
       "      <td>17.031899</td>\n",
       "      <td>19.615720</td>\n",
       "      <td>52.756638</td>\n",
       "      <td>100.000000</td>\n",
       "      <td>19.552149</td>\n",
       "      <td>5.804178</td>\n",
       "      <td>22.317730</td>\n",
       "      <td>8.245022</td>\n",
       "      <td>265.983123</td>\n",
       "      <td>40.000000</td>\n",
       "      <td>15.500000</td>\n",
       "      <td>4.102454</td>\n",
       "      <td>16.081632</td>\n",
       "      <td>17.081278</td>\n",
       "      <td>22.458114</td>\n",
       "      <td>45.933934</td>\n",
       "      <td>29.459575</td>\n",
       "      <td>9.634565</td>\n",
       "      <td>22.276364</td>\n",
       "      <td>17.788925</td>\n",
       "      <td>2.103104e+03</td>\n",
       "      <td>-57.195404</td>\n",
       "      <td>2.114907e+03</td>\n",
       "      <td>-142.527229</td>\n",
       "      <td>2.013156e+03</td>\n",
       "      <td>-150.937035</td>\n",
       "      <td>2.398904e+03</td>\n",
       "      <td>-30.601828</td>\n",
       "      <td>3.428099e+06</td>\n",
       "      <td>629638.977914</td>\n",
       "      <td>718684.955855</td>\n",
       "      <td>39.379272</td>\n",
       "      <td>14.596026</td>\n",
       "      <td>7.142594</td>\n",
       "      <td>717.508837</td>\n",
       "      <td>484.967466</td>\n",
       "      <td>53.477742</td>\n",
       "      <td>13.731330</td>\n",
       "      <td>36.118275</td>\n",
       "      <td>9.703448</td>\n",
       "      <td>37.980648</td>\n",
       "      <td>9.698407</td>\n",
       "      <td>24.480271</td>\n",
       "      <td>13.617072</td>\n",
       "      <td>38.351193</td>\n",
       "      <td>28.824507</td>\n",
       "      <td>100.000000</td>\n",
       "      <td>12.719177</td>\n",
       "      <td>3.778064</td>\n",
       "      <td>66.117188</td>\n",
       "      <td>9.688980</td>\n",
       "      <td>1521.980372</td>\n",
       "      <td>-273.776101</td>\n",
       "      <td>1809.194008</td>\n",
       "      <td>-296.383080</td>\n",
       "      <td>2499.129174</td>\n",
       "      <td>-292.155509</td>\n",
       "      <td>1817.199290</td>\n",
       "      <td>-76.397327</td>\n",
       "      <td>1922.636637</td>\n",
       "      <td>-139.753025</td>\n",
       "      <td>1706.307502</td>\n",
       "      <td>-191.718480</td>\n",
       "      <td>23.264738</td>\n",
       "      <td>17.042505</td>\n",
       "      <td>26.000772</td>\n",
       "      <td>26.811643</td>\n",
       "      <td>52.651399</td>\n",
       "      <td>-127.875565</td>\n",
       "      <td>35.152122</td>\n",
       "      <td>-211.999273</td>\n",
       "      <td>44.260464</td>\n",
       "      <td>-191.678810</td>\n",
       "      <td>35.072841</td>\n",
       "      <td>-159.742331</td>\n",
       "      <td>30.115735</td>\n",
       "      <td>-245.239184</td>\n",
       "      <td>31.269706</td>\n",
       "      <td>-6.506986</td>\n",
       "      <td>43.709931</td>\n",
       "      <td>-244.483566</td>\n",
       "      <td>27.926001</td>\n",
       "      <td>-137.740004</td>\n",
       "      <td>32.188906</td>\n",
       "      <td>-104.427459</td>\n",
       "    </tr>\n",
       "  </tbody>\n",
       "</table>\n",
       "</div>"
      ],
      "text/plain": [
       "       final.output.concentrate_ag  final.output.concentrate_pb  \\\n",
       "count                 19438.000000                 19438.000000   \n",
       "mean                      5.168470                     9.978895   \n",
       "std                       1.372348                     1.669240   \n",
       "min                       0.000000                     0.000000   \n",
       "25%                       4.251240                     9.137262   \n",
       "50%                       5.066094                    10.102433   \n",
       "75%                       5.895527                    11.035769   \n",
       "max                      16.001945                    17.031899   \n",
       "\n",
       "       final.output.concentrate_sol  final.output.concentrate_au  \\\n",
       "count                  19228.000000                 19439.000000   \n",
       "mean                       9.501224                    44.076513   \n",
       "std                        2.787537                     5.129784   \n",
       "min                        0.000000                     0.000000   \n",
       "25%                        7.722820                    43.402215   \n",
       "50%                        9.218961                    45.011244   \n",
       "75%                       10.947813                    46.275313   \n",
       "max                       19.615720                    52.756638   \n",
       "\n",
       "       final.output.recovery  final.output.tail_ag  final.output.tail_pb  \\\n",
       "count           19439.000000          19438.000000          19338.000000   \n",
       "mean               67.050208              9.688589              2.705795   \n",
       "std                10.125840              2.328642              0.949077   \n",
       "min                 0.000000              0.000000              0.000000   \n",
       "25%                63.299712              8.062878              2.040119   \n",
       "50%                68.172738              9.743623              2.748730   \n",
       "75%                72.686642             11.134294              3.333216   \n",
       "max               100.000000             19.552149              5.804178   \n",
       "\n",
       "       final.output.tail_sol  final.output.tail_au  \\\n",
       "count           19433.000000          19439.000000   \n",
       "mean               10.583728              3.042467   \n",
       "std                 2.868782              0.922808   \n",
       "min                 0.000000              0.000000   \n",
       "25%                 8.938947              2.461138   \n",
       "50%                10.622456              2.984909   \n",
       "75%                12.104271              3.571351   \n",
       "max                22.317730              8.245022   \n",
       "\n",
       "       primary_cleaner.input.sulfate  primary_cleaner.input.depressant  \\\n",
       "count                   19415.000000                      19402.000000   \n",
       "mean                      144.624774                          8.817039   \n",
       "std                        44.464071                          3.286186   \n",
       "min                         0.003112                          0.000000   \n",
       "25%                       114.107029                          6.076909   \n",
       "50%                       143.232103                          8.038311   \n",
       "75%                       175.075656                         11.013521   \n",
       "max                       265.983123                         40.000000   \n",
       "\n",
       "       primary_cleaner.input.feed_size  primary_cleaner.input.xanthate  \\\n",
       "count                     19439.000000                    19335.000000   \n",
       "mean                          7.307078                        1.021795   \n",
       "std                           0.613509                        0.513254   \n",
       "min                           1.080000                        0.000005   \n",
       "25%                           6.940000                        0.697224   \n",
       "50%                           7.280000                        0.940863   \n",
       "75%                           7.670000                        1.210990   \n",
       "max                          15.500000                        4.102454   \n",
       "\n",
       "       primary_cleaner.output.concentrate_ag  \\\n",
       "count                           19439.000000   \n",
       "mean                                8.442408   \n",
       "std                                 2.054465   \n",
       "min                                 0.000000   \n",
       "25%                                 7.263288   \n",
       "50%                                 8.507298   \n",
       "75%                                 9.809001   \n",
       "max                                16.081632   \n",
       "\n",
       "       primary_cleaner.output.concentrate_pb  \\\n",
       "count                           19323.000000   \n",
       "mean                                9.829530   \n",
       "std                                 2.556843   \n",
       "min                                 0.000000   \n",
       "25%                                 8.702328   \n",
       "50%                                10.152433   \n",
       "75%                                11.424971   \n",
       "max                                17.081278   \n",
       "\n",
       "       primary_cleaner.output.concentrate_sol  \\\n",
       "count                            19069.000000   \n",
       "mean                                10.489499   \n",
       "std                                  3.909639   \n",
       "min                                  0.000000   \n",
       "25%                                  7.893893   \n",
       "50%                                 10.314632   \n",
       "75%                                 13.446702   \n",
       "max                                 22.458114   \n",
       "\n",
       "       primary_cleaner.output.concentrate_au  primary_cleaner.output.tail_ag  \\\n",
       "count                           19439.000000                    19435.000000   \n",
       "mean                               32.119400                       16.145826   \n",
       "std                                 5.627611                        3.548598   \n",
       "min                                 0.000000                        0.000000   \n",
       "25%                                30.463140                       14.017742   \n",
       "50%                                32.841295                       15.842836   \n",
       "75%                                35.048006                       18.013975   \n",
       "max                                45.933934                       29.459575   \n",
       "\n",
       "       primary_cleaner.output.tail_pb  primary_cleaner.output.tail_sol  \\\n",
       "count                    19418.000000                     19377.000000   \n",
       "mean                         3.435656                         7.973209   \n",
       "std                          1.392536                         2.212677   \n",
       "min                          0.000000                         0.000000   \n",
       "25%                          2.504365                         6.747483   \n",
       "50%                          3.271153                         8.183673   \n",
       "75%                          4.181748                         9.548586   \n",
       "max                          9.634565                        22.276364   \n",
       "\n",
       "       primary_cleaner.output.tail_au  primary_cleaner.state.floatbank8_a_air  \\\n",
       "count                    19439.000000                            1.943500e+04   \n",
       "mean                         3.914179                            1.589354e+03   \n",
       "std                          1.593034                            1.289968e+02   \n",
       "min                          0.000000                            5.445860e-32   \n",
       "25%                          2.924844                            1.505063e+03   \n",
       "50%                          3.623234                            1.600597e+03   \n",
       "75%                          4.585705                            1.697658e+03   \n",
       "max                         17.788925                            2.103104e+03   \n",
       "\n",
       "       primary_cleaner.state.floatbank8_a_level  \\\n",
       "count                              19438.000000   \n",
       "mean                                -491.195012   \n",
       "std                                   32.431842   \n",
       "min                                 -798.641662   \n",
       "25%                                 -500.308544   \n",
       "50%                                 -499.926134   \n",
       "75%                                 -499.433950   \n",
       "max                                  -57.195404   \n",
       "\n",
       "       primary_cleaner.state.floatbank8_b_air  \\\n",
       "count                            1.943500e+04   \n",
       "mean                             1.591344e+03   \n",
       "std                              1.318109e+02   \n",
       "min                              6.647490e-32   \n",
       "25%                              1.503630e+03   \n",
       "50%                              1.600521e+03   \n",
       "75%                              1.699218e+03   \n",
       "max                              2.114907e+03   \n",
       "\n",
       "       primary_cleaner.state.floatbank8_b_level  \\\n",
       "count                              19438.000000   \n",
       "mean                                -492.192978   \n",
       "std                                   33.794822   \n",
       "min                                 -799.997015   \n",
       "25%                                 -500.437171   \n",
       "50%                                 -499.956767   \n",
       "75%                                 -499.373336   \n",
       "max                                 -142.527229   \n",
       "\n",
       "       primary_cleaner.state.floatbank8_c_air  \\\n",
       "count                            1.943700e+04   \n",
       "mean                             1.586669e+03   \n",
       "std                              1.361114e+02   \n",
       "min                              4.033736e-32   \n",
       "25%                              1.500927e+03   \n",
       "50%                              1.600254e+03   \n",
       "75%                              1.699483e+03   \n",
       "max                              2.013156e+03   \n",
       "\n",
       "       primary_cleaner.state.floatbank8_c_level  \\\n",
       "count                              19438.000000   \n",
       "mean                                -491.980070   \n",
       "std                                   32.711455   \n",
       "min                                 -799.960571   \n",
       "25%                                 -500.703932   \n",
       "50%                                 -499.909524   \n",
       "75%                                 -498.857643   \n",
       "max                                 -150.937035   \n",
       "\n",
       "       primary_cleaner.state.floatbank8_d_air  \\\n",
       "count                            1.943600e+04   \n",
       "mean                             1.542912e+03   \n",
       "std                              2.461996e+02   \n",
       "min                              4.039220e-32   \n",
       "25%                              1.494219e+03   \n",
       "50%                              1.599447e+03   \n",
       "75%                              1.698525e+03   \n",
       "max                              2.398904e+03   \n",
       "\n",
       "       primary_cleaner.state.floatbank8_d_level  \\\n",
       "count                              19438.000000   \n",
       "mean                                -488.017382   \n",
       "std                                   43.959780   \n",
       "min                                 -799.794250   \n",
       "25%                                 -500.458365   \n",
       "50%                                 -499.905974   \n",
       "75%                                 -499.064695   \n",
       "max                                  -30.601828   \n",
       "\n",
       "       rougher.calculation.sulfate_to_au_concentrate  \\\n",
       "count                                   1.943700e+04   \n",
       "mean                                    4.217119e+04   \n",
       "std                                     3.243621e+05   \n",
       "min                                    -4.223520e+07   \n",
       "25%                                     4.070095e+04   \n",
       "50%                                     4.469648e+04   \n",
       "75%                                     4.816821e+04   \n",
       "max                                     3.428099e+06   \n",
       "\n",
       "       rougher.calculation.floatbank10_sulfate_to_au_feed  \\\n",
       "count                                       19437.000000    \n",
       "mean                                         3393.052498    \n",
       "std                                          4943.845943    \n",
       "min                                          -486.598675    \n",
       "25%                                          2611.425833    \n",
       "50%                                          3018.353876    \n",
       "75%                                          3676.769750    \n",
       "max                                        629638.977914    \n",
       "\n",
       "       rougher.calculation.floatbank11_sulfate_to_au_feed  \\\n",
       "count                                       19437.000000    \n",
       "mean                                         3256.854171    \n",
       "std                                          5781.423659    \n",
       "min                                          -264.982785    \n",
       "25%                                          2551.437587    \n",
       "50%                                          2997.218088    \n",
       "75%                                          3601.998911    \n",
       "max                                        718684.955855    \n",
       "\n",
       "       rougher.calculation.au_pb_ratio  rougher.input.feed_ag  \\\n",
       "count                     19439.000000           19439.000000   \n",
       "mean                          2.420119               8.794927   \n",
       "std                           0.814935               1.936847   \n",
       "min                          -0.010548               0.010000   \n",
       "25%                           2.035434               7.237967   \n",
       "50%                           2.309665               8.593574   \n",
       "75%                           2.731794              10.213771   \n",
       "max                          39.379272              14.596026   \n",
       "\n",
       "       rougher.input.feed_pb  rougher.input.feed_rate  \\\n",
       "count           19339.000000             19428.000000   \n",
       "mean                3.598085               478.320042   \n",
       "std                 1.049486               105.373758   \n",
       "min                 0.010000                 0.002986   \n",
       "25%                 2.887280               416.525453   \n",
       "50%                 3.534895               499.416120   \n",
       "75%                 4.244161               550.172183   \n",
       "max                 7.142594               717.508837   \n",
       "\n",
       "       rougher.input.feed_size  rougher.input.feed_sol  rougher.input.feed_au  \\\n",
       "count             19294.000000            19340.000000           19439.000000   \n",
       "mean                 58.970310               36.695114               8.266097   \n",
       "std                  21.634478                5.145445               1.955092   \n",
       "min                   0.046369                0.010000               0.010000   \n",
       "25%                  47.435103               34.207799               6.854384   \n",
       "50%                  54.610197               37.202650               8.125839   \n",
       "75%                  65.023044               40.039133               9.769917   \n",
       "max                 484.967466               53.477742              13.731330   \n",
       "\n",
       "       rougher.input.floatbank10_sulfate  rougher.input.floatbank10_xanthate  \\\n",
       "count                       19405.000000                        19431.000000   \n",
       "mean                           12.334373                            6.021474   \n",
       "std                             3.427317                            1.127263   \n",
       "min                             0.001083                            0.000568   \n",
       "25%                            10.000362                            5.398678   \n",
       "50%                            12.001174                            6.008273   \n",
       "75%                            14.716595                            6.798051   \n",
       "max                            36.118275                            9.703448   \n",
       "\n",
       "       rougher.input.floatbank11_sulfate  rougher.input.floatbank11_xanthate  \\\n",
       "count                       19395.000000                        18986.000000   \n",
       "mean                           12.064140                            6.065533   \n",
       "std                             3.784221                            1.099118   \n",
       "min                             0.000077                            0.000290   \n",
       "25%                             9.998460                            5.402368   \n",
       "50%                            12.000204                            6.098580   \n",
       "75%                            14.636766                            6.801233   \n",
       "max                            37.980648                            9.698407   \n",
       "\n",
       "       rougher.output.concentrate_ag  rougher.output.concentrate_pb  \\\n",
       "count                   19439.000000                   19439.000000   \n",
       "mean                       11.994759                       7.606272   \n",
       "std                         2.733862                       1.796757   \n",
       "min                         0.000000                       0.000000   \n",
       "25%                        10.628337                       6.725987   \n",
       "50%                        12.098115                       7.742580   \n",
       "75%                        13.736996                       8.565199   \n",
       "max                        24.480271                      13.617072   \n",
       "\n",
       "       rougher.output.concentrate_sol  rougher.output.concentrate_au  \\\n",
       "count                    19416.000000                   19439.000000   \n",
       "mean                        28.805571                      19.772000   \n",
       "std                          5.944207                       3.753600   \n",
       "min                          0.000000                       0.000000   \n",
       "25%                         27.224120                      18.802523   \n",
       "50%                         29.835345                      20.280214   \n",
       "75%                         32.189933                      21.717843   \n",
       "max                         38.351193                      28.824507   \n",
       "\n",
       "       rougher.output.recovery  rougher.output.tail_ag  \\\n",
       "count             19439.000000            19438.000000   \n",
       "mean                 83.328587                5.588982   \n",
       "std                  14.148086                1.111288   \n",
       "min                   0.000000                0.594562   \n",
       "25%                  81.037957                4.889892   \n",
       "50%                  86.188892                5.765802   \n",
       "75%                  90.010670                6.389234   \n",
       "max                 100.000000               12.719177   \n",
       "\n",
       "       rougher.output.tail_pb  rougher.output.tail_sol  \\\n",
       "count            19439.000000             19439.000000   \n",
       "mean                 0.645782                18.057106   \n",
       "std                  0.251526                 3.449218   \n",
       "min                  0.007566                10.014648   \n",
       "25%                  0.477728                15.822525   \n",
       "50%                  0.617465                18.106867   \n",
       "75%                  0.778271                20.088151   \n",
       "max                  3.778064                66.117188   \n",
       "\n",
       "       rougher.output.tail_au  rougher.state.floatbank10_a_air  \\\n",
       "count            19439.000000                     19438.000000   \n",
       "mean                 1.816391                      1105.315068   \n",
       "std                  0.680046                       160.826798   \n",
       "min                  0.020676                        -0.042069   \n",
       "25%                  1.404207                       999.661867   \n",
       "50%                  1.808170                      1001.072890   \n",
       "75%                  2.211861                      1205.620588   \n",
       "max                  9.688980                      1521.980372   \n",
       "\n",
       "       rougher.state.floatbank10_a_level  rougher.state.floatbank10_b_air  \\\n",
       "count                       19438.000000                     19438.000000   \n",
       "mean                         -376.610690                      1320.221139   \n",
       "std                            93.909667                       176.287095   \n",
       "min                          -657.949759                        -0.721806   \n",
       "25%                          -499.835165                      1199.626115   \n",
       "50%                          -300.263994                      1301.579988   \n",
       "75%                          -299.981998                      1448.630789   \n",
       "max                          -273.776101                      1809.194008   \n",
       "\n",
       "       rougher.state.floatbank10_b_level  rougher.state.floatbank10_c_air  \\\n",
       "count                       19438.000000                     19438.000000   \n",
       "mean                         -467.247826                      1299.968799   \n",
       "std                            54.673142                       202.804325   \n",
       "min                          -650.260008                        -0.056636   \n",
       "25%                          -500.201130                      1151.076301   \n",
       "50%                          -499.784045                      1300.211537   \n",
       "75%                          -400.615589                      1449.464001   \n",
       "max                          -296.383080                      2499.129174   \n",
       "\n",
       "       rougher.state.floatbank10_c_level  rougher.state.floatbank10_d_air  \\\n",
       "count                       19438.000000                     19439.000000   \n",
       "mean                         -467.716946                      1211.563299   \n",
       "std                            53.534825                       204.019326   \n",
       "min                          -647.544439                        -0.992219   \n",
       "25%                          -500.217218                      1061.051788   \n",
       "50%                          -499.713364                      1201.569141   \n",
       "75%                          -400.985743                      1352.880320   \n",
       "max                          -292.155509                      1817.199290   \n",
       "\n",
       "       rougher.state.floatbank10_d_level  rougher.state.floatbank10_e_air  \\\n",
       "count                       19439.000000                     19003.000000   \n",
       "mean                         -468.239912                      1080.869685   \n",
       "std                            53.921458                       172.149992   \n",
       "min                          -648.390665                        -1.982295   \n",
       "25%                          -500.386386                       998.675263   \n",
       "50%                          -499.532412                      1050.029461   \n",
       "75%                          -401.638550                      1199.425140   \n",
       "max                           -76.397327                      1922.636637   \n",
       "\n",
       "       rougher.state.floatbank10_e_level  rougher.state.floatbank10_f_air  \\\n",
       "count                       19439.000000                     19439.000000   \n",
       "mean                         -466.037742                      1025.274256   \n",
       "std                            57.384424                       164.487837   \n",
       "min                          -649.443911                        -2.593390   \n",
       "25%                          -500.232191                       900.995511   \n",
       "50%                          -499.663089                       999.924821   \n",
       "75%                          -401.161191                      1099.719692   \n",
       "max                          -139.753025                      1706.307502   \n",
       "\n",
       "       rougher.state.floatbank10_f_level  secondary_cleaner.output.tail_ag  \\\n",
       "count                       19439.000000                      19437.000000   \n",
       "mean                         -466.265327                         14.586833   \n",
       "std                            57.850263                          4.265202   \n",
       "min                          -649.949283                          0.000000   \n",
       "25%                          -500.522553                         12.640239   \n",
       "50%                          -499.471777                         15.641902   \n",
       "75%                          -401.511042                         17.358217   \n",
       "max                          -191.718480                         23.264738   \n",
       "\n",
       "       secondary_cleaner.output.tail_pb  secondary_cleaner.output.tail_sol  \\\n",
       "count                      19427.000000                       17691.000000   \n",
       "mean                           5.777703                           7.167247   \n",
       "std                            2.774598                           3.916079   \n",
       "min                            0.000000                           0.000000   \n",
       "25%                            3.864733                           3.845475   \n",
       "50%                            5.344073                           7.685827   \n",
       "75%                            7.788467                          10.411296   \n",
       "max                           17.042505                          26.000772   \n",
       "\n",
       "       secondary_cleaner.output.tail_au  \\\n",
       "count                      19439.000000   \n",
       "mean                           4.339625   \n",
       "std                            2.326751   \n",
       "min                            0.000000   \n",
       "25%                            3.182770   \n",
       "50%                            4.072412   \n",
       "75%                            5.063081   \n",
       "max                           26.811643   \n",
       "\n",
       "       secondary_cleaner.state.floatbank2_a_air  \\\n",
       "count                              19219.000000   \n",
       "mean                                  28.705564   \n",
       "std                                    5.458789   \n",
       "min                                    0.077503   \n",
       "25%                                   25.048462   \n",
       "50%                                   29.099943   \n",
       "75%                                   33.012536   \n",
       "max                                   52.651399   \n",
       "\n",
       "       secondary_cleaner.state.floatbank2_a_level  \\\n",
       "count                                19438.000000   \n",
       "mean                                  -502.367331   \n",
       "std                                     53.571950   \n",
       "min                                   -799.606441   \n",
       "25%                                   -500.233700   \n",
       "50%                                   -499.973250   \n",
       "75%                                   -499.671261   \n",
       "max                                   -127.875565   \n",
       "\n",
       "       secondary_cleaner.state.floatbank2_b_air  \\\n",
       "count                              19416.000000   \n",
       "mean                                  24.106800   \n",
       "std                                    5.749616   \n",
       "min                                    0.000000   \n",
       "25%                                   20.919853   \n",
       "50%                                   25.043289   \n",
       "75%                                   28.008197   \n",
       "max                                   35.152122   \n",
       "\n",
       "       secondary_cleaner.state.floatbank2_b_level  \\\n",
       "count                                19438.000000   \n",
       "mean                                  -503.230712   \n",
       "std                                     56.567724   \n",
       "min                                   -799.873878   \n",
       "25%                                   -500.253794   \n",
       "50%                                   -500.015439   \n",
       "75%                                   -499.785698   \n",
       "max                                   -211.999273   \n",
       "\n",
       "       secondary_cleaner.state.floatbank3_a_air  \\\n",
       "count                              19426.000000   \n",
       "mean                                  28.199338   \n",
       "std                                    6.134908   \n",
       "min                                    0.000000   \n",
       "25%                                   24.949227   \n",
       "50%                                   27.982129   \n",
       "75%                                   33.002798   \n",
       "max                                   44.260464   \n",
       "\n",
       "       secondary_cleaner.state.floatbank3_a_level  \\\n",
       "count                                19438.000000   \n",
       "mean                                  -486.203350   \n",
       "std                                     54.412349   \n",
       "min                                   -799.755798   \n",
       "25%                                   -500.213546   \n",
       "50%                                   -499.930680   \n",
       "75%                                   -499.325739   \n",
       "max                                   -191.678810   \n",
       "\n",
       "       secondary_cleaner.state.floatbank3_b_air  \\\n",
       "count                              19438.000000   \n",
       "mean                                  22.200645   \n",
       "std                                    5.574001   \n",
       "min                                    0.000000   \n",
       "25%                                   18.995924   \n",
       "50%                                   22.011231   \n",
       "75%                                   25.998206   \n",
       "max                                   35.072841   \n",
       "\n",
       "       secondary_cleaner.state.floatbank3_b_level  \\\n",
       "count                                19438.000000   \n",
       "mean                                  -493.742107   \n",
       "std                                     43.372158   \n",
       "min                                   -809.333008   \n",
       "25%                                   -500.123034   \n",
       "50%                                   -499.981902   \n",
       "75%                                   -499.812834   \n",
       "max                                   -159.742331   \n",
       "\n",
       "       secondary_cleaner.state.floatbank4_a_air  \\\n",
       "count                              19433.000000   \n",
       "mean                                  18.987674   \n",
       "std                                    5.411058   \n",
       "min                                    0.000000   \n",
       "25%                                   14.975734   \n",
       "50%                                   18.017481   \n",
       "75%                                   23.012470   \n",
       "max                                   30.115735   \n",
       "\n",
       "       secondary_cleaner.state.floatbank4_a_level  \\\n",
       "count                                19438.000000   \n",
       "mean                                  -485.894516   \n",
       "std                                     47.758570   \n",
       "min                                   -799.798523   \n",
       "25%                                   -500.704892   \n",
       "50%                                   -499.837793   \n",
       "75%                                   -498.249730   \n",
       "max                                   -245.239184   \n",
       "\n",
       "       secondary_cleaner.state.floatbank4_b_air  \\\n",
       "count                              19438.000000   \n",
       "mean                                  15.010366   \n",
       "std                                    4.890228   \n",
       "min                                    0.000000   \n",
       "25%                                   11.940294   \n",
       "50%                                   14.971014   \n",
       "75%                                   19.034162   \n",
       "max                                   31.269706   \n",
       "\n",
       "       secondary_cleaner.state.floatbank4_b_level  \\\n",
       "count                                19438.000000   \n",
       "mean                                  -461.078636   \n",
       "std                                     67.405524   \n",
       "min                                   -800.836914   \n",
       "25%                                   -500.187742   \n",
       "50%                                   -499.459786   \n",
       "75%                                   -400.118106   \n",
       "max                                     -6.506986   \n",
       "\n",
       "       secondary_cleaner.state.floatbank5_a_air  \\\n",
       "count                              19438.000000   \n",
       "mean                                  15.694452   \n",
       "std                                    5.510974   \n",
       "min                                   -0.372054   \n",
       "25%                                   10.988606   \n",
       "50%                                   15.000036   \n",
       "75%                                   18.026190   \n",
       "max                                   43.709931   \n",
       "\n",
       "       secondary_cleaner.state.floatbank5_a_level  \\\n",
       "count                                19438.000000   \n",
       "mean                                  -488.684065   \n",
       "std                                     34.533396   \n",
       "min                                   -797.323986   \n",
       "25%                                   -500.458467   \n",
       "50%                                   -499.802605   \n",
       "75%                                   -498.384187   \n",
       "max                                   -244.483566   \n",
       "\n",
       "       secondary_cleaner.state.floatbank5_b_air  \\\n",
       "count                              19438.000000   \n",
       "mean                                  12.198224   \n",
       "std                                    5.333024   \n",
       "min                                    0.528083   \n",
       "25%                                    8.971105   \n",
       "50%                                   11.019433   \n",
       "75%                                   14.019088   \n",
       "max                                   27.926001   \n",
       "\n",
       "       secondary_cleaner.state.floatbank5_b_level  \\\n",
       "count                                19438.000000   \n",
       "mean                                  -487.149827   \n",
       "std                                     38.347312   \n",
       "min                                   -800.220337   \n",
       "25%                                   -500.129462   \n",
       "50%                                   -499.935317   \n",
       "75%                                   -499.436708   \n",
       "max                                   -137.740004   \n",
       "\n",
       "       secondary_cleaner.state.floatbank6_a_air  \\\n",
       "count                              19437.000000   \n",
       "mean                                  18.959024   \n",
       "std                                    5.550498   \n",
       "min                                   -0.079426   \n",
       "25%                                   14.983037   \n",
       "50%                                   19.960541   \n",
       "75%                                   24.003170   \n",
       "max                                   32.188906   \n",
       "\n",
       "       secondary_cleaner.state.floatbank6_a_level  \n",
       "count                                19438.000000  \n",
       "mean                                  -505.436305  \n",
       "std                                     37.689057  \n",
       "min                                   -809.741464  \n",
       "25%                                   -500.728067  \n",
       "50%                                   -500.048400  \n",
       "75%                                   -499.495378  \n",
       "max                                   -104.427459  "
      ]
     },
     "metadata": {},
     "output_type": "display_data"
    },
    {
     "name": "stdout",
     "output_type": "stream",
     "text": [
      "\n",
      "Количество явных дубликатов в таблице\n",
      "\n"
     ]
    },
    {
     "data": {
      "text/plain": [
       "0"
      ]
     },
     "metadata": {},
     "output_type": "display_data"
    }
   ],
   "source": [
    "info(full_data)"
   ]
  },
  {
   "cell_type": "markdown",
   "metadata": {},
   "source": [
    "В таблице с исходными данными содержится 86 колонок и 19439 строк. Большинство колонок содержат небольшое количество пропусков. Явных дубликатов нет. "
   ]
  },
  {
   "cell_type": "markdown",
   "metadata": {},
   "source": [
    "Далее рассмотрю таблицу обучающей выборки."
   ]
  },
  {
   "cell_type": "code",
   "execution_count": 5,
   "metadata": {},
   "outputs": [
    {
     "data": {
      "text/html": [
       "<div>\n",
       "<style scoped>\n",
       "    .dataframe tbody tr th:only-of-type {\n",
       "        vertical-align: middle;\n",
       "    }\n",
       "\n",
       "    .dataframe tbody tr th {\n",
       "        vertical-align: top;\n",
       "    }\n",
       "\n",
       "    .dataframe thead th {\n",
       "        text-align: right;\n",
       "    }\n",
       "</style>\n",
       "<table border=\"1\" class=\"dataframe\">\n",
       "  <thead>\n",
       "    <tr style=\"text-align: right;\">\n",
       "      <th></th>\n",
       "      <th>date</th>\n",
       "      <th>final.output.concentrate_ag</th>\n",
       "      <th>final.output.concentrate_pb</th>\n",
       "      <th>final.output.concentrate_sol</th>\n",
       "      <th>final.output.concentrate_au</th>\n",
       "      <th>final.output.recovery</th>\n",
       "      <th>final.output.tail_ag</th>\n",
       "      <th>final.output.tail_pb</th>\n",
       "      <th>final.output.tail_sol</th>\n",
       "      <th>final.output.tail_au</th>\n",
       "      <th>primary_cleaner.input.sulfate</th>\n",
       "      <th>primary_cleaner.input.depressant</th>\n",
       "      <th>primary_cleaner.input.feed_size</th>\n",
       "      <th>primary_cleaner.input.xanthate</th>\n",
       "      <th>primary_cleaner.output.concentrate_ag</th>\n",
       "      <th>primary_cleaner.output.concentrate_pb</th>\n",
       "      <th>primary_cleaner.output.concentrate_sol</th>\n",
       "      <th>primary_cleaner.output.concentrate_au</th>\n",
       "      <th>primary_cleaner.output.tail_ag</th>\n",
       "      <th>primary_cleaner.output.tail_pb</th>\n",
       "      <th>primary_cleaner.output.tail_sol</th>\n",
       "      <th>primary_cleaner.output.tail_au</th>\n",
       "      <th>primary_cleaner.state.floatbank8_a_air</th>\n",
       "      <th>primary_cleaner.state.floatbank8_a_level</th>\n",
       "      <th>primary_cleaner.state.floatbank8_b_air</th>\n",
       "      <th>primary_cleaner.state.floatbank8_b_level</th>\n",
       "      <th>primary_cleaner.state.floatbank8_c_air</th>\n",
       "      <th>primary_cleaner.state.floatbank8_c_level</th>\n",
       "      <th>primary_cleaner.state.floatbank8_d_air</th>\n",
       "      <th>primary_cleaner.state.floatbank8_d_level</th>\n",
       "      <th>rougher.calculation.sulfate_to_au_concentrate</th>\n",
       "      <th>rougher.calculation.floatbank10_sulfate_to_au_feed</th>\n",
       "      <th>rougher.calculation.floatbank11_sulfate_to_au_feed</th>\n",
       "      <th>rougher.calculation.au_pb_ratio</th>\n",
       "      <th>rougher.input.feed_ag</th>\n",
       "      <th>rougher.input.feed_pb</th>\n",
       "      <th>rougher.input.feed_rate</th>\n",
       "      <th>rougher.input.feed_size</th>\n",
       "      <th>rougher.input.feed_sol</th>\n",
       "      <th>rougher.input.feed_au</th>\n",
       "      <th>rougher.input.floatbank10_sulfate</th>\n",
       "      <th>rougher.input.floatbank10_xanthate</th>\n",
       "      <th>rougher.input.floatbank11_sulfate</th>\n",
       "      <th>rougher.input.floatbank11_xanthate</th>\n",
       "      <th>rougher.output.concentrate_ag</th>\n",
       "      <th>rougher.output.concentrate_pb</th>\n",
       "      <th>rougher.output.concentrate_sol</th>\n",
       "      <th>rougher.output.concentrate_au</th>\n",
       "      <th>rougher.output.recovery</th>\n",
       "      <th>rougher.output.tail_ag</th>\n",
       "      <th>rougher.output.tail_pb</th>\n",
       "      <th>rougher.output.tail_sol</th>\n",
       "      <th>rougher.output.tail_au</th>\n",
       "      <th>rougher.state.floatbank10_a_air</th>\n",
       "      <th>rougher.state.floatbank10_a_level</th>\n",
       "      <th>rougher.state.floatbank10_b_air</th>\n",
       "      <th>rougher.state.floatbank10_b_level</th>\n",
       "      <th>rougher.state.floatbank10_c_air</th>\n",
       "      <th>rougher.state.floatbank10_c_level</th>\n",
       "      <th>rougher.state.floatbank10_d_air</th>\n",
       "      <th>rougher.state.floatbank10_d_level</th>\n",
       "      <th>rougher.state.floatbank10_e_air</th>\n",
       "      <th>rougher.state.floatbank10_e_level</th>\n",
       "      <th>rougher.state.floatbank10_f_air</th>\n",
       "      <th>rougher.state.floatbank10_f_level</th>\n",
       "      <th>secondary_cleaner.output.tail_ag</th>\n",
       "      <th>secondary_cleaner.output.tail_pb</th>\n",
       "      <th>secondary_cleaner.output.tail_sol</th>\n",
       "      <th>secondary_cleaner.output.tail_au</th>\n",
       "      <th>secondary_cleaner.state.floatbank2_a_air</th>\n",
       "      <th>secondary_cleaner.state.floatbank2_a_level</th>\n",
       "      <th>secondary_cleaner.state.floatbank2_b_air</th>\n",
       "      <th>secondary_cleaner.state.floatbank2_b_level</th>\n",
       "      <th>secondary_cleaner.state.floatbank3_a_air</th>\n",
       "      <th>secondary_cleaner.state.floatbank3_a_level</th>\n",
       "      <th>secondary_cleaner.state.floatbank3_b_air</th>\n",
       "      <th>secondary_cleaner.state.floatbank3_b_level</th>\n",
       "      <th>secondary_cleaner.state.floatbank4_a_air</th>\n",
       "      <th>secondary_cleaner.state.floatbank4_a_level</th>\n",
       "      <th>secondary_cleaner.state.floatbank4_b_air</th>\n",
       "      <th>secondary_cleaner.state.floatbank4_b_level</th>\n",
       "      <th>secondary_cleaner.state.floatbank5_a_air</th>\n",
       "      <th>secondary_cleaner.state.floatbank5_a_level</th>\n",
       "      <th>secondary_cleaner.state.floatbank5_b_air</th>\n",
       "      <th>secondary_cleaner.state.floatbank5_b_level</th>\n",
       "      <th>secondary_cleaner.state.floatbank6_a_air</th>\n",
       "      <th>secondary_cleaner.state.floatbank6_a_level</th>\n",
       "    </tr>\n",
       "  </thead>\n",
       "  <tbody>\n",
       "    <tr>\n",
       "      <th>0</th>\n",
       "      <td>2016-01-15 00:00:00</td>\n",
       "      <td>6.055403</td>\n",
       "      <td>9.889648</td>\n",
       "      <td>5.507324</td>\n",
       "      <td>42.192020</td>\n",
       "      <td>70.541216</td>\n",
       "      <td>10.411962</td>\n",
       "      <td>0.895447</td>\n",
       "      <td>16.904297</td>\n",
       "      <td>2.143149</td>\n",
       "      <td>127.092003</td>\n",
       "      <td>10.128295</td>\n",
       "      <td>7.25</td>\n",
       "      <td>0.988759</td>\n",
       "      <td>8.547551</td>\n",
       "      <td>10.389648</td>\n",
       "      <td>19.529297</td>\n",
       "      <td>34.174427</td>\n",
       "      <td>14.936526</td>\n",
       "      <td>2.534912</td>\n",
       "      <td>7.476074</td>\n",
       "      <td>2.106679</td>\n",
       "      <td>1549.775757</td>\n",
       "      <td>-498.912140</td>\n",
       "      <td>1551.434204</td>\n",
       "      <td>-516.403442</td>\n",
       "      <td>1549.873901</td>\n",
       "      <td>-498.666595</td>\n",
       "      <td>1554.367432</td>\n",
       "      <td>-493.428131</td>\n",
       "      <td>41885.707031</td>\n",
       "      <td>3481.779053</td>\n",
       "      <td>3520.337158</td>\n",
       "      <td>2.838687</td>\n",
       "      <td>6.100378</td>\n",
       "      <td>2.284912</td>\n",
       "      <td>523.546326</td>\n",
       "      <td>55.486599</td>\n",
       "      <td>36.808594</td>\n",
       "      <td>6.486150</td>\n",
       "      <td>11.986616</td>\n",
       "      <td>6.007990</td>\n",
       "      <td>11.836743</td>\n",
       "      <td>6.005818</td>\n",
       "      <td>11.500771</td>\n",
       "      <td>7.101074</td>\n",
       "      <td>28.029297</td>\n",
       "      <td>19.793808</td>\n",
       "      <td>87.107763</td>\n",
       "      <td>5.008018</td>\n",
       "      <td>0.508728</td>\n",
       "      <td>19.154297</td>\n",
       "      <td>1.170244</td>\n",
       "      <td>999.706909</td>\n",
       "      <td>-404.066986</td>\n",
       "      <td>1603.011353</td>\n",
       "      <td>-434.715027</td>\n",
       "      <td>1602.375000</td>\n",
       "      <td>-442.204468</td>\n",
       "      <td>1598.937256</td>\n",
       "      <td>-451.294128</td>\n",
       "      <td>1404.472046</td>\n",
       "      <td>-455.462982</td>\n",
       "      <td>1416.354980</td>\n",
       "      <td>-451.939636</td>\n",
       "      <td>14.500184</td>\n",
       "      <td>4.694824</td>\n",
       "      <td>8.764648</td>\n",
       "      <td>2.606185</td>\n",
       "      <td>25.853109</td>\n",
       "      <td>-498.526489</td>\n",
       "      <td>23.893660</td>\n",
       "      <td>-501.406281</td>\n",
       "      <td>23.961798</td>\n",
       "      <td>-495.262817</td>\n",
       "      <td>21.940409</td>\n",
       "      <td>-499.340973</td>\n",
       "      <td>14.016835</td>\n",
       "      <td>-502.488007</td>\n",
       "      <td>12.099931</td>\n",
       "      <td>-504.715942</td>\n",
       "      <td>9.925633</td>\n",
       "      <td>-498.310211</td>\n",
       "      <td>8.079666</td>\n",
       "      <td>-500.470978</td>\n",
       "      <td>14.151341</td>\n",
       "      <td>-605.841980</td>\n",
       "    </tr>\n",
       "    <tr>\n",
       "      <th>1</th>\n",
       "      <td>2016-01-15 01:00:00</td>\n",
       "      <td>6.029369</td>\n",
       "      <td>9.968944</td>\n",
       "      <td>5.257781</td>\n",
       "      <td>42.701629</td>\n",
       "      <td>69.266198</td>\n",
       "      <td>10.462676</td>\n",
       "      <td>0.927452</td>\n",
       "      <td>16.634514</td>\n",
       "      <td>2.224930</td>\n",
       "      <td>125.629232</td>\n",
       "      <td>10.296251</td>\n",
       "      <td>7.25</td>\n",
       "      <td>1.002663</td>\n",
       "      <td>8.558743</td>\n",
       "      <td>10.497069</td>\n",
       "      <td>19.369147</td>\n",
       "      <td>34.118526</td>\n",
       "      <td>16.250511</td>\n",
       "      <td>3.049646</td>\n",
       "      <td>6.733907</td>\n",
       "      <td>2.353017</td>\n",
       "      <td>1576.166671</td>\n",
       "      <td>-500.904965</td>\n",
       "      <td>1575.950626</td>\n",
       "      <td>-499.865889</td>\n",
       "      <td>1575.994189</td>\n",
       "      <td>-499.315107</td>\n",
       "      <td>1574.479259</td>\n",
       "      <td>-498.931665</td>\n",
       "      <td>42050.861809</td>\n",
       "      <td>3498.370979</td>\n",
       "      <td>3489.981857</td>\n",
       "      <td>2.858998</td>\n",
       "      <td>6.161113</td>\n",
       "      <td>2.266033</td>\n",
       "      <td>525.290581</td>\n",
       "      <td>57.278666</td>\n",
       "      <td>35.753385</td>\n",
       "      <td>6.478583</td>\n",
       "      <td>11.971193</td>\n",
       "      <td>6.005766</td>\n",
       "      <td>11.996163</td>\n",
       "      <td>6.012594</td>\n",
       "      <td>11.615865</td>\n",
       "      <td>7.278807</td>\n",
       "      <td>28.067063</td>\n",
       "      <td>20.050975</td>\n",
       "      <td>86.843261</td>\n",
       "      <td>4.955378</td>\n",
       "      <td>0.536689</td>\n",
       "      <td>18.965234</td>\n",
       "      <td>1.184827</td>\n",
       "      <td>1000.286398</td>\n",
       "      <td>-400.065196</td>\n",
       "      <td>1600.754587</td>\n",
       "      <td>-449.953435</td>\n",
       "      <td>1600.479580</td>\n",
       "      <td>-449.830646</td>\n",
       "      <td>1600.527589</td>\n",
       "      <td>-449.953649</td>\n",
       "      <td>1399.227084</td>\n",
       "      <td>-450.869848</td>\n",
       "      <td>1399.719514</td>\n",
       "      <td>-450.119001</td>\n",
       "      <td>14.265474</td>\n",
       "      <td>4.592547</td>\n",
       "      <td>9.001494</td>\n",
       "      <td>2.488248</td>\n",
       "      <td>25.880539</td>\n",
       "      <td>-499.989656</td>\n",
       "      <td>23.889530</td>\n",
       "      <td>-500.372428</td>\n",
       "      <td>23.970550</td>\n",
       "      <td>-500.085473</td>\n",
       "      <td>22.085714</td>\n",
       "      <td>-499.446897</td>\n",
       "      <td>13.992281</td>\n",
       "      <td>-505.503262</td>\n",
       "      <td>11.950531</td>\n",
       "      <td>-501.331529</td>\n",
       "      <td>10.039245</td>\n",
       "      <td>-500.169983</td>\n",
       "      <td>7.984757</td>\n",
       "      <td>-500.582168</td>\n",
       "      <td>13.998353</td>\n",
       "      <td>-599.787184</td>\n",
       "    </tr>\n",
       "    <tr>\n",
       "      <th>2</th>\n",
       "      <td>2016-01-15 02:00:00</td>\n",
       "      <td>6.055926</td>\n",
       "      <td>10.213995</td>\n",
       "      <td>5.383759</td>\n",
       "      <td>42.657501</td>\n",
       "      <td>68.116445</td>\n",
       "      <td>10.507046</td>\n",
       "      <td>0.953716</td>\n",
       "      <td>16.208849</td>\n",
       "      <td>2.257889</td>\n",
       "      <td>123.819808</td>\n",
       "      <td>11.316280</td>\n",
       "      <td>7.25</td>\n",
       "      <td>0.991265</td>\n",
       "      <td>8.603505</td>\n",
       "      <td>10.354494</td>\n",
       "      <td>19.167579</td>\n",
       "      <td>33.969464</td>\n",
       "      <td>16.491823</td>\n",
       "      <td>3.124664</td>\n",
       "      <td>6.471768</td>\n",
       "      <td>2.416800</td>\n",
       "      <td>1601.556163</td>\n",
       "      <td>-499.997791</td>\n",
       "      <td>1600.386685</td>\n",
       "      <td>-500.607762</td>\n",
       "      <td>1602.003542</td>\n",
       "      <td>-500.870069</td>\n",
       "      <td>1599.541515</td>\n",
       "      <td>-499.827444</td>\n",
       "      <td>42018.101184</td>\n",
       "      <td>3495.348910</td>\n",
       "      <td>3502.359819</td>\n",
       "      <td>2.945989</td>\n",
       "      <td>6.116455</td>\n",
       "      <td>2.159622</td>\n",
       "      <td>530.026610</td>\n",
       "      <td>57.510649</td>\n",
       "      <td>35.971630</td>\n",
       "      <td>6.362222</td>\n",
       "      <td>11.920603</td>\n",
       "      <td>6.197377</td>\n",
       "      <td>11.920305</td>\n",
       "      <td>6.204633</td>\n",
       "      <td>11.695753</td>\n",
       "      <td>7.216833</td>\n",
       "      <td>27.454037</td>\n",
       "      <td>19.737170</td>\n",
       "      <td>86.842308</td>\n",
       "      <td>4.843460</td>\n",
       "      <td>0.546416</td>\n",
       "      <td>18.808533</td>\n",
       "      <td>1.162562</td>\n",
       "      <td>999.719565</td>\n",
       "      <td>-400.074028</td>\n",
       "      <td>1599.337330</td>\n",
       "      <td>-450.008530</td>\n",
       "      <td>1599.672797</td>\n",
       "      <td>-449.954491</td>\n",
       "      <td>1599.849325</td>\n",
       "      <td>-449.954185</td>\n",
       "      <td>1399.180945</td>\n",
       "      <td>-449.937588</td>\n",
       "      <td>1400.316682</td>\n",
       "      <td>-450.527147</td>\n",
       "      <td>14.115662</td>\n",
       "      <td>4.624775</td>\n",
       "      <td>8.842896</td>\n",
       "      <td>2.458187</td>\n",
       "      <td>26.005245</td>\n",
       "      <td>-499.929616</td>\n",
       "      <td>23.886657</td>\n",
       "      <td>-499.951928</td>\n",
       "      <td>23.913535</td>\n",
       "      <td>-499.442343</td>\n",
       "      <td>23.957717</td>\n",
       "      <td>-499.901982</td>\n",
       "      <td>14.015015</td>\n",
       "      <td>-502.520901</td>\n",
       "      <td>11.912783</td>\n",
       "      <td>-501.133383</td>\n",
       "      <td>10.070913</td>\n",
       "      <td>-500.129135</td>\n",
       "      <td>8.013877</td>\n",
       "      <td>-500.517572</td>\n",
       "      <td>14.028663</td>\n",
       "      <td>-601.427363</td>\n",
       "    </tr>\n",
       "    <tr>\n",
       "      <th>3</th>\n",
       "      <td>2016-01-15 03:00:00</td>\n",
       "      <td>6.047977</td>\n",
       "      <td>9.977019</td>\n",
       "      <td>4.858634</td>\n",
       "      <td>42.689819</td>\n",
       "      <td>68.347543</td>\n",
       "      <td>10.422762</td>\n",
       "      <td>0.883763</td>\n",
       "      <td>16.532835</td>\n",
       "      <td>2.146849</td>\n",
       "      <td>122.270188</td>\n",
       "      <td>11.322140</td>\n",
       "      <td>7.25</td>\n",
       "      <td>0.996739</td>\n",
       "      <td>7.221879</td>\n",
       "      <td>8.496563</td>\n",
       "      <td>15.978538</td>\n",
       "      <td>28.260743</td>\n",
       "      <td>16.024359</td>\n",
       "      <td>2.960362</td>\n",
       "      <td>6.843791</td>\n",
       "      <td>2.262051</td>\n",
       "      <td>1599.968720</td>\n",
       "      <td>-500.951778</td>\n",
       "      <td>1600.659236</td>\n",
       "      <td>-499.677094</td>\n",
       "      <td>1600.304144</td>\n",
       "      <td>-500.727997</td>\n",
       "      <td>1600.449520</td>\n",
       "      <td>-500.052575</td>\n",
       "      <td>42029.447991</td>\n",
       "      <td>3498.578313</td>\n",
       "      <td>3499.162912</td>\n",
       "      <td>3.002340</td>\n",
       "      <td>6.043309</td>\n",
       "      <td>2.037807</td>\n",
       "      <td>542.590390</td>\n",
       "      <td>57.792734</td>\n",
       "      <td>36.862241</td>\n",
       "      <td>6.118189</td>\n",
       "      <td>11.630094</td>\n",
       "      <td>6.203177</td>\n",
       "      <td>11.692450</td>\n",
       "      <td>6.196578</td>\n",
       "      <td>11.915047</td>\n",
       "      <td>7.175616</td>\n",
       "      <td>27.341277</td>\n",
       "      <td>19.320810</td>\n",
       "      <td>87.226430</td>\n",
       "      <td>4.655288</td>\n",
       "      <td>0.542525</td>\n",
       "      <td>19.330200</td>\n",
       "      <td>1.079755</td>\n",
       "      <td>999.814770</td>\n",
       "      <td>-400.200179</td>\n",
       "      <td>1600.059442</td>\n",
       "      <td>-450.619948</td>\n",
       "      <td>1600.012842</td>\n",
       "      <td>-449.910497</td>\n",
       "      <td>1597.725177</td>\n",
       "      <td>-450.130127</td>\n",
       "      <td>1400.943157</td>\n",
       "      <td>-450.030142</td>\n",
       "      <td>1400.234743</td>\n",
       "      <td>-449.790835</td>\n",
       "      <td>13.732071</td>\n",
       "      <td>4.482453</td>\n",
       "      <td>9.122857</td>\n",
       "      <td>2.322062</td>\n",
       "      <td>25.942508</td>\n",
       "      <td>-499.176749</td>\n",
       "      <td>23.955516</td>\n",
       "      <td>-499.848796</td>\n",
       "      <td>23.966838</td>\n",
       "      <td>-500.008812</td>\n",
       "      <td>23.954443</td>\n",
       "      <td>-499.944710</td>\n",
       "      <td>14.036510</td>\n",
       "      <td>-500.857308</td>\n",
       "      <td>11.999550</td>\n",
       "      <td>-501.193686</td>\n",
       "      <td>9.970366</td>\n",
       "      <td>-499.201640</td>\n",
       "      <td>7.977324</td>\n",
       "      <td>-500.255908</td>\n",
       "      <td>14.005551</td>\n",
       "      <td>-599.996129</td>\n",
       "    </tr>\n",
       "    <tr>\n",
       "      <th>4</th>\n",
       "      <td>2016-01-15 04:00:00</td>\n",
       "      <td>6.148599</td>\n",
       "      <td>10.142511</td>\n",
       "      <td>4.939416</td>\n",
       "      <td>42.774141</td>\n",
       "      <td>66.927016</td>\n",
       "      <td>10.360302</td>\n",
       "      <td>0.792826</td>\n",
       "      <td>16.525686</td>\n",
       "      <td>2.055292</td>\n",
       "      <td>117.988169</td>\n",
       "      <td>11.913613</td>\n",
       "      <td>7.25</td>\n",
       "      <td>1.009869</td>\n",
       "      <td>9.089428</td>\n",
       "      <td>9.986786</td>\n",
       "      <td>19.199864</td>\n",
       "      <td>33.044932</td>\n",
       "      <td>16.480185</td>\n",
       "      <td>3.112100</td>\n",
       "      <td>6.550154</td>\n",
       "      <td>2.277073</td>\n",
       "      <td>1601.339707</td>\n",
       "      <td>-498.975456</td>\n",
       "      <td>1601.437854</td>\n",
       "      <td>-500.323246</td>\n",
       "      <td>1599.581894</td>\n",
       "      <td>-500.888152</td>\n",
       "      <td>1602.649541</td>\n",
       "      <td>-500.593010</td>\n",
       "      <td>42125.354245</td>\n",
       "      <td>3494.800771</td>\n",
       "      <td>3506.679315</td>\n",
       "      <td>3.169615</td>\n",
       "      <td>6.060915</td>\n",
       "      <td>1.786875</td>\n",
       "      <td>540.531893</td>\n",
       "      <td>56.047189</td>\n",
       "      <td>34.347666</td>\n",
       "      <td>5.663707</td>\n",
       "      <td>10.957755</td>\n",
       "      <td>6.198826</td>\n",
       "      <td>10.960521</td>\n",
       "      <td>6.194897</td>\n",
       "      <td>12.411054</td>\n",
       "      <td>7.240205</td>\n",
       "      <td>27.041023</td>\n",
       "      <td>19.216101</td>\n",
       "      <td>86.688794</td>\n",
       "      <td>4.552800</td>\n",
       "      <td>0.515438</td>\n",
       "      <td>19.267422</td>\n",
       "      <td>1.012642</td>\n",
       "      <td>999.678690</td>\n",
       "      <td>-399.752729</td>\n",
       "      <td>1600.208824</td>\n",
       "      <td>-449.599614</td>\n",
       "      <td>1600.357732</td>\n",
       "      <td>-450.034364</td>\n",
       "      <td>1599.759049</td>\n",
       "      <td>-449.909799</td>\n",
       "      <td>1401.560902</td>\n",
       "      <td>-448.877187</td>\n",
       "      <td>1401.160227</td>\n",
       "      <td>-450.407128</td>\n",
       "      <td>14.079996</td>\n",
       "      <td>4.470737</td>\n",
       "      <td>8.871028</td>\n",
       "      <td>2.330448</td>\n",
       "      <td>26.024787</td>\n",
       "      <td>-500.279091</td>\n",
       "      <td>23.955345</td>\n",
       "      <td>-500.593614</td>\n",
       "      <td>23.985703</td>\n",
       "      <td>-500.083811</td>\n",
       "      <td>23.958945</td>\n",
       "      <td>-499.990309</td>\n",
       "      <td>14.027298</td>\n",
       "      <td>-499.838632</td>\n",
       "      <td>11.953070</td>\n",
       "      <td>-501.053894</td>\n",
       "      <td>9.925709</td>\n",
       "      <td>-501.686727</td>\n",
       "      <td>7.894242</td>\n",
       "      <td>-500.356035</td>\n",
       "      <td>13.996647</td>\n",
       "      <td>-601.496691</td>\n",
       "    </tr>\n",
       "  </tbody>\n",
       "</table>\n",
       "</div>"
      ],
      "text/plain": [
       "                  date  final.output.concentrate_ag  \\\n",
       "0  2016-01-15 00:00:00                     6.055403   \n",
       "1  2016-01-15 01:00:00                     6.029369   \n",
       "2  2016-01-15 02:00:00                     6.055926   \n",
       "3  2016-01-15 03:00:00                     6.047977   \n",
       "4  2016-01-15 04:00:00                     6.148599   \n",
       "\n",
       "   final.output.concentrate_pb  final.output.concentrate_sol  \\\n",
       "0                     9.889648                      5.507324   \n",
       "1                     9.968944                      5.257781   \n",
       "2                    10.213995                      5.383759   \n",
       "3                     9.977019                      4.858634   \n",
       "4                    10.142511                      4.939416   \n",
       "\n",
       "   final.output.concentrate_au  final.output.recovery  final.output.tail_ag  \\\n",
       "0                    42.192020              70.541216             10.411962   \n",
       "1                    42.701629              69.266198             10.462676   \n",
       "2                    42.657501              68.116445             10.507046   \n",
       "3                    42.689819              68.347543             10.422762   \n",
       "4                    42.774141              66.927016             10.360302   \n",
       "\n",
       "   final.output.tail_pb  final.output.tail_sol  final.output.tail_au  \\\n",
       "0              0.895447              16.904297              2.143149   \n",
       "1              0.927452              16.634514              2.224930   \n",
       "2              0.953716              16.208849              2.257889   \n",
       "3              0.883763              16.532835              2.146849   \n",
       "4              0.792826              16.525686              2.055292   \n",
       "\n",
       "   primary_cleaner.input.sulfate  primary_cleaner.input.depressant  \\\n",
       "0                     127.092003                         10.128295   \n",
       "1                     125.629232                         10.296251   \n",
       "2                     123.819808                         11.316280   \n",
       "3                     122.270188                         11.322140   \n",
       "4                     117.988169                         11.913613   \n",
       "\n",
       "   primary_cleaner.input.feed_size  primary_cleaner.input.xanthate  \\\n",
       "0                             7.25                        0.988759   \n",
       "1                             7.25                        1.002663   \n",
       "2                             7.25                        0.991265   \n",
       "3                             7.25                        0.996739   \n",
       "4                             7.25                        1.009869   \n",
       "\n",
       "   primary_cleaner.output.concentrate_ag  \\\n",
       "0                               8.547551   \n",
       "1                               8.558743   \n",
       "2                               8.603505   \n",
       "3                               7.221879   \n",
       "4                               9.089428   \n",
       "\n",
       "   primary_cleaner.output.concentrate_pb  \\\n",
       "0                              10.389648   \n",
       "1                              10.497069   \n",
       "2                              10.354494   \n",
       "3                               8.496563   \n",
       "4                               9.986786   \n",
       "\n",
       "   primary_cleaner.output.concentrate_sol  \\\n",
       "0                               19.529297   \n",
       "1                               19.369147   \n",
       "2                               19.167579   \n",
       "3                               15.978538   \n",
       "4                               19.199864   \n",
       "\n",
       "   primary_cleaner.output.concentrate_au  primary_cleaner.output.tail_ag  \\\n",
       "0                              34.174427                       14.936526   \n",
       "1                              34.118526                       16.250511   \n",
       "2                              33.969464                       16.491823   \n",
       "3                              28.260743                       16.024359   \n",
       "4                              33.044932                       16.480185   \n",
       "\n",
       "   primary_cleaner.output.tail_pb  primary_cleaner.output.tail_sol  \\\n",
       "0                        2.534912                         7.476074   \n",
       "1                        3.049646                         6.733907   \n",
       "2                        3.124664                         6.471768   \n",
       "3                        2.960362                         6.843791   \n",
       "4                        3.112100                         6.550154   \n",
       "\n",
       "   primary_cleaner.output.tail_au  primary_cleaner.state.floatbank8_a_air  \\\n",
       "0                        2.106679                             1549.775757   \n",
       "1                        2.353017                             1576.166671   \n",
       "2                        2.416800                             1601.556163   \n",
       "3                        2.262051                             1599.968720   \n",
       "4                        2.277073                             1601.339707   \n",
       "\n",
       "   primary_cleaner.state.floatbank8_a_level  \\\n",
       "0                               -498.912140   \n",
       "1                               -500.904965   \n",
       "2                               -499.997791   \n",
       "3                               -500.951778   \n",
       "4                               -498.975456   \n",
       "\n",
       "   primary_cleaner.state.floatbank8_b_air  \\\n",
       "0                             1551.434204   \n",
       "1                             1575.950626   \n",
       "2                             1600.386685   \n",
       "3                             1600.659236   \n",
       "4                             1601.437854   \n",
       "\n",
       "   primary_cleaner.state.floatbank8_b_level  \\\n",
       "0                               -516.403442   \n",
       "1                               -499.865889   \n",
       "2                               -500.607762   \n",
       "3                               -499.677094   \n",
       "4                               -500.323246   \n",
       "\n",
       "   primary_cleaner.state.floatbank8_c_air  \\\n",
       "0                             1549.873901   \n",
       "1                             1575.994189   \n",
       "2                             1602.003542   \n",
       "3                             1600.304144   \n",
       "4                             1599.581894   \n",
       "\n",
       "   primary_cleaner.state.floatbank8_c_level  \\\n",
       "0                               -498.666595   \n",
       "1                               -499.315107   \n",
       "2                               -500.870069   \n",
       "3                               -500.727997   \n",
       "4                               -500.888152   \n",
       "\n",
       "   primary_cleaner.state.floatbank8_d_air  \\\n",
       "0                             1554.367432   \n",
       "1                             1574.479259   \n",
       "2                             1599.541515   \n",
       "3                             1600.449520   \n",
       "4                             1602.649541   \n",
       "\n",
       "   primary_cleaner.state.floatbank8_d_level  \\\n",
       "0                               -493.428131   \n",
       "1                               -498.931665   \n",
       "2                               -499.827444   \n",
       "3                               -500.052575   \n",
       "4                               -500.593010   \n",
       "\n",
       "   rougher.calculation.sulfate_to_au_concentrate  \\\n",
       "0                                   41885.707031   \n",
       "1                                   42050.861809   \n",
       "2                                   42018.101184   \n",
       "3                                   42029.447991   \n",
       "4                                   42125.354245   \n",
       "\n",
       "   rougher.calculation.floatbank10_sulfate_to_au_feed  \\\n",
       "0                                        3481.779053    \n",
       "1                                        3498.370979    \n",
       "2                                        3495.348910    \n",
       "3                                        3498.578313    \n",
       "4                                        3494.800771    \n",
       "\n",
       "   rougher.calculation.floatbank11_sulfate_to_au_feed  \\\n",
       "0                                        3520.337158    \n",
       "1                                        3489.981857    \n",
       "2                                        3502.359819    \n",
       "3                                        3499.162912    \n",
       "4                                        3506.679315    \n",
       "\n",
       "   rougher.calculation.au_pb_ratio  rougher.input.feed_ag  \\\n",
       "0                         2.838687               6.100378   \n",
       "1                         2.858998               6.161113   \n",
       "2                         2.945989               6.116455   \n",
       "3                         3.002340               6.043309   \n",
       "4                         3.169615               6.060915   \n",
       "\n",
       "   rougher.input.feed_pb  rougher.input.feed_rate  rougher.input.feed_size  \\\n",
       "0               2.284912               523.546326                55.486599   \n",
       "1               2.266033               525.290581                57.278666   \n",
       "2               2.159622               530.026610                57.510649   \n",
       "3               2.037807               542.590390                57.792734   \n",
       "4               1.786875               540.531893                56.047189   \n",
       "\n",
       "   rougher.input.feed_sol  rougher.input.feed_au  \\\n",
       "0               36.808594               6.486150   \n",
       "1               35.753385               6.478583   \n",
       "2               35.971630               6.362222   \n",
       "3               36.862241               6.118189   \n",
       "4               34.347666               5.663707   \n",
       "\n",
       "   rougher.input.floatbank10_sulfate  rougher.input.floatbank10_xanthate  \\\n",
       "0                          11.986616                            6.007990   \n",
       "1                          11.971193                            6.005766   \n",
       "2                          11.920603                            6.197377   \n",
       "3                          11.630094                            6.203177   \n",
       "4                          10.957755                            6.198826   \n",
       "\n",
       "   rougher.input.floatbank11_sulfate  rougher.input.floatbank11_xanthate  \\\n",
       "0                          11.836743                            6.005818   \n",
       "1                          11.996163                            6.012594   \n",
       "2                          11.920305                            6.204633   \n",
       "3                          11.692450                            6.196578   \n",
       "4                          10.960521                            6.194897   \n",
       "\n",
       "   rougher.output.concentrate_ag  rougher.output.concentrate_pb  \\\n",
       "0                      11.500771                       7.101074   \n",
       "1                      11.615865                       7.278807   \n",
       "2                      11.695753                       7.216833   \n",
       "3                      11.915047                       7.175616   \n",
       "4                      12.411054                       7.240205   \n",
       "\n",
       "   rougher.output.concentrate_sol  rougher.output.concentrate_au  \\\n",
       "0                       28.029297                      19.793808   \n",
       "1                       28.067063                      20.050975   \n",
       "2                       27.454037                      19.737170   \n",
       "3                       27.341277                      19.320810   \n",
       "4                       27.041023                      19.216101   \n",
       "\n",
       "   rougher.output.recovery  rougher.output.tail_ag  rougher.output.tail_pb  \\\n",
       "0                87.107763                5.008018                0.508728   \n",
       "1                86.843261                4.955378                0.536689   \n",
       "2                86.842308                4.843460                0.546416   \n",
       "3                87.226430                4.655288                0.542525   \n",
       "4                86.688794                4.552800                0.515438   \n",
       "\n",
       "   rougher.output.tail_sol  rougher.output.tail_au  \\\n",
       "0                19.154297                1.170244   \n",
       "1                18.965234                1.184827   \n",
       "2                18.808533                1.162562   \n",
       "3                19.330200                1.079755   \n",
       "4                19.267422                1.012642   \n",
       "\n",
       "   rougher.state.floatbank10_a_air  rougher.state.floatbank10_a_level  \\\n",
       "0                       999.706909                        -404.066986   \n",
       "1                      1000.286398                        -400.065196   \n",
       "2                       999.719565                        -400.074028   \n",
       "3                       999.814770                        -400.200179   \n",
       "4                       999.678690                        -399.752729   \n",
       "\n",
       "   rougher.state.floatbank10_b_air  rougher.state.floatbank10_b_level  \\\n",
       "0                      1603.011353                        -434.715027   \n",
       "1                      1600.754587                        -449.953435   \n",
       "2                      1599.337330                        -450.008530   \n",
       "3                      1600.059442                        -450.619948   \n",
       "4                      1600.208824                        -449.599614   \n",
       "\n",
       "   rougher.state.floatbank10_c_air  rougher.state.floatbank10_c_level  \\\n",
       "0                      1602.375000                        -442.204468   \n",
       "1                      1600.479580                        -449.830646   \n",
       "2                      1599.672797                        -449.954491   \n",
       "3                      1600.012842                        -449.910497   \n",
       "4                      1600.357732                        -450.034364   \n",
       "\n",
       "   rougher.state.floatbank10_d_air  rougher.state.floatbank10_d_level  \\\n",
       "0                      1598.937256                        -451.294128   \n",
       "1                      1600.527589                        -449.953649   \n",
       "2                      1599.849325                        -449.954185   \n",
       "3                      1597.725177                        -450.130127   \n",
       "4                      1599.759049                        -449.909799   \n",
       "\n",
       "   rougher.state.floatbank10_e_air  rougher.state.floatbank10_e_level  \\\n",
       "0                      1404.472046                        -455.462982   \n",
       "1                      1399.227084                        -450.869848   \n",
       "2                      1399.180945                        -449.937588   \n",
       "3                      1400.943157                        -450.030142   \n",
       "4                      1401.560902                        -448.877187   \n",
       "\n",
       "   rougher.state.floatbank10_f_air  rougher.state.floatbank10_f_level  \\\n",
       "0                      1416.354980                        -451.939636   \n",
       "1                      1399.719514                        -450.119001   \n",
       "2                      1400.316682                        -450.527147   \n",
       "3                      1400.234743                        -449.790835   \n",
       "4                      1401.160227                        -450.407128   \n",
       "\n",
       "   secondary_cleaner.output.tail_ag  secondary_cleaner.output.tail_pb  \\\n",
       "0                         14.500184                          4.694824   \n",
       "1                         14.265474                          4.592547   \n",
       "2                         14.115662                          4.624775   \n",
       "3                         13.732071                          4.482453   \n",
       "4                         14.079996                          4.470737   \n",
       "\n",
       "   secondary_cleaner.output.tail_sol  secondary_cleaner.output.tail_au  \\\n",
       "0                           8.764648                          2.606185   \n",
       "1                           9.001494                          2.488248   \n",
       "2                           8.842896                          2.458187   \n",
       "3                           9.122857                          2.322062   \n",
       "4                           8.871028                          2.330448   \n",
       "\n",
       "   secondary_cleaner.state.floatbank2_a_air  \\\n",
       "0                                 25.853109   \n",
       "1                                 25.880539   \n",
       "2                                 26.005245   \n",
       "3                                 25.942508   \n",
       "4                                 26.024787   \n",
       "\n",
       "   secondary_cleaner.state.floatbank2_a_level  \\\n",
       "0                                 -498.526489   \n",
       "1                                 -499.989656   \n",
       "2                                 -499.929616   \n",
       "3                                 -499.176749   \n",
       "4                                 -500.279091   \n",
       "\n",
       "   secondary_cleaner.state.floatbank2_b_air  \\\n",
       "0                                 23.893660   \n",
       "1                                 23.889530   \n",
       "2                                 23.886657   \n",
       "3                                 23.955516   \n",
       "4                                 23.955345   \n",
       "\n",
       "   secondary_cleaner.state.floatbank2_b_level  \\\n",
       "0                                 -501.406281   \n",
       "1                                 -500.372428   \n",
       "2                                 -499.951928   \n",
       "3                                 -499.848796   \n",
       "4                                 -500.593614   \n",
       "\n",
       "   secondary_cleaner.state.floatbank3_a_air  \\\n",
       "0                                 23.961798   \n",
       "1                                 23.970550   \n",
       "2                                 23.913535   \n",
       "3                                 23.966838   \n",
       "4                                 23.985703   \n",
       "\n",
       "   secondary_cleaner.state.floatbank3_a_level  \\\n",
       "0                                 -495.262817   \n",
       "1                                 -500.085473   \n",
       "2                                 -499.442343   \n",
       "3                                 -500.008812   \n",
       "4                                 -500.083811   \n",
       "\n",
       "   secondary_cleaner.state.floatbank3_b_air  \\\n",
       "0                                 21.940409   \n",
       "1                                 22.085714   \n",
       "2                                 23.957717   \n",
       "3                                 23.954443   \n",
       "4                                 23.958945   \n",
       "\n",
       "   secondary_cleaner.state.floatbank3_b_level  \\\n",
       "0                                 -499.340973   \n",
       "1                                 -499.446897   \n",
       "2                                 -499.901982   \n",
       "3                                 -499.944710   \n",
       "4                                 -499.990309   \n",
       "\n",
       "   secondary_cleaner.state.floatbank4_a_air  \\\n",
       "0                                 14.016835   \n",
       "1                                 13.992281   \n",
       "2                                 14.015015   \n",
       "3                                 14.036510   \n",
       "4                                 14.027298   \n",
       "\n",
       "   secondary_cleaner.state.floatbank4_a_level  \\\n",
       "0                                 -502.488007   \n",
       "1                                 -505.503262   \n",
       "2                                 -502.520901   \n",
       "3                                 -500.857308   \n",
       "4                                 -499.838632   \n",
       "\n",
       "   secondary_cleaner.state.floatbank4_b_air  \\\n",
       "0                                 12.099931   \n",
       "1                                 11.950531   \n",
       "2                                 11.912783   \n",
       "3                                 11.999550   \n",
       "4                                 11.953070   \n",
       "\n",
       "   secondary_cleaner.state.floatbank4_b_level  \\\n",
       "0                                 -504.715942   \n",
       "1                                 -501.331529   \n",
       "2                                 -501.133383   \n",
       "3                                 -501.193686   \n",
       "4                                 -501.053894   \n",
       "\n",
       "   secondary_cleaner.state.floatbank5_a_air  \\\n",
       "0                                  9.925633   \n",
       "1                                 10.039245   \n",
       "2                                 10.070913   \n",
       "3                                  9.970366   \n",
       "4                                  9.925709   \n",
       "\n",
       "   secondary_cleaner.state.floatbank5_a_level  \\\n",
       "0                                 -498.310211   \n",
       "1                                 -500.169983   \n",
       "2                                 -500.129135   \n",
       "3                                 -499.201640   \n",
       "4                                 -501.686727   \n",
       "\n",
       "   secondary_cleaner.state.floatbank5_b_air  \\\n",
       "0                                  8.079666   \n",
       "1                                  7.984757   \n",
       "2                                  8.013877   \n",
       "3                                  7.977324   \n",
       "4                                  7.894242   \n",
       "\n",
       "   secondary_cleaner.state.floatbank5_b_level  \\\n",
       "0                                 -500.470978   \n",
       "1                                 -500.582168   \n",
       "2                                 -500.517572   \n",
       "3                                 -500.255908   \n",
       "4                                 -500.356035   \n",
       "\n",
       "   secondary_cleaner.state.floatbank6_a_air  \\\n",
       "0                                 14.151341   \n",
       "1                                 13.998353   \n",
       "2                                 14.028663   \n",
       "3                                 14.005551   \n",
       "4                                 13.996647   \n",
       "\n",
       "   secondary_cleaner.state.floatbank6_a_level  \n",
       "0                                 -605.841980  \n",
       "1                                 -599.787184  \n",
       "2                                 -601.427363  \n",
       "3                                 -599.996129  \n",
       "4                                 -601.496691  "
      ]
     },
     "metadata": {},
     "output_type": "display_data"
    },
    {
     "name": "stdout",
     "output_type": "stream",
     "text": [
      "\n",
      "<class 'pandas.core.frame.DataFrame'>\n",
      "RangeIndex: 14149 entries, 0 to 14148\n",
      "Data columns (total 87 columns):\n",
      " #   Column                                              Non-Null Count  Dtype  \n",
      "---  ------                                              --------------  -----  \n",
      " 0   date                                                14149 non-null  object \n",
      " 1   final.output.concentrate_ag                         14148 non-null  float64\n",
      " 2   final.output.concentrate_pb                         14148 non-null  float64\n",
      " 3   final.output.concentrate_sol                        13938 non-null  float64\n",
      " 4   final.output.concentrate_au                         14149 non-null  float64\n",
      " 5   final.output.recovery                               14149 non-null  float64\n",
      " 6   final.output.tail_ag                                14149 non-null  float64\n",
      " 7   final.output.tail_pb                                14049 non-null  float64\n",
      " 8   final.output.tail_sol                               14144 non-null  float64\n",
      " 9   final.output.tail_au                                14149 non-null  float64\n",
      " 10  primary_cleaner.input.sulfate                       14129 non-null  float64\n",
      " 11  primary_cleaner.input.depressant                    14117 non-null  float64\n",
      " 12  primary_cleaner.input.feed_size                     14149 non-null  float64\n",
      " 13  primary_cleaner.input.xanthate                      14049 non-null  float64\n",
      " 14  primary_cleaner.output.concentrate_ag               14149 non-null  float64\n",
      " 15  primary_cleaner.output.concentrate_pb               14063 non-null  float64\n",
      " 16  primary_cleaner.output.concentrate_sol              13863 non-null  float64\n",
      " 17  primary_cleaner.output.concentrate_au               14149 non-null  float64\n",
      " 18  primary_cleaner.output.tail_ag                      14148 non-null  float64\n",
      " 19  primary_cleaner.output.tail_pb                      14134 non-null  float64\n",
      " 20  primary_cleaner.output.tail_sol                     14103 non-null  float64\n",
      " 21  primary_cleaner.output.tail_au                      14149 non-null  float64\n",
      " 22  primary_cleaner.state.floatbank8_a_air              14145 non-null  float64\n",
      " 23  primary_cleaner.state.floatbank8_a_level            14148 non-null  float64\n",
      " 24  primary_cleaner.state.floatbank8_b_air              14145 non-null  float64\n",
      " 25  primary_cleaner.state.floatbank8_b_level            14148 non-null  float64\n",
      " 26  primary_cleaner.state.floatbank8_c_air              14147 non-null  float64\n",
      " 27  primary_cleaner.state.floatbank8_c_level            14148 non-null  float64\n",
      " 28  primary_cleaner.state.floatbank8_d_air              14146 non-null  float64\n",
      " 29  primary_cleaner.state.floatbank8_d_level            14148 non-null  float64\n",
      " 30  rougher.calculation.sulfate_to_au_concentrate       14148 non-null  float64\n",
      " 31  rougher.calculation.floatbank10_sulfate_to_au_feed  14148 non-null  float64\n",
      " 32  rougher.calculation.floatbank11_sulfate_to_au_feed  14148 non-null  float64\n",
      " 33  rougher.calculation.au_pb_ratio                     14149 non-null  float64\n",
      " 34  rougher.input.feed_ag                               14149 non-null  float64\n",
      " 35  rougher.input.feed_pb                               14049 non-null  float64\n",
      " 36  rougher.input.feed_rate                             14141 non-null  float64\n",
      " 37  rougher.input.feed_size                             14005 non-null  float64\n",
      " 38  rougher.input.feed_sol                              14071 non-null  float64\n",
      " 39  rougher.input.feed_au                               14149 non-null  float64\n",
      " 40  rougher.input.floatbank10_sulfate                   14120 non-null  float64\n",
      " 41  rougher.input.floatbank10_xanthate                  14141 non-null  float64\n",
      " 42  rougher.input.floatbank11_sulfate                   14113 non-null  float64\n",
      " 43  rougher.input.floatbank11_xanthate                  13721 non-null  float64\n",
      " 44  rougher.output.concentrate_ag                       14149 non-null  float64\n",
      " 45  rougher.output.concentrate_pb                       14149 non-null  float64\n",
      " 46  rougher.output.concentrate_sol                      14127 non-null  float64\n",
      " 47  rougher.output.concentrate_au                       14149 non-null  float64\n",
      " 48  rougher.output.recovery                             14149 non-null  float64\n",
      " 49  rougher.output.tail_ag                              14148 non-null  float64\n",
      " 50  rougher.output.tail_pb                              14149 non-null  float64\n",
      " 51  rougher.output.tail_sol                             14149 non-null  float64\n",
      " 52  rougher.output.tail_au                              14149 non-null  float64\n",
      " 53  rougher.state.floatbank10_a_air                     14148 non-null  float64\n",
      " 54  rougher.state.floatbank10_a_level                   14148 non-null  float64\n",
      " 55  rougher.state.floatbank10_b_air                     14148 non-null  float64\n",
      " 56  rougher.state.floatbank10_b_level                   14148 non-null  float64\n",
      " 57  rougher.state.floatbank10_c_air                     14148 non-null  float64\n",
      " 58  rougher.state.floatbank10_c_level                   14148 non-null  float64\n",
      " 59  rougher.state.floatbank10_d_air                     14149 non-null  float64\n",
      " 60  rougher.state.floatbank10_d_level                   14149 non-null  float64\n",
      " 61  rougher.state.floatbank10_e_air                     13713 non-null  float64\n",
      " 62  rougher.state.floatbank10_e_level                   14149 non-null  float64\n",
      " 63  rougher.state.floatbank10_f_air                     14149 non-null  float64\n",
      " 64  rougher.state.floatbank10_f_level                   14149 non-null  float64\n",
      " 65  secondary_cleaner.output.tail_ag                    14147 non-null  float64\n",
      " 66  secondary_cleaner.output.tail_pb                    14139 non-null  float64\n",
      " 67  secondary_cleaner.output.tail_sol                   12544 non-null  float64\n",
      " 68  secondary_cleaner.output.tail_au                    14149 non-null  float64\n",
      " 69  secondary_cleaner.state.floatbank2_a_air            13932 non-null  float64\n",
      " 70  secondary_cleaner.state.floatbank2_a_level          14148 non-null  float64\n",
      " 71  secondary_cleaner.state.floatbank2_b_air            14128 non-null  float64\n",
      " 72  secondary_cleaner.state.floatbank2_b_level          14148 non-null  float64\n",
      " 73  secondary_cleaner.state.floatbank3_a_air            14145 non-null  float64\n",
      " 74  secondary_cleaner.state.floatbank3_a_level          14148 non-null  float64\n",
      " 75  secondary_cleaner.state.floatbank3_b_air            14148 non-null  float64\n",
      " 76  secondary_cleaner.state.floatbank3_b_level          14148 non-null  float64\n",
      " 77  secondary_cleaner.state.floatbank4_a_air            14143 non-null  float64\n",
      " 78  secondary_cleaner.state.floatbank4_a_level          14148 non-null  float64\n",
      " 79  secondary_cleaner.state.floatbank4_b_air            14148 non-null  float64\n",
      " 80  secondary_cleaner.state.floatbank4_b_level          14148 non-null  float64\n",
      " 81  secondary_cleaner.state.floatbank5_a_air            14148 non-null  float64\n",
      " 82  secondary_cleaner.state.floatbank5_a_level          14148 non-null  float64\n",
      " 83  secondary_cleaner.state.floatbank5_b_air            14148 non-null  float64\n",
      " 84  secondary_cleaner.state.floatbank5_b_level          14148 non-null  float64\n",
      " 85  secondary_cleaner.state.floatbank6_a_air            14147 non-null  float64\n",
      " 86  secondary_cleaner.state.floatbank6_a_level          14148 non-null  float64\n",
      "dtypes: float64(86), object(1)\n",
      "memory usage: 9.4+ MB\n"
     ]
    },
    {
     "data": {
      "text/plain": [
       "None"
      ]
     },
     "metadata": {},
     "output_type": "display_data"
    },
    {
     "name": "stdout",
     "output_type": "stream",
     "text": [
      "\n",
      "Количество пропусков\n"
     ]
    },
    {
     "data": {
      "text/plain": [
       "final.output.concentrate_ag                              1\n",
       "final.output.concentrate_pb                              1\n",
       "final.output.concentrate_sol                           211\n",
       "final.output.tail_pb                                   100\n",
       "final.output.tail_sol                                    5\n",
       "primary_cleaner.input.sulfate                           20\n",
       "primary_cleaner.input.depressant                        32\n",
       "primary_cleaner.input.xanthate                         100\n",
       "primary_cleaner.output.concentrate_pb                   86\n",
       "primary_cleaner.output.concentrate_sol                 286\n",
       "primary_cleaner.output.tail_ag                           1\n",
       "primary_cleaner.output.tail_pb                          15\n",
       "primary_cleaner.output.tail_sol                         46\n",
       "primary_cleaner.state.floatbank8_a_air                   4\n",
       "primary_cleaner.state.floatbank8_a_level                 1\n",
       "primary_cleaner.state.floatbank8_b_air                   4\n",
       "primary_cleaner.state.floatbank8_b_level                 1\n",
       "primary_cleaner.state.floatbank8_c_air                   2\n",
       "primary_cleaner.state.floatbank8_c_level                 1\n",
       "primary_cleaner.state.floatbank8_d_air                   3\n",
       "primary_cleaner.state.floatbank8_d_level                 1\n",
       "rougher.calculation.sulfate_to_au_concentrate            1\n",
       "rougher.calculation.floatbank10_sulfate_to_au_feed       1\n",
       "rougher.calculation.floatbank11_sulfate_to_au_feed       1\n",
       "rougher.input.feed_pb                                  100\n",
       "rougher.input.feed_rate                                  8\n",
       "rougher.input.feed_size                                144\n",
       "rougher.input.feed_sol                                  78\n",
       "rougher.input.floatbank10_sulfate                       29\n",
       "rougher.input.floatbank10_xanthate                       8\n",
       "rougher.input.floatbank11_sulfate                       36\n",
       "rougher.input.floatbank11_xanthate                     428\n",
       "rougher.output.concentrate_sol                          22\n",
       "rougher.output.tail_ag                                   1\n",
       "rougher.state.floatbank10_a_air                          1\n",
       "rougher.state.floatbank10_a_level                        1\n",
       "rougher.state.floatbank10_b_air                          1\n",
       "rougher.state.floatbank10_b_level                        1\n",
       "rougher.state.floatbank10_c_air                          1\n",
       "rougher.state.floatbank10_c_level                        1\n",
       "rougher.state.floatbank10_e_air                        436\n",
       "secondary_cleaner.output.tail_ag                         2\n",
       "secondary_cleaner.output.tail_pb                        10\n",
       "secondary_cleaner.output.tail_sol                     1605\n",
       "secondary_cleaner.state.floatbank2_a_air               217\n",
       "secondary_cleaner.state.floatbank2_a_level               1\n",
       "secondary_cleaner.state.floatbank2_b_air                21\n",
       "secondary_cleaner.state.floatbank2_b_level               1\n",
       "secondary_cleaner.state.floatbank3_a_air                 4\n",
       "secondary_cleaner.state.floatbank3_a_level               1\n",
       "secondary_cleaner.state.floatbank3_b_air                 1\n",
       "secondary_cleaner.state.floatbank3_b_level               1\n",
       "secondary_cleaner.state.floatbank4_a_air                 6\n",
       "secondary_cleaner.state.floatbank4_a_level               1\n",
       "secondary_cleaner.state.floatbank4_b_air                 1\n",
       "secondary_cleaner.state.floatbank4_b_level               1\n",
       "secondary_cleaner.state.floatbank5_a_air                 1\n",
       "secondary_cleaner.state.floatbank5_a_level               1\n",
       "secondary_cleaner.state.floatbank5_b_air                 1\n",
       "secondary_cleaner.state.floatbank5_b_level               1\n",
       "secondary_cleaner.state.floatbank6_a_air                 2\n",
       "secondary_cleaner.state.floatbank6_a_level               1\n",
       "dtype: int64"
      ]
     },
     "metadata": {},
     "output_type": "display_data"
    },
    {
     "name": "stdout",
     "output_type": "stream",
     "text": [
      "\n"
     ]
    },
    {
     "data": {
      "text/html": [
       "<div>\n",
       "<style scoped>\n",
       "    .dataframe tbody tr th:only-of-type {\n",
       "        vertical-align: middle;\n",
       "    }\n",
       "\n",
       "    .dataframe tbody tr th {\n",
       "        vertical-align: top;\n",
       "    }\n",
       "\n",
       "    .dataframe thead th {\n",
       "        text-align: right;\n",
       "    }\n",
       "</style>\n",
       "<table border=\"1\" class=\"dataframe\">\n",
       "  <thead>\n",
       "    <tr style=\"text-align: right;\">\n",
       "      <th></th>\n",
       "      <th>final.output.concentrate_ag</th>\n",
       "      <th>final.output.concentrate_pb</th>\n",
       "      <th>final.output.concentrate_sol</th>\n",
       "      <th>final.output.concentrate_au</th>\n",
       "      <th>final.output.recovery</th>\n",
       "      <th>final.output.tail_ag</th>\n",
       "      <th>final.output.tail_pb</th>\n",
       "      <th>final.output.tail_sol</th>\n",
       "      <th>final.output.tail_au</th>\n",
       "      <th>primary_cleaner.input.sulfate</th>\n",
       "      <th>primary_cleaner.input.depressant</th>\n",
       "      <th>primary_cleaner.input.feed_size</th>\n",
       "      <th>primary_cleaner.input.xanthate</th>\n",
       "      <th>primary_cleaner.output.concentrate_ag</th>\n",
       "      <th>primary_cleaner.output.concentrate_pb</th>\n",
       "      <th>primary_cleaner.output.concentrate_sol</th>\n",
       "      <th>primary_cleaner.output.concentrate_au</th>\n",
       "      <th>primary_cleaner.output.tail_ag</th>\n",
       "      <th>primary_cleaner.output.tail_pb</th>\n",
       "      <th>primary_cleaner.output.tail_sol</th>\n",
       "      <th>primary_cleaner.output.tail_au</th>\n",
       "      <th>primary_cleaner.state.floatbank8_a_air</th>\n",
       "      <th>primary_cleaner.state.floatbank8_a_level</th>\n",
       "      <th>primary_cleaner.state.floatbank8_b_air</th>\n",
       "      <th>primary_cleaner.state.floatbank8_b_level</th>\n",
       "      <th>primary_cleaner.state.floatbank8_c_air</th>\n",
       "      <th>primary_cleaner.state.floatbank8_c_level</th>\n",
       "      <th>primary_cleaner.state.floatbank8_d_air</th>\n",
       "      <th>primary_cleaner.state.floatbank8_d_level</th>\n",
       "      <th>rougher.calculation.sulfate_to_au_concentrate</th>\n",
       "      <th>rougher.calculation.floatbank10_sulfate_to_au_feed</th>\n",
       "      <th>rougher.calculation.floatbank11_sulfate_to_au_feed</th>\n",
       "      <th>rougher.calculation.au_pb_ratio</th>\n",
       "      <th>rougher.input.feed_ag</th>\n",
       "      <th>rougher.input.feed_pb</th>\n",
       "      <th>rougher.input.feed_rate</th>\n",
       "      <th>rougher.input.feed_size</th>\n",
       "      <th>rougher.input.feed_sol</th>\n",
       "      <th>rougher.input.feed_au</th>\n",
       "      <th>rougher.input.floatbank10_sulfate</th>\n",
       "      <th>rougher.input.floatbank10_xanthate</th>\n",
       "      <th>rougher.input.floatbank11_sulfate</th>\n",
       "      <th>rougher.input.floatbank11_xanthate</th>\n",
       "      <th>rougher.output.concentrate_ag</th>\n",
       "      <th>rougher.output.concentrate_pb</th>\n",
       "      <th>rougher.output.concentrate_sol</th>\n",
       "      <th>rougher.output.concentrate_au</th>\n",
       "      <th>rougher.output.recovery</th>\n",
       "      <th>rougher.output.tail_ag</th>\n",
       "      <th>rougher.output.tail_pb</th>\n",
       "      <th>rougher.output.tail_sol</th>\n",
       "      <th>rougher.output.tail_au</th>\n",
       "      <th>rougher.state.floatbank10_a_air</th>\n",
       "      <th>rougher.state.floatbank10_a_level</th>\n",
       "      <th>rougher.state.floatbank10_b_air</th>\n",
       "      <th>rougher.state.floatbank10_b_level</th>\n",
       "      <th>rougher.state.floatbank10_c_air</th>\n",
       "      <th>rougher.state.floatbank10_c_level</th>\n",
       "      <th>rougher.state.floatbank10_d_air</th>\n",
       "      <th>rougher.state.floatbank10_d_level</th>\n",
       "      <th>rougher.state.floatbank10_e_air</th>\n",
       "      <th>rougher.state.floatbank10_e_level</th>\n",
       "      <th>rougher.state.floatbank10_f_air</th>\n",
       "      <th>rougher.state.floatbank10_f_level</th>\n",
       "      <th>secondary_cleaner.output.tail_ag</th>\n",
       "      <th>secondary_cleaner.output.tail_pb</th>\n",
       "      <th>secondary_cleaner.output.tail_sol</th>\n",
       "      <th>secondary_cleaner.output.tail_au</th>\n",
       "      <th>secondary_cleaner.state.floatbank2_a_air</th>\n",
       "      <th>secondary_cleaner.state.floatbank2_a_level</th>\n",
       "      <th>secondary_cleaner.state.floatbank2_b_air</th>\n",
       "      <th>secondary_cleaner.state.floatbank2_b_level</th>\n",
       "      <th>secondary_cleaner.state.floatbank3_a_air</th>\n",
       "      <th>secondary_cleaner.state.floatbank3_a_level</th>\n",
       "      <th>secondary_cleaner.state.floatbank3_b_air</th>\n",
       "      <th>secondary_cleaner.state.floatbank3_b_level</th>\n",
       "      <th>secondary_cleaner.state.floatbank4_a_air</th>\n",
       "      <th>secondary_cleaner.state.floatbank4_a_level</th>\n",
       "      <th>secondary_cleaner.state.floatbank4_b_air</th>\n",
       "      <th>secondary_cleaner.state.floatbank4_b_level</th>\n",
       "      <th>secondary_cleaner.state.floatbank5_a_air</th>\n",
       "      <th>secondary_cleaner.state.floatbank5_a_level</th>\n",
       "      <th>secondary_cleaner.state.floatbank5_b_air</th>\n",
       "      <th>secondary_cleaner.state.floatbank5_b_level</th>\n",
       "      <th>secondary_cleaner.state.floatbank6_a_air</th>\n",
       "      <th>secondary_cleaner.state.floatbank6_a_level</th>\n",
       "    </tr>\n",
       "  </thead>\n",
       "  <tbody>\n",
       "    <tr>\n",
       "      <th>count</th>\n",
       "      <td>14148.000000</td>\n",
       "      <td>14148.000000</td>\n",
       "      <td>13938.000000</td>\n",
       "      <td>14149.000000</td>\n",
       "      <td>14149.000000</td>\n",
       "      <td>14149.000000</td>\n",
       "      <td>14049.000000</td>\n",
       "      <td>14144.000000</td>\n",
       "      <td>14149.000000</td>\n",
       "      <td>14129.000000</td>\n",
       "      <td>14117.000000</td>\n",
       "      <td>14149.000000</td>\n",
       "      <td>14049.000000</td>\n",
       "      <td>14149.000000</td>\n",
       "      <td>14063.000000</td>\n",
       "      <td>13863.000000</td>\n",
       "      <td>14149.000000</td>\n",
       "      <td>14148.000000</td>\n",
       "      <td>14134.000000</td>\n",
       "      <td>14103.000000</td>\n",
       "      <td>14149.000000</td>\n",
       "      <td>14145.000000</td>\n",
       "      <td>14148.000000</td>\n",
       "      <td>14145.000000</td>\n",
       "      <td>14148.000000</td>\n",
       "      <td>14147.000000</td>\n",
       "      <td>14148.000000</td>\n",
       "      <td>14146.000000</td>\n",
       "      <td>14148.000000</td>\n",
       "      <td>1.414800e+04</td>\n",
       "      <td>14148.000000</td>\n",
       "      <td>14148.000000</td>\n",
       "      <td>14149.000000</td>\n",
       "      <td>14149.000000</td>\n",
       "      <td>14049.000000</td>\n",
       "      <td>14141.000000</td>\n",
       "      <td>14005.000000</td>\n",
       "      <td>14071.000000</td>\n",
       "      <td>14149.000000</td>\n",
       "      <td>14120.000000</td>\n",
       "      <td>14141.000000</td>\n",
       "      <td>14113.000000</td>\n",
       "      <td>13721.000000</td>\n",
       "      <td>14149.000000</td>\n",
       "      <td>14149.000000</td>\n",
       "      <td>14127.000000</td>\n",
       "      <td>14149.000000</td>\n",
       "      <td>14149.000000</td>\n",
       "      <td>14148.000000</td>\n",
       "      <td>14149.000000</td>\n",
       "      <td>14149.000000</td>\n",
       "      <td>14149.000000</td>\n",
       "      <td>14148.000000</td>\n",
       "      <td>14148.000000</td>\n",
       "      <td>14148.000000</td>\n",
       "      <td>14148.000000</td>\n",
       "      <td>14148.000000</td>\n",
       "      <td>14148.000000</td>\n",
       "      <td>14149.000000</td>\n",
       "      <td>14149.000000</td>\n",
       "      <td>13713.000000</td>\n",
       "      <td>14149.000000</td>\n",
       "      <td>14149.000000</td>\n",
       "      <td>14149.000000</td>\n",
       "      <td>14147.000000</td>\n",
       "      <td>14139.000000</td>\n",
       "      <td>12544.000000</td>\n",
       "      <td>14149.000000</td>\n",
       "      <td>13932.000000</td>\n",
       "      <td>14148.000000</td>\n",
       "      <td>14128.000000</td>\n",
       "      <td>14148.000000</td>\n",
       "      <td>14145.000000</td>\n",
       "      <td>14148.000000</td>\n",
       "      <td>14148.000000</td>\n",
       "      <td>14148.000000</td>\n",
       "      <td>14143.000000</td>\n",
       "      <td>14148.000000</td>\n",
       "      <td>14148.000000</td>\n",
       "      <td>14148.000000</td>\n",
       "      <td>14148.000000</td>\n",
       "      <td>14148.000000</td>\n",
       "      <td>14148.000000</td>\n",
       "      <td>14148.000000</td>\n",
       "      <td>14147.000000</td>\n",
       "      <td>14148.000000</td>\n",
       "    </tr>\n",
       "    <tr>\n",
       "      <th>mean</th>\n",
       "      <td>5.142034</td>\n",
       "      <td>10.132960</td>\n",
       "      <td>9.202849</td>\n",
       "      <td>44.003792</td>\n",
       "      <td>66.518832</td>\n",
       "      <td>9.607035</td>\n",
       "      <td>2.597298</td>\n",
       "      <td>10.512122</td>\n",
       "      <td>2.918421</td>\n",
       "      <td>133.320659</td>\n",
       "      <td>8.866996</td>\n",
       "      <td>7.322310</td>\n",
       "      <td>0.885588</td>\n",
       "      <td>8.200916</td>\n",
       "      <td>9.588862</td>\n",
       "      <td>10.114745</td>\n",
       "      <td>32.386836</td>\n",
       "      <td>16.303929</td>\n",
       "      <td>3.443398</td>\n",
       "      <td>7.533566</td>\n",
       "      <td>3.839637</td>\n",
       "      <td>1608.000064</td>\n",
       "      <td>-488.775525</td>\n",
       "      <td>1608.610983</td>\n",
       "      <td>-489.171786</td>\n",
       "      <td>1608.879407</td>\n",
       "      <td>-489.605549</td>\n",
       "      <td>1542.189963</td>\n",
       "      <td>-483.462423</td>\n",
       "      <td>4.038265e+04</td>\n",
       "      <td>3456.608298</td>\n",
       "      <td>3253.356387</td>\n",
       "      <td>2.367314</td>\n",
       "      <td>8.579195</td>\n",
       "      <td>3.522778</td>\n",
       "      <td>474.027714</td>\n",
       "      <td>60.110518</td>\n",
       "      <td>36.312593</td>\n",
       "      <td>7.866577</td>\n",
       "      <td>11.764931</td>\n",
       "      <td>5.854529</td>\n",
       "      <td>11.368685</td>\n",
       "      <td>5.894176</td>\n",
       "      <td>11.775812</td>\n",
       "      <td>7.664555</td>\n",
       "      <td>28.302715</td>\n",
       "      <td>19.439958</td>\n",
       "      <td>82.704502</td>\n",
       "      <td>5.567124</td>\n",
       "      <td>0.653277</td>\n",
       "      <td>17.882853</td>\n",
       "      <td>1.757473</td>\n",
       "      <td>1124.726280</td>\n",
       "      <td>-369.460950</td>\n",
       "      <td>1320.705069</td>\n",
       "      <td>-464.258983</td>\n",
       "      <td>1299.360578</td>\n",
       "      <td>-465.054849</td>\n",
       "      <td>1210.335236</td>\n",
       "      <td>-465.457377</td>\n",
       "      <td>1090.213187</td>\n",
       "      <td>-464.919119</td>\n",
       "      <td>1035.490299</td>\n",
       "      <td>-464.688631</td>\n",
       "      <td>14.281629</td>\n",
       "      <td>5.848863</td>\n",
       "      <td>6.938693</td>\n",
       "      <td>4.246961</td>\n",
       "      <td>29.613649</td>\n",
       "      <td>-502.223914</td>\n",
       "      <td>24.914403</td>\n",
       "      <td>-503.695706</td>\n",
       "      <td>29.243372</td>\n",
       "      <td>-478.244059</td>\n",
       "      <td>22.656261</td>\n",
       "      <td>-488.924046</td>\n",
       "      <td>19.985454</td>\n",
       "      <td>-478.696836</td>\n",
       "      <td>15.487065</td>\n",
       "      <td>-460.229416</td>\n",
       "      <td>16.775136</td>\n",
       "      <td>-483.956022</td>\n",
       "      <td>13.064590</td>\n",
       "      <td>-483.966564</td>\n",
       "      <td>19.577539</td>\n",
       "      <td>-506.798480</td>\n",
       "    </tr>\n",
       "    <tr>\n",
       "      <th>std</th>\n",
       "      <td>1.369586</td>\n",
       "      <td>1.654930</td>\n",
       "      <td>2.790516</td>\n",
       "      <td>4.905261</td>\n",
       "      <td>10.295402</td>\n",
       "      <td>2.319069</td>\n",
       "      <td>0.971843</td>\n",
       "      <td>3.003617</td>\n",
       "      <td>0.903712</td>\n",
       "      <td>39.431659</td>\n",
       "      <td>3.361589</td>\n",
       "      <td>0.614062</td>\n",
       "      <td>0.372714</td>\n",
       "      <td>2.005185</td>\n",
       "      <td>2.694296</td>\n",
       "      <td>4.064076</td>\n",
       "      <td>5.798843</td>\n",
       "      <td>3.739843</td>\n",
       "      <td>1.490106</td>\n",
       "      <td>2.133220</td>\n",
       "      <td>1.603544</td>\n",
       "      <td>128.394355</td>\n",
       "      <td>35.704184</td>\n",
       "      <td>131.112729</td>\n",
       "      <td>33.604449</td>\n",
       "      <td>134.266898</td>\n",
       "      <td>35.624002</td>\n",
       "      <td>278.316132</td>\n",
       "      <td>47.100934</td>\n",
       "      <td>3.801436e+05</td>\n",
       "      <td>5772.510248</td>\n",
       "      <td>6753.290662</td>\n",
       "      <td>0.873551</td>\n",
       "      <td>1.896284</td>\n",
       "      <td>1.073394</td>\n",
       "      <td>104.039838</td>\n",
       "      <td>22.418485</td>\n",
       "      <td>4.956057</td>\n",
       "      <td>1.919506</td>\n",
       "      <td>3.278813</td>\n",
       "      <td>1.104263</td>\n",
       "      <td>3.743672</td>\n",
       "      <td>1.124233</td>\n",
       "      <td>2.731747</td>\n",
       "      <td>1.856279</td>\n",
       "      <td>6.102982</td>\n",
       "      <td>3.765192</td>\n",
       "      <td>14.479156</td>\n",
       "      <td>1.039136</td>\n",
       "      <td>0.263766</td>\n",
       "      <td>3.432859</td>\n",
       "      <td>0.713187</td>\n",
       "      <td>169.310825</td>\n",
       "      <td>93.952787</td>\n",
       "      <td>183.155975</td>\n",
       "      <td>57.401954</td>\n",
       "      <td>213.404094</td>\n",
       "      <td>55.904716</td>\n",
       "      <td>210.431555</td>\n",
       "      <td>55.771393</td>\n",
       "      <td>184.610118</td>\n",
       "      <td>56.602962</td>\n",
       "      <td>175.052279</td>\n",
       "      <td>56.645965</td>\n",
       "      <td>4.477126</td>\n",
       "      <td>2.861799</td>\n",
       "      <td>4.155487</td>\n",
       "      <td>2.389060</td>\n",
       "      <td>5.800494</td>\n",
       "      <td>60.281705</td>\n",
       "      <td>5.994959</td>\n",
       "      <td>62.837357</td>\n",
       "      <td>5.637309</td>\n",
       "      <td>54.655143</td>\n",
       "      <td>4.996017</td>\n",
       "      <td>41.928112</td>\n",
       "      <td>5.657723</td>\n",
       "      <td>50.736021</td>\n",
       "      <td>5.255655</td>\n",
       "      <td>58.843586</td>\n",
       "      <td>5.831906</td>\n",
       "      <td>37.892788</td>\n",
       "      <td>5.765617</td>\n",
       "      <td>39.207913</td>\n",
       "      <td>5.764417</td>\n",
       "      <td>37.079249</td>\n",
       "    </tr>\n",
       "    <tr>\n",
       "      <th>min</th>\n",
       "      <td>0.000000</td>\n",
       "      <td>0.000000</td>\n",
       "      <td>0.000000</td>\n",
       "      <td>0.000000</td>\n",
       "      <td>0.000000</td>\n",
       "      <td>0.000000</td>\n",
       "      <td>0.000000</td>\n",
       "      <td>0.000000</td>\n",
       "      <td>0.000000</td>\n",
       "      <td>0.003112</td>\n",
       "      <td>0.000000</td>\n",
       "      <td>1.080000</td>\n",
       "      <td>0.000005</td>\n",
       "      <td>0.000000</td>\n",
       "      <td>0.000000</td>\n",
       "      <td>0.000000</td>\n",
       "      <td>0.000000</td>\n",
       "      <td>0.000000</td>\n",
       "      <td>0.000000</td>\n",
       "      <td>0.000000</td>\n",
       "      <td>0.000000</td>\n",
       "      <td>0.006352</td>\n",
       "      <td>-798.641662</td>\n",
       "      <td>0.008700</td>\n",
       "      <td>-740.122129</td>\n",
       "      <td>0.015159</td>\n",
       "      <td>-799.803073</td>\n",
       "      <td>0.008655</td>\n",
       "      <td>-799.788598</td>\n",
       "      <td>-4.223520e+07</td>\n",
       "      <td>-486.598675</td>\n",
       "      <td>-264.982785</td>\n",
       "      <td>-0.010548</td>\n",
       "      <td>0.010000</td>\n",
       "      <td>0.010000</td>\n",
       "      <td>0.012786</td>\n",
       "      <td>9.659576</td>\n",
       "      <td>0.010000</td>\n",
       "      <td>0.010000</td>\n",
       "      <td>0.001083</td>\n",
       "      <td>0.001428</td>\n",
       "      <td>0.000098</td>\n",
       "      <td>0.000290</td>\n",
       "      <td>0.000000</td>\n",
       "      <td>0.000000</td>\n",
       "      <td>0.000000</td>\n",
       "      <td>0.000000</td>\n",
       "      <td>0.000000</td>\n",
       "      <td>0.594562</td>\n",
       "      <td>0.007566</td>\n",
       "      <td>10.014648</td>\n",
       "      <td>0.020676</td>\n",
       "      <td>-0.041078</td>\n",
       "      <td>-650.202881</td>\n",
       "      <td>-0.653384</td>\n",
       "      <td>-650.260008</td>\n",
       "      <td>-0.035112</td>\n",
       "      <td>-640.995627</td>\n",
       "      <td>-0.554299</td>\n",
       "      <td>-640.519003</td>\n",
       "      <td>-1.970275</td>\n",
       "      <td>-649.443911</td>\n",
       "      <td>-2.430587</td>\n",
       "      <td>-649.880981</td>\n",
       "      <td>0.000000</td>\n",
       "      <td>0.000000</td>\n",
       "      <td>0.000000</td>\n",
       "      <td>0.000000</td>\n",
       "      <td>0.077503</td>\n",
       "      <td>-799.606441</td>\n",
       "      <td>0.000000</td>\n",
       "      <td>-799.873878</td>\n",
       "      <td>0.000000</td>\n",
       "      <td>-799.613013</td>\n",
       "      <td>0.000000</td>\n",
       "      <td>-759.177381</td>\n",
       "      <td>0.000000</td>\n",
       "      <td>-799.709069</td>\n",
       "      <td>0.000000</td>\n",
       "      <td>-799.889113</td>\n",
       "      <td>-0.372054</td>\n",
       "      <td>-797.142475</td>\n",
       "      <td>0.646208</td>\n",
       "      <td>-800.006180</td>\n",
       "      <td>0.195324</td>\n",
       "      <td>-809.398668</td>\n",
       "    </tr>\n",
       "    <tr>\n",
       "      <th>25%</th>\n",
       "      <td>4.211620</td>\n",
       "      <td>9.297355</td>\n",
       "      <td>7.484645</td>\n",
       "      <td>43.276111</td>\n",
       "      <td>62.545817</td>\n",
       "      <td>7.997429</td>\n",
       "      <td>1.905973</td>\n",
       "      <td>8.811324</td>\n",
       "      <td>2.368607</td>\n",
       "      <td>107.006651</td>\n",
       "      <td>6.040604</td>\n",
       "      <td>6.960000</td>\n",
       "      <td>0.607021</td>\n",
       "      <td>7.107126</td>\n",
       "      <td>8.333489</td>\n",
       "      <td>7.488139</td>\n",
       "      <td>30.857764</td>\n",
       "      <td>13.873147</td>\n",
       "      <td>2.420259</td>\n",
       "      <td>6.332548</td>\n",
       "      <td>2.867957</td>\n",
       "      <td>1595.695815</td>\n",
       "      <td>-500.287952</td>\n",
       "      <td>1558.959943</td>\n",
       "      <td>-500.375645</td>\n",
       "      <td>1549.871886</td>\n",
       "      <td>-500.601718</td>\n",
       "      <td>1452.678767</td>\n",
       "      <td>-500.459917</td>\n",
       "      <td>3.999430e+04</td>\n",
       "      <td>2527.093354</td>\n",
       "      <td>2512.200873</td>\n",
       "      <td>1.999588</td>\n",
       "      <td>7.132802</td>\n",
       "      <td>2.780010</td>\n",
       "      <td>420.781913</td>\n",
       "      <td>48.973027</td>\n",
       "      <td>34.117635</td>\n",
       "      <td>6.596217</td>\n",
       "      <td>9.861100</td>\n",
       "      <td>5.117359</td>\n",
       "      <td>9.505507</td>\n",
       "      <td>5.199168</td>\n",
       "      <td>10.486871</td>\n",
       "      <td>6.850501</td>\n",
       "      <td>26.703554</td>\n",
       "      <td>18.432161</td>\n",
       "      <td>79.993067</td>\n",
       "      <td>4.921647</td>\n",
       "      <td>0.474047</td>\n",
       "      <td>15.688727</td>\n",
       "      <td>1.310800</td>\n",
       "      <td>999.799166</td>\n",
       "      <td>-499.787867</td>\n",
       "      <td>1199.366448</td>\n",
       "      <td>-500.183028</td>\n",
       "      <td>1103.095071</td>\n",
       "      <td>-500.211863</td>\n",
       "      <td>1059.708509</td>\n",
       "      <td>-500.359197</td>\n",
       "      <td>997.183864</td>\n",
       "      <td>-500.250033</td>\n",
       "      <td>900.966986</td>\n",
       "      <td>-500.476526</td>\n",
       "      <td>12.177364</td>\n",
       "      <td>3.982298</td>\n",
       "      <td>3.225486</td>\n",
       "      <td>3.153122</td>\n",
       "      <td>25.099584</td>\n",
       "      <td>-500.248814</td>\n",
       "      <td>22.048294</td>\n",
       "      <td>-500.270997</td>\n",
       "      <td>24.991662</td>\n",
       "      <td>-500.175065</td>\n",
       "      <td>19.948436</td>\n",
       "      <td>-500.110581</td>\n",
       "      <td>14.990775</td>\n",
       "      <td>-500.628656</td>\n",
       "      <td>11.894558</td>\n",
       "      <td>-500.149000</td>\n",
       "      <td>11.083980</td>\n",
       "      <td>-500.363177</td>\n",
       "      <td>8.994405</td>\n",
       "      <td>-500.105994</td>\n",
       "      <td>14.989304</td>\n",
       "      <td>-500.745104</td>\n",
       "    </tr>\n",
       "    <tr>\n",
       "      <th>50%</th>\n",
       "      <td>4.994652</td>\n",
       "      <td>10.297144</td>\n",
       "      <td>8.845462</td>\n",
       "      <td>44.872436</td>\n",
       "      <td>67.432775</td>\n",
       "      <td>9.480270</td>\n",
       "      <td>2.592022</td>\n",
       "      <td>10.514621</td>\n",
       "      <td>2.851025</td>\n",
       "      <td>133.018328</td>\n",
       "      <td>8.035811</td>\n",
       "      <td>7.290000</td>\n",
       "      <td>0.888749</td>\n",
       "      <td>8.226247</td>\n",
       "      <td>9.933520</td>\n",
       "      <td>9.726566</td>\n",
       "      <td>33.225835</td>\n",
       "      <td>15.800604</td>\n",
       "      <td>3.218374</td>\n",
       "      <td>7.714419</td>\n",
       "      <td>3.510337</td>\n",
       "      <td>1601.824410</td>\n",
       "      <td>-499.909375</td>\n",
       "      <td>1601.818514</td>\n",
       "      <td>-499.938003</td>\n",
       "      <td>1601.574628</td>\n",
       "      <td>-499.871346</td>\n",
       "      <td>1600.168346</td>\n",
       "      <td>-499.831833</td>\n",
       "      <td>4.368431e+04</td>\n",
       "      <td>2975.892211</td>\n",
       "      <td>2899.807724</td>\n",
       "      <td>2.249275</td>\n",
       "      <td>8.156092</td>\n",
       "      <td>3.422677</td>\n",
       "      <td>499.454777</td>\n",
       "      <td>55.373885</td>\n",
       "      <td>37.020345</td>\n",
       "      <td>7.649138</td>\n",
       "      <td>11.688702</td>\n",
       "      <td>5.951071</td>\n",
       "      <td>11.384283</td>\n",
       "      <td>5.998460</td>\n",
       "      <td>11.747362</td>\n",
       "      <td>7.760435</td>\n",
       "      <td>29.257545</td>\n",
       "      <td>19.947312</td>\n",
       "      <td>85.299462</td>\n",
       "      <td>5.722018</td>\n",
       "      <td>0.625805</td>\n",
       "      <td>18.015894</td>\n",
       "      <td>1.745513</td>\n",
       "      <td>1001.685708</td>\n",
       "      <td>-300.175125</td>\n",
       "      <td>1301.365123</td>\n",
       "      <td>-499.764620</td>\n",
       "      <td>1300.213385</td>\n",
       "      <td>-499.682528</td>\n",
       "      <td>1200.744308</td>\n",
       "      <td>-499.465285</td>\n",
       "      <td>1050.496363</td>\n",
       "      <td>-499.611447</td>\n",
       "      <td>1000.053757</td>\n",
       "      <td>-499.364335</td>\n",
       "      <td>15.357951</td>\n",
       "      <td>5.442310</td>\n",
       "      <td>7.302639</td>\n",
       "      <td>3.980210</td>\n",
       "      <td>30.027721</td>\n",
       "      <td>-499.959206</td>\n",
       "      <td>27.022783</td>\n",
       "      <td>-500.014092</td>\n",
       "      <td>28.016530</td>\n",
       "      <td>-499.877837</td>\n",
       "      <td>22.037270</td>\n",
       "      <td>-499.966809</td>\n",
       "      <td>20.001789</td>\n",
       "      <td>-499.681450</td>\n",
       "      <td>14.975536</td>\n",
       "      <td>-499.388738</td>\n",
       "      <td>17.932223</td>\n",
       "      <td>-499.702452</td>\n",
       "      <td>11.997547</td>\n",
       "      <td>-499.914556</td>\n",
       "      <td>19.984175</td>\n",
       "      <td>-500.061431</td>\n",
       "    </tr>\n",
       "    <tr>\n",
       "      <th>75%</th>\n",
       "      <td>5.859540</td>\n",
       "      <td>11.170603</td>\n",
       "      <td>10.487508</td>\n",
       "      <td>46.166425</td>\n",
       "      <td>72.346428</td>\n",
       "      <td>11.003707</td>\n",
       "      <td>3.241723</td>\n",
       "      <td>11.933009</td>\n",
       "      <td>3.434764</td>\n",
       "      <td>159.825396</td>\n",
       "      <td>11.522173</td>\n",
       "      <td>7.700000</td>\n",
       "      <td>1.100933</td>\n",
       "      <td>9.504924</td>\n",
       "      <td>11.310817</td>\n",
       "      <td>13.052807</td>\n",
       "      <td>35.330145</td>\n",
       "      <td>18.450109</td>\n",
       "      <td>4.253218</td>\n",
       "      <td>8.910664</td>\n",
       "      <td>4.492470</td>\n",
       "      <td>1699.716408</td>\n",
       "      <td>-499.378551</td>\n",
       "      <td>1700.215351</td>\n",
       "      <td>-499.389658</td>\n",
       "      <td>1700.464037</td>\n",
       "      <td>-498.801774</td>\n",
       "      <td>1699.358771</td>\n",
       "      <td>-498.480341</td>\n",
       "      <td>4.776041e+04</td>\n",
       "      <td>3716.360822</td>\n",
       "      <td>3596.534806</td>\n",
       "      <td>2.660896</td>\n",
       "      <td>9.918304</td>\n",
       "      <td>4.226107</td>\n",
       "      <td>547.334973</td>\n",
       "      <td>66.080172</td>\n",
       "      <td>39.423265</td>\n",
       "      <td>9.066976</td>\n",
       "      <td>13.607115</td>\n",
       "      <td>6.602533</td>\n",
       "      <td>13.497134</td>\n",
       "      <td>6.699006</td>\n",
       "      <td>13.426419</td>\n",
       "      <td>8.601927</td>\n",
       "      <td>31.743913</td>\n",
       "      <td>21.392714</td>\n",
       "      <td>90.165021</td>\n",
       "      <td>6.310633</td>\n",
       "      <td>0.794326</td>\n",
       "      <td>19.938672</td>\n",
       "      <td>2.186790</td>\n",
       "      <td>1299.505513</td>\n",
       "      <td>-299.963153</td>\n",
       "      <td>1449.553689</td>\n",
       "      <td>-400.425493</td>\n",
       "      <td>1450.350668</td>\n",
       "      <td>-400.664736</td>\n",
       "      <td>1344.378462</td>\n",
       "      <td>-401.052891</td>\n",
       "      <td>1200.047746</td>\n",
       "      <td>-400.596104</td>\n",
       "      <td>1100.165435</td>\n",
       "      <td>-401.014951</td>\n",
       "      <td>17.230151</td>\n",
       "      <td>7.797948</td>\n",
       "      <td>10.547068</td>\n",
       "      <td>4.883943</td>\n",
       "      <td>34.893057</td>\n",
       "      <td>-499.593198</td>\n",
       "      <td>28.939454</td>\n",
       "      <td>-499.764112</td>\n",
       "      <td>34.990095</td>\n",
       "      <td>-436.923166</td>\n",
       "      <td>25.970365</td>\n",
       "      <td>-499.757501</td>\n",
       "      <td>24.990826</td>\n",
       "      <td>-477.472413</td>\n",
       "      <td>20.059375</td>\n",
       "      <td>-400.039008</td>\n",
       "      <td>21.346550</td>\n",
       "      <td>-487.712108</td>\n",
       "      <td>17.982903</td>\n",
       "      <td>-453.186936</td>\n",
       "      <td>24.991623</td>\n",
       "      <td>-499.536466</td>\n",
       "    </tr>\n",
       "    <tr>\n",
       "      <th>max</th>\n",
       "      <td>16.001945</td>\n",
       "      <td>17.031899</td>\n",
       "      <td>18.124851</td>\n",
       "      <td>52.756638</td>\n",
       "      <td>100.000000</td>\n",
       "      <td>19.552149</td>\n",
       "      <td>5.639565</td>\n",
       "      <td>22.317730</td>\n",
       "      <td>8.197408</td>\n",
       "      <td>250.127834</td>\n",
       "      <td>20.052255</td>\n",
       "      <td>10.470000</td>\n",
       "      <td>2.512968</td>\n",
       "      <td>16.081632</td>\n",
       "      <td>17.081278</td>\n",
       "      <td>22.280845</td>\n",
       "      <td>45.933934</td>\n",
       "      <td>29.459575</td>\n",
       "      <td>9.634565</td>\n",
       "      <td>20.620833</td>\n",
       "      <td>17.788925</td>\n",
       "      <td>2079.531340</td>\n",
       "      <td>-330.134203</td>\n",
       "      <td>2114.906758</td>\n",
       "      <td>-347.354380</td>\n",
       "      <td>2013.156457</td>\n",
       "      <td>-346.653450</td>\n",
       "      <td>2398.903635</td>\n",
       "      <td>-30.601828</td>\n",
       "      <td>3.428099e+06</td>\n",
       "      <td>629638.977914</td>\n",
       "      <td>718684.955855</td>\n",
       "      <td>39.379272</td>\n",
       "      <td>14.596026</td>\n",
       "      <td>7.142594</td>\n",
       "      <td>717.508837</td>\n",
       "      <td>484.967466</td>\n",
       "      <td>48.363177</td>\n",
       "      <td>13.126043</td>\n",
       "      <td>36.118275</td>\n",
       "      <td>9.703448</td>\n",
       "      <td>37.980648</td>\n",
       "      <td>9.698407</td>\n",
       "      <td>24.480271</td>\n",
       "      <td>13.617072</td>\n",
       "      <td>38.351193</td>\n",
       "      <td>28.146838</td>\n",
       "      <td>100.000000</td>\n",
       "      <td>12.719177</td>\n",
       "      <td>3.778064</td>\n",
       "      <td>66.117188</td>\n",
       "      <td>9.688980</td>\n",
       "      <td>1521.980372</td>\n",
       "      <td>-281.039299</td>\n",
       "      <td>1809.194008</td>\n",
       "      <td>-296.383080</td>\n",
       "      <td>2499.129174</td>\n",
       "      <td>-292.155509</td>\n",
       "      <td>1817.199290</td>\n",
       "      <td>-208.330673</td>\n",
       "      <td>1922.636637</td>\n",
       "      <td>-272.199598</td>\n",
       "      <td>1706.307502</td>\n",
       "      <td>-191.718480</td>\n",
       "      <td>23.264738</td>\n",
       "      <td>17.042505</td>\n",
       "      <td>17.976171</td>\n",
       "      <td>26.811643</td>\n",
       "      <td>52.651399</td>\n",
       "      <td>-127.875565</td>\n",
       "      <td>35.152122</td>\n",
       "      <td>-212.064665</td>\n",
       "      <td>44.260464</td>\n",
       "      <td>-191.678810</td>\n",
       "      <td>35.072841</td>\n",
       "      <td>-159.742331</td>\n",
       "      <td>30.115735</td>\n",
       "      <td>-245.239184</td>\n",
       "      <td>24.007913</td>\n",
       "      <td>-145.071088</td>\n",
       "      <td>43.709931</td>\n",
       "      <td>-275.073125</td>\n",
       "      <td>27.926001</td>\n",
       "      <td>-157.396071</td>\n",
       "      <td>32.188906</td>\n",
       "      <td>-104.427459</td>\n",
       "    </tr>\n",
       "  </tbody>\n",
       "</table>\n",
       "</div>"
      ],
      "text/plain": [
       "       final.output.concentrate_ag  final.output.concentrate_pb  \\\n",
       "count                 14148.000000                 14148.000000   \n",
       "mean                      5.142034                    10.132960   \n",
       "std                       1.369586                     1.654930   \n",
       "min                       0.000000                     0.000000   \n",
       "25%                       4.211620                     9.297355   \n",
       "50%                       4.994652                    10.297144   \n",
       "75%                       5.859540                    11.170603   \n",
       "max                      16.001945                    17.031899   \n",
       "\n",
       "       final.output.concentrate_sol  final.output.concentrate_au  \\\n",
       "count                  13938.000000                 14149.000000   \n",
       "mean                       9.202849                    44.003792   \n",
       "std                        2.790516                     4.905261   \n",
       "min                        0.000000                     0.000000   \n",
       "25%                        7.484645                    43.276111   \n",
       "50%                        8.845462                    44.872436   \n",
       "75%                       10.487508                    46.166425   \n",
       "max                       18.124851                    52.756638   \n",
       "\n",
       "       final.output.recovery  final.output.tail_ag  final.output.tail_pb  \\\n",
       "count           14149.000000          14149.000000          14049.000000   \n",
       "mean               66.518832              9.607035              2.597298   \n",
       "std                10.295402              2.319069              0.971843   \n",
       "min                 0.000000              0.000000              0.000000   \n",
       "25%                62.545817              7.997429              1.905973   \n",
       "50%                67.432775              9.480270              2.592022   \n",
       "75%                72.346428             11.003707              3.241723   \n",
       "max               100.000000             19.552149              5.639565   \n",
       "\n",
       "       final.output.tail_sol  final.output.tail_au  \\\n",
       "count           14144.000000          14149.000000   \n",
       "mean               10.512122              2.918421   \n",
       "std                 3.003617              0.903712   \n",
       "min                 0.000000              0.000000   \n",
       "25%                 8.811324              2.368607   \n",
       "50%                10.514621              2.851025   \n",
       "75%                11.933009              3.434764   \n",
       "max                22.317730              8.197408   \n",
       "\n",
       "       primary_cleaner.input.sulfate  primary_cleaner.input.depressant  \\\n",
       "count                   14129.000000                      14117.000000   \n",
       "mean                      133.320659                          8.866996   \n",
       "std                        39.431659                          3.361589   \n",
       "min                         0.003112                          0.000000   \n",
       "25%                       107.006651                          6.040604   \n",
       "50%                       133.018328                          8.035811   \n",
       "75%                       159.825396                         11.522173   \n",
       "max                       250.127834                         20.052255   \n",
       "\n",
       "       primary_cleaner.input.feed_size  primary_cleaner.input.xanthate  \\\n",
       "count                     14149.000000                    14049.000000   \n",
       "mean                          7.322310                        0.885588   \n",
       "std                           0.614062                        0.372714   \n",
       "min                           1.080000                        0.000005   \n",
       "25%                           6.960000                        0.607021   \n",
       "50%                           7.290000                        0.888749   \n",
       "75%                           7.700000                        1.100933   \n",
       "max                          10.470000                        2.512968   \n",
       "\n",
       "       primary_cleaner.output.concentrate_ag  \\\n",
       "count                           14149.000000   \n",
       "mean                                8.200916   \n",
       "std                                 2.005185   \n",
       "min                                 0.000000   \n",
       "25%                                 7.107126   \n",
       "50%                                 8.226247   \n",
       "75%                                 9.504924   \n",
       "max                                16.081632   \n",
       "\n",
       "       primary_cleaner.output.concentrate_pb  \\\n",
       "count                           14063.000000   \n",
       "mean                                9.588862   \n",
       "std                                 2.694296   \n",
       "min                                 0.000000   \n",
       "25%                                 8.333489   \n",
       "50%                                 9.933520   \n",
       "75%                                11.310817   \n",
       "max                                17.081278   \n",
       "\n",
       "       primary_cleaner.output.concentrate_sol  \\\n",
       "count                            13863.000000   \n",
       "mean                                10.114745   \n",
       "std                                  4.064076   \n",
       "min                                  0.000000   \n",
       "25%                                  7.488139   \n",
       "50%                                  9.726566   \n",
       "75%                                 13.052807   \n",
       "max                                 22.280845   \n",
       "\n",
       "       primary_cleaner.output.concentrate_au  primary_cleaner.output.tail_ag  \\\n",
       "count                           14149.000000                    14148.000000   \n",
       "mean                               32.386836                       16.303929   \n",
       "std                                 5.798843                        3.739843   \n",
       "min                                 0.000000                        0.000000   \n",
       "25%                                30.857764                       13.873147   \n",
       "50%                                33.225835                       15.800604   \n",
       "75%                                35.330145                       18.450109   \n",
       "max                                45.933934                       29.459575   \n",
       "\n",
       "       primary_cleaner.output.tail_pb  primary_cleaner.output.tail_sol  \\\n",
       "count                    14134.000000                     14103.000000   \n",
       "mean                         3.443398                         7.533566   \n",
       "std                          1.490106                         2.133220   \n",
       "min                          0.000000                         0.000000   \n",
       "25%                          2.420259                         6.332548   \n",
       "50%                          3.218374                         7.714419   \n",
       "75%                          4.253218                         8.910664   \n",
       "max                          9.634565                        20.620833   \n",
       "\n",
       "       primary_cleaner.output.tail_au  primary_cleaner.state.floatbank8_a_air  \\\n",
       "count                    14149.000000                            14145.000000   \n",
       "mean                         3.839637                             1608.000064   \n",
       "std                          1.603544                              128.394355   \n",
       "min                          0.000000                                0.006352   \n",
       "25%                          2.867957                             1595.695815   \n",
       "50%                          3.510337                             1601.824410   \n",
       "75%                          4.492470                             1699.716408   \n",
       "max                         17.788925                             2079.531340   \n",
       "\n",
       "       primary_cleaner.state.floatbank8_a_level  \\\n",
       "count                              14148.000000   \n",
       "mean                                -488.775525   \n",
       "std                                   35.704184   \n",
       "min                                 -798.641662   \n",
       "25%                                 -500.287952   \n",
       "50%                                 -499.909375   \n",
       "75%                                 -499.378551   \n",
       "max                                 -330.134203   \n",
       "\n",
       "       primary_cleaner.state.floatbank8_b_air  \\\n",
       "count                            14145.000000   \n",
       "mean                              1608.610983   \n",
       "std                                131.112729   \n",
       "min                                  0.008700   \n",
       "25%                               1558.959943   \n",
       "50%                               1601.818514   \n",
       "75%                               1700.215351   \n",
       "max                               2114.906758   \n",
       "\n",
       "       primary_cleaner.state.floatbank8_b_level  \\\n",
       "count                              14148.000000   \n",
       "mean                                -489.171786   \n",
       "std                                   33.604449   \n",
       "min                                 -740.122129   \n",
       "25%                                 -500.375645   \n",
       "50%                                 -499.938003   \n",
       "75%                                 -499.389658   \n",
       "max                                 -347.354380   \n",
       "\n",
       "       primary_cleaner.state.floatbank8_c_air  \\\n",
       "count                            14147.000000   \n",
       "mean                              1608.879407   \n",
       "std                                134.266898   \n",
       "min                                  0.015159   \n",
       "25%                               1549.871886   \n",
       "50%                               1601.574628   \n",
       "75%                               1700.464037   \n",
       "max                               2013.156457   \n",
       "\n",
       "       primary_cleaner.state.floatbank8_c_level  \\\n",
       "count                              14148.000000   \n",
       "mean                                -489.605549   \n",
       "std                                   35.624002   \n",
       "min                                 -799.803073   \n",
       "25%                                 -500.601718   \n",
       "50%                                 -499.871346   \n",
       "75%                                 -498.801774   \n",
       "max                                 -346.653450   \n",
       "\n",
       "       primary_cleaner.state.floatbank8_d_air  \\\n",
       "count                            14146.000000   \n",
       "mean                              1542.189963   \n",
       "std                                278.316132   \n",
       "min                                  0.008655   \n",
       "25%                               1452.678767   \n",
       "50%                               1600.168346   \n",
       "75%                               1699.358771   \n",
       "max                               2398.903635   \n",
       "\n",
       "       primary_cleaner.state.floatbank8_d_level  \\\n",
       "count                              14148.000000   \n",
       "mean                                -483.462423   \n",
       "std                                   47.100934   \n",
       "min                                 -799.788598   \n",
       "25%                                 -500.459917   \n",
       "50%                                 -499.831833   \n",
       "75%                                 -498.480341   \n",
       "max                                  -30.601828   \n",
       "\n",
       "       rougher.calculation.sulfate_to_au_concentrate  \\\n",
       "count                                   1.414800e+04   \n",
       "mean                                    4.038265e+04   \n",
       "std                                     3.801436e+05   \n",
       "min                                    -4.223520e+07   \n",
       "25%                                     3.999430e+04   \n",
       "50%                                     4.368431e+04   \n",
       "75%                                     4.776041e+04   \n",
       "max                                     3.428099e+06   \n",
       "\n",
       "       rougher.calculation.floatbank10_sulfate_to_au_feed  \\\n",
       "count                                       14148.000000    \n",
       "mean                                         3456.608298    \n",
       "std                                          5772.510248    \n",
       "min                                          -486.598675    \n",
       "25%                                          2527.093354    \n",
       "50%                                          2975.892211    \n",
       "75%                                          3716.360822    \n",
       "max                                        629638.977914    \n",
       "\n",
       "       rougher.calculation.floatbank11_sulfate_to_au_feed  \\\n",
       "count                                       14148.000000    \n",
       "mean                                         3253.356387    \n",
       "std                                          6753.290662    \n",
       "min                                          -264.982785    \n",
       "25%                                          2512.200873    \n",
       "50%                                          2899.807724    \n",
       "75%                                          3596.534806    \n",
       "max                                        718684.955855    \n",
       "\n",
       "       rougher.calculation.au_pb_ratio  rougher.input.feed_ag  \\\n",
       "count                     14149.000000           14149.000000   \n",
       "mean                          2.367314               8.579195   \n",
       "std                           0.873551               1.896284   \n",
       "min                          -0.010548               0.010000   \n",
       "25%                           1.999588               7.132802   \n",
       "50%                           2.249275               8.156092   \n",
       "75%                           2.660896               9.918304   \n",
       "max                          39.379272              14.596026   \n",
       "\n",
       "       rougher.input.feed_pb  rougher.input.feed_rate  \\\n",
       "count           14049.000000             14141.000000   \n",
       "mean                3.522778               474.027714   \n",
       "std                 1.073394               104.039838   \n",
       "min                 0.010000                 0.012786   \n",
       "25%                 2.780010               420.781913   \n",
       "50%                 3.422677               499.454777   \n",
       "75%                 4.226107               547.334973   \n",
       "max                 7.142594               717.508837   \n",
       "\n",
       "       rougher.input.feed_size  rougher.input.feed_sol  rougher.input.feed_au  \\\n",
       "count             14005.000000            14071.000000           14149.000000   \n",
       "mean                 60.110518               36.312593               7.866577   \n",
       "std                  22.418485                4.956057               1.919506   \n",
       "min                   9.659576                0.010000               0.010000   \n",
       "25%                  48.973027               34.117635               6.596217   \n",
       "50%                  55.373885               37.020345               7.649138   \n",
       "75%                  66.080172               39.423265               9.066976   \n",
       "max                 484.967466               48.363177              13.126043   \n",
       "\n",
       "       rougher.input.floatbank10_sulfate  rougher.input.floatbank10_xanthate  \\\n",
       "count                       14120.000000                        14141.000000   \n",
       "mean                           11.764931                            5.854529   \n",
       "std                             3.278813                            1.104263   \n",
       "min                             0.001083                            0.001428   \n",
       "25%                             9.861100                            5.117359   \n",
       "50%                            11.688702                            5.951071   \n",
       "75%                            13.607115                            6.602533   \n",
       "max                            36.118275                            9.703448   \n",
       "\n",
       "       rougher.input.floatbank11_sulfate  rougher.input.floatbank11_xanthate  \\\n",
       "count                       14113.000000                        13721.000000   \n",
       "mean                           11.368685                            5.894176   \n",
       "std                             3.743672                            1.124233   \n",
       "min                             0.000098                            0.000290   \n",
       "25%                             9.505507                            5.199168   \n",
       "50%                            11.384283                            5.998460   \n",
       "75%                            13.497134                            6.699006   \n",
       "max                            37.980648                            9.698407   \n",
       "\n",
       "       rougher.output.concentrate_ag  rougher.output.concentrate_pb  \\\n",
       "count                   14149.000000                   14149.000000   \n",
       "mean                       11.775812                       7.664555   \n",
       "std                         2.731747                       1.856279   \n",
       "min                         0.000000                       0.000000   \n",
       "25%                        10.486871                       6.850501   \n",
       "50%                        11.747362                       7.760435   \n",
       "75%                        13.426419                       8.601927   \n",
       "max                        24.480271                      13.617072   \n",
       "\n",
       "       rougher.output.concentrate_sol  rougher.output.concentrate_au  \\\n",
       "count                    14127.000000                   14149.000000   \n",
       "mean                        28.302715                      19.439958   \n",
       "std                          6.102982                       3.765192   \n",
       "min                          0.000000                       0.000000   \n",
       "25%                         26.703554                      18.432161   \n",
       "50%                         29.257545                      19.947312   \n",
       "75%                         31.743913                      21.392714   \n",
       "max                         38.351193                      28.146838   \n",
       "\n",
       "       rougher.output.recovery  rougher.output.tail_ag  \\\n",
       "count             14149.000000            14148.000000   \n",
       "mean                 82.704502                5.567124   \n",
       "std                  14.479156                1.039136   \n",
       "min                   0.000000                0.594562   \n",
       "25%                  79.993067                4.921647   \n",
       "50%                  85.299462                5.722018   \n",
       "75%                  90.165021                6.310633   \n",
       "max                 100.000000               12.719177   \n",
       "\n",
       "       rougher.output.tail_pb  rougher.output.tail_sol  \\\n",
       "count            14149.000000             14149.000000   \n",
       "mean                 0.653277                17.882853   \n",
       "std                  0.263766                 3.432859   \n",
       "min                  0.007566                10.014648   \n",
       "25%                  0.474047                15.688727   \n",
       "50%                  0.625805                18.015894   \n",
       "75%                  0.794326                19.938672   \n",
       "max                  3.778064                66.117188   \n",
       "\n",
       "       rougher.output.tail_au  rougher.state.floatbank10_a_air  \\\n",
       "count            14149.000000                     14148.000000   \n",
       "mean                 1.757473                      1124.726280   \n",
       "std                  0.713187                       169.310825   \n",
       "min                  0.020676                        -0.041078   \n",
       "25%                  1.310800                       999.799166   \n",
       "50%                  1.745513                      1001.685708   \n",
       "75%                  2.186790                      1299.505513   \n",
       "max                  9.688980                      1521.980372   \n",
       "\n",
       "       rougher.state.floatbank10_a_level  rougher.state.floatbank10_b_air  \\\n",
       "count                       14148.000000                     14148.000000   \n",
       "mean                         -369.460950                      1320.705069   \n",
       "std                            93.952787                       183.155975   \n",
       "min                          -650.202881                        -0.653384   \n",
       "25%                          -499.787867                      1199.366448   \n",
       "50%                          -300.175125                      1301.365123   \n",
       "75%                          -299.963153                      1449.553689   \n",
       "max                          -281.039299                      1809.194008   \n",
       "\n",
       "       rougher.state.floatbank10_b_level  rougher.state.floatbank10_c_air  \\\n",
       "count                       14148.000000                     14148.000000   \n",
       "mean                         -464.258983                      1299.360578   \n",
       "std                            57.401954                       213.404094   \n",
       "min                          -650.260008                        -0.035112   \n",
       "25%                          -500.183028                      1103.095071   \n",
       "50%                          -499.764620                      1300.213385   \n",
       "75%                          -400.425493                      1450.350668   \n",
       "max                          -296.383080                      2499.129174   \n",
       "\n",
       "       rougher.state.floatbank10_c_level  rougher.state.floatbank10_d_air  \\\n",
       "count                       14148.000000                     14149.000000   \n",
       "mean                         -465.054849                      1210.335236   \n",
       "std                            55.904716                       210.431555   \n",
       "min                          -640.995627                        -0.554299   \n",
       "25%                          -500.211863                      1059.708509   \n",
       "50%                          -499.682528                      1200.744308   \n",
       "75%                          -400.664736                      1344.378462   \n",
       "max                          -292.155509                      1817.199290   \n",
       "\n",
       "       rougher.state.floatbank10_d_level  rougher.state.floatbank10_e_air  \\\n",
       "count                       14149.000000                     13713.000000   \n",
       "mean                         -465.457377                      1090.213187   \n",
       "std                            55.771393                       184.610118   \n",
       "min                          -640.519003                        -1.970275   \n",
       "25%                          -500.359197                       997.183864   \n",
       "50%                          -499.465285                      1050.496363   \n",
       "75%                          -401.052891                      1200.047746   \n",
       "max                          -208.330673                      1922.636637   \n",
       "\n",
       "       rougher.state.floatbank10_e_level  rougher.state.floatbank10_f_air  \\\n",
       "count                       14149.000000                     14149.000000   \n",
       "mean                         -464.919119                      1035.490299   \n",
       "std                            56.602962                       175.052279   \n",
       "min                          -649.443911                        -2.430587   \n",
       "25%                          -500.250033                       900.966986   \n",
       "50%                          -499.611447                      1000.053757   \n",
       "75%                          -400.596104                      1100.165435   \n",
       "max                          -272.199598                      1706.307502   \n",
       "\n",
       "       rougher.state.floatbank10_f_level  secondary_cleaner.output.tail_ag  \\\n",
       "count                       14149.000000                      14147.000000   \n",
       "mean                         -464.688631                         14.281629   \n",
       "std                            56.645965                          4.477126   \n",
       "min                          -649.880981                          0.000000   \n",
       "25%                          -500.476526                         12.177364   \n",
       "50%                          -499.364335                         15.357951   \n",
       "75%                          -401.014951                         17.230151   \n",
       "max                          -191.718480                         23.264738   \n",
       "\n",
       "       secondary_cleaner.output.tail_pb  secondary_cleaner.output.tail_sol  \\\n",
       "count                      14139.000000                       12544.000000   \n",
       "mean                           5.848863                           6.938693   \n",
       "std                            2.861799                           4.155487   \n",
       "min                            0.000000                           0.000000   \n",
       "25%                            3.982298                           3.225486   \n",
       "50%                            5.442310                           7.302639   \n",
       "75%                            7.797948                          10.547068   \n",
       "max                           17.042505                          17.976171   \n",
       "\n",
       "       secondary_cleaner.output.tail_au  \\\n",
       "count                      14149.000000   \n",
       "mean                           4.246961   \n",
       "std                            2.389060   \n",
       "min                            0.000000   \n",
       "25%                            3.153122   \n",
       "50%                            3.980210   \n",
       "75%                            4.883943   \n",
       "max                           26.811643   \n",
       "\n",
       "       secondary_cleaner.state.floatbank2_a_air  \\\n",
       "count                              13932.000000   \n",
       "mean                                  29.613649   \n",
       "std                                    5.800494   \n",
       "min                                    0.077503   \n",
       "25%                                   25.099584   \n",
       "50%                                   30.027721   \n",
       "75%                                   34.893057   \n",
       "max                                   52.651399   \n",
       "\n",
       "       secondary_cleaner.state.floatbank2_a_level  \\\n",
       "count                                14148.000000   \n",
       "mean                                  -502.223914   \n",
       "std                                     60.281705   \n",
       "min                                   -799.606441   \n",
       "25%                                   -500.248814   \n",
       "50%                                   -499.959206   \n",
       "75%                                   -499.593198   \n",
       "max                                   -127.875565   \n",
       "\n",
       "       secondary_cleaner.state.floatbank2_b_air  \\\n",
       "count                              14128.000000   \n",
       "mean                                  24.914403   \n",
       "std                                    5.994959   \n",
       "min                                    0.000000   \n",
       "25%                                   22.048294   \n",
       "50%                                   27.022783   \n",
       "75%                                   28.939454   \n",
       "max                                   35.152122   \n",
       "\n",
       "       secondary_cleaner.state.floatbank2_b_level  \\\n",
       "count                                14148.000000   \n",
       "mean                                  -503.695706   \n",
       "std                                     62.837357   \n",
       "min                                   -799.873878   \n",
       "25%                                   -500.270997   \n",
       "50%                                   -500.014092   \n",
       "75%                                   -499.764112   \n",
       "max                                   -212.064665   \n",
       "\n",
       "       secondary_cleaner.state.floatbank3_a_air  \\\n",
       "count                              14145.000000   \n",
       "mean                                  29.243372   \n",
       "std                                    5.637309   \n",
       "min                                    0.000000   \n",
       "25%                                   24.991662   \n",
       "50%                                   28.016530   \n",
       "75%                                   34.990095   \n",
       "max                                   44.260464   \n",
       "\n",
       "       secondary_cleaner.state.floatbank3_a_level  \\\n",
       "count                                14148.000000   \n",
       "mean                                  -478.244059   \n",
       "std                                     54.655143   \n",
       "min                                   -799.613013   \n",
       "25%                                   -500.175065   \n",
       "50%                                   -499.877837   \n",
       "75%                                   -436.923166   \n",
       "max                                   -191.678810   \n",
       "\n",
       "       secondary_cleaner.state.floatbank3_b_air  \\\n",
       "count                              14148.000000   \n",
       "mean                                  22.656261   \n",
       "std                                    4.996017   \n",
       "min                                    0.000000   \n",
       "25%                                   19.948436   \n",
       "50%                                   22.037270   \n",
       "75%                                   25.970365   \n",
       "max                                   35.072841   \n",
       "\n",
       "       secondary_cleaner.state.floatbank3_b_level  \\\n",
       "count                                14148.000000   \n",
       "mean                                  -488.924046   \n",
       "std                                     41.928112   \n",
       "min                                   -759.177381   \n",
       "25%                                   -500.110581   \n",
       "50%                                   -499.966809   \n",
       "75%                                   -499.757501   \n",
       "max                                   -159.742331   \n",
       "\n",
       "       secondary_cleaner.state.floatbank4_a_air  \\\n",
       "count                              14143.000000   \n",
       "mean                                  19.985454   \n",
       "std                                    5.657723   \n",
       "min                                    0.000000   \n",
       "25%                                   14.990775   \n",
       "50%                                   20.001789   \n",
       "75%                                   24.990826   \n",
       "max                                   30.115735   \n",
       "\n",
       "       secondary_cleaner.state.floatbank4_a_level  \\\n",
       "count                                14148.000000   \n",
       "mean                                  -478.696836   \n",
       "std                                     50.736021   \n",
       "min                                   -799.709069   \n",
       "25%                                   -500.628656   \n",
       "50%                                   -499.681450   \n",
       "75%                                   -477.472413   \n",
       "max                                   -245.239184   \n",
       "\n",
       "       secondary_cleaner.state.floatbank4_b_air  \\\n",
       "count                              14148.000000   \n",
       "mean                                  15.487065   \n",
       "std                                    5.255655   \n",
       "min                                    0.000000   \n",
       "25%                                   11.894558   \n",
       "50%                                   14.975536   \n",
       "75%                                   20.059375   \n",
       "max                                   24.007913   \n",
       "\n",
       "       secondary_cleaner.state.floatbank4_b_level  \\\n",
       "count                                14148.000000   \n",
       "mean                                  -460.229416   \n",
       "std                                     58.843586   \n",
       "min                                   -799.889113   \n",
       "25%                                   -500.149000   \n",
       "50%                                   -499.388738   \n",
       "75%                                   -400.039008   \n",
       "max                                   -145.071088   \n",
       "\n",
       "       secondary_cleaner.state.floatbank5_a_air  \\\n",
       "count                              14148.000000   \n",
       "mean                                  16.775136   \n",
       "std                                    5.831906   \n",
       "min                                   -0.372054   \n",
       "25%                                   11.083980   \n",
       "50%                                   17.932223   \n",
       "75%                                   21.346550   \n",
       "max                                   43.709931   \n",
       "\n",
       "       secondary_cleaner.state.floatbank5_a_level  \\\n",
       "count                                14148.000000   \n",
       "mean                                  -483.956022   \n",
       "std                                     37.892788   \n",
       "min                                   -797.142475   \n",
       "25%                                   -500.363177   \n",
       "50%                                   -499.702452   \n",
       "75%                                   -487.712108   \n",
       "max                                   -275.073125   \n",
       "\n",
       "       secondary_cleaner.state.floatbank5_b_air  \\\n",
       "count                              14148.000000   \n",
       "mean                                  13.064590   \n",
       "std                                    5.765617   \n",
       "min                                    0.646208   \n",
       "25%                                    8.994405   \n",
       "50%                                   11.997547   \n",
       "75%                                   17.982903   \n",
       "max                                   27.926001   \n",
       "\n",
       "       secondary_cleaner.state.floatbank5_b_level  \\\n",
       "count                                14148.000000   \n",
       "mean                                  -483.966564   \n",
       "std                                     39.207913   \n",
       "min                                   -800.006180   \n",
       "25%                                   -500.105994   \n",
       "50%                                   -499.914556   \n",
       "75%                                   -453.186936   \n",
       "max                                   -157.396071   \n",
       "\n",
       "       secondary_cleaner.state.floatbank6_a_air  \\\n",
       "count                              14147.000000   \n",
       "mean                                  19.577539   \n",
       "std                                    5.764417   \n",
       "min                                    0.195324   \n",
       "25%                                   14.989304   \n",
       "50%                                   19.984175   \n",
       "75%                                   24.991623   \n",
       "max                                   32.188906   \n",
       "\n",
       "       secondary_cleaner.state.floatbank6_a_level  \n",
       "count                                14148.000000  \n",
       "mean                                  -506.798480  \n",
       "std                                     37.079249  \n",
       "min                                   -809.398668  \n",
       "25%                                   -500.745104  \n",
       "50%                                   -500.061431  \n",
       "75%                                   -499.536466  \n",
       "max                                   -104.427459  "
      ]
     },
     "metadata": {},
     "output_type": "display_data"
    },
    {
     "name": "stdout",
     "output_type": "stream",
     "text": [
      "\n",
      "Количество явных дубликатов в таблице\n",
      "\n"
     ]
    },
    {
     "data": {
      "text/plain": [
       "0"
      ]
     },
     "metadata": {},
     "output_type": "display_data"
    }
   ],
   "source": [
    "info(train_data)"
   ]
  },
  {
   "cell_type": "markdown",
   "metadata": {},
   "source": [
    "В обучающей выборке количество колонок как и в исходных данных 86, а количество строк уже меньше и составляет 14149. Большинство колонок содержат небольшое количесво пропусков. Явных дубликатов в таблице нет."
   ]
  },
  {
   "cell_type": "code",
   "execution_count": 6,
   "metadata": {},
   "outputs": [
    {
     "data": {
      "text/html": [
       "<div>\n",
       "<style scoped>\n",
       "    .dataframe tbody tr th:only-of-type {\n",
       "        vertical-align: middle;\n",
       "    }\n",
       "\n",
       "    .dataframe tbody tr th {\n",
       "        vertical-align: top;\n",
       "    }\n",
       "\n",
       "    .dataframe thead th {\n",
       "        text-align: right;\n",
       "    }\n",
       "</style>\n",
       "<table border=\"1\" class=\"dataframe\">\n",
       "  <thead>\n",
       "    <tr style=\"text-align: right;\">\n",
       "      <th></th>\n",
       "      <th>date</th>\n",
       "      <th>primary_cleaner.input.sulfate</th>\n",
       "      <th>primary_cleaner.input.depressant</th>\n",
       "      <th>primary_cleaner.input.feed_size</th>\n",
       "      <th>primary_cleaner.input.xanthate</th>\n",
       "      <th>primary_cleaner.state.floatbank8_a_air</th>\n",
       "      <th>primary_cleaner.state.floatbank8_a_level</th>\n",
       "      <th>primary_cleaner.state.floatbank8_b_air</th>\n",
       "      <th>primary_cleaner.state.floatbank8_b_level</th>\n",
       "      <th>primary_cleaner.state.floatbank8_c_air</th>\n",
       "      <th>primary_cleaner.state.floatbank8_c_level</th>\n",
       "      <th>primary_cleaner.state.floatbank8_d_air</th>\n",
       "      <th>primary_cleaner.state.floatbank8_d_level</th>\n",
       "      <th>rougher.input.feed_ag</th>\n",
       "      <th>rougher.input.feed_pb</th>\n",
       "      <th>rougher.input.feed_rate</th>\n",
       "      <th>rougher.input.feed_size</th>\n",
       "      <th>rougher.input.feed_sol</th>\n",
       "      <th>rougher.input.feed_au</th>\n",
       "      <th>rougher.input.floatbank10_sulfate</th>\n",
       "      <th>rougher.input.floatbank10_xanthate</th>\n",
       "      <th>rougher.input.floatbank11_sulfate</th>\n",
       "      <th>rougher.input.floatbank11_xanthate</th>\n",
       "      <th>rougher.state.floatbank10_a_air</th>\n",
       "      <th>rougher.state.floatbank10_a_level</th>\n",
       "      <th>rougher.state.floatbank10_b_air</th>\n",
       "      <th>rougher.state.floatbank10_b_level</th>\n",
       "      <th>rougher.state.floatbank10_c_air</th>\n",
       "      <th>rougher.state.floatbank10_c_level</th>\n",
       "      <th>rougher.state.floatbank10_d_air</th>\n",
       "      <th>rougher.state.floatbank10_d_level</th>\n",
       "      <th>rougher.state.floatbank10_e_air</th>\n",
       "      <th>rougher.state.floatbank10_e_level</th>\n",
       "      <th>rougher.state.floatbank10_f_air</th>\n",
       "      <th>rougher.state.floatbank10_f_level</th>\n",
       "      <th>secondary_cleaner.state.floatbank2_a_air</th>\n",
       "      <th>secondary_cleaner.state.floatbank2_a_level</th>\n",
       "      <th>secondary_cleaner.state.floatbank2_b_air</th>\n",
       "      <th>secondary_cleaner.state.floatbank2_b_level</th>\n",
       "      <th>secondary_cleaner.state.floatbank3_a_air</th>\n",
       "      <th>secondary_cleaner.state.floatbank3_a_level</th>\n",
       "      <th>secondary_cleaner.state.floatbank3_b_air</th>\n",
       "      <th>secondary_cleaner.state.floatbank3_b_level</th>\n",
       "      <th>secondary_cleaner.state.floatbank4_a_air</th>\n",
       "      <th>secondary_cleaner.state.floatbank4_a_level</th>\n",
       "      <th>secondary_cleaner.state.floatbank4_b_air</th>\n",
       "      <th>secondary_cleaner.state.floatbank4_b_level</th>\n",
       "      <th>secondary_cleaner.state.floatbank5_a_air</th>\n",
       "      <th>secondary_cleaner.state.floatbank5_a_level</th>\n",
       "      <th>secondary_cleaner.state.floatbank5_b_air</th>\n",
       "      <th>secondary_cleaner.state.floatbank5_b_level</th>\n",
       "      <th>secondary_cleaner.state.floatbank6_a_air</th>\n",
       "      <th>secondary_cleaner.state.floatbank6_a_level</th>\n",
       "    </tr>\n",
       "  </thead>\n",
       "  <tbody>\n",
       "    <tr>\n",
       "      <th>0</th>\n",
       "      <td>2016-09-01 00:59:59</td>\n",
       "      <td>210.800909</td>\n",
       "      <td>14.993118</td>\n",
       "      <td>8.080000</td>\n",
       "      <td>1.005021</td>\n",
       "      <td>1398.981301</td>\n",
       "      <td>-500.225577</td>\n",
       "      <td>1399.144926</td>\n",
       "      <td>-499.919735</td>\n",
       "      <td>1400.102998</td>\n",
       "      <td>-500.704369</td>\n",
       "      <td>1399.001695</td>\n",
       "      <td>-499.485144</td>\n",
       "      <td>13.128569</td>\n",
       "      <td>5.636710</td>\n",
       "      <td>489.793655</td>\n",
       "      <td>62.710452</td>\n",
       "      <td>42.022440</td>\n",
       "      <td>12.084103</td>\n",
       "      <td>16.922877</td>\n",
       "      <td>6.153479</td>\n",
       "      <td>16.867518</td>\n",
       "      <td>6.150709</td>\n",
       "      <td>1001.849317</td>\n",
       "      <td>-350.301265</td>\n",
       "      <td>1249.738612</td>\n",
       "      <td>-399.107531</td>\n",
       "      <td>1249.750520</td>\n",
       "      <td>-399.396730</td>\n",
       "      <td>1198.287855</td>\n",
       "      <td>-399.488594</td>\n",
       "      <td>999.472250</td>\n",
       "      <td>-399.530962</td>\n",
       "      <td>949.566189</td>\n",
       "      <td>-398.180807</td>\n",
       "      <td>24.938200</td>\n",
       "      <td>-500.490963</td>\n",
       "      <td>14.947607</td>\n",
       "      <td>-500.013837</td>\n",
       "      <td>20.018166</td>\n",
       "      <td>-450.395995</td>\n",
       "      <td>13.987058</td>\n",
       "      <td>-449.831513</td>\n",
       "      <td>12.023554</td>\n",
       "      <td>-497.795834</td>\n",
       "      <td>8.016656</td>\n",
       "      <td>-501.289139</td>\n",
       "      <td>7.946562</td>\n",
       "      <td>-432.317850</td>\n",
       "      <td>4.872511</td>\n",
       "      <td>-500.037437</td>\n",
       "      <td>26.705889</td>\n",
       "      <td>-499.709414</td>\n",
       "    </tr>\n",
       "    <tr>\n",
       "      <th>1</th>\n",
       "      <td>2016-09-01 01:59:59</td>\n",
       "      <td>215.392455</td>\n",
       "      <td>14.987471</td>\n",
       "      <td>8.080000</td>\n",
       "      <td>0.990469</td>\n",
       "      <td>1398.777912</td>\n",
       "      <td>-500.057435</td>\n",
       "      <td>1398.055362</td>\n",
       "      <td>-499.778182</td>\n",
       "      <td>1396.151033</td>\n",
       "      <td>-499.240168</td>\n",
       "      <td>1399.508091</td>\n",
       "      <td>-500.416324</td>\n",
       "      <td>13.036280</td>\n",
       "      <td>5.526065</td>\n",
       "      <td>490.104534</td>\n",
       "      <td>61.961163</td>\n",
       "      <td>41.187903</td>\n",
       "      <td>11.918977</td>\n",
       "      <td>17.002532</td>\n",
       "      <td>5.999043</td>\n",
       "      <td>16.996063</td>\n",
       "      <td>6.002315</td>\n",
       "      <td>998.690785</td>\n",
       "      <td>-350.425704</td>\n",
       "      <td>1248.395457</td>\n",
       "      <td>-399.946025</td>\n",
       "      <td>1249.514451</td>\n",
       "      <td>-399.630810</td>\n",
       "      <td>1200.506459</td>\n",
       "      <td>-399.942434</td>\n",
       "      <td>1000.002114</td>\n",
       "      <td>-399.491528</td>\n",
       "      <td>950.200009</td>\n",
       "      <td>-405.787514</td>\n",
       "      <td>24.923466</td>\n",
       "      <td>-499.813963</td>\n",
       "      <td>14.930873</td>\n",
       "      <td>-500.764452</td>\n",
       "      <td>19.988503</td>\n",
       "      <td>-450.114024</td>\n",
       "      <td>14.092981</td>\n",
       "      <td>-450.059163</td>\n",
       "      <td>12.058140</td>\n",
       "      <td>-498.695773</td>\n",
       "      <td>8.130979</td>\n",
       "      <td>-499.634209</td>\n",
       "      <td>7.958270</td>\n",
       "      <td>-525.839648</td>\n",
       "      <td>4.878850</td>\n",
       "      <td>-500.162375</td>\n",
       "      <td>25.019940</td>\n",
       "      <td>-499.819438</td>\n",
       "    </tr>\n",
       "    <tr>\n",
       "      <th>2</th>\n",
       "      <td>2016-09-01 02:59:59</td>\n",
       "      <td>215.259946</td>\n",
       "      <td>12.884934</td>\n",
       "      <td>7.786667</td>\n",
       "      <td>0.996043</td>\n",
       "      <td>1398.493666</td>\n",
       "      <td>-500.868360</td>\n",
       "      <td>1398.860436</td>\n",
       "      <td>-499.764529</td>\n",
       "      <td>1398.075709</td>\n",
       "      <td>-502.151509</td>\n",
       "      <td>1399.497088</td>\n",
       "      <td>-499.715479</td>\n",
       "      <td>13.138412</td>\n",
       "      <td>5.426561</td>\n",
       "      <td>489.617969</td>\n",
       "      <td>66.903807</td>\n",
       "      <td>42.546294</td>\n",
       "      <td>12.091332</td>\n",
       "      <td>16.992520</td>\n",
       "      <td>5.850632</td>\n",
       "      <td>16.982096</td>\n",
       "      <td>5.853594</td>\n",
       "      <td>998.516720</td>\n",
       "      <td>-349.783538</td>\n",
       "      <td>1247.440748</td>\n",
       "      <td>-400.264330</td>\n",
       "      <td>1248.207204</td>\n",
       "      <td>-401.074405</td>\n",
       "      <td>1199.770026</td>\n",
       "      <td>-400.790582</td>\n",
       "      <td>999.925519</td>\n",
       "      <td>-399.236999</td>\n",
       "      <td>950.320481</td>\n",
       "      <td>-400.864340</td>\n",
       "      <td>24.908732</td>\n",
       "      <td>-500.304035</td>\n",
       "      <td>14.996511</td>\n",
       "      <td>-500.993821</td>\n",
       "      <td>20.039689</td>\n",
       "      <td>-450.263164</td>\n",
       "      <td>14.077881</td>\n",
       "      <td>-449.660997</td>\n",
       "      <td>11.962366</td>\n",
       "      <td>-498.767484</td>\n",
       "      <td>8.096893</td>\n",
       "      <td>-500.827423</td>\n",
       "      <td>8.071056</td>\n",
       "      <td>-500.801673</td>\n",
       "      <td>4.905125</td>\n",
       "      <td>-499.828510</td>\n",
       "      <td>24.994862</td>\n",
       "      <td>-500.622559</td>\n",
       "    </tr>\n",
       "    <tr>\n",
       "      <th>3</th>\n",
       "      <td>2016-09-01 03:59:59</td>\n",
       "      <td>215.336236</td>\n",
       "      <td>12.006805</td>\n",
       "      <td>7.640000</td>\n",
       "      <td>0.863514</td>\n",
       "      <td>1399.618111</td>\n",
       "      <td>-498.863574</td>\n",
       "      <td>1397.440120</td>\n",
       "      <td>-499.211024</td>\n",
       "      <td>1400.129303</td>\n",
       "      <td>-498.355873</td>\n",
       "      <td>1401.065165</td>\n",
       "      <td>-501.038738</td>\n",
       "      <td>12.400507</td>\n",
       "      <td>5.114758</td>\n",
       "      <td>476.618130</td>\n",
       "      <td>59.865919</td>\n",
       "      <td>41.060195</td>\n",
       "      <td>12.181597</td>\n",
       "      <td>16.532144</td>\n",
       "      <td>5.801935</td>\n",
       "      <td>16.515277</td>\n",
       "      <td>5.803657</td>\n",
       "      <td>1000.276604</td>\n",
       "      <td>-350.172597</td>\n",
       "      <td>1251.322675</td>\n",
       "      <td>-398.655289</td>\n",
       "      <td>1250.493702</td>\n",
       "      <td>-399.746728</td>\n",
       "      <td>1199.398691</td>\n",
       "      <td>-397.503052</td>\n",
       "      <td>1001.930679</td>\n",
       "      <td>-400.437573</td>\n",
       "      <td>950.735324</td>\n",
       "      <td>-399.802986</td>\n",
       "      <td>24.893998</td>\n",
       "      <td>-499.382374</td>\n",
       "      <td>14.916674</td>\n",
       "      <td>-499.862299</td>\n",
       "      <td>20.031100</td>\n",
       "      <td>-449.372570</td>\n",
       "      <td>14.013968</td>\n",
       "      <td>-449.526900</td>\n",
       "      <td>12.033091</td>\n",
       "      <td>-498.350935</td>\n",
       "      <td>8.074946</td>\n",
       "      <td>-499.474407</td>\n",
       "      <td>7.897085</td>\n",
       "      <td>-500.868509</td>\n",
       "      <td>4.931400</td>\n",
       "      <td>-499.963623</td>\n",
       "      <td>24.948919</td>\n",
       "      <td>-498.709987</td>\n",
       "    </tr>\n",
       "    <tr>\n",
       "      <th>4</th>\n",
       "      <td>2016-09-01 04:59:59</td>\n",
       "      <td>199.099327</td>\n",
       "      <td>10.682530</td>\n",
       "      <td>7.530000</td>\n",
       "      <td>0.805575</td>\n",
       "      <td>1401.268123</td>\n",
       "      <td>-500.808305</td>\n",
       "      <td>1398.128818</td>\n",
       "      <td>-499.504543</td>\n",
       "      <td>1402.172226</td>\n",
       "      <td>-500.810606</td>\n",
       "      <td>1399.480508</td>\n",
       "      <td>-499.374053</td>\n",
       "      <td>11.327427</td>\n",
       "      <td>4.767383</td>\n",
       "      <td>488.248117</td>\n",
       "      <td>63.315324</td>\n",
       "      <td>41.269161</td>\n",
       "      <td>11.290425</td>\n",
       "      <td>13.607257</td>\n",
       "      <td>5.738081</td>\n",
       "      <td>13.650053</td>\n",
       "      <td>5.739634</td>\n",
       "      <td>996.541302</td>\n",
       "      <td>-350.562517</td>\n",
       "      <td>1304.658848</td>\n",
       "      <td>-399.511519</td>\n",
       "      <td>1306.455515</td>\n",
       "      <td>-399.050685</td>\n",
       "      <td>1248.699349</td>\n",
       "      <td>-400.876894</td>\n",
       "      <td>1058.839106</td>\n",
       "      <td>-398.988239</td>\n",
       "      <td>949.645313</td>\n",
       "      <td>-399.277632</td>\n",
       "      <td>24.886905</td>\n",
       "      <td>-499.357375</td>\n",
       "      <td>14.979233</td>\n",
       "      <td>-500.186804</td>\n",
       "      <td>19.962364</td>\n",
       "      <td>-450.638828</td>\n",
       "      <td>14.009245</td>\n",
       "      <td>-450.022259</td>\n",
       "      <td>12.025367</td>\n",
       "      <td>-500.786497</td>\n",
       "      <td>8.054678</td>\n",
       "      <td>-500.397500</td>\n",
       "      <td>8.107890</td>\n",
       "      <td>-509.526725</td>\n",
       "      <td>4.957674</td>\n",
       "      <td>-500.360026</td>\n",
       "      <td>25.003331</td>\n",
       "      <td>-500.856333</td>\n",
       "    </tr>\n",
       "  </tbody>\n",
       "</table>\n",
       "</div>"
      ],
      "text/plain": [
       "                  date  primary_cleaner.input.sulfate  \\\n",
       "0  2016-09-01 00:59:59                     210.800909   \n",
       "1  2016-09-01 01:59:59                     215.392455   \n",
       "2  2016-09-01 02:59:59                     215.259946   \n",
       "3  2016-09-01 03:59:59                     215.336236   \n",
       "4  2016-09-01 04:59:59                     199.099327   \n",
       "\n",
       "   primary_cleaner.input.depressant  primary_cleaner.input.feed_size  \\\n",
       "0                         14.993118                         8.080000   \n",
       "1                         14.987471                         8.080000   \n",
       "2                         12.884934                         7.786667   \n",
       "3                         12.006805                         7.640000   \n",
       "4                         10.682530                         7.530000   \n",
       "\n",
       "   primary_cleaner.input.xanthate  primary_cleaner.state.floatbank8_a_air  \\\n",
       "0                        1.005021                             1398.981301   \n",
       "1                        0.990469                             1398.777912   \n",
       "2                        0.996043                             1398.493666   \n",
       "3                        0.863514                             1399.618111   \n",
       "4                        0.805575                             1401.268123   \n",
       "\n",
       "   primary_cleaner.state.floatbank8_a_level  \\\n",
       "0                               -500.225577   \n",
       "1                               -500.057435   \n",
       "2                               -500.868360   \n",
       "3                               -498.863574   \n",
       "4                               -500.808305   \n",
       "\n",
       "   primary_cleaner.state.floatbank8_b_air  \\\n",
       "0                             1399.144926   \n",
       "1                             1398.055362   \n",
       "2                             1398.860436   \n",
       "3                             1397.440120   \n",
       "4                             1398.128818   \n",
       "\n",
       "   primary_cleaner.state.floatbank8_b_level  \\\n",
       "0                               -499.919735   \n",
       "1                               -499.778182   \n",
       "2                               -499.764529   \n",
       "3                               -499.211024   \n",
       "4                               -499.504543   \n",
       "\n",
       "   primary_cleaner.state.floatbank8_c_air  \\\n",
       "0                             1400.102998   \n",
       "1                             1396.151033   \n",
       "2                             1398.075709   \n",
       "3                             1400.129303   \n",
       "4                             1402.172226   \n",
       "\n",
       "   primary_cleaner.state.floatbank8_c_level  \\\n",
       "0                               -500.704369   \n",
       "1                               -499.240168   \n",
       "2                               -502.151509   \n",
       "3                               -498.355873   \n",
       "4                               -500.810606   \n",
       "\n",
       "   primary_cleaner.state.floatbank8_d_air  \\\n",
       "0                             1399.001695   \n",
       "1                             1399.508091   \n",
       "2                             1399.497088   \n",
       "3                             1401.065165   \n",
       "4                             1399.480508   \n",
       "\n",
       "   primary_cleaner.state.floatbank8_d_level  rougher.input.feed_ag  \\\n",
       "0                               -499.485144              13.128569   \n",
       "1                               -500.416324              13.036280   \n",
       "2                               -499.715479              13.138412   \n",
       "3                               -501.038738              12.400507   \n",
       "4                               -499.374053              11.327427   \n",
       "\n",
       "   rougher.input.feed_pb  rougher.input.feed_rate  rougher.input.feed_size  \\\n",
       "0               5.636710               489.793655                62.710452   \n",
       "1               5.526065               490.104534                61.961163   \n",
       "2               5.426561               489.617969                66.903807   \n",
       "3               5.114758               476.618130                59.865919   \n",
       "4               4.767383               488.248117                63.315324   \n",
       "\n",
       "   rougher.input.feed_sol  rougher.input.feed_au  \\\n",
       "0               42.022440              12.084103   \n",
       "1               41.187903              11.918977   \n",
       "2               42.546294              12.091332   \n",
       "3               41.060195              12.181597   \n",
       "4               41.269161              11.290425   \n",
       "\n",
       "   rougher.input.floatbank10_sulfate  rougher.input.floatbank10_xanthate  \\\n",
       "0                          16.922877                            6.153479   \n",
       "1                          17.002532                            5.999043   \n",
       "2                          16.992520                            5.850632   \n",
       "3                          16.532144                            5.801935   \n",
       "4                          13.607257                            5.738081   \n",
       "\n",
       "   rougher.input.floatbank11_sulfate  rougher.input.floatbank11_xanthate  \\\n",
       "0                          16.867518                            6.150709   \n",
       "1                          16.996063                            6.002315   \n",
       "2                          16.982096                            5.853594   \n",
       "3                          16.515277                            5.803657   \n",
       "4                          13.650053                            5.739634   \n",
       "\n",
       "   rougher.state.floatbank10_a_air  rougher.state.floatbank10_a_level  \\\n",
       "0                      1001.849317                        -350.301265   \n",
       "1                       998.690785                        -350.425704   \n",
       "2                       998.516720                        -349.783538   \n",
       "3                      1000.276604                        -350.172597   \n",
       "4                       996.541302                        -350.562517   \n",
       "\n",
       "   rougher.state.floatbank10_b_air  rougher.state.floatbank10_b_level  \\\n",
       "0                      1249.738612                        -399.107531   \n",
       "1                      1248.395457                        -399.946025   \n",
       "2                      1247.440748                        -400.264330   \n",
       "3                      1251.322675                        -398.655289   \n",
       "4                      1304.658848                        -399.511519   \n",
       "\n",
       "   rougher.state.floatbank10_c_air  rougher.state.floatbank10_c_level  \\\n",
       "0                      1249.750520                        -399.396730   \n",
       "1                      1249.514451                        -399.630810   \n",
       "2                      1248.207204                        -401.074405   \n",
       "3                      1250.493702                        -399.746728   \n",
       "4                      1306.455515                        -399.050685   \n",
       "\n",
       "   rougher.state.floatbank10_d_air  rougher.state.floatbank10_d_level  \\\n",
       "0                      1198.287855                        -399.488594   \n",
       "1                      1200.506459                        -399.942434   \n",
       "2                      1199.770026                        -400.790582   \n",
       "3                      1199.398691                        -397.503052   \n",
       "4                      1248.699349                        -400.876894   \n",
       "\n",
       "   rougher.state.floatbank10_e_air  rougher.state.floatbank10_e_level  \\\n",
       "0                       999.472250                        -399.530962   \n",
       "1                      1000.002114                        -399.491528   \n",
       "2                       999.925519                        -399.236999   \n",
       "3                      1001.930679                        -400.437573   \n",
       "4                      1058.839106                        -398.988239   \n",
       "\n",
       "   rougher.state.floatbank10_f_air  rougher.state.floatbank10_f_level  \\\n",
       "0                       949.566189                        -398.180807   \n",
       "1                       950.200009                        -405.787514   \n",
       "2                       950.320481                        -400.864340   \n",
       "3                       950.735324                        -399.802986   \n",
       "4                       949.645313                        -399.277632   \n",
       "\n",
       "   secondary_cleaner.state.floatbank2_a_air  \\\n",
       "0                                 24.938200   \n",
       "1                                 24.923466   \n",
       "2                                 24.908732   \n",
       "3                                 24.893998   \n",
       "4                                 24.886905   \n",
       "\n",
       "   secondary_cleaner.state.floatbank2_a_level  \\\n",
       "0                                 -500.490963   \n",
       "1                                 -499.813963   \n",
       "2                                 -500.304035   \n",
       "3                                 -499.382374   \n",
       "4                                 -499.357375   \n",
       "\n",
       "   secondary_cleaner.state.floatbank2_b_air  \\\n",
       "0                                 14.947607   \n",
       "1                                 14.930873   \n",
       "2                                 14.996511   \n",
       "3                                 14.916674   \n",
       "4                                 14.979233   \n",
       "\n",
       "   secondary_cleaner.state.floatbank2_b_level  \\\n",
       "0                                 -500.013837   \n",
       "1                                 -500.764452   \n",
       "2                                 -500.993821   \n",
       "3                                 -499.862299   \n",
       "4                                 -500.186804   \n",
       "\n",
       "   secondary_cleaner.state.floatbank3_a_air  \\\n",
       "0                                 20.018166   \n",
       "1                                 19.988503   \n",
       "2                                 20.039689   \n",
       "3                                 20.031100   \n",
       "4                                 19.962364   \n",
       "\n",
       "   secondary_cleaner.state.floatbank3_a_level  \\\n",
       "0                                 -450.395995   \n",
       "1                                 -450.114024   \n",
       "2                                 -450.263164   \n",
       "3                                 -449.372570   \n",
       "4                                 -450.638828   \n",
       "\n",
       "   secondary_cleaner.state.floatbank3_b_air  \\\n",
       "0                                 13.987058   \n",
       "1                                 14.092981   \n",
       "2                                 14.077881   \n",
       "3                                 14.013968   \n",
       "4                                 14.009245   \n",
       "\n",
       "   secondary_cleaner.state.floatbank3_b_level  \\\n",
       "0                                 -449.831513   \n",
       "1                                 -450.059163   \n",
       "2                                 -449.660997   \n",
       "3                                 -449.526900   \n",
       "4                                 -450.022259   \n",
       "\n",
       "   secondary_cleaner.state.floatbank4_a_air  \\\n",
       "0                                 12.023554   \n",
       "1                                 12.058140   \n",
       "2                                 11.962366   \n",
       "3                                 12.033091   \n",
       "4                                 12.025367   \n",
       "\n",
       "   secondary_cleaner.state.floatbank4_a_level  \\\n",
       "0                                 -497.795834   \n",
       "1                                 -498.695773   \n",
       "2                                 -498.767484   \n",
       "3                                 -498.350935   \n",
       "4                                 -500.786497   \n",
       "\n",
       "   secondary_cleaner.state.floatbank4_b_air  \\\n",
       "0                                  8.016656   \n",
       "1                                  8.130979   \n",
       "2                                  8.096893   \n",
       "3                                  8.074946   \n",
       "4                                  8.054678   \n",
       "\n",
       "   secondary_cleaner.state.floatbank4_b_level  \\\n",
       "0                                 -501.289139   \n",
       "1                                 -499.634209   \n",
       "2                                 -500.827423   \n",
       "3                                 -499.474407   \n",
       "4                                 -500.397500   \n",
       "\n",
       "   secondary_cleaner.state.floatbank5_a_air  \\\n",
       "0                                  7.946562   \n",
       "1                                  7.958270   \n",
       "2                                  8.071056   \n",
       "3                                  7.897085   \n",
       "4                                  8.107890   \n",
       "\n",
       "   secondary_cleaner.state.floatbank5_a_level  \\\n",
       "0                                 -432.317850   \n",
       "1                                 -525.839648   \n",
       "2                                 -500.801673   \n",
       "3                                 -500.868509   \n",
       "4                                 -509.526725   \n",
       "\n",
       "   secondary_cleaner.state.floatbank5_b_air  \\\n",
       "0                                  4.872511   \n",
       "1                                  4.878850   \n",
       "2                                  4.905125   \n",
       "3                                  4.931400   \n",
       "4                                  4.957674   \n",
       "\n",
       "   secondary_cleaner.state.floatbank5_b_level  \\\n",
       "0                                 -500.037437   \n",
       "1                                 -500.162375   \n",
       "2                                 -499.828510   \n",
       "3                                 -499.963623   \n",
       "4                                 -500.360026   \n",
       "\n",
       "   secondary_cleaner.state.floatbank6_a_air  \\\n",
       "0                                 26.705889   \n",
       "1                                 25.019940   \n",
       "2                                 24.994862   \n",
       "3                                 24.948919   \n",
       "4                                 25.003331   \n",
       "\n",
       "   secondary_cleaner.state.floatbank6_a_level  \n",
       "0                                 -499.709414  \n",
       "1                                 -499.819438  \n",
       "2                                 -500.622559  \n",
       "3                                 -498.709987  \n",
       "4                                 -500.856333  "
      ]
     },
     "metadata": {},
     "output_type": "display_data"
    },
    {
     "name": "stdout",
     "output_type": "stream",
     "text": [
      "\n",
      "<class 'pandas.core.frame.DataFrame'>\n",
      "RangeIndex: 5290 entries, 0 to 5289\n",
      "Data columns (total 53 columns):\n",
      " #   Column                                      Non-Null Count  Dtype  \n",
      "---  ------                                      --------------  -----  \n",
      " 0   date                                        5290 non-null   object \n",
      " 1   primary_cleaner.input.sulfate               5286 non-null   float64\n",
      " 2   primary_cleaner.input.depressant            5285 non-null   float64\n",
      " 3   primary_cleaner.input.feed_size             5290 non-null   float64\n",
      " 4   primary_cleaner.input.xanthate              5286 non-null   float64\n",
      " 5   primary_cleaner.state.floatbank8_a_air      5290 non-null   float64\n",
      " 6   primary_cleaner.state.floatbank8_a_level    5290 non-null   float64\n",
      " 7   primary_cleaner.state.floatbank8_b_air      5290 non-null   float64\n",
      " 8   primary_cleaner.state.floatbank8_b_level    5290 non-null   float64\n",
      " 9   primary_cleaner.state.floatbank8_c_air      5290 non-null   float64\n",
      " 10  primary_cleaner.state.floatbank8_c_level    5290 non-null   float64\n",
      " 11  primary_cleaner.state.floatbank8_d_air      5290 non-null   float64\n",
      " 12  primary_cleaner.state.floatbank8_d_level    5290 non-null   float64\n",
      " 13  rougher.input.feed_ag                       5290 non-null   float64\n",
      " 14  rougher.input.feed_pb                       5290 non-null   float64\n",
      " 15  rougher.input.feed_rate                     5287 non-null   float64\n",
      " 16  rougher.input.feed_size                     5289 non-null   float64\n",
      " 17  rougher.input.feed_sol                      5269 non-null   float64\n",
      " 18  rougher.input.feed_au                       5290 non-null   float64\n",
      " 19  rougher.input.floatbank10_sulfate           5285 non-null   float64\n",
      " 20  rougher.input.floatbank10_xanthate          5290 non-null   float64\n",
      " 21  rougher.input.floatbank11_sulfate           5282 non-null   float64\n",
      " 22  rougher.input.floatbank11_xanthate          5265 non-null   float64\n",
      " 23  rougher.state.floatbank10_a_air             5290 non-null   float64\n",
      " 24  rougher.state.floatbank10_a_level           5290 non-null   float64\n",
      " 25  rougher.state.floatbank10_b_air             5290 non-null   float64\n",
      " 26  rougher.state.floatbank10_b_level           5290 non-null   float64\n",
      " 27  rougher.state.floatbank10_c_air             5290 non-null   float64\n",
      " 28  rougher.state.floatbank10_c_level           5290 non-null   float64\n",
      " 29  rougher.state.floatbank10_d_air             5290 non-null   float64\n",
      " 30  rougher.state.floatbank10_d_level           5290 non-null   float64\n",
      " 31  rougher.state.floatbank10_e_air             5290 non-null   float64\n",
      " 32  rougher.state.floatbank10_e_level           5290 non-null   float64\n",
      " 33  rougher.state.floatbank10_f_air             5290 non-null   float64\n",
      " 34  rougher.state.floatbank10_f_level           5290 non-null   float64\n",
      " 35  secondary_cleaner.state.floatbank2_a_air    5287 non-null   float64\n",
      " 36  secondary_cleaner.state.floatbank2_a_level  5290 non-null   float64\n",
      " 37  secondary_cleaner.state.floatbank2_b_air    5288 non-null   float64\n",
      " 38  secondary_cleaner.state.floatbank2_b_level  5290 non-null   float64\n",
      " 39  secondary_cleaner.state.floatbank3_a_air    5281 non-null   float64\n",
      " 40  secondary_cleaner.state.floatbank3_a_level  5290 non-null   float64\n",
      " 41  secondary_cleaner.state.floatbank3_b_air    5290 non-null   float64\n",
      " 42  secondary_cleaner.state.floatbank3_b_level  5290 non-null   float64\n",
      " 43  secondary_cleaner.state.floatbank4_a_air    5290 non-null   float64\n",
      " 44  secondary_cleaner.state.floatbank4_a_level  5290 non-null   float64\n",
      " 45  secondary_cleaner.state.floatbank4_b_air    5290 non-null   float64\n",
      " 46  secondary_cleaner.state.floatbank4_b_level  5290 non-null   float64\n",
      " 47  secondary_cleaner.state.floatbank5_a_air    5290 non-null   float64\n",
      " 48  secondary_cleaner.state.floatbank5_a_level  5290 non-null   float64\n",
      " 49  secondary_cleaner.state.floatbank5_b_air    5290 non-null   float64\n",
      " 50  secondary_cleaner.state.floatbank5_b_level  5290 non-null   float64\n",
      " 51  secondary_cleaner.state.floatbank6_a_air    5290 non-null   float64\n",
      " 52  secondary_cleaner.state.floatbank6_a_level  5290 non-null   float64\n",
      "dtypes: float64(52), object(1)\n",
      "memory usage: 2.1+ MB\n"
     ]
    },
    {
     "data": {
      "text/plain": [
       "None"
      ]
     },
     "metadata": {},
     "output_type": "display_data"
    },
    {
     "name": "stdout",
     "output_type": "stream",
     "text": [
      "\n",
      "Количество пропусков\n"
     ]
    },
    {
     "data": {
      "text/plain": [
       "primary_cleaner.input.sulfate                4\n",
       "primary_cleaner.input.depressant             5\n",
       "primary_cleaner.input.xanthate               4\n",
       "rougher.input.feed_rate                      3\n",
       "rougher.input.feed_size                      1\n",
       "rougher.input.feed_sol                      21\n",
       "rougher.input.floatbank10_sulfate            5\n",
       "rougher.input.floatbank11_sulfate            8\n",
       "rougher.input.floatbank11_xanthate          25\n",
       "secondary_cleaner.state.floatbank2_a_air     3\n",
       "secondary_cleaner.state.floatbank2_b_air     2\n",
       "secondary_cleaner.state.floatbank3_a_air     9\n",
       "dtype: int64"
      ]
     },
     "metadata": {},
     "output_type": "display_data"
    },
    {
     "name": "stdout",
     "output_type": "stream",
     "text": [
      "\n"
     ]
    },
    {
     "data": {
      "text/html": [
       "<div>\n",
       "<style scoped>\n",
       "    .dataframe tbody tr th:only-of-type {\n",
       "        vertical-align: middle;\n",
       "    }\n",
       "\n",
       "    .dataframe tbody tr th {\n",
       "        vertical-align: top;\n",
       "    }\n",
       "\n",
       "    .dataframe thead th {\n",
       "        text-align: right;\n",
       "    }\n",
       "</style>\n",
       "<table border=\"1\" class=\"dataframe\">\n",
       "  <thead>\n",
       "    <tr style=\"text-align: right;\">\n",
       "      <th></th>\n",
       "      <th>primary_cleaner.input.sulfate</th>\n",
       "      <th>primary_cleaner.input.depressant</th>\n",
       "      <th>primary_cleaner.input.feed_size</th>\n",
       "      <th>primary_cleaner.input.xanthate</th>\n",
       "      <th>primary_cleaner.state.floatbank8_a_air</th>\n",
       "      <th>primary_cleaner.state.floatbank8_a_level</th>\n",
       "      <th>primary_cleaner.state.floatbank8_b_air</th>\n",
       "      <th>primary_cleaner.state.floatbank8_b_level</th>\n",
       "      <th>primary_cleaner.state.floatbank8_c_air</th>\n",
       "      <th>primary_cleaner.state.floatbank8_c_level</th>\n",
       "      <th>primary_cleaner.state.floatbank8_d_air</th>\n",
       "      <th>primary_cleaner.state.floatbank8_d_level</th>\n",
       "      <th>rougher.input.feed_ag</th>\n",
       "      <th>rougher.input.feed_pb</th>\n",
       "      <th>rougher.input.feed_rate</th>\n",
       "      <th>rougher.input.feed_size</th>\n",
       "      <th>rougher.input.feed_sol</th>\n",
       "      <th>rougher.input.feed_au</th>\n",
       "      <th>rougher.input.floatbank10_sulfate</th>\n",
       "      <th>rougher.input.floatbank10_xanthate</th>\n",
       "      <th>rougher.input.floatbank11_sulfate</th>\n",
       "      <th>rougher.input.floatbank11_xanthate</th>\n",
       "      <th>rougher.state.floatbank10_a_air</th>\n",
       "      <th>rougher.state.floatbank10_a_level</th>\n",
       "      <th>rougher.state.floatbank10_b_air</th>\n",
       "      <th>rougher.state.floatbank10_b_level</th>\n",
       "      <th>rougher.state.floatbank10_c_air</th>\n",
       "      <th>rougher.state.floatbank10_c_level</th>\n",
       "      <th>rougher.state.floatbank10_d_air</th>\n",
       "      <th>rougher.state.floatbank10_d_level</th>\n",
       "      <th>rougher.state.floatbank10_e_air</th>\n",
       "      <th>rougher.state.floatbank10_e_level</th>\n",
       "      <th>rougher.state.floatbank10_f_air</th>\n",
       "      <th>rougher.state.floatbank10_f_level</th>\n",
       "      <th>secondary_cleaner.state.floatbank2_a_air</th>\n",
       "      <th>secondary_cleaner.state.floatbank2_a_level</th>\n",
       "      <th>secondary_cleaner.state.floatbank2_b_air</th>\n",
       "      <th>secondary_cleaner.state.floatbank2_b_level</th>\n",
       "      <th>secondary_cleaner.state.floatbank3_a_air</th>\n",
       "      <th>secondary_cleaner.state.floatbank3_a_level</th>\n",
       "      <th>secondary_cleaner.state.floatbank3_b_air</th>\n",
       "      <th>secondary_cleaner.state.floatbank3_b_level</th>\n",
       "      <th>secondary_cleaner.state.floatbank4_a_air</th>\n",
       "      <th>secondary_cleaner.state.floatbank4_a_level</th>\n",
       "      <th>secondary_cleaner.state.floatbank4_b_air</th>\n",
       "      <th>secondary_cleaner.state.floatbank4_b_level</th>\n",
       "      <th>secondary_cleaner.state.floatbank5_a_air</th>\n",
       "      <th>secondary_cleaner.state.floatbank5_a_level</th>\n",
       "      <th>secondary_cleaner.state.floatbank5_b_air</th>\n",
       "      <th>secondary_cleaner.state.floatbank5_b_level</th>\n",
       "      <th>secondary_cleaner.state.floatbank6_a_air</th>\n",
       "      <th>secondary_cleaner.state.floatbank6_a_level</th>\n",
       "    </tr>\n",
       "  </thead>\n",
       "  <tbody>\n",
       "    <tr>\n",
       "      <th>count</th>\n",
       "      <td>5286.000000</td>\n",
       "      <td>5285.000000</td>\n",
       "      <td>5290.000000</td>\n",
       "      <td>5286.000000</td>\n",
       "      <td>5.290000e+03</td>\n",
       "      <td>5290.000000</td>\n",
       "      <td>5.290000e+03</td>\n",
       "      <td>5290.000000</td>\n",
       "      <td>5.290000e+03</td>\n",
       "      <td>5290.000000</td>\n",
       "      <td>5.290000e+03</td>\n",
       "      <td>5290.000000</td>\n",
       "      <td>5290.000000</td>\n",
       "      <td>5290.000000</td>\n",
       "      <td>5287.000000</td>\n",
       "      <td>5289.000000</td>\n",
       "      <td>5269.000000</td>\n",
       "      <td>5290.000000</td>\n",
       "      <td>5285.000000</td>\n",
       "      <td>5290.000000</td>\n",
       "      <td>5282.000000</td>\n",
       "      <td>5265.000000</td>\n",
       "      <td>5290.000000</td>\n",
       "      <td>5290.000000</td>\n",
       "      <td>5290.000000</td>\n",
       "      <td>5290.000000</td>\n",
       "      <td>5290.000000</td>\n",
       "      <td>5290.000000</td>\n",
       "      <td>5290.000000</td>\n",
       "      <td>5290.000000</td>\n",
       "      <td>5290.000000</td>\n",
       "      <td>5290.000000</td>\n",
       "      <td>5290.000000</td>\n",
       "      <td>5290.000000</td>\n",
       "      <td>5287.000000</td>\n",
       "      <td>5290.000000</td>\n",
       "      <td>5288.000000</td>\n",
       "      <td>5290.000000</td>\n",
       "      <td>5281.000000</td>\n",
       "      <td>5290.000000</td>\n",
       "      <td>5.290000e+03</td>\n",
       "      <td>5290.000000</td>\n",
       "      <td>5.290000e+03</td>\n",
       "      <td>5290.000000</td>\n",
       "      <td>5.290000e+03</td>\n",
       "      <td>5290.000000</td>\n",
       "      <td>5290.000000</td>\n",
       "      <td>5290.000000</td>\n",
       "      <td>5290.000000</td>\n",
       "      <td>5290.000000</td>\n",
       "      <td>5290.000000</td>\n",
       "      <td>5290.000000</td>\n",
       "    </tr>\n",
       "    <tr>\n",
       "      <th>mean</th>\n",
       "      <td>174.839652</td>\n",
       "      <td>8.683596</td>\n",
       "      <td>7.266339</td>\n",
       "      <td>1.383803</td>\n",
       "      <td>1.539494e+03</td>\n",
       "      <td>-497.665883</td>\n",
       "      <td>1.545174e+03</td>\n",
       "      <td>-500.273098</td>\n",
       "      <td>1.527272e+03</td>\n",
       "      <td>-498.330680</td>\n",
       "      <td>1.544844e+03</td>\n",
       "      <td>-500.199527</td>\n",
       "      <td>9.371940</td>\n",
       "      <td>3.798082</td>\n",
       "      <td>489.800620</td>\n",
       "      <td>55.951097</td>\n",
       "      <td>37.716648</td>\n",
       "      <td>9.334682</td>\n",
       "      <td>13.855759</td>\n",
       "      <td>6.467745</td>\n",
       "      <td>13.922328</td>\n",
       "      <td>6.512103</td>\n",
       "      <td>1053.400166</td>\n",
       "      <td>-395.732530</td>\n",
       "      <td>1318.926879</td>\n",
       "      <td>-475.241428</td>\n",
       "      <td>1301.595477</td>\n",
       "      <td>-474.836671</td>\n",
       "      <td>1214.847960</td>\n",
       "      <td>-475.682272</td>\n",
       "      <td>1056.648995</td>\n",
       "      <td>-469.029688</td>\n",
       "      <td>997.949719</td>\n",
       "      <td>-470.482465</td>\n",
       "      <td>26.312630</td>\n",
       "      <td>-502.750897</td>\n",
       "      <td>21.949119</td>\n",
       "      <td>-501.987097</td>\n",
       "      <td>25.402926</td>\n",
       "      <td>-507.490314</td>\n",
       "      <td>2.098211e+01</td>\n",
       "      <td>-506.627916</td>\n",
       "      <td>1.632007e+01</td>\n",
       "      <td>-505.144570</td>\n",
       "      <td>1.373544e+01</td>\n",
       "      <td>-463.349858</td>\n",
       "      <td>12.804186</td>\n",
       "      <td>-501.329122</td>\n",
       "      <td>9.881145</td>\n",
       "      <td>-495.663398</td>\n",
       "      <td>17.304935</td>\n",
       "      <td>-501.793193</td>\n",
       "    </tr>\n",
       "    <tr>\n",
       "      <th>std</th>\n",
       "      <td>43.027080</td>\n",
       "      <td>3.072050</td>\n",
       "      <td>0.610219</td>\n",
       "      <td>0.643474</td>\n",
       "      <td>1.167979e+02</td>\n",
       "      <td>19.952431</td>\n",
       "      <td>1.222246e+02</td>\n",
       "      <td>32.968307</td>\n",
       "      <td>1.225380e+02</td>\n",
       "      <td>21.964876</td>\n",
       "      <td>1.247731e+02</td>\n",
       "      <td>31.045257</td>\n",
       "      <td>1.926264</td>\n",
       "      <td>0.954859</td>\n",
       "      <td>108.036326</td>\n",
       "      <td>19.081758</td>\n",
       "      <td>5.491415</td>\n",
       "      <td>1.619521</td>\n",
       "      <td>3.350852</td>\n",
       "      <td>1.065114</td>\n",
       "      <td>3.223769</td>\n",
       "      <td>0.886989</td>\n",
       "      <td>121.139309</td>\n",
       "      <td>91.085505</td>\n",
       "      <td>156.450366</td>\n",
       "      <td>45.649466</td>\n",
       "      <td>171.269667</td>\n",
       "      <td>45.859866</td>\n",
       "      <td>185.763319</td>\n",
       "      <td>47.844967</td>\n",
       "      <td>131.542839</td>\n",
       "      <td>59.325990</td>\n",
       "      <td>128.218869</td>\n",
       "      <td>60.759318</td>\n",
       "      <td>3.429852</td>\n",
       "      <td>28.756505</td>\n",
       "      <td>4.354961</td>\n",
       "      <td>34.582722</td>\n",
       "      <td>6.526457</td>\n",
       "      <td>47.620908</td>\n",
       "      <td>6.736179e+00</td>\n",
       "      <td>44.528673</td>\n",
       "      <td>3.493583e+00</td>\n",
       "      <td>31.427337</td>\n",
       "      <td>3.430484e+00</td>\n",
       "      <td>86.189107</td>\n",
       "      <td>3.026591</td>\n",
       "      <td>17.951495</td>\n",
       "      <td>2.868205</td>\n",
       "      <td>34.535007</td>\n",
       "      <td>4.536544</td>\n",
       "      <td>39.044215</td>\n",
       "    </tr>\n",
       "    <tr>\n",
       "      <th>min</th>\n",
       "      <td>2.566156</td>\n",
       "      <td>0.003839</td>\n",
       "      <td>5.650000</td>\n",
       "      <td>0.004984</td>\n",
       "      <td>5.445860e-32</td>\n",
       "      <td>-795.316337</td>\n",
       "      <td>6.647490e-32</td>\n",
       "      <td>-799.997015</td>\n",
       "      <td>4.033736e-32</td>\n",
       "      <td>-799.960571</td>\n",
       "      <td>4.039220e-32</td>\n",
       "      <td>-799.794250</td>\n",
       "      <td>0.568441</td>\n",
       "      <td>0.273677</td>\n",
       "      <td>0.002986</td>\n",
       "      <td>0.046369</td>\n",
       "      <td>1.393488</td>\n",
       "      <td>0.568632</td>\n",
       "      <td>0.001147</td>\n",
       "      <td>0.000568</td>\n",
       "      <td>0.000077</td>\n",
       "      <td>0.006985</td>\n",
       "      <td>-0.042069</td>\n",
       "      <td>-657.949759</td>\n",
       "      <td>-0.721806</td>\n",
       "      <td>-650.245277</td>\n",
       "      <td>-0.056636</td>\n",
       "      <td>-647.544439</td>\n",
       "      <td>-0.992219</td>\n",
       "      <td>-648.390665</td>\n",
       "      <td>-1.982295</td>\n",
       "      <td>-649.267537</td>\n",
       "      <td>-2.593390</td>\n",
       "      <td>-649.949283</td>\n",
       "      <td>0.205329</td>\n",
       "      <td>-784.091091</td>\n",
       "      <td>0.006064</td>\n",
       "      <td>-797.783989</td>\n",
       "      <td>0.000000</td>\n",
       "      <td>-799.755798</td>\n",
       "      <td>1.521587e-17</td>\n",
       "      <td>-809.333008</td>\n",
       "      <td>1.079872e-16</td>\n",
       "      <td>-799.798523</td>\n",
       "      <td>2.489718e-17</td>\n",
       "      <td>-800.836914</td>\n",
       "      <td>0.069227</td>\n",
       "      <td>-797.323986</td>\n",
       "      <td>0.528083</td>\n",
       "      <td>-800.220337</td>\n",
       "      <td>-0.079426</td>\n",
       "      <td>-809.741464</td>\n",
       "    </tr>\n",
       "    <tr>\n",
       "      <th>25%</th>\n",
       "      <td>147.121401</td>\n",
       "      <td>6.489555</td>\n",
       "      <td>6.890000</td>\n",
       "      <td>0.907623</td>\n",
       "      <td>1.498936e+03</td>\n",
       "      <td>-500.357298</td>\n",
       "      <td>1.498971e+03</td>\n",
       "      <td>-500.703002</td>\n",
       "      <td>1.473230e+03</td>\n",
       "      <td>-501.018117</td>\n",
       "      <td>1.499481e+03</td>\n",
       "      <td>-500.452469</td>\n",
       "      <td>8.112434</td>\n",
       "      <td>3.240251</td>\n",
       "      <td>407.020883</td>\n",
       "      <td>43.906347</td>\n",
       "      <td>34.505576</td>\n",
       "      <td>8.207814</td>\n",
       "      <td>11.995006</td>\n",
       "      <td>5.998779</td>\n",
       "      <td>11.997200</td>\n",
       "      <td>5.999157</td>\n",
       "      <td>999.205344</td>\n",
       "      <td>-499.920565</td>\n",
       "      <td>1200.871883</td>\n",
       "      <td>-500.256114</td>\n",
       "      <td>1199.651371</td>\n",
       "      <td>-500.233831</td>\n",
       "      <td>1093.368068</td>\n",
       "      <td>-500.440610</td>\n",
       "      <td>999.361403</td>\n",
       "      <td>-500.190639</td>\n",
       "      <td>901.024994</td>\n",
       "      <td>-500.624783</td>\n",
       "      <td>24.942328</td>\n",
       "      <td>-500.206517</td>\n",
       "      <td>20.002315</td>\n",
       "      <td>-500.218030</td>\n",
       "      <td>22.982288</td>\n",
       "      <td>-500.297951</td>\n",
       "      <td>1.796786e+01</td>\n",
       "      <td>-500.145128</td>\n",
       "      <td>1.403618e+01</td>\n",
       "      <td>-500.868258</td>\n",
       "      <td>1.202862e+01</td>\n",
       "      <td>-500.323028</td>\n",
       "      <td>10.914838</td>\n",
       "      <td>-500.726841</td>\n",
       "      <td>8.036719</td>\n",
       "      <td>-500.194668</td>\n",
       "      <td>13.997317</td>\n",
       "      <td>-500.690984</td>\n",
       "    </tr>\n",
       "    <tr>\n",
       "      <th>50%</th>\n",
       "      <td>177.828489</td>\n",
       "      <td>8.052207</td>\n",
       "      <td>7.250000</td>\n",
       "      <td>1.197610</td>\n",
       "      <td>1.585129e+03</td>\n",
       "      <td>-499.969164</td>\n",
       "      <td>1.595622e+03</td>\n",
       "      <td>-500.028514</td>\n",
       "      <td>1.549595e+03</td>\n",
       "      <td>-500.017711</td>\n",
       "      <td>1.594579e+03</td>\n",
       "      <td>-500.023307</td>\n",
       "      <td>9.762654</td>\n",
       "      <td>3.740716</td>\n",
       "      <td>499.051440</td>\n",
       "      <td>50.841029</td>\n",
       "      <td>37.980276</td>\n",
       "      <td>9.593766</td>\n",
       "      <td>14.003126</td>\n",
       "      <td>6.498181</td>\n",
       "      <td>14.004371</td>\n",
       "      <td>6.498744</td>\n",
       "      <td>1000.472055</td>\n",
       "      <td>-399.693363</td>\n",
       "      <td>1302.254995</td>\n",
       "      <td>-499.837803</td>\n",
       "      <td>1300.202274</td>\n",
       "      <td>-499.777222</td>\n",
       "      <td>1207.014092</td>\n",
       "      <td>-499.691917</td>\n",
       "      <td>1047.495449</td>\n",
       "      <td>-499.765796</td>\n",
       "      <td>999.441879</td>\n",
       "      <td>-499.680986</td>\n",
       "      <td>26.910569</td>\n",
       "      <td>-500.003902</td>\n",
       "      <td>22.942603</td>\n",
       "      <td>-500.019058</td>\n",
       "      <td>25.010105</td>\n",
       "      <td>-500.034578</td>\n",
       "      <td>2.100316e+01</td>\n",
       "      <td>-500.013819</td>\n",
       "      <td>1.700847e+01</td>\n",
       "      <td>-500.115727</td>\n",
       "      <td>1.496486e+01</td>\n",
       "      <td>-499.576513</td>\n",
       "      <td>12.954182</td>\n",
       "      <td>-499.990332</td>\n",
       "      <td>10.004301</td>\n",
       "      <td>-499.990535</td>\n",
       "      <td>16.014935</td>\n",
       "      <td>-500.007126</td>\n",
       "    </tr>\n",
       "    <tr>\n",
       "      <th>75%</th>\n",
       "      <td>208.125438</td>\n",
       "      <td>10.027764</td>\n",
       "      <td>7.600000</td>\n",
       "      <td>1.797819</td>\n",
       "      <td>1.602077e+03</td>\n",
       "      <td>-499.568951</td>\n",
       "      <td>1.602324e+03</td>\n",
       "      <td>-499.293257</td>\n",
       "      <td>1.601144e+03</td>\n",
       "      <td>-498.994130</td>\n",
       "      <td>1.600965e+03</td>\n",
       "      <td>-499.607040</td>\n",
       "      <td>10.652297</td>\n",
       "      <td>4.282634</td>\n",
       "      <td>575.307213</td>\n",
       "      <td>62.431047</td>\n",
       "      <td>41.635385</td>\n",
       "      <td>10.463538</td>\n",
       "      <td>16.974284</td>\n",
       "      <td>7.085457</td>\n",
       "      <td>16.959671</td>\n",
       "      <td>7.091808</td>\n",
       "      <td>1006.254299</td>\n",
       "      <td>-300.060056</td>\n",
       "      <td>1433.955649</td>\n",
       "      <td>-450.749619</td>\n",
       "      <td>1406.594956</td>\n",
       "      <td>-451.153188</td>\n",
       "      <td>1391.497269</td>\n",
       "      <td>-452.483463</td>\n",
       "      <td>1101.365315</td>\n",
       "      <td>-450.957513</td>\n",
       "      <td>1050.433005</td>\n",
       "      <td>-451.986460</td>\n",
       "      <td>28.091885</td>\n",
       "      <td>-499.791639</td>\n",
       "      <td>24.985013</td>\n",
       "      <td>-499.831532</td>\n",
       "      <td>30.002063</td>\n",
       "      <td>-499.780163</td>\n",
       "      <td>2.697698e+01</td>\n",
       "      <td>-499.890608</td>\n",
       "      <td>1.803862e+01</td>\n",
       "      <td>-499.404224</td>\n",
       "      <td>1.596213e+01</td>\n",
       "      <td>-400.933805</td>\n",
       "      <td>15.097528</td>\n",
       "      <td>-499.283191</td>\n",
       "      <td>11.997467</td>\n",
       "      <td>-499.719913</td>\n",
       "      <td>21.020013</td>\n",
       "      <td>-499.373018</td>\n",
       "    </tr>\n",
       "    <tr>\n",
       "      <th>max</th>\n",
       "      <td>265.983123</td>\n",
       "      <td>40.000000</td>\n",
       "      <td>15.500000</td>\n",
       "      <td>4.102454</td>\n",
       "      <td>2.103104e+03</td>\n",
       "      <td>-57.195404</td>\n",
       "      <td>1.813084e+03</td>\n",
       "      <td>-142.527229</td>\n",
       "      <td>1.715054e+03</td>\n",
       "      <td>-150.937035</td>\n",
       "      <td>1.913257e+03</td>\n",
       "      <td>-158.950573</td>\n",
       "      <td>14.406130</td>\n",
       "      <td>6.905684</td>\n",
       "      <td>707.364020</td>\n",
       "      <td>392.494040</td>\n",
       "      <td>53.477742</td>\n",
       "      <td>13.731330</td>\n",
       "      <td>24.280636</td>\n",
       "      <td>8.910468</td>\n",
       "      <td>24.280966</td>\n",
       "      <td>8.621338</td>\n",
       "      <td>1423.274687</td>\n",
       "      <td>-273.776101</td>\n",
       "      <td>1706.640419</td>\n",
       "      <td>-298.200051</td>\n",
       "      <td>1731.017788</td>\n",
       "      <td>-298.036852</td>\n",
       "      <td>1775.218584</td>\n",
       "      <td>-76.397327</td>\n",
       "      <td>1467.184843</td>\n",
       "      <td>-139.753025</td>\n",
       "      <td>1476.588107</td>\n",
       "      <td>-249.801043</td>\n",
       "      <td>32.138727</td>\n",
       "      <td>-300.343670</td>\n",
       "      <td>28.165864</td>\n",
       "      <td>-211.999273</td>\n",
       "      <td>40.041997</td>\n",
       "      <td>-313.866425</td>\n",
       "      <td>3.203936e+01</td>\n",
       "      <td>-202.277366</td>\n",
       "      <td>3.005180e+01</td>\n",
       "      <td>-401.565212</td>\n",
       "      <td>3.126971e+01</td>\n",
       "      <td>-6.506986</td>\n",
       "      <td>25.258848</td>\n",
       "      <td>-244.483566</td>\n",
       "      <td>14.086866</td>\n",
       "      <td>-137.740004</td>\n",
       "      <td>26.705889</td>\n",
       "      <td>-123.307487</td>\n",
       "    </tr>\n",
       "  </tbody>\n",
       "</table>\n",
       "</div>"
      ],
      "text/plain": [
       "       primary_cleaner.input.sulfate  primary_cleaner.input.depressant  \\\n",
       "count                    5286.000000                       5285.000000   \n",
       "mean                      174.839652                          8.683596   \n",
       "std                        43.027080                          3.072050   \n",
       "min                         2.566156                          0.003839   \n",
       "25%                       147.121401                          6.489555   \n",
       "50%                       177.828489                          8.052207   \n",
       "75%                       208.125438                         10.027764   \n",
       "max                       265.983123                         40.000000   \n",
       "\n",
       "       primary_cleaner.input.feed_size  primary_cleaner.input.xanthate  \\\n",
       "count                      5290.000000                     5286.000000   \n",
       "mean                          7.266339                        1.383803   \n",
       "std                           0.610219                        0.643474   \n",
       "min                           5.650000                        0.004984   \n",
       "25%                           6.890000                        0.907623   \n",
       "50%                           7.250000                        1.197610   \n",
       "75%                           7.600000                        1.797819   \n",
       "max                          15.500000                        4.102454   \n",
       "\n",
       "       primary_cleaner.state.floatbank8_a_air  \\\n",
       "count                            5.290000e+03   \n",
       "mean                             1.539494e+03   \n",
       "std                              1.167979e+02   \n",
       "min                              5.445860e-32   \n",
       "25%                              1.498936e+03   \n",
       "50%                              1.585129e+03   \n",
       "75%                              1.602077e+03   \n",
       "max                              2.103104e+03   \n",
       "\n",
       "       primary_cleaner.state.floatbank8_a_level  \\\n",
       "count                               5290.000000   \n",
       "mean                                -497.665883   \n",
       "std                                   19.952431   \n",
       "min                                 -795.316337   \n",
       "25%                                 -500.357298   \n",
       "50%                                 -499.969164   \n",
       "75%                                 -499.568951   \n",
       "max                                  -57.195404   \n",
       "\n",
       "       primary_cleaner.state.floatbank8_b_air  \\\n",
       "count                            5.290000e+03   \n",
       "mean                             1.545174e+03   \n",
       "std                              1.222246e+02   \n",
       "min                              6.647490e-32   \n",
       "25%                              1.498971e+03   \n",
       "50%                              1.595622e+03   \n",
       "75%                              1.602324e+03   \n",
       "max                              1.813084e+03   \n",
       "\n",
       "       primary_cleaner.state.floatbank8_b_level  \\\n",
       "count                               5290.000000   \n",
       "mean                                -500.273098   \n",
       "std                                   32.968307   \n",
       "min                                 -799.997015   \n",
       "25%                                 -500.703002   \n",
       "50%                                 -500.028514   \n",
       "75%                                 -499.293257   \n",
       "max                                 -142.527229   \n",
       "\n",
       "       primary_cleaner.state.floatbank8_c_air  \\\n",
       "count                            5.290000e+03   \n",
       "mean                             1.527272e+03   \n",
       "std                              1.225380e+02   \n",
       "min                              4.033736e-32   \n",
       "25%                              1.473230e+03   \n",
       "50%                              1.549595e+03   \n",
       "75%                              1.601144e+03   \n",
       "max                              1.715054e+03   \n",
       "\n",
       "       primary_cleaner.state.floatbank8_c_level  \\\n",
       "count                               5290.000000   \n",
       "mean                                -498.330680   \n",
       "std                                   21.964876   \n",
       "min                                 -799.960571   \n",
       "25%                                 -501.018117   \n",
       "50%                                 -500.017711   \n",
       "75%                                 -498.994130   \n",
       "max                                 -150.937035   \n",
       "\n",
       "       primary_cleaner.state.floatbank8_d_air  \\\n",
       "count                            5.290000e+03   \n",
       "mean                             1.544844e+03   \n",
       "std                              1.247731e+02   \n",
       "min                              4.039220e-32   \n",
       "25%                              1.499481e+03   \n",
       "50%                              1.594579e+03   \n",
       "75%                              1.600965e+03   \n",
       "max                              1.913257e+03   \n",
       "\n",
       "       primary_cleaner.state.floatbank8_d_level  rougher.input.feed_ag  \\\n",
       "count                               5290.000000            5290.000000   \n",
       "mean                                -500.199527               9.371940   \n",
       "std                                   31.045257               1.926264   \n",
       "min                                 -799.794250               0.568441   \n",
       "25%                                 -500.452469               8.112434   \n",
       "50%                                 -500.023307               9.762654   \n",
       "75%                                 -499.607040              10.652297   \n",
       "max                                 -158.950573              14.406130   \n",
       "\n",
       "       rougher.input.feed_pb  rougher.input.feed_rate  \\\n",
       "count            5290.000000              5287.000000   \n",
       "mean                3.798082               489.800620   \n",
       "std                 0.954859               108.036326   \n",
       "min                 0.273677                 0.002986   \n",
       "25%                 3.240251               407.020883   \n",
       "50%                 3.740716               499.051440   \n",
       "75%                 4.282634               575.307213   \n",
       "max                 6.905684               707.364020   \n",
       "\n",
       "       rougher.input.feed_size  rougher.input.feed_sol  rougher.input.feed_au  \\\n",
       "count              5289.000000             5269.000000            5290.000000   \n",
       "mean                 55.951097               37.716648               9.334682   \n",
       "std                  19.081758                5.491415               1.619521   \n",
       "min                   0.046369                1.393488               0.568632   \n",
       "25%                  43.906347               34.505576               8.207814   \n",
       "50%                  50.841029               37.980276               9.593766   \n",
       "75%                  62.431047               41.635385              10.463538   \n",
       "max                 392.494040               53.477742              13.731330   \n",
       "\n",
       "       rougher.input.floatbank10_sulfate  rougher.input.floatbank10_xanthate  \\\n",
       "count                        5285.000000                         5290.000000   \n",
       "mean                           13.855759                            6.467745   \n",
       "std                             3.350852                            1.065114   \n",
       "min                             0.001147                            0.000568   \n",
       "25%                            11.995006                            5.998779   \n",
       "50%                            14.003126                            6.498181   \n",
       "75%                            16.974284                            7.085457   \n",
       "max                            24.280636                            8.910468   \n",
       "\n",
       "       rougher.input.floatbank11_sulfate  rougher.input.floatbank11_xanthate  \\\n",
       "count                        5282.000000                         5265.000000   \n",
       "mean                           13.922328                            6.512103   \n",
       "std                             3.223769                            0.886989   \n",
       "min                             0.000077                            0.006985   \n",
       "25%                            11.997200                            5.999157   \n",
       "50%                            14.004371                            6.498744   \n",
       "75%                            16.959671                            7.091808   \n",
       "max                            24.280966                            8.621338   \n",
       "\n",
       "       rougher.state.floatbank10_a_air  rougher.state.floatbank10_a_level  \\\n",
       "count                      5290.000000                        5290.000000   \n",
       "mean                       1053.400166                        -395.732530   \n",
       "std                         121.139309                          91.085505   \n",
       "min                          -0.042069                        -657.949759   \n",
       "25%                         999.205344                        -499.920565   \n",
       "50%                        1000.472055                        -399.693363   \n",
       "75%                        1006.254299                        -300.060056   \n",
       "max                        1423.274687                        -273.776101   \n",
       "\n",
       "       rougher.state.floatbank10_b_air  rougher.state.floatbank10_b_level  \\\n",
       "count                      5290.000000                        5290.000000   \n",
       "mean                       1318.926879                        -475.241428   \n",
       "std                         156.450366                          45.649466   \n",
       "min                          -0.721806                        -650.245277   \n",
       "25%                        1200.871883                        -500.256114   \n",
       "50%                        1302.254995                        -499.837803   \n",
       "75%                        1433.955649                        -450.749619   \n",
       "max                        1706.640419                        -298.200051   \n",
       "\n",
       "       rougher.state.floatbank10_c_air  rougher.state.floatbank10_c_level  \\\n",
       "count                      5290.000000                        5290.000000   \n",
       "mean                       1301.595477                        -474.836671   \n",
       "std                         171.269667                          45.859866   \n",
       "min                          -0.056636                        -647.544439   \n",
       "25%                        1199.651371                        -500.233831   \n",
       "50%                        1300.202274                        -499.777222   \n",
       "75%                        1406.594956                        -451.153188   \n",
       "max                        1731.017788                        -298.036852   \n",
       "\n",
       "       rougher.state.floatbank10_d_air  rougher.state.floatbank10_d_level  \\\n",
       "count                      5290.000000                        5290.000000   \n",
       "mean                       1214.847960                        -475.682272   \n",
       "std                         185.763319                          47.844967   \n",
       "min                          -0.992219                        -648.390665   \n",
       "25%                        1093.368068                        -500.440610   \n",
       "50%                        1207.014092                        -499.691917   \n",
       "75%                        1391.497269                        -452.483463   \n",
       "max                        1775.218584                         -76.397327   \n",
       "\n",
       "       rougher.state.floatbank10_e_air  rougher.state.floatbank10_e_level  \\\n",
       "count                      5290.000000                        5290.000000   \n",
       "mean                       1056.648995                        -469.029688   \n",
       "std                         131.542839                          59.325990   \n",
       "min                          -1.982295                        -649.267537   \n",
       "25%                         999.361403                        -500.190639   \n",
       "50%                        1047.495449                        -499.765796   \n",
       "75%                        1101.365315                        -450.957513   \n",
       "max                        1467.184843                        -139.753025   \n",
       "\n",
       "       rougher.state.floatbank10_f_air  rougher.state.floatbank10_f_level  \\\n",
       "count                      5290.000000                        5290.000000   \n",
       "mean                        997.949719                        -470.482465   \n",
       "std                         128.218869                          60.759318   \n",
       "min                          -2.593390                        -649.949283   \n",
       "25%                         901.024994                        -500.624783   \n",
       "50%                         999.441879                        -499.680986   \n",
       "75%                        1050.433005                        -451.986460   \n",
       "max                        1476.588107                        -249.801043   \n",
       "\n",
       "       secondary_cleaner.state.floatbank2_a_air  \\\n",
       "count                               5287.000000   \n",
       "mean                                  26.312630   \n",
       "std                                    3.429852   \n",
       "min                                    0.205329   \n",
       "25%                                   24.942328   \n",
       "50%                                   26.910569   \n",
       "75%                                   28.091885   \n",
       "max                                   32.138727   \n",
       "\n",
       "       secondary_cleaner.state.floatbank2_a_level  \\\n",
       "count                                 5290.000000   \n",
       "mean                                  -502.750897   \n",
       "std                                     28.756505   \n",
       "min                                   -784.091091   \n",
       "25%                                   -500.206517   \n",
       "50%                                   -500.003902   \n",
       "75%                                   -499.791639   \n",
       "max                                   -300.343670   \n",
       "\n",
       "       secondary_cleaner.state.floatbank2_b_air  \\\n",
       "count                               5288.000000   \n",
       "mean                                  21.949119   \n",
       "std                                    4.354961   \n",
       "min                                    0.006064   \n",
       "25%                                   20.002315   \n",
       "50%                                   22.942603   \n",
       "75%                                   24.985013   \n",
       "max                                   28.165864   \n",
       "\n",
       "       secondary_cleaner.state.floatbank2_b_level  \\\n",
       "count                                 5290.000000   \n",
       "mean                                  -501.987097   \n",
       "std                                     34.582722   \n",
       "min                                   -797.783989   \n",
       "25%                                   -500.218030   \n",
       "50%                                   -500.019058   \n",
       "75%                                   -499.831532   \n",
       "max                                   -211.999273   \n",
       "\n",
       "       secondary_cleaner.state.floatbank3_a_air  \\\n",
       "count                               5281.000000   \n",
       "mean                                  25.402926   \n",
       "std                                    6.526457   \n",
       "min                                    0.000000   \n",
       "25%                                   22.982288   \n",
       "50%                                   25.010105   \n",
       "75%                                   30.002063   \n",
       "max                                   40.041997   \n",
       "\n",
       "       secondary_cleaner.state.floatbank3_a_level  \\\n",
       "count                                 5290.000000   \n",
       "mean                                  -507.490314   \n",
       "std                                     47.620908   \n",
       "min                                   -799.755798   \n",
       "25%                                   -500.297951   \n",
       "50%                                   -500.034578   \n",
       "75%                                   -499.780163   \n",
       "max                                   -313.866425   \n",
       "\n",
       "       secondary_cleaner.state.floatbank3_b_air  \\\n",
       "count                              5.290000e+03   \n",
       "mean                               2.098211e+01   \n",
       "std                                6.736179e+00   \n",
       "min                                1.521587e-17   \n",
       "25%                                1.796786e+01   \n",
       "50%                                2.100316e+01   \n",
       "75%                                2.697698e+01   \n",
       "max                                3.203936e+01   \n",
       "\n",
       "       secondary_cleaner.state.floatbank3_b_level  \\\n",
       "count                                 5290.000000   \n",
       "mean                                  -506.627916   \n",
       "std                                     44.528673   \n",
       "min                                   -809.333008   \n",
       "25%                                   -500.145128   \n",
       "50%                                   -500.013819   \n",
       "75%                                   -499.890608   \n",
       "max                                   -202.277366   \n",
       "\n",
       "       secondary_cleaner.state.floatbank4_a_air  \\\n",
       "count                              5.290000e+03   \n",
       "mean                               1.632007e+01   \n",
       "std                                3.493583e+00   \n",
       "min                                1.079872e-16   \n",
       "25%                                1.403618e+01   \n",
       "50%                                1.700847e+01   \n",
       "75%                                1.803862e+01   \n",
       "max                                3.005180e+01   \n",
       "\n",
       "       secondary_cleaner.state.floatbank4_a_level  \\\n",
       "count                                 5290.000000   \n",
       "mean                                  -505.144570   \n",
       "std                                     31.427337   \n",
       "min                                   -799.798523   \n",
       "25%                                   -500.868258   \n",
       "50%                                   -500.115727   \n",
       "75%                                   -499.404224   \n",
       "max                                   -401.565212   \n",
       "\n",
       "       secondary_cleaner.state.floatbank4_b_air  \\\n",
       "count                              5.290000e+03   \n",
       "mean                               1.373544e+01   \n",
       "std                                3.430484e+00   \n",
       "min                                2.489718e-17   \n",
       "25%                                1.202862e+01   \n",
       "50%                                1.496486e+01   \n",
       "75%                                1.596213e+01   \n",
       "max                                3.126971e+01   \n",
       "\n",
       "       secondary_cleaner.state.floatbank4_b_level  \\\n",
       "count                                 5290.000000   \n",
       "mean                                  -463.349858   \n",
       "std                                     86.189107   \n",
       "min                                   -800.836914   \n",
       "25%                                   -500.323028   \n",
       "50%                                   -499.576513   \n",
       "75%                                   -400.933805   \n",
       "max                                     -6.506986   \n",
       "\n",
       "       secondary_cleaner.state.floatbank5_a_air  \\\n",
       "count                               5290.000000   \n",
       "mean                                  12.804186   \n",
       "std                                    3.026591   \n",
       "min                                    0.069227   \n",
       "25%                                   10.914838   \n",
       "50%                                   12.954182   \n",
       "75%                                   15.097528   \n",
       "max                                   25.258848   \n",
       "\n",
       "       secondary_cleaner.state.floatbank5_a_level  \\\n",
       "count                                 5290.000000   \n",
       "mean                                  -501.329122   \n",
       "std                                     17.951495   \n",
       "min                                   -797.323986   \n",
       "25%                                   -500.726841   \n",
       "50%                                   -499.990332   \n",
       "75%                                   -499.283191   \n",
       "max                                   -244.483566   \n",
       "\n",
       "       secondary_cleaner.state.floatbank5_b_air  \\\n",
       "count                               5290.000000   \n",
       "mean                                   9.881145   \n",
       "std                                    2.868205   \n",
       "min                                    0.528083   \n",
       "25%                                    8.036719   \n",
       "50%                                   10.004301   \n",
       "75%                                   11.997467   \n",
       "max                                   14.086866   \n",
       "\n",
       "       secondary_cleaner.state.floatbank5_b_level  \\\n",
       "count                                 5290.000000   \n",
       "mean                                  -495.663398   \n",
       "std                                     34.535007   \n",
       "min                                   -800.220337   \n",
       "25%                                   -500.194668   \n",
       "50%                                   -499.990535   \n",
       "75%                                   -499.719913   \n",
       "max                                   -137.740004   \n",
       "\n",
       "       secondary_cleaner.state.floatbank6_a_air  \\\n",
       "count                               5290.000000   \n",
       "mean                                  17.304935   \n",
       "std                                    4.536544   \n",
       "min                                   -0.079426   \n",
       "25%                                   13.997317   \n",
       "50%                                   16.014935   \n",
       "75%                                   21.020013   \n",
       "max                                   26.705889   \n",
       "\n",
       "       secondary_cleaner.state.floatbank6_a_level  \n",
       "count                                 5290.000000  \n",
       "mean                                  -501.793193  \n",
       "std                                     39.044215  \n",
       "min                                   -809.741464  \n",
       "25%                                   -500.690984  \n",
       "50%                                   -500.007126  \n",
       "75%                                   -499.373018  \n",
       "max                                   -123.307487  "
      ]
     },
     "metadata": {},
     "output_type": "display_data"
    },
    {
     "name": "stdout",
     "output_type": "stream",
     "text": [
      "\n",
      "Количество явных дубликатов в таблице\n",
      "\n"
     ]
    },
    {
     "data": {
      "text/plain": [
       "0"
      ]
     },
     "metadata": {},
     "output_type": "display_data"
    }
   ],
   "source": [
    "info(test_data)"
   ]
  },
  {
   "cell_type": "markdown",
   "metadata": {},
   "source": [
    "Тестовая выборка содержит 52 колонки. Некоторые параметры недоступны, потому что замеряются и/или рассчитываются значительно позже. Из-за этого в тестовой выборке отсутствуют некоторые признаки, которые могут быть в обучающей. Также в тестовом наборе нет целевых признаков. В выборке есть небольшое количество пропусков. Явные дубликаты отсутствуют."
   ]
  },
  {
   "cell_type": "markdown",
   "metadata": {},
   "source": [
    "### Проверка расчета эффективности обогащения"
   ]
  },
  {
   "cell_type": "markdown",
   "metadata": {},
   "source": [
    "Проверю, что эффективность обогащения рассчитана правильно. Вычислю её на обучающей выборке для признака `rougher.output.recovery`."
   ]
  },
  {
   "cell_type": "markdown",
   "metadata": {},
   "source": [
    "Эффективность обогащения рассчитывается по формуле: **`C(F-T)/F(C-T)*100%`**\n",
    "\n",
    "где:\n",
    " - **C** — доля золота в концентрате после флотации/очистки;\n",
    " - **F** — доля золота в сырье/концентрате до флотации/очистки;\n",
    " - **T** — доля золота в отвальных хвостах после флотации/очистки."
   ]
  },
  {
   "cell_type": "code",
   "execution_count": 7,
   "metadata": {},
   "outputs": [],
   "source": [
    "data_recovery = train_data[~train_data['rougher.output.recovery'].isna()]\n",
    "C = data_recovery['rougher.output.concentrate_au']\n",
    "F = data_recovery['rougher.input.feed_au']\n",
    "T = data_recovery['rougher.output.tail_au']"
   ]
  },
  {
   "cell_type": "code",
   "execution_count": 8,
   "metadata": {},
   "outputs": [],
   "source": [
    "recovery_train = (C*(F-T)) / (F*(C-T)) * 100"
   ]
  },
  {
   "cell_type": "code",
   "execution_count": 9,
   "metadata": {},
   "outputs": [
    {
     "name": "stdout",
     "output_type": "stream",
     "text": [
      "82.70450164550293\n",
      "82.70450164550293\n"
     ]
    }
   ],
   "source": [
    "print(recovery_train.mean())\n",
    "print(data_recovery['rougher.output.recovery'].mean())"
   ]
  },
  {
   "cell_type": "markdown",
   "metadata": {},
   "source": [
    "Эффективность обогащения рассчитана правильно. Среднее значение эффективности обогащения полученное по формуле и среднее значение из данных равны. Найду MAE между моими расчётами и значением признака."
   ]
  },
  {
   "cell_type": "code",
   "execution_count": 10,
   "metadata": {},
   "outputs": [
    {
     "data": {
      "text/plain": [
       "0.0"
      ]
     },
     "execution_count": 10,
     "metadata": {},
     "output_type": "execute_result"
    }
   ],
   "source": [
    "mae = round(mean_absolute_error(data_recovery['rougher.output.recovery'], recovery_train), 3)\n",
    "mae"
   ]
  },
  {
   "cell_type": "markdown",
   "metadata": {},
   "source": [
    "Среднее абсолютное отклонение равно 0.0. Это говорит о том, что эффективность обогащения рассчитана верно."
   ]
  },
  {
   "cell_type": "markdown",
   "metadata": {},
   "source": [
    "### Анализ признаков недоступных в тестовой выборке"
   ]
  },
  {
   "cell_type": "markdown",
   "metadata": {},
   "source": [
    "Проанализирую признаки, которые недоступны в тестовой выборке. Что это за параметры? К какому типу относятся?"
   ]
  },
  {
   "cell_type": "code",
   "execution_count": 11,
   "metadata": {},
   "outputs": [
    {
     "data": {
      "text/plain": [
       "['final.output.concentrate_ag',\n",
       " 'final.output.concentrate_pb',\n",
       " 'final.output.concentrate_sol',\n",
       " 'final.output.concentrate_au',\n",
       " 'final.output.recovery',\n",
       " 'final.output.tail_ag',\n",
       " 'final.output.tail_pb',\n",
       " 'final.output.tail_sol',\n",
       " 'final.output.tail_au',\n",
       " 'primary_cleaner.output.concentrate_ag',\n",
       " 'primary_cleaner.output.concentrate_pb',\n",
       " 'primary_cleaner.output.concentrate_sol',\n",
       " 'primary_cleaner.output.concentrate_au',\n",
       " 'primary_cleaner.output.tail_ag',\n",
       " 'primary_cleaner.output.tail_pb',\n",
       " 'primary_cleaner.output.tail_sol',\n",
       " 'primary_cleaner.output.tail_au',\n",
       " 'rougher.calculation.sulfate_to_au_concentrate',\n",
       " 'rougher.calculation.floatbank10_sulfate_to_au_feed',\n",
       " 'rougher.calculation.floatbank11_sulfate_to_au_feed',\n",
       " 'rougher.calculation.au_pb_ratio',\n",
       " 'rougher.output.concentrate_ag',\n",
       " 'rougher.output.concentrate_pb',\n",
       " 'rougher.output.concentrate_sol',\n",
       " 'rougher.output.concentrate_au',\n",
       " 'rougher.output.recovery',\n",
       " 'rougher.output.tail_ag',\n",
       " 'rougher.output.tail_pb',\n",
       " 'rougher.output.tail_sol',\n",
       " 'rougher.output.tail_au',\n",
       " 'secondary_cleaner.output.tail_ag',\n",
       " 'secondary_cleaner.output.tail_pb',\n",
       " 'secondary_cleaner.output.tail_sol',\n",
       " 'secondary_cleaner.output.tail_au']"
      ]
     },
     "execution_count": 11,
     "metadata": {},
     "output_type": "execute_result"
    }
   ],
   "source": [
    "columns_not_test = [i for i in train_data.columns if i not in test_data.columns]\n",
    "columns_not_test"
   ]
  },
  {
   "cell_type": "markdown",
   "metadata": {},
   "source": [
    "В тестовой выборке не содержатся признаки относящиеся к этапам: первичной очистки, вторичной очистки и финальной характеристике, включающие в себя типы: параметра продукта и расчетные характеристики. \n",
    "\n",
    "Также отстствует рассчитанное recovery на разных этапах и не включены целевые признаки. \n",
    "\n",
    "Эти данные не подходят для тренировки модели, так как появляются во время или после измерения целевых признаков."
   ]
  },
  {
   "cell_type": "markdown",
   "metadata": {},
   "source": [
    "### Предобработка данных"
   ]
  },
  {
   "cell_type": "markdown",
   "metadata": {},
   "source": [
    "Заменю тип данных для признака `date`."
   ]
  },
  {
   "cell_type": "code",
   "execution_count": 15,
   "metadata": {},
   "outputs": [],
   "source": [
    "full_data['date'] = pd.to_datetime(full_data['date'])\n",
    "train_data['date'] = pd.to_datetime(train_data['date'])\n",
    "test_data['date'] = pd.to_datetime(test_data['date'])"
   ]
  },
  {
   "cell_type": "markdown",
   "metadata": {},
   "source": [
    "В описании проекта указано, что данные индексируются датой и временем получения информации (признак `date`) и соседние по времени параметры часто похожи. Поэтому заполню пропуски значением из предыдущей строки."
   ]
  },
  {
   "cell_type": "code",
   "execution_count": 16,
   "metadata": {},
   "outputs": [],
   "source": [
    "full_data.fillna(method='ffill', inplace=True)\n",
    "train_data.fillna(method='ffill', inplace=True)\n",
    "test_data.fillna(method='ffill', inplace=True)"
   ]
  },
  {
   "cell_type": "markdown",
   "metadata": {},
   "source": [
    "Добавлю в тестовую выборку целевые признаки. А признаки из обучающей выборки, которые не содержатся в тестовой выборке удалю перед разделением выборки на признаки и целевые признаки."
   ]
  },
  {
   "cell_type": "code",
   "execution_count": 17,
   "metadata": {},
   "outputs": [],
   "source": [
    "target_columns = full_data[['date', 'rougher.output.recovery', 'final.output.recovery']]\n",
    "test_data = test_data.merge(target_columns, on='date', how='left')"
   ]
  },
  {
   "cell_type": "code",
   "execution_count": 18,
   "metadata": {},
   "outputs": [
    {
     "data": {
      "text/plain": [
       "(5290, 55)"
      ]
     },
     "metadata": {},
     "output_type": "display_data"
    },
    {
     "data": {
      "text/plain": [
       "(14149, 87)"
      ]
     },
     "metadata": {},
     "output_type": "display_data"
    }
   ],
   "source": [
    "display(test_data.shape)\n",
    "display(train_data.shape)"
   ]
  },
  {
   "cell_type": "markdown",
   "metadata": {},
   "source": [
    "***Вывод:***\n",
    "\n",
    "- изучены файлы\n",
    "- проведена проверка расчета эффективности обогащения\n",
    "- рассмотрены признаки, недоступные в тестовой выборке\n",
    "- заполнен пропуски значением из предыдущей строки, так как данные индексируются датой и временем получения информации и соседние по времени параметры часто похожи\n",
    "- в тестовую выборку добавлены целевые признаки."
   ]
  },
  {
   "cell_type": "markdown",
   "metadata": {},
   "source": [
    "## Анализ данных"
   ]
  },
  {
   "cell_type": "markdown",
   "metadata": {},
   "source": [
    "### Рассмотрение изменения концентрации металлов (Au, Ag, Pb) на различных этапах очистки."
   ]
  },
  {
   "cell_type": "markdown",
   "metadata": {},
   "source": [
    " - `rougher.input.feed` - исходное сырье\n",
    " - `rougher.output.concentrate` - параметры продукта после флотации \n",
    " - `primary_cleaner.output` - параметры продукта после первой очистки\n",
    " - `final.output.concentrate` - финальный концентрат продукта"
   ]
  },
  {
   "cell_type": "code",
   "execution_count": 19,
   "metadata": {},
   "outputs": [],
   "source": [
    "def concentrate_level (feed, rougher, primary_cleaner, final, title):\n",
    "    \n",
    "    plt.figure(figsize = [10,8])\n",
    "    \n",
    "    plt.hist(feed, bins = 100, alpha= 0.4, label ='концентрация до флотации')\n",
    "    plt.hist(rougher, bins = 100, alpha= 0.4, label ='концентрация после флотации')\n",
    "    plt.hist(primary_cleaner, bins = 100, alpha= 0.4, label ='концентрация после первой очистки')\n",
    "    plt.hist(final, bins = 100, alpha= 0.4, label ='концентрация после второй очистки')\n",
    "\n",
    "    plt.title('Распределение концентрации ' + title)\n",
    "    plt.legend()\n",
    "    \n",
    "    print(f'Концентрация {title} до флотации: {round(feed.mean(), 2)} % \\n',\n",
    "          f'Концентрация {title} после флотации: {round(rougher.mean(), 2)} % \\n',\n",
    "          f'Концентрация {title} после первой очистки: {round(primary_cleaner.mean(), 2)} % \\n',\n",
    "          f'Концентрация {title} после второй очистки: {round(final.mean(), 2)} %')  \n",
    "    plt.show()"
   ]
  },
  {
   "cell_type": "code",
   "execution_count": 20,
   "metadata": {},
   "outputs": [
    {
     "name": "stdout",
     "output_type": "stream",
     "text": [
      "Концентрация золота до флотации: 7.87 % \n",
      " Концентрация золота после флотации: 19.44 % \n",
      " Концентрация золота после первой очистки: 32.39 % \n",
      " Концентрация золота после второй очистки: 44.0 %\n"
     ]
    },
    {
     "data": {
      "image/png": "[encoded data removed]",
      "text/plain": [
       "<Figure size 720x576 with 1 Axes>"
      ]
     },
     "metadata": {
      "needs_background": "light"
     },
     "output_type": "display_data"
    },
    {
     "name": "stdout",
     "output_type": "stream",
     "text": [
      "Концентрация серебра до флотации: 8.58 % \n",
      " Концентрация серебра после флотации: 11.78 % \n",
      " Концентрация серебра после первой очистки: 8.2 % \n",
      " Концентрация серебра после второй очистки: 5.14 %\n"
     ]
    },
    {
     "data": {
      "image/png": "[encoded data removed]",
      "text/plain": [
       "<Figure size 720x576 with 1 Axes>"
      ]
     },
     "metadata": {
      "needs_background": "light"
     },
     "output_type": "display_data"
    },
    {
     "name": "stdout",
     "output_type": "stream",
     "text": [
      "Концентрация свинца до флотации: 3.51 % \n",
      " Концентрация свинца после флотации: 7.66 % \n",
      " Концентрация свинца после первой очистки: 9.57 % \n",
      " Концентрация свинца после второй очистки: 10.13 %\n"
     ]
    },
    {
     "data": {
      "image/png": "[encoded data removed]",
      "text/plain": [
       "<Figure size 720x576 with 1 Axes>"
      ]
     },
     "metadata": {
      "needs_background": "light"
     },
     "output_type": "display_data"
    }
   ],
   "source": [
    "concentrate_level(train_data['rougher.input.feed_au'],\n",
    "                  train_data['rougher.output.concentrate_au'],\n",
    "                  train_data['primary_cleaner.output.concentrate_au'],\n",
    "                  train_data['final.output.concentrate_au'],\n",
    "                  'золота')\n",
    "\n",
    "concentrate_level(train_data['rougher.input.feed_ag'],\n",
    "                  train_data['rougher.output.concentrate_ag'],\n",
    "                  train_data['primary_cleaner.output.concentrate_ag'],\n",
    "                  train_data['final.output.concentrate_ag'],\n",
    "                  'серебра')\n",
    "\n",
    "concentrate_level(train_data['rougher.input.feed_pb'],\n",
    "                  train_data['rougher.output.concentrate_pb'],\n",
    "                  train_data['primary_cleaner.output.concentrate_pb'],\n",
    "                  train_data['final.output.concentrate_pb'],\n",
    "                  'свинца')"
   ]
  },
  {
   "cell_type": "markdown",
   "metadata": {},
   "source": [
    "***Вывод:***\n",
    "\n",
    "Концентрация золота и свинца с каждым этапом очистки увеличивается. Концентрация серебра после флотации увеличивается, но после очистки снижается. Для каждого металла наблюдаются выбросы в нулевом значении."
   ]
  },
  {
   "cell_type": "markdown",
   "metadata": {},
   "source": [
    "### Сравнение распределения размеров гранул сырья на обучающей и тестовой выборках. Если распределения сильно отличаются друг от друга, оценка модели будет неправильной."
   ]
  },
  {
   "cell_type": "markdown",
   "metadata": {},
   "source": [
    "Рассмотрю, распределение азмеров гранул сырья на обучающей и тестовой выборках. Рассмотрю этапы до флотации и после флотации."
   ]
  },
  {
   "cell_type": "code",
   "execution_count": 21,
   "metadata": {},
   "outputs": [
    {
     "data": {
      "image/png": "[encoded data removed]",
      "text/plain": [
       "<Figure size 432x432 with 1 Axes>"
      ]
     },
     "metadata": {
      "needs_background": "light"
     },
     "output_type": "display_data"
    }
   ],
   "source": [
    "plt.figure(figsize=(6,6))\n",
    "sns.distplot(train_data['rougher.input.feed_size'], label='train')\n",
    "sns.distplot(test_data['rougher.input.feed_size'], label='test')\n",
    "plt.title('Распределение размеров гранул исходного сырья')\n",
    "plt.legend()\n",
    "plt.show()"
   ]
  },
  {
   "cell_type": "code",
   "execution_count": 22,
   "metadata": {},
   "outputs": [
    {
     "data": {
      "image/png": "[encoded data removed]",
      "text/plain": [
       "<Figure size 432x432 with 1 Axes>"
      ]
     },
     "metadata": {
      "needs_background": "light"
     },
     "output_type": "display_data"
    }
   ],
   "source": [
    "plt.figure(figsize=(6,6))\n",
    "sns.distplot(train_data['primary_cleaner.input.feed_size'], label='train')\n",
    "sns.distplot(test_data['primary_cleaner.input.feed_size'], label='test')\n",
    "plt.title('Распределение размеров гранул сырья после флотации')\n",
    "plt.legend()\n",
    "plt.show()"
   ]
  },
  {
   "cell_type": "markdown",
   "metadata": {},
   "source": [
    "***Вывод:***\n",
    "\n",
    "Визуально распределения схожи, значительных отличий не наблюдается. Данные можно использовать для оценки модели."
   ]
  },
  {
   "cell_type": "markdown",
   "metadata": {},
   "source": [
    "### Исследование суммарной концентрации всех веществ на разных стадиях: в сырье, в черновом и финальном концентратах. "
   ]
  },
  {
   "cell_type": "markdown",
   "metadata": {},
   "source": [
    "Далее рассмотрю суммарную концентрацию всех веществ на разных стадиях."
   ]
  },
  {
   "cell_type": "code",
   "execution_count": 23,
   "metadata": {},
   "outputs": [],
   "source": [
    "feed_total = (train_data['rougher.input.feed_au'] + train_data['rougher.input.feed_ag'] \n",
    "              + train_data['rougher.input.feed_pb'] + train_data['rougher.input.feed_sol'])\n",
    "\n",
    "rougher_total = (train_data['rougher.output.concentrate_au'] + train_data['rougher.output.concentrate_ag'] \n",
    "                 + train_data['rougher.output.concentrate_pb'] +train_data['rougher.output.concentrate_sol'])\n",
    "\n",
    "primary_cleaner_total = (train_data['primary_cleaner.output.concentrate_au'] \n",
    "                         + train_data['primary_cleaner.output.concentrate_ag'] \n",
    "                         + train_data['primary_cleaner.output.concentrate_pb'] \n",
    "                         + train_data['primary_cleaner.output.concentrate_sol'])\n",
    "\n",
    "final_total = (train_data['final.output.concentrate_au'] + train_data['final.output.concentrate_ag'] \n",
    "               + train_data['final.output.concentrate_pb'] + train_data['final.output.concentrate_sol'])"
   ]
  },
  {
   "cell_type": "code",
   "execution_count": 24,
   "metadata": {
    "scrolled": false
   },
   "outputs": [
    {
     "name": "stdout",
     "output_type": "stream",
     "text": [
      "Суммарная концентрация веществ до флотации: 795770.46 \n",
      " Суммарная концентрация веществ после флотации: 950432.83 \n",
      " Суммарная концентрация веществ после первой очистки: 851381.35 \n",
      " Суммарная концентрация веществ после второй очистки: 967620.0\n"
     ]
    },
    {
     "data": {
      "image/png": "[encoded data removed]",
      "text/plain": [
       "<Figure size 864x648 with 1 Axes>"
      ]
     },
     "metadata": {
      "needs_background": "light"
     },
     "output_type": "display_data"
    }
   ],
   "source": [
    "plt.figure(figsize = [12,9])\n",
    "\n",
    "plt.hist(feed_total, bins = 50, alpha= 0.5, label ='суммарная концентрация всех веществ до флотации')\n",
    "plt.hist(rougher_total, bins = 50, alpha= 0.5, label ='суммарная концентрация всех веществ после флотации')\n",
    "plt.hist(primary_cleaner_total, bins = 50, alpha= 0.5, label ='суммарная концентрация всех веществ после первой очистки')\n",
    "plt.hist(final_total, bins = 50, alpha= 0.5, label ='суммарная концентрация всех веществ после второй очистки')\n",
    "\n",
    "plt.title('Суммарная концентрация всех веществ на разных стадиях очистки')\n",
    "plt.legend()\n",
    "\n",
    "print(f'Суммарная концентрация веществ до флотации: {round(feed_total.sum(), 2)} \\n',\n",
    "      f'Суммарная концентрация веществ после флотации: {round(rougher_total.sum(), 2)} \\n',\n",
    "      f'Суммарная концентрация веществ после первой очистки: {round(primary_cleaner_total.sum(), 2)} \\n',\n",
    "      f'Суммарная концентрация веществ после второй очистки: {round(final_total.sum(), 2)}') \n",
    "\n",
    "plt.show()"
   ]
  },
  {
   "cell_type": "markdown",
   "metadata": {},
   "source": [
    "При рассмотрении концентрации всех веществ опять же видны выбросы в районе нулевых значений. Это говорит о том, что либо измерения не проводились, либо утеряны данные. Удалю из обучающей выборки значения меньше 1."
   ]
  },
  {
   "cell_type": "code",
   "execution_count": 25,
   "metadata": {},
   "outputs": [
    {
     "name": "stdout",
     "output_type": "stream",
     "text": [
      "Удалено 845 объектов\n"
     ]
    }
   ],
   "source": [
    "before_len = len(train_data)\n",
    "train_data = train_data.loc[(train_data['rougher.input.feed_au'] >= 1) &\n",
    "                  (train_data['rougher.input.feed_ag'] >= 1) &\n",
    "                  (train_data['rougher.input.feed_pb'] >= 1) &\n",
    "                  (train_data['rougher.input.feed_sol'] >= 1) &\n",
    "                  (train_data['rougher.output.concentrate_au'] >= 1) &\n",
    "                  (train_data['rougher.output.concentrate_ag'] >= 1) &\n",
    "                  (train_data['rougher.output.concentrate_pb'] >= 1) &\n",
    "                  (train_data['rougher.output.concentrate_sol'] >= 1) &\n",
    "                  (train_data['primary_cleaner.output.concentrate_au'] >= 1) &\n",
    "                  (train_data['primary_cleaner.output.concentrate_ag'] >= 1) &\n",
    "                  (train_data['primary_cleaner.output.concentrate_pb'] >= 1) &\n",
    "                  (train_data['primary_cleaner.output.concentrate_sol'] >= 1) &\n",
    "                  (train_data['final.output.concentrate_au'] >= 1) &\n",
    "                  (train_data['final.output.concentrate_ag'] >= 1) &\n",
    "                  (train_data['final.output.concentrate_pb'] >= 1) &\n",
    "                  (train_data['final.output.concentrate_sol'] >= 1)]\n",
    "           \n",
    "print(f'Удалено {before_len - len(train_data)} объектов')"
   ]
  },
  {
   "cell_type": "markdown",
   "metadata": {},
   "source": [
    "***Вывод:***\n",
    "\n",
    " - Суммарная концентрация всех веществ увеличивается на каждом этапе очистки.\n",
    " - Выявлены аномалии в районе нулевых значений и удалены."
   ]
  },
  {
   "cell_type": "markdown",
   "metadata": {},
   "source": [
    "## Модель"
   ]
  },
  {
   "cell_type": "markdown",
   "metadata": {},
   "source": [
    "### Функция для вычисления итоговой sMAPE."
   ]
  },
  {
   "cell_type": "markdown",
   "metadata": {},
   "source": [
    "Напишу функцию для вычисления итоговой sMAPE."
   ]
  },
  {
   "cell_type": "code",
   "execution_count": 26,
   "metadata": {},
   "outputs": [],
   "source": [
    "def smape_function(target, predictions):\n",
    "    return 1 / len(target) * np.sum(np.abs(target - predictions) / ((np.abs(target) + np.abs(predictions)) / 2)) * 100"
   ]
  },
  {
   "cell_type": "code",
   "execution_count": 27,
   "metadata": {},
   "outputs": [],
   "source": [
    "def smape_final(smape_rougher, smape_final):\n",
    "    result = (0.25 * smape_rougher + 0.75 * smape_final)\n",
    "    return result"
   ]
  },
  {
   "cell_type": "markdown",
   "metadata": {},
   "source": [
    "Использую для своей функции sMAPE make_scorer() из библиотеки scikit-learn."
   ]
  },
  {
   "cell_type": "code",
   "execution_count": 28,
   "metadata": {},
   "outputs": [],
   "source": [
    "smape = make_scorer(smape_function)"
   ]
  },
  {
   "cell_type": "markdown",
   "metadata": {},
   "source": [
    "### Обучение разных моделей и оценка их качества кросс-валидацией. Определение лучшей модели и проверка её на тестовой выборке."
   ]
  },
  {
   "cell_type": "markdown",
   "metadata": {},
   "source": [
    "Разделю таблицы на признаки и целевые признаки. Удалю из обучающей выборки признаки, которые не содержатся в тестовой выборке."
   ]
  },
  {
   "cell_type": "code",
   "execution_count": 29,
   "metadata": {},
   "outputs": [],
   "source": [
    "train_data = train_data[test_data.columns]\n",
    "\n",
    "features_train = train_data.drop(['date', 'rougher.output.recovery', 'final.output.recovery'], axis=1)\n",
    "target_train_rougher = train_data['rougher.output.recovery']\n",
    "target_train_final = train_data['final.output.recovery']\n",
    "\n",
    "features_test = test_data.drop(['date', 'rougher.output.recovery', 'final.output.recovery'], axis=1)\n",
    "target_test_rougher = test_data['rougher.output.recovery']\n",
    "target_test_final = test_data['final.output.recovery']"
   ]
  },
  {
   "cell_type": "code",
   "execution_count": 30,
   "metadata": {},
   "outputs": [
    {
     "data": {
      "text/plain": [
       "(13304, 52)"
      ]
     },
     "metadata": {},
     "output_type": "display_data"
    },
    {
     "data": {
      "text/plain": [
       "(13304,)"
      ]
     },
     "metadata": {},
     "output_type": "display_data"
    },
    {
     "data": {
      "text/plain": [
       "(13304,)"
      ]
     },
     "metadata": {},
     "output_type": "display_data"
    },
    {
     "data": {
      "text/plain": [
       "(5290, 52)"
      ]
     },
     "metadata": {},
     "output_type": "display_data"
    },
    {
     "data": {
      "text/plain": [
       "(5290,)"
      ]
     },
     "metadata": {},
     "output_type": "display_data"
    },
    {
     "data": {
      "text/plain": [
       "(5290,)"
      ]
     },
     "metadata": {},
     "output_type": "display_data"
    }
   ],
   "source": [
    "display(features_train.shape)\n",
    "display(target_train_rougher.shape)\n",
    "display(target_train_final.shape)\n",
    "display(features_test.shape)\n",
    "display(target_test_rougher.shape)\n",
    "display(target_test_final.shape)"
   ]
  },
  {
   "cell_type": "markdown",
   "metadata": {},
   "source": [
    "Преобразую масштаб признаков методом стандартизации"
   ]
  },
  {
   "cell_type": "code",
   "execution_count": 31,
   "metadata": {},
   "outputs": [],
   "source": [
    "scaler = StandardScaler()\n",
    "scaler.fit(features_train)\n",
    "features_train = scaler.transform(features_train)"
   ]
  },
  {
   "cell_type": "markdown",
   "metadata": {},
   "source": [
    "#### Линейная регрессия"
   ]
  },
  {
   "cell_type": "markdown",
   "metadata": {},
   "source": [
    "Обучу и проверю модель линейной регрессии"
   ]
  },
  {
   "cell_type": "code",
   "execution_count": 32,
   "metadata": {},
   "outputs": [
    {
     "name": "stdout",
     "output_type": "stream",
     "text": [
      "sMAPE обогащения чернового концентрата: 7.28 %\n",
      " sMAPE обогащения финального концентрата: 10.68 %\n",
      " Итоговое sMAPE: 9.83 %\n",
      "CPU times: user 1.38 s, sys: 1.64 s, total: 3.02 s\n",
      "Wall time: 3.04 s\n"
     ]
    }
   ],
   "source": [
    "%%time \n",
    "\n",
    "\n",
    "model_lr = LinearRegression()\n",
    "score_rougher_lr = cross_val_score(model_lr, features_train, target_train_rougher, cv=5, scoring=smape).mean()\n",
    "score_final_lr = cross_val_score(model_lr, features_train, target_train_final, cv=5, scoring=smape).mean()\n",
    "smape_final_lr = smape_final(score_rougher_lr, score_final_lr)\n",
    "\n",
    "print(f'sMAPE обогащения чернового концентрата: {round(score_rougher_lr, 2)} %\\n',\n",
    "      f'sMAPE обогащения финального концентрата: {round(score_final_lr, 2)} %\\n',\n",
    "      f'Итоговое sMAPE: {round(smape_final_lr, 2)} %') "
   ]
  },
  {
   "cell_type": "markdown",
   "metadata": {},
   "source": [
    "#### Дерево решений"
   ]
  },
  {
   "cell_type": "code",
   "execution_count": 33,
   "metadata": {},
   "outputs": [
    {
     "name": "stdout",
     "output_type": "stream",
     "text": [
      "sMAPE обогащения чернового концентрата: 8.66 %\n",
      " sMAPE обогащения финального концентрата: 13.74 %\n",
      " Итоговое sMAPE: 12.47 %\n",
      "Наилучшая глубина дерева: 3\n",
      "CPU times: user 1min 24s, sys: 485 ms, total: 1min 25s\n",
      "Wall time: 1min 25s\n"
     ]
    }
   ],
   "source": [
    "%%time \n",
    "best_final_score_dtr = 100\n",
    "best_depth_dtr = 0\n",
    "for depth in range(2, 20):\n",
    "    model_dtr = DecisionTreeRegressor(random_state=12345, max_depth=depth)\n",
    "    score_rougher_dtr = cross_val_score(model_dtr, features_train, target_train_rougher, cv=5, scoring=smape).mean()\n",
    "    score_final_dtr = cross_val_score(model_dtr, features_train, target_train_final, cv=5, scoring=smape).mean()\n",
    "    smape_final_dtr = smape_final(score_rougher_dtr, score_final_dtr)\n",
    "    \n",
    "    if smape_final_dtr < best_final_score_dtr:\n",
    "        best_final_score_dtr = smape_final_dtr\n",
    "        best_depth_dtr = depth\n",
    "\n",
    "print(f'sMAPE обогащения чернового концентрата: {round(score_rougher_dtr, 2)} %\\n',\n",
    "      f'sMAPE обогащения финального концентрата: {round(score_final_dtr, 2)} %\\n',\n",
    "      f'Итоговое sMAPE: {round(smape_final_dtr, 2)} %') \n",
    "print('Наилучшая глубина дерева:', best_depth_dtr)"
   ]
  },
  {
   "cell_type": "markdown",
   "metadata": {},
   "source": [
    "#### Случайный лес"
   ]
  },
  {
   "cell_type": "code",
   "execution_count": 34,
   "metadata": {},
   "outputs": [
    {
     "name": "stdout",
     "output_type": "stream",
     "text": [
      "sMAPE обогащения чернового концентрата: 6.47 %\n",
      " sMAPE обогащения финального концентрата: 8.97 %\n",
      " Итоговое sMAPE: 8.35 %\n",
      "Наилучшая глубина:  4 Количество деревьев:  10\n",
      "CPU times: user 9min 2s, sys: 424 ms, total: 9min 2s\n",
      "Wall time: 9min 3s\n"
     ]
    }
   ],
   "source": [
    "%%time \n",
    "\n",
    "best_final_score_rfr = 100\n",
    "best_depth_rfr = 0\n",
    "best_est_rfr = 0\n",
    "\n",
    "for depth in range(1,7):\n",
    "    for est in range(5, 30, 5): \n",
    "        model_rfr = RandomForestRegressor(random_state=12345, \n",
    "                                       n_estimators=est, \n",
    "                                       max_depth=depth)\n",
    "        score_rougher_rfr = cross_val_score(model_rfr, features_train, target_train_rougher, cv=5, scoring=smape).mean()\n",
    "        score_final_rfr = cross_val_score(model_rfr, features_train, target_train_final, cv=5, scoring=smape).mean()\n",
    "\n",
    "        smape_final_rfr = smape_final(score_rougher_rfr, score_final_rfr)\n",
    "\n",
    "        if smape_final_rfr < best_final_score_rfr:\n",
    "            best_final_score_rfr = smape_final_rfr\n",
    "            best_depth_dtr = depth\n",
    "            best_est_rfr = est\n",
    "\n",
    "print(f'sMAPE обогащения чернового концентрата: {round(score_rougher_rfr, 2)} %\\n',\n",
    "      f'sMAPE обогащения финального концентрата: {round(score_final_rfr, 2)} %\\n',\n",
    "      f'Итоговое sMAPE: {round(smape_final_rfr, 2)} %') \n",
    "print('Наилучшая глубина: ', best_depth_dtr,\n",
    "     'Количество деревьев: ', best_est_rfr)"
   ]
  },
  {
   "cell_type": "markdown",
   "metadata": {},
   "source": [
    "Лучший результат показала модель случайного леса с глубиной 4 и количеством деревьев 10. Теперь проверю лучшую модель на тестовой выборке."
   ]
  },
  {
   "cell_type": "markdown",
   "metadata": {},
   "source": [
    "#### Проверка модели на тестовой выборке"
   ]
  },
  {
   "cell_type": "markdown",
   "metadata": {},
   "source": [
    "Чтобы оценить адекватность модели или проверить ее на вменяемость, необходимо сравнивайте модель со случайной. Проведу проверку модели на адекватность с помощью классификатора DummyRegressor из библиотеки sklearn. "
   ]
  },
  {
   "cell_type": "code",
   "execution_count": 35,
   "metadata": {},
   "outputs": [],
   "source": [
    "model_test = RandomForestRegressor(random_state=12345, \n",
    "                                       n_estimators=10, \n",
    "                                       max_depth=4)\n",
    "\n",
    "model_test.fit(features_train, target_train_rougher)\n",
    "predictions_r = model_test.predict(features_test)\n",
    "\n",
    "model_test.fit(features_train, target_train_final)\n",
    "predictions_f = model_test.predict(features_test)"
   ]
  },
  {
   "cell_type": "code",
   "execution_count": 36,
   "metadata": {},
   "outputs": [
    {
     "name": "stdout",
     "output_type": "stream",
     "text": [
      "Итоговое sMAPE на тестовой выборке: 9.01363339839013\n"
     ]
    }
   ],
   "source": [
    "smape_r = smape_function(target_test_rougher, predictions_r)\n",
    "smape_f = smape_function(target_test_final, predictions_f)\n",
    "\n",
    "print('Итоговое sMAPE на тестовой выборке:', (0.25 * smape_r + 0.75 * smape_f))"
   ]
  },
  {
   "cell_type": "markdown",
   "metadata": {},
   "source": [
    "Итоговое sMAPE на обученной тестовой выборке составляет 9.01, данный результат не много ниже, чем результат лучшей модели."
   ]
  },
  {
   "cell_type": "markdown",
   "metadata": {},
   "source": [
    "#### Проверка модели на адекватность"
   ]
  },
  {
   "cell_type": "code",
   "execution_count": 37,
   "metadata": {},
   "outputs": [],
   "source": [
    "dummy_regr = DummyRegressor(strategy='mean')\n",
    "\n",
    "dummy_regr.fit(features_train, target_train_rougher)\n",
    "predictions_r_dummy = dummy_regr.predict(features_test)\n",
    "\n",
    "dummy_regr.fit(features_train, target_train_final)\n",
    "predictions_f_dummy = dummy_regr.predict(features_test)"
   ]
  },
  {
   "cell_type": "code",
   "execution_count": 38,
   "metadata": {},
   "outputs": [
    {
     "name": "stdout",
     "output_type": "stream",
     "text": [
      "Итоговое sMAPE на константной модели 9.74499284619471\n"
     ]
    }
   ],
   "source": [
    "smape_r_dummy = smape_function(target_test_rougher, predictions_r_dummy)\n",
    "smape_f_dummy = smape_function(target_test_final, predictions_f_dummy)\n",
    "\n",
    "print('Итоговое sMAPE на константной модели', (0.25 * smape_r_dummy + 0.75 * smape_f_dummy))"
   ]
  },
  {
   "cell_type": "markdown",
   "metadata": {},
   "source": [
    "Итоговое sMAPE у модели на тестовой выборке лучше, чем у константной модели."
   ]
  },
  {
   "cell_type": "markdown",
   "metadata": {},
   "source": [
    "***Вывод:***\n",
    "\n",
    " - Написаны функции для расчета sMAPE и итоговой sMAPE\n",
    " - Данные обучены на моделях линейной регрессии, дерева решений и случайного леса\n",
    " - Лучший результат итогового sMAPE = 8,35% показала модель случайного леса с гиперпараметрами n_estimators = 10 и max_depth = 4\n",
    " - Наилучшие результаты для предсказания rougher.output.recovery показала модель случайного леса со значением 6,53%, наихудший дерево решений со значением 8,66%\n",
    " - Наилучшие результаты для предсказания final.output.recovery показала модель случайного леса со значением 8,92%, наихудший дерево решений со значением 13,74%\n",
    " - Проверена лучшая модель на тестовой выборке и на адекватность, обученная модель работает лучше чем константная модель: ошибка обученной модели составляет 9,01%, константной - 9,74%."
   ]
  },
  {
   "cell_type": "markdown",
   "metadata": {},
   "source": [
    "## Общий вывод\n",
    "\n",
    "В ходе создания проекта, было выполнено следующее:\n",
    "\n",
    "- Проверены расчеты в данных\n",
    "- Произведена предобработка данных, заполнены пропуски, удален аномалии\n",
    "- Проведен анализ данных\n",
    "   - рассмотрены изменения концентрации металлов на разных этапах очистки\n",
    "   - произведено сравнение распределения размеров гранул сырья в обучающей и тестовой выборках\n",
    "   - исследована суммарная концентрация всех веществ на разных стадиях очистки: в сырье, в черновом и финальном концентратах\n",
    "- Написана функция для расчета симметричного среднего абсолютного процентного отклонения sMAPE\n",
    "- Обучены модели линейной регрессии, дерева решений и случайного леса\n",
    "- Выбрана лучшая модель с наилучшим значением итогового sMAPE, её качество проверено на тестовой выборке и модель проверена на адекватность\n",
    "- Лучшей моделью является модель случайного леса с гиперпараметрами n_estimators = 10 и max_depth = 4. Ее sMAPE на обучающей выборке 8,35%, на тестовой выборке 9,01% и на константной модели 9,74%\n",
    "\n",
    "Таким образом создана модель, которая предсказывает коэффициент восстановления золота из золотосодержащей руды и которая поможет оптимизировать производство, чтобы не запускать предприятие с убыточными характеристиками."
   ]
  }
 ],
 "metadata": {
  "ExecuteTimeLog": [
   {
    "duration": 444,
    "start_time": "2023-01-11T11:34:20.409Z"
   },
   {
    "duration": 5,
    "start_time": "2023-01-11T11:36:39.103Z"
   },
   {
    "duration": 102,
    "start_time": "2023-01-11T11:39:17.152Z"
   },
   {
    "duration": 1996,
    "start_time": "2023-01-11T11:39:26.434Z"
   },
   {
    "duration": 4,
    "start_time": "2023-01-11T11:41:00.851Z"
   },
   {
    "duration": 384,
    "start_time": "2023-01-11T11:41:22.544Z"
   },
   {
    "duration": 930,
    "start_time": "2023-01-11T11:42:43.920Z"
   },
   {
    "duration": 793,
    "start_time": "2023-01-11T11:42:46.736Z"
   },
   {
    "duration": 5,
    "start_time": "2023-01-11T11:42:48.564Z"
   },
   {
    "duration": 34007,
    "start_time": "2023-01-11T11:42:51.075Z"
   },
   {
    "duration": 5,
    "start_time": "2023-01-11T11:47:11.251Z"
   },
   {
    "duration": 40165,
    "start_time": "2023-01-11T11:47:14.078Z"
   },
   {
    "duration": 6,
    "start_time": "2023-01-11T11:48:27.383Z"
   },
   {
    "duration": 39119,
    "start_time": "2023-01-11T11:48:29.354Z"
   },
   {
    "duration": 5,
    "start_time": "2023-01-11T11:58:38.382Z"
   },
   {
    "duration": 575,
    "start_time": "2023-01-11T11:58:41.534Z"
   },
   {
    "duration": 4,
    "start_time": "2023-01-11T12:06:14.898Z"
   },
   {
    "duration": 566,
    "start_time": "2023-01-11T12:06:17.466Z"
   },
   {
    "duration": 3,
    "start_time": "2023-01-11T12:12:52.744Z"
   },
   {
    "duration": 4,
    "start_time": "2023-01-11T12:12:56.942Z"
   },
   {
    "duration": 567,
    "start_time": "2023-01-11T12:13:01.362Z"
   },
   {
    "duration": 282,
    "start_time": "2023-01-11T12:13:49.613Z"
   },
   {
    "duration": 570,
    "start_time": "2023-01-11T12:14:49.812Z"
   },
   {
    "duration": 1193,
    "start_time": "2023-01-11T13:42:30.352Z"
   },
   {
    "duration": 666,
    "start_time": "2023-01-11T13:42:31.547Z"
   },
   {
    "duration": 4,
    "start_time": "2023-01-11T13:42:32.215Z"
   },
   {
    "duration": 634,
    "start_time": "2023-01-11T13:42:32.221Z"
   },
   {
    "duration": 283,
    "start_time": "2023-01-11T13:42:32.857Z"
   },
   {
    "duration": 578,
    "start_time": "2023-01-11T13:42:33.142Z"
   },
   {
    "duration": 1120,
    "start_time": "2023-01-11T13:43:39.706Z"
   },
   {
    "duration": 719,
    "start_time": "2023-01-11T13:43:40.828Z"
   },
   {
    "duration": 4,
    "start_time": "2023-01-11T13:43:41.549Z"
   },
   {
    "duration": 592,
    "start_time": "2023-01-11T13:43:41.555Z"
   },
   {
    "duration": 570,
    "start_time": "2023-01-11T13:43:42.148Z"
   },
   {
    "duration": 295,
    "start_time": "2023-01-11T13:43:42.719Z"
   },
   {
    "duration": 551,
    "start_time": "2023-01-11T13:47:30.451Z"
   },
   {
    "duration": 3,
    "start_time": "2023-01-11T13:49:18.494Z"
   },
   {
    "duration": 463,
    "start_time": "2023-01-11T13:49:21.658Z"
   },
   {
    "duration": 458,
    "start_time": "2023-01-11T13:51:45.234Z"
   },
   {
    "duration": 1147,
    "start_time": "2023-01-11T13:51:58.310Z"
   },
   {
    "duration": 702,
    "start_time": "2023-01-11T13:51:59.459Z"
   },
   {
    "duration": 4,
    "start_time": "2023-01-11T13:52:00.163Z"
   },
   {
    "duration": 465,
    "start_time": "2023-01-11T13:52:00.168Z"
   },
   {
    "duration": 484,
    "start_time": "2023-01-11T13:52:00.635Z"
   },
   {
    "duration": 240,
    "start_time": "2023-01-11T13:52:01.122Z"
   },
   {
    "duration": 104,
    "start_time": "2023-01-11T18:04:20.446Z"
   },
   {
    "duration": 20,
    "start_time": "2023-01-11T18:04:37.775Z"
   },
   {
    "duration": 75,
    "start_time": "2023-01-11T18:05:20.046Z"
   },
   {
    "duration": 66,
    "start_time": "2023-01-11T18:05:32.086Z"
   },
   {
    "duration": 91,
    "start_time": "2023-01-11T18:06:18.290Z"
   },
   {
    "duration": 33,
    "start_time": "2023-01-11T18:06:41.389Z"
   },
   {
    "duration": 23,
    "start_time": "2023-01-11T18:13:18.733Z"
   },
   {
    "duration": 21,
    "start_time": "2023-01-11T18:13:36.204Z"
   },
   {
    "duration": 19,
    "start_time": "2023-01-11T18:14:02.945Z"
   },
   {
    "duration": 29,
    "start_time": "2023-01-11T18:14:41.267Z"
   },
   {
    "duration": 20,
    "start_time": "2023-01-11T18:14:43.572Z"
   },
   {
    "duration": 1101,
    "start_time": "2023-01-11T18:16:15.195Z"
   },
   {
    "duration": 1263,
    "start_time": "2023-01-11T18:16:16.298Z"
   },
   {
    "duration": 5,
    "start_time": "2023-01-11T18:16:17.563Z"
   },
   {
    "duration": 457,
    "start_time": "2023-01-11T18:16:17.570Z"
   },
   {
    "duration": 451,
    "start_time": "2023-01-11T18:16:18.028Z"
   },
   {
    "duration": 214,
    "start_time": "2023-01-11T18:16:18.481Z"
   },
   {
    "duration": 19,
    "start_time": "2023-01-11T18:16:18.697Z"
   },
   {
    "duration": 167,
    "start_time": "2023-01-11T18:16:18.718Z"
   },
   {
    "duration": 19,
    "start_time": "2023-01-11T18:16:18.886Z"
   },
   {
    "duration": 93,
    "start_time": "2023-01-11T18:17:09.009Z"
   },
   {
    "duration": 17,
    "start_time": "2023-01-11T18:17:14.440Z"
   },
   {
    "duration": 86,
    "start_time": "2023-01-11T18:17:17.341Z"
   },
   {
    "duration": 65,
    "start_time": "2023-01-11T18:17:45.042Z"
   },
   {
    "duration": 19,
    "start_time": "2023-01-11T18:18:12.294Z"
   },
   {
    "duration": 99,
    "start_time": "2023-01-11T18:18:14.918Z"
   },
   {
    "duration": 12,
    "start_time": "2023-01-11T18:19:52.699Z"
   },
   {
    "duration": 6,
    "start_time": "2023-01-11T18:19:55.518Z"
   },
   {
    "duration": 10,
    "start_time": "2023-01-11T18:23:42.945Z"
   },
   {
    "duration": 6,
    "start_time": "2023-01-11T18:23:45.500Z"
   },
   {
    "duration": 8,
    "start_time": "2023-01-11T18:24:01.510Z"
   },
   {
    "duration": 5,
    "start_time": "2023-01-11T18:24:17.150Z"
   },
   {
    "duration": 5,
    "start_time": "2023-01-11T18:24:20.320Z"
   },
   {
    "duration": 7,
    "start_time": "2023-01-11T18:25:05.184Z"
   },
   {
    "duration": 6,
    "start_time": "2023-01-11T18:25:26.973Z"
   },
   {
    "duration": 4,
    "start_time": "2023-01-11T18:30:04.691Z"
   },
   {
    "duration": 112,
    "start_time": "2023-01-11T18:36:17.455Z"
   },
   {
    "duration": 316,
    "start_time": "2023-01-11T18:36:27.851Z"
   },
   {
    "duration": 7,
    "start_time": "2023-01-11T18:36:35.032Z"
   },
   {
    "duration": 6,
    "start_time": "2023-01-11T18:36:45.284Z"
   },
   {
    "duration": 7,
    "start_time": "2023-01-11T18:38:00.517Z"
   },
   {
    "duration": 5,
    "start_time": "2023-01-11T18:38:09.451Z"
   },
   {
    "duration": 2,
    "start_time": "2023-01-11T18:54:43.637Z"
   },
   {
    "duration": 6,
    "start_time": "2023-01-11T18:54:58.131Z"
   },
   {
    "duration": 15,
    "start_time": "2023-01-11T19:37:10.781Z"
   },
   {
    "duration": 10,
    "start_time": "2023-01-11T19:37:51.229Z"
   },
   {
    "duration": 8,
    "start_time": "2023-01-11T19:38:12.392Z"
   },
   {
    "duration": 162,
    "start_time": "2023-01-11T19:39:19.693Z"
   },
   {
    "duration": 140,
    "start_time": "2023-01-11T19:42:27.731Z"
   },
   {
    "duration": 5,
    "start_time": "2023-01-11T19:42:40.911Z"
   },
   {
    "duration": 147,
    "start_time": "2023-01-11T19:43:08.005Z"
   },
   {
    "duration": 4174,
    "start_time": "2023-01-11T19:43:25.759Z"
   },
   {
    "duration": 6,
    "start_time": "2023-01-11T19:45:48.440Z"
   },
   {
    "duration": 4235,
    "start_time": "2023-01-11T19:45:51.262Z"
   },
   {
    "duration": 6,
    "start_time": "2023-01-11T19:56:05.096Z"
   },
   {
    "duration": 17,
    "start_time": "2023-01-11T19:56:43.570Z"
   },
   {
    "duration": 8,
    "start_time": "2023-01-11T19:56:49.637Z"
   },
   {
    "duration": 7,
    "start_time": "2023-01-11T19:58:07.774Z"
   },
   {
    "duration": 8,
    "start_time": "2023-01-11T19:58:41.017Z"
   },
   {
    "duration": 9,
    "start_time": "2023-01-11T20:26:52.512Z"
   },
   {
    "duration": 12,
    "start_time": "2023-01-11T20:27:05.290Z"
   },
   {
    "duration": 45,
    "start_time": "2023-01-11T20:27:26.393Z"
   },
   {
    "duration": 17,
    "start_time": "2023-01-11T20:35:22.812Z"
   },
   {
    "duration": 48,
    "start_time": "2023-01-11T20:41:25.406Z"
   },
   {
    "duration": 69,
    "start_time": "2023-01-11T20:45:03.120Z"
   },
   {
    "duration": 77,
    "start_time": "2023-01-11T20:48:46.582Z"
   },
   {
    "duration": 16,
    "start_time": "2023-01-11T20:48:54.851Z"
   },
   {
    "duration": 13,
    "start_time": "2023-01-11T20:50:16.041Z"
   },
   {
    "duration": 9,
    "start_time": "2023-01-11T20:51:03.591Z"
   },
   {
    "duration": 1298,
    "start_time": "2023-01-11T20:51:37.603Z"
   },
   {
    "duration": 702,
    "start_time": "2023-01-11T20:51:38.903Z"
   },
   {
    "duration": 3,
    "start_time": "2023-01-11T20:51:39.607Z"
   },
   {
    "duration": 475,
    "start_time": "2023-01-11T20:51:39.612Z"
   },
   {
    "duration": 444,
    "start_time": "2023-01-11T20:51:40.088Z"
   },
   {
    "duration": 233,
    "start_time": "2023-01-11T20:51:40.533Z"
   },
   {
    "duration": 14,
    "start_time": "2023-01-11T20:51:40.768Z"
   },
   {
    "duration": 15,
    "start_time": "2023-01-11T20:51:40.784Z"
   },
   {
    "duration": 24,
    "start_time": "2023-01-11T20:51:40.800Z"
   },
   {
    "duration": 24,
    "start_time": "2023-01-11T20:51:40.826Z"
   },
   {
    "duration": 32,
    "start_time": "2023-01-11T20:51:40.851Z"
   },
   {
    "duration": 35,
    "start_time": "2023-01-11T20:51:40.885Z"
   },
   {
    "duration": 64,
    "start_time": "2023-01-11T20:51:40.922Z"
   },
   {
    "duration": 12,
    "start_time": "2023-01-11T20:52:11.250Z"
   },
   {
    "duration": 55,
    "start_time": "2023-01-12T09:05:58.759Z"
   },
   {
    "duration": 4,
    "start_time": "2023-01-12T09:11:48.113Z"
   },
   {
    "duration": 1446,
    "start_time": "2023-01-12T09:12:16.364Z"
   },
   {
    "duration": 2542,
    "start_time": "2023-01-12T09:12:17.812Z"
   },
   {
    "duration": 4,
    "start_time": "2023-01-12T09:12:20.356Z"
   },
   {
    "duration": 473,
    "start_time": "2023-01-12T09:12:20.362Z"
   },
   {
    "duration": 473,
    "start_time": "2023-01-12T09:12:20.837Z"
   },
   {
    "duration": 230,
    "start_time": "2023-01-12T09:12:21.312Z"
   },
   {
    "duration": 8,
    "start_time": "2023-01-12T09:12:21.544Z"
   },
   {
    "duration": 10,
    "start_time": "2023-01-12T09:12:21.553Z"
   },
   {
    "duration": 6,
    "start_time": "2023-01-12T09:12:21.564Z"
   },
   {
    "duration": 8,
    "start_time": "2023-01-12T09:12:21.572Z"
   },
   {
    "duration": 5,
    "start_time": "2023-01-12T09:12:21.581Z"
   },
   {
    "duration": 34,
    "start_time": "2023-01-12T09:12:21.587Z"
   },
   {
    "duration": 12,
    "start_time": "2023-01-12T09:12:21.623Z"
   },
   {
    "duration": 16,
    "start_time": "2023-01-12T09:12:21.637Z"
   },
   {
    "duration": 8,
    "start_time": "2023-01-12T09:17:20.663Z"
   },
   {
    "duration": 122,
    "start_time": "2023-01-12T09:18:44.879Z"
   },
   {
    "duration": 877,
    "start_time": "2023-01-12T09:19:13.953Z"
   },
   {
    "duration": 813,
    "start_time": "2023-01-12T09:20:07.472Z"
   },
   {
    "duration": 960,
    "start_time": "2023-01-12T09:20:30.211Z"
   },
   {
    "duration": 5,
    "start_time": "2023-01-12T09:21:44.557Z"
   },
   {
    "duration": 759,
    "start_time": "2023-01-12T09:21:46.874Z"
   },
   {
    "duration": 920,
    "start_time": "2023-01-12T09:21:55.236Z"
   },
   {
    "duration": 1346,
    "start_time": "2023-01-12T09:22:12.827Z"
   },
   {
    "duration": 685,
    "start_time": "2023-01-12T09:22:14.175Z"
   },
   {
    "duration": 4,
    "start_time": "2023-01-12T09:22:14.862Z"
   },
   {
    "duration": 517,
    "start_time": "2023-01-12T09:22:14.868Z"
   },
   {
    "duration": 491,
    "start_time": "2023-01-12T09:22:15.387Z"
   },
   {
    "duration": 241,
    "start_time": "2023-01-12T09:22:15.881Z"
   },
   {
    "duration": 8,
    "start_time": "2023-01-12T09:22:16.123Z"
   },
   {
    "duration": 7,
    "start_time": "2023-01-12T09:22:16.133Z"
   },
   {
    "duration": 6,
    "start_time": "2023-01-12T09:22:16.141Z"
   },
   {
    "duration": 16,
    "start_time": "2023-01-12T09:22:16.150Z"
   },
   {
    "duration": 7,
    "start_time": "2023-01-12T09:22:16.169Z"
   },
   {
    "duration": 37,
    "start_time": "2023-01-12T09:22:16.178Z"
   },
   {
    "duration": 14,
    "start_time": "2023-01-12T09:22:16.217Z"
   },
   {
    "duration": 5,
    "start_time": "2023-01-12T09:22:16.233Z"
   },
   {
    "duration": 986,
    "start_time": "2023-01-12T09:22:16.240Z"
   },
   {
    "duration": 2765,
    "start_time": "2023-01-12T09:25:25.751Z"
   },
   {
    "duration": 9,
    "start_time": "2023-01-12T09:26:17.281Z"
   },
   {
    "duration": 2812,
    "start_time": "2023-01-12T09:26:20.189Z"
   },
   {
    "duration": 6,
    "start_time": "2023-01-12T09:26:45.692Z"
   },
   {
    "duration": 2680,
    "start_time": "2023-01-12T09:26:47.167Z"
   },
   {
    "duration": 6,
    "start_time": "2023-01-12T09:27:04.689Z"
   },
   {
    "duration": 2709,
    "start_time": "2023-01-12T09:27:07.035Z"
   },
   {
    "duration": 744,
    "start_time": "2023-01-12T09:56:26.737Z"
   },
   {
    "duration": 591,
    "start_time": "2023-01-12T09:56:41.165Z"
   },
   {
    "duration": 726,
    "start_time": "2023-01-12T09:56:52.820Z"
   },
   {
    "duration": 570,
    "start_time": "2023-01-12T09:58:01.180Z"
   },
   {
    "duration": 589,
    "start_time": "2023-01-12T09:58:49.986Z"
   },
   {
    "duration": 3,
    "start_time": "2023-01-12T10:33:32.702Z"
   },
   {
    "duration": 2998,
    "start_time": "2023-01-12T10:46:09.505Z"
   },
   {
    "duration": 1766,
    "start_time": "2023-01-12T10:47:15.310Z"
   },
   {
    "duration": 55,
    "start_time": "2023-01-12T10:51:18.368Z"
   },
   {
    "duration": 915,
    "start_time": "2023-01-12T10:54:08.859Z"
   },
   {
    "duration": 61,
    "start_time": "2023-01-12T11:08:23.799Z"
   },
   {
    "duration": 1639,
    "start_time": "2023-01-12T11:10:25.878Z"
   },
   {
    "duration": 2443,
    "start_time": "2023-01-12T11:10:27.519Z"
   },
   {
    "duration": 5,
    "start_time": "2023-01-12T11:10:29.964Z"
   },
   {
    "duration": 519,
    "start_time": "2023-01-12T11:10:29.972Z"
   },
   {
    "duration": 502,
    "start_time": "2023-01-12T11:10:30.492Z"
   },
   {
    "duration": 272,
    "start_time": "2023-01-12T11:10:30.996Z"
   },
   {
    "duration": 9,
    "start_time": "2023-01-12T11:10:31.269Z"
   },
   {
    "duration": 38,
    "start_time": "2023-01-12T11:10:31.279Z"
   },
   {
    "duration": 28,
    "start_time": "2023-01-12T11:10:31.319Z"
   },
   {
    "duration": 38,
    "start_time": "2023-01-12T11:10:31.350Z"
   },
   {
    "duration": 31,
    "start_time": "2023-01-12T11:10:31.389Z"
   },
   {
    "duration": 53,
    "start_time": "2023-01-12T11:10:31.421Z"
   },
   {
    "duration": 28,
    "start_time": "2023-01-12T11:10:31.476Z"
   },
   {
    "duration": 20,
    "start_time": "2023-01-12T11:10:31.506Z"
   },
   {
    "duration": 2758,
    "start_time": "2023-01-12T11:10:31.527Z"
   },
   {
    "duration": 663,
    "start_time": "2023-01-12T11:10:34.287Z"
   },
   {
    "duration": 764,
    "start_time": "2023-01-12T11:10:34.952Z"
   },
   {
    "duration": 20,
    "start_time": "2023-01-12T11:10:35.718Z"
   },
   {
    "duration": 564,
    "start_time": "2023-01-12T11:10:35.740Z"
   },
   {
    "duration": 6,
    "start_time": "2023-01-12T11:10:36.306Z"
   },
   {
    "duration": 42,
    "start_time": "2023-01-12T11:10:36.313Z"
   },
   {
    "duration": 22,
    "start_time": "2023-01-12T11:10:36.357Z"
   },
   {
    "duration": 654,
    "start_time": "2023-01-12T11:11:46.333Z"
   },
   {
    "duration": 127,
    "start_time": "2023-01-12T11:44:45.395Z"
   },
   {
    "duration": 28,
    "start_time": "2023-01-12T11:45:05.058Z"
   },
   {
    "duration": 24,
    "start_time": "2023-01-12T11:45:17.991Z"
   },
   {
    "duration": 1600,
    "start_time": "2023-01-12T11:45:54.504Z"
   },
   {
    "duration": 848,
    "start_time": "2023-01-12T11:45:56.106Z"
   },
   {
    "duration": 4,
    "start_time": "2023-01-12T11:45:56.956Z"
   },
   {
    "duration": 570,
    "start_time": "2023-01-12T11:45:56.962Z"
   },
   {
    "duration": 573,
    "start_time": "2023-01-12T11:45:57.533Z"
   },
   {
    "duration": 266,
    "start_time": "2023-01-12T11:45:58.109Z"
   },
   {
    "duration": 7,
    "start_time": "2023-01-12T11:45:58.377Z"
   },
   {
    "duration": 9,
    "start_time": "2023-01-12T11:45:58.386Z"
   },
   {
    "duration": 10,
    "start_time": "2023-01-12T11:45:58.397Z"
   },
   {
    "duration": 30,
    "start_time": "2023-01-12T11:45:58.410Z"
   },
   {
    "duration": 19,
    "start_time": "2023-01-12T11:45:58.444Z"
   },
   {
    "duration": 12,
    "start_time": "2023-01-12T11:45:58.465Z"
   },
   {
    "duration": 15,
    "start_time": "2023-01-12T11:45:58.478Z"
   },
   {
    "duration": 5,
    "start_time": "2023-01-12T11:45:58.495Z"
   },
   {
    "duration": 3272,
    "start_time": "2023-01-12T11:45:58.501Z"
   },
   {
    "duration": 653,
    "start_time": "2023-01-12T11:46:01.775Z"
   },
   {
    "duration": 610,
    "start_time": "2023-01-12T11:46:02.437Z"
   },
   {
    "duration": 11,
    "start_time": "2023-01-12T11:46:03.050Z"
   },
   {
    "duration": 616,
    "start_time": "2023-01-12T11:46:03.062Z"
   },
   {
    "duration": 20,
    "start_time": "2023-01-12T11:46:03.680Z"
   },
   {
    "duration": 9,
    "start_time": "2023-01-12T11:46:03.702Z"
   },
   {
    "duration": 26,
    "start_time": "2023-01-12T11:47:11.921Z"
   },
   {
    "duration": 1627,
    "start_time": "2023-01-12T11:47:47.157Z"
   },
   {
    "duration": 980,
    "start_time": "2023-01-12T11:47:48.787Z"
   },
   {
    "duration": 5,
    "start_time": "2023-01-12T11:47:49.769Z"
   },
   {
    "duration": 619,
    "start_time": "2023-01-12T11:47:49.777Z"
   },
   {
    "duration": 571,
    "start_time": "2023-01-12T11:47:50.399Z"
   },
   {
    "duration": 292,
    "start_time": "2023-01-12T11:47:50.973Z"
   },
   {
    "duration": 9,
    "start_time": "2023-01-12T11:47:51.267Z"
   },
   {
    "duration": 4,
    "start_time": "2023-01-12T11:47:51.278Z"
   },
   {
    "duration": 11,
    "start_time": "2023-01-12T11:47:51.284Z"
   },
   {
    "duration": 15,
    "start_time": "2023-01-12T11:47:51.296Z"
   },
   {
    "duration": 31,
    "start_time": "2023-01-12T11:47:51.313Z"
   },
   {
    "duration": 24,
    "start_time": "2023-01-12T11:47:51.346Z"
   },
   {
    "duration": 15,
    "start_time": "2023-01-12T11:47:51.373Z"
   },
   {
    "duration": 6,
    "start_time": "2023-01-12T11:47:51.391Z"
   },
   {
    "duration": 3269,
    "start_time": "2023-01-12T11:47:51.399Z"
   },
   {
    "duration": 813,
    "start_time": "2023-01-12T11:47:54.670Z"
   },
   {
    "duration": 740,
    "start_time": "2023-01-12T11:47:55.486Z"
   },
   {
    "duration": 15,
    "start_time": "2023-01-12T11:47:56.228Z"
   },
   {
    "duration": 592,
    "start_time": "2023-01-12T11:47:56.246Z"
   },
   {
    "duration": 20,
    "start_time": "2023-01-12T11:47:56.840Z"
   },
   {
    "duration": 93,
    "start_time": "2023-01-12T12:21:37.564Z"
   },
   {
    "duration": 4,
    "start_time": "2023-01-12T12:21:48.158Z"
   },
   {
    "duration": 3,
    "start_time": "2023-01-12T12:26:56.363Z"
   },
   {
    "duration": 4,
    "start_time": "2023-01-12T12:28:35.228Z"
   },
   {
    "duration": 4,
    "start_time": "2023-01-12T13:11:56.699Z"
   },
   {
    "duration": 5,
    "start_time": "2023-01-12T13:13:14.042Z"
   },
   {
    "duration": 1513,
    "start_time": "2023-01-12T13:14:40.555Z"
   },
   {
    "duration": 854,
    "start_time": "2023-01-12T13:14:42.070Z"
   },
   {
    "duration": 4,
    "start_time": "2023-01-12T13:14:42.926Z"
   },
   {
    "duration": 565,
    "start_time": "2023-01-12T13:14:42.942Z"
   },
   {
    "duration": 549,
    "start_time": "2023-01-12T13:14:43.509Z"
   },
   {
    "duration": 266,
    "start_time": "2023-01-12T13:14:44.059Z"
   },
   {
    "duration": 29,
    "start_time": "2023-01-12T13:14:44.327Z"
   },
   {
    "duration": 14,
    "start_time": "2023-01-12T13:14:44.359Z"
   },
   {
    "duration": 19,
    "start_time": "2023-01-12T13:14:44.375Z"
   },
   {
    "duration": 46,
    "start_time": "2023-01-12T13:14:44.398Z"
   },
   {
    "duration": 27,
    "start_time": "2023-01-12T13:14:44.446Z"
   },
   {
    "duration": 17,
    "start_time": "2023-01-12T13:14:44.474Z"
   },
   {
    "duration": 13,
    "start_time": "2023-01-12T13:14:44.493Z"
   },
   {
    "duration": 9,
    "start_time": "2023-01-12T13:14:44.508Z"
   },
   {
    "duration": 2967,
    "start_time": "2023-01-12T13:14:44.519Z"
   },
   {
    "duration": 623,
    "start_time": "2023-01-12T13:14:47.488Z"
   },
   {
    "duration": 601,
    "start_time": "2023-01-12T13:14:48.112Z"
   },
   {
    "duration": 9,
    "start_time": "2023-01-12T13:14:48.716Z"
   },
   {
    "duration": 686,
    "start_time": "2023-01-12T13:14:48.737Z"
   },
   {
    "duration": 23,
    "start_time": "2023-01-12T13:14:49.429Z"
   },
   {
    "duration": 30,
    "start_time": "2023-01-12T13:14:49.461Z"
   },
   {
    "duration": 14,
    "start_time": "2023-01-12T13:14:49.493Z"
   },
   {
    "duration": 19,
    "start_time": "2023-01-12T13:14:49.509Z"
   },
   {
    "duration": 18,
    "start_time": "2023-01-12T13:33:31.980Z"
   },
   {
    "duration": 111,
    "start_time": "2023-01-12T13:35:46.960Z"
   },
   {
    "duration": 4,
    "start_time": "2023-01-12T13:36:22.037Z"
   },
   {
    "duration": 21,
    "start_time": "2023-01-12T13:36:29.065Z"
   },
   {
    "duration": 28,
    "start_time": "2023-01-12T13:40:22.905Z"
   },
   {
    "duration": 19,
    "start_time": "2023-01-12T13:52:33.964Z"
   },
   {
    "duration": 4,
    "start_time": "2023-01-12T13:53:09.310Z"
   },
   {
    "duration": 1778,
    "start_time": "2023-01-12T13:53:14.660Z"
   },
   {
    "duration": 8,
    "start_time": "2023-01-12T13:54:48.776Z"
   },
   {
    "duration": 1439,
    "start_time": "2023-01-12T13:55:21.313Z"
   },
   {
    "duration": 748,
    "start_time": "2023-01-12T13:55:22.754Z"
   },
   {
    "duration": 5,
    "start_time": "2023-01-12T13:55:23.503Z"
   },
   {
    "duration": 506,
    "start_time": "2023-01-12T13:55:23.510Z"
   },
   {
    "duration": 498,
    "start_time": "2023-01-12T13:55:24.017Z"
   },
   {
    "duration": 242,
    "start_time": "2023-01-12T13:55:24.517Z"
   },
   {
    "duration": 9,
    "start_time": "2023-01-12T13:55:24.761Z"
   },
   {
    "duration": 15,
    "start_time": "2023-01-12T13:55:24.772Z"
   },
   {
    "duration": 7,
    "start_time": "2023-01-12T13:55:24.789Z"
   },
   {
    "duration": 13,
    "start_time": "2023-01-12T13:55:24.799Z"
   },
   {
    "duration": 13,
    "start_time": "2023-01-12T13:55:24.814Z"
   },
   {
    "duration": 9,
    "start_time": "2023-01-12T13:55:24.839Z"
   },
   {
    "duration": 17,
    "start_time": "2023-01-12T13:55:24.850Z"
   },
   {
    "duration": 5,
    "start_time": "2023-01-12T13:55:24.869Z"
   },
   {
    "duration": 2711,
    "start_time": "2023-01-12T13:55:24.876Z"
   },
   {
    "duration": 582,
    "start_time": "2023-01-12T13:55:27.589Z"
   },
   {
    "duration": 616,
    "start_time": "2023-01-12T13:55:28.173Z"
   },
   {
    "duration": 8,
    "start_time": "2023-01-12T13:55:28.791Z"
   },
   {
    "duration": 595,
    "start_time": "2023-01-12T13:55:28.800Z"
   },
   {
    "duration": 16,
    "start_time": "2023-01-12T13:55:29.397Z"
   },
   {
    "duration": 3,
    "start_time": "2023-01-12T13:55:29.415Z"
   },
   {
    "duration": 19,
    "start_time": "2023-01-12T13:55:29.419Z"
   },
   {
    "duration": 7,
    "start_time": "2023-01-12T13:55:29.440Z"
   },
   {
    "duration": 18,
    "start_time": "2023-01-12T13:55:29.449Z"
   },
   {
    "duration": 13,
    "start_time": "2023-01-12T13:55:29.469Z"
   },
   {
    "duration": 23,
    "start_time": "2023-01-12T13:55:29.484Z"
   },
   {
    "duration": 1235,
    "start_time": "2023-01-12T13:55:29.509Z"
   },
   {
    "duration": 122,
    "start_time": "2023-01-12T13:56:35.081Z"
   },
   {
    "duration": 26,
    "start_time": "2023-01-12T13:58:03.815Z"
   },
   {
    "duration": 79709,
    "start_time": "2023-01-12T14:02:53.733Z"
   },
   {
    "duration": 1254,
    "start_time": "2023-01-12T14:08:10.793Z"
   },
   {
    "duration": 4,
    "start_time": "2023-01-12T14:11:10.338Z"
   },
   {
    "duration": 4,
    "start_time": "2023-01-12T14:11:51.337Z"
   },
   {
    "duration": 4,
    "start_time": "2023-01-12T14:11:59.682Z"
   },
   {
    "duration": 3,
    "start_time": "2023-01-12T14:12:24.913Z"
   },
   {
    "duration": 4,
    "start_time": "2023-01-12T14:12:26.338Z"
   },
   {
    "duration": 3,
    "start_time": "2023-01-12T14:13:15.619Z"
   },
   {
    "duration": 1420,
    "start_time": "2023-01-12T14:13:25.630Z"
   },
   {
    "duration": 732,
    "start_time": "2023-01-12T14:13:27.052Z"
   },
   {
    "duration": 4,
    "start_time": "2023-01-12T14:13:27.786Z"
   },
   {
    "duration": 510,
    "start_time": "2023-01-12T14:13:27.792Z"
   },
   {
    "duration": 479,
    "start_time": "2023-01-12T14:13:28.304Z"
   },
   {
    "duration": 287,
    "start_time": "2023-01-12T14:13:28.785Z"
   },
   {
    "duration": 10,
    "start_time": "2023-01-12T14:13:29.074Z"
   },
   {
    "duration": 7,
    "start_time": "2023-01-12T14:13:29.086Z"
   },
   {
    "duration": 17,
    "start_time": "2023-01-12T14:13:29.096Z"
   },
   {
    "duration": 25,
    "start_time": "2023-01-12T14:13:29.115Z"
   },
   {
    "duration": 4,
    "start_time": "2023-01-12T14:13:29.142Z"
   },
   {
    "duration": 11,
    "start_time": "2023-01-12T14:13:29.147Z"
   },
   {
    "duration": 14,
    "start_time": "2023-01-12T14:13:29.159Z"
   },
   {
    "duration": 9,
    "start_time": "2023-01-12T14:13:29.175Z"
   },
   {
    "duration": 2649,
    "start_time": "2023-01-12T14:13:29.186Z"
   },
   {
    "duration": 626,
    "start_time": "2023-01-12T14:13:31.837Z"
   },
   {
    "duration": 628,
    "start_time": "2023-01-12T14:13:32.465Z"
   },
   {
    "duration": 9,
    "start_time": "2023-01-12T14:13:33.095Z"
   },
   {
    "duration": 559,
    "start_time": "2023-01-12T14:13:33.106Z"
   },
   {
    "duration": 19,
    "start_time": "2023-01-12T14:13:33.666Z"
   },
   {
    "duration": 3,
    "start_time": "2023-01-12T14:13:33.687Z"
   },
   {
    "duration": 7,
    "start_time": "2023-01-12T14:13:33.692Z"
   },
   {
    "duration": 6,
    "start_time": "2023-01-12T14:13:33.700Z"
   },
   {
    "duration": 38,
    "start_time": "2023-01-12T14:13:33.707Z"
   },
   {
    "duration": 7,
    "start_time": "2023-01-12T14:13:33.747Z"
   },
   {
    "duration": 20,
    "start_time": "2023-01-12T14:13:33.756Z"
   },
   {
    "duration": 1666,
    "start_time": "2023-01-12T14:13:33.778Z"
   },
   {
    "duration": 0,
    "start_time": "2023-01-12T14:13:35.446Z"
   },
   {
    "duration": 1150,
    "start_time": "2023-01-12T14:13:46.690Z"
   },
   {
    "duration": 70174,
    "start_time": "2023-01-12T14:13:55.371Z"
   },
   {
    "duration": 1744,
    "start_time": "2023-01-12T14:23:16.996Z"
   },
   {
    "duration": 12,
    "start_time": "2023-01-12T14:36:10.024Z"
   },
   {
    "duration": 1539,
    "start_time": "2023-01-12T14:37:24.820Z"
   },
   {
    "duration": 750,
    "start_time": "2023-01-12T14:37:26.361Z"
   },
   {
    "duration": 4,
    "start_time": "2023-01-12T14:37:27.113Z"
   },
   {
    "duration": 504,
    "start_time": "2023-01-12T14:37:27.120Z"
   },
   {
    "duration": 523,
    "start_time": "2023-01-12T14:37:27.626Z"
   },
   {
    "duration": 238,
    "start_time": "2023-01-12T14:37:28.150Z"
   },
   {
    "duration": 8,
    "start_time": "2023-01-12T14:37:28.390Z"
   },
   {
    "duration": 5,
    "start_time": "2023-01-12T14:37:28.399Z"
   },
   {
    "duration": 7,
    "start_time": "2023-01-12T14:37:28.406Z"
   },
   {
    "duration": 8,
    "start_time": "2023-01-12T14:37:28.437Z"
   },
   {
    "duration": 8,
    "start_time": "2023-01-12T14:37:28.446Z"
   },
   {
    "duration": 11,
    "start_time": "2023-01-12T14:37:28.455Z"
   },
   {
    "duration": 13,
    "start_time": "2023-01-12T14:37:28.468Z"
   },
   {
    "duration": 5,
    "start_time": "2023-01-12T14:37:28.483Z"
   },
   {
    "duration": 2999,
    "start_time": "2023-01-12T14:37:28.491Z"
   },
   {
    "duration": 670,
    "start_time": "2023-01-12T14:37:31.492Z"
   },
   {
    "duration": 616,
    "start_time": "2023-01-12T14:37:32.164Z"
   },
   {
    "duration": 7,
    "start_time": "2023-01-12T14:37:32.782Z"
   },
   {
    "duration": 543,
    "start_time": "2023-01-12T14:37:32.791Z"
   },
   {
    "duration": 16,
    "start_time": "2023-01-12T14:37:33.336Z"
   },
   {
    "duration": 12,
    "start_time": "2023-01-12T14:37:33.354Z"
   },
   {
    "duration": 14,
    "start_time": "2023-01-12T14:37:33.367Z"
   },
   {
    "duration": 22,
    "start_time": "2023-01-12T14:37:33.383Z"
   },
   {
    "duration": 21,
    "start_time": "2023-01-12T14:37:33.407Z"
   },
   {
    "duration": 29,
    "start_time": "2023-01-12T14:37:33.430Z"
   },
   {
    "duration": 105,
    "start_time": "2023-01-12T14:37:33.461Z"
   },
   {
    "duration": 20,
    "start_time": "2023-01-12T14:37:33.568Z"
   },
   {
    "duration": 1251,
    "start_time": "2023-01-12T14:37:33.591Z"
   },
   {
    "duration": 68497,
    "start_time": "2023-01-12T14:37:34.844Z"
   },
   {
    "duration": 123,
    "start_time": "2023-01-12T14:39:15.331Z"
   },
   {
    "duration": 1410,
    "start_time": "2023-01-12T14:39:30.345Z"
   },
   {
    "duration": 762,
    "start_time": "2023-01-12T14:39:31.757Z"
   },
   {
    "duration": 3,
    "start_time": "2023-01-12T14:39:32.521Z"
   },
   {
    "duration": 511,
    "start_time": "2023-01-12T14:39:32.527Z"
   },
   {
    "duration": 503,
    "start_time": "2023-01-12T14:39:33.039Z"
   },
   {
    "duration": 238,
    "start_time": "2023-01-12T14:39:33.544Z"
   },
   {
    "duration": 8,
    "start_time": "2023-01-12T14:39:33.784Z"
   },
   {
    "duration": 16,
    "start_time": "2023-01-12T14:39:33.794Z"
   },
   {
    "duration": 9,
    "start_time": "2023-01-12T14:39:33.811Z"
   },
   {
    "duration": 9,
    "start_time": "2023-01-12T14:39:33.840Z"
   },
   {
    "duration": 8,
    "start_time": "2023-01-12T14:39:33.851Z"
   },
   {
    "duration": 14,
    "start_time": "2023-01-12T14:39:33.860Z"
   },
   {
    "duration": 12,
    "start_time": "2023-01-12T14:39:33.876Z"
   },
   {
    "duration": 6,
    "start_time": "2023-01-12T14:39:33.890Z"
   },
   {
    "duration": 2861,
    "start_time": "2023-01-12T14:39:33.898Z"
   },
   {
    "duration": 698,
    "start_time": "2023-01-12T14:39:36.761Z"
   },
   {
    "duration": 656,
    "start_time": "2023-01-12T14:39:37.461Z"
   },
   {
    "duration": 21,
    "start_time": "2023-01-12T14:39:38.120Z"
   },
   {
    "duration": 559,
    "start_time": "2023-01-12T14:39:38.143Z"
   },
   {
    "duration": 19,
    "start_time": "2023-01-12T14:39:38.704Z"
   },
   {
    "duration": 4,
    "start_time": "2023-01-12T14:39:38.739Z"
   },
   {
    "duration": 18,
    "start_time": "2023-01-12T14:39:38.745Z"
   },
   {
    "duration": 9,
    "start_time": "2023-01-12T14:39:38.766Z"
   },
   {
    "duration": 169,
    "start_time": "2023-01-12T14:39:38.776Z"
   },
   {
    "duration": 1,
    "start_time": "2023-01-12T14:39:38.947Z"
   },
   {
    "duration": 0,
    "start_time": "2023-01-12T14:39:38.949Z"
   },
   {
    "duration": 0,
    "start_time": "2023-01-12T14:39:38.951Z"
   },
   {
    "duration": 0,
    "start_time": "2023-01-12T14:39:38.953Z"
   },
   {
    "duration": 0,
    "start_time": "2023-01-12T14:39:38.954Z"
   },
   {
    "duration": 1475,
    "start_time": "2023-01-12T14:40:34.734Z"
   },
   {
    "duration": 760,
    "start_time": "2023-01-12T14:40:36.211Z"
   },
   {
    "duration": 4,
    "start_time": "2023-01-12T14:40:36.973Z"
   },
   {
    "duration": 513,
    "start_time": "2023-01-12T14:40:36.980Z"
   },
   {
    "duration": 555,
    "start_time": "2023-01-12T14:40:37.495Z"
   },
   {
    "duration": 254,
    "start_time": "2023-01-12T14:40:38.052Z"
   },
   {
    "duration": 8,
    "start_time": "2023-01-12T14:40:38.308Z"
   },
   {
    "duration": 28,
    "start_time": "2023-01-12T14:40:38.318Z"
   },
   {
    "duration": 6,
    "start_time": "2023-01-12T14:40:38.348Z"
   },
   {
    "duration": 8,
    "start_time": "2023-01-12T14:40:38.356Z"
   },
   {
    "duration": 15,
    "start_time": "2023-01-12T14:40:38.366Z"
   },
   {
    "duration": 13,
    "start_time": "2023-01-12T14:40:38.383Z"
   },
   {
    "duration": 12,
    "start_time": "2023-01-12T14:40:38.398Z"
   },
   {
    "duration": 8,
    "start_time": "2023-01-12T14:40:38.412Z"
   },
   {
    "duration": 2845,
    "start_time": "2023-01-12T14:40:38.437Z"
   },
   {
    "duration": 595,
    "start_time": "2023-01-12T14:40:41.284Z"
   },
   {
    "duration": 605,
    "start_time": "2023-01-12T14:40:41.881Z"
   },
   {
    "duration": 9,
    "start_time": "2023-01-12T14:40:42.488Z"
   },
   {
    "duration": 542,
    "start_time": "2023-01-12T14:40:42.499Z"
   },
   {
    "duration": 17,
    "start_time": "2023-01-12T14:40:43.043Z"
   },
   {
    "duration": 3,
    "start_time": "2023-01-12T14:40:43.062Z"
   },
   {
    "duration": 11,
    "start_time": "2023-01-12T14:40:43.067Z"
   },
   {
    "duration": 6,
    "start_time": "2023-01-12T14:40:43.079Z"
   },
   {
    "duration": 151,
    "start_time": "2023-01-12T14:40:43.087Z"
   },
   {
    "duration": 0,
    "start_time": "2023-01-12T14:40:43.240Z"
   },
   {
    "duration": 0,
    "start_time": "2023-01-12T14:40:43.241Z"
   },
   {
    "duration": 0,
    "start_time": "2023-01-12T14:40:43.244Z"
   },
   {
    "duration": 0,
    "start_time": "2023-01-12T14:40:43.245Z"
   },
   {
    "duration": 0,
    "start_time": "2023-01-12T14:40:43.246Z"
   },
   {
    "duration": 13,
    "start_time": "2023-01-12T14:41:52.371Z"
   },
   {
    "duration": 7,
    "start_time": "2023-01-12T14:41:54.823Z"
   },
   {
    "duration": 1467,
    "start_time": "2023-01-12T14:42:38.145Z"
   },
   {
    "duration": 731,
    "start_time": "2023-01-12T14:42:39.614Z"
   },
   {
    "duration": 4,
    "start_time": "2023-01-12T14:42:40.347Z"
   },
   {
    "duration": 508,
    "start_time": "2023-01-12T14:42:40.353Z"
   },
   {
    "duration": 497,
    "start_time": "2023-01-12T14:42:40.862Z"
   },
   {
    "duration": 244,
    "start_time": "2023-01-12T14:42:41.361Z"
   },
   {
    "duration": 7,
    "start_time": "2023-01-12T14:42:41.607Z"
   },
   {
    "duration": 5,
    "start_time": "2023-01-12T14:42:41.615Z"
   },
   {
    "duration": 5,
    "start_time": "2023-01-12T14:42:41.638Z"
   },
   {
    "duration": 13,
    "start_time": "2023-01-12T14:42:41.645Z"
   },
   {
    "duration": 10,
    "start_time": "2023-01-12T14:42:41.659Z"
   },
   {
    "duration": 25,
    "start_time": "2023-01-12T14:42:41.671Z"
   },
   {
    "duration": 122,
    "start_time": "2023-01-12T14:42:41.698Z"
   },
   {
    "duration": 0,
    "start_time": "2023-01-12T14:42:41.821Z"
   },
   {
    "duration": 0,
    "start_time": "2023-01-12T14:42:41.823Z"
   },
   {
    "duration": 0,
    "start_time": "2023-01-12T14:42:41.824Z"
   },
   {
    "duration": 0,
    "start_time": "2023-01-12T14:42:41.826Z"
   },
   {
    "duration": 0,
    "start_time": "2023-01-12T14:42:41.837Z"
   },
   {
    "duration": 0,
    "start_time": "2023-01-12T14:42:41.839Z"
   },
   {
    "duration": 0,
    "start_time": "2023-01-12T14:42:41.841Z"
   },
   {
    "duration": 0,
    "start_time": "2023-01-12T14:42:41.842Z"
   },
   {
    "duration": 0,
    "start_time": "2023-01-12T14:42:41.843Z"
   },
   {
    "duration": 0,
    "start_time": "2023-01-12T14:42:41.844Z"
   },
   {
    "duration": 0,
    "start_time": "2023-01-12T14:42:41.846Z"
   },
   {
    "duration": 0,
    "start_time": "2023-01-12T14:42:41.847Z"
   },
   {
    "duration": 0,
    "start_time": "2023-01-12T14:42:41.848Z"
   },
   {
    "duration": 0,
    "start_time": "2023-01-12T14:42:41.850Z"
   },
   {
    "duration": 0,
    "start_time": "2023-01-12T14:42:41.851Z"
   },
   {
    "duration": 0,
    "start_time": "2023-01-12T14:42:41.852Z"
   },
   {
    "duration": 1569,
    "start_time": "2023-01-12T17:08:06.451Z"
   },
   {
    "duration": 759,
    "start_time": "2023-01-12T17:08:08.023Z"
   },
   {
    "duration": 5,
    "start_time": "2023-01-12T17:08:08.785Z"
   },
   {
    "duration": 675,
    "start_time": "2023-01-12T17:08:08.793Z"
   },
   {
    "duration": 552,
    "start_time": "2023-01-12T17:08:09.470Z"
   },
   {
    "duration": 296,
    "start_time": "2023-01-12T17:08:10.025Z"
   },
   {
    "duration": 22,
    "start_time": "2023-01-12T17:08:10.323Z"
   },
   {
    "duration": 12,
    "start_time": "2023-01-12T17:08:10.347Z"
   },
   {
    "duration": 21,
    "start_time": "2023-01-12T17:08:10.361Z"
   },
   {
    "duration": 9,
    "start_time": "2023-01-12T17:08:10.386Z"
   },
   {
    "duration": 12,
    "start_time": "2023-01-12T17:08:10.397Z"
   },
   {
    "duration": 28,
    "start_time": "2023-01-12T17:08:10.411Z"
   },
   {
    "duration": 22,
    "start_time": "2023-01-12T17:08:10.442Z"
   },
   {
    "duration": 7,
    "start_time": "2023-01-12T17:08:10.467Z"
   },
   {
    "duration": 2958,
    "start_time": "2023-01-12T17:08:10.476Z"
   },
   {
    "duration": 706,
    "start_time": "2023-01-12T17:08:13.438Z"
   },
   {
    "duration": 707,
    "start_time": "2023-01-12T17:08:14.147Z"
   },
   {
    "duration": 11,
    "start_time": "2023-01-12T17:08:14.856Z"
   },
   {
    "duration": 587,
    "start_time": "2023-01-12T17:08:14.869Z"
   },
   {
    "duration": 23,
    "start_time": "2023-01-12T17:08:15.458Z"
   },
   {
    "duration": 4,
    "start_time": "2023-01-12T17:08:15.483Z"
   },
   {
    "duration": 13,
    "start_time": "2023-01-12T17:08:15.489Z"
   },
   {
    "duration": 6,
    "start_time": "2023-01-12T17:08:15.504Z"
   },
   {
    "duration": 37,
    "start_time": "2023-01-12T17:08:15.511Z"
   },
   {
    "duration": 13,
    "start_time": "2023-01-12T17:08:15.551Z"
   },
   {
    "duration": 152,
    "start_time": "2023-01-12T17:08:15.567Z"
   },
   {
    "duration": 25,
    "start_time": "2023-01-12T17:08:15.721Z"
   },
   {
    "duration": 3250,
    "start_time": "2023-01-12T17:08:15.750Z"
   },
   {
    "duration": 97706,
    "start_time": "2023-01-12T17:08:19.043Z"
   },
   {
    "duration": 1582,
    "start_time": "2023-01-12T17:11:53.325Z"
   },
   {
    "duration": 834,
    "start_time": "2023-01-12T17:11:54.909Z"
   },
   {
    "duration": 7,
    "start_time": "2023-01-12T17:11:55.745Z"
   },
   {
    "duration": 565,
    "start_time": "2023-01-12T17:11:55.755Z"
   },
   {
    "duration": 545,
    "start_time": "2023-01-12T17:11:56.322Z"
   },
   {
    "duration": 276,
    "start_time": "2023-01-12T17:11:56.870Z"
   },
   {
    "duration": 14,
    "start_time": "2023-01-12T17:11:57.148Z"
   },
   {
    "duration": 8,
    "start_time": "2023-01-12T17:11:57.164Z"
   },
   {
    "duration": 13,
    "start_time": "2023-01-12T17:11:57.174Z"
   },
   {
    "duration": 6,
    "start_time": "2023-01-12T17:11:57.190Z"
   },
   {
    "duration": 6,
    "start_time": "2023-01-12T17:11:57.198Z"
   },
   {
    "duration": 46,
    "start_time": "2023-01-12T17:11:57.206Z"
   },
   {
    "duration": 10,
    "start_time": "2023-01-12T17:11:57.257Z"
   },
   {
    "duration": 6,
    "start_time": "2023-01-12T17:11:57.270Z"
   },
   {
    "duration": 3143,
    "start_time": "2023-01-12T17:11:57.278Z"
   },
   {
    "duration": 574,
    "start_time": "2023-01-12T17:12:00.422Z"
   },
   {
    "duration": 670,
    "start_time": "2023-01-12T17:12:00.997Z"
   },
   {
    "duration": 9,
    "start_time": "2023-01-12T17:12:01.668Z"
   },
   {
    "duration": 612,
    "start_time": "2023-01-12T17:12:01.679Z"
   },
   {
    "duration": 22,
    "start_time": "2023-01-12T17:12:02.294Z"
   },
   {
    "duration": 26,
    "start_time": "2023-01-12T17:12:02.318Z"
   },
   {
    "duration": 21,
    "start_time": "2023-01-12T17:12:02.348Z"
   },
   {
    "duration": 35,
    "start_time": "2023-01-12T17:12:02.371Z"
   },
   {
    "duration": 25,
    "start_time": "2023-01-12T17:12:02.408Z"
   },
   {
    "duration": 59,
    "start_time": "2023-01-12T17:12:02.435Z"
   },
   {
    "duration": 178,
    "start_time": "2023-01-12T17:12:02.496Z"
   },
   {
    "duration": 19,
    "start_time": "2023-01-12T17:12:02.676Z"
   },
   {
    "duration": 2045,
    "start_time": "2023-01-12T17:12:02.699Z"
   },
   {
    "duration": 117581,
    "start_time": "2023-01-12T17:12:04.758Z"
   },
   {
    "duration": 1536,
    "start_time": "2023-01-12T17:22:42.822Z"
   },
   {
    "duration": 746,
    "start_time": "2023-01-12T17:22:44.360Z"
   },
   {
    "duration": 5,
    "start_time": "2023-01-12T17:22:45.107Z"
   },
   {
    "duration": 536,
    "start_time": "2023-01-12T17:22:45.114Z"
   },
   {
    "duration": 518,
    "start_time": "2023-01-12T17:22:45.653Z"
   },
   {
    "duration": 240,
    "start_time": "2023-01-12T17:22:46.173Z"
   },
   {
    "duration": 7,
    "start_time": "2023-01-12T17:22:46.415Z"
   },
   {
    "duration": 12,
    "start_time": "2023-01-12T17:22:46.440Z"
   },
   {
    "duration": 10,
    "start_time": "2023-01-12T17:22:46.454Z"
   },
   {
    "duration": 6,
    "start_time": "2023-01-12T17:22:46.467Z"
   },
   {
    "duration": 5,
    "start_time": "2023-01-12T17:22:46.474Z"
   },
   {
    "duration": 9,
    "start_time": "2023-01-12T17:22:46.480Z"
   },
   {
    "duration": 15,
    "start_time": "2023-01-12T17:22:46.490Z"
   },
   {
    "duration": 5,
    "start_time": "2023-01-12T17:22:46.507Z"
   },
   {
    "duration": 3073,
    "start_time": "2023-01-12T17:22:46.513Z"
   },
   {
    "duration": 623,
    "start_time": "2023-01-12T17:22:49.588Z"
   },
   {
    "duration": 608,
    "start_time": "2023-01-12T17:22:50.213Z"
   },
   {
    "duration": 28,
    "start_time": "2023-01-12T17:22:50.822Z"
   },
   {
    "duration": 543,
    "start_time": "2023-01-12T17:22:50.853Z"
   },
   {
    "duration": 14,
    "start_time": "2023-01-12T17:22:51.398Z"
   },
   {
    "duration": 6,
    "start_time": "2023-01-12T17:22:51.414Z"
   },
   {
    "duration": 19,
    "start_time": "2023-01-12T17:22:51.421Z"
   },
   {
    "duration": 15,
    "start_time": "2023-01-12T17:22:51.442Z"
   },
   {
    "duration": 16,
    "start_time": "2023-01-12T17:22:51.459Z"
   },
   {
    "duration": 8,
    "start_time": "2023-01-12T17:22:51.477Z"
   },
   {
    "duration": 108,
    "start_time": "2023-01-12T17:22:51.486Z"
   },
   {
    "duration": 19,
    "start_time": "2023-01-12T17:22:51.596Z"
   },
   {
    "duration": 2037,
    "start_time": "2023-01-12T17:22:51.618Z"
   },
   {
    "duration": 98683,
    "start_time": "2023-01-12T17:22:53.657Z"
   },
   {
    "duration": 1350,
    "start_time": "2023-01-12T17:34:29.797Z"
   },
   {
    "duration": 1499,
    "start_time": "2023-01-12T17:34:43.453Z"
   },
   {
    "duration": 710,
    "start_time": "2023-01-12T17:34:44.954Z"
   },
   {
    "duration": 5,
    "start_time": "2023-01-12T17:34:45.666Z"
   },
   {
    "duration": 522,
    "start_time": "2023-01-12T17:34:45.673Z"
   },
   {
    "duration": 493,
    "start_time": "2023-01-12T17:34:46.197Z"
   },
   {
    "duration": 238,
    "start_time": "2023-01-12T17:34:46.691Z"
   },
   {
    "duration": 6,
    "start_time": "2023-01-12T17:34:46.938Z"
   },
   {
    "duration": 10,
    "start_time": "2023-01-12T17:34:46.946Z"
   },
   {
    "duration": 5,
    "start_time": "2023-01-12T17:34:46.958Z"
   },
   {
    "duration": 6,
    "start_time": "2023-01-12T17:34:46.965Z"
   },
   {
    "duration": 7,
    "start_time": "2023-01-12T17:34:46.973Z"
   },
   {
    "duration": 19,
    "start_time": "2023-01-12T17:34:46.982Z"
   },
   {
    "duration": 8,
    "start_time": "2023-01-12T17:34:47.003Z"
   },
   {
    "duration": 146,
    "start_time": "2023-01-12T17:34:47.013Z"
   },
   {
    "duration": 0,
    "start_time": "2023-01-12T17:34:47.161Z"
   },
   {
    "duration": 0,
    "start_time": "2023-01-12T17:34:47.162Z"
   },
   {
    "duration": 0,
    "start_time": "2023-01-12T17:34:47.164Z"
   },
   {
    "duration": 0,
    "start_time": "2023-01-12T17:34:47.165Z"
   },
   {
    "duration": 0,
    "start_time": "2023-01-12T17:34:47.167Z"
   },
   {
    "duration": 0,
    "start_time": "2023-01-12T17:34:47.168Z"
   },
   {
    "duration": 0,
    "start_time": "2023-01-12T17:34:47.170Z"
   },
   {
    "duration": 0,
    "start_time": "2023-01-12T17:34:47.171Z"
   },
   {
    "duration": 0,
    "start_time": "2023-01-12T17:34:47.173Z"
   },
   {
    "duration": 0,
    "start_time": "2023-01-12T17:34:47.175Z"
   },
   {
    "duration": 0,
    "start_time": "2023-01-12T17:34:47.176Z"
   },
   {
    "duration": 0,
    "start_time": "2023-01-12T17:34:47.178Z"
   },
   {
    "duration": 0,
    "start_time": "2023-01-12T17:34:47.180Z"
   },
   {
    "duration": 0,
    "start_time": "2023-01-12T17:34:47.181Z"
   },
   {
    "duration": 0,
    "start_time": "2023-01-12T17:34:47.182Z"
   },
   {
    "duration": 0,
    "start_time": "2023-01-12T17:34:47.183Z"
   },
   {
    "duration": 24,
    "start_time": "2023-01-12T17:46:15.637Z"
   },
   {
    "duration": 2250,
    "start_time": "2023-01-12T17:46:42.922Z"
   },
   {
    "duration": 727,
    "start_time": "2023-01-12T17:46:45.174Z"
   },
   {
    "duration": 5,
    "start_time": "2023-01-12T17:46:45.902Z"
   },
   {
    "duration": 528,
    "start_time": "2023-01-12T17:46:45.909Z"
   },
   {
    "duration": 519,
    "start_time": "2023-01-12T17:46:46.440Z"
   },
   {
    "duration": 251,
    "start_time": "2023-01-12T17:46:46.961Z"
   },
   {
    "duration": 24,
    "start_time": "2023-01-12T17:46:47.214Z"
   },
   {
    "duration": 4,
    "start_time": "2023-01-12T17:46:47.241Z"
   },
   {
    "duration": 8,
    "start_time": "2023-01-12T17:46:47.247Z"
   },
   {
    "duration": 6,
    "start_time": "2023-01-12T17:46:47.257Z"
   },
   {
    "duration": 8,
    "start_time": "2023-01-12T17:46:47.265Z"
   },
   {
    "duration": 15,
    "start_time": "2023-01-12T17:46:47.274Z"
   },
   {
    "duration": 10,
    "start_time": "2023-01-12T17:46:47.291Z"
   },
   {
    "duration": 41,
    "start_time": "2023-01-12T17:46:47.303Z"
   },
   {
    "duration": 5,
    "start_time": "2023-01-12T17:46:47.346Z"
   },
   {
    "duration": 2908,
    "start_time": "2023-01-12T17:46:47.353Z"
   },
   {
    "duration": 617,
    "start_time": "2023-01-12T17:46:50.263Z"
   },
   {
    "duration": 621,
    "start_time": "2023-01-12T17:46:50.882Z"
   },
   {
    "duration": 8,
    "start_time": "2023-01-12T17:46:51.504Z"
   },
   {
    "duration": 566,
    "start_time": "2023-01-12T17:46:51.514Z"
   },
   {
    "duration": 17,
    "start_time": "2023-01-12T17:46:52.081Z"
   },
   {
    "duration": 4,
    "start_time": "2023-01-12T17:46:52.099Z"
   },
   {
    "duration": 8,
    "start_time": "2023-01-12T17:46:52.105Z"
   },
   {
    "duration": 23,
    "start_time": "2023-01-12T17:46:52.115Z"
   },
   {
    "duration": 16,
    "start_time": "2023-01-12T17:46:52.139Z"
   },
   {
    "duration": 13,
    "start_time": "2023-01-12T17:46:52.156Z"
   },
   {
    "duration": 108,
    "start_time": "2023-01-12T17:46:52.170Z"
   },
   {
    "duration": 201,
    "start_time": "2023-01-12T17:46:52.280Z"
   },
   {
    "duration": 0,
    "start_time": "2023-01-12T17:46:52.483Z"
   },
   {
    "duration": 0,
    "start_time": "2023-01-12T17:46:52.484Z"
   },
   {
    "duration": 8,
    "start_time": "2023-01-12T17:52:53.921Z"
   },
   {
    "duration": 5,
    "start_time": "2023-01-12T17:54:08.390Z"
   },
   {
    "duration": 14,
    "start_time": "2023-01-12T17:58:47.584Z"
   },
   {
    "duration": 15,
    "start_time": "2023-01-12T17:58:54.861Z"
   },
   {
    "duration": 1523,
    "start_time": "2023-01-12T18:01:32.661Z"
   },
   {
    "duration": 725,
    "start_time": "2023-01-12T18:01:34.186Z"
   },
   {
    "duration": 5,
    "start_time": "2023-01-12T18:01:34.914Z"
   },
   {
    "duration": 540,
    "start_time": "2023-01-12T18:01:34.922Z"
   },
   {
    "duration": 533,
    "start_time": "2023-01-12T18:01:35.464Z"
   },
   {
    "duration": 256,
    "start_time": "2023-01-12T18:01:35.999Z"
   },
   {
    "duration": 7,
    "start_time": "2023-01-12T18:01:36.258Z"
   },
   {
    "duration": 19,
    "start_time": "2023-01-12T18:01:36.267Z"
   },
   {
    "duration": 15,
    "start_time": "2023-01-12T18:01:36.288Z"
   },
   {
    "duration": 5,
    "start_time": "2023-01-12T18:01:36.306Z"
   },
   {
    "duration": 12,
    "start_time": "2023-01-12T18:01:36.312Z"
   },
   {
    "duration": 14,
    "start_time": "2023-01-12T18:01:36.339Z"
   },
   {
    "duration": 12,
    "start_time": "2023-01-12T18:01:36.355Z"
   },
   {
    "duration": 10,
    "start_time": "2023-01-12T18:01:36.369Z"
   },
   {
    "duration": 6,
    "start_time": "2023-01-12T18:01:36.381Z"
   },
   {
    "duration": 13,
    "start_time": "2023-01-12T18:01:36.388Z"
   },
   {
    "duration": 34,
    "start_time": "2023-01-12T18:01:36.403Z"
   },
   {
    "duration": 1304,
    "start_time": "2023-01-12T18:01:36.440Z"
   },
   {
    "duration": 0,
    "start_time": "2023-01-12T18:01:37.746Z"
   },
   {
    "duration": 0,
    "start_time": "2023-01-12T18:01:37.747Z"
   },
   {
    "duration": 0,
    "start_time": "2023-01-12T18:01:37.749Z"
   },
   {
    "duration": 0,
    "start_time": "2023-01-12T18:01:37.750Z"
   },
   {
    "duration": 0,
    "start_time": "2023-01-12T18:01:37.751Z"
   },
   {
    "duration": 0,
    "start_time": "2023-01-12T18:01:37.753Z"
   },
   {
    "duration": 0,
    "start_time": "2023-01-12T18:01:37.754Z"
   },
   {
    "duration": 0,
    "start_time": "2023-01-12T18:01:37.756Z"
   },
   {
    "duration": 0,
    "start_time": "2023-01-12T18:01:37.757Z"
   },
   {
    "duration": 0,
    "start_time": "2023-01-12T18:01:37.758Z"
   },
   {
    "duration": 0,
    "start_time": "2023-01-12T18:01:37.759Z"
   },
   {
    "duration": 0,
    "start_time": "2023-01-12T18:01:37.761Z"
   },
   {
    "duration": 0,
    "start_time": "2023-01-12T18:01:37.762Z"
   },
   {
    "duration": 0,
    "start_time": "2023-01-12T18:01:37.763Z"
   },
   {
    "duration": 1592,
    "start_time": "2023-01-12T18:09:14.323Z"
   },
   {
    "duration": 891,
    "start_time": "2023-01-12T18:09:15.918Z"
   },
   {
    "duration": 4,
    "start_time": "2023-01-12T18:09:16.811Z"
   },
   {
    "duration": 550,
    "start_time": "2023-01-12T18:09:16.818Z"
   },
   {
    "duration": 521,
    "start_time": "2023-01-12T18:09:17.370Z"
   },
   {
    "duration": 270,
    "start_time": "2023-01-12T18:09:17.893Z"
   },
   {
    "duration": 7,
    "start_time": "2023-01-12T18:09:18.165Z"
   },
   {
    "duration": 5,
    "start_time": "2023-01-12T18:09:18.174Z"
   },
   {
    "duration": 8,
    "start_time": "2023-01-12T18:09:18.180Z"
   },
   {
    "duration": 11,
    "start_time": "2023-01-12T18:09:18.191Z"
   },
   {
    "duration": 36,
    "start_time": "2023-01-12T18:09:18.203Z"
   },
   {
    "duration": 17,
    "start_time": "2023-01-12T18:09:18.241Z"
   },
   {
    "duration": 14,
    "start_time": "2023-01-12T18:09:18.260Z"
   },
   {
    "duration": 10,
    "start_time": "2023-01-12T18:09:18.276Z"
   },
   {
    "duration": 3,
    "start_time": "2023-01-12T18:09:18.287Z"
   },
   {
    "duration": 7,
    "start_time": "2023-01-12T18:09:18.292Z"
   },
   {
    "duration": 37,
    "start_time": "2023-01-12T18:09:18.301Z"
   },
   {
    "duration": 2916,
    "start_time": "2023-01-12T18:09:18.340Z"
   },
   {
    "duration": 613,
    "start_time": "2023-01-12T18:09:21.258Z"
   },
   {
    "duration": 620,
    "start_time": "2023-01-12T18:09:21.873Z"
   },
   {
    "duration": 9,
    "start_time": "2023-01-12T18:09:22.494Z"
   },
   {
    "duration": 554,
    "start_time": "2023-01-12T18:09:22.505Z"
   },
   {
    "duration": 15,
    "start_time": "2023-01-12T18:09:23.061Z"
   },
   {
    "duration": 4,
    "start_time": "2023-01-12T18:09:23.078Z"
   },
   {
    "duration": 6,
    "start_time": "2023-01-12T18:09:23.084Z"
   },
   {
    "duration": 7,
    "start_time": "2023-01-12T18:09:23.092Z"
   },
   {
    "duration": 45,
    "start_time": "2023-01-12T18:09:23.101Z"
   },
   {
    "duration": 10,
    "start_time": "2023-01-12T18:09:23.149Z"
   },
   {
    "duration": 117,
    "start_time": "2023-01-12T18:09:23.161Z"
   },
   {
    "duration": 239,
    "start_time": "2023-01-12T18:09:23.281Z"
   },
   {
    "duration": 0,
    "start_time": "2023-01-12T18:09:23.522Z"
   },
   {
    "duration": 0,
    "start_time": "2023-01-12T18:09:23.523Z"
   },
   {
    "duration": 11,
    "start_time": "2023-01-12T18:12:43.248Z"
   },
   {
    "duration": 4,
    "start_time": "2023-01-12T18:12:47.102Z"
   },
   {
    "duration": 3,
    "start_time": "2023-01-12T18:12:49.265Z"
   },
   {
    "duration": 1465,
    "start_time": "2023-01-12T18:20:13.855Z"
   },
   {
    "duration": 780,
    "start_time": "2023-01-12T18:20:15.322Z"
   },
   {
    "duration": 4,
    "start_time": "2023-01-12T18:20:16.104Z"
   },
   {
    "duration": 532,
    "start_time": "2023-01-12T18:20:16.110Z"
   },
   {
    "duration": 494,
    "start_time": "2023-01-12T18:20:16.644Z"
   },
   {
    "duration": 246,
    "start_time": "2023-01-12T18:20:17.140Z"
   },
   {
    "duration": 7,
    "start_time": "2023-01-12T18:20:17.388Z"
   },
   {
    "duration": 7,
    "start_time": "2023-01-12T18:20:17.397Z"
   },
   {
    "duration": 8,
    "start_time": "2023-01-12T18:20:17.406Z"
   },
   {
    "duration": 22,
    "start_time": "2023-01-12T18:20:17.417Z"
   },
   {
    "duration": 7,
    "start_time": "2023-01-12T18:20:17.441Z"
   },
   {
    "duration": 15,
    "start_time": "2023-01-12T18:20:17.450Z"
   },
   {
    "duration": 11,
    "start_time": "2023-01-12T18:20:17.467Z"
   },
   {
    "duration": 9,
    "start_time": "2023-01-12T18:20:17.480Z"
   },
   {
    "duration": 3,
    "start_time": "2023-01-12T18:20:17.491Z"
   },
   {
    "duration": 7,
    "start_time": "2023-01-12T18:20:17.495Z"
   },
   {
    "duration": 5,
    "start_time": "2023-01-12T18:20:17.538Z"
   },
   {
    "duration": 2874,
    "start_time": "2023-01-12T18:20:17.545Z"
   },
   {
    "duration": 549,
    "start_time": "2023-01-12T18:20:20.421Z"
   },
   {
    "duration": 611,
    "start_time": "2023-01-12T18:20:20.972Z"
   },
   {
    "duration": 8,
    "start_time": "2023-01-12T18:20:21.585Z"
   },
   {
    "duration": 530,
    "start_time": "2023-01-12T18:20:21.595Z"
   },
   {
    "duration": 22,
    "start_time": "2023-01-12T18:20:22.127Z"
   },
   {
    "duration": 4,
    "start_time": "2023-01-12T18:20:22.151Z"
   },
   {
    "duration": 12,
    "start_time": "2023-01-12T18:20:22.158Z"
   },
   {
    "duration": 10,
    "start_time": "2023-01-12T18:20:22.172Z"
   },
   {
    "duration": 5,
    "start_time": "2023-01-12T18:20:22.184Z"
   },
   {
    "duration": 16,
    "start_time": "2023-01-12T18:20:22.193Z"
   },
   {
    "duration": 139,
    "start_time": "2023-01-12T18:20:22.211Z"
   },
   {
    "duration": 0,
    "start_time": "2023-01-12T18:20:22.353Z"
   },
   {
    "duration": 0,
    "start_time": "2023-01-12T18:20:22.354Z"
   },
   {
    "duration": 0,
    "start_time": "2023-01-12T18:20:22.356Z"
   },
   {
    "duration": 0,
    "start_time": "2023-01-12T18:20:22.357Z"
   },
   {
    "duration": 1402,
    "start_time": "2023-01-12T18:20:42.270Z"
   },
   {
    "duration": 752,
    "start_time": "2023-01-12T18:20:43.673Z"
   },
   {
    "duration": 13,
    "start_time": "2023-01-12T18:20:44.427Z"
   },
   {
    "duration": 509,
    "start_time": "2023-01-12T18:20:44.442Z"
   },
   {
    "duration": 493,
    "start_time": "2023-01-12T18:20:44.953Z"
   },
   {
    "duration": 233,
    "start_time": "2023-01-12T18:20:45.448Z"
   },
   {
    "duration": 8,
    "start_time": "2023-01-12T18:20:45.682Z"
   },
   {
    "duration": 10,
    "start_time": "2023-01-12T18:20:45.691Z"
   },
   {
    "duration": 6,
    "start_time": "2023-01-12T18:20:45.702Z"
   },
   {
    "duration": 7,
    "start_time": "2023-01-12T18:20:45.710Z"
   },
   {
    "duration": 5,
    "start_time": "2023-01-12T18:20:45.737Z"
   },
   {
    "duration": 14,
    "start_time": "2023-01-12T18:20:45.743Z"
   },
   {
    "duration": 13,
    "start_time": "2023-01-12T18:20:45.759Z"
   },
   {
    "duration": 10,
    "start_time": "2023-01-12T18:20:45.774Z"
   },
   {
    "duration": 4,
    "start_time": "2023-01-12T18:20:45.786Z"
   },
   {
    "duration": 11,
    "start_time": "2023-01-12T18:20:45.792Z"
   },
   {
    "duration": 32,
    "start_time": "2023-01-12T18:20:45.805Z"
   },
   {
    "duration": 2799,
    "start_time": "2023-01-12T18:20:45.840Z"
   },
   {
    "duration": 714,
    "start_time": "2023-01-12T18:20:48.640Z"
   },
   {
    "duration": 639,
    "start_time": "2023-01-12T18:20:49.356Z"
   },
   {
    "duration": 9,
    "start_time": "2023-01-12T18:20:49.997Z"
   },
   {
    "duration": 550,
    "start_time": "2023-01-12T18:20:50.008Z"
   },
   {
    "duration": 15,
    "start_time": "2023-01-12T18:20:50.561Z"
   },
   {
    "duration": 4,
    "start_time": "2023-01-12T18:20:50.578Z"
   },
   {
    "duration": 6,
    "start_time": "2023-01-12T18:20:50.583Z"
   },
   {
    "duration": 6,
    "start_time": "2023-01-12T18:20:50.591Z"
   },
   {
    "duration": 6,
    "start_time": "2023-01-12T18:20:50.598Z"
   },
   {
    "duration": 39,
    "start_time": "2023-01-12T18:20:50.606Z"
   },
   {
    "duration": 27,
    "start_time": "2023-01-12T18:20:50.647Z"
   },
   {
    "duration": 94,
    "start_time": "2023-01-12T18:20:50.676Z"
   },
   {
    "duration": 20,
    "start_time": "2023-01-12T18:20:50.772Z"
   },
   {
    "duration": 111,
    "start_time": "2023-01-12T18:20:50.794Z"
   },
   {
    "duration": 0,
    "start_time": "2023-01-12T18:20:50.906Z"
   },
   {
    "duration": 1411,
    "start_time": "2023-01-12T18:37:59.755Z"
   },
   {
    "duration": 768,
    "start_time": "2023-01-12T18:38:01.169Z"
   },
   {
    "duration": 5,
    "start_time": "2023-01-12T18:38:01.939Z"
   },
   {
    "duration": 556,
    "start_time": "2023-01-12T18:38:01.947Z"
   },
   {
    "duration": 514,
    "start_time": "2023-01-12T18:38:02.505Z"
   },
   {
    "duration": 239,
    "start_time": "2023-01-12T18:38:03.021Z"
   },
   {
    "duration": 8,
    "start_time": "2023-01-12T18:38:03.261Z"
   },
   {
    "duration": 7,
    "start_time": "2023-01-12T18:38:03.270Z"
   },
   {
    "duration": 6,
    "start_time": "2023-01-12T18:38:03.279Z"
   },
   {
    "duration": 6,
    "start_time": "2023-01-12T18:38:03.288Z"
   },
   {
    "duration": 8,
    "start_time": "2023-01-12T18:38:03.296Z"
   },
   {
    "duration": 40,
    "start_time": "2023-01-12T18:38:03.306Z"
   },
   {
    "duration": 14,
    "start_time": "2023-01-12T18:38:03.348Z"
   },
   {
    "duration": 10,
    "start_time": "2023-01-12T18:38:03.363Z"
   },
   {
    "duration": 6,
    "start_time": "2023-01-12T18:38:03.374Z"
   },
   {
    "duration": 7,
    "start_time": "2023-01-12T18:38:03.381Z"
   },
   {
    "duration": 7,
    "start_time": "2023-01-12T18:38:03.390Z"
   },
   {
    "duration": 2823,
    "start_time": "2023-01-12T18:38:03.399Z"
   },
   {
    "duration": 545,
    "start_time": "2023-01-12T18:38:06.223Z"
   },
   {
    "duration": 631,
    "start_time": "2023-01-12T18:38:06.769Z"
   },
   {
    "duration": 10,
    "start_time": "2023-01-12T18:38:07.402Z"
   },
   {
    "duration": 551,
    "start_time": "2023-01-12T18:38:07.413Z"
   },
   {
    "duration": 18,
    "start_time": "2023-01-12T18:38:07.965Z"
   },
   {
    "duration": 3,
    "start_time": "2023-01-12T18:38:07.985Z"
   },
   {
    "duration": 7,
    "start_time": "2023-01-12T18:38:07.989Z"
   },
   {
    "duration": 13,
    "start_time": "2023-01-12T18:38:07.998Z"
   },
   {
    "duration": 9,
    "start_time": "2023-01-12T18:38:08.013Z"
   },
   {
    "duration": 14,
    "start_time": "2023-01-12T18:38:08.039Z"
   },
   {
    "duration": 12,
    "start_time": "2023-01-12T18:38:08.055Z"
   },
   {
    "duration": 19,
    "start_time": "2023-01-12T18:38:08.069Z"
   },
   {
    "duration": 1531,
    "start_time": "2023-01-12T18:38:08.089Z"
   },
   {
    "duration": 0,
    "start_time": "2023-01-12T18:38:09.622Z"
   },
   {
    "duration": 0,
    "start_time": "2023-01-12T18:38:09.623Z"
   },
   {
    "duration": 0,
    "start_time": "2023-01-12T18:38:09.624Z"
   },
   {
    "duration": 0,
    "start_time": "2023-01-12T18:38:09.625Z"
   },
   {
    "duration": 0,
    "start_time": "2023-01-12T18:38:09.637Z"
   },
   {
    "duration": 2816,
    "start_time": "2023-01-12T18:38:23.823Z"
   },
   {
    "duration": 1586,
    "start_time": "2023-01-12T18:39:38.625Z"
   },
   {
    "duration": 751,
    "start_time": "2023-01-12T18:39:40.213Z"
   },
   {
    "duration": 5,
    "start_time": "2023-01-12T18:39:40.965Z"
   },
   {
    "duration": 531,
    "start_time": "2023-01-12T18:39:40.972Z"
   },
   {
    "duration": 504,
    "start_time": "2023-01-12T18:39:41.504Z"
   },
   {
    "duration": 241,
    "start_time": "2023-01-12T18:39:42.010Z"
   },
   {
    "duration": 9,
    "start_time": "2023-01-12T18:39:42.253Z"
   },
   {
    "duration": 9,
    "start_time": "2023-01-12T18:39:42.264Z"
   },
   {
    "duration": 6,
    "start_time": "2023-01-12T18:39:42.274Z"
   },
   {
    "duration": 11,
    "start_time": "2023-01-12T18:39:42.282Z"
   },
   {
    "duration": 15,
    "start_time": "2023-01-12T18:39:42.295Z"
   },
   {
    "duration": 31,
    "start_time": "2023-01-12T18:39:42.312Z"
   },
   {
    "duration": 14,
    "start_time": "2023-01-12T18:39:42.345Z"
   },
   {
    "duration": 10,
    "start_time": "2023-01-12T18:39:42.361Z"
   },
   {
    "duration": 3,
    "start_time": "2023-01-12T18:39:42.372Z"
   },
   {
    "duration": 17,
    "start_time": "2023-01-12T18:39:42.376Z"
   },
   {
    "duration": 6,
    "start_time": "2023-01-12T18:39:42.395Z"
   },
   {
    "duration": 2810,
    "start_time": "2023-01-12T18:39:42.402Z"
   },
   {
    "duration": 684,
    "start_time": "2023-01-12T18:39:45.214Z"
   },
   {
    "duration": 615,
    "start_time": "2023-01-12T18:39:45.900Z"
   },
   {
    "duration": 9,
    "start_time": "2023-01-12T18:39:46.516Z"
   },
   {
    "duration": 543,
    "start_time": "2023-01-12T18:39:46.526Z"
   },
   {
    "duration": 16,
    "start_time": "2023-01-12T18:39:47.071Z"
   },
   {
    "duration": 4,
    "start_time": "2023-01-12T18:39:47.089Z"
   },
   {
    "duration": 8,
    "start_time": "2023-01-12T18:39:47.094Z"
   },
   {
    "duration": 8,
    "start_time": "2023-01-12T18:39:47.104Z"
   },
   {
    "duration": 23,
    "start_time": "2023-01-12T18:39:47.114Z"
   },
   {
    "duration": 14,
    "start_time": "2023-01-12T18:39:47.142Z"
   },
   {
    "duration": 15,
    "start_time": "2023-01-12T18:39:47.159Z"
   },
   {
    "duration": 25,
    "start_time": "2023-01-12T18:39:47.175Z"
   },
   {
    "duration": 2741,
    "start_time": "2023-01-12T18:39:47.202Z"
   },
   {
    "duration": 3,
    "start_time": "2023-01-12T18:39:49.945Z"
   },
   {
    "duration": 302,
    "start_time": "2023-01-12T18:39:49.951Z"
   },
   {
    "duration": 0,
    "start_time": "2023-01-12T18:39:50.255Z"
   },
   {
    "duration": 0,
    "start_time": "2023-01-12T18:39:50.256Z"
   },
   {
    "duration": 0,
    "start_time": "2023-01-12T18:39:50.258Z"
   },
   {
    "duration": 2506,
    "start_time": "2023-01-12T18:40:25.748Z"
   },
   {
    "duration": 2713,
    "start_time": "2023-01-12T18:41:37.228Z"
   },
   {
    "duration": 133,
    "start_time": "2023-01-12T18:48:29.217Z"
   },
   {
    "duration": 2987,
    "start_time": "2023-01-12T18:48:44.561Z"
   },
   {
    "duration": 1435,
    "start_time": "2023-01-12T18:49:06.348Z"
   },
   {
    "duration": 740,
    "start_time": "2023-01-12T18:49:07.785Z"
   },
   {
    "duration": 10,
    "start_time": "2023-01-12T18:49:08.527Z"
   },
   {
    "duration": 581,
    "start_time": "2023-01-12T18:49:08.540Z"
   },
   {
    "duration": 507,
    "start_time": "2023-01-12T18:49:09.123Z"
   },
   {
    "duration": 239,
    "start_time": "2023-01-12T18:49:09.631Z"
   },
   {
    "duration": 7,
    "start_time": "2023-01-12T18:49:09.872Z"
   },
   {
    "duration": 8,
    "start_time": "2023-01-12T18:49:09.881Z"
   },
   {
    "duration": 8,
    "start_time": "2023-01-12T18:49:09.890Z"
   },
   {
    "duration": 7,
    "start_time": "2023-01-12T18:49:09.901Z"
   },
   {
    "duration": 7,
    "start_time": "2023-01-12T18:49:09.910Z"
   },
   {
    "duration": 33,
    "start_time": "2023-01-12T18:49:09.918Z"
   },
   {
    "duration": 14,
    "start_time": "2023-01-12T18:49:09.953Z"
   },
   {
    "duration": 10,
    "start_time": "2023-01-12T18:49:09.969Z"
   },
   {
    "duration": 3,
    "start_time": "2023-01-12T18:49:09.980Z"
   },
   {
    "duration": 27,
    "start_time": "2023-01-12T18:49:09.985Z"
   },
   {
    "duration": 10,
    "start_time": "2023-01-12T18:49:10.014Z"
   },
   {
    "duration": 2738,
    "start_time": "2023-01-12T18:49:10.025Z"
   },
   {
    "duration": 614,
    "start_time": "2023-01-12T18:49:12.764Z"
   },
   {
    "duration": 650,
    "start_time": "2023-01-12T18:49:13.379Z"
   },
   {
    "duration": 13,
    "start_time": "2023-01-12T18:49:14.031Z"
   },
   {
    "duration": 571,
    "start_time": "2023-01-12T18:49:14.046Z"
   },
   {
    "duration": 24,
    "start_time": "2023-01-12T18:49:14.619Z"
   },
   {
    "duration": 4,
    "start_time": "2023-01-12T18:49:14.645Z"
   },
   {
    "duration": 9,
    "start_time": "2023-01-12T18:49:14.650Z"
   },
   {
    "duration": 7,
    "start_time": "2023-01-12T18:49:14.661Z"
   },
   {
    "duration": 17,
    "start_time": "2023-01-12T18:49:14.670Z"
   },
   {
    "duration": 11,
    "start_time": "2023-01-12T18:49:14.691Z"
   },
   {
    "duration": 48,
    "start_time": "2023-01-12T18:49:14.703Z"
   },
   {
    "duration": 2986,
    "start_time": "2023-01-12T18:49:14.753Z"
   },
   {
    "duration": 5,
    "start_time": "2023-01-12T18:49:17.742Z"
   },
   {
    "duration": 178,
    "start_time": "2023-01-12T18:49:17.839Z"
   },
   {
    "duration": 0,
    "start_time": "2023-01-12T18:49:18.019Z"
   },
   {
    "duration": 0,
    "start_time": "2023-01-12T18:49:18.021Z"
   },
   {
    "duration": 0,
    "start_time": "2023-01-12T18:49:18.022Z"
   },
   {
    "duration": 2490,
    "start_time": "2023-01-12T18:51:19.861Z"
   },
   {
    "duration": 1581,
    "start_time": "2023-01-12T18:51:30.852Z"
   },
   {
    "duration": 777,
    "start_time": "2023-01-12T18:51:32.435Z"
   },
   {
    "duration": 5,
    "start_time": "2023-01-12T18:51:33.214Z"
   },
   {
    "duration": 522,
    "start_time": "2023-01-12T18:51:33.221Z"
   },
   {
    "duration": 522,
    "start_time": "2023-01-12T18:51:33.744Z"
   },
   {
    "duration": 228,
    "start_time": "2023-01-12T18:51:34.268Z"
   },
   {
    "duration": 7,
    "start_time": "2023-01-12T18:51:34.498Z"
   },
   {
    "duration": 4,
    "start_time": "2023-01-12T18:51:34.507Z"
   },
   {
    "duration": 26,
    "start_time": "2023-01-12T18:51:34.513Z"
   },
   {
    "duration": 5,
    "start_time": "2023-01-12T18:51:34.542Z"
   },
   {
    "duration": 8,
    "start_time": "2023-01-12T18:51:34.549Z"
   },
   {
    "duration": 18,
    "start_time": "2023-01-12T18:51:34.558Z"
   },
   {
    "duration": 15,
    "start_time": "2023-01-12T18:51:34.577Z"
   },
   {
    "duration": 11,
    "start_time": "2023-01-12T18:51:34.594Z"
   },
   {
    "duration": 3,
    "start_time": "2023-01-12T18:51:34.607Z"
   },
   {
    "duration": 9,
    "start_time": "2023-01-12T18:51:34.638Z"
   },
   {
    "duration": 6,
    "start_time": "2023-01-12T18:51:34.648Z"
   },
   {
    "duration": 2744,
    "start_time": "2023-01-12T18:51:34.655Z"
   },
   {
    "duration": 599,
    "start_time": "2023-01-12T18:51:37.401Z"
   },
   {
    "duration": 593,
    "start_time": "2023-01-12T18:51:38.002Z"
   },
   {
    "duration": 8,
    "start_time": "2023-01-12T18:51:38.596Z"
   },
   {
    "duration": 623,
    "start_time": "2023-01-12T18:51:38.606Z"
   },
   {
    "duration": 21,
    "start_time": "2023-01-12T18:51:39.231Z"
   },
   {
    "duration": 51,
    "start_time": "2023-01-12T18:51:39.253Z"
   },
   {
    "duration": 61,
    "start_time": "2023-01-12T18:51:39.306Z"
   },
   {
    "duration": 27,
    "start_time": "2023-01-12T18:51:39.370Z"
   },
   {
    "duration": 62,
    "start_time": "2023-01-12T18:51:39.399Z"
   },
   {
    "duration": 60,
    "start_time": "2023-01-12T18:51:39.464Z"
   },
   {
    "duration": 85,
    "start_time": "2023-01-12T18:51:39.525Z"
   },
   {
    "duration": 2831,
    "start_time": "2023-01-12T18:51:39.612Z"
   },
   {
    "duration": 92,
    "start_time": "2023-01-12T18:51:42.446Z"
   },
   {
    "duration": 122,
    "start_time": "2023-01-12T18:51:42.540Z"
   },
   {
    "duration": 0,
    "start_time": "2023-01-12T18:51:42.664Z"
   },
   {
    "duration": 0,
    "start_time": "2023-01-12T18:51:42.665Z"
   },
   {
    "duration": 0,
    "start_time": "2023-01-12T18:51:42.666Z"
   },
   {
    "duration": 1479,
    "start_time": "2023-01-12T18:52:31.415Z"
   },
   {
    "duration": 745,
    "start_time": "2023-01-12T18:52:32.896Z"
   },
   {
    "duration": 5,
    "start_time": "2023-01-12T18:52:33.642Z"
   },
   {
    "duration": 609,
    "start_time": "2023-01-12T18:52:33.650Z"
   },
   {
    "duration": 517,
    "start_time": "2023-01-12T18:52:34.261Z"
   },
   {
    "duration": 243,
    "start_time": "2023-01-12T18:52:34.780Z"
   },
   {
    "duration": 20,
    "start_time": "2023-01-12T18:52:35.024Z"
   },
   {
    "duration": 13,
    "start_time": "2023-01-12T18:52:35.046Z"
   },
   {
    "duration": 14,
    "start_time": "2023-01-12T18:52:35.061Z"
   },
   {
    "duration": 9,
    "start_time": "2023-01-12T18:52:35.078Z"
   },
   {
    "duration": 10,
    "start_time": "2023-01-12T18:52:35.088Z"
   },
   {
    "duration": 40,
    "start_time": "2023-01-12T18:52:35.100Z"
   },
   {
    "duration": 23,
    "start_time": "2023-01-12T18:52:35.142Z"
   },
   {
    "duration": 11,
    "start_time": "2023-01-12T18:52:35.167Z"
   },
   {
    "duration": 4,
    "start_time": "2023-01-12T18:52:35.179Z"
   },
   {
    "duration": 13,
    "start_time": "2023-01-12T18:52:35.185Z"
   },
   {
    "duration": 5,
    "start_time": "2023-01-12T18:52:35.201Z"
   },
   {
    "duration": 2758,
    "start_time": "2023-01-12T18:52:35.207Z"
   },
   {
    "duration": 585,
    "start_time": "2023-01-12T18:52:37.967Z"
   },
   {
    "duration": 717,
    "start_time": "2023-01-12T18:52:38.554Z"
   },
   {
    "duration": 8,
    "start_time": "2023-01-12T18:52:39.272Z"
   },
   {
    "duration": 524,
    "start_time": "2023-01-12T18:52:39.282Z"
   },
   {
    "duration": 18,
    "start_time": "2023-01-12T18:52:39.807Z"
   },
   {
    "duration": 7,
    "start_time": "2023-01-12T18:52:39.838Z"
   },
   {
    "duration": 11,
    "start_time": "2023-01-12T18:52:39.847Z"
   },
   {
    "duration": 14,
    "start_time": "2023-01-12T18:52:39.860Z"
   },
   {
    "duration": 15,
    "start_time": "2023-01-12T18:52:39.876Z"
   },
   {
    "duration": 10,
    "start_time": "2023-01-12T18:52:39.895Z"
   },
   {
    "duration": 44,
    "start_time": "2023-01-12T18:52:39.907Z"
   },
   {
    "duration": 2689,
    "start_time": "2023-01-12T18:52:39.953Z"
   },
   {
    "duration": 4,
    "start_time": "2023-01-12T18:52:42.644Z"
   },
   {
    "duration": 281,
    "start_time": "2023-01-12T18:52:42.650Z"
   },
   {
    "duration": 0,
    "start_time": "2023-01-12T18:52:42.932Z"
   },
   {
    "duration": 0,
    "start_time": "2023-01-12T18:52:42.938Z"
   },
   {
    "duration": 0,
    "start_time": "2023-01-12T18:52:42.938Z"
   },
   {
    "duration": 13,
    "start_time": "2023-01-12T18:57:12.271Z"
   },
   {
    "duration": 1598,
    "start_time": "2023-01-12T19:02:55.654Z"
   },
   {
    "duration": 1511,
    "start_time": "2023-01-12T19:03:12.129Z"
   },
   {
    "duration": 779,
    "start_time": "2023-01-12T19:03:13.642Z"
   },
   {
    "duration": 5,
    "start_time": "2023-01-12T19:03:14.422Z"
   },
   {
    "duration": 525,
    "start_time": "2023-01-12T19:03:14.436Z"
   },
   {
    "duration": 576,
    "start_time": "2023-01-12T19:03:14.963Z"
   },
   {
    "duration": 307,
    "start_time": "2023-01-12T19:03:15.541Z"
   },
   {
    "duration": 13,
    "start_time": "2023-01-12T19:03:15.850Z"
   },
   {
    "duration": 25,
    "start_time": "2023-01-12T19:03:15.865Z"
   },
   {
    "duration": 8,
    "start_time": "2023-01-12T19:03:15.891Z"
   },
   {
    "duration": 8,
    "start_time": "2023-01-12T19:03:15.902Z"
   },
   {
    "duration": 12,
    "start_time": "2023-01-12T19:03:15.911Z"
   },
   {
    "duration": 17,
    "start_time": "2023-01-12T19:03:15.925Z"
   },
   {
    "duration": 14,
    "start_time": "2023-01-12T19:03:15.944Z"
   },
   {
    "duration": 14,
    "start_time": "2023-01-12T19:03:15.961Z"
   },
   {
    "duration": 3,
    "start_time": "2023-01-12T19:03:15.978Z"
   },
   {
    "duration": 11,
    "start_time": "2023-01-12T19:03:15.982Z"
   },
   {
    "duration": 7,
    "start_time": "2023-01-12T19:03:15.995Z"
   },
   {
    "duration": 2774,
    "start_time": "2023-01-12T19:03:16.004Z"
   },
   {
    "duration": 643,
    "start_time": "2023-01-12T19:03:18.780Z"
   },
   {
    "duration": 662,
    "start_time": "2023-01-12T19:03:19.425Z"
   },
   {
    "duration": 8,
    "start_time": "2023-01-12T19:03:20.089Z"
   },
   {
    "duration": 531,
    "start_time": "2023-01-12T19:03:20.098Z"
   },
   {
    "duration": 21,
    "start_time": "2023-01-12T19:03:20.631Z"
   },
   {
    "duration": 3,
    "start_time": "2023-01-12T19:03:20.654Z"
   },
   {
    "duration": 7,
    "start_time": "2023-01-12T19:03:20.659Z"
   },
   {
    "duration": 6,
    "start_time": "2023-01-12T19:03:20.668Z"
   },
   {
    "duration": 26,
    "start_time": "2023-01-12T19:03:20.676Z"
   },
   {
    "duration": 35,
    "start_time": "2023-01-12T19:03:20.706Z"
   },
   {
    "duration": 22,
    "start_time": "2023-01-12T19:03:20.743Z"
   },
   {
    "duration": 2774,
    "start_time": "2023-01-12T19:03:20.767Z"
   },
   {
    "duration": 1938,
    "start_time": "2023-01-12T19:03:23.544Z"
   },
   {
    "duration": 0,
    "start_time": "2023-01-12T19:03:25.484Z"
   },
   {
    "duration": 0,
    "start_time": "2023-01-12T19:03:25.485Z"
   },
   {
    "duration": 0,
    "start_time": "2023-01-12T19:03:25.487Z"
   },
   {
    "duration": 0,
    "start_time": "2023-01-12T19:03:25.488Z"
   },
   {
    "duration": 1855,
    "start_time": "2023-01-12T19:04:38.898Z"
   },
   {
    "duration": 1771,
    "start_time": "2023-01-12T19:05:22.181Z"
   },
   {
    "duration": 740,
    "start_time": "2023-01-12T19:07:27.798Z"
   },
   {
    "duration": 1472,
    "start_time": "2023-01-12T19:07:40.502Z"
   },
   {
    "duration": 745,
    "start_time": "2023-01-12T19:07:41.976Z"
   },
   {
    "duration": 4,
    "start_time": "2023-01-12T19:07:42.723Z"
   },
   {
    "duration": 536,
    "start_time": "2023-01-12T19:07:42.729Z"
   },
   {
    "duration": 504,
    "start_time": "2023-01-12T19:07:43.267Z"
   },
   {
    "duration": 277,
    "start_time": "2023-01-12T19:07:43.773Z"
   },
   {
    "duration": 8,
    "start_time": "2023-01-12T19:07:44.051Z"
   },
   {
    "duration": 5,
    "start_time": "2023-01-12T19:07:44.061Z"
   },
   {
    "duration": 17,
    "start_time": "2023-01-12T19:07:44.067Z"
   },
   {
    "duration": 10,
    "start_time": "2023-01-12T19:07:44.087Z"
   },
   {
    "duration": 9,
    "start_time": "2023-01-12T19:07:44.098Z"
   },
   {
    "duration": 45,
    "start_time": "2023-01-12T19:07:44.109Z"
   },
   {
    "duration": 16,
    "start_time": "2023-01-12T19:07:44.157Z"
   },
   {
    "duration": 15,
    "start_time": "2023-01-12T19:07:44.176Z"
   },
   {
    "duration": 9,
    "start_time": "2023-01-12T19:07:44.194Z"
   },
   {
    "duration": 22,
    "start_time": "2023-01-12T19:07:44.205Z"
   },
   {
    "duration": 11,
    "start_time": "2023-01-12T19:07:44.229Z"
   },
   {
    "duration": 2874,
    "start_time": "2023-01-12T19:07:44.243Z"
   },
   {
    "duration": 555,
    "start_time": "2023-01-12T19:07:47.119Z"
   },
   {
    "duration": 633,
    "start_time": "2023-01-12T19:07:47.675Z"
   },
   {
    "duration": 9,
    "start_time": "2023-01-12T19:07:48.310Z"
   },
   {
    "duration": 598,
    "start_time": "2023-01-12T19:07:48.321Z"
   },
   {
    "duration": 31,
    "start_time": "2023-01-12T19:07:48.922Z"
   },
   {
    "duration": 21,
    "start_time": "2023-01-12T19:07:48.955Z"
   },
   {
    "duration": 14,
    "start_time": "2023-01-12T19:07:48.979Z"
   },
   {
    "duration": 9,
    "start_time": "2023-01-12T19:07:48.996Z"
   },
   {
    "duration": 24,
    "start_time": "2023-01-12T19:07:49.008Z"
   },
   {
    "duration": 23,
    "start_time": "2023-01-12T19:07:49.035Z"
   },
   {
    "duration": 38,
    "start_time": "2023-01-12T19:07:49.060Z"
   },
   {
    "duration": 3039,
    "start_time": "2023-01-12T19:07:49.101Z"
   },
   {
    "duration": 1004,
    "start_time": "2023-01-12T19:07:52.143Z"
   },
   {
    "duration": 0,
    "start_time": "2023-01-12T19:07:53.150Z"
   },
   {
    "duration": 0,
    "start_time": "2023-01-12T19:07:53.152Z"
   },
   {
    "duration": 0,
    "start_time": "2023-01-12T19:07:53.153Z"
   },
   {
    "duration": 0,
    "start_time": "2023-01-12T19:07:53.154Z"
   },
   {
    "duration": 0,
    "start_time": "2023-01-12T19:07:53.156Z"
   },
   {
    "duration": 438,
    "start_time": "2023-01-12T19:11:28.955Z"
   },
   {
    "duration": 722,
    "start_time": "2023-01-12T19:11:49.155Z"
   },
   {
    "duration": 725,
    "start_time": "2023-01-12T19:11:58.400Z"
   },
   {
    "duration": 693,
    "start_time": "2023-01-12T19:12:33.653Z"
   },
   {
    "duration": 335741,
    "start_time": "2023-01-12T19:15:15.153Z"
   },
   {
    "duration": 3358,
    "start_time": "2023-01-12T19:22:27.257Z"
   },
   {
    "duration": 167147,
    "start_time": "2023-01-12T19:22:37.947Z"
   },
   {
    "duration": 168079,
    "start_time": "2023-01-12T19:30:28.154Z"
   },
   {
    "duration": 3158,
    "start_time": "2023-01-12T19:34:59.888Z"
   },
   {
    "duration": 1478,
    "start_time": "2023-01-12T19:36:00.664Z"
   },
   {
    "duration": 756,
    "start_time": "2023-01-12T19:36:02.144Z"
   },
   {
    "duration": 4,
    "start_time": "2023-01-12T19:36:02.902Z"
   },
   {
    "duration": 559,
    "start_time": "2023-01-12T19:36:02.909Z"
   },
   {
    "duration": 599,
    "start_time": "2023-01-12T19:36:03.469Z"
   },
   {
    "duration": 285,
    "start_time": "2023-01-12T19:36:04.071Z"
   },
   {
    "duration": 7,
    "start_time": "2023-01-12T19:36:04.358Z"
   },
   {
    "duration": 21,
    "start_time": "2023-01-12T19:36:04.367Z"
   },
   {
    "duration": 9,
    "start_time": "2023-01-12T19:36:04.390Z"
   },
   {
    "duration": 8,
    "start_time": "2023-01-12T19:36:04.403Z"
   },
   {
    "duration": 11,
    "start_time": "2023-01-12T19:36:04.413Z"
   },
   {
    "duration": 22,
    "start_time": "2023-01-12T19:36:04.438Z"
   },
   {
    "duration": 11,
    "start_time": "2023-01-12T19:36:04.463Z"
   },
   {
    "duration": 11,
    "start_time": "2023-01-12T19:36:04.476Z"
   },
   {
    "duration": 3,
    "start_time": "2023-01-12T19:36:04.489Z"
   },
   {
    "duration": 12,
    "start_time": "2023-01-12T19:36:04.494Z"
   },
   {
    "duration": 34,
    "start_time": "2023-01-12T19:36:04.508Z"
   },
   {
    "duration": 2823,
    "start_time": "2023-01-12T19:36:04.545Z"
   },
   {
    "duration": 654,
    "start_time": "2023-01-12T19:36:07.370Z"
   },
   {
    "duration": 578,
    "start_time": "2023-01-12T19:36:08.026Z"
   },
   {
    "duration": 8,
    "start_time": "2023-01-12T19:36:08.606Z"
   },
   {
    "duration": 655,
    "start_time": "2023-01-12T19:36:08.616Z"
   },
   {
    "duration": 17,
    "start_time": "2023-01-12T19:36:09.274Z"
   },
   {
    "duration": 4,
    "start_time": "2023-01-12T19:36:09.292Z"
   },
   {
    "duration": 10,
    "start_time": "2023-01-12T19:36:09.297Z"
   },
   {
    "duration": 29,
    "start_time": "2023-01-12T19:36:09.309Z"
   },
   {
    "duration": 14,
    "start_time": "2023-01-12T19:36:09.340Z"
   },
   {
    "duration": 20,
    "start_time": "2023-01-12T19:36:09.358Z"
   },
   {
    "duration": 35,
    "start_time": "2023-01-12T19:36:09.379Z"
   },
   {
    "duration": 3024,
    "start_time": "2023-01-12T19:36:09.416Z"
   },
   {
    "duration": 3687,
    "start_time": "2023-01-12T19:36:12.443Z"
   },
   {
    "duration": 0,
    "start_time": "2023-01-12T19:36:16.132Z"
   },
   {
    "duration": 0,
    "start_time": "2023-01-12T19:36:16.138Z"
   },
   {
    "duration": 0,
    "start_time": "2023-01-12T19:36:16.139Z"
   },
   {
    "duration": 0,
    "start_time": "2023-01-12T19:36:16.140Z"
   },
   {
    "duration": 0,
    "start_time": "2023-01-12T19:36:16.141Z"
   },
   {
    "duration": 0,
    "start_time": "2023-01-12T19:36:16.142Z"
   },
   {
    "duration": 3181,
    "start_time": "2023-01-12T19:41:07.714Z"
   },
   {
    "duration": 1569,
    "start_time": "2023-01-12T19:42:29.777Z"
   },
   {
    "duration": 757,
    "start_time": "2023-01-12T19:42:31.349Z"
   },
   {
    "duration": 5,
    "start_time": "2023-01-12T19:42:32.107Z"
   },
   {
    "duration": 545,
    "start_time": "2023-01-12T19:42:32.113Z"
   },
   {
    "duration": 511,
    "start_time": "2023-01-12T19:42:32.659Z"
   },
   {
    "duration": 241,
    "start_time": "2023-01-12T19:42:33.171Z"
   },
   {
    "duration": 7,
    "start_time": "2023-01-12T19:42:33.414Z"
   },
   {
    "duration": 10,
    "start_time": "2023-01-12T19:42:33.439Z"
   },
   {
    "duration": 15,
    "start_time": "2023-01-12T19:42:33.451Z"
   },
   {
    "duration": 12,
    "start_time": "2023-01-12T19:42:33.470Z"
   },
   {
    "duration": 18,
    "start_time": "2023-01-12T19:42:33.484Z"
   },
   {
    "duration": 17,
    "start_time": "2023-01-12T19:42:33.504Z"
   },
   {
    "duration": 10,
    "start_time": "2023-01-12T19:42:33.522Z"
   },
   {
    "duration": 17,
    "start_time": "2023-01-12T19:42:33.534Z"
   },
   {
    "duration": 7,
    "start_time": "2023-01-12T19:42:33.553Z"
   },
   {
    "duration": 15,
    "start_time": "2023-01-12T19:42:33.562Z"
   },
   {
    "duration": 7,
    "start_time": "2023-01-12T19:42:33.579Z"
   },
   {
    "duration": 2887,
    "start_time": "2023-01-12T19:42:33.588Z"
   },
   {
    "duration": 610,
    "start_time": "2023-01-12T19:42:36.477Z"
   },
   {
    "duration": 636,
    "start_time": "2023-01-12T19:42:37.089Z"
   },
   {
    "duration": 12,
    "start_time": "2023-01-12T19:42:37.727Z"
   },
   {
    "duration": 563,
    "start_time": "2023-01-12T19:42:37.741Z"
   },
   {
    "duration": 16,
    "start_time": "2023-01-12T19:42:38.306Z"
   },
   {
    "duration": 5,
    "start_time": "2023-01-12T19:42:38.337Z"
   },
   {
    "duration": 20,
    "start_time": "2023-01-12T19:42:38.344Z"
   },
   {
    "duration": 7,
    "start_time": "2023-01-12T19:42:38.366Z"
   },
   {
    "duration": 16,
    "start_time": "2023-01-12T19:42:38.375Z"
   },
   {
    "duration": 9,
    "start_time": "2023-01-12T19:42:38.394Z"
   },
   {
    "duration": 33,
    "start_time": "2023-01-12T19:42:38.405Z"
   },
   {
    "duration": 3218,
    "start_time": "2023-01-12T19:42:38.440Z"
   },
   {
    "duration": 3784,
    "start_time": "2023-01-12T19:42:41.661Z"
   },
   {
    "duration": 0,
    "start_time": "2023-01-12T19:42:45.449Z"
   },
   {
    "duration": 0,
    "start_time": "2023-01-12T19:42:45.451Z"
   },
   {
    "duration": 0,
    "start_time": "2023-01-12T19:42:45.452Z"
   },
   {
    "duration": 0,
    "start_time": "2023-01-12T19:42:45.454Z"
   },
   {
    "duration": 0,
    "start_time": "2023-01-12T19:42:45.455Z"
   },
   {
    "duration": 0,
    "start_time": "2023-01-12T19:42:45.456Z"
   },
   {
    "duration": 1551,
    "start_time": "2023-01-12T19:50:20.154Z"
   },
   {
    "duration": 818,
    "start_time": "2023-01-12T19:50:21.707Z"
   },
   {
    "duration": 4,
    "start_time": "2023-01-12T19:50:22.527Z"
   },
   {
    "duration": 590,
    "start_time": "2023-01-12T19:50:22.537Z"
   },
   {
    "duration": 573,
    "start_time": "2023-01-12T19:50:23.129Z"
   },
   {
    "duration": 291,
    "start_time": "2023-01-12T19:50:23.703Z"
   },
   {
    "duration": 9,
    "start_time": "2023-01-12T19:50:23.997Z"
   },
   {
    "duration": 32,
    "start_time": "2023-01-12T19:50:24.008Z"
   },
   {
    "duration": 29,
    "start_time": "2023-01-12T19:50:24.042Z"
   },
   {
    "duration": 16,
    "start_time": "2023-01-12T19:50:24.075Z"
   },
   {
    "duration": 9,
    "start_time": "2023-01-12T19:50:24.093Z"
   },
   {
    "duration": 28,
    "start_time": "2023-01-12T19:50:24.104Z"
   },
   {
    "duration": 44,
    "start_time": "2023-01-12T19:50:24.134Z"
   },
   {
    "duration": 15,
    "start_time": "2023-01-12T19:50:24.182Z"
   },
   {
    "duration": 10,
    "start_time": "2023-01-12T19:50:24.200Z"
   },
   {
    "duration": 15,
    "start_time": "2023-01-12T19:50:24.212Z"
   },
   {
    "duration": 7,
    "start_time": "2023-01-12T19:50:24.230Z"
   },
   {
    "duration": 3293,
    "start_time": "2023-01-12T19:50:24.239Z"
   },
   {
    "duration": 726,
    "start_time": "2023-01-12T19:50:27.537Z"
   },
   {
    "duration": 705,
    "start_time": "2023-01-12T19:50:28.265Z"
   },
   {
    "duration": 10,
    "start_time": "2023-01-12T19:50:28.973Z"
   },
   {
    "duration": 648,
    "start_time": "2023-01-12T19:50:28.985Z"
   },
   {
    "duration": 21,
    "start_time": "2023-01-12T19:50:29.638Z"
   },
   {
    "duration": 11,
    "start_time": "2023-01-12T19:50:29.662Z"
   },
   {
    "duration": 5,
    "start_time": "2023-01-12T19:50:29.675Z"
   },
   {
    "duration": 7,
    "start_time": "2023-01-12T19:50:29.682Z"
   },
   {
    "duration": 21,
    "start_time": "2023-01-12T19:50:29.691Z"
   },
   {
    "duration": 29,
    "start_time": "2023-01-12T19:50:29.717Z"
   },
   {
    "duration": 29,
    "start_time": "2023-01-12T19:50:29.748Z"
   },
   {
    "duration": 3729,
    "start_time": "2023-01-12T19:50:29.779Z"
   },
   {
    "duration": 3580,
    "start_time": "2023-01-12T19:50:33.510Z"
   },
   {
    "duration": 0,
    "start_time": "2023-01-12T19:50:37.092Z"
   },
   {
    "duration": 0,
    "start_time": "2023-01-12T19:50:37.093Z"
   },
   {
    "duration": 0,
    "start_time": "2023-01-12T19:50:37.094Z"
   },
   {
    "duration": 0,
    "start_time": "2023-01-12T19:50:37.095Z"
   },
   {
    "duration": 0,
    "start_time": "2023-01-12T19:50:37.096Z"
   },
   {
    "duration": 0,
    "start_time": "2023-01-12T19:50:37.097Z"
   },
   {
    "duration": 3319,
    "start_time": "2023-01-12T19:56:15.902Z"
   },
   {
    "duration": 3353,
    "start_time": "2023-01-12T19:56:37.335Z"
   },
   {
    "duration": 3252,
    "start_time": "2023-01-12T19:57:03.914Z"
   },
   {
    "duration": 3547,
    "start_time": "2023-01-12T19:57:57.102Z"
   },
   {
    "duration": 3419,
    "start_time": "2023-01-12T19:58:08.220Z"
   },
   {
    "duration": 5,
    "start_time": "2023-01-12T19:59:00.192Z"
   },
   {
    "duration": 3,
    "start_time": "2023-01-12T19:59:02.219Z"
   },
   {
    "duration": 3015,
    "start_time": "2023-01-12T19:59:06.234Z"
   },
   {
    "duration": 1566,
    "start_time": "2023-01-12T19:59:23.174Z"
   },
   {
    "duration": 765,
    "start_time": "2023-01-12T19:59:24.743Z"
   },
   {
    "duration": 5,
    "start_time": "2023-01-12T19:59:25.510Z"
   },
   {
    "duration": 601,
    "start_time": "2023-01-12T19:59:25.518Z"
   },
   {
    "duration": 535,
    "start_time": "2023-01-12T19:59:26.121Z"
   },
   {
    "duration": 271,
    "start_time": "2023-01-12T19:59:26.657Z"
   },
   {
    "duration": 11,
    "start_time": "2023-01-12T19:59:26.938Z"
   },
   {
    "duration": 10,
    "start_time": "2023-01-12T19:59:26.951Z"
   },
   {
    "duration": 16,
    "start_time": "2023-01-12T19:59:26.963Z"
   },
   {
    "duration": 21,
    "start_time": "2023-01-12T19:59:26.982Z"
   },
   {
    "duration": 11,
    "start_time": "2023-01-12T19:59:27.005Z"
   },
   {
    "duration": 27,
    "start_time": "2023-01-12T19:59:27.018Z"
   },
   {
    "duration": 16,
    "start_time": "2023-01-12T19:59:27.047Z"
   },
   {
    "duration": 12,
    "start_time": "2023-01-12T19:59:27.065Z"
   },
   {
    "duration": 3,
    "start_time": "2023-01-12T19:59:27.079Z"
   },
   {
    "duration": 8,
    "start_time": "2023-01-12T19:59:27.085Z"
   },
   {
    "duration": 7,
    "start_time": "2023-01-12T19:59:27.095Z"
   },
   {
    "duration": 3101,
    "start_time": "2023-01-12T19:59:27.103Z"
   },
   {
    "duration": 691,
    "start_time": "2023-01-12T19:59:30.206Z"
   },
   {
    "duration": 699,
    "start_time": "2023-01-12T19:59:30.899Z"
   },
   {
    "duration": 11,
    "start_time": "2023-01-12T19:59:31.599Z"
   },
   {
    "duration": 579,
    "start_time": "2023-01-12T19:59:31.611Z"
   },
   {
    "duration": 17,
    "start_time": "2023-01-12T19:59:32.192Z"
   },
   {
    "duration": 26,
    "start_time": "2023-01-12T19:59:32.212Z"
   },
   {
    "duration": 9,
    "start_time": "2023-01-12T19:59:32.241Z"
   },
   {
    "duration": 7,
    "start_time": "2023-01-12T19:59:32.253Z"
   },
   {
    "duration": 24,
    "start_time": "2023-01-12T19:59:32.262Z"
   },
   {
    "duration": 14,
    "start_time": "2023-01-12T19:59:32.290Z"
   },
   {
    "duration": 48,
    "start_time": "2023-01-12T19:59:32.305Z"
   },
   {
    "duration": 3192,
    "start_time": "2023-01-12T19:59:32.355Z"
   },
   {
    "duration": 4186,
    "start_time": "2023-01-12T19:59:35.553Z"
   },
   {
    "duration": 0,
    "start_time": "2023-01-12T19:59:39.742Z"
   },
   {
    "duration": 0,
    "start_time": "2023-01-12T19:59:39.743Z"
   },
   {
    "duration": 0,
    "start_time": "2023-01-12T19:59:39.745Z"
   },
   {
    "duration": 0,
    "start_time": "2023-01-12T19:59:39.747Z"
   },
   {
    "duration": 0,
    "start_time": "2023-01-12T19:59:39.749Z"
   },
   {
    "duration": 0,
    "start_time": "2023-01-12T19:59:39.751Z"
   },
   {
    "duration": 28,
    "start_time": "2023-01-12T20:06:16.630Z"
   },
   {
    "duration": 1572,
    "start_time": "2023-01-12T20:06:53.742Z"
   },
   {
    "duration": 878,
    "start_time": "2023-01-12T20:06:55.316Z"
   },
   {
    "duration": 4,
    "start_time": "2023-01-12T20:06:56.196Z"
   },
   {
    "duration": 546,
    "start_time": "2023-01-12T20:06:56.202Z"
   },
   {
    "duration": 537,
    "start_time": "2023-01-12T20:06:56.751Z"
   },
   {
    "duration": 265,
    "start_time": "2023-01-12T20:06:57.290Z"
   },
   {
    "duration": 8,
    "start_time": "2023-01-12T20:06:57.557Z"
   },
   {
    "duration": 7,
    "start_time": "2023-01-12T20:06:57.567Z"
   },
   {
    "duration": 9,
    "start_time": "2023-01-12T20:06:57.576Z"
   },
   {
    "duration": 6,
    "start_time": "2023-01-12T20:06:57.587Z"
   },
   {
    "duration": 54,
    "start_time": "2023-01-12T20:06:57.594Z"
   },
   {
    "duration": 18,
    "start_time": "2023-01-12T20:06:57.650Z"
   },
   {
    "duration": 13,
    "start_time": "2023-01-12T20:06:57.670Z"
   },
   {
    "duration": 14,
    "start_time": "2023-01-12T20:06:57.687Z"
   },
   {
    "duration": 3,
    "start_time": "2023-01-12T20:06:57.703Z"
   },
   {
    "duration": 31,
    "start_time": "2023-01-12T20:06:57.708Z"
   },
   {
    "duration": 8,
    "start_time": "2023-01-12T20:06:57.742Z"
   },
   {
    "duration": 2925,
    "start_time": "2023-01-12T20:06:57.752Z"
   },
   {
    "duration": 616,
    "start_time": "2023-01-12T20:07:00.679Z"
   },
   {
    "duration": 613,
    "start_time": "2023-01-12T20:07:01.297Z"
   },
   {
    "duration": 9,
    "start_time": "2023-01-12T20:07:01.911Z"
   },
   {
    "duration": 570,
    "start_time": "2023-01-12T20:07:01.922Z"
   },
   {
    "duration": 18,
    "start_time": "2023-01-12T20:07:02.495Z"
   },
   {
    "duration": 22,
    "start_time": "2023-01-12T20:07:02.516Z"
   },
   {
    "duration": 4,
    "start_time": "2023-01-12T20:07:02.541Z"
   },
   {
    "duration": 10,
    "start_time": "2023-01-12T20:07:02.547Z"
   },
   {
    "duration": 17,
    "start_time": "2023-01-12T20:07:02.560Z"
   },
   {
    "duration": 21,
    "start_time": "2023-01-12T20:07:02.579Z"
   },
   {
    "duration": 50,
    "start_time": "2023-01-12T20:07:02.602Z"
   },
   {
    "duration": 3195,
    "start_time": "2023-01-12T20:07:02.657Z"
   },
   {
    "duration": 233,
    "start_time": "2023-01-12T20:07:05.854Z"
   },
   {
    "duration": 0,
    "start_time": "2023-01-12T20:07:06.090Z"
   },
   {
    "duration": 0,
    "start_time": "2023-01-12T20:07:06.091Z"
   },
   {
    "duration": 0,
    "start_time": "2023-01-12T20:07:06.093Z"
   },
   {
    "duration": 0,
    "start_time": "2023-01-12T20:07:06.096Z"
   },
   {
    "duration": 0,
    "start_time": "2023-01-12T20:07:06.097Z"
   },
   {
    "duration": 0,
    "start_time": "2023-01-12T20:07:06.098Z"
   },
   {
    "duration": 19,
    "start_time": "2023-01-12T20:07:43.411Z"
   },
   {
    "duration": 1565,
    "start_time": "2023-01-12T20:07:54.876Z"
   },
   {
    "duration": 777,
    "start_time": "2023-01-12T20:07:56.443Z"
   },
   {
    "duration": 5,
    "start_time": "2023-01-12T20:07:57.222Z"
   },
   {
    "duration": 569,
    "start_time": "2023-01-12T20:07:57.238Z"
   },
   {
    "duration": 659,
    "start_time": "2023-01-12T20:07:57.810Z"
   },
   {
    "duration": 320,
    "start_time": "2023-01-12T20:07:58.472Z"
   },
   {
    "duration": 10,
    "start_time": "2023-01-12T20:07:58.794Z"
   },
   {
    "duration": 27,
    "start_time": "2023-01-12T20:07:58.813Z"
   },
   {
    "duration": 38,
    "start_time": "2023-01-12T20:07:58.843Z"
   },
   {
    "duration": 11,
    "start_time": "2023-01-12T20:07:58.885Z"
   },
   {
    "duration": 18,
    "start_time": "2023-01-12T20:07:58.898Z"
   },
   {
    "duration": 28,
    "start_time": "2023-01-12T20:07:58.918Z"
   },
   {
    "duration": 32,
    "start_time": "2023-01-12T20:07:58.949Z"
   },
   {
    "duration": 24,
    "start_time": "2023-01-12T20:07:58.985Z"
   },
   {
    "duration": 34,
    "start_time": "2023-01-12T20:07:59.012Z"
   },
   {
    "duration": 30,
    "start_time": "2023-01-12T20:07:59.050Z"
   },
   {
    "duration": 20,
    "start_time": "2023-01-12T20:07:59.082Z"
   },
   {
    "duration": 2897,
    "start_time": "2023-01-12T20:07:59.105Z"
   },
   {
    "duration": 665,
    "start_time": "2023-01-12T20:08:02.005Z"
   },
   {
    "duration": 609,
    "start_time": "2023-01-12T20:08:02.672Z"
   },
   {
    "duration": 10,
    "start_time": "2023-01-12T20:08:03.283Z"
   },
   {
    "duration": 583,
    "start_time": "2023-01-12T20:08:03.295Z"
   },
   {
    "duration": 17,
    "start_time": "2023-01-12T20:08:03.880Z"
   },
   {
    "duration": 3,
    "start_time": "2023-01-12T20:08:03.900Z"
   },
   {
    "duration": 6,
    "start_time": "2023-01-12T20:08:03.905Z"
   },
   {
    "duration": 25,
    "start_time": "2023-01-12T20:08:03.914Z"
   },
   {
    "duration": 20,
    "start_time": "2023-01-12T20:08:03.942Z"
   },
   {
    "duration": 12,
    "start_time": "2023-01-12T20:08:03.967Z"
   },
   {
    "duration": 58,
    "start_time": "2023-01-12T20:08:03.980Z"
   },
   {
    "duration": 3306,
    "start_time": "2023-01-12T20:08:04.040Z"
   },
   {
    "duration": 3730,
    "start_time": "2023-01-12T20:08:07.353Z"
   },
   {
    "duration": 0,
    "start_time": "2023-01-12T20:08:11.085Z"
   },
   {
    "duration": 0,
    "start_time": "2023-01-12T20:08:11.087Z"
   },
   {
    "duration": 0,
    "start_time": "2023-01-12T20:08:11.089Z"
   },
   {
    "duration": 0,
    "start_time": "2023-01-12T20:08:11.090Z"
   },
   {
    "duration": 0,
    "start_time": "2023-01-12T20:08:11.092Z"
   },
   {
    "duration": 0,
    "start_time": "2023-01-12T20:08:11.093Z"
   },
   {
    "duration": 276460,
    "start_time": "2023-01-12T20:18:04.627Z"
   },
   {
    "duration": 259050,
    "start_time": "2023-01-12T20:30:47.153Z"
   },
   {
    "duration": 91803,
    "start_time": "2023-01-12T20:36:02.256Z"
   },
   {
    "duration": 47,
    "start_time": "2023-01-12T20:47:10.683Z"
   },
   {
    "duration": 37,
    "start_time": "2023-01-12T20:48:34.783Z"
   },
   {
    "duration": 2221,
    "start_time": "2023-01-12T20:48:54.673Z"
   },
   {
    "duration": 1513,
    "start_time": "2023-01-12T21:38:58.295Z"
   },
   {
    "duration": 776,
    "start_time": "2023-01-12T21:38:59.810Z"
   },
   {
    "duration": 4,
    "start_time": "2023-01-12T21:39:00.588Z"
   },
   {
    "duration": 545,
    "start_time": "2023-01-12T21:39:00.594Z"
   },
   {
    "duration": 524,
    "start_time": "2023-01-12T21:39:01.144Z"
   },
   {
    "duration": 253,
    "start_time": "2023-01-12T21:39:01.669Z"
   },
   {
    "duration": 16,
    "start_time": "2023-01-12T21:39:01.924Z"
   },
   {
    "duration": 20,
    "start_time": "2023-01-12T21:39:01.943Z"
   },
   {
    "duration": 21,
    "start_time": "2023-01-12T21:39:01.965Z"
   },
   {
    "duration": 18,
    "start_time": "2023-01-12T21:39:01.989Z"
   },
   {
    "duration": 23,
    "start_time": "2023-01-12T21:39:02.008Z"
   },
   {
    "duration": 45,
    "start_time": "2023-01-12T21:39:02.033Z"
   },
   {
    "duration": 59,
    "start_time": "2023-01-12T21:39:02.080Z"
   },
   {
    "duration": 31,
    "start_time": "2023-01-12T21:39:02.150Z"
   },
   {
    "duration": 14,
    "start_time": "2023-01-12T21:39:02.183Z"
   },
   {
    "duration": 8,
    "start_time": "2023-01-12T21:39:02.198Z"
   },
   {
    "duration": 2872,
    "start_time": "2023-01-12T21:39:02.207Z"
   },
   {
    "duration": 603,
    "start_time": "2023-01-12T21:39:05.081Z"
   },
   {
    "duration": 607,
    "start_time": "2023-01-12T21:39:05.686Z"
   },
   {
    "duration": 8,
    "start_time": "2023-01-12T21:39:06.295Z"
   },
   {
    "duration": 777,
    "start_time": "2023-01-12T21:39:06.305Z"
   },
   {
    "duration": 19,
    "start_time": "2023-01-12T21:39:07.138Z"
   },
   {
    "duration": 9,
    "start_time": "2023-01-12T21:39:07.158Z"
   },
   {
    "duration": 5,
    "start_time": "2023-01-12T21:39:07.169Z"
   },
   {
    "duration": 5,
    "start_time": "2023-01-12T21:39:07.176Z"
   },
   {
    "duration": 71,
    "start_time": "2023-01-12T21:39:07.182Z"
   },
   {
    "duration": 17,
    "start_time": "2023-01-12T21:39:07.255Z"
   },
   {
    "duration": 68,
    "start_time": "2023-01-12T21:39:07.275Z"
   },
   {
    "duration": 5493,
    "start_time": "2023-01-12T21:39:07.345Z"
   },
   {
    "duration": 88003,
    "start_time": "2023-01-12T21:39:12.841Z"
   },
   {
    "duration": 1026211,
    "start_time": "2023-01-12T21:40:40.846Z"
   },
   {
    "duration": 131,
    "start_time": "2023-01-12T21:57:47.059Z"
   },
   {
    "duration": 0,
    "start_time": "2023-01-12T21:57:47.192Z"
   },
   {
    "duration": 0,
    "start_time": "2023-01-12T21:57:47.193Z"
   },
   {
    "duration": 0,
    "start_time": "2023-01-12T21:57:47.194Z"
   },
   {
    "duration": 1712,
    "start_time": "2023-01-12T22:00:48.271Z"
   },
   {
    "duration": 1681,
    "start_time": "2023-01-12T22:01:03.122Z"
   },
   {
    "duration": 3258,
    "start_time": "2023-01-12T22:01:18.548Z"
   },
   {
    "duration": 11,
    "start_time": "2023-01-12T22:01:29.794Z"
   },
   {
    "duration": 11,
    "start_time": "2023-01-12T22:03:46.411Z"
   },
   {
    "duration": 10,
    "start_time": "2023-01-12T22:07:04.900Z"
   },
   {
    "duration": 3603,
    "start_time": "2023-01-12T22:10:05.682Z"
   },
   {
    "duration": 10,
    "start_time": "2023-01-12T22:10:44.518Z"
   },
   {
    "duration": 11,
    "start_time": "2023-01-12T22:12:10.310Z"
   },
   {
    "duration": 3,
    "start_time": "2023-01-12T22:18:19.593Z"
   },
   {
    "duration": 3,
    "start_time": "2023-01-12T22:18:22.277Z"
   },
   {
    "duration": 11,
    "start_time": "2023-01-12T22:18:38.692Z"
   },
   {
    "duration": 7,
    "start_time": "2023-01-12T22:19:11.357Z"
   },
   {
    "duration": 5,
    "start_time": "2023-01-12T22:21:44.680Z"
   },
   {
    "duration": 13,
    "start_time": "2023-01-12T22:21:48.005Z"
   },
   {
    "duration": 7,
    "start_time": "2023-01-12T22:22:29.744Z"
   },
   {
    "duration": 1484,
    "start_time": "2023-01-12T22:29:52.856Z"
   },
   {
    "duration": 717,
    "start_time": "2023-01-12T22:29:54.342Z"
   },
   {
    "duration": 4,
    "start_time": "2023-01-12T22:29:55.061Z"
   },
   {
    "duration": 507,
    "start_time": "2023-01-12T22:29:55.067Z"
   },
   {
    "duration": 502,
    "start_time": "2023-01-12T22:29:55.576Z"
   },
   {
    "duration": 249,
    "start_time": "2023-01-12T22:29:56.080Z"
   },
   {
    "duration": 11,
    "start_time": "2023-01-12T22:29:56.330Z"
   },
   {
    "duration": 9,
    "start_time": "2023-01-12T22:29:56.343Z"
   },
   {
    "duration": 7,
    "start_time": "2023-01-12T22:29:56.353Z"
   },
   {
    "duration": 6,
    "start_time": "2023-01-12T22:29:56.363Z"
   },
   {
    "duration": 5,
    "start_time": "2023-01-12T22:29:56.370Z"
   },
   {
    "duration": 18,
    "start_time": "2023-01-12T22:29:56.377Z"
   },
   {
    "duration": 28,
    "start_time": "2023-01-12T22:29:56.396Z"
   },
   {
    "duration": 10,
    "start_time": "2023-01-12T22:29:56.437Z"
   },
   {
    "duration": 11,
    "start_time": "2023-01-12T22:29:56.449Z"
   },
   {
    "duration": 9,
    "start_time": "2023-01-12T22:29:56.462Z"
   },
   {
    "duration": 2979,
    "start_time": "2023-01-12T22:29:56.472Z"
   },
   {
    "duration": 612,
    "start_time": "2023-01-12T22:29:59.454Z"
   },
   {
    "duration": 620,
    "start_time": "2023-01-12T22:30:00.067Z"
   },
   {
    "duration": 8,
    "start_time": "2023-01-12T22:30:00.689Z"
   },
   {
    "duration": 550,
    "start_time": "2023-01-12T22:30:00.698Z"
   },
   {
    "duration": 16,
    "start_time": "2023-01-12T22:30:01.250Z"
   },
   {
    "duration": 53,
    "start_time": "2023-01-12T22:30:01.268Z"
   },
   {
    "duration": 32,
    "start_time": "2023-01-12T22:30:01.322Z"
   },
   {
    "duration": 54,
    "start_time": "2023-01-12T22:30:01.355Z"
   },
   {
    "duration": 39,
    "start_time": "2023-01-12T22:30:01.411Z"
   },
   {
    "duration": 30,
    "start_time": "2023-01-12T22:30:01.452Z"
   },
   {
    "duration": 50,
    "start_time": "2023-01-12T22:30:01.485Z"
   },
   {
    "duration": 2606,
    "start_time": "2023-01-12T22:30:01.537Z"
   },
   {
    "duration": 83246,
    "start_time": "2023-01-12T22:30:04.147Z"
   },
   {
    "duration": 522508,
    "start_time": "2023-01-12T22:31:27.394Z"
   },
   {
    "duration": 3387,
    "start_time": "2023-01-12T22:40:09.904Z"
   },
   {
    "duration": 7,
    "start_time": "2023-01-12T22:40:13.293Z"
   },
   {
    "duration": 6,
    "start_time": "2023-01-12T22:40:13.302Z"
   },
   {
    "duration": 28,
    "start_time": "2023-01-12T22:40:13.310Z"
   },
   {
    "duration": 162,
    "start_time": "2023-01-12T22:40:13.341Z"
   },
   {
    "duration": 1733,
    "start_time": "2023-01-13T21:31:20.405Z"
   },
   {
    "duration": 1949,
    "start_time": "2023-01-13T21:31:22.140Z"
   },
   {
    "duration": 3,
    "start_time": "2023-01-13T21:31:24.091Z"
   },
   {
    "duration": 546,
    "start_time": "2023-01-13T21:31:24.096Z"
   },
   {
    "duration": 537,
    "start_time": "2023-01-13T21:31:24.643Z"
   },
   {
    "duration": 256,
    "start_time": "2023-01-13T21:31:25.182Z"
   },
   {
    "duration": 19,
    "start_time": "2023-01-13T21:31:25.439Z"
   },
   {
    "duration": 12,
    "start_time": "2023-01-13T21:31:25.461Z"
   },
   {
    "duration": 8,
    "start_time": "2023-01-13T21:31:25.475Z"
   },
   {
    "duration": 8,
    "start_time": "2023-01-13T21:31:25.486Z"
   },
   {
    "duration": 5,
    "start_time": "2023-01-13T21:31:25.496Z"
   },
   {
    "duration": 135,
    "start_time": "2023-01-13T21:32:37.918Z"
   },
   {
    "duration": 10,
    "start_time": "2023-01-13T21:33:10.773Z"
   },
   {
    "duration": 3,
    "start_time": "2023-01-13T21:42:53.549Z"
   },
   {
    "duration": 6,
    "start_time": "2023-01-13T21:43:06.960Z"
   },
   {
    "duration": 4,
    "start_time": "2023-01-13T21:43:24.082Z"
   },
   {
    "duration": 4,
    "start_time": "2023-01-13T21:43:28.899Z"
   },
   {
    "duration": 5,
    "start_time": "2023-01-13T21:43:39.646Z"
   },
   {
    "duration": 5,
    "start_time": "2023-01-13T21:44:50.883Z"
   },
   {
    "duration": 3,
    "start_time": "2023-01-13T21:46:52.045Z"
   },
   {
    "duration": 5,
    "start_time": "2023-01-13T21:47:01.640Z"
   },
   {
    "duration": 2,
    "start_time": "2023-01-13T21:47:26.816Z"
   },
   {
    "duration": 3,
    "start_time": "2023-01-13T21:47:30.675Z"
   },
   {
    "duration": 15,
    "start_time": "2023-01-13T21:56:51.896Z"
   },
   {
    "duration": 5,
    "start_time": "2023-01-13T21:57:22.087Z"
   },
   {
    "duration": 5,
    "start_time": "2023-01-13T21:57:45.855Z"
   },
   {
    "duration": 6,
    "start_time": "2023-01-13T21:58:09.971Z"
   },
   {
    "duration": 7,
    "start_time": "2023-01-13T21:58:30.686Z"
   },
   {
    "duration": 5,
    "start_time": "2023-01-13T21:58:46.436Z"
   },
   {
    "duration": 1535,
    "start_time": "2023-01-13T22:09:49.880Z"
   },
   {
    "duration": 766,
    "start_time": "2023-01-13T22:09:51.417Z"
   },
   {
    "duration": 5,
    "start_time": "2023-01-13T22:09:52.185Z"
   },
   {
    "duration": 554,
    "start_time": "2023-01-13T22:09:52.193Z"
   },
   {
    "duration": 512,
    "start_time": "2023-01-13T22:09:52.765Z"
   },
   {
    "duration": 258,
    "start_time": "2023-01-13T22:09:53.279Z"
   },
   {
    "duration": 17,
    "start_time": "2023-01-13T22:09:53.539Z"
   },
   {
    "duration": 17,
    "start_time": "2023-01-13T22:09:53.558Z"
   },
   {
    "duration": 10,
    "start_time": "2023-01-13T22:09:53.577Z"
   },
   {
    "duration": 9,
    "start_time": "2023-01-13T22:09:53.590Z"
   },
   {
    "duration": 6,
    "start_time": "2023-01-13T22:09:53.601Z"
   },
   {
    "duration": 11,
    "start_time": "2023-01-13T22:09:53.609Z"
   },
   {
    "duration": 10,
    "start_time": "2023-01-13T22:09:53.621Z"
   },
   {
    "duration": 9,
    "start_time": "2023-01-13T22:09:53.632Z"
   },
   {
    "duration": 20,
    "start_time": "2023-01-13T22:09:53.643Z"
   },
   {
    "duration": 15,
    "start_time": "2023-01-13T22:09:53.665Z"
   },
   {
    "duration": 11,
    "start_time": "2023-01-13T22:09:53.682Z"
   },
   {
    "duration": 5,
    "start_time": "2023-01-13T22:09:53.695Z"
   },
   {
    "duration": 12,
    "start_time": "2023-01-13T22:09:53.702Z"
   },
   {
    "duration": 2882,
    "start_time": "2023-01-13T22:09:53.716Z"
   },
   {
    "duration": 602,
    "start_time": "2023-01-13T22:09:56.600Z"
   },
   {
    "duration": 602,
    "start_time": "2023-01-13T22:09:57.204Z"
   },
   {
    "duration": 9,
    "start_time": "2023-01-13T22:09:57.808Z"
   },
   {
    "duration": 567,
    "start_time": "2023-01-13T22:09:57.819Z"
   },
   {
    "duration": 21,
    "start_time": "2023-01-13T22:09:58.388Z"
   },
   {
    "duration": 4,
    "start_time": "2023-01-13T22:09:58.411Z"
   },
   {
    "duration": 8,
    "start_time": "2023-01-13T22:09:58.417Z"
   },
   {
    "duration": 22,
    "start_time": "2023-01-13T22:09:58.429Z"
   },
   {
    "duration": 18,
    "start_time": "2023-01-13T22:09:58.453Z"
   },
   {
    "duration": 13,
    "start_time": "2023-01-13T22:09:58.473Z"
   },
   {
    "duration": 24,
    "start_time": "2023-01-13T22:09:58.488Z"
   },
   {
    "duration": 3042,
    "start_time": "2023-01-13T22:09:58.514Z"
   },
   {
    "duration": 85770,
    "start_time": "2023-01-13T22:10:01.559Z"
   },
   {
    "duration": 543663,
    "start_time": "2023-01-13T22:11:27.331Z"
   },
   {
    "duration": 3379,
    "start_time": "2023-01-13T22:20:30.996Z"
   },
   {
    "duration": 7,
    "start_time": "2023-01-13T22:20:34.377Z"
   },
   {
    "duration": 13,
    "start_time": "2023-01-13T22:20:34.386Z"
   },
   {
    "duration": 16,
    "start_time": "2023-01-13T22:20:34.400Z"
   }
  ],
  "kernelspec": {
   "display_name": "Python 3 (ipykernel)",
   "language": "python",
   "name": "python3"
  },
  "language_info": {
   "codemirror_mode": {
    "name": "ipython",
    "version": 3
   },
   "file_extension": ".py",
   "mimetype": "text/x-python",
   "name": "python",
   "nbconvert_exporter": "python",
   "pygments_lexer": "ipython3",
   "version": "3.9.12"
  },
  "toc": {
   "base_numbering": 1,
   "nav_menu": {},
   "number_sections": true,
   "sideBar": true,
   "skip_h1_title": true,
   "title_cell": "Содержание",
   "title_sidebar": "Contents",
   "toc_cell": true,
   "toc_position": {},
   "toc_section_display": true,
   "toc_window_display": true
  }
 },
 "nbformat": 4,
 "nbformat_minor": 2
}
