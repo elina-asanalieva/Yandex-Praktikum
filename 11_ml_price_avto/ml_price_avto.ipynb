{
 "cells": [
  {
   "cell_type": "markdown",
   "metadata": {
    "id": "x9h484zAdSap"
   },
   "source": [
    "# Определение стоимости автомобилей"
   ]
  },
  {
   "cell_type": "markdown",
   "metadata": {
    "id": "aG53KtP7dSau"
   },
   "source": [
    "Сервис по продаже автомобилей с пробегом «Не бит, не крашен» разрабатывает приложение для привлечения новых клиентов. В нём можно быстро узнать рыночную стоимость своего автомобиля. В вашем распоряжении исторические данные: технические характеристики, комплектации и цены автомобилей. Вам нужно построить модель для определения стоимости. \n",
    "\n",
    "Заказчику важны:\n",
    "\n",
    "- качество предсказания;\n",
    "- скорость предсказания;\n",
    "- время обучения."
   ]
  },
  {
   "cell_type": "markdown",
   "metadata": {},
   "source": [
    "## Описание данных"
   ]
  },
  {
   "cell_type": "markdown",
   "metadata": {},
   "source": [
    "**Признаки**\n",
    "- DateCrawled — дата скачивания анкеты из базы\n",
    "- VehicleType — тип автомобильного кузова\n",
    "- RegistrationYear — год регистрации автомобиля\n",
    "- Gearbox — тип коробки передач\n",
    "- Power — мощность (л. с.)\n",
    "- Model — модель автомобиля\n",
    "- Kilometer — пробег (км)\n",
    "- RegistrationMonth — месяц регистрации автомобиля\n",
    "- FuelType — тип топлива\n",
    "- Brand — марка автомобиля\n",
    "- Repaired — была машина в ремонте или нет\n",
    "- DateCreated — дата создания анкеты\n",
    "- NumberOfPictures — количество фотографий автомобиля\n",
    "- PostalCode — почтовый индекс владельца анкеты (пользователя)\n",
    "- LastSeen — дата последней активности пользователя\n",
    "\n",
    "**Целевой признак**\n",
    "- Price — цена (евро)"
   ]
  },
  {
   "cell_type": "markdown",
   "metadata": {
    "id": "gWRTuDtMdSav"
   },
   "source": [
    "## Подготовка данных"
   ]
  },
  {
   "cell_type": "markdown",
   "metadata": {
    "id": "SjDjp89CdSav"
   },
   "source": [
    "Подгружаю необходимые библиотеки и открываю файл с данными."
   ]
  },
  {
   "cell_type": "code",
   "execution_count": 1,
   "metadata": {
    "colab": {
     "base_uri": "https://localhost:8080/"
    },
    "executionInfo": {
     "elapsed": 15064,
     "status": "ok",
     "timestamp": 1676398863684,
     "user": {
      "displayName": "Георгий Фролов",
      "userId": "16513831430412303697"
     },
     "user_tz": -180
    },
    "id": "26sxv9EMvHLN",
    "outputId": "3b24ee3a-15f4-4caf-9f13-ce790eec3f90"
   },
   "outputs": [
    {
     "name": "stdout",
     "output_type": "stream",
     "text": [
      "Requirement already satisfied: catboost in /opt/conda/lib/python3.9/site-packages (1.0.3)\n",
      "Requirement already satisfied: scipy in /opt/conda/lib/python3.9/site-packages (from catboost) (1.9.1)\n",
      "Requirement already satisfied: numpy>=1.16.0 in /opt/conda/lib/python3.9/site-packages (from catboost) (1.21.1)\n",
      "Requirement already satisfied: graphviz in /opt/conda/lib/python3.9/site-packages (from catboost) (0.20.1)\n",
      "Requirement already satisfied: plotly in /opt/conda/lib/python3.9/site-packages (from catboost) (5.4.0)\n",
      "Requirement already satisfied: pandas>=0.24.0 in /opt/conda/lib/python3.9/site-packages (from catboost) (1.2.4)\n",
      "Requirement already satisfied: matplotlib in /opt/conda/lib/python3.9/site-packages (from catboost) (3.3.4)\n",
      "Requirement already satisfied: six in /opt/conda/lib/python3.9/site-packages (from catboost) (1.16.0)\n",
      "Requirement already satisfied: python-dateutil>=2.7.3 in /opt/conda/lib/python3.9/site-packages (from pandas>=0.24.0->catboost) (2.8.1)\n",
      "Requirement already satisfied: pytz>=2017.3 in /opt/conda/lib/python3.9/site-packages (from pandas>=0.24.0->catboost) (2021.1)\n",
      "Requirement already satisfied: kiwisolver>=1.0.1 in /opt/conda/lib/python3.9/site-packages (from matplotlib->catboost) (1.4.4)\n",
      "Requirement already satisfied: cycler>=0.10 in /opt/conda/lib/python3.9/site-packages (from matplotlib->catboost) (0.11.0)\n",
      "Requirement already satisfied: pyparsing!=2.0.4,!=2.1.2,!=2.1.6,>=2.0.3 in /opt/conda/lib/python3.9/site-packages (from matplotlib->catboost) (2.4.7)\n",
      "Requirement already satisfied: pillow>=6.2.0 in /opt/conda/lib/python3.9/site-packages (from matplotlib->catboost) (8.4.0)\n",
      "Requirement already satisfied: tenacity>=6.2.0 in /opt/conda/lib/python3.9/site-packages (from plotly->catboost) (8.0.1)\n",
      "Requirement already satisfied: lightgbm in /opt/conda/lib/python3.9/site-packages (3.3.1)\n",
      "Requirement already satisfied: numpy in /opt/conda/lib/python3.9/site-packages (from lightgbm) (1.21.1)\n",
      "Requirement already satisfied: scipy in /opt/conda/lib/python3.9/site-packages (from lightgbm) (1.9.1)\n",
      "Requirement already satisfied: scikit-learn!=0.22.0 in /opt/conda/lib/python3.9/site-packages (from lightgbm) (0.24.1)\n",
      "Requirement already satisfied: wheel in /opt/conda/lib/python3.9/site-packages (from lightgbm) (0.36.2)\n",
      "Requirement already satisfied: threadpoolctl>=2.0.0 in /opt/conda/lib/python3.9/site-packages (from scikit-learn!=0.22.0->lightgbm) (3.1.0)\n",
      "Requirement already satisfied: joblib>=0.11 in /opt/conda/lib/python3.9/site-packages (from scikit-learn!=0.22.0->lightgbm) (1.1.0)\n"
     ]
    }
   ],
   "source": [
    "!pip install catboost\n",
    "!pip install lightgbm"
   ]
  },
  {
   "cell_type": "code",
   "execution_count": 2,
   "metadata": {
    "executionInfo": {
     "elapsed": 1792,
     "status": "ok",
     "timestamp": 1676398865473,
     "user": {
      "displayName": "Георгий Фролов",
      "userId": "16513831430412303697"
     },
     "user_tz": -180
    },
    "id": "P5Aw96l_dSav"
   },
   "outputs": [],
   "source": [
    "import pandas as pd\n",
    "import numpy as np\n",
    "import seaborn as sns\n",
    "import matplotlib.pyplot as plt\n",
    "\n",
    "from sklearn.model_selection import train_test_split, cross_val_score, GridSearchCV, KFold\n",
    "from sklearn.preprocessing import OneHotEncoder, StandardScaler, OrdinalEncoder\n",
    "from sklearn.compose import make_column_transformer\n",
    "from sklearn.metrics import mean_squared_error\n",
    "\n",
    "from sklearn.linear_model import LinearRegression\n",
    "from sklearn.tree import DecisionTreeRegressor\n",
    "from sklearn.ensemble import RandomForestRegressor\n",
    "from catboost import CatBoostRegressor\n",
    "from lightgbm import LGBMRegressor\n",
    "\n",
    "import time\n",
    "import warnings\n",
    "warnings.filterwarnings('ignore')"
   ]
  },
  {
   "cell_type": "code",
   "execution_count": 3,
   "metadata": {
    "executionInfo": {
     "elapsed": 806,
     "status": "ok",
     "timestamp": 1676398866276,
     "user": {
      "displayName": "Георгий Фролов",
      "userId": "16513831430412303697"
     },
     "user_tz": -180
    },
    "id": "HOdSAlKBdSaw"
   },
   "outputs": [],
   "source": [
    "try:\n",
    "    df = pd.read_csv('/datasets/autos.csv')\n",
    "except:\n",
    "    df = pd.read_csv('/autos (2).csv')"
   ]
  },
  {
   "cell_type": "markdown",
   "metadata": {
    "id": "_cnDe1HSdSaw"
   },
   "source": [
    "Теперь рассмотрю данные представленные в датасете."
   ]
  },
  {
   "cell_type": "code",
   "execution_count": 4,
   "metadata": {
    "colab": {
     "base_uri": "https://localhost:8080/",
     "height": 581
    },
    "executionInfo": {
     "elapsed": 5,
     "status": "ok",
     "timestamp": 1676398866276,
     "user": {
      "displayName": "Георгий Фролов",
      "userId": "16513831430412303697"
     },
     "user_tz": -180
    },
    "id": "4Ua2w1GSdSaw",
    "outputId": "35e42a48-e467-47fa-bade-57bd6e6591d9"
   },
   "outputs": [
    {
     "data": {
      "text/html": [
       "<div>\n",
       "<style scoped>\n",
       "    .dataframe tbody tr th:only-of-type {\n",
       "        vertical-align: middle;\n",
       "    }\n",
       "\n",
       "    .dataframe tbody tr th {\n",
       "        vertical-align: top;\n",
       "    }\n",
       "\n",
       "    .dataframe thead th {\n",
       "        text-align: right;\n",
       "    }\n",
       "</style>\n",
       "<table border=\"1\" class=\"dataframe\">\n",
       "  <thead>\n",
       "    <tr style=\"text-align: right;\">\n",
       "      <th></th>\n",
       "      <th>DateCrawled</th>\n",
       "      <th>Price</th>\n",
       "      <th>VehicleType</th>\n",
       "      <th>RegistrationYear</th>\n",
       "      <th>Gearbox</th>\n",
       "      <th>Power</th>\n",
       "      <th>Model</th>\n",
       "      <th>Kilometer</th>\n",
       "      <th>RegistrationMonth</th>\n",
       "      <th>FuelType</th>\n",
       "      <th>Brand</th>\n",
       "      <th>Repaired</th>\n",
       "      <th>DateCreated</th>\n",
       "      <th>NumberOfPictures</th>\n",
       "      <th>PostalCode</th>\n",
       "      <th>LastSeen</th>\n",
       "    </tr>\n",
       "  </thead>\n",
       "  <tbody>\n",
       "    <tr>\n",
       "      <th>0</th>\n",
       "      <td>2016-03-24 11:52:17</td>\n",
       "      <td>480</td>\n",
       "      <td>NaN</td>\n",
       "      <td>1993</td>\n",
       "      <td>manual</td>\n",
       "      <td>0</td>\n",
       "      <td>golf</td>\n",
       "      <td>150000</td>\n",
       "      <td>0</td>\n",
       "      <td>petrol</td>\n",
       "      <td>volkswagen</td>\n",
       "      <td>NaN</td>\n",
       "      <td>2016-03-24 00:00:00</td>\n",
       "      <td>0</td>\n",
       "      <td>70435</td>\n",
       "      <td>2016-04-07 03:16:57</td>\n",
       "    </tr>\n",
       "    <tr>\n",
       "      <th>1</th>\n",
       "      <td>2016-03-24 10:58:45</td>\n",
       "      <td>18300</td>\n",
       "      <td>coupe</td>\n",
       "      <td>2011</td>\n",
       "      <td>manual</td>\n",
       "      <td>190</td>\n",
       "      <td>NaN</td>\n",
       "      <td>125000</td>\n",
       "      <td>5</td>\n",
       "      <td>gasoline</td>\n",
       "      <td>audi</td>\n",
       "      <td>yes</td>\n",
       "      <td>2016-03-24 00:00:00</td>\n",
       "      <td>0</td>\n",
       "      <td>66954</td>\n",
       "      <td>2016-04-07 01:46:50</td>\n",
       "    </tr>\n",
       "    <tr>\n",
       "      <th>2</th>\n",
       "      <td>2016-03-14 12:52:21</td>\n",
       "      <td>9800</td>\n",
       "      <td>suv</td>\n",
       "      <td>2004</td>\n",
       "      <td>auto</td>\n",
       "      <td>163</td>\n",
       "      <td>grand</td>\n",
       "      <td>125000</td>\n",
       "      <td>8</td>\n",
       "      <td>gasoline</td>\n",
       "      <td>jeep</td>\n",
       "      <td>NaN</td>\n",
       "      <td>2016-03-14 00:00:00</td>\n",
       "      <td>0</td>\n",
       "      <td>90480</td>\n",
       "      <td>2016-04-05 12:47:46</td>\n",
       "    </tr>\n",
       "    <tr>\n",
       "      <th>3</th>\n",
       "      <td>2016-03-17 16:54:04</td>\n",
       "      <td>1500</td>\n",
       "      <td>small</td>\n",
       "      <td>2001</td>\n",
       "      <td>manual</td>\n",
       "      <td>75</td>\n",
       "      <td>golf</td>\n",
       "      <td>150000</td>\n",
       "      <td>6</td>\n",
       "      <td>petrol</td>\n",
       "      <td>volkswagen</td>\n",
       "      <td>no</td>\n",
       "      <td>2016-03-17 00:00:00</td>\n",
       "      <td>0</td>\n",
       "      <td>91074</td>\n",
       "      <td>2016-03-17 17:40:17</td>\n",
       "    </tr>\n",
       "    <tr>\n",
       "      <th>4</th>\n",
       "      <td>2016-03-31 17:25:20</td>\n",
       "      <td>3600</td>\n",
       "      <td>small</td>\n",
       "      <td>2008</td>\n",
       "      <td>manual</td>\n",
       "      <td>69</td>\n",
       "      <td>fabia</td>\n",
       "      <td>90000</td>\n",
       "      <td>7</td>\n",
       "      <td>gasoline</td>\n",
       "      <td>skoda</td>\n",
       "      <td>no</td>\n",
       "      <td>2016-03-31 00:00:00</td>\n",
       "      <td>0</td>\n",
       "      <td>60437</td>\n",
       "      <td>2016-04-06 10:17:21</td>\n",
       "    </tr>\n",
       "    <tr>\n",
       "      <th>5</th>\n",
       "      <td>2016-04-04 17:36:23</td>\n",
       "      <td>650</td>\n",
       "      <td>sedan</td>\n",
       "      <td>1995</td>\n",
       "      <td>manual</td>\n",
       "      <td>102</td>\n",
       "      <td>3er</td>\n",
       "      <td>150000</td>\n",
       "      <td>10</td>\n",
       "      <td>petrol</td>\n",
       "      <td>bmw</td>\n",
       "      <td>yes</td>\n",
       "      <td>2016-04-04 00:00:00</td>\n",
       "      <td>0</td>\n",
       "      <td>33775</td>\n",
       "      <td>2016-04-06 19:17:07</td>\n",
       "    </tr>\n",
       "    <tr>\n",
       "      <th>6</th>\n",
       "      <td>2016-04-01 20:48:51</td>\n",
       "      <td>2200</td>\n",
       "      <td>convertible</td>\n",
       "      <td>2004</td>\n",
       "      <td>manual</td>\n",
       "      <td>109</td>\n",
       "      <td>2_reihe</td>\n",
       "      <td>150000</td>\n",
       "      <td>8</td>\n",
       "      <td>petrol</td>\n",
       "      <td>peugeot</td>\n",
       "      <td>no</td>\n",
       "      <td>2016-04-01 00:00:00</td>\n",
       "      <td>0</td>\n",
       "      <td>67112</td>\n",
       "      <td>2016-04-05 18:18:39</td>\n",
       "    </tr>\n",
       "    <tr>\n",
       "      <th>7</th>\n",
       "      <td>2016-03-21 18:54:38</td>\n",
       "      <td>0</td>\n",
       "      <td>sedan</td>\n",
       "      <td>1980</td>\n",
       "      <td>manual</td>\n",
       "      <td>50</td>\n",
       "      <td>other</td>\n",
       "      <td>40000</td>\n",
       "      <td>7</td>\n",
       "      <td>petrol</td>\n",
       "      <td>volkswagen</td>\n",
       "      <td>no</td>\n",
       "      <td>2016-03-21 00:00:00</td>\n",
       "      <td>0</td>\n",
       "      <td>19348</td>\n",
       "      <td>2016-03-25 16:47:58</td>\n",
       "    </tr>\n",
       "    <tr>\n",
       "      <th>8</th>\n",
       "      <td>2016-04-04 23:42:13</td>\n",
       "      <td>14500</td>\n",
       "      <td>bus</td>\n",
       "      <td>2014</td>\n",
       "      <td>manual</td>\n",
       "      <td>125</td>\n",
       "      <td>c_max</td>\n",
       "      <td>30000</td>\n",
       "      <td>8</td>\n",
       "      <td>petrol</td>\n",
       "      <td>ford</td>\n",
       "      <td>NaN</td>\n",
       "      <td>2016-04-04 00:00:00</td>\n",
       "      <td>0</td>\n",
       "      <td>94505</td>\n",
       "      <td>2016-04-04 23:42:13</td>\n",
       "    </tr>\n",
       "    <tr>\n",
       "      <th>9</th>\n",
       "      <td>2016-03-17 10:53:50</td>\n",
       "      <td>999</td>\n",
       "      <td>small</td>\n",
       "      <td>1998</td>\n",
       "      <td>manual</td>\n",
       "      <td>101</td>\n",
       "      <td>golf</td>\n",
       "      <td>150000</td>\n",
       "      <td>0</td>\n",
       "      <td>NaN</td>\n",
       "      <td>volkswagen</td>\n",
       "      <td>NaN</td>\n",
       "      <td>2016-03-17 00:00:00</td>\n",
       "      <td>0</td>\n",
       "      <td>27472</td>\n",
       "      <td>2016-03-31 17:17:06</td>\n",
       "    </tr>\n",
       "  </tbody>\n",
       "</table>\n",
       "</div>"
      ],
      "text/plain": [
       "           DateCrawled  Price  VehicleType  RegistrationYear Gearbox  Power  \\\n",
       "0  2016-03-24 11:52:17    480          NaN              1993  manual      0   \n",
       "1  2016-03-24 10:58:45  18300        coupe              2011  manual    190   \n",
       "2  2016-03-14 12:52:21   9800          suv              2004    auto    163   \n",
       "3  2016-03-17 16:54:04   1500        small              2001  manual     75   \n",
       "4  2016-03-31 17:25:20   3600        small              2008  manual     69   \n",
       "5  2016-04-04 17:36:23    650        sedan              1995  manual    102   \n",
       "6  2016-04-01 20:48:51   2200  convertible              2004  manual    109   \n",
       "7  2016-03-21 18:54:38      0        sedan              1980  manual     50   \n",
       "8  2016-04-04 23:42:13  14500          bus              2014  manual    125   \n",
       "9  2016-03-17 10:53:50    999        small              1998  manual    101   \n",
       "\n",
       "     Model  Kilometer  RegistrationMonth  FuelType       Brand Repaired  \\\n",
       "0     golf     150000                  0    petrol  volkswagen      NaN   \n",
       "1      NaN     125000                  5  gasoline        audi      yes   \n",
       "2    grand     125000                  8  gasoline        jeep      NaN   \n",
       "3     golf     150000                  6    petrol  volkswagen       no   \n",
       "4    fabia      90000                  7  gasoline       skoda       no   \n",
       "5      3er     150000                 10    petrol         bmw      yes   \n",
       "6  2_reihe     150000                  8    petrol     peugeot       no   \n",
       "7    other      40000                  7    petrol  volkswagen       no   \n",
       "8    c_max      30000                  8    petrol        ford      NaN   \n",
       "9     golf     150000                  0       NaN  volkswagen      NaN   \n",
       "\n",
       "           DateCreated  NumberOfPictures  PostalCode             LastSeen  \n",
       "0  2016-03-24 00:00:00                 0       70435  2016-04-07 03:16:57  \n",
       "1  2016-03-24 00:00:00                 0       66954  2016-04-07 01:46:50  \n",
       "2  2016-03-14 00:00:00                 0       90480  2016-04-05 12:47:46  \n",
       "3  2016-03-17 00:00:00                 0       91074  2016-03-17 17:40:17  \n",
       "4  2016-03-31 00:00:00                 0       60437  2016-04-06 10:17:21  \n",
       "5  2016-04-04 00:00:00                 0       33775  2016-04-06 19:17:07  \n",
       "6  2016-04-01 00:00:00                 0       67112  2016-04-05 18:18:39  \n",
       "7  2016-03-21 00:00:00                 0       19348  2016-03-25 16:47:58  \n",
       "8  2016-04-04 00:00:00                 0       94505  2016-04-04 23:42:13  \n",
       "9  2016-03-17 00:00:00                 0       27472  2016-03-31 17:17:06  "
      ]
     },
     "execution_count": 4,
     "metadata": {},
     "output_type": "execute_result"
    }
   ],
   "source": [
    "df.head(10)"
   ]
  },
  {
   "cell_type": "code",
   "execution_count": 5,
   "metadata": {
    "colab": {
     "base_uri": "https://localhost:8080/"
    },
    "executionInfo": {
     "elapsed": 378,
     "status": "ok",
     "timestamp": 1676398866650,
     "user": {
      "displayName": "Георгий Фролов",
      "userId": "16513831430412303697"
     },
     "user_tz": -180
    },
    "id": "icfUiISKdSax",
    "outputId": "e9704f5a-fe20-491d-bd74-d380c3135c94"
   },
   "outputs": [
    {
     "name": "stdout",
     "output_type": "stream",
     "text": [
      "<class 'pandas.core.frame.DataFrame'>\n",
      "RangeIndex: 354369 entries, 0 to 354368\n",
      "Data columns (total 16 columns):\n",
      " #   Column             Non-Null Count   Dtype \n",
      "---  ------             --------------   ----- \n",
      " 0   DateCrawled        354369 non-null  object\n",
      " 1   Price              354369 non-null  int64 \n",
      " 2   VehicleType        316879 non-null  object\n",
      " 3   RegistrationYear   354369 non-null  int64 \n",
      " 4   Gearbox            334536 non-null  object\n",
      " 5   Power              354369 non-null  int64 \n",
      " 6   Model              334664 non-null  object\n",
      " 7   Kilometer          354369 non-null  int64 \n",
      " 8   RegistrationMonth  354369 non-null  int64 \n",
      " 9   FuelType           321474 non-null  object\n",
      " 10  Brand              354369 non-null  object\n",
      " 11  Repaired           283215 non-null  object\n",
      " 12  DateCreated        354369 non-null  object\n",
      " 13  NumberOfPictures   354369 non-null  int64 \n",
      " 14  PostalCode         354369 non-null  int64 \n",
      " 15  LastSeen           354369 non-null  object\n",
      "dtypes: int64(7), object(9)\n",
      "memory usage: 43.3+ MB\n"
     ]
    }
   ],
   "source": [
    "df.info()"
   ]
  },
  {
   "cell_type": "code",
   "execution_count": 6,
   "metadata": {
    "executionInfo": {
     "elapsed": 4,
     "status": "ok",
     "timestamp": 1676398866650,
     "user": {
      "displayName": "Георгий Фролов",
      "userId": "16513831430412303697"
     },
     "user_tz": -180
    },
    "id": "rO5QWASvdSax"
   },
   "outputs": [],
   "source": [
    "start = df.shape[0]"
   ]
  },
  {
   "cell_type": "markdown",
   "metadata": {
    "id": "XyCYBYGGdSax"
   },
   "source": [
    "Рассмотрю количество пропусков в колонках, статистические данные и количество явных дубликатов."
   ]
  },
  {
   "cell_type": "code",
   "execution_count": 7,
   "metadata": {
    "colab": {
     "base_uri": "https://localhost:8080/"
    },
    "executionInfo": {
     "elapsed": 4,
     "status": "ok",
     "timestamp": 1676398866651,
     "user": {
      "displayName": "Георгий Фролов",
      "userId": "16513831430412303697"
     },
     "user_tz": -180
    },
    "id": "QLzAQjWgdSax",
    "outputId": "0fe5041b-a966-4bdb-f429-cde319118b06"
   },
   "outputs": [
    {
     "data": {
      "text/plain": [
       "DateCrawled              0\n",
       "Price                    0\n",
       "VehicleType          37490\n",
       "RegistrationYear         0\n",
       "Gearbox              19833\n",
       "Power                    0\n",
       "Model                19705\n",
       "Kilometer                0\n",
       "RegistrationMonth        0\n",
       "FuelType             32895\n",
       "Brand                    0\n",
       "Repaired             71154\n",
       "DateCreated              0\n",
       "NumberOfPictures         0\n",
       "PostalCode               0\n",
       "LastSeen                 0\n",
       "dtype: int64"
      ]
     },
     "execution_count": 7,
     "metadata": {},
     "output_type": "execute_result"
    }
   ],
   "source": [
    "df.isna().sum()"
   ]
  },
  {
   "cell_type": "code",
   "execution_count": 8,
   "metadata": {
    "colab": {
     "base_uri": "https://localhost:8080/"
    },
    "executionInfo": {
     "elapsed": 4,
     "status": "ok",
     "timestamp": 1676398867056,
     "user": {
      "displayName": "Георгий Фролов",
      "userId": "16513831430412303697"
     },
     "user_tz": -180
    },
    "id": "th38pZbSdSax",
    "outputId": "e3050b9c-ecdc-4e9d-a838-233ab50350e3"
   },
   "outputs": [
    {
     "name": "stdout",
     "output_type": "stream",
     "text": [
      "VehicleType - 10.58%\n",
      "Gearbox - 5.6%\n",
      "Model - 5.56%\n",
      "FuelType - 9.28%\n",
      "Repaired - 20.08%\n"
     ]
    }
   ],
   "source": [
    "columns = []\n",
    "percents = []\n",
    "for col in df.columns:\n",
    "    pct_missing = np.mean(df[col].isna())\n",
    "    if pct_missing > 0:\n",
    "        percent = round(pct_missing * 100, 2)\n",
    "        print(f'{col} - {percent}%')\n",
    "        columns.append(col)\n",
    "        percents.append(percent)"
   ]
  },
  {
   "cell_type": "code",
   "execution_count": 9,
   "metadata": {
    "colab": {
     "base_uri": "https://localhost:8080/",
     "height": 300
    },
    "executionInfo": {
     "elapsed": 480,
     "status": "ok",
     "timestamp": 1676398867533,
     "user": {
      "displayName": "Георгий Фролов",
      "userId": "16513831430412303697"
     },
     "user_tz": -180
    },
    "id": "cvqcBoPzdSax",
    "outputId": "936b122b-aef5-4df7-c499-3421abe0fe00"
   },
   "outputs": [
    {
     "data": {
      "text/html": [
       "<div>\n",
       "<style scoped>\n",
       "    .dataframe tbody tr th:only-of-type {\n",
       "        vertical-align: middle;\n",
       "    }\n",
       "\n",
       "    .dataframe tbody tr th {\n",
       "        vertical-align: top;\n",
       "    }\n",
       "\n",
       "    .dataframe thead th {\n",
       "        text-align: right;\n",
       "    }\n",
       "</style>\n",
       "<table border=\"1\" class=\"dataframe\">\n",
       "  <thead>\n",
       "    <tr style=\"text-align: right;\">\n",
       "      <th></th>\n",
       "      <th>Price</th>\n",
       "      <th>RegistrationYear</th>\n",
       "      <th>Power</th>\n",
       "      <th>Kilometer</th>\n",
       "      <th>RegistrationMonth</th>\n",
       "      <th>NumberOfPictures</th>\n",
       "      <th>PostalCode</th>\n",
       "    </tr>\n",
       "  </thead>\n",
       "  <tbody>\n",
       "    <tr>\n",
       "      <th>count</th>\n",
       "      <td>354369.000000</td>\n",
       "      <td>354369.000000</td>\n",
       "      <td>354369.000000</td>\n",
       "      <td>354369.000000</td>\n",
       "      <td>354369.000000</td>\n",
       "      <td>354369.0</td>\n",
       "      <td>354369.000000</td>\n",
       "    </tr>\n",
       "    <tr>\n",
       "      <th>mean</th>\n",
       "      <td>4416.656776</td>\n",
       "      <td>2004.234448</td>\n",
       "      <td>110.094337</td>\n",
       "      <td>128211.172535</td>\n",
       "      <td>5.714645</td>\n",
       "      <td>0.0</td>\n",
       "      <td>50508.689087</td>\n",
       "    </tr>\n",
       "    <tr>\n",
       "      <th>std</th>\n",
       "      <td>4514.158514</td>\n",
       "      <td>90.227958</td>\n",
       "      <td>189.850405</td>\n",
       "      <td>37905.341530</td>\n",
       "      <td>3.726421</td>\n",
       "      <td>0.0</td>\n",
       "      <td>25783.096248</td>\n",
       "    </tr>\n",
       "    <tr>\n",
       "      <th>min</th>\n",
       "      <td>0.000000</td>\n",
       "      <td>1000.000000</td>\n",
       "      <td>0.000000</td>\n",
       "      <td>5000.000000</td>\n",
       "      <td>0.000000</td>\n",
       "      <td>0.0</td>\n",
       "      <td>1067.000000</td>\n",
       "    </tr>\n",
       "    <tr>\n",
       "      <th>25%</th>\n",
       "      <td>1050.000000</td>\n",
       "      <td>1999.000000</td>\n",
       "      <td>69.000000</td>\n",
       "      <td>125000.000000</td>\n",
       "      <td>3.000000</td>\n",
       "      <td>0.0</td>\n",
       "      <td>30165.000000</td>\n",
       "    </tr>\n",
       "    <tr>\n",
       "      <th>50%</th>\n",
       "      <td>2700.000000</td>\n",
       "      <td>2003.000000</td>\n",
       "      <td>105.000000</td>\n",
       "      <td>150000.000000</td>\n",
       "      <td>6.000000</td>\n",
       "      <td>0.0</td>\n",
       "      <td>49413.000000</td>\n",
       "    </tr>\n",
       "    <tr>\n",
       "      <th>75%</th>\n",
       "      <td>6400.000000</td>\n",
       "      <td>2008.000000</td>\n",
       "      <td>143.000000</td>\n",
       "      <td>150000.000000</td>\n",
       "      <td>9.000000</td>\n",
       "      <td>0.0</td>\n",
       "      <td>71083.000000</td>\n",
       "    </tr>\n",
       "    <tr>\n",
       "      <th>max</th>\n",
       "      <td>20000.000000</td>\n",
       "      <td>9999.000000</td>\n",
       "      <td>20000.000000</td>\n",
       "      <td>150000.000000</td>\n",
       "      <td>12.000000</td>\n",
       "      <td>0.0</td>\n",
       "      <td>99998.000000</td>\n",
       "    </tr>\n",
       "  </tbody>\n",
       "</table>\n",
       "</div>"
      ],
      "text/plain": [
       "               Price  RegistrationYear          Power      Kilometer  \\\n",
       "count  354369.000000     354369.000000  354369.000000  354369.000000   \n",
       "mean     4416.656776       2004.234448     110.094337  128211.172535   \n",
       "std      4514.158514         90.227958     189.850405   37905.341530   \n",
       "min         0.000000       1000.000000       0.000000    5000.000000   \n",
       "25%      1050.000000       1999.000000      69.000000  125000.000000   \n",
       "50%      2700.000000       2003.000000     105.000000  150000.000000   \n",
       "75%      6400.000000       2008.000000     143.000000  150000.000000   \n",
       "max     20000.000000       9999.000000   20000.000000  150000.000000   \n",
       "\n",
       "       RegistrationMonth  NumberOfPictures     PostalCode  \n",
       "count      354369.000000          354369.0  354369.000000  \n",
       "mean            5.714645               0.0   50508.689087  \n",
       "std             3.726421               0.0   25783.096248  \n",
       "min             0.000000               0.0    1067.000000  \n",
       "25%             3.000000               0.0   30165.000000  \n",
       "50%             6.000000               0.0   49413.000000  \n",
       "75%             9.000000               0.0   71083.000000  \n",
       "max            12.000000               0.0   99998.000000  "
      ]
     },
     "execution_count": 9,
     "metadata": {},
     "output_type": "execute_result"
    }
   ],
   "source": [
    "df.describe()"
   ]
  },
  {
   "cell_type": "code",
   "execution_count": 10,
   "metadata": {
    "colab": {
     "base_uri": "https://localhost:8080/"
    },
    "executionInfo": {
     "elapsed": 357,
     "status": "ok",
     "timestamp": 1676398867888,
     "user": {
      "displayName": "Георгий Фролов",
      "userId": "16513831430412303697"
     },
     "user_tz": -180
    },
    "id": "4w62JzKndSay",
    "outputId": "bc9288eb-7c5f-4013-d529-7f435b86543d"
   },
   "outputs": [
    {
     "data": {
      "text/plain": [
       "4"
      ]
     },
     "execution_count": 10,
     "metadata": {},
     "output_type": "execute_result"
    }
   ],
   "source": [
    "df.duplicated().sum()"
   ]
  },
  {
   "cell_type": "markdown",
   "metadata": {
    "id": "XjdSm97wdSay"
   },
   "source": [
    "Глядя на данные, можно заметить, что:\n",
    "- В наименовании колонок не однородный регистр и названия столбцов не соответствуют \"змеиному стилю\". Приведу наименование колонок в соответствие. \n",
    "- Есть пропуски в категориальных признаках, которые отображают информацию об автомобиле. Наибольшее количество пропусков в колонках с указанием типа топлива и кузова автомобиля, а также информация о том, был ли ранее автомобиль в ремонте. Процент пропущенных данных очень высок, и удаление пропусков может привести в дальнейшем к снижению качества модели. Поэтому принимаю решение заполнить пропуски.\n",
    "- Обнаружены явные дубликаты, удалю их. \n",
    "- В датасете присутствуют неинформативные признаки, удалю их.\n",
    "- В таблице с основными статистическими характеристиками видны аномальные значения. Необходимо рассмотреть данные на наличие аномальных значений и исключить их."
   ]
  },
  {
   "cell_type": "markdown",
   "metadata": {
    "id": "RKDbeX8NdSay"
   },
   "source": [
    "Удаляю явные дубликаты."
   ]
  },
  {
   "cell_type": "code",
   "execution_count": 11,
   "metadata": {
    "executionInfo": {
     "elapsed": 1032,
     "status": "ok",
     "timestamp": 1676398868919,
     "user": {
      "displayName": "Георгий Фролов",
      "userId": "16513831430412303697"
     },
     "user_tz": -180
    },
    "id": "e7maF_v2dSay"
   },
   "outputs": [],
   "source": [
    "df = df.drop_duplicates()"
   ]
  },
  {
   "cell_type": "code",
   "execution_count": 12,
   "metadata": {
    "colab": {
     "base_uri": "https://localhost:8080/"
    },
    "executionInfo": {
     "elapsed": 887,
     "status": "ok",
     "timestamp": 1676398869804,
     "user": {
      "displayName": "Георгий Фролов",
      "userId": "16513831430412303697"
     },
     "user_tz": -180
    },
    "id": "5egFwXIzdSay",
    "outputId": "20b77b98-72dc-409f-f664-a605f60d7a60"
   },
   "outputs": [
    {
     "data": {
      "text/plain": [
       "0"
      ]
     },
     "execution_count": 12,
     "metadata": {},
     "output_type": "execute_result"
    }
   ],
   "source": [
    "df.duplicated().sum()"
   ]
  },
  {
   "cell_type": "markdown",
   "metadata": {
    "id": "p8dDgnKJdSay"
   },
   "source": [
    "Посмотрю на дату скачивания анкеты из базы, она же соответствует дате создания анкеты, позже которой не может быть год регистрации автомобиля."
   ]
  },
  {
   "cell_type": "code",
   "execution_count": 13,
   "metadata": {
    "colab": {
     "base_uri": "https://localhost:8080/"
    },
    "executionInfo": {
     "elapsed": 6,
     "status": "ok",
     "timestamp": 1676398869804,
     "user": {
      "displayName": "Георгий Фролов",
      "userId": "16513831430412303697"
     },
     "user_tz": -180
    },
    "id": "W7AwHkSrdSay",
    "outputId": "2116e6d3-1872-41bd-e5f9-19c3018443ab"
   },
   "outputs": [
    {
     "name": "stdout",
     "output_type": "stream",
     "text": [
      "Последняя дата скачивания анкеты из базы: 2016-04-07 14:36:58\n"
     ]
    }
   ],
   "source": [
    "print('Последняя дата скачивания анкеты из базы:', df['DateCrawled'].max())"
   ]
  },
  {
   "cell_type": "markdown",
   "metadata": {
    "id": "0c1wyDvNdSaz"
   },
   "source": [
    "Далее удалю колонки с неинформативными признаками. Признаки - дата скачивания анкеты и базы, дата создания анкеты, количество фотографий автомобиля и дата последней активности пользователя точно не понадобятся для предсказания стоимости автомобиля, так как никак не могут влиять на нее.\n",
    "А значения почтового индекса владельца анкеты (пользователя) сокращу до первой цифры, так как после рассмотрения индексов на стороннем сайте, первая цифра индекса отображает регион, а регион может хоть и слабо, но влиять на стоимость."
   ]
  },
  {
   "cell_type": "code",
   "execution_count": 14,
   "metadata": {
    "executionInfo": {
     "elapsed": 6,
     "status": "ok",
     "timestamp": 1676398869804,
     "user": {
      "displayName": "Георгий Фролов",
      "userId": "16513831430412303697"
     },
     "user_tz": -180
    },
    "id": "-saLyqpfdSaz"
   },
   "outputs": [],
   "source": [
    "df['PostalCode'] = df['PostalCode'] // 10000"
   ]
  },
  {
   "cell_type": "code",
   "execution_count": 15,
   "metadata": {
    "colab": {
     "base_uri": "https://localhost:8080/",
     "height": 206
    },
    "executionInfo": {
     "elapsed": 7,
     "status": "ok",
     "timestamp": 1676398869805,
     "user": {
      "displayName": "Георгий Фролов",
      "userId": "16513831430412303697"
     },
     "user_tz": -180
    },
    "id": "_xrGt8-rdSaz",
    "outputId": "54db358f-e427-4d0f-d13d-dd54b02f4736"
   },
   "outputs": [
    {
     "data": {
      "text/html": [
       "<div>\n",
       "<style scoped>\n",
       "    .dataframe tbody tr th:only-of-type {\n",
       "        vertical-align: middle;\n",
       "    }\n",
       "\n",
       "    .dataframe tbody tr th {\n",
       "        vertical-align: top;\n",
       "    }\n",
       "\n",
       "    .dataframe thead th {\n",
       "        text-align: right;\n",
       "    }\n",
       "</style>\n",
       "<table border=\"1\" class=\"dataframe\">\n",
       "  <thead>\n",
       "    <tr style=\"text-align: right;\">\n",
       "      <th></th>\n",
       "      <th>Price</th>\n",
       "      <th>VehicleType</th>\n",
       "      <th>RegistrationYear</th>\n",
       "      <th>Gearbox</th>\n",
       "      <th>Power</th>\n",
       "      <th>Model</th>\n",
       "      <th>Kilometer</th>\n",
       "      <th>RegistrationMonth</th>\n",
       "      <th>FuelType</th>\n",
       "      <th>Brand</th>\n",
       "      <th>Repaired</th>\n",
       "      <th>PostalCode</th>\n",
       "    </tr>\n",
       "  </thead>\n",
       "  <tbody>\n",
       "    <tr>\n",
       "      <th>0</th>\n",
       "      <td>480</td>\n",
       "      <td>NaN</td>\n",
       "      <td>1993</td>\n",
       "      <td>manual</td>\n",
       "      <td>0</td>\n",
       "      <td>golf</td>\n",
       "      <td>150000</td>\n",
       "      <td>0</td>\n",
       "      <td>petrol</td>\n",
       "      <td>volkswagen</td>\n",
       "      <td>NaN</td>\n",
       "      <td>7</td>\n",
       "    </tr>\n",
       "    <tr>\n",
       "      <th>1</th>\n",
       "      <td>18300</td>\n",
       "      <td>coupe</td>\n",
       "      <td>2011</td>\n",
       "      <td>manual</td>\n",
       "      <td>190</td>\n",
       "      <td>NaN</td>\n",
       "      <td>125000</td>\n",
       "      <td>5</td>\n",
       "      <td>gasoline</td>\n",
       "      <td>audi</td>\n",
       "      <td>yes</td>\n",
       "      <td>6</td>\n",
       "    </tr>\n",
       "    <tr>\n",
       "      <th>2</th>\n",
       "      <td>9800</td>\n",
       "      <td>suv</td>\n",
       "      <td>2004</td>\n",
       "      <td>auto</td>\n",
       "      <td>163</td>\n",
       "      <td>grand</td>\n",
       "      <td>125000</td>\n",
       "      <td>8</td>\n",
       "      <td>gasoline</td>\n",
       "      <td>jeep</td>\n",
       "      <td>NaN</td>\n",
       "      <td>9</td>\n",
       "    </tr>\n",
       "    <tr>\n",
       "      <th>3</th>\n",
       "      <td>1500</td>\n",
       "      <td>small</td>\n",
       "      <td>2001</td>\n",
       "      <td>manual</td>\n",
       "      <td>75</td>\n",
       "      <td>golf</td>\n",
       "      <td>150000</td>\n",
       "      <td>6</td>\n",
       "      <td>petrol</td>\n",
       "      <td>volkswagen</td>\n",
       "      <td>no</td>\n",
       "      <td>9</td>\n",
       "    </tr>\n",
       "    <tr>\n",
       "      <th>4</th>\n",
       "      <td>3600</td>\n",
       "      <td>small</td>\n",
       "      <td>2008</td>\n",
       "      <td>manual</td>\n",
       "      <td>69</td>\n",
       "      <td>fabia</td>\n",
       "      <td>90000</td>\n",
       "      <td>7</td>\n",
       "      <td>gasoline</td>\n",
       "      <td>skoda</td>\n",
       "      <td>no</td>\n",
       "      <td>6</td>\n",
       "    </tr>\n",
       "  </tbody>\n",
       "</table>\n",
       "</div>"
      ],
      "text/plain": [
       "   Price VehicleType  RegistrationYear Gearbox  Power  Model  Kilometer  \\\n",
       "0    480         NaN              1993  manual      0   golf     150000   \n",
       "1  18300       coupe              2011  manual    190    NaN     125000   \n",
       "2   9800         suv              2004    auto    163  grand     125000   \n",
       "3   1500       small              2001  manual     75   golf     150000   \n",
       "4   3600       small              2008  manual     69  fabia      90000   \n",
       "\n",
       "   RegistrationMonth  FuelType       Brand Repaired  PostalCode  \n",
       "0                  0    petrol  volkswagen      NaN           7  \n",
       "1                  5  gasoline        audi      yes           6  \n",
       "2                  8  gasoline        jeep      NaN           9  \n",
       "3                  6    petrol  volkswagen       no           9  \n",
       "4                  7  gasoline       skoda       no           6  "
      ]
     },
     "execution_count": 15,
     "metadata": {},
     "output_type": "execute_result"
    }
   ],
   "source": [
    "df = df.drop(['DateCrawled', 'DateCreated', 'NumberOfPictures', 'LastSeen'], axis=1)\n",
    "df.head()"
   ]
  },
  {
   "cell_type": "markdown",
   "metadata": {
    "id": "8ATrrltwdSaz"
   },
   "source": [
    "Привожу наименование колонок в соответствие."
   ]
  },
  {
   "cell_type": "code",
   "execution_count": 16,
   "metadata": {
    "executionInfo": {
     "elapsed": 6,
     "status": "ok",
     "timestamp": 1676398869805,
     "user": {
      "displayName": "Георгий Фролов",
      "userId": "16513831430412303697"
     },
     "user_tz": -180
    },
    "id": "d_MBN-QkdSaz"
   },
   "outputs": [],
   "source": [
    "df = df.rename(columns={'VehicleType': 'Vehicle_Type', \n",
    "                        'RegistrationYear': 'Registration_Year',\n",
    "                        'RegistrationMonth': 'Registration_Month',\n",
    "                        'FuelType': 'Fuel_Type',\n",
    "                        'PostalCode': 'Postal_Code'})"
   ]
  },
  {
   "cell_type": "code",
   "execution_count": 17,
   "metadata": {
    "colab": {
     "base_uri": "https://localhost:8080/"
    },
    "executionInfo": {
     "elapsed": 6,
     "status": "ok",
     "timestamp": 1676398869805,
     "user": {
      "displayName": "Георгий Фролов",
      "userId": "16513831430412303697"
     },
     "user_tz": -180
    },
    "id": "8_GJxBQqdSaz",
    "outputId": "5ed4b9d5-ab70-40fc-cdda-851a6e43e496"
   },
   "outputs": [
    {
     "data": {
      "text/plain": [
       "Index(['price', 'vehicle_type', 'registration_year', 'gearbox', 'power',\n",
       "       'model', 'kilometer', 'registration_month', 'fuel_type', 'brand',\n",
       "       'repaired', 'postal_code'],\n",
       "      dtype='object')"
      ]
     },
     "execution_count": 17,
     "metadata": {},
     "output_type": "execute_result"
    }
   ],
   "source": [
    "df.columns = df.columns.str.lower()\n",
    "df.columns"
   ]
  },
  {
   "cell_type": "markdown",
   "metadata": {
    "id": "PDNYggSWdSaz"
   },
   "source": [
    "Посмотрю, как коррелируют оставшиеся признаки с целевым признаком."
   ]
  },
  {
   "cell_type": "code",
   "execution_count": 18,
   "metadata": {
    "colab": {
     "base_uri": "https://localhost:8080/",
     "height": 601
    },
    "executionInfo": {
     "elapsed": 1752,
     "status": "ok",
     "timestamp": 1676398871553,
     "user": {
      "displayName": "Георгий Фролов",
      "userId": "16513831430412303697"
     },
     "user_tz": -180
    },
    "id": "r5R2MDtGdSa0",
    "outputId": "2e8d15ed-1836-463d-f299-f70be8e13ddc"
   },
   "outputs": [
    {
     "data": {
      "image/png": "[encoded data removed]",
      "text/plain": [
       "<Figure size 864x576 with 2 Axes>"
      ]
     },
     "metadata": {},
     "output_type": "display_data"
    }
   ],
   "source": [
    "sns.set(font_scale=1.15)\n",
    "plt.figure(figsize=(12,8))\n",
    "sns.heatmap(\n",
    "    df.corr(),        \n",
    "    cmap='RdBu_r', \n",
    "    annot=True, \n",
    "    vmin=-1, vmax=1)\n",
    "plt.show()"
   ]
  },
  {
   "cell_type": "markdown",
   "metadata": {
    "id": "Wn96OX9IdSa0"
   },
   "source": [
    "Пока признаки особо не коррелируют с целевым признаком, необходимо рассмотреть аномалии и исключить их. Затем снова можно будет посмотреть на корреляцию."
   ]
  },
  {
   "cell_type": "code",
   "execution_count": 19,
   "metadata": {
    "executionInfo": {
     "elapsed": 2,
     "status": "ok",
     "timestamp": 1676398871553,
     "user": {
      "displayName": "Георгий Фролов",
      "userId": "16513831430412303697"
     },
     "user_tz": -180
    },
    "id": "Bh0YkPqadSa0"
   },
   "outputs": [],
   "source": [
    "def distribution(df, column):\n",
    "    plt.figure(figsize=(15,3))\n",
    "    sns.boxplot(x=df)\n",
    "    plt.title(f'Распределение колонки {column}')\n",
    "    plt.grid(True)\n",
    "\n",
    "    plt.figure(figsize=(15,5))\n",
    "    plt.hist(df, edgecolor='k', bins=80)\n",
    "    plt.title(f'Распределение колонки {column}')\n",
    "    plt.show()\n",
    "    print(f'Уникальные значения признака: {column}', df.sort_values().unique())"
   ]
  },
  {
   "cell_type": "markdown",
   "metadata": {
    "id": "R8k4aLspdSa0"
   },
   "source": [
    "Первым делом рассмотрю признак с ценой."
   ]
  },
  {
   "cell_type": "code",
   "execution_count": 20,
   "metadata": {
    "colab": {
     "base_uri": "https://localhost:8080/",
     "height": 593
    },
    "executionInfo": {
     "elapsed": 2883,
     "status": "ok",
     "timestamp": 1676398874434,
     "user": {
      "displayName": "Георгий Фролов",
      "userId": "16513831430412303697"
     },
     "user_tz": -180
    },
    "id": "6Zs2c1PadSa0",
    "outputId": "b8def79f-8dd3-4d29-ced5-d2b21ad2038c"
   },
   "outputs": [
    {
     "data": {
      "image/png": "[encoded data removed]",
      "text/plain": [
       "<Figure size 1080x216 with 1 Axes>"
      ]
     },
     "metadata": {},
     "output_type": "display_data"
    },
    {
     "data": {
      "image/png": "[encoded data removed]",
      "text/plain": [
       "<Figure size 1080x360 with 1 Axes>"
      ]
     },
     "metadata": {},
     "output_type": "display_data"
    },
    {
     "name": "stdout",
     "output_type": "stream",
     "text": [
      "Уникальные значения признака: price [    0     1     2 ... 19998 19999 20000]\n"
     ]
    }
   ],
   "source": [
    "distribution(df['price'], 'price')"
   ]
  },
  {
   "cell_type": "code",
   "execution_count": 21,
   "metadata": {
    "colab": {
     "base_uri": "https://localhost:8080/"
    },
    "executionInfo": {
     "elapsed": 4,
     "status": "ok",
     "timestamp": 1676398874434,
     "user": {
      "displayName": "Георгий Фролов",
      "userId": "16513831430412303697"
     },
     "user_tz": -180
    },
    "id": "8QW8fnredSa0",
    "outputId": "4737b231-c8df-42cb-c508-5f96a76d6804",
    "scrolled": true
   },
   "outputs": [
    {
     "name": "stdout",
     "output_type": "stream",
     "text": [
      "Количество автомобилей со стоимостью ниже 100 евро: 13314\n"
     ]
    }
   ],
   "source": [
    "print(f\"Количество автомобилей со стоимостью ниже 100 евро: {len(df.loc[df['price'] < 100])}\")"
   ]
  },
  {
   "cell_type": "markdown",
   "metadata": {
    "id": "ngSFDKOddSa0"
   },
   "source": [
    "В целевом признаке `price` заметно большое количество нулевых и около нулевых значений, что является явной ошибкой, скорее всего пользователь забыл указать стоимость или ошибся в указании стоимости. Данные значения сложно будет заменить на близкие к действительным, так как необходимо учесть большое количество различных параметров автомобиля и даже в этом случае цена врятли будет соответствовать действительной, что может в итоге сказаться на качестве прогнозируемой цены в будущем. Считаю, что стоимость не может быть меньше 100 евро, поэтому рациональнее будет удалить значения ниже 100 евро. "
   ]
  },
  {
   "cell_type": "code",
   "execution_count": 22,
   "metadata": {
    "executionInfo": {
     "elapsed": 2,
     "status": "ok",
     "timestamp": 1676398874434,
     "user": {
      "displayName": "Георгий Фролов",
      "userId": "16513831430412303697"
     },
     "user_tz": -180
    },
    "id": "Y4brWt5OdSa0"
   },
   "outputs": [],
   "source": [
    "df = df.loc[df['price'] > 100]"
   ]
  },
  {
   "cell_type": "markdown",
   "metadata": {
    "id": "bJSs3GMRdSa1"
   },
   "source": [
    "Теперь изучу признак с годом регистрации."
   ]
  },
  {
   "cell_type": "code",
   "execution_count": 23,
   "metadata": {
    "colab": {
     "base_uri": "https://localhost:8080/",
     "height": 751
    },
    "executionInfo": {
     "elapsed": 2550,
     "status": "ok",
     "timestamp": 1676398876982,
     "user": {
      "displayName": "Георгий Фролов",
      "userId": "16513831430412303697"
     },
     "user_tz": -180
    },
    "id": "oNHtTmy-dSa1",
    "outputId": "41d5a399-c857-4592-ca77-24e0a6d4523f"
   },
   "outputs": [
    {
     "data": {
      "image/png": "[encoded data removed]",
      "text/plain": [
       "<Figure size 1080x216 with 1 Axes>"
      ]
     },
     "metadata": {},
     "output_type": "display_data"
    },
    {
     "data": {
      "image/png": "[encoded data removed]",
      "text/plain": [
       "<Figure size 1080x360 with 1 Axes>"
      ]
     },
     "metadata": {},
     "output_type": "display_data"
    },
    {
     "name": "stdout",
     "output_type": "stream",
     "text": [
      "Уникальные значения признака: registration_year [1000 1001 1039 1111 1234 1300 1400 1500 1600 1602 1800 1910 1923 1925\n",
      " 1927 1928 1929 1930 1931 1932 1933 1934 1935 1936 1937 1938 1940 1941\n",
      " 1942 1943 1944 1945 1946 1947 1948 1949 1950 1951 1952 1953 1954 1955\n",
      " 1956 1957 1958 1959 1960 1961 1962 1963 1964 1965 1966 1967 1968 1969\n",
      " 1970 1971 1972 1973 1974 1975 1976 1977 1978 1979 1980 1981 1982 1983\n",
      " 1984 1985 1986 1987 1988 1989 1990 1991 1992 1993 1994 1995 1996 1997\n",
      " 1998 1999 2000 2001 2002 2003 2004 2005 2006 2007 2008 2009 2010 2011\n",
      " 2012 2013 2014 2015 2016 2017 2018 2019 2066 2200 2290 2500 2800 2900\n",
      " 3000 3200 3700 3800 4000 4100 4500 4800 5000 5300 5555 5600 5900 5911\n",
      " 6000 7000 7100 7800 8200 8500 8888 9000 9450 9999]\n"
     ]
    }
   ],
   "source": [
    "distribution(df['registration_year'], 'registration_year')"
   ]
  },
  {
   "cell_type": "markdown",
   "metadata": {
    "id": "6az1fOjLdSa1"
   },
   "source": [
    "В признаке с указанием года регистрации автомобиля замечены аномалии, минимальный год регистрации не может быть ренее 1806 года, так в этом году появились первые машины, приводимые в движение двигателями внутреннего сгорания, а в 1885 году появились автомобили используемые газолиновыый или бензиновый двигатель внутреннего сгорания. Так же не может быть автомобилей с датой позже 2016 года, так как уже известно, что крайняя дата скачивания анкеты из базы была в 2016 году. Посмотрю на количество значений с датой регистрации несоответствующие диапазону от 1923 года по 2016 год. Предположу, что на платформе могут быть анкеты с ретро автомобилями."
   ]
  },
  {
   "cell_type": "code",
   "execution_count": 24,
   "metadata": {
    "colab": {
     "base_uri": "https://localhost:8080/"
    },
    "executionInfo": {
     "elapsed": 3,
     "status": "ok",
     "timestamp": 1676398876982,
     "user": {
      "displayName": "Георгий Фролов",
      "userId": "16513831430412303697"
     },
     "user_tz": -180
    },
    "id": "Aj3MWbzbdSa1",
    "outputId": "d9023a2e-4b71-40a0-8c2c-e921c8ddd4cc"
   },
   "outputs": [
    {
     "name": "stdout",
     "output_type": "stream",
     "text": [
      "Количество автомобилей с регистрацией ранее 1923 года и позже 2016 года: 13747\n"
     ]
    }
   ],
   "source": [
    "print(f\"Количество автомобилей с регистрацией ранее 1923 года и позже 2016 года: \\\n",
    "{len((df.loc[(df['registration_year'] < 1923) | (df['registration_year'] > 2016)]))}\")"
   ]
  },
  {
   "cell_type": "markdown",
   "metadata": {
    "id": "3jbw4HkJdSa1"
   },
   "source": [
    "13747 значений. Данные значения восстановить \n",
    "невозможно. Заменить их тоже не получится, даже если производить замену с учетом остальных параметров автомобиля, результат может быть далек от действительного. Поэтому принимаю решение удалить значения до 1910 года и после 2016 года."
   ]
  },
  {
   "cell_type": "code",
   "execution_count": 25,
   "metadata": {
    "executionInfo": {
     "elapsed": 3,
     "status": "ok",
     "timestamp": 1676398876982,
     "user": {
      "displayName": "Георгий Фролов",
      "userId": "16513831430412303697"
     },
     "user_tz": -180
    },
    "id": "bK7d5vBndSa1"
   },
   "outputs": [],
   "source": [
    "df = df.loc[(df['registration_year'] > 1923)]\n",
    "df = df.loc[(df['registration_year'] <= 2016)]"
   ]
  },
  {
   "cell_type": "markdown",
   "metadata": {
    "id": "FvXhpqfQdSa1"
   },
   "source": [
    "Рассмотрю признак `power`."
   ]
  },
  {
   "cell_type": "code",
   "execution_count": 26,
   "metadata": {
    "colab": {
     "base_uri": "https://localhost:8080/",
     "height": 1000
    },
    "executionInfo": {
     "elapsed": 1873,
     "status": "ok",
     "timestamp": 1676398878852,
     "user": {
      "displayName": "Георгий Фролов",
      "userId": "16513831430412303697"
     },
     "user_tz": -180
    },
    "id": "kLhOl9tydSa1",
    "outputId": "c26b2347-4ef3-452c-ccb6-829664bc496e",
    "scrolled": false
   },
   "outputs": [
    {
     "data": {
      "image/png": "[encoded data removed]",
      "text/plain": [
       "<Figure size 1080x216 with 1 Axes>"
      ]
     },
     "metadata": {},
     "output_type": "display_data"
    },
    {
     "data": {
      "image/png": "[encoded data removed]",
      "text/plain": [
       "<Figure size 1080x360 with 1 Axes>"
      ]
     },
     "metadata": {},
     "output_type": "display_data"
    },
    {
     "name": "stdout",
     "output_type": "stream",
     "text": [
      "Уникальные значения признака: power [    0     1     2     3     4     5     6     7     8     9    10    11\n",
      "    12    13    14    15    16    17    18    19    20    21    22    23\n",
      "    24    25    26    27    28    29    30    31    32    33    34    35\n",
      "    36    37    38    39    40    41    42    43    44    45    46    47\n",
      "    48    49    50    51    52    53    54    55    56    57    58    59\n",
      "    60    61    62    63    64    65    66    67    68    69    70    71\n",
      "    72    73    74    75    76    77    78    79    80    81    82    83\n",
      "    84    85    86    87    88    89    90    91    92    93    94    95\n",
      "    96    97    98    99   100   101   102   103   104   105   106   107\n",
      "   108   109   110   111   112   113   114   115   116   117   118   119\n",
      "   120   121   122   123   124   125   126   127   128   129   130   131\n",
      "   132   133   134   135   136   137   138   139   140   141   142   143\n",
      "   144   145   146   147   148   149   150   151   152   153   154   155\n",
      "   156   157   158   159   160   161   162   163   164   165   166   167\n",
      "   168   169   170   171   172   173   174   175   176   177   178   179\n",
      "   180   181   182   183   184   185   186   187   188   189   190   191\n",
      "   192   193   194   195   196   197   198   199   200   201   202   203\n",
      "   204   205   206   207   208   209   210   211   212   213   214   215\n",
      "   216   217   218   219   220   221   222   223   224   225   226   227\n",
      "   228   229   230   231   232   233   234   235   236   237   238   239\n",
      "   240   241   242   243   244   245   246   247   248   249   250   251\n",
      "   252   253   254   255   256   257   258   259   260   261   262   264\n",
      "   265   266   267   268   269   270   271   272   273   274   275   276\n",
      "   277   278   279   280   281   282   283   284   285   286   287   288\n",
      "   289   290   292   293   294   295   296   297   298   299   300   301\n",
      "   303   304   305   306   307   308   309   310   311   313   314   315\n",
      "   316   317   318   320   321   322   323   324   325   326   328   329\n",
      "   330   331   332   333   334   335   336   337   338   339   340   341\n",
      "   343   344   345   346   347   348   349   350   351   352   353   354\n",
      "   355   356   357   358   360   361   362   363   364   365   367   368\n",
      "   370   371   374   375   376   377   379   380   381   382   385   386\n",
      "   387   388   390   392   394   396   398   399   400   401   405   408\n",
      "   409   411   416   420   421   425   426   428   430   431   435   440\n",
      "   442   445   449   450   454   457   459   460   475   476   487   489\n",
      "   490   500   504   505   507   508   510   514   515   517   519   520\n",
      "   521   525   540   541   544   550   551   560   572   579   580   584\n",
      "   585   600   601   602   603   604   606   610   612   620   640   645\n",
      "   650   651   671   678   682   685   696   700   702   703   732   743\n",
      "   750   751   754   771   776   800   805   850   851   871   900   902\n",
      "   903   907   909   923   950   952   953   998   999  1000  1001  1002\n",
      "  1003  1004  1005  1011  1012  1016  1017  1021  1024  1054  1055  1056\n",
      "  1062  1079  1082  1090  1100  1103  1105  1115  1120  1149  1151  1158\n",
      "  1160  1162  1164  1199  1200  1202  1221  1223  1230  1239  1240  1241\n",
      "  1250  1256  1275  1288  1299  1300  1312  1317  1324  1339  1360  1362\n",
      "  1363  1367  1390  1398  1399  1400  1401  1403  1405  1416  1432  1433\n",
      "  1436  1500  1501  1502  1503  1506  1521  1548  1595  1596  1597  1598\n",
      "  1600  1625  1631  1653  1659  1689  1700  1701  1703  1704  1707  1753\n",
      "  1771  1779  1780  1781  1783  1793  1796  1799  1800  1801  1870  1895\n",
      "  1896  1900  1920  1922  1933  1937  1968  1988  1992  1993  1995  1998\n",
      "  1999  2000  2004  2005  2007  2009  2016  2017  2018  2172  2331  2340\n",
      "  2389  2402  2461  2598  2729  2789  2792  2799  3199  3454  3500  4400\n",
      "  4507  4700  5411  5420  5575  5809  5815  5867  6006  6010  6011  6012\n",
      "  6018  6045  6062  6226  6512  6920  7508  7511  7512  7515  7518  7529\n",
      "  7544  8259  8404  8500  9007  9012  9013 10000 10110 10218 10311 10520\n",
      " 10522 10710 10910 10912 11011 11025 11111 11509 11530 11635 12012 12510\n",
      " 12512 12684 13616 13636 14009 15001 15017 15020 15033 16051 16311 16312\n",
      " 17011 17019 17410 17700 17932 19208 19211 19312 20000]\n"
     ]
    }
   ],
   "source": [
    "distribution(df['power'], 'power')"
   ]
  },
  {
   "cell_type": "code",
   "execution_count": 27,
   "metadata": {
    "colab": {
     "base_uri": "https://localhost:8080/"
    },
    "executionInfo": {
     "elapsed": 708,
     "status": "ok",
     "timestamp": 1676398879558,
     "user": {
      "displayName": "Георгий Фролов",
      "userId": "16513831430412303697"
     },
     "user_tz": -180
    },
    "id": "rQRsliPldSa1",
    "outputId": "181db180-3cf1-43fd-ea3d-ce72a03f42ae"
   },
   "outputs": [
    {
     "name": "stdout",
     "output_type": "stream",
     "text": [
      "Наименование марок автомобилей представленных в датасете\n"
     ]
    },
    {
     "data": {
      "text/plain": [
       "array(['alfa_romeo', 'audi', 'bmw', 'chevrolet', 'chrysler', 'citroen',\n",
       "       'dacia', 'daewoo', 'daihatsu', 'fiat', 'ford', 'honda', 'hyundai',\n",
       "       'jaguar', 'jeep', 'kia', 'lada', 'lancia', 'land_rover', 'mazda',\n",
       "       'mercedes_benz', 'mini', 'mitsubishi', 'nissan', 'opel', 'peugeot',\n",
       "       'porsche', 'renault', 'rover', 'saab', 'seat', 'skoda', 'smart',\n",
       "       'sonstige_autos', 'subaru', 'suzuki', 'toyota', 'trabant',\n",
       "       'volkswagen', 'volvo'], dtype=object)"
      ]
     },
     "execution_count": 27,
     "metadata": {},
     "output_type": "execute_result"
    }
   ],
   "source": [
    "print('Наименование марок автомобилей представленных в датасете')\n",
    "df['brand'].sort_values().unique()"
   ]
  },
  {
   "cell_type": "code",
   "execution_count": 28,
   "metadata": {
    "colab": {
     "base_uri": "https://localhost:8080/",
     "height": 251
    },
    "executionInfo": {
     "elapsed": 1070,
     "status": "ok",
     "timestamp": 1676398880626,
     "user": {
      "displayName": "Георгий Фролов",
      "userId": "16513831430412303697"
     },
     "user_tz": -180
    },
    "id": "RoZQHndvdSa2",
    "outputId": "4566e0a0-7956-463c-e35b-df2dad147d81"
   },
   "outputs": [
    {
     "data": {
      "image/png": "[encoded data removed]",
      "text/plain": [
       "<Figure size 720x216 with 1 Axes>"
      ]
     },
     "metadata": {},
     "output_type": "display_data"
    }
   ],
   "source": [
    "plt.figure(figsize=(10,3))\n",
    "sns.boxplot(x=df['power'])\n",
    "plt.xlim([0, 800])\n",
    "plt.title('Распределение колонки power')\n",
    "plt.grid(True)"
   ]
  },
  {
   "cell_type": "markdown",
   "metadata": {
    "id": "xs1vMniRdSa2"
   },
   "source": [
    "Разброс значений мощности, еще больше удивляет. Очень много аномальных значений. Буду сокращать диапазон значений в соответствии со следующей логикой, попробую изменить нулевые значения медианой по модели автомобиля. Самым мощным легковым автомобилем на данный момент является Dagger GT с мощностью 2028 л.с., такой модели в нашем датасете нет, да и такие мощные автомобили врятли бы продавались на обычной платформе для легковых автомобилей. И глядя на ящик с усами, видно, что выбросы начинаются в диапазоне 500-600 л.с., поэтому максимальное значение мощности возьму 600 л.с., а выше этого значения удалю."
   ]
  },
  {
   "cell_type": "code",
   "execution_count": 29,
   "metadata": {
    "executionInfo": {
     "elapsed": 4,
     "status": "ok",
     "timestamp": 1676398880626,
     "user": {
      "displayName": "Георгий Фролов",
      "userId": "16513831430412303697"
     },
     "user_tz": -180
    },
    "id": "CLf6SUexdSa2"
   },
   "outputs": [],
   "source": [
    "df = df.loc[df['power'] < 600]"
   ]
  },
  {
   "cell_type": "code",
   "execution_count": 30,
   "metadata": {
    "executionInfo": {
     "elapsed": 3,
     "status": "ok",
     "timestamp": 1676398880626,
     "user": {
      "displayName": "Георгий Фролов",
      "userId": "16513831430412303697"
     },
     "user_tz": -180
    },
    "id": "8N4S3FCjdSa2"
   },
   "outputs": [],
   "source": [
    "df.loc[df['power'] == 0, 'power'] = None\n",
    "df['power'] = df['power'].fillna(df.groupby('model')['power'].transform('median'))"
   ]
  },
  {
   "cell_type": "code",
   "execution_count": 31,
   "metadata": {
    "colab": {
     "base_uri": "https://localhost:8080/"
    },
    "executionInfo": {
     "elapsed": 3,
     "status": "ok",
     "timestamp": 1676398880626,
     "user": {
      "displayName": "Георгий Фролов",
      "userId": "16513831430412303697"
     },
     "user_tz": -180
    },
    "id": "13eB9AGudSa2",
    "outputId": "2ea77e7b-de1a-43a7-f627-d12c99177ea8"
   },
   "outputs": [
    {
     "data": {
      "text/plain": [
       "3959"
      ]
     },
     "execution_count": 31,
     "metadata": {},
     "output_type": "execute_result"
    }
   ],
   "source": [
    "df['power'].isna().sum()"
   ]
  },
  {
   "cell_type": "markdown",
   "metadata": {
    "id": "ryOTxIxNdSa2"
   },
   "source": [
    "Осталось 3959 пропусков, их я удалю."
   ]
  },
  {
   "cell_type": "code",
   "execution_count": 32,
   "metadata": {
    "executionInfo": {
     "elapsed": 400,
     "status": "ok",
     "timestamp": 1676398881024,
     "user": {
      "displayName": "Георгий Фролов",
      "userId": "16513831430412303697"
     },
     "user_tz": -180
    },
    "id": "F7Nzi972dSa2"
   },
   "outputs": [],
   "source": [
    "df = df.loc[~df['power'].isna()]\n",
    "df['power'] = df['power'].astype('int64')"
   ]
  },
  {
   "cell_type": "markdown",
   "metadata": {
    "id": "0TZUsghJdSa2"
   },
   "source": [
    "В столбце с информацией о пробеге автомобиля выбросов нет, в соответствии с таблицей с основными статистическими характеристиками, поэтому данный признак я не буду рассматривать на аномалии."
   ]
  },
  {
   "cell_type": "markdown",
   "metadata": {
    "id": "cjnYS65HdSa2"
   },
   "source": [
    "Далее рассмотрю столбец с месяцем регистрации."
   ]
  },
  {
   "cell_type": "code",
   "execution_count": 33,
   "metadata": {
    "colab": {
     "base_uri": "https://localhost:8080/",
     "height": 594
    },
    "executionInfo": {
     "elapsed": 1709,
     "status": "ok",
     "timestamp": 1676398882732,
     "user": {
      "displayName": "Георгий Фролов",
      "userId": "16513831430412303697"
     },
     "user_tz": -180
    },
    "id": "A-pt9eoTdSa2",
    "outputId": "4aeb43a6-031a-47c9-914c-73bcee9d4677"
   },
   "outputs": [
    {
     "data": {
      "image/png": "[encoded data removed]",
      "text/plain": [
       "<Figure size 1080x216 with 1 Axes>"
      ]
     },
     "metadata": {},
     "output_type": "display_data"
    },
    {
     "data": {
      "image/png": "[encoded data removed]",
      "text/plain": [
       "<Figure size 1080x360 with 1 Axes>"
      ]
     },
     "metadata": {},
     "output_type": "display_data"
    },
    {
     "name": "stdout",
     "output_type": "stream",
     "text": [
      "Уникальные значения признака: registration_month [ 0  1  2  3  4  5  6  7  8  9 10 11 12]\n"
     ]
    }
   ],
   "source": [
    "distribution(df['registration_month'], 'registration_month')"
   ]
  },
  {
   "cell_type": "markdown",
   "metadata": {
    "id": "WIypx4L1dSa3"
   },
   "source": [
    "В колонке `registration_month`, заметен месяц со значением 0, скорее всего это значение присваивается, когда пользователь не указал данные о месяце регистрации. Заполню данное значение случайным образом."
   ]
  },
  {
   "cell_type": "code",
   "execution_count": 34,
   "metadata": {
    "executionInfo": {
     "elapsed": 3,
     "status": "ok",
     "timestamp": 1676398882732,
     "user": {
      "displayName": "Георгий Фролов",
      "userId": "16513831430412303697"
     },
     "user_tz": -180
    },
    "id": "CRJfD8YUdSa3"
   },
   "outputs": [],
   "source": [
    "df.loc[df['registration_month'] == 0, 'registration_month'] = pd.Series(\n",
    "    index=df[df['registration_month']==0].index, data=df[df['registration_month'] != 0]['registration_month'].sample(\n",
    "        (df['registration_month'] == 0).sum()).values)"
   ]
  },
  {
   "cell_type": "markdown",
   "metadata": {
    "id": "NzLECsrJdSa3"
   },
   "source": [
    "Снова проверю таблицу на явные дубликаты и в случае обнаружения удалю их. А так же посмотрю на корреляцию после удаления аномалий."
   ]
  },
  {
   "cell_type": "code",
   "execution_count": 35,
   "metadata": {
    "colab": {
     "base_uri": "https://localhost:8080/"
    },
    "executionInfo": {
     "elapsed": 302,
     "status": "ok",
     "timestamp": 1676398883032,
     "user": {
      "displayName": "Георгий Фролов",
      "userId": "16513831430412303697"
     },
     "user_tz": -180
    },
    "id": "4hbQm-0KdSa3",
    "outputId": "8d4296ad-3e83-45aa-c470-8bd9ec6fc821",
    "scrolled": true
   },
   "outputs": [
    {
     "data": {
      "text/plain": [
       "21205"
      ]
     },
     "execution_count": 35,
     "metadata": {},
     "output_type": "execute_result"
    }
   ],
   "source": [
    "df.duplicated().sum()"
   ]
  },
  {
   "cell_type": "code",
   "execution_count": 36,
   "metadata": {
    "executionInfo": {
     "elapsed": 958,
     "status": "ok",
     "timestamp": 1676398883989,
     "user": {
      "displayName": "Георгий Фролов",
      "userId": "16513831430412303697"
     },
     "user_tz": -180
    },
    "id": "venq_s_ddSa3"
   },
   "outputs": [],
   "source": [
    "df = df.drop_duplicates()"
   ]
  },
  {
   "cell_type": "code",
   "execution_count": 37,
   "metadata": {
    "colab": {
     "base_uri": "https://localhost:8080/",
     "height": 601
    },
    "executionInfo": {
     "elapsed": 1384,
     "status": "ok",
     "timestamp": 1676398885371,
     "user": {
      "displayName": "Георгий Фролов",
      "userId": "16513831430412303697"
     },
     "user_tz": -180
    },
    "id": "Gzr-Ya7AdSa3",
    "outputId": "c9a63e2f-9198-40ee-9ac6-9548000c0c6a"
   },
   "outputs": [
    {
     "data": {
      "image/png": "[encoded data removed]",
      "text/plain": [
       "<Figure size 864x576 with 2 Axes>"
      ]
     },
     "metadata": {},
     "output_type": "display_data"
    }
   ],
   "source": [
    "sns.set(font_scale=1.15)\n",
    "plt.figure(figsize=(12,8))\n",
    "sns.heatmap(\n",
    "    df.corr(),        \n",
    "    cmap='RdBu_r', \n",
    "    annot=True, \n",
    "    vmin=-1, vmax=1)\n",
    "plt.show()"
   ]
  },
  {
   "cell_type": "markdown",
   "metadata": {
    "id": "8v-pvIaDdSa3"
   },
   "source": [
    "Тут уже видно, что с цена коррелирует с годом регистрации, мощностью и пробегом. На цену не влияет почтовый индекс владельца и в большей степени месяц регистрации. Поэтому колонку с месяцем регистрации удалю, она нам не нужна."
   ]
  },
  {
   "cell_type": "code",
   "execution_count": 38,
   "metadata": {
    "executionInfo": {
     "elapsed": 3,
     "status": "ok",
     "timestamp": 1676398885371,
     "user": {
      "displayName": "Георгий Фролов",
      "userId": "16513831430412303697"
     },
     "user_tz": -180
    },
    "id": "EUy4Y6KfdSa3"
   },
   "outputs": [],
   "source": [
    "df = df.drop('registration_month', axis=1)"
   ]
  },
  {
   "cell_type": "markdown",
   "metadata": {
    "id": "tOzBgUXtdSa3"
   },
   "source": [
    "Теперь заполню пропуски."
   ]
  },
  {
   "cell_type": "code",
   "execution_count": 39,
   "metadata": {
    "executionInfo": {
     "elapsed": 2,
     "status": "ok",
     "timestamp": 1676398885371,
     "user": {
      "displayName": "Георгий Фролов",
      "userId": "16513831430412303697"
     },
     "user_tz": -180
    },
    "id": "n6eyw5qtdSa3"
   },
   "outputs": [],
   "source": [
    "def category(df, sign):\n",
    "    df = df.fillna('None').value_counts()\n",
    "    plt.figure(figsize=(16,7))\n",
    "    plt.xlabel(sign)\n",
    "    plt.ylabel('количество')\n",
    "    plt.bar(x=df.index[:20], height=df.values[:20])\n",
    "    plt.title(f'Распределение признака {sign}')\n",
    "    plt.show()"
   ]
  },
  {
   "cell_type": "code",
   "execution_count": 40,
   "metadata": {
    "executionInfo": {
     "elapsed": 2,
     "status": "ok",
     "timestamp": 1676398885371,
     "user": {
      "displayName": "Георгий Фролов",
      "userId": "16513831430412303697"
     },
     "user_tz": -180
    },
    "id": "02yd-5wndSa4"
   },
   "outputs": [],
   "source": [
    "def category_mode(column, column1, column2):\n",
    "    df[column] = df.groupby([column1, column2])[column].transform(\n",
    "        lambda x: x.fillna((x.mode()[0] if x.count() != 0 else 'unknown')))"
   ]
  },
  {
   "cell_type": "code",
   "execution_count": 41,
   "metadata": {
    "colab": {
     "base_uri": "https://localhost:8080/",
     "height": 469
    },
    "executionInfo": {
     "elapsed": 1265,
     "status": "ok",
     "timestamp": 1676398886634,
     "user": {
      "displayName": "Георгий Фролов",
      "userId": "16513831430412303697"
     },
     "user_tz": -180
    },
    "id": "opTcS1UadSa4",
    "outputId": "9637f91e-c8c8-4d66-b214-ef18faa8ae28",
    "scrolled": false
   },
   "outputs": [
    {
     "data": {
      "image/png": "[encoded data removed]",
      "text/plain": [
       "<Figure size 1152x504 with 1 Axes>"
      ]
     },
     "metadata": {},
     "output_type": "display_data"
    }
   ],
   "source": [
    "category(df['model'], 'модель')"
   ]
  },
  {
   "cell_type": "markdown",
   "metadata": {
    "id": "gogKbpqodSa4"
   },
   "source": [
    "Самая популярная модел в объявлениях `golf`, но и количество пропусков на 5 месте. Заполню пропуски модой по году регистрации и марке автомобиля, а те значения для которых нет моды, заполню новой категорией `unknown`."
   ]
  },
  {
   "cell_type": "code",
   "execution_count": 42,
   "metadata": {
    "executionInfo": {
     "elapsed": 4146,
     "status": "ok",
     "timestamp": 1676398890779,
     "user": {
      "displayName": "Георгий Фролов",
      "userId": "16513831430412303697"
     },
     "user_tz": -180
    },
    "id": "eoKyxgBqdSa4",
    "scrolled": false
   },
   "outputs": [],
   "source": [
    "category_mode('model', 'registration_year','brand')"
   ]
  },
  {
   "cell_type": "code",
   "execution_count": 43,
   "metadata": {
    "colab": {
     "base_uri": "https://localhost:8080/",
     "height": 469
    },
    "executionInfo": {
     "elapsed": 586,
     "status": "ok",
     "timestamp": 1676398891356,
     "user": {
      "displayName": "Георгий Фролов",
      "userId": "16513831430412303697"
     },
     "user_tz": -180
    },
    "id": "VNu2mTEpdSa4",
    "outputId": "dff859da-9ca0-40b7-9763-0f3d97868719"
   },
   "outputs": [
    {
     "data": {
      "image/png": "[encoded data removed]",
      "text/plain": [
       "<Figure size 1152x504 with 1 Axes>"
      ]
     },
     "metadata": {},
     "output_type": "display_data"
    }
   ],
   "source": [
    "category(df['vehicle_type'], 'тип автомобильного кузова')"
   ]
  },
  {
   "cell_type": "markdown",
   "metadata": {
    "id": "QH9_aOlYdSa4"
   },
   "source": [
    "Пропусков в признаке `vehicle_type` тоже не мало, заполню их по аналогии, как и признак модель, только уже наиболее частным значением в соответствии с моделью и брендом."
   ]
  },
  {
   "cell_type": "code",
   "execution_count": 44,
   "metadata": {
    "executionInfo": {
     "elapsed": 1485,
     "status": "ok",
     "timestamp": 1676398892839,
     "user": {
      "displayName": "Георгий Фролов",
      "userId": "16513831430412303697"
     },
     "user_tz": -180
    },
    "id": "c34Vpo9VdSa4"
   },
   "outputs": [],
   "source": [
    "category_mode('vehicle_type', 'model','brand')"
   ]
  },
  {
   "cell_type": "code",
   "execution_count": 45,
   "metadata": {
    "colab": {
     "base_uri": "https://localhost:8080/",
     "height": 469
    },
    "executionInfo": {
     "elapsed": 4,
     "status": "ok",
     "timestamp": 1676398892839,
     "user": {
      "displayName": "Георгий Фролов",
      "userId": "16513831430412303697"
     },
     "user_tz": -180
    },
    "id": "xBiypKfzdSa4",
    "outputId": "2553d5a3-f516-4224-a03f-fcd98be78229"
   },
   "outputs": [
    {
     "data": {
      "image/png": "[encoded data removed]",
      "text/plain": [
       "<Figure size 1152x504 with 1 Axes>"
      ]
     },
     "metadata": {},
     "output_type": "display_data"
    }
   ],
   "source": [
    "category(df['gearbox'], 'тип коробки передач')"
   ]
  },
  {
   "cell_type": "markdown",
   "metadata": {
    "id": "8apkAGwWdSa4"
   },
   "source": [
    "Тип коробки передач тоже заполню модой по модели и бренду."
   ]
  },
  {
   "cell_type": "code",
   "execution_count": 46,
   "metadata": {
    "executionInfo": {
     "elapsed": 1168,
     "status": "ok",
     "timestamp": 1676398894004,
     "user": {
      "displayName": "Георгий Фролов",
      "userId": "16513831430412303697"
     },
     "user_tz": -180
    },
    "id": "aimGl-KxdSa4"
   },
   "outputs": [],
   "source": [
    "category_mode('gearbox', 'model','brand')"
   ]
  },
  {
   "cell_type": "code",
   "execution_count": 47,
   "metadata": {
    "colab": {
     "base_uri": "https://localhost:8080/",
     "height": 469
    },
    "executionInfo": {
     "elapsed": 920,
     "status": "ok",
     "timestamp": 1676398894922,
     "user": {
      "displayName": "Георгий Фролов",
      "userId": "16513831430412303697"
     },
     "user_tz": -180
    },
    "id": "UD5TsTwEdSa4",
    "outputId": "09cbc8da-c11b-4c9d-b660-b136b788c2cc"
   },
   "outputs": [
    {
     "data": {
      "image/png": "[encoded data removed]",
      "text/plain": [
       "<Figure size 1152x504 with 1 Axes>"
      ]
     },
     "metadata": {},
     "output_type": "display_data"
    }
   ],
   "source": [
    "category(df['fuel_type'], 'тип топлива')"
   ]
  },
  {
   "cell_type": "markdown",
   "metadata": {
    "id": "U55MyCTAdSa5"
   },
   "source": [
    "И пропуски в колонке с типом топлива тоже заполню модой."
   ]
  },
  {
   "cell_type": "code",
   "execution_count": 48,
   "metadata": {
    "executionInfo": {
     "elapsed": 725,
     "status": "ok",
     "timestamp": 1676398895645,
     "user": {
      "displayName": "Георгий Фролов",
      "userId": "16513831430412303697"
     },
     "user_tz": -180
    },
    "id": "ETBo9Z00dSa5"
   },
   "outputs": [],
   "source": [
    "category_mode('fuel_type', 'model','brand')"
   ]
  },
  {
   "cell_type": "code",
   "execution_count": 49,
   "metadata": {
    "colab": {
     "base_uri": "https://localhost:8080/",
     "height": 469
    },
    "executionInfo": {
     "elapsed": 440,
     "status": "ok",
     "timestamp": 1676398896083,
     "user": {
      "displayName": "Георгий Фролов",
      "userId": "16513831430412303697"
     },
     "user_tz": -180
    },
    "id": "CoSx1lS5dSa5",
    "outputId": "5825b159-d506-4a3f-e1df-c7d2728b3cb6"
   },
   "outputs": [
    {
     "data": {
      "image/png": "[encoded data removed]",
      "text/plain": [
       "<Figure size 1152x504 with 1 Axes>"
      ]
     },
     "metadata": {},
     "output_type": "display_data"
    }
   ],
   "source": [
    "category(df['repaired'], 'ремонт автомобиля')"
   ]
  },
  {
   "cell_type": "markdown",
   "metadata": {
    "id": "sNOaN1i8dSa5"
   },
   "source": [
    "Пропуски в данном признаке очень интересны. Я склоняюсь к версии, что пользователь специально ничего не ставил в данную колонку, чтобы не указывать, что ремонт был. Поэтому пропуски я заполню значением `yes`, которое говорит о том, что ремонт был."
   ]
  },
  {
   "cell_type": "code",
   "execution_count": 50,
   "metadata": {
    "executionInfo": {
     "elapsed": 3,
     "status": "ok",
     "timestamp": 1676398896083,
     "user": {
      "displayName": "Георгий Фролов",
      "userId": "16513831430412303697"
     },
     "user_tz": -180
    },
    "id": "ufFK-V_DdSa5"
   },
   "outputs": [],
   "source": [
    "df['repaired'] = df['repaired'].fillna('yes')"
   ]
  },
  {
   "cell_type": "code",
   "execution_count": 51,
   "metadata": {
    "colab": {
     "base_uri": "https://localhost:8080/"
    },
    "executionInfo": {
     "elapsed": 447,
     "status": "ok",
     "timestamp": 1676398896528,
     "user": {
      "displayName": "Георгий Фролов",
      "userId": "16513831430412303697"
     },
     "user_tz": -180
    },
    "id": "lWFz8QyddSa5",
    "outputId": "dde06ccf-95fa-4b2d-d043-70b1fca314e7",
    "scrolled": true
   },
   "outputs": [
    {
     "name": "stdout",
     "output_type": "stream",
     "text": [
      "<class 'pandas.core.frame.DataFrame'>\n",
      "Int64Index: 300775 entries, 0 to 354368\n",
      "Data columns (total 11 columns):\n",
      " #   Column             Non-Null Count   Dtype \n",
      "---  ------             --------------   ----- \n",
      " 0   price              300775 non-null  int64 \n",
      " 1   vehicle_type       300775 non-null  object\n",
      " 2   registration_year  300775 non-null  int64 \n",
      " 3   gearbox            300775 non-null  object\n",
      " 4   power              300775 non-null  int64 \n",
      " 5   model              300775 non-null  object\n",
      " 6   kilometer          300775 non-null  int64 \n",
      " 7   fuel_type          300775 non-null  object\n",
      " 8   brand              300775 non-null  object\n",
      " 9   repaired           300775 non-null  object\n",
      " 10  postal_code        300775 non-null  int64 \n",
      "dtypes: int64(5), object(6)\n",
      "memory usage: 27.5+ MB\n"
     ]
    }
   ],
   "source": [
    "df.info()"
   ]
  },
  {
   "cell_type": "code",
   "execution_count": 52,
   "metadata": {
    "executionInfo": {
     "elapsed": 7,
     "status": "ok",
     "timestamp": 1676398896528,
     "user": {
      "displayName": "Георгий Фролов",
      "userId": "16513831430412303697"
     },
     "user_tz": -180
    },
    "id": "_gFFU3d2dSa5"
   },
   "outputs": [],
   "source": [
    "finish = df.shape[0]"
   ]
  },
  {
   "cell_type": "code",
   "execution_count": 53,
   "metadata": {
    "colab": {
     "base_uri": "https://localhost:8080/"
    },
    "executionInfo": {
     "elapsed": 6,
     "status": "ok",
     "timestamp": 1676398896528,
     "user": {
      "displayName": "Георгий Фролов",
      "userId": "16513831430412303697"
     },
     "user_tz": -180
    },
    "id": "P9iPUbjNdSa5",
    "outputId": "4dece0cf-b4a5-4f4e-a2b0-b69f2947a934"
   },
   "outputs": [
    {
     "name": "stdout",
     "output_type": "stream",
     "text": [
      "После обработки таблицы удалено: 53594 строк, что соответствует 15.12%\n"
     ]
    }
   ],
   "source": [
    "a = 1-finish/start\n",
    "b = start-finish\n",
    "print(f'После обработки таблицы удалено: {b} строк, что соответствует {a:.2%}')"
   ]
  },
  {
   "cell_type": "markdown",
   "metadata": {
    "id": "zL6tqbLydSa5"
   },
   "source": [
    "**Вывод:**\n",
    "\n",
    "При подготовке было выполнено следующее:\n",
    "\n",
    "- Загружены и узучены данные;\n",
    "- Найдены и обработаны аномалии в столбцах;\n",
    "- Заполнены пропуски в категориальных признаках;\n",
    "- Рассмотрена корреляция влияния количественных признаков на целевой признак;\n",
    "- Удалены неинформативные признаки.\n",
    "\n",
    "Таблица подготовлена для обучения моделей."
   ]
  },
  {
   "cell_type": "markdown",
   "metadata": {
    "id": "7hNWn3mMdSa5"
   },
   "source": [
    "## Обучение моделей"
   ]
  },
  {
   "cell_type": "markdown",
   "metadata": {
    "id": "V9r0jSTGdSa6"
   },
   "source": [
    "### Подготовка признаков для обучения"
   ]
  },
  {
   "cell_type": "markdown",
   "metadata": {
    "id": "n7UwI99fdSa6"
   },
   "source": [
    "Скопирую таблицу, чтобы использовать копию для CatBoost и LightGBM, которые работают с категориальными признаками, а также выведу категориальные признаки в отдельную переменную."
   ]
  },
  {
   "cell_type": "code",
   "execution_count": 54,
   "metadata": {
    "executionInfo": {
     "elapsed": 5,
     "status": "ok",
     "timestamp": 1676398896529,
     "user": {
      "displayName": "Георгий Фролов",
      "userId": "16513831430412303697"
     },
     "user_tz": -180
    },
    "id": "DHLBDmTpdSa6"
   },
   "outputs": [],
   "source": [
    "categorical = ['vehicle_type', 'gearbox', 'model', 'fuel_type', 'brand', 'repaired']\n",
    "numeric = ['registration_year', 'power', 'kilometer', 'postal_code']"
   ]
  },
  {
   "cell_type": "markdown",
   "metadata": {
    "id": "Stsi8nBHdSa6"
   },
   "source": [
    "Разделю таблицу на признаки и целевой признак."
   ]
  },
  {
   "cell_type": "code",
   "execution_count": 55,
   "metadata": {
    "colab": {
     "base_uri": "https://localhost:8080/",
     "height": 52
    },
    "executionInfo": {
     "elapsed": 5,
     "status": "ok",
     "timestamp": 1676398896529,
     "user": {
      "displayName": "Георгий Фролов",
      "userId": "16513831430412303697"
     },
     "user_tz": -180
    },
    "id": "JD8kf7MsdSa6",
    "outputId": "cc26735e-49b5-4f6d-e50d-1f0bcb335be4"
   },
   "outputs": [
    {
     "data": {
      "text/plain": [
       "(300775, 10)"
      ]
     },
     "metadata": {},
     "output_type": "display_data"
    },
    {
     "data": {
      "text/plain": [
       "(300775,)"
      ]
     },
     "metadata": {},
     "output_type": "display_data"
    }
   ],
   "source": [
    "features = df.drop('price', axis=1)\n",
    "target = df['price']\n",
    "display(features.shape)\n",
    "display(target.shape)"
   ]
  },
  {
   "cell_type": "code",
   "execution_count": 56,
   "metadata": {
    "executionInfo": {
     "elapsed": 4,
     "status": "ok",
     "timestamp": 1676398896529,
     "user": {
      "displayName": "Георгий Фролов",
      "userId": "16513831430412303697"
     },
     "user_tz": -180
    },
    "id": "AnEol2cSdSa6"
   },
   "outputs": [],
   "source": [
    "features_cat = features.copy()\n",
    "target_cat = target.copy()"
   ]
  },
  {
   "cell_type": "markdown",
   "metadata": {
    "id": "tuoOPjcVdSa6"
   },
   "source": [
    "Разделю таблицу на обучающую и тестовую выборки и закодирую категориальные признаки."
   ]
  },
  {
   "cell_type": "code",
   "execution_count": 57,
   "metadata": {
    "executionInfo": {
     "elapsed": 408,
     "status": "ok",
     "timestamp": 1676398896933,
     "user": {
      "displayName": "Георгий Фролов",
      "userId": "16513831430412303697"
     },
     "user_tz": -180
    },
    "id": "qTmPd3eRdSa6"
   },
   "outputs": [],
   "source": [
    "features_train, features_test, target_train, target_test = train_test_split(\n",
    "    features, target, test_size=0.25, random_state=42)"
   ]
  },
  {
   "cell_type": "markdown",
   "metadata": {
    "id": "JhC0r1pXdSa6"
   },
   "source": [
    "Для модели линейной регрессии закодирую признаки методом OHE."
   ]
  },
  {
   "cell_type": "code",
   "execution_count": 58,
   "metadata": {
    "executionInfo": {
     "elapsed": 4,
     "status": "ok",
     "timestamp": 1676398896933,
     "user": {
      "displayName": "Георгий Фролов",
      "userId": "16513831430412303697"
     },
     "user_tz": -180
    },
    "id": "lLiCSZkndSa6"
   },
   "outputs": [],
   "source": [
    "train_cat = features_train[categorical]\n",
    "test_cat = features_test[categorical]"
   ]
  },
  {
   "cell_type": "code",
   "execution_count": 59,
   "metadata": {
    "executionInfo": {
     "elapsed": 3700,
     "status": "ok",
     "timestamp": 1676398900630,
     "user": {
      "displayName": "Георгий Фролов",
      "userId": "16513831430412303697"
     },
     "user_tz": -180
    },
    "id": "Yci28m7-dSa7"
   },
   "outputs": [],
   "source": [
    "ohe = OneHotEncoder(handle_unknown = 'ignore')\n",
    "features_train_ohe_cat = ohe.fit_transform(train_cat).toarray()\n",
    "features_test_ohe_cat = ohe.transform(test_cat).toarray()"
   ]
  },
  {
   "cell_type": "code",
   "execution_count": 60,
   "metadata": {
    "executionInfo": {
     "elapsed": 3,
     "status": "ok",
     "timestamp": 1676398900630,
     "user": {
      "displayName": "Георгий Фролов",
      "userId": "16513831430412303697"
     },
     "user_tz": -180
    },
    "id": "k6NwPdbQdSa7"
   },
   "outputs": [],
   "source": [
    "train_names_ohe = ohe.get_feature_names(train_cat.columns)\n",
    "test_names_ohe = ohe.get_feature_names(test_cat.columns)"
   ]
  },
  {
   "cell_type": "code",
   "execution_count": 61,
   "metadata": {
    "executionInfo": {
     "elapsed": 3,
     "status": "ok",
     "timestamp": 1676398900630,
     "user": {
      "displayName": "Георгий Фролов",
      "userId": "16513831430412303697"
     },
     "user_tz": -180
    },
    "id": "IBEfN38-dSa7"
   },
   "outputs": [],
   "source": [
    "features_train_lr = features_train[numeric].copy()\n",
    "features_test_lr = features_test[numeric].copy()"
   ]
  },
  {
   "cell_type": "markdown",
   "metadata": {
    "id": "iEYFLo-mdSa7"
   },
   "source": [
    "Теперь соединю количественные и категориальные признаки после обработки категориальных признаков методом OHE."
   ]
  },
  {
   "cell_type": "code",
   "execution_count": 62,
   "metadata": {
    "executionInfo": {
     "elapsed": 6163,
     "status": "ok",
     "timestamp": 1676398906791,
     "user": {
      "displayName": "Георгий Фролов",
      "userId": "16513831430412303697"
     },
     "user_tz": -180
    },
    "id": "ozQAXtXgdSa7"
   },
   "outputs": [],
   "source": [
    "features_train_ohe = pd.concat([features_train_lr,  \n",
    "                                pd.DataFrame(features_train_ohe_cat,\n",
    "                                             columns=train_names_ohe,\n",
    "                                            index=features_train.index)], axis=1)\n",
    "\n",
    "features_test_ohe = pd.concat([features_test_lr,  \n",
    "                                pd.DataFrame(features_test_ohe_cat,\n",
    "                                             columns=test_names_ohe, \n",
    "                                             index=features_test.index)], axis=1)"
   ]
  },
  {
   "cell_type": "code",
   "execution_count": 63,
   "metadata": {
    "colab": {
     "base_uri": "https://localhost:8080/"
    },
    "executionInfo": {
     "elapsed": 4,
     "status": "ok",
     "timestamp": 1676398906791,
     "user": {
      "displayName": "Георгий Фролов",
      "userId": "16513831430412303697"
     },
     "user_tz": -180
    },
    "id": "VayHGGQQdSa7",
    "outputId": "755a7f1e-2436-443f-8973-4f24b8141343"
   },
   "outputs": [
    {
     "name": "stdout",
     "output_type": "stream",
     "text": [
      "(225581, 315) (225581, 315)\n"
     ]
    }
   ],
   "source": [
    "print(features_train_ohe.shape, features_train_ohe.shape)"
   ]
  },
  {
   "cell_type": "markdown",
   "metadata": {
    "id": "k0WGchFtdSa7"
   },
   "source": [
    "Проведу масштабирование численных признаков, чтобы масштабирование не применилось для модели линейной регрессии, для того чтобы не было миллиардного значения RMSE."
   ]
  },
  {
   "cell_type": "code",
   "execution_count": 64,
   "metadata": {
    "executionInfo": {
     "elapsed": 2,
     "status": "ok",
     "timestamp": 1676398906791,
     "user": {
      "displayName": "Георгий Фролов",
      "userId": "16513831430412303697"
     },
     "user_tz": -180
    },
    "id": "ifv9bpYNdSa7"
   },
   "outputs": [],
   "source": [
    "scaler = StandardScaler()\n",
    "scaler.fit(features_train[numeric])\n",
    "\n",
    "features_train[numeric] = scaler.transform(features_train[numeric])\n",
    "features_test[numeric] = scaler.transform(features_test[numeric])"
   ]
  },
  {
   "cell_type": "markdown",
   "metadata": {
    "id": "BxilYkzrdSa7"
   },
   "source": [
    "Теперь для моделей деревьев закодирую категориальные признаки методом OE."
   ]
  },
  {
   "cell_type": "code",
   "execution_count": 65,
   "metadata": {
    "colab": {
     "base_uri": "https://localhost:8080/",
     "height": 206
    },
    "executionInfo": {
     "elapsed": 1181,
     "status": "ok",
     "timestamp": 1676398907970,
     "user": {
      "displayName": "Георгий Фролов",
      "userId": "16513831430412303697"
     },
     "user_tz": -180
    },
    "id": "__773W1_dSa7",
    "outputId": "4889a16d-b6d5-4468-dff1-462493af1094"
   },
   "outputs": [
    {
     "data": {
      "text/html": [
       "<div>\n",
       "<style scoped>\n",
       "    .dataframe tbody tr th:only-of-type {\n",
       "        vertical-align: middle;\n",
       "    }\n",
       "\n",
       "    .dataframe tbody tr th {\n",
       "        vertical-align: top;\n",
       "    }\n",
       "\n",
       "    .dataframe thead th {\n",
       "        text-align: right;\n",
       "    }\n",
       "</style>\n",
       "<table border=\"1\" class=\"dataframe\">\n",
       "  <thead>\n",
       "    <tr style=\"text-align: right;\">\n",
       "      <th></th>\n",
       "      <th>vehicle_type</th>\n",
       "      <th>registration_year</th>\n",
       "      <th>gearbox</th>\n",
       "      <th>power</th>\n",
       "      <th>model</th>\n",
       "      <th>kilometer</th>\n",
       "      <th>fuel_type</th>\n",
       "      <th>brand</th>\n",
       "      <th>repaired</th>\n",
       "      <th>postal_code</th>\n",
       "    </tr>\n",
       "  </thead>\n",
       "  <tbody>\n",
       "    <tr>\n",
       "      <th>176744</th>\n",
       "      <td>5</td>\n",
       "      <td>-0.093852</td>\n",
       "      <td>1</td>\n",
       "      <td>-1.162622</td>\n",
       "      <td>83</td>\n",
       "      <td>0.577669</td>\n",
       "      <td>6</td>\n",
       "      <td>24</td>\n",
       "      <td>0</td>\n",
       "      <td>-1.017806</td>\n",
       "    </tr>\n",
       "    <tr>\n",
       "      <th>109786</th>\n",
       "      <td>3</td>\n",
       "      <td>-0.539040</td>\n",
       "      <td>0</td>\n",
       "      <td>-0.461462</td>\n",
       "      <td>33</td>\n",
       "      <td>0.577669</td>\n",
       "      <td>6</td>\n",
       "      <td>20</td>\n",
       "      <td>1</td>\n",
       "      <td>0.545375</td>\n",
       "    </tr>\n",
       "    <tr>\n",
       "      <th>191035</th>\n",
       "      <td>1</td>\n",
       "      <td>-1.429415</td>\n",
       "      <td>1</td>\n",
       "      <td>1.035610</td>\n",
       "      <td>166</td>\n",
       "      <td>0.577669</td>\n",
       "      <td>6</td>\n",
       "      <td>1</td>\n",
       "      <td>0</td>\n",
       "      <td>1.717761</td>\n",
       "    </tr>\n",
       "    <tr>\n",
       "      <th>64151</th>\n",
       "      <td>1</td>\n",
       "      <td>1.241710</td>\n",
       "      <td>1</td>\n",
       "      <td>0.391301</td>\n",
       "      <td>97</td>\n",
       "      <td>-2.672595</td>\n",
       "      <td>2</td>\n",
       "      <td>38</td>\n",
       "      <td>0</td>\n",
       "      <td>-0.627011</td>\n",
       "    </tr>\n",
       "    <tr>\n",
       "      <th>242638</th>\n",
       "      <td>5</td>\n",
       "      <td>-0.687436</td>\n",
       "      <td>1</td>\n",
       "      <td>-1.238423</td>\n",
       "      <td>151</td>\n",
       "      <td>0.577669</td>\n",
       "      <td>6</td>\n",
       "      <td>23</td>\n",
       "      <td>0</td>\n",
       "      <td>0.936170</td>\n",
       "    </tr>\n",
       "  </tbody>\n",
       "</table>\n",
       "</div>"
      ],
      "text/plain": [
       "        vehicle_type  registration_year  gearbox     power  model  kilometer  \\\n",
       "176744             5          -0.093852        1 -1.162622     83   0.577669   \n",
       "109786             3          -0.539040        0 -0.461462     33   0.577669   \n",
       "191035             1          -1.429415        1  1.035610    166   0.577669   \n",
       "64151              1           1.241710        1  0.391301     97  -2.672595   \n",
       "242638             5          -0.687436        1 -1.238423    151   0.577669   \n",
       "\n",
       "        fuel_type  brand  repaired  postal_code  \n",
       "176744          6     24         0    -1.017806  \n",
       "109786          6     20         1     0.545375  \n",
       "191035          6      1         0     1.717761  \n",
       "64151           2     38         0    -0.627011  \n",
       "242638          6     23         0     0.936170  "
      ]
     },
     "execution_count": 65,
     "metadata": {},
     "output_type": "execute_result"
    }
   ],
   "source": [
    "encoder = OrdinalEncoder(dtype=int, handle_unknown = 'use_encoded_value', unknown_value=-1)\n",
    "\n",
    "features_train_oe = features_train.copy()\n",
    "features_test_oe = features_test.copy()\n",
    "\n",
    "features_train_oe[categorical] = encoder.fit_transform(features_train_oe[categorical])\n",
    "features_test_oe[categorical] = encoder.transform(features_test_oe[categorical])\n",
    "\n",
    "features_train_oe.head()\n",
    "features_test_oe.head()"
   ]
  },
  {
   "cell_type": "markdown",
   "metadata": {
    "id": "BUVJfsNedSa7"
   },
   "source": [
    "Модель LightGBM принимает категориальные признаки в виде типа данных `category`. Поэтому для данной модели изменю тип данных категориальных признаков."
   ]
  },
  {
   "cell_type": "code",
   "execution_count": 66,
   "metadata": {
    "executionInfo": {
     "elapsed": 2,
     "status": "ok",
     "timestamp": 1676398907970,
     "user": {
      "displayName": "Георгий Фролов",
      "userId": "16513831430412303697"
     },
     "user_tz": -180
    },
    "id": "IYkXgCAZdSa8"
   },
   "outputs": [],
   "source": [
    "features_train_boost = features_train\n",
    "features_train_boost[categorical] = features_train_boost[categorical].astype('category')\n",
    "features_test_boost = features_test\n",
    "features_test_boost[categorical] = features_test_boost[categorical].astype('category')"
   ]
  },
  {
   "cell_type": "code",
   "execution_count": 67,
   "metadata": {},
   "outputs": [
    {
     "data": {
      "text/html": [
       "<div>\n",
       "<style scoped>\n",
       "    .dataframe tbody tr th:only-of-type {\n",
       "        vertical-align: middle;\n",
       "    }\n",
       "\n",
       "    .dataframe tbody tr th {\n",
       "        vertical-align: top;\n",
       "    }\n",
       "\n",
       "    .dataframe thead th {\n",
       "        text-align: right;\n",
       "    }\n",
       "</style>\n",
       "<table border=\"1\" class=\"dataframe\">\n",
       "  <thead>\n",
       "    <tr style=\"text-align: right;\">\n",
       "      <th></th>\n",
       "      <th>vehicle_type</th>\n",
       "      <th>registration_year</th>\n",
       "      <th>gearbox</th>\n",
       "      <th>power</th>\n",
       "      <th>model</th>\n",
       "      <th>kilometer</th>\n",
       "      <th>fuel_type</th>\n",
       "      <th>brand</th>\n",
       "      <th>repaired</th>\n",
       "      <th>postal_code</th>\n",
       "    </tr>\n",
       "  </thead>\n",
       "  <tbody>\n",
       "    <tr>\n",
       "      <th>173108</th>\n",
       "      <td>sedan</td>\n",
       "      <td>-0.984227</td>\n",
       "      <td>manual</td>\n",
       "      <td>-0.082456</td>\n",
       "      <td>laguna</td>\n",
       "      <td>0.577669</td>\n",
       "      <td>petrol</td>\n",
       "      <td>renault</td>\n",
       "      <td>yes</td>\n",
       "      <td>-0.627011</td>\n",
       "    </tr>\n",
       "    <tr>\n",
       "      <th>54676</th>\n",
       "      <td>wagon</td>\n",
       "      <td>0.054543</td>\n",
       "      <td>manual</td>\n",
       "      <td>-0.347760</td>\n",
       "      <td>golf</td>\n",
       "      <td>0.577669</td>\n",
       "      <td>gasoline</td>\n",
       "      <td>volkswagen</td>\n",
       "      <td>no</td>\n",
       "      <td>0.154580</td>\n",
       "    </tr>\n",
       "    <tr>\n",
       "      <th>237217</th>\n",
       "      <td>wagon</td>\n",
       "      <td>0.944918</td>\n",
       "      <td>manual</td>\n",
       "      <td>-0.271959</td>\n",
       "      <td>golf</td>\n",
       "      <td>-0.099470</td>\n",
       "      <td>gasoline</td>\n",
       "      <td>volkswagen</td>\n",
       "      <td>no</td>\n",
       "      <td>1.717761</td>\n",
       "    </tr>\n",
       "    <tr>\n",
       "      <th>340225</th>\n",
       "      <td>sedan</td>\n",
       "      <td>-0.539040</td>\n",
       "      <td>manual</td>\n",
       "      <td>0.580803</td>\n",
       "      <td>3er</td>\n",
       "      <td>0.577669</td>\n",
       "      <td>petrol</td>\n",
       "      <td>bmw</td>\n",
       "      <td>no</td>\n",
       "      <td>0.154580</td>\n",
       "    </tr>\n",
       "    <tr>\n",
       "      <th>153220</th>\n",
       "      <td>wagon</td>\n",
       "      <td>-0.093852</td>\n",
       "      <td>auto</td>\n",
       "      <td>1.130362</td>\n",
       "      <td>a4</td>\n",
       "      <td>0.577669</td>\n",
       "      <td>gasoline</td>\n",
       "      <td>audi</td>\n",
       "      <td>no</td>\n",
       "      <td>0.545375</td>\n",
       "    </tr>\n",
       "    <tr>\n",
       "      <th>...</th>\n",
       "      <td>...</td>\n",
       "      <td>...</td>\n",
       "      <td>...</td>\n",
       "      <td>...</td>\n",
       "      <td>...</td>\n",
       "      <td>...</td>\n",
       "      <td>...</td>\n",
       "      <td>...</td>\n",
       "      <td>...</td>\n",
       "      <td>...</td>\n",
       "    </tr>\n",
       "    <tr>\n",
       "      <th>135778</th>\n",
       "      <td>sedan</td>\n",
       "      <td>-0.242248</td>\n",
       "      <td>auto</td>\n",
       "      <td>3.612848</td>\n",
       "      <td>a8</td>\n",
       "      <td>0.577669</td>\n",
       "      <td>petrol</td>\n",
       "      <td>audi</td>\n",
       "      <td>no</td>\n",
       "      <td>-0.627011</td>\n",
       "    </tr>\n",
       "    <tr>\n",
       "      <th>302782</th>\n",
       "      <td>small</td>\n",
       "      <td>-0.242248</td>\n",
       "      <td>manual</td>\n",
       "      <td>-1.219473</td>\n",
       "      <td>polo</td>\n",
       "      <td>0.577669</td>\n",
       "      <td>petrol</td>\n",
       "      <td>volkswagen</td>\n",
       "      <td>yes</td>\n",
       "      <td>-1.799396</td>\n",
       "    </tr>\n",
       "    <tr>\n",
       "      <th>149867</th>\n",
       "      <td>sedan</td>\n",
       "      <td>0.054543</td>\n",
       "      <td>manual</td>\n",
       "      <td>1.376715</td>\n",
       "      <td>3er</td>\n",
       "      <td>-1.860029</td>\n",
       "      <td>petrol</td>\n",
       "      <td>bmw</td>\n",
       "      <td>yes</td>\n",
       "      <td>1.326965</td>\n",
       "    </tr>\n",
       "    <tr>\n",
       "      <th>167346</th>\n",
       "      <td>sedan</td>\n",
       "      <td>1.241710</td>\n",
       "      <td>manual</td>\n",
       "      <td>-0.707815</td>\n",
       "      <td>fiesta</td>\n",
       "      <td>-0.099470</td>\n",
       "      <td>petrol</td>\n",
       "      <td>ford</td>\n",
       "      <td>no</td>\n",
       "      <td>1.326965</td>\n",
       "    </tr>\n",
       "    <tr>\n",
       "      <th>138195</th>\n",
       "      <td>small</td>\n",
       "      <td>-1.577811</td>\n",
       "      <td>manual</td>\n",
       "      <td>-0.840467</td>\n",
       "      <td>golf</td>\n",
       "      <td>-2.401740</td>\n",
       "      <td>petrol</td>\n",
       "      <td>volkswagen</td>\n",
       "      <td>yes</td>\n",
       "      <td>-1.408601</td>\n",
       "    </tr>\n",
       "  </tbody>\n",
       "</table>\n",
       "<p>225581 rows × 10 columns</p>\n",
       "</div>"
      ],
      "text/plain": [
       "       vehicle_type  registration_year gearbox     power   model  kilometer  \\\n",
       "173108        sedan          -0.984227  manual -0.082456  laguna   0.577669   \n",
       "54676         wagon           0.054543  manual -0.347760    golf   0.577669   \n",
       "237217        wagon           0.944918  manual -0.271959    golf  -0.099470   \n",
       "340225        sedan          -0.539040  manual  0.580803     3er   0.577669   \n",
       "153220        wagon          -0.093852    auto  1.130362      a4   0.577669   \n",
       "...             ...                ...     ...       ...     ...        ...   \n",
       "135778        sedan          -0.242248    auto  3.612848      a8   0.577669   \n",
       "302782        small          -0.242248  manual -1.219473    polo   0.577669   \n",
       "149867        sedan           0.054543  manual  1.376715     3er  -1.860029   \n",
       "167346        sedan           1.241710  manual -0.707815  fiesta  -0.099470   \n",
       "138195        small          -1.577811  manual -0.840467    golf  -2.401740   \n",
       "\n",
       "       fuel_type       brand repaired  postal_code  \n",
       "173108    petrol     renault      yes    -0.627011  \n",
       "54676   gasoline  volkswagen       no     0.154580  \n",
       "237217  gasoline  volkswagen       no     1.717761  \n",
       "340225    petrol         bmw       no     0.154580  \n",
       "153220  gasoline        audi       no     0.545375  \n",
       "...          ...         ...      ...          ...  \n",
       "135778    petrol        audi       no    -0.627011  \n",
       "302782    petrol  volkswagen      yes    -1.799396  \n",
       "149867    petrol         bmw      yes     1.326965  \n",
       "167346    petrol        ford       no     1.326965  \n",
       "138195    petrol  volkswagen      yes    -1.408601  \n",
       "\n",
       "[225581 rows x 10 columns]"
      ]
     },
     "execution_count": 67,
     "metadata": {},
     "output_type": "execute_result"
    }
   ],
   "source": [
    "features_train_boost"
   ]
  },
  {
   "cell_type": "code",
   "execution_count": 68,
   "metadata": {
    "executionInfo": {
     "elapsed": 3,
     "status": "ok",
     "timestamp": 1676398907971,
     "user": {
      "displayName": "Георгий Фролов",
      "userId": "16513831430412303697"
     },
     "user_tz": -180
    },
    "id": "5Dh1Ff6vdSa8"
   },
   "outputs": [],
   "source": [
    "cv = KFold(n_splits=5, shuffle=True, random_state=42)"
   ]
  },
  {
   "cell_type": "markdown",
   "metadata": {
    "id": "ca_DFe59dSa8"
   },
   "source": [
    "### Обучение моделей"
   ]
  },
  {
   "cell_type": "markdown",
   "metadata": {
    "id": "WU_Te2RQdSa8"
   },
   "source": [
    "Рассмотрю модели линейной регрессии, дерева решений, случайного леса, LightGBM и CatBoost. Создам списки, в которые будут записываться результаты по каждой модели."
   ]
  },
  {
   "cell_type": "code",
   "execution_count": 69,
   "metadata": {
    "executionInfo": {
     "elapsed": 2,
     "status": "ok",
     "timestamp": 1676398907971,
     "user": {
      "displayName": "Георгий Фролов",
      "userId": "16513831430412303697"
     },
     "user_tz": -180
    },
    "id": "KUBqtqCldSa8"
   },
   "outputs": [],
   "source": [
    "model = ['LinearRegression', 'DecisionTreeRegressor', 'RandomForestRegressor', 'CatBoostRegressor', 'LGBMRegressor']"
   ]
  },
  {
   "cell_type": "markdown",
   "metadata": {
    "id": "I-FFGi4zdSa8"
   },
   "source": [
    "**Линейная регрессия**"
   ]
  },
  {
   "cell_type": "markdown",
   "metadata": {
    "id": "JBTBmJntdSa8"
   },
   "source": [
    "Рассчитаю метрику RMSE для линейной регрессии. И посмотрю на время обучения модели."
   ]
  },
  {
   "cell_type": "code",
   "execution_count": 70,
   "metadata": {
    "colab": {
     "base_uri": "https://localhost:8080/"
    },
    "executionInfo": {
     "elapsed": 51622,
     "status": "ok",
     "timestamp": 1676398959591,
     "user": {
      "displayName": "Георгий Фролов",
      "userId": "16513831430412303697"
     },
     "user_tz": -180
    },
    "id": "EG8mSTk3dSa8",
    "outputId": "4986a690-0ca7-421b-965b-4f05f7b18194"
   },
   "outputs": [
    {
     "name": "stdout",
     "output_type": "stream",
     "text": [
      "RMSE for LinearRegression:  2663.88\n",
      "CPU times: user 1min 36s, sys: 3min 3s, total: 4min 39s\n",
      "Wall time: 4min 40s\n"
     ]
    }
   ],
   "source": [
    "%%time\n",
    "start = time.time()\n",
    "\n",
    "lr_model = LinearRegression().fit(features_train_ohe, target_train)\n",
    "\n",
    "finish = time.time()\n",
    "time_cvs_lr = round(finish - start, 2)\n",
    "\n",
    "lr_rmse = cross_val_score(lr_model,\n",
    "                            features_train_ohe,\n",
    "                            target_train,\n",
    "                            cv=cv,\n",
    "                            scoring='neg_root_mean_squared_error').mean()\n",
    "  \n",
    "rmse_lr = round(-lr_rmse, 2)\n",
    "\n",
    "print('RMSE for LinearRegression: ', rmse_lr)"
   ]
  },
  {
   "cell_type": "markdown",
   "metadata": {
    "id": "SUdOESi7dSa8"
   },
   "source": [
    "Далее узнаю время предсказания модели, предсказание буду делать на обучающей выборке."
   ]
  },
  {
   "cell_type": "code",
   "execution_count": 71,
   "metadata": {
    "colab": {
     "base_uri": "https://localhost:8080/"
    },
    "executionInfo": {
     "elapsed": 872,
     "status": "ok",
     "timestamp": 1676398960455,
     "user": {
      "displayName": "Георгий Фролов",
      "userId": "16513831430412303697"
     },
     "user_tz": -180
    },
    "id": "Jl_ZqmPsdSa8",
    "outputId": "1daaa54d-7a09-47cd-f258-6d7520663cc3"
   },
   "outputs": [
    {
     "name": "stdout",
     "output_type": "stream",
     "text": [
      "CPU times: user 271 ms, sys: 273 ms, total: 544 ms\n",
      "Wall time: 584 ms\n"
     ]
    }
   ],
   "source": [
    "%%time\n",
    "start = time.time()\n",
    "\n",
    "pred = lr_model.predict(features_train_ohe)\n",
    "\n",
    "finish = time.time()\n",
    "time_p_lr = round(finish - start, 2) "
   ]
  },
  {
   "cell_type": "markdown",
   "metadata": {
    "id": "LXcfAcUbdSa8"
   },
   "source": [
    "**Дерево решений**"
   ]
  },
  {
   "cell_type": "markdown",
   "metadata": {
    "id": "rTvR4YBvdSa8"
   },
   "source": [
    "Найду лучшие параметры и метрику RMSE с помощью GridSearchCV для модели дерева решений."
   ]
  },
  {
   "cell_type": "code",
   "execution_count": 72,
   "metadata": {
    "colab": {
     "base_uri": "https://localhost:8080/"
    },
    "executionInfo": {
     "elapsed": 5343,
     "status": "ok",
     "timestamp": 1676398965797,
     "user": {
      "displayName": "Георгий Фролов",
      "userId": "16513831430412303697"
     },
     "user_tz": -180
    },
    "id": "Kv3yebI9dSa9",
    "outputId": "13d3a0ca-8d44-4931-b87b-b05691d1a88e"
   },
   "outputs": [
    {
     "name": "stdout",
     "output_type": "stream",
     "text": [
      "RMSE for DecisionTreeRegressor:  2161.08\n",
      "Best params:  {'max_depth': 14, 'max_leaf_nodes': 100, 'min_samples_leaf': 10}\n",
      "CPU times: user 2.38 s, sys: 0 ns, total: 2.38 s\n",
      "Wall time: 2.42 s\n"
     ]
    }
   ],
   "source": [
    "%%time\n",
    "\n",
    "dt_model = DecisionTreeRegressor(random_state=42)\n",
    "\n",
    "#набор параметров, для поиска лучших\n",
    "# dt_params = {'max_depth': [int(x) for x in np.linspace(start=2, stop=50, num=5)],\n",
    "#               'max_leaf_nodes': [int(x) for x in np.linspace(start=20, stop=100, num=10)],\n",
    "#               'min_samples_leaf': [int(x) for x in np.linspace(start=10, stop=50, num=10)]}\n",
    "dt_params = {'max_depth': [14], 'max_leaf_nodes': [100], 'min_samples_leaf': [10]}\n",
    "\n",
    "gs_dt = GridSearchCV(dt_model, dt_params,\n",
    "                      cv=cv, n_jobs=-1,\n",
    "                     scoring='neg_root_mean_squared_error')\n",
    "start = time.time()\n",
    "\n",
    "model_gs_dt = gs_dt.fit(features_train_oe, target_train)\n",
    "\n",
    "finish = time.time()\n",
    "time_gs_dt = round(finish - start, 2)\n",
    "\n",
    "rmse_dt = round(-gs_dt.best_score_, 2)\n",
    "\n",
    "print('RMSE for DecisionTreeRegressor: ', rmse_dt)\n",
    "print('Best params: ', gs_dt.best_params_)\n",
    "#print('Time predict: ', gs_dt.cv_results_)"
   ]
  },
  {
   "cell_type": "markdown",
   "metadata": {
    "id": "Js6xAHPqdSa9"
   },
   "source": [
    "GridSearchCV выдал лучшие параметры и лучшую метрику RMSE. Сохраню эти данные и теперь посчитаю время предсказания модели с лучшими параметрами."
   ]
  },
  {
   "cell_type": "code",
   "execution_count": 73,
   "metadata": {
    "colab": {
     "base_uri": "https://localhost:8080/"
    },
    "executionInfo": {
     "elapsed": 12,
     "status": "ok",
     "timestamp": 1676398965797,
     "user": {
      "displayName": "Георгий Фролов",
      "userId": "16513831430412303697"
     },
     "user_tz": -180
    },
    "id": "Sya1PE67dSa9",
    "outputId": "77465f3e-16d2-4dc7-ece9-b66ae3fc38ff"
   },
   "outputs": [
    {
     "name": "stdout",
     "output_type": "stream",
     "text": [
      "CPU times: user 20.6 ms, sys: 0 ns, total: 20.6 ms\n",
      "Wall time: 19.7 ms\n"
     ]
    }
   ],
   "source": [
    "%%time\n",
    "start = time.time()\n",
    "\n",
    "pred = model_gs_dt.predict(features_train_oe)\n",
    "\n",
    "finish = time.time()\n",
    "time_p_dt = round(finish - start, 2) "
   ]
  },
  {
   "cell_type": "markdown",
   "metadata": {
    "id": "2W67swXSdSa9"
   },
   "source": [
    "**Случайный лес**"
   ]
  },
  {
   "cell_type": "markdown",
   "metadata": {
    "id": "stK7-YX2dSa9"
   },
   "source": [
    "Теперь также с помощью GridSearchCV найду лучшие параметры у случайного леса, вычислю RMSE и обучу модель."
   ]
  },
  {
   "cell_type": "code",
   "execution_count": 74,
   "metadata": {
    "colab": {
     "base_uri": "https://localhost:8080/"
    },
    "executionInfo": {
     "elapsed": 94143,
     "status": "ok",
     "timestamp": 1676399059932,
     "user": {
      "displayName": "Георгий Фролов",
      "userId": "16513831430412303697"
     },
     "user_tz": -180
    },
    "id": "uxG9g1lPdSa9",
    "outputId": "c96d7958-d6cb-4a4c-951f-6d9743342ab7"
   },
   "outputs": [
    {
     "name": "stdout",
     "output_type": "stream",
     "text": [
      "RMSE for DecisionTreeRegressor:  2106.19\n",
      "Best params:  {'max_depth': 13, 'max_leaf_nodes': 100, 'min_samples_leaf': 18, 'n_estimators': 40}\n",
      "CPU times: user 1min 2s, sys: 0 ns, total: 1min 2s\n",
      "Wall time: 1min 2s\n"
     ]
    }
   ],
   "source": [
    "%%time\n",
    "\n",
    "rf_model = RandomForestRegressor(random_state=42)\n",
    "\n",
    "#набор параметров, для поиска лучших\n",
    "# rf_params = {'n_estimators': range(10, 41, 5),\n",
    "#              'max_depth': range(5, 21, 4),\n",
    "#              'max_leaf_nodes': [25, 55, 80, 100],\n",
    "#              'min_samples_leaf': [3, 8, 13, 18]}\n",
    "\n",
    "rf_params = {'n_estimators': [40],\n",
    "             'max_depth': [13],\n",
    "             'max_leaf_nodes': [100],\n",
    "             'min_samples_leaf': [18]}\n",
    "\n",
    "gs_rf = GridSearchCV(rf_model, rf_params,\n",
    "                     cv=cv, n_jobs=-1,\n",
    "                     scoring='neg_root_mean_squared_error')\n",
    "\n",
    "start = time.time()\n",
    "\n",
    "model_gs_rf = gs_rf.fit(features_train_oe, target_train)\n",
    "\n",
    "finish = time.time()\n",
    "time_gs_rf = round(finish - start, 2)\n",
    "\n",
    "rmse_rf = round(-gs_rf.best_score_, 2)\n",
    "\n",
    "print('RMSE for DecisionTreeRegressor: ', rmse_rf)\n",
    "print('Best params: ', gs_rf.best_params_)"
   ]
  },
  {
   "cell_type": "markdown",
   "metadata": {
    "id": "yrfVq6S_dSa9"
   },
   "source": [
    "Узнаю время предсказания модели случайного леса."
   ]
  },
  {
   "cell_type": "code",
   "execution_count": 75,
   "metadata": {
    "colab": {
     "base_uri": "https://localhost:8080/"
    },
    "executionInfo": {
     "elapsed": 890,
     "status": "ok",
     "timestamp": 1676399060814,
     "user": {
      "displayName": "Георгий Фролов",
      "userId": "16513831430412303697"
     },
     "user_tz": -180
    },
    "id": "y8zFoMIpdSa9",
    "outputId": "b07d2bcc-2928-4921-d191-b296661becc9"
   },
   "outputs": [
    {
     "name": "stdout",
     "output_type": "stream",
     "text": [
      "CPU times: user 512 ms, sys: 0 ns, total: 512 ms\n",
      "Wall time: 517 ms\n"
     ]
    }
   ],
   "source": [
    "%%time\n",
    "start = time.time()\n",
    "\n",
    "pred = model_gs_rf.predict(features_train_oe)\n",
    "\n",
    "finish = time.time()\n",
    "time_p_rf = round(finish - start, 2)"
   ]
  },
  {
   "cell_type": "markdown",
   "metadata": {
    "id": "Paac0RGBdSa9"
   },
   "source": [
    "**CatBoostRegressor**"
   ]
  },
  {
   "cell_type": "markdown",
   "metadata": {
    "id": "M5Zrq3CydSa-"
   },
   "source": [
    "Опять же с помощью GridSearchCV найду лучшие параметры, рассчитаю RMSE и обучу модель."
   ]
  },
  {
   "cell_type": "code",
   "execution_count": 76,
   "metadata": {
    "colab": {
     "base_uri": "https://localhost:8080/"
    },
    "executionInfo": {
     "elapsed": 518697,
     "status": "ok",
     "timestamp": 1676399579510,
     "user": {
      "displayName": "Георгий Фролов",
      "userId": "16513831430412303697"
     },
     "user_tz": -180
    },
    "id": "WUOGpXHKdSa-",
    "outputId": "c4bbc5c6-e014-49f1-eacc-01f06e509753"
   },
   "outputs": [
    {
     "name": "stdout",
     "output_type": "stream",
     "text": [
      "RMSE for DecisionTreeRegressor:  1658.54\n",
      "Best params:  {'depth': 5, 'iterations': 500, 'learning_rate': 0.25}\n",
      "CPU times: user 7min 15s, sys: 0 ns, total: 7min 15s\n",
      "Wall time: 7min 22s\n"
     ]
    }
   ],
   "source": [
    "%%time\n",
    "\n",
    "cbr_model = CatBoostRegressor(random_state=42, loss_function='RMSE', logging_level='Silent', cat_features=categorical)\n",
    "#набор параметров, для поиска лучших\n",
    "# cbr_params = {'iterations': [50, 500],\n",
    "#              'depth': [5, 50],\n",
    "#              'learning_rate': [0.1, 0.25]}\n",
    "\n",
    "cbr_params = {'iterations': [500],\n",
    "             'depth': [5],\n",
    "             'learning_rate': [0.25]}\n",
    "\n",
    "gs_cbr = GridSearchCV(cbr_model, cbr_params,\n",
    "                     cv=cv, n_jobs=-1,\n",
    "                     scoring='neg_root_mean_squared_error')\n",
    "\n",
    "start = time.time()\n",
    "model_gs_cbr = gs_cbr.fit(features_train_oe, target_train)\n",
    "\n",
    "finish = time.time()\n",
    "time_gs_cbr = round(finish - start, 2)\n",
    "\n",
    "rmse_cbr = round(-gs_cbr.best_score_, 2)\n",
    "\n",
    "print('RMSE for DecisionTreeRegressor: ', rmse_cbr)\n",
    "print('Best params: ', gs_cbr.best_params_)"
   ]
  },
  {
   "cell_type": "markdown",
   "metadata": {
    "id": "aagvsvgodSa-"
   },
   "source": [
    "Далее узнаю время предсказания модели на обучающей выборке."
   ]
  },
  {
   "cell_type": "code",
   "execution_count": 77,
   "metadata": {
    "colab": {
     "base_uri": "https://localhost:8080/"
    },
    "executionInfo": {
     "elapsed": 1147,
     "status": "ok",
     "timestamp": 1676399580647,
     "user": {
      "displayName": "Георгий Фролов",
      "userId": "16513831430412303697"
     },
     "user_tz": -180
    },
    "id": "Eoh6zHtydSa-",
    "outputId": "b87d8309-52f9-4578-e2d2-ce85a8e80a7f"
   },
   "outputs": [
    {
     "name": "stdout",
     "output_type": "stream",
     "text": [
      "CPU times: user 1.12 s, sys: 0 ns, total: 1.12 s\n",
      "Wall time: 1.12 s\n"
     ]
    }
   ],
   "source": [
    "%%time\n",
    "start = time.time()\n",
    "\n",
    "pred = model_gs_cbr.predict(features_train_oe)\n",
    "\n",
    "finish = time.time()\n",
    "time_p_cbr = round(finish - start, 2) "
   ]
  },
  {
   "cell_type": "markdown",
   "metadata": {
    "id": "ZGG1as7XdSa-"
   },
   "source": [
    "**LightGBM**"
   ]
  },
  {
   "cell_type": "code",
   "execution_count": 78,
   "metadata": {
    "colab": {
     "base_uri": "https://localhost:8080/"
    },
    "executionInfo": {
     "elapsed": 74061,
     "status": "ok",
     "timestamp": 1676399654706,
     "user": {
      "displayName": "Георгий Фролов",
      "userId": "16513831430412303697"
     },
     "user_tz": -180
    },
    "id": "Jfw5-A4WdSa-",
    "outputId": "41396023-aac2-487d-c4d6-c48e4a9f994f",
    "scrolled": false
   },
   "outputs": [
    {
     "name": "stdout",
     "output_type": "stream",
     "text": [
      "RMSE for DecisionTreeRegressor:  1588.0\n",
      "Best params:  {'learning_rate': 0.1, 'max_depth': 50, 'n_estimators': 500, 'num_leaves': 100}\n",
      "CPU times: user 1h 57min 4s, sys: 28.8 s, total: 1h 57min 33s\n",
      "Wall time: 1h 58min 21s\n"
     ]
    }
   ],
   "source": [
    "%%time\n",
    "\n",
    "lgbm_model = LGBMRegressor(random_state=42, objective=\"RMSE\")\n",
    "#набор параметров, для поиска лучших\n",
    "# lgbm_params = {'n_estimators': [50, 500],\n",
    "#              'max_depth': [5, 50],\n",
    "#              'learning_rate': [0.1, 0.25],\n",
    "#                'num_leaves': [50, 100]}\n",
    "\n",
    "lgbm_params = {'n_estimators': [500],\n",
    "             'max_depth': [50],\n",
    "             'learning_rate': [0.1],\n",
    "               'num_leaves': [100]}\n",
    "\n",
    "gs_lgbm = GridSearchCV(lgbm_model, lgbm_params,\n",
    "                     cv=cv, n_jobs=-1,\n",
    "                     scoring='neg_root_mean_squared_error',\n",
    "                     verbose=False)\n",
    "\n",
    "start = time.time()\n",
    "\n",
    "model_gs_lgbm = gs_lgbm.fit(features_train_boost, target_train)\n",
    "\n",
    "finish = time.time()\n",
    "time_gs_lgbm = round(finish - start, 2)\n",
    "\n",
    "rmse_lgbm = round(-gs_lgbm.best_score_, 2)\n",
    "\n",
    "print('RMSE for DecisionTreeRegressor: ', rmse_lgbm)\n",
    "print('Best params: ', gs_lgbm.best_params_)"
   ]
  },
  {
   "cell_type": "code",
   "execution_count": 79,
   "metadata": {
    "colab": {
     "base_uri": "https://localhost:8080/"
    },
    "executionInfo": {
     "elapsed": 15751,
     "status": "ok",
     "timestamp": 1676399670448,
     "user": {
      "displayName": "Георгий Фролов",
      "userId": "16513831430412303697"
     },
     "user_tz": -180
    },
    "id": "4sIhhX40dSa-",
    "outputId": "95cc523f-2687-4224-e17b-4ff171352a50"
   },
   "outputs": [
    {
     "name": "stdout",
     "output_type": "stream",
     "text": [
      "CPU times: user 14.9 s, sys: 0 ns, total: 14.9 s\n",
      "Wall time: 15.3 s\n"
     ]
    }
   ],
   "source": [
    "%%time\n",
    "start = time.time()\n",
    "\n",
    "pred = model_gs_lgbm.predict(features_train_boost)\n",
    "\n",
    "finish = time.time()\n",
    "time_p_lgbm = round(finish - start, 2) "
   ]
  },
  {
   "cell_type": "markdown",
   "metadata": {
    "id": "vyZXP4OcsNlo"
   },
   "source": [
    "**Вывод:**\n",
    "\n",
    "В данном разделе было выполнено обучение моделей, в том числе:\n",
    "\n",
    "1. Произведена подготовка признаков для обучения:\n",
    " - датасет разделен на на признаки и целевой признак;\n",
    " - датасет разделен на две выборки - обучающую и тестовую;\n",
    " - произведена кодировка категориальных признаков методами OHE и OE, а для модели LightGBM категориальные признаки приведены к типу данных - `category`;\n",
    " проведено масштабирование количественных признаков.\n",
    "2. Выролнен подбор лучших параметров для обучения моделей;\n",
    "3. Проведено обучение моделей:\n",
    " - LinearRegression;\n",
    " - DecisionTreeRegressor;\n",
    " - RandomForestRegressor;\n",
    " - CatBoostRegressor;\n",
    " - LGBMRegressor.\n",
    "4. Рассчитана метрика RMSE для каждой модели.\n",
    "5. Посчитано время обучения и время предсказания моделей."
   ]
  },
  {
   "cell_type": "markdown",
   "metadata": {
    "id": "k4Kf2jTDdSa_"
   },
   "source": [
    "## Анализ моделей"
   ]
  },
  {
   "cell_type": "markdown",
   "metadata": {
    "id": "ipHwO2ATxWOm"
   },
   "source": [
    "Соберу все полученные данные на этапе обучения моделей и проанализурую полученные результаты: время обучения, время предсказания и качество моделей и выберу лучшую модель."
   ]
  },
  {
   "cell_type": "code",
   "execution_count": 80,
   "metadata": {
    "colab": {
     "base_uri": "https://localhost:8080/",
     "height": 206
    },
    "executionInfo": {
     "elapsed": 6,
     "status": "ok",
     "timestamp": 1676399670449,
     "user": {
      "displayName": "Георгий Фролов",
      "userId": "16513831430412303697"
     },
     "user_tz": -180
    },
    "id": "w_CmIVoadSa_",
    "outputId": "acc7aa46-7ec6-4efa-8199-9e501c1c00e2"
   },
   "outputs": [
    {
     "data": {
      "text/html": [
       "<div>\n",
       "<style scoped>\n",
       "    .dataframe tbody tr th:only-of-type {\n",
       "        vertical-align: middle;\n",
       "    }\n",
       "\n",
       "    .dataframe tbody tr th {\n",
       "        vertical-align: top;\n",
       "    }\n",
       "\n",
       "    .dataframe thead th {\n",
       "        text-align: right;\n",
       "    }\n",
       "</style>\n",
       "<table border=\"1\" class=\"dataframe\">\n",
       "  <thead>\n",
       "    <tr style=\"text-align: right;\">\n",
       "      <th></th>\n",
       "      <th>RMSE_score</th>\n",
       "      <th>Time_fit</th>\n",
       "      <th>Time_predict</th>\n",
       "    </tr>\n",
       "  </thead>\n",
       "  <tbody>\n",
       "    <tr>\n",
       "      <th>LinearRegression</th>\n",
       "      <td>2663.88</td>\n",
       "      <td>54.54</td>\n",
       "      <td>0.58</td>\n",
       "    </tr>\n",
       "    <tr>\n",
       "      <th>DecisionTreeRegressor</th>\n",
       "      <td>2161.08</td>\n",
       "      <td>2.42</td>\n",
       "      <td>0.02</td>\n",
       "    </tr>\n",
       "    <tr>\n",
       "      <th>RandomForestRegressor</th>\n",
       "      <td>2106.19</td>\n",
       "      <td>62.87</td>\n",
       "      <td>0.52</td>\n",
       "    </tr>\n",
       "    <tr>\n",
       "      <th>CatBoostRegressor</th>\n",
       "      <td>1658.54</td>\n",
       "      <td>442.08</td>\n",
       "      <td>1.12</td>\n",
       "    </tr>\n",
       "    <tr>\n",
       "      <th>LGBMRegressor</th>\n",
       "      <td>1588.00</td>\n",
       "      <td>7101.72</td>\n",
       "      <td>15.32</td>\n",
       "    </tr>\n",
       "  </tbody>\n",
       "</table>\n",
       "</div>"
      ],
      "text/plain": [
       "                       RMSE_score  Time_fit  Time_predict\n",
       "LinearRegression          2663.88     54.54          0.58\n",
       "DecisionTreeRegressor     2161.08      2.42          0.02\n",
       "RandomForestRegressor     2106.19     62.87          0.52\n",
       "CatBoostRegressor         1658.54    442.08          1.12\n",
       "LGBMRegressor             1588.00   7101.72         15.32"
      ]
     },
     "execution_count": 80,
     "metadata": {},
     "output_type": "execute_result"
    }
   ],
   "source": [
    "results = pd.DataFrame({'RMSE_score' : [rmse_lr, rmse_dt, rmse_rf, rmse_cbr, rmse_lgbm],\n",
    "                        'Time_fit' : [time_cvs_lr, time_gs_dt, time_gs_rf, time_gs_cbr, time_gs_lgbm],\n",
    "                        'Time_predict' : [time_p_lr, time_p_dt, time_p_rf, time_p_cbr, time_p_lgbm]}, index=model).sort_values(by='RMSE_score', ascending=False)\n",
    "results"
   ]
  },
  {
   "cell_type": "markdown",
   "metadata": {
    "id": "wiDD2R4f4w-u"
   },
   "source": [
    "Рассмотрю критерии, которые важны заказчику:\n",
    "- качество предсказания;\n",
    "- время обучения модели;\n",
    "- время предсказания модели;\n",
    "- значение метрики RMSE должно быть меньше 2500.\n",
    "\n",
    "Рассматривая результаты, отбраженные в таблице, можно заметить, что худший результат показывает модель LinearRegression, который не соответствует требованию заказчика - значение метрики RMSE должно быть меньше 2500. Данную модель дальше рассматривать не буду.\n",
    "\n",
    "Оставшиеся четыре модели соответствуют данному требованию. Быстрее всего обычается модель дерева решений, а лучший результат показывает модель  \n",
    "\n",
    "Быстрее всего обучается и предсказывает модель DecisionTreeRegressor, но у нее хоть и соответствует метрика RMSE заявленому качество, но она хуже, чем у оставшихся моделей. У RandomForestRegressor, чуть лучше результат, но обучение занимает больше времени.\n",
    "\n",
    "Лучший результат метрики качества RMSE показывает модель LGBMRegressor, он не много лучше модели CatBoostRegressor, но модель LGBMR обучается почти в 7 раз быстрее, хоть и предсказывает дольше всех моделей, но это не критично, так как предсказание моделей длится не дольше нескольких секунд.\n",
    "\n",
    "Поэтому опираясь на критерии заказчика лучшей моделью выбираю LGBMRegressor и теперь проверю ее качество на тестовой выборке.\n",
    "\n"
   ]
  },
  {
   "cell_type": "code",
   "execution_count": 81,
   "metadata": {
    "colab": {
     "base_uri": "https://localhost:8080/"
    },
    "executionInfo": {
     "elapsed": 2920,
     "status": "ok",
     "timestamp": 1676399673364,
     "user": {
      "displayName": "Георгий Фролов",
      "userId": "16513831430412303697"
     },
     "user_tz": -180
    },
    "id": "ax22Tez2AnxQ",
    "outputId": "80e245ce-0835-4951-be93-81dd25213cfe"
   },
   "outputs": [
    {
     "name": "stdout",
     "output_type": "stream",
     "text": [
      "Время предсказания модели на тестовой выборке 4.95\n",
      "Итоговый RMSE на тестовой выборке: 1574.04\n",
      "CPU times: user 4.99 s, sys: 0 ns, total: 4.99 s\n",
      "Wall time: 4.96 s\n"
     ]
    }
   ],
   "source": [
    "%%time\n",
    "start = time.time()\n",
    "\n",
    "final_pred = model_gs_lgbm.predict(features_test_boost)\n",
    "\n",
    "finish = time.time()\n",
    "time_p_test = round(finish - start, 2) \n",
    "\n",
    "rmse_test = mean_squared_error(target_test, final_pred, squared=False)\n",
    "\n",
    "print(f'Время предсказания модели на тестовой выборке {time_p_test}')\n",
    "print(f'Итоговый RMSE на тестовой выборке: {round(rmse_test, 2)}')"
   ]
  },
  {
   "cell_type": "markdown",
   "metadata": {
    "id": "c7U7VbYrE0CB"
   },
   "source": [
    "Значение RMSE модели показало отличный результат, он практически не отличается от значения на обучающей выборки. Значит модель можно использовать и она подходит по критериям Заказчику."
   ]
  },
  {
   "cell_type": "markdown",
   "metadata": {
    "id": "z4BakyIFFxGX"
   },
   "source": [
    "# Итоговый вывод"
   ]
  },
  {
   "cell_type": "markdown",
   "metadata": {
    "id": "hf00Fp-oF4jm"
   },
   "source": [
    "В данном проекте были выполнены следующие задачи:\n",
    "- изучены, обработаны и приведены в соответствие данные датасета содержащего пропуски, дубликаты, аномальные значения, выбросы и лишние признаки;\n",
    "- подготовлены выборки для обучения моделей;\n",
    "- обучены две бустинг модели, модель линейной регрессии, ансамблевая модель - случайный лес и модель решающего дерева;\n",
    "- качество моделей рассмотрено на метрике RMSE;\n",
    "- проанализированы результаты обученных моделей на соответствие критерий выставленных Заказчиком.\n",
    "\n",
    "Лучшей моделью выбрана модель LGBMRegressor, она показывает лучший результат при средней скорости в сравнении со всеми обученными моделями."
   ]
  }
 ],
 "metadata": {
  "ExecuteTimeLog": [
   {
    "duration": 372,
    "start_time": "2023-02-08T16:14:46.304Z"
   },
   {
    "duration": 3369,
    "start_time": "2023-02-08T16:16:19.945Z"
   },
   {
    "duration": 22,
    "start_time": "2023-02-08T16:17:37.156Z"
   },
   {
    "duration": 11,
    "start_time": "2023-02-08T16:17:48.413Z"
   },
   {
    "duration": 126,
    "start_time": "2023-02-08T16:17:56.047Z"
   },
   {
    "duration": 128,
    "start_time": "2023-02-08T16:18:31.570Z"
   },
   {
    "duration": 62,
    "start_time": "2023-02-08T16:18:59.524Z"
   },
   {
    "duration": 95,
    "start_time": "2023-02-08T16:20:35.501Z"
   },
   {
    "duration": 484,
    "start_time": "2023-02-08T16:23:34.223Z"
   },
   {
    "duration": 7,
    "start_time": "2023-02-08T16:28:57.652Z"
   },
   {
    "duration": 8,
    "start_time": "2023-02-08T16:29:17.353Z"
   },
   {
    "duration": 3,
    "start_time": "2023-02-08T16:29:36.183Z"
   },
   {
    "duration": 118,
    "start_time": "2023-02-08T16:29:42.597Z"
   },
   {
    "duration": 69,
    "start_time": "2023-02-08T16:32:14.795Z"
   },
   {
    "duration": 469,
    "start_time": "2023-02-08T16:39:54.337Z"
   },
   {
    "duration": 461,
    "start_time": "2023-02-08T16:40:03.622Z"
   },
   {
    "duration": 2447,
    "start_time": "2023-02-08T16:47:22.221Z"
   },
   {
    "duration": 16,
    "start_time": "2023-02-08T16:48:40.123Z"
   },
   {
    "duration": 500,
    "start_time": "2023-02-08T16:49:02.978Z"
   },
   {
    "duration": 161,
    "start_time": "2023-02-08T16:49:12.337Z"
   },
   {
    "duration": 908,
    "start_time": "2023-02-08T16:49:56.249Z"
   },
   {
    "duration": 1840,
    "start_time": "2023-02-09T13:33:19.919Z"
   },
   {
    "duration": 1225,
    "start_time": "2023-02-09T13:35:05.553Z"
   },
   {
    "duration": 3480,
    "start_time": "2023-02-09T13:35:06.780Z"
   },
   {
    "duration": 27,
    "start_time": "2023-02-09T13:35:10.263Z"
   },
   {
    "duration": 187,
    "start_time": "2023-02-09T13:35:10.293Z"
   },
   {
    "duration": 210,
    "start_time": "2023-02-09T13:35:10.483Z"
   },
   {
    "duration": 157,
    "start_time": "2023-02-09T13:35:10.696Z"
   },
   {
    "duration": 138,
    "start_time": "2023-02-09T13:35:10.856Z"
   },
   {
    "duration": 533,
    "start_time": "2023-02-09T13:35:11.005Z"
   },
   {
    "duration": 500,
    "start_time": "2023-02-09T13:35:11.540Z"
   },
   {
    "duration": 479,
    "start_time": "2023-02-09T13:35:12.043Z"
   },
   {
    "duration": 856,
    "start_time": "2023-02-09T13:35:12.525Z"
   },
   {
    "duration": 2344,
    "start_time": "2023-02-09T13:35:13.383Z"
   },
   {
    "duration": 759,
    "start_time": "2023-02-09T13:35:15.730Z"
   },
   {
    "duration": 107,
    "start_time": "2023-02-09T13:37:18.012Z"
   },
   {
    "duration": 1221,
    "start_time": "2023-02-09T13:38:15.306Z"
   },
   {
    "duration": 187,
    "start_time": "2023-02-09T13:38:37.834Z"
   },
   {
    "duration": 186,
    "start_time": "2023-02-09T13:39:18.839Z"
   },
   {
    "duration": 168,
    "start_time": "2023-02-09T13:39:32.093Z"
   },
   {
    "duration": 267,
    "start_time": "2023-02-09T13:39:51.377Z"
   },
   {
    "duration": 4,
    "start_time": "2023-02-09T13:58:04.784Z"
   },
   {
    "duration": 5,
    "start_time": "2023-02-09T13:58:22.025Z"
   },
   {
    "duration": 419,
    "start_time": "2023-02-09T13:58:45.748Z"
   },
   {
    "duration": 1214,
    "start_time": "2023-02-09T14:10:11.152Z"
   },
   {
    "duration": 882,
    "start_time": "2023-02-09T14:10:12.368Z"
   },
   {
    "duration": 19,
    "start_time": "2023-02-09T14:10:13.252Z"
   },
   {
    "duration": 189,
    "start_time": "2023-02-09T14:10:13.273Z"
   },
   {
    "duration": 168,
    "start_time": "2023-02-09T14:10:13.464Z"
   },
   {
    "duration": 164,
    "start_time": "2023-02-09T14:10:13.634Z"
   },
   {
    "duration": 113,
    "start_time": "2023-02-09T14:10:13.804Z"
   },
   {
    "duration": 473,
    "start_time": "2023-02-09T14:10:13.918Z"
   },
   {
    "duration": 59,
    "start_time": "2023-02-09T14:10:14.393Z"
   },
   {
    "duration": 5,
    "start_time": "2023-02-09T14:10:14.455Z"
   },
   {
    "duration": 546,
    "start_time": "2023-02-09T14:10:14.461Z"
   },
   {
    "duration": 505,
    "start_time": "2023-02-09T14:10:15.010Z"
   },
   {
    "duration": 1446,
    "start_time": "2023-02-09T14:10:15.517Z"
   },
   {
    "duration": 0,
    "start_time": "2023-02-09T14:10:16.965Z"
   },
   {
    "duration": 0,
    "start_time": "2023-02-09T14:10:16.966Z"
   },
   {
    "duration": 206,
    "start_time": "2023-02-09T14:26:06.959Z"
   },
   {
    "duration": 176,
    "start_time": "2023-02-09T14:26:16.159Z"
   },
   {
    "duration": 161,
    "start_time": "2023-02-09T14:26:26.474Z"
   },
   {
    "duration": 156,
    "start_time": "2023-02-09T14:26:46.597Z"
   },
   {
    "duration": 1096,
    "start_time": "2023-02-09T14:43:20.168Z"
   },
   {
    "duration": 2934,
    "start_time": "2023-02-09T14:43:21.266Z"
   },
   {
    "duration": 24,
    "start_time": "2023-02-09T14:43:24.201Z"
   },
   {
    "duration": 147,
    "start_time": "2023-02-09T14:43:24.227Z"
   },
   {
    "duration": 144,
    "start_time": "2023-02-09T14:43:24.376Z"
   },
   {
    "duration": 144,
    "start_time": "2023-02-09T14:43:24.522Z"
   },
   {
    "duration": 95,
    "start_time": "2023-02-09T14:43:24.668Z"
   },
   {
    "duration": 501,
    "start_time": "2023-02-09T14:43:24.765Z"
   },
   {
    "duration": 25,
    "start_time": "2023-02-09T14:43:25.267Z"
   },
   {
    "duration": 38,
    "start_time": "2023-02-09T14:43:25.304Z"
   },
   {
    "duration": 5,
    "start_time": "2023-02-09T14:43:25.343Z"
   },
   {
    "duration": 265,
    "start_time": "2023-02-09T14:43:25.350Z"
   },
   {
    "duration": 169,
    "start_time": "2023-02-09T14:43:25.616Z"
   },
   {
    "duration": 177,
    "start_time": "2023-02-09T14:43:25.787Z"
   },
   {
    "duration": 1620,
    "start_time": "2023-02-09T14:43:25.965Z"
   },
   {
    "duration": 573,
    "start_time": "2023-02-09T14:43:27.588Z"
   },
   {
    "duration": 1104,
    "start_time": "2023-02-09T14:46:13.328Z"
   },
   {
    "duration": 854,
    "start_time": "2023-02-09T14:46:14.434Z"
   },
   {
    "duration": 31,
    "start_time": "2023-02-09T14:46:15.290Z"
   },
   {
    "duration": 151,
    "start_time": "2023-02-09T14:46:15.323Z"
   },
   {
    "duration": 139,
    "start_time": "2023-02-09T14:46:15.475Z"
   },
   {
    "duration": 150,
    "start_time": "2023-02-09T14:46:15.617Z"
   },
   {
    "duration": 101,
    "start_time": "2023-02-09T14:46:15.769Z"
   },
   {
    "duration": 493,
    "start_time": "2023-02-09T14:46:15.872Z"
   },
   {
    "duration": 37,
    "start_time": "2023-02-09T14:46:16.367Z"
   },
   {
    "duration": 34,
    "start_time": "2023-02-09T14:46:16.416Z"
   },
   {
    "duration": 5,
    "start_time": "2023-02-09T14:46:16.451Z"
   },
   {
    "duration": 274,
    "start_time": "2023-02-09T14:46:16.458Z"
   },
   {
    "duration": 226,
    "start_time": "2023-02-09T14:46:16.734Z"
   },
   {
    "duration": 181,
    "start_time": "2023-02-09T14:46:16.962Z"
   },
   {
    "duration": 1513,
    "start_time": "2023-02-09T14:46:17.145Z"
   },
   {
    "duration": 544,
    "start_time": "2023-02-09T14:46:18.660Z"
   },
   {
    "duration": 78,
    "start_time": "2023-02-09T14:46:59.838Z"
   },
   {
    "duration": 87,
    "start_time": "2023-02-09T14:47:34.844Z"
   },
   {
    "duration": 79,
    "start_time": "2023-02-09T15:26:41.112Z"
   },
   {
    "duration": 0,
    "start_time": "2023-02-09T15:27:42.118Z"
   },
   {
    "duration": 46244,
    "start_time": "2023-02-09T15:27:47.249Z"
   },
   {
    "duration": 134,
    "start_time": "2023-02-09T15:30:02.504Z"
   },
   {
    "duration": 422,
    "start_time": "2023-02-09T15:30:08.962Z"
   },
   {
    "duration": 957,
    "start_time": "2023-02-09T15:31:01.181Z"
   },
   {
    "duration": 408,
    "start_time": "2023-02-09T15:31:21.086Z"
   },
   {
    "duration": 382,
    "start_time": "2023-02-09T15:31:40.530Z"
   },
   {
    "duration": 75,
    "start_time": "2023-02-09T15:39:38.776Z"
   },
   {
    "duration": 5,
    "start_time": "2023-02-09T15:39:47.851Z"
   },
   {
    "duration": 75,
    "start_time": "2023-02-09T15:40:10.779Z"
   },
   {
    "duration": 72,
    "start_time": "2023-02-09T15:41:23.474Z"
   },
   {
    "duration": 76,
    "start_time": "2023-02-09T15:41:39.375Z"
   },
   {
    "duration": 4,
    "start_time": "2023-02-09T15:42:06.877Z"
   },
   {
    "duration": 73,
    "start_time": "2023-02-09T15:42:19.661Z"
   },
   {
    "duration": 74,
    "start_time": "2023-02-09T15:42:38.759Z"
   },
   {
    "duration": 364,
    "start_time": "2023-02-09T15:43:49.227Z"
   },
   {
    "duration": 5,
    "start_time": "2023-02-09T15:46:24.334Z"
   },
   {
    "duration": 499,
    "start_time": "2023-02-09T15:46:27.970Z"
   },
   {
    "duration": 6,
    "start_time": "2023-02-09T15:47:26.900Z"
   },
   {
    "duration": 382,
    "start_time": "2023-02-09T15:47:29.113Z"
   },
   {
    "duration": 3,
    "start_time": "2023-02-09T15:47:45.831Z"
   },
   {
    "duration": 4,
    "start_time": "2023-02-09T15:49:04.476Z"
   },
   {
    "duration": 178,
    "start_time": "2023-02-09T15:49:08.308Z"
   },
   {
    "duration": 4,
    "start_time": "2023-02-09T15:52:59.563Z"
   },
   {
    "duration": 309,
    "start_time": "2023-02-09T15:53:01.339Z"
   },
   {
    "duration": 4,
    "start_time": "2023-02-09T15:53:27.799Z"
   },
   {
    "duration": 376,
    "start_time": "2023-02-09T15:53:29.834Z"
   },
   {
    "duration": 4,
    "start_time": "2023-02-09T15:54:05.464Z"
   },
   {
    "duration": 388,
    "start_time": "2023-02-09T15:54:08.736Z"
   },
   {
    "duration": 4,
    "start_time": "2023-02-09T15:56:30.963Z"
   },
   {
    "duration": 524,
    "start_time": "2023-02-09T15:56:32.396Z"
   },
   {
    "duration": 5,
    "start_time": "2023-02-09T15:56:54.248Z"
   },
   {
    "duration": 122,
    "start_time": "2023-02-09T15:56:56.082Z"
   },
   {
    "duration": 4,
    "start_time": "2023-02-09T15:57:49.495Z"
   },
   {
    "duration": 404,
    "start_time": "2023-02-09T15:57:50.921Z"
   },
   {
    "duration": 10,
    "start_time": "2023-02-09T16:08:53.795Z"
   },
   {
    "duration": 10,
    "start_time": "2023-02-09T16:09:10.971Z"
   },
   {
    "duration": 87,
    "start_time": "2023-02-09T16:11:28.439Z"
   },
   {
    "duration": 82,
    "start_time": "2023-02-09T16:11:55.720Z"
   },
   {
    "duration": 9,
    "start_time": "2023-02-09T16:13:08.140Z"
   },
   {
    "duration": 75,
    "start_time": "2023-02-09T16:13:27.808Z"
   },
   {
    "duration": 9,
    "start_time": "2023-02-09T16:13:49.726Z"
   },
   {
    "duration": 9,
    "start_time": "2023-02-09T16:13:56.326Z"
   },
   {
    "duration": 28,
    "start_time": "2023-02-09T16:50:04.620Z"
   },
   {
    "duration": 76,
    "start_time": "2023-02-09T16:50:18.528Z"
   },
   {
    "duration": 78,
    "start_time": "2023-02-09T16:51:19.658Z"
   },
   {
    "duration": 1129,
    "start_time": "2023-02-09T16:51:34.422Z"
   },
   {
    "duration": 830,
    "start_time": "2023-02-09T16:51:35.553Z"
   },
   {
    "duration": 23,
    "start_time": "2023-02-09T16:51:36.385Z"
   },
   {
    "duration": 139,
    "start_time": "2023-02-09T16:51:36.410Z"
   },
   {
    "duration": 133,
    "start_time": "2023-02-09T16:51:36.551Z"
   },
   {
    "duration": 183,
    "start_time": "2023-02-09T16:51:36.686Z"
   },
   {
    "duration": 116,
    "start_time": "2023-02-09T16:51:36.871Z"
   },
   {
    "duration": 473,
    "start_time": "2023-02-09T16:51:36.988Z"
   },
   {
    "duration": 25,
    "start_time": "2023-02-09T16:51:37.462Z"
   },
   {
    "duration": 43,
    "start_time": "2023-02-09T16:51:37.489Z"
   },
   {
    "duration": 5,
    "start_time": "2023-02-09T16:51:37.534Z"
   },
   {
    "duration": 107,
    "start_time": "2023-02-09T16:51:37.540Z"
   },
   {
    "duration": 234,
    "start_time": "2023-02-09T16:51:37.648Z"
   },
   {
    "duration": 174,
    "start_time": "2023-02-09T16:51:37.883Z"
   },
   {
    "duration": 3,
    "start_time": "2023-02-09T16:51:38.059Z"
   },
   {
    "duration": 405,
    "start_time": "2023-02-09T16:51:38.063Z"
   },
   {
    "duration": 9,
    "start_time": "2023-02-09T16:51:38.470Z"
   },
   {
    "duration": 42,
    "start_time": "2023-02-09T16:51:38.481Z"
   },
   {
    "duration": 88,
    "start_time": "2023-02-09T16:51:38.524Z"
   },
   {
    "duration": 1154,
    "start_time": "2023-02-09T16:53:01.292Z"
   },
   {
    "duration": 876,
    "start_time": "2023-02-09T16:53:02.448Z"
   },
   {
    "duration": 19,
    "start_time": "2023-02-09T16:53:03.325Z"
   },
   {
    "duration": 150,
    "start_time": "2023-02-09T16:53:03.347Z"
   },
   {
    "duration": 127,
    "start_time": "2023-02-09T16:53:03.503Z"
   },
   {
    "duration": 146,
    "start_time": "2023-02-09T16:53:03.632Z"
   },
   {
    "duration": 100,
    "start_time": "2023-02-09T16:53:03.780Z"
   },
   {
    "duration": 469,
    "start_time": "2023-02-09T16:53:03.881Z"
   },
   {
    "duration": 31,
    "start_time": "2023-02-09T16:53:04.352Z"
   },
   {
    "duration": 47,
    "start_time": "2023-02-09T16:53:04.386Z"
   },
   {
    "duration": 4,
    "start_time": "2023-02-09T16:53:04.435Z"
   },
   {
    "duration": 105,
    "start_time": "2023-02-09T16:53:04.441Z"
   },
   {
    "duration": 211,
    "start_time": "2023-02-09T16:53:04.548Z"
   },
   {
    "duration": 93,
    "start_time": "2023-02-09T16:53:04.761Z"
   },
   {
    "duration": 267,
    "start_time": "2023-02-09T16:53:04.855Z"
   },
   {
    "duration": 168,
    "start_time": "2023-02-09T16:53:05.123Z"
   },
   {
    "duration": 4,
    "start_time": "2023-02-09T16:53:05.293Z"
   },
   {
    "duration": 422,
    "start_time": "2023-02-09T16:53:05.303Z"
   },
   {
    "duration": 10,
    "start_time": "2023-02-09T16:53:05.726Z"
   },
   {
    "duration": 25,
    "start_time": "2023-02-09T16:53:05.737Z"
   },
   {
    "duration": 108,
    "start_time": "2023-02-09T16:53:05.764Z"
   },
   {
    "duration": 1184,
    "start_time": "2023-02-09T16:55:54.470Z"
   },
   {
    "duration": 835,
    "start_time": "2023-02-09T16:55:55.656Z"
   },
   {
    "duration": 21,
    "start_time": "2023-02-09T16:55:56.493Z"
   },
   {
    "duration": 138,
    "start_time": "2023-02-09T16:55:56.516Z"
   },
   {
    "duration": 124,
    "start_time": "2023-02-09T16:55:56.656Z"
   },
   {
    "duration": 175,
    "start_time": "2023-02-09T16:55:56.782Z"
   },
   {
    "duration": 108,
    "start_time": "2023-02-09T16:55:56.959Z"
   },
   {
    "duration": 499,
    "start_time": "2023-02-09T16:55:57.069Z"
   },
   {
    "duration": 492,
    "start_time": "2023-02-09T16:55:57.570Z"
   },
   {
    "duration": 455,
    "start_time": "2023-02-09T16:55:58.064Z"
   },
   {
    "duration": 36,
    "start_time": "2023-02-09T16:55:58.521Z"
   },
   {
    "duration": 30,
    "start_time": "2023-02-09T16:55:58.559Z"
   },
   {
    "duration": 5,
    "start_time": "2023-02-09T16:55:58.604Z"
   },
   {
    "duration": 84,
    "start_time": "2023-02-09T16:55:58.611Z"
   },
   {
    "duration": 4,
    "start_time": "2023-02-09T16:55:58.704Z"
   },
   {
    "duration": 518,
    "start_time": "2023-02-09T16:55:58.709Z"
   },
   {
    "duration": 11,
    "start_time": "2023-02-09T16:55:59.229Z"
   },
   {
    "duration": 34,
    "start_time": "2023-02-09T16:55:59.241Z"
   },
   {
    "duration": 95,
    "start_time": "2023-02-09T16:55:59.277Z"
   },
   {
    "duration": 387,
    "start_time": "2023-02-09T16:58:15.451Z"
   },
   {
    "duration": 105,
    "start_time": "2023-02-09T17:01:22.162Z"
   },
   {
    "duration": 95,
    "start_time": "2023-02-09T17:03:56.166Z"
   },
   {
    "duration": 13,
    "start_time": "2023-02-09T17:04:10.712Z"
   },
   {
    "duration": 10,
    "start_time": "2023-02-09T17:06:33.467Z"
   },
   {
    "duration": 8,
    "start_time": "2023-02-09T17:06:35.325Z"
   },
   {
    "duration": 3,
    "start_time": "2023-02-09T17:06:53.634Z"
   },
   {
    "duration": 4,
    "start_time": "2023-02-09T17:06:55.371Z"
   },
   {
    "duration": 9,
    "start_time": "2023-02-09T17:07:01.171Z"
   },
   {
    "duration": 13,
    "start_time": "2023-02-09T17:22:11.060Z"
   },
   {
    "duration": 27,
    "start_time": "2023-02-09T17:22:28.815Z"
   },
   {
    "duration": 38,
    "start_time": "2023-02-09T17:23:12.202Z"
   },
   {
    "duration": 1348,
    "start_time": "2023-02-10T16:45:02.725Z"
   },
   {
    "duration": 3674,
    "start_time": "2023-02-10T16:45:04.075Z"
   },
   {
    "duration": 22,
    "start_time": "2023-02-10T16:45:07.751Z"
   },
   {
    "duration": 171,
    "start_time": "2023-02-10T16:45:07.775Z"
   },
   {
    "duration": 149,
    "start_time": "2023-02-10T16:45:07.948Z"
   },
   {
    "duration": 154,
    "start_time": "2023-02-10T16:45:08.098Z"
   },
   {
    "duration": 101,
    "start_time": "2023-02-10T16:45:08.255Z"
   },
   {
    "duration": 492,
    "start_time": "2023-02-10T16:45:08.358Z"
   },
   {
    "duration": 486,
    "start_time": "2023-02-10T16:45:08.851Z"
   },
   {
    "duration": 481,
    "start_time": "2023-02-10T16:45:09.339Z"
   },
   {
    "duration": 749,
    "start_time": "2023-02-10T16:45:09.823Z"
   },
   {
    "duration": 60,
    "start_time": "2023-02-10T16:45:10.574Z"
   },
   {
    "duration": 33,
    "start_time": "2023-02-10T16:45:10.636Z"
   },
   {
    "duration": 5,
    "start_time": "2023-02-10T16:45:10.671Z"
   },
   {
    "duration": 14,
    "start_time": "2023-02-10T16:45:10.678Z"
   },
   {
    "duration": 501,
    "start_time": "2023-02-10T16:45:10.693Z"
   },
   {
    "duration": 14,
    "start_time": "2023-02-10T16:45:11.198Z"
   },
   {
    "duration": 36,
    "start_time": "2023-02-10T16:45:11.216Z"
   },
   {
    "duration": 420,
    "start_time": "2023-02-10T16:45:11.254Z"
   },
   {
    "duration": 36,
    "start_time": "2023-02-10T16:45:11.676Z"
   },
   {
    "duration": 88,
    "start_time": "2023-02-10T16:45:11.718Z"
   },
   {
    "duration": 1126,
    "start_time": "2023-02-10T16:59:02.044Z"
   },
   {
    "duration": 808,
    "start_time": "2023-02-10T16:59:03.172Z"
   },
   {
    "duration": 24,
    "start_time": "2023-02-10T16:59:03.982Z"
   },
   {
    "duration": 138,
    "start_time": "2023-02-10T16:59:04.008Z"
   },
   {
    "duration": 120,
    "start_time": "2023-02-10T16:59:04.147Z"
   },
   {
    "duration": 136,
    "start_time": "2023-02-10T16:59:04.268Z"
   },
   {
    "duration": 99,
    "start_time": "2023-02-10T16:59:04.405Z"
   },
   {
    "duration": 450,
    "start_time": "2023-02-10T16:59:04.505Z"
   },
   {
    "duration": 485,
    "start_time": "2023-02-10T16:59:04.956Z"
   },
   {
    "duration": 457,
    "start_time": "2023-02-10T16:59:05.444Z"
   },
   {
    "duration": 3,
    "start_time": "2023-02-10T16:59:05.902Z"
   },
   {
    "duration": 28,
    "start_time": "2023-02-10T16:59:05.906Z"
   },
   {
    "duration": 15,
    "start_time": "2023-02-10T16:59:05.936Z"
   },
   {
    "duration": 39,
    "start_time": "2023-02-10T16:59:05.953Z"
   },
   {
    "duration": 45,
    "start_time": "2023-02-10T16:59:05.993Z"
   },
   {
    "duration": 4,
    "start_time": "2023-02-10T16:59:06.040Z"
   },
   {
    "duration": 18,
    "start_time": "2023-02-10T16:59:06.045Z"
   },
   {
    "duration": 461,
    "start_time": "2023-02-10T16:59:06.065Z"
   },
   {
    "duration": 9,
    "start_time": "2023-02-10T16:59:06.529Z"
   },
   {
    "duration": 55,
    "start_time": "2023-02-10T16:59:06.540Z"
   },
   {
    "duration": 370,
    "start_time": "2023-02-10T16:59:06.597Z"
   },
   {
    "duration": 36,
    "start_time": "2023-02-10T16:59:06.970Z"
   },
   {
    "duration": 89,
    "start_time": "2023-02-10T16:59:07.007Z"
   },
   {
    "duration": 1035,
    "start_time": "2023-02-10T17:08:07.057Z"
   },
   {
    "duration": 770,
    "start_time": "2023-02-10T17:08:08.094Z"
   },
   {
    "duration": 19,
    "start_time": "2023-02-10T17:08:08.866Z"
   },
   {
    "duration": 129,
    "start_time": "2023-02-10T17:08:08.892Z"
   },
   {
    "duration": 120,
    "start_time": "2023-02-10T17:08:09.023Z"
   },
   {
    "duration": 130,
    "start_time": "2023-02-10T17:08:09.145Z"
   },
   {
    "duration": 88,
    "start_time": "2023-02-10T17:08:09.276Z"
   },
   {
    "duration": 403,
    "start_time": "2023-02-10T17:08:09.365Z"
   },
   {
    "duration": 445,
    "start_time": "2023-02-10T17:08:09.769Z"
   },
   {
    "duration": 404,
    "start_time": "2023-02-10T17:08:10.216Z"
   },
   {
    "duration": 7,
    "start_time": "2023-02-10T17:08:10.621Z"
   },
   {
    "duration": 36,
    "start_time": "2023-02-10T17:08:10.629Z"
   },
   {
    "duration": 44,
    "start_time": "2023-02-10T17:08:10.667Z"
   },
   {
    "duration": 4,
    "start_time": "2023-02-10T17:08:10.713Z"
   },
   {
    "duration": 634,
    "start_time": "2023-02-10T17:08:10.718Z"
   },
   {
    "duration": 3,
    "start_time": "2023-02-10T17:08:11.354Z"
   },
   {
    "duration": 424,
    "start_time": "2023-02-10T17:08:11.360Z"
   },
   {
    "duration": 13,
    "start_time": "2023-02-10T17:08:11.786Z"
   },
   {
    "duration": 22,
    "start_time": "2023-02-10T17:08:11.801Z"
   },
   {
    "duration": 376,
    "start_time": "2023-02-10T17:08:11.825Z"
   },
   {
    "duration": 25,
    "start_time": "2023-02-10T17:08:12.202Z"
   },
   {
    "duration": 93,
    "start_time": "2023-02-10T17:08:12.229Z"
   },
   {
    "duration": 595,
    "start_time": "2023-02-10T17:08:41.243Z"
   },
   {
    "duration": 4,
    "start_time": "2023-02-10T17:13:47.896Z"
   },
   {
    "duration": 455,
    "start_time": "2023-02-10T17:13:50.393Z"
   },
   {
    "duration": 4,
    "start_time": "2023-02-10T17:15:07.307Z"
   },
   {
    "duration": 551,
    "start_time": "2023-02-10T17:15:09.140Z"
   },
   {
    "duration": 7,
    "start_time": "2023-02-10T17:15:34.937Z"
   },
   {
    "duration": 4,
    "start_time": "2023-02-10T17:15:51.661Z"
   },
   {
    "duration": 7,
    "start_time": "2023-02-10T17:16:03.954Z"
   },
   {
    "duration": 1246,
    "start_time": "2023-02-10T17:16:29.291Z"
   },
   {
    "duration": 815,
    "start_time": "2023-02-10T17:16:30.539Z"
   },
   {
    "duration": 18,
    "start_time": "2023-02-10T17:16:31.356Z"
   },
   {
    "duration": 149,
    "start_time": "2023-02-10T17:16:31.377Z"
   },
   {
    "duration": 131,
    "start_time": "2023-02-10T17:16:31.528Z"
   },
   {
    "duration": 142,
    "start_time": "2023-02-10T17:16:31.661Z"
   },
   {
    "duration": 103,
    "start_time": "2023-02-10T17:16:31.804Z"
   },
   {
    "duration": 459,
    "start_time": "2023-02-10T17:16:31.909Z"
   },
   {
    "duration": 470,
    "start_time": "2023-02-10T17:16:32.370Z"
   },
   {
    "duration": 442,
    "start_time": "2023-02-10T17:16:32.843Z"
   },
   {
    "duration": 7,
    "start_time": "2023-02-10T17:16:33.292Z"
   },
   {
    "duration": 39,
    "start_time": "2023-02-10T17:16:33.300Z"
   },
   {
    "duration": 29,
    "start_time": "2023-02-10T17:16:33.341Z"
   },
   {
    "duration": 5,
    "start_time": "2023-02-10T17:16:33.392Z"
   },
   {
    "duration": 644,
    "start_time": "2023-02-10T17:16:33.400Z"
   },
   {
    "duration": 4,
    "start_time": "2023-02-10T17:16:34.046Z"
   },
   {
    "duration": 491,
    "start_time": "2023-02-10T17:16:34.052Z"
   },
   {
    "duration": 10,
    "start_time": "2023-02-10T17:16:34.545Z"
   },
   {
    "duration": 43,
    "start_time": "2023-02-10T17:16:34.557Z"
   },
   {
    "duration": 437,
    "start_time": "2023-02-10T17:16:34.602Z"
   },
   {
    "duration": 51,
    "start_time": "2023-02-10T17:16:35.041Z"
   },
   {
    "duration": 83,
    "start_time": "2023-02-10T17:16:35.094Z"
   },
   {
    "duration": 5,
    "start_time": "2023-02-10T17:38:02.512Z"
   },
   {
    "duration": 1163,
    "start_time": "2023-02-10T17:44:00.141Z"
   },
   {
    "duration": 809,
    "start_time": "2023-02-10T17:44:01.305Z"
   },
   {
    "duration": 20,
    "start_time": "2023-02-10T17:44:02.116Z"
   },
   {
    "duration": 153,
    "start_time": "2023-02-10T17:44:02.138Z"
   },
   {
    "duration": 120,
    "start_time": "2023-02-10T17:44:02.294Z"
   },
   {
    "duration": 139,
    "start_time": "2023-02-10T17:44:02.416Z"
   },
   {
    "duration": 106,
    "start_time": "2023-02-10T17:44:02.557Z"
   },
   {
    "duration": 432,
    "start_time": "2023-02-10T17:44:02.665Z"
   },
   {
    "duration": 434,
    "start_time": "2023-02-10T17:44:03.099Z"
   },
   {
    "duration": 430,
    "start_time": "2023-02-10T17:44:03.535Z"
   },
   {
    "duration": 33,
    "start_time": "2023-02-10T17:44:03.967Z"
   },
   {
    "duration": 11,
    "start_time": "2023-02-10T17:44:04.002Z"
   },
   {
    "duration": 40,
    "start_time": "2023-02-10T17:44:04.014Z"
   },
   {
    "duration": 41,
    "start_time": "2023-02-10T17:44:04.058Z"
   },
   {
    "duration": 4,
    "start_time": "2023-02-10T17:44:04.101Z"
   },
   {
    "duration": 661,
    "start_time": "2023-02-10T17:44:04.107Z"
   },
   {
    "duration": 4,
    "start_time": "2023-02-10T17:44:04.770Z"
   },
   {
    "duration": 502,
    "start_time": "2023-02-10T17:44:04.777Z"
   },
   {
    "duration": 18,
    "start_time": "2023-02-10T17:44:05.280Z"
   },
   {
    "duration": 52,
    "start_time": "2023-02-10T17:44:05.300Z"
   },
   {
    "duration": 408,
    "start_time": "2023-02-10T17:44:05.353Z"
   },
   {
    "duration": 101,
    "start_time": "2023-02-10T17:44:05.763Z"
   },
   {
    "duration": 106,
    "start_time": "2023-02-10T18:01:34.192Z"
   },
   {
    "duration": 11,
    "start_time": "2023-02-10T18:01:51.697Z"
   },
   {
    "duration": 10,
    "start_time": "2023-02-10T18:02:57.872Z"
   },
   {
    "duration": 74,
    "start_time": "2023-02-10T18:08:13.425Z"
   },
   {
    "duration": 11,
    "start_time": "2023-02-10T18:08:49.189Z"
   },
   {
    "duration": 5,
    "start_time": "2023-02-10T18:09:12.380Z"
   },
   {
    "duration": 13,
    "start_time": "2023-02-10T18:09:42.596Z"
   },
   {
    "duration": 10,
    "start_time": "2023-02-10T18:09:51.524Z"
   },
   {
    "duration": 5,
    "start_time": "2023-02-10T18:10:05.664Z"
   },
   {
    "duration": 10,
    "start_time": "2023-02-10T18:16:52.554Z"
   },
   {
    "duration": 10,
    "start_time": "2023-02-10T18:17:11.417Z"
   },
   {
    "duration": 17,
    "start_time": "2023-02-10T18:17:21.182Z"
   },
   {
    "duration": 26,
    "start_time": "2023-02-10T18:20:26.629Z"
   },
   {
    "duration": 9,
    "start_time": "2023-02-10T18:20:49.562Z"
   },
   {
    "duration": 108,
    "start_time": "2023-02-10T18:21:10.657Z"
   },
   {
    "duration": 9,
    "start_time": "2023-02-10T18:21:27.113Z"
   },
   {
    "duration": 10,
    "start_time": "2023-02-10T18:21:36.880Z"
   },
   {
    "duration": 31,
    "start_time": "2023-02-10T18:31:52.871Z"
   },
   {
    "duration": 85,
    "start_time": "2023-02-10T18:31:56.101Z"
   },
   {
    "duration": 26,
    "start_time": "2023-02-10T18:32:03.955Z"
   },
   {
    "duration": 10,
    "start_time": "2023-02-10T18:32:07.785Z"
   },
   {
    "duration": 1103,
    "start_time": "2023-02-10T18:32:29.740Z"
   },
   {
    "duration": 855,
    "start_time": "2023-02-10T18:32:30.845Z"
   },
   {
    "duration": 18,
    "start_time": "2023-02-10T18:32:31.701Z"
   },
   {
    "duration": 167,
    "start_time": "2023-02-10T18:32:31.721Z"
   },
   {
    "duration": 144,
    "start_time": "2023-02-10T18:32:31.890Z"
   },
   {
    "duration": 140,
    "start_time": "2023-02-10T18:32:32.036Z"
   },
   {
    "duration": 104,
    "start_time": "2023-02-10T18:32:32.178Z"
   },
   {
    "duration": 482,
    "start_time": "2023-02-10T18:32:32.292Z"
   },
   {
    "duration": 483,
    "start_time": "2023-02-10T18:32:32.776Z"
   },
   {
    "duration": 440,
    "start_time": "2023-02-10T18:32:33.261Z"
   },
   {
    "duration": 26,
    "start_time": "2023-02-10T18:32:33.703Z"
   },
   {
    "duration": 12,
    "start_time": "2023-02-10T18:32:33.730Z"
   },
   {
    "duration": 51,
    "start_time": "2023-02-10T18:32:33.744Z"
   },
   {
    "duration": 28,
    "start_time": "2023-02-10T18:32:33.797Z"
   },
   {
    "duration": 5,
    "start_time": "2023-02-10T18:32:33.827Z"
   },
   {
    "duration": 642,
    "start_time": "2023-02-10T18:32:33.834Z"
   },
   {
    "duration": 6,
    "start_time": "2023-02-10T18:32:34.478Z"
   },
   {
    "duration": 536,
    "start_time": "2023-02-10T18:32:34.485Z"
   },
   {
    "duration": 10,
    "start_time": "2023-02-10T18:32:35.023Z"
   },
   {
    "duration": 27,
    "start_time": "2023-02-10T18:32:35.035Z"
   },
   {
    "duration": 447,
    "start_time": "2023-02-10T18:32:35.064Z"
   },
   {
    "duration": 11,
    "start_time": "2023-02-10T18:32:35.513Z"
   },
   {
    "duration": 34,
    "start_time": "2023-02-10T18:32:35.526Z"
   },
   {
    "duration": 92,
    "start_time": "2023-02-10T18:32:35.562Z"
   },
   {
    "duration": 22,
    "start_time": "2023-02-10T18:33:04.692Z"
   },
   {
    "duration": 108,
    "start_time": "2023-02-10T18:33:07.127Z"
   },
   {
    "duration": 69,
    "start_time": "2023-02-10T18:33:55.698Z"
   },
   {
    "duration": 88,
    "start_time": "2023-02-10T18:33:57.795Z"
   },
   {
    "duration": 5,
    "start_time": "2023-02-10T18:34:05.473Z"
   },
   {
    "duration": 447,
    "start_time": "2023-02-10T18:50:32.067Z"
   },
   {
    "duration": 29,
    "start_time": "2023-02-10T18:56:27.188Z"
   },
   {
    "duration": 281,
    "start_time": "2023-02-10T18:56:59.761Z"
   },
   {
    "duration": 138,
    "start_time": "2023-02-10T19:04:51.890Z"
   },
   {
    "duration": 51,
    "start_time": "2023-02-10T19:05:14.762Z"
   },
   {
    "duration": 63,
    "start_time": "2023-02-10T19:05:30.325Z"
   },
   {
    "duration": 45,
    "start_time": "2023-02-10T19:06:07.511Z"
   },
   {
    "duration": 242,
    "start_time": "2023-02-10T19:07:22.432Z"
   },
   {
    "duration": 181,
    "start_time": "2023-02-10T19:07:35.799Z"
   },
   {
    "duration": 157,
    "start_time": "2023-02-10T19:07:43.248Z"
   },
   {
    "duration": 268,
    "start_time": "2023-02-10T19:22:27.291Z"
   },
   {
    "duration": 14,
    "start_time": "2023-02-10T19:27:31.215Z"
   },
   {
    "duration": 23,
    "start_time": "2023-02-10T19:27:45.632Z"
   },
   {
    "duration": 6,
    "start_time": "2023-02-10T19:28:37.595Z"
   },
   {
    "duration": 10,
    "start_time": "2023-02-10T19:29:58.558Z"
   },
   {
    "duration": 99,
    "start_time": "2023-02-10T19:30:57.213Z"
   },
   {
    "duration": 12,
    "start_time": "2023-02-10T19:31:27.048Z"
   },
   {
    "duration": 10,
    "start_time": "2023-02-10T19:32:08.101Z"
   },
   {
    "duration": 11,
    "start_time": "2023-02-10T19:32:15.567Z"
   },
   {
    "duration": 11,
    "start_time": "2023-02-10T19:32:21.687Z"
   },
   {
    "duration": 10,
    "start_time": "2023-02-10T19:32:26.920Z"
   },
   {
    "duration": 10,
    "start_time": "2023-02-10T19:32:47.171Z"
   },
   {
    "duration": 5,
    "start_time": "2023-02-10T19:32:58.527Z"
   },
   {
    "duration": 12,
    "start_time": "2023-02-10T19:33:03.903Z"
   },
   {
    "duration": 12,
    "start_time": "2023-02-10T19:34:13.872Z"
   },
   {
    "duration": 10,
    "start_time": "2023-02-10T19:34:21.218Z"
   },
   {
    "duration": 5,
    "start_time": "2023-02-10T19:40:10.949Z"
   },
   {
    "duration": 6,
    "start_time": "2023-02-10T19:40:16.398Z"
   },
   {
    "duration": 5,
    "start_time": "2023-02-10T20:00:57.769Z"
   },
   {
    "duration": 18,
    "start_time": "2023-02-10T20:05:35.867Z"
   },
   {
    "duration": 5,
    "start_time": "2023-02-10T20:05:38.805Z"
   },
   {
    "duration": 18,
    "start_time": "2023-02-10T20:18:36.680Z"
   },
   {
    "duration": 21,
    "start_time": "2023-02-10T20:25:46.289Z"
   },
   {
    "duration": 12,
    "start_time": "2023-02-10T20:26:26.793Z"
   },
   {
    "duration": 36,
    "start_time": "2023-02-10T20:26:52.725Z"
   },
   {
    "duration": 7,
    "start_time": "2023-02-10T20:27:25.013Z"
   },
   {
    "duration": 9,
    "start_time": "2023-02-10T20:34:53.229Z"
   },
   {
    "duration": 29,
    "start_time": "2023-02-10T20:35:00.520Z"
   },
   {
    "duration": 85,
    "start_time": "2023-02-10T20:35:02.762Z"
   },
   {
    "duration": 23,
    "start_time": "2023-02-10T20:36:35.628Z"
   },
   {
    "duration": 76,
    "start_time": "2023-02-10T20:36:37.486Z"
   },
   {
    "duration": 35,
    "start_time": "2023-02-10T20:37:41.548Z"
   },
   {
    "duration": 425,
    "start_time": "2023-02-10T20:47:50.867Z"
   },
   {
    "duration": 73,
    "start_time": "2023-02-10T20:53:54.868Z"
   },
   {
    "duration": 153,
    "start_time": "2023-02-10T20:56:42.949Z"
   },
   {
    "duration": 87,
    "start_time": "2023-02-10T21:07:47.900Z"
   },
   {
    "duration": 37,
    "start_time": "2023-02-10T21:07:55.219Z"
   },
   {
    "duration": 5,
    "start_time": "2023-02-10T21:08:15.608Z"
   },
   {
    "duration": 516,
    "start_time": "2023-02-10T21:08:17.688Z"
   },
   {
    "duration": 4,
    "start_time": "2023-02-10T21:08:35.880Z"
   },
   {
    "duration": 554,
    "start_time": "2023-02-10T21:08:38.746Z"
   },
   {
    "duration": 5,
    "start_time": "2023-02-10T21:08:54.226Z"
   },
   {
    "duration": 655,
    "start_time": "2023-02-10T21:08:56.972Z"
   },
   {
    "duration": 475,
    "start_time": "2023-02-10T21:09:16.784Z"
   },
   {
    "duration": 1189,
    "start_time": "2023-02-10T21:10:04.954Z"
   },
   {
    "duration": 958,
    "start_time": "2023-02-10T21:10:06.146Z"
   },
   {
    "duration": 20,
    "start_time": "2023-02-10T21:10:07.106Z"
   },
   {
    "duration": 164,
    "start_time": "2023-02-10T21:10:07.128Z"
   },
   {
    "duration": 153,
    "start_time": "2023-02-10T21:10:07.295Z"
   },
   {
    "duration": 172,
    "start_time": "2023-02-10T21:10:07.449Z"
   },
   {
    "duration": 109,
    "start_time": "2023-02-10T21:10:07.623Z"
   },
   {
    "duration": 540,
    "start_time": "2023-02-10T21:10:07.734Z"
   },
   {
    "duration": 549,
    "start_time": "2023-02-10T21:10:08.276Z"
   },
   {
    "duration": 504,
    "start_time": "2023-02-10T21:10:08.827Z"
   },
   {
    "duration": 31,
    "start_time": "2023-02-10T21:10:09.333Z"
   },
   {
    "duration": 26,
    "start_time": "2023-02-10T21:10:09.366Z"
   },
   {
    "duration": 37,
    "start_time": "2023-02-10T21:10:09.394Z"
   },
   {
    "duration": 31,
    "start_time": "2023-02-10T21:10:09.433Z"
   },
   {
    "duration": 6,
    "start_time": "2023-02-10T21:10:09.465Z"
   },
   {
    "duration": 729,
    "start_time": "2023-02-10T21:10:09.492Z"
   },
   {
    "duration": 4,
    "start_time": "2023-02-10T21:10:10.223Z"
   },
   {
    "duration": 538,
    "start_time": "2023-02-10T21:10:10.229Z"
   },
   {
    "duration": 11,
    "start_time": "2023-02-10T21:10:10.769Z"
   },
   {
    "duration": 39,
    "start_time": "2023-02-10T21:10:10.792Z"
   },
   {
    "duration": 452,
    "start_time": "2023-02-10T21:10:10.833Z"
   },
   {
    "duration": 15,
    "start_time": "2023-02-10T21:10:11.291Z"
   },
   {
    "duration": 54,
    "start_time": "2023-02-10T21:10:11.309Z"
   },
   {
    "duration": 531,
    "start_time": "2023-02-10T21:10:11.365Z"
   },
   {
    "duration": 330,
    "start_time": "2023-02-10T21:10:11.899Z"
   },
   {
    "duration": 190,
    "start_time": "2023-02-10T21:10:12.230Z"
   },
   {
    "duration": 23,
    "start_time": "2023-02-10T21:10:12.421Z"
   },
   {
    "duration": 67,
    "start_time": "2023-02-10T21:10:12.447Z"
   },
   {
    "duration": 6,
    "start_time": "2023-02-10T21:10:12.516Z"
   },
   {
    "duration": 26,
    "start_time": "2023-02-10T21:10:12.524Z"
   },
   {
    "duration": 592,
    "start_time": "2023-02-10T21:10:12.552Z"
   },
   {
    "duration": 65,
    "start_time": "2023-02-10T21:10:13.146Z"
   },
   {
    "duration": 91,
    "start_time": "2023-02-10T21:10:13.213Z"
   },
   {
    "duration": 7,
    "start_time": "2023-02-10T21:10:56.688Z"
   },
   {
    "duration": 1297,
    "start_time": "2023-02-10T21:11:15.072Z"
   },
   {
    "duration": 910,
    "start_time": "2023-02-10T21:11:16.371Z"
   },
   {
    "duration": 19,
    "start_time": "2023-02-10T21:11:17.282Z"
   },
   {
    "duration": 146,
    "start_time": "2023-02-10T21:11:17.304Z"
   },
   {
    "duration": 148,
    "start_time": "2023-02-10T21:11:17.453Z"
   },
   {
    "duration": 138,
    "start_time": "2023-02-10T21:11:17.603Z"
   },
   {
    "duration": 109,
    "start_time": "2023-02-10T21:11:17.743Z"
   },
   {
    "duration": 485,
    "start_time": "2023-02-10T21:11:17.854Z"
   },
   {
    "duration": 545,
    "start_time": "2023-02-10T21:11:18.341Z"
   },
   {
    "duration": 514,
    "start_time": "2023-02-10T21:11:18.891Z"
   },
   {
    "duration": 40,
    "start_time": "2023-02-10T21:11:19.407Z"
   },
   {
    "duration": 7,
    "start_time": "2023-02-10T21:11:19.449Z"
   },
   {
    "duration": 62,
    "start_time": "2023-02-10T21:11:19.457Z"
   },
   {
    "duration": 34,
    "start_time": "2023-02-10T21:11:19.525Z"
   },
   {
    "duration": 5,
    "start_time": "2023-02-10T21:11:19.560Z"
   },
   {
    "duration": 793,
    "start_time": "2023-02-10T21:11:19.567Z"
   },
   {
    "duration": 5,
    "start_time": "2023-02-10T21:11:20.362Z"
   },
   {
    "duration": 557,
    "start_time": "2023-02-10T21:11:20.368Z"
   },
   {
    "duration": 10,
    "start_time": "2023-02-10T21:11:20.927Z"
   },
   {
    "duration": 26,
    "start_time": "2023-02-10T21:11:20.938Z"
   },
   {
    "duration": 511,
    "start_time": "2023-02-10T21:11:20.966Z"
   },
   {
    "duration": 26,
    "start_time": "2023-02-10T21:11:21.479Z"
   },
   {
    "duration": 54,
    "start_time": "2023-02-10T21:11:21.508Z"
   },
   {
    "duration": 569,
    "start_time": "2023-02-10T21:11:21.564Z"
   },
   {
    "duration": 337,
    "start_time": "2023-02-10T21:11:22.135Z"
   },
   {
    "duration": 184,
    "start_time": "2023-02-10T21:11:22.473Z"
   },
   {
    "duration": 36,
    "start_time": "2023-02-10T21:11:22.658Z"
   },
   {
    "duration": 46,
    "start_time": "2023-02-10T21:11:22.696Z"
   },
   {
    "duration": 5,
    "start_time": "2023-02-10T21:11:22.744Z"
   },
   {
    "duration": 48,
    "start_time": "2023-02-10T21:11:22.750Z"
   },
   {
    "duration": 525,
    "start_time": "2023-02-10T21:11:22.800Z"
   },
   {
    "duration": 69,
    "start_time": "2023-02-10T21:11:23.327Z"
   },
   {
    "duration": 94,
    "start_time": "2023-02-10T21:11:23.398Z"
   },
   {
    "duration": 5,
    "start_time": "2023-02-10T21:12:17.162Z"
   },
   {
    "duration": 507,
    "start_time": "2023-02-10T21:12:19.470Z"
   },
   {
    "duration": 4,
    "start_time": "2023-02-10T21:12:28.659Z"
   },
   {
    "duration": 526,
    "start_time": "2023-02-10T21:12:31.542Z"
   },
   {
    "duration": 185,
    "start_time": "2023-02-10T21:13:33.724Z"
   },
   {
    "duration": 212,
    "start_time": "2023-02-10T21:13:45.505Z"
   },
   {
    "duration": 25,
    "start_time": "2023-02-10T21:14:52.811Z"
   },
   {
    "duration": 194,
    "start_time": "2023-02-10T21:19:02.027Z"
   },
   {
    "duration": 1083,
    "start_time": "2023-02-10T21:19:11.941Z"
   },
   {
    "duration": 866,
    "start_time": "2023-02-10T21:19:13.026Z"
   },
   {
    "duration": 19,
    "start_time": "2023-02-10T21:19:13.894Z"
   },
   {
    "duration": 148,
    "start_time": "2023-02-10T21:19:13.916Z"
   },
   {
    "duration": 136,
    "start_time": "2023-02-10T21:19:14.065Z"
   },
   {
    "duration": 140,
    "start_time": "2023-02-10T21:19:14.203Z"
   },
   {
    "duration": 104,
    "start_time": "2023-02-10T21:19:14.345Z"
   },
   {
    "duration": 503,
    "start_time": "2023-02-10T21:19:14.451Z"
   },
   {
    "duration": 503,
    "start_time": "2023-02-10T21:19:14.956Z"
   },
   {
    "duration": 480,
    "start_time": "2023-02-10T21:19:15.462Z"
   },
   {
    "duration": 27,
    "start_time": "2023-02-10T21:19:15.943Z"
   },
   {
    "duration": 31,
    "start_time": "2023-02-10T21:19:15.973Z"
   },
   {
    "duration": 75,
    "start_time": "2023-02-10T21:19:16.006Z"
   },
   {
    "duration": 32,
    "start_time": "2023-02-10T21:19:16.083Z"
   },
   {
    "duration": 9,
    "start_time": "2023-02-10T21:19:16.117Z"
   },
   {
    "duration": 736,
    "start_time": "2023-02-10T21:19:16.128Z"
   },
   {
    "duration": 5,
    "start_time": "2023-02-10T21:19:16.866Z"
   },
   {
    "duration": 500,
    "start_time": "2023-02-10T21:19:16.872Z"
   },
   {
    "duration": 22,
    "start_time": "2023-02-10T21:19:17.373Z"
   },
   {
    "duration": 24,
    "start_time": "2023-02-10T21:19:17.396Z"
   },
   {
    "duration": 448,
    "start_time": "2023-02-10T21:19:17.422Z"
   },
   {
    "duration": 23,
    "start_time": "2023-02-10T21:19:17.872Z"
   },
   {
    "duration": 48,
    "start_time": "2023-02-10T21:19:17.896Z"
   },
   {
    "duration": 501,
    "start_time": "2023-02-10T21:19:17.946Z"
   },
   {
    "duration": 364,
    "start_time": "2023-02-10T21:19:18.456Z"
   },
   {
    "duration": 173,
    "start_time": "2023-02-10T21:19:18.823Z"
   },
   {
    "duration": 22,
    "start_time": "2023-02-10T21:19:18.998Z"
   },
   {
    "duration": 43,
    "start_time": "2023-02-10T21:19:19.023Z"
   },
   {
    "duration": 25,
    "start_time": "2023-02-10T21:19:19.068Z"
   },
   {
    "duration": 27,
    "start_time": "2023-02-10T21:19:19.095Z"
   },
   {
    "duration": 604,
    "start_time": "2023-02-10T21:19:19.124Z"
   },
   {
    "duration": 61,
    "start_time": "2023-02-10T21:19:19.730Z"
   },
   {
    "duration": 169,
    "start_time": "2023-02-10T21:19:19.794Z"
   },
   {
    "duration": 85,
    "start_time": "2023-02-10T21:19:19.964Z"
   },
   {
    "duration": 166,
    "start_time": "2023-02-10T21:23:02.579Z"
   },
   {
    "duration": 70,
    "start_time": "2023-02-10T21:23:05.352Z"
   },
   {
    "duration": 588,
    "start_time": "2023-02-10T21:24:40.317Z"
   },
   {
    "duration": 16,
    "start_time": "2023-02-10T21:32:24.397Z"
   },
   {
    "duration": 79,
    "start_time": "2023-02-10T21:50:52.119Z"
   },
   {
    "duration": 4,
    "start_time": "2023-02-10T21:51:00.741Z"
   },
   {
    "duration": 3,
    "start_time": "2023-02-10T21:52:20.179Z"
   },
   {
    "duration": 110,
    "start_time": "2023-02-10T21:52:22.854Z"
   },
   {
    "duration": 3,
    "start_time": "2023-02-10T22:05:23.562Z"
   },
   {
    "duration": 3,
    "start_time": "2023-02-10T22:06:37.586Z"
   },
   {
    "duration": 177,
    "start_time": "2023-02-10T22:06:51.908Z"
   },
   {
    "duration": 85,
    "start_time": "2023-02-10T22:21:36.534Z"
   },
   {
    "duration": 17,
    "start_time": "2023-02-10T22:21:44.490Z"
   },
   {
    "duration": 3,
    "start_time": "2023-02-10T22:26:49.998Z"
   },
   {
    "duration": 164,
    "start_time": "2023-02-10T22:27:18.272Z"
   },
   {
    "duration": 3,
    "start_time": "2023-02-10T22:27:51.122Z"
   },
   {
    "duration": 190,
    "start_time": "2023-02-10T22:28:06.578Z"
   },
   {
    "duration": 3,
    "start_time": "2023-02-10T22:28:18.634Z"
   },
   {
    "duration": 3,
    "start_time": "2023-02-10T22:28:25.293Z"
   },
   {
    "duration": 3,
    "start_time": "2023-02-10T22:28:34.738Z"
   },
   {
    "duration": 178,
    "start_time": "2023-02-10T22:28:37.038Z"
   },
   {
    "duration": 3,
    "start_time": "2023-02-10T22:29:09.044Z"
   },
   {
    "duration": 215,
    "start_time": "2023-02-10T22:29:11.063Z"
   },
   {
    "duration": 3,
    "start_time": "2023-02-10T22:29:47.920Z"
   },
   {
    "duration": 212,
    "start_time": "2023-02-10T22:29:49.490Z"
   },
   {
    "duration": 3,
    "start_time": "2023-02-10T22:30:15.469Z"
   },
   {
    "duration": 185,
    "start_time": "2023-02-10T22:30:16.832Z"
   },
   {
    "duration": 4,
    "start_time": "2023-02-10T22:31:41.075Z"
   },
   {
    "duration": 285,
    "start_time": "2023-02-10T22:31:42.952Z"
   },
   {
    "duration": 5,
    "start_time": "2023-02-10T22:31:54.923Z"
   },
   {
    "duration": 210,
    "start_time": "2023-02-10T22:31:57.221Z"
   },
   {
    "duration": 4,
    "start_time": "2023-02-10T22:32:09.592Z"
   },
   {
    "duration": 234,
    "start_time": "2023-02-10T22:32:11.622Z"
   },
   {
    "duration": 3,
    "start_time": "2023-02-10T22:38:03.015Z"
   },
   {
    "duration": 8,
    "start_time": "2023-02-10T22:38:53.152Z"
   },
   {
    "duration": 11,
    "start_time": "2023-02-10T22:39:05.834Z"
   },
   {
    "duration": 3,
    "start_time": "2023-02-10T22:39:58.043Z"
   },
   {
    "duration": 619,
    "start_time": "2023-02-10T22:39:59.758Z"
   },
   {
    "duration": 4,
    "start_time": "2023-02-10T22:45:49.222Z"
   },
   {
    "duration": 602,
    "start_time": "2023-02-10T22:45:52.821Z"
   },
   {
    "duration": 3,
    "start_time": "2023-02-10T22:46:47.805Z"
   },
   {
    "duration": 560,
    "start_time": "2023-02-10T22:46:50.178Z"
   },
   {
    "duration": 3,
    "start_time": "2023-02-10T22:47:04.264Z"
   },
   {
    "duration": 3,
    "start_time": "2023-02-10T22:50:14.649Z"
   },
   {
    "duration": 528,
    "start_time": "2023-02-10T22:50:28.484Z"
   },
   {
    "duration": 3,
    "start_time": "2023-02-10T22:52:40.656Z"
   },
   {
    "duration": 11,
    "start_time": "2023-02-10T22:52:44.005Z"
   },
   {
    "duration": 3,
    "start_time": "2023-02-10T22:52:52.095Z"
   },
   {
    "duration": 12,
    "start_time": "2023-02-10T22:53:01.512Z"
   },
   {
    "duration": 3,
    "start_time": "2023-02-10T22:53:53.094Z"
   },
   {
    "duration": 37,
    "start_time": "2023-02-10T22:53:55.993Z"
   },
   {
    "duration": 11,
    "start_time": "2023-02-10T22:54:00.049Z"
   },
   {
    "duration": 4,
    "start_time": "2023-02-10T22:54:29.657Z"
   },
   {
    "duration": 11,
    "start_time": "2023-02-10T22:54:31.691Z"
   },
   {
    "duration": 3,
    "start_time": "2023-02-10T22:54:59.706Z"
   },
   {
    "duration": 11,
    "start_time": "2023-02-10T22:55:01.991Z"
   },
   {
    "duration": 3,
    "start_time": "2023-02-10T22:55:25.992Z"
   },
   {
    "duration": 13,
    "start_time": "2023-02-10T22:55:27.763Z"
   },
   {
    "duration": 4,
    "start_time": "2023-02-10T23:12:19.474Z"
   },
   {
    "duration": 3,
    "start_time": "2023-02-10T23:12:29.065Z"
   },
   {
    "duration": 28,
    "start_time": "2023-02-10T23:12:32.854Z"
   },
   {
    "duration": 3,
    "start_time": "2023-02-10T23:15:23.772Z"
   },
   {
    "duration": 26,
    "start_time": "2023-02-10T23:15:27.109Z"
   },
   {
    "duration": 6,
    "start_time": "2023-02-10T23:15:48.497Z"
   },
   {
    "duration": 35,
    "start_time": "2023-02-10T23:15:51.988Z"
   },
   {
    "duration": 3,
    "start_time": "2023-02-10T23:18:31.130Z"
   },
   {
    "duration": 1104,
    "start_time": "2023-02-10T23:18:39.999Z"
   },
   {
    "duration": 788,
    "start_time": "2023-02-10T23:18:41.105Z"
   },
   {
    "duration": 19,
    "start_time": "2023-02-10T23:18:41.894Z"
   },
   {
    "duration": 144,
    "start_time": "2023-02-10T23:18:41.915Z"
   },
   {
    "duration": 132,
    "start_time": "2023-02-10T23:18:42.061Z"
   },
   {
    "duration": 130,
    "start_time": "2023-02-10T23:18:42.195Z"
   },
   {
    "duration": 91,
    "start_time": "2023-02-10T23:18:42.326Z"
   },
   {
    "duration": 436,
    "start_time": "2023-02-10T23:18:42.419Z"
   },
   {
    "duration": 451,
    "start_time": "2023-02-10T23:18:42.857Z"
   },
   {
    "duration": 442,
    "start_time": "2023-02-10T23:18:43.310Z"
   },
   {
    "duration": 26,
    "start_time": "2023-02-10T23:18:43.754Z"
   },
   {
    "duration": 15,
    "start_time": "2023-02-10T23:18:43.781Z"
   },
   {
    "duration": 41,
    "start_time": "2023-02-10T23:18:43.798Z"
   },
   {
    "duration": 34,
    "start_time": "2023-02-10T23:18:43.840Z"
   },
   {
    "duration": 20,
    "start_time": "2023-02-10T23:18:43.875Z"
   },
   {
    "duration": 639,
    "start_time": "2023-02-10T23:18:43.897Z"
   },
   {
    "duration": 6,
    "start_time": "2023-02-10T23:18:44.538Z"
   },
   {
    "duration": 511,
    "start_time": "2023-02-10T23:18:44.546Z"
   },
   {
    "duration": 10,
    "start_time": "2023-02-10T23:18:45.059Z"
   },
   {
    "duration": 41,
    "start_time": "2023-02-10T23:18:45.070Z"
   },
   {
    "duration": 437,
    "start_time": "2023-02-10T23:18:45.113Z"
   },
   {
    "duration": 9,
    "start_time": "2023-02-10T23:18:45.552Z"
   },
   {
    "duration": 64,
    "start_time": "2023-02-10T23:18:45.563Z"
   },
   {
    "duration": 475,
    "start_time": "2023-02-10T23:18:45.629Z"
   },
   {
    "duration": 314,
    "start_time": "2023-02-10T23:18:46.106Z"
   },
   {
    "duration": 168,
    "start_time": "2023-02-10T23:18:46.422Z"
   },
   {
    "duration": 23,
    "start_time": "2023-02-10T23:18:46.592Z"
   },
   {
    "duration": 41,
    "start_time": "2023-02-10T23:18:46.618Z"
   },
   {
    "duration": 5,
    "start_time": "2023-02-10T23:18:46.661Z"
   },
   {
    "duration": 42,
    "start_time": "2023-02-10T23:18:46.667Z"
   },
   {
    "duration": 509,
    "start_time": "2023-02-10T23:18:46.710Z"
   },
   {
    "duration": 47,
    "start_time": "2023-02-10T23:18:47.220Z"
   },
   {
    "duration": 168,
    "start_time": "2023-02-10T23:18:47.269Z"
   },
   {
    "duration": 164,
    "start_time": "2023-02-10T23:18:47.438Z"
   },
   {
    "duration": 539,
    "start_time": "2023-02-10T23:18:47.603Z"
   },
   {
    "duration": 15,
    "start_time": "2023-02-10T23:18:48.144Z"
   },
   {
    "duration": 3,
    "start_time": "2023-02-10T23:18:48.161Z"
   },
   {
    "duration": 7,
    "start_time": "2023-02-10T23:18:48.165Z"
   },
   {
    "duration": 220,
    "start_time": "2023-02-10T23:18:48.173Z"
   },
   {
    "duration": 4,
    "start_time": "2023-02-10T23:18:48.395Z"
   },
   {
    "duration": 13,
    "start_time": "2023-02-10T23:18:48.401Z"
   },
   {
    "duration": 37,
    "start_time": "2023-02-10T23:18:48.415Z"
   },
   {
    "duration": 4,
    "start_time": "2023-02-10T23:18:48.454Z"
   },
   {
    "duration": 142,
    "start_time": "2023-02-10T23:18:48.459Z"
   },
   {
    "duration": 0,
    "start_time": "2023-02-10T23:18:48.603Z"
   },
   {
    "duration": 0,
    "start_time": "2023-02-10T23:18:48.604Z"
   },
   {
    "duration": 9,
    "start_time": "2023-02-10T23:22:25.689Z"
   },
   {
    "duration": 4,
    "start_time": "2023-02-10T23:25:23.156Z"
   },
   {
    "duration": 240,
    "start_time": "2023-02-10T23:25:25.051Z"
   },
   {
    "duration": 4,
    "start_time": "2023-02-10T23:25:35.341Z"
   },
   {
    "duration": 201,
    "start_time": "2023-02-10T23:25:37.201Z"
   },
   {
    "duration": 3,
    "start_time": "2023-02-10T23:26:29.550Z"
   },
   {
    "duration": 220,
    "start_time": "2023-02-10T23:26:31.282Z"
   },
   {
    "duration": 4,
    "start_time": "2023-02-10T23:27:24.014Z"
   },
   {
    "duration": 572,
    "start_time": "2023-02-10T23:27:27.330Z"
   },
   {
    "duration": 67,
    "start_time": "2023-02-10T23:28:24.577Z"
   },
   {
    "duration": 3,
    "start_time": "2023-02-10T23:28:32.404Z"
   },
   {
    "duration": 530,
    "start_time": "2023-02-10T23:28:37.229Z"
   },
   {
    "duration": 83,
    "start_time": "2023-02-10T23:29:10.964Z"
   },
   {
    "duration": 599,
    "start_time": "2023-02-10T23:37:53.756Z"
   },
   {
    "duration": 3,
    "start_time": "2023-02-10T23:39:20.202Z"
   },
   {
    "duration": 9,
    "start_time": "2023-02-10T23:41:28.849Z"
   },
   {
    "duration": 1137,
    "start_time": "2023-02-10T23:42:16.333Z"
   },
   {
    "duration": 3,
    "start_time": "2023-02-10T23:42:48.359Z"
   },
   {
    "duration": 4,
    "start_time": "2023-02-10T23:43:07.305Z"
   },
   {
    "duration": 6,
    "start_time": "2023-02-10T23:43:16.262Z"
   },
   {
    "duration": 132,
    "start_time": "2023-02-10T23:50:10.104Z"
   },
   {
    "duration": 496,
    "start_time": "2023-02-10T23:52:26.826Z"
   },
   {
    "duration": 126,
    "start_time": "2023-02-10T23:52:53.458Z"
   },
   {
    "duration": 4,
    "start_time": "2023-02-10T23:54:52.376Z"
   },
   {
    "duration": 71,
    "start_time": "2023-02-10T23:55:39.653Z"
   },
   {
    "duration": 983,
    "start_time": "2023-02-10T23:55:56.268Z"
   },
   {
    "duration": 3,
    "start_time": "2023-02-10T23:58:00.183Z"
   },
   {
    "duration": 220,
    "start_time": "2023-02-10T23:58:02.290Z"
   },
   {
    "duration": 7721,
    "start_time": "2023-02-10T23:58:25.402Z"
   },
   {
    "duration": 5,
    "start_time": "2023-02-11T00:01:40.277Z"
   },
   {
    "duration": 556,
    "start_time": "2023-02-11T00:01:42.321Z"
   },
   {
    "duration": 3,
    "start_time": "2023-02-11T00:03:05.479Z"
   },
   {
    "duration": 304,
    "start_time": "2023-02-11T00:03:08.483Z"
   },
   {
    "duration": 4,
    "start_time": "2023-02-11T00:03:18.418Z"
   },
   {
    "duration": 284,
    "start_time": "2023-02-11T00:03:29.831Z"
   },
   {
    "duration": 4,
    "start_time": "2023-02-11T00:03:50.452Z"
   },
   {
    "duration": 278,
    "start_time": "2023-02-11T00:03:52.273Z"
   },
   {
    "duration": 4,
    "start_time": "2023-02-11T00:04:03.341Z"
   },
   {
    "duration": 281,
    "start_time": "2023-02-11T00:04:05.441Z"
   },
   {
    "duration": 279,
    "start_time": "2023-02-11T00:04:24.020Z"
   },
   {
    "duration": 4,
    "start_time": "2023-02-11T00:04:33.249Z"
   },
   {
    "duration": 276,
    "start_time": "2023-02-11T00:04:35.749Z"
   },
   {
    "duration": 26,
    "start_time": "2023-02-11T00:05:48.523Z"
   },
   {
    "duration": 232,
    "start_time": "2023-02-11T00:06:13.318Z"
   },
   {
    "duration": 9,
    "start_time": "2023-02-11T00:06:24.612Z"
   },
   {
    "duration": 22,
    "start_time": "2023-02-11T00:07:01.051Z"
   },
   {
    "duration": 1091,
    "start_time": "2023-02-11T00:11:08.700Z"
   },
   {
    "duration": 780,
    "start_time": "2023-02-11T00:11:09.793Z"
   },
   {
    "duration": 21,
    "start_time": "2023-02-11T00:11:10.575Z"
   },
   {
    "duration": 135,
    "start_time": "2023-02-11T00:11:10.598Z"
   },
   {
    "duration": 129,
    "start_time": "2023-02-11T00:11:10.735Z"
   },
   {
    "duration": 131,
    "start_time": "2023-02-11T00:11:10.865Z"
   },
   {
    "duration": 95,
    "start_time": "2023-02-11T00:11:10.997Z"
   },
   {
    "duration": 437,
    "start_time": "2023-02-11T00:11:11.093Z"
   },
   {
    "duration": 439,
    "start_time": "2023-02-11T00:11:11.532Z"
   },
   {
    "duration": 420,
    "start_time": "2023-02-11T00:11:11.972Z"
   },
   {
    "duration": 23,
    "start_time": "2023-02-11T00:11:12.394Z"
   },
   {
    "duration": 7,
    "start_time": "2023-02-11T00:11:12.419Z"
   },
   {
    "duration": 36,
    "start_time": "2023-02-11T00:11:12.427Z"
   },
   {
    "duration": 50,
    "start_time": "2023-02-11T00:11:12.465Z"
   },
   {
    "duration": 4,
    "start_time": "2023-02-11T00:11:12.517Z"
   },
   {
    "duration": 597,
    "start_time": "2023-02-11T00:11:12.523Z"
   },
   {
    "duration": 5,
    "start_time": "2023-02-11T00:11:13.121Z"
   },
   {
    "duration": 455,
    "start_time": "2023-02-11T00:11:13.128Z"
   },
   {
    "duration": 10,
    "start_time": "2023-02-11T00:11:13.592Z"
   },
   {
    "duration": 23,
    "start_time": "2023-02-11T00:11:13.604Z"
   },
   {
    "duration": 420,
    "start_time": "2023-02-11T00:11:13.628Z"
   },
   {
    "duration": 9,
    "start_time": "2023-02-11T00:11:14.050Z"
   },
   {
    "duration": 63,
    "start_time": "2023-02-11T00:11:14.060Z"
   },
   {
    "duration": 440,
    "start_time": "2023-02-11T00:11:14.124Z"
   },
   {
    "duration": 250,
    "start_time": "2023-02-11T00:11:14.566Z"
   },
   {
    "duration": 156,
    "start_time": "2023-02-11T00:11:14.818Z"
   },
   {
    "duration": 35,
    "start_time": "2023-02-11T00:11:14.975Z"
   },
   {
    "duration": 40,
    "start_time": "2023-02-11T00:11:15.012Z"
   },
   {
    "duration": 5,
    "start_time": "2023-02-11T00:11:15.053Z"
   },
   {
    "duration": 39,
    "start_time": "2023-02-11T00:11:15.059Z"
   },
   {
    "duration": 467,
    "start_time": "2023-02-11T00:11:15.100Z"
   },
   {
    "duration": 53,
    "start_time": "2023-02-11T00:11:15.569Z"
   },
   {
    "duration": 146,
    "start_time": "2023-02-11T00:11:15.623Z"
   },
   {
    "duration": 175,
    "start_time": "2023-02-11T00:11:15.770Z"
   },
   {
    "duration": 621,
    "start_time": "2023-02-11T00:11:15.947Z"
   },
   {
    "duration": 24,
    "start_time": "2023-02-11T00:11:16.569Z"
   },
   {
    "duration": 3,
    "start_time": "2023-02-11T00:11:16.595Z"
   },
   {
    "duration": 6,
    "start_time": "2023-02-11T00:11:16.599Z"
   },
   {
    "duration": 279,
    "start_time": "2023-02-11T00:11:16.606Z"
   },
   {
    "duration": 830,
    "start_time": "2023-02-11T00:11:16.891Z"
   },
   {
    "duration": 72,
    "start_time": "2023-02-11T00:11:17.725Z"
   },
   {
    "duration": 21,
    "start_time": "2023-02-11T00:11:52.012Z"
   },
   {
    "duration": 32,
    "start_time": "2023-02-11T00:17:01.296Z"
   },
   {
    "duration": 49,
    "start_time": "2023-02-11T00:18:33.844Z"
   },
   {
    "duration": 19,
    "start_time": "2023-02-11T00:18:51.627Z"
   },
   {
    "duration": 222,
    "start_time": "2023-02-11T00:20:13.895Z"
   },
   {
    "duration": 255,
    "start_time": "2023-02-11T00:24:29.263Z"
   },
   {
    "duration": 219,
    "start_time": "2023-02-11T00:24:46.074Z"
   },
   {
    "duration": 254,
    "start_time": "2023-02-11T00:27:14.421Z"
   },
   {
    "duration": 68,
    "start_time": "2023-02-11T00:27:58.662Z"
   },
   {
    "duration": 279,
    "start_time": "2023-02-11T00:28:36.172Z"
   },
   {
    "duration": 71,
    "start_time": "2023-02-11T00:28:39.026Z"
   },
   {
    "duration": 198,
    "start_time": "2023-02-11T00:29:45.868Z"
   },
   {
    "duration": 255,
    "start_time": "2023-02-11T00:31:12.919Z"
   },
   {
    "duration": 72,
    "start_time": "2023-02-11T00:31:15.498Z"
   },
   {
    "duration": 168,
    "start_time": "2023-02-11T00:32:47.770Z"
   },
   {
    "duration": 17,
    "start_time": "2023-02-11T00:36:16.005Z"
   },
   {
    "duration": 77,
    "start_time": "2023-02-11T00:36:18.440Z"
   },
   {
    "duration": 2,
    "start_time": "2023-02-11T00:37:43.889Z"
   },
   {
    "duration": 2,
    "start_time": "2023-02-11T00:38:20.394Z"
   },
   {
    "duration": 2,
    "start_time": "2023-02-11T00:38:41.359Z"
   },
   {
    "duration": 1137,
    "start_time": "2023-02-11T00:38:50.484Z"
   },
   {
    "duration": 811,
    "start_time": "2023-02-11T00:38:51.623Z"
   },
   {
    "duration": 18,
    "start_time": "2023-02-11T00:38:52.436Z"
   },
   {
    "duration": 140,
    "start_time": "2023-02-11T00:38:52.456Z"
   },
   {
    "duration": 3,
    "start_time": "2023-02-11T00:38:52.598Z"
   },
   {
    "duration": 131,
    "start_time": "2023-02-11T00:38:52.602Z"
   },
   {
    "duration": 126,
    "start_time": "2023-02-11T00:38:52.735Z"
   },
   {
    "duration": 95,
    "start_time": "2023-02-11T00:38:52.862Z"
   },
   {
    "duration": 441,
    "start_time": "2023-02-11T00:38:52.958Z"
   },
   {
    "duration": 458,
    "start_time": "2023-02-11T00:38:53.401Z"
   },
   {
    "duration": 440,
    "start_time": "2023-02-11T00:38:53.861Z"
   },
   {
    "duration": 24,
    "start_time": "2023-02-11T00:38:54.303Z"
   },
   {
    "duration": 7,
    "start_time": "2023-02-11T00:38:54.329Z"
   },
   {
    "duration": 60,
    "start_time": "2023-02-11T00:38:54.338Z"
   },
   {
    "duration": 32,
    "start_time": "2023-02-11T00:38:54.399Z"
   },
   {
    "duration": 5,
    "start_time": "2023-02-11T00:38:54.432Z"
   },
   {
    "duration": 622,
    "start_time": "2023-02-11T00:38:54.438Z"
   },
   {
    "duration": 4,
    "start_time": "2023-02-11T00:38:55.062Z"
   },
   {
    "duration": 485,
    "start_time": "2023-02-11T00:38:55.067Z"
   },
   {
    "duration": 9,
    "start_time": "2023-02-11T00:38:55.554Z"
   },
   {
    "duration": 38,
    "start_time": "2023-02-11T00:38:55.565Z"
   },
   {
    "duration": 412,
    "start_time": "2023-02-11T00:38:55.605Z"
   },
   {
    "duration": 9,
    "start_time": "2023-02-11T00:38:56.019Z"
   },
   {
    "duration": 41,
    "start_time": "2023-02-11T00:38:56.030Z"
   },
   {
    "duration": 506,
    "start_time": "2023-02-11T00:38:56.092Z"
   },
   {
    "duration": 259,
    "start_time": "2023-02-11T00:38:56.600Z"
   },
   {
    "duration": 164,
    "start_time": "2023-02-11T00:38:56.860Z"
   },
   {
    "duration": 25,
    "start_time": "2023-02-11T00:38:57.028Z"
   },
   {
    "duration": 53,
    "start_time": "2023-02-11T00:38:57.055Z"
   },
   {
    "duration": 5,
    "start_time": "2023-02-11T00:38:57.109Z"
   },
   {
    "duration": 24,
    "start_time": "2023-02-11T00:38:57.116Z"
   },
   {
    "duration": 506,
    "start_time": "2023-02-11T00:38:57.142Z"
   },
   {
    "duration": 53,
    "start_time": "2023-02-11T00:38:57.650Z"
   },
   {
    "duration": 162,
    "start_time": "2023-02-11T00:38:57.705Z"
   },
   {
    "duration": 173,
    "start_time": "2023-02-11T00:38:57.869Z"
   },
   {
    "duration": 585,
    "start_time": "2023-02-11T00:38:58.044Z"
   },
   {
    "duration": 17,
    "start_time": "2023-02-11T00:38:58.631Z"
   },
   {
    "duration": 4,
    "start_time": "2023-02-11T00:38:58.650Z"
   },
   {
    "duration": 6,
    "start_time": "2023-02-11T00:38:58.656Z"
   },
   {
    "duration": 298,
    "start_time": "2023-02-11T00:38:58.664Z"
   },
   {
    "duration": 882,
    "start_time": "2023-02-11T00:38:58.964Z"
   },
   {
    "duration": 233,
    "start_time": "2023-02-11T00:38:59.848Z"
   },
   {
    "duration": 282,
    "start_time": "2023-02-11T00:39:00.091Z"
   },
   {
    "duration": 174,
    "start_time": "2023-02-11T00:39:00.375Z"
   },
   {
    "duration": 352,
    "start_time": "2023-02-11T00:39:00.550Z"
   },
   {
    "duration": 210,
    "start_time": "2023-02-11T00:39:00.904Z"
   },
   {
    "duration": 279,
    "start_time": "2023-02-11T00:39:01.115Z"
   },
   {
    "duration": 174,
    "start_time": "2023-02-11T00:39:01.396Z"
   },
   {
    "duration": 27,
    "start_time": "2023-02-11T00:39:01.571Z"
   },
   {
    "duration": 93,
    "start_time": "2023-02-11T00:39:01.600Z"
   },
   {
    "duration": 50,
    "start_time": "2023-02-11T00:39:01.695Z"
   },
   {
    "duration": 3,
    "start_time": "2023-02-11T00:39:33.269Z"
   },
   {
    "duration": 4,
    "start_time": "2023-02-11T00:39:38.455Z"
   },
   {
    "duration": 4,
    "start_time": "2023-02-11T00:39:56.765Z"
   },
   {
    "duration": 4,
    "start_time": "2023-02-11T00:40:44.465Z"
   },
   {
    "duration": 4,
    "start_time": "2023-02-11T00:40:50.208Z"
   },
   {
    "duration": 3,
    "start_time": "2023-02-11T00:41:15.445Z"
   },
   {
    "duration": 4,
    "start_time": "2023-02-11T00:41:34.216Z"
   },
   {
    "duration": 90,
    "start_time": "2023-02-11T00:41:52.510Z"
   },
   {
    "duration": 8,
    "start_time": "2023-02-11T00:42:01.546Z"
   },
   {
    "duration": 4,
    "start_time": "2023-02-11T00:42:21.545Z"
   },
   {
    "duration": 8,
    "start_time": "2023-02-11T00:42:57.065Z"
   },
   {
    "duration": 8,
    "start_time": "2023-02-11T00:43:10.395Z"
   },
   {
    "duration": 8,
    "start_time": "2023-02-11T00:43:40.979Z"
   },
   {
    "duration": 4,
    "start_time": "2023-02-11T00:44:04.985Z"
   },
   {
    "duration": 4,
    "start_time": "2023-02-11T00:51:15.689Z"
   },
   {
    "duration": 1083,
    "start_time": "2023-02-11T00:58:05.137Z"
   },
   {
    "duration": 789,
    "start_time": "2023-02-11T00:58:06.222Z"
   },
   {
    "duration": 18,
    "start_time": "2023-02-11T00:58:07.013Z"
   },
   {
    "duration": 136,
    "start_time": "2023-02-11T00:58:07.032Z"
   },
   {
    "duration": 3,
    "start_time": "2023-02-11T00:58:07.169Z"
   },
   {
    "duration": 135,
    "start_time": "2023-02-11T00:58:07.173Z"
   },
   {
    "duration": 125,
    "start_time": "2023-02-11T00:58:07.310Z"
   },
   {
    "duration": 92,
    "start_time": "2023-02-11T00:58:07.436Z"
   },
   {
    "duration": 431,
    "start_time": "2023-02-11T00:58:07.529Z"
   },
   {
    "duration": 434,
    "start_time": "2023-02-11T00:58:07.962Z"
   },
   {
    "duration": 426,
    "start_time": "2023-02-11T00:58:08.397Z"
   },
   {
    "duration": 24,
    "start_time": "2023-02-11T00:58:08.825Z"
   },
   {
    "duration": 9,
    "start_time": "2023-02-11T00:58:08.850Z"
   },
   {
    "duration": 52,
    "start_time": "2023-02-11T00:58:08.860Z"
   },
   {
    "duration": 29,
    "start_time": "2023-02-11T00:58:08.913Z"
   },
   {
    "duration": 4,
    "start_time": "2023-02-11T00:58:08.943Z"
   },
   {
    "duration": 583,
    "start_time": "2023-02-11T00:58:08.949Z"
   },
   {
    "duration": 5,
    "start_time": "2023-02-11T00:58:09.534Z"
   },
   {
    "duration": 467,
    "start_time": "2023-02-11T00:58:09.540Z"
   },
   {
    "duration": 11,
    "start_time": "2023-02-11T00:58:10.009Z"
   },
   {
    "duration": 36,
    "start_time": "2023-02-11T00:58:10.021Z"
   },
   {
    "duration": 414,
    "start_time": "2023-02-11T00:58:10.059Z"
   },
   {
    "duration": 22,
    "start_time": "2023-02-11T00:58:10.474Z"
   },
   {
    "duration": 45,
    "start_time": "2023-02-11T00:58:10.498Z"
   },
   {
    "duration": 435,
    "start_time": "2023-02-11T00:58:10.545Z"
   },
   {
    "duration": 249,
    "start_time": "2023-02-11T00:58:10.981Z"
   },
   {
    "duration": 159,
    "start_time": "2023-02-11T00:58:11.232Z"
   },
   {
    "duration": 21,
    "start_time": "2023-02-11T00:58:11.395Z"
   },
   {
    "duration": 39,
    "start_time": "2023-02-11T00:58:11.418Z"
   },
   {
    "duration": 5,
    "start_time": "2023-02-11T00:58:11.458Z"
   },
   {
    "duration": 44,
    "start_time": "2023-02-11T00:58:11.464Z"
   },
   {
    "duration": 481,
    "start_time": "2023-02-11T00:58:11.510Z"
   },
   {
    "duration": 44,
    "start_time": "2023-02-11T00:58:11.993Z"
   },
   {
    "duration": 151,
    "start_time": "2023-02-11T00:58:12.038Z"
   },
   {
    "duration": 165,
    "start_time": "2023-02-11T00:58:12.191Z"
   },
   {
    "duration": 555,
    "start_time": "2023-02-11T00:58:12.357Z"
   },
   {
    "duration": 16,
    "start_time": "2023-02-11T00:58:12.913Z"
   },
   {
    "duration": 4,
    "start_time": "2023-02-11T00:58:12.930Z"
   },
   {
    "duration": 8,
    "start_time": "2023-02-11T00:58:12.935Z"
   },
   {
    "duration": 278,
    "start_time": "2023-02-11T00:58:12.944Z"
   },
   {
    "duration": 864,
    "start_time": "2023-02-11T00:58:13.223Z"
   },
   {
    "duration": 230,
    "start_time": "2023-02-11T00:58:14.091Z"
   },
   {
    "duration": 274,
    "start_time": "2023-02-11T00:58:14.323Z"
   },
   {
    "duration": 175,
    "start_time": "2023-02-11T00:58:14.598Z"
   },
   {
    "duration": 336,
    "start_time": "2023-02-11T00:58:14.775Z"
   },
   {
    "duration": 207,
    "start_time": "2023-02-11T00:58:15.113Z"
   },
   {
    "duration": 269,
    "start_time": "2023-02-11T00:58:15.322Z"
   },
   {
    "duration": 163,
    "start_time": "2023-02-11T00:58:15.593Z"
   },
   {
    "duration": 18,
    "start_time": "2023-02-11T00:58:15.758Z"
   },
   {
    "duration": 83,
    "start_time": "2023-02-11T00:58:15.778Z"
   },
   {
    "duration": 3,
    "start_time": "2023-02-11T00:58:15.863Z"
   },
   {
    "duration": 6,
    "start_time": "2023-02-11T00:58:15.868Z"
   },
   {
    "duration": 1634,
    "start_time": "2023-02-11T12:20:30.817Z"
   },
   {
    "duration": 3356,
    "start_time": "2023-02-11T12:20:32.453Z"
   },
   {
    "duration": 21,
    "start_time": "2023-02-11T12:20:35.810Z"
   },
   {
    "duration": 247,
    "start_time": "2023-02-11T12:20:35.833Z"
   },
   {
    "duration": 9,
    "start_time": "2023-02-11T12:20:36.093Z"
   },
   {
    "duration": 168,
    "start_time": "2023-02-11T12:20:36.113Z"
   },
   {
    "duration": 175,
    "start_time": "2023-02-11T12:20:36.284Z"
   },
   {
    "duration": 126,
    "start_time": "2023-02-11T12:20:36.461Z"
   },
   {
    "duration": 628,
    "start_time": "2023-02-11T12:20:36.590Z"
   },
   {
    "duration": 491,
    "start_time": "2023-02-11T12:20:37.221Z"
   },
   {
    "duration": 499,
    "start_time": "2023-02-11T12:20:37.714Z"
   },
   {
    "duration": 35,
    "start_time": "2023-02-11T12:20:38.218Z"
   },
   {
    "duration": 13,
    "start_time": "2023-02-11T12:20:38.256Z"
   },
   {
    "duration": 47,
    "start_time": "2023-02-11T12:20:38.272Z"
   },
   {
    "duration": 34,
    "start_time": "2023-02-11T12:20:38.322Z"
   },
   {
    "duration": 6,
    "start_time": "2023-02-11T12:20:38.358Z"
   },
   {
    "duration": 790,
    "start_time": "2023-02-11T12:20:38.366Z"
   },
   {
    "duration": 5,
    "start_time": "2023-02-11T12:20:39.158Z"
   },
   {
    "duration": 550,
    "start_time": "2023-02-11T12:20:39.165Z"
   },
   {
    "duration": 10,
    "start_time": "2023-02-11T12:20:39.717Z"
   },
   {
    "duration": 29,
    "start_time": "2023-02-11T12:20:39.729Z"
   },
   {
    "duration": 678,
    "start_time": "2023-02-11T12:20:39.760Z"
   },
   {
    "duration": 10,
    "start_time": "2023-02-11T12:20:40.440Z"
   },
   {
    "duration": 67,
    "start_time": "2023-02-11T12:20:40.452Z"
   },
   {
    "duration": 540,
    "start_time": "2023-02-11T12:20:40.521Z"
   },
   {
    "duration": 309,
    "start_time": "2023-02-11T12:20:41.063Z"
   },
   {
    "duration": 196,
    "start_time": "2023-02-11T12:20:41.374Z"
   },
   {
    "duration": 38,
    "start_time": "2023-02-11T12:20:41.574Z"
   },
   {
    "duration": 48,
    "start_time": "2023-02-11T12:20:41.627Z"
   },
   {
    "duration": 5,
    "start_time": "2023-02-11T12:20:41.677Z"
   },
   {
    "duration": 56,
    "start_time": "2023-02-11T12:20:41.684Z"
   },
   {
    "duration": 566,
    "start_time": "2023-02-11T12:20:41.741Z"
   },
   {
    "duration": 42,
    "start_time": "2023-02-11T12:20:42.309Z"
   },
   {
    "duration": 192,
    "start_time": "2023-02-11T12:20:42.353Z"
   },
   {
    "duration": 190,
    "start_time": "2023-02-11T12:20:42.547Z"
   },
   {
    "duration": 669,
    "start_time": "2023-02-11T12:20:42.739Z"
   },
   {
    "duration": 19,
    "start_time": "2023-02-11T12:20:43.410Z"
   },
   {
    "duration": 16,
    "start_time": "2023-02-11T12:20:43.431Z"
   },
   {
    "duration": 4,
    "start_time": "2023-02-11T12:20:43.451Z"
   },
   {
    "duration": 510,
    "start_time": "2023-02-11T12:20:43.457Z"
   },
   {
    "duration": 1039,
    "start_time": "2023-02-11T12:20:43.969Z"
   },
   {
    "duration": 279,
    "start_time": "2023-02-11T12:20:45.010Z"
   },
   {
    "duration": 324,
    "start_time": "2023-02-11T12:20:45.291Z"
   },
   {
    "duration": 204,
    "start_time": "2023-02-11T12:20:45.618Z"
   },
   {
    "duration": 583,
    "start_time": "2023-02-11T12:20:45.826Z"
   },
   {
    "duration": 313,
    "start_time": "2023-02-11T12:20:46.417Z"
   },
   {
    "duration": 389,
    "start_time": "2023-02-11T12:20:46.731Z"
   },
   {
    "duration": 259,
    "start_time": "2023-02-11T12:20:47.122Z"
   },
   {
    "duration": 28,
    "start_time": "2023-02-11T12:20:47.393Z"
   },
   {
    "duration": 101,
    "start_time": "2023-02-11T12:20:47.423Z"
   },
   {
    "duration": 16,
    "start_time": "2023-02-11T12:20:47.526Z"
   },
   {
    "duration": 9,
    "start_time": "2023-02-11T12:20:47.544Z"
   },
   {
    "duration": 21,
    "start_time": "2023-02-11T13:24:24.715Z"
   },
   {
    "duration": 3,
    "start_time": "2023-02-11T13:25:50.985Z"
   },
   {
    "duration": 44,
    "start_time": "2023-02-11T13:26:00.152Z"
   },
   {
    "duration": 8,
    "start_time": "2023-02-11T13:36:44.275Z"
   },
   {
    "duration": 40,
    "start_time": "2023-02-11T13:36:48.819Z"
   },
   {
    "duration": 11,
    "start_time": "2023-02-11T13:51:09.805Z"
   },
   {
    "duration": 87,
    "start_time": "2023-02-11T13:51:15.842Z"
   },
   {
    "duration": 18,
    "start_time": "2023-02-11T13:52:17.646Z"
   },
   {
    "duration": 72,
    "start_time": "2023-02-11T13:52:19.283Z"
   },
   {
    "duration": 23,
    "start_time": "2023-02-11T14:15:28.799Z"
   },
   {
    "duration": 27,
    "start_time": "2023-02-11T14:15:55.441Z"
   },
   {
    "duration": 1457,
    "start_time": "2023-02-11T14:19:13.990Z"
   },
   {
    "duration": 2114,
    "start_time": "2023-02-11T14:19:15.449Z"
   },
   {
    "duration": 18,
    "start_time": "2023-02-11T14:19:17.564Z"
   },
   {
    "duration": 156,
    "start_time": "2023-02-11T14:19:17.584Z"
   },
   {
    "duration": 2,
    "start_time": "2023-02-11T14:19:17.742Z"
   },
   {
    "duration": 162,
    "start_time": "2023-02-11T14:19:17.746Z"
   },
   {
    "duration": 141,
    "start_time": "2023-02-11T14:19:17.910Z"
   },
   {
    "duration": 105,
    "start_time": "2023-02-11T14:19:18.052Z"
   },
   {
    "duration": 495,
    "start_time": "2023-02-11T14:19:18.158Z"
   },
   {
    "duration": 519,
    "start_time": "2023-02-11T14:19:18.656Z"
   },
   {
    "duration": 484,
    "start_time": "2023-02-11T14:19:19.177Z"
   },
   {
    "duration": 33,
    "start_time": "2023-02-11T14:19:19.663Z"
   },
   {
    "duration": 15,
    "start_time": "2023-02-11T14:19:19.698Z"
   },
   {
    "duration": 36,
    "start_time": "2023-02-11T14:19:19.716Z"
   },
   {
    "duration": 53,
    "start_time": "2023-02-11T14:19:19.754Z"
   },
   {
    "duration": 5,
    "start_time": "2023-02-11T14:19:19.810Z"
   },
   {
    "duration": 687,
    "start_time": "2023-02-11T14:19:19.817Z"
   },
   {
    "duration": 5,
    "start_time": "2023-02-11T14:19:20.507Z"
   },
   {
    "duration": 518,
    "start_time": "2023-02-11T14:19:20.514Z"
   },
   {
    "duration": 9,
    "start_time": "2023-02-11T14:19:21.034Z"
   },
   {
    "duration": 30,
    "start_time": "2023-02-11T14:19:21.045Z"
   },
   {
    "duration": 451,
    "start_time": "2023-02-11T14:19:21.077Z"
   },
   {
    "duration": 9,
    "start_time": "2023-02-11T14:19:21.529Z"
   },
   {
    "duration": 70,
    "start_time": "2023-02-11T14:19:21.540Z"
   },
   {
    "duration": 568,
    "start_time": "2023-02-11T14:19:21.611Z"
   },
   {
    "duration": 276,
    "start_time": "2023-02-11T14:19:22.181Z"
   },
   {
    "duration": 172,
    "start_time": "2023-02-11T14:19:22.459Z"
   },
   {
    "duration": 21,
    "start_time": "2023-02-11T14:19:22.635Z"
   },
   {
    "duration": 68,
    "start_time": "2023-02-11T14:19:22.657Z"
   },
   {
    "duration": 5,
    "start_time": "2023-02-11T14:19:22.726Z"
   },
   {
    "duration": 33,
    "start_time": "2023-02-11T14:19:22.733Z"
   },
   {
    "duration": 500,
    "start_time": "2023-02-11T14:19:22.768Z"
   },
   {
    "duration": 60,
    "start_time": "2023-02-11T14:19:23.270Z"
   },
   {
    "duration": 162,
    "start_time": "2023-02-11T14:19:23.331Z"
   },
   {
    "duration": 187,
    "start_time": "2023-02-11T14:19:23.496Z"
   },
   {
    "duration": 607,
    "start_time": "2023-02-11T14:19:23.684Z"
   },
   {
    "duration": 23,
    "start_time": "2023-02-11T14:19:24.293Z"
   },
   {
    "duration": 4,
    "start_time": "2023-02-11T14:19:24.319Z"
   },
   {
    "duration": 6,
    "start_time": "2023-02-11T14:19:24.324Z"
   },
   {
    "duration": 327,
    "start_time": "2023-02-11T14:19:24.331Z"
   },
   {
    "duration": 1072,
    "start_time": "2023-02-11T14:19:24.660Z"
   },
   {
    "duration": 250,
    "start_time": "2023-02-11T14:19:25.734Z"
   },
   {
    "duration": 295,
    "start_time": "2023-02-11T14:19:25.985Z"
   },
   {
    "duration": 288,
    "start_time": "2023-02-11T14:19:26.282Z"
   },
   {
    "duration": 289,
    "start_time": "2023-02-11T14:19:26.571Z"
   },
   {
    "duration": 233,
    "start_time": "2023-02-11T14:19:26.862Z"
   },
   {
    "duration": 320,
    "start_time": "2023-02-11T14:19:27.099Z"
   },
   {
    "duration": 186,
    "start_time": "2023-02-11T14:19:27.421Z"
   },
   {
    "duration": 17,
    "start_time": "2023-02-11T14:19:27.609Z"
   },
   {
    "duration": 102,
    "start_time": "2023-02-11T14:19:27.628Z"
   },
   {
    "duration": 2,
    "start_time": "2023-02-11T14:19:27.732Z"
   },
   {
    "duration": 8,
    "start_time": "2023-02-11T14:19:27.736Z"
   },
   {
    "duration": 15,
    "start_time": "2023-02-11T14:19:27.746Z"
   },
   {
    "duration": 105,
    "start_time": "2023-02-11T14:19:27.762Z"
   },
   {
    "duration": 32,
    "start_time": "2023-02-11T14:19:27.870Z"
   },
   {
    "duration": 23,
    "start_time": "2023-02-11T14:19:27.904Z"
   },
   {
    "duration": 4,
    "start_time": "2023-02-11T14:19:27.928Z"
   },
   {
    "duration": 130,
    "start_time": "2023-02-11T14:19:27.933Z"
   },
   {
    "duration": 92,
    "start_time": "2023-02-11T14:22:46.473Z"
   },
   {
    "duration": 4,
    "start_time": "2023-02-11T14:23:54.776Z"
   },
   {
    "duration": 12,
    "start_time": "2023-02-11T14:35:17.769Z"
   },
   {
    "duration": 790,
    "start_time": "2023-02-11T14:35:25.827Z"
   },
   {
    "duration": 517,
    "start_time": "2023-02-11T14:41:32.760Z"
   },
   {
    "duration": 484,
    "start_time": "2023-02-11T14:48:04.920Z"
   },
   {
    "duration": 150,
    "start_time": "2023-02-11T14:50:34.153Z"
   },
   {
    "duration": 8,
    "start_time": "2023-02-11T14:51:33.290Z"
   },
   {
    "duration": 5162,
    "start_time": "2023-02-11T14:51:42.414Z"
   },
   {
    "duration": 73,
    "start_time": "2023-02-11T15:09:15.492Z"
   },
   {
    "duration": 1641,
    "start_time": "2023-02-11T15:09:30.101Z"
   },
   {
    "duration": 4424,
    "start_time": "2023-02-11T15:09:31.744Z"
   },
   {
    "duration": 21,
    "start_time": "2023-02-11T15:09:36.169Z"
   },
   {
    "duration": 317,
    "start_time": "2023-02-11T15:09:36.193Z"
   },
   {
    "duration": 5,
    "start_time": "2023-02-11T15:09:36.514Z"
   },
   {
    "duration": 314,
    "start_time": "2023-02-11T15:09:36.522Z"
   },
   {
    "duration": 269,
    "start_time": "2023-02-11T15:09:36.838Z"
   },
   {
    "duration": 126,
    "start_time": "2023-02-11T15:09:37.109Z"
   },
   {
    "duration": 638,
    "start_time": "2023-02-11T15:09:37.240Z"
   },
   {
    "duration": 692,
    "start_time": "2023-02-11T15:09:37.879Z"
   },
   {
    "duration": 679,
    "start_time": "2023-02-11T15:09:38.573Z"
   },
   {
    "duration": 27,
    "start_time": "2023-02-11T15:09:39.254Z"
   },
   {
    "duration": 13,
    "start_time": "2023-02-11T15:09:39.283Z"
   },
   {
    "duration": 90,
    "start_time": "2023-02-11T15:09:39.301Z"
   },
   {
    "duration": 40,
    "start_time": "2023-02-11T15:09:39.393Z"
   },
   {
    "duration": 20,
    "start_time": "2023-02-11T15:09:39.436Z"
   },
   {
    "duration": 771,
    "start_time": "2023-02-11T15:09:39.457Z"
   },
   {
    "duration": 4,
    "start_time": "2023-02-11T15:09:40.230Z"
   },
   {
    "duration": 610,
    "start_time": "2023-02-11T15:09:40.237Z"
   },
   {
    "duration": 10,
    "start_time": "2023-02-11T15:09:40.849Z"
   },
   {
    "duration": 25,
    "start_time": "2023-02-11T15:09:40.860Z"
   },
   {
    "duration": 572,
    "start_time": "2023-02-11T15:09:40.895Z"
   },
   {
    "duration": 12,
    "start_time": "2023-02-11T15:09:41.471Z"
   },
   {
    "duration": 76,
    "start_time": "2023-02-11T15:09:41.486Z"
   },
   {
    "duration": 739,
    "start_time": "2023-02-11T15:09:41.564Z"
   },
   {
    "duration": 403,
    "start_time": "2023-02-11T15:09:42.308Z"
   },
   {
    "duration": 202,
    "start_time": "2023-02-11T15:09:42.716Z"
   },
   {
    "duration": 28,
    "start_time": "2023-02-11T15:09:42.921Z"
   },
   {
    "duration": 72,
    "start_time": "2023-02-11T15:09:42.955Z"
   },
   {
    "duration": 7,
    "start_time": "2023-02-11T15:09:43.029Z"
   },
   {
    "duration": 91,
    "start_time": "2023-02-11T15:09:43.038Z"
   },
   {
    "duration": 593,
    "start_time": "2023-02-11T15:09:43.133Z"
   },
   {
    "duration": 56,
    "start_time": "2023-02-11T15:09:43.728Z"
   },
   {
    "duration": 301,
    "start_time": "2023-02-11T15:09:43.787Z"
   },
   {
    "duration": 252,
    "start_time": "2023-02-11T15:09:44.098Z"
   },
   {
    "duration": 764,
    "start_time": "2023-02-11T15:09:44.353Z"
   },
   {
    "duration": 25,
    "start_time": "2023-02-11T15:09:45.119Z"
   },
   {
    "duration": 11,
    "start_time": "2023-02-11T15:09:45.146Z"
   },
   {
    "duration": 12,
    "start_time": "2023-02-11T15:09:45.159Z"
   },
   {
    "duration": 447,
    "start_time": "2023-02-11T15:09:45.174Z"
   },
   {
    "duration": 1368,
    "start_time": "2023-02-11T15:09:45.627Z"
   },
   {
    "duration": 280,
    "start_time": "2023-02-11T15:09:47.001Z"
   },
   {
    "duration": 350,
    "start_time": "2023-02-11T15:09:47.283Z"
   },
   {
    "duration": 216,
    "start_time": "2023-02-11T15:09:47.635Z"
   },
   {
    "duration": 362,
    "start_time": "2023-02-11T15:09:47.853Z"
   },
   {
    "duration": 267,
    "start_time": "2023-02-11T15:09:48.217Z"
   },
   {
    "duration": 371,
    "start_time": "2023-02-11T15:09:48.486Z"
   },
   {
    "duration": 235,
    "start_time": "2023-02-11T15:09:48.859Z"
   },
   {
    "duration": 38,
    "start_time": "2023-02-11T15:09:49.096Z"
   },
   {
    "duration": 113,
    "start_time": "2023-02-11T15:09:49.136Z"
   },
   {
    "duration": 3,
    "start_time": "2023-02-11T15:09:49.251Z"
   },
   {
    "duration": 29,
    "start_time": "2023-02-11T15:09:49.256Z"
   },
   {
    "duration": 60,
    "start_time": "2023-02-11T15:09:49.287Z"
   },
   {
    "duration": 160,
    "start_time": "2023-02-11T15:09:49.349Z"
   },
   {
    "duration": 0,
    "start_time": "2023-02-11T15:09:49.511Z"
   },
   {
    "duration": 0,
    "start_time": "2023-02-11T15:09:49.512Z"
   },
   {
    "duration": 0,
    "start_time": "2023-02-11T15:09:49.512Z"
   },
   {
    "duration": 0,
    "start_time": "2023-02-11T15:09:49.513Z"
   },
   {
    "duration": 0,
    "start_time": "2023-02-11T15:09:49.515Z"
   },
   {
    "duration": 0,
    "start_time": "2023-02-11T15:09:49.516Z"
   },
   {
    "duration": 25,
    "start_time": "2023-02-11T15:10:09.116Z"
   },
   {
    "duration": 10,
    "start_time": "2023-02-11T15:10:16.965Z"
   },
   {
    "duration": 83,
    "start_time": "2023-02-11T15:10:25.838Z"
   },
   {
    "duration": 37,
    "start_time": "2023-02-11T15:10:27.808Z"
   },
   {
    "duration": 4384,
    "start_time": "2023-02-11T15:10:37.071Z"
   },
   {
    "duration": 1629,
    "start_time": "2023-02-11T15:11:35.220Z"
   },
   {
    "duration": 3986,
    "start_time": "2023-02-11T15:11:36.852Z"
   },
   {
    "duration": 18,
    "start_time": "2023-02-11T15:11:40.840Z"
   },
   {
    "duration": 173,
    "start_time": "2023-02-11T15:11:40.860Z"
   },
   {
    "duration": 3,
    "start_time": "2023-02-11T15:11:41.037Z"
   },
   {
    "duration": 207,
    "start_time": "2023-02-11T15:11:41.042Z"
   },
   {
    "duration": 190,
    "start_time": "2023-02-11T15:11:41.251Z"
   },
   {
    "duration": 103,
    "start_time": "2023-02-11T15:11:41.443Z"
   },
   {
    "duration": 570,
    "start_time": "2023-02-11T15:11:41.548Z"
   },
   {
    "duration": 541,
    "start_time": "2023-02-11T15:11:42.122Z"
   },
   {
    "duration": 540,
    "start_time": "2023-02-11T15:11:42.665Z"
   },
   {
    "duration": 50,
    "start_time": "2023-02-11T15:11:43.207Z"
   },
   {
    "duration": 25,
    "start_time": "2023-02-11T15:11:43.259Z"
   },
   {
    "duration": 83,
    "start_time": "2023-02-11T15:11:43.287Z"
   },
   {
    "duration": 36,
    "start_time": "2023-02-11T15:11:43.372Z"
   },
   {
    "duration": 9,
    "start_time": "2023-02-11T15:11:43.410Z"
   },
   {
    "duration": 759,
    "start_time": "2023-02-11T15:11:43.421Z"
   },
   {
    "duration": 5,
    "start_time": "2023-02-11T15:11:44.183Z"
   },
   {
    "duration": 668,
    "start_time": "2023-02-11T15:11:44.190Z"
   },
   {
    "duration": 9,
    "start_time": "2023-02-11T15:11:44.860Z"
   },
   {
    "duration": 43,
    "start_time": "2023-02-11T15:11:44.871Z"
   },
   {
    "duration": 553,
    "start_time": "2023-02-11T15:11:44.915Z"
   },
   {
    "duration": 29,
    "start_time": "2023-02-11T15:11:45.470Z"
   },
   {
    "duration": 57,
    "start_time": "2023-02-11T15:11:45.505Z"
   },
   {
    "duration": 735,
    "start_time": "2023-02-11T15:11:45.564Z"
   },
   {
    "duration": 442,
    "start_time": "2023-02-11T15:11:46.301Z"
   },
   {
    "duration": 206,
    "start_time": "2023-02-11T15:11:46.745Z"
   },
   {
    "duration": 22,
    "start_time": "2023-02-11T15:11:46.952Z"
   },
   {
    "duration": 71,
    "start_time": "2023-02-11T15:11:46.975Z"
   },
   {
    "duration": 6,
    "start_time": "2023-02-11T15:11:47.048Z"
   },
   {
    "duration": 57,
    "start_time": "2023-02-11T15:11:47.056Z"
   },
   {
    "duration": 580,
    "start_time": "2023-02-11T15:11:47.115Z"
   },
   {
    "duration": 55,
    "start_time": "2023-02-11T15:11:47.697Z"
   },
   {
    "duration": 208,
    "start_time": "2023-02-11T15:11:47.753Z"
   },
   {
    "duration": 213,
    "start_time": "2023-02-11T15:11:47.963Z"
   },
   {
    "duration": 743,
    "start_time": "2023-02-11T15:11:48.178Z"
   },
   {
    "duration": 21,
    "start_time": "2023-02-11T15:11:48.923Z"
   },
   {
    "duration": 4,
    "start_time": "2023-02-11T15:11:48.946Z"
   },
   {
    "duration": 7,
    "start_time": "2023-02-11T15:11:48.953Z"
   },
   {
    "duration": 419,
    "start_time": "2023-02-11T15:11:48.962Z"
   },
   {
    "duration": 1413,
    "start_time": "2023-02-11T15:11:49.385Z"
   },
   {
    "duration": 316,
    "start_time": "2023-02-11T15:11:50.801Z"
   },
   {
    "duration": 397,
    "start_time": "2023-02-11T15:11:51.119Z"
   },
   {
    "duration": 246,
    "start_time": "2023-02-11T15:11:51.518Z"
   },
   {
    "duration": 367,
    "start_time": "2023-02-11T15:11:51.766Z"
   },
   {
    "duration": 267,
    "start_time": "2023-02-11T15:11:52.135Z"
   },
   {
    "duration": 336,
    "start_time": "2023-02-11T15:11:52.404Z"
   },
   {
    "duration": 210,
    "start_time": "2023-02-11T15:11:52.741Z"
   },
   {
    "duration": 37,
    "start_time": "2023-02-11T15:11:52.954Z"
   },
   {
    "duration": 113,
    "start_time": "2023-02-11T15:11:52.994Z"
   },
   {
    "duration": 48,
    "start_time": "2023-02-11T15:11:53.109Z"
   },
   {
    "duration": 75,
    "start_time": "2023-02-11T15:11:53.158Z"
   },
   {
    "duration": 11,
    "start_time": "2023-02-11T15:11:53.234Z"
   },
   {
    "duration": 24,
    "start_time": "2023-02-11T15:11:53.246Z"
   },
   {
    "duration": 14,
    "start_time": "2023-02-11T15:11:53.272Z"
   },
   {
    "duration": 90,
    "start_time": "2023-02-11T15:11:53.288Z"
   },
   {
    "duration": 23,
    "start_time": "2023-02-11T15:11:53.380Z"
   },
   {
    "duration": 1540,
    "start_time": "2023-02-11T15:11:53.405Z"
   },
   {
    "duration": 4,
    "start_time": "2023-02-11T15:11:54.947Z"
   },
   {
    "duration": 133,
    "start_time": "2023-02-11T15:11:54.952Z"
   },
   {
    "duration": 6,
    "start_time": "2023-02-11T15:12:12.622Z"
   },
   {
    "duration": 13,
    "start_time": "2023-02-11T15:12:25.286Z"
   },
   {
    "duration": 11,
    "start_time": "2023-02-11T15:13:01.317Z"
   },
   {
    "duration": 12,
    "start_time": "2023-02-11T15:26:21.272Z"
   },
   {
    "duration": 13,
    "start_time": "2023-02-11T15:26:33.514Z"
   },
   {
    "duration": 12,
    "start_time": "2023-02-11T15:27:14.259Z"
   },
   {
    "duration": 15,
    "start_time": "2023-02-11T15:28:38.019Z"
   },
   {
    "duration": 13,
    "start_time": "2023-02-11T15:29:05.449Z"
   },
   {
    "duration": 13,
    "start_time": "2023-02-11T15:30:05.969Z"
   },
   {
    "duration": 4,
    "start_time": "2023-02-11T15:40:34.120Z"
   },
   {
    "duration": 12,
    "start_time": "2023-02-11T15:40:47.021Z"
   },
   {
    "duration": 10,
    "start_time": "2023-02-11T15:40:58.718Z"
   },
   {
    "duration": 13,
    "start_time": "2023-02-11T15:43:57.585Z"
   },
   {
    "duration": 38,
    "start_time": "2023-02-11T15:44:40.248Z"
   },
   {
    "duration": 13,
    "start_time": "2023-02-11T15:44:42.596Z"
   },
   {
    "duration": 91,
    "start_time": "2023-02-11T15:44:47.083Z"
   },
   {
    "duration": 418,
    "start_time": "2023-02-11T15:44:49.812Z"
   },
   {
    "duration": 358,
    "start_time": "2023-02-11T15:45:07.812Z"
   },
   {
    "duration": 3,
    "start_time": "2023-02-11T15:46:18.087Z"
   },
   {
    "duration": 28,
    "start_time": "2023-02-11T15:46:20.835Z"
   },
   {
    "duration": 14,
    "start_time": "2023-02-11T15:46:22.743Z"
   },
   {
    "duration": 69,
    "start_time": "2023-02-11T15:46:26.001Z"
   },
   {
    "duration": 58,
    "start_time": "2023-02-11T15:46:47.602Z"
   },
   {
    "duration": 2442,
    "start_time": "2023-02-11T15:46:57.698Z"
   },
   {
    "duration": 3182,
    "start_time": "2023-02-11T15:47:00.143Z"
   },
   {
    "duration": 27,
    "start_time": "2023-02-11T15:47:03.327Z"
   },
   {
    "duration": 151,
    "start_time": "2023-02-11T15:47:03.356Z"
   },
   {
    "duration": 5,
    "start_time": "2023-02-11T15:47:03.509Z"
   },
   {
    "duration": 148,
    "start_time": "2023-02-11T15:47:03.516Z"
   },
   {
    "duration": 163,
    "start_time": "2023-02-11T15:47:03.666Z"
   },
   {
    "duration": 103,
    "start_time": "2023-02-11T15:47:03.831Z"
   },
   {
    "duration": 487,
    "start_time": "2023-02-11T15:47:03.935Z"
   },
   {
    "duration": 669,
    "start_time": "2023-02-11T15:47:04.424Z"
   },
   {
    "duration": 498,
    "start_time": "2023-02-11T15:47:05.095Z"
   },
   {
    "duration": 35,
    "start_time": "2023-02-11T15:47:05.596Z"
   },
   {
    "duration": 8,
    "start_time": "2023-02-11T15:47:05.634Z"
   },
   {
    "duration": 65,
    "start_time": "2023-02-11T15:47:05.645Z"
   },
   {
    "duration": 37,
    "start_time": "2023-02-11T15:47:05.713Z"
   },
   {
    "duration": 7,
    "start_time": "2023-02-11T15:47:05.752Z"
   },
   {
    "duration": 755,
    "start_time": "2023-02-11T15:47:05.761Z"
   },
   {
    "duration": 6,
    "start_time": "2023-02-11T15:47:06.519Z"
   },
   {
    "duration": 605,
    "start_time": "2023-02-11T15:47:06.527Z"
   },
   {
    "duration": 13,
    "start_time": "2023-02-11T15:47:07.134Z"
   },
   {
    "duration": 49,
    "start_time": "2023-02-11T15:47:07.149Z"
   },
   {
    "duration": 522,
    "start_time": "2023-02-11T15:47:07.201Z"
   },
   {
    "duration": 11,
    "start_time": "2023-02-11T15:47:07.725Z"
   },
   {
    "duration": 67,
    "start_time": "2023-02-11T15:47:07.738Z"
   },
   {
    "duration": 591,
    "start_time": "2023-02-11T15:47:07.808Z"
   },
   {
    "duration": 319,
    "start_time": "2023-02-11T15:47:08.402Z"
   },
   {
    "duration": 177,
    "start_time": "2023-02-11T15:47:08.724Z"
   },
   {
    "duration": 22,
    "start_time": "2023-02-11T15:47:08.904Z"
   },
   {
    "duration": 41,
    "start_time": "2023-02-11T15:47:08.928Z"
   },
   {
    "duration": 24,
    "start_time": "2023-02-11T15:47:08.971Z"
   },
   {
    "duration": 36,
    "start_time": "2023-02-11T15:47:08.997Z"
   },
   {
    "duration": 531,
    "start_time": "2023-02-11T15:47:09.036Z"
   },
   {
    "duration": 59,
    "start_time": "2023-02-11T15:47:09.569Z"
   },
   {
    "duration": 164,
    "start_time": "2023-02-11T15:47:09.630Z"
   },
   {
    "duration": 263,
    "start_time": "2023-02-11T15:47:09.796Z"
   },
   {
    "duration": 584,
    "start_time": "2023-02-11T15:47:10.061Z"
   },
   {
    "duration": 23,
    "start_time": "2023-02-11T15:47:10.648Z"
   },
   {
    "duration": 18,
    "start_time": "2023-02-11T15:47:10.673Z"
   },
   {
    "duration": 4,
    "start_time": "2023-02-11T15:47:10.694Z"
   },
   {
    "duration": 325,
    "start_time": "2023-02-11T15:47:10.700Z"
   },
   {
    "duration": 1035,
    "start_time": "2023-02-11T15:47:11.031Z"
   },
   {
    "duration": 258,
    "start_time": "2023-02-11T15:47:12.068Z"
   },
   {
    "duration": 379,
    "start_time": "2023-02-11T15:47:12.329Z"
   },
   {
    "duration": 181,
    "start_time": "2023-02-11T15:47:12.710Z"
   },
   {
    "duration": 305,
    "start_time": "2023-02-11T15:47:12.894Z"
   },
   {
    "duration": 293,
    "start_time": "2023-02-11T15:47:13.201Z"
   },
   {
    "duration": 345,
    "start_time": "2023-02-11T15:47:13.496Z"
   },
   {
    "duration": 259,
    "start_time": "2023-02-11T15:47:13.843Z"
   },
   {
    "duration": 19,
    "start_time": "2023-02-11T15:47:14.104Z"
   },
   {
    "duration": 88,
    "start_time": "2023-02-11T15:47:14.125Z"
   },
   {
    "duration": 3,
    "start_time": "2023-02-11T15:47:14.215Z"
   },
   {
    "duration": 13,
    "start_time": "2023-02-11T15:47:14.220Z"
   },
   {
    "duration": 14,
    "start_time": "2023-02-11T15:47:14.235Z"
   },
   {
    "duration": 30,
    "start_time": "2023-02-11T15:47:14.252Z"
   },
   {
    "duration": 15,
    "start_time": "2023-02-11T15:47:14.291Z"
   },
   {
    "duration": 90,
    "start_time": "2023-02-11T15:47:14.308Z"
   },
   {
    "duration": 3720,
    "start_time": "2023-02-11T15:47:14.400Z"
   },
   {
    "duration": 0,
    "start_time": "2023-02-11T15:47:18.121Z"
   },
   {
    "duration": 0,
    "start_time": "2023-02-11T15:47:18.122Z"
   },
   {
    "duration": 0,
    "start_time": "2023-02-11T15:47:18.124Z"
   },
   {
    "duration": 0,
    "start_time": "2023-02-11T15:47:18.124Z"
   },
   {
    "duration": 1540,
    "start_time": "2023-02-11T15:54:35.827Z"
   },
   {
    "duration": 1354,
    "start_time": "2023-02-11T16:05:08.277Z"
   },
   {
    "duration": 4,
    "start_time": "2023-02-11T16:05:21.051Z"
   },
   {
    "duration": 1721,
    "start_time": "2023-02-11T16:14:43.102Z"
   },
   {
    "duration": 1411,
    "start_time": "2023-02-11T16:14:44.826Z"
   },
   {
    "duration": 25,
    "start_time": "2023-02-11T16:14:46.239Z"
   },
   {
    "duration": 257,
    "start_time": "2023-02-11T16:14:46.265Z"
   },
   {
    "duration": 5,
    "start_time": "2023-02-11T16:14:46.525Z"
   },
   {
    "duration": 250,
    "start_time": "2023-02-11T16:14:46.531Z"
   },
   {
    "duration": 254,
    "start_time": "2023-02-11T16:14:46.783Z"
   },
   {
    "duration": 132,
    "start_time": "2023-02-11T16:14:47.039Z"
   },
   {
    "duration": 634,
    "start_time": "2023-02-11T16:14:47.173Z"
   },
   {
    "duration": 757,
    "start_time": "2023-02-11T16:14:47.809Z"
   },
   {
    "duration": 658,
    "start_time": "2023-02-11T16:14:48.568Z"
   },
   {
    "duration": 46,
    "start_time": "2023-02-11T16:14:49.228Z"
   },
   {
    "duration": 11,
    "start_time": "2023-02-11T16:14:49.276Z"
   },
   {
    "duration": 50,
    "start_time": "2023-02-11T16:14:49.291Z"
   },
   {
    "duration": 34,
    "start_time": "2023-02-11T16:14:49.353Z"
   },
   {
    "duration": 11,
    "start_time": "2023-02-11T16:14:49.389Z"
   },
   {
    "duration": 859,
    "start_time": "2023-02-11T16:14:49.402Z"
   },
   {
    "duration": 6,
    "start_time": "2023-02-11T16:14:50.264Z"
   },
   {
    "duration": 747,
    "start_time": "2023-02-11T16:14:50.272Z"
   },
   {
    "duration": 12,
    "start_time": "2023-02-11T16:14:51.021Z"
   },
   {
    "duration": 58,
    "start_time": "2023-02-11T16:14:51.035Z"
   },
   {
    "duration": 631,
    "start_time": "2023-02-11T16:14:51.095Z"
   },
   {
    "duration": 25,
    "start_time": "2023-02-11T16:14:51.728Z"
   },
   {
    "duration": 60,
    "start_time": "2023-02-11T16:14:51.756Z"
   },
   {
    "duration": 626,
    "start_time": "2023-02-11T16:14:51.818Z"
   },
   {
    "duration": 267,
    "start_time": "2023-02-11T16:14:52.453Z"
   },
   {
    "duration": 182,
    "start_time": "2023-02-11T16:14:52.722Z"
   },
   {
    "duration": 26,
    "start_time": "2023-02-11T16:14:52.906Z"
   },
   {
    "duration": 76,
    "start_time": "2023-02-11T16:14:52.934Z"
   },
   {
    "duration": 6,
    "start_time": "2023-02-11T16:14:53.012Z"
   },
   {
    "duration": 42,
    "start_time": "2023-02-11T16:14:53.020Z"
   },
   {
    "duration": 444,
    "start_time": "2023-02-11T16:14:53.063Z"
   },
   {
    "duration": 57,
    "start_time": "2023-02-11T16:14:53.510Z"
   },
   {
    "duration": 161,
    "start_time": "2023-02-11T16:14:53.569Z"
   },
   {
    "duration": 220,
    "start_time": "2023-02-11T16:14:53.733Z"
   },
   {
    "duration": 595,
    "start_time": "2023-02-11T16:14:53.956Z"
   },
   {
    "duration": 16,
    "start_time": "2023-02-11T16:14:54.553Z"
   },
   {
    "duration": 12,
    "start_time": "2023-02-11T16:14:54.571Z"
   },
   {
    "duration": 7,
    "start_time": "2023-02-11T16:14:54.585Z"
   },
   {
    "duration": 325,
    "start_time": "2023-02-11T16:14:54.594Z"
   },
   {
    "duration": 1195,
    "start_time": "2023-02-11T16:14:54.924Z"
   },
   {
    "duration": 261,
    "start_time": "2023-02-11T16:14:56.121Z"
   },
   {
    "duration": 292,
    "start_time": "2023-02-11T16:14:56.384Z"
   },
   {
    "duration": 191,
    "start_time": "2023-02-11T16:14:56.678Z"
   },
   {
    "duration": 319,
    "start_time": "2023-02-11T16:14:56.871Z"
   },
   {
    "duration": 246,
    "start_time": "2023-02-11T16:14:57.192Z"
   },
   {
    "duration": 450,
    "start_time": "2023-02-11T16:14:57.440Z"
   },
   {
    "duration": 184,
    "start_time": "2023-02-11T16:14:57.892Z"
   },
   {
    "duration": 19,
    "start_time": "2023-02-11T16:14:58.078Z"
   },
   {
    "duration": 90,
    "start_time": "2023-02-11T16:14:58.099Z"
   },
   {
    "duration": 4,
    "start_time": "2023-02-11T16:14:58.190Z"
   },
   {
    "duration": 10,
    "start_time": "2023-02-11T16:14:58.196Z"
   },
   {
    "duration": 8,
    "start_time": "2023-02-11T16:14:58.207Z"
   },
   {
    "duration": 20,
    "start_time": "2023-02-11T16:14:58.216Z"
   },
   {
    "duration": 12,
    "start_time": "2023-02-11T16:14:58.254Z"
   },
   {
    "duration": 90,
    "start_time": "2023-02-11T16:14:58.268Z"
   },
   {
    "duration": 9031,
    "start_time": "2023-02-11T16:14:58.360Z"
   },
   {
    "duration": 0,
    "start_time": "2023-02-11T16:15:07.393Z"
   },
   {
    "duration": 0,
    "start_time": "2023-02-11T16:15:07.395Z"
   },
   {
    "duration": 0,
    "start_time": "2023-02-11T16:15:07.396Z"
   },
   {
    "duration": 1,
    "start_time": "2023-02-11T16:15:07.397Z"
   },
   {
    "duration": 0,
    "start_time": "2023-02-11T16:15:07.399Z"
   },
   {
    "duration": 11,
    "start_time": "2023-02-11T16:23:10.972Z"
   },
   {
    "duration": 17,
    "start_time": "2023-02-11T16:28:52.393Z"
   },
   {
    "duration": 14,
    "start_time": "2023-02-11T16:29:40.728Z"
   },
   {
    "duration": 13,
    "start_time": "2023-02-11T16:30:00.663Z"
   },
   {
    "duration": 735,
    "start_time": "2023-02-11T16:30:17.163Z"
   },
   {
    "duration": 456,
    "start_time": "2023-02-11T16:45:20.597Z"
   },
   {
    "duration": 13,
    "start_time": "2023-02-11T16:45:44.303Z"
   },
   {
    "duration": 4,
    "start_time": "2023-02-11T16:45:52.196Z"
   },
   {
    "duration": 21,
    "start_time": "2023-02-11T16:50:09.596Z"
   },
   {
    "duration": 10,
    "start_time": "2023-02-11T16:52:01.403Z"
   },
   {
    "duration": 3,
    "start_time": "2023-02-11T16:52:42.900Z"
   },
   {
    "duration": 634,
    "start_time": "2023-02-11T16:56:42.901Z"
   },
   {
    "duration": 585,
    "start_time": "2023-02-11T16:57:05.182Z"
   },
   {
    "duration": 500,
    "start_time": "2023-02-11T16:58:15.196Z"
   },
   {
    "duration": 578,
    "start_time": "2023-02-11T16:59:15.615Z"
   },
   {
    "duration": 14,
    "start_time": "2023-02-11T16:59:38.225Z"
   },
   {
    "duration": 14,
    "start_time": "2023-02-11T16:59:54.019Z"
   },
   {
    "duration": 1628,
    "start_time": "2023-02-11T17:00:01.447Z"
   },
   {
    "duration": 955,
    "start_time": "2023-02-11T17:00:03.076Z"
   },
   {
    "duration": 35,
    "start_time": "2023-02-11T17:00:04.032Z"
   },
   {
    "duration": 260,
    "start_time": "2023-02-11T17:00:04.073Z"
   },
   {
    "duration": 3,
    "start_time": "2023-02-11T17:00:04.336Z"
   },
   {
    "duration": 187,
    "start_time": "2023-02-11T17:00:04.341Z"
   },
   {
    "duration": 197,
    "start_time": "2023-02-11T17:00:04.529Z"
   },
   {
    "duration": 119,
    "start_time": "2023-02-11T17:00:04.728Z"
   },
   {
    "duration": 609,
    "start_time": "2023-02-11T17:00:04.862Z"
   },
   {
    "duration": 636,
    "start_time": "2023-02-11T17:00:05.473Z"
   },
   {
    "duration": 566,
    "start_time": "2023-02-11T17:00:06.112Z"
   },
   {
    "duration": 34,
    "start_time": "2023-02-11T17:00:06.680Z"
   },
   {
    "duration": 13,
    "start_time": "2023-02-11T17:00:06.717Z"
   },
   {
    "duration": 58,
    "start_time": "2023-02-11T17:00:06.734Z"
   },
   {
    "duration": 35,
    "start_time": "2023-02-11T17:00:06.794Z"
   },
   {
    "duration": 6,
    "start_time": "2023-02-11T17:00:06.831Z"
   },
   {
    "duration": 737,
    "start_time": "2023-02-11T17:00:06.855Z"
   },
   {
    "duration": 4,
    "start_time": "2023-02-11T17:00:07.594Z"
   },
   {
    "duration": 674,
    "start_time": "2023-02-11T17:00:07.600Z"
   },
   {
    "duration": 13,
    "start_time": "2023-02-11T17:00:08.281Z"
   },
   {
    "duration": 25,
    "start_time": "2023-02-11T17:00:08.296Z"
   },
   {
    "duration": 506,
    "start_time": "2023-02-11T17:00:08.323Z"
   },
   {
    "duration": 24,
    "start_time": "2023-02-11T17:00:08.831Z"
   },
   {
    "duration": 58,
    "start_time": "2023-02-11T17:00:08.864Z"
   },
   {
    "duration": 613,
    "start_time": "2023-02-11T17:00:08.924Z"
   },
   {
    "duration": 397,
    "start_time": "2023-02-11T17:00:09.540Z"
   },
   {
    "duration": 204,
    "start_time": "2023-02-11T17:00:09.938Z"
   },
   {
    "duration": 45,
    "start_time": "2023-02-11T17:00:10.145Z"
   },
   {
    "duration": 85,
    "start_time": "2023-02-11T17:00:10.194Z"
   },
   {
    "duration": 6,
    "start_time": "2023-02-11T17:00:10.281Z"
   },
   {
    "duration": 47,
    "start_time": "2023-02-11T17:00:10.289Z"
   },
   {
    "duration": 510,
    "start_time": "2023-02-11T17:00:10.338Z"
   },
   {
    "duration": 60,
    "start_time": "2023-02-11T17:00:10.855Z"
   },
   {
    "duration": 255,
    "start_time": "2023-02-11T17:00:10.917Z"
   },
   {
    "duration": 223,
    "start_time": "2023-02-11T17:00:11.174Z"
   },
   {
    "duration": 637,
    "start_time": "2023-02-11T17:00:11.401Z"
   },
   {
    "duration": 27,
    "start_time": "2023-02-11T17:00:12.040Z"
   },
   {
    "duration": 44,
    "start_time": "2023-02-11T17:00:12.069Z"
   },
   {
    "duration": 37,
    "start_time": "2023-02-11T17:00:12.115Z"
   },
   {
    "duration": 454,
    "start_time": "2023-02-11T17:00:12.154Z"
   },
   {
    "duration": 1191,
    "start_time": "2023-02-11T17:00:12.612Z"
   },
   {
    "duration": 287,
    "start_time": "2023-02-11T17:00:13.806Z"
   },
   {
    "duration": 325,
    "start_time": "2023-02-11T17:00:14.095Z"
   },
   {
    "duration": 239,
    "start_time": "2023-02-11T17:00:14.421Z"
   },
   {
    "duration": 334,
    "start_time": "2023-02-11T17:00:14.661Z"
   },
   {
    "duration": 309,
    "start_time": "2023-02-11T17:00:14.997Z"
   },
   {
    "duration": 356,
    "start_time": "2023-02-11T17:00:15.307Z"
   },
   {
    "duration": 225,
    "start_time": "2023-02-11T17:00:15.666Z"
   },
   {
    "duration": 18,
    "start_time": "2023-02-11T17:00:15.893Z"
   },
   {
    "duration": 101,
    "start_time": "2023-02-11T17:00:15.913Z"
   },
   {
    "duration": 3,
    "start_time": "2023-02-11T17:00:16.016Z"
   },
   {
    "duration": 9,
    "start_time": "2023-02-11T17:00:16.021Z"
   },
   {
    "duration": 24,
    "start_time": "2023-02-11T17:00:16.032Z"
   },
   {
    "duration": 37,
    "start_time": "2023-02-11T17:00:16.067Z"
   },
   {
    "duration": 20,
    "start_time": "2023-02-11T17:00:16.105Z"
   },
   {
    "duration": 13,
    "start_time": "2023-02-11T17:00:16.126Z"
   },
   {
    "duration": 125,
    "start_time": "2023-02-11T17:00:16.141Z"
   },
   {
    "duration": 634,
    "start_time": "2023-02-11T17:00:16.268Z"
   },
   {
    "duration": 0,
    "start_time": "2023-02-11T17:00:16.904Z"
   },
   {
    "duration": 0,
    "start_time": "2023-02-11T17:00:16.906Z"
   },
   {
    "duration": 0,
    "start_time": "2023-02-11T17:00:16.907Z"
   },
   {
    "duration": 0,
    "start_time": "2023-02-11T17:00:16.909Z"
   },
   {
    "duration": 0,
    "start_time": "2023-02-11T17:00:16.910Z"
   },
   {
    "duration": 0,
    "start_time": "2023-02-11T17:00:16.911Z"
   },
   {
    "duration": 0,
    "start_time": "2023-02-11T17:00:16.913Z"
   },
   {
    "duration": 0,
    "start_time": "2023-02-11T17:00:16.914Z"
   },
   {
    "duration": 0,
    "start_time": "2023-02-11T17:00:16.915Z"
   },
   {
    "duration": 0,
    "start_time": "2023-02-11T17:00:16.916Z"
   },
   {
    "duration": 18,
    "start_time": "2023-02-11T17:02:06.811Z"
   },
   {
    "duration": 529,
    "start_time": "2023-02-11T17:02:42.146Z"
   },
   {
    "duration": 565,
    "start_time": "2023-02-11T17:02:56.314Z"
   },
   {
    "duration": 496,
    "start_time": "2023-02-11T17:03:58.304Z"
   },
   {
    "duration": 16,
    "start_time": "2023-02-11T17:06:45.110Z"
   },
   {
    "duration": 12,
    "start_time": "2023-02-11T17:06:58.193Z"
   },
   {
    "duration": 491,
    "start_time": "2023-02-11T17:07:39.989Z"
   },
   {
    "duration": 50,
    "start_time": "2023-02-11T17:27:32.347Z"
   },
   {
    "duration": 12,
    "start_time": "2023-02-11T17:28:33.526Z"
   },
   {
    "duration": 5,
    "start_time": "2023-02-11T17:30:27.549Z"
   },
   {
    "duration": 12,
    "start_time": "2023-02-11T17:31:18.936Z"
   },
   {
    "duration": 18,
    "start_time": "2023-02-11T17:33:48.269Z"
   },
   {
    "duration": 21,
    "start_time": "2023-02-11T17:34:06.973Z"
   },
   {
    "duration": 1517,
    "start_time": "2023-02-11T17:34:16.484Z"
   },
   {
    "duration": 898,
    "start_time": "2023-02-11T17:34:18.004Z"
   },
   {
    "duration": 20,
    "start_time": "2023-02-11T17:34:18.904Z"
   },
   {
    "duration": 163,
    "start_time": "2023-02-11T17:34:18.926Z"
   },
   {
    "duration": 13,
    "start_time": "2023-02-11T17:34:19.092Z"
   },
   {
    "duration": 144,
    "start_time": "2023-02-11T17:34:19.106Z"
   },
   {
    "duration": 155,
    "start_time": "2023-02-11T17:34:19.253Z"
   },
   {
    "duration": 158,
    "start_time": "2023-02-11T17:34:19.410Z"
   },
   {
    "duration": 527,
    "start_time": "2023-02-11T17:34:19.573Z"
   },
   {
    "duration": 575,
    "start_time": "2023-02-11T17:34:20.102Z"
   },
   {
    "duration": 483,
    "start_time": "2023-02-11T17:34:20.679Z"
   },
   {
    "duration": 36,
    "start_time": "2023-02-11T17:34:21.164Z"
   },
   {
    "duration": 27,
    "start_time": "2023-02-11T17:34:21.202Z"
   },
   {
    "duration": 77,
    "start_time": "2023-02-11T17:34:21.232Z"
   },
   {
    "duration": 60,
    "start_time": "2023-02-11T17:34:21.311Z"
   },
   {
    "duration": 17,
    "start_time": "2023-02-11T17:34:21.373Z"
   },
   {
    "duration": 733,
    "start_time": "2023-02-11T17:34:21.392Z"
   },
   {
    "duration": 4,
    "start_time": "2023-02-11T17:34:22.127Z"
   },
   {
    "duration": 584,
    "start_time": "2023-02-11T17:34:22.132Z"
   },
   {
    "duration": 9,
    "start_time": "2023-02-11T17:34:22.718Z"
   },
   {
    "duration": 65,
    "start_time": "2023-02-11T17:34:22.728Z"
   },
   {
    "duration": 474,
    "start_time": "2023-02-11T17:34:22.796Z"
   },
   {
    "duration": 13,
    "start_time": "2023-02-11T17:34:23.272Z"
   },
   {
    "duration": 90,
    "start_time": "2023-02-11T17:34:23.287Z"
   },
   {
    "duration": 572,
    "start_time": "2023-02-11T17:34:23.381Z"
   },
   {
    "duration": 331,
    "start_time": "2023-02-11T17:34:23.955Z"
   },
   {
    "duration": 175,
    "start_time": "2023-02-11T17:34:24.288Z"
   },
   {
    "duration": 26,
    "start_time": "2023-02-11T17:34:24.465Z"
   },
   {
    "duration": 53,
    "start_time": "2023-02-11T17:34:24.493Z"
   },
   {
    "duration": 5,
    "start_time": "2023-02-11T17:34:24.549Z"
   },
   {
    "duration": 70,
    "start_time": "2023-02-11T17:34:24.559Z"
   },
   {
    "duration": 477,
    "start_time": "2023-02-11T17:34:24.630Z"
   },
   {
    "duration": 58,
    "start_time": "2023-02-11T17:34:25.109Z"
   },
   {
    "duration": 220,
    "start_time": "2023-02-11T17:34:25.169Z"
   },
   {
    "duration": 200,
    "start_time": "2023-02-11T17:34:25.391Z"
   },
   {
    "duration": 646,
    "start_time": "2023-02-11T17:34:25.593Z"
   },
   {
    "duration": 34,
    "start_time": "2023-02-11T17:34:26.241Z"
   },
   {
    "duration": 34,
    "start_time": "2023-02-11T17:34:26.279Z"
   },
   {
    "duration": 9,
    "start_time": "2023-02-11T17:34:26.317Z"
   },
   {
    "duration": 370,
    "start_time": "2023-02-11T17:34:26.328Z"
   },
   {
    "duration": 1216,
    "start_time": "2023-02-11T17:34:26.702Z"
   },
   {
    "duration": 263,
    "start_time": "2023-02-11T17:34:27.920Z"
   },
   {
    "duration": 311,
    "start_time": "2023-02-11T17:34:28.185Z"
   },
   {
    "duration": 199,
    "start_time": "2023-02-11T17:34:28.497Z"
   },
   {
    "duration": 317,
    "start_time": "2023-02-11T17:34:28.698Z"
   },
   {
    "duration": 251,
    "start_time": "2023-02-11T17:34:29.017Z"
   },
   {
    "duration": 319,
    "start_time": "2023-02-11T17:34:29.269Z"
   },
   {
    "duration": 195,
    "start_time": "2023-02-11T17:34:29.595Z"
   },
   {
    "duration": 19,
    "start_time": "2023-02-11T17:34:29.791Z"
   },
   {
    "duration": 114,
    "start_time": "2023-02-11T17:34:29.811Z"
   },
   {
    "duration": 2,
    "start_time": "2023-02-11T17:34:29.927Z"
   },
   {
    "duration": 13,
    "start_time": "2023-02-11T17:34:29.931Z"
   },
   {
    "duration": 16,
    "start_time": "2023-02-11T17:34:29.946Z"
   },
   {
    "duration": 40,
    "start_time": "2023-02-11T17:34:29.965Z"
   },
   {
    "duration": 24,
    "start_time": "2023-02-11T17:34:30.007Z"
   },
   {
    "duration": 12,
    "start_time": "2023-02-11T17:34:30.033Z"
   },
   {
    "duration": 79,
    "start_time": "2023-02-11T17:34:30.047Z"
   },
   {
    "duration": 654,
    "start_time": "2023-02-11T17:34:30.128Z"
   },
   {
    "duration": 0,
    "start_time": "2023-02-11T17:34:30.784Z"
   },
   {
    "duration": 0,
    "start_time": "2023-02-11T17:34:30.785Z"
   },
   {
    "duration": 0,
    "start_time": "2023-02-11T17:34:30.786Z"
   },
   {
    "duration": 0,
    "start_time": "2023-02-11T17:34:30.788Z"
   },
   {
    "duration": 0,
    "start_time": "2023-02-11T17:34:30.789Z"
   },
   {
    "duration": 0,
    "start_time": "2023-02-11T17:34:30.790Z"
   },
   {
    "duration": 0,
    "start_time": "2023-02-11T17:34:30.791Z"
   },
   {
    "duration": 0,
    "start_time": "2023-02-11T17:34:30.792Z"
   },
   {
    "duration": 0,
    "start_time": "2023-02-11T17:34:30.793Z"
   },
   {
    "duration": 0,
    "start_time": "2023-02-11T17:34:30.794Z"
   },
   {
    "duration": 657,
    "start_time": "2023-02-11T17:35:06.869Z"
   },
   {
    "duration": 355,
    "start_time": "2023-02-11T17:35:22.403Z"
   },
   {
    "duration": 352,
    "start_time": "2023-02-11T17:35:42.289Z"
   },
   {
    "duration": 366,
    "start_time": "2023-02-11T17:37:08.425Z"
   },
   {
    "duration": 20,
    "start_time": "2023-02-11T17:42:26.047Z"
   },
   {
    "duration": 9223,
    "start_time": "2023-02-11T17:43:46.226Z"
   },
   {
    "duration": 10,
    "start_time": "2023-02-11T17:44:33.092Z"
   },
   {
    "duration": 11,
    "start_time": "2023-02-11T17:45:09.678Z"
   },
   {
    "duration": 9347,
    "start_time": "2023-02-11T17:45:20.164Z"
   },
   {
    "duration": 3,
    "start_time": "2023-02-11T17:46:19.737Z"
   },
   {
    "duration": 4,
    "start_time": "2023-02-11T17:46:25.479Z"
   },
   {
    "duration": 12,
    "start_time": "2023-02-11T17:48:09.915Z"
   },
   {
    "duration": 453,
    "start_time": "2023-02-11T17:49:01.416Z"
   },
   {
    "duration": 5,
    "start_time": "2023-02-11T17:49:55.959Z"
   },
   {
    "duration": 3,
    "start_time": "2023-02-11T17:50:16.497Z"
   },
   {
    "duration": 479,
    "start_time": "2023-02-11T17:51:27.405Z"
   },
   {
    "duration": 11,
    "start_time": "2023-02-11T17:52:19.726Z"
   },
   {
    "duration": 4,
    "start_time": "2023-02-11T17:53:03.738Z"
   },
   {
    "duration": 164,
    "start_time": "2023-02-11T17:53:25.334Z"
   },
   {
    "duration": 170,
    "start_time": "2023-02-11T17:58:37.870Z"
   },
   {
    "duration": 178,
    "start_time": "2023-02-11T17:58:57.317Z"
   },
   {
    "duration": 6,
    "start_time": "2023-02-11T18:00:45.971Z"
   },
   {
    "duration": 4,
    "start_time": "2023-02-11T18:01:10.004Z"
   },
   {
    "duration": 10351,
    "start_time": "2023-02-11T18:07:47.599Z"
   },
   {
    "duration": 4,
    "start_time": "2023-02-11T18:10:03.120Z"
   },
   {
    "duration": 9716,
    "start_time": "2023-02-11T18:10:10.604Z"
   },
   {
    "duration": 8936,
    "start_time": "2023-02-11T18:20:22.318Z"
   },
   {
    "duration": 8352,
    "start_time": "2023-02-11T18:23:49.008Z"
   },
   {
    "duration": 8,
    "start_time": "2023-02-11T18:24:44.409Z"
   },
   {
    "duration": 411,
    "start_time": "2023-02-11T18:24:59.193Z"
   },
   {
    "duration": 1029,
    "start_time": "2023-02-11T18:25:53.478Z"
   },
   {
    "duration": 1024,
    "start_time": "2023-02-11T18:26:01.483Z"
   },
   {
    "duration": 4,
    "start_time": "2023-02-11T18:26:06.451Z"
   },
   {
    "duration": 3,
    "start_time": "2023-02-11T18:26:10.824Z"
   },
   {
    "duration": 2495,
    "start_time": "2023-02-11T18:26:32.395Z"
   },
   {
    "duration": 69,
    "start_time": "2023-02-11T18:27:35.350Z"
   },
   {
    "duration": 1673,
    "start_time": "2023-02-11T18:27:52.584Z"
   },
   {
    "duration": 1099,
    "start_time": "2023-02-11T18:27:54.258Z"
   },
   {
    "duration": 19,
    "start_time": "2023-02-11T18:27:55.359Z"
   },
   {
    "duration": 142,
    "start_time": "2023-02-11T18:27:55.380Z"
   },
   {
    "duration": 3,
    "start_time": "2023-02-11T18:27:55.524Z"
   },
   {
    "duration": 157,
    "start_time": "2023-02-11T18:27:55.529Z"
   },
   {
    "duration": 144,
    "start_time": "2023-02-11T18:27:55.688Z"
   },
   {
    "duration": 113,
    "start_time": "2023-02-11T18:27:55.834Z"
   },
   {
    "duration": 487,
    "start_time": "2023-02-11T18:27:55.953Z"
   },
   {
    "duration": 532,
    "start_time": "2023-02-11T18:27:56.443Z"
   },
   {
    "duration": 543,
    "start_time": "2023-02-11T18:27:56.976Z"
   },
   {
    "duration": 47,
    "start_time": "2023-02-11T18:27:57.521Z"
   },
   {
    "duration": 11,
    "start_time": "2023-02-11T18:27:57.570Z"
   },
   {
    "duration": 45,
    "start_time": "2023-02-11T18:27:57.583Z"
   },
   {
    "duration": 46,
    "start_time": "2023-02-11T18:27:57.631Z"
   },
   {
    "duration": 5,
    "start_time": "2023-02-11T18:27:57.679Z"
   },
   {
    "duration": 619,
    "start_time": "2023-02-11T18:27:57.685Z"
   },
   {
    "duration": 4,
    "start_time": "2023-02-11T18:27:58.305Z"
   },
   {
    "duration": 469,
    "start_time": "2023-02-11T18:27:58.310Z"
   },
   {
    "duration": 9,
    "start_time": "2023-02-11T18:27:58.781Z"
   },
   {
    "duration": 25,
    "start_time": "2023-02-11T18:27:58.791Z"
   },
   {
    "duration": 436,
    "start_time": "2023-02-11T18:27:58.818Z"
   },
   {
    "duration": 10,
    "start_time": "2023-02-11T18:27:59.255Z"
   },
   {
    "duration": 51,
    "start_time": "2023-02-11T18:27:59.266Z"
   },
   {
    "duration": 626,
    "start_time": "2023-02-11T18:27:59.319Z"
   },
   {
    "duration": 265,
    "start_time": "2023-02-11T18:27:59.953Z"
   },
   {
    "duration": 161,
    "start_time": "2023-02-11T18:28:00.219Z"
   },
   {
    "duration": 22,
    "start_time": "2023-02-11T18:28:00.384Z"
   },
   {
    "duration": 61,
    "start_time": "2023-02-11T18:28:00.407Z"
   },
   {
    "duration": 5,
    "start_time": "2023-02-11T18:28:00.470Z"
   },
   {
    "duration": 42,
    "start_time": "2023-02-11T18:28:00.476Z"
   },
   {
    "duration": 410,
    "start_time": "2023-02-11T18:28:00.519Z"
   },
   {
    "duration": 60,
    "start_time": "2023-02-11T18:28:00.931Z"
   },
   {
    "duration": 167,
    "start_time": "2023-02-11T18:28:00.993Z"
   },
   {
    "duration": 169,
    "start_time": "2023-02-11T18:28:01.162Z"
   },
   {
    "duration": 566,
    "start_time": "2023-02-11T18:28:01.333Z"
   },
   {
    "duration": 15,
    "start_time": "2023-02-11T18:28:01.901Z"
   },
   {
    "duration": 3,
    "start_time": "2023-02-11T18:28:01.919Z"
   },
   {
    "duration": 11,
    "start_time": "2023-02-11T18:28:01.924Z"
   },
   {
    "duration": 327,
    "start_time": "2023-02-11T18:28:01.937Z"
   },
   {
    "duration": 987,
    "start_time": "2023-02-11T18:28:02.266Z"
   },
   {
    "duration": 230,
    "start_time": "2023-02-11T18:28:03.255Z"
   },
   {
    "duration": 279,
    "start_time": "2023-02-11T18:28:03.487Z"
   },
   {
    "duration": 168,
    "start_time": "2023-02-11T18:28:03.767Z"
   },
   {
    "duration": 282,
    "start_time": "2023-02-11T18:28:03.936Z"
   },
   {
    "duration": 223,
    "start_time": "2023-02-11T18:28:04.220Z"
   },
   {
    "duration": 271,
    "start_time": "2023-02-11T18:28:04.452Z"
   },
   {
    "duration": 168,
    "start_time": "2023-02-11T18:28:04.725Z"
   },
   {
    "duration": 19,
    "start_time": "2023-02-11T18:28:04.894Z"
   },
   {
    "duration": 91,
    "start_time": "2023-02-11T18:28:04.915Z"
   },
   {
    "duration": 3,
    "start_time": "2023-02-11T18:28:05.008Z"
   },
   {
    "duration": 7,
    "start_time": "2023-02-11T18:28:05.013Z"
   },
   {
    "duration": 11,
    "start_time": "2023-02-11T18:28:05.022Z"
   },
   {
    "duration": 25,
    "start_time": "2023-02-11T18:28:05.034Z"
   },
   {
    "duration": 26,
    "start_time": "2023-02-11T18:28:05.060Z"
   },
   {
    "duration": 12,
    "start_time": "2023-02-11T18:28:05.088Z"
   },
   {
    "duration": 87,
    "start_time": "2023-02-11T18:28:05.101Z"
   },
   {
    "duration": 19,
    "start_time": "2023-02-11T18:28:05.190Z"
   },
   {
    "duration": 1128,
    "start_time": "2023-02-11T18:28:05.211Z"
   },
   {
    "duration": 4,
    "start_time": "2023-02-11T18:28:06.341Z"
   },
   {
    "duration": 4,
    "start_time": "2023-02-11T18:28:06.353Z"
   },
   {
    "duration": 145,
    "start_time": "2023-02-11T18:28:06.358Z"
   },
   {
    "duration": 2140,
    "start_time": "2023-02-11T18:28:06.505Z"
   },
   {
    "duration": 107,
    "start_time": "2023-02-11T18:28:08.647Z"
   },
   {
    "duration": 0,
    "start_time": "2023-02-11T18:28:08.755Z"
   },
   {
    "duration": 0,
    "start_time": "2023-02-11T18:28:08.756Z"
   },
   {
    "duration": 0,
    "start_time": "2023-02-11T18:28:08.757Z"
   },
   {
    "duration": 0,
    "start_time": "2023-02-11T18:28:08.758Z"
   },
   {
    "duration": 0,
    "start_time": "2023-02-11T18:28:08.759Z"
   },
   {
    "duration": 0,
    "start_time": "2023-02-11T18:28:08.760Z"
   },
   {
    "duration": 0,
    "start_time": "2023-02-11T18:28:08.762Z"
   },
   {
    "duration": 0,
    "start_time": "2023-02-11T18:28:08.763Z"
   },
   {
    "duration": 17,
    "start_time": "2023-02-11T18:30:36.063Z"
   },
   {
    "duration": 9,
    "start_time": "2023-02-11T18:31:23.723Z"
   },
   {
    "duration": 12,
    "start_time": "2023-02-11T18:31:37.560Z"
   },
   {
    "duration": 11,
    "start_time": "2023-02-11T18:33:13.639Z"
   },
   {
    "duration": 4,
    "start_time": "2023-02-11T18:33:28.141Z"
   },
   {
    "duration": 23,
    "start_time": "2023-02-11T18:34:04.873Z"
   },
   {
    "duration": 3893,
    "start_time": "2023-02-11T18:39:58.544Z"
   },
   {
    "duration": 1455,
    "start_time": "2023-02-11T18:40:38.531Z"
   },
   {
    "duration": 4,
    "start_time": "2023-02-11T18:40:40.418Z"
   },
   {
    "duration": 154,
    "start_time": "2023-02-11T18:40:53.521Z"
   },
   {
    "duration": 2150,
    "start_time": "2023-02-11T18:40:56.796Z"
   },
   {
    "duration": 145,
    "start_time": "2023-02-11T19:03:59.452Z"
   },
   {
    "duration": 44,
    "start_time": "2023-02-11T19:05:35.921Z"
   },
   {
    "duration": 57,
    "start_time": "2023-02-11T22:01:32.171Z"
   },
   {
    "duration": 20,
    "start_time": "2023-02-11T22:04:34.825Z"
   },
   {
    "duration": 79643,
    "start_time": "2023-02-11T22:04:41.009Z"
   },
   {
    "duration": 80174,
    "start_time": "2023-02-11T22:11:27.183Z"
   },
   {
    "duration": 3,
    "start_time": "2023-02-11T22:13:04.544Z"
   },
   {
    "duration": 1327,
    "start_time": "2023-02-11T22:30:47.364Z"
   },
   {
    "duration": 885,
    "start_time": "2023-02-11T22:30:48.693Z"
   },
   {
    "duration": 19,
    "start_time": "2023-02-11T22:30:49.580Z"
   },
   {
    "duration": 141,
    "start_time": "2023-02-11T22:30:49.600Z"
   },
   {
    "duration": 10,
    "start_time": "2023-02-11T22:30:49.743Z"
   },
   {
    "duration": 169,
    "start_time": "2023-02-11T22:30:49.754Z"
   },
   {
    "duration": 140,
    "start_time": "2023-02-11T22:30:49.925Z"
   },
   {
    "duration": 144,
    "start_time": "2023-02-11T22:30:50.066Z"
   },
   {
    "duration": 535,
    "start_time": "2023-02-11T22:30:50.212Z"
   },
   {
    "duration": 582,
    "start_time": "2023-02-11T22:30:50.752Z"
   },
   {
    "duration": 511,
    "start_time": "2023-02-11T22:30:51.336Z"
   },
   {
    "duration": 25,
    "start_time": "2023-02-11T22:30:51.849Z"
   },
   {
    "duration": 6,
    "start_time": "2023-02-11T22:30:51.876Z"
   },
   {
    "duration": 48,
    "start_time": "2023-02-11T22:30:51.885Z"
   },
   {
    "duration": 51,
    "start_time": "2023-02-11T22:30:51.935Z"
   },
   {
    "duration": 5,
    "start_time": "2023-02-11T22:30:51.988Z"
   },
   {
    "duration": 619,
    "start_time": "2023-02-11T22:30:51.994Z"
   },
   {
    "duration": 4,
    "start_time": "2023-02-11T22:30:52.614Z"
   },
   {
    "duration": 496,
    "start_time": "2023-02-11T22:30:52.620Z"
   },
   {
    "duration": 10,
    "start_time": "2023-02-11T22:30:53.117Z"
   },
   {
    "duration": 39,
    "start_time": "2023-02-11T22:30:53.129Z"
   },
   {
    "duration": 419,
    "start_time": "2023-02-11T22:30:53.170Z"
   },
   {
    "duration": 9,
    "start_time": "2023-02-11T22:30:53.590Z"
   },
   {
    "duration": 57,
    "start_time": "2023-02-11T22:30:53.600Z"
   },
   {
    "duration": 532,
    "start_time": "2023-02-11T22:30:53.659Z"
   },
   {
    "duration": 293,
    "start_time": "2023-02-11T22:30:54.193Z"
   },
   {
    "duration": 167,
    "start_time": "2023-02-11T22:30:54.488Z"
   },
   {
    "duration": 23,
    "start_time": "2023-02-11T22:30:54.656Z"
   },
   {
    "duration": 40,
    "start_time": "2023-02-11T22:30:54.681Z"
   },
   {
    "duration": 4,
    "start_time": "2023-02-11T22:30:54.723Z"
   },
   {
    "duration": 47,
    "start_time": "2023-02-11T22:30:54.729Z"
   },
   {
    "duration": 454,
    "start_time": "2023-02-11T22:30:54.777Z"
   },
   {
    "duration": 58,
    "start_time": "2023-02-11T22:30:55.232Z"
   },
   {
    "duration": 182,
    "start_time": "2023-02-11T22:30:55.292Z"
   },
   {
    "duration": 185,
    "start_time": "2023-02-11T22:30:55.475Z"
   },
   {
    "duration": 556,
    "start_time": "2023-02-11T22:30:55.661Z"
   },
   {
    "duration": 17,
    "start_time": "2023-02-11T22:30:56.219Z"
   },
   {
    "duration": 18,
    "start_time": "2023-02-11T22:30:56.237Z"
   },
   {
    "duration": 6,
    "start_time": "2023-02-11T22:30:56.256Z"
   },
   {
    "duration": 296,
    "start_time": "2023-02-11T22:30:56.264Z"
   },
   {
    "duration": 1013,
    "start_time": "2023-02-11T22:30:56.564Z"
   },
   {
    "duration": 239,
    "start_time": "2023-02-11T22:30:57.579Z"
   },
   {
    "duration": 305,
    "start_time": "2023-02-11T22:30:57.820Z"
   },
   {
    "duration": 176,
    "start_time": "2023-02-11T22:30:58.128Z"
   },
   {
    "duration": 328,
    "start_time": "2023-02-11T22:30:58.305Z"
   },
   {
    "duration": 228,
    "start_time": "2023-02-11T22:30:58.635Z"
   },
   {
    "duration": 322,
    "start_time": "2023-02-11T22:30:58.865Z"
   },
   {
    "duration": 181,
    "start_time": "2023-02-11T22:30:59.189Z"
   },
   {
    "duration": 19,
    "start_time": "2023-02-11T22:30:59.371Z"
   },
   {
    "duration": 88,
    "start_time": "2023-02-11T22:30:59.392Z"
   },
   {
    "duration": 2,
    "start_time": "2023-02-11T22:30:59.482Z"
   },
   {
    "duration": 14,
    "start_time": "2023-02-11T22:30:59.486Z"
   },
   {
    "duration": 10,
    "start_time": "2023-02-11T22:30:59.503Z"
   },
   {
    "duration": 16,
    "start_time": "2023-02-11T22:30:59.515Z"
   },
   {
    "duration": 37,
    "start_time": "2023-02-11T22:30:59.533Z"
   },
   {
    "duration": 12,
    "start_time": "2023-02-11T22:30:59.571Z"
   },
   {
    "duration": 87,
    "start_time": "2023-02-11T22:30:59.584Z"
   },
   {
    "duration": 19,
    "start_time": "2023-02-11T22:30:59.673Z"
   },
   {
    "duration": 1413,
    "start_time": "2023-02-11T22:30:59.693Z"
   },
   {
    "duration": 4,
    "start_time": "2023-02-11T22:31:01.108Z"
   },
   {
    "duration": 318,
    "start_time": "2023-02-11T22:31:01.114Z"
   },
   {
    "duration": 3222,
    "start_time": "2023-02-11T22:31:01.434Z"
   },
   {
    "duration": 211,
    "start_time": "2023-02-11T22:31:04.658Z"
   },
   {
    "duration": 79887,
    "start_time": "2023-02-11T22:31:04.870Z"
   },
   {
    "duration": 80004,
    "start_time": "2023-02-11T22:32:24.853Z"
   },
   {
    "duration": 95,
    "start_time": "2023-02-11T22:33:44.859Z"
   },
   {
    "duration": 10,
    "start_time": "2023-02-11T22:33:44.956Z"
   },
   {
    "duration": 125,
    "start_time": "2023-02-11T22:33:44.967Z"
   },
   {
    "duration": 80770,
    "start_time": "2023-02-11T22:33:50.586Z"
   },
   {
    "duration": 29,
    "start_time": "2023-02-11T22:39:00.354Z"
   },
   {
    "duration": 58,
    "start_time": "2023-02-11T22:39:48.595Z"
   },
   {
    "duration": 79997,
    "start_time": "2023-02-11T22:41:36.858Z"
   },
   {
    "duration": 19956,
    "start_time": "2023-02-11T22:45:03.102Z"
   },
   {
    "duration": 18,
    "start_time": "2023-02-11T22:49:38.379Z"
   },
   {
    "duration": 607,
    "start_time": "2023-02-11T22:49:41.159Z"
   },
   {
    "duration": 81754,
    "start_time": "2023-02-11T22:49:51.202Z"
   },
   {
    "duration": 183,
    "start_time": "2023-02-11T23:08:22.120Z"
   },
   {
    "duration": 612,
    "start_time": "2023-02-11T23:08:25.154Z"
   },
   {
    "duration": 80133,
    "start_time": "2023-02-11T23:08:42.225Z"
   },
   {
    "duration": 20380,
    "start_time": "2023-02-11T23:15:32.773Z"
   },
   {
    "duration": 22,
    "start_time": "2023-02-11T23:21:53.429Z"
   },
   {
    "duration": 24,
    "start_time": "2023-02-11T23:22:32.669Z"
   },
   {
    "duration": 1289,
    "start_time": "2023-02-11T23:23:41.904Z"
   },
   {
    "duration": 800,
    "start_time": "2023-02-11T23:23:43.194Z"
   },
   {
    "duration": 19,
    "start_time": "2023-02-11T23:23:43.996Z"
   },
   {
    "duration": 172,
    "start_time": "2023-02-11T23:23:44.016Z"
   },
   {
    "duration": 10,
    "start_time": "2023-02-11T23:23:44.190Z"
   },
   {
    "duration": 167,
    "start_time": "2023-02-11T23:23:44.202Z"
   },
   {
    "duration": 134,
    "start_time": "2023-02-11T23:23:44.371Z"
   },
   {
    "duration": 99,
    "start_time": "2023-02-11T23:23:44.507Z"
   },
   {
    "duration": 512,
    "start_time": "2023-02-11T23:23:44.608Z"
   },
   {
    "duration": 542,
    "start_time": "2023-02-11T23:23:45.123Z"
   },
   {
    "duration": 476,
    "start_time": "2023-02-11T23:23:45.666Z"
   },
   {
    "duration": 29,
    "start_time": "2023-02-11T23:23:46.144Z"
   },
   {
    "duration": 25,
    "start_time": "2023-02-11T23:23:46.174Z"
   },
   {
    "duration": 49,
    "start_time": "2023-02-11T23:23:46.201Z"
   },
   {
    "duration": 36,
    "start_time": "2023-02-11T23:23:46.252Z"
   },
   {
    "duration": 5,
    "start_time": "2023-02-11T23:23:46.289Z"
   },
   {
    "duration": 611,
    "start_time": "2023-02-11T23:23:46.295Z"
   },
   {
    "duration": 3,
    "start_time": "2023-02-11T23:23:46.908Z"
   },
   {
    "duration": 475,
    "start_time": "2023-02-11T23:23:46.913Z"
   },
   {
    "duration": 11,
    "start_time": "2023-02-11T23:23:47.390Z"
   },
   {
    "duration": 28,
    "start_time": "2023-02-11T23:23:47.402Z"
   },
   {
    "duration": 493,
    "start_time": "2023-02-11T23:23:47.431Z"
   },
   {
    "duration": 9,
    "start_time": "2023-02-11T23:23:47.925Z"
   },
   {
    "duration": 53,
    "start_time": "2023-02-11T23:23:47.935Z"
   },
   {
    "duration": 443,
    "start_time": "2023-02-11T23:23:47.990Z"
   },
   {
    "duration": 253,
    "start_time": "2023-02-11T23:23:48.434Z"
   },
   {
    "duration": 167,
    "start_time": "2023-02-11T23:23:48.688Z"
   },
   {
    "duration": 23,
    "start_time": "2023-02-11T23:23:48.859Z"
   },
   {
    "duration": 43,
    "start_time": "2023-02-11T23:23:48.883Z"
   },
   {
    "duration": 5,
    "start_time": "2023-02-11T23:23:48.927Z"
   },
   {
    "duration": 25,
    "start_time": "2023-02-11T23:23:48.953Z"
   },
   {
    "duration": 431,
    "start_time": "2023-02-11T23:23:48.979Z"
   },
   {
    "duration": 56,
    "start_time": "2023-02-11T23:23:49.412Z"
   },
   {
    "duration": 172,
    "start_time": "2023-02-11T23:23:49.470Z"
   },
   {
    "duration": 194,
    "start_time": "2023-02-11T23:23:49.643Z"
   },
   {
    "duration": 580,
    "start_time": "2023-02-11T23:23:49.839Z"
   },
   {
    "duration": 17,
    "start_time": "2023-02-11T23:23:50.421Z"
   },
   {
    "duration": 13,
    "start_time": "2023-02-11T23:23:50.440Z"
   },
   {
    "duration": 4,
    "start_time": "2023-02-11T23:23:50.455Z"
   },
   {
    "duration": 321,
    "start_time": "2023-02-11T23:23:50.461Z"
   },
   {
    "duration": 1024,
    "start_time": "2023-02-11T23:23:50.784Z"
   },
   {
    "duration": 239,
    "start_time": "2023-02-11T23:23:51.810Z"
   },
   {
    "duration": 284,
    "start_time": "2023-02-11T23:23:52.054Z"
   },
   {
    "duration": 182,
    "start_time": "2023-02-11T23:23:52.340Z"
   },
   {
    "duration": 281,
    "start_time": "2023-02-11T23:23:52.524Z"
   },
   {
    "duration": 226,
    "start_time": "2023-02-11T23:23:52.807Z"
   },
   {
    "duration": 282,
    "start_time": "2023-02-11T23:23:53.035Z"
   },
   {
    "duration": 169,
    "start_time": "2023-02-11T23:23:53.318Z"
   },
   {
    "duration": 21,
    "start_time": "2023-02-11T23:23:53.488Z"
   },
   {
    "duration": 77,
    "start_time": "2023-02-11T23:23:53.511Z"
   },
   {
    "duration": 3,
    "start_time": "2023-02-11T23:23:53.589Z"
   },
   {
    "duration": 7,
    "start_time": "2023-02-11T23:23:53.593Z"
   },
   {
    "duration": 10,
    "start_time": "2023-02-11T23:23:53.601Z"
   },
   {
    "duration": 11,
    "start_time": "2023-02-11T23:23:53.613Z"
   },
   {
    "duration": 32,
    "start_time": "2023-02-11T23:23:53.626Z"
   },
   {
    "duration": 10,
    "start_time": "2023-02-11T23:23:53.660Z"
   },
   {
    "duration": 82,
    "start_time": "2023-02-11T23:23:53.671Z"
   },
   {
    "duration": 18,
    "start_time": "2023-02-11T23:23:53.755Z"
   },
   {
    "duration": 1265,
    "start_time": "2023-02-11T23:23:53.774Z"
   },
   {
    "duration": 12,
    "start_time": "2023-02-11T23:23:55.041Z"
   },
   {
    "duration": 136,
    "start_time": "2023-02-11T23:23:55.055Z"
   },
   {
    "duration": 0,
    "start_time": "2023-02-11T23:23:55.192Z"
   },
   {
    "duration": 0,
    "start_time": "2023-02-11T23:23:55.193Z"
   },
   {
    "duration": 0,
    "start_time": "2023-02-11T23:23:55.194Z"
   },
   {
    "duration": 0,
    "start_time": "2023-02-11T23:23:55.195Z"
   },
   {
    "duration": 0,
    "start_time": "2023-02-11T23:23:55.196Z"
   },
   {
    "duration": 0,
    "start_time": "2023-02-11T23:23:55.197Z"
   },
   {
    "duration": 0,
    "start_time": "2023-02-11T23:23:55.198Z"
   },
   {
    "duration": 0,
    "start_time": "2023-02-11T23:23:55.199Z"
   },
   {
    "duration": 0,
    "start_time": "2023-02-11T23:23:55.200Z"
   },
   {
    "duration": 0,
    "start_time": "2023-02-11T23:23:55.202Z"
   },
   {
    "duration": 0,
    "start_time": "2023-02-11T23:23:55.203Z"
   },
   {
    "duration": 3503,
    "start_time": "2023-02-11T23:25:43.481Z"
   },
   {
    "duration": 81184,
    "start_time": "2023-02-11T23:25:51.880Z"
   },
   {
    "duration": 22,
    "start_time": "2023-02-11T23:27:58.704Z"
   },
   {
    "duration": 23,
    "start_time": "2023-02-11T23:28:02.309Z"
   },
   {
    "duration": 12,
    "start_time": "2023-02-11T23:33:54.015Z"
   },
   {
    "duration": 20964,
    "start_time": "2023-02-11T23:34:49.393Z"
   },
   {
    "duration": 429,
    "start_time": "2023-02-11T23:35:17.326Z"
   },
   {
    "duration": 372,
    "start_time": "2023-02-11T23:35:38.688Z"
   },
   {
    "duration": 21236,
    "start_time": "2023-02-11T23:35:49.120Z"
   },
   {
    "duration": 1835,
    "start_time": "2023-02-12T16:25:34.896Z"
   },
   {
    "duration": 3320,
    "start_time": "2023-02-12T16:25:36.733Z"
   },
   {
    "duration": 21,
    "start_time": "2023-02-12T16:25:40.055Z"
   },
   {
    "duration": 162,
    "start_time": "2023-02-12T16:25:40.077Z"
   },
   {
    "duration": 3,
    "start_time": "2023-02-12T16:25:40.242Z"
   },
   {
    "duration": 150,
    "start_time": "2023-02-12T16:25:40.246Z"
   },
   {
    "duration": 183,
    "start_time": "2023-02-12T16:25:40.401Z"
   },
   {
    "duration": 135,
    "start_time": "2023-02-12T16:25:40.585Z"
   },
   {
    "duration": 496,
    "start_time": "2023-02-12T16:25:40.722Z"
   },
   {
    "duration": 574,
    "start_time": "2023-02-12T16:25:41.220Z"
   },
   {
    "duration": 519,
    "start_time": "2023-02-12T16:25:41.796Z"
   },
   {
    "duration": 34,
    "start_time": "2023-02-12T16:25:42.317Z"
   },
   {
    "duration": 10,
    "start_time": "2023-02-12T16:25:42.353Z"
   },
   {
    "duration": 82,
    "start_time": "2023-02-12T16:25:42.369Z"
   },
   {
    "duration": 45,
    "start_time": "2023-02-12T16:25:42.454Z"
   },
   {
    "duration": 10,
    "start_time": "2023-02-12T16:25:42.503Z"
   },
   {
    "duration": 801,
    "start_time": "2023-02-12T16:25:42.515Z"
   },
   {
    "duration": 6,
    "start_time": "2023-02-12T16:25:43.318Z"
   },
   {
    "duration": 633,
    "start_time": "2023-02-12T16:25:43.327Z"
   },
   {
    "duration": 10,
    "start_time": "2023-02-12T16:25:43.962Z"
   },
   {
    "duration": 23,
    "start_time": "2023-02-12T16:25:43.974Z"
   },
   {
    "duration": 579,
    "start_time": "2023-02-12T16:25:43.999Z"
   },
   {
    "duration": 13,
    "start_time": "2023-02-12T16:25:44.580Z"
   },
   {
    "duration": 68,
    "start_time": "2023-02-12T16:25:44.596Z"
   },
   {
    "duration": 538,
    "start_time": "2023-02-12T16:25:44.666Z"
   },
   {
    "duration": 291,
    "start_time": "2023-02-12T16:25:45.206Z"
   },
   {
    "duration": 204,
    "start_time": "2023-02-12T16:25:45.506Z"
   },
   {
    "duration": 42,
    "start_time": "2023-02-12T16:25:45.714Z"
   },
   {
    "duration": 49,
    "start_time": "2023-02-12T16:25:45.758Z"
   },
   {
    "duration": 6,
    "start_time": "2023-02-12T16:25:45.808Z"
   },
   {
    "duration": 35,
    "start_time": "2023-02-12T16:25:45.816Z"
   },
   {
    "duration": 448,
    "start_time": "2023-02-12T16:25:45.853Z"
   },
   {
    "duration": 64,
    "start_time": "2023-02-12T16:25:46.303Z"
   },
   {
    "duration": 157,
    "start_time": "2023-02-12T16:25:46.369Z"
   },
   {
    "duration": 226,
    "start_time": "2023-02-12T16:25:46.528Z"
   },
   {
    "duration": 668,
    "start_time": "2023-02-12T16:25:46.756Z"
   },
   {
    "duration": 24,
    "start_time": "2023-02-12T16:25:47.427Z"
   },
   {
    "duration": 4,
    "start_time": "2023-02-12T16:25:47.453Z"
   },
   {
    "duration": 5,
    "start_time": "2023-02-12T16:25:47.459Z"
   },
   {
    "duration": 336,
    "start_time": "2023-02-12T16:25:47.466Z"
   },
   {
    "duration": 1101,
    "start_time": "2023-02-12T16:25:47.806Z"
   },
   {
    "duration": 253,
    "start_time": "2023-02-12T16:25:48.908Z"
   },
   {
    "duration": 321,
    "start_time": "2023-02-12T16:25:49.163Z"
   },
   {
    "duration": 195,
    "start_time": "2023-02-12T16:25:49.487Z"
   },
   {
    "duration": 317,
    "start_time": "2023-02-12T16:25:49.684Z"
   },
   {
    "duration": 236,
    "start_time": "2023-02-12T16:25:50.003Z"
   },
   {
    "duration": 312,
    "start_time": "2023-02-12T16:25:50.241Z"
   },
   {
    "duration": 202,
    "start_time": "2023-02-12T16:25:50.555Z"
   },
   {
    "duration": 22,
    "start_time": "2023-02-12T16:25:50.760Z"
   },
   {
    "duration": 102,
    "start_time": "2023-02-12T16:25:50.784Z"
   },
   {
    "duration": 3,
    "start_time": "2023-02-12T16:25:50.888Z"
   },
   {
    "duration": 11,
    "start_time": "2023-02-12T16:25:50.893Z"
   },
   {
    "duration": 10,
    "start_time": "2023-02-12T16:25:50.905Z"
   },
   {
    "duration": 29,
    "start_time": "2023-02-12T16:25:50.917Z"
   },
   {
    "duration": 30,
    "start_time": "2023-02-12T16:25:50.948Z"
   },
   {
    "duration": 10,
    "start_time": "2023-02-12T16:25:50.980Z"
   },
   {
    "duration": 109,
    "start_time": "2023-02-12T16:25:50.992Z"
   },
   {
    "duration": 29,
    "start_time": "2023-02-12T16:25:51.103Z"
   },
   {
    "duration": 1526,
    "start_time": "2023-02-12T16:25:51.134Z"
   },
   {
    "duration": 5,
    "start_time": "2023-02-12T16:25:52.662Z"
   },
   {
    "duration": 155,
    "start_time": "2023-02-12T16:25:52.668Z"
   },
   {
    "duration": 0,
    "start_time": "2023-02-12T16:25:52.825Z"
   },
   {
    "duration": 0,
    "start_time": "2023-02-12T16:25:52.827Z"
   },
   {
    "duration": 0,
    "start_time": "2023-02-12T16:25:52.837Z"
   },
   {
    "duration": 0,
    "start_time": "2023-02-12T16:25:52.839Z"
   },
   {
    "duration": 0,
    "start_time": "2023-02-12T16:25:52.841Z"
   },
   {
    "duration": 0,
    "start_time": "2023-02-12T16:25:52.842Z"
   },
   {
    "duration": 0,
    "start_time": "2023-02-12T16:25:52.844Z"
   },
   {
    "duration": 0,
    "start_time": "2023-02-12T16:25:52.846Z"
   },
   {
    "duration": 0,
    "start_time": "2023-02-12T16:25:52.847Z"
   },
   {
    "duration": 9,
    "start_time": "2023-02-12T16:28:31.809Z"
   },
   {
    "duration": 190,
    "start_time": "2023-02-12T16:28:45.994Z"
   },
   {
    "duration": 2904,
    "start_time": "2023-02-12T16:28:47.819Z"
   },
   {
    "duration": 182,
    "start_time": "2023-02-12T16:29:01.434Z"
   },
   {
    "duration": 119911,
    "start_time": "2023-02-12T16:29:04.132Z"
   },
   {
    "duration": 31499,
    "start_time": "2023-02-12T16:31:04.046Z"
   },
   {
    "duration": 502,
    "start_time": "2023-02-12T16:31:35.547Z"
   },
   {
    "duration": 4,
    "start_time": "2023-02-12T16:33:11.560Z"
   },
   {
    "duration": 4,
    "start_time": "2023-02-12T16:33:44.006Z"
   },
   {
    "duration": 125683,
    "start_time": "2023-02-12T16:35:10.373Z"
   },
   {
    "duration": 50,
    "start_time": "2023-02-12T16:38:49.945Z"
   },
   {
    "duration": 115177,
    "start_time": "2023-02-12T16:39:17.670Z"
   },
   {
    "duration": 176,
    "start_time": "2023-02-12T16:41:12.850Z"
   },
   {
    "duration": 30520,
    "start_time": "2023-02-12T16:41:26.426Z"
   },
   {
    "duration": 154,
    "start_time": "2023-02-12T16:42:06.785Z"
   },
   {
    "duration": 469,
    "start_time": "2023-02-12T16:42:19.870Z"
   },
   {
    "duration": 4,
    "start_time": "2023-02-12T16:43:20.823Z"
   },
   {
    "duration": 3,
    "start_time": "2023-02-12T17:05:54.189Z"
   },
   {
    "duration": 1339,
    "start_time": "2023-02-12T17:16:09.286Z"
   },
   {
    "duration": 852,
    "start_time": "2023-02-12T17:16:10.627Z"
   },
   {
    "duration": 19,
    "start_time": "2023-02-12T17:16:11.481Z"
   },
   {
    "duration": 153,
    "start_time": "2023-02-12T17:16:11.502Z"
   },
   {
    "duration": 3,
    "start_time": "2023-02-12T17:16:11.656Z"
   },
   {
    "duration": 144,
    "start_time": "2023-02-12T17:16:11.661Z"
   },
   {
    "duration": 140,
    "start_time": "2023-02-12T17:16:11.807Z"
   },
   {
    "duration": 102,
    "start_time": "2023-02-12T17:16:11.948Z"
   },
   {
    "duration": 527,
    "start_time": "2023-02-12T17:16:12.052Z"
   },
   {
    "duration": 546,
    "start_time": "2023-02-12T17:16:12.582Z"
   },
   {
    "duration": 460,
    "start_time": "2023-02-12T17:16:13.130Z"
   },
   {
    "duration": 27,
    "start_time": "2023-02-12T17:16:13.592Z"
   },
   {
    "duration": 21,
    "start_time": "2023-02-12T17:16:13.621Z"
   },
   {
    "duration": 49,
    "start_time": "2023-02-12T17:16:13.644Z"
   },
   {
    "duration": 34,
    "start_time": "2023-02-12T17:16:13.695Z"
   },
   {
    "duration": 8,
    "start_time": "2023-02-12T17:16:13.731Z"
   },
   {
    "duration": 697,
    "start_time": "2023-02-12T17:16:13.741Z"
   },
   {
    "duration": 3,
    "start_time": "2023-02-12T17:16:14.440Z"
   },
   {
    "duration": 521,
    "start_time": "2023-02-12T17:16:14.445Z"
   },
   {
    "duration": 9,
    "start_time": "2023-02-12T17:16:14.968Z"
   },
   {
    "duration": 41,
    "start_time": "2023-02-12T17:16:14.978Z"
   },
   {
    "duration": 507,
    "start_time": "2023-02-12T17:16:15.022Z"
   },
   {
    "duration": 13,
    "start_time": "2023-02-12T17:16:15.531Z"
   },
   {
    "duration": 48,
    "start_time": "2023-02-12T17:16:15.546Z"
   },
   {
    "duration": 479,
    "start_time": "2023-02-12T17:16:15.596Z"
   },
   {
    "duration": 274,
    "start_time": "2023-02-12T17:16:16.077Z"
   },
   {
    "duration": 180,
    "start_time": "2023-02-12T17:16:16.353Z"
   },
   {
    "duration": 22,
    "start_time": "2023-02-12T17:16:16.541Z"
   },
   {
    "duration": 70,
    "start_time": "2023-02-12T17:16:16.565Z"
   },
   {
    "duration": 5,
    "start_time": "2023-02-12T17:16:16.637Z"
   },
   {
    "duration": 33,
    "start_time": "2023-02-12T17:16:16.643Z"
   },
   {
    "duration": 472,
    "start_time": "2023-02-12T17:16:16.678Z"
   },
   {
    "duration": 46,
    "start_time": "2023-02-12T17:16:17.152Z"
   },
   {
    "duration": 181,
    "start_time": "2023-02-12T17:16:17.200Z"
   },
   {
    "duration": 189,
    "start_time": "2023-02-12T17:16:17.382Z"
   },
   {
    "duration": 662,
    "start_time": "2023-02-12T17:16:17.572Z"
   },
   {
    "duration": 17,
    "start_time": "2023-02-12T17:16:18.237Z"
   },
   {
    "duration": 3,
    "start_time": "2023-02-12T17:16:18.256Z"
   },
   {
    "duration": 7,
    "start_time": "2023-02-12T17:16:18.261Z"
   },
   {
    "duration": 334,
    "start_time": "2023-02-12T17:16:18.270Z"
   },
   {
    "duration": 1120,
    "start_time": "2023-02-12T17:16:18.606Z"
   },
   {
    "duration": 347,
    "start_time": "2023-02-12T17:16:19.738Z"
   },
   {
    "duration": 295,
    "start_time": "2023-02-12T17:16:20.087Z"
   },
   {
    "duration": 194,
    "start_time": "2023-02-12T17:16:20.383Z"
   },
   {
    "duration": 292,
    "start_time": "2023-02-12T17:16:20.579Z"
   },
   {
    "duration": 239,
    "start_time": "2023-02-12T17:16:20.873Z"
   },
   {
    "duration": 294,
    "start_time": "2023-02-12T17:16:21.114Z"
   },
   {
    "duration": 193,
    "start_time": "2023-02-12T17:16:21.409Z"
   },
   {
    "duration": 20,
    "start_time": "2023-02-12T17:16:21.603Z"
   },
   {
    "duration": 88,
    "start_time": "2023-02-12T17:16:21.625Z"
   },
   {
    "duration": 2,
    "start_time": "2023-02-12T17:16:21.715Z"
   },
   {
    "duration": 18,
    "start_time": "2023-02-12T17:16:21.719Z"
   },
   {
    "duration": 7,
    "start_time": "2023-02-12T17:16:21.739Z"
   },
   {
    "duration": 14,
    "start_time": "2023-02-12T17:16:21.747Z"
   },
   {
    "duration": 19,
    "start_time": "2023-02-12T17:16:21.763Z"
   },
   {
    "duration": 11,
    "start_time": "2023-02-12T17:16:21.783Z"
   },
   {
    "duration": 92,
    "start_time": "2023-02-12T17:16:21.796Z"
   },
   {
    "duration": 19,
    "start_time": "2023-02-12T17:16:21.890Z"
   },
   {
    "duration": 1424,
    "start_time": "2023-02-12T17:16:21.910Z"
   },
   {
    "duration": 3,
    "start_time": "2023-02-12T17:16:23.337Z"
   },
   {
    "duration": 14,
    "start_time": "2023-02-12T17:16:23.342Z"
   },
   {
    "duration": 2899,
    "start_time": "2023-02-12T17:16:23.358Z"
   },
   {
    "duration": 3,
    "start_time": "2023-02-12T17:16:26.259Z"
   },
   {
    "duration": 16,
    "start_time": "2023-02-12T17:16:26.264Z"
   },
   {
    "duration": 196,
    "start_time": "2023-02-12T17:16:26.282Z"
   },
   {
    "duration": 172,
    "start_time": "2023-02-12T17:16:26.480Z"
   },
   {
    "duration": 3,
    "start_time": "2023-02-12T17:16:26.654Z"
   },
   {
    "duration": 26,
    "start_time": "2023-02-12T17:16:26.659Z"
   },
   {
    "duration": 86958,
    "start_time": "2023-02-12T17:16:26.687Z"
   },
   {
    "duration": 206,
    "start_time": "2023-02-12T17:17:53.647Z"
   },
   {
    "duration": 1,
    "start_time": "2023-02-12T17:17:53.854Z"
   },
   {
    "duration": 0,
    "start_time": "2023-02-12T17:17:53.856Z"
   },
   {
    "duration": 0,
    "start_time": "2023-02-12T17:17:53.858Z"
   },
   {
    "duration": 0,
    "start_time": "2023-02-12T17:17:53.860Z"
   },
   {
    "duration": 0,
    "start_time": "2023-02-12T17:17:53.861Z"
   },
   {
    "duration": 0,
    "start_time": "2023-02-12T17:17:53.862Z"
   },
   {
    "duration": 0,
    "start_time": "2023-02-12T17:17:53.864Z"
   },
   {
    "duration": 5,
    "start_time": "2023-02-12T17:19:01.662Z"
   },
   {
    "duration": 30762,
    "start_time": "2023-02-12T17:19:16.979Z"
   },
   {
    "duration": 467,
    "start_time": "2023-02-12T17:31:59.872Z"
   },
   {
    "duration": 28542,
    "start_time": "2023-02-12T17:32:02.796Z"
   },
   {
    "duration": 4,
    "start_time": "2023-02-12T17:33:14.823Z"
   },
   {
    "duration": 5,
    "start_time": "2023-02-12T17:48:10.860Z"
   },
   {
    "duration": 1756,
    "start_time": "2023-02-13T07:48:13.850Z"
   },
   {
    "duration": 4,
    "start_time": "2023-02-13T08:06:21.157Z"
   },
   {
    "duration": 2960,
    "start_time": "2023-02-13T08:06:21.163Z"
   },
   {
    "duration": 26,
    "start_time": "2023-02-13T08:06:24.126Z"
   },
   {
    "duration": 165,
    "start_time": "2023-02-13T08:06:24.154Z"
   },
   {
    "duration": 3,
    "start_time": "2023-02-13T08:06:24.321Z"
   },
   {
    "duration": 132,
    "start_time": "2023-02-13T08:06:24.325Z"
   },
   {
    "duration": 136,
    "start_time": "2023-02-13T08:06:24.459Z"
   },
   {
    "duration": 94,
    "start_time": "2023-02-13T08:06:24.597Z"
   },
   {
    "duration": 430,
    "start_time": "2023-02-13T08:06:24.693Z"
   },
   {
    "duration": 445,
    "start_time": "2023-02-13T08:06:25.124Z"
   },
   {
    "duration": 513,
    "start_time": "2023-02-13T08:06:25.571Z"
   },
   {
    "duration": 25,
    "start_time": "2023-02-13T08:06:26.086Z"
   },
   {
    "duration": 9,
    "start_time": "2023-02-13T08:06:26.113Z"
   },
   {
    "duration": 55,
    "start_time": "2023-02-13T08:06:26.124Z"
   },
   {
    "duration": 37,
    "start_time": "2023-02-13T08:06:26.181Z"
   },
   {
    "duration": 6,
    "start_time": "2023-02-13T08:06:26.220Z"
   },
   {
    "duration": 709,
    "start_time": "2023-02-13T08:06:26.250Z"
   },
   {
    "duration": 4,
    "start_time": "2023-02-13T08:06:26.962Z"
   },
   {
    "duration": 487,
    "start_time": "2023-02-13T08:06:26.968Z"
   },
   {
    "duration": 9,
    "start_time": "2023-02-13T08:06:27.456Z"
   },
   {
    "duration": 23,
    "start_time": "2023-02-13T08:06:27.467Z"
   },
   {
    "duration": 520,
    "start_time": "2023-02-13T08:06:27.492Z"
   },
   {
    "duration": 9,
    "start_time": "2023-02-13T08:06:28.014Z"
   },
   {
    "duration": 59,
    "start_time": "2023-02-13T08:06:28.024Z"
   },
   {
    "duration": 475,
    "start_time": "2023-02-13T08:06:28.084Z"
   },
   {
    "duration": 261,
    "start_time": "2023-02-13T08:06:28.561Z"
   },
   {
    "duration": 157,
    "start_time": "2023-02-13T08:06:28.824Z"
   },
   {
    "duration": 30,
    "start_time": "2023-02-13T08:06:28.982Z"
   },
   {
    "duration": 56,
    "start_time": "2023-02-13T08:06:29.017Z"
   },
   {
    "duration": 6,
    "start_time": "2023-02-13T08:06:29.075Z"
   },
   {
    "duration": 24,
    "start_time": "2023-02-13T08:06:29.083Z"
   },
   {
    "duration": 442,
    "start_time": "2023-02-13T08:06:29.109Z"
   },
   {
    "duration": 47,
    "start_time": "2023-02-13T08:06:29.553Z"
   },
   {
    "duration": 187,
    "start_time": "2023-02-13T08:06:29.602Z"
   },
   {
    "duration": 196,
    "start_time": "2023-02-13T08:06:29.791Z"
   },
   {
    "duration": 655,
    "start_time": "2023-02-13T08:06:29.989Z"
   },
   {
    "duration": 18,
    "start_time": "2023-02-13T08:06:30.647Z"
   },
   {
    "duration": 19,
    "start_time": "2023-02-13T08:06:30.668Z"
   },
   {
    "duration": 31,
    "start_time": "2023-02-13T08:06:30.689Z"
   },
   {
    "duration": 324,
    "start_time": "2023-02-13T08:06:30.722Z"
   },
   {
    "duration": 985,
    "start_time": "2023-02-13T08:06:31.048Z"
   },
   {
    "duration": 245,
    "start_time": "2023-02-13T08:06:32.035Z"
   },
   {
    "duration": 289,
    "start_time": "2023-02-13T08:06:32.282Z"
   },
   {
    "duration": 189,
    "start_time": "2023-02-13T08:06:32.573Z"
   },
   {
    "duration": 322,
    "start_time": "2023-02-13T08:06:32.763Z"
   },
   {
    "duration": 223,
    "start_time": "2023-02-13T08:06:33.087Z"
   },
   {
    "duration": 296,
    "start_time": "2023-02-13T08:06:33.311Z"
   },
   {
    "duration": 182,
    "start_time": "2023-02-13T08:06:33.609Z"
   },
   {
    "duration": 18,
    "start_time": "2023-02-13T08:06:33.792Z"
   },
   {
    "duration": 81,
    "start_time": "2023-02-13T08:06:33.812Z"
   },
   {
    "duration": 3,
    "start_time": "2023-02-13T08:06:33.895Z"
   },
   {
    "duration": 5,
    "start_time": "2023-02-13T08:06:33.900Z"
   },
   {
    "duration": 19,
    "start_time": "2023-02-13T08:06:33.907Z"
   },
   {
    "duration": 22,
    "start_time": "2023-02-13T08:06:33.928Z"
   },
   {
    "duration": 19,
    "start_time": "2023-02-13T08:06:33.952Z"
   },
   {
    "duration": 10,
    "start_time": "2023-02-13T08:06:33.973Z"
   },
   {
    "duration": 81,
    "start_time": "2023-02-13T08:06:33.984Z"
   },
   {
    "duration": 18,
    "start_time": "2023-02-13T08:06:34.067Z"
   },
   {
    "duration": 1267,
    "start_time": "2023-02-13T08:06:34.086Z"
   },
   {
    "duration": 3,
    "start_time": "2023-02-13T08:06:35.355Z"
   },
   {
    "duration": 12,
    "start_time": "2023-02-13T08:06:35.360Z"
   },
   {
    "duration": 1830,
    "start_time": "2023-02-13T08:06:35.373Z"
   },
   {
    "duration": 5,
    "start_time": "2023-02-13T08:06:37.205Z"
   },
   {
    "duration": 127,
    "start_time": "2023-02-13T08:06:37.212Z"
   },
   {
    "duration": 0,
    "start_time": "2023-02-13T08:06:37.340Z"
   },
   {
    "duration": 3,
    "start_time": "2023-02-13T08:07:01.717Z"
   },
   {
    "duration": 687,
    "start_time": "2023-02-13T08:07:03.609Z"
   },
   {
    "duration": 886,
    "start_time": "2023-02-13T08:09:09.430Z"
   },
   {
    "duration": 5,
    "start_time": "2023-02-13T08:18:54.863Z"
   },
   {
    "duration": 851,
    "start_time": "2023-02-13T08:18:54.871Z"
   },
   {
    "duration": 13,
    "start_time": "2023-02-13T08:18:55.724Z"
   },
   {
    "duration": 125,
    "start_time": "2023-02-13T08:18:55.748Z"
   },
   {
    "duration": 2,
    "start_time": "2023-02-13T08:18:55.876Z"
   },
   {
    "duration": 141,
    "start_time": "2023-02-13T08:18:55.880Z"
   },
   {
    "duration": 137,
    "start_time": "2023-02-13T08:18:56.023Z"
   },
   {
    "duration": 88,
    "start_time": "2023-02-13T08:18:56.161Z"
   },
   {
    "duration": 410,
    "start_time": "2023-02-13T08:18:56.251Z"
   },
   {
    "duration": 436,
    "start_time": "2023-02-13T08:18:56.662Z"
   },
   {
    "duration": 402,
    "start_time": "2023-02-13T08:18:57.101Z"
   },
   {
    "duration": 24,
    "start_time": "2023-02-13T08:18:57.505Z"
   },
   {
    "duration": 18,
    "start_time": "2023-02-13T08:18:57.531Z"
   },
   {
    "duration": 40,
    "start_time": "2023-02-13T08:18:57.550Z"
   },
   {
    "duration": 14,
    "start_time": "2023-02-13T08:18:57.592Z"
   },
   {
    "duration": 5,
    "start_time": "2023-02-13T08:18:57.607Z"
   },
   {
    "duration": 595,
    "start_time": "2023-02-13T08:18:57.614Z"
   },
   {
    "duration": 4,
    "start_time": "2023-02-13T08:18:58.211Z"
   },
   {
    "duration": 507,
    "start_time": "2023-02-13T08:18:58.217Z"
   },
   {
    "duration": 8,
    "start_time": "2023-02-13T08:18:58.726Z"
   },
   {
    "duration": 29,
    "start_time": "2023-02-13T08:18:58.736Z"
   },
   {
    "duration": 531,
    "start_time": "2023-02-13T08:18:58.767Z"
   },
   {
    "duration": 10,
    "start_time": "2023-02-13T08:18:59.300Z"
   },
   {
    "duration": 62,
    "start_time": "2023-02-13T08:18:59.312Z"
   },
   {
    "duration": 474,
    "start_time": "2023-02-13T08:18:59.376Z"
   },
   {
    "duration": 283,
    "start_time": "2023-02-13T08:18:59.852Z"
   },
   {
    "duration": 166,
    "start_time": "2023-02-13T08:19:00.136Z"
   },
   {
    "duration": 21,
    "start_time": "2023-02-13T08:19:00.304Z"
   },
   {
    "duration": 55,
    "start_time": "2023-02-13T08:19:00.330Z"
   },
   {
    "duration": 4,
    "start_time": "2023-02-13T08:19:00.387Z"
   },
   {
    "duration": 33,
    "start_time": "2023-02-13T08:19:00.393Z"
   },
   {
    "duration": 424,
    "start_time": "2023-02-13T08:19:00.428Z"
   },
   {
    "duration": 49,
    "start_time": "2023-02-13T08:19:00.854Z"
   },
   {
    "duration": 172,
    "start_time": "2023-02-13T08:19:00.905Z"
   },
   {
    "duration": 190,
    "start_time": "2023-02-13T08:19:01.079Z"
   },
   {
    "duration": 624,
    "start_time": "2023-02-13T08:19:01.271Z"
   },
   {
    "duration": 17,
    "start_time": "2023-02-13T08:19:01.896Z"
   },
   {
    "duration": 4,
    "start_time": "2023-02-13T08:19:01.915Z"
   },
   {
    "duration": 9,
    "start_time": "2023-02-13T08:19:01.920Z"
   },
   {
    "duration": 337,
    "start_time": "2023-02-13T08:19:01.931Z"
   },
   {
    "duration": 1047,
    "start_time": "2023-02-13T08:19:02.270Z"
   },
   {
    "duration": 278,
    "start_time": "2023-02-13T08:19:03.319Z"
   },
   {
    "duration": 283,
    "start_time": "2023-02-13T08:19:03.598Z"
   },
   {
    "duration": 181,
    "start_time": "2023-02-13T08:19:03.884Z"
   },
   {
    "duration": 307,
    "start_time": "2023-02-13T08:19:04.067Z"
   },
   {
    "duration": 228,
    "start_time": "2023-02-13T08:19:04.375Z"
   },
   {
    "duration": 280,
    "start_time": "2023-02-13T08:19:04.604Z"
   },
   {
    "duration": 177,
    "start_time": "2023-02-13T08:19:04.886Z"
   },
   {
    "duration": 22,
    "start_time": "2023-02-13T08:19:05.064Z"
   },
   {
    "duration": 92,
    "start_time": "2023-02-13T08:19:05.087Z"
   },
   {
    "duration": 3,
    "start_time": "2023-02-13T08:19:05.180Z"
   },
   {
    "duration": 5,
    "start_time": "2023-02-13T08:19:05.185Z"
   },
   {
    "duration": 6,
    "start_time": "2023-02-13T08:19:05.192Z"
   },
   {
    "duration": 13,
    "start_time": "2023-02-13T08:19:05.200Z"
   },
   {
    "duration": 35,
    "start_time": "2023-02-13T08:19:05.215Z"
   },
   {
    "duration": 13,
    "start_time": "2023-02-13T08:19:05.252Z"
   },
   {
    "duration": 89,
    "start_time": "2023-02-13T08:19:05.267Z"
   },
   {
    "duration": 16,
    "start_time": "2023-02-13T08:19:05.359Z"
   },
   {
    "duration": 1314,
    "start_time": "2023-02-13T08:19:05.376Z"
   },
   {
    "duration": 4,
    "start_time": "2023-02-13T08:19:06.691Z"
   },
   {
    "duration": 14,
    "start_time": "2023-02-13T08:19:06.696Z"
   },
   {
    "duration": 1775,
    "start_time": "2023-02-13T08:19:06.712Z"
   },
   {
    "duration": 3,
    "start_time": "2023-02-13T08:19:08.489Z"
   },
   {
    "duration": 4,
    "start_time": "2023-02-13T08:19:08.494Z"
   },
   {
    "duration": 173,
    "start_time": "2023-02-13T08:19:08.500Z"
   },
   {
    "duration": 809,
    "start_time": "2023-02-13T08:19:08.675Z"
   },
   {
    "duration": 160,
    "start_time": "2023-02-13T08:24:56.006Z"
   },
   {
    "duration": 3,
    "start_time": "2023-02-13T08:24:58.128Z"
   },
   {
    "duration": 2,
    "start_time": "2023-02-13T08:25:00.244Z"
   },
   {
    "duration": 89901,
    "start_time": "2023-02-13T08:25:04.456Z"
   },
   {
    "duration": 20896,
    "start_time": "2023-02-13T08:26:34.359Z"
   },
   {
    "duration": 497,
    "start_time": "2023-02-13T08:26:55.258Z"
   },
   {
    "duration": 91,
    "start_time": "2023-02-13T08:26:55.758Z"
   },
   {
    "duration": 15682,
    "start_time": "2023-02-13T08:27:22.559Z"
   },
   {
    "duration": 107,
    "start_time": "2023-02-13T08:38:23.962Z"
   },
   {
    "duration": 15555,
    "start_time": "2023-02-13T08:38:31.695Z"
   },
   {
    "duration": 3,
    "start_time": "2023-02-13T08:40:16.937Z"
   },
   {
    "duration": 4,
    "start_time": "2023-02-13T08:47:05.372Z"
   },
   {
    "duration": 2,
    "start_time": "2023-02-13T08:47:07.414Z"
   },
   {
    "duration": 3,
    "start_time": "2023-02-13T08:47:15.186Z"
   },
   {
    "duration": 9,
    "start_time": "2023-02-13T08:47:52.635Z"
   },
   {
    "duration": 3,
    "start_time": "2023-02-13T08:48:00.706Z"
   },
   {
    "duration": 5,
    "start_time": "2023-02-13T08:48:26.975Z"
   },
   {
    "duration": 2,
    "start_time": "2023-02-13T08:48:50.140Z"
   },
   {
    "duration": 3,
    "start_time": "2023-02-13T08:48:57.529Z"
   },
   {
    "duration": 93,
    "start_time": "2023-02-13T08:52:02.344Z"
   },
   {
    "duration": 15110,
    "start_time": "2023-02-13T08:55:56.575Z"
   },
   {
    "duration": 20,
    "start_time": "2023-02-13T08:57:19.024Z"
   },
   {
    "duration": 13,
    "start_time": "2023-02-13T08:57:40.472Z"
   },
   {
    "duration": 472,
    "start_time": "2023-02-13T08:58:25.066Z"
   },
   {
    "duration": 23,
    "start_time": "2023-02-13T08:58:33.666Z"
   },
   {
    "duration": 3,
    "start_time": "2023-02-13T09:03:54.053Z"
   },
   {
    "duration": 3,
    "start_time": "2023-02-13T09:04:19.230Z"
   },
   {
    "duration": 1482,
    "start_time": "2023-02-13T09:20:03.623Z"
   },
   {
    "duration": 948,
    "start_time": "2023-02-13T09:20:05.107Z"
   },
   {
    "duration": 16,
    "start_time": "2023-02-13T09:20:06.057Z"
   },
   {
    "duration": 133,
    "start_time": "2023-02-13T09:20:06.075Z"
   },
   {
    "duration": 3,
    "start_time": "2023-02-13T09:20:06.209Z"
   },
   {
    "duration": 134,
    "start_time": "2023-02-13T09:20:06.214Z"
   },
   {
    "duration": 127,
    "start_time": "2023-02-13T09:20:06.349Z"
   },
   {
    "duration": 89,
    "start_time": "2023-02-13T09:20:06.477Z"
   },
   {
    "duration": 432,
    "start_time": "2023-02-13T09:20:06.568Z"
   },
   {
    "duration": 474,
    "start_time": "2023-02-13T09:20:07.002Z"
   },
   {
    "duration": 431,
    "start_time": "2023-02-13T09:20:07.477Z"
   },
   {
    "duration": 26,
    "start_time": "2023-02-13T09:20:07.910Z"
   },
   {
    "duration": 14,
    "start_time": "2023-02-13T09:20:07.938Z"
   },
   {
    "duration": 36,
    "start_time": "2023-02-13T09:20:07.953Z"
   },
   {
    "duration": 29,
    "start_time": "2023-02-13T09:20:07.990Z"
   },
   {
    "duration": 5,
    "start_time": "2023-02-13T09:20:08.021Z"
   },
   {
    "duration": 590,
    "start_time": "2023-02-13T09:20:08.049Z"
   },
   {
    "duration": 4,
    "start_time": "2023-02-13T09:20:08.640Z"
   },
   {
    "duration": 462,
    "start_time": "2023-02-13T09:20:08.646Z"
   },
   {
    "duration": 9,
    "start_time": "2023-02-13T09:20:09.109Z"
   },
   {
    "duration": 37,
    "start_time": "2023-02-13T09:20:09.119Z"
   },
   {
    "duration": 442,
    "start_time": "2023-02-13T09:20:09.158Z"
   },
   {
    "duration": 9,
    "start_time": "2023-02-13T09:20:09.601Z"
   },
   {
    "duration": 60,
    "start_time": "2023-02-13T09:20:09.611Z"
   },
   {
    "duration": 434,
    "start_time": "2023-02-13T09:20:09.673Z"
   },
   {
    "duration": 243,
    "start_time": "2023-02-13T09:20:10.109Z"
   },
   {
    "duration": 152,
    "start_time": "2023-02-13T09:20:10.353Z"
   },
   {
    "duration": 21,
    "start_time": "2023-02-13T09:20:10.509Z"
   },
   {
    "duration": 49,
    "start_time": "2023-02-13T09:20:10.532Z"
   },
   {
    "duration": 5,
    "start_time": "2023-02-13T09:20:10.582Z"
   },
   {
    "duration": 27,
    "start_time": "2023-02-13T09:20:10.588Z"
   },
   {
    "duration": 399,
    "start_time": "2023-02-13T09:20:10.616Z"
   },
   {
    "duration": 53,
    "start_time": "2023-02-13T09:20:11.016Z"
   },
   {
    "duration": 147,
    "start_time": "2023-02-13T09:20:11.071Z"
   },
   {
    "duration": 161,
    "start_time": "2023-02-13T09:20:11.220Z"
   },
   {
    "duration": 577,
    "start_time": "2023-02-13T09:20:11.383Z"
   },
   {
    "duration": 16,
    "start_time": "2023-02-13T09:20:11.962Z"
   },
   {
    "duration": 10,
    "start_time": "2023-02-13T09:20:11.979Z"
   },
   {
    "duration": 33,
    "start_time": "2023-02-13T09:20:11.990Z"
   },
   {
    "duration": 295,
    "start_time": "2023-02-13T09:20:12.025Z"
   },
   {
    "duration": 1007,
    "start_time": "2023-02-13T09:20:12.322Z"
   },
   {
    "duration": 235,
    "start_time": "2023-02-13T09:20:13.330Z"
   },
   {
    "duration": 286,
    "start_time": "2023-02-13T09:20:13.567Z"
   },
   {
    "duration": 173,
    "start_time": "2023-02-13T09:20:13.855Z"
   },
   {
    "duration": 284,
    "start_time": "2023-02-13T09:20:14.030Z"
   },
   {
    "duration": 208,
    "start_time": "2023-02-13T09:20:14.316Z"
   },
   {
    "duration": 269,
    "start_time": "2023-02-13T09:20:14.526Z"
   },
   {
    "duration": 170,
    "start_time": "2023-02-13T09:20:14.797Z"
   },
   {
    "duration": 19,
    "start_time": "2023-02-13T09:20:14.968Z"
   },
   {
    "duration": 86,
    "start_time": "2023-02-13T09:20:14.989Z"
   },
   {
    "duration": 5,
    "start_time": "2023-02-13T09:20:15.082Z"
   },
   {
    "duration": 34,
    "start_time": "2023-02-13T09:20:15.089Z"
   },
   {
    "duration": 15,
    "start_time": "2023-02-13T09:20:15.125Z"
   },
   {
    "duration": 25,
    "start_time": "2023-02-13T09:20:15.142Z"
   },
   {
    "duration": 32,
    "start_time": "2023-02-13T09:20:15.169Z"
   },
   {
    "duration": 18,
    "start_time": "2023-02-13T09:20:15.202Z"
   },
   {
    "duration": 96,
    "start_time": "2023-02-13T09:20:15.222Z"
   },
   {
    "duration": 21,
    "start_time": "2023-02-13T09:20:15.320Z"
   },
   {
    "duration": 1319,
    "start_time": "2023-02-13T09:20:15.343Z"
   },
   {
    "duration": 5,
    "start_time": "2023-02-13T09:20:16.664Z"
   },
   {
    "duration": 76,
    "start_time": "2023-02-13T09:20:16.670Z"
   },
   {
    "duration": 2180,
    "start_time": "2023-02-13T09:20:16.748Z"
   },
   {
    "duration": 3,
    "start_time": "2023-02-13T09:20:18.931Z"
   },
   {
    "duration": 6,
    "start_time": "2023-02-13T09:20:18.936Z"
   },
   {
    "duration": 174,
    "start_time": "2023-02-13T09:20:18.948Z"
   },
   {
    "duration": 778,
    "start_time": "2023-02-13T09:20:19.123Z"
   },
   {
    "duration": 174,
    "start_time": "2023-02-13T09:20:19.903Z"
   },
   {
    "duration": 2,
    "start_time": "2023-02-13T09:20:20.079Z"
   },
   {
    "duration": 9,
    "start_time": "2023-02-13T09:20:20.082Z"
   },
   {
    "duration": 7,
    "start_time": "2023-02-13T09:20:20.093Z"
   },
   {
    "duration": 78687,
    "start_time": "2023-02-13T09:20:20.101Z"
   },
   {
    "duration": 18571,
    "start_time": "2023-02-13T09:21:38.790Z"
   },
   {
    "duration": 0,
    "start_time": "2023-02-13T09:21:57.363Z"
   },
   {
    "duration": 0,
    "start_time": "2023-02-13T09:21:57.364Z"
   },
   {
    "duration": 0,
    "start_time": "2023-02-13T09:21:57.366Z"
   },
   {
    "duration": 0,
    "start_time": "2023-02-13T09:21:57.367Z"
   },
   {
    "duration": 0,
    "start_time": "2023-02-13T09:21:57.368Z"
   },
   {
    "duration": 0,
    "start_time": "2023-02-13T09:21:57.370Z"
   },
   {
    "duration": 0,
    "start_time": "2023-02-13T09:21:57.371Z"
   },
   {
    "duration": 0,
    "start_time": "2023-02-13T09:21:57.372Z"
   },
   {
    "duration": 0,
    "start_time": "2023-02-13T09:21:57.374Z"
   },
   {
    "duration": 211172,
    "start_time": "2023-02-13T09:29:05.782Z"
   },
   {
    "duration": 80101,
    "start_time": "2023-02-13T09:33:14.948Z"
   },
   {
    "duration": 4,
    "start_time": "2023-02-13T09:38:34.675Z"
   },
   {
    "duration": 3,
    "start_time": "2023-02-13T09:38:36.708Z"
   },
   {
    "duration": 5,
    "start_time": "2023-02-13T09:38:43.001Z"
   },
   {
    "duration": 8,
    "start_time": "2023-02-13T09:38:51.851Z"
   },
   {
    "duration": 4,
    "start_time": "2023-02-13T09:42:17.740Z"
   },
   {
    "duration": 3,
    "start_time": "2023-02-13T09:42:19.661Z"
   },
   {
    "duration": 6,
    "start_time": "2023-02-13T09:42:21.794Z"
   },
   {
    "duration": 10,
    "start_time": "2023-02-13T09:42:24.705Z"
   },
   {
    "duration": 2,
    "start_time": "2023-02-13T09:46:43.281Z"
   },
   {
    "duration": 4,
    "start_time": "2023-02-13T09:46:46.565Z"
   },
   {
    "duration": 9,
    "start_time": "2023-02-13T09:46:49.727Z"
   },
   {
    "duration": 1495,
    "start_time": "2023-02-13T09:48:27.475Z"
   },
   {
    "duration": 804,
    "start_time": "2023-02-13T09:48:28.972Z"
   },
   {
    "duration": 19,
    "start_time": "2023-02-13T09:48:29.778Z"
   },
   {
    "duration": 168,
    "start_time": "2023-02-13T09:48:29.800Z"
   },
   {
    "duration": 2,
    "start_time": "2023-02-13T09:48:29.970Z"
   },
   {
    "duration": 137,
    "start_time": "2023-02-13T09:48:29.974Z"
   },
   {
    "duration": 135,
    "start_time": "2023-02-13T09:48:30.113Z"
   },
   {
    "duration": 88,
    "start_time": "2023-02-13T09:48:30.250Z"
   },
   {
    "duration": 465,
    "start_time": "2023-02-13T09:48:30.348Z"
   },
   {
    "duration": 481,
    "start_time": "2023-02-13T09:48:30.816Z"
   },
   {
    "duration": 443,
    "start_time": "2023-02-13T09:48:31.299Z"
   },
   {
    "duration": 25,
    "start_time": "2023-02-13T09:48:31.747Z"
   },
   {
    "duration": 6,
    "start_time": "2023-02-13T09:48:31.774Z"
   },
   {
    "duration": 40,
    "start_time": "2023-02-13T09:48:31.781Z"
   },
   {
    "duration": 48,
    "start_time": "2023-02-13T09:48:31.823Z"
   },
   {
    "duration": 4,
    "start_time": "2023-02-13T09:48:31.874Z"
   },
   {
    "duration": 652,
    "start_time": "2023-02-13T09:48:31.879Z"
   },
   {
    "duration": 4,
    "start_time": "2023-02-13T09:48:32.533Z"
   },
   {
    "duration": 542,
    "start_time": "2023-02-13T09:48:32.538Z"
   },
   {
    "duration": 10,
    "start_time": "2023-02-13T09:48:33.082Z"
   },
   {
    "duration": 25,
    "start_time": "2023-02-13T09:48:33.093Z"
   },
   {
    "duration": 510,
    "start_time": "2023-02-13T09:48:33.119Z"
   },
   {
    "duration": 19,
    "start_time": "2023-02-13T09:48:33.631Z"
   },
   {
    "duration": 47,
    "start_time": "2023-02-13T09:48:33.652Z"
   },
   {
    "duration": 477,
    "start_time": "2023-02-13T09:48:33.700Z"
   },
   {
    "duration": 251,
    "start_time": "2023-02-13T09:48:34.180Z"
   },
   {
    "duration": 153,
    "start_time": "2023-02-13T09:48:34.433Z"
   },
   {
    "duration": 23,
    "start_time": "2023-02-13T09:48:34.591Z"
   },
   {
    "duration": 57,
    "start_time": "2023-02-13T09:48:34.616Z"
   },
   {
    "duration": 5,
    "start_time": "2023-02-13T09:48:34.675Z"
   },
   {
    "duration": 26,
    "start_time": "2023-02-13T09:48:34.681Z"
   },
   {
    "duration": 426,
    "start_time": "2023-02-13T09:48:34.709Z"
   },
   {
    "duration": 51,
    "start_time": "2023-02-13T09:48:35.137Z"
   },
   {
    "duration": 197,
    "start_time": "2023-02-13T09:48:35.190Z"
   },
   {
    "duration": 192,
    "start_time": "2023-02-13T09:48:35.389Z"
   },
   {
    "duration": 586,
    "start_time": "2023-02-13T09:48:35.583Z"
   },
   {
    "duration": 16,
    "start_time": "2023-02-13T09:48:36.171Z"
   },
   {
    "duration": 3,
    "start_time": "2023-02-13T09:48:36.189Z"
   },
   {
    "duration": 7,
    "start_time": "2023-02-13T09:48:36.194Z"
   },
   {
    "duration": 288,
    "start_time": "2023-02-13T09:48:36.202Z"
   },
   {
    "duration": 939,
    "start_time": "2023-02-13T09:48:36.491Z"
   },
   {
    "duration": 227,
    "start_time": "2023-02-13T09:48:37.431Z"
   },
   {
    "duration": 291,
    "start_time": "2023-02-13T09:48:37.660Z"
   },
   {
    "duration": 172,
    "start_time": "2023-02-13T09:48:37.953Z"
   },
   {
    "duration": 270,
    "start_time": "2023-02-13T09:48:38.127Z"
   },
   {
    "duration": 214,
    "start_time": "2023-02-13T09:48:38.399Z"
   },
   {
    "duration": 279,
    "start_time": "2023-02-13T09:48:38.615Z"
   },
   {
    "duration": 173,
    "start_time": "2023-02-13T09:48:38.896Z"
   },
   {
    "duration": 18,
    "start_time": "2023-02-13T09:48:39.070Z"
   },
   {
    "duration": 81,
    "start_time": "2023-02-13T09:48:39.090Z"
   },
   {
    "duration": 3,
    "start_time": "2023-02-13T09:48:39.172Z"
   },
   {
    "duration": 7,
    "start_time": "2023-02-13T09:48:39.176Z"
   },
   {
    "duration": 4,
    "start_time": "2023-02-13T09:48:39.185Z"
   },
   {
    "duration": 12,
    "start_time": "2023-02-13T09:48:39.190Z"
   },
   {
    "duration": 18,
    "start_time": "2023-02-13T09:48:39.203Z"
   },
   {
    "duration": 11,
    "start_time": "2023-02-13T09:48:39.248Z"
   },
   {
    "duration": 67,
    "start_time": "2023-02-13T09:48:39.260Z"
   },
   {
    "duration": 28,
    "start_time": "2023-02-13T09:48:39.328Z"
   },
   {
    "duration": 1212,
    "start_time": "2023-02-13T09:48:39.358Z"
   },
   {
    "duration": 3,
    "start_time": "2023-02-13T09:48:40.572Z"
   },
   {
    "duration": 17,
    "start_time": "2023-02-13T09:48:40.576Z"
   },
   {
    "duration": 2129,
    "start_time": "2023-02-13T09:48:40.594Z"
   },
   {
    "duration": 3,
    "start_time": "2023-02-13T09:48:42.724Z"
   },
   {
    "duration": 6,
    "start_time": "2023-02-13T09:48:42.729Z"
   },
   {
    "duration": 175,
    "start_time": "2023-02-13T09:48:42.736Z"
   },
   {
    "duration": 779,
    "start_time": "2023-02-13T09:48:42.913Z"
   },
   {
    "duration": 147,
    "start_time": "2023-02-13T09:48:43.694Z"
   },
   {
    "duration": 5,
    "start_time": "2023-02-13T09:48:43.843Z"
   },
   {
    "duration": 11,
    "start_time": "2023-02-13T09:48:43.850Z"
   },
   {
    "duration": 112127,
    "start_time": "2023-02-13T09:48:43.862Z"
   },
   {
    "duration": 39969,
    "start_time": "2023-02-13T09:50:35.991Z"
   },
   {
    "duration": 499,
    "start_time": "2023-02-13T09:51:16.049Z"
   },
   {
    "duration": 1400,
    "start_time": "2023-02-13T09:51:37.793Z"
   },
   {
    "duration": 826,
    "start_time": "2023-02-13T09:51:39.195Z"
   },
   {
    "duration": 17,
    "start_time": "2023-02-13T09:51:40.022Z"
   },
   {
    "duration": 150,
    "start_time": "2023-02-13T09:51:40.049Z"
   },
   {
    "duration": 2,
    "start_time": "2023-02-13T09:51:40.201Z"
   },
   {
    "duration": 137,
    "start_time": "2023-02-13T09:51:40.204Z"
   },
   {
    "duration": 148,
    "start_time": "2023-02-13T09:51:40.348Z"
   },
   {
    "duration": 90,
    "start_time": "2023-02-13T09:51:40.498Z"
   },
   {
    "duration": 463,
    "start_time": "2023-02-13T09:51:40.590Z"
   },
   {
    "duration": 502,
    "start_time": "2023-02-13T09:51:41.055Z"
   },
   {
    "duration": 460,
    "start_time": "2023-02-13T09:51:41.559Z"
   },
   {
    "duration": 31,
    "start_time": "2023-02-13T09:51:42.021Z"
   },
   {
    "duration": 48,
    "start_time": "2023-02-13T09:51:42.054Z"
   },
   {
    "duration": 50,
    "start_time": "2023-02-13T09:51:42.105Z"
   },
   {
    "duration": 29,
    "start_time": "2023-02-13T09:51:42.156Z"
   },
   {
    "duration": 4,
    "start_time": "2023-02-13T09:51:42.187Z"
   },
   {
    "duration": 706,
    "start_time": "2023-02-13T09:51:42.193Z"
   },
   {
    "duration": 4,
    "start_time": "2023-02-13T09:51:42.901Z"
   },
   {
    "duration": 464,
    "start_time": "2023-02-13T09:51:42.907Z"
   },
   {
    "duration": 10,
    "start_time": "2023-02-13T09:51:43.373Z"
   },
   {
    "duration": 23,
    "start_time": "2023-02-13T09:51:43.384Z"
   },
   {
    "duration": 548,
    "start_time": "2023-02-13T09:51:43.408Z"
   },
   {
    "duration": 10,
    "start_time": "2023-02-13T09:51:43.958Z"
   },
   {
    "duration": 54,
    "start_time": "2023-02-13T09:51:43.970Z"
   },
   {
    "duration": 479,
    "start_time": "2023-02-13T09:51:44.025Z"
   },
   {
    "duration": 278,
    "start_time": "2023-02-13T09:51:44.506Z"
   },
   {
    "duration": 163,
    "start_time": "2023-02-13T09:51:44.786Z"
   },
   {
    "duration": 22,
    "start_time": "2023-02-13T09:51:44.952Z"
   },
   {
    "duration": 39,
    "start_time": "2023-02-13T09:51:44.976Z"
   },
   {
    "duration": 5,
    "start_time": "2023-02-13T09:51:45.017Z"
   },
   {
    "duration": 50,
    "start_time": "2023-02-13T09:51:45.023Z"
   },
   {
    "duration": 461,
    "start_time": "2023-02-13T09:51:45.076Z"
   },
   {
    "duration": 56,
    "start_time": "2023-02-13T09:51:45.539Z"
   },
   {
    "duration": 185,
    "start_time": "2023-02-13T09:51:45.597Z"
   },
   {
    "duration": 181,
    "start_time": "2023-02-13T09:51:45.783Z"
   },
   {
    "duration": 585,
    "start_time": "2023-02-13T09:51:45.966Z"
   },
   {
    "duration": 20,
    "start_time": "2023-02-13T09:51:46.557Z"
   },
   {
    "duration": 5,
    "start_time": "2023-02-13T09:51:46.578Z"
   },
   {
    "duration": 6,
    "start_time": "2023-02-13T09:51:46.584Z"
   },
   {
    "duration": 304,
    "start_time": "2023-02-13T09:51:46.591Z"
   },
   {
    "duration": 974,
    "start_time": "2023-02-13T09:51:46.900Z"
   },
   {
    "duration": 238,
    "start_time": "2023-02-13T09:51:47.875Z"
   },
   {
    "duration": 287,
    "start_time": "2023-02-13T09:51:48.115Z"
   },
   {
    "duration": 167,
    "start_time": "2023-02-13T09:51:48.404Z"
   },
   {
    "duration": 275,
    "start_time": "2023-02-13T09:51:48.572Z"
   },
   {
    "duration": 209,
    "start_time": "2023-02-13T09:51:48.849Z"
   },
   {
    "duration": 274,
    "start_time": "2023-02-13T09:51:49.060Z"
   },
   {
    "duration": 178,
    "start_time": "2023-02-13T09:51:49.336Z"
   },
   {
    "duration": 18,
    "start_time": "2023-02-13T09:51:49.515Z"
   },
   {
    "duration": 76,
    "start_time": "2023-02-13T09:51:49.534Z"
   },
   {
    "duration": 2,
    "start_time": "2023-02-13T09:51:49.612Z"
   },
   {
    "duration": 7,
    "start_time": "2023-02-13T09:51:49.616Z"
   },
   {
    "duration": 7,
    "start_time": "2023-02-13T09:51:49.624Z"
   },
   {
    "duration": 10,
    "start_time": "2023-02-13T09:51:49.648Z"
   },
   {
    "duration": 20,
    "start_time": "2023-02-13T09:51:49.660Z"
   },
   {
    "duration": 10,
    "start_time": "2023-02-13T09:51:49.681Z"
   },
   {
    "duration": 86,
    "start_time": "2023-02-13T09:51:49.693Z"
   },
   {
    "duration": 18,
    "start_time": "2023-02-13T09:51:49.780Z"
   },
   {
    "duration": 1279,
    "start_time": "2023-02-13T09:51:49.799Z"
   },
   {
    "duration": 4,
    "start_time": "2023-02-13T09:51:51.079Z"
   },
   {
    "duration": 11,
    "start_time": "2023-02-13T09:51:51.084Z"
   },
   {
    "duration": 2384,
    "start_time": "2023-02-13T09:51:51.097Z"
   },
   {
    "duration": 3,
    "start_time": "2023-02-13T09:51:53.483Z"
   },
   {
    "duration": 175,
    "start_time": "2023-02-13T09:51:53.487Z"
   },
   {
    "duration": 851,
    "start_time": "2023-02-13T09:51:53.664Z"
   },
   {
    "duration": 147,
    "start_time": "2023-02-13T09:51:54.517Z"
   },
   {
    "duration": 3,
    "start_time": "2023-02-13T09:51:54.666Z"
   },
   {
    "duration": 5,
    "start_time": "2023-02-13T09:51:54.670Z"
   },
   {
    "duration": 200974,
    "start_time": "2023-02-13T09:51:54.677Z"
   },
   {
    "duration": 55506,
    "start_time": "2023-02-13T09:55:15.655Z"
   },
   {
    "duration": 407,
    "start_time": "2023-02-13T09:56:11.248Z"
   },
   {
    "duration": 590379,
    "start_time": "2023-02-13T09:56:11.659Z"
   },
   {
    "duration": 8,
    "start_time": "2023-02-13T10:06:02.040Z"
   },
   {
    "duration": 138,
    "start_time": "2023-02-13T10:06:02.052Z"
   },
   {
    "duration": 0,
    "start_time": "2023-02-13T10:06:02.192Z"
   },
   {
    "duration": 0,
    "start_time": "2023-02-13T10:06:02.193Z"
   },
   {
    "duration": 0,
    "start_time": "2023-02-13T10:06:02.196Z"
   },
   {
    "duration": 0,
    "start_time": "2023-02-13T10:06:02.197Z"
   },
   {
    "duration": 0,
    "start_time": "2023-02-13T10:06:02.200Z"
   },
   {
    "duration": 0,
    "start_time": "2023-02-13T10:06:02.201Z"
   },
   {
    "duration": 0,
    "start_time": "2023-02-13T10:06:02.202Z"
   },
   {
    "duration": 3,
    "start_time": "2023-02-13T10:07:55.299Z"
   },
   {
    "duration": 3,
    "start_time": "2023-02-13T10:17:01.128Z"
   },
   {
    "duration": 4,
    "start_time": "2023-02-13T10:17:10.667Z"
   },
   {
    "duration": 369,
    "start_time": "2023-02-13T10:17:16.154Z"
   },
   {
    "duration": 22,
    "start_time": "2023-02-13T10:17:19.565Z"
   },
   {
    "duration": 61,
    "start_time": "2023-02-13T10:17:43.647Z"
   },
   {
    "duration": 1660,
    "start_time": "2023-02-13T11:24:29.956Z"
   },
   {
    "duration": 867,
    "start_time": "2023-02-13T11:24:31.618Z"
   },
   {
    "duration": 17,
    "start_time": "2023-02-13T11:24:32.487Z"
   },
   {
    "duration": 143,
    "start_time": "2023-02-13T11:24:32.506Z"
   },
   {
    "duration": 2,
    "start_time": "2023-02-13T11:24:32.651Z"
   },
   {
    "duration": 141,
    "start_time": "2023-02-13T11:24:32.655Z"
   },
   {
    "duration": 182,
    "start_time": "2023-02-13T11:24:32.798Z"
   },
   {
    "duration": 110,
    "start_time": "2023-02-13T11:24:32.982Z"
   },
   {
    "duration": 487,
    "start_time": "2023-02-13T11:24:33.094Z"
   },
   {
    "duration": 512,
    "start_time": "2023-02-13T11:24:33.583Z"
   },
   {
    "duration": 518,
    "start_time": "2023-02-13T11:24:34.097Z"
   },
   {
    "duration": 34,
    "start_time": "2023-02-13T11:24:34.617Z"
   },
   {
    "duration": 11,
    "start_time": "2023-02-13T11:24:34.652Z"
   },
   {
    "duration": 43,
    "start_time": "2023-02-13T11:24:34.665Z"
   },
   {
    "duration": 57,
    "start_time": "2023-02-13T11:24:34.710Z"
   },
   {
    "duration": 6,
    "start_time": "2023-02-13T11:24:34.769Z"
   },
   {
    "duration": 698,
    "start_time": "2023-02-13T11:24:34.777Z"
   },
   {
    "duration": 5,
    "start_time": "2023-02-13T11:24:35.477Z"
   },
   {
    "duration": 603,
    "start_time": "2023-02-13T11:24:35.484Z"
   },
   {
    "duration": 10,
    "start_time": "2023-02-13T11:24:36.089Z"
   },
   {
    "duration": 24,
    "start_time": "2023-02-13T11:24:36.101Z"
   },
   {
    "duration": 563,
    "start_time": "2023-02-13T11:24:36.127Z"
   },
   {
    "duration": 10,
    "start_time": "2023-02-13T11:24:36.692Z"
   },
   {
    "duration": 60,
    "start_time": "2023-02-13T11:24:36.704Z"
   },
   {
    "duration": 511,
    "start_time": "2023-02-13T11:24:36.766Z"
   },
   {
    "duration": 303,
    "start_time": "2023-02-13T11:24:37.279Z"
   },
   {
    "duration": 219,
    "start_time": "2023-02-13T11:24:37.584Z"
   },
   {
    "duration": 25,
    "start_time": "2023-02-13T11:24:37.808Z"
   },
   {
    "duration": 53,
    "start_time": "2023-02-13T11:24:37.835Z"
   },
   {
    "duration": 6,
    "start_time": "2023-02-13T11:24:37.890Z"
   },
   {
    "duration": 53,
    "start_time": "2023-02-13T11:24:37.898Z"
   },
   {
    "duration": 516,
    "start_time": "2023-02-13T11:24:37.954Z"
   },
   {
    "duration": 52,
    "start_time": "2023-02-13T11:24:38.472Z"
   },
   {
    "duration": 188,
    "start_time": "2023-02-13T11:24:38.526Z"
   },
   {
    "duration": 188,
    "start_time": "2023-02-13T11:24:38.716Z"
   },
   {
    "duration": 608,
    "start_time": "2023-02-13T11:24:38.907Z"
   },
   {
    "duration": 16,
    "start_time": "2023-02-13T11:24:39.516Z"
   },
   {
    "duration": 15,
    "start_time": "2023-02-13T11:24:39.534Z"
   },
   {
    "duration": 19,
    "start_time": "2023-02-13T11:24:39.551Z"
   },
   {
    "duration": 305,
    "start_time": "2023-02-13T11:24:39.572Z"
   },
   {
    "duration": 1073,
    "start_time": "2023-02-13T11:24:39.880Z"
   },
   {
    "duration": 270,
    "start_time": "2023-02-13T11:24:40.955Z"
   },
   {
    "duration": 292,
    "start_time": "2023-02-13T11:24:41.227Z"
   },
   {
    "duration": 188,
    "start_time": "2023-02-13T11:24:41.521Z"
   },
   {
    "duration": 306,
    "start_time": "2023-02-13T11:24:41.711Z"
   },
   {
    "duration": 243,
    "start_time": "2023-02-13T11:24:42.018Z"
   },
   {
    "duration": 298,
    "start_time": "2023-02-13T11:24:42.262Z"
   },
   {
    "duration": 181,
    "start_time": "2023-02-13T11:24:42.562Z"
   },
   {
    "duration": 19,
    "start_time": "2023-02-13T11:24:42.748Z"
   },
   {
    "duration": 95,
    "start_time": "2023-02-13T11:24:42.769Z"
   },
   {
    "duration": 3,
    "start_time": "2023-02-13T11:24:42.866Z"
   },
   {
    "duration": 10,
    "start_time": "2023-02-13T11:24:42.871Z"
   },
   {
    "duration": 11,
    "start_time": "2023-02-13T11:24:42.883Z"
   },
   {
    "duration": 22,
    "start_time": "2023-02-13T11:24:42.895Z"
   },
   {
    "duration": 31,
    "start_time": "2023-02-13T11:24:42.919Z"
   },
   {
    "duration": 13,
    "start_time": "2023-02-13T11:24:42.952Z"
   },
   {
    "duration": 96,
    "start_time": "2023-02-13T11:24:42.967Z"
   },
   {
    "duration": 20,
    "start_time": "2023-02-13T11:24:43.064Z"
   },
   {
    "duration": 1403,
    "start_time": "2023-02-13T11:24:43.086Z"
   },
   {
    "duration": 3,
    "start_time": "2023-02-13T11:24:44.491Z"
   },
   {
    "duration": 12,
    "start_time": "2023-02-13T11:24:44.496Z"
   },
   {
    "duration": 2975,
    "start_time": "2023-02-13T11:24:44.510Z"
   },
   {
    "duration": 3,
    "start_time": "2023-02-13T11:24:47.486Z"
   },
   {
    "duration": 185,
    "start_time": "2023-02-13T11:24:47.491Z"
   },
   {
    "duration": 910,
    "start_time": "2023-02-13T11:24:47.677Z"
   },
   {
    "duration": 161,
    "start_time": "2023-02-13T11:24:48.589Z"
   },
   {
    "duration": 3,
    "start_time": "2023-02-13T11:24:48.752Z"
   },
   {
    "duration": 12,
    "start_time": "2023-02-13T11:24:48.756Z"
   },
   {
    "duration": 114488,
    "start_time": "2023-02-13T11:24:48.769Z"
   },
   {
    "duration": 28390,
    "start_time": "2023-02-13T11:26:43.259Z"
   },
   {
    "duration": 497,
    "start_time": "2023-02-13T11:27:11.652Z"
   },
   {
    "duration": 670382,
    "start_time": "2023-02-13T11:27:12.151Z"
   },
   {
    "duration": 3,
    "start_time": "2023-02-13T11:38:22.535Z"
   },
   {
    "duration": 10,
    "start_time": "2023-02-13T11:38:22.539Z"
   },
   {
    "duration": 9,
    "start_time": "2023-02-13T11:38:22.550Z"
   },
   {
    "duration": 456,
    "start_time": "2023-02-13T11:38:22.560Z"
   },
   {
    "duration": 36,
    "start_time": "2023-02-13T11:38:23.019Z"
   },
   {
    "duration": 1494,
    "start_time": "2023-02-13T13:43:13.326Z"
   },
   {
    "duration": 866,
    "start_time": "2023-02-13T13:43:14.821Z"
   },
   {
    "duration": 18,
    "start_time": "2023-02-13T13:43:15.689Z"
   },
   {
    "duration": 151,
    "start_time": "2023-02-13T13:43:15.710Z"
   },
   {
    "duration": 3,
    "start_time": "2023-02-13T13:43:15.862Z"
   },
   {
    "duration": 136,
    "start_time": "2023-02-13T13:43:15.866Z"
   },
   {
    "duration": 147,
    "start_time": "2023-02-13T13:43:16.003Z"
   },
   {
    "duration": 86,
    "start_time": "2023-02-13T13:43:16.152Z"
   },
   {
    "duration": 438,
    "start_time": "2023-02-13T13:43:16.248Z"
   },
   {
    "duration": 461,
    "start_time": "2023-02-13T13:43:16.688Z"
   },
   {
    "duration": 422,
    "start_time": "2023-02-13T13:43:17.151Z"
   },
   {
    "duration": 23,
    "start_time": "2023-02-13T13:43:17.574Z"
   },
   {
    "duration": 8,
    "start_time": "2023-02-13T13:43:17.599Z"
   },
   {
    "duration": 62,
    "start_time": "2023-02-13T13:43:17.609Z"
   },
   {
    "duration": 33,
    "start_time": "2023-02-13T13:43:17.673Z"
   },
   {
    "duration": 4,
    "start_time": "2023-02-13T13:43:17.707Z"
   },
   {
    "duration": 606,
    "start_time": "2023-02-13T13:43:17.713Z"
   },
   {
    "duration": 4,
    "start_time": "2023-02-13T13:43:18.320Z"
   },
   {
    "duration": 463,
    "start_time": "2023-02-13T13:43:18.325Z"
   },
   {
    "duration": 9,
    "start_time": "2023-02-13T13:43:18.789Z"
   },
   {
    "duration": 20,
    "start_time": "2023-02-13T13:43:18.800Z"
   },
   {
    "duration": 672,
    "start_time": "2023-02-13T13:43:18.822Z"
   },
   {
    "duration": 9,
    "start_time": "2023-02-13T13:43:19.496Z"
   },
   {
    "duration": 56,
    "start_time": "2023-02-13T13:43:19.506Z"
   },
   {
    "duration": 443,
    "start_time": "2023-02-13T13:43:19.564Z"
   },
   {
    "duration": 249,
    "start_time": "2023-02-13T13:43:20.009Z"
   },
   {
    "duration": 154,
    "start_time": "2023-02-13T13:43:20.259Z"
   },
   {
    "duration": 31,
    "start_time": "2023-02-13T13:43:20.418Z"
   },
   {
    "duration": 39,
    "start_time": "2023-02-13T13:43:20.451Z"
   },
   {
    "duration": 5,
    "start_time": "2023-02-13T13:43:20.492Z"
   },
   {
    "duration": 35,
    "start_time": "2023-02-13T13:43:20.499Z"
   },
   {
    "duration": 416,
    "start_time": "2023-02-13T13:43:20.536Z"
   },
   {
    "duration": 48,
    "start_time": "2023-02-13T13:43:20.954Z"
   },
   {
    "duration": 156,
    "start_time": "2023-02-13T13:43:21.003Z"
   },
   {
    "duration": 161,
    "start_time": "2023-02-13T13:43:21.161Z"
   },
   {
    "duration": 547,
    "start_time": "2023-02-13T13:43:21.323Z"
   },
   {
    "duration": 16,
    "start_time": "2023-02-13T13:43:21.871Z"
   },
   {
    "duration": 4,
    "start_time": "2023-02-13T13:43:21.889Z"
   },
   {
    "duration": 7,
    "start_time": "2023-02-13T13:43:21.895Z"
   },
   {
    "duration": 289,
    "start_time": "2023-02-13T13:43:21.903Z"
   },
   {
    "duration": 971,
    "start_time": "2023-02-13T13:43:22.193Z"
   },
   {
    "duration": 219,
    "start_time": "2023-02-13T13:43:23.166Z"
   },
   {
    "duration": 288,
    "start_time": "2023-02-13T13:43:23.387Z"
   },
   {
    "duration": 179,
    "start_time": "2023-02-13T13:43:23.677Z"
   },
   {
    "duration": 281,
    "start_time": "2023-02-13T13:43:23.858Z"
   },
   {
    "duration": 218,
    "start_time": "2023-02-13T13:43:24.141Z"
   },
   {
    "duration": 263,
    "start_time": "2023-02-13T13:43:24.361Z"
   },
   {
    "duration": 179,
    "start_time": "2023-02-13T13:43:24.626Z"
   },
   {
    "duration": 18,
    "start_time": "2023-02-13T13:43:24.806Z"
   },
   {
    "duration": 78,
    "start_time": "2023-02-13T13:43:24.826Z"
   },
   {
    "duration": 3,
    "start_time": "2023-02-13T13:43:24.906Z"
   },
   {
    "duration": 10,
    "start_time": "2023-02-13T13:43:24.910Z"
   },
   {
    "duration": 8,
    "start_time": "2023-02-13T13:43:24.921Z"
   },
   {
    "duration": 23,
    "start_time": "2023-02-13T13:43:24.930Z"
   },
   {
    "duration": 18,
    "start_time": "2023-02-13T13:43:24.955Z"
   },
   {
    "duration": 10,
    "start_time": "2023-02-13T13:43:24.975Z"
   },
   {
    "duration": 92,
    "start_time": "2023-02-13T13:43:24.986Z"
   },
   {
    "duration": 19,
    "start_time": "2023-02-13T13:43:25.080Z"
   },
   {
    "duration": 1340,
    "start_time": "2023-02-13T13:43:25.100Z"
   },
   {
    "duration": 6,
    "start_time": "2023-02-13T13:43:26.443Z"
   },
   {
    "duration": 20,
    "start_time": "2023-02-13T13:43:26.450Z"
   },
   {
    "duration": 2756,
    "start_time": "2023-02-13T13:43:26.472Z"
   },
   {
    "duration": 3,
    "start_time": "2023-02-13T13:43:29.230Z"
   },
   {
    "duration": 177,
    "start_time": "2023-02-13T13:43:29.235Z"
   },
   {
    "duration": 854,
    "start_time": "2023-02-13T13:43:29.414Z"
   },
   {
    "duration": 149,
    "start_time": "2023-02-13T13:43:30.270Z"
   },
   {
    "duration": 3,
    "start_time": "2023-02-13T13:43:30.421Z"
   },
   {
    "duration": 20,
    "start_time": "2023-02-13T13:43:30.425Z"
   },
   {
    "duration": 107509,
    "start_time": "2023-02-13T13:43:30.447Z"
   },
   {
    "duration": 25707,
    "start_time": "2023-02-13T13:45:18.048Z"
   },
   {
    "duration": 496,
    "start_time": "2023-02-13T13:45:43.757Z"
   },
   {
    "duration": 2778,
    "start_time": "2023-02-13T22:13:15.202Z"
   },
   {
    "duration": 3822,
    "start_time": "2023-02-13T22:13:17.983Z"
   },
   {
    "duration": 24,
    "start_time": "2023-02-13T22:13:21.850Z"
   },
   {
    "duration": 301,
    "start_time": "2023-02-13T22:13:21.877Z"
   },
   {
    "duration": 3,
    "start_time": "2023-02-13T22:13:22.179Z"
   },
   {
    "duration": 298,
    "start_time": "2023-02-13T22:13:22.184Z"
   },
   {
    "duration": 302,
    "start_time": "2023-02-13T22:13:22.484Z"
   },
   {
    "duration": 195,
    "start_time": "2023-02-13T22:13:22.787Z"
   },
   {
    "duration": 1006,
    "start_time": "2023-02-13T22:13:22.984Z"
   },
   {
    "duration": 1086,
    "start_time": "2023-02-13T22:13:23.992Z"
   },
   {
    "duration": 1108,
    "start_time": "2023-02-13T22:13:25.080Z"
   },
   {
    "duration": 89,
    "start_time": "2023-02-13T22:13:26.189Z"
   },
   {
    "duration": 9,
    "start_time": "2023-02-13T22:13:26.280Z"
   },
   {
    "duration": 103,
    "start_time": "2023-02-13T22:13:26.348Z"
   },
   {
    "duration": 25,
    "start_time": "2023-02-13T22:13:26.454Z"
   },
   {
    "duration": 4,
    "start_time": "2023-02-13T22:13:26.481Z"
   },
   {
    "duration": 1171,
    "start_time": "2023-02-13T22:13:26.486Z"
   },
   {
    "duration": 5,
    "start_time": "2023-02-13T22:13:27.659Z"
   },
   {
    "duration": 1031,
    "start_time": "2023-02-13T22:13:27.666Z"
   },
   {
    "duration": 15,
    "start_time": "2023-02-13T22:13:28.748Z"
   },
   {
    "duration": 83,
    "start_time": "2023-02-13T22:13:28.766Z"
   },
   {
    "duration": 1132,
    "start_time": "2023-02-13T22:13:28.860Z"
   },
   {
    "duration": 15,
    "start_time": "2023-02-13T22:13:30.054Z"
   },
   {
    "duration": 119,
    "start_time": "2023-02-13T22:13:30.071Z"
   },
   {
    "duration": 995,
    "start_time": "2023-02-13T22:13:30.191Z"
   },
   {
    "duration": 605,
    "start_time": "2023-02-13T22:13:31.188Z"
   },
   {
    "duration": 334,
    "start_time": "2023-02-13T22:13:31.850Z"
   },
   {
    "duration": 84,
    "start_time": "2023-02-13T22:13:32.189Z"
   },
   {
    "duration": 99,
    "start_time": "2023-02-13T22:13:32.275Z"
   },
   {
    "duration": 4,
    "start_time": "2023-02-13T22:13:32.376Z"
   },
   {
    "duration": 86,
    "start_time": "2023-02-13T22:13:32.382Z"
   },
   {
    "duration": 923,
    "start_time": "2023-02-13T22:13:32.469Z"
   },
   {
    "duration": 103,
    "start_time": "2023-02-13T22:13:33.453Z"
   },
   {
    "duration": 405,
    "start_time": "2023-02-13T22:13:33.557Z"
   },
   {
    "duration": 598,
    "start_time": "2023-02-13T22:13:33.964Z"
   },
   {
    "duration": 1113,
    "start_time": "2023-02-13T22:13:34.564Z"
   },
   {
    "duration": 81,
    "start_time": "2023-02-13T22:13:35.679Z"
   },
   {
    "duration": 4,
    "start_time": "2023-02-13T22:13:35.762Z"
   },
   {
    "duration": 6,
    "start_time": "2023-02-13T22:13:35.768Z"
   },
   {
    "duration": 614,
    "start_time": "2023-02-13T22:13:35.775Z"
   },
   {
    "duration": 2200,
    "start_time": "2023-02-13T22:13:36.391Z"
   },
   {
    "duration": 601,
    "start_time": "2023-02-13T22:13:38.592Z"
   },
   {
    "duration": 615,
    "start_time": "2023-02-13T22:13:39.251Z"
   },
   {
    "duration": 405,
    "start_time": "2023-02-13T22:13:39.868Z"
   },
   {
    "duration": 605,
    "start_time": "2023-02-13T22:13:40.275Z"
   },
   {
    "duration": 485,
    "start_time": "2023-02-13T22:13:40.881Z"
   },
   {
    "duration": 598,
    "start_time": "2023-02-13T22:13:41.368Z"
   },
   {
    "duration": 391,
    "start_time": "2023-02-13T22:13:41.967Z"
   },
   {
    "duration": 19,
    "start_time": "2023-02-13T22:13:42.359Z"
   },
   {
    "duration": 190,
    "start_time": "2023-02-13T22:13:42.380Z"
   },
   {
    "duration": 91,
    "start_time": "2023-02-13T22:13:42.571Z"
   },
   {
    "duration": 11,
    "start_time": "2023-02-13T22:13:42.664Z"
   },
   {
    "duration": 17,
    "start_time": "2023-02-13T22:13:42.676Z"
   },
   {
    "duration": 64,
    "start_time": "2023-02-13T22:13:42.694Z"
   },
   {
    "duration": 27,
    "start_time": "2023-02-13T22:13:42.762Z"
   },
   {
    "duration": 67,
    "start_time": "2023-02-13T22:13:42.790Z"
   },
   {
    "duration": 197,
    "start_time": "2023-02-13T22:13:42.864Z"
   },
   {
    "duration": 26,
    "start_time": "2023-02-13T22:13:43.063Z"
   },
   {
    "duration": 2882,
    "start_time": "2023-02-13T22:13:43.091Z"
   },
   {
    "duration": 4,
    "start_time": "2023-02-13T22:13:45.975Z"
   },
   {
    "duration": 12,
    "start_time": "2023-02-13T22:13:45.980Z"
   },
   {
    "duration": 5585,
    "start_time": "2023-02-13T22:13:45.994Z"
   },
   {
    "duration": 3,
    "start_time": "2023-02-13T22:13:51.581Z"
   },
   {
    "duration": 475,
    "start_time": "2023-02-13T22:13:51.586Z"
   },
   {
    "duration": 1986,
    "start_time": "2023-02-13T22:13:52.063Z"
   },
   {
    "duration": 406,
    "start_time": "2023-02-13T22:13:54.055Z"
   },
   {
    "duration": 3,
    "start_time": "2023-02-13T22:13:54.463Z"
   },
   {
    "duration": 7,
    "start_time": "2023-02-13T22:13:54.468Z"
   },
   {
    "duration": 2839,
    "start_time": "2023-02-13T22:14:52.014Z"
   },
   {
    "duration": 3919,
    "start_time": "2023-02-13T22:14:54.858Z"
   },
   {
    "duration": 81,
    "start_time": "2023-02-13T22:14:58.778Z"
   },
   {
    "duration": 324,
    "start_time": "2023-02-13T22:14:58.862Z"
   },
   {
    "duration": 3,
    "start_time": "2023-02-13T22:14:59.188Z"
   },
   {
    "duration": 363,
    "start_time": "2023-02-13T22:14:59.192Z"
   },
   {
    "duration": 314,
    "start_time": "2023-02-13T22:14:59.557Z"
   },
   {
    "duration": 290,
    "start_time": "2023-02-13T22:14:59.874Z"
   },
   {
    "duration": 1084,
    "start_time": "2023-02-13T22:15:00.165Z"
   },
   {
    "duration": 1222,
    "start_time": "2023-02-13T22:15:01.252Z"
   },
   {
    "duration": 1077,
    "start_time": "2023-02-13T22:15:02.475Z"
   },
   {
    "duration": 30,
    "start_time": "2023-02-13T22:15:03.557Z"
   },
   {
    "duration": 76,
    "start_time": "2023-02-13T22:15:03.589Z"
   },
   {
    "duration": 110,
    "start_time": "2023-02-13T22:15:03.667Z"
   },
   {
    "duration": 85,
    "start_time": "2023-02-13T22:15:03.778Z"
   },
   {
    "duration": 6,
    "start_time": "2023-02-13T22:15:03.867Z"
   },
   {
    "duration": 1320,
    "start_time": "2023-02-13T22:15:03.875Z"
   },
   {
    "duration": 5,
    "start_time": "2023-02-13T22:15:05.197Z"
   },
   {
    "duration": 1353,
    "start_time": "2023-02-13T22:15:05.204Z"
   },
   {
    "duration": 14,
    "start_time": "2023-02-13T22:15:06.559Z"
   },
   {
    "duration": 83,
    "start_time": "2023-02-13T22:15:06.574Z"
   },
   {
    "duration": 1524,
    "start_time": "2023-02-13T22:15:06.661Z"
   },
   {
    "duration": 75,
    "start_time": "2023-02-13T22:15:08.187Z"
   },
   {
    "duration": 106,
    "start_time": "2023-02-13T22:15:08.267Z"
   },
   {
    "duration": 1017,
    "start_time": "2023-02-13T22:15:08.375Z"
   },
   {
    "duration": 783,
    "start_time": "2023-02-13T22:15:09.394Z"
   },
   {
    "duration": 485,
    "start_time": "2023-02-13T22:15:10.178Z"
   },
   {
    "duration": 83,
    "start_time": "2023-02-13T22:15:10.673Z"
   },
   {
    "duration": 124,
    "start_time": "2023-02-13T22:15:10.759Z"
   },
   {
    "duration": 6,
    "start_time": "2023-02-13T22:15:10.885Z"
   },
   {
    "duration": 27,
    "start_time": "2023-02-13T22:15:10.953Z"
   },
   {
    "duration": 1384,
    "start_time": "2023-02-13T22:15:10.982Z"
   },
   {
    "duration": 115,
    "start_time": "2023-02-13T22:15:12.368Z"
   },
   {
    "duration": 487,
    "start_time": "2023-02-13T22:15:12.485Z"
   },
   {
    "duration": 595,
    "start_time": "2023-02-13T22:15:12.974Z"
   },
   {
    "duration": 1386,
    "start_time": "2023-02-13T22:15:13.571Z"
   },
   {
    "duration": 25,
    "start_time": "2023-02-13T22:15:14.961Z"
   },
   {
    "duration": 62,
    "start_time": "2023-02-13T22:15:14.988Z"
   },
   {
    "duration": 4,
    "start_time": "2023-02-13T22:15:15.054Z"
   },
   {
    "duration": 816,
    "start_time": "2023-02-13T22:15:15.059Z"
   },
   {
    "duration": 2789,
    "start_time": "2023-02-13T22:15:15.877Z"
   },
   {
    "duration": 615,
    "start_time": "2023-02-13T22:15:18.670Z"
   },
   {
    "duration": 685,
    "start_time": "2023-02-13T22:15:19.287Z"
   },
   {
    "duration": 489,
    "start_time": "2023-02-13T22:15:19.974Z"
   },
   {
    "duration": 592,
    "start_time": "2023-02-13T22:15:20.465Z"
   },
   {
    "duration": 432,
    "start_time": "2023-02-13T22:15:21.060Z"
   },
   {
    "duration": 596,
    "start_time": "2023-02-13T22:15:21.494Z"
   },
   {
    "duration": 400,
    "start_time": "2023-02-13T22:15:22.092Z"
   },
   {
    "duration": 76,
    "start_time": "2023-02-13T22:15:22.494Z"
   },
   {
    "duration": 185,
    "start_time": "2023-02-13T22:15:22.572Z"
   },
   {
    "duration": 3,
    "start_time": "2023-02-13T22:15:22.764Z"
   },
   {
    "duration": 6,
    "start_time": "2023-02-13T22:15:22.768Z"
   },
   {
    "duration": 6,
    "start_time": "2023-02-13T22:15:22.775Z"
   },
   {
    "duration": 74,
    "start_time": "2023-02-13T22:15:22.782Z"
   },
   {
    "duration": 35,
    "start_time": "2023-02-13T22:15:22.857Z"
   },
   {
    "duration": 69,
    "start_time": "2023-02-13T22:15:22.894Z"
   },
   {
    "duration": 128,
    "start_time": "2023-02-13T22:15:22.965Z"
   },
   {
    "duration": 23,
    "start_time": "2023-02-13T22:15:23.148Z"
   },
   {
    "duration": 2609,
    "start_time": "2023-02-13T22:15:23.173Z"
   },
   {
    "duration": 3,
    "start_time": "2023-02-13T22:15:25.785Z"
   },
   {
    "duration": 73,
    "start_time": "2023-02-13T22:15:25.790Z"
   },
   {
    "duration": 5828,
    "start_time": "2023-02-13T22:15:25.865Z"
   },
   {
    "duration": 5,
    "start_time": "2023-02-13T22:15:31.748Z"
   },
   {
    "duration": 425,
    "start_time": "2023-02-13T22:15:31.756Z"
   },
   {
    "duration": 2082,
    "start_time": "2023-02-13T22:15:32.183Z"
   },
   {
    "duration": 390,
    "start_time": "2023-02-13T22:15:34.267Z"
   },
   {
    "duration": 7,
    "start_time": "2023-02-13T22:15:34.658Z"
   },
   {
    "duration": 7,
    "start_time": "2023-02-13T22:15:34.667Z"
   },
   {
    "duration": 1633,
    "start_time": "2023-02-14T05:16:49.996Z"
   },
   {
    "duration": 1175,
    "start_time": "2023-02-14T05:16:51.632Z"
   },
   {
    "duration": 20,
    "start_time": "2023-02-14T05:16:52.809Z"
   },
   {
    "duration": 131,
    "start_time": "2023-02-14T05:16:52.831Z"
   },
   {
    "duration": 5,
    "start_time": "2023-02-14T05:16:52.966Z"
   },
   {
    "duration": 128,
    "start_time": "2023-02-14T05:16:52.973Z"
   },
   {
    "duration": 148,
    "start_time": "2023-02-14T05:16:53.103Z"
   },
   {
    "duration": 113,
    "start_time": "2023-02-14T05:16:53.253Z"
   },
   {
    "duration": 473,
    "start_time": "2023-02-14T05:16:53.368Z"
   },
   {
    "duration": 529,
    "start_time": "2023-02-14T05:16:53.843Z"
   },
   {
    "duration": 460,
    "start_time": "2023-02-14T05:16:54.373Z"
   },
   {
    "duration": 21,
    "start_time": "2023-02-14T05:16:54.835Z"
   },
   {
    "duration": 8,
    "start_time": "2023-02-14T05:16:54.858Z"
   },
   {
    "duration": 57,
    "start_time": "2023-02-14T05:16:54.869Z"
   },
   {
    "duration": 28,
    "start_time": "2023-02-14T05:16:54.927Z"
   },
   {
    "duration": 4,
    "start_time": "2023-02-14T05:16:54.957Z"
   },
   {
    "duration": 738,
    "start_time": "2023-02-14T05:16:54.963Z"
   },
   {
    "duration": 4,
    "start_time": "2023-02-14T05:16:55.702Z"
   },
   {
    "duration": 507,
    "start_time": "2023-02-14T05:16:55.707Z"
   },
   {
    "duration": 9,
    "start_time": "2023-02-14T05:16:56.216Z"
   },
   {
    "duration": 25,
    "start_time": "2023-02-14T05:16:56.227Z"
   },
   {
    "duration": 543,
    "start_time": "2023-02-14T05:16:56.253Z"
   },
   {
    "duration": 13,
    "start_time": "2023-02-14T05:16:56.798Z"
   },
   {
    "duration": 47,
    "start_time": "2023-02-14T05:16:56.813Z"
   },
   {
    "duration": 518,
    "start_time": "2023-02-14T05:16:56.862Z"
   },
   {
    "duration": 248,
    "start_time": "2023-02-14T05:16:57.382Z"
   },
   {
    "duration": 178,
    "start_time": "2023-02-14T05:16:57.632Z"
   },
   {
    "duration": 21,
    "start_time": "2023-02-14T05:16:57.812Z"
   },
   {
    "duration": 41,
    "start_time": "2023-02-14T05:16:57.835Z"
   },
   {
    "duration": 27,
    "start_time": "2023-02-14T05:16:57.878Z"
   },
   {
    "duration": 27,
    "start_time": "2023-02-14T05:16:57.907Z"
   },
   {
    "duration": 439,
    "start_time": "2023-02-14T05:16:57.935Z"
   },
   {
    "duration": 57,
    "start_time": "2023-02-14T05:16:58.376Z"
   },
   {
    "duration": 153,
    "start_time": "2023-02-14T05:16:58.435Z"
   },
   {
    "duration": 167,
    "start_time": "2023-02-14T05:16:58.590Z"
   },
   {
    "duration": 592,
    "start_time": "2023-02-14T05:16:58.759Z"
   },
   {
    "duration": 16,
    "start_time": "2023-02-14T05:16:59.353Z"
   },
   {
    "duration": 3,
    "start_time": "2023-02-14T05:16:59.371Z"
   },
   {
    "duration": 6,
    "start_time": "2023-02-14T05:16:59.376Z"
   },
   {
    "duration": 310,
    "start_time": "2023-02-14T05:16:59.383Z"
   },
   {
    "duration": 1023,
    "start_time": "2023-02-14T05:16:59.702Z"
   },
   {
    "duration": 250,
    "start_time": "2023-02-14T05:17:00.727Z"
   },
   {
    "duration": 292,
    "start_time": "2023-02-14T05:17:00.979Z"
   },
   {
    "duration": 175,
    "start_time": "2023-02-14T05:17:01.273Z"
   },
   {
    "duration": 284,
    "start_time": "2023-02-14T05:17:01.450Z"
   },
   {
    "duration": 216,
    "start_time": "2023-02-14T05:17:01.736Z"
   },
   {
    "duration": 267,
    "start_time": "2023-02-14T05:17:01.954Z"
   },
   {
    "duration": 171,
    "start_time": "2023-02-14T05:17:02.223Z"
   },
   {
    "duration": 19,
    "start_time": "2023-02-14T05:17:02.396Z"
   },
   {
    "duration": 79,
    "start_time": "2023-02-14T05:17:02.417Z"
   },
   {
    "duration": 7,
    "start_time": "2023-02-14T05:17:02.498Z"
   },
   {
    "duration": 25,
    "start_time": "2023-02-14T05:17:02.507Z"
   },
   {
    "duration": 7,
    "start_time": "2023-02-14T05:17:02.534Z"
   },
   {
    "duration": 15,
    "start_time": "2023-02-14T05:17:02.542Z"
   },
   {
    "duration": 21,
    "start_time": "2023-02-14T05:17:02.558Z"
   },
   {
    "duration": 11,
    "start_time": "2023-02-14T05:17:02.582Z"
   },
   {
    "duration": 71,
    "start_time": "2023-02-14T05:17:02.595Z"
   },
   {
    "duration": 18,
    "start_time": "2023-02-14T05:17:02.667Z"
   },
   {
    "duration": 1276,
    "start_time": "2023-02-14T05:17:02.687Z"
   },
   {
    "duration": 3,
    "start_time": "2023-02-14T05:17:03.965Z"
   },
   {
    "duration": 12,
    "start_time": "2023-02-14T05:17:03.971Z"
   },
   {
    "duration": 3163,
    "start_time": "2023-02-14T05:17:03.986Z"
   },
   {
    "duration": 4,
    "start_time": "2023-02-14T05:17:07.151Z"
   },
   {
    "duration": 200,
    "start_time": "2023-02-14T05:17:07.157Z"
   },
   {
    "duration": 819,
    "start_time": "2023-02-14T05:17:07.359Z"
   },
   {
    "duration": 148,
    "start_time": "2023-02-14T05:17:08.180Z"
   },
   {
    "duration": 3,
    "start_time": "2023-02-14T05:17:08.330Z"
   },
   {
    "duration": 16,
    "start_time": "2023-02-14T05:17:08.335Z"
   },
   {
    "duration": 115760,
    "start_time": "2023-02-14T05:17:08.353Z"
   },
   {
    "duration": 237,
    "start_time": "2023-02-14T05:19:04.116Z"
   },
   {
    "duration": 2124,
    "start_time": "2023-02-14T05:19:04.354Z"
   },
   {
    "duration": 58,
    "start_time": "2023-02-14T05:19:06.479Z"
   },
   {
    "duration": 1809,
    "start_time": "2023-02-14T12:53:16.497Z"
   },
   {
    "duration": 2813,
    "start_time": "2023-02-14T12:53:18.308Z"
   },
   {
    "duration": 27,
    "start_time": "2023-02-14T12:53:21.124Z"
   },
   {
    "duration": 167,
    "start_time": "2023-02-14T12:53:21.153Z"
   },
   {
    "duration": 3,
    "start_time": "2023-02-14T12:53:21.322Z"
   },
   {
    "duration": 140,
    "start_time": "2023-02-14T12:53:21.326Z"
   },
   {
    "duration": 142,
    "start_time": "2023-02-14T12:53:21.468Z"
   },
   {
    "duration": 97,
    "start_time": "2023-02-14T12:53:21.611Z"
   },
   {
    "duration": 437,
    "start_time": "2023-02-14T12:53:21.710Z"
   },
   {
    "duration": 473,
    "start_time": "2023-02-14T12:53:22.149Z"
   },
   {
    "duration": 437,
    "start_time": "2023-02-14T12:53:22.623Z"
   },
   {
    "duration": 26,
    "start_time": "2023-02-14T12:53:23.062Z"
   },
   {
    "duration": 17,
    "start_time": "2023-02-14T12:53:23.090Z"
   },
   {
    "duration": 67,
    "start_time": "2023-02-14T12:53:23.110Z"
   },
   {
    "duration": 23,
    "start_time": "2023-02-14T12:53:23.179Z"
   },
   {
    "duration": 6,
    "start_time": "2023-02-14T12:53:23.206Z"
   },
   {
    "duration": 727,
    "start_time": "2023-02-14T12:53:23.213Z"
   },
   {
    "duration": 4,
    "start_time": "2023-02-14T12:53:23.942Z"
   },
   {
    "duration": 499,
    "start_time": "2023-02-14T12:53:23.948Z"
   },
   {
    "duration": 9,
    "start_time": "2023-02-14T12:53:24.449Z"
   },
   {
    "duration": 23,
    "start_time": "2023-02-14T12:53:24.460Z"
   },
   {
    "duration": 519,
    "start_time": "2023-02-14T12:53:24.485Z"
   },
   {
    "duration": 11,
    "start_time": "2023-02-14T12:53:25.006Z"
   },
   {
    "duration": 50,
    "start_time": "2023-02-14T12:53:25.019Z"
   },
   {
    "duration": 512,
    "start_time": "2023-02-14T12:53:25.072Z"
   },
   {
    "duration": 271,
    "start_time": "2023-02-14T12:53:25.585Z"
   },
   {
    "duration": 171,
    "start_time": "2023-02-14T12:53:25.858Z"
   },
   {
    "duration": 22,
    "start_time": "2023-02-14T12:53:26.031Z"
   },
   {
    "duration": 55,
    "start_time": "2023-02-14T12:53:26.055Z"
   },
   {
    "duration": 4,
    "start_time": "2023-02-14T12:53:26.112Z"
   },
   {
    "duration": 27,
    "start_time": "2023-02-14T12:53:26.118Z"
   },
   {
    "duration": 457,
    "start_time": "2023-02-14T12:53:26.147Z"
   },
   {
    "duration": 44,
    "start_time": "2023-02-14T12:53:26.605Z"
   },
   {
    "duration": 171,
    "start_time": "2023-02-14T12:53:26.651Z"
   },
   {
    "duration": 214,
    "start_time": "2023-02-14T12:53:26.824Z"
   },
   {
    "duration": 642,
    "start_time": "2023-02-14T12:53:27.040Z"
   },
   {
    "duration": 28,
    "start_time": "2023-02-14T12:53:27.684Z"
   },
   {
    "duration": 5,
    "start_time": "2023-02-14T12:53:27.714Z"
   },
   {
    "duration": 5,
    "start_time": "2023-02-14T12:53:27.721Z"
   },
   {
    "duration": 313,
    "start_time": "2023-02-14T12:53:27.727Z"
   },
   {
    "duration": 1052,
    "start_time": "2023-02-14T12:53:28.044Z"
   },
   {
    "duration": 236,
    "start_time": "2023-02-14T12:53:29.097Z"
   },
   {
    "duration": 286,
    "start_time": "2023-02-14T12:53:29.335Z"
   },
   {
    "duration": 175,
    "start_time": "2023-02-14T12:53:29.623Z"
   },
   {
    "duration": 285,
    "start_time": "2023-02-14T12:53:29.804Z"
   },
   {
    "duration": 250,
    "start_time": "2023-02-14T12:53:30.091Z"
   },
   {
    "duration": 293,
    "start_time": "2023-02-14T12:53:30.343Z"
   },
   {
    "duration": 176,
    "start_time": "2023-02-14T12:53:30.638Z"
   },
   {
    "duration": 19,
    "start_time": "2023-02-14T12:53:30.815Z"
   },
   {
    "duration": 83,
    "start_time": "2023-02-14T12:53:30.835Z"
   },
   {
    "duration": 5,
    "start_time": "2023-02-14T12:53:30.920Z"
   },
   {
    "duration": 23,
    "start_time": "2023-02-14T12:53:30.926Z"
   },
   {
    "duration": 7,
    "start_time": "2023-02-14T12:53:30.951Z"
   },
   {
    "duration": 20,
    "start_time": "2023-02-14T12:53:30.960Z"
   },
   {
    "duration": 39,
    "start_time": "2023-02-14T12:53:30.982Z"
   },
   {
    "duration": 12,
    "start_time": "2023-02-14T12:53:31.023Z"
   },
   {
    "duration": 86,
    "start_time": "2023-02-14T12:53:31.038Z"
   },
   {
    "duration": 19,
    "start_time": "2023-02-14T12:53:31.126Z"
   },
   {
    "duration": 1258,
    "start_time": "2023-02-14T12:53:31.147Z"
   },
   {
    "duration": 4,
    "start_time": "2023-02-14T12:53:32.407Z"
   },
   {
    "duration": 16,
    "start_time": "2023-02-14T12:53:32.412Z"
   },
   {
    "duration": 2557,
    "start_time": "2023-02-14T12:53:32.431Z"
   },
   {
    "duration": 4,
    "start_time": "2023-02-14T12:53:34.989Z"
   },
   {
    "duration": 202,
    "start_time": "2023-02-14T12:53:34.994Z"
   },
   {
    "duration": 901,
    "start_time": "2023-02-14T12:53:35.198Z"
   },
   {
    "duration": 156,
    "start_time": "2023-02-14T12:53:36.103Z"
   },
   {
    "duration": 3,
    "start_time": "2023-02-14T12:53:36.261Z"
   },
   {
    "duration": 8,
    "start_time": "2023-02-14T12:53:36.266Z"
   },
   {
    "duration": 169832,
    "start_time": "2023-02-14T12:53:36.276Z"
   },
   {
    "duration": 504,
    "start_time": "2023-02-14T12:56:26.111Z"
   },
   {
    "duration": 2258,
    "start_time": "2023-02-14T12:56:26.704Z"
   },
   {
    "duration": 24,
    "start_time": "2023-02-14T12:56:28.964Z"
   },
   {
    "duration": 57158,
    "start_time": "2023-02-14T12:56:28.990Z"
   },
   {
    "duration": 521,
    "start_time": "2023-02-14T12:57:26.150Z"
   },
   {
    "duration": 73330,
    "start_time": "2023-02-14T12:57:26.673Z"
   },
   {
    "duration": 78,
    "start_time": "2023-02-14T12:58:40.004Z"
   },
   {
    "duration": 12930,
    "start_time": "2023-02-14T12:58:40.084Z"
   },
   {
    "duration": 113,
    "start_time": "2023-02-14T12:58:53.016Z"
   },
   {
    "duration": 3,
    "start_time": "2023-02-14T12:58:53.131Z"
   },
   {
    "duration": 7,
    "start_time": "2023-02-14T12:58:53.135Z"
   },
   {
    "duration": 128392,
    "start_time": "2023-02-14T12:59:24.065Z"
   },
   {
    "duration": 182,
    "start_time": "2023-02-14T13:01:32.459Z"
   },
   {
    "duration": 432084,
    "start_time": "2023-02-14T13:01:32.924Z"
   },
   {
    "duration": 1192,
    "start_time": "2023-02-14T13:08:45.010Z"
   },
   {
    "duration": 459873,
    "start_time": "2023-02-14T13:09:22.399Z"
   },
   {
    "duration": 1345,
    "start_time": "2023-02-14T13:18:42.962Z"
   },
   {
    "duration": 1106352,
    "start_time": "2023-02-14T13:18:48.698Z"
   },
   {
    "duration": 100,
    "start_time": "2023-02-14T13:37:15.052Z"
   },
   {
    "duration": 6304,
    "start_time": "2023-02-14T13:51:26.607Z"
   },
   {
    "duration": 14096,
    "start_time": "2023-02-14T13:51:32.917Z"
   },
   {
    "duration": 95,
    "start_time": "2023-02-14T13:51:47.014Z"
   },
   {
    "duration": 1199,
    "start_time": "2023-02-14T13:51:47.115Z"
   },
   {
    "duration": 88,
    "start_time": "2023-02-14T13:51:48.321Z"
   },
   {
    "duration": 1305,
    "start_time": "2023-02-14T13:51:48.412Z"
   },
   {
    "duration": 1094,
    "start_time": "2023-02-14T13:51:49.719Z"
   },
   {
    "duration": 496,
    "start_time": "2023-02-14T13:51:50.822Z"
   },
   {
    "duration": 2597,
    "start_time": "2023-02-14T13:51:51.320Z"
   },
   {
    "duration": 2784,
    "start_time": "2023-02-14T13:51:53.922Z"
   },
   {
    "duration": 2317,
    "start_time": "2023-02-14T13:51:56.711Z"
   },
   {
    "duration": 118,
    "start_time": "2023-02-14T13:51:59.105Z"
   },
   {
    "duration": 27,
    "start_time": "2023-02-14T13:51:59.308Z"
   },
   {
    "duration": 304,
    "start_time": "2023-02-14T13:51:59.414Z"
   },
   {
    "duration": 107,
    "start_time": "2023-02-14T13:51:59.803Z"
   },
   {
    "duration": 299,
    "start_time": "2023-02-14T13:51:59.912Z"
   },
   {
    "duration": 3189,
    "start_time": "2023-02-14T13:52:00.215Z"
   },
   {
    "duration": 9,
    "start_time": "2023-02-14T13:52:03.406Z"
   },
   {
    "duration": 3089,
    "start_time": "2023-02-14T13:52:03.417Z"
   },
   {
    "duration": 11,
    "start_time": "2023-02-14T13:52:06.508Z"
   },
   {
    "duration": 393,
    "start_time": "2023-02-14T13:52:06.521Z"
   },
   {
    "duration": 2597,
    "start_time": "2023-02-14T13:52:06.916Z"
   },
   {
    "duration": 16,
    "start_time": "2023-02-14T13:52:09.522Z"
   },
   {
    "duration": 309,
    "start_time": "2023-02-14T13:52:09.606Z"
   },
   {
    "duration": 2509,
    "start_time": "2023-02-14T13:52:09.917Z"
   },
   {
    "duration": 1979,
    "start_time": "2023-02-14T13:52:12.430Z"
   },
   {
    "duration": 994,
    "start_time": "2023-02-14T13:52:14.416Z"
   },
   {
    "duration": 189,
    "start_time": "2023-02-14T13:52:15.414Z"
   },
   {
    "duration": 408,
    "start_time": "2023-02-14T13:52:15.609Z"
   },
   {
    "duration": 98,
    "start_time": "2023-02-14T13:52:16.020Z"
   },
   {
    "duration": 381,
    "start_time": "2023-02-14T13:52:16.122Z"
   },
   {
    "duration": 2604,
    "start_time": "2023-02-14T13:52:16.505Z"
   },
   {
    "duration": 189,
    "start_time": "2023-02-14T13:52:19.121Z"
   },
   {
    "duration": 913,
    "start_time": "2023-02-14T13:52:19.321Z"
   },
   {
    "duration": 975,
    "start_time": "2023-02-14T13:52:20.240Z"
   },
   {
    "duration": 2394,
    "start_time": "2023-02-14T13:52:21.220Z"
   },
   {
    "duration": 100,
    "start_time": "2023-02-14T13:52:23.620Z"
   },
   {
    "duration": 180,
    "start_time": "2023-02-14T13:52:23.725Z"
   },
   {
    "duration": 298,
    "start_time": "2023-02-14T13:52:23.907Z"
   },
   {
    "duration": 2700,
    "start_time": "2023-02-14T13:52:24.207Z"
   },
   {
    "duration": 6188,
    "start_time": "2023-02-14T13:52:26.921Z"
   },
   {
    "duration": 1702,
    "start_time": "2023-02-14T13:52:33.112Z"
   },
   {
    "duration": 1988,
    "start_time": "2023-02-14T13:52:34.819Z"
   },
   {
    "duration": 1195,
    "start_time": "2023-02-14T13:52:36.819Z"
   },
   {
    "duration": 2189,
    "start_time": "2023-02-14T13:52:38.018Z"
   },
   {
    "duration": 1604,
    "start_time": "2023-02-14T13:52:40.209Z"
   },
   {
    "duration": 2196,
    "start_time": "2023-02-14T13:52:41.815Z"
   },
   {
    "duration": 1389,
    "start_time": "2023-02-14T13:52:44.018Z"
   },
   {
    "duration": 107,
    "start_time": "2023-02-14T13:52:45.408Z"
   },
   {
    "duration": 700,
    "start_time": "2023-02-14T13:52:45.604Z"
   },
   {
    "duration": 8,
    "start_time": "2023-02-14T13:52:46.307Z"
   },
   {
    "duration": 188,
    "start_time": "2023-02-14T13:52:46.316Z"
   },
   {
    "duration": 7,
    "start_time": "2023-02-14T13:52:46.506Z"
   },
   {
    "duration": 390,
    "start_time": "2023-02-14T13:52:46.515Z"
   },
   {
    "duration": 114,
    "start_time": "2023-02-14T13:52:46.908Z"
   },
   {
    "duration": 290,
    "start_time": "2023-02-14T13:52:47.024Z"
   },
   {
    "duration": 888,
    "start_time": "2023-02-14T13:52:47.319Z"
   },
   {
    "duration": 191,
    "start_time": "2023-02-14T13:52:48.220Z"
   },
   {
    "duration": 8386,
    "start_time": "2023-02-14T13:52:48.418Z"
   },
   {
    "duration": 7,
    "start_time": "2023-02-14T13:52:56.806Z"
   },
   {
    "duration": 96,
    "start_time": "2023-02-14T13:52:56.815Z"
   },
   {
    "duration": 7455,
    "start_time": "2023-02-14T13:52:56.916Z"
   },
   {
    "duration": 3,
    "start_time": "2023-02-14T13:53:04.372Z"
   },
   {
    "duration": 186,
    "start_time": "2023-02-14T13:53:04.377Z"
   },
   {
    "duration": 1018,
    "start_time": "2023-02-14T13:53:04.565Z"
   },
   {
    "duration": 164,
    "start_time": "2023-02-14T13:53:05.585Z"
   },
   {
    "duration": 3,
    "start_time": "2023-02-14T13:53:05.750Z"
   },
   {
    "duration": 8,
    "start_time": "2023-02-14T13:53:05.756Z"
   },
   {
    "duration": 242844,
    "start_time": "2023-02-14T13:53:05.766Z"
   },
   {
    "duration": 501,
    "start_time": "2023-02-14T13:57:08.614Z"
   },
   {
    "duration": 2462,
    "start_time": "2023-02-14T13:57:09.120Z"
   },
   {
    "duration": 35,
    "start_time": "2023-02-14T13:57:11.584Z"
   },
   {
    "duration": 58539,
    "start_time": "2023-02-14T13:57:11.622Z"
   },
   {
    "duration": 516,
    "start_time": "2023-02-14T13:58:10.163Z"
   },
   {
    "duration": 380311,
    "start_time": "2023-02-14T13:58:10.681Z"
   },
   {
    "duration": 1018,
    "start_time": "2023-02-14T14:04:30.994Z"
   },
   {
    "duration": 1912,
    "start_time": "2023-02-14T14:17:15.250Z"
   },
   {
    "duration": 2919,
    "start_time": "2023-02-14T14:17:17.165Z"
   },
   {
    "duration": 19,
    "start_time": "2023-02-14T14:17:20.086Z"
   },
   {
    "duration": 183,
    "start_time": "2023-02-14T14:17:20.106Z"
   },
   {
    "duration": 3,
    "start_time": "2023-02-14T14:17:20.291Z"
   },
   {
    "duration": 130,
    "start_time": "2023-02-14T14:17:20.295Z"
   },
   {
    "duration": 139,
    "start_time": "2023-02-14T14:17:20.426Z"
   },
   {
    "duration": 94,
    "start_time": "2023-02-14T14:17:20.566Z"
   },
   {
    "duration": 509,
    "start_time": "2023-02-14T14:17:20.662Z"
   },
   {
    "duration": 501,
    "start_time": "2023-02-14T14:17:21.173Z"
   },
   {
    "duration": 469,
    "start_time": "2023-02-14T14:17:21.676Z"
   },
   {
    "duration": 40,
    "start_time": "2023-02-14T14:17:22.147Z"
   },
   {
    "duration": 20,
    "start_time": "2023-02-14T14:17:22.188Z"
   },
   {
    "duration": 47,
    "start_time": "2023-02-14T14:17:22.211Z"
   },
   {
    "duration": 24,
    "start_time": "2023-02-14T14:17:22.260Z"
   },
   {
    "duration": 5,
    "start_time": "2023-02-14T14:17:22.303Z"
   },
   {
    "duration": 688,
    "start_time": "2023-02-14T14:17:22.310Z"
   },
   {
    "duration": 4,
    "start_time": "2023-02-14T14:17:22.999Z"
   },
   {
    "duration": 503,
    "start_time": "2023-02-14T14:17:23.005Z"
   },
   {
    "duration": 10,
    "start_time": "2023-02-14T14:17:23.510Z"
   },
   {
    "duration": 23,
    "start_time": "2023-02-14T14:17:23.522Z"
   },
   {
    "duration": 530,
    "start_time": "2023-02-14T14:17:23.547Z"
   },
   {
    "duration": 9,
    "start_time": "2023-02-14T14:17:24.079Z"
   },
   {
    "duration": 49,
    "start_time": "2023-02-14T14:17:24.103Z"
   },
   {
    "duration": 558,
    "start_time": "2023-02-14T14:17:24.154Z"
   },
   {
    "duration": 275,
    "start_time": "2023-02-14T14:17:24.714Z"
   },
   {
    "duration": 189,
    "start_time": "2023-02-14T14:17:24.991Z"
   },
   {
    "duration": 32,
    "start_time": "2023-02-14T14:17:25.182Z"
   },
   {
    "duration": 68,
    "start_time": "2023-02-14T14:17:25.217Z"
   },
   {
    "duration": 18,
    "start_time": "2023-02-14T14:17:25.287Z"
   },
   {
    "duration": 34,
    "start_time": "2023-02-14T14:17:25.307Z"
   },
   {
    "duration": 451,
    "start_time": "2023-02-14T14:17:25.343Z"
   },
   {
    "duration": 50,
    "start_time": "2023-02-14T14:17:25.796Z"
   },
   {
    "duration": 190,
    "start_time": "2023-02-14T14:17:25.848Z"
   },
   {
    "duration": 214,
    "start_time": "2023-02-14T14:17:26.040Z"
   },
   {
    "duration": 685,
    "start_time": "2023-02-14T14:17:26.256Z"
   },
   {
    "duration": 21,
    "start_time": "2023-02-14T14:17:26.943Z"
   },
   {
    "duration": 6,
    "start_time": "2023-02-14T14:17:26.966Z"
   },
   {
    "duration": 6,
    "start_time": "2023-02-14T14:17:26.973Z"
   },
   {
    "duration": 319,
    "start_time": "2023-02-14T14:17:26.980Z"
   },
   {
    "duration": 1056,
    "start_time": "2023-02-14T14:17:27.304Z"
   },
   {
    "duration": 250,
    "start_time": "2023-02-14T14:17:28.361Z"
   },
   {
    "duration": 305,
    "start_time": "2023-02-14T14:17:28.613Z"
   },
   {
    "duration": 185,
    "start_time": "2023-02-14T14:17:28.920Z"
   },
   {
    "duration": 338,
    "start_time": "2023-02-14T14:17:29.107Z"
   },
   {
    "duration": 228,
    "start_time": "2023-02-14T14:17:29.447Z"
   },
   {
    "duration": 316,
    "start_time": "2023-02-14T14:17:29.677Z"
   },
   {
    "duration": 182,
    "start_time": "2023-02-14T14:17:29.994Z"
   },
   {
    "duration": 27,
    "start_time": "2023-02-14T14:17:30.178Z"
   },
   {
    "duration": 105,
    "start_time": "2023-02-14T14:17:30.207Z"
   },
   {
    "duration": 13,
    "start_time": "2023-02-14T14:17:30.314Z"
   },
   {
    "duration": 23,
    "start_time": "2023-02-14T14:17:30.329Z"
   },
   {
    "duration": 27,
    "start_time": "2023-02-14T14:17:30.353Z"
   },
   {
    "duration": 27,
    "start_time": "2023-02-14T14:17:30.383Z"
   },
   {
    "duration": 37,
    "start_time": "2023-02-14T14:17:30.412Z"
   },
   {
    "duration": 50,
    "start_time": "2023-02-14T14:17:30.451Z"
   },
   {
    "duration": 89,
    "start_time": "2023-02-14T14:17:30.503Z"
   },
   {
    "duration": 24,
    "start_time": "2023-02-14T14:17:30.594Z"
   },
   {
    "duration": 1321,
    "start_time": "2023-02-14T14:17:30.619Z"
   },
   {
    "duration": 4,
    "start_time": "2023-02-14T14:17:31.941Z"
   },
   {
    "duration": 14,
    "start_time": "2023-02-14T14:17:31.946Z"
   },
   {
    "duration": 2341,
    "start_time": "2023-02-14T14:17:31.961Z"
   },
   {
    "duration": 4,
    "start_time": "2023-02-14T14:17:34.303Z"
   },
   {
    "duration": 177,
    "start_time": "2023-02-14T14:17:34.308Z"
   },
   {
    "duration": 890,
    "start_time": "2023-02-14T14:17:34.487Z"
   },
   {
    "duration": 159,
    "start_time": "2023-02-14T14:17:35.379Z"
   },
   {
    "duration": 2,
    "start_time": "2023-02-14T14:17:35.540Z"
   },
   {
    "duration": 6,
    "start_time": "2023-02-14T14:17:35.544Z"
   },
   {
    "duration": 144460,
    "start_time": "2023-02-14T14:17:35.552Z"
   },
   {
    "duration": 590,
    "start_time": "2023-02-14T14:20:00.014Z"
   },
   {
    "duration": 2245,
    "start_time": "2023-02-14T14:20:00.607Z"
   },
   {
    "duration": 27,
    "start_time": "2023-02-14T14:20:02.854Z"
   },
   {
    "duration": 56010,
    "start_time": "2023-02-14T14:20:02.883Z"
   },
   {
    "duration": 477,
    "start_time": "2023-02-14T14:20:58.894Z"
   },
   {
    "duration": 362376,
    "start_time": "2023-02-14T14:20:59.373Z"
   },
   {
    "duration": 973,
    "start_time": "2023-02-14T14:27:01.751Z"
   },
   {
    "duration": 1585,
    "start_time": "2023-02-14T14:52:40.062Z"
   },
   {
    "duration": 3205,
    "start_time": "2023-02-14T14:52:41.649Z"
   },
   {
    "duration": 68,
    "start_time": "2023-02-14T14:52:44.856Z"
   },
   {
    "duration": 407,
    "start_time": "2023-02-14T14:52:44.926Z"
   },
   {
    "duration": 3,
    "start_time": "2023-02-14T14:52:45.336Z"
   },
   {
    "duration": 306,
    "start_time": "2023-02-14T14:52:45.341Z"
   },
   {
    "duration": 323,
    "start_time": "2023-02-14T14:52:45.704Z"
   },
   {
    "duration": 212,
    "start_time": "2023-02-14T14:52:46.029Z"
   },
   {
    "duration": 787,
    "start_time": "2023-02-14T14:52:46.243Z"
   },
   {
    "duration": 650,
    "start_time": "2023-02-14T14:52:47.031Z"
   },
   {
    "duration": 508,
    "start_time": "2023-02-14T14:52:47.682Z"
   },
   {
    "duration": 41,
    "start_time": "2023-02-14T14:52:48.192Z"
   },
   {
    "duration": 6,
    "start_time": "2023-02-14T14:52:48.235Z"
   },
   {
    "duration": 39,
    "start_time": "2023-02-14T14:52:48.245Z"
   },
   {
    "duration": 36,
    "start_time": "2023-02-14T14:52:48.304Z"
   },
   {
    "duration": 5,
    "start_time": "2023-02-14T14:52:48.342Z"
   },
   {
    "duration": 732,
    "start_time": "2023-02-14T14:52:48.348Z"
   },
   {
    "duration": 6,
    "start_time": "2023-02-14T14:52:49.082Z"
   },
   {
    "duration": 626,
    "start_time": "2023-02-14T14:52:49.092Z"
   },
   {
    "duration": 12,
    "start_time": "2023-02-14T14:52:49.721Z"
   },
   {
    "duration": 24,
    "start_time": "2023-02-14T14:52:49.735Z"
   },
   {
    "duration": 900,
    "start_time": "2023-02-14T14:52:49.761Z"
   },
   {
    "duration": 11,
    "start_time": "2023-02-14T14:52:50.664Z"
   },
   {
    "duration": 74,
    "start_time": "2023-02-14T14:52:50.677Z"
   },
   {
    "duration": 586,
    "start_time": "2023-02-14T14:52:50.753Z"
   },
   {
    "duration": 378,
    "start_time": "2023-02-14T14:52:51.342Z"
   },
   {
    "duration": 225,
    "start_time": "2023-02-14T14:52:51.721Z"
   },
   {
    "duration": 25,
    "start_time": "2023-02-14T14:52:51.948Z"
   },
   {
    "duration": 71,
    "start_time": "2023-02-14T14:52:51.975Z"
   },
   {
    "duration": 6,
    "start_time": "2023-02-14T14:52:52.048Z"
   },
   {
    "duration": 32,
    "start_time": "2023-02-14T14:52:52.056Z"
   },
   {
    "duration": 566,
    "start_time": "2023-02-14T14:52:52.105Z"
   },
   {
    "duration": 73,
    "start_time": "2023-02-14T14:52:52.673Z"
   },
   {
    "duration": 222,
    "start_time": "2023-02-14T14:52:52.750Z"
   },
   {
    "duration": 228,
    "start_time": "2023-02-14T14:52:52.974Z"
   },
   {
    "duration": 638,
    "start_time": "2023-02-14T14:52:53.203Z"
   },
   {
    "duration": 17,
    "start_time": "2023-02-14T14:52:53.843Z"
   },
   {
    "duration": 4,
    "start_time": "2023-02-14T14:52:53.861Z"
   },
   {
    "duration": 6,
    "start_time": "2023-02-14T14:52:53.867Z"
   },
   {
    "duration": 375,
    "start_time": "2023-02-14T14:52:53.874Z"
   },
   {
    "duration": 1203,
    "start_time": "2023-02-14T14:52:54.253Z"
   },
   {
    "duration": 311,
    "start_time": "2023-02-14T14:52:55.458Z"
   },
   {
    "duration": 349,
    "start_time": "2023-02-14T14:52:55.771Z"
   },
   {
    "duration": 218,
    "start_time": "2023-02-14T14:52:56.123Z"
   },
   {
    "duration": 372,
    "start_time": "2023-02-14T14:52:56.343Z"
   },
   {
    "duration": 362,
    "start_time": "2023-02-14T14:52:56.717Z"
   },
   {
    "duration": 358,
    "start_time": "2023-02-14T14:52:57.081Z"
   },
   {
    "duration": 191,
    "start_time": "2023-02-14T14:52:57.441Z"
   },
   {
    "duration": 19,
    "start_time": "2023-02-14T14:52:57.634Z"
   },
   {
    "duration": 105,
    "start_time": "2023-02-14T14:52:57.654Z"
   },
   {
    "duration": 3,
    "start_time": "2023-02-14T14:52:57.761Z"
   },
   {
    "duration": 6,
    "start_time": "2023-02-14T14:52:57.765Z"
   },
   {
    "duration": 4,
    "start_time": "2023-02-14T14:52:57.773Z"
   },
   {
    "duration": 34,
    "start_time": "2023-02-14T14:52:57.779Z"
   },
   {
    "duration": 37,
    "start_time": "2023-02-14T14:52:57.814Z"
   },
   {
    "duration": 11,
    "start_time": "2023-02-14T14:52:57.854Z"
   },
   {
    "duration": 94,
    "start_time": "2023-02-14T14:52:57.867Z"
   },
   {
    "duration": 19,
    "start_time": "2023-02-14T14:52:57.964Z"
   },
   {
    "duration": 1492,
    "start_time": "2023-02-14T14:52:57.985Z"
   },
   {
    "duration": 3,
    "start_time": "2023-02-14T14:52:59.479Z"
   },
   {
    "duration": 25,
    "start_time": "2023-02-14T14:52:59.483Z"
   },
   {
    "duration": 2933,
    "start_time": "2023-02-14T14:52:59.509Z"
   },
   {
    "duration": 4,
    "start_time": "2023-02-14T14:53:02.444Z"
   },
   {
    "duration": 212,
    "start_time": "2023-02-14T14:53:02.450Z"
   },
   {
    "duration": 1033,
    "start_time": "2023-02-14T14:53:02.664Z"
   },
   {
    "duration": 166,
    "start_time": "2023-02-14T14:53:03.708Z"
   },
   {
    "duration": 2,
    "start_time": "2023-02-14T14:53:03.876Z"
   },
   {
    "duration": 11,
    "start_time": "2023-02-14T14:53:03.880Z"
   },
   {
    "duration": 127019,
    "start_time": "2023-02-14T14:53:03.893Z"
   },
   {
    "duration": 591,
    "start_time": "2023-02-14T14:55:10.915Z"
   },
   {
    "duration": 2467,
    "start_time": "2023-02-14T14:55:11.508Z"
   },
   {
    "duration": 29,
    "start_time": "2023-02-14T14:55:13.976Z"
   },
   {
    "duration": 56283,
    "start_time": "2023-02-14T14:55:14.007Z"
   },
   {
    "duration": 523,
    "start_time": "2023-02-14T14:56:10.292Z"
   },
   {
    "duration": 339501,
    "start_time": "2023-02-14T14:56:10.817Z"
   },
   {
    "duration": 898,
    "start_time": "2023-02-14T15:01:50.320Z"
   },
   {
    "duration": 8780,
    "start_time": "2023-05-03T14:51:12.613Z"
   },
   {
    "duration": 2397,
    "start_time": "2023-05-03T14:51:21.397Z"
   },
   {
    "duration": 4203,
    "start_time": "2023-05-03T14:51:23.796Z"
   },
   {
    "duration": 27,
    "start_time": "2023-05-03T14:51:28.002Z"
   },
   {
    "duration": 282,
    "start_time": "2023-05-03T14:51:28.031Z"
   },
   {
    "duration": 26,
    "start_time": "2023-05-03T14:51:28.325Z"
   },
   {
    "duration": 284,
    "start_time": "2023-05-03T14:51:28.357Z"
   },
   {
    "duration": 253,
    "start_time": "2023-05-03T14:51:28.662Z"
   },
   {
    "duration": 143,
    "start_time": "2023-05-03T14:51:28.917Z"
   },
   {
    "duration": 677,
    "start_time": "2023-05-03T14:51:29.062Z"
   },
   {
    "duration": 651,
    "start_time": "2023-05-03T14:51:29.741Z"
   },
   {
    "duration": 637,
    "start_time": "2023-05-03T14:51:30.394Z"
   },
   {
    "duration": 53,
    "start_time": "2023-05-03T14:51:31.037Z"
   },
   {
    "duration": 118,
    "start_time": "2023-05-03T14:51:31.094Z"
   },
   {
    "duration": 172,
    "start_time": "2023-05-03T14:51:31.215Z"
   },
   {
    "duration": 123,
    "start_time": "2023-05-03T14:51:31.389Z"
   },
   {
    "duration": 50,
    "start_time": "2023-05-03T14:51:31.514Z"
   },
   {
    "duration": 1041,
    "start_time": "2023-05-03T14:51:31.567Z"
   },
   {
    "duration": 6,
    "start_time": "2023-05-03T14:51:32.610Z"
   },
   {
    "duration": 985,
    "start_time": "2023-05-03T14:51:32.620Z"
   },
   {
    "duration": 19,
    "start_time": "2023-05-03T14:51:33.608Z"
   },
   {
    "duration": 39,
    "start_time": "2023-05-03T14:51:33.638Z"
   },
   {
    "duration": 547,
    "start_time": "2023-05-03T14:51:33.680Z"
   },
   {
    "duration": 15,
    "start_time": "2023-05-03T14:51:34.236Z"
   },
   {
    "duration": 69,
    "start_time": "2023-05-03T14:51:34.253Z"
   },
   {
    "duration": 618,
    "start_time": "2023-05-03T14:51:34.330Z"
   },
   {
    "duration": 430,
    "start_time": "2023-05-03T14:51:34.954Z"
   },
   {
    "duration": 263,
    "start_time": "2023-05-03T14:51:35.387Z"
   },
   {
    "duration": 38,
    "start_time": "2023-05-03T14:51:35.657Z"
   },
   {
    "duration": 112,
    "start_time": "2023-05-03T14:51:35.697Z"
   },
   {
    "duration": 6,
    "start_time": "2023-05-03T14:51:35.810Z"
   },
   {
    "duration": 93,
    "start_time": "2023-05-03T14:51:35.823Z"
   },
   {
    "duration": 707,
    "start_time": "2023-05-03T14:51:35.921Z"
   },
   {
    "duration": 146,
    "start_time": "2023-05-03T14:51:36.631Z"
   },
   {
    "duration": 646,
    "start_time": "2023-05-03T14:51:36.780Z"
   },
   {
    "duration": 534,
    "start_time": "2023-05-03T14:51:37.428Z"
   },
   {
    "duration": 1559,
    "start_time": "2023-05-03T14:51:37.967Z"
   },
   {
    "duration": 29,
    "start_time": "2023-05-03T14:51:39.533Z"
   },
   {
    "duration": 33,
    "start_time": "2023-05-03T14:51:39.564Z"
   },
   {
    "duration": 59,
    "start_time": "2023-05-03T14:51:39.599Z"
   },
   {
    "duration": 707,
    "start_time": "2023-05-03T14:51:39.664Z"
   },
   {
    "duration": 1166,
    "start_time": "2023-05-03T14:51:40.373Z"
   },
   {
    "duration": 360,
    "start_time": "2023-05-03T14:51:41.541Z"
   },
   {
    "duration": 508,
    "start_time": "2023-05-03T14:51:41.903Z"
   },
   {
    "duration": 332,
    "start_time": "2023-05-03T14:51:42.414Z"
   },
   {
    "duration": 478,
    "start_time": "2023-05-03T14:51:42.747Z"
   },
   {
    "duration": 385,
    "start_time": "2023-05-03T14:51:43.231Z"
   },
   {
    "duration": 432,
    "start_time": "2023-05-03T14:51:43.629Z"
   },
   {
    "duration": 258,
    "start_time": "2023-05-03T14:51:44.063Z"
   },
   {
    "duration": 36,
    "start_time": "2023-05-03T14:51:44.323Z"
   },
   {
    "duration": 179,
    "start_time": "2023-05-03T14:51:44.361Z"
   },
   {
    "duration": 45,
    "start_time": "2023-05-03T14:51:44.542Z"
   },
   {
    "duration": 21,
    "start_time": "2023-05-03T14:51:44.590Z"
   },
   {
    "duration": 76,
    "start_time": "2023-05-03T14:51:44.613Z"
   },
   {
    "duration": 50,
    "start_time": "2023-05-03T14:51:44.691Z"
   },
   {
    "duration": 62,
    "start_time": "2023-05-03T14:51:44.743Z"
   },
   {
    "duration": 99,
    "start_time": "2023-05-03T14:51:44.807Z"
   },
   {
    "duration": 55,
    "start_time": "2023-05-03T14:51:44.911Z"
   },
   {
    "duration": 2074,
    "start_time": "2023-05-03T14:51:44.968Z"
   },
   {
    "duration": 7,
    "start_time": "2023-05-03T14:51:47.047Z"
   },
   {
    "duration": 88,
    "start_time": "2023-05-03T14:51:47.056Z"
   },
   {
    "duration": 2697,
    "start_time": "2023-05-03T14:51:47.149Z"
   },
   {
    "duration": 8,
    "start_time": "2023-05-03T14:51:49.853Z"
   },
   {
    "duration": 325,
    "start_time": "2023-05-03T14:51:49.863Z"
   },
   {
    "duration": 1519,
    "start_time": "2023-05-03T14:51:50.190Z"
   },
   {
    "duration": 297,
    "start_time": "2023-05-03T14:51:51.712Z"
   },
   {
    "duration": 6,
    "start_time": "2023-05-03T14:51:52.011Z"
   },
   {
    "duration": 108,
    "start_time": "2023-05-03T14:51:52.023Z"
   },
   {
    "duration": 68131,
    "start_time": "2023-05-03T14:51:52.144Z"
   },
   {
    "duration": 282,
    "start_time": "2023-05-03T14:53:00.277Z"
   },
   {
    "duration": 3306,
    "start_time": "2023-05-03T14:53:00.561Z"
   },
   {
    "duration": 29,
    "start_time": "2023-05-03T14:53:03.869Z"
   },
   {
    "duration": 27243,
    "start_time": "2023-05-03T14:53:03.900Z"
   },
   {
    "duration": 251,
    "start_time": "2023-05-03T14:53:31.147Z"
   },
   {
    "duration": 4379,
    "start_time": "2023-05-03T14:53:31.400Z"
   },
   {
    "duration": 122,
    "start_time": "2023-05-03T14:53:35.781Z"
   },
   {
    "duration": 15360,
    "start_time": "2023-05-03T14:53:35.905Z"
   },
   {
    "duration": 113,
    "start_time": "2023-05-03T14:53:51.267Z"
   },
   {
    "duration": 16,
    "start_time": "2023-05-03T14:53:51.381Z"
   },
   {
    "duration": 0,
    "start_time": "2023-05-03T14:53:51.400Z"
   },
   {
    "duration": 0,
    "start_time": "2023-05-03T14:53:51.401Z"
   },
   {
    "duration": 30,
    "start_time": "2023-05-03T14:54:06.479Z"
   },
   {
    "duration": 6335,
    "start_time": "2023-07-03T11:32:32.052Z"
   },
   {
    "duration": 1882,
    "start_time": "2023-07-03T11:32:38.390Z"
   },
   {
    "duration": 3089,
    "start_time": "2023-07-03T11:32:40.274Z"
   },
   {
    "duration": 21,
    "start_time": "2023-07-03T11:32:43.365Z"
   },
   {
    "duration": 153,
    "start_time": "2023-07-03T11:32:43.387Z"
   },
   {
    "duration": 3,
    "start_time": "2023-07-03T11:32:43.542Z"
   },
   {
    "duration": 154,
    "start_time": "2023-07-03T11:32:43.546Z"
   },
   {
    "duration": 143,
    "start_time": "2023-07-03T11:32:43.702Z"
   },
   {
    "duration": 131,
    "start_time": "2023-07-03T11:32:43.847Z"
   },
   {
    "duration": 456,
    "start_time": "2023-07-03T11:32:43.980Z"
   },
   {
    "duration": 568,
    "start_time": "2023-07-03T11:32:44.439Z"
   },
   {
    "duration": 509,
    "start_time": "2023-07-03T11:32:45.009Z"
   },
   {
    "duration": 33,
    "start_time": "2023-07-03T11:32:45.520Z"
   },
   {
    "duration": 13,
    "start_time": "2023-07-03T11:32:45.555Z"
   },
   {
    "duration": 91,
    "start_time": "2023-07-03T11:32:45.570Z"
   },
   {
    "duration": 36,
    "start_time": "2023-07-03T11:32:45.663Z"
   },
   {
    "duration": 15,
    "start_time": "2023-07-03T11:32:45.701Z"
   },
   {
    "duration": 760,
    "start_time": "2023-07-03T11:32:45.719Z"
   },
   {
    "duration": 4,
    "start_time": "2023-07-03T11:32:46.481Z"
   },
   {
    "duration": 621,
    "start_time": "2023-07-03T11:32:46.486Z"
   },
   {
    "duration": 16,
    "start_time": "2023-07-03T11:32:47.109Z"
   },
   {
    "duration": 27,
    "start_time": "2023-07-03T11:32:47.128Z"
   },
   {
    "duration": 608,
    "start_time": "2023-07-03T11:32:47.157Z"
   },
   {
    "duration": 11,
    "start_time": "2023-07-03T11:32:47.767Z"
   },
   {
    "duration": 85,
    "start_time": "2023-07-03T11:32:47.780Z"
   },
   {
    "duration": 585,
    "start_time": "2023-07-03T11:32:47.867Z"
   },
   {
    "duration": 300,
    "start_time": "2023-07-03T11:32:48.453Z"
   },
   {
    "duration": 202,
    "start_time": "2023-07-03T11:32:48.757Z"
   },
   {
    "duration": 23,
    "start_time": "2023-07-03T11:32:48.961Z"
   },
   {
    "duration": 69,
    "start_time": "2023-07-03T11:32:48.986Z"
   },
   {
    "duration": 5,
    "start_time": "2023-07-03T11:32:49.057Z"
   },
   {
    "duration": 47,
    "start_time": "2023-07-03T11:32:49.064Z"
   },
   {
    "duration": 532,
    "start_time": "2023-07-03T11:32:49.114Z"
   },
   {
    "duration": 70,
    "start_time": "2023-07-03T11:32:49.649Z"
   },
   {
    "duration": 223,
    "start_time": "2023-07-03T11:32:49.722Z"
   },
   {
    "duration": 203,
    "start_time": "2023-07-03T11:32:49.947Z"
   },
   {
    "duration": 705,
    "start_time": "2023-07-03T11:32:50.152Z"
   },
   {
    "duration": 17,
    "start_time": "2023-07-03T11:32:50.858Z"
   },
   {
    "duration": 78,
    "start_time": "2023-07-03T11:32:50.877Z"
   },
   {
    "duration": 43,
    "start_time": "2023-07-03T11:32:50.957Z"
   },
   {
    "duration": 367,
    "start_time": "2023-07-03T11:32:51.002Z"
   },
   {
    "duration": 1245,
    "start_time": "2023-07-03T11:32:51.371Z"
   },
   {
    "duration": 277,
    "start_time": "2023-07-03T11:32:52.618Z"
   },
   {
    "duration": 344,
    "start_time": "2023-07-03T11:32:52.897Z"
   },
   {
    "duration": 189,
    "start_time": "2023-07-03T11:32:53.243Z"
   },
   {
    "duration": 320,
    "start_time": "2023-07-03T11:32:53.435Z"
   },
   {
    "duration": 247,
    "start_time": "2023-07-03T11:32:53.757Z"
   },
   {
    "duration": 297,
    "start_time": "2023-07-03T11:32:54.006Z"
   },
   {
    "duration": 201,
    "start_time": "2023-07-03T11:32:54.305Z"
   },
   {
    "duration": 18,
    "start_time": "2023-07-03T11:32:54.508Z"
   },
   {
    "duration": 76,
    "start_time": "2023-07-03T11:32:54.528Z"
   },
   {
    "duration": 8,
    "start_time": "2023-07-03T11:32:54.605Z"
   },
   {
    "duration": 9,
    "start_time": "2023-07-03T11:32:54.615Z"
   },
   {
    "duration": 25,
    "start_time": "2023-07-03T11:32:54.626Z"
   },
   {
    "duration": 43,
    "start_time": "2023-07-03T11:32:54.653Z"
   },
   {
    "duration": 34,
    "start_time": "2023-07-03T11:32:54.698Z"
   },
   {
    "duration": 70,
    "start_time": "2023-07-03T11:32:54.734Z"
   },
   {
    "duration": 27,
    "start_time": "2023-07-03T11:32:54.806Z"
   },
   {
    "duration": 1537,
    "start_time": "2023-07-03T11:32:54.835Z"
   },
   {
    "duration": 3,
    "start_time": "2023-07-03T11:32:56.374Z"
   },
   {
    "duration": 14,
    "start_time": "2023-07-03T11:32:56.379Z"
   },
   {
    "duration": 2214,
    "start_time": "2023-07-03T11:32:56.395Z"
   },
   {
    "duration": 4,
    "start_time": "2023-07-03T11:32:58.611Z"
   },
   {
    "duration": 231,
    "start_time": "2023-07-03T11:32:58.618Z"
   },
   {
    "duration": 982,
    "start_time": "2023-07-03T11:32:58.851Z"
   },
   {
    "duration": 189,
    "start_time": "2023-07-03T11:32:59.837Z"
   },
   {
    "duration": 32,
    "start_time": "2023-07-03T11:33:00.028Z"
   },
   {
    "duration": 40,
    "start_time": "2023-07-03T11:33:00.062Z"
   },
   {
    "duration": 496,
    "start_time": "2023-07-03T11:33:00.104Z"
   },
   {
    "duration": 280426,
    "start_time": "2023-07-03T11:33:00.601Z"
   },
   {
    "duration": 589,
    "start_time": "2023-07-03T11:37:41.028Z"
   },
   {
    "duration": 2432,
    "start_time": "2023-07-03T11:37:41.618Z"
   },
   {
    "duration": 24,
    "start_time": "2023-07-03T11:37:44.051Z"
   },
   {
    "duration": 62877,
    "start_time": "2023-07-03T11:37:44.077Z"
   },
   {
    "duration": 520,
    "start_time": "2023-07-03T11:38:46.956Z"
   },
   {
    "duration": 442085,
    "start_time": "2023-07-03T11:38:47.478Z"
   },
   {
    "duration": 1126,
    "start_time": "2023-07-03T11:46:09.565Z"
   },
   {
    "duration": 7101726,
    "start_time": "2023-07-03T11:46:10.692Z"
   },
   {
    "duration": 15325,
    "start_time": "2023-07-03T13:44:32.420Z"
   },
   {
    "duration": 12,
    "start_time": "2023-07-03T13:44:47.747Z"
   },
   {
    "duration": 4970,
    "start_time": "2023-07-03T13:44:47.760Z"
   }
  ],
  "colab": {
   "provenance": [],
   "toc_visible": true
  },
  "kernelspec": {
   "display_name": "Python 3 (ipykernel)",
   "language": "python",
   "name": "python3"
  },
  "language_info": {
   "codemirror_mode": {
    "name": "ipython",
    "version": 3
   },
   "file_extension": ".py",
   "mimetype": "text/x-python",
   "name": "python",
   "nbconvert_exporter": "python",
   "pygments_lexer": "ipython3",
   "version": "3.9.12"
  },
  "toc": {
   "base_numbering": 1,
   "nav_menu": {},
   "number_sections": true,
   "sideBar": true,
   "skip_h1_title": true,
   "title_cell": "Table of Contents",
   "title_sidebar": "Contents",
   "toc_cell": false,
   "toc_position": {},
   "toc_section_display": true,
   "toc_window_display": true
  }
 },
 "nbformat": 4,
 "nbformat_minor": 1
}
