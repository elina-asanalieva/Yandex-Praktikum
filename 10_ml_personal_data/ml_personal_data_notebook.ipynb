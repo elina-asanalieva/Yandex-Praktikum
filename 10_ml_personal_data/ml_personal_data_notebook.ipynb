{
 "cells": [
  {
   "cell_type": "markdown",
   "metadata": {},
   "source": [
    "# Защита персональных данных клиентов"
   ]
  },
  {
   "cell_type": "markdown",
   "metadata": {},
   "source": [
    "Вам нужно защитить данные клиентов страховой компании «Хоть потоп». Разработайте такой метод преобразования данных, чтобы по ним было сложно восстановить персональную информацию. Обоснуйте корректность его работы.\n",
    "\n",
    "Нужно защитить данные, чтобы при преобразовании качество моделей машинного обучения не ухудшилось. Подбирать наилучшую модель не требуется."
   ]
  },
  {
   "cell_type": "markdown",
   "metadata": {},
   "source": [
    "## Описание данных"
   ]
  },
  {
   "cell_type": "markdown",
   "metadata": {},
   "source": [
    "Набор данных находится в файле /datasets/insurance.csv.\n",
    "Признаки: пол, возраст и зарплата застрахованного, количество членов его семьи.\n",
    "Целевой признак: количество страховых выплат клиенту за последние 5 лет."
   ]
  },
  {
   "cell_type": "markdown",
   "metadata": {
    "toc": true
   },
   "source": [
    "<h1>Содержание<span class=\"tocSkip\"></span></h1>\n",
    "<div class=\"toc\"><ul class=\"toc-item\"><li><span><a href=\"#Загрузка-данных\" data-toc-modified-id=\"Загрузка-данных-1\"><span class=\"toc-item-num\">1&nbsp;&nbsp;</span>Загрузка данных</a></span></li><li><span><a href=\"#Умножение-матриц\" data-toc-modified-id=\"Умножение-матриц-2\"><span class=\"toc-item-num\">2&nbsp;&nbsp;</span>Умножение матриц</a></span></li><li><span><a href=\"#Алгоритм-преобразования\" data-toc-modified-id=\"Алгоритм-преобразования-3\"><span class=\"toc-item-num\">3&nbsp;&nbsp;</span>Алгоритм преобразования</a></span></li><li><span><a href=\"#Проверка-алгоритма\" data-toc-modified-id=\"Проверка-алгоритма-4\"><span class=\"toc-item-num\">4&nbsp;&nbsp;</span>Проверка алгоритма</a></span></li><li><span><a href=\"#Чек-лист-проверки\" data-toc-modified-id=\"Чек-лист-проверки-5\"><span class=\"toc-item-num\">5&nbsp;&nbsp;</span>Чек-лист проверки</a></span></li></ul></div>"
   ]
  },
  {
   "cell_type": "markdown",
   "metadata": {},
   "source": [
    "## Загрузка данных"
   ]
  },
  {
   "cell_type": "markdown",
   "metadata": {},
   "source": [
    "Импортирую необходимые библиотеки"
   ]
  },
  {
   "cell_type": "code",
   "execution_count": 1,
   "metadata": {},
   "outputs": [],
   "source": [
    "import pandas as pd\n",
    "import matplotlib.pyplot as plt\n",
    "import numpy as np\n",
    "\n",
    "from sklearn.linear_model import LinearRegression\n",
    "from sklearn.model_selection import train_test_split\n",
    "from sklearn.metrics import r2_score"
   ]
  },
  {
   "cell_type": "markdown",
   "metadata": {},
   "source": [
    "Открою файл и изучу его"
   ]
  },
  {
   "cell_type": "code",
   "execution_count": 2,
   "metadata": {},
   "outputs": [],
   "source": [
    "df = pd.read_csv('/datasets/insurance.csv')"
   ]
  },
  {
   "cell_type": "code",
   "execution_count": 3,
   "metadata": {},
   "outputs": [
    {
     "data": {
      "text/html": [
       "<div>\n",
       "<style scoped>\n",
       "    .dataframe tbody tr th:only-of-type {\n",
       "        vertical-align: middle;\n",
       "    }\n",
       "\n",
       "    .dataframe tbody tr th {\n",
       "        vertical-align: top;\n",
       "    }\n",
       "\n",
       "    .dataframe thead th {\n",
       "        text-align: right;\n",
       "    }\n",
       "</style>\n",
       "<table border=\"1\" class=\"dataframe\">\n",
       "  <thead>\n",
       "    <tr style=\"text-align: right;\">\n",
       "      <th></th>\n",
       "      <th>Пол</th>\n",
       "      <th>Возраст</th>\n",
       "      <th>Зарплата</th>\n",
       "      <th>Члены семьи</th>\n",
       "      <th>Страховые выплаты</th>\n",
       "    </tr>\n",
       "  </thead>\n",
       "  <tbody>\n",
       "    <tr>\n",
       "      <th>0</th>\n",
       "      <td>1</td>\n",
       "      <td>41.0</td>\n",
       "      <td>49600.0</td>\n",
       "      <td>1</td>\n",
       "      <td>0</td>\n",
       "    </tr>\n",
       "    <tr>\n",
       "      <th>1</th>\n",
       "      <td>0</td>\n",
       "      <td>46.0</td>\n",
       "      <td>38000.0</td>\n",
       "      <td>1</td>\n",
       "      <td>1</td>\n",
       "    </tr>\n",
       "    <tr>\n",
       "      <th>2</th>\n",
       "      <td>0</td>\n",
       "      <td>29.0</td>\n",
       "      <td>21000.0</td>\n",
       "      <td>0</td>\n",
       "      <td>0</td>\n",
       "    </tr>\n",
       "    <tr>\n",
       "      <th>3</th>\n",
       "      <td>0</td>\n",
       "      <td>21.0</td>\n",
       "      <td>41700.0</td>\n",
       "      <td>2</td>\n",
       "      <td>0</td>\n",
       "    </tr>\n",
       "    <tr>\n",
       "      <th>4</th>\n",
       "      <td>1</td>\n",
       "      <td>28.0</td>\n",
       "      <td>26100.0</td>\n",
       "      <td>0</td>\n",
       "      <td>0</td>\n",
       "    </tr>\n",
       "  </tbody>\n",
       "</table>\n",
       "</div>"
      ],
      "text/plain": [
       "   Пол  Возраст  Зарплата  Члены семьи  Страховые выплаты\n",
       "0    1     41.0   49600.0            1                  0\n",
       "1    0     46.0   38000.0            1                  1\n",
       "2    0     29.0   21000.0            0                  0\n",
       "3    0     21.0   41700.0            2                  0\n",
       "4    1     28.0   26100.0            0                  0"
      ]
     },
     "execution_count": 3,
     "metadata": {},
     "output_type": "execute_result"
    }
   ],
   "source": [
    "df.head()"
   ]
  },
  {
   "cell_type": "code",
   "execution_count": 4,
   "metadata": {},
   "outputs": [
    {
     "name": "stdout",
     "output_type": "stream",
     "text": [
      "<class 'pandas.core.frame.DataFrame'>\n",
      "RangeIndex: 5000 entries, 0 to 4999\n",
      "Data columns (total 5 columns):\n",
      " #   Column             Non-Null Count  Dtype  \n",
      "---  ------             --------------  -----  \n",
      " 0   Пол                5000 non-null   int64  \n",
      " 1   Возраст            5000 non-null   float64\n",
      " 2   Зарплата           5000 non-null   float64\n",
      " 3   Члены семьи        5000 non-null   int64  \n",
      " 4   Страховые выплаты  5000 non-null   int64  \n",
      "dtypes: float64(2), int64(3)\n",
      "memory usage: 195.4 KB\n"
     ]
    }
   ],
   "source": [
    "df.info()"
   ]
  },
  {
   "cell_type": "code",
   "execution_count": 5,
   "metadata": {
    "scrolled": true
   },
   "outputs": [
    {
     "data": {
      "text/html": [
       "<div>\n",
       "<style scoped>\n",
       "    .dataframe tbody tr th:only-of-type {\n",
       "        vertical-align: middle;\n",
       "    }\n",
       "\n",
       "    .dataframe tbody tr th {\n",
       "        vertical-align: top;\n",
       "    }\n",
       "\n",
       "    .dataframe thead th {\n",
       "        text-align: right;\n",
       "    }\n",
       "</style>\n",
       "<table border=\"1\" class=\"dataframe\">\n",
       "  <thead>\n",
       "    <tr style=\"text-align: right;\">\n",
       "      <th></th>\n",
       "      <th>Пол</th>\n",
       "      <th>Возраст</th>\n",
       "      <th>Зарплата</th>\n",
       "      <th>Члены семьи</th>\n",
       "      <th>Страховые выплаты</th>\n",
       "    </tr>\n",
       "  </thead>\n",
       "  <tbody>\n",
       "    <tr>\n",
       "      <th>count</th>\n",
       "      <td>5000.000000</td>\n",
       "      <td>5000.000000</td>\n",
       "      <td>5000.000000</td>\n",
       "      <td>5000.000000</td>\n",
       "      <td>5000.000000</td>\n",
       "    </tr>\n",
       "    <tr>\n",
       "      <th>mean</th>\n",
       "      <td>0.499000</td>\n",
       "      <td>30.952800</td>\n",
       "      <td>39916.360000</td>\n",
       "      <td>1.194200</td>\n",
       "      <td>0.148000</td>\n",
       "    </tr>\n",
       "    <tr>\n",
       "      <th>std</th>\n",
       "      <td>0.500049</td>\n",
       "      <td>8.440807</td>\n",
       "      <td>9900.083569</td>\n",
       "      <td>1.091387</td>\n",
       "      <td>0.463183</td>\n",
       "    </tr>\n",
       "    <tr>\n",
       "      <th>min</th>\n",
       "      <td>0.000000</td>\n",
       "      <td>18.000000</td>\n",
       "      <td>5300.000000</td>\n",
       "      <td>0.000000</td>\n",
       "      <td>0.000000</td>\n",
       "    </tr>\n",
       "    <tr>\n",
       "      <th>25%</th>\n",
       "      <td>0.000000</td>\n",
       "      <td>24.000000</td>\n",
       "      <td>33300.000000</td>\n",
       "      <td>0.000000</td>\n",
       "      <td>0.000000</td>\n",
       "    </tr>\n",
       "    <tr>\n",
       "      <th>50%</th>\n",
       "      <td>0.000000</td>\n",
       "      <td>30.000000</td>\n",
       "      <td>40200.000000</td>\n",
       "      <td>1.000000</td>\n",
       "      <td>0.000000</td>\n",
       "    </tr>\n",
       "    <tr>\n",
       "      <th>75%</th>\n",
       "      <td>1.000000</td>\n",
       "      <td>37.000000</td>\n",
       "      <td>46600.000000</td>\n",
       "      <td>2.000000</td>\n",
       "      <td>0.000000</td>\n",
       "    </tr>\n",
       "    <tr>\n",
       "      <th>max</th>\n",
       "      <td>1.000000</td>\n",
       "      <td>65.000000</td>\n",
       "      <td>79000.000000</td>\n",
       "      <td>6.000000</td>\n",
       "      <td>5.000000</td>\n",
       "    </tr>\n",
       "  </tbody>\n",
       "</table>\n",
       "</div>"
      ],
      "text/plain": [
       "               Пол      Возраст      Зарплата  Члены семьи  Страховые выплаты\n",
       "count  5000.000000  5000.000000   5000.000000  5000.000000        5000.000000\n",
       "mean      0.499000    30.952800  39916.360000     1.194200           0.148000\n",
       "std       0.500049     8.440807   9900.083569     1.091387           0.463183\n",
       "min       0.000000    18.000000   5300.000000     0.000000           0.000000\n",
       "25%       0.000000    24.000000  33300.000000     0.000000           0.000000\n",
       "50%       0.000000    30.000000  40200.000000     1.000000           0.000000\n",
       "75%       1.000000    37.000000  46600.000000     2.000000           0.000000\n",
       "max       1.000000    65.000000  79000.000000     6.000000           5.000000"
      ]
     },
     "execution_count": 5,
     "metadata": {},
     "output_type": "execute_result"
    }
   ],
   "source": [
    "df.describe()"
   ]
  },
  {
   "cell_type": "code",
   "execution_count": 6,
   "metadata": {
    "scrolled": true
   },
   "outputs": [
    {
     "data": {
      "text/plain": [
       "Пол                    2\n",
       "Возраст               46\n",
       "Зарплата             524\n",
       "Члены семьи            7\n",
       "Страховые выплаты      6\n",
       "dtype: int64"
      ]
     },
     "execution_count": 6,
     "metadata": {},
     "output_type": "execute_result"
    }
   ],
   "source": [
    "df.nunique()"
   ]
  },
  {
   "cell_type": "markdown",
   "metadata": {},
   "source": [
    "Теперь рассмотрю распределение признаков, отдельно разделю признаки на категориальные и количественные."
   ]
  },
  {
   "cell_type": "code",
   "execution_count": 25,
   "metadata": {},
   "outputs": [],
   "source": [
    "categorical = df[['Пол','Члены семьи','Страховые выплаты']]"
   ]
  },
  {
   "cell_type": "code",
   "execution_count": 26,
   "metadata": {},
   "outputs": [],
   "source": [
    "quantitative = df[['Возраст','Зарплата']]"
   ]
  },
  {
   "cell_type": "code",
   "execution_count": 30,
   "metadata": {
    "scrolled": false
   },
   "outputs": [
    {
     "data": {
      "image/png": "[encoded data removed]",
      "text/plain": [
       "<Figure size 432x360 with 1 Axes>"
      ]
     },
     "metadata": {
      "needs_background": "light"
     },
     "output_type": "display_data"
    },
    {
     "data": {
      "image/png": "[encoded data removed]",
      "text/plain": [
       "<Figure size 432x360 with 1 Axes>"
      ]
     },
     "metadata": {
      "needs_background": "light"
     },
     "output_type": "display_data"
    }
   ],
   "source": [
    "for column in quantitative.columns:\n",
    "    plt.figure(figsize=(6,5))\n",
    "    quantitative[column].hist(bins=25, edgecolor='k')\n",
    "    plt.title(f'Распределение столбца {column}')\n",
    "    plt.show()"
   ]
  },
  {
   "cell_type": "markdown",
   "metadata": {},
   "source": [
    "Глядя на гистограммы количественных переменных, выбивающихся значений не обнаружено."
   ]
  },
  {
   "cell_type": "code",
   "execution_count": 42,
   "metadata": {
    "scrolled": false
   },
   "outputs": [
    {
     "data": {
      "image/png": "[encoded data removed]",
      "text/plain": [
       "<Figure size 432x360 with 1 Axes>"
      ]
     },
     "metadata": {
      "needs_background": "light"
     },
     "output_type": "display_data"
    },
    {
     "data": {
      "image/png": "[encoded data removed]",
      "text/plain": [
       "<Figure size 432x360 with 1 Axes>"
      ]
     },
     "metadata": {
      "needs_background": "light"
     },
     "output_type": "display_data"
    },
    {
     "data": {
      "image/png": "[encoded data removed]",
      "text/plain": [
       "<Figure size 432x360 with 1 Axes>"
      ]
     },
     "metadata": {
      "needs_background": "light"
     },
     "output_type": "display_data"
    }
   ],
   "source": [
    "for column in categorical.columns:\n",
    "    x = categorical.groupby(column)[column].count().index.tolist()\n",
    "    y = categorical.groupby(column)[column].count().tolist()\n",
    "    plt.figure(figsize=(6,5))\n",
    "    plt.bar(x, y, alpha=0.6, bottom=2, edgecolor=\"k\", linewidth=2, align='center')\n",
    "    plt.title(f'Распределение столбца {column}')\n",
    "    plt.show()\n",
    "    "
   ]
  },
  {
   "cell_type": "markdown",
   "metadata": {},
   "source": [
    "На столбчатых графиках категориальных переменных тоже не замечено выбивающихся значений."
   ]
  },
  {
   "cell_type": "code",
   "execution_count": 9,
   "metadata": {},
   "outputs": [
    {
     "data": {
      "text/plain": [
       "153"
      ]
     },
     "execution_count": 9,
     "metadata": {},
     "output_type": "execute_result"
    }
   ],
   "source": [
    "df.duplicated().sum()"
   ]
  },
  {
   "cell_type": "markdown",
   "metadata": {},
   "source": [
    "В таблице обнаружены явные дубликаты. Удалю их, так как врятли могут быть совпадения по всем признакам. А также изменю тип данных в колонках `Возраст` и `Зарплата` на целочисленный."
   ]
  },
  {
   "cell_type": "code",
   "execution_count": 10,
   "metadata": {},
   "outputs": [],
   "source": [
    "df.drop_duplicates(inplace=True)"
   ]
  },
  {
   "cell_type": "code",
   "execution_count": 11,
   "metadata": {},
   "outputs": [],
   "source": [
    "df['Возраст'] = df['Возраст'].astype('int')\n",
    "df['Зарплата'] = df['Зарплата'].astype('int')"
   ]
  },
  {
   "cell_type": "code",
   "execution_count": 12,
   "metadata": {
    "scrolled": true
   },
   "outputs": [
    {
     "name": "stdout",
     "output_type": "stream",
     "text": [
      "<class 'pandas.core.frame.DataFrame'>\n",
      "Int64Index: 4847 entries, 0 to 4999\n",
      "Data columns (total 5 columns):\n",
      " #   Column             Non-Null Count  Dtype\n",
      "---  ------             --------------  -----\n",
      " 0   Пол                4847 non-null   int64\n",
      " 1   Возраст            4847 non-null   int64\n",
      " 2   Зарплата           4847 non-null   int64\n",
      " 3   Члены семьи        4847 non-null   int64\n",
      " 4   Страховые выплаты  4847 non-null   int64\n",
      "dtypes: int64(5)\n",
      "memory usage: 227.2 KB\n"
     ]
    }
   ],
   "source": [
    "df.info()"
   ]
  },
  {
   "cell_type": "markdown",
   "metadata": {},
   "source": [
    "**Вывод:**\n",
    "\n",
    "Были рассмотрены данные в таблице и выявлено, что:\n",
    "\n",
    "- Нет выбивающихся значений\n",
    "- Отсутствуют пропуски\n",
    "- Колонки с возрастом и зарплатой приведены к целочисленному значению\n",
    "- Выявлены и удалены явные дубликаты\n",
    "\n",
    "Можно сделать вывод, что данные хорошо подготовлены."
   ]
  },
  {
   "cell_type": "markdown",
   "metadata": {},
   "source": [
    "## Умножение матриц"
   ]
  },
  {
   "cell_type": "markdown",
   "metadata": {},
   "source": [
    "В этом задании вы можете записывать формулы в *Jupyter Notebook.*\n",
    "\n",
    "Чтобы записать формулу внутри текста, окружите её символами доллара \\\\$; если снаружи —  двойными символами \\\\$\\\\$. Эти формулы записываются на языке вёрстки *LaTeX.* \n",
    "\n",
    "Для примера мы записали формулы линейной регрессии. Можете их скопировать и отредактировать, чтобы решить задачу.\n",
    "\n",
    "Работать в *LaTeX* необязательно."
   ]
  },
  {
   "cell_type": "markdown",
   "metadata": {},
   "source": [
    "Обозначения:\n",
    "\n",
    "- $X$ — матрица признаков (нулевой столбец состоит из единиц)\n",
    "\n",
    "- $y$ — вектор целевого признака\n",
    "\n",
    "- $P$ — матрица, на которую умножаются признаки\n",
    "\n",
    "- $w$ — вектор весов линейной регрессии (нулевой элемент равен сдвигу)\n",
    "\n",
    "- $E$ — единичная матрица"
   ]
  },
  {
   "cell_type": "markdown",
   "metadata": {},
   "source": [
    "Предсказания:\n",
    "\n",
    "$$\n",
    "a = Xw\n",
    "$$\n",
    "\n",
    "Задача обучения:\n",
    "\n",
    "$$\n",
    "w = \\arg\\min_w MSE(Xw, y)\n",
    "$$\n",
    "\n",
    "Формула обучения:\n",
    "\n",
    "$$\n",
    "w = (X^T X)^{-1} X^T y\n",
    "$$"
   ]
  },
  {
   "cell_type": "markdown",
   "metadata": {},
   "source": [
    "**Ответ:** Не изменится\n",
    "\n",
    "**Обоснование:** \n",
    "\n",
    "Для преобразования необходимы следующие свойства матриц:\n",
    "\n",
    " - $(XP)^T = P^T X^T$\n",
    " - $(XP)^{-1} = P^{-1} X^{-1}$\n",
    " - $XX^{-1} = E$\n",
    " \n",
    "Произведу умножение матрицы признаков на обратимую матрицу Р. Так как матрица Р-обратимая, это говорит о том, что она квадратная:\n",
    "\n",
    "$$\n",
    "w` = ((XP)^T XP)^{-1} (XP)^T y\n",
    "$$\n",
    "\n",
    "Далее раскрою скобки $(XP)^T$ в соответствии со свойствами матриц:\n",
    "\n",
    "$$\n",
    "w` = (P^T X^T XP)^{-1} P^T X^T y \n",
    "$$\n",
    "\n",
    "Перегруппирую множители в скобках:\n",
    "\n",
    "$$\n",
    "w` = (P^T (X^T X) P)^{-1} P^T X^T y \n",
    "$$\n",
    "\n",
    "Теперь раскрою скобки $(P^T (X^T X) P)^{-1}$:\n",
    "\n",
    "$$\n",
    "w` = P^{-1} (X^T X)^{-1} (P^T)^{-1} P^T X^T y \n",
    "$$\n",
    "\n",
    "Так как P - квадратная матрица, то при перемножении $(P^T)^{-1} P^T$ матрица будет равняться единичной, следовательно уравнение сокращается и в $w`$ можно подставить $w$:\n",
    "\n",
    "$$\n",
    "w` = P^{-1} (X^T X)^{-1} X^T y = P^{-1} w\n",
    "$$\n",
    "\n",
    "Теперь поставлю в формулу предсказания новое значение $w`$ для того чтобы вычислить предсказания $а`$:\n",
    "\n",
    "$$\n",
    "a` = XP P^{-1} w\n",
    "$$\n",
    "\n",
    "Произведение $P P^{-1}$ бобразует единичную матрицу, следовательно:\n",
    "\n",
    "$$\n",
    "a` = Xw = а\n",
    "$$"
   ]
  },
  {
   "cell_type": "markdown",
   "metadata": {},
   "source": [
    "**Вывод:**\n",
    "\n",
    "При умножении признаков на обратимую матрицу качество линейной регрессии не изменится, так как $a` = а$."
   ]
  },
  {
   "cell_type": "markdown",
   "metadata": {},
   "source": [
    "## Алгоритм преобразования"
   ]
  },
  {
   "cell_type": "markdown",
   "metadata": {},
   "source": [
    "**Алгоритм**\n",
    "\n",
    "Для преобразования данных с целью защиты данных клиентов применю алгоритм шифрования признаков в виде умножения на случайную обратимую матрицу.\n",
    "\n",
    "1. Разделю данные на признаки и целевой признак.\n",
    "2. Разделю данные на обучающую и тестовую выборки.\n",
    "3. Создам случайную квадратную матрицу $P$ размером $n \\times n$ и проверю ее на обратимость (её детерминант должен быть отличен от нуля).\n",
    "4. Произведу умножение матрицы признаков $X$ размером $m \\times n$ со случайной матрицей $P$ размером $n \\times n$ и получу новую зашифрованную таблицу размером $m \\times n$.\n",
    "5. Проведу обучение исходной и зашифрованной таблицы.\n",
    "6. Проверю качество линейной регрессии до шифрования и после с помощью применения метрики R2.\n"
   ]
  },
  {
   "cell_type": "markdown",
   "metadata": {},
   "source": [
    "**Обоснование**\n",
    "\n",
    "В пункте 2 было доказано, что при умножении признаков на обратимую матрицу, качество линейной регрессии не меняется. В таком случае, преобразовать данные можно с помощью произведения признаков и обратимой матрицы."
   ]
  },
  {
   "cell_type": "markdown",
   "metadata": {},
   "source": [
    "## Проверка алгоритма"
   ]
  },
  {
   "cell_type": "markdown",
   "metadata": {},
   "source": [
    "Разделю данные на признаки"
   ]
  },
  {
   "cell_type": "code",
   "execution_count": 13,
   "metadata": {},
   "outputs": [],
   "source": [
    "features = df.drop('Страховые выплаты', axis = 1)\n",
    "target = df['Страховые выплаты']"
   ]
  },
  {
   "cell_type": "markdown",
   "metadata": {},
   "source": [
    "Теперь создам случайную матрицу $P$ и проверю ее на обратимость."
   ]
  },
  {
   "cell_type": "code",
   "execution_count": 14,
   "metadata": {},
   "outputs": [
    {
     "data": {
      "text/plain": [
       "array([[82, 95, 98, 71],\n",
       "       [98, 17, 48, 24],\n",
       "       [25, 56, 83, 66],\n",
       "       [10, 13, 70, 73]])"
      ]
     },
     "execution_count": 14,
     "metadata": {},
     "output_type": "execute_result"
    }
   ],
   "source": [
    "P = np.random.randint(100,size = (4, 4))\n",
    "P"
   ]
  },
  {
   "cell_type": "code",
   "execution_count": 15,
   "metadata": {},
   "outputs": [
    {
     "data": {
      "text/plain": [
       "array([[ 0.0134829 ,  0.00472733, -0.02645539,  0.00925087],\n",
       "       [ 0.02316165, -0.01494264, -0.01621242, -0.00295663],\n",
       "       [-0.06290459,  0.02971326,  0.10853832, -0.0467181 ],\n",
       "       [ 0.05434782, -0.02647873, -0.09756667,  0.05775609]])"
      ]
     },
     "execution_count": 15,
     "metadata": {},
     "output_type": "execute_result"
    }
   ],
   "source": [
    "np.linalg.inv(P)"
   ]
  },
  {
   "cell_type": "markdown",
   "metadata": {},
   "source": [
    "Случайная матрица обратима. Теперь проведу умножение матрицы признаков со случайной матрицей и сохраню результат в новой таблице."
   ]
  },
  {
   "cell_type": "code",
   "execution_count": 16,
   "metadata": {},
   "outputs": [
    {
     "data": {
      "text/html": [
       "<div>\n",
       "<style scoped>\n",
       "    .dataframe tbody tr th:only-of-type {\n",
       "        vertical-align: middle;\n",
       "    }\n",
       "\n",
       "    .dataframe tbody tr th {\n",
       "        vertical-align: top;\n",
       "    }\n",
       "\n",
       "    .dataframe thead th {\n",
       "        text-align: right;\n",
       "    }\n",
       "</style>\n",
       "<table border=\"1\" class=\"dataframe\">\n",
       "  <thead>\n",
       "    <tr style=\"text-align: right;\">\n",
       "      <th></th>\n",
       "      <th>Пол</th>\n",
       "      <th>Возраст</th>\n",
       "      <th>Зарплата</th>\n",
       "      <th>Члены семьи</th>\n",
       "    </tr>\n",
       "  </thead>\n",
       "  <tbody>\n",
       "    <tr>\n",
       "      <th>0</th>\n",
       "      <td>1244110</td>\n",
       "      <td>2778405</td>\n",
       "      <td>4118936</td>\n",
       "      <td>3274728</td>\n",
       "    </tr>\n",
       "    <tr>\n",
       "      <th>1</th>\n",
       "      <td>954518</td>\n",
       "      <td>2128795</td>\n",
       "      <td>3156278</td>\n",
       "      <td>2509177</td>\n",
       "    </tr>\n",
       "    <tr>\n",
       "      <th>2</th>\n",
       "      <td>527842</td>\n",
       "      <td>1176493</td>\n",
       "      <td>1744392</td>\n",
       "      <td>1386696</td>\n",
       "    </tr>\n",
       "    <tr>\n",
       "      <th>3</th>\n",
       "      <td>1044578</td>\n",
       "      <td>2335583</td>\n",
       "      <td>3462248</td>\n",
       "      <td>2752850</td>\n",
       "    </tr>\n",
       "    <tr>\n",
       "      <th>4</th>\n",
       "      <td>655326</td>\n",
       "      <td>1462171</td>\n",
       "      <td>2167742</td>\n",
       "      <td>1723343</td>\n",
       "    </tr>\n",
       "    <tr>\n",
       "      <th>...</th>\n",
       "      <td>...</td>\n",
       "      <td>...</td>\n",
       "      <td>...</td>\n",
       "      <td>...</td>\n",
       "    </tr>\n",
       "    <tr>\n",
       "      <th>4842</th>\n",
       "      <td>895264</td>\n",
       "      <td>1999702</td>\n",
       "      <td>2964584</td>\n",
       "      <td>2357018</td>\n",
       "    </tr>\n",
       "    <tr>\n",
       "      <th>4843</th>\n",
       "      <td>1313342</td>\n",
       "      <td>2934991</td>\n",
       "      <td>4350902</td>\n",
       "      <td>3459289</td>\n",
       "    </tr>\n",
       "    <tr>\n",
       "      <th>4844</th>\n",
       "      <td>849480</td>\n",
       "      <td>1898766</td>\n",
       "      <td>2814800</td>\n",
       "      <td>2238026</td>\n",
       "    </tr>\n",
       "    <tr>\n",
       "      <th>4845</th>\n",
       "      <td>819768</td>\n",
       "      <td>1831708</td>\n",
       "      <td>2715464</td>\n",
       "      <td>2159018</td>\n",
       "    </tr>\n",
       "    <tr>\n",
       "      <th>4846</th>\n",
       "      <td>1017836</td>\n",
       "      <td>2274184</td>\n",
       "      <td>3371312</td>\n",
       "      <td>2680416</td>\n",
       "    </tr>\n",
       "  </tbody>\n",
       "</table>\n",
       "<p>4847 rows × 4 columns</p>\n",
       "</div>"
      ],
      "text/plain": [
       "          Пол  Возраст  Зарплата  Члены семьи\n",
       "0     1244110  2778405   4118936      3274728\n",
       "1      954518  2128795   3156278      2509177\n",
       "2      527842  1176493   1744392      1386696\n",
       "3     1044578  2335583   3462248      2752850\n",
       "4      655326  1462171   2167742      1723343\n",
       "...       ...      ...       ...          ...\n",
       "4842   895264  1999702   2964584      2357018\n",
       "4843  1313342  2934991   4350902      3459289\n",
       "4844   849480  1898766   2814800      2238026\n",
       "4845   819768  1831708   2715464      2159018\n",
       "4846  1017836  2274184   3371312      2680416\n",
       "\n",
       "[4847 rows x 4 columns]"
      ]
     },
     "execution_count": 16,
     "metadata": {},
     "output_type": "execute_result"
    }
   ],
   "source": [
    "encoded_matrix = np.array(features) @ P\n",
    "encoded_features = pd.DataFrame(encoded_matrix, columns=features.columns)\n",
    "encoded_features"
   ]
  },
  {
   "cell_type": "markdown",
   "metadata": {},
   "source": [
    "Данные преобразованы. Теперь можно приступить к проверке качества линейной регрессии. Чтобы не дублировать код при проверке исходных и зашифрованных данных, создам функцию."
   ]
  },
  {
   "cell_type": "code",
   "execution_count": 17,
   "metadata": {},
   "outputs": [],
   "source": [
    "def check_model(features, target):\n",
    "    \n",
    "    train_features, test_features, train_target, test_target = train_test_split(features,\n",
    "                                                                                target,\n",
    "                                                                                test_size=0.25,\n",
    "                                                                                random_state=12345)\n",
    "    \n",
    "    model = LinearRegression()\n",
    "    model.fit(train_features, train_target)\n",
    "    \n",
    "    predicted = model.predict(test_features)\n",
    "    \n",
    "    score = r2_score(test_target, predicted)\n",
    "    \n",
    "    print('Метрика R2 на тестовой выборке:', score)"
   ]
  },
  {
   "cell_type": "markdown",
   "metadata": {},
   "source": [
    "Для начала проверю метрику качества не зашифрованного датасета"
   ]
  },
  {
   "cell_type": "code",
   "execution_count": 18,
   "metadata": {},
   "outputs": [
    {
     "name": "stdout",
     "output_type": "stream",
     "text": [
      "Метрика R2 на тестовой выборке: 0.42307727615837565\n"
     ]
    }
   ],
   "source": [
    "check_model(features, target)"
   ]
  },
  {
   "cell_type": "markdown",
   "metadata": {},
   "source": [
    "Теперь проверю метрику качества на зашифрованных данных. "
   ]
  },
  {
   "cell_type": "code",
   "execution_count": 19,
   "metadata": {},
   "outputs": [
    {
     "name": "stdout",
     "output_type": "stream",
     "text": [
      "Метрика R2 на тестовой выборке: 0.42307727615837254\n"
     ]
    }
   ],
   "source": [
    "check_model(encoded_features, target)"
   ]
  },
  {
   "cell_type": "markdown",
   "metadata": {},
   "source": [
    "**Вывод:**\n",
    "\n",
    "Сравнение качества моделей до и после преобразования показало, что качество моделей не отличается."
   ]
  },
  {
   "cell_type": "markdown",
   "metadata": {},
   "source": [
    "# Общий вывод"
   ]
  },
  {
   "cell_type": "markdown",
   "metadata": {},
   "source": [
    "Цель проекта достигнута - данные защищены без потери качества.\n",
    "\n",
    "В ходе выполнения проекта, были выполнены следующие действия:\n",
    "- загружены и изучены данные\n",
    "- доказано, что при умножении матрицы признаков на обратимую матрицу, качество линейной регрессии не меняется\n",
    "- предложен алгоритм преобразования данных для решения задачи\n",
    "- выполнен предложенный алгоритм, с применением матричных операций\n",
    "- произведена проверка качества линейной регрессии до и после преобразования с применением метрики R2.\n",
    "\n",
    "Цель проекта достигнута - данные защищены без потери качества."
   ]
  }
 ],
 "metadata": {
  "ExecuteTimeLog": [
   {
    "duration": 349,
    "start_time": "2023-01-25T09:36:44.805Z"
   },
   {
    "duration": 94,
    "start_time": "2023-01-25T09:36:46.930Z"
   },
   {
    "duration": 19,
    "start_time": "2023-01-25T09:37:05.606Z"
   },
   {
    "duration": 11,
    "start_time": "2023-01-25T09:45:43.362Z"
   },
   {
    "duration": 23,
    "start_time": "2023-01-25T09:46:15.576Z"
   },
   {
    "duration": 6,
    "start_time": "2023-01-25T09:47:27.884Z"
   },
   {
    "duration": 75,
    "start_time": "2023-01-25T09:48:07.230Z"
   },
   {
    "duration": 10,
    "start_time": "2023-01-25T09:50:28.565Z"
   },
   {
    "duration": 437,
    "start_time": "2023-01-25T09:50:42.455Z"
   },
   {
    "duration": 31,
    "start_time": "2023-01-25T09:50:42.895Z"
   },
   {
    "duration": 30,
    "start_time": "2023-01-25T09:50:42.928Z"
   },
   {
    "duration": 17,
    "start_time": "2023-01-25T09:50:42.960Z"
   },
   {
    "duration": 30,
    "start_time": "2023-01-25T09:50:42.978Z"
   },
   {
    "duration": 71,
    "start_time": "2023-01-25T09:50:43.009Z"
   },
   {
    "duration": 0,
    "start_time": "2023-01-25T09:50:43.081Z"
   },
   {
    "duration": 6,
    "start_time": "2023-01-25T09:52:58.290Z"
   },
   {
    "duration": 10,
    "start_time": "2023-01-25T09:53:39.382Z"
   },
   {
    "duration": 4,
    "start_time": "2023-01-25T09:54:05.518Z"
   },
   {
    "duration": 6,
    "start_time": "2023-01-25T09:54:31.779Z"
   },
   {
    "duration": 4,
    "start_time": "2023-01-25T09:57:53.105Z"
   },
   {
    "duration": 13,
    "start_time": "2023-01-25T09:58:07.868Z"
   },
   {
    "duration": 8,
    "start_time": "2023-01-25T10:08:27.417Z"
   },
   {
    "duration": 814,
    "start_time": "2023-01-25T10:09:01.208Z"
   },
   {
    "duration": 119,
    "start_time": "2023-01-28T18:37:15.636Z"
   },
   {
    "duration": 516,
    "start_time": "2023-01-28T18:37:24.761Z"
   },
   {
    "duration": 173,
    "start_time": "2023-01-28T18:37:25.282Z"
   },
   {
    "duration": 20,
    "start_time": "2023-01-28T18:37:25.471Z"
   },
   {
    "duration": 46,
    "start_time": "2023-01-28T18:37:25.493Z"
   },
   {
    "duration": 59,
    "start_time": "2023-01-28T18:37:25.548Z"
   },
   {
    "duration": 23,
    "start_time": "2023-01-28T18:37:25.608Z"
   },
   {
    "duration": 60,
    "start_time": "2023-01-28T18:37:25.632Z"
   },
   {
    "duration": 7,
    "start_time": "2023-01-28T18:37:25.694Z"
   },
   {
    "duration": 17,
    "start_time": "2023-01-28T18:37:25.702Z"
   },
   {
    "duration": 53,
    "start_time": "2023-01-28T18:37:25.732Z"
   },
   {
    "duration": 15,
    "start_time": "2023-01-28T18:37:25.787Z"
   },
   {
    "duration": 1128,
    "start_time": "2023-01-28T18:37:25.803Z"
   },
   {
    "duration": 156,
    "start_time": "2023-01-28T18:40:57.190Z"
   },
   {
    "duration": 10,
    "start_time": "2023-01-28T18:41:26.984Z"
   },
   {
    "duration": 275,
    "start_time": "2023-01-28T18:41:33.632Z"
   },
   {
    "duration": 1257,
    "start_time": "2023-01-28T18:41:51.566Z"
   },
   {
    "duration": 1218,
    "start_time": "2023-01-28T18:42:19.429Z"
   },
   {
    "duration": 1603,
    "start_time": "2023-01-28T18:42:31.512Z"
   },
   {
    "duration": 680,
    "start_time": "2023-01-28T23:20:43.817Z"
   },
   {
    "duration": 4,
    "start_time": "2023-01-28T23:23:56.589Z"
   },
   {
    "duration": 4,
    "start_time": "2023-01-28T23:35:03.392Z"
   },
   {
    "duration": 5,
    "start_time": "2023-01-28T23:36:57.285Z"
   },
   {
    "duration": 10,
    "start_time": "2023-01-28T23:39:49.305Z"
   },
   {
    "duration": 9,
    "start_time": "2023-01-28T23:45:32.515Z"
   },
   {
    "duration": 2,
    "start_time": "2023-01-28T23:46:25.230Z"
   },
   {
    "duration": 4,
    "start_time": "2023-01-28T23:46:31.157Z"
   },
   {
    "duration": 4,
    "start_time": "2023-01-28T23:50:37.164Z"
   },
   {
    "duration": 5,
    "start_time": "2023-01-28T23:50:39.476Z"
   },
   {
    "duration": 5,
    "start_time": "2023-01-28T23:50:41.473Z"
   },
   {
    "duration": 9,
    "start_time": "2023-01-28T23:50:43.835Z"
   },
   {
    "duration": 9,
    "start_time": "2023-01-28T23:53:08.343Z"
   },
   {
    "duration": 4,
    "start_time": "2023-01-28T23:54:38.940Z"
   },
   {
    "duration": 5,
    "start_time": "2023-01-28T23:55:08.758Z"
   },
   {
    "duration": 51,
    "start_time": "2023-01-28T23:57:04.328Z"
   },
   {
    "duration": 9,
    "start_time": "2023-01-28T23:57:44.856Z"
   },
   {
    "duration": 3,
    "start_time": "2023-01-29T00:01:17.796Z"
   },
   {
    "duration": 11,
    "start_time": "2023-01-29T00:08:37.303Z"
   },
   {
    "duration": 4,
    "start_time": "2023-01-29T00:14:21.445Z"
   },
   {
    "duration": 16,
    "start_time": "2023-01-29T00:14:54.719Z"
   },
   {
    "duration": 4,
    "start_time": "2023-01-29T00:15:26.556Z"
   },
   {
    "duration": 9,
    "start_time": "2023-01-29T00:15:28.541Z"
   },
   {
    "duration": 8,
    "start_time": "2023-01-29T00:18:08.614Z"
   },
   {
    "duration": 1248,
    "start_time": "2023-01-29T00:31:48.642Z"
   },
   {
    "duration": 25,
    "start_time": "2023-01-29T00:31:49.892Z"
   },
   {
    "duration": 12,
    "start_time": "2023-01-29T00:31:49.918Z"
   },
   {
    "duration": 13,
    "start_time": "2023-01-29T00:31:49.931Z"
   },
   {
    "duration": 21,
    "start_time": "2023-01-29T00:31:49.947Z"
   },
   {
    "duration": 8,
    "start_time": "2023-01-29T00:31:49.970Z"
   },
   {
    "duration": 749,
    "start_time": "2023-01-29T00:31:49.980Z"
   },
   {
    "duration": 6,
    "start_time": "2023-01-29T00:31:50.730Z"
   },
   {
    "duration": 5,
    "start_time": "2023-01-29T00:31:50.737Z"
   },
   {
    "duration": 5,
    "start_time": "2023-01-29T00:31:50.743Z"
   },
   {
    "duration": 12,
    "start_time": "2023-01-29T00:31:50.749Z"
   },
   {
    "duration": 4,
    "start_time": "2023-01-29T00:31:50.763Z"
   },
   {
    "duration": 6,
    "start_time": "2023-01-29T00:31:50.768Z"
   },
   {
    "duration": 36,
    "start_time": "2023-01-29T00:31:50.776Z"
   },
   {
    "duration": 13,
    "start_time": "2023-01-29T00:31:50.814Z"
   },
   {
    "duration": 6,
    "start_time": "2023-01-29T00:31:50.909Z"
   },
   {
    "duration": 18,
    "start_time": "2023-01-29T00:31:50.916Z"
   },
   {
    "duration": 8,
    "start_time": "2023-01-29T00:31:50.936Z"
   },
   {
    "duration": 2484,
    "start_time": "2023-01-29T05:17:12.081Z"
   },
   {
    "duration": 29,
    "start_time": "2023-01-29T05:17:14.567Z"
   },
   {
    "duration": 18,
    "start_time": "2023-01-29T05:17:32.491Z"
   },
   {
    "duration": 16,
    "start_time": "2023-01-29T05:17:32.940Z"
   },
   {
    "duration": 22,
    "start_time": "2023-01-29T05:17:33.360Z"
   },
   {
    "duration": 8,
    "start_time": "2023-01-29T05:17:33.543Z"
   },
   {
    "duration": 804,
    "start_time": "2023-01-29T05:17:34.453Z"
   },
   {
    "duration": 7,
    "start_time": "2023-01-29T05:17:35.448Z"
   },
   {
    "duration": 6,
    "start_time": "2023-01-29T05:17:36.604Z"
   },
   {
    "duration": 4,
    "start_time": "2023-01-29T05:17:36.795Z"
   },
   {
    "duration": 11,
    "start_time": "2023-01-29T05:17:36.969Z"
   },
   {
    "duration": 4,
    "start_time": "2023-01-29T05:19:44.320Z"
   },
   {
    "duration": 4,
    "start_time": "2023-01-29T05:19:46.114Z"
   },
   {
    "duration": 6,
    "start_time": "2023-01-29T05:19:46.358Z"
   },
   {
    "duration": 11,
    "start_time": "2023-01-29T05:20:07.244Z"
   },
   {
    "duration": 3,
    "start_time": "2023-01-29T05:20:09.710Z"
   },
   {
    "duration": 12,
    "start_time": "2023-01-29T05:20:10.779Z"
   },
   {
    "duration": 9,
    "start_time": "2023-01-29T05:20:11.870Z"
   },
   {
    "duration": 20,
    "start_time": "2023-01-29T06:51:16.917Z"
   },
   {
    "duration": 1483,
    "start_time": "2023-01-29T06:52:14.769Z"
   },
   {
    "duration": 98,
    "start_time": "2023-01-29T06:52:16.254Z"
   },
   {
    "duration": 17,
    "start_time": "2023-01-29T06:52:16.354Z"
   },
   {
    "duration": 12,
    "start_time": "2023-01-29T06:52:16.374Z"
   },
   {
    "duration": 27,
    "start_time": "2023-01-29T06:52:16.388Z"
   },
   {
    "duration": 8,
    "start_time": "2023-01-29T06:52:16.416Z"
   },
   {
    "duration": 4,
    "start_time": "2023-01-29T06:52:16.425Z"
   },
   {
    "duration": 895,
    "start_time": "2023-01-29T06:52:16.431Z"
   },
   {
    "duration": 7,
    "start_time": "2023-01-29T06:52:17.328Z"
   },
   {
    "duration": 13,
    "start_time": "2023-01-29T06:52:17.338Z"
   },
   {
    "duration": 16,
    "start_time": "2023-01-29T06:52:17.353Z"
   },
   {
    "duration": 13,
    "start_time": "2023-01-29T06:52:17.371Z"
   },
   {
    "duration": 6,
    "start_time": "2023-01-29T06:52:17.386Z"
   },
   {
    "duration": 7,
    "start_time": "2023-01-29T06:52:17.393Z"
   },
   {
    "duration": 9,
    "start_time": "2023-01-29T06:52:17.401Z"
   },
   {
    "duration": 169,
    "start_time": "2023-01-29T06:52:17.412Z"
   },
   {
    "duration": 8,
    "start_time": "2023-01-29T06:52:17.583Z"
   },
   {
    "duration": 13,
    "start_time": "2023-01-29T06:52:17.593Z"
   },
   {
    "duration": 59,
    "start_time": "2023-01-29T06:52:17.609Z"
   },
   {
    "duration": 1261,
    "start_time": "2023-01-29T06:52:55.195Z"
   },
   {
    "duration": 14,
    "start_time": "2023-01-29T06:53:09.370Z"
   },
   {
    "duration": 9,
    "start_time": "2023-01-29T06:53:59.869Z"
   },
   {
    "duration": 6,
    "start_time": "2023-01-29T06:55:43.502Z"
   },
   {
    "duration": 14,
    "start_time": "2023-01-29T06:56:04.056Z"
   },
   {
    "duration": 4,
    "start_time": "2023-01-29T06:56:19.308Z"
   },
   {
    "duration": 4,
    "start_time": "2023-01-29T06:56:20.701Z"
   },
   {
    "duration": 15,
    "start_time": "2023-01-29T06:56:35.836Z"
   },
   {
    "duration": 11,
    "start_time": "2023-01-29T06:57:05.703Z"
   },
   {
    "duration": 503,
    "start_time": "2023-01-29T06:57:15.908Z"
   },
   {
    "duration": 421,
    "start_time": "2023-01-29T06:59:51.966Z"
   },
   {
    "duration": 53807,
    "start_time": "2023-01-29T07:07:56.500Z"
   },
   {
    "duration": 13,
    "start_time": "2023-01-29T07:12:32.297Z"
   },
   {
    "duration": 23640,
    "start_time": "2023-01-29T07:16:59.310Z"
   },
   {
    "duration": 18,
    "start_time": "2023-01-29T07:18:40.770Z"
   },
   {
    "duration": 19,
    "start_time": "2023-01-29T07:18:59.575Z"
   },
   {
    "duration": 24636,
    "start_time": "2023-01-29T07:19:14.214Z"
   },
   {
    "duration": 174,
    "start_time": "2023-01-29T07:24:44.485Z"
   },
   {
    "duration": 26617,
    "start_time": "2023-01-29T07:25:35.287Z"
   },
   {
    "duration": 19,
    "start_time": "2023-01-29T07:30:02.577Z"
   },
   {
    "duration": 20,
    "start_time": "2023-01-29T07:30:51.558Z"
   },
   {
    "duration": 380,
    "start_time": "2023-01-29T07:32:14.093Z"
   },
   {
    "duration": 421,
    "start_time": "2023-01-29T07:33:37.651Z"
   }
  ],
  "kernelspec": {
   "display_name": "Python 3 (ipykernel)",
   "language": "python",
   "name": "python3"
  },
  "language_info": {
   "codemirror_mode": {
    "name": "ipython",
    "version": 3
   },
   "file_extension": ".py",
   "mimetype": "text/x-python",
   "name": "python",
   "nbconvert_exporter": "python",
   "pygments_lexer": "ipython3",
   "version": "3.9.12"
  },
  "toc": {
   "base_numbering": 1,
   "nav_menu": {},
   "number_sections": true,
   "sideBar": true,
   "skip_h1_title": true,
   "title_cell": "Содержание",
   "title_sidebar": "Contents",
   "toc_cell": true,
   "toc_position": {},
   "toc_section_display": true,
   "toc_window_display": true
  }
 },
 "nbformat": 4,
 "nbformat_minor": 2
}
