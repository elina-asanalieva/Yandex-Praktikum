{
 "cells": [
  {
   "cell_type": "markdown",
   "metadata": {},
   "source": [
    "#  Прогнозирование заказов такси"
   ]
  },
  {
   "cell_type": "markdown",
   "metadata": {},
   "source": [
    "Компания «Чётенькое такси» собрала исторические данные о заказах такси в аэропортах. Чтобы привлекать больше водителей в период пиковой нагрузки, нужно спрогнозировать количество заказов такси на следующий час. Постройте модель для такого предсказания.\n",
    "\n",
    "Значение метрики *RMSE* на тестовой выборке должно быть не больше 48.\n",
    "\n",
    "Вам нужно:\n",
    "\n",
    "1. Загрузить данные и выполнить их ресемплирование по одному часу.\n",
    "2. Проанализировать данные.\n",
    "3. Обучить разные модели с различными гиперпараметрами. Сделать тестовую выборку размером 10% от исходных данных.\n",
    "4. Проверить данные на тестовой выборке и сделать выводы.\n",
    "\n",
    "\n",
    "Данные лежат в файле `taxi.csv`. Количество заказов находится в столбце `num_orders` (от англ. *number of orders*, «число заказов»)."
   ]
  },
  {
   "cell_type": "markdown",
   "metadata": {
    "toc": true
   },
   "source": [
    "<h1>Содержание<span class=\"tocSkip\"></span></h1>\n",
    "<div class=\"toc\"><ul class=\"toc-item\"><li><span><a href=\"#Подготовка\" data-toc-modified-id=\"Подготовка-1\"><span class=\"toc-item-num\">1&nbsp;&nbsp;</span>Подготовка</a></span></li><li><span><a href=\"#Анализ\" data-toc-modified-id=\"Анализ-2\"><span class=\"toc-item-num\">2&nbsp;&nbsp;</span>Анализ</a></span></li><li><span><a href=\"#Обучение\" data-toc-modified-id=\"Обучение-3\"><span class=\"toc-item-num\">3&nbsp;&nbsp;</span>Обучение</a></span><ul class=\"toc-item\"><li><span><a href=\"#Подготовка-признаков\" data-toc-modified-id=\"Подготовка-признаков-3.1\"><span class=\"toc-item-num\">3.1&nbsp;&nbsp;</span>Подготовка признаков</a></span></li><li><span><a href=\"#Обучение-моделей\" data-toc-modified-id=\"Обучение-моделей-3.2\"><span class=\"toc-item-num\">3.2&nbsp;&nbsp;</span>Обучение моделей</a></span></li></ul></li><li><span><a href=\"#Тестирование\" data-toc-modified-id=\"Тестирование-4\"><span class=\"toc-item-num\">4&nbsp;&nbsp;</span>Тестирование</a></span></li><li><span><a href=\"#Чек-лист-проверки\" data-toc-modified-id=\"Чек-лист-проверки-5\"><span class=\"toc-item-num\">5&nbsp;&nbsp;</span>Чек-лист проверки</a></span></li></ul></div>"
   ]
  },
  {
   "cell_type": "markdown",
   "metadata": {},
   "source": [
    "## Подготовка"
   ]
  },
  {
   "cell_type": "markdown",
   "metadata": {},
   "source": [
    "Подгружаю необходимые библиотеки и загружаю данные."
   ]
  },
  {
   "cell_type": "code",
   "execution_count": 1,
   "metadata": {},
   "outputs": [],
   "source": [
    "import pandas as pd\n",
    "import matplotlib.pyplot as plt\n",
    "\n",
    "from statsmodels.tsa.seasonal import seasonal_decompose\n",
    "from sklearn.model_selection import train_test_split, TimeSeriesSplit, GridSearchCV, cross_val_score\n",
    "from sklearn.metrics import mean_squared_error\n",
    "\n",
    "from sklearn.linear_model import LinearRegression\n",
    "from sklearn.tree import DecisionTreeRegressor\n",
    "from sklearn.ensemble import RandomForestRegressor\n",
    "from catboost import CatBoostRegressor\n",
    "from lightgbm import LGBMRegressor\n",
    "\n",
    "import time\n",
    "import warnings\n",
    "warnings.filterwarnings('ignore')"
   ]
  },
  {
   "cell_type": "code",
   "execution_count": 2,
   "metadata": {
    "scrolled": true
   },
   "outputs": [
    {
     "data": {
      "text/html": [
       "<div>\n",
       "<style scoped>\n",
       "    .dataframe tbody tr th:only-of-type {\n",
       "        vertical-align: middle;\n",
       "    }\n",
       "\n",
       "    .dataframe tbody tr th {\n",
       "        vertical-align: top;\n",
       "    }\n",
       "\n",
       "    .dataframe thead th {\n",
       "        text-align: right;\n",
       "    }\n",
       "</style>\n",
       "<table border=\"1\" class=\"dataframe\">\n",
       "  <thead>\n",
       "    <tr style=\"text-align: right;\">\n",
       "      <th></th>\n",
       "      <th>num_orders</th>\n",
       "    </tr>\n",
       "    <tr>\n",
       "      <th>datetime</th>\n",
       "      <th></th>\n",
       "    </tr>\n",
       "  </thead>\n",
       "  <tbody>\n",
       "    <tr>\n",
       "      <th>2018-03-01 00:00:00</th>\n",
       "      <td>9</td>\n",
       "    </tr>\n",
       "    <tr>\n",
       "      <th>2018-03-01 00:10:00</th>\n",
       "      <td>14</td>\n",
       "    </tr>\n",
       "    <tr>\n",
       "      <th>2018-03-01 00:20:00</th>\n",
       "      <td>28</td>\n",
       "    </tr>\n",
       "    <tr>\n",
       "      <th>2018-03-01 00:30:00</th>\n",
       "      <td>20</td>\n",
       "    </tr>\n",
       "    <tr>\n",
       "      <th>2018-03-01 00:40:00</th>\n",
       "      <td>32</td>\n",
       "    </tr>\n",
       "  </tbody>\n",
       "</table>\n",
       "</div>"
      ],
      "text/plain": [
       "                     num_orders\n",
       "datetime                       \n",
       "2018-03-01 00:00:00           9\n",
       "2018-03-01 00:10:00          14\n",
       "2018-03-01 00:20:00          28\n",
       "2018-03-01 00:30:00          20\n",
       "2018-03-01 00:40:00          32"
      ]
     },
     "execution_count": 2,
     "metadata": {},
     "output_type": "execute_result"
    }
   ],
   "source": [
    "df = pd.read_csv('/datasets/taxi.csv', index_col=[0], parse_dates=[0])\n",
    "df.sort_index(inplace=True)\n",
    "df.head()"
   ]
  },
  {
   "cell_type": "markdown",
   "metadata": {},
   "source": [
    "Отсортировала даты в индексе и привела к типу `datetime64`. Теперь рассмотрю данные."
   ]
  },
  {
   "cell_type": "code",
   "execution_count": 3,
   "metadata": {},
   "outputs": [
    {
     "name": "stdout",
     "output_type": "stream",
     "text": [
      "<class 'pandas.core.frame.DataFrame'>\n",
      "DatetimeIndex: 26496 entries, 2018-03-01 00:00:00 to 2018-08-31 23:50:00\n",
      "Data columns (total 1 columns):\n",
      " #   Column      Non-Null Count  Dtype\n",
      "---  ------      --------------  -----\n",
      " 0   num_orders  26496 non-null  int64\n",
      "dtypes: int64(1)\n",
      "memory usage: 414.0 KB\n"
     ]
    }
   ],
   "source": [
    "df.info()"
   ]
  },
  {
   "cell_type": "code",
   "execution_count": 4,
   "metadata": {},
   "outputs": [
    {
     "data": {
      "text/html": [
       "<div>\n",
       "<style scoped>\n",
       "    .dataframe tbody tr th:only-of-type {\n",
       "        vertical-align: middle;\n",
       "    }\n",
       "\n",
       "    .dataframe tbody tr th {\n",
       "        vertical-align: top;\n",
       "    }\n",
       "\n",
       "    .dataframe thead th {\n",
       "        text-align: right;\n",
       "    }\n",
       "</style>\n",
       "<table border=\"1\" class=\"dataframe\">\n",
       "  <thead>\n",
       "    <tr style=\"text-align: right;\">\n",
       "      <th></th>\n",
       "      <th>num_orders</th>\n",
       "    </tr>\n",
       "  </thead>\n",
       "  <tbody>\n",
       "    <tr>\n",
       "      <th>count</th>\n",
       "      <td>26496.000000</td>\n",
       "    </tr>\n",
       "    <tr>\n",
       "      <th>mean</th>\n",
       "      <td>14.070463</td>\n",
       "    </tr>\n",
       "    <tr>\n",
       "      <th>std</th>\n",
       "      <td>9.211330</td>\n",
       "    </tr>\n",
       "    <tr>\n",
       "      <th>min</th>\n",
       "      <td>0.000000</td>\n",
       "    </tr>\n",
       "    <tr>\n",
       "      <th>25%</th>\n",
       "      <td>8.000000</td>\n",
       "    </tr>\n",
       "    <tr>\n",
       "      <th>50%</th>\n",
       "      <td>13.000000</td>\n",
       "    </tr>\n",
       "    <tr>\n",
       "      <th>75%</th>\n",
       "      <td>19.000000</td>\n",
       "    </tr>\n",
       "    <tr>\n",
       "      <th>max</th>\n",
       "      <td>119.000000</td>\n",
       "    </tr>\n",
       "  </tbody>\n",
       "</table>\n",
       "</div>"
      ],
      "text/plain": [
       "         num_orders\n",
       "count  26496.000000\n",
       "mean      14.070463\n",
       "std        9.211330\n",
       "min        0.000000\n",
       "25%        8.000000\n",
       "50%       13.000000\n",
       "75%       19.000000\n",
       "max      119.000000"
      ]
     },
     "execution_count": 4,
     "metadata": {},
     "output_type": "execute_result"
    }
   ],
   "source": [
    "df.describe()"
   ]
  },
  {
   "cell_type": "code",
   "execution_count": 5,
   "metadata": {},
   "outputs": [
    {
     "data": {
      "text/plain": [
       "num_orders    0\n",
       "dtype: int64"
      ]
     },
     "execution_count": 5,
     "metadata": {},
     "output_type": "execute_result"
    }
   ],
   "source": [
    "df.isna().sum()"
   ]
  },
  {
   "cell_type": "markdown",
   "metadata": {},
   "source": [
    "Пропуски в датасете отстутствуют. Теперь проведу ресемплирование по одному часу."
   ]
  },
  {
   "cell_type": "code",
   "execution_count": 6,
   "metadata": {},
   "outputs": [
    {
     "data": {
      "text/html": [
       "<div>\n",
       "<style scoped>\n",
       "    .dataframe tbody tr th:only-of-type {\n",
       "        vertical-align: middle;\n",
       "    }\n",
       "\n",
       "    .dataframe tbody tr th {\n",
       "        vertical-align: top;\n",
       "    }\n",
       "\n",
       "    .dataframe thead th {\n",
       "        text-align: right;\n",
       "    }\n",
       "</style>\n",
       "<table border=\"1\" class=\"dataframe\">\n",
       "  <thead>\n",
       "    <tr style=\"text-align: right;\">\n",
       "      <th></th>\n",
       "      <th>num_orders</th>\n",
       "    </tr>\n",
       "    <tr>\n",
       "      <th>datetime</th>\n",
       "      <th></th>\n",
       "    </tr>\n",
       "  </thead>\n",
       "  <tbody>\n",
       "    <tr>\n",
       "      <th>2018-03-01 00:00:00</th>\n",
       "      <td>124</td>\n",
       "    </tr>\n",
       "    <tr>\n",
       "      <th>2018-03-01 01:00:00</th>\n",
       "      <td>85</td>\n",
       "    </tr>\n",
       "    <tr>\n",
       "      <th>2018-03-01 02:00:00</th>\n",
       "      <td>71</td>\n",
       "    </tr>\n",
       "    <tr>\n",
       "      <th>2018-03-01 03:00:00</th>\n",
       "      <td>66</td>\n",
       "    </tr>\n",
       "    <tr>\n",
       "      <th>2018-03-01 04:00:00</th>\n",
       "      <td>43</td>\n",
       "    </tr>\n",
       "  </tbody>\n",
       "</table>\n",
       "</div>"
      ],
      "text/plain": [
       "                     num_orders\n",
       "datetime                       \n",
       "2018-03-01 00:00:00         124\n",
       "2018-03-01 01:00:00          85\n",
       "2018-03-01 02:00:00          71\n",
       "2018-03-01 03:00:00          66\n",
       "2018-03-01 04:00:00          43"
      ]
     },
     "execution_count": 6,
     "metadata": {},
     "output_type": "execute_result"
    }
   ],
   "source": [
    "df = df.resample('1H').sum()\n",
    "df.head()"
   ]
  },
  {
   "cell_type": "code",
   "execution_count": 7,
   "metadata": {},
   "outputs": [],
   "source": [
    "decomposed = seasonal_decompose(df)"
   ]
  },
  {
   "cell_type": "code",
   "execution_count": 8,
   "metadata": {},
   "outputs": [
    {
     "name": "stdout",
     "output_type": "stream",
     "text": [
      "2018-03-01 00:00:00 - 2018-08-31 23:00:00\n"
     ]
    }
   ],
   "source": [
    "#рассмотрю за какой период даны данные\n",
    "print(df.index.min(), '-', df.index.max())"
   ]
  },
  {
   "cell_type": "markdown",
   "metadata": {},
   "source": [
    "**Вывод:**\n",
    "\n",
    "- Рассмотрен датасет, пропусков в нем не обнаружено.\n",
    "- Выполнено ресемплирование данных по одному часу.\n",
    "- Данные предоставлены за полгода."
   ]
  },
  {
   "cell_type": "markdown",
   "metadata": {},
   "source": [
    "## Анализ"
   ]
  },
  {
   "cell_type": "markdown",
   "metadata": {},
   "source": [
    "Анализ буду проводить с помощью методов:\n",
    " - скользящее среднее\n",
    " - тренды и сезонность\n",
    " - стационарные ряды"
   ]
  },
  {
   "cell_type": "markdown",
   "metadata": {},
   "source": [
    "Подготовлю датасет для анализа"
   ]
  },
  {
   "cell_type": "code",
   "execution_count": 9,
   "metadata": {},
   "outputs": [],
   "source": [
    "df_copy = df.copy()\n",
    "df_month = df_copy.resample('1M').sum()\n",
    "df_copy['dayofweek'] = df_copy.index.dayofweek"
   ]
  },
  {
   "cell_type": "code",
   "execution_count": 10,
   "metadata": {},
   "outputs": [],
   "source": [
    "#создам необходимые колонки для анализа\n",
    "df_copy['mean'] = df_copy['num_orders'].rolling(12).mean()\n",
    "df_copy['std'] = df_copy['num_orders'].rolling(12).std()"
   ]
  },
  {
   "cell_type": "markdown",
   "metadata": {},
   "source": [
    "Теперь построю на графики количества заказов по месяцам, в течении недели и в течении дня."
   ]
  },
  {
   "cell_type": "code",
   "execution_count": 11,
   "metadata": {
    "scrolled": false
   },
   "outputs": [
    {
     "data": {
      "image/png": "[encoded data removed]",
      "text/plain": [
       "<Figure size 864x1080 with 3 Axes>"
      ]
     },
     "metadata": {
      "needs_background": "light"
     },
     "output_type": "display_data"
    }
   ],
   "source": [
    "plt.figure(figsize=(12, 15))\n",
    "plt.subplot(311)\n",
    "df_month['num_orders'].plot(ax=plt.gca())\n",
    "plt.title('График количества заказов по месяцам')\n",
    "\n",
    "plt.subplot(312)\n",
    "df_copy.groupby('dayofweek')['num_orders'].sum().plot(ax=plt.gca())\n",
    "plt.title('График количества заказов в течении недели')\n",
    "\n",
    "plt.subplot(313)\n",
    "df_copy['num_orders']['2018-04-01':'2018-04-02'].plot(ax=plt.gca())\n",
    "plt.title('График количества заказов в течении дня')\n",
    "plt.tight_layout()"
   ]
  },
  {
   "cell_type": "markdown",
   "metadata": {},
   "source": [
    "По графикам могу заметить, что есть тенденция увеличения заказов с каждым месяцем, большинство заказов в будние дни, особенно в пятницу и в понедельник, в выходные количество заказов падает, а также во вторник мало заказов, а по графику в течении дня, видно, что наименьшее количество заказов приходится на раннее утро."
   ]
  },
  {
   "cell_type": "markdown",
   "metadata": {},
   "source": [
    "Посмотрю на скользящее среднее и на стандартное отклонение с окном в 12 часов."
   ]
  },
  {
   "cell_type": "code",
   "execution_count": 12,
   "metadata": {
    "scrolled": false
   },
   "outputs": [
    {
     "data": {
      "image/png": "[encoded data removed]",
      "text/plain": [
       "<Figure size 1152x504 with 1 Axes>"
      ]
     },
     "metadata": {
      "needs_background": "light"
     },
     "output_type": "display_data"
    },
    {
     "data": {
      "image/png": "[encoded data removed]",
      "text/plain": [
       "<Figure size 1080x504 with 1 Axes>"
      ]
     },
     "metadata": {
      "needs_background": "light"
     },
     "output_type": "display_data"
    }
   ],
   "source": [
    "df_copy.plot(figsize=(16, 7))\n",
    "plt.title('Распределение заказов в час за весь период')\n",
    "plt.xlabel('Дата')\n",
    "plt.ylabel('Количество заказов')\n",
    "df_copy['2018-04-01':'2018-04-02'].plot(figsize=(15, 7))\n",
    "plt.title('Распределение заказов в час за два дня')\n",
    "plt.xlabel('Дата')\n",
    "plt.ylabel('Количество заказов')\n",
    "plt.tight_layout()"
   ]
  },
  {
   "cell_type": "markdown",
   "metadata": {},
   "source": [
    "По первому графику видно, что стандартное отклонение, как и среднее со временем начинают расти. Рассмотрю теперь тренд и сезонность по количеству заказов."
   ]
  },
  {
   "cell_type": "code",
   "execution_count": 13,
   "metadata": {},
   "outputs": [],
   "source": [
    "decomposed = seasonal_decompose(df)"
   ]
  },
  {
   "cell_type": "code",
   "execution_count": 14,
   "metadata": {},
   "outputs": [
    {
     "data": {
      "image/png": "[encoded data removed]",
      "text/plain": [
       "<Figure size 1008x720 with 3 Axes>"
      ]
     },
     "metadata": {
      "needs_background": "light"
     },
     "output_type": "display_data"
    }
   ],
   "source": [
    "plt.figure(figsize=(14, 10))\n",
    "plt.subplot(311)\n",
    "decomposed.trend.plot(ax=plt.gca())\n",
    "plt.title('Trend')\n",
    "plt.subplot(312)\n",
    "decomposed.seasonal.plot(ax=plt.gca())\n",
    "plt.title('Seasonality')\n",
    "plt.subplot(313)\n",
    "decomposed.resid.plot(ax=plt.gca())\n",
    "plt.title('Residuals')\n",
    "plt.tight_layout()"
   ]
  },
  {
   "cell_type": "code",
   "execution_count": 15,
   "metadata": {},
   "outputs": [
    {
     "data": {
      "text/plain": [
       "Text(0.5, 1.0, 'Сезонность заказов за 7 дней')"
      ]
     },
     "execution_count": 15,
     "metadata": {},
     "output_type": "execute_result"
    },
    {
     "data": {
      "image/png": "[encoded data removed]",
      "text/plain": [
       "<Figure size 720x504 with 1 Axes>"
      ]
     },
     "metadata": {
      "needs_background": "light"
     },
     "output_type": "display_data"
    }
   ],
   "source": [
    "plt.figure(figsize=(10, 7))\n",
    "decomposed.seasonal['2018-04-01':'2018-04-07'].plot(ax=plt.gca())\n",
    "plt.title('Сезонность заказов за 7 дней')"
   ]
  },
  {
   "cell_type": "markdown",
   "metadata": {},
   "source": [
    "На графиках видно, что идет восходящий тренд, возможно это из-за того, что летом люди чаще пользуются такси, по сезонности видны циклично повторяющиеся закономерности во временном ряду, шум летом увеличевается."
   ]
  },
  {
   "cell_type": "markdown",
   "metadata": {},
   "source": [
    "**Вывод:**\n",
    "- Временной ряд стационарен\n",
    "- Наблюдается восходящий тренд\n",
    "- По пятницам больше всего заказов\n",
    "- Ранним утром наименьшее количество заказов"
   ]
  },
  {
   "cell_type": "markdown",
   "metadata": {},
   "source": [
    "## Обучение"
   ]
  },
  {
   "cell_type": "markdown",
   "metadata": {},
   "source": [
    "### Подготовка признаков"
   ]
  },
  {
   "cell_type": "markdown",
   "metadata": {},
   "source": [
    "Напишу функцию для создания признаков."
   ]
  },
  {
   "cell_type": "code",
   "execution_count": 16,
   "metadata": {},
   "outputs": [],
   "source": [
    "def make_features(data, max_lag, rolling_mean_size):\n",
    "    #добавляю календарные признаки\n",
    "    data['day'] = data.index.day\n",
    "    data['hour'] = data.index.hour\n",
    "    data['dayofweek'] = data.index.dayofweek\n",
    "    \n",
    "    data['night'] = (data['hour'].isin([22, 23, 0, 1, 2, 3, 4])).astype('int')\n",
    "    data['morning'] = (data['hour'].isin([5, 6, 7, 8])).astype('int')\n",
    "    data['daytime'] = (data['hour'].isin([9, 10, 11, 12, 13, 14, 15, 16, 17])).astype('int')\n",
    "    data['evening'] = (data['hour'].isin([18, 19, 20, 21])).astype('int')\n",
    "    data['is_weekend'] = data.dayofweek.isin([5,6]).astype('int')\n",
    "    \n",
    "    #добавляю лаги, которые задают максимальный размер отставания общим количеством max_lag\n",
    "    for lag in range(1, max_lag + 1):\n",
    "        data['lag_{}'.format(lag)] = data['num_orders'].shift(lag)\n",
    "    \n",
    "    \n",
    "    #добавляю скользящее среднее без текущего значения ряда для рассчета\n",
    "    data['rolling_mean'] = data['num_orders'].shift().rolling(rolling_mean_size).mean()\n",
    "    \n",
    "    return data.dropna(inplace=True)"
   ]
  },
  {
   "cell_type": "code",
   "execution_count": 17,
   "metadata": {},
   "outputs": [
    {
     "data": {
      "text/html": [
       "<div>\n",
       "<style scoped>\n",
       "    .dataframe tbody tr th:only-of-type {\n",
       "        vertical-align: middle;\n",
       "    }\n",
       "\n",
       "    .dataframe tbody tr th {\n",
       "        vertical-align: top;\n",
       "    }\n",
       "\n",
       "    .dataframe thead th {\n",
       "        text-align: right;\n",
       "    }\n",
       "</style>\n",
       "<table border=\"1\" class=\"dataframe\">\n",
       "  <thead>\n",
       "    <tr style=\"text-align: right;\">\n",
       "      <th></th>\n",
       "      <th>num_orders</th>\n",
       "      <th>day</th>\n",
       "      <th>hour</th>\n",
       "      <th>dayofweek</th>\n",
       "      <th>night</th>\n",
       "      <th>morning</th>\n",
       "      <th>daytime</th>\n",
       "      <th>evening</th>\n",
       "      <th>is_weekend</th>\n",
       "      <th>lag_1</th>\n",
       "      <th>rolling_mean</th>\n",
       "    </tr>\n",
       "    <tr>\n",
       "      <th>datetime</th>\n",
       "      <th></th>\n",
       "      <th></th>\n",
       "      <th></th>\n",
       "      <th></th>\n",
       "      <th></th>\n",
       "      <th></th>\n",
       "      <th></th>\n",
       "      <th></th>\n",
       "      <th></th>\n",
       "      <th></th>\n",
       "      <th></th>\n",
       "    </tr>\n",
       "  </thead>\n",
       "  <tbody>\n",
       "    <tr>\n",
       "      <th>2018-03-02 00:00:00</th>\n",
       "      <td>90</td>\n",
       "      <td>2</td>\n",
       "      <td>0</td>\n",
       "      <td>4</td>\n",
       "      <td>1</td>\n",
       "      <td>0</td>\n",
       "      <td>0</td>\n",
       "      <td>0</td>\n",
       "      <td>0</td>\n",
       "      <td>58.0</td>\n",
       "      <td>56.833333</td>\n",
       "    </tr>\n",
       "    <tr>\n",
       "      <th>2018-03-02 01:00:00</th>\n",
       "      <td>120</td>\n",
       "      <td>2</td>\n",
       "      <td>1</td>\n",
       "      <td>4</td>\n",
       "      <td>1</td>\n",
       "      <td>0</td>\n",
       "      <td>0</td>\n",
       "      <td>0</td>\n",
       "      <td>0</td>\n",
       "      <td>90.0</td>\n",
       "      <td>55.416667</td>\n",
       "    </tr>\n",
       "    <tr>\n",
       "      <th>2018-03-02 02:00:00</th>\n",
       "      <td>75</td>\n",
       "      <td>2</td>\n",
       "      <td>2</td>\n",
       "      <td>4</td>\n",
       "      <td>1</td>\n",
       "      <td>0</td>\n",
       "      <td>0</td>\n",
       "      <td>0</td>\n",
       "      <td>0</td>\n",
       "      <td>120.0</td>\n",
       "      <td>56.875000</td>\n",
       "    </tr>\n",
       "    <tr>\n",
       "      <th>2018-03-02 03:00:00</th>\n",
       "      <td>64</td>\n",
       "      <td>2</td>\n",
       "      <td>3</td>\n",
       "      <td>4</td>\n",
       "      <td>1</td>\n",
       "      <td>0</td>\n",
       "      <td>0</td>\n",
       "      <td>0</td>\n",
       "      <td>0</td>\n",
       "      <td>75.0</td>\n",
       "      <td>57.041667</td>\n",
       "    </tr>\n",
       "    <tr>\n",
       "      <th>2018-03-02 04:00:00</th>\n",
       "      <td>20</td>\n",
       "      <td>2</td>\n",
       "      <td>4</td>\n",
       "      <td>4</td>\n",
       "      <td>1</td>\n",
       "      <td>0</td>\n",
       "      <td>0</td>\n",
       "      <td>0</td>\n",
       "      <td>0</td>\n",
       "      <td>64.0</td>\n",
       "      <td>56.958333</td>\n",
       "    </tr>\n",
       "  </tbody>\n",
       "</table>\n",
       "</div>"
      ],
      "text/plain": [
       "                     num_orders  day  hour  dayofweek  night  morning  \\\n",
       "datetime                                                                \n",
       "2018-03-02 00:00:00          90    2     0          4      1        0   \n",
       "2018-03-02 01:00:00         120    2     1          4      1        0   \n",
       "2018-03-02 02:00:00          75    2     2          4      1        0   \n",
       "2018-03-02 03:00:00          64    2     3          4      1        0   \n",
       "2018-03-02 04:00:00          20    2     4          4      1        0   \n",
       "\n",
       "                     daytime  evening  is_weekend  lag_1  rolling_mean  \n",
       "datetime                                                                \n",
       "2018-03-02 00:00:00        0        0           0   58.0     56.833333  \n",
       "2018-03-02 01:00:00        0        0           0   90.0     55.416667  \n",
       "2018-03-02 02:00:00        0        0           0  120.0     56.875000  \n",
       "2018-03-02 03:00:00        0        0           0   75.0     57.041667  \n",
       "2018-03-02 04:00:00        0        0           0   64.0     56.958333  "
      ]
     },
     "execution_count": 17,
     "metadata": {},
     "output_type": "execute_result"
    }
   ],
   "source": [
    "make_features(df, 1, 24)\n",
    "df.head()"
   ]
  },
  {
   "cell_type": "markdown",
   "metadata": {},
   "source": [
    "Разделю таблицу на признаки и целевой признак, а затем на тренировочную и тестовую выборки."
   ]
  },
  {
   "cell_type": "code",
   "execution_count": 18,
   "metadata": {},
   "outputs": [
    {
     "name": "stdout",
     "output_type": "stream",
     "text": [
      "(4392, 10)\n",
      "(4392,)\n"
     ]
    }
   ],
   "source": [
    "features = df.drop('num_orders', axis=1)\n",
    "target = df['num_orders']\n",
    "print(features.shape)\n",
    "print(target.shape)"
   ]
  },
  {
   "cell_type": "code",
   "execution_count": 19,
   "metadata": {},
   "outputs": [],
   "source": [
    "features_train, features_test, target_train, target_test = train_test_split(\n",
    "    features, target, shuffle=False, test_size=0.1)"
   ]
  },
  {
   "cell_type": "code",
   "execution_count": 20,
   "metadata": {},
   "outputs": [
    {
     "name": "stdout",
     "output_type": "stream",
     "text": [
      "2018-03-02 00:00:00 2018-08-13 15:00:00\n",
      "2018-08-13 16:00:00 2018-08-31 23:00:00\n"
     ]
    }
   ],
   "source": [
    "print(features_train.index.min(), features_train.index.max())\n",
    "print(features_test.index.min(), features_test.index.max())"
   ]
  },
  {
   "cell_type": "markdown",
   "metadata": {},
   "source": [
    "Задам параметр кросс-валидации для временного ряда"
   ]
  },
  {
   "cell_type": "code",
   "execution_count": 21,
   "metadata": {},
   "outputs": [],
   "source": [
    "tscv = TimeSeriesSplit(n_splits=8)"
   ]
  },
  {
   "cell_type": "markdown",
   "metadata": {},
   "source": [
    "### Обучение моделей"
   ]
  },
  {
   "cell_type": "markdown",
   "metadata": {},
   "source": [
    "Рассмотрю модели линейной регрессии, дерева решений, случайного леса, LightGBM и CatBoost. Создам списки, в которые будут записываться результаты по каждой модели."
   ]
  },
  {
   "cell_type": "code",
   "execution_count": 22,
   "metadata": {},
   "outputs": [],
   "source": [
    "model = ['LinearRegression', 'DecisionTreeRegressor', 'RandomForestRegressor', 'CatBoostRegressor', 'LGBMRegressor']"
   ]
  },
  {
   "cell_type": "markdown",
   "metadata": {},
   "source": [
    "**Линейная регрессия**"
   ]
  },
  {
   "cell_type": "code",
   "execution_count": 23,
   "metadata": {},
   "outputs": [
    {
     "name": "stdout",
     "output_type": "stream",
     "text": [
      "RMSE for LinearRegression:  28.3\n",
      "Time fit:  0.003951549530029297\n",
      "Time predict:  0.0016665458679199219\n",
      "CPU times: user 85.2 ms, sys: 64 ms, total: 149 ms\n",
      "Wall time: 71.8 ms\n"
     ]
    }
   ],
   "source": [
    "%%time\n",
    "start = time.time()\n",
    "\n",
    "lr_model = LinearRegression().fit(features_train, target_train)\n",
    "\n",
    "finish = time.time()\n",
    "time_cvs_lr = finish - start\n",
    "\n",
    "lr_rmse = cross_val_score(lr_model,\n",
    "                            features_train,\n",
    "                            target_train,\n",
    "                            cv=tscv,\n",
    "                            scoring='neg_root_mean_squared_error').mean()\n",
    "\n",
    "rmse_lr = round(-lr_rmse, 2)\n",
    "\n",
    "start = time.time()\n",
    "\n",
    "pred = lr_model.predict(features_train)\n",
    "\n",
    "finish = time.time()\n",
    "time_p_lr = finish - start \n",
    "\n",
    "print('RMSE for LinearRegression: ', rmse_lr)\n",
    "print('Time fit: ', time_cvs_lr)\n",
    "print('Time predict: ', time_p_lr)"
   ]
  },
  {
   "cell_type": "markdown",
   "metadata": {},
   "source": [
    "**Дерево решений**"
   ]
  },
  {
   "cell_type": "code",
   "execution_count": 24,
   "metadata": {
    "scrolled": false
   },
   "outputs": [
    {
     "name": "stdout",
     "output_type": "stream",
     "text": [
      "RMSE for DecisionTreeRegressor:  26.09\n",
      "Best params:  {'max_depth': 13, 'max_leaf_nodes': 90, 'min_samples_leaf': 25}\n",
      "Time fit:  [0.00674093]\n",
      "Time predict:  [0.00175992]\n",
      "CPU times: user 85.2 ms, sys: 4.28 ms, total: 89.5 ms\n",
      "Wall time: 99.5 ms\n"
     ]
    }
   ],
   "source": [
    "%%time\n",
    "\n",
    "dt_model = DecisionTreeRegressor(random_state=42)\n",
    "\n",
    "#набор параметров, для поиска лучших\n",
    "# dt_params = {'max_depth': range(5, 33, 4),\n",
    "#               'max_leaf_nodes': range(0, 100, 10),\n",
    "#               'min_samples_leaf': range(0, 100, 5)}\n",
    "dt_params = {'max_depth': [13], 'max_leaf_nodes': [90], 'min_samples_leaf': [25]}\n",
    "\n",
    "gs_dt = GridSearchCV(dt_model, dt_params,\n",
    "                      cv=tscv, n_jobs=-1,\n",
    "                     scoring='neg_root_mean_squared_error')\n",
    "\n",
    "model_gs_dt = gs_dt.fit(features_train, target_train)\n",
    "\n",
    "rmse_dt = round(-gs_dt.best_score_, 2)\n",
    "\n",
    "print('RMSE for DecisionTreeRegressor: ', rmse_dt)\n",
    "print('Best params: ', gs_dt.best_params_)\n",
    "print('Time fit: ', gs_dt.cv_results_['mean_fit_time'])\n",
    "print('Time predict: ', gs_dt.cv_results_['mean_score_time'])"
   ]
  },
  {
   "cell_type": "markdown",
   "metadata": {},
   "source": [
    "**Случайный лес**"
   ]
  },
  {
   "cell_type": "code",
   "execution_count": 25,
   "metadata": {},
   "outputs": [
    {
     "name": "stdout",
     "output_type": "stream",
     "text": [
      "RMSE for RandomForestRegressor:  25.06\n",
      "Best params:  {'max_depth': 13, 'max_leaf_nodes': 90, 'min_samples_leaf': 5, 'n_estimators': 40}\n",
      "Time fit:  [0.1554037]\n",
      "Time predict:  [0.00615808]\n",
      "CPU times: user 1.55 s, sys: 8.01 ms, total: 1.56 s\n",
      "Wall time: 1.56 s\n"
     ]
    }
   ],
   "source": [
    "%%time\n",
    "\n",
    "rf_model = RandomForestRegressor(random_state=42)\n",
    "\n",
    "#набор параметров, для поиска лучших\n",
    "# rf_params = {'n_estimators': range(10, 41, 5),\n",
    "#              'max_depth': range(5, 33, 4),\n",
    "#              'max_leaf_nodes': range(0, 100, 10),\n",
    "#              'min_samples_leaf': range(0, 100, 5)}\n",
    "\n",
    "rf_params = {'n_estimators': [40],\n",
    "              'max_depth': [13],\n",
    "              'max_leaf_nodes': [90],\n",
    "              'min_samples_leaf': [5]}\n",
    "\n",
    "gs_rf = GridSearchCV(rf_model, rf_params,\n",
    "                     cv=tscv, n_jobs=-1,\n",
    "                     scoring='neg_root_mean_squared_error')\n",
    "\n",
    "model_gs_rf = gs_rf.fit(features_train, target_train)\n",
    "\n",
    "rmse_rf = round(-gs_rf.best_score_, 2)\n",
    "\n",
    "print('RMSE for RandomForestRegressor: ', rmse_rf)\n",
    "print('Best params: ', gs_rf.best_params_)\n",
    "print('Time fit: ', gs_rf.cv_results_['mean_fit_time'])\n",
    "print('Time predict: ', gs_rf.cv_results_['mean_score_time'])"
   ]
  },
  {
   "cell_type": "markdown",
   "metadata": {},
   "source": [
    "**CatBoostRegressor**"
   ]
  },
  {
   "cell_type": "code",
   "execution_count": 26,
   "metadata": {},
   "outputs": [
    {
     "name": "stdout",
     "output_type": "stream",
     "text": [
      "RMSE for CatBoostRegressor:  24.83\n",
      "Best params:  {'depth': 5, 'iterations': 200, 'learning_rate': 0.1}\n",
      "Time fit:  [0.73210898]\n",
      "Time predict:  [0.00196075]\n",
      "CPU times: user 1.32 s, sys: 222 ms, total: 1.54 s\n",
      "Wall time: 6.71 s\n"
     ]
    }
   ],
   "source": [
    "%%time\n",
    "\n",
    "cbr_model = CatBoostRegressor(random_state=42, loss_function='RMSE', logging_level='Silent')\n",
    "#набор параметров, для поиска лучших\n",
    "# cbr_params = {'iterations': [50, 200, 500, 1000],\n",
    "#              'depth': [2, 5, 9, 15, 22],\n",
    "#              'learning_rate': [0.1, 0.25]}\n",
    "\n",
    "cbr_params = {'iterations': [200],\n",
    "             'depth': [5],\n",
    "             'learning_rate': [0.1]}\n",
    "\n",
    "gs_cbr = GridSearchCV(cbr_model, cbr_params,\n",
    "                     cv=tscv, n_jobs=-1,\n",
    "                     scoring='neg_root_mean_squared_error')\n",
    "\n",
    "model_gs_cbr = gs_cbr.fit(features_train, target_train)\n",
    "\n",
    "rmse_cbr = round(-gs_cbr.best_score_, 2)\n",
    "\n",
    "print('RMSE for CatBoostRegressor: ', rmse_cbr)\n",
    "print('Best params: ', gs_cbr.best_params_)\n",
    "print('Time fit: ', gs_cbr.cv_results_['mean_fit_time'])\n",
    "print('Time predict: ', gs_cbr.cv_results_['mean_score_time'])"
   ]
  },
  {
   "cell_type": "markdown",
   "metadata": {},
   "source": [
    "**LightGBM**"
   ]
  },
  {
   "cell_type": "code",
   "execution_count": 27,
   "metadata": {},
   "outputs": [
    {
     "name": "stdout",
     "output_type": "stream",
     "text": [
      "RMSE for LGBMRegressor:  24.7\n",
      "Best params:  {'learning_rate': 0.1, 'max_depth': 8, 'n_estimators': 50, 'num_leaves': 70}\n",
      "Time fit:  [0.47280961]\n",
      "Time predict:  [0.02737698]\n",
      "CPU times: user 4.59 s, sys: 11.5 ms, total: 4.6 s\n",
      "Wall time: 4.61 s\n"
     ]
    }
   ],
   "source": [
    "%%time\n",
    "\n",
    "lgbm_model = LGBMRegressor(random_state=42, objective=\"RMSE\")\n",
    "#набор параметров, для поиска лучших\n",
    "# lgbm_params = {'n_estimators': range(50, 600, 50),\n",
    "#              'max_depth': range(2, 30, 2),\n",
    "#              'learning_rate': [0.1, 0.25],\n",
    "#                'num_leaves': [20, 50, 70, 100]}\n",
    "\n",
    "lgbm_params = {'n_estimators': [50],\n",
    "             'max_depth': [8],\n",
    "             'learning_rate': [0.1],\n",
    "               'num_leaves': [70]}\n",
    "\n",
    "gs_lgbm = GridSearchCV(lgbm_model, lgbm_params,\n",
    "                     cv=tscv, n_jobs=-1,\n",
    "                     scoring='neg_root_mean_squared_error',\n",
    "                     verbose=False)\n",
    "\n",
    "model_gs_lgbm = gs_lgbm.fit(features_train, target_train)\n",
    "\n",
    "rmse_lgbm = round(-gs_lgbm.best_score_, 2)\n",
    "\n",
    "print('RMSE for LGBMRegressor: ', rmse_lgbm)\n",
    "print('Best params: ', gs_lgbm.best_params_)\n",
    "print('Time fit: ', gs_lgbm.cv_results_['mean_fit_time'])\n",
    "print('Time predict: ', gs_lgbm.cv_results_['mean_score_time'])"
   ]
  },
  {
   "cell_type": "code",
   "execution_count": 28,
   "metadata": {},
   "outputs": [
    {
     "data": {
      "text/html": [
       "<div>\n",
       "<style scoped>\n",
       "    .dataframe tbody tr th:only-of-type {\n",
       "        vertical-align: middle;\n",
       "    }\n",
       "\n",
       "    .dataframe tbody tr th {\n",
       "        vertical-align: top;\n",
       "    }\n",
       "\n",
       "    .dataframe thead th {\n",
       "        text-align: right;\n",
       "    }\n",
       "</style>\n",
       "<table border=\"1\" class=\"dataframe\">\n",
       "  <thead>\n",
       "    <tr style=\"text-align: right;\">\n",
       "      <th></th>\n",
       "      <th>RMSE_score</th>\n",
       "      <th>Time_fit</th>\n",
       "      <th>Time_predict</th>\n",
       "    </tr>\n",
       "  </thead>\n",
       "  <tbody>\n",
       "    <tr>\n",
       "      <th>LGBMRegressor</th>\n",
       "      <td>24.70</td>\n",
       "      <td>[0.4728096127510071]</td>\n",
       "      <td>[0.02737697958946228]</td>\n",
       "    </tr>\n",
       "    <tr>\n",
       "      <th>CatBoostRegressor</th>\n",
       "      <td>24.83</td>\n",
       "      <td>[0.7321089804172516]</td>\n",
       "      <td>[0.00196075439453125]</td>\n",
       "    </tr>\n",
       "    <tr>\n",
       "      <th>RandomForestRegressor</th>\n",
       "      <td>25.06</td>\n",
       "      <td>[0.15540370345115662]</td>\n",
       "      <td>[0.00615808367729187]</td>\n",
       "    </tr>\n",
       "    <tr>\n",
       "      <th>DecisionTreeRegressor</th>\n",
       "      <td>26.09</td>\n",
       "      <td>[0.006740927696228027]</td>\n",
       "      <td>[0.0017599165439605713]</td>\n",
       "    </tr>\n",
       "    <tr>\n",
       "      <th>LinearRegression</th>\n",
       "      <td>28.30</td>\n",
       "      <td>0.003952</td>\n",
       "      <td>0.001667</td>\n",
       "    </tr>\n",
       "  </tbody>\n",
       "</table>\n",
       "</div>"
      ],
      "text/plain": [
       "                       RMSE_score                Time_fit  \\\n",
       "LGBMRegressor               24.70    [0.4728096127510071]   \n",
       "CatBoostRegressor           24.83    [0.7321089804172516]   \n",
       "RandomForestRegressor       25.06   [0.15540370345115662]   \n",
       "DecisionTreeRegressor       26.09  [0.006740927696228027]   \n",
       "LinearRegression            28.30                0.003952   \n",
       "\n",
       "                                  Time_predict  \n",
       "LGBMRegressor            [0.02737697958946228]  \n",
       "CatBoostRegressor        [0.00196075439453125]  \n",
       "RandomForestRegressor    [0.00615808367729187]  \n",
       "DecisionTreeRegressor  [0.0017599165439605713]  \n",
       "LinearRegression                      0.001667  "
      ]
     },
     "execution_count": 28,
     "metadata": {},
     "output_type": "execute_result"
    }
   ],
   "source": [
    "results = pd.DataFrame({'RMSE_score' : [rmse_lr, rmse_dt, rmse_rf, rmse_cbr, rmse_lgbm],\n",
    "                        'Time_fit' : [time_cvs_lr, gs_dt.cv_results_['mean_fit_time'],\n",
    "                                      gs_rf.cv_results_['mean_fit_time'], gs_cbr.cv_results_['mean_fit_time'],\n",
    "                                      gs_lgbm.cv_results_['mean_fit_time']],\n",
    "                        'Time_predict' : [time_p_lr, gs_dt.cv_results_['mean_score_time'], \n",
    "                                          gs_rf.cv_results_['mean_score_time'], gs_cbr.cv_results_['mean_score_time'], \n",
    "                                          gs_lgbm.cv_results_['mean_score_time']]},\n",
    "                       index=model).sort_values(by='RMSE_score', ascending=True)\n",
    "results"
   ]
  },
  {
   "cell_type": "markdown",
   "metadata": {},
   "source": [
    "**Вывод:**"
   ]
  },
  {
   "cell_type": "markdown",
   "metadata": {},
   "source": [
    "В ходе обучения моделей, были обучены модели с подбором гиперпараметров:\n",
    "- LinearRegression;\n",
    "- DecisionTreeRegressor;\n",
    "- RandomForestRegressor;\n",
    "- CatBoostRegressor;\n",
    "- LGBMRegressor.\n",
    " Лучшее значение метрики RMSE показала модель LGBMRegressor, а худшее LinearRegression."
   ]
  },
  {
   "cell_type": "markdown",
   "metadata": {},
   "source": [
    "## Тестирование"
   ]
  },
  {
   "cell_type": "markdown",
   "metadata": {},
   "source": [
    "Лучшую метрику качества RMSE показала модель LGBMRegressor, проверю данные тестовой выборки на ней. Значение метрики RMSE на тестовой выборке должно быть не больше 48."
   ]
  },
  {
   "cell_type": "code",
   "execution_count": 29,
   "metadata": {},
   "outputs": [
    {
     "name": "stdout",
     "output_type": "stream",
     "text": [
      "RMSE на тестовой выборке: 45.64\n",
      "CPU times: user 22.3 ms, sys: 0 ns, total: 22.3 ms\n",
      "Wall time: 68 ms\n"
     ]
    }
   ],
   "source": [
    "%%time\n",
    "final_pred = model_gs_lgbm.predict(features_test)\n",
    "\n",
    "rmse_test = mean_squared_error(target_test, final_pred, squared=False)\n",
    "\n",
    "print(f'RMSE на тестовой выборке: {round(rmse_test, 2)}')"
   ]
  },
  {
   "cell_type": "markdown",
   "metadata": {},
   "source": [
    "Значение метрики RMSE на тестовой выборке равна 45.64, что соответствует критерию и ниже 48.\n",
    "Отображу на графике, как выглядят реальные значения и предсказания. Период возьму в 2 дня."
   ]
  },
  {
   "cell_type": "code",
   "execution_count": 30,
   "metadata": {},
   "outputs": [
    {
     "data": {
      "image/png": "[encoded data removed]",
      "text/plain": [
       "<Figure size 1152x504 with 1 Axes>"
      ]
     },
     "metadata": {
      "needs_background": "light"
     },
     "output_type": "display_data"
    }
   ],
   "source": [
    "predictions = pd.DataFrame(data = final_pred, columns = ['predictions'], index = target_test.index)\n",
    "plt.figure(figsize=(16,7))\n",
    "plt.plot(target_test['2018-08-16':'2018-08-17'])\n",
    "plt.plot(predictions['2018-08-16':'2018-08-17'])\n",
    "plt.title('Тестовая выборка и предсказания лучшей модели за 2 дня')\n",
    "plt.ylabel('Количество заказов')\n",
    "plt.xlabel('Дата')\n",
    "plt.legend(['Реальные', 'Предсказанные'])\n",
    "plt.show()"
   ]
  },
  {
   "cell_type": "markdown",
   "metadata": {},
   "source": [
    "**Вывод:**\n",
    "\n",
    "Проведена проверка лучшей модели LGBMRegressor на тестовой выборке, значение метрики RMSE = 42.98. Данное значение соответствует требованиям проекта. "
   ]
  },
  {
   "cell_type": "markdown",
   "metadata": {},
   "source": [
    "# Общий вывод"
   ]
  },
  {
   "cell_type": "markdown",
   "metadata": {},
   "source": [
    "В данном проекте были выполнены следующие задачи:\n",
    " - Подгружены исходные данные и проведено ресемплирование по 1 часу.\n",
    " - Проведен анализ исходных данных.\n",
    " - Обучены модели:\n",
    "    - LinearRegression;\n",
    "    - DecisionTreeRegressor;\n",
    "    - RandomForestRegressor;\n",
    "    - CatBoostRegressor;\n",
    "    - LGBMRegressor.\n",
    " - Найдено лучшее значение метрики RMSE = 24.43, соответствующее модели LGBMRegressor.\n",
    " - Проверены данные лучшей модели на тестовой выборке.\n",
    " - Значение метрики RMSE при проверке на тестовой выборке составляет 42.98.\n",
    " \n",
    "Лучшая модель соответствует требованиям проекта. Значение метрики RMSE на тестовой выборке меньше 48. Данную модель можно использовать для прогнозирования количества заказов такси на следующий час."
   ]
  }
 ],
 "metadata": {
  "ExecuteTimeLog": [
   {
    "duration": 406,
    "start_time": "2023-02-17T10:41:44.036Z"
   },
   {
    "duration": 204,
    "start_time": "2023-02-17T10:41:46.025Z"
   },
   {
    "duration": 57,
    "start_time": "2023-02-17T10:42:02.022Z"
   },
   {
    "duration": 15,
    "start_time": "2023-02-17T10:43:16.266Z"
   },
   {
    "duration": 46,
    "start_time": "2023-02-17T10:43:44.681Z"
   },
   {
    "duration": 11,
    "start_time": "2023-02-17T10:43:51.753Z"
   },
   {
    "duration": 47,
    "start_time": "2023-02-17T10:44:03.049Z"
   },
   {
    "duration": 11,
    "start_time": "2023-02-17T10:44:05.153Z"
   },
   {
    "duration": 42,
    "start_time": "2023-02-17T10:44:47.073Z"
   },
   {
    "duration": 53,
    "start_time": "2023-02-17T10:44:53.882Z"
   },
   {
    "duration": 40,
    "start_time": "2023-02-17T10:45:24.232Z"
   },
   {
    "duration": 46,
    "start_time": "2023-02-17T10:45:39.720Z"
   },
   {
    "duration": 14,
    "start_time": "2023-02-17T10:57:33.136Z"
   },
   {
    "duration": 10,
    "start_time": "2023-02-17T10:57:59.433Z"
   },
   {
    "duration": 7,
    "start_time": "2023-02-17T10:58:28.410Z"
   },
   {
    "duration": 17,
    "start_time": "2023-02-17T11:00:48.072Z"
   },
   {
    "duration": 4,
    "start_time": "2023-02-17T11:09:23.940Z"
   },
   {
    "duration": 4,
    "start_time": "2023-02-17T11:09:44.828Z"
   },
   {
    "duration": 4,
    "start_time": "2023-02-17T11:11:38.500Z"
   },
   {
    "duration": 4,
    "start_time": "2023-02-17T11:12:43.163Z"
   },
   {
    "duration": 623,
    "start_time": "2023-02-17T11:14:53.554Z"
   },
   {
    "duration": 3,
    "start_time": "2023-02-17T11:32:28.281Z"
   },
   {
    "duration": 310,
    "start_time": "2023-02-17T11:35:45.766Z"
   },
   {
    "duration": 350,
    "start_time": "2023-02-17T11:35:58.220Z"
   },
   {
    "duration": 260,
    "start_time": "2023-02-17T11:38:08.303Z"
   },
   {
    "duration": 238,
    "start_time": "2023-02-17T11:39:29.749Z"
   },
   {
    "duration": 240,
    "start_time": "2023-02-17T11:39:53.702Z"
   },
   {
    "duration": 727,
    "start_time": "2023-02-18T12:53:18.677Z"
   },
   {
    "duration": 144,
    "start_time": "2023-02-18T12:53:19.406Z"
   },
   {
    "duration": 11,
    "start_time": "2023-02-18T12:53:19.552Z"
   },
   {
    "duration": 13,
    "start_time": "2023-02-18T12:53:19.564Z"
   },
   {
    "duration": 5,
    "start_time": "2023-02-18T12:53:19.579Z"
   },
   {
    "duration": 16,
    "start_time": "2023-02-18T12:53:19.586Z"
   },
   {
    "duration": 4,
    "start_time": "2023-02-18T12:53:19.603Z"
   },
   {
    "duration": 355,
    "start_time": "2023-02-18T12:53:19.608Z"
   },
   {
    "duration": 225,
    "start_time": "2023-02-18T12:53:19.965Z"
   },
   {
    "duration": 3,
    "start_time": "2023-02-18T13:14:06.080Z"
   },
   {
    "duration": 700,
    "start_time": "2023-02-18T13:21:20.272Z"
   },
   {
    "duration": 10,
    "start_time": "2023-02-18T13:39:38.967Z"
   },
   {
    "duration": 510,
    "start_time": "2023-02-18T13:58:07.951Z"
   },
   {
    "duration": 597,
    "start_time": "2023-02-18T14:01:02.052Z"
   },
   {
    "duration": 602,
    "start_time": "2023-02-18T14:01:25.229Z"
   },
   {
    "duration": 714,
    "start_time": "2023-02-18T14:01:35.744Z"
   },
   {
    "duration": 607,
    "start_time": "2023-02-18T14:01:49.350Z"
   },
   {
    "duration": 676,
    "start_time": "2023-02-18T14:02:04.464Z"
   },
   {
    "duration": 724,
    "start_time": "2023-02-18T14:04:27.587Z"
   },
   {
    "duration": 722,
    "start_time": "2023-02-18T14:04:42.538Z"
   },
   {
    "duration": 857,
    "start_time": "2023-02-18T14:04:54.373Z"
   },
   {
    "duration": 1028,
    "start_time": "2023-02-18T14:04:59.108Z"
   },
   {
    "duration": 9,
    "start_time": "2023-02-18T14:16:52.031Z"
   },
   {
    "duration": 6,
    "start_time": "2023-02-18T14:17:05.698Z"
   },
   {
    "duration": 9,
    "start_time": "2023-02-18T14:17:29.228Z"
   },
   {
    "duration": 7,
    "start_time": "2023-02-18T14:17:58.194Z"
   },
   {
    "duration": 6,
    "start_time": "2023-02-18T14:18:34.931Z"
   },
   {
    "duration": 253,
    "start_time": "2023-02-18T14:18:37.467Z"
   },
   {
    "duration": 7,
    "start_time": "2023-02-18T14:20:04.840Z"
   },
   {
    "duration": 266,
    "start_time": "2023-02-18T14:20:06.542Z"
   },
   {
    "duration": 726,
    "start_time": "2023-02-18T14:20:22.632Z"
   },
   {
    "duration": 169,
    "start_time": "2023-02-18T14:22:21.274Z"
   },
   {
    "duration": 738,
    "start_time": "2023-02-18T14:22:32.466Z"
   },
   {
    "duration": 649,
    "start_time": "2023-02-18T14:23:53.539Z"
   },
   {
    "duration": 619,
    "start_time": "2023-02-18T14:41:33.722Z"
   },
   {
    "duration": 8,
    "start_time": "2023-02-18T14:41:47.717Z"
   },
   {
    "duration": 10,
    "start_time": "2023-02-18T14:55:04.754Z"
   },
   {
    "duration": 1124,
    "start_time": "2023-02-18T14:56:34.767Z"
   },
   {
    "duration": 58,
    "start_time": "2023-02-18T14:56:35.893Z"
   },
   {
    "duration": 11,
    "start_time": "2023-02-18T14:56:35.952Z"
   },
   {
    "duration": 13,
    "start_time": "2023-02-18T14:56:35.964Z"
   },
   {
    "duration": 6,
    "start_time": "2023-02-18T14:56:35.979Z"
   },
   {
    "duration": 42,
    "start_time": "2023-02-18T14:56:35.987Z"
   },
   {
    "duration": 5,
    "start_time": "2023-02-18T14:56:36.031Z"
   },
   {
    "duration": 377,
    "start_time": "2023-02-18T14:56:36.038Z"
   },
   {
    "duration": 258,
    "start_time": "2023-02-18T14:56:36.417Z"
   },
   {
    "duration": 3,
    "start_time": "2023-02-18T14:56:36.679Z"
   },
   {
    "duration": 18,
    "start_time": "2023-02-18T14:56:36.684Z"
   },
   {
    "duration": 678,
    "start_time": "2023-02-18T14:56:36.703Z"
   },
   {
    "duration": 8,
    "start_time": "2023-02-18T14:56:37.382Z"
   },
   {
    "duration": 139,
    "start_time": "2023-02-18T14:56:37.391Z"
   },
   {
    "duration": 0,
    "start_time": "2023-02-18T14:56:37.532Z"
   },
   {
    "duration": 0,
    "start_time": "2023-02-18T14:56:37.533Z"
   },
   {
    "duration": 0,
    "start_time": "2023-02-18T14:56:37.534Z"
   },
   {
    "duration": 0,
    "start_time": "2023-02-18T14:56:37.535Z"
   },
   {
    "duration": 0,
    "start_time": "2023-02-18T14:56:37.536Z"
   },
   {
    "duration": 21,
    "start_time": "2023-02-18T14:58:01.744Z"
   },
   {
    "duration": 1071,
    "start_time": "2023-02-18T15:14:24.339Z"
   },
   {
    "duration": 58,
    "start_time": "2023-02-18T15:14:25.412Z"
   },
   {
    "duration": 11,
    "start_time": "2023-02-18T15:14:25.471Z"
   },
   {
    "duration": 11,
    "start_time": "2023-02-18T15:14:25.484Z"
   },
   {
    "duration": 5,
    "start_time": "2023-02-18T15:14:25.497Z"
   },
   {
    "duration": 12,
    "start_time": "2023-02-18T15:14:25.504Z"
   },
   {
    "duration": 35,
    "start_time": "2023-02-18T15:14:25.518Z"
   },
   {
    "duration": 8,
    "start_time": "2023-02-18T15:14:25.555Z"
   },
   {
    "duration": 330,
    "start_time": "2023-02-18T15:14:25.565Z"
   },
   {
    "duration": 241,
    "start_time": "2023-02-18T15:14:25.897Z"
   },
   {
    "duration": 3,
    "start_time": "2023-02-18T15:14:26.141Z"
   },
   {
    "duration": 21,
    "start_time": "2023-02-18T15:14:26.146Z"
   },
   {
    "duration": 621,
    "start_time": "2023-02-18T15:14:26.169Z"
   },
   {
    "duration": 131,
    "start_time": "2023-02-18T15:14:26.793Z"
   },
   {
    "duration": 0,
    "start_time": "2023-02-18T15:14:26.935Z"
   },
   {
    "duration": 0,
    "start_time": "2023-02-18T15:14:26.935Z"
   },
   {
    "duration": 0,
    "start_time": "2023-02-18T15:14:26.936Z"
   },
   {
    "duration": 0,
    "start_time": "2023-02-18T15:14:26.937Z"
   },
   {
    "duration": 0,
    "start_time": "2023-02-18T15:14:26.937Z"
   },
   {
    "duration": 14,
    "start_time": "2023-02-18T15:15:40.231Z"
   },
   {
    "duration": 1155,
    "start_time": "2023-02-18T15:20:31.543Z"
   },
   {
    "duration": 56,
    "start_time": "2023-02-18T15:20:32.700Z"
   },
   {
    "duration": 9,
    "start_time": "2023-02-18T15:20:32.758Z"
   },
   {
    "duration": 16,
    "start_time": "2023-02-18T15:20:32.768Z"
   },
   {
    "duration": 5,
    "start_time": "2023-02-18T15:20:32.786Z"
   },
   {
    "duration": 21,
    "start_time": "2023-02-18T15:20:32.793Z"
   },
   {
    "duration": 19,
    "start_time": "2023-02-18T15:20:32.827Z"
   },
   {
    "duration": 4,
    "start_time": "2023-02-18T15:20:32.850Z"
   },
   {
    "duration": 348,
    "start_time": "2023-02-18T15:20:32.855Z"
   },
   {
    "duration": 221,
    "start_time": "2023-02-18T15:20:33.205Z"
   },
   {
    "duration": 13,
    "start_time": "2023-02-18T15:20:33.430Z"
   },
   {
    "duration": 17,
    "start_time": "2023-02-18T15:20:33.445Z"
   },
   {
    "duration": 8,
    "start_time": "2023-02-18T15:20:33.464Z"
   },
   {
    "duration": 678,
    "start_time": "2023-02-18T15:20:33.474Z"
   },
   {
    "duration": 12,
    "start_time": "2023-02-18T15:20:34.155Z"
   },
   {
    "duration": 155,
    "start_time": "2023-02-18T15:20:34.169Z"
   },
   {
    "duration": 0,
    "start_time": "2023-02-18T15:20:34.330Z"
   },
   {
    "duration": 0,
    "start_time": "2023-02-18T15:20:34.331Z"
   },
   {
    "duration": 0,
    "start_time": "2023-02-18T15:20:34.332Z"
   },
   {
    "duration": 0,
    "start_time": "2023-02-18T15:20:34.332Z"
   },
   {
    "duration": 0,
    "start_time": "2023-02-18T15:20:34.334Z"
   },
   {
    "duration": 11,
    "start_time": "2023-02-18T15:20:56.840Z"
   },
   {
    "duration": 10,
    "start_time": "2023-02-18T15:21:00.555Z"
   },
   {
    "duration": 1058,
    "start_time": "2023-02-18T15:22:04.259Z"
   },
   {
    "duration": 51,
    "start_time": "2023-02-18T15:22:05.318Z"
   },
   {
    "duration": 10,
    "start_time": "2023-02-18T15:22:05.370Z"
   },
   {
    "duration": 13,
    "start_time": "2023-02-18T15:22:05.383Z"
   },
   {
    "duration": 6,
    "start_time": "2023-02-18T15:22:05.398Z"
   },
   {
    "duration": 22,
    "start_time": "2023-02-18T15:22:05.406Z"
   },
   {
    "duration": 8,
    "start_time": "2023-02-18T15:22:05.430Z"
   },
   {
    "duration": 5,
    "start_time": "2023-02-18T15:22:05.439Z"
   },
   {
    "duration": 354,
    "start_time": "2023-02-18T15:22:05.445Z"
   },
   {
    "duration": 219,
    "start_time": "2023-02-18T15:22:05.802Z"
   },
   {
    "duration": 3,
    "start_time": "2023-02-18T15:22:06.026Z"
   },
   {
    "duration": 16,
    "start_time": "2023-02-18T15:22:06.030Z"
   },
   {
    "duration": 8,
    "start_time": "2023-02-18T15:22:06.047Z"
   },
   {
    "duration": 624,
    "start_time": "2023-02-18T15:22:06.057Z"
   },
   {
    "duration": 8,
    "start_time": "2023-02-18T15:22:06.683Z"
   },
   {
    "duration": 118,
    "start_time": "2023-02-18T15:22:06.693Z"
   },
   {
    "duration": 0,
    "start_time": "2023-02-18T15:22:06.813Z"
   },
   {
    "duration": 0,
    "start_time": "2023-02-18T15:22:06.814Z"
   },
   {
    "duration": 0,
    "start_time": "2023-02-18T15:22:06.816Z"
   },
   {
    "duration": 0,
    "start_time": "2023-02-18T15:22:06.817Z"
   },
   {
    "duration": 0,
    "start_time": "2023-02-18T15:22:06.818Z"
   },
   {
    "duration": 1106,
    "start_time": "2023-02-18T15:23:11.828Z"
   },
   {
    "duration": 50,
    "start_time": "2023-02-18T15:23:12.936Z"
   },
   {
    "duration": 10,
    "start_time": "2023-02-18T15:23:12.988Z"
   },
   {
    "duration": 12,
    "start_time": "2023-02-18T15:23:13.000Z"
   },
   {
    "duration": 5,
    "start_time": "2023-02-18T15:23:13.013Z"
   },
   {
    "duration": 12,
    "start_time": "2023-02-18T15:23:13.027Z"
   },
   {
    "duration": 7,
    "start_time": "2023-02-18T15:23:13.040Z"
   },
   {
    "duration": 3,
    "start_time": "2023-02-18T15:23:13.049Z"
   },
   {
    "duration": 366,
    "start_time": "2023-02-18T15:23:13.053Z"
   },
   {
    "duration": 236,
    "start_time": "2023-02-18T15:23:13.422Z"
   },
   {
    "duration": 3,
    "start_time": "2023-02-18T15:23:13.660Z"
   },
   {
    "duration": 16,
    "start_time": "2023-02-18T15:23:13.665Z"
   },
   {
    "duration": 9,
    "start_time": "2023-02-18T15:23:13.683Z"
   },
   {
    "duration": 647,
    "start_time": "2023-02-18T15:23:13.693Z"
   },
   {
    "duration": 10,
    "start_time": "2023-02-18T15:23:14.341Z"
   },
   {
    "duration": 108,
    "start_time": "2023-02-18T15:23:14.353Z"
   },
   {
    "duration": 0,
    "start_time": "2023-02-18T15:23:14.462Z"
   },
   {
    "duration": 0,
    "start_time": "2023-02-18T15:23:14.464Z"
   },
   {
    "duration": 0,
    "start_time": "2023-02-18T15:23:14.465Z"
   },
   {
    "duration": 0,
    "start_time": "2023-02-18T15:23:14.466Z"
   },
   {
    "duration": 0,
    "start_time": "2023-02-18T15:23:14.467Z"
   },
   {
    "duration": 15,
    "start_time": "2023-02-18T15:27:46.589Z"
   },
   {
    "duration": 9,
    "start_time": "2023-02-18T15:27:57.573Z"
   },
   {
    "duration": 9,
    "start_time": "2023-02-18T15:28:00.822Z"
   },
   {
    "duration": 10,
    "start_time": "2023-02-18T15:28:02.769Z"
   },
   {
    "duration": 1033,
    "start_time": "2023-02-18T15:33:54.974Z"
   },
   {
    "duration": 50,
    "start_time": "2023-02-18T15:33:56.009Z"
   },
   {
    "duration": 9,
    "start_time": "2023-02-18T15:33:56.064Z"
   },
   {
    "duration": 13,
    "start_time": "2023-02-18T15:33:56.075Z"
   },
   {
    "duration": 5,
    "start_time": "2023-02-18T15:33:56.089Z"
   },
   {
    "duration": 36,
    "start_time": "2023-02-18T15:33:56.095Z"
   },
   {
    "duration": 7,
    "start_time": "2023-02-18T15:33:56.132Z"
   },
   {
    "duration": 8,
    "start_time": "2023-02-18T15:33:56.141Z"
   },
   {
    "duration": 392,
    "start_time": "2023-02-18T15:33:56.151Z"
   },
   {
    "duration": 216,
    "start_time": "2023-02-18T15:33:56.545Z"
   },
   {
    "duration": 2,
    "start_time": "2023-02-18T15:33:56.763Z"
   },
   {
    "duration": 16,
    "start_time": "2023-02-18T15:33:56.767Z"
   },
   {
    "duration": 8,
    "start_time": "2023-02-18T15:33:56.785Z"
   },
   {
    "duration": 678,
    "start_time": "2023-02-18T15:33:56.794Z"
   },
   {
    "duration": 9,
    "start_time": "2023-02-18T15:33:57.474Z"
   },
   {
    "duration": 126,
    "start_time": "2023-02-18T15:33:57.484Z"
   },
   {
    "duration": 0,
    "start_time": "2023-02-18T15:33:57.611Z"
   },
   {
    "duration": 0,
    "start_time": "2023-02-18T15:33:57.612Z"
   },
   {
    "duration": 0,
    "start_time": "2023-02-18T15:33:57.613Z"
   },
   {
    "duration": 0,
    "start_time": "2023-02-18T15:33:57.614Z"
   },
   {
    "duration": 0,
    "start_time": "2023-02-18T15:33:57.628Z"
   },
   {
    "duration": 1260,
    "start_time": "2023-02-18T17:05:48.007Z"
   },
   {
    "duration": 53,
    "start_time": "2023-02-18T17:05:49.270Z"
   },
   {
    "duration": 28,
    "start_time": "2023-02-18T17:05:49.324Z"
   },
   {
    "duration": 23,
    "start_time": "2023-02-18T17:05:49.358Z"
   },
   {
    "duration": 6,
    "start_time": "2023-02-18T17:05:49.383Z"
   },
   {
    "duration": 20,
    "start_time": "2023-02-18T17:05:49.391Z"
   },
   {
    "duration": 11,
    "start_time": "2023-02-18T17:05:49.413Z"
   },
   {
    "duration": 53,
    "start_time": "2023-02-18T17:05:49.427Z"
   },
   {
    "duration": 369,
    "start_time": "2023-02-18T17:05:49.482Z"
   },
   {
    "duration": 255,
    "start_time": "2023-02-18T17:05:49.855Z"
   },
   {
    "duration": 3,
    "start_time": "2023-02-18T17:05:50.112Z"
   },
   {
    "duration": 18,
    "start_time": "2023-02-18T17:05:50.117Z"
   },
   {
    "duration": 36,
    "start_time": "2023-02-18T17:05:50.137Z"
   },
   {
    "duration": 590,
    "start_time": "2023-02-18T17:05:50.175Z"
   },
   {
    "duration": 15,
    "start_time": "2023-02-18T17:05:50.767Z"
   },
   {
    "duration": 199,
    "start_time": "2023-02-18T17:05:50.784Z"
   },
   {
    "duration": 0,
    "start_time": "2023-02-18T17:05:50.984Z"
   },
   {
    "duration": 0,
    "start_time": "2023-02-18T17:05:50.986Z"
   },
   {
    "duration": 0,
    "start_time": "2023-02-18T17:05:50.987Z"
   },
   {
    "duration": 0,
    "start_time": "2023-02-18T17:05:50.988Z"
   },
   {
    "duration": 0,
    "start_time": "2023-02-18T17:05:50.990Z"
   },
   {
    "duration": 1107,
    "start_time": "2023-02-18T17:06:20.714Z"
   },
   {
    "duration": 52,
    "start_time": "2023-02-18T17:06:21.824Z"
   },
   {
    "duration": 15,
    "start_time": "2023-02-18T17:06:21.879Z"
   },
   {
    "duration": 13,
    "start_time": "2023-02-18T17:06:21.897Z"
   },
   {
    "duration": 5,
    "start_time": "2023-02-18T17:06:21.912Z"
   },
   {
    "duration": 19,
    "start_time": "2023-02-18T17:06:21.933Z"
   },
   {
    "duration": 6,
    "start_time": "2023-02-18T17:06:21.955Z"
   },
   {
    "duration": 4,
    "start_time": "2023-02-18T17:06:21.963Z"
   },
   {
    "duration": 402,
    "start_time": "2023-02-18T17:06:21.969Z"
   },
   {
    "duration": 232,
    "start_time": "2023-02-18T17:06:22.376Z"
   },
   {
    "duration": 3,
    "start_time": "2023-02-18T17:06:22.610Z"
   },
   {
    "duration": 27,
    "start_time": "2023-02-18T17:06:22.615Z"
   },
   {
    "duration": 18,
    "start_time": "2023-02-18T17:06:22.644Z"
   },
   {
    "duration": 750,
    "start_time": "2023-02-18T17:06:22.664Z"
   },
   {
    "duration": 13,
    "start_time": "2023-02-18T17:06:23.416Z"
   },
   {
    "duration": 152,
    "start_time": "2023-02-18T17:06:23.431Z"
   },
   {
    "duration": 0,
    "start_time": "2023-02-18T17:06:23.585Z"
   },
   {
    "duration": 0,
    "start_time": "2023-02-18T17:06:23.586Z"
   },
   {
    "duration": 0,
    "start_time": "2023-02-18T17:06:23.587Z"
   },
   {
    "duration": 0,
    "start_time": "2023-02-18T17:06:23.589Z"
   },
   {
    "duration": 1,
    "start_time": "2023-02-18T17:06:23.590Z"
   },
   {
    "duration": 1153,
    "start_time": "2023-02-18T17:10:51.480Z"
   },
   {
    "duration": 72,
    "start_time": "2023-02-18T17:10:52.636Z"
   },
   {
    "duration": 10,
    "start_time": "2023-02-18T17:10:52.710Z"
   },
   {
    "duration": 17,
    "start_time": "2023-02-18T17:10:52.722Z"
   },
   {
    "duration": 6,
    "start_time": "2023-02-18T17:10:52.740Z"
   },
   {
    "duration": 16,
    "start_time": "2023-02-18T17:10:52.747Z"
   },
   {
    "duration": 9,
    "start_time": "2023-02-18T17:10:52.766Z"
   },
   {
    "duration": 3,
    "start_time": "2023-02-18T17:10:52.777Z"
   },
   {
    "duration": 373,
    "start_time": "2023-02-18T17:10:52.782Z"
   },
   {
    "duration": 215,
    "start_time": "2023-02-18T17:10:53.158Z"
   },
   {
    "duration": 2,
    "start_time": "2023-02-18T17:10:53.375Z"
   },
   {
    "duration": 8,
    "start_time": "2023-02-18T17:10:53.379Z"
   },
   {
    "duration": 11,
    "start_time": "2023-02-18T17:10:53.389Z"
   },
   {
    "duration": 9,
    "start_time": "2023-02-18T17:10:53.402Z"
   },
   {
    "duration": 15,
    "start_time": "2023-02-18T17:10:53.413Z"
   },
   {
    "duration": 14,
    "start_time": "2023-02-18T17:10:53.430Z"
   },
   {
    "duration": 122,
    "start_time": "2023-02-18T17:10:53.446Z"
   },
   {
    "duration": 0,
    "start_time": "2023-02-18T17:10:53.570Z"
   },
   {
    "duration": 0,
    "start_time": "2023-02-18T17:10:53.571Z"
   },
   {
    "duration": 0,
    "start_time": "2023-02-18T17:10:53.573Z"
   },
   {
    "duration": 0,
    "start_time": "2023-02-18T17:10:53.574Z"
   },
   {
    "duration": 0,
    "start_time": "2023-02-18T17:10:53.576Z"
   },
   {
    "duration": 0,
    "start_time": "2023-02-18T17:10:53.577Z"
   },
   {
    "duration": 133,
    "start_time": "2023-02-18T17:11:43.428Z"
   },
   {
    "duration": 14,
    "start_time": "2023-02-18T17:12:00.107Z"
   },
   {
    "duration": 1121,
    "start_time": "2023-02-18T17:12:13.202Z"
   },
   {
    "duration": 49,
    "start_time": "2023-02-18T17:12:14.326Z"
   },
   {
    "duration": 9,
    "start_time": "2023-02-18T17:12:14.377Z"
   },
   {
    "duration": 11,
    "start_time": "2023-02-18T17:12:14.388Z"
   },
   {
    "duration": 9,
    "start_time": "2023-02-18T17:12:14.401Z"
   },
   {
    "duration": 28,
    "start_time": "2023-02-18T17:12:14.411Z"
   },
   {
    "duration": 7,
    "start_time": "2023-02-18T17:12:14.441Z"
   },
   {
    "duration": 9,
    "start_time": "2023-02-18T17:12:14.449Z"
   },
   {
    "duration": 355,
    "start_time": "2023-02-18T17:12:14.460Z"
   },
   {
    "duration": 220,
    "start_time": "2023-02-18T17:12:14.818Z"
   },
   {
    "duration": 3,
    "start_time": "2023-02-18T17:12:15.040Z"
   },
   {
    "duration": 24,
    "start_time": "2023-02-18T17:12:15.045Z"
   },
   {
    "duration": 13,
    "start_time": "2023-02-18T17:12:15.071Z"
   },
   {
    "duration": 662,
    "start_time": "2023-02-18T17:12:15.086Z"
   },
   {
    "duration": 9,
    "start_time": "2023-02-18T17:12:15.750Z"
   },
   {
    "duration": 123,
    "start_time": "2023-02-18T17:12:15.761Z"
   },
   {
    "duration": 0,
    "start_time": "2023-02-18T17:12:15.886Z"
   },
   {
    "duration": 0,
    "start_time": "2023-02-18T17:12:15.888Z"
   },
   {
    "duration": 0,
    "start_time": "2023-02-18T17:12:15.889Z"
   },
   {
    "duration": 0,
    "start_time": "2023-02-18T17:12:15.891Z"
   },
   {
    "duration": 0,
    "start_time": "2023-02-18T17:12:15.893Z"
   },
   {
    "duration": 9,
    "start_time": "2023-02-18T17:14:21.587Z"
   },
   {
    "duration": 238,
    "start_time": "2023-02-18T17:15:10.934Z"
   },
   {
    "duration": 733,
    "start_time": "2023-02-18T17:15:47.659Z"
   },
   {
    "duration": 22,
    "start_time": "2023-02-18T17:16:21.333Z"
   },
   {
    "duration": 20,
    "start_time": "2023-02-18T17:17:04.065Z"
   },
   {
    "duration": 18,
    "start_time": "2023-02-18T17:18:23.694Z"
   },
   {
    "duration": 10,
    "start_time": "2023-02-18T17:18:29.542Z"
   },
   {
    "duration": 13,
    "start_time": "2023-02-18T17:18:37.106Z"
   },
   {
    "duration": 13,
    "start_time": "2023-02-18T17:18:41.640Z"
   },
   {
    "duration": 1346,
    "start_time": "2023-02-18T17:19:12.633Z"
   },
   {
    "duration": 54,
    "start_time": "2023-02-18T17:19:13.981Z"
   },
   {
    "duration": 11,
    "start_time": "2023-02-18T17:19:14.036Z"
   },
   {
    "duration": 13,
    "start_time": "2023-02-18T17:19:14.049Z"
   },
   {
    "duration": 17,
    "start_time": "2023-02-18T17:19:14.064Z"
   },
   {
    "duration": 16,
    "start_time": "2023-02-18T17:19:14.083Z"
   },
   {
    "duration": 26,
    "start_time": "2023-02-18T17:19:14.101Z"
   },
   {
    "duration": 4,
    "start_time": "2023-02-18T17:19:14.128Z"
   },
   {
    "duration": 385,
    "start_time": "2023-02-18T17:19:14.134Z"
   },
   {
    "duration": 242,
    "start_time": "2023-02-18T17:19:14.523Z"
   },
   {
    "duration": 3,
    "start_time": "2023-02-18T17:19:14.767Z"
   },
   {
    "duration": 13,
    "start_time": "2023-02-18T17:19:14.771Z"
   },
   {
    "duration": 10,
    "start_time": "2023-02-18T17:19:14.786Z"
   },
   {
    "duration": 662,
    "start_time": "2023-02-18T17:19:14.797Z"
   },
   {
    "duration": 9,
    "start_time": "2023-02-18T17:19:15.461Z"
   },
   {
    "duration": 119,
    "start_time": "2023-02-18T17:19:15.472Z"
   },
   {
    "duration": 0,
    "start_time": "2023-02-18T17:19:15.593Z"
   },
   {
    "duration": 0,
    "start_time": "2023-02-18T17:19:15.594Z"
   },
   {
    "duration": 0,
    "start_time": "2023-02-18T17:19:15.595Z"
   },
   {
    "duration": 0,
    "start_time": "2023-02-18T17:19:15.596Z"
   },
   {
    "duration": 0,
    "start_time": "2023-02-18T17:19:15.597Z"
   },
   {
    "duration": 0,
    "start_time": "2023-02-18T17:19:15.598Z"
   },
   {
    "duration": 12,
    "start_time": "2023-02-18T17:20:10.980Z"
   },
   {
    "duration": 13,
    "start_time": "2023-02-18T17:20:15.451Z"
   },
   {
    "duration": 1120,
    "start_time": "2023-02-18T17:20:22.199Z"
   },
   {
    "duration": 63,
    "start_time": "2023-02-18T17:20:23.321Z"
   },
   {
    "duration": 11,
    "start_time": "2023-02-18T17:20:23.386Z"
   },
   {
    "duration": 14,
    "start_time": "2023-02-18T17:20:23.400Z"
   },
   {
    "duration": 15,
    "start_time": "2023-02-18T17:20:23.416Z"
   },
   {
    "duration": 14,
    "start_time": "2023-02-18T17:20:23.433Z"
   },
   {
    "duration": 10,
    "start_time": "2023-02-18T17:20:23.448Z"
   },
   {
    "duration": 4,
    "start_time": "2023-02-18T17:20:23.460Z"
   },
   {
    "duration": 349,
    "start_time": "2023-02-18T17:20:23.466Z"
   },
   {
    "duration": 213,
    "start_time": "2023-02-18T17:20:23.819Z"
   },
   {
    "duration": 3,
    "start_time": "2023-02-18T17:20:24.034Z"
   },
   {
    "duration": 17,
    "start_time": "2023-02-18T17:20:24.039Z"
   },
   {
    "duration": 9,
    "start_time": "2023-02-18T17:20:24.058Z"
   },
   {
    "duration": 634,
    "start_time": "2023-02-18T17:20:24.069Z"
   },
   {
    "duration": 10,
    "start_time": "2023-02-18T17:20:24.704Z"
   },
   {
    "duration": 117,
    "start_time": "2023-02-18T17:20:24.728Z"
   },
   {
    "duration": 0,
    "start_time": "2023-02-18T17:20:24.847Z"
   },
   {
    "duration": 0,
    "start_time": "2023-02-18T17:20:24.848Z"
   },
   {
    "duration": 0,
    "start_time": "2023-02-18T17:20:24.850Z"
   },
   {
    "duration": 0,
    "start_time": "2023-02-18T17:20:24.851Z"
   },
   {
    "duration": 0,
    "start_time": "2023-02-18T17:20:24.853Z"
   },
   {
    "duration": 0,
    "start_time": "2023-02-18T17:20:24.854Z"
   },
   {
    "duration": 54,
    "start_time": "2023-02-18T18:59:51.887Z"
   },
   {
    "duration": 1457,
    "start_time": "2023-02-18T19:00:02.406Z"
   },
   {
    "duration": 142,
    "start_time": "2023-02-18T19:00:03.865Z"
   },
   {
    "duration": 12,
    "start_time": "2023-02-18T19:00:04.009Z"
   },
   {
    "duration": 58,
    "start_time": "2023-02-18T19:00:04.024Z"
   },
   {
    "duration": 7,
    "start_time": "2023-02-18T19:00:04.084Z"
   },
   {
    "duration": 27,
    "start_time": "2023-02-18T19:00:04.093Z"
   },
   {
    "duration": 11,
    "start_time": "2023-02-18T19:00:04.122Z"
   },
   {
    "duration": 9,
    "start_time": "2023-02-18T19:00:04.135Z"
   },
   {
    "duration": 358,
    "start_time": "2023-02-18T19:00:04.146Z"
   },
   {
    "duration": 278,
    "start_time": "2023-02-18T19:00:04.506Z"
   },
   {
    "duration": 3,
    "start_time": "2023-02-18T19:00:04.787Z"
   },
   {
    "duration": 31,
    "start_time": "2023-02-18T19:00:04.792Z"
   },
   {
    "duration": 14,
    "start_time": "2023-02-18T19:00:04.825Z"
   },
   {
    "duration": 687,
    "start_time": "2023-02-18T19:00:04.841Z"
   },
   {
    "duration": 14,
    "start_time": "2023-02-18T19:00:05.530Z"
   },
   {
    "duration": 270,
    "start_time": "2023-02-18T19:00:05.546Z"
   },
   {
    "duration": 129,
    "start_time": "2023-02-18T19:00:05.817Z"
   },
   {
    "duration": 0,
    "start_time": "2023-02-18T19:00:05.948Z"
   },
   {
    "duration": 0,
    "start_time": "2023-02-18T19:00:05.949Z"
   },
   {
    "duration": 0,
    "start_time": "2023-02-18T19:00:05.950Z"
   },
   {
    "duration": 0,
    "start_time": "2023-02-18T19:00:05.952Z"
   },
   {
    "duration": 0,
    "start_time": "2023-02-18T19:00:05.953Z"
   },
   {
    "duration": 0,
    "start_time": "2023-02-18T19:00:05.955Z"
   },
   {
    "duration": 224,
    "start_time": "2023-02-18T19:00:44.750Z"
   },
   {
    "duration": 242,
    "start_time": "2023-02-18T19:01:06.798Z"
   },
   {
    "duration": 293,
    "start_time": "2023-02-18T19:01:57.167Z"
   },
   {
    "duration": 11,
    "start_time": "2023-02-18T19:02:47.268Z"
   },
   {
    "duration": 353,
    "start_time": "2023-02-18T19:02:52.676Z"
   },
   {
    "duration": 235,
    "start_time": "2023-02-18T19:03:42.609Z"
   },
   {
    "duration": 10,
    "start_time": "2023-02-18T19:04:46.046Z"
   },
   {
    "duration": 3,
    "start_time": "2023-02-18T19:04:49.500Z"
   },
   {
    "duration": 10,
    "start_time": "2023-02-18T19:04:51.233Z"
   },
   {
    "duration": 209,
    "start_time": "2023-02-18T19:05:22.658Z"
   },
   {
    "duration": 1078,
    "start_time": "2023-02-18T19:05:35.252Z"
   },
   {
    "duration": 63,
    "start_time": "2023-02-18T19:05:36.333Z"
   },
   {
    "duration": 13,
    "start_time": "2023-02-18T19:05:36.398Z"
   },
   {
    "duration": 15,
    "start_time": "2023-02-18T19:05:36.414Z"
   },
   {
    "duration": 10,
    "start_time": "2023-02-18T19:05:36.431Z"
   },
   {
    "duration": 32,
    "start_time": "2023-02-18T19:05:36.443Z"
   },
   {
    "duration": 9,
    "start_time": "2023-02-18T19:05:36.477Z"
   },
   {
    "duration": 4,
    "start_time": "2023-02-18T19:05:36.488Z"
   },
   {
    "duration": 362,
    "start_time": "2023-02-18T19:05:36.494Z"
   },
   {
    "duration": 216,
    "start_time": "2023-02-18T19:05:36.859Z"
   },
   {
    "duration": 3,
    "start_time": "2023-02-18T19:05:37.076Z"
   },
   {
    "duration": 15,
    "start_time": "2023-02-18T19:05:37.080Z"
   },
   {
    "duration": 12,
    "start_time": "2023-02-18T19:05:37.096Z"
   },
   {
    "duration": 11,
    "start_time": "2023-02-18T19:05:37.109Z"
   },
   {
    "duration": 630,
    "start_time": "2023-02-18T19:05:37.137Z"
   },
   {
    "duration": 8,
    "start_time": "2023-02-18T19:05:37.769Z"
   },
   {
    "duration": 241,
    "start_time": "2023-02-18T19:05:37.779Z"
   },
   {
    "duration": 144,
    "start_time": "2023-02-18T19:05:38.021Z"
   },
   {
    "duration": 0,
    "start_time": "2023-02-18T19:05:38.167Z"
   },
   {
    "duration": 0,
    "start_time": "2023-02-18T19:05:38.168Z"
   },
   {
    "duration": 0,
    "start_time": "2023-02-18T19:05:38.169Z"
   },
   {
    "duration": 0,
    "start_time": "2023-02-18T19:05:38.169Z"
   },
   {
    "duration": 0,
    "start_time": "2023-02-18T19:05:38.170Z"
   },
   {
    "duration": 0,
    "start_time": "2023-02-18T19:05:38.172Z"
   },
   {
    "duration": 11,
    "start_time": "2023-02-18T19:05:58.511Z"
   },
   {
    "duration": 1095,
    "start_time": "2023-02-18T19:06:03.539Z"
   },
   {
    "duration": 56,
    "start_time": "2023-02-18T19:06:04.638Z"
   },
   {
    "duration": 10,
    "start_time": "2023-02-18T19:06:04.695Z"
   },
   {
    "duration": 12,
    "start_time": "2023-02-18T19:06:04.707Z"
   },
   {
    "duration": 6,
    "start_time": "2023-02-18T19:06:04.720Z"
   },
   {
    "duration": 17,
    "start_time": "2023-02-18T19:06:04.728Z"
   },
   {
    "duration": 8,
    "start_time": "2023-02-18T19:06:04.747Z"
   },
   {
    "duration": 4,
    "start_time": "2023-02-18T19:06:04.756Z"
   },
   {
    "duration": 341,
    "start_time": "2023-02-18T19:06:04.762Z"
   },
   {
    "duration": 217,
    "start_time": "2023-02-18T19:06:05.106Z"
   },
   {
    "duration": 3,
    "start_time": "2023-02-18T19:06:05.325Z"
   },
   {
    "duration": 23,
    "start_time": "2023-02-18T19:06:05.330Z"
   },
   {
    "duration": 12,
    "start_time": "2023-02-18T19:06:05.355Z"
   },
   {
    "duration": 13,
    "start_time": "2023-02-18T19:06:05.369Z"
   },
   {
    "duration": 645,
    "start_time": "2023-02-18T19:06:05.383Z"
   },
   {
    "duration": 16,
    "start_time": "2023-02-18T19:06:06.030Z"
   },
   {
    "duration": 235,
    "start_time": "2023-02-18T19:06:06.047Z"
   },
   {
    "duration": 126,
    "start_time": "2023-02-18T19:06:06.284Z"
   },
   {
    "duration": 0,
    "start_time": "2023-02-18T19:06:06.411Z"
   },
   {
    "duration": 0,
    "start_time": "2023-02-18T19:06:06.412Z"
   },
   {
    "duration": 0,
    "start_time": "2023-02-18T19:06:06.413Z"
   },
   {
    "duration": 0,
    "start_time": "2023-02-18T19:06:06.415Z"
   },
   {
    "duration": 0,
    "start_time": "2023-02-18T19:06:06.416Z"
   },
   {
    "duration": 0,
    "start_time": "2023-02-18T19:06:06.417Z"
   },
   {
    "duration": 3,
    "start_time": "2023-02-18T19:06:54.251Z"
   },
   {
    "duration": 13,
    "start_time": "2023-02-18T19:06:55.709Z"
   },
   {
    "duration": 298,
    "start_time": "2023-02-18T19:07:12.301Z"
   },
   {
    "duration": 210,
    "start_time": "2023-02-18T19:09:36.631Z"
   },
   {
    "duration": 9,
    "start_time": "2023-02-18T19:09:49.449Z"
   },
   {
    "duration": 310,
    "start_time": "2023-02-18T19:09:53.832Z"
   },
   {
    "duration": 398,
    "start_time": "2023-02-18T19:10:26.274Z"
   },
   {
    "duration": 399,
    "start_time": "2023-02-18T19:10:44.710Z"
   },
   {
    "duration": 13,
    "start_time": "2023-02-18T19:11:24.881Z"
   },
   {
    "duration": 3,
    "start_time": "2023-02-18T19:11:41.723Z"
   },
   {
    "duration": 13,
    "start_time": "2023-02-18T19:11:44.711Z"
   },
   {
    "duration": 13,
    "start_time": "2023-02-18T19:11:46.536Z"
   },
   {
    "duration": 422,
    "start_time": "2023-02-18T19:11:52.186Z"
   },
   {
    "duration": 461,
    "start_time": "2023-02-18T19:13:35.870Z"
   },
   {
    "duration": 1034,
    "start_time": "2023-02-18T19:23:04.896Z"
   },
   {
    "duration": 56,
    "start_time": "2023-02-18T19:23:05.932Z"
   },
   {
    "duration": 10,
    "start_time": "2023-02-18T19:23:05.990Z"
   },
   {
    "duration": 13,
    "start_time": "2023-02-18T19:23:06.002Z"
   },
   {
    "duration": 6,
    "start_time": "2023-02-18T19:23:06.016Z"
   },
   {
    "duration": 17,
    "start_time": "2023-02-18T19:23:06.023Z"
   },
   {
    "duration": 8,
    "start_time": "2023-02-18T19:23:06.041Z"
   },
   {
    "duration": 5,
    "start_time": "2023-02-18T19:23:06.051Z"
   },
   {
    "duration": 362,
    "start_time": "2023-02-18T19:23:06.058Z"
   },
   {
    "duration": 230,
    "start_time": "2023-02-18T19:23:06.423Z"
   },
   {
    "duration": 9,
    "start_time": "2023-02-18T19:23:06.655Z"
   },
   {
    "duration": 4,
    "start_time": "2023-02-18T19:23:06.665Z"
   },
   {
    "duration": 10,
    "start_time": "2023-02-18T19:23:06.671Z"
   },
   {
    "duration": 628,
    "start_time": "2023-02-18T19:23:06.682Z"
   },
   {
    "duration": 9,
    "start_time": "2023-02-18T19:23:07.312Z"
   },
   {
    "duration": 401,
    "start_time": "2023-02-18T19:23:07.338Z"
   },
   {
    "duration": 117,
    "start_time": "2023-02-18T19:23:07.740Z"
   },
   {
    "duration": 0,
    "start_time": "2023-02-18T19:23:07.859Z"
   },
   {
    "duration": 0,
    "start_time": "2023-02-18T19:23:07.860Z"
   },
   {
    "duration": 0,
    "start_time": "2023-02-18T19:23:07.861Z"
   },
   {
    "duration": 0,
    "start_time": "2023-02-18T19:23:07.862Z"
   },
   {
    "duration": 0,
    "start_time": "2023-02-18T19:23:07.863Z"
   },
   {
    "duration": 0,
    "start_time": "2023-02-18T19:23:07.864Z"
   },
   {
    "duration": 1227,
    "start_time": "2023-02-18T19:27:30.338Z"
   },
   {
    "duration": 60,
    "start_time": "2023-02-18T19:27:31.567Z"
   },
   {
    "duration": 12,
    "start_time": "2023-02-18T19:27:31.628Z"
   },
   {
    "duration": 39,
    "start_time": "2023-02-18T19:27:31.642Z"
   },
   {
    "duration": 13,
    "start_time": "2023-02-18T19:27:31.683Z"
   },
   {
    "duration": 32,
    "start_time": "2023-02-18T19:27:31.698Z"
   },
   {
    "duration": 21,
    "start_time": "2023-02-18T19:27:31.732Z"
   },
   {
    "duration": 13,
    "start_time": "2023-02-18T19:27:31.756Z"
   },
   {
    "duration": 373,
    "start_time": "2023-02-18T19:27:31.771Z"
   },
   {
    "duration": 246,
    "start_time": "2023-02-18T19:27:32.146Z"
   },
   {
    "duration": 12,
    "start_time": "2023-02-18T19:27:32.394Z"
   },
   {
    "duration": 26,
    "start_time": "2023-02-18T19:27:32.408Z"
   },
   {
    "duration": 31,
    "start_time": "2023-02-18T19:27:32.436Z"
   },
   {
    "duration": 685,
    "start_time": "2023-02-18T19:27:32.470Z"
   },
   {
    "duration": 9,
    "start_time": "2023-02-18T19:27:33.157Z"
   },
   {
    "duration": 396,
    "start_time": "2023-02-18T19:27:33.168Z"
   },
   {
    "duration": 128,
    "start_time": "2023-02-18T19:27:33.565Z"
   },
   {
    "duration": 0,
    "start_time": "2023-02-18T19:27:33.695Z"
   },
   {
    "duration": 0,
    "start_time": "2023-02-18T19:27:33.696Z"
   },
   {
    "duration": 0,
    "start_time": "2023-02-18T19:27:33.697Z"
   },
   {
    "duration": 0,
    "start_time": "2023-02-18T19:27:33.699Z"
   },
   {
    "duration": 0,
    "start_time": "2023-02-18T19:27:33.700Z"
   },
   {
    "duration": 0,
    "start_time": "2023-02-18T19:27:33.701Z"
   },
   {
    "duration": 1182,
    "start_time": "2023-02-18T19:29:29.373Z"
   },
   {
    "duration": 59,
    "start_time": "2023-02-18T19:29:30.557Z"
   },
   {
    "duration": 10,
    "start_time": "2023-02-18T19:29:30.617Z"
   },
   {
    "duration": 37,
    "start_time": "2023-02-18T19:29:30.629Z"
   },
   {
    "duration": 32,
    "start_time": "2023-02-18T19:29:30.668Z"
   },
   {
    "duration": 49,
    "start_time": "2023-02-18T19:29:30.702Z"
   },
   {
    "duration": 15,
    "start_time": "2023-02-18T19:29:30.753Z"
   },
   {
    "duration": 46,
    "start_time": "2023-02-18T19:29:30.770Z"
   },
   {
    "duration": 366,
    "start_time": "2023-02-18T19:29:30.818Z"
   },
   {
    "duration": 232,
    "start_time": "2023-02-18T19:29:31.187Z"
   },
   {
    "duration": 18,
    "start_time": "2023-02-18T19:29:31.421Z"
   },
   {
    "duration": 37,
    "start_time": "2023-02-18T19:29:31.441Z"
   },
   {
    "duration": 41,
    "start_time": "2023-02-18T19:29:31.481Z"
   },
   {
    "duration": 671,
    "start_time": "2023-02-18T19:29:31.524Z"
   },
   {
    "duration": 10,
    "start_time": "2023-02-18T19:29:32.197Z"
   },
   {
    "duration": 518,
    "start_time": "2023-02-18T19:29:32.208Z"
   },
   {
    "duration": 121,
    "start_time": "2023-02-18T19:29:32.727Z"
   },
   {
    "duration": 0,
    "start_time": "2023-02-18T19:29:32.850Z"
   },
   {
    "duration": 0,
    "start_time": "2023-02-18T19:29:32.852Z"
   },
   {
    "duration": 0,
    "start_time": "2023-02-18T19:29:32.854Z"
   },
   {
    "duration": 0,
    "start_time": "2023-02-18T19:29:32.855Z"
   },
   {
    "duration": 0,
    "start_time": "2023-02-18T19:29:32.857Z"
   },
   {
    "duration": 0,
    "start_time": "2023-02-18T19:29:32.858Z"
   },
   {
    "duration": 1279,
    "start_time": "2023-02-18T19:34:32.118Z"
   },
   {
    "duration": 62,
    "start_time": "2023-02-18T19:34:33.401Z"
   },
   {
    "duration": 14,
    "start_time": "2023-02-18T19:34:33.465Z"
   },
   {
    "duration": 31,
    "start_time": "2023-02-18T19:34:33.481Z"
   },
   {
    "duration": 31,
    "start_time": "2023-02-18T19:34:33.514Z"
   },
   {
    "duration": 48,
    "start_time": "2023-02-18T19:34:33.549Z"
   },
   {
    "duration": 17,
    "start_time": "2023-02-18T19:34:33.599Z"
   },
   {
    "duration": 9,
    "start_time": "2023-02-18T19:34:33.618Z"
   },
   {
    "duration": 371,
    "start_time": "2023-02-18T19:34:33.629Z"
   },
   {
    "duration": 250,
    "start_time": "2023-02-18T19:34:34.003Z"
   },
   {
    "duration": 11,
    "start_time": "2023-02-18T19:34:34.254Z"
   },
   {
    "duration": 17,
    "start_time": "2023-02-18T19:34:34.267Z"
   },
   {
    "duration": 20,
    "start_time": "2023-02-18T19:34:34.286Z"
   },
   {
    "duration": 709,
    "start_time": "2023-02-18T19:34:34.308Z"
   },
   {
    "duration": 20,
    "start_time": "2023-02-18T19:34:35.018Z"
   },
   {
    "duration": 613,
    "start_time": "2023-02-18T19:34:35.040Z"
   },
   {
    "duration": 115,
    "start_time": "2023-02-18T19:34:35.655Z"
   },
   {
    "duration": 0,
    "start_time": "2023-02-18T19:34:35.772Z"
   },
   {
    "duration": 1,
    "start_time": "2023-02-18T19:34:35.773Z"
   },
   {
    "duration": 0,
    "start_time": "2023-02-18T19:34:35.775Z"
   },
   {
    "duration": 0,
    "start_time": "2023-02-18T19:34:35.776Z"
   },
   {
    "duration": 0,
    "start_time": "2023-02-18T19:34:35.778Z"
   },
   {
    "duration": 0,
    "start_time": "2023-02-18T19:34:35.780Z"
   },
   {
    "duration": 850,
    "start_time": "2023-02-18T19:35:08.929Z"
   },
   {
    "duration": 820,
    "start_time": "2023-02-18T19:35:33.886Z"
   },
   {
    "duration": 799,
    "start_time": "2023-02-18T19:36:17.683Z"
   },
   {
    "duration": 756,
    "start_time": "2023-02-18T19:37:50.131Z"
   },
   {
    "duration": 798,
    "start_time": "2023-02-18T19:41:05.587Z"
   },
   {
    "duration": 789,
    "start_time": "2023-02-18T19:52:53.069Z"
   },
   {
    "duration": 930,
    "start_time": "2023-02-18T19:57:21.673Z"
   },
   {
    "duration": 7,
    "start_time": "2023-02-18T20:03:38.747Z"
   },
   {
    "duration": 692,
    "start_time": "2023-02-18T20:05:51.275Z"
   },
   {
    "duration": 806,
    "start_time": "2023-02-18T20:06:06.427Z"
   },
   {
    "duration": 744,
    "start_time": "2023-02-18T20:06:18.387Z"
   },
   {
    "duration": 200,
    "start_time": "2023-02-18T20:27:41.980Z"
   },
   {
    "duration": 186,
    "start_time": "2023-02-18T20:27:56.133Z"
   },
   {
    "duration": 4,
    "start_time": "2023-02-18T21:05:07.806Z"
   },
   {
    "duration": 267,
    "start_time": "2023-02-18T21:07:23.581Z"
   },
   {
    "duration": 4,
    "start_time": "2023-02-18T21:09:59.648Z"
   },
   {
    "duration": 1452,
    "start_time": "2023-02-18T21:10:14.617Z"
   },
   {
    "duration": 58,
    "start_time": "2023-02-18T21:10:16.071Z"
   },
   {
    "duration": 11,
    "start_time": "2023-02-18T21:10:16.130Z"
   },
   {
    "duration": 17,
    "start_time": "2023-02-18T21:10:16.143Z"
   },
   {
    "duration": 11,
    "start_time": "2023-02-18T21:10:16.161Z"
   },
   {
    "duration": 18,
    "start_time": "2023-02-18T21:10:16.174Z"
   },
   {
    "duration": 10,
    "start_time": "2023-02-18T21:10:16.193Z"
   },
   {
    "duration": 6,
    "start_time": "2023-02-18T21:10:16.204Z"
   },
   {
    "duration": 26,
    "start_time": "2023-02-18T21:10:16.212Z"
   },
   {
    "duration": 6,
    "start_time": "2023-02-18T21:10:16.240Z"
   },
   {
    "duration": 661,
    "start_time": "2023-02-18T21:10:16.247Z"
   },
   {
    "duration": 782,
    "start_time": "2023-02-18T21:10:16.909Z"
   },
   {
    "duration": 8,
    "start_time": "2023-02-18T21:10:17.692Z"
   },
   {
    "duration": 893,
    "start_time": "2023-02-18T21:10:17.702Z"
   },
   {
    "duration": 183,
    "start_time": "2023-02-18T21:10:18.596Z"
   },
   {
    "duration": 4,
    "start_time": "2023-02-18T21:10:18.781Z"
   },
   {
    "duration": 4,
    "start_time": "2023-02-18T21:10:53.287Z"
   },
   {
    "duration": 3,
    "start_time": "2023-02-18T21:18:33.843Z"
   },
   {
    "duration": 1203,
    "start_time": "2023-02-18T21:27:58.750Z"
   },
   {
    "duration": 4,
    "start_time": "2023-02-18T21:28:56.360Z"
   },
   {
    "duration": 14,
    "start_time": "2023-02-18T21:28:58.651Z"
   },
   {
    "duration": 26,
    "start_time": "2023-02-18T21:29:41.366Z"
   },
   {
    "duration": 6,
    "start_time": "2023-02-18T21:35:49.306Z"
   },
   {
    "duration": 5,
    "start_time": "2023-02-18T21:36:53.398Z"
   },
   {
    "duration": 4,
    "start_time": "2023-02-18T21:44:15.674Z"
   },
   {
    "duration": 92,
    "start_time": "2023-02-18T21:51:54.238Z"
   },
   {
    "duration": 3,
    "start_time": "2023-02-18T21:51:58.908Z"
   },
   {
    "duration": 3,
    "start_time": "2023-02-18T21:58:56.535Z"
   },
   {
    "duration": 133,
    "start_time": "2023-02-18T22:00:26.496Z"
   },
   {
    "duration": 20,
    "start_time": "2023-02-18T22:18:18.704Z"
   },
   {
    "duration": 630,
    "start_time": "2023-02-18T22:18:27.220Z"
   },
   {
    "duration": 605,
    "start_time": "2023-02-18T22:18:43.642Z"
   },
   {
    "duration": 1625,
    "start_time": "2023-02-19T12:21:25.125Z"
   },
   {
    "duration": 133,
    "start_time": "2023-02-19T12:21:26.752Z"
   },
   {
    "duration": 11,
    "start_time": "2023-02-19T12:21:26.887Z"
   },
   {
    "duration": 12,
    "start_time": "2023-02-19T12:21:26.900Z"
   },
   {
    "duration": 6,
    "start_time": "2023-02-19T12:21:26.913Z"
   },
   {
    "duration": 22,
    "start_time": "2023-02-19T12:21:26.920Z"
   },
   {
    "duration": 7,
    "start_time": "2023-02-19T12:21:26.943Z"
   },
   {
    "duration": 4,
    "start_time": "2023-02-19T12:21:26.951Z"
   },
   {
    "duration": 12,
    "start_time": "2023-02-19T12:21:26.957Z"
   },
   {
    "duration": 7,
    "start_time": "2023-02-19T12:21:26.973Z"
   },
   {
    "duration": 749,
    "start_time": "2023-02-19T12:21:26.982Z"
   },
   {
    "duration": 836,
    "start_time": "2023-02-19T12:21:27.734Z"
   },
   {
    "duration": 7,
    "start_time": "2023-02-19T12:21:28.571Z"
   },
   {
    "duration": 810,
    "start_time": "2023-02-19T12:21:28.580Z"
   },
   {
    "duration": 188,
    "start_time": "2023-02-19T12:21:29.392Z"
   },
   {
    "duration": 6,
    "start_time": "2023-02-19T12:21:29.582Z"
   },
   {
    "duration": 1294,
    "start_time": "2023-02-19T12:21:29.590Z"
   },
   {
    "duration": 0,
    "start_time": "2023-02-19T12:21:30.886Z"
   },
   {
    "duration": 0,
    "start_time": "2023-02-19T12:21:30.886Z"
   },
   {
    "duration": 0,
    "start_time": "2023-02-19T12:21:30.888Z"
   },
   {
    "duration": 0,
    "start_time": "2023-02-19T12:21:30.889Z"
   },
   {
    "duration": 0,
    "start_time": "2023-02-19T12:21:30.890Z"
   },
   {
    "duration": 0,
    "start_time": "2023-02-19T12:21:30.891Z"
   },
   {
    "duration": 8,
    "start_time": "2023-02-19T12:22:25.216Z"
   },
   {
    "duration": 37,
    "start_time": "2023-02-19T12:22:27.610Z"
   },
   {
    "duration": 4,
    "start_time": "2023-02-19T12:22:40.130Z"
   },
   {
    "duration": 5,
    "start_time": "2023-02-19T12:22:45.370Z"
   },
   {
    "duration": 5,
    "start_time": "2023-02-19T12:22:52.126Z"
   },
   {
    "duration": 3,
    "start_time": "2023-02-19T12:22:59.069Z"
   },
   {
    "duration": 3,
    "start_time": "2023-02-19T12:23:01.007Z"
   },
   {
    "duration": 5533,
    "start_time": "2023-02-19T12:23:03.011Z"
   },
   {
    "duration": 30,
    "start_time": "2023-02-19T12:23:27.110Z"
   },
   {
    "duration": 1586,
    "start_time": "2023-02-19T12:23:52.212Z"
   },
   {
    "duration": 58,
    "start_time": "2023-02-19T12:23:53.800Z"
   },
   {
    "duration": 10,
    "start_time": "2023-02-19T12:23:53.860Z"
   },
   {
    "duration": 15,
    "start_time": "2023-02-19T12:23:53.873Z"
   },
   {
    "duration": 6,
    "start_time": "2023-02-19T12:23:53.889Z"
   },
   {
    "duration": 23,
    "start_time": "2023-02-19T12:23:53.897Z"
   },
   {
    "duration": 25,
    "start_time": "2023-02-19T12:23:53.922Z"
   },
   {
    "duration": 4,
    "start_time": "2023-02-19T12:23:53.950Z"
   },
   {
    "duration": 21,
    "start_time": "2023-02-19T12:23:53.956Z"
   },
   {
    "duration": 12,
    "start_time": "2023-02-19T12:23:53.981Z"
   },
   {
    "duration": 702,
    "start_time": "2023-02-19T12:23:53.994Z"
   },
   {
    "duration": 914,
    "start_time": "2023-02-19T12:23:54.697Z"
   },
   {
    "duration": 11,
    "start_time": "2023-02-19T12:23:55.613Z"
   },
   {
    "duration": 840,
    "start_time": "2023-02-19T12:23:55.638Z"
   },
   {
    "duration": 203,
    "start_time": "2023-02-19T12:23:56.480Z"
   },
   {
    "duration": 6,
    "start_time": "2023-02-19T12:23:56.685Z"
   },
   {
    "duration": 34,
    "start_time": "2023-02-19T12:23:56.693Z"
   },
   {
    "duration": 5,
    "start_time": "2023-02-19T12:23:56.738Z"
   },
   {
    "duration": 14,
    "start_time": "2023-02-19T12:23:56.746Z"
   },
   {
    "duration": 10,
    "start_time": "2023-02-19T12:23:56.762Z"
   },
   {
    "duration": 7,
    "start_time": "2023-02-19T12:23:56.774Z"
   },
   {
    "duration": 6,
    "start_time": "2023-02-19T12:23:56.784Z"
   },
   {
    "duration": 1066,
    "start_time": "2023-02-19T12:23:56.792Z"
   },
   {
    "duration": 104,
    "start_time": "2023-02-19T12:26:05.157Z"
   },
   {
    "duration": 18010,
    "start_time": "2023-02-19T12:38:45.968Z"
   },
   {
    "duration": 43451,
    "start_time": "2023-02-19T12:39:58.948Z"
   },
   {
    "duration": 4144,
    "start_time": "2023-02-19T12:42:42.671Z"
   },
   {
    "duration": 59,
    "start_time": "2023-02-19T12:42:46.817Z"
   },
   {
    "duration": 11,
    "start_time": "2023-02-19T12:42:46.878Z"
   },
   {
    "duration": 19,
    "start_time": "2023-02-19T12:42:46.891Z"
   },
   {
    "duration": 9,
    "start_time": "2023-02-19T12:42:46.913Z"
   },
   {
    "duration": 21,
    "start_time": "2023-02-19T12:42:46.923Z"
   },
   {
    "duration": 14,
    "start_time": "2023-02-19T12:42:46.946Z"
   },
   {
    "duration": 6,
    "start_time": "2023-02-19T12:42:46.962Z"
   },
   {
    "duration": 36,
    "start_time": "2023-02-19T12:42:46.970Z"
   },
   {
    "duration": 11,
    "start_time": "2023-02-19T12:42:47.008Z"
   },
   {
    "duration": 760,
    "start_time": "2023-02-19T12:42:47.020Z"
   },
   {
    "duration": 938,
    "start_time": "2023-02-19T12:42:47.782Z"
   },
   {
    "duration": 16,
    "start_time": "2023-02-19T12:42:48.722Z"
   },
   {
    "duration": 835,
    "start_time": "2023-02-19T12:42:48.742Z"
   },
   {
    "duration": 193,
    "start_time": "2023-02-19T12:42:49.579Z"
   },
   {
    "duration": 7,
    "start_time": "2023-02-19T12:42:49.774Z"
   },
   {
    "duration": 33,
    "start_time": "2023-02-19T12:42:49.783Z"
   },
   {
    "duration": 22,
    "start_time": "2023-02-19T12:42:49.818Z"
   },
   {
    "duration": 13,
    "start_time": "2023-02-19T12:42:49.843Z"
   },
   {
    "duration": 10,
    "start_time": "2023-02-19T12:42:49.858Z"
   },
   {
    "duration": 9,
    "start_time": "2023-02-19T12:42:49.870Z"
   },
   {
    "duration": 9,
    "start_time": "2023-02-19T12:42:49.881Z"
   },
   {
    "duration": 150,
    "start_time": "2023-02-19T12:42:49.892Z"
   },
   {
    "duration": 79117,
    "start_time": "2023-02-19T12:42:50.044Z"
   },
   {
    "duration": 92,
    "start_time": "2023-02-19T12:44:53.417Z"
   },
   {
    "duration": 109,
    "start_time": "2023-02-19T12:44:59.320Z"
   },
   {
    "duration": 4927856,
    "start_time": "2023-02-19T12:47:59.316Z"
   },
   {
    "duration": 1464,
    "start_time": "2023-02-19T18:27:35.487Z"
   },
   {
    "duration": 55,
    "start_time": "2023-02-19T18:27:36.953Z"
   },
   {
    "duration": 10,
    "start_time": "2023-02-19T18:27:37.010Z"
   },
   {
    "duration": 12,
    "start_time": "2023-02-19T18:27:37.022Z"
   },
   {
    "duration": 6,
    "start_time": "2023-02-19T18:27:37.035Z"
   },
   {
    "duration": 19,
    "start_time": "2023-02-19T18:27:37.050Z"
   },
   {
    "duration": 7,
    "start_time": "2023-02-19T18:27:37.070Z"
   },
   {
    "duration": 4,
    "start_time": "2023-02-19T18:27:37.078Z"
   },
   {
    "duration": 11,
    "start_time": "2023-02-19T18:27:37.083Z"
   },
   {
    "duration": 5,
    "start_time": "2023-02-19T18:27:37.097Z"
   },
   {
    "duration": 701,
    "start_time": "2023-02-19T18:27:37.103Z"
   },
   {
    "duration": 849,
    "start_time": "2023-02-19T18:27:37.806Z"
   },
   {
    "duration": 8,
    "start_time": "2023-02-19T18:27:38.656Z"
   },
   {
    "duration": 766,
    "start_time": "2023-02-19T18:27:38.666Z"
   },
   {
    "duration": 168,
    "start_time": "2023-02-19T18:27:39.438Z"
   },
   {
    "duration": 5,
    "start_time": "2023-02-19T18:27:39.608Z"
   },
   {
    "duration": 33,
    "start_time": "2023-02-19T18:27:39.615Z"
   },
   {
    "duration": 5,
    "start_time": "2023-02-19T18:27:39.649Z"
   },
   {
    "duration": 7,
    "start_time": "2023-02-19T18:27:39.656Z"
   },
   {
    "duration": 6,
    "start_time": "2023-02-19T18:27:39.665Z"
   },
   {
    "duration": 4,
    "start_time": "2023-02-19T18:27:39.672Z"
   },
   {
    "duration": 7,
    "start_time": "2023-02-19T18:27:39.677Z"
   },
   {
    "duration": 159,
    "start_time": "2023-02-19T18:27:39.685Z"
   },
   {
    "duration": 148,
    "start_time": "2023-02-19T18:27:39.853Z"
   },
   {
    "duration": 1053,
    "start_time": "2023-02-19T18:27:40.002Z"
   },
   {
    "duration": 6640896,
    "start_time": "2023-02-19T18:27:41.056Z"
   },
   {
    "duration": 10406,
    "start_time": "2023-02-19T20:18:21.954Z"
   },
   {
    "duration": 13,
    "start_time": "2023-02-19T20:18:32.365Z"
   },
   {
    "duration": 1559,
    "start_time": "2023-02-19T22:00:08.736Z"
   },
   {
    "duration": 56,
    "start_time": "2023-02-19T22:00:10.298Z"
   },
   {
    "duration": 11,
    "start_time": "2023-02-19T22:00:10.356Z"
   },
   {
    "duration": 31,
    "start_time": "2023-02-19T22:00:10.369Z"
   },
   {
    "duration": 16,
    "start_time": "2023-02-19T22:00:10.401Z"
   },
   {
    "duration": 18,
    "start_time": "2023-02-19T22:00:10.418Z"
   },
   {
    "duration": 7,
    "start_time": "2023-02-19T22:00:10.438Z"
   },
   {
    "duration": 5,
    "start_time": "2023-02-19T22:00:10.447Z"
   },
   {
    "duration": 19,
    "start_time": "2023-02-19T22:00:10.454Z"
   },
   {
    "duration": 11,
    "start_time": "2023-02-19T22:00:10.476Z"
   },
   {
    "duration": 708,
    "start_time": "2023-02-19T22:00:10.488Z"
   },
   {
    "duration": 909,
    "start_time": "2023-02-19T22:00:11.197Z"
   },
   {
    "duration": 8,
    "start_time": "2023-02-19T22:00:12.108Z"
   },
   {
    "duration": 856,
    "start_time": "2023-02-19T22:00:12.117Z"
   },
   {
    "duration": 186,
    "start_time": "2023-02-19T22:00:12.974Z"
   },
   {
    "duration": 7,
    "start_time": "2023-02-19T22:00:13.162Z"
   },
   {
    "duration": 32,
    "start_time": "2023-02-19T22:00:13.171Z"
   },
   {
    "duration": 7,
    "start_time": "2023-02-19T22:00:13.205Z"
   },
   {
    "duration": 24,
    "start_time": "2023-02-19T22:00:13.214Z"
   },
   {
    "duration": 8,
    "start_time": "2023-02-19T22:00:13.240Z"
   },
   {
    "duration": 11,
    "start_time": "2023-02-19T22:00:13.250Z"
   },
   {
    "duration": 11,
    "start_time": "2023-02-19T22:00:13.263Z"
   },
   {
    "duration": 90,
    "start_time": "2023-02-19T22:00:13.275Z"
   },
   {
    "duration": 226,
    "start_time": "2023-02-19T22:00:13.368Z"
   },
   {
    "duration": 1127,
    "start_time": "2023-02-19T22:00:13.596Z"
   },
   {
    "duration": 5783,
    "start_time": "2023-02-19T22:00:14.725Z"
   },
   {
    "duration": 205431,
    "start_time": "2023-02-19T22:00:20.510Z"
   },
   {
    "duration": 12,
    "start_time": "2023-02-19T22:03:45.943Z"
   },
   {
    "duration": 5103,
    "start_time": "2023-02-19T22:05:12.042Z"
   },
   {
    "duration": 1456,
    "start_time": "2023-02-19T22:05:17.147Z"
   },
   {
    "duration": 1454,
    "start_time": "2023-02-19T22:05:18.605Z"
   },
   {
    "duration": 55,
    "start_time": "2023-02-19T22:05:20.062Z"
   },
   {
    "duration": 9,
    "start_time": "2023-02-19T22:05:20.119Z"
   },
   {
    "duration": 20,
    "start_time": "2023-02-19T22:05:20.130Z"
   },
   {
    "duration": 5,
    "start_time": "2023-02-19T22:05:20.151Z"
   },
   {
    "duration": 21,
    "start_time": "2023-02-19T22:05:20.158Z"
   },
   {
    "duration": 9,
    "start_time": "2023-02-19T22:05:20.180Z"
   },
   {
    "duration": 8,
    "start_time": "2023-02-19T22:05:20.192Z"
   },
   {
    "duration": 23,
    "start_time": "2023-02-19T22:05:20.202Z"
   },
   {
    "duration": 13,
    "start_time": "2023-02-19T22:05:20.227Z"
   },
   {
    "duration": 674,
    "start_time": "2023-02-19T22:05:20.242Z"
   },
   {
    "duration": 867,
    "start_time": "2023-02-19T22:05:20.917Z"
   },
   {
    "duration": 10,
    "start_time": "2023-02-19T22:05:21.786Z"
   },
   {
    "duration": 859,
    "start_time": "2023-02-19T22:05:21.798Z"
   },
   {
    "duration": 183,
    "start_time": "2023-02-19T22:05:22.659Z"
   },
   {
    "duration": 6,
    "start_time": "2023-02-19T22:05:22.843Z"
   },
   {
    "duration": 36,
    "start_time": "2023-02-19T22:05:22.851Z"
   },
   {
    "duration": 5,
    "start_time": "2023-02-19T22:05:22.888Z"
   },
   {
    "duration": 12,
    "start_time": "2023-02-19T22:05:22.895Z"
   },
   {
    "duration": 13,
    "start_time": "2023-02-19T22:05:22.908Z"
   },
   {
    "duration": 9,
    "start_time": "2023-02-19T22:05:22.923Z"
   },
   {
    "duration": 14,
    "start_time": "2023-02-19T22:05:22.937Z"
   },
   {
    "duration": 94,
    "start_time": "2023-02-19T22:05:22.953Z"
   },
   {
    "duration": 224,
    "start_time": "2023-02-19T22:05:23.049Z"
   },
   {
    "duration": 1012,
    "start_time": "2023-02-19T22:05:23.276Z"
   },
   {
    "duration": 5931,
    "start_time": "2023-02-19T22:05:24.291Z"
   },
   {
    "duration": 0,
    "start_time": "2023-02-19T22:10:12.093Z"
   },
   {
    "duration": 1404,
    "start_time": "2023-02-19T22:10:46.839Z"
   },
   {
    "duration": 54,
    "start_time": "2023-02-19T22:10:48.245Z"
   },
   {
    "duration": 10,
    "start_time": "2023-02-19T22:10:48.301Z"
   },
   {
    "duration": 12,
    "start_time": "2023-02-19T22:10:48.313Z"
   },
   {
    "duration": 6,
    "start_time": "2023-02-19T22:10:48.326Z"
   },
   {
    "duration": 11,
    "start_time": "2023-02-19T22:10:48.337Z"
   },
   {
    "duration": 7,
    "start_time": "2023-02-19T22:10:48.350Z"
   },
   {
    "duration": 4,
    "start_time": "2023-02-19T22:10:48.358Z"
   },
   {
    "duration": 10,
    "start_time": "2023-02-19T22:10:48.363Z"
   },
   {
    "duration": 5,
    "start_time": "2023-02-19T22:10:48.375Z"
   },
   {
    "duration": 671,
    "start_time": "2023-02-19T22:10:48.381Z"
   },
   {
    "duration": 797,
    "start_time": "2023-02-19T22:10:49.054Z"
   },
   {
    "duration": 7,
    "start_time": "2023-02-19T22:10:49.853Z"
   },
   {
    "duration": 776,
    "start_time": "2023-02-19T22:10:49.861Z"
   },
   {
    "duration": 175,
    "start_time": "2023-02-19T22:10:50.639Z"
   },
   {
    "duration": 6,
    "start_time": "2023-02-19T22:10:50.816Z"
   },
   {
    "duration": 40,
    "start_time": "2023-02-19T22:10:50.823Z"
   },
   {
    "duration": 5,
    "start_time": "2023-02-19T22:10:50.865Z"
   },
   {
    "duration": 10,
    "start_time": "2023-02-19T22:10:50.871Z"
   },
   {
    "duration": 7,
    "start_time": "2023-02-19T22:10:50.882Z"
   },
   {
    "duration": 4,
    "start_time": "2023-02-19T22:10:50.891Z"
   },
   {
    "duration": 5,
    "start_time": "2023-02-19T22:10:50.896Z"
   },
   {
    "duration": 139,
    "start_time": "2023-02-19T22:10:50.902Z"
   },
   {
    "duration": 215,
    "start_time": "2023-02-19T22:10:51.043Z"
   },
   {
    "duration": 1056,
    "start_time": "2023-02-19T22:10:51.259Z"
   },
   {
    "duration": 5913,
    "start_time": "2023-02-19T22:10:52.317Z"
   },
   {
    "duration": 3910,
    "start_time": "2023-02-19T22:10:58.232Z"
   },
   {
    "duration": 14,
    "start_time": "2023-02-19T22:11:02.145Z"
   },
   {
    "duration": 126,
    "start_time": "2023-02-19T22:12:01.621Z"
   },
   {
    "duration": 15,
    "start_time": "2023-02-19T22:12:15.410Z"
   },
   {
    "duration": 13,
    "start_time": "2023-02-19T22:12:41.218Z"
   },
   {
    "duration": 85,
    "start_time": "2023-02-19T22:24:19.669Z"
   },
   {
    "duration": 3,
    "start_time": "2023-02-19T22:24:50.022Z"
   },
   {
    "duration": 11,
    "start_time": "2023-02-19T22:24:56.079Z"
   },
   {
    "duration": 193,
    "start_time": "2023-02-19T22:33:26.250Z"
   },
   {
    "duration": 15,
    "start_time": "2023-02-19T22:33:51.015Z"
   },
   {
    "duration": 10,
    "start_time": "2023-02-19T22:34:05.256Z"
   },
   {
    "duration": 385,
    "start_time": "2023-02-19T22:40:42.468Z"
   },
   {
    "duration": 15,
    "start_time": "2023-02-19T22:45:57.716Z"
   },
   {
    "duration": 11,
    "start_time": "2023-02-19T22:47:04.476Z"
   },
   {
    "duration": 205,
    "start_time": "2023-02-19T22:47:19.371Z"
   },
   {
    "duration": 15,
    "start_time": "2023-02-19T22:47:28.584Z"
   },
   {
    "duration": 113,
    "start_time": "2023-02-19T22:49:37.324Z"
   },
   {
    "duration": 13,
    "start_time": "2023-02-19T22:52:31.745Z"
   },
   {
    "duration": 324,
    "start_time": "2023-02-19T22:52:51.225Z"
   },
   {
    "duration": 20,
    "start_time": "2023-02-19T22:53:54.964Z"
   },
   {
    "duration": 223,
    "start_time": "2023-02-19T22:54:30.257Z"
   },
   {
    "duration": 220,
    "start_time": "2023-02-19T22:57:59.580Z"
   },
   {
    "duration": 1485,
    "start_time": "2023-02-19T23:10:12.500Z"
   },
   {
    "duration": 58,
    "start_time": "2023-02-19T23:10:13.987Z"
   },
   {
    "duration": 10,
    "start_time": "2023-02-19T23:10:14.047Z"
   },
   {
    "duration": 16,
    "start_time": "2023-02-19T23:10:14.059Z"
   },
   {
    "duration": 10,
    "start_time": "2023-02-19T23:10:14.076Z"
   },
   {
    "duration": 18,
    "start_time": "2023-02-19T23:10:14.088Z"
   },
   {
    "duration": 29,
    "start_time": "2023-02-19T23:10:14.108Z"
   },
   {
    "duration": 3,
    "start_time": "2023-02-19T23:10:14.140Z"
   },
   {
    "duration": 13,
    "start_time": "2023-02-19T23:10:14.145Z"
   },
   {
    "duration": 13,
    "start_time": "2023-02-19T23:10:14.160Z"
   },
   {
    "duration": 662,
    "start_time": "2023-02-19T23:10:14.174Z"
   },
   {
    "duration": 841,
    "start_time": "2023-02-19T23:10:14.838Z"
   },
   {
    "duration": 8,
    "start_time": "2023-02-19T23:10:15.681Z"
   },
   {
    "duration": 867,
    "start_time": "2023-02-19T23:10:15.691Z"
   },
   {
    "duration": 177,
    "start_time": "2023-02-19T23:10:16.560Z"
   },
   {
    "duration": 7,
    "start_time": "2023-02-19T23:10:16.739Z"
   },
   {
    "duration": 32,
    "start_time": "2023-02-19T23:10:16.748Z"
   },
   {
    "duration": 6,
    "start_time": "2023-02-19T23:10:16.781Z"
   },
   {
    "duration": 11,
    "start_time": "2023-02-19T23:10:16.788Z"
   },
   {
    "duration": 8,
    "start_time": "2023-02-19T23:10:16.801Z"
   },
   {
    "duration": 8,
    "start_time": "2023-02-19T23:10:16.811Z"
   },
   {
    "duration": 3,
    "start_time": "2023-02-19T23:10:16.838Z"
   },
   {
    "duration": 199,
    "start_time": "2023-02-19T23:10:16.843Z"
   },
   {
    "duration": 217,
    "start_time": "2023-02-19T23:10:17.044Z"
   },
   {
    "duration": 1092,
    "start_time": "2023-02-19T23:10:17.263Z"
   },
   {
    "duration": 5588,
    "start_time": "2023-02-19T23:10:18.356Z"
   },
   {
    "duration": 4095,
    "start_time": "2023-02-19T23:10:23.946Z"
   },
   {
    "duration": 14,
    "start_time": "2023-02-19T23:10:28.044Z"
   },
   {
    "duration": 46,
    "start_time": "2023-02-19T23:10:28.060Z"
   },
   {
    "duration": 327,
    "start_time": "2023-02-19T23:10:28.139Z"
   },
   {
    "duration": 1294,
    "start_time": "2023-02-20T04:29:18.712Z"
   },
   {
    "duration": 58,
    "start_time": "2023-02-20T04:29:20.008Z"
   },
   {
    "duration": 13,
    "start_time": "2023-02-20T04:29:29.287Z"
   },
   {
    "duration": 13,
    "start_time": "2023-02-20T04:29:29.768Z"
   },
   {
    "duration": 6,
    "start_time": "2023-02-20T04:29:30.233Z"
   },
   {
    "duration": 14,
    "start_time": "2023-02-20T04:29:32.090Z"
   },
   {
    "duration": 7,
    "start_time": "2023-02-20T04:29:49.702Z"
   },
   {
    "duration": 3,
    "start_time": "2023-02-20T04:29:50.018Z"
   },
   {
    "duration": 10,
    "start_time": "2023-02-20T04:32:57.948Z"
   },
   {
    "duration": 8,
    "start_time": "2023-02-20T04:32:58.336Z"
   },
   {
    "duration": 636,
    "start_time": "2023-02-20T04:32:59.431Z"
   },
   {
    "duration": 874,
    "start_time": "2023-02-20T04:33:00.692Z"
   },
   {
    "duration": 9,
    "start_time": "2023-02-20T04:33:01.741Z"
   },
   {
    "duration": 785,
    "start_time": "2023-02-20T04:33:02.009Z"
   },
   {
    "duration": 176,
    "start_time": "2023-02-20T04:33:02.796Z"
   },
   {
    "duration": 7,
    "start_time": "2023-02-20T04:33:45.354Z"
   },
   {
    "duration": 24,
    "start_time": "2023-02-20T04:37:39.102Z"
   },
   {
    "duration": 5,
    "start_time": "2023-02-20T04:38:17.373Z"
   },
   {
    "duration": 5,
    "start_time": "2023-02-20T04:38:17.748Z"
   },
   {
    "duration": 5,
    "start_time": "2023-02-20T04:38:17.937Z"
   },
   {
    "duration": 3,
    "start_time": "2023-02-20T04:38:18.666Z"
   },
   {
    "duration": 3,
    "start_time": "2023-02-20T04:38:52.281Z"
   },
   {
    "duration": 54,
    "start_time": "2023-02-20T04:38:58.920Z"
   },
   {
    "duration": 87,
    "start_time": "2023-02-20T04:42:03.660Z"
   },
   {
    "duration": 77,
    "start_time": "2023-02-20T04:42:07.999Z"
   },
   {
    "duration": 1810,
    "start_time": "2023-02-20T08:16:04.339Z"
   },
   {
    "duration": 150,
    "start_time": "2023-02-20T08:16:06.152Z"
   },
   {
    "duration": 11,
    "start_time": "2023-02-20T08:16:06.304Z"
   },
   {
    "duration": 37,
    "start_time": "2023-02-20T08:16:06.317Z"
   },
   {
    "duration": 12,
    "start_time": "2023-02-20T08:16:06.358Z"
   },
   {
    "duration": 20,
    "start_time": "2023-02-20T08:16:06.372Z"
   },
   {
    "duration": 9,
    "start_time": "2023-02-20T08:16:06.394Z"
   },
   {
    "duration": 7,
    "start_time": "2023-02-20T08:16:06.405Z"
   },
   {
    "duration": 11,
    "start_time": "2023-02-20T08:16:06.414Z"
   },
   {
    "duration": 21,
    "start_time": "2023-02-20T08:16:06.427Z"
   },
   {
    "duration": 713,
    "start_time": "2023-02-20T08:16:06.451Z"
   },
   {
    "duration": 955,
    "start_time": "2023-02-20T08:16:07.166Z"
   },
   {
    "duration": 21,
    "start_time": "2023-02-20T08:16:08.124Z"
   },
   {
    "duration": 940,
    "start_time": "2023-02-20T08:16:08.152Z"
   },
   {
    "duration": 193,
    "start_time": "2023-02-20T08:16:09.093Z"
   },
   {
    "duration": 6,
    "start_time": "2023-02-20T08:16:09.287Z"
   },
   {
    "duration": 31,
    "start_time": "2023-02-20T08:16:09.295Z"
   },
   {
    "duration": 15,
    "start_time": "2023-02-20T08:16:09.328Z"
   },
   {
    "duration": 16,
    "start_time": "2023-02-20T08:16:09.347Z"
   },
   {
    "duration": 8,
    "start_time": "2023-02-20T08:16:09.364Z"
   },
   {
    "duration": 10,
    "start_time": "2023-02-20T08:16:09.374Z"
   },
   {
    "duration": 12,
    "start_time": "2023-02-20T08:16:09.386Z"
   },
   {
    "duration": 199,
    "start_time": "2023-02-20T08:16:09.400Z"
   },
   {
    "duration": 98,
    "start_time": "2023-02-20T08:16:09.601Z"
   },
   {
    "duration": 1221,
    "start_time": "2023-02-20T08:16:09.701Z"
   },
   {
    "duration": 8452,
    "start_time": "2023-02-20T08:16:10.923Z"
   },
   {
    "duration": 1638,
    "start_time": "2023-02-20T08:17:27.523Z"
   },
   {
    "duration": 58,
    "start_time": "2023-02-20T08:17:29.163Z"
   },
   {
    "duration": 12,
    "start_time": "2023-02-20T08:17:29.223Z"
   },
   {
    "duration": 44,
    "start_time": "2023-02-20T08:17:29.237Z"
   },
   {
    "duration": 7,
    "start_time": "2023-02-20T08:17:29.283Z"
   },
   {
    "duration": 34,
    "start_time": "2023-02-20T08:17:29.291Z"
   },
   {
    "duration": 12,
    "start_time": "2023-02-20T08:17:29.327Z"
   },
   {
    "duration": 13,
    "start_time": "2023-02-20T08:17:29.347Z"
   },
   {
    "duration": 26,
    "start_time": "2023-02-20T08:17:29.362Z"
   },
   {
    "duration": 29,
    "start_time": "2023-02-20T08:17:29.390Z"
   },
   {
    "duration": 731,
    "start_time": "2023-02-20T08:17:29.421Z"
   },
   {
    "duration": 937,
    "start_time": "2023-02-20T08:17:30.154Z"
   },
   {
    "duration": 7,
    "start_time": "2023-02-20T08:17:31.093Z"
   },
   {
    "duration": 923,
    "start_time": "2023-02-20T08:17:31.103Z"
   },
   {
    "duration": 205,
    "start_time": "2023-02-20T08:17:32.028Z"
   },
   {
    "duration": 8,
    "start_time": "2023-02-20T08:17:32.244Z"
   },
   {
    "duration": 58,
    "start_time": "2023-02-20T08:17:32.255Z"
   },
   {
    "duration": 7,
    "start_time": "2023-02-20T08:17:32.315Z"
   },
   {
    "duration": 13,
    "start_time": "2023-02-20T08:17:32.324Z"
   },
   {
    "duration": 26,
    "start_time": "2023-02-20T08:17:32.339Z"
   },
   {
    "duration": 12,
    "start_time": "2023-02-20T08:17:32.367Z"
   },
   {
    "duration": 10,
    "start_time": "2023-02-20T08:17:32.381Z"
   },
   {
    "duration": 355,
    "start_time": "2023-02-20T08:17:32.393Z"
   },
   {
    "duration": 200,
    "start_time": "2023-02-20T08:17:32.750Z"
   },
   {
    "duration": 1385,
    "start_time": "2023-02-20T08:17:32.959Z"
   },
   {
    "duration": 7947,
    "start_time": "2023-02-20T08:17:34.349Z"
   },
   {
    "duration": 1827,
    "start_time": "2023-02-20T08:28:21.583Z"
   },
   {
    "duration": 77,
    "start_time": "2023-02-20T08:28:23.413Z"
   },
   {
    "duration": 12,
    "start_time": "2023-02-20T08:28:23.492Z"
   },
   {
    "duration": 32,
    "start_time": "2023-02-20T08:28:23.507Z"
   },
   {
    "duration": 11,
    "start_time": "2023-02-20T08:28:23.541Z"
   },
   {
    "duration": 32,
    "start_time": "2023-02-20T08:28:23.553Z"
   },
   {
    "duration": 14,
    "start_time": "2023-02-20T08:28:23.587Z"
   },
   {
    "duration": 12,
    "start_time": "2023-02-20T08:28:23.604Z"
   },
   {
    "duration": 20,
    "start_time": "2023-02-20T08:28:23.618Z"
   },
   {
    "duration": 19,
    "start_time": "2023-02-20T08:28:23.640Z"
   },
   {
    "duration": 786,
    "start_time": "2023-02-20T08:28:23.662Z"
   },
   {
    "duration": 995,
    "start_time": "2023-02-20T08:28:24.450Z"
   },
   {
    "duration": 9,
    "start_time": "2023-02-20T08:28:25.447Z"
   },
   {
    "duration": 936,
    "start_time": "2023-02-20T08:28:25.459Z"
   },
   {
    "duration": 206,
    "start_time": "2023-02-20T08:28:26.397Z"
   },
   {
    "duration": 7,
    "start_time": "2023-02-20T08:28:26.605Z"
   },
   {
    "duration": 52,
    "start_time": "2023-02-20T08:28:26.614Z"
   },
   {
    "duration": 6,
    "start_time": "2023-02-20T08:28:26.668Z"
   },
   {
    "duration": 55,
    "start_time": "2023-02-20T08:28:26.675Z"
   },
   {
    "duration": 17,
    "start_time": "2023-02-20T08:28:26.732Z"
   },
   {
    "duration": 15,
    "start_time": "2023-02-20T08:28:26.751Z"
   },
   {
    "duration": 25,
    "start_time": "2023-02-20T08:28:26.769Z"
   },
   {
    "duration": 341,
    "start_time": "2023-02-20T08:28:26.797Z"
   },
   {
    "duration": 105,
    "start_time": "2023-02-20T08:28:27.140Z"
   },
   {
    "duration": 1346,
    "start_time": "2023-02-20T08:28:27.247Z"
   },
   {
    "duration": 8096,
    "start_time": "2023-02-20T08:28:28.594Z"
   },
   {
    "duration": 609220,
    "start_time": "2023-02-20T08:28:36.692Z"
   },
   {
    "duration": 85,
    "start_time": "2023-02-20T08:38:45.916Z"
   },
   {
    "duration": 0,
    "start_time": "2023-02-20T08:38:46.004Z"
   },
   {
    "duration": 0,
    "start_time": "2023-02-20T08:38:46.006Z"
   },
   {
    "duration": 5,
    "start_time": "2023-02-20T08:39:21.778Z"
   },
   {
    "duration": 93,
    "start_time": "2023-02-20T08:39:21.785Z"
   },
   {
    "duration": 11,
    "start_time": "2023-02-20T08:39:21.880Z"
   },
   {
    "duration": 23,
    "start_time": "2023-02-20T08:39:21.894Z"
   },
   {
    "duration": 30,
    "start_time": "2023-02-20T08:39:21.920Z"
   },
   {
    "duration": 20,
    "start_time": "2023-02-20T08:39:21.954Z"
   },
   {
    "duration": 24,
    "start_time": "2023-02-20T08:39:21.976Z"
   },
   {
    "duration": 18,
    "start_time": "2023-02-20T08:39:22.002Z"
   },
   {
    "duration": 39,
    "start_time": "2023-02-20T08:39:22.023Z"
   },
   {
    "duration": 32,
    "start_time": "2023-02-20T08:39:22.064Z"
   },
   {
    "duration": 835,
    "start_time": "2023-02-20T08:39:22.099Z"
   },
   {
    "duration": 1126,
    "start_time": "2023-02-20T08:39:22.938Z"
   },
   {
    "duration": 10,
    "start_time": "2023-02-20T08:39:24.067Z"
   },
   {
    "duration": 1096,
    "start_time": "2023-02-20T08:39:24.081Z"
   },
   {
    "duration": 250,
    "start_time": "2023-02-20T08:39:25.180Z"
   },
   {
    "duration": 26,
    "start_time": "2023-02-20T08:39:25.432Z"
   },
   {
    "duration": 55,
    "start_time": "2023-02-20T08:39:25.464Z"
   },
   {
    "duration": 6,
    "start_time": "2023-02-20T08:39:25.521Z"
   },
   {
    "duration": 46,
    "start_time": "2023-02-20T08:39:25.528Z"
   },
   {
    "duration": 8,
    "start_time": "2023-02-20T08:39:25.576Z"
   },
   {
    "duration": 14,
    "start_time": "2023-02-20T08:39:25.585Z"
   },
   {
    "duration": 10,
    "start_time": "2023-02-20T08:39:25.601Z"
   },
   {
    "duration": 233,
    "start_time": "2023-02-20T08:39:25.614Z"
   },
   {
    "duration": 213,
    "start_time": "2023-02-20T08:39:25.851Z"
   },
   {
    "duration": 1609,
    "start_time": "2023-02-20T08:39:26.072Z"
   },
   {
    "duration": 9219,
    "start_time": "2023-02-20T08:39:27.683Z"
   },
   {
    "duration": 1737,
    "start_time": "2023-02-20T08:51:04.935Z"
   },
   {
    "duration": 69,
    "start_time": "2023-02-20T08:51:06.675Z"
   },
   {
    "duration": 17,
    "start_time": "2023-02-20T08:51:06.751Z"
   },
   {
    "duration": 85,
    "start_time": "2023-02-20T08:51:06.770Z"
   },
   {
    "duration": 28,
    "start_time": "2023-02-20T08:51:06.863Z"
   },
   {
    "duration": 55,
    "start_time": "2023-02-20T08:51:06.893Z"
   },
   {
    "duration": 52,
    "start_time": "2023-02-20T08:51:06.950Z"
   },
   {
    "duration": 30,
    "start_time": "2023-02-20T08:51:07.005Z"
   },
   {
    "duration": 76,
    "start_time": "2023-02-20T08:51:07.040Z"
   },
   {
    "duration": 103,
    "start_time": "2023-02-20T08:51:07.119Z"
   },
   {
    "duration": 880,
    "start_time": "2023-02-20T08:51:07.224Z"
   },
   {
    "duration": 1123,
    "start_time": "2023-02-20T08:51:08.107Z"
   },
   {
    "duration": 13,
    "start_time": "2023-02-20T08:51:09.232Z"
   },
   {
    "duration": 1045,
    "start_time": "2023-02-20T08:51:09.249Z"
   },
   {
    "duration": 217,
    "start_time": "2023-02-20T08:51:10.296Z"
   },
   {
    "duration": 9,
    "start_time": "2023-02-20T08:51:10.516Z"
   },
   {
    "duration": 54,
    "start_time": "2023-02-20T08:51:10.539Z"
   },
   {
    "duration": 8,
    "start_time": "2023-02-20T08:51:10.595Z"
   },
   {
    "duration": 20,
    "start_time": "2023-02-20T08:51:10.605Z"
   },
   {
    "duration": 15,
    "start_time": "2023-02-20T08:51:10.627Z"
   },
   {
    "duration": 27,
    "start_time": "2023-02-20T08:51:10.646Z"
   },
   {
    "duration": 29,
    "start_time": "2023-02-20T08:51:10.676Z"
   },
   {
    "duration": 269,
    "start_time": "2023-02-20T08:51:10.708Z"
   },
   {
    "duration": 182,
    "start_time": "2023-02-20T08:51:11.044Z"
   },
   {
    "duration": 1520,
    "start_time": "2023-02-20T08:51:11.227Z"
   },
   {
    "duration": 8744,
    "start_time": "2023-02-20T08:51:12.750Z"
   },
   {
    "duration": 6,
    "start_time": "2023-02-20T09:40:52.178Z"
   },
   {
    "duration": 87,
    "start_time": "2023-02-20T09:40:52.186Z"
   },
   {
    "duration": 10,
    "start_time": "2023-02-20T09:40:52.276Z"
   },
   {
    "duration": 20,
    "start_time": "2023-02-20T09:40:52.288Z"
   },
   {
    "duration": 14,
    "start_time": "2023-02-20T09:40:52.310Z"
   },
   {
    "duration": 46,
    "start_time": "2023-02-20T09:40:52.326Z"
   },
   {
    "duration": 26,
    "start_time": "2023-02-20T09:40:52.374Z"
   },
   {
    "duration": 5,
    "start_time": "2023-02-20T09:40:52.404Z"
   },
   {
    "duration": 52,
    "start_time": "2023-02-20T09:40:52.411Z"
   },
   {
    "duration": 37,
    "start_time": "2023-02-20T09:40:52.467Z"
   },
   {
    "duration": 844,
    "start_time": "2023-02-20T09:40:52.506Z"
   },
   {
    "duration": 915,
    "start_time": "2023-02-20T09:40:53.353Z"
   },
   {
    "duration": 8,
    "start_time": "2023-02-20T09:40:54.272Z"
   },
   {
    "duration": 955,
    "start_time": "2023-02-20T09:40:54.281Z"
   },
   {
    "duration": 224,
    "start_time": "2023-02-20T09:40:55.237Z"
   },
   {
    "duration": 10,
    "start_time": "2023-02-20T09:40:55.465Z"
   },
   {
    "duration": 40,
    "start_time": "2023-02-20T09:40:55.477Z"
   },
   {
    "duration": 6,
    "start_time": "2023-02-20T09:40:55.519Z"
   },
   {
    "duration": 48,
    "start_time": "2023-02-20T09:40:55.527Z"
   },
   {
    "duration": 17,
    "start_time": "2023-02-20T09:40:55.577Z"
   },
   {
    "duration": 8,
    "start_time": "2023-02-20T09:40:55.596Z"
   },
   {
    "duration": 18,
    "start_time": "2023-02-20T09:40:55.606Z"
   },
   {
    "duration": 211,
    "start_time": "2023-02-20T09:40:55.626Z"
   },
   {
    "duration": 189,
    "start_time": "2023-02-20T09:40:55.839Z"
   },
   {
    "duration": 1343,
    "start_time": "2023-02-20T09:40:56.030Z"
   },
   {
    "duration": 9225,
    "start_time": "2023-02-20T09:40:57.376Z"
   },
   {
    "duration": 1463,
    "start_time": "2023-02-20T10:08:14.801Z"
   },
   {
    "duration": 57,
    "start_time": "2023-02-20T10:08:16.266Z"
   },
   {
    "duration": 11,
    "start_time": "2023-02-20T10:08:16.324Z"
   },
   {
    "duration": 12,
    "start_time": "2023-02-20T10:08:16.337Z"
   },
   {
    "duration": 8,
    "start_time": "2023-02-20T10:08:16.352Z"
   },
   {
    "duration": 18,
    "start_time": "2023-02-20T10:08:16.362Z"
   },
   {
    "duration": 7,
    "start_time": "2023-02-20T10:08:16.382Z"
   },
   {
    "duration": 6,
    "start_time": "2023-02-20T10:08:16.391Z"
   },
   {
    "duration": 30,
    "start_time": "2023-02-20T10:08:16.398Z"
   },
   {
    "duration": 6,
    "start_time": "2023-02-20T10:08:16.438Z"
   },
   {
    "duration": 650,
    "start_time": "2023-02-20T10:08:16.446Z"
   },
   {
    "duration": 898,
    "start_time": "2023-02-20T10:08:17.097Z"
   },
   {
    "duration": 8,
    "start_time": "2023-02-20T10:08:17.997Z"
   },
   {
    "duration": 873,
    "start_time": "2023-02-20T10:08:18.008Z"
   },
   {
    "duration": 193,
    "start_time": "2023-02-20T10:08:18.882Z"
   },
   {
    "duration": 6,
    "start_time": "2023-02-20T10:08:19.077Z"
   },
   {
    "duration": 76,
    "start_time": "2023-02-20T10:08:19.084Z"
   },
   {
    "duration": 11,
    "start_time": "2023-02-20T10:08:19.162Z"
   },
   {
    "duration": 28,
    "start_time": "2023-02-20T10:08:19.175Z"
   },
   {
    "duration": 20,
    "start_time": "2023-02-20T10:08:19.205Z"
   },
   {
    "duration": 27,
    "start_time": "2023-02-20T10:08:19.227Z"
   },
   {
    "duration": 26,
    "start_time": "2023-02-20T10:08:19.256Z"
   },
   {
    "duration": 159,
    "start_time": "2023-02-20T10:08:19.284Z"
   },
   {
    "duration": 176,
    "start_time": "2023-02-20T10:08:19.446Z"
   },
   {
    "duration": 1286,
    "start_time": "2023-02-20T10:08:19.624Z"
   },
   {
    "duration": 6994,
    "start_time": "2023-02-20T10:08:20.912Z"
   },
   {
    "duration": 125638,
    "start_time": "2023-02-20T10:08:27.908Z"
   },
   {
    "duration": 15,
    "start_time": "2023-02-20T10:10:33.548Z"
   },
   {
    "duration": 77,
    "start_time": "2023-02-20T10:10:33.564Z"
   },
   {
    "duration": 368,
    "start_time": "2023-02-20T10:10:33.643Z"
   },
   {
    "duration": 1645,
    "start_time": "2023-02-20T11:02:49.660Z"
   },
   {
    "duration": 56,
    "start_time": "2023-02-20T11:02:51.307Z"
   },
   {
    "duration": 11,
    "start_time": "2023-02-20T11:02:51.364Z"
   },
   {
    "duration": 13,
    "start_time": "2023-02-20T11:02:51.377Z"
   },
   {
    "duration": 10,
    "start_time": "2023-02-20T11:02:51.391Z"
   },
   {
    "duration": 17,
    "start_time": "2023-02-20T11:02:51.403Z"
   },
   {
    "duration": 23,
    "start_time": "2023-02-20T11:02:51.422Z"
   },
   {
    "duration": 8,
    "start_time": "2023-02-20T11:02:51.447Z"
   },
   {
    "duration": 11,
    "start_time": "2023-02-20T11:02:51.457Z"
   },
   {
    "duration": 8,
    "start_time": "2023-02-20T11:02:51.471Z"
   },
   {
    "duration": 686,
    "start_time": "2023-02-20T11:02:51.481Z"
   },
   {
    "duration": 924,
    "start_time": "2023-02-20T11:02:52.169Z"
   },
   {
    "duration": 7,
    "start_time": "2023-02-20T11:02:53.095Z"
   },
   {
    "duration": 848,
    "start_time": "2023-02-20T11:02:53.104Z"
   },
   {
    "duration": 175,
    "start_time": "2023-02-20T11:02:53.953Z"
   },
   {
    "duration": 8,
    "start_time": "2023-02-20T11:02:54.130Z"
   },
   {
    "duration": 33,
    "start_time": "2023-02-20T11:02:54.140Z"
   },
   {
    "duration": 5,
    "start_time": "2023-02-20T11:02:54.175Z"
   },
   {
    "duration": 10,
    "start_time": "2023-02-20T11:02:54.182Z"
   },
   {
    "duration": 15,
    "start_time": "2023-02-20T11:02:54.194Z"
   },
   {
    "duration": 4,
    "start_time": "2023-02-20T11:02:54.211Z"
   },
   {
    "duration": 9,
    "start_time": "2023-02-20T11:02:54.217Z"
   },
   {
    "duration": 312,
    "start_time": "2023-02-20T11:02:54.227Z"
   },
   {
    "duration": 100,
    "start_time": "2023-02-20T11:02:54.541Z"
   },
   {
    "duration": 1579,
    "start_time": "2023-02-20T11:02:54.643Z"
   },
   {
    "duration": 9171,
    "start_time": "2023-02-20T11:02:56.224Z"
   },
   {
    "duration": 4843,
    "start_time": "2023-02-20T11:03:05.397Z"
   },
   {
    "duration": 14,
    "start_time": "2023-02-20T11:03:10.243Z"
   },
   {
    "duration": 13,
    "start_time": "2023-02-20T11:03:10.259Z"
   },
   {
    "duration": 369,
    "start_time": "2023-02-20T11:03:10.273Z"
   },
   {
    "duration": 1606,
    "start_time": "2023-02-20T11:06:33.417Z"
   },
   {
    "duration": 61,
    "start_time": "2023-02-20T11:06:35.025Z"
   },
   {
    "duration": 11,
    "start_time": "2023-02-20T11:06:35.087Z"
   },
   {
    "duration": 44,
    "start_time": "2023-02-20T11:06:35.101Z"
   },
   {
    "duration": 24,
    "start_time": "2023-02-20T11:06:35.147Z"
   },
   {
    "duration": 19,
    "start_time": "2023-02-20T11:06:35.173Z"
   },
   {
    "duration": 13,
    "start_time": "2023-02-20T11:06:35.194Z"
   },
   {
    "duration": 39,
    "start_time": "2023-02-20T11:06:35.208Z"
   },
   {
    "duration": 17,
    "start_time": "2023-02-20T11:06:35.249Z"
   },
   {
    "duration": 13,
    "start_time": "2023-02-20T11:06:35.270Z"
   },
   {
    "duration": 760,
    "start_time": "2023-02-20T11:06:35.284Z"
   },
   {
    "duration": 888,
    "start_time": "2023-02-20T11:06:36.046Z"
   },
   {
    "duration": 10,
    "start_time": "2023-02-20T11:06:36.938Z"
   },
   {
    "duration": 897,
    "start_time": "2023-02-20T11:06:36.950Z"
   },
   {
    "duration": 229,
    "start_time": "2023-02-20T11:06:37.849Z"
   },
   {
    "duration": 10,
    "start_time": "2023-02-20T11:06:38.080Z"
   },
   {
    "duration": 53,
    "start_time": "2023-02-20T11:06:38.091Z"
   },
   {
    "duration": 7,
    "start_time": "2023-02-20T11:06:38.147Z"
   },
   {
    "duration": 40,
    "start_time": "2023-02-20T11:06:38.156Z"
   },
   {
    "duration": 24,
    "start_time": "2023-02-20T11:06:38.198Z"
   },
   {
    "duration": 18,
    "start_time": "2023-02-20T11:06:38.224Z"
   },
   {
    "duration": 12,
    "start_time": "2023-02-20T11:06:38.244Z"
   },
   {
    "duration": 285,
    "start_time": "2023-02-20T11:06:38.259Z"
   },
   {
    "duration": 283,
    "start_time": "2023-02-20T11:06:38.547Z"
   },
   {
    "duration": 1700,
    "start_time": "2023-02-20T11:06:38.839Z"
   },
   {
    "duration": 7294,
    "start_time": "2023-02-20T11:06:40.541Z"
   },
   {
    "duration": 4,
    "start_time": "2023-02-20T11:13:46.170Z"
   },
   {
    "duration": 90,
    "start_time": "2023-02-20T11:13:46.177Z"
   },
   {
    "duration": 15,
    "start_time": "2023-02-20T11:13:46.270Z"
   },
   {
    "duration": 30,
    "start_time": "2023-02-20T11:13:46.287Z"
   },
   {
    "duration": 19,
    "start_time": "2023-02-20T11:13:46.319Z"
   },
   {
    "duration": 18,
    "start_time": "2023-02-20T11:13:46.340Z"
   },
   {
    "duration": 9,
    "start_time": "2023-02-20T11:13:46.360Z"
   },
   {
    "duration": 13,
    "start_time": "2023-02-20T11:13:46.371Z"
   },
   {
    "duration": 23,
    "start_time": "2023-02-20T11:13:46.386Z"
   },
   {
    "duration": 23,
    "start_time": "2023-02-20T11:13:46.411Z"
   },
   {
    "duration": 669,
    "start_time": "2023-02-20T11:13:46.438Z"
   },
   {
    "duration": 980,
    "start_time": "2023-02-20T11:13:47.109Z"
   },
   {
    "duration": 8,
    "start_time": "2023-02-20T11:13:48.091Z"
   },
   {
    "duration": 891,
    "start_time": "2023-02-20T11:13:48.101Z"
   },
   {
    "duration": 197,
    "start_time": "2023-02-20T11:13:48.993Z"
   },
   {
    "duration": 6,
    "start_time": "2023-02-20T11:13:49.192Z"
   },
   {
    "duration": 54,
    "start_time": "2023-02-20T11:13:49.200Z"
   },
   {
    "duration": 6,
    "start_time": "2023-02-20T11:13:49.256Z"
   },
   {
    "duration": 22,
    "start_time": "2023-02-20T11:13:49.264Z"
   },
   {
    "duration": 13,
    "start_time": "2023-02-20T11:13:49.288Z"
   },
   {
    "duration": 16,
    "start_time": "2023-02-20T11:13:49.303Z"
   },
   {
    "duration": 12,
    "start_time": "2023-02-20T11:13:49.321Z"
   },
   {
    "duration": 212,
    "start_time": "2023-02-20T11:13:49.336Z"
   },
   {
    "duration": 187,
    "start_time": "2023-02-20T11:13:49.552Z"
   },
   {
    "duration": 1654,
    "start_time": "2023-02-20T11:13:49.741Z"
   },
   {
    "duration": 6473,
    "start_time": "2023-02-20T11:13:51.398Z"
   },
   {
    "duration": 1595,
    "start_time": "2023-02-20T11:24:21.949Z"
   },
   {
    "duration": 58,
    "start_time": "2023-02-20T11:24:23.545Z"
   },
   {
    "duration": 12,
    "start_time": "2023-02-20T11:24:23.605Z"
   },
   {
    "duration": 32,
    "start_time": "2023-02-20T11:24:23.619Z"
   },
   {
    "duration": 12,
    "start_time": "2023-02-20T11:24:23.652Z"
   },
   {
    "duration": 42,
    "start_time": "2023-02-20T11:24:23.665Z"
   },
   {
    "duration": 19,
    "start_time": "2023-02-20T11:24:23.709Z"
   },
   {
    "duration": 13,
    "start_time": "2023-02-20T11:24:23.730Z"
   },
   {
    "duration": 18,
    "start_time": "2023-02-20T11:24:23.745Z"
   },
   {
    "duration": 13,
    "start_time": "2023-02-20T11:24:23.766Z"
   },
   {
    "duration": 687,
    "start_time": "2023-02-20T11:24:23.781Z"
   },
   {
    "duration": 933,
    "start_time": "2023-02-20T11:24:24.470Z"
   },
   {
    "duration": 10,
    "start_time": "2023-02-20T11:24:25.405Z"
   },
   {
    "duration": 866,
    "start_time": "2023-02-20T11:24:25.418Z"
   },
   {
    "duration": 221,
    "start_time": "2023-02-20T11:24:26.287Z"
   },
   {
    "duration": 7,
    "start_time": "2023-02-20T11:24:26.510Z"
   },
   {
    "duration": 42,
    "start_time": "2023-02-20T11:24:26.518Z"
   },
   {
    "duration": 5,
    "start_time": "2023-02-20T11:24:26.562Z"
   },
   {
    "duration": 12,
    "start_time": "2023-02-20T11:24:26.569Z"
   },
   {
    "duration": 12,
    "start_time": "2023-02-20T11:24:26.582Z"
   },
   {
    "duration": 5,
    "start_time": "2023-02-20T11:24:26.596Z"
   },
   {
    "duration": 7,
    "start_time": "2023-02-20T11:24:26.603Z"
   },
   {
    "duration": 140,
    "start_time": "2023-02-20T11:24:26.612Z"
   },
   {
    "duration": 267,
    "start_time": "2023-02-20T11:24:26.755Z"
   },
   {
    "duration": 1647,
    "start_time": "2023-02-20T11:24:27.038Z"
   },
   {
    "duration": 7217,
    "start_time": "2023-02-20T11:24:28.687Z"
   },
   {
    "duration": 1598,
    "start_time": "2023-02-20T11:35:14.707Z"
   },
   {
    "duration": 59,
    "start_time": "2023-02-20T11:35:16.307Z"
   },
   {
    "duration": 12,
    "start_time": "2023-02-20T11:35:16.368Z"
   },
   {
    "duration": 17,
    "start_time": "2023-02-20T11:35:16.382Z"
   },
   {
    "duration": 7,
    "start_time": "2023-02-20T11:35:16.401Z"
   },
   {
    "duration": 36,
    "start_time": "2023-02-20T11:35:16.409Z"
   },
   {
    "duration": 8,
    "start_time": "2023-02-20T11:35:16.447Z"
   },
   {
    "duration": 10,
    "start_time": "2023-02-20T11:35:16.457Z"
   },
   {
    "duration": 13,
    "start_time": "2023-02-20T11:35:16.469Z"
   },
   {
    "duration": 10,
    "start_time": "2023-02-20T11:35:16.484Z"
   },
   {
    "duration": 740,
    "start_time": "2023-02-20T11:35:16.496Z"
   },
   {
    "duration": 981,
    "start_time": "2023-02-20T11:35:17.238Z"
   },
   {
    "duration": 17,
    "start_time": "2023-02-20T11:35:18.221Z"
   },
   {
    "duration": 885,
    "start_time": "2023-02-20T11:35:18.241Z"
   },
   {
    "duration": 193,
    "start_time": "2023-02-20T11:35:19.128Z"
   },
   {
    "duration": 15,
    "start_time": "2023-02-20T11:35:19.323Z"
   },
   {
    "duration": 46,
    "start_time": "2023-02-20T11:35:19.340Z"
   },
   {
    "duration": 6,
    "start_time": "2023-02-20T11:35:19.388Z"
   },
   {
    "duration": 20,
    "start_time": "2023-02-20T11:35:19.396Z"
   },
   {
    "duration": 18,
    "start_time": "2023-02-20T11:35:19.419Z"
   },
   {
    "duration": 14,
    "start_time": "2023-02-20T11:35:19.439Z"
   },
   {
    "duration": 44,
    "start_time": "2023-02-20T11:35:19.455Z"
   },
   {
    "duration": 338,
    "start_time": "2023-02-20T11:35:19.501Z"
   },
   {
    "duration": 152,
    "start_time": "2023-02-20T11:35:19.842Z"
   },
   {
    "duration": 1682,
    "start_time": "2023-02-20T11:35:19.996Z"
   },
   {
    "duration": 7054,
    "start_time": "2023-02-20T11:35:21.680Z"
   },
   {
    "duration": 1588,
    "start_time": "2023-02-20T11:39:43.245Z"
   },
   {
    "duration": 56,
    "start_time": "2023-02-20T11:39:44.837Z"
   },
   {
    "duration": 10,
    "start_time": "2023-02-20T11:39:44.895Z"
   },
   {
    "duration": 38,
    "start_time": "2023-02-20T11:39:44.908Z"
   },
   {
    "duration": 19,
    "start_time": "2023-02-20T11:39:44.948Z"
   },
   {
    "duration": 40,
    "start_time": "2023-02-20T11:39:44.969Z"
   },
   {
    "duration": 26,
    "start_time": "2023-02-20T11:39:45.011Z"
   },
   {
    "duration": 22,
    "start_time": "2023-02-20T11:39:45.039Z"
   },
   {
    "duration": 31,
    "start_time": "2023-02-20T11:39:45.063Z"
   },
   {
    "duration": 34,
    "start_time": "2023-02-20T11:39:45.097Z"
   },
   {
    "duration": 695,
    "start_time": "2023-02-20T11:39:45.133Z"
   },
   {
    "duration": 977,
    "start_time": "2023-02-20T11:39:45.838Z"
   },
   {
    "duration": 7,
    "start_time": "2023-02-20T11:39:46.817Z"
   },
   {
    "duration": 831,
    "start_time": "2023-02-20T11:39:46.826Z"
   },
   {
    "duration": 190,
    "start_time": "2023-02-20T11:39:47.659Z"
   },
   {
    "duration": 5,
    "start_time": "2023-02-20T11:39:47.851Z"
   },
   {
    "duration": 35,
    "start_time": "2023-02-20T11:39:47.858Z"
   },
   {
    "duration": 5,
    "start_time": "2023-02-20T11:39:47.894Z"
   },
   {
    "duration": 11,
    "start_time": "2023-02-20T11:39:47.901Z"
   },
   {
    "duration": 25,
    "start_time": "2023-02-20T11:39:47.914Z"
   },
   {
    "duration": 25,
    "start_time": "2023-02-20T11:39:47.941Z"
   },
   {
    "duration": 13,
    "start_time": "2023-02-20T11:39:47.967Z"
   },
   {
    "duration": 256,
    "start_time": "2023-02-20T11:39:47.981Z"
   },
   {
    "duration": 84,
    "start_time": "2023-02-20T11:39:48.240Z"
   },
   {
    "duration": 1511,
    "start_time": "2023-02-20T11:39:48.338Z"
   },
   {
    "duration": 7061,
    "start_time": "2023-02-20T11:39:49.851Z"
   },
   {
    "duration": 82048,
    "start_time": "2023-02-20T11:39:56.914Z"
   },
   {
    "duration": 1520,
    "start_time": "2023-02-20T12:57:24.190Z"
   },
   {
    "duration": 56,
    "start_time": "2023-02-20T12:57:25.712Z"
   },
   {
    "duration": 10,
    "start_time": "2023-02-20T12:57:25.769Z"
   },
   {
    "duration": 27,
    "start_time": "2023-02-20T12:57:25.780Z"
   },
   {
    "duration": 20,
    "start_time": "2023-02-20T12:57:25.809Z"
   },
   {
    "duration": 27,
    "start_time": "2023-02-20T12:57:25.831Z"
   },
   {
    "duration": 21,
    "start_time": "2023-02-20T12:57:25.860Z"
   },
   {
    "duration": 39,
    "start_time": "2023-02-20T12:57:25.882Z"
   },
   {
    "duration": 33,
    "start_time": "2023-02-20T12:57:25.923Z"
   },
   {
    "duration": 16,
    "start_time": "2023-02-20T12:57:25.959Z"
   },
   {
    "duration": 717,
    "start_time": "2023-02-20T12:57:25.978Z"
   },
   {
    "duration": 911,
    "start_time": "2023-02-20T12:57:26.697Z"
   },
   {
    "duration": 8,
    "start_time": "2023-02-20T12:57:27.610Z"
   },
   {
    "duration": 875,
    "start_time": "2023-02-20T12:57:27.621Z"
   },
   {
    "duration": 202,
    "start_time": "2023-02-20T12:57:28.498Z"
   },
   {
    "duration": 7,
    "start_time": "2023-02-20T12:57:28.702Z"
   },
   {
    "duration": 43,
    "start_time": "2023-02-20T12:57:28.710Z"
   },
   {
    "duration": 5,
    "start_time": "2023-02-20T12:57:28.756Z"
   },
   {
    "duration": 28,
    "start_time": "2023-02-20T12:57:28.763Z"
   },
   {
    "duration": 17,
    "start_time": "2023-02-20T12:57:28.793Z"
   },
   {
    "duration": 23,
    "start_time": "2023-02-20T12:57:28.812Z"
   },
   {
    "duration": 17,
    "start_time": "2023-02-20T12:57:28.837Z"
   },
   {
    "duration": 186,
    "start_time": "2023-02-20T12:57:28.856Z"
   },
   {
    "duration": 195,
    "start_time": "2023-02-20T12:57:29.044Z"
   },
   {
    "duration": 1568,
    "start_time": "2023-02-20T12:57:29.241Z"
   },
   {
    "duration": 6713,
    "start_time": "2023-02-20T12:57:30.811Z"
   },
   {
    "duration": 4616,
    "start_time": "2023-02-20T12:57:37.526Z"
   },
   {
    "duration": 14,
    "start_time": "2023-02-20T12:57:42.144Z"
   },
   {
    "duration": 79,
    "start_time": "2023-02-20T12:57:42.160Z"
   },
   {
    "duration": 405,
    "start_time": "2023-02-20T12:57:42.241Z"
   }
  ],
  "kernelspec": {
   "display_name": "Python 3 (ipykernel)",
   "language": "python",
   "name": "python3"
  },
  "language_info": {
   "codemirror_mode": {
    "name": "ipython",
    "version": 3
   },
   "file_extension": ".py",
   "mimetype": "text/x-python",
   "name": "python",
   "nbconvert_exporter": "python",
   "pygments_lexer": "ipython3",
   "version": "3.9.12"
  },
  "toc": {
   "base_numbering": 1,
   "nav_menu": {},
   "number_sections": true,
   "sideBar": true,
   "skip_h1_title": true,
   "title_cell": "Содержание",
   "title_sidebar": "Contents",
   "toc_cell": true,
   "toc_position": {},
   "toc_section_display": true,
   "toc_window_display": true
  }
 },
 "nbformat": 4,
 "nbformat_minor": 2
}
