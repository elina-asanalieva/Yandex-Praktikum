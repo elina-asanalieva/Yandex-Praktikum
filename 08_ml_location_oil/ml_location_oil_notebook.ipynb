{
 "cells": [
  {
   "cell_type": "markdown",
   "metadata": {},
   "source": [
    "# Выбор локации для скважины"
   ]
  },
  {
   "cell_type": "markdown",
   "metadata": {},
   "source": [
    "Для добывающей компании «ГлавРосГосНефть» нужно решить, где бурить новую скважину.\n",
    "\n",
    "Вам предоставлены пробы нефти в трёх регионах: в каждом 10 000 месторождений, где измерили качество нефти и объём её запасов. Постройте модель машинного обучения, которая поможет определить регион, где добыча принесёт наибольшую прибыль. Проанализируйте возможную прибыль и риски техникой *Bootstrap.*\n",
    "\n",
    "Шаги для выбора локации:\n",
    "\n",
    "- В избранном регионе ищут месторождения, для каждого определяют значения признаков;\n",
    "- Строят модель и оценивают объём запасов;\n",
    "- Выбирают месторождения с самым высокими оценками значений. Количество месторождений зависит от бюджета компании и стоимости разработки одной скважины;\n",
    "- Прибыль равна суммарной прибыли отобранных месторождений."
   ]
  },
  {
   "cell_type": "markdown",
   "metadata": {},
   "source": [
    "# Описание данных"
   ]
  },
  {
   "cell_type": "markdown",
   "metadata": {},
   "source": [
    "Данные геологоразведки трёх регионов находятся в файлах: \n",
    " - /datasets/geo_data_0.csv. - 1-й регион\n",
    " - /datasets/geo_data_1.csv. - 2-й регион\n",
    " - /datasets/geo_data_2.csv. - 3-й регион\n",
    " - id — уникальный идентификатор скважины;\n",
    " - f0, f1, f2 — три признака точек (неважно, что они означают, но сами признаки значимы);\n",
    " - product — объём запасов в скважине (тыс. баррелей)."
   ]
  },
  {
   "cell_type": "markdown",
   "metadata": {},
   "source": [
    "# Условия задачи:"
   ]
  },
  {
   "cell_type": "markdown",
   "metadata": {},
   "source": [
    " - Для обучения модели подходит только линейная регрессия (остальные — недостаточно предсказуемые).\n",
    " - При разведке региона исследуют 500 точек, из которых с помощью машинного обучения выбирают 200 лучших для разработки.\n",
    " - Бюджет на разработку скважин в регионе — 10 млрд рублей.\n",
    " - При нынешних ценах один баррель сырья приносит 450 рублей дохода. Доход с каждой единицы продукта составляет 450 тыс. рублей, поскольку объём указан в тысячах баррелей.\n",
    " - После оценки рисков нужно оставить лишь те регионы, в которых вероятность убытков меньше 2.5%. Среди них выбирают регион с наибольшей средней прибылью.\n",
    " \n",
    " \n",
    "Данные синтетические: детали контрактов и характеристики месторождений не разглашаются."
   ]
  },
  {
   "cell_type": "markdown",
   "metadata": {},
   "source": [
    "## Загрузка и подготовка данных"
   ]
  },
  {
   "cell_type": "markdown",
   "metadata": {},
   "source": [
    "Импортирую библиотеки и открываю файлы с данными"
   ]
  },
  {
   "cell_type": "code",
   "execution_count": 1,
   "metadata": {},
   "outputs": [],
   "source": [
    "import pandas as pd\n",
    "import numpy as np\n",
    "import seaborn as sns\n",
    "import matplotlib.pyplot as plt\n",
    "from sklearn.model_selection import train_test_split\n",
    "from sklearn.linear_model import LinearRegression\n",
    "from sklearn.metrics import mean_squared_error\n",
    "from sklearn.preprocessing import StandardScaler \n",
    "pd.options.mode.chained_assignment = None\n",
    "import warnings\n",
    "warnings.filterwarnings('ignore')\n",
    "pd.options.mode.chained_assignment = None"
   ]
  },
  {
   "cell_type": "code",
   "execution_count": 2,
   "metadata": {},
   "outputs": [],
   "source": [
    "geo_data_0 = pd.read_csv('/datasets/geo_data_0.csv')\n",
    "geo_data_1 = pd.read_csv('/datasets/geo_data_1.csv')\n",
    "geo_data_2 = pd.read_csv('/datasets/geo_data_2.csv')"
   ]
  },
  {
   "cell_type": "markdown",
   "metadata": {},
   "source": [
    "Изучаю общую информацию о таблицах. Создам функцию, чтобы не повторять действия по изучению информации для каждого датасета."
   ]
  },
  {
   "cell_type": "code",
   "execution_count": 3,
   "metadata": {},
   "outputs": [],
   "source": [
    "def info(data):\n",
    "    print(data.head(10))\n",
    "    print()\n",
    "    display(data.info())\n",
    "    print()\n",
    "    display(data.describe())\n",
    "    print()\n",
    "    plt.title('Корреляция между признаками', size = 12)\n",
    "    sns.heatmap(data.corr(), annot = True)\n",
    "    print()\n",
    "    print('Количество уникальных значений')\n",
    "    display(data.nunique())\n",
    "    print()\n",
    "    print('Количество явных дубликатов в таблице\\n')\n",
    "    display(data.duplicated().sum())    "
   ]
  },
  {
   "cell_type": "markdown",
   "metadata": {},
   "source": [
    "Рассмотрю данные таблицы для первого региона."
   ]
  },
  {
   "cell_type": "code",
   "execution_count": 4,
   "metadata": {
    "scrolled": false
   },
   "outputs": [
    {
     "data": {
      "text/html": [
       "<div>\n",
       "<style scoped>\n",
       "    .dataframe tbody tr th:only-of-type {\n",
       "        vertical-align: middle;\n",
       "    }\n",
       "\n",
       "    .dataframe tbody tr th {\n",
       "        vertical-align: top;\n",
       "    }\n",
       "\n",
       "    .dataframe thead th {\n",
       "        text-align: right;\n",
       "    }\n",
       "</style>\n",
       "<table border=\"1\" class=\"dataframe\">\n",
       "  <thead>\n",
       "    <tr style=\"text-align: right;\">\n",
       "      <th></th>\n",
       "      <th>id</th>\n",
       "      <th>f0</th>\n",
       "      <th>f1</th>\n",
       "      <th>f2</th>\n",
       "      <th>product</th>\n",
       "    </tr>\n",
       "  </thead>\n",
       "  <tbody>\n",
       "    <tr>\n",
       "      <th>0</th>\n",
       "      <td>txEyH</td>\n",
       "      <td>0.705745</td>\n",
       "      <td>-0.497823</td>\n",
       "      <td>1.221170</td>\n",
       "      <td>105.280062</td>\n",
       "    </tr>\n",
       "    <tr>\n",
       "      <th>1</th>\n",
       "      <td>2acmU</td>\n",
       "      <td>1.334711</td>\n",
       "      <td>-0.340164</td>\n",
       "      <td>4.365080</td>\n",
       "      <td>73.037750</td>\n",
       "    </tr>\n",
       "    <tr>\n",
       "      <th>2</th>\n",
       "      <td>409Wp</td>\n",
       "      <td>1.022732</td>\n",
       "      <td>0.151990</td>\n",
       "      <td>1.419926</td>\n",
       "      <td>85.265647</td>\n",
       "    </tr>\n",
       "    <tr>\n",
       "      <th>3</th>\n",
       "      <td>iJLyR</td>\n",
       "      <td>-0.032172</td>\n",
       "      <td>0.139033</td>\n",
       "      <td>2.978566</td>\n",
       "      <td>168.620776</td>\n",
       "    </tr>\n",
       "    <tr>\n",
       "      <th>4</th>\n",
       "      <td>Xdl7t</td>\n",
       "      <td>1.988431</td>\n",
       "      <td>0.155413</td>\n",
       "      <td>4.751769</td>\n",
       "      <td>154.036647</td>\n",
       "    </tr>\n",
       "    <tr>\n",
       "      <th>5</th>\n",
       "      <td>wX4Hy</td>\n",
       "      <td>0.969570</td>\n",
       "      <td>0.489775</td>\n",
       "      <td>-0.735383</td>\n",
       "      <td>64.741541</td>\n",
       "    </tr>\n",
       "    <tr>\n",
       "      <th>6</th>\n",
       "      <td>tL6pL</td>\n",
       "      <td>0.645075</td>\n",
       "      <td>0.530656</td>\n",
       "      <td>1.780266</td>\n",
       "      <td>49.055285</td>\n",
       "    </tr>\n",
       "    <tr>\n",
       "      <th>7</th>\n",
       "      <td>BYPU6</td>\n",
       "      <td>-0.400648</td>\n",
       "      <td>0.808337</td>\n",
       "      <td>-5.624670</td>\n",
       "      <td>72.943292</td>\n",
       "    </tr>\n",
       "    <tr>\n",
       "      <th>8</th>\n",
       "      <td>j9Oui</td>\n",
       "      <td>0.643105</td>\n",
       "      <td>-0.551583</td>\n",
       "      <td>2.372141</td>\n",
       "      <td>113.356160</td>\n",
       "    </tr>\n",
       "    <tr>\n",
       "      <th>9</th>\n",
       "      <td>OLuZU</td>\n",
       "      <td>2.173381</td>\n",
       "      <td>0.563698</td>\n",
       "      <td>9.441852</td>\n",
       "      <td>127.910945</td>\n",
       "    </tr>\n",
       "  </tbody>\n",
       "</table>\n",
       "</div>"
      ],
      "text/plain": [
       "      id        f0        f1        f2     product\n",
       "0  txEyH  0.705745 -0.497823  1.221170  105.280062\n",
       "1  2acmU  1.334711 -0.340164  4.365080   73.037750\n",
       "2  409Wp  1.022732  0.151990  1.419926   85.265647\n",
       "3  iJLyR -0.032172  0.139033  2.978566  168.620776\n",
       "4  Xdl7t  1.988431  0.155413  4.751769  154.036647\n",
       "5  wX4Hy  0.969570  0.489775 -0.735383   64.741541\n",
       "6  tL6pL  0.645075  0.530656  1.780266   49.055285\n",
       "7  BYPU6 -0.400648  0.808337 -5.624670   72.943292\n",
       "8  j9Oui  0.643105 -0.551583  2.372141  113.356160\n",
       "9  OLuZU  2.173381  0.563698  9.441852  127.910945"
      ]
     },
     "metadata": {},
     "output_type": "display_data"
    },
    {
     "name": "stdout",
     "output_type": "stream",
     "text": [
      "\n",
      "<class 'pandas.core.frame.DataFrame'>\n",
      "RangeIndex: 100000 entries, 0 to 99999\n",
      "Data columns (total 5 columns):\n",
      " #   Column   Non-Null Count   Dtype  \n",
      "---  ------   --------------   -----  \n",
      " 0   id       100000 non-null  object \n",
      " 1   f0       100000 non-null  float64\n",
      " 2   f1       100000 non-null  float64\n",
      " 3   f2       100000 non-null  float64\n",
      " 4   product  100000 non-null  float64\n",
      "dtypes: float64(4), object(1)\n",
      "memory usage: 3.8+ MB\n"
     ]
    },
    {
     "data": {
      "text/plain": [
       "None"
      ]
     },
     "metadata": {},
     "output_type": "display_data"
    },
    {
     "name": "stdout",
     "output_type": "stream",
     "text": [
      "\n"
     ]
    },
    {
     "data": {
      "text/html": [
       "<div>\n",
       "<style scoped>\n",
       "    .dataframe tbody tr th:only-of-type {\n",
       "        vertical-align: middle;\n",
       "    }\n",
       "\n",
       "    .dataframe tbody tr th {\n",
       "        vertical-align: top;\n",
       "    }\n",
       "\n",
       "    .dataframe thead th {\n",
       "        text-align: right;\n",
       "    }\n",
       "</style>\n",
       "<table border=\"1\" class=\"dataframe\">\n",
       "  <thead>\n",
       "    <tr style=\"text-align: right;\">\n",
       "      <th></th>\n",
       "      <th>f0</th>\n",
       "      <th>f1</th>\n",
       "      <th>f2</th>\n",
       "      <th>product</th>\n",
       "    </tr>\n",
       "  </thead>\n",
       "  <tbody>\n",
       "    <tr>\n",
       "      <th>count</th>\n",
       "      <td>100000.000000</td>\n",
       "      <td>100000.000000</td>\n",
       "      <td>100000.000000</td>\n",
       "      <td>100000.000000</td>\n",
       "    </tr>\n",
       "    <tr>\n",
       "      <th>mean</th>\n",
       "      <td>0.500419</td>\n",
       "      <td>0.250143</td>\n",
       "      <td>2.502647</td>\n",
       "      <td>92.500000</td>\n",
       "    </tr>\n",
       "    <tr>\n",
       "      <th>std</th>\n",
       "      <td>0.871832</td>\n",
       "      <td>0.504433</td>\n",
       "      <td>3.248248</td>\n",
       "      <td>44.288691</td>\n",
       "    </tr>\n",
       "    <tr>\n",
       "      <th>min</th>\n",
       "      <td>-1.408605</td>\n",
       "      <td>-0.848218</td>\n",
       "      <td>-12.088328</td>\n",
       "      <td>0.000000</td>\n",
       "    </tr>\n",
       "    <tr>\n",
       "      <th>25%</th>\n",
       "      <td>-0.072580</td>\n",
       "      <td>-0.200881</td>\n",
       "      <td>0.287748</td>\n",
       "      <td>56.497507</td>\n",
       "    </tr>\n",
       "    <tr>\n",
       "      <th>50%</th>\n",
       "      <td>0.502360</td>\n",
       "      <td>0.250252</td>\n",
       "      <td>2.515969</td>\n",
       "      <td>91.849972</td>\n",
       "    </tr>\n",
       "    <tr>\n",
       "      <th>75%</th>\n",
       "      <td>1.073581</td>\n",
       "      <td>0.700646</td>\n",
       "      <td>4.715088</td>\n",
       "      <td>128.564089</td>\n",
       "    </tr>\n",
       "    <tr>\n",
       "      <th>max</th>\n",
       "      <td>2.362331</td>\n",
       "      <td>1.343769</td>\n",
       "      <td>16.003790</td>\n",
       "      <td>185.364347</td>\n",
       "    </tr>\n",
       "  </tbody>\n",
       "</table>\n",
       "</div>"
      ],
      "text/plain": [
       "                  f0             f1             f2        product\n",
       "count  100000.000000  100000.000000  100000.000000  100000.000000\n",
       "mean        0.500419       0.250143       2.502647      92.500000\n",
       "std         0.871832       0.504433       3.248248      44.288691\n",
       "min        -1.408605      -0.848218     -12.088328       0.000000\n",
       "25%        -0.072580      -0.200881       0.287748      56.497507\n",
       "50%         0.502360       0.250252       2.515969      91.849972\n",
       "75%         1.073581       0.700646       4.715088     128.564089\n",
       "max         2.362331       1.343769      16.003790     185.364347"
      ]
     },
     "metadata": {},
     "output_type": "display_data"
    },
    {
     "name": "stdout",
     "output_type": "stream",
     "text": [
      "\n",
      "\n",
      "Количество уникальных значений\n"
     ]
    },
    {
     "data": {
      "text/plain": [
       "id          99990\n",
       "f0         100000\n",
       "f1         100000\n",
       "f2         100000\n",
       "product    100000\n",
       "dtype: int64"
      ]
     },
     "metadata": {},
     "output_type": "display_data"
    },
    {
     "name": "stdout",
     "output_type": "stream",
     "text": [
      "\n",
      "Количество явных дубликатов в таблице\n",
      "\n"
     ]
    },
    {
     "data": {
      "text/plain": [
       "0"
      ]
     },
     "metadata": {},
     "output_type": "display_data"
    },
    {
     "data": {
      "image/png": "[encoded data removed]",
      "text/plain": [
       "<Figure size 432x288 with 2 Axes>"
      ]
     },
     "metadata": {
      "needs_background": "light"
     },
     "output_type": "display_data"
    }
   ],
   "source": [
    "info(geo_data_0)"
   ]
  },
  {
   "cell_type": "markdown",
   "metadata": {},
   "source": [
    "Рассмотрев таблицу, можно заметить, что типы данных указаны верно, в таблице отсутствуют пропуски, отсутствуют явные дубликаты, признак `f2` достаточно сильно коррелирует с целевым признаком `product`. Также в таблице наблюдается повторение десяти уникальных значений идентификаторов скважин, чего не должно быть. Узнать, с чем связано данное повторение не предоставляется возможным, поэтому удалю эти скважины, чтобы в дальнейшем не появлялась путаница, тем более, что это всего 0,01%."
   ]
  },
  {
   "cell_type": "code",
   "execution_count": 5,
   "metadata": {},
   "outputs": [
    {
     "data": {
      "text/plain": [
       "id         99980\n",
       "f0         99980\n",
       "f1         99980\n",
       "f2         99980\n",
       "product    99980\n",
       "dtype: int64"
      ]
     },
     "execution_count": 5,
     "metadata": {},
     "output_type": "execute_result"
    }
   ],
   "source": [
    "geo_data_0 = geo_data_0.drop_duplicates(subset='id', keep=False).reset_index(drop=True)\n",
    "geo_data_0.nunique()"
   ]
  },
  {
   "cell_type": "markdown",
   "metadata": {},
   "source": [
    "Теперь рассмотрю данные таблицы для второго региона."
   ]
  },
  {
   "cell_type": "code",
   "execution_count": 6,
   "metadata": {},
   "outputs": [
    {
     "data": {
      "text/html": [
       "<div>\n",
       "<style scoped>\n",
       "    .dataframe tbody tr th:only-of-type {\n",
       "        vertical-align: middle;\n",
       "    }\n",
       "\n",
       "    .dataframe tbody tr th {\n",
       "        vertical-align: top;\n",
       "    }\n",
       "\n",
       "    .dataframe thead th {\n",
       "        text-align: right;\n",
       "    }\n",
       "</style>\n",
       "<table border=\"1\" class=\"dataframe\">\n",
       "  <thead>\n",
       "    <tr style=\"text-align: right;\">\n",
       "      <th></th>\n",
       "      <th>id</th>\n",
       "      <th>f0</th>\n",
       "      <th>f1</th>\n",
       "      <th>f2</th>\n",
       "      <th>product</th>\n",
       "    </tr>\n",
       "  </thead>\n",
       "  <tbody>\n",
       "    <tr>\n",
       "      <th>0</th>\n",
       "      <td>kBEdx</td>\n",
       "      <td>-15.001348</td>\n",
       "      <td>-8.276000</td>\n",
       "      <td>-0.005876</td>\n",
       "      <td>3.179103</td>\n",
       "    </tr>\n",
       "    <tr>\n",
       "      <th>1</th>\n",
       "      <td>62mP7</td>\n",
       "      <td>14.272088</td>\n",
       "      <td>-3.475083</td>\n",
       "      <td>0.999183</td>\n",
       "      <td>26.953261</td>\n",
       "    </tr>\n",
       "    <tr>\n",
       "      <th>2</th>\n",
       "      <td>vyE1P</td>\n",
       "      <td>6.263187</td>\n",
       "      <td>-5.948386</td>\n",
       "      <td>5.001160</td>\n",
       "      <td>134.766305</td>\n",
       "    </tr>\n",
       "    <tr>\n",
       "      <th>3</th>\n",
       "      <td>KcrkZ</td>\n",
       "      <td>-13.081196</td>\n",
       "      <td>-11.506057</td>\n",
       "      <td>4.999415</td>\n",
       "      <td>137.945408</td>\n",
       "    </tr>\n",
       "    <tr>\n",
       "      <th>4</th>\n",
       "      <td>AHL4O</td>\n",
       "      <td>12.702195</td>\n",
       "      <td>-8.147433</td>\n",
       "      <td>5.004363</td>\n",
       "      <td>134.766305</td>\n",
       "    </tr>\n",
       "    <tr>\n",
       "      <th>5</th>\n",
       "      <td>HHckp</td>\n",
       "      <td>-3.327590</td>\n",
       "      <td>-2.205276</td>\n",
       "      <td>3.003647</td>\n",
       "      <td>84.038886</td>\n",
       "    </tr>\n",
       "    <tr>\n",
       "      <th>6</th>\n",
       "      <td>h5Ujo</td>\n",
       "      <td>-11.142655</td>\n",
       "      <td>-10.133399</td>\n",
       "      <td>4.002382</td>\n",
       "      <td>110.992147</td>\n",
       "    </tr>\n",
       "    <tr>\n",
       "      <th>7</th>\n",
       "      <td>muH9x</td>\n",
       "      <td>4.234715</td>\n",
       "      <td>-0.001354</td>\n",
       "      <td>2.004588</td>\n",
       "      <td>53.906522</td>\n",
       "    </tr>\n",
       "    <tr>\n",
       "      <th>8</th>\n",
       "      <td>YiRkx</td>\n",
       "      <td>13.355129</td>\n",
       "      <td>-0.332068</td>\n",
       "      <td>4.998647</td>\n",
       "      <td>134.766305</td>\n",
       "    </tr>\n",
       "    <tr>\n",
       "      <th>9</th>\n",
       "      <td>jG6Gi</td>\n",
       "      <td>1.069227</td>\n",
       "      <td>-11.025667</td>\n",
       "      <td>4.997844</td>\n",
       "      <td>137.945408</td>\n",
       "    </tr>\n",
       "  </tbody>\n",
       "</table>\n",
       "</div>"
      ],
      "text/plain": [
       "      id         f0         f1        f2     product\n",
       "0  kBEdx -15.001348  -8.276000 -0.005876    3.179103\n",
       "1  62mP7  14.272088  -3.475083  0.999183   26.953261\n",
       "2  vyE1P   6.263187  -5.948386  5.001160  134.766305\n",
       "3  KcrkZ -13.081196 -11.506057  4.999415  137.945408\n",
       "4  AHL4O  12.702195  -8.147433  5.004363  134.766305\n",
       "5  HHckp  -3.327590  -2.205276  3.003647   84.038886\n",
       "6  h5Ujo -11.142655 -10.133399  4.002382  110.992147\n",
       "7  muH9x   4.234715  -0.001354  2.004588   53.906522\n",
       "8  YiRkx  13.355129  -0.332068  4.998647  134.766305\n",
       "9  jG6Gi   1.069227 -11.025667  4.997844  137.945408"
      ]
     },
     "metadata": {},
     "output_type": "display_data"
    },
    {
     "name": "stdout",
     "output_type": "stream",
     "text": [
      "\n",
      "<class 'pandas.core.frame.DataFrame'>\n",
      "RangeIndex: 100000 entries, 0 to 99999\n",
      "Data columns (total 5 columns):\n",
      " #   Column   Non-Null Count   Dtype  \n",
      "---  ------   --------------   -----  \n",
      " 0   id       100000 non-null  object \n",
      " 1   f0       100000 non-null  float64\n",
      " 2   f1       100000 non-null  float64\n",
      " 3   f2       100000 non-null  float64\n",
      " 4   product  100000 non-null  float64\n",
      "dtypes: float64(4), object(1)\n",
      "memory usage: 3.8+ MB\n"
     ]
    },
    {
     "data": {
      "text/plain": [
       "None"
      ]
     },
     "metadata": {},
     "output_type": "display_data"
    },
    {
     "name": "stdout",
     "output_type": "stream",
     "text": [
      "\n"
     ]
    },
    {
     "data": {
      "text/html": [
       "<div>\n",
       "<style scoped>\n",
       "    .dataframe tbody tr th:only-of-type {\n",
       "        vertical-align: middle;\n",
       "    }\n",
       "\n",
       "    .dataframe tbody tr th {\n",
       "        vertical-align: top;\n",
       "    }\n",
       "\n",
       "    .dataframe thead th {\n",
       "        text-align: right;\n",
       "    }\n",
       "</style>\n",
       "<table border=\"1\" class=\"dataframe\">\n",
       "  <thead>\n",
       "    <tr style=\"text-align: right;\">\n",
       "      <th></th>\n",
       "      <th>f0</th>\n",
       "      <th>f1</th>\n",
       "      <th>f2</th>\n",
       "      <th>product</th>\n",
       "    </tr>\n",
       "  </thead>\n",
       "  <tbody>\n",
       "    <tr>\n",
       "      <th>count</th>\n",
       "      <td>100000.000000</td>\n",
       "      <td>100000.000000</td>\n",
       "      <td>100000.000000</td>\n",
       "      <td>100000.000000</td>\n",
       "    </tr>\n",
       "    <tr>\n",
       "      <th>mean</th>\n",
       "      <td>1.141296</td>\n",
       "      <td>-4.796579</td>\n",
       "      <td>2.494541</td>\n",
       "      <td>68.825000</td>\n",
       "    </tr>\n",
       "    <tr>\n",
       "      <th>std</th>\n",
       "      <td>8.965932</td>\n",
       "      <td>5.119872</td>\n",
       "      <td>1.703572</td>\n",
       "      <td>45.944423</td>\n",
       "    </tr>\n",
       "    <tr>\n",
       "      <th>min</th>\n",
       "      <td>-31.609576</td>\n",
       "      <td>-26.358598</td>\n",
       "      <td>-0.018144</td>\n",
       "      <td>0.000000</td>\n",
       "    </tr>\n",
       "    <tr>\n",
       "      <th>25%</th>\n",
       "      <td>-6.298551</td>\n",
       "      <td>-8.267985</td>\n",
       "      <td>1.000021</td>\n",
       "      <td>26.953261</td>\n",
       "    </tr>\n",
       "    <tr>\n",
       "      <th>50%</th>\n",
       "      <td>1.153055</td>\n",
       "      <td>-4.813172</td>\n",
       "      <td>2.011479</td>\n",
       "      <td>57.085625</td>\n",
       "    </tr>\n",
       "    <tr>\n",
       "      <th>75%</th>\n",
       "      <td>8.621015</td>\n",
       "      <td>-1.332816</td>\n",
       "      <td>3.999904</td>\n",
       "      <td>107.813044</td>\n",
       "    </tr>\n",
       "    <tr>\n",
       "      <th>max</th>\n",
       "      <td>29.421755</td>\n",
       "      <td>18.734063</td>\n",
       "      <td>5.019721</td>\n",
       "      <td>137.945408</td>\n",
       "    </tr>\n",
       "  </tbody>\n",
       "</table>\n",
       "</div>"
      ],
      "text/plain": [
       "                  f0             f1             f2        product\n",
       "count  100000.000000  100000.000000  100000.000000  100000.000000\n",
       "mean        1.141296      -4.796579       2.494541      68.825000\n",
       "std         8.965932       5.119872       1.703572      45.944423\n",
       "min       -31.609576     -26.358598      -0.018144       0.000000\n",
       "25%        -6.298551      -8.267985       1.000021      26.953261\n",
       "50%         1.153055      -4.813172       2.011479      57.085625\n",
       "75%         8.621015      -1.332816       3.999904     107.813044\n",
       "max        29.421755      18.734063       5.019721     137.945408"
      ]
     },
     "metadata": {},
     "output_type": "display_data"
    },
    {
     "name": "stdout",
     "output_type": "stream",
     "text": [
      "\n",
      "\n",
      "Количество уникальных значений\n"
     ]
    },
    {
     "data": {
      "text/plain": [
       "id          99996\n",
       "f0         100000\n",
       "f1         100000\n",
       "f2         100000\n",
       "product        12\n",
       "dtype: int64"
      ]
     },
     "metadata": {},
     "output_type": "display_data"
    },
    {
     "name": "stdout",
     "output_type": "stream",
     "text": [
      "\n",
      "Количество явных дубликатов в таблице\n",
      "\n"
     ]
    },
    {
     "data": {
      "text/plain": [
       "0"
      ]
     },
     "metadata": {},
     "output_type": "display_data"
    },
    {
     "data": {
      "image/png": "[encoded data removed]",
      "text/plain": [
       "<Figure size 432x288 with 2 Axes>"
      ]
     },
     "metadata": {
      "needs_background": "light"
     },
     "output_type": "display_data"
    }
   ],
   "source": [
    "info(geo_data_1)"
   ]
  },
  {
   "cell_type": "markdown",
   "metadata": {},
   "source": [
    "Данные во второй таблице тоже хорошо подготовлены. Типы данных соответствуют, отсутствуют пропуски, но снова повторяются уникальные иденификаторы скажин. Удалю дублирующиеся `id`. Так же можно заметить, что признак `f2` сильно коррелирует с целевым признаком `product`."
   ]
  },
  {
   "cell_type": "code",
   "execution_count": 7,
   "metadata": {},
   "outputs": [
    {
     "data": {
      "text/plain": [
       "id         99992\n",
       "f0         99992\n",
       "f1         99992\n",
       "f2         99992\n",
       "product       12\n",
       "dtype: int64"
      ]
     },
     "execution_count": 7,
     "metadata": {},
     "output_type": "execute_result"
    }
   ],
   "source": [
    "geo_data_1 = geo_data_1.drop_duplicates(subset='id', keep=False).reset_index(drop=True)\n",
    "geo_data_1.nunique()"
   ]
  },
  {
   "cell_type": "markdown",
   "metadata": {},
   "source": [
    "Осталось рассмотреть таблицу третьего региона."
   ]
  },
  {
   "cell_type": "code",
   "execution_count": 8,
   "metadata": {},
   "outputs": [
    {
     "data": {
      "text/html": [
       "<div>\n",
       "<style scoped>\n",
       "    .dataframe tbody tr th:only-of-type {\n",
       "        vertical-align: middle;\n",
       "    }\n",
       "\n",
       "    .dataframe tbody tr th {\n",
       "        vertical-align: top;\n",
       "    }\n",
       "\n",
       "    .dataframe thead th {\n",
       "        text-align: right;\n",
       "    }\n",
       "</style>\n",
       "<table border=\"1\" class=\"dataframe\">\n",
       "  <thead>\n",
       "    <tr style=\"text-align: right;\">\n",
       "      <th></th>\n",
       "      <th>id</th>\n",
       "      <th>f0</th>\n",
       "      <th>f1</th>\n",
       "      <th>f2</th>\n",
       "      <th>product</th>\n",
       "    </tr>\n",
       "  </thead>\n",
       "  <tbody>\n",
       "    <tr>\n",
       "      <th>0</th>\n",
       "      <td>fwXo0</td>\n",
       "      <td>-1.146987</td>\n",
       "      <td>0.963328</td>\n",
       "      <td>-0.828965</td>\n",
       "      <td>27.758673</td>\n",
       "    </tr>\n",
       "    <tr>\n",
       "      <th>1</th>\n",
       "      <td>WJtFt</td>\n",
       "      <td>0.262778</td>\n",
       "      <td>0.269839</td>\n",
       "      <td>-2.530187</td>\n",
       "      <td>56.069697</td>\n",
       "    </tr>\n",
       "    <tr>\n",
       "      <th>2</th>\n",
       "      <td>ovLUW</td>\n",
       "      <td>0.194587</td>\n",
       "      <td>0.289035</td>\n",
       "      <td>-5.586433</td>\n",
       "      <td>62.871910</td>\n",
       "    </tr>\n",
       "    <tr>\n",
       "      <th>3</th>\n",
       "      <td>q6cA6</td>\n",
       "      <td>2.236060</td>\n",
       "      <td>-0.553760</td>\n",
       "      <td>0.930038</td>\n",
       "      <td>114.572842</td>\n",
       "    </tr>\n",
       "    <tr>\n",
       "      <th>4</th>\n",
       "      <td>WPMUX</td>\n",
       "      <td>-0.515993</td>\n",
       "      <td>1.716266</td>\n",
       "      <td>5.899011</td>\n",
       "      <td>149.600746</td>\n",
       "    </tr>\n",
       "    <tr>\n",
       "      <th>5</th>\n",
       "      <td>LzZXx</td>\n",
       "      <td>-0.758092</td>\n",
       "      <td>0.710691</td>\n",
       "      <td>2.585887</td>\n",
       "      <td>90.222465</td>\n",
       "    </tr>\n",
       "    <tr>\n",
       "      <th>6</th>\n",
       "      <td>WBHRv</td>\n",
       "      <td>-0.574891</td>\n",
       "      <td>0.317727</td>\n",
       "      <td>1.773745</td>\n",
       "      <td>45.641478</td>\n",
       "    </tr>\n",
       "    <tr>\n",
       "      <th>7</th>\n",
       "      <td>XO8fn</td>\n",
       "      <td>-1.906649</td>\n",
       "      <td>-2.458350</td>\n",
       "      <td>-0.177097</td>\n",
       "      <td>72.480640</td>\n",
       "    </tr>\n",
       "    <tr>\n",
       "      <th>8</th>\n",
       "      <td>ybmQ5</td>\n",
       "      <td>1.776292</td>\n",
       "      <td>-0.279356</td>\n",
       "      <td>3.004156</td>\n",
       "      <td>106.616832</td>\n",
       "    </tr>\n",
       "    <tr>\n",
       "      <th>9</th>\n",
       "      <td>OilcN</td>\n",
       "      <td>-1.214452</td>\n",
       "      <td>-0.439314</td>\n",
       "      <td>5.922514</td>\n",
       "      <td>52.954532</td>\n",
       "    </tr>\n",
       "  </tbody>\n",
       "</table>\n",
       "</div>"
      ],
      "text/plain": [
       "      id        f0        f1        f2     product\n",
       "0  fwXo0 -1.146987  0.963328 -0.828965   27.758673\n",
       "1  WJtFt  0.262778  0.269839 -2.530187   56.069697\n",
       "2  ovLUW  0.194587  0.289035 -5.586433   62.871910\n",
       "3  q6cA6  2.236060 -0.553760  0.930038  114.572842\n",
       "4  WPMUX -0.515993  1.716266  5.899011  149.600746\n",
       "5  LzZXx -0.758092  0.710691  2.585887   90.222465\n",
       "6  WBHRv -0.574891  0.317727  1.773745   45.641478\n",
       "7  XO8fn -1.906649 -2.458350 -0.177097   72.480640\n",
       "8  ybmQ5  1.776292 -0.279356  3.004156  106.616832\n",
       "9  OilcN -1.214452 -0.439314  5.922514   52.954532"
      ]
     },
     "metadata": {},
     "output_type": "display_data"
    },
    {
     "name": "stdout",
     "output_type": "stream",
     "text": [
      "\n",
      "<class 'pandas.core.frame.DataFrame'>\n",
      "RangeIndex: 100000 entries, 0 to 99999\n",
      "Data columns (total 5 columns):\n",
      " #   Column   Non-Null Count   Dtype  \n",
      "---  ------   --------------   -----  \n",
      " 0   id       100000 non-null  object \n",
      " 1   f0       100000 non-null  float64\n",
      " 2   f1       100000 non-null  float64\n",
      " 3   f2       100000 non-null  float64\n",
      " 4   product  100000 non-null  float64\n",
      "dtypes: float64(4), object(1)\n",
      "memory usage: 3.8+ MB\n"
     ]
    },
    {
     "data": {
      "text/plain": [
       "None"
      ]
     },
     "metadata": {},
     "output_type": "display_data"
    },
    {
     "name": "stdout",
     "output_type": "stream",
     "text": [
      "\n"
     ]
    },
    {
     "data": {
      "text/html": [
       "<div>\n",
       "<style scoped>\n",
       "    .dataframe tbody tr th:only-of-type {\n",
       "        vertical-align: middle;\n",
       "    }\n",
       "\n",
       "    .dataframe tbody tr th {\n",
       "        vertical-align: top;\n",
       "    }\n",
       "\n",
       "    .dataframe thead th {\n",
       "        text-align: right;\n",
       "    }\n",
       "</style>\n",
       "<table border=\"1\" class=\"dataframe\">\n",
       "  <thead>\n",
       "    <tr style=\"text-align: right;\">\n",
       "      <th></th>\n",
       "      <th>f0</th>\n",
       "      <th>f1</th>\n",
       "      <th>f2</th>\n",
       "      <th>product</th>\n",
       "    </tr>\n",
       "  </thead>\n",
       "  <tbody>\n",
       "    <tr>\n",
       "      <th>count</th>\n",
       "      <td>100000.000000</td>\n",
       "      <td>100000.000000</td>\n",
       "      <td>100000.000000</td>\n",
       "      <td>100000.000000</td>\n",
       "    </tr>\n",
       "    <tr>\n",
       "      <th>mean</th>\n",
       "      <td>0.002023</td>\n",
       "      <td>-0.002081</td>\n",
       "      <td>2.495128</td>\n",
       "      <td>95.000000</td>\n",
       "    </tr>\n",
       "    <tr>\n",
       "      <th>std</th>\n",
       "      <td>1.732045</td>\n",
       "      <td>1.730417</td>\n",
       "      <td>3.473445</td>\n",
       "      <td>44.749921</td>\n",
       "    </tr>\n",
       "    <tr>\n",
       "      <th>min</th>\n",
       "      <td>-8.760004</td>\n",
       "      <td>-7.084020</td>\n",
       "      <td>-11.970335</td>\n",
       "      <td>0.000000</td>\n",
       "    </tr>\n",
       "    <tr>\n",
       "      <th>25%</th>\n",
       "      <td>-1.162288</td>\n",
       "      <td>-1.174820</td>\n",
       "      <td>0.130359</td>\n",
       "      <td>59.450441</td>\n",
       "    </tr>\n",
       "    <tr>\n",
       "      <th>50%</th>\n",
       "      <td>0.009424</td>\n",
       "      <td>-0.009482</td>\n",
       "      <td>2.484236</td>\n",
       "      <td>94.925613</td>\n",
       "    </tr>\n",
       "    <tr>\n",
       "      <th>75%</th>\n",
       "      <td>1.158535</td>\n",
       "      <td>1.163678</td>\n",
       "      <td>4.858794</td>\n",
       "      <td>130.595027</td>\n",
       "    </tr>\n",
       "    <tr>\n",
       "      <th>max</th>\n",
       "      <td>7.238262</td>\n",
       "      <td>7.844801</td>\n",
       "      <td>16.739402</td>\n",
       "      <td>190.029838</td>\n",
       "    </tr>\n",
       "  </tbody>\n",
       "</table>\n",
       "</div>"
      ],
      "text/plain": [
       "                  f0             f1             f2        product\n",
       "count  100000.000000  100000.000000  100000.000000  100000.000000\n",
       "mean        0.002023      -0.002081       2.495128      95.000000\n",
       "std         1.732045       1.730417       3.473445      44.749921\n",
       "min        -8.760004      -7.084020     -11.970335       0.000000\n",
       "25%        -1.162288      -1.174820       0.130359      59.450441\n",
       "50%         0.009424      -0.009482       2.484236      94.925613\n",
       "75%         1.158535       1.163678       4.858794     130.595027\n",
       "max         7.238262       7.844801      16.739402     190.029838"
      ]
     },
     "metadata": {},
     "output_type": "display_data"
    },
    {
     "name": "stdout",
     "output_type": "stream",
     "text": [
      "\n",
      "\n",
      "Количество уникальных значений\n"
     ]
    },
    {
     "data": {
      "text/plain": [
       "id          99996\n",
       "f0         100000\n",
       "f1         100000\n",
       "f2         100000\n",
       "product    100000\n",
       "dtype: int64"
      ]
     },
     "metadata": {},
     "output_type": "display_data"
    },
    {
     "name": "stdout",
     "output_type": "stream",
     "text": [
      "\n",
      "Количество явных дубликатов в таблице\n",
      "\n"
     ]
    },
    {
     "data": {
      "text/plain": [
       "0"
      ]
     },
     "metadata": {},
     "output_type": "display_data"
    },
    {
     "data": {
      "image/png": "[encoded data removed]",
      "text/plain": [
       "<Figure size 432x288 with 2 Axes>"
      ]
     },
     "metadata": {
      "needs_background": "light"
     },
     "output_type": "display_data"
    }
   ],
   "source": [
    "info(geo_data_2)"
   ]
  },
  {
   "cell_type": "markdown",
   "metadata": {},
   "source": [
    "С третьей таблицей дела обстоят аналогично, как и с предыдущими. Таблица хорошо подготовлена, но повторяются уникальные идентификаторы скважен и признак `f2` коррелирует с целевым признаком `product`. Удалю дублирующиеся `id`."
   ]
  },
  {
   "cell_type": "code",
   "execution_count": 9,
   "metadata": {},
   "outputs": [
    {
     "data": {
      "text/plain": [
       "id         99992\n",
       "f0         99992\n",
       "f1         99992\n",
       "f2         99992\n",
       "product    99992\n",
       "dtype: int64"
      ]
     },
     "execution_count": 9,
     "metadata": {},
     "output_type": "execute_result"
    }
   ],
   "source": [
    "geo_data_2 = geo_data_2.drop_duplicates(subset='id', keep=False).reset_index(drop=True)\n",
    "geo_data_2.nunique()"
   ]
  },
  {
   "cell_type": "markdown",
   "metadata": {},
   "source": [
    "**Вывод:**\n",
    "\n",
    " - Таблицы трех регионов хорошо подготовлены: типы данных соответствуют, отсутствуют пропуски, применен единый регистр, отсутствуют явные дубликаты;\n",
    " - Признак `f2` во всех регионах коррелирует с целевым признаком `product`;\n",
    " - В таблицах встречались дубликаты уникальных идентификаторов скважин. Дубликаты были удалены."
   ]
  },
  {
   "cell_type": "markdown",
   "metadata": {},
   "source": [
    "## Обучение и проверка модели"
   ]
  },
  {
   "cell_type": "markdown",
   "metadata": {},
   "source": [
    "Создам функцию, которая обучит и проверит модели для разных регионов. Разделю таблицы на признаки и целевой признак, из признаков уберу колонку с `id`, она нам не понадобится. И разобью данные на обучающую и валидационную выборки в соотношении 75:25. Рассчитаю метрику RMSE для каждгого региона."
   ]
  },
  {
   "cell_type": "code",
   "execution_count": 10,
   "metadata": {},
   "outputs": [],
   "source": [
    "def model_validation(data):\n",
    "    # разделяю данные на признаки и целевой признак\n",
    "    features = data.drop(['id', 'product'], axis=1)\n",
    "    target = data['product']\n",
    "    # отделияю 25% данных для валидационной выборки\n",
    "    features_train, features_valid, target_train, target_valid = train_test_split(\n",
    "                                                            features, target, test_size=0.25,\n",
    "                                                            random_state=12345)\n",
    "    # преобразовываю масштаб признаков методом стандартизации\n",
    "    scaler = StandardScaler()\n",
    "    scaler.fit(features_train)\n",
    "    features_train = scaler.transform(features_train)\n",
    "    features_valid = scaler.transform(features_valid) \n",
    "    # инициализирую и обучаю модель линейной регрессии,получаю предсказания модели на валидационной выборке \n",
    "    model = LinearRegression()\n",
    "    model.fit(features_train, target_train)\n",
    "    predictions_valid = model.predict(features_valid)\n",
    "    predictions_valid = pd.Series(predictions_valid)\n",
    "    predictions_valid.index = target_valid.index\n",
    "    # считаю значение метрики RMSE на валидационной выборке\n",
    "    rmse = mean_squared_error(target_valid, predictions_valid, squared=False) \n",
    "    # возвращаю предсказания, правильные ответы и RMSE\n",
    "    return predictions_valid, target_valid, rmse"
   ]
  },
  {
   "cell_type": "markdown",
   "metadata": {},
   "source": [
    "Теперь рассчитаю средний запас предсказанного сырья и RMSE для первого региона."
   ]
  },
  {
   "cell_type": "code",
   "execution_count": 11,
   "metadata": {
    "scrolled": true
   },
   "outputs": [
    {
     "name": "stdout",
     "output_type": "stream",
     "text": [
      "Средний запас предсказанного сырья 92.42  (тыс. баррелей)\n",
      "RMSE: 37.716904960382735\n"
     ]
    }
   ],
   "source": [
    "predictions_valid_0, target_valid_0, rmse_0 = model_validation(geo_data_0)\n",
    "print(f'Средний запас предсказанного сырья {predictions_valid_0.mean():.2f}  (тыс. баррелей)\\nRMSE: {rmse_0}')"
   ]
  },
  {
   "cell_type": "markdown",
   "metadata": {},
   "source": [
    "Далее рассчитаю средний запас предсказанного сырья и RMSE для второго региона."
   ]
  },
  {
   "cell_type": "code",
   "execution_count": 12,
   "metadata": {},
   "outputs": [
    {
     "name": "stdout",
     "output_type": "stream",
     "text": [
      "Средний запас предсказанного сырья 68.98  (тыс. баррелей)\n",
      "RMSE: 0.891490139034854\n"
     ]
    }
   ],
   "source": [
    "predictions_valid_1, target_valid_1, rmse_1 = model_validation(geo_data_1)\n",
    "print(f'Средний запас предсказанного сырья {predictions_valid_1.mean():.2f}  (тыс. баррелей)\\nRMSE: {rmse_1}')"
   ]
  },
  {
   "cell_type": "markdown",
   "metadata": {},
   "source": [
    "И осталось рассмотреть средний запас предсказанного сырья и RMSE для третьего региона."
   ]
  },
  {
   "cell_type": "code",
   "execution_count": 13,
   "metadata": {},
   "outputs": [
    {
     "name": "stdout",
     "output_type": "stream",
     "text": [
      "Средний запас предсказанного сырья 95.12  (тыс. баррелей)\n",
      "RMSE: 39.975543264382345\n"
     ]
    }
   ],
   "source": [
    "predictions_valid_2, target_valid_2, rmse_2 = model_validation(geo_data_2)\n",
    "print(f'Средний запас предсказанного сырья {predictions_valid_2.mean():.2f}  (тыс. баррелей)\\nRMSE: {rmse_2}')"
   ]
  },
  {
   "cell_type": "markdown",
   "metadata": {},
   "source": [
    "Выведу полученные данные в отдельную таблицу."
   ]
  },
  {
   "cell_type": "code",
   "execution_count": 14,
   "metadata": {},
   "outputs": [],
   "source": [
    "frame = {\n",
    "    'region': [1, 2, 3],\n",
    "    'predictions': [predictions_valid_0.mean(), predictions_valid_1.mean(), predictions_valid_2.mean()],\n",
    "           'rmse': [rmse_0, rmse_1, rmse_2]\n",
    "           }"
   ]
  },
  {
   "cell_type": "code",
   "execution_count": 15,
   "metadata": {},
   "outputs": [
    {
     "data": {
      "text/html": [
       "<div>\n",
       "<style scoped>\n",
       "    .dataframe tbody tr th:only-of-type {\n",
       "        vertical-align: middle;\n",
       "    }\n",
       "\n",
       "    .dataframe tbody tr th {\n",
       "        vertical-align: top;\n",
       "    }\n",
       "\n",
       "    .dataframe thead th {\n",
       "        text-align: right;\n",
       "    }\n",
       "</style>\n",
       "<table border=\"1\" class=\"dataframe\">\n",
       "  <thead>\n",
       "    <tr style=\"text-align: right;\">\n",
       "      <th></th>\n",
       "      <th>region</th>\n",
       "      <th>predictions</th>\n",
       "      <th>rmse</th>\n",
       "    </tr>\n",
       "  </thead>\n",
       "  <tbody>\n",
       "    <tr>\n",
       "      <th>0</th>\n",
       "      <td>1</td>\n",
       "      <td>92.423841</td>\n",
       "      <td>37.716905</td>\n",
       "    </tr>\n",
       "    <tr>\n",
       "      <th>1</th>\n",
       "      <td>2</td>\n",
       "      <td>68.983119</td>\n",
       "      <td>0.891490</td>\n",
       "    </tr>\n",
       "    <tr>\n",
       "      <th>2</th>\n",
       "      <td>3</td>\n",
       "      <td>95.116223</td>\n",
       "      <td>39.975543</td>\n",
       "    </tr>\n",
       "  </tbody>\n",
       "</table>\n",
       "</div>"
      ],
      "text/plain": [
       "   region  predictions       rmse\n",
       "0       1    92.423841  37.716905\n",
       "1       2    68.983119   0.891490\n",
       "2       3    95.116223  39.975543"
      ]
     },
     "execution_count": 15,
     "metadata": {},
     "output_type": "execute_result"
    }
   ],
   "source": [
    "pd.DataFrame(frame)"
   ]
  },
  {
   "cell_type": "markdown",
   "metadata": {},
   "source": [
    "**Вывод:**\n",
    "\n",
    "Глядя на результаты, можно заметить, что в первом и третьем регионах наибольшее количество среднего запаса предсказанного сырья - 92,42 и 95,12 тыс.баррелей, во втором регионе запасов значительно меньше - 68,98 тыс.баррелей. Но модель логистической регрессии лучше работает со вторым регионом, в данном регионе RMSE = 0,89, в отличие от первого и третьего регионов, где RMSE выше 37. Думаю RMSE во втором регионе связано с высокой корреляцией признака `f2` с целевым признаком и количеством уникальных значений в колонке `product`, которое составляет 12."
   ]
  },
  {
   "cell_type": "markdown",
   "metadata": {},
   "source": [
    "## Подготовка к расчёту прибыли"
   ]
  },
  {
   "cell_type": "markdown",
   "metadata": {},
   "source": [
    "Учитывая условия задачи, для расчётов сохраню в отдельных переменных все ключевые значения и рассчитаю достаточный объём сырья для безубыточной разработки новой скважины."
   ]
  },
  {
   "cell_type": "code",
   "execution_count": 16,
   "metadata": {},
   "outputs": [],
   "source": [
    "BUDGET = 10e9\n",
    "REVENUE_PER_BARREL = 450_000\n",
    "STUDY_WELL = 500\n",
    "BEST_STUDY_POINTS = 200\n",
    "LOSS_PROBA = 0.025"
   ]
  },
  {
   "cell_type": "code",
   "execution_count": 17,
   "metadata": {
    "scrolled": true
   },
   "outputs": [
    {
     "name": "stdout",
     "output_type": "stream",
     "text": [
      "Достаточный объём сырья для безубыточной разработки новой скважины составляет 111.11 (тыс. баррелей)\n",
      "Достаточный доход для безубыточности разработки новой скважины составляет 50 млн.рублей\n"
     ]
    }
   ],
   "source": [
    "need_barrel = BUDGET/REVENUE_PER_BARREL/BEST_STUDY_POINTS\n",
    "min_income_well = BUDGET/BEST_STUDY_POINTS/10e5\n",
    "print(f'''Достаточный объём сырья для безубыточной разработки новой скважины составляет {need_barrel:.2f} (тыс. баррелей)\n",
    "Достаточный доход для безубыточности разработки новой скважины составляет {min_income_well:.0f} млн.рублей''')"
   ]
  },
  {
   "cell_type": "markdown",
   "metadata": {},
   "source": [
    "Минимальный достаточный объем сырья для безубыточной разработки новой скважины выше, чем средний запас предсказанного сырья в каждом регионе. Необходимый объем для безубыточности 111,11 тыс.баррелей, а 92,42, 68,98, 95,11 тыс. баррелей средний запас сырья в первом, втором и третьем регионах соответственно. \n",
    "Необходимо найти скважины с запасом сырья больше среднего значения."
   ]
  },
  {
   "cell_type": "markdown",
   "metadata": {},
   "source": [
    "Теперь напишу функцию для расчёта прибыли по выбранным скважинам и предсказаниям модели для 200 лучших точек и посчитаю прибыль для каждого региона."
   ]
  },
  {
   "cell_type": "code",
   "execution_count": 19,
   "metadata": {},
   "outputs": [],
   "source": [
    "def profit(target, predicted, count):\n",
    "    top_well = predicted.sort_values(ascending=False)\n",
    "    selected = target[top_well.index][:count]\n",
    "    result = selected.sum()*REVENUE_PER_BARREL-BUDGET\n",
    "    return result"
   ]
  },
  {
   "cell_type": "code",
   "execution_count": null,
   "metadata": {},
   "outputs": [],
   "source": [
    "print(f'''Прибыль в первом регионе {profit(target_valid_0, predictions_valid_0, BEST_STUDY_POINTS)/10e8:.2f} млрд.руб.\n",
    "Прибыль во втором регионе {profit(target_valid_1, predictions_valid_1, BEST_STUDY_POINTS)/10e8:.2f} млрд.руб.\n",
    "Прибыль в третьем регионе {profit(target_valid_2, predictions_valid_2, BEST_STUDY_POINTS)/10e8:.2f} млрд.руб.''')"
   ]
  },
  {
   "cell_type": "markdown",
   "metadata": {},
   "source": [
    "**Вывод:**\n",
    " Средний запас предсказанного сырья в каждом регионе ниже минимального объема сырья для достижения безубыточности. Отобраны 200 лучших точек со скважинами для разработки сырья и расчитана прибыль для полученного объема в каждом регионе. Максимальная прибыль в первом регионе и составляет 3,14 млрд. рублей."
   ]
  },
  {
   "cell_type": "markdown",
   "metadata": {},
   "source": [
    "## Расчёт прибыли и рисков "
   ]
  },
  {
   "cell_type": "markdown",
   "metadata": {},
   "source": [
    "Теперь посчитаю риски и прибыль для каждого региона с применением техники Bootstrap с 1000 выборками. Найду среднюю прибыль, 95%-й доверительный интервал и риск убытков.\n",
    "\n",
    "Для начала напишу функцию для расчета данных для каждого региона."
   ]
  },
  {
   "cell_type": "code",
   "execution_count": 21,
   "metadata": {},
   "outputs": [],
   "source": [
    "state = np.random.RandomState(12345)\n",
    "def distribution_profit(target, probabilities):\n",
    "    values = []\n",
    "    # применяю бутстреп 1000 раз \n",
    "    for i in range(1000):\n",
    "        target_subsample = target.sample(n=500, replace=True, random_state=state)\n",
    "        probs_subsample = probabilities[target_subsample.index]\n",
    "        result = profit(target_subsample, probs_subsample, BEST_STUDY_POINTS)\n",
    "        values.append(result)\n",
    "    # рассчитываю среднюю прибыль\n",
    "    values = pd.Series(values)\n",
    "    mean = values.mean()/10e5\n",
    "    # нахожу 95%-й доверительный интервал\n",
    "    lower = values.quantile(q=0.025)/10e5\n",
    "    upper = values.quantile(q=0.975)/10e5\n",
    "    # определяю риск убытков\n",
    "    risk = (values < 0).mean()*100\n",
    "\n",
    "\n",
    "    print(f'''Средняя прибыль {mean:.2f} млн.руб.\n",
    "95%-й доверительный интервал {lower:.2f} - {upper:.2f} млн.руб.\n",
    "Риск убытков {risk:.2f}%''')"
   ]
  },
  {
   "cell_type": "markdown",
   "metadata": {},
   "source": [
    "**Регион 1**"
   ]
  },
  {
   "cell_type": "code",
   "execution_count": 22,
   "metadata": {},
   "outputs": [
    {
     "name": "stdout",
     "output_type": "stream",
     "text": [
      "Средняя прибыль 459.09 млн.руб.\n",
      "95%-й доверительный интервал -90.23 - 987.95 млн.руб.\n",
      "Риск убытков 4.70%\n"
     ]
    }
   ],
   "source": [
    "distribution_profit(target_valid_0, predictions_valid_0)"
   ]
  },
  {
   "cell_type": "markdown",
   "metadata": {},
   "source": [
    "**Регион 2**"
   ]
  },
  {
   "cell_type": "code",
   "execution_count": 23,
   "metadata": {},
   "outputs": [
    {
     "name": "stdout",
     "output_type": "stream",
     "text": [
      "Средняя прибыль 523.58 млн.руб.\n",
      "95%-й доверительный интервал 133.79 - 961.45 млн.руб.\n",
      "Риск убытков 0.60%\n"
     ]
    }
   ],
   "source": [
    "distribution_profit(target_valid_1, predictions_valid_1)"
   ]
  },
  {
   "cell_type": "markdown",
   "metadata": {},
   "source": [
    "**Регион 3**"
   ]
  },
  {
   "cell_type": "code",
   "execution_count": 24,
   "metadata": {
    "scrolled": true
   },
   "outputs": [
    {
     "name": "stdout",
     "output_type": "stream",
     "text": [
      "Средняя прибыль 341.47 млн.руб.\n",
      "95%-й доверительный интервал -198.36 - 852.71 млн.руб.\n",
      "Риск убытков 11.60%\n"
     ]
    }
   ],
   "source": [
    "distribution_profit(target_valid_2, predictions_valid_2)"
   ]
  },
  {
   "cell_type": "markdown",
   "metadata": {},
   "source": [
    "**Вывод:**\n",
    "\n",
    "Рассчитана средняя прибыль, доверительный интервал и риски. Лучшие показатели у региона 2, данный регион единственный у которого вероятность убытка меньше 2,5%. \n"
   ]
  },
  {
   "cell_type": "markdown",
   "metadata": {},
   "source": [
    "## Общий вывод"
   ]
  },
  {
   "cell_type": "markdown",
   "metadata": {},
   "source": [
    "В ходе выполнения проекта получены следующие результаты:\n",
    "\n",
    " - Обученные модели линейной регрессии показали, что минимальная RMSE соответствует 2-му региону и составляет 0,89, в отличие от 1-го и 3-го регионов, где RMSE выше 37. А наибольший предсказанный средний запас сырья в 1-м и 3-м регионах.\n",
    " - Отобраны скважины с максимальным количеством предсказаний и рассчитайте прибыль для полученного объёма сырья. Максимальная прибыль в первом регионе и составляет 3,14 млрд. рублей.\n",
    " - Рассчитана средняя прибыль, 95%-й доверительный интервал и оценка риска. После оценки рисков выявлено, что условию задачи соответствует регион 2 - вероятность убытков составляет меньше 2,5% и данный регион имеет наибольшую среднюю прибыль. \n",
    " \n",
    "**Рекомендация**\n",
    " \n",
    " Для разработки новых скважин рекомендуется регион 2, т.к. в данном регион наименьшая вероятность убытков 0,6% и максимальная средняя прибыль."
   ]
  }
 ],
 "metadata": {
  "ExecuteTimeLog": [
   {
    "duration": 418,
    "start_time": "2022-12-23T13:26:44.671Z"
   },
   {
    "duration": 1848,
    "start_time": "2022-12-23T13:26:46.597Z"
   },
   {
    "duration": 18,
    "start_time": "2022-12-23T13:27:34.835Z"
   },
   {
    "duration": 3,
    "start_time": "2022-12-23T13:35:28.612Z"
   },
   {
    "duration": 67,
    "start_time": "2022-12-23T13:35:51.897Z"
   },
   {
    "duration": 3,
    "start_time": "2022-12-23T13:36:12.719Z"
   },
   {
    "duration": 114,
    "start_time": "2022-12-23T13:36:14.869Z"
   },
   {
    "duration": 3,
    "start_time": "2022-12-23T13:45:55.152Z"
   },
   {
    "duration": 105,
    "start_time": "2022-12-23T13:45:57.552Z"
   },
   {
    "duration": 4,
    "start_time": "2022-12-23T13:46:22.296Z"
   },
   {
    "duration": 106,
    "start_time": "2022-12-23T13:46:25.096Z"
   },
   {
    "duration": 4,
    "start_time": "2022-12-23T13:46:47.252Z"
   },
   {
    "duration": 4,
    "start_time": "2022-12-23T13:47:09.919Z"
   },
   {
    "duration": 120,
    "start_time": "2022-12-23T13:47:12.000Z"
   },
   {
    "duration": 3,
    "start_time": "2022-12-23T13:48:38.493Z"
   },
   {
    "duration": 5,
    "start_time": "2022-12-23T13:48:44.414Z"
   },
   {
    "duration": 150,
    "start_time": "2022-12-23T13:48:46.178Z"
   },
   {
    "duration": 81,
    "start_time": "2022-12-23T13:48:56.675Z"
   },
   {
    "duration": 118,
    "start_time": "2022-12-23T13:48:58.629Z"
   },
   {
    "duration": 4,
    "start_time": "2022-12-23T13:49:19.013Z"
   },
   {
    "duration": 69,
    "start_time": "2022-12-23T13:49:20.720Z"
   },
   {
    "duration": 3,
    "start_time": "2022-12-23T13:49:58.651Z"
   },
   {
    "duration": 101,
    "start_time": "2022-12-23T13:50:00.254Z"
   },
   {
    "duration": 4,
    "start_time": "2022-12-23T13:50:26.100Z"
   },
   {
    "duration": 3,
    "start_time": "2022-12-23T13:50:48.797Z"
   },
   {
    "duration": 21,
    "start_time": "2022-12-23T13:50:50.460Z"
   },
   {
    "duration": 81,
    "start_time": "2022-12-23T13:51:32.748Z"
   },
   {
    "duration": 4,
    "start_time": "2022-12-23T14:02:17.794Z"
   },
   {
    "duration": 127,
    "start_time": "2022-12-23T14:02:20.298Z"
   },
   {
    "duration": 4,
    "start_time": "2022-12-23T14:05:49.670Z"
   },
   {
    "duration": 168,
    "start_time": "2022-12-23T14:05:58.900Z"
   },
   {
    "duration": 162,
    "start_time": "2022-12-23T14:12:44.811Z"
   },
   {
    "duration": 215,
    "start_time": "2022-12-23T14:12:56.120Z"
   },
   {
    "duration": 39,
    "start_time": "2022-12-23T14:15:34.027Z"
   },
   {
    "duration": 4,
    "start_time": "2022-12-23T14:16:20.809Z"
   },
   {
    "duration": 90,
    "start_time": "2022-12-23T14:16:48.653Z"
   },
   {
    "duration": 985,
    "start_time": "2022-12-23T14:22:32.972Z"
   },
   {
    "duration": 4,
    "start_time": "2022-12-23T14:22:38.027Z"
   },
   {
    "duration": 253,
    "start_time": "2022-12-23T14:22:41.379Z"
   },
   {
    "duration": 5,
    "start_time": "2022-12-23T14:23:05.951Z"
   },
   {
    "duration": 511,
    "start_time": "2022-12-23T14:23:07.708Z"
   },
   {
    "duration": 4,
    "start_time": "2022-12-23T14:23:25.610Z"
   },
   {
    "duration": 4,
    "start_time": "2022-12-23T14:24:08.949Z"
   },
   {
    "duration": 548,
    "start_time": "2022-12-23T14:24:10.271Z"
   },
   {
    "duration": 5,
    "start_time": "2022-12-23T14:26:04.493Z"
   },
   {
    "duration": 458,
    "start_time": "2022-12-23T14:26:06.054Z"
   },
   {
    "duration": 4,
    "start_time": "2022-12-23T14:27:01.797Z"
   },
   {
    "duration": 496,
    "start_time": "2022-12-23T14:27:03.398Z"
   },
   {
    "duration": 1254,
    "start_time": "2022-12-23T14:27:13.297Z"
   },
   {
    "duration": 667,
    "start_time": "2022-12-23T14:27:14.553Z"
   },
   {
    "duration": 4,
    "start_time": "2022-12-23T14:27:15.222Z"
   },
   {
    "duration": 627,
    "start_time": "2022-12-23T14:27:15.228Z"
   },
   {
    "duration": 93,
    "start_time": "2022-12-23T14:27:15.857Z"
   },
   {
    "duration": 614,
    "start_time": "2022-12-23T14:27:15.952Z"
   },
   {
    "duration": 567,
    "start_time": "2022-12-23T14:27:16.568Z"
   },
   {
    "duration": 1297,
    "start_time": "2022-12-24T16:12:08.622Z"
   },
   {
    "duration": 729,
    "start_time": "2022-12-24T16:12:09.922Z"
   },
   {
    "duration": 4,
    "start_time": "2022-12-24T16:12:10.653Z"
   },
   {
    "duration": 508,
    "start_time": "2022-12-24T16:12:10.658Z"
   },
   {
    "duration": 76,
    "start_time": "2022-12-24T16:12:11.168Z"
   },
   {
    "duration": 454,
    "start_time": "2022-12-24T16:12:11.246Z"
   },
   {
    "duration": 465,
    "start_time": "2022-12-24T16:12:11.701Z"
   },
   {
    "duration": 64,
    "start_time": "2022-12-24T16:22:05.097Z"
   },
   {
    "duration": 59,
    "start_time": "2022-12-24T16:25:48.082Z"
   },
   {
    "duration": 106,
    "start_time": "2022-12-24T16:43:31.848Z"
   },
   {
    "duration": 11,
    "start_time": "2022-12-24T16:44:23.491Z"
   },
   {
    "duration": 11,
    "start_time": "2022-12-24T16:59:05.197Z"
   },
   {
    "duration": 238,
    "start_time": "2022-12-24T16:59:41.187Z"
   },
   {
    "duration": 19,
    "start_time": "2022-12-24T16:59:48.864Z"
   },
   {
    "duration": 32,
    "start_time": "2022-12-24T17:00:22.288Z"
   },
   {
    "duration": 10,
    "start_time": "2022-12-24T17:02:13.296Z"
   },
   {
    "duration": 29,
    "start_time": "2022-12-24T17:02:53.327Z"
   },
   {
    "duration": 12,
    "start_time": "2022-12-24T17:03:44.539Z"
   },
   {
    "duration": 13,
    "start_time": "2022-12-24T17:07:29.653Z"
   },
   {
    "duration": 24,
    "start_time": "2022-12-24T17:07:44.571Z"
   },
   {
    "duration": 13,
    "start_time": "2022-12-24T17:09:24.755Z"
   },
   {
    "duration": 20,
    "start_time": "2022-12-24T18:31:06.824Z"
   },
   {
    "duration": 4,
    "start_time": "2022-12-24T19:18:39.565Z"
   },
   {
    "duration": 22,
    "start_time": "2022-12-24T19:24:22.538Z"
   },
   {
    "duration": 4,
    "start_time": "2022-12-24T19:24:49.464Z"
   },
   {
    "duration": 4,
    "start_time": "2022-12-24T19:24:54.846Z"
   },
   {
    "duration": 84,
    "start_time": "2022-12-24T19:24:57.536Z"
   },
   {
    "duration": 48,
    "start_time": "2022-12-24T19:45:16.189Z"
   },
   {
    "duration": 29,
    "start_time": "2022-12-24T19:45:32.195Z"
   },
   {
    "duration": 27,
    "start_time": "2022-12-24T19:49:10.152Z"
   },
   {
    "duration": 52,
    "start_time": "2022-12-24T19:49:27.832Z"
   },
   {
    "duration": 127,
    "start_time": "2022-12-24T19:50:48.489Z"
   },
   {
    "duration": 66,
    "start_time": "2022-12-25T15:52:18.309Z"
   },
   {
    "duration": 1670,
    "start_time": "2022-12-25T15:52:27.465Z"
   },
   {
    "duration": 767,
    "start_time": "2022-12-25T15:52:29.137Z"
   },
   {
    "duration": 5,
    "start_time": "2022-12-25T15:52:29.906Z"
   },
   {
    "duration": 558,
    "start_time": "2022-12-25T15:52:29.913Z"
   },
   {
    "duration": 74,
    "start_time": "2022-12-25T15:52:30.477Z"
   },
   {
    "duration": 524,
    "start_time": "2022-12-25T15:52:30.553Z"
   },
   {
    "duration": 71,
    "start_time": "2022-12-25T15:52:31.079Z"
   },
   {
    "duration": 534,
    "start_time": "2022-12-25T15:52:31.151Z"
   },
   {
    "duration": 70,
    "start_time": "2022-12-25T15:52:31.687Z"
   },
   {
    "duration": 5,
    "start_time": "2022-12-25T15:52:31.758Z"
   },
   {
    "duration": 48,
    "start_time": "2022-12-25T15:52:31.764Z"
   },
   {
    "duration": 256,
    "start_time": "2022-12-25T15:52:31.879Z"
   },
   {
    "duration": 0,
    "start_time": "2022-12-25T15:52:32.137Z"
   },
   {
    "duration": 0,
    "start_time": "2022-12-25T15:52:32.138Z"
   },
   {
    "duration": 0,
    "start_time": "2022-12-25T15:52:32.266Z"
   },
   {
    "duration": 0,
    "start_time": "2022-12-25T15:52:32.267Z"
   },
   {
    "duration": 0,
    "start_time": "2022-12-25T15:52:32.277Z"
   },
   {
    "duration": 78,
    "start_time": "2022-12-25T15:56:28.406Z"
   },
   {
    "duration": 91,
    "start_time": "2022-12-25T16:04:03.787Z"
   },
   {
    "duration": 4,
    "start_time": "2022-12-25T16:07:30.957Z"
   },
   {
    "duration": 9,
    "start_time": "2022-12-25T16:07:46.818Z"
   },
   {
    "duration": 49,
    "start_time": "2022-12-25T16:13:06.313Z"
   },
   {
    "duration": 4,
    "start_time": "2022-12-25T16:13:17.463Z"
   },
   {
    "duration": 10,
    "start_time": "2022-12-25T16:13:19.332Z"
   },
   {
    "duration": 102,
    "start_time": "2022-12-25T16:15:59.990Z"
   },
   {
    "duration": 32,
    "start_time": "2022-12-25T16:16:08.190Z"
   },
   {
    "duration": 62,
    "start_time": "2022-12-25T16:34:06.304Z"
   },
   {
    "duration": 5,
    "start_time": "2022-12-25T16:34:34.549Z"
   },
   {
    "duration": 65,
    "start_time": "2022-12-25T16:34:42.568Z"
   },
   {
    "duration": 4,
    "start_time": "2022-12-25T16:34:53.753Z"
   },
   {
    "duration": 10,
    "start_time": "2022-12-25T16:34:55.830Z"
   },
   {
    "duration": 4,
    "start_time": "2022-12-25T16:41:21.681Z"
   },
   {
    "duration": 592,
    "start_time": "2022-12-25T16:41:21.688Z"
   },
   {
    "duration": 4,
    "start_time": "2022-12-25T16:41:22.282Z"
   },
   {
    "duration": 507,
    "start_time": "2022-12-25T16:41:22.287Z"
   },
   {
    "duration": 65,
    "start_time": "2022-12-25T16:41:22.795Z"
   },
   {
    "duration": 505,
    "start_time": "2022-12-25T16:41:22.862Z"
   },
   {
    "duration": 73,
    "start_time": "2022-12-25T16:41:23.369Z"
   },
   {
    "duration": 468,
    "start_time": "2022-12-25T16:41:23.444Z"
   },
   {
    "duration": 75,
    "start_time": "2022-12-25T16:41:23.914Z"
   },
   {
    "duration": 5,
    "start_time": "2022-12-25T16:41:23.991Z"
   },
   {
    "duration": 81,
    "start_time": "2022-12-25T16:41:23.998Z"
   },
   {
    "duration": 120,
    "start_time": "2022-12-25T16:41:24.081Z"
   },
   {
    "duration": 181,
    "start_time": "2022-12-25T16:41:24.202Z"
   },
   {
    "duration": 4,
    "start_time": "2022-12-25T16:41:24.387Z"
   },
   {
    "duration": 102,
    "start_time": "2022-12-25T16:41:24.479Z"
   },
   {
    "duration": 3,
    "start_time": "2022-12-25T18:28:44.773Z"
   },
   {
    "duration": 5,
    "start_time": "2022-12-25T18:28:46.439Z"
   },
   {
    "duration": 9,
    "start_time": "2022-12-25T18:42:42.127Z"
   },
   {
    "duration": 10,
    "start_time": "2022-12-25T18:43:06.816Z"
   },
   {
    "duration": 3,
    "start_time": "2022-12-25T18:43:22.369Z"
   },
   {
    "duration": 3,
    "start_time": "2022-12-25T18:43:24.555Z"
   },
   {
    "duration": 4,
    "start_time": "2022-12-25T18:47:50.842Z"
   },
   {
    "duration": 4,
    "start_time": "2022-12-25T19:02:00.574Z"
   },
   {
    "duration": 15,
    "start_time": "2022-12-25T19:02:23.584Z"
   },
   {
    "duration": 4,
    "start_time": "2022-12-25T19:02:35.764Z"
   },
   {
    "duration": 4,
    "start_time": "2022-12-25T19:02:50.911Z"
   },
   {
    "duration": 4,
    "start_time": "2022-12-25T19:03:01.591Z"
   },
   {
    "duration": 7,
    "start_time": "2022-12-25T19:03:48.237Z"
   },
   {
    "duration": 4,
    "start_time": "2022-12-25T19:03:53.969Z"
   },
   {
    "duration": 5,
    "start_time": "2022-12-25T19:04:05.395Z"
   },
   {
    "duration": 56,
    "start_time": "2022-12-25T19:58:13.172Z"
   },
   {
    "duration": 58,
    "start_time": "2022-12-25T20:01:09.447Z"
   },
   {
    "duration": 4,
    "start_time": "2022-12-25T20:01:24.874Z"
   },
   {
    "duration": 12,
    "start_time": "2022-12-25T20:02:28.221Z"
   },
   {
    "duration": 14,
    "start_time": "2022-12-25T20:02:30.247Z"
   },
   {
    "duration": 1470,
    "start_time": "2022-12-25T20:04:56.459Z"
   },
   {
    "duration": 565,
    "start_time": "2022-12-25T20:04:57.931Z"
   },
   {
    "duration": 5,
    "start_time": "2022-12-25T20:04:58.498Z"
   },
   {
    "duration": 521,
    "start_time": "2022-12-25T20:04:58.505Z"
   },
   {
    "duration": 84,
    "start_time": "2022-12-25T20:04:59.028Z"
   },
   {
    "duration": 472,
    "start_time": "2022-12-25T20:04:59.114Z"
   },
   {
    "duration": 68,
    "start_time": "2022-12-25T20:04:59.588Z"
   },
   {
    "duration": 516,
    "start_time": "2022-12-25T20:04:59.659Z"
   },
   {
    "duration": 65,
    "start_time": "2022-12-25T20:05:00.178Z"
   },
   {
    "duration": 5,
    "start_time": "2022-12-25T20:05:00.245Z"
   },
   {
    "duration": 53,
    "start_time": "2022-12-25T20:05:00.252Z"
   },
   {
    "duration": 114,
    "start_time": "2022-12-25T20:05:00.379Z"
   },
   {
    "duration": 283,
    "start_time": "2022-12-25T20:05:00.495Z"
   },
   {
    "duration": 100,
    "start_time": "2022-12-25T20:05:00.780Z"
   },
   {
    "duration": 18,
    "start_time": "2022-12-25T20:05:00.881Z"
   },
   {
    "duration": 12,
    "start_time": "2022-12-25T20:05:00.901Z"
   },
   {
    "duration": 12,
    "start_time": "2022-12-25T20:05:00.914Z"
   },
   {
    "duration": 16,
    "start_time": "2022-12-25T20:05:00.929Z"
   },
   {
    "duration": 124,
    "start_time": "2022-12-25T20:05:00.947Z"
   },
   {
    "duration": 0,
    "start_time": "2022-12-25T20:05:01.072Z"
   },
   {
    "duration": 0,
    "start_time": "2022-12-25T20:05:01.077Z"
   },
   {
    "duration": 0,
    "start_time": "2022-12-25T20:05:01.079Z"
   },
   {
    "duration": 0,
    "start_time": "2022-12-25T20:05:01.080Z"
   },
   {
    "duration": 4,
    "start_time": "2022-12-25T20:08:01.070Z"
   },
   {
    "duration": 17,
    "start_time": "2022-12-25T20:08:02.935Z"
   },
   {
    "duration": 5,
    "start_time": "2022-12-25T20:08:51.932Z"
   },
   {
    "duration": 4,
    "start_time": "2022-12-25T20:08:58.628Z"
   },
   {
    "duration": 18,
    "start_time": "2022-12-25T20:09:00.574Z"
   },
   {
    "duration": 5,
    "start_time": "2022-12-25T20:10:06.626Z"
   },
   {
    "duration": 19,
    "start_time": "2022-12-25T20:10:08.461Z"
   },
   {
    "duration": 3,
    "start_time": "2022-12-25T20:12:25.732Z"
   },
   {
    "duration": 13,
    "start_time": "2022-12-25T20:12:35.041Z"
   },
   {
    "duration": 14,
    "start_time": "2022-12-25T20:19:10.234Z"
   },
   {
    "duration": 4,
    "start_time": "2022-12-25T20:23:29.470Z"
   },
   {
    "duration": 12,
    "start_time": "2022-12-25T20:23:52.337Z"
   },
   {
    "duration": 15,
    "start_time": "2022-12-25T20:25:24.583Z"
   },
   {
    "duration": 1562,
    "start_time": "2022-12-25T20:25:36.551Z"
   },
   {
    "duration": 511,
    "start_time": "2022-12-25T20:25:38.115Z"
   },
   {
    "duration": 5,
    "start_time": "2022-12-25T20:25:38.629Z"
   },
   {
    "duration": 602,
    "start_time": "2022-12-25T20:25:38.636Z"
   },
   {
    "duration": 90,
    "start_time": "2022-12-25T20:25:39.241Z"
   },
   {
    "duration": 524,
    "start_time": "2022-12-25T20:25:39.333Z"
   },
   {
    "duration": 75,
    "start_time": "2022-12-25T20:25:39.860Z"
   },
   {
    "duration": 610,
    "start_time": "2022-12-25T20:25:39.937Z"
   },
   {
    "duration": 86,
    "start_time": "2022-12-25T20:25:40.549Z"
   },
   {
    "duration": 6,
    "start_time": "2022-12-25T20:25:40.637Z"
   },
   {
    "duration": 133,
    "start_time": "2022-12-25T20:25:40.644Z"
   },
   {
    "duration": 232,
    "start_time": "2022-12-25T20:25:40.780Z"
   },
   {
    "duration": 0,
    "start_time": "2022-12-25T20:25:41.015Z"
   },
   {
    "duration": 0,
    "start_time": "2022-12-25T20:25:41.017Z"
   },
   {
    "duration": 0,
    "start_time": "2022-12-25T20:25:41.019Z"
   },
   {
    "duration": 0,
    "start_time": "2022-12-25T20:25:41.020Z"
   },
   {
    "duration": 0,
    "start_time": "2022-12-25T20:25:41.022Z"
   },
   {
    "duration": 0,
    "start_time": "2022-12-25T20:25:41.024Z"
   },
   {
    "duration": 0,
    "start_time": "2022-12-25T20:25:41.025Z"
   },
   {
    "duration": 0,
    "start_time": "2022-12-25T20:25:41.026Z"
   },
   {
    "duration": 0,
    "start_time": "2022-12-25T20:25:41.027Z"
   },
   {
    "duration": 0,
    "start_time": "2022-12-25T20:25:41.029Z"
   },
   {
    "duration": 0,
    "start_time": "2022-12-25T20:25:41.030Z"
   },
   {
    "duration": 0,
    "start_time": "2022-12-25T20:25:41.032Z"
   },
   {
    "duration": 0,
    "start_time": "2022-12-25T20:25:41.034Z"
   },
   {
    "duration": 10,
    "start_time": "2022-12-25T20:26:49.249Z"
   },
   {
    "duration": 4,
    "start_time": "2022-12-25T20:27:12.494Z"
   },
   {
    "duration": 10,
    "start_time": "2022-12-25T20:29:37.494Z"
   },
   {
    "duration": 58,
    "start_time": "2022-12-25T20:29:40.443Z"
   },
   {
    "duration": 8,
    "start_time": "2022-12-25T20:29:44.897Z"
   },
   {
    "duration": 1828,
    "start_time": "2022-12-25T20:31:04.656Z"
   },
   {
    "duration": 448,
    "start_time": "2022-12-25T20:31:06.487Z"
   },
   {
    "duration": 5,
    "start_time": "2022-12-25T20:31:06.937Z"
   },
   {
    "duration": 570,
    "start_time": "2022-12-25T20:31:06.944Z"
   },
   {
    "duration": 93,
    "start_time": "2022-12-25T20:31:07.518Z"
   },
   {
    "duration": 506,
    "start_time": "2022-12-25T20:31:07.612Z"
   },
   {
    "duration": 77,
    "start_time": "2022-12-25T20:31:08.120Z"
   },
   {
    "duration": 570,
    "start_time": "2022-12-25T20:31:08.199Z"
   },
   {
    "duration": 77,
    "start_time": "2022-12-25T20:31:08.771Z"
   },
   {
    "duration": 5,
    "start_time": "2022-12-25T20:31:08.849Z"
   },
   {
    "duration": 130,
    "start_time": "2022-12-25T20:31:08.856Z"
   },
   {
    "duration": 190,
    "start_time": "2022-12-25T20:31:08.990Z"
   },
   {
    "duration": 132,
    "start_time": "2022-12-25T20:31:09.182Z"
   },
   {
    "duration": 69,
    "start_time": "2022-12-25T20:31:09.317Z"
   },
   {
    "duration": 128,
    "start_time": "2022-12-25T20:31:09.392Z"
   },
   {
    "duration": 20,
    "start_time": "2022-12-25T20:31:09.522Z"
   },
   {
    "duration": 23,
    "start_time": "2022-12-25T20:31:09.544Z"
   },
   {
    "duration": 48,
    "start_time": "2022-12-25T20:31:09.568Z"
   },
   {
    "duration": 175,
    "start_time": "2022-12-25T20:31:09.617Z"
   },
   {
    "duration": 0,
    "start_time": "2022-12-25T20:31:09.795Z"
   },
   {
    "duration": 1683,
    "start_time": "2022-12-25T20:32:57.846Z"
   },
   {
    "duration": 432,
    "start_time": "2022-12-25T20:32:59.531Z"
   },
   {
    "duration": 5,
    "start_time": "2022-12-25T20:32:59.965Z"
   },
   {
    "duration": 546,
    "start_time": "2022-12-25T20:32:59.980Z"
   },
   {
    "duration": 107,
    "start_time": "2022-12-25T20:33:00.528Z"
   },
   {
    "duration": 571,
    "start_time": "2022-12-25T20:33:00.637Z"
   },
   {
    "duration": 81,
    "start_time": "2022-12-25T20:33:01.211Z"
   },
   {
    "duration": 538,
    "start_time": "2022-12-25T20:33:01.298Z"
   },
   {
    "duration": 94,
    "start_time": "2022-12-25T20:33:01.838Z"
   },
   {
    "duration": 5,
    "start_time": "2022-12-25T20:33:01.934Z"
   },
   {
    "duration": 321,
    "start_time": "2022-12-25T20:33:01.941Z"
   },
   {
    "duration": 0,
    "start_time": "2022-12-25T20:33:02.264Z"
   },
   {
    "duration": 0,
    "start_time": "2022-12-25T20:33:02.265Z"
   },
   {
    "duration": 0,
    "start_time": "2022-12-25T20:33:02.266Z"
   },
   {
    "duration": 0,
    "start_time": "2022-12-25T20:33:02.280Z"
   },
   {
    "duration": 0,
    "start_time": "2022-12-25T20:33:02.281Z"
   },
   {
    "duration": 0,
    "start_time": "2022-12-25T20:33:02.281Z"
   },
   {
    "duration": 0,
    "start_time": "2022-12-25T20:33:02.282Z"
   },
   {
    "duration": 0,
    "start_time": "2022-12-25T20:33:02.285Z"
   },
   {
    "duration": 0,
    "start_time": "2022-12-25T20:33:02.286Z"
   },
   {
    "duration": 1510,
    "start_time": "2022-12-25T20:33:44.593Z"
   },
   {
    "duration": 408,
    "start_time": "2022-12-25T20:33:46.105Z"
   },
   {
    "duration": 5,
    "start_time": "2022-12-25T20:33:46.514Z"
   },
   {
    "duration": 544,
    "start_time": "2022-12-25T20:33:46.521Z"
   },
   {
    "duration": 80,
    "start_time": "2022-12-25T20:33:47.078Z"
   },
   {
    "duration": 637,
    "start_time": "2022-12-25T20:33:47.160Z"
   },
   {
    "duration": 98,
    "start_time": "2022-12-25T20:33:47.803Z"
   },
   {
    "duration": 601,
    "start_time": "2022-12-25T20:33:47.907Z"
   },
   {
    "duration": 85,
    "start_time": "2022-12-25T20:33:48.512Z"
   },
   {
    "duration": 13,
    "start_time": "2022-12-25T20:33:48.599Z"
   },
   {
    "duration": 282,
    "start_time": "2022-12-25T20:33:48.615Z"
   },
   {
    "duration": 0,
    "start_time": "2022-12-25T20:33:48.901Z"
   },
   {
    "duration": 0,
    "start_time": "2022-12-25T20:33:48.903Z"
   },
   {
    "duration": 0,
    "start_time": "2022-12-25T20:33:48.904Z"
   },
   {
    "duration": 0,
    "start_time": "2022-12-25T20:33:48.905Z"
   },
   {
    "duration": 0,
    "start_time": "2022-12-25T20:33:48.907Z"
   },
   {
    "duration": 0,
    "start_time": "2022-12-25T20:33:48.908Z"
   },
   {
    "duration": 0,
    "start_time": "2022-12-25T20:33:48.909Z"
   },
   {
    "duration": 0,
    "start_time": "2022-12-25T20:33:48.911Z"
   },
   {
    "duration": 0,
    "start_time": "2022-12-25T20:33:48.912Z"
   },
   {
    "duration": 1484,
    "start_time": "2022-12-25T20:35:22.457Z"
   },
   {
    "duration": 457,
    "start_time": "2022-12-25T20:35:23.944Z"
   },
   {
    "duration": 5,
    "start_time": "2022-12-25T20:35:24.404Z"
   },
   {
    "duration": 544,
    "start_time": "2022-12-25T20:35:24.411Z"
   },
   {
    "duration": 82,
    "start_time": "2022-12-25T20:35:24.956Z"
   },
   {
    "duration": 510,
    "start_time": "2022-12-25T20:35:25.039Z"
   },
   {
    "duration": 79,
    "start_time": "2022-12-25T20:35:25.551Z"
   },
   {
    "duration": 496,
    "start_time": "2022-12-25T20:35:25.632Z"
   },
   {
    "duration": 81,
    "start_time": "2022-12-25T20:35:26.130Z"
   },
   {
    "duration": 5,
    "start_time": "2022-12-25T20:35:26.214Z"
   },
   {
    "duration": 65,
    "start_time": "2022-12-25T20:35:26.221Z"
   },
   {
    "duration": 191,
    "start_time": "2022-12-25T20:35:26.289Z"
   },
   {
    "duration": 135,
    "start_time": "2022-12-25T20:35:26.483Z"
   },
   {
    "duration": 68,
    "start_time": "2022-12-25T20:35:26.620Z"
   },
   {
    "duration": 120,
    "start_time": "2022-12-25T20:35:26.690Z"
   },
   {
    "duration": 7,
    "start_time": "2022-12-25T20:35:26.813Z"
   },
   {
    "duration": 6,
    "start_time": "2022-12-25T20:35:26.823Z"
   },
   {
    "duration": 8,
    "start_time": "2022-12-25T20:35:26.831Z"
   },
   {
    "duration": 15,
    "start_time": "2022-12-25T20:35:26.841Z"
   },
   {
    "duration": 3,
    "start_time": "2022-12-25T20:35:26.858Z"
   },
   {
    "duration": 3,
    "start_time": "2022-12-25T20:43:42.163Z"
   },
   {
    "duration": 162,
    "start_time": "2022-12-25T20:43:44.462Z"
   },
   {
    "duration": 4,
    "start_time": "2022-12-25T20:43:59.019Z"
   },
   {
    "duration": 12,
    "start_time": "2022-12-25T20:44:01.555Z"
   },
   {
    "duration": 8,
    "start_time": "2022-12-25T20:48:28.040Z"
   },
   {
    "duration": 20,
    "start_time": "2022-12-25T20:49:25.917Z"
   },
   {
    "duration": 5,
    "start_time": "2022-12-25T21:39:01.636Z"
   },
   {
    "duration": 13,
    "start_time": "2022-12-25T21:39:28.801Z"
   },
   {
    "duration": 8,
    "start_time": "2022-12-25T21:39:49.897Z"
   },
   {
    "duration": 1292,
    "start_time": "2022-12-25T21:39:53.041Z"
   },
   {
    "duration": 15,
    "start_time": "2022-12-25T21:40:30.525Z"
   },
   {
    "duration": 7,
    "start_time": "2022-12-25T21:41:21.002Z"
   },
   {
    "duration": 1282,
    "start_time": "2022-12-25T21:41:22.954Z"
   },
   {
    "duration": 8,
    "start_time": "2022-12-25T21:41:42.109Z"
   },
   {
    "duration": 1261,
    "start_time": "2022-12-25T21:41:44.608Z"
   },
   {
    "duration": 1513,
    "start_time": "2022-12-25T21:42:07.618Z"
   },
   {
    "duration": 1212,
    "start_time": "2022-12-25T21:42:22.127Z"
   },
   {
    "duration": 1302,
    "start_time": "2022-12-25T21:42:35.389Z"
   },
   {
    "duration": 1234,
    "start_time": "2022-12-25T21:42:51.071Z"
   },
   {
    "duration": 1265,
    "start_time": "2022-12-25T21:43:01.364Z"
   },
   {
    "duration": 15,
    "start_time": "2022-12-25T21:45:33.109Z"
   },
   {
    "duration": 1503,
    "start_time": "2022-12-25T21:53:18.782Z"
   },
   {
    "duration": 407,
    "start_time": "2022-12-25T21:53:20.287Z"
   },
   {
    "duration": 5,
    "start_time": "2022-12-25T21:53:20.695Z"
   },
   {
    "duration": 526,
    "start_time": "2022-12-25T21:53:20.702Z"
   },
   {
    "duration": 84,
    "start_time": "2022-12-25T21:53:21.230Z"
   },
   {
    "duration": 481,
    "start_time": "2022-12-25T21:53:21.316Z"
   },
   {
    "duration": 80,
    "start_time": "2022-12-25T21:53:21.800Z"
   },
   {
    "duration": 511,
    "start_time": "2022-12-25T21:53:21.882Z"
   },
   {
    "duration": 67,
    "start_time": "2022-12-25T21:53:22.395Z"
   },
   {
    "duration": 18,
    "start_time": "2022-12-25T21:53:22.464Z"
   },
   {
    "duration": 45,
    "start_time": "2022-12-25T21:53:22.484Z"
   },
   {
    "duration": 168,
    "start_time": "2022-12-25T21:53:22.531Z"
   },
   {
    "duration": 188,
    "start_time": "2022-12-25T21:53:22.701Z"
   },
   {
    "duration": 190,
    "start_time": "2022-12-25T21:53:22.891Z"
   },
   {
    "duration": 12,
    "start_time": "2022-12-25T21:53:23.084Z"
   },
   {
    "duration": 6,
    "start_time": "2022-12-25T21:53:23.097Z"
   },
   {
    "duration": 7,
    "start_time": "2022-12-25T21:53:23.105Z"
   },
   {
    "duration": 10,
    "start_time": "2022-12-25T21:53:23.114Z"
   },
   {
    "duration": 22,
    "start_time": "2022-12-25T21:53:23.125Z"
   },
   {
    "duration": 4,
    "start_time": "2022-12-25T21:53:23.149Z"
   },
   {
    "duration": 1265,
    "start_time": "2022-12-25T21:53:23.178Z"
   },
   {
    "duration": 1199,
    "start_time": "2022-12-25T21:53:24.445Z"
   },
   {
    "duration": 1238,
    "start_time": "2022-12-25T21:53:25.646Z"
   },
   {
    "duration": 1608,
    "start_time": "2022-12-28T04:24:30.268Z"
   },
   {
    "duration": 2161,
    "start_time": "2022-12-28T04:24:34.941Z"
   },
   {
    "duration": 5,
    "start_time": "2022-12-28T04:24:38.900Z"
   },
   {
    "duration": 547,
    "start_time": "2022-12-28T04:24:45.041Z"
   },
   {
    "duration": 64,
    "start_time": "2022-12-28T04:24:49.885Z"
   },
   {
    "duration": 471,
    "start_time": "2022-12-28T04:24:52.734Z"
   },
   {
    "duration": 74,
    "start_time": "2022-12-28T04:24:57.413Z"
   },
   {
    "duration": 484,
    "start_time": "2022-12-28T04:25:00.660Z"
   },
   {
    "duration": 63,
    "start_time": "2022-12-28T04:25:06.691Z"
   },
   {
    "duration": 6,
    "start_time": "2022-12-28T04:25:10.476Z"
   },
   {
    "duration": 221,
    "start_time": "2022-12-28T04:25:14.595Z"
   },
   {
    "duration": 25,
    "start_time": "2022-12-28T04:25:17.683Z"
   },
   {
    "duration": 24,
    "start_time": "2022-12-28T04:25:19.778Z"
   },
   {
    "duration": 4,
    "start_time": "2022-12-28T04:25:22.106Z"
   },
   {
    "duration": 8,
    "start_time": "2022-12-28T04:25:24.874Z"
   },
   {
    "duration": 4,
    "start_time": "2022-12-28T04:25:30.250Z"
   },
   {
    "duration": 4,
    "start_time": "2022-12-28T04:25:32.466Z"
   },
   {
    "duration": 3,
    "start_time": "2022-12-28T04:25:37.162Z"
   },
   {
    "duration": 16,
    "start_time": "2022-12-28T04:25:42.666Z"
   },
   {
    "duration": 5,
    "start_time": "2022-12-28T04:26:31.664Z"
   },
   {
    "duration": 1402,
    "start_time": "2022-12-28T04:26:47.022Z"
   },
   {
    "duration": 1312,
    "start_time": "2022-12-28T04:27:05.462Z"
   },
   {
    "duration": 1347,
    "start_time": "2022-12-28T04:27:20.229Z"
   },
   {
    "duration": 5,
    "start_time": "2022-12-28T04:27:38.937Z"
   },
   {
    "duration": 107,
    "start_time": "2022-12-28T04:27:43.492Z"
   },
   {
    "duration": 90,
    "start_time": "2022-12-28T04:30:54.749Z"
   },
   {
    "duration": 65,
    "start_time": "2022-12-28T04:31:04.426Z"
   },
   {
    "duration": 84,
    "start_time": "2022-12-28T04:32:58.361Z"
   },
   {
    "duration": 82,
    "start_time": "2022-12-28T04:33:03.328Z"
   },
   {
    "duration": 96,
    "start_time": "2022-12-28T04:34:10.470Z"
   },
   {
    "duration": 77,
    "start_time": "2022-12-28T04:34:27.589Z"
   },
   {
    "duration": 99,
    "start_time": "2022-12-28T04:35:46.578Z"
   },
   {
    "duration": 70,
    "start_time": "2022-12-28T04:36:32.288Z"
   },
   {
    "duration": 1393,
    "start_time": "2022-12-28T04:37:10.788Z"
   },
   {
    "duration": 378,
    "start_time": "2022-12-28T04:37:12.182Z"
   },
   {
    "duration": 5,
    "start_time": "2022-12-28T04:37:12.561Z"
   },
   {
    "duration": 518,
    "start_time": "2022-12-28T04:37:12.568Z"
   },
   {
    "duration": 74,
    "start_time": "2022-12-28T04:37:13.088Z"
   },
   {
    "duration": 467,
    "start_time": "2022-12-28T04:37:13.164Z"
   },
   {
    "duration": 62,
    "start_time": "2022-12-28T04:37:13.633Z"
   },
   {
    "duration": 451,
    "start_time": "2022-12-28T04:37:13.696Z"
   },
   {
    "duration": 78,
    "start_time": "2022-12-28T04:37:14.149Z"
   },
   {
    "duration": 6,
    "start_time": "2022-12-28T04:37:14.230Z"
   },
   {
    "duration": 80,
    "start_time": "2022-12-28T04:37:14.238Z"
   },
   {
    "duration": 203,
    "start_time": "2022-12-28T04:37:14.322Z"
   },
   {
    "duration": 194,
    "start_time": "2022-12-28T04:37:14.529Z"
   },
   {
    "duration": 91,
    "start_time": "2022-12-28T04:37:14.725Z"
   },
   {
    "duration": 106,
    "start_time": "2022-12-28T04:37:14.818Z"
   },
   {
    "duration": 45,
    "start_time": "2022-12-28T04:37:14.929Z"
   },
   {
    "duration": 36,
    "start_time": "2022-12-28T04:37:14.975Z"
   },
   {
    "duration": 40,
    "start_time": "2022-12-28T04:37:15.013Z"
   },
   {
    "duration": 35,
    "start_time": "2022-12-28T04:37:15.054Z"
   },
   {
    "duration": 101,
    "start_time": "2022-12-28T04:37:15.091Z"
   },
   {
    "duration": 0,
    "start_time": "2022-12-28T04:37:15.194Z"
   },
   {
    "duration": 0,
    "start_time": "2022-12-28T04:37:15.194Z"
   },
   {
    "duration": 0,
    "start_time": "2022-12-28T04:37:15.196Z"
   },
   {
    "duration": 0,
    "start_time": "2022-12-28T04:37:15.197Z"
   },
   {
    "duration": 0,
    "start_time": "2022-12-28T04:37:15.198Z"
   },
   {
    "duration": 0,
    "start_time": "2022-12-28T04:37:15.198Z"
   },
   {
    "duration": 0,
    "start_time": "2022-12-28T04:37:15.200Z"
   },
   {
    "duration": 0,
    "start_time": "2022-12-28T04:37:15.201Z"
   },
   {
    "duration": 77,
    "start_time": "2022-12-28T04:37:29.174Z"
   },
   {
    "duration": 88,
    "start_time": "2022-12-28T04:38:09.548Z"
   },
   {
    "duration": 74,
    "start_time": "2022-12-28T04:38:46.126Z"
   },
   {
    "duration": 77,
    "start_time": "2022-12-28T04:39:13.274Z"
   },
   {
    "duration": 3,
    "start_time": "2022-12-28T04:47:30.629Z"
   },
   {
    "duration": 6,
    "start_time": "2022-12-28T04:48:47.051Z"
   },
   {
    "duration": 3,
    "start_time": "2022-12-28T04:49:52.643Z"
   },
   {
    "duration": 19,
    "start_time": "2022-12-28T04:49:58.208Z"
   },
   {
    "duration": 1347,
    "start_time": "2022-12-28T04:50:18.444Z"
   },
   {
    "duration": 384,
    "start_time": "2022-12-28T04:50:19.794Z"
   },
   {
    "duration": 5,
    "start_time": "2022-12-28T04:50:20.180Z"
   },
   {
    "duration": 588,
    "start_time": "2022-12-28T04:50:20.187Z"
   },
   {
    "duration": 73,
    "start_time": "2022-12-28T04:50:20.777Z"
   },
   {
    "duration": 456,
    "start_time": "2022-12-28T04:50:20.852Z"
   },
   {
    "duration": 63,
    "start_time": "2022-12-28T04:50:21.313Z"
   },
   {
    "duration": 485,
    "start_time": "2022-12-28T04:50:21.378Z"
   },
   {
    "duration": 70,
    "start_time": "2022-12-28T04:50:21.865Z"
   },
   {
    "duration": 5,
    "start_time": "2022-12-28T04:50:21.938Z"
   },
   {
    "duration": 74,
    "start_time": "2022-12-28T04:50:21.945Z"
   },
   {
    "duration": 112,
    "start_time": "2022-12-28T04:50:22.023Z"
   },
   {
    "duration": 194,
    "start_time": "2022-12-28T04:50:22.137Z"
   },
   {
    "duration": 83,
    "start_time": "2022-12-28T04:50:22.335Z"
   },
   {
    "duration": 94,
    "start_time": "2022-12-28T04:50:22.426Z"
   },
   {
    "duration": 11,
    "start_time": "2022-12-28T04:50:22.529Z"
   },
   {
    "duration": 24,
    "start_time": "2022-12-28T04:50:22.541Z"
   },
   {
    "duration": 26,
    "start_time": "2022-12-28T04:50:22.567Z"
   },
   {
    "duration": 11,
    "start_time": "2022-12-28T04:50:22.595Z"
   },
   {
    "duration": 135,
    "start_time": "2022-12-28T04:50:22.607Z"
   },
   {
    "duration": 0,
    "start_time": "2022-12-28T04:50:22.743Z"
   },
   {
    "duration": 0,
    "start_time": "2022-12-28T04:50:22.744Z"
   },
   {
    "duration": 0,
    "start_time": "2022-12-28T04:50:22.745Z"
   },
   {
    "duration": 0,
    "start_time": "2022-12-28T04:50:22.746Z"
   },
   {
    "duration": 1456,
    "start_time": "2022-12-28T04:51:59.972Z"
   },
   {
    "duration": 362,
    "start_time": "2022-12-28T04:52:01.430Z"
   },
   {
    "duration": 4,
    "start_time": "2022-12-28T04:52:01.793Z"
   },
   {
    "duration": 560,
    "start_time": "2022-12-28T04:52:01.799Z"
   },
   {
    "duration": 76,
    "start_time": "2022-12-28T04:52:02.361Z"
   },
   {
    "duration": 466,
    "start_time": "2022-12-28T04:52:02.438Z"
   },
   {
    "duration": 64,
    "start_time": "2022-12-28T04:52:02.905Z"
   },
   {
    "duration": 490,
    "start_time": "2022-12-28T04:52:02.971Z"
   },
   {
    "duration": 69,
    "start_time": "2022-12-28T04:52:03.462Z"
   },
   {
    "duration": 5,
    "start_time": "2022-12-28T04:52:03.534Z"
   },
   {
    "duration": 81,
    "start_time": "2022-12-28T04:52:03.540Z"
   },
   {
    "duration": 112,
    "start_time": "2022-12-28T04:52:03.623Z"
   },
   {
    "duration": 220,
    "start_time": "2022-12-28T04:52:03.737Z"
   },
   {
    "duration": 54,
    "start_time": "2022-12-28T04:52:03.962Z"
   },
   {
    "duration": 118,
    "start_time": "2022-12-28T04:52:04.018Z"
   },
   {
    "duration": 5,
    "start_time": "2022-12-28T04:52:04.137Z"
   },
   {
    "duration": 7,
    "start_time": "2022-12-28T04:52:04.143Z"
   },
   {
    "duration": 4,
    "start_time": "2022-12-28T04:52:04.151Z"
   },
   {
    "duration": 4,
    "start_time": "2022-12-28T04:52:04.157Z"
   },
   {
    "duration": 19,
    "start_time": "2022-12-28T04:52:04.163Z"
   },
   {
    "duration": 6,
    "start_time": "2022-12-28T04:52:04.184Z"
   },
   {
    "duration": 1402,
    "start_time": "2022-12-28T04:52:04.192Z"
   },
   {
    "duration": 1284,
    "start_time": "2022-12-28T04:52:05.596Z"
   },
   {
    "duration": 1291,
    "start_time": "2022-12-28T04:52:06.883Z"
   },
   {
    "duration": 1307,
    "start_time": "2022-12-28T05:03:03.348Z"
   },
   {
    "duration": 391,
    "start_time": "2022-12-28T05:03:04.658Z"
   },
   {
    "duration": 5,
    "start_time": "2022-12-28T05:03:05.051Z"
   },
   {
    "duration": 479,
    "start_time": "2022-12-28T05:03:05.058Z"
   },
   {
    "duration": 66,
    "start_time": "2022-12-28T05:03:05.539Z"
   },
   {
    "duration": 470,
    "start_time": "2022-12-28T05:03:05.613Z"
   },
   {
    "duration": 65,
    "start_time": "2022-12-28T05:03:06.085Z"
   },
   {
    "duration": 447,
    "start_time": "2022-12-28T05:03:06.151Z"
   },
   {
    "duration": 67,
    "start_time": "2022-12-28T05:03:06.599Z"
   },
   {
    "duration": 5,
    "start_time": "2022-12-28T05:03:06.668Z"
   },
   {
    "duration": 62,
    "start_time": "2022-12-28T05:03:06.675Z"
   },
   {
    "duration": 184,
    "start_time": "2022-12-28T05:03:06.739Z"
   },
   {
    "duration": 288,
    "start_time": "2022-12-28T05:03:06.925Z"
   },
   {
    "duration": 4,
    "start_time": "2022-12-28T05:03:07.216Z"
   },
   {
    "duration": 105,
    "start_time": "2022-12-28T05:03:07.222Z"
   },
   {
    "duration": 20,
    "start_time": "2022-12-28T05:03:07.329Z"
   },
   {
    "duration": 28,
    "start_time": "2022-12-28T05:03:07.351Z"
   },
   {
    "duration": 27,
    "start_time": "2022-12-28T05:03:07.381Z"
   },
   {
    "duration": 32,
    "start_time": "2022-12-28T05:03:07.409Z"
   },
   {
    "duration": 49,
    "start_time": "2022-12-28T05:03:07.443Z"
   },
   {
    "duration": 32,
    "start_time": "2022-12-28T05:03:07.494Z"
   },
   {
    "duration": 1286,
    "start_time": "2022-12-28T05:03:07.528Z"
   },
   {
    "duration": 1213,
    "start_time": "2022-12-28T05:03:08.815Z"
   },
   {
    "duration": 1301,
    "start_time": "2022-12-28T05:03:10.029Z"
   },
   {
    "duration": 1670,
    "start_time": "2023-02-01T16:15:44.870Z"
   },
   {
    "duration": 1663,
    "start_time": "2023-02-01T16:15:48.608Z"
   },
   {
    "duration": 4,
    "start_time": "2023-02-01T16:15:51.763Z"
   }
  ],
  "kernelspec": {
   "display_name": "Python 3 (ipykernel)",
   "language": "python",
   "name": "python3"
  },
  "language_info": {
   "codemirror_mode": {
    "name": "ipython",
    "version": 3
   },
   "file_extension": ".py",
   "mimetype": "text/x-python",
   "name": "python",
   "nbconvert_exporter": "python",
   "pygments_lexer": "ipython3",
   "version": "3.9.12"
  },
  "toc": {
   "base_numbering": 1,
   "nav_menu": {},
   "number_sections": true,
   "sideBar": true,
   "skip_h1_title": true,
   "title_cell": "Table of Contents",
   "title_sidebar": "Contents",
   "toc_cell": false,
   "toc_position": {
    "height": "calc(100% - 180px)",
    "left": "10px",
    "top": "150px",
    "width": "366.188px"
   },
   "toc_section_display": true,
   "toc_window_display": true
  }
 },
 "nbformat": 4,
 "nbformat_minor": 2
}
