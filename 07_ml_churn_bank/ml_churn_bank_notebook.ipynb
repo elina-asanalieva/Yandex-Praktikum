{
 "cells": [
  {
   "cell_type": "markdown",
   "metadata": {},
   "source": [
    "# Отток клиентов"
   ]
  },
  {
   "cell_type": "markdown",
   "metadata": {},
   "source": [
    "Из «Бета-Банка» стали уходить клиенты. Каждый месяц. Немного, но заметно. Банковские маркетологи посчитали: сохранять текущих клиентов дешевле, чем привлекать новых.\n",
    "\n",
    "Нужно спрогнозировать, уйдёт клиент из банка в ближайшее время или нет. Вам предоставлены исторические данные о поведении клиентов и расторжении договоров с банком. \n",
    "\n",
    "Постройте модель с предельно большим значением *F1*-меры. Чтобы сдать проект успешно, нужно довести метрику до 0.59. Проверьте *F1*-меру на тестовой выборке самостоятельно.\n",
    "\n",
    "Дополнительно измеряйте *AUC-ROC*, сравнивайте её значение с *F1*-мерой.\n",
    "\n",
    "Источник данных: [https://www.kaggle.com/barelydedicated/bank-customer-churn-modeling](https://www.kaggle.com/barelydedicated/bank-customer-churn-modeling)"
   ]
  },
  {
   "cell_type": "markdown",
   "metadata": {},
   "source": [
    "# Описание данных"
   ]
  },
  {
   "cell_type": "markdown",
   "metadata": {},
   "source": [
    "**Признаки**\n",
    "- RowNumber — индекс строки в данных\n",
    "- CustomerId — уникальный идентификатор клиента\n",
    "- Surname — фамилия\n",
    "- CreditScore — кредитный рейтинг\n",
    "- Geography — страна проживания\n",
    "- Gender — пол\n",
    "- Age — возраст\n",
    "- Tenure — сколько лет человек является клиентом банка\n",
    "- Balance — баланс на счёте\n",
    "- NumOfProducts — количество продуктов банка, используемых клиентом\n",
    "- HasCrCard — наличие кредитной карты\n",
    "- IsActiveMember — активность клиента\n",
    "- EstimatedSalary — предполагаемая зарплата\n",
    "\n",
    "**Целевой признак**\n",
    "- Exited — факт ухода клиента"
   ]
  },
  {
   "cell_type": "markdown",
   "metadata": {
    "toc": true
   },
   "source": [
    "<h1>Содержание<span class=\"tocSkip\"></span></h1>\n",
    "<div class=\"toc\"><ul class=\"toc-item\"><li><span><a href=\"#Подготовка-данных\" data-toc-modified-id=\"Подготовка-данных-1\"><span class=\"toc-item-num\">1&nbsp;&nbsp;</span>Подготовка данных</a></span></li><li><span><a href=\"#Исследование-задачи\" data-toc-modified-id=\"Исследование-задачи-2\"><span class=\"toc-item-num\">2&nbsp;&nbsp;</span>Исследование задачи</a></span><ul class=\"toc-item\"><li><span><a href=\"#Решающее-дерево\" data-toc-modified-id=\"Решающее-дерево-2.1\"><span class=\"toc-item-num\">2.1&nbsp;&nbsp;</span>Решающее дерево</a></span></li><li><span><a href=\"#Случайный-лес\" data-toc-modified-id=\"Случайный-лес-2.2\"><span class=\"toc-item-num\">2.2&nbsp;&nbsp;</span>Случайный лес</a></span></li><li><span><a href=\"#Логистическая-регрессия\" data-toc-modified-id=\"Логистическая-регрессия-2.3\"><span class=\"toc-item-num\">2.3&nbsp;&nbsp;</span>Логистическая регрессия</a></span></li></ul></li><li><span><a href=\"#Борьба-с-дисбалансом\" data-toc-modified-id=\"Борьба-с-дисбалансом-3\"><span class=\"toc-item-num\">3&nbsp;&nbsp;</span>Борьба с дисбалансом</a></span><ul class=\"toc-item\"><li><span><a href=\"#Взвешивание-классов\" data-toc-modified-id=\"Взвешивание-классов-3.1\"><span class=\"toc-item-num\">3.1&nbsp;&nbsp;</span>Взвешивание классов</a></span><ul class=\"toc-item\"><li><span><a href=\"#Решающее-дерево\" data-toc-modified-id=\"Решающее-дерево-3.1.1\"><span class=\"toc-item-num\">3.1.1&nbsp;&nbsp;</span>Решающее дерево</a></span></li><li><span><a href=\"#Случайный-лес\" data-toc-modified-id=\"Случайный-лес-3.1.2\"><span class=\"toc-item-num\">3.1.2&nbsp;&nbsp;</span>Случайный лес</a></span></li><li><span><a href=\"#Логистическая-регрессия\" data-toc-modified-id=\"Логистическая-регрессия-3.1.3\"><span class=\"toc-item-num\">3.1.3&nbsp;&nbsp;</span>Логистическая регрессия</a></span></li></ul></li><li><span><a href=\"#Увеличение-выборки\" data-toc-modified-id=\"Увеличение-выборки-3.2\"><span class=\"toc-item-num\">3.2&nbsp;&nbsp;</span>Увеличение выборки</a></span><ul class=\"toc-item\"><li><span><a href=\"#Решающее-дерево\" data-toc-modified-id=\"Решающее-дерево-3.2.1\"><span class=\"toc-item-num\">3.2.1&nbsp;&nbsp;</span>Решающее дерево</a></span></li><li><span><a href=\"#Случайный-лес\" data-toc-modified-id=\"Случайный-лес-3.2.2\"><span class=\"toc-item-num\">3.2.2&nbsp;&nbsp;</span>Случайный лес</a></span></li><li><span><a href=\"#Логистическая-регрессия\" data-toc-modified-id=\"Логистическая-регрессия-3.2.3\"><span class=\"toc-item-num\">3.2.3&nbsp;&nbsp;</span>Логистическая регрессия</a></span></li></ul></li><li><span><a href=\"#Уменьшение-выборки\" data-toc-modified-id=\"Уменьшение-выборки-3.3\"><span class=\"toc-item-num\">3.3&nbsp;&nbsp;</span>Уменьшение выборки</a></span><ul class=\"toc-item\"><li><span><a href=\"#Решающее-дерево\" data-toc-modified-id=\"Решающее-дерево-3.3.1\"><span class=\"toc-item-num\">3.3.1&nbsp;&nbsp;</span>Решающее дерево</a></span></li><li><span><a href=\"#Случайный-лес\" data-toc-modified-id=\"Случайный-лес-3.3.2\"><span class=\"toc-item-num\">3.3.2&nbsp;&nbsp;</span>Случайный лес</a></span></li><li><span><a href=\"#Логистическая-регрессия\" data-toc-modified-id=\"Логистическая-регрессия-3.3.3\"><span class=\"toc-item-num\">3.3.3&nbsp;&nbsp;</span>Логистическая регрессия</a></span></li></ul></li><li><span><a href=\"#Изменение-порога-классификации\" data-toc-modified-id=\"Изменение-порога-классификации-3.4\"><span class=\"toc-item-num\">3.4&nbsp;&nbsp;</span>Изменение порога классификации</a></span><ul class=\"toc-item\"><li><span><a href=\"#Решающее-дерево\" data-toc-modified-id=\"Решающее-дерево-3.4.1\"><span class=\"toc-item-num\">3.4.1&nbsp;&nbsp;</span>Решающее дерево</a></span></li><li><span><a href=\"#Случайный-лес\" data-toc-modified-id=\"Случайный-лес-3.4.2\"><span class=\"toc-item-num\">3.4.2&nbsp;&nbsp;</span>Случайный лес</a></span></li><li><span><a href=\"#Логистическая-регрессия\" data-toc-modified-id=\"Логистическая-регрессия-3.4.3\"><span class=\"toc-item-num\">3.4.3&nbsp;&nbsp;</span>Логистическая регрессия</a></span></li></ul></li></ul></li><li><span><a href=\"#Тестирование-модели\" data-toc-modified-id=\"Тестирование-модели-4\"><span class=\"toc-item-num\">4&nbsp;&nbsp;</span>Тестирование модели</a></span></li><li><span><a href=\"#Общий-вывод\" data-toc-modified-id=\"Общий-вывод-5\"><span class=\"toc-item-num\">5&nbsp;&nbsp;</span>Общий вывод</a></span></li><li><span><a href=\"#Чек-лист-готовности-проекта\" data-toc-modified-id=\"Чек-лист-готовности-проекта-6\"><span class=\"toc-item-num\">6&nbsp;&nbsp;</span>Чек-лист готовности проекта</a></span></li></ul></div>"
   ]
  },
  {
   "cell_type": "markdown",
   "metadata": {},
   "source": [
    "## Подготовка данных"
   ]
  },
  {
   "cell_type": "markdown",
   "metadata": {},
   "source": [
    "Импортирую библиотеки и открываю файл с данными"
   ]
  },
  {
   "cell_type": "code",
   "execution_count": 1,
   "metadata": {},
   "outputs": [],
   "source": [
    "import pandas as pd\n",
    "import seaborn as sns\n",
    "import numpy as np\n",
    "import matplotlib.pyplot as plt\n",
    "from sklearn.model_selection import train_test_split\n",
    "from sklearn.preprocessing import StandardScaler\n",
    "from sklearn.tree import DecisionTreeClassifier\n",
    "from sklearn.ensemble import RandomForestClassifier\n",
    "from sklearn.linear_model import LogisticRegression\n",
    "from sklearn.metrics import f1_score, roc_auc_score, roc_curve\n",
    "from sklearn.utils import shuffle\n",
    "import warnings\n",
    "warnings.filterwarnings('ignore')\n",
    "pd.options.mode.chained_assignment = None"
   ]
  },
  {
   "cell_type": "code",
   "execution_count": 2,
   "metadata": {},
   "outputs": [],
   "source": [
    "pd.options.mode.chained_assignment = None"
   ]
  },
  {
   "cell_type": "code",
   "execution_count": 3,
   "metadata": {},
   "outputs": [],
   "source": [
    "data = pd.read_csv('/datasets/Churn.csv')"
   ]
  },
  {
   "cell_type": "markdown",
   "metadata": {},
   "source": [
    "Изучаю общую информацию о таблице"
   ]
  },
  {
   "cell_type": "code",
   "execution_count": 4,
   "metadata": {},
   "outputs": [
    {
     "data": {
      "text/html": [
       "<div>\n",
       "<style scoped>\n",
       "    .dataframe tbody tr th:only-of-type {\n",
       "        vertical-align: middle;\n",
       "    }\n",
       "\n",
       "    .dataframe tbody tr th {\n",
       "        vertical-align: top;\n",
       "    }\n",
       "\n",
       "    .dataframe thead th {\n",
       "        text-align: right;\n",
       "    }\n",
       "</style>\n",
       "<table border=\"1\" class=\"dataframe\">\n",
       "  <thead>\n",
       "    <tr style=\"text-align: right;\">\n",
       "      <th></th>\n",
       "      <th>RowNumber</th>\n",
       "      <th>CustomerId</th>\n",
       "      <th>Surname</th>\n",
       "      <th>CreditScore</th>\n",
       "      <th>Geography</th>\n",
       "      <th>Gender</th>\n",
       "      <th>Age</th>\n",
       "      <th>Tenure</th>\n",
       "      <th>Balance</th>\n",
       "      <th>NumOfProducts</th>\n",
       "      <th>HasCrCard</th>\n",
       "      <th>IsActiveMember</th>\n",
       "      <th>EstimatedSalary</th>\n",
       "      <th>Exited</th>\n",
       "    </tr>\n",
       "  </thead>\n",
       "  <tbody>\n",
       "    <tr>\n",
       "      <th>0</th>\n",
       "      <td>1</td>\n",
       "      <td>15634602</td>\n",
       "      <td>Hargrave</td>\n",
       "      <td>619</td>\n",
       "      <td>France</td>\n",
       "      <td>Female</td>\n",
       "      <td>42</td>\n",
       "      <td>2.0</td>\n",
       "      <td>0.00</td>\n",
       "      <td>1</td>\n",
       "      <td>1</td>\n",
       "      <td>1</td>\n",
       "      <td>101348.88</td>\n",
       "      <td>1</td>\n",
       "    </tr>\n",
       "    <tr>\n",
       "      <th>1</th>\n",
       "      <td>2</td>\n",
       "      <td>15647311</td>\n",
       "      <td>Hill</td>\n",
       "      <td>608</td>\n",
       "      <td>Spain</td>\n",
       "      <td>Female</td>\n",
       "      <td>41</td>\n",
       "      <td>1.0</td>\n",
       "      <td>83807.86</td>\n",
       "      <td>1</td>\n",
       "      <td>0</td>\n",
       "      <td>1</td>\n",
       "      <td>112542.58</td>\n",
       "      <td>0</td>\n",
       "    </tr>\n",
       "    <tr>\n",
       "      <th>2</th>\n",
       "      <td>3</td>\n",
       "      <td>15619304</td>\n",
       "      <td>Onio</td>\n",
       "      <td>502</td>\n",
       "      <td>France</td>\n",
       "      <td>Female</td>\n",
       "      <td>42</td>\n",
       "      <td>8.0</td>\n",
       "      <td>159660.80</td>\n",
       "      <td>3</td>\n",
       "      <td>1</td>\n",
       "      <td>0</td>\n",
       "      <td>113931.57</td>\n",
       "      <td>1</td>\n",
       "    </tr>\n",
       "    <tr>\n",
       "      <th>3</th>\n",
       "      <td>4</td>\n",
       "      <td>15701354</td>\n",
       "      <td>Boni</td>\n",
       "      <td>699</td>\n",
       "      <td>France</td>\n",
       "      <td>Female</td>\n",
       "      <td>39</td>\n",
       "      <td>1.0</td>\n",
       "      <td>0.00</td>\n",
       "      <td>2</td>\n",
       "      <td>0</td>\n",
       "      <td>0</td>\n",
       "      <td>93826.63</td>\n",
       "      <td>0</td>\n",
       "    </tr>\n",
       "    <tr>\n",
       "      <th>4</th>\n",
       "      <td>5</td>\n",
       "      <td>15737888</td>\n",
       "      <td>Mitchell</td>\n",
       "      <td>850</td>\n",
       "      <td>Spain</td>\n",
       "      <td>Female</td>\n",
       "      <td>43</td>\n",
       "      <td>2.0</td>\n",
       "      <td>125510.82</td>\n",
       "      <td>1</td>\n",
       "      <td>1</td>\n",
       "      <td>1</td>\n",
       "      <td>79084.10</td>\n",
       "      <td>0</td>\n",
       "    </tr>\n",
       "  </tbody>\n",
       "</table>\n",
       "</div>"
      ],
      "text/plain": [
       "   RowNumber  CustomerId   Surname  CreditScore Geography  Gender  Age  \\\n",
       "0          1    15634602  Hargrave          619    France  Female   42   \n",
       "1          2    15647311      Hill          608     Spain  Female   41   \n",
       "2          3    15619304      Onio          502    France  Female   42   \n",
       "3          4    15701354      Boni          699    France  Female   39   \n",
       "4          5    15737888  Mitchell          850     Spain  Female   43   \n",
       "\n",
       "   Tenure    Balance  NumOfProducts  HasCrCard  IsActiveMember  \\\n",
       "0     2.0       0.00              1          1               1   \n",
       "1     1.0   83807.86              1          0               1   \n",
       "2     8.0  159660.80              3          1               0   \n",
       "3     1.0       0.00              2          0               0   \n",
       "4     2.0  125510.82              1          1               1   \n",
       "\n",
       "   EstimatedSalary  Exited  \n",
       "0        101348.88       1  \n",
       "1        112542.58       0  \n",
       "2        113931.57       1  \n",
       "3         93826.63       0  \n",
       "4         79084.10       0  "
      ]
     },
     "execution_count": 4,
     "metadata": {},
     "output_type": "execute_result"
    }
   ],
   "source": [
    "data.head()"
   ]
  },
  {
   "cell_type": "code",
   "execution_count": 5,
   "metadata": {},
   "outputs": [
    {
     "data": {
      "text/html": [
       "<div>\n",
       "<style scoped>\n",
       "    .dataframe tbody tr th:only-of-type {\n",
       "        vertical-align: middle;\n",
       "    }\n",
       "\n",
       "    .dataframe tbody tr th {\n",
       "        vertical-align: top;\n",
       "    }\n",
       "\n",
       "    .dataframe thead th {\n",
       "        text-align: right;\n",
       "    }\n",
       "</style>\n",
       "<table border=\"1\" class=\"dataframe\">\n",
       "  <thead>\n",
       "    <tr style=\"text-align: right;\">\n",
       "      <th></th>\n",
       "      <th>RowNumber</th>\n",
       "      <th>CustomerId</th>\n",
       "      <th>Surname</th>\n",
       "      <th>CreditScore</th>\n",
       "      <th>Geography</th>\n",
       "      <th>Gender</th>\n",
       "      <th>Age</th>\n",
       "      <th>Tenure</th>\n",
       "      <th>Balance</th>\n",
       "      <th>NumOfProducts</th>\n",
       "      <th>HasCrCard</th>\n",
       "      <th>IsActiveMember</th>\n",
       "      <th>EstimatedSalary</th>\n",
       "      <th>Exited</th>\n",
       "    </tr>\n",
       "  </thead>\n",
       "  <tbody>\n",
       "    <tr>\n",
       "      <th>9995</th>\n",
       "      <td>9996</td>\n",
       "      <td>15606229</td>\n",
       "      <td>Obijiaku</td>\n",
       "      <td>771</td>\n",
       "      <td>France</td>\n",
       "      <td>Male</td>\n",
       "      <td>39</td>\n",
       "      <td>5.0</td>\n",
       "      <td>0.00</td>\n",
       "      <td>2</td>\n",
       "      <td>1</td>\n",
       "      <td>0</td>\n",
       "      <td>96270.64</td>\n",
       "      <td>0</td>\n",
       "    </tr>\n",
       "    <tr>\n",
       "      <th>9996</th>\n",
       "      <td>9997</td>\n",
       "      <td>15569892</td>\n",
       "      <td>Johnstone</td>\n",
       "      <td>516</td>\n",
       "      <td>France</td>\n",
       "      <td>Male</td>\n",
       "      <td>35</td>\n",
       "      <td>10.0</td>\n",
       "      <td>57369.61</td>\n",
       "      <td>1</td>\n",
       "      <td>1</td>\n",
       "      <td>1</td>\n",
       "      <td>101699.77</td>\n",
       "      <td>0</td>\n",
       "    </tr>\n",
       "    <tr>\n",
       "      <th>9997</th>\n",
       "      <td>9998</td>\n",
       "      <td>15584532</td>\n",
       "      <td>Liu</td>\n",
       "      <td>709</td>\n",
       "      <td>France</td>\n",
       "      <td>Female</td>\n",
       "      <td>36</td>\n",
       "      <td>7.0</td>\n",
       "      <td>0.00</td>\n",
       "      <td>1</td>\n",
       "      <td>0</td>\n",
       "      <td>1</td>\n",
       "      <td>42085.58</td>\n",
       "      <td>1</td>\n",
       "    </tr>\n",
       "    <tr>\n",
       "      <th>9998</th>\n",
       "      <td>9999</td>\n",
       "      <td>15682355</td>\n",
       "      <td>Sabbatini</td>\n",
       "      <td>772</td>\n",
       "      <td>Germany</td>\n",
       "      <td>Male</td>\n",
       "      <td>42</td>\n",
       "      <td>3.0</td>\n",
       "      <td>75075.31</td>\n",
       "      <td>2</td>\n",
       "      <td>1</td>\n",
       "      <td>0</td>\n",
       "      <td>92888.52</td>\n",
       "      <td>1</td>\n",
       "    </tr>\n",
       "    <tr>\n",
       "      <th>9999</th>\n",
       "      <td>10000</td>\n",
       "      <td>15628319</td>\n",
       "      <td>Walker</td>\n",
       "      <td>792</td>\n",
       "      <td>France</td>\n",
       "      <td>Female</td>\n",
       "      <td>28</td>\n",
       "      <td>NaN</td>\n",
       "      <td>130142.79</td>\n",
       "      <td>1</td>\n",
       "      <td>1</td>\n",
       "      <td>0</td>\n",
       "      <td>38190.78</td>\n",
       "      <td>0</td>\n",
       "    </tr>\n",
       "  </tbody>\n",
       "</table>\n",
       "</div>"
      ],
      "text/plain": [
       "      RowNumber  CustomerId    Surname  CreditScore Geography  Gender  Age  \\\n",
       "9995       9996    15606229   Obijiaku          771    France    Male   39   \n",
       "9996       9997    15569892  Johnstone          516    France    Male   35   \n",
       "9997       9998    15584532        Liu          709    France  Female   36   \n",
       "9998       9999    15682355  Sabbatini          772   Germany    Male   42   \n",
       "9999      10000    15628319     Walker          792    France  Female   28   \n",
       "\n",
       "      Tenure    Balance  NumOfProducts  HasCrCard  IsActiveMember  \\\n",
       "9995     5.0       0.00              2          1               0   \n",
       "9996    10.0   57369.61              1          1               1   \n",
       "9997     7.0       0.00              1          0               1   \n",
       "9998     3.0   75075.31              2          1               0   \n",
       "9999     NaN  130142.79              1          1               0   \n",
       "\n",
       "      EstimatedSalary  Exited  \n",
       "9995         96270.64       0  \n",
       "9996        101699.77       0  \n",
       "9997         42085.58       1  \n",
       "9998         92888.52       1  \n",
       "9999         38190.78       0  "
      ]
     },
     "execution_count": 5,
     "metadata": {},
     "output_type": "execute_result"
    }
   ],
   "source": [
    "data.tail()"
   ]
  },
  {
   "cell_type": "code",
   "execution_count": 6,
   "metadata": {},
   "outputs": [
    {
     "name": "stdout",
     "output_type": "stream",
     "text": [
      "<class 'pandas.core.frame.DataFrame'>\n",
      "RangeIndex: 10000 entries, 0 to 9999\n",
      "Data columns (total 14 columns):\n",
      " #   Column           Non-Null Count  Dtype  \n",
      "---  ------           --------------  -----  \n",
      " 0   RowNumber        10000 non-null  int64  \n",
      " 1   CustomerId       10000 non-null  int64  \n",
      " 2   Surname          10000 non-null  object \n",
      " 3   CreditScore      10000 non-null  int64  \n",
      " 4   Geography        10000 non-null  object \n",
      " 5   Gender           10000 non-null  object \n",
      " 6   Age              10000 non-null  int64  \n",
      " 7   Tenure           9091 non-null   float64\n",
      " 8   Balance          10000 non-null  float64\n",
      " 9   NumOfProducts    10000 non-null  int64  \n",
      " 10  HasCrCard        10000 non-null  int64  \n",
      " 11  IsActiveMember   10000 non-null  int64  \n",
      " 12  EstimatedSalary  10000 non-null  float64\n",
      " 13  Exited           10000 non-null  int64  \n",
      "dtypes: float64(3), int64(8), object(3)\n",
      "memory usage: 1.1+ MB\n"
     ]
    }
   ],
   "source": [
    "data.info()"
   ]
  },
  {
   "cell_type": "code",
   "execution_count": 7,
   "metadata": {},
   "outputs": [
    {
     "data": {
      "text/html": [
       "<div>\n",
       "<style scoped>\n",
       "    .dataframe tbody tr th:only-of-type {\n",
       "        vertical-align: middle;\n",
       "    }\n",
       "\n",
       "    .dataframe tbody tr th {\n",
       "        vertical-align: top;\n",
       "    }\n",
       "\n",
       "    .dataframe thead th {\n",
       "        text-align: right;\n",
       "    }\n",
       "</style>\n",
       "<table border=\"1\" class=\"dataframe\">\n",
       "  <thead>\n",
       "    <tr style=\"text-align: right;\">\n",
       "      <th></th>\n",
       "      <th>RowNumber</th>\n",
       "      <th>CustomerId</th>\n",
       "      <th>CreditScore</th>\n",
       "      <th>Age</th>\n",
       "      <th>Tenure</th>\n",
       "      <th>Balance</th>\n",
       "      <th>NumOfProducts</th>\n",
       "      <th>HasCrCard</th>\n",
       "      <th>IsActiveMember</th>\n",
       "      <th>EstimatedSalary</th>\n",
       "      <th>Exited</th>\n",
       "    </tr>\n",
       "  </thead>\n",
       "  <tbody>\n",
       "    <tr>\n",
       "      <th>count</th>\n",
       "      <td>10000.00000</td>\n",
       "      <td>1.000000e+04</td>\n",
       "      <td>10000.000000</td>\n",
       "      <td>10000.000000</td>\n",
       "      <td>9091.000000</td>\n",
       "      <td>10000.000000</td>\n",
       "      <td>10000.000000</td>\n",
       "      <td>10000.00000</td>\n",
       "      <td>10000.000000</td>\n",
       "      <td>10000.000000</td>\n",
       "      <td>10000.000000</td>\n",
       "    </tr>\n",
       "    <tr>\n",
       "      <th>mean</th>\n",
       "      <td>5000.50000</td>\n",
       "      <td>1.569094e+07</td>\n",
       "      <td>650.528800</td>\n",
       "      <td>38.921800</td>\n",
       "      <td>4.997690</td>\n",
       "      <td>76485.889288</td>\n",
       "      <td>1.530200</td>\n",
       "      <td>0.70550</td>\n",
       "      <td>0.515100</td>\n",
       "      <td>100090.239881</td>\n",
       "      <td>0.203700</td>\n",
       "    </tr>\n",
       "    <tr>\n",
       "      <th>std</th>\n",
       "      <td>2886.89568</td>\n",
       "      <td>7.193619e+04</td>\n",
       "      <td>96.653299</td>\n",
       "      <td>10.487806</td>\n",
       "      <td>2.894723</td>\n",
       "      <td>62397.405202</td>\n",
       "      <td>0.581654</td>\n",
       "      <td>0.45584</td>\n",
       "      <td>0.499797</td>\n",
       "      <td>57510.492818</td>\n",
       "      <td>0.402769</td>\n",
       "    </tr>\n",
       "    <tr>\n",
       "      <th>min</th>\n",
       "      <td>1.00000</td>\n",
       "      <td>1.556570e+07</td>\n",
       "      <td>350.000000</td>\n",
       "      <td>18.000000</td>\n",
       "      <td>0.000000</td>\n",
       "      <td>0.000000</td>\n",
       "      <td>1.000000</td>\n",
       "      <td>0.00000</td>\n",
       "      <td>0.000000</td>\n",
       "      <td>11.580000</td>\n",
       "      <td>0.000000</td>\n",
       "    </tr>\n",
       "    <tr>\n",
       "      <th>25%</th>\n",
       "      <td>2500.75000</td>\n",
       "      <td>1.562853e+07</td>\n",
       "      <td>584.000000</td>\n",
       "      <td>32.000000</td>\n",
       "      <td>2.000000</td>\n",
       "      <td>0.000000</td>\n",
       "      <td>1.000000</td>\n",
       "      <td>0.00000</td>\n",
       "      <td>0.000000</td>\n",
       "      <td>51002.110000</td>\n",
       "      <td>0.000000</td>\n",
       "    </tr>\n",
       "    <tr>\n",
       "      <th>50%</th>\n",
       "      <td>5000.50000</td>\n",
       "      <td>1.569074e+07</td>\n",
       "      <td>652.000000</td>\n",
       "      <td>37.000000</td>\n",
       "      <td>5.000000</td>\n",
       "      <td>97198.540000</td>\n",
       "      <td>1.000000</td>\n",
       "      <td>1.00000</td>\n",
       "      <td>1.000000</td>\n",
       "      <td>100193.915000</td>\n",
       "      <td>0.000000</td>\n",
       "    </tr>\n",
       "    <tr>\n",
       "      <th>75%</th>\n",
       "      <td>7500.25000</td>\n",
       "      <td>1.575323e+07</td>\n",
       "      <td>718.000000</td>\n",
       "      <td>44.000000</td>\n",
       "      <td>7.000000</td>\n",
       "      <td>127644.240000</td>\n",
       "      <td>2.000000</td>\n",
       "      <td>1.00000</td>\n",
       "      <td>1.000000</td>\n",
       "      <td>149388.247500</td>\n",
       "      <td>0.000000</td>\n",
       "    </tr>\n",
       "    <tr>\n",
       "      <th>max</th>\n",
       "      <td>10000.00000</td>\n",
       "      <td>1.581569e+07</td>\n",
       "      <td>850.000000</td>\n",
       "      <td>92.000000</td>\n",
       "      <td>10.000000</td>\n",
       "      <td>250898.090000</td>\n",
       "      <td>4.000000</td>\n",
       "      <td>1.00000</td>\n",
       "      <td>1.000000</td>\n",
       "      <td>199992.480000</td>\n",
       "      <td>1.000000</td>\n",
       "    </tr>\n",
       "  </tbody>\n",
       "</table>\n",
       "</div>"
      ],
      "text/plain": [
       "         RowNumber    CustomerId   CreditScore           Age       Tenure  \\\n",
       "count  10000.00000  1.000000e+04  10000.000000  10000.000000  9091.000000   \n",
       "mean    5000.50000  1.569094e+07    650.528800     38.921800     4.997690   \n",
       "std     2886.89568  7.193619e+04     96.653299     10.487806     2.894723   \n",
       "min        1.00000  1.556570e+07    350.000000     18.000000     0.000000   \n",
       "25%     2500.75000  1.562853e+07    584.000000     32.000000     2.000000   \n",
       "50%     5000.50000  1.569074e+07    652.000000     37.000000     5.000000   \n",
       "75%     7500.25000  1.575323e+07    718.000000     44.000000     7.000000   \n",
       "max    10000.00000  1.581569e+07    850.000000     92.000000    10.000000   \n",
       "\n",
       "             Balance  NumOfProducts    HasCrCard  IsActiveMember  \\\n",
       "count   10000.000000   10000.000000  10000.00000    10000.000000   \n",
       "mean    76485.889288       1.530200      0.70550        0.515100   \n",
       "std     62397.405202       0.581654      0.45584        0.499797   \n",
       "min         0.000000       1.000000      0.00000        0.000000   \n",
       "25%         0.000000       1.000000      0.00000        0.000000   \n",
       "50%     97198.540000       1.000000      1.00000        1.000000   \n",
       "75%    127644.240000       2.000000      1.00000        1.000000   \n",
       "max    250898.090000       4.000000      1.00000        1.000000   \n",
       "\n",
       "       EstimatedSalary        Exited  \n",
       "count     10000.000000  10000.000000  \n",
       "mean     100090.239881      0.203700  \n",
       "std       57510.492818      0.402769  \n",
       "min          11.580000      0.000000  \n",
       "25%       51002.110000      0.000000  \n",
       "50%      100193.915000      0.000000  \n",
       "75%      149388.247500      0.000000  \n",
       "max      199992.480000      1.000000  "
      ]
     },
     "execution_count": 7,
     "metadata": {},
     "output_type": "execute_result"
    }
   ],
   "source": [
    "data.describe()"
   ]
  },
  {
   "cell_type": "markdown",
   "metadata": {},
   "source": [
    "Глядя на данные файла, можно заметить, что присутствуют пропуски в колонке `Tenure`, и в соответствие с этим не соответствует тип данных из-за наличия пропусков. Наименование столбцов не соответствует стандартному формату, и также  в строковых значениях в столбцах неоднородный регистр. Приведу название столбцов к стандартному формату, а также значения в столбцах содержащих текст к нижнему регистру, чтобы избежать проблем с дубликатами. "
   ]
  },
  {
   "cell_type": "code",
   "execution_count": 8,
   "metadata": {},
   "outputs": [],
   "source": [
    "data.columns = data.columns.str.lower()"
   ]
  },
  {
   "cell_type": "code",
   "execution_count": 9,
   "metadata": {},
   "outputs": [],
   "source": [
    "data = data.rename(columns={'rownumber':'row_number', \n",
    "                        'customerid':'customer_id',  \n",
    "                        'creditscore':'credit_score', \n",
    "                        'numofproducts':'num_of_products', \n",
    "                        'hascrcard':'has_cr_card',\n",
    "                        'isactivemember':'is_active_member', \n",
    "                        'estimatedsalary':'estimated_salary', \n",
    "                       })"
   ]
  },
  {
   "cell_type": "code",
   "execution_count": 10,
   "metadata": {},
   "outputs": [
    {
     "data": {
      "text/plain": [
       "Index(['row_number', 'customer_id', 'surname', 'credit_score', 'geography',\n",
       "       'gender', 'age', 'tenure', 'balance', 'num_of_products', 'has_cr_card',\n",
       "       'is_active_member', 'estimated_salary', 'exited'],\n",
       "      dtype='object')"
      ]
     },
     "execution_count": 10,
     "metadata": {},
     "output_type": "execute_result"
    }
   ],
   "source": [
    "data.columns"
   ]
  },
  {
   "cell_type": "code",
   "execution_count": 11,
   "metadata": {},
   "outputs": [],
   "source": [
    "data_lower = ['surname', 'geography', 'gender']\n",
    "for value in data_lower:\n",
    "    data[value] = data[value].str.lower()"
   ]
  },
  {
   "cell_type": "code",
   "execution_count": 12,
   "metadata": {},
   "outputs": [
    {
     "data": {
      "text/html": [
       "<div>\n",
       "<style scoped>\n",
       "    .dataframe tbody tr th:only-of-type {\n",
       "        vertical-align: middle;\n",
       "    }\n",
       "\n",
       "    .dataframe tbody tr th {\n",
       "        vertical-align: top;\n",
       "    }\n",
       "\n",
       "    .dataframe thead th {\n",
       "        text-align: right;\n",
       "    }\n",
       "</style>\n",
       "<table border=\"1\" class=\"dataframe\">\n",
       "  <thead>\n",
       "    <tr style=\"text-align: right;\">\n",
       "      <th></th>\n",
       "      <th>row_number</th>\n",
       "      <th>customer_id</th>\n",
       "      <th>surname</th>\n",
       "      <th>credit_score</th>\n",
       "      <th>geography</th>\n",
       "      <th>gender</th>\n",
       "      <th>age</th>\n",
       "      <th>tenure</th>\n",
       "      <th>balance</th>\n",
       "      <th>num_of_products</th>\n",
       "      <th>has_cr_card</th>\n",
       "      <th>is_active_member</th>\n",
       "      <th>estimated_salary</th>\n",
       "      <th>exited</th>\n",
       "    </tr>\n",
       "  </thead>\n",
       "  <tbody>\n",
       "    <tr>\n",
       "      <th>0</th>\n",
       "      <td>1</td>\n",
       "      <td>15634602</td>\n",
       "      <td>hargrave</td>\n",
       "      <td>619</td>\n",
       "      <td>france</td>\n",
       "      <td>female</td>\n",
       "      <td>42</td>\n",
       "      <td>2.0</td>\n",
       "      <td>0.00</td>\n",
       "      <td>1</td>\n",
       "      <td>1</td>\n",
       "      <td>1</td>\n",
       "      <td>101348.88</td>\n",
       "      <td>1</td>\n",
       "    </tr>\n",
       "    <tr>\n",
       "      <th>1</th>\n",
       "      <td>2</td>\n",
       "      <td>15647311</td>\n",
       "      <td>hill</td>\n",
       "      <td>608</td>\n",
       "      <td>spain</td>\n",
       "      <td>female</td>\n",
       "      <td>41</td>\n",
       "      <td>1.0</td>\n",
       "      <td>83807.86</td>\n",
       "      <td>1</td>\n",
       "      <td>0</td>\n",
       "      <td>1</td>\n",
       "      <td>112542.58</td>\n",
       "      <td>0</td>\n",
       "    </tr>\n",
       "    <tr>\n",
       "      <th>2</th>\n",
       "      <td>3</td>\n",
       "      <td>15619304</td>\n",
       "      <td>onio</td>\n",
       "      <td>502</td>\n",
       "      <td>france</td>\n",
       "      <td>female</td>\n",
       "      <td>42</td>\n",
       "      <td>8.0</td>\n",
       "      <td>159660.80</td>\n",
       "      <td>3</td>\n",
       "      <td>1</td>\n",
       "      <td>0</td>\n",
       "      <td>113931.57</td>\n",
       "      <td>1</td>\n",
       "    </tr>\n",
       "    <tr>\n",
       "      <th>3</th>\n",
       "      <td>4</td>\n",
       "      <td>15701354</td>\n",
       "      <td>boni</td>\n",
       "      <td>699</td>\n",
       "      <td>france</td>\n",
       "      <td>female</td>\n",
       "      <td>39</td>\n",
       "      <td>1.0</td>\n",
       "      <td>0.00</td>\n",
       "      <td>2</td>\n",
       "      <td>0</td>\n",
       "      <td>0</td>\n",
       "      <td>93826.63</td>\n",
       "      <td>0</td>\n",
       "    </tr>\n",
       "    <tr>\n",
       "      <th>4</th>\n",
       "      <td>5</td>\n",
       "      <td>15737888</td>\n",
       "      <td>mitchell</td>\n",
       "      <td>850</td>\n",
       "      <td>spain</td>\n",
       "      <td>female</td>\n",
       "      <td>43</td>\n",
       "      <td>2.0</td>\n",
       "      <td>125510.82</td>\n",
       "      <td>1</td>\n",
       "      <td>1</td>\n",
       "      <td>1</td>\n",
       "      <td>79084.10</td>\n",
       "      <td>0</td>\n",
       "    </tr>\n",
       "  </tbody>\n",
       "</table>\n",
       "</div>"
      ],
      "text/plain": [
       "   row_number  customer_id   surname  credit_score geography  gender  age  \\\n",
       "0           1     15634602  hargrave           619    france  female   42   \n",
       "1           2     15647311      hill           608     spain  female   41   \n",
       "2           3     15619304      onio           502    france  female   42   \n",
       "3           4     15701354      boni           699    france  female   39   \n",
       "4           5     15737888  mitchell           850     spain  female   43   \n",
       "\n",
       "   tenure    balance  num_of_products  has_cr_card  is_active_member  \\\n",
       "0     2.0       0.00                1            1                 1   \n",
       "1     1.0   83807.86                1            0                 1   \n",
       "2     8.0  159660.80                3            1                 0   \n",
       "3     1.0       0.00                2            0                 0   \n",
       "4     2.0  125510.82                1            1                 1   \n",
       "\n",
       "   estimated_salary  exited  \n",
       "0         101348.88       1  \n",
       "1         112542.58       0  \n",
       "2         113931.57       1  \n",
       "3          93826.63       0  \n",
       "4          79084.10       0  "
      ]
     },
     "execution_count": 12,
     "metadata": {},
     "output_type": "execute_result"
    }
   ],
   "source": [
    "data.head()"
   ]
  },
  {
   "cell_type": "code",
   "execution_count": 13,
   "metadata": {},
   "outputs": [
    {
     "data": {
      "text/plain": [
       "0"
      ]
     },
     "execution_count": 13,
     "metadata": {},
     "output_type": "execute_result"
    }
   ],
   "source": [
    "data.duplicated().sum()"
   ]
  },
  {
   "cell_type": "markdown",
   "metadata": {},
   "source": [
    "Явные дубликаты отсутствуют, теперь необходимо разобраться с пропусками."
   ]
  },
  {
   "cell_type": "code",
   "execution_count": 14,
   "metadata": {},
   "outputs": [
    {
     "data": {
      "text/plain": [
       "row_number            0\n",
       "customer_id           0\n",
       "surname               0\n",
       "credit_score          0\n",
       "geography             0\n",
       "gender                0\n",
       "age                   0\n",
       "tenure              909\n",
       "balance               0\n",
       "num_of_products       0\n",
       "has_cr_card           0\n",
       "is_active_member      0\n",
       "estimated_salary      0\n",
       "exited                0\n",
       "dtype: int64"
      ]
     },
     "execution_count": 14,
     "metadata": {},
     "output_type": "execute_result"
    }
   ],
   "source": [
    "data.isna().sum()"
   ]
  },
  {
   "cell_type": "code",
   "execution_count": 15,
   "metadata": {},
   "outputs": [
    {
     "data": {
      "text/html": [
       "<div>\n",
       "<style scoped>\n",
       "    .dataframe tbody tr th:only-of-type {\n",
       "        vertical-align: middle;\n",
       "    }\n",
       "\n",
       "    .dataframe tbody tr th {\n",
       "        vertical-align: top;\n",
       "    }\n",
       "\n",
       "    .dataframe thead th {\n",
       "        text-align: right;\n",
       "    }\n",
       "</style>\n",
       "<table border=\"1\" class=\"dataframe\">\n",
       "  <thead>\n",
       "    <tr style=\"text-align: right;\">\n",
       "      <th></th>\n",
       "      <th>row_number</th>\n",
       "      <th>customer_id</th>\n",
       "      <th>surname</th>\n",
       "      <th>credit_score</th>\n",
       "      <th>geography</th>\n",
       "      <th>gender</th>\n",
       "      <th>age</th>\n",
       "      <th>tenure</th>\n",
       "      <th>balance</th>\n",
       "      <th>num_of_products</th>\n",
       "      <th>has_cr_card</th>\n",
       "      <th>is_active_member</th>\n",
       "      <th>estimated_salary</th>\n",
       "      <th>exited</th>\n",
       "    </tr>\n",
       "  </thead>\n",
       "  <tbody>\n",
       "    <tr>\n",
       "      <th>30</th>\n",
       "      <td>31</td>\n",
       "      <td>15589475</td>\n",
       "      <td>azikiwe</td>\n",
       "      <td>591</td>\n",
       "      <td>spain</td>\n",
       "      <td>female</td>\n",
       "      <td>39</td>\n",
       "      <td>NaN</td>\n",
       "      <td>0.00</td>\n",
       "      <td>3</td>\n",
       "      <td>1</td>\n",
       "      <td>0</td>\n",
       "      <td>140469.38</td>\n",
       "      <td>1</td>\n",
       "    </tr>\n",
       "    <tr>\n",
       "      <th>48</th>\n",
       "      <td>49</td>\n",
       "      <td>15766205</td>\n",
       "      <td>yin</td>\n",
       "      <td>550</td>\n",
       "      <td>germany</td>\n",
       "      <td>male</td>\n",
       "      <td>38</td>\n",
       "      <td>NaN</td>\n",
       "      <td>103391.38</td>\n",
       "      <td>1</td>\n",
       "      <td>0</td>\n",
       "      <td>1</td>\n",
       "      <td>90878.13</td>\n",
       "      <td>0</td>\n",
       "    </tr>\n",
       "    <tr>\n",
       "      <th>51</th>\n",
       "      <td>52</td>\n",
       "      <td>15768193</td>\n",
       "      <td>trevisani</td>\n",
       "      <td>585</td>\n",
       "      <td>germany</td>\n",
       "      <td>male</td>\n",
       "      <td>36</td>\n",
       "      <td>NaN</td>\n",
       "      <td>146050.97</td>\n",
       "      <td>2</td>\n",
       "      <td>0</td>\n",
       "      <td>0</td>\n",
       "      <td>86424.57</td>\n",
       "      <td>0</td>\n",
       "    </tr>\n",
       "    <tr>\n",
       "      <th>53</th>\n",
       "      <td>54</td>\n",
       "      <td>15702298</td>\n",
       "      <td>parkhill</td>\n",
       "      <td>655</td>\n",
       "      <td>germany</td>\n",
       "      <td>male</td>\n",
       "      <td>41</td>\n",
       "      <td>NaN</td>\n",
       "      <td>125561.97</td>\n",
       "      <td>1</td>\n",
       "      <td>0</td>\n",
       "      <td>0</td>\n",
       "      <td>164040.94</td>\n",
       "      <td>1</td>\n",
       "    </tr>\n",
       "    <tr>\n",
       "      <th>60</th>\n",
       "      <td>61</td>\n",
       "      <td>15651280</td>\n",
       "      <td>hunter</td>\n",
       "      <td>742</td>\n",
       "      <td>germany</td>\n",
       "      <td>male</td>\n",
       "      <td>35</td>\n",
       "      <td>NaN</td>\n",
       "      <td>136857.00</td>\n",
       "      <td>1</td>\n",
       "      <td>0</td>\n",
       "      <td>0</td>\n",
       "      <td>84509.57</td>\n",
       "      <td>0</td>\n",
       "    </tr>\n",
       "    <tr>\n",
       "      <th>82</th>\n",
       "      <td>83</td>\n",
       "      <td>15641732</td>\n",
       "      <td>mills</td>\n",
       "      <td>543</td>\n",
       "      <td>france</td>\n",
       "      <td>female</td>\n",
       "      <td>36</td>\n",
       "      <td>NaN</td>\n",
       "      <td>0.00</td>\n",
       "      <td>2</td>\n",
       "      <td>0</td>\n",
       "      <td>0</td>\n",
       "      <td>26019.59</td>\n",
       "      <td>0</td>\n",
       "    </tr>\n",
       "    <tr>\n",
       "      <th>85</th>\n",
       "      <td>86</td>\n",
       "      <td>15805254</td>\n",
       "      <td>ndukaku</td>\n",
       "      <td>652</td>\n",
       "      <td>spain</td>\n",
       "      <td>female</td>\n",
       "      <td>75</td>\n",
       "      <td>NaN</td>\n",
       "      <td>0.00</td>\n",
       "      <td>2</td>\n",
       "      <td>1</td>\n",
       "      <td>1</td>\n",
       "      <td>114675.75</td>\n",
       "      <td>0</td>\n",
       "    </tr>\n",
       "    <tr>\n",
       "      <th>94</th>\n",
       "      <td>95</td>\n",
       "      <td>15676966</td>\n",
       "      <td>capon</td>\n",
       "      <td>730</td>\n",
       "      <td>spain</td>\n",
       "      <td>male</td>\n",
       "      <td>42</td>\n",
       "      <td>NaN</td>\n",
       "      <td>0.00</td>\n",
       "      <td>2</td>\n",
       "      <td>0</td>\n",
       "      <td>1</td>\n",
       "      <td>85982.47</td>\n",
       "      <td>0</td>\n",
       "    </tr>\n",
       "    <tr>\n",
       "      <th>99</th>\n",
       "      <td>100</td>\n",
       "      <td>15633059</td>\n",
       "      <td>fanucci</td>\n",
       "      <td>413</td>\n",
       "      <td>france</td>\n",
       "      <td>male</td>\n",
       "      <td>34</td>\n",
       "      <td>NaN</td>\n",
       "      <td>0.00</td>\n",
       "      <td>2</td>\n",
       "      <td>0</td>\n",
       "      <td>0</td>\n",
       "      <td>6534.18</td>\n",
       "      <td>0</td>\n",
       "    </tr>\n",
       "    <tr>\n",
       "      <th>111</th>\n",
       "      <td>112</td>\n",
       "      <td>15665790</td>\n",
       "      <td>rowntree</td>\n",
       "      <td>538</td>\n",
       "      <td>germany</td>\n",
       "      <td>male</td>\n",
       "      <td>39</td>\n",
       "      <td>NaN</td>\n",
       "      <td>108055.10</td>\n",
       "      <td>2</td>\n",
       "      <td>1</td>\n",
       "      <td>0</td>\n",
       "      <td>27231.26</td>\n",
       "      <td>0</td>\n",
       "    </tr>\n",
       "  </tbody>\n",
       "</table>\n",
       "</div>"
      ],
      "text/plain": [
       "     row_number  customer_id    surname  credit_score geography  gender  age  \\\n",
       "30           31     15589475    azikiwe           591     spain  female   39   \n",
       "48           49     15766205        yin           550   germany    male   38   \n",
       "51           52     15768193  trevisani           585   germany    male   36   \n",
       "53           54     15702298   parkhill           655   germany    male   41   \n",
       "60           61     15651280     hunter           742   germany    male   35   \n",
       "82           83     15641732      mills           543    france  female   36   \n",
       "85           86     15805254    ndukaku           652     spain  female   75   \n",
       "94           95     15676966      capon           730     spain    male   42   \n",
       "99          100     15633059    fanucci           413    france    male   34   \n",
       "111         112     15665790   rowntree           538   germany    male   39   \n",
       "\n",
       "     tenure    balance  num_of_products  has_cr_card  is_active_member  \\\n",
       "30      NaN       0.00                3            1                 0   \n",
       "48      NaN  103391.38                1            0                 1   \n",
       "51      NaN  146050.97                2            0                 0   \n",
       "53      NaN  125561.97                1            0                 0   \n",
       "60      NaN  136857.00                1            0                 0   \n",
       "82      NaN       0.00                2            0                 0   \n",
       "85      NaN       0.00                2            1                 1   \n",
       "94      NaN       0.00                2            0                 1   \n",
       "99      NaN       0.00                2            0                 0   \n",
       "111     NaN  108055.10                2            1                 0   \n",
       "\n",
       "     estimated_salary  exited  \n",
       "30          140469.38       1  \n",
       "48           90878.13       0  \n",
       "51           86424.57       0  \n",
       "53          164040.94       1  \n",
       "60           84509.57       0  \n",
       "82           26019.59       0  \n",
       "85          114675.75       0  \n",
       "94           85982.47       0  \n",
       "99            6534.18       0  \n",
       "111          27231.26       0  "
      ]
     },
     "execution_count": 15,
     "metadata": {},
     "output_type": "execute_result"
    }
   ],
   "source": [
    "data[data['tenure'].isna()].head(10)"
   ]
  },
  {
   "cell_type": "markdown",
   "metadata": {},
   "source": [
    "Рассмотрю, есть ли взаимосвязь пропусков с другими столбцами."
   ]
  },
  {
   "cell_type": "code",
   "execution_count": 16,
   "metadata": {},
   "outputs": [
    {
     "data": {
      "text/plain": [
       "france     0.510451\n",
       "spain      0.251925\n",
       "germany    0.237624\n",
       "Name: geography, dtype: float64"
      ]
     },
     "execution_count": 16,
     "metadata": {},
     "output_type": "execute_result"
    }
   ],
   "source": [
    "data[data['tenure'].isna()]['geography'].value_counts(normalize=True).sort_values(ascending=False)"
   ]
  },
  {
   "cell_type": "code",
   "execution_count": 17,
   "metadata": {},
   "outputs": [
    {
     "data": {
      "text/plain": [
       "france     0.5014\n",
       "germany    0.2509\n",
       "spain      0.2477\n",
       "Name: geography, dtype: float64"
      ]
     },
     "execution_count": 17,
     "metadata": {},
     "output_type": "execute_result"
    }
   ],
   "source": [
    "data['geography'].value_counts(normalize=True)"
   ]
  },
  {
   "cell_type": "markdown",
   "metadata": {},
   "source": [
    "Пропуски по отношению к колонке `geography` распределены пропорционально распределению категорий значений в данном столбце."
   ]
  },
  {
   "cell_type": "code",
   "execution_count": 18,
   "metadata": {},
   "outputs": [
    {
     "data": {
      "text/plain": [
       "male      0.531353\n",
       "female    0.468647\n",
       "Name: gender, dtype: float64"
      ]
     },
     "execution_count": 18,
     "metadata": {},
     "output_type": "execute_result"
    }
   ],
   "source": [
    "data[data['tenure'].isna()]['gender'].value_counts(normalize=True).sort_values(ascending=False)"
   ]
  },
  {
   "cell_type": "code",
   "execution_count": 19,
   "metadata": {},
   "outputs": [
    {
     "data": {
      "text/plain": [
       "male      0.5457\n",
       "female    0.4543\n",
       "Name: gender, dtype: float64"
      ]
     },
     "execution_count": 19,
     "metadata": {},
     "output_type": "execute_result"
    }
   ],
   "source": [
    "data['gender'].value_counts(normalize=True)"
   ]
  },
  {
   "cell_type": "markdown",
   "metadata": {},
   "source": [
    "Пропуски по отношению к колонке `gender` так же распределены пропорционально распределению категорий значений в данном столбце."
   ]
  },
  {
   "cell_type": "code",
   "execution_count": 20,
   "metadata": {},
   "outputs": [
    {
     "data": {
      "text/plain": [
       "0    0.79868\n",
       "1    0.20132\n",
       "Name: exited, dtype: float64"
      ]
     },
     "execution_count": 20,
     "metadata": {},
     "output_type": "execute_result"
    }
   ],
   "source": [
    "data[data['tenure'].isna()]['exited'].value_counts(normalize=True).sort_values(ascending=False)"
   ]
  },
  {
   "cell_type": "code",
   "execution_count": 21,
   "metadata": {
    "scrolled": true
   },
   "outputs": [
    {
     "data": {
      "text/plain": [
       "0    0.7963\n",
       "1    0.2037\n",
       "Name: exited, dtype: float64"
      ]
     },
     "execution_count": 21,
     "metadata": {},
     "output_type": "execute_result"
    }
   ],
   "source": [
    "data['exited'].value_counts(normalize=True)"
   ]
  },
  {
   "cell_type": "markdown",
   "metadata": {},
   "source": [
    "И в колонке `exited` пропуски распределены пропорционально распределению категорий значений в данном столбце. Так же можно заметить, что 20% пользователей представленных в датафрейме, покинули банк."
   ]
  },
  {
   "cell_type": "markdown",
   "metadata": {},
   "source": [
    "Рассмотрев несколько колонок, предположу, что пропуски не зависят от какой-либо категории. Значения в колонке `tenure` индивидуальны, заполнение их средним или медианным значением может повлиять в дальнейшем на качество модели. Количество пропусков составляет 10 %, попробую удалить данные пропуски, так как после удаления пропусков остается не мало данных. И изменю тип данных колонки `tenure` на целочисленный."
   ]
  },
  {
   "cell_type": "code",
   "execution_count": 22,
   "metadata": {},
   "outputs": [],
   "source": [
    "data.dropna(subset = ['tenure'], inplace = True)\n",
    "data['tenure'] = data['tenure'].astype('int')"
   ]
  },
  {
   "cell_type": "code",
   "execution_count": 23,
   "metadata": {},
   "outputs": [
    {
     "name": "stdout",
     "output_type": "stream",
     "text": [
      "<class 'pandas.core.frame.DataFrame'>\n",
      "Int64Index: 9091 entries, 0 to 9998\n",
      "Data columns (total 14 columns):\n",
      " #   Column            Non-Null Count  Dtype  \n",
      "---  ------            --------------  -----  \n",
      " 0   row_number        9091 non-null   int64  \n",
      " 1   customer_id       9091 non-null   int64  \n",
      " 2   surname           9091 non-null   object \n",
      " 3   credit_score      9091 non-null   int64  \n",
      " 4   geography         9091 non-null   object \n",
      " 5   gender            9091 non-null   object \n",
      " 6   age               9091 non-null   int64  \n",
      " 7   tenure            9091 non-null   int64  \n",
      " 8   balance           9091 non-null   float64\n",
      " 9   num_of_products   9091 non-null   int64  \n",
      " 10  has_cr_card       9091 non-null   int64  \n",
      " 11  is_active_member  9091 non-null   int64  \n",
      " 12  estimated_salary  9091 non-null   float64\n",
      " 13  exited            9091 non-null   int64  \n",
      "dtypes: float64(2), int64(9), object(3)\n",
      "memory usage: 1.0+ MB\n"
     ]
    }
   ],
   "source": [
    "data.info()"
   ]
  },
  {
   "cell_type": "markdown",
   "metadata": {},
   "source": [
    "Далее рассмотрю распределение признаков. Рассматривать признаки `row_number`, `customer_id` и `surname` не буду, так как они не несут в себе информации, необходимой для дальнейшей классификации. Удалю их и создам новую переменную."
   ]
  },
  {
   "cell_type": "code",
   "execution_count": 24,
   "metadata": {},
   "outputs": [],
   "source": [
    "df = data.drop(['row_number', 'customer_id', 'surname'], axis=1)"
   ]
  },
  {
   "cell_type": "code",
   "execution_count": 25,
   "metadata": {},
   "outputs": [],
   "source": [
    "def hists(df, column, bins, align='center'):\n",
    "    fig, ax = plt.subplots(figsize=(8,5))\n",
    "    sns.histplot(data=df, x=column, hue='exited', kde=True, bins=bins, ax=ax)\n",
    "    plt.title('Распределение ' + column)\n",
    "    plt.xlabel(column)\n",
    "    plt.ylabel('Колличество клиентов')\n",
    "    plt.show()"
   ]
  },
  {
   "cell_type": "code",
   "execution_count": 26,
   "metadata": {
    "scrolled": false
   },
   "outputs": [
    {
     "data": {
      "image/png": "[encoded data removed]",
      "text/plain": [
       "<Figure size 576x360 with 1 Axes>"
      ]
     },
     "metadata": {
      "needs_background": "light"
     },
     "output_type": "display_data"
    },
    {
     "data": {
      "image/png": "[encoded data removed]",
      "text/plain": [
       "<Figure size 576x360 with 1 Axes>"
      ]
     },
     "metadata": {
      "needs_background": "light"
     },
     "output_type": "display_data"
    },
    {
     "data": {
      "image/png": "[encoded data removed]",
      "text/plain": [
       "<Figure size 576x360 with 1 Axes>"
      ]
     },
     "metadata": {
      "needs_background": "light"
     },
     "output_type": "display_data"
    },
    {
     "data": {
      "image/png": "[encoded data removed]",
      "text/plain": [
       "<Figure size 576x360 with 1 Axes>"
      ]
     },
     "metadata": {
      "needs_background": "light"
     },
     "output_type": "display_data"
    }
   ],
   "source": [
    "numerics = ['credit_score', 'age', 'balance', 'estimated_salary']\n",
    "for column in numerics:\n",
    "    hists(df, column, bins=30)"
   ]
  },
  {
   "cell_type": "code",
   "execution_count": 27,
   "metadata": {},
   "outputs": [],
   "source": [
    "def hists_kg(df, column, bins, align='center'):\n",
    "    fig, ax = plt.subplots(figsize=(6,4))\n",
    "    sns.histplot(data=df, x=column, hue='exited', bins=bins, ax=ax)\n",
    "    plt.title('Распределение ' + column)\n",
    "    plt.xlabel(column)\n",
    "    plt.ylabel('Колличество клиентов')\n",
    "    plt.show()"
   ]
  },
  {
   "cell_type": "code",
   "execution_count": 28,
   "metadata": {},
   "outputs": [
    {
     "data": {
      "image/png": "[encoded data removed]",
      "text/plain": [
       "<Figure size 432x288 with 1 Axes>"
      ]
     },
     "metadata": {
      "needs_background": "light"
     },
     "output_type": "display_data"
    },
    {
     "data": {
      "image/png": "[encoded data removed]",
      "text/plain": [
       "<Figure size 432x288 with 1 Axes>"
      ]
     },
     "metadata": {
      "needs_background": "light"
     },
     "output_type": "display_data"
    },
    {
     "data": {
      "image/png": "[encoded data removed]",
      "text/plain": [
       "<Figure size 432x288 with 1 Axes>"
      ]
     },
     "metadata": {
      "needs_background": "light"
     },
     "output_type": "display_data"
    },
    {
     "data": {
      "image/png": "[encoded data removed]",
      "text/plain": [
       "<Figure size 432x288 with 1 Axes>"
      ]
     },
     "metadata": {
      "needs_background": "light"
     },
     "output_type": "display_data"
    },
    {
     "data": {
      "image/png": "[encoded data removed]",
      "text/plain": [
       "<Figure size 432x288 with 1 Axes>"
      ]
     },
     "metadata": {
      "needs_background": "light"
     },
     "output_type": "display_data"
    },
    {
     "data": {
      "image/png": "[encoded data removed]",
      "text/plain": [
       "<Figure size 432x288 with 1 Axes>"
      ]
     },
     "metadata": {
      "needs_background": "light"
     },
     "output_type": "display_data"
    }
   ],
   "source": [
    "numerics = ['geography', 'gender', 'tenure', 'num_of_products', 'has_cr_card', 'is_active_member']\n",
    "for column in numerics:\n",
    "    hists_kg(df, column, bins=10)"
   ]
  },
  {
   "cell_type": "markdown",
   "metadata": {},
   "source": [
    "Рассмотрев распределение признаков по целевому признаку, можно  заметить, что больше отток клиентов происходит в Германии. В большей степени уходят клиенты в возрасте от 38 до 50 лет, имеющие небольшой баланс на счете, имеющие только 1 продукт банка и с низкой активностью. Также, можно заметить, что женщины уходят чаще из банка, чем мужчины. "
   ]
  },
  {
   "cell_type": "code",
   "execution_count": 29,
   "metadata": {},
   "outputs": [
    {
     "data": {
      "image/png": "[encoded data removed]",
      "text/plain": [
       "<Figure size 1080x576 with 2 Axes>"
      ]
     },
     "metadata": {
      "needs_background": "light"
     },
     "output_type": "display_data"
    }
   ],
   "source": [
    "plt.figure(figsize=(15, 8))\n",
    "plt.title('Матрица корреляций зависимостей признаков')\n",
    "sns.heatmap(df.corr(), annot = True)\n",
    "plt.show()"
   ]
  },
  {
   "cell_type": "markdown",
   "metadata": {},
   "source": [
    "Глядя на матрицу корреляций, можно заметить, что на целевой признак `exited` с небольшой положительной корреляцией влияют признаки возраста клиента и баланса. Также можно заметить отрицательную корреляцию между количеством продуктов банка у клиента и балансом на счете. Видимо, чем больше продуктов, тем меньше сумма на счете."
   ]
  },
  {
   "cell_type": "markdown",
   "metadata": {},
   "source": [
    "Теперь разделю таблицу на признаки и целевой признак, а так же разобью данные на обучающую, валидационную и тестовую выборки в соотношении 3:1:1."
   ]
  },
  {
   "cell_type": "code",
   "execution_count": 30,
   "metadata": {},
   "outputs": [],
   "source": [
    "features = df.drop('exited', axis=1)\n",
    "target = df['exited']"
   ]
  },
  {
   "cell_type": "code",
   "execution_count": 31,
   "metadata": {},
   "outputs": [
    {
     "data": {
      "text/plain": [
       "(9091, 10)"
      ]
     },
     "metadata": {},
     "output_type": "display_data"
    },
    {
     "data": {
      "text/plain": [
       "(9091,)"
      ]
     },
     "metadata": {},
     "output_type": "display_data"
    }
   ],
   "source": [
    "display(features.shape)\n",
    "display(target.shape)"
   ]
  },
  {
   "cell_type": "code",
   "execution_count": 32,
   "metadata": {},
   "outputs": [],
   "source": [
    "#разбиваю данные на тренировочную и валидационную выборки\n",
    "features_train, features_valid, target_train, target_valid = train_test_split(\n",
    "                                                            features, target, test_size=0.4,\n",
    "                                                            random_state=12345, stratify=target)\n",
    "#разбиваю валидационную выборку на валидационную и тестовую выборки\n",
    "features_test, features_valid, target_test, target_valid = train_test_split(\n",
    "                                                            features_valid, target_valid, \n",
    "                                                            test_size=0.5, random_state=12345,\n",
    "                                                            stratify=target_valid)"
   ]
  },
  {
   "cell_type": "code",
   "execution_count": 33,
   "metadata": {},
   "outputs": [
    {
     "data": {
      "text/plain": [
       "(5454, 10)"
      ]
     },
     "metadata": {},
     "output_type": "display_data"
    },
    {
     "data": {
      "text/plain": [
       "(5454,)"
      ]
     },
     "metadata": {},
     "output_type": "display_data"
    },
    {
     "data": {
      "text/plain": [
       "(1819, 10)"
      ]
     },
     "metadata": {},
     "output_type": "display_data"
    },
    {
     "data": {
      "text/plain": [
       "(1819,)"
      ]
     },
     "metadata": {},
     "output_type": "display_data"
    },
    {
     "data": {
      "text/plain": [
       "(1818, 10)"
      ]
     },
     "metadata": {},
     "output_type": "display_data"
    },
    {
     "data": {
      "text/plain": [
       "(1818,)"
      ]
     },
     "metadata": {},
     "output_type": "display_data"
    }
   ],
   "source": [
    "display(features_train.shape)\n",
    "display(target_train.shape)\n",
    "display(features_valid.shape)\n",
    "display(target_valid.shape)\n",
    "display(features_test.shape)\n",
    "display(target_test.shape)"
   ]
  },
  {
   "cell_type": "markdown",
   "metadata": {},
   "source": [
    "Чтобы преобразовать категориальные признаки в численные, воспользуюсь техникой прямого кодирования OHE. "
   ]
  },
  {
   "cell_type": "code",
   "execution_count": 34,
   "metadata": {},
   "outputs": [],
   "source": [
    "features_train = pd.get_dummies(features_train, drop_first=True)\n",
    "features_valid = pd.get_dummies(features_valid, drop_first=True)\n",
    "features_test = pd.get_dummies(features_test, drop_first=True)"
   ]
  },
  {
   "cell_type": "markdown",
   "metadata": {},
   "source": [
    "Далее преобразую масштаб количественных признаков методом стандартизации"
   ]
  },
  {
   "cell_type": "code",
   "execution_count": 35,
   "metadata": {},
   "outputs": [],
   "source": [
    "scaler = StandardScaler()\n",
    "numeric = ['credit_score', 'age', 'tenure', 'balance', 'num_of_products', 'estimated_salary']\n",
    "scaler.fit(features_train[numeric]) \n",
    "\n",
    "features_train[numeric] = scaler.transform(features_train[numeric])\n",
    "features_valid[numeric] = scaler.transform(features_valid[numeric])\n",
    "features_test[numeric] = scaler.transform(features_test[numeric])"
   ]
  },
  {
   "cell_type": "markdown",
   "metadata": {},
   "source": [
    "***Вывод:***\n",
    "\n",
    " - Предобработаны данные: исключены пропуски, регистр приведен к стандартному формату.\n",
    " - Составлен портрет клиента, который уходит из банка: клиенты женского пола, из Германии, в возрасте от 38 до 50 лет, имеют небольшой баланс на счете, низкую активность в банке и имеющие только 1 продукт банка.\n",
    " - Таблица разделена на признаки и целевой признак, данные разбиты на выборки: обучающую, валидационную и тестовую.\n",
    " - Преобразованы категориальные признаки методом прямого кодирования OHE.\n",
    " - Признаки стандартизированны.\n",
    " \n",
    "В таблице классы несбалансированны, их соотношение 4:1."
   ]
  },
  {
   "cell_type": "markdown",
   "metadata": {},
   "source": [
    "## Исследование задачи"
   ]
  },
  {
   "cell_type": "markdown",
   "metadata": {},
   "source": [
    "Создам функцию для расчета `AUC-ROC` и построния графика `ROC-кривой`."
   ]
  },
  {
   "cell_type": "code",
   "execution_count": 37,
   "metadata": {},
   "outputs": [],
   "source": [
    "def roc_auc(model, features_valid=features_valid, target_valid=target_valid):\n",
    "    probabilities_valid = model.predict_proba(features_valid)\n",
    "    probabilities_one_valid = probabilities_valid[:, 1]\n",
    "    print('Площадь под кривой ROC: {:.5f}'.format(roc_auc_score(target_valid, probabilities_one_valid)))\n",
    "    fpr, tpr, thresholds = roc_curve(target_valid, probabilities_one_valid) \n",
    "    plt.figure(figsize=(7,7))\n",
    "    plt.plot(fpr, tpr)\n",
    "    plt.plot([0, 1], [0, 1], linestyle='--')\n",
    "    plt.xlim([0.0, 1.0])\n",
    "    plt.ylim([0.0, 1.0])\n",
    "    plt.xlabel('False Positive Rate')\n",
    "    plt.ylabel('True Positive Rate')\n",
    "    plt.title('ROC-кривая')\n",
    "    plt.show()"
   ]
  },
  {
   "cell_type": "markdown",
   "metadata": {},
   "source": [
    "А теперь бучу модели без учета дисбаланса классов. "
   ]
  },
  {
   "cell_type": "markdown",
   "metadata": {},
   "source": [
    "### Решающее дерево"
   ]
  },
  {
   "cell_type": "markdown",
   "metadata": {},
   "source": [
    "Инициирую модель DecisionTreeClassifier из библиотеки sklearn. Качество модели будет проверено с помощью критериев `F1-мера` и `AUC-ROC`."
   ]
  },
  {
   "cell_type": "code",
   "execution_count": 38,
   "metadata": {},
   "outputs": [
    {
     "name": "stdout",
     "output_type": "stream",
     "text": [
      "F1-мера наилучшей модели на валидационной выборке: 0.557659208261618 Глубина дерева: 7\n"
     ]
    }
   ],
   "source": [
    "best_model_dtc = None\n",
    "best_result_dtc = 0\n",
    "best_depth_dtc = 0\n",
    "for depth in range(1, 50):\n",
    "    model_dtc = DecisionTreeClassifier(random_state=12345, max_depth=depth) \n",
    "    model_dtc.fit(features_train, target_train)\n",
    "    predictions_valid_dtc = model_dtc.predict(features_valid)\n",
    "    result_dtc = f1_score(target_valid, predictions_valid_dtc)\n",
    "    if result_dtc > best_result_dtc:\n",
    "        best_model_dtc = model_dtc\n",
    "        best_result_dtc = result_dtc\n",
    "        best_depth_dtc = depth\n",
    "print('F1-мера наилучшей модели на валидационной выборке:', best_result_dtc, 'Глубина дерева:', best_depth_dtc)"
   ]
  },
  {
   "cell_type": "code",
   "execution_count": 39,
   "metadata": {},
   "outputs": [
    {
     "name": "stdout",
     "output_type": "stream",
     "text": [
      "Площадь под кривой ROC: 0.81736\n"
     ]
    },
    {
     "data": {
      "image/png": "[encoded data removed]",
      "text/plain": [
       "<Figure size 504x504 with 1 Axes>"
      ]
     },
     "metadata": {
      "needs_background": "light"
     },
     "output_type": "display_data"
    }
   ],
   "source": [
    "roc_auc(best_model_dtc)"
   ]
  },
  {
   "cell_type": "markdown",
   "metadata": {},
   "source": [
    "Наилучшее значение F1=0,55766 достигнуто при глубине дерева 7. Ниже необходимой метрики 0,59. Значение AUC-ROC: 0.81736."
   ]
  },
  {
   "cell_type": "markdown",
   "metadata": {},
   "source": [
    "### Случайный лес"
   ]
  },
  {
   "cell_type": "code",
   "execution_count": 40,
   "metadata": {},
   "outputs": [
    {
     "name": "stdout",
     "output_type": "stream",
     "text": [
      "F1-мера наилучшей модели на валидационной выборке: 0.5870646766169154 Количество деревьев: 35 Максимальная глубина: 19\n"
     ]
    }
   ],
   "source": [
    "best_model_rfc = None\n",
    "best_result_rfc = 0\n",
    "best_depth = 0\n",
    "best_est_rfc = 0\n",
    "for est in range(20, 100, 5):\n",
    "    for depth in range (1, 20, 1):\n",
    "        model_rfc = RandomForestClassifier(random_state=12345, n_estimators=est, max_depth=depth)\n",
    "        model_rfc.fit(features_train, target_train)\n",
    "        predictions_valid_rfc = model_rfc.predict(features_valid)\n",
    "        result_rfc = f1_score(target_valid, predictions_valid_rfc)\n",
    "        if result_rfc > best_result_rfc:\n",
    "            best_model_rfc = model_rfc\n",
    "            best_result_rfc = result_rfc\n",
    "            best_depth_rfc = depth\n",
    "            best_est_rfc = est\n",
    "print('F1-мера наилучшей модели на валидационной выборке:', best_result_rfc, 'Количество деревьев:', best_est_rfc, 'Максимальная глубина:', depth)"
   ]
  },
  {
   "cell_type": "code",
   "execution_count": 41,
   "metadata": {},
   "outputs": [
    {
     "name": "stdout",
     "output_type": "stream",
     "text": [
      "Площадь под кривой ROC: 0.83402\n"
     ]
    },
    {
     "data": {
      "image/png": "[encoded data removed]",
      "text/plain": [
       "<Figure size 504x504 with 1 Axes>"
      ]
     },
     "metadata": {
      "needs_background": "light"
     },
     "output_type": "display_data"
    }
   ],
   "source": [
    "roc_auc(best_model_rfc)"
   ]
  },
  {
   "cell_type": "markdown",
   "metadata": {},
   "source": [
    "Наилучшее значение F1=0,587 достигнуто при глубине дерева 19 и количестве деревьев 35. Почти соответствует метрики по заданию 0,59, но все же ниже. Значение AUC-ROC: 0.83402."
   ]
  },
  {
   "cell_type": "markdown",
   "metadata": {},
   "source": [
    "### Логистическая регрессия"
   ]
  },
  {
   "cell_type": "code",
   "execution_count": 42,
   "metadata": {},
   "outputs": [
    {
     "name": "stdout",
     "output_type": "stream",
     "text": [
      "F1-мера модели на валидационной выборке: 0.35203094777562866\n"
     ]
    }
   ],
   "source": [
    "model_lr = LogisticRegression(random_state=12345, max_iter=10000)\n",
    "model_lr.fit(features_train, target_train)\n",
    "predictions_valid_lr = model_lr.predict(features_valid)\n",
    "result_lr = f1_score(target_valid, predictions_valid_lr)\n",
    "\n",
    "              \n",
    "print('F1-мера модели на валидационной выборке:', result_lr)"
   ]
  },
  {
   "cell_type": "code",
   "execution_count": 43,
   "metadata": {},
   "outputs": [
    {
     "name": "stdout",
     "output_type": "stream",
     "text": [
      "Площадь под кривой ROC: 0.77451\n"
     ]
    },
    {
     "data": {
      "image/png": "[encoded data removed]",
      "text/plain": [
       "<Figure size 504x504 with 1 Axes>"
      ]
     },
     "metadata": {
      "needs_background": "light"
     },
     "output_type": "display_data"
    }
   ],
   "source": [
    "roc_auc(model_lr)"
   ]
  },
  {
   "cell_type": "markdown",
   "metadata": {},
   "source": [
    "Качество модели логистической регрессии при рассмотрении метрики F1, ниже всех предыдущих моделей и составляет 0,35. И значение AUC-ROC хуже 0,77451."
   ]
  },
  {
   "cell_type": "markdown",
   "metadata": {},
   "source": [
    "***Вывод:***\n",
    "\n",
    "Обучены модели без учета дисбаланса качества: решающее дерево, случайный лес, логистическая регрессия. Наилучшее значение метрики F1=0,587 достигнуто при обучении модели случайного леса."
   ]
  },
  {
   "cell_type": "markdown",
   "metadata": {},
   "source": [
    "## Борьба с дисбалансом"
   ]
  },
  {
   "cell_type": "markdown",
   "metadata": {},
   "source": [
    "Учту дисбаланс классов, чтобы улучшить качество модели. Рассмотрю следующие техники:\n",
    "- взвешивание классов\n",
    "- увеличение выборки (upsampling)\n",
    "- уменьшение выборки (downsampling)\n",
    "- изменение порога классификации"
   ]
  },
  {
   "cell_type": "markdown",
   "metadata": {},
   "source": [
    "### Взвешивание классов"
   ]
  },
  {
   "cell_type": "markdown",
   "metadata": {},
   "source": [
    "#### Решающее дерево"
   ]
  },
  {
   "cell_type": "code",
   "execution_count": 44,
   "metadata": {},
   "outputs": [
    {
     "name": "stdout",
     "output_type": "stream",
     "text": [
      "F1-мера наилучшей модели на валидационной выборке: 0.5675675675675674 Глубина дерева: 8\n"
     ]
    }
   ],
   "source": [
    "best_model_dtc = None\n",
    "best_result_dtc = 0\n",
    "best_depth_dtc = 0\n",
    "for depth in range(1, 50):\n",
    "    model_dtc = DecisionTreeClassifier(random_state=12345, max_depth=depth, class_weight='balanced') \n",
    "    model_dtc.fit(features_train, target_train)\n",
    "    predictions_valid_dtc = model_dtc.predict(features_valid)\n",
    "    result_dtc = f1_score(target_valid, predictions_valid_dtc)\n",
    "    if result_dtc > best_result_dtc:\n",
    "        best_model_dtc = model_dtc\n",
    "        best_result_dtc = result_dtc\n",
    "        best_depth_dtc = depth\n",
    "print('F1-мера наилучшей модели на валидационной выборке:', best_result_dtc, 'Глубина дерева:', best_depth_dtc)"
   ]
  },
  {
   "cell_type": "code",
   "execution_count": 45,
   "metadata": {},
   "outputs": [
    {
     "name": "stdout",
     "output_type": "stream",
     "text": [
      "Площадь под кривой ROC: 0.80520\n"
     ]
    },
    {
     "data": {
      "image/png": "[encoded data removed]",
      "text/plain": [
       "<Figure size 504x504 with 1 Axes>"
      ]
     },
     "metadata": {
      "needs_background": "light"
     },
     "output_type": "display_data"
    }
   ],
   "source": [
    "roc_auc(best_model_dtc)"
   ]
  },
  {
   "cell_type": "markdown",
   "metadata": {},
   "source": [
    "Качество модели не много улучшилось до F1=0,567 с глубиной дерева 8, но все же ниже необходимого качества, а значение AUC-ROC снизилось - 0.80520."
   ]
  },
  {
   "cell_type": "markdown",
   "metadata": {},
   "source": [
    "#### Случайный лес"
   ]
  },
  {
   "cell_type": "code",
   "execution_count": 46,
   "metadata": {},
   "outputs": [
    {
     "name": "stdout",
     "output_type": "stream",
     "text": [
      "F1-мера наилучшей модели на валидационной выборке: 0.5870646766169154 Количество деревьев: 35 Максимальная глубина: 19\n"
     ]
    }
   ],
   "source": [
    "best_model_rfc_1 = None\n",
    "best_result_rfc_1 = 0\n",
    "best_depth_1 = 0\n",
    "best_est_rfc_1 = 0\n",
    "for est in range(20, 100, 5):\n",
    "    for depth in range (1, 20, 1):\n",
    "        model_rfc_1 = RandomForestClassifier(random_state=12345, n_estimators=est, max_depth=depth, class_weight='balanced')\n",
    "        model_rfc_1.fit(features_train, target_train)\n",
    "        predictions_valid_rfc_1 = model_rfc.predict(features_valid)\n",
    "        result_rfc_1 = f1_score(target_valid, predictions_valid_rfc)\n",
    "        if result_rfc_1 > best_result_rfc_1:\n",
    "            best_model_rfc_1 = model_rfc_1\n",
    "            best_result_rfc_1 = result_rfc_1\n",
    "            best_depth_rfc_1 = depth\n",
    "            best_est_rfc_1 = est\n",
    "print('F1-мера наилучшей модели на валидационной выборке:', best_result_rfc, 'Количество деревьев:', best_est_rfc, 'Максимальная глубина:', depth)"
   ]
  },
  {
   "cell_type": "code",
   "execution_count": 47,
   "metadata": {},
   "outputs": [
    {
     "name": "stdout",
     "output_type": "stream",
     "text": [
      "Площадь под кривой ROC: 0.78987\n"
     ]
    },
    {
     "data": {
      "image/png": "[encoded data removed]",
      "text/plain": [
       "<Figure size 504x504 with 1 Axes>"
      ]
     },
     "metadata": {
      "needs_background": "light"
     },
     "output_type": "display_data"
    }
   ],
   "source": [
    "roc_auc(best_model_rfc_1)"
   ]
  },
  {
   "cell_type": "markdown",
   "metadata": {},
   "source": [
    "При взвешивании классов моделью случайного леса достигнута F1-мера, которая соответствует техническому заданию. F1-мера наилучшей модели на валидационной выборке: 0.587 с количеством деревьев: 35 и максимальной глубиной: 19. Значение AUC-ROC: 0.78987. "
   ]
  },
  {
   "cell_type": "markdown",
   "metadata": {},
   "source": [
    "#### Логистическая регрессия"
   ]
  },
  {
   "cell_type": "code",
   "execution_count": 48,
   "metadata": {},
   "outputs": [
    {
     "name": "stdout",
     "output_type": "stream",
     "text": [
      "F1-мера модели на валидационной выборке: 0.5082125603864733\n"
     ]
    }
   ],
   "source": [
    "model_lr = LogisticRegression(random_state=12345, max_iter=10000, class_weight='balanced')\n",
    "model_lr.fit(features_train, target_train)\n",
    "predictions_valid_lr = model_lr.predict(features_valid)\n",
    "result_lr = f1_score(target_valid, predictions_valid_lr)\n",
    "\n",
    "              \n",
    "print('F1-мера модели на валидационной выборке:', result_lr)"
   ]
  },
  {
   "cell_type": "code",
   "execution_count": 49,
   "metadata": {},
   "outputs": [
    {
     "name": "stdout",
     "output_type": "stream",
     "text": [
      "Площадь под кривой ROC: 0.77810\n"
     ]
    },
    {
     "data": {
      "image/png": "[encoded data removed]",
      "text/plain": [
       "<Figure size 504x504 with 1 Axes>"
      ]
     },
     "metadata": {
      "needs_background": "light"
     },
     "output_type": "display_data"
    }
   ],
   "source": [
    "roc_auc(model_lr)"
   ]
  },
  {
   "cell_type": "markdown",
   "metadata": {},
   "source": [
    "Значение F1-меры значительно увеличилось и составило 0,508, но это значение значительно ниже необходимого 0,59. А значение AUC-ROC практически не изменилось - 0.77810."
   ]
  },
  {
   "cell_type": "markdown",
   "metadata": {},
   "source": [
    "### Увеличение выборки"
   ]
  },
  {
   "cell_type": "markdown",
   "metadata": {},
   "source": [
    "Сделаю объекты редкого класса не такими редкими. Напишу функцию для увеличения выборки."
   ]
  },
  {
   "cell_type": "code",
   "execution_count": 50,
   "metadata": {
    "scrolled": true
   },
   "outputs": [],
   "source": [
    "def upsample(features, target, repeat):\n",
    "    features_zeros = features[target == 0]\n",
    "    features_ones = features[target == 1]\n",
    "    target_zeros = target[target == 0]\n",
    "    target_ones = target[target == 1]\n",
    "\n",
    "    features_upsampled = pd.concat([features_zeros] + [features_ones] * repeat)\n",
    "    target_upsampled = pd.concat([target_zeros] + [target_ones] * repeat)\n",
    "    \n",
    "    features_upsampled, target_upsampled = shuffle(\n",
    "        features_upsampled, target_upsampled, random_state=12345)\n",
    "    \n",
    "    return features_upsampled, target_upsampled"
   ]
  },
  {
   "cell_type": "code",
   "execution_count": 51,
   "metadata": {},
   "outputs": [],
   "source": [
    "features_upsampled, target_upsampled = upsample(features_train, target_train, 4)"
   ]
  },
  {
   "cell_type": "markdown",
   "metadata": {},
   "source": [
    "#### Решающее дерево"
   ]
  },
  {
   "cell_type": "code",
   "execution_count": 52,
   "metadata": {},
   "outputs": [
    {
     "name": "stdout",
     "output_type": "stream",
     "text": [
      "F1-мера наилучшей модели на валидационной выборке: 0.5711060948081264 Глубина дерева: 8\n"
     ]
    }
   ],
   "source": [
    "best_model_dtc = None\n",
    "best_result_dtc = 0\n",
    "best_depth_dtc = 0\n",
    "for depth in range(1, 50):\n",
    "    model_dtc = DecisionTreeClassifier(random_state=12345, max_depth=depth) \n",
    "    model_dtc.fit(features_upsampled, target_upsampled)\n",
    "    predictions_valid_dtc = model_dtc.predict(features_valid)\n",
    "    result_dtc = f1_score(target_valid, predictions_valid_dtc)\n",
    "    if result_dtc > best_result_dtc:\n",
    "        best_model_dtc = model_dtc\n",
    "        best_result_dtc = result_dtc\n",
    "        best_depth_dtc = depth\n",
    "print('F1-мера наилучшей модели на валидационной выборке:', best_result_dtc, 'Глубина дерева:', best_depth_dtc)"
   ]
  },
  {
   "cell_type": "code",
   "execution_count": 53,
   "metadata": {},
   "outputs": [
    {
     "name": "stdout",
     "output_type": "stream",
     "text": [
      "Площадь под кривой ROC: 0.80833\n"
     ]
    },
    {
     "data": {
      "image/png": "[encoded data removed]",
      "text/plain": [
       "<Figure size 504x504 with 1 Axes>"
      ]
     },
     "metadata": {
      "needs_background": "light"
     },
     "output_type": "display_data"
    }
   ],
   "source": [
    "roc_auc(best_model_dtc)"
   ]
  },
  {
   "cell_type": "markdown",
   "metadata": {},
   "source": [
    "Значение F1-меры стало ниже, чем при взвешивании классов. И составляет 0,5711 при глубине дерева 8. Площадь под кривой ROC: 0.80833."
   ]
  },
  {
   "cell_type": "markdown",
   "metadata": {},
   "source": [
    "#### Случайный лес"
   ]
  },
  {
   "cell_type": "code",
   "execution_count": 54,
   "metadata": {},
   "outputs": [
    {
     "name": "stdout",
     "output_type": "stream",
     "text": [
      "F1-мера наилучшей модели на валидационной выборке: 0.6115007012622721 Количество деревьев: 30 Максимальная глубина: 19\n"
     ]
    }
   ],
   "source": [
    "best_model_rfc = None\n",
    "best_result_rfc = 0\n",
    "best_depth = 0\n",
    "best_est_rfc = 0\n",
    "for est in range(20, 100, 5):\n",
    "    for depth in range (1, 20, 1):\n",
    "        model_rfc = RandomForestClassifier(random_state=12345, n_estimators=est, max_depth=depth)\n",
    "        model_rfc.fit(features_upsampled, target_upsampled)\n",
    "        predictions_valid_rfc = model_rfc.predict(features_valid)\n",
    "        result_rfc = f1_score(target_valid, predictions_valid_rfc)\n",
    "        if result_rfc > best_result_rfc:\n",
    "            best_model_rfc = model_rfc\n",
    "            best_result_rfc = result_rfc\n",
    "            best_depth_rfc = depth\n",
    "            best_est_rfc = est\n",
    "print('F1-мера наилучшей модели на валидационной выборке:', best_result_rfc, 'Количество деревьев:', best_est_rfc, 'Максимальная глубина:', depth)"
   ]
  },
  {
   "cell_type": "code",
   "execution_count": 55,
   "metadata": {},
   "outputs": [
    {
     "name": "stdout",
     "output_type": "stream",
     "text": [
      "Площадь под кривой ROC: 0.83746\n"
     ]
    },
    {
     "data": {
      "image/png": "[encoded data removed]",
      "text/plain": [
       "<Figure size 504x504 with 1 Axes>"
      ]
     },
     "metadata": {
      "needs_background": "light"
     },
     "output_type": "display_data"
    }
   ],
   "source": [
    "roc_auc(best_model_rfc)"
   ]
  },
  {
   "cell_type": "markdown",
   "metadata": {},
   "source": [
    "Значение F1-меры у модели случайного леса не много снизилось, по сравнению со взвешиванием классов. И составило 0,6115 при количестве деревьев 30 и максимальной глубине 19. Значение AUC-ROC: 0.83746 стало не много ниже."
   ]
  },
  {
   "cell_type": "markdown",
   "metadata": {},
   "source": [
    "#### Логистическая регрессия"
   ]
  },
  {
   "cell_type": "code",
   "execution_count": 56,
   "metadata": {},
   "outputs": [
    {
     "name": "stdout",
     "output_type": "stream",
     "text": [
      "F1-мера модели на валидационной выборке: 0.5042816365366317\n"
     ]
    }
   ],
   "source": [
    "model = LogisticRegression(random_state=12345, solver='liblinear')\n",
    "model.fit(features_upsampled, target_upsampled)\n",
    "predicted_valid = model.predict(features_valid)\n",
    "print('F1-мера модели на валидационной выборке:', f1_score(target_valid, predicted_valid))"
   ]
  },
  {
   "cell_type": "code",
   "execution_count": 57,
   "metadata": {},
   "outputs": [
    {
     "name": "stdout",
     "output_type": "stream",
     "text": [
      "Площадь под кривой ROC: 0.77818\n"
     ]
    },
    {
     "data": {
      "image/png": "[encoded data removed]",
      "text/plain": [
       "<Figure size 504x504 with 1 Axes>"
      ]
     },
     "metadata": {
      "needs_background": "light"
     },
     "output_type": "display_data"
    }
   ],
   "source": [
    "roc_auc(model)"
   ]
  },
  {
   "cell_type": "markdown",
   "metadata": {},
   "source": [
    "При увеличении выборки, значение F1-меры ниже, чем при взвешивании классов. И составляет 0,504. Значение AUC-ROC: 0.77818."
   ]
  },
  {
   "cell_type": "markdown",
   "metadata": {},
   "source": [
    "### Уменьшение выборки"
   ]
  },
  {
   "cell_type": "markdown",
   "metadata": {},
   "source": [
    "Сделаю объекты частого класса не такими частыми. Напишу функцию для уменьшения выборки."
   ]
  },
  {
   "cell_type": "code",
   "execution_count": 58,
   "metadata": {},
   "outputs": [],
   "source": [
    "def downsample(features, target, fraction):\n",
    "    features_zeros = features[target == 0]\n",
    "    features_ones = features[target == 1]\n",
    "    target_zeros = target[target == 0]\n",
    "    target_ones = target[target == 1]\n",
    "\n",
    "    features_downsampled = pd.concat(\n",
    "        [features_zeros.sample(frac=fraction, random_state=12345)] + [features_ones])\n",
    "    target_downsampled = pd.concat(\n",
    "        [target_zeros.sample(frac=fraction, random_state=12345)] + [target_ones])\n",
    "    \n",
    "    features_downsampled, target_downsampled = shuffle(\n",
    "        features_downsampled, target_downsampled, random_state=12345)\n",
    "    \n",
    "    return features_downsampled, target_downsampled"
   ]
  },
  {
   "cell_type": "code",
   "execution_count": 59,
   "metadata": {},
   "outputs": [],
   "source": [
    "features_downsampled, target_downsampled = downsample(features_train, target_train, 0.25)"
   ]
  },
  {
   "cell_type": "markdown",
   "metadata": {},
   "source": [
    "#### Решающее дерево"
   ]
  },
  {
   "cell_type": "code",
   "execution_count": 60,
   "metadata": {},
   "outputs": [
    {
     "name": "stdout",
     "output_type": "stream",
     "text": [
      "F1-мера наилучшей модели на валидационной выборке: 0.55779427359491 Глубина дерева: 4\n"
     ]
    }
   ],
   "source": [
    "best_model_dtc = None\n",
    "best_result_dtc = 0\n",
    "best_depth_dtc = 0\n",
    "for depth in range(1, 50):\n",
    "    model_dtc = DecisionTreeClassifier(random_state=12345, max_depth=depth) \n",
    "    model_dtc.fit(features_downsampled, target_downsampled)\n",
    "    predictions_valid_dtc = model_dtc.predict(features_valid)\n",
    "    result_dtc = f1_score(target_valid, predictions_valid_dtc)\n",
    "    if result_dtc > best_result_dtc:\n",
    "        best_model_dtc = model_dtc\n",
    "        best_result_dtc = result_dtc\n",
    "        best_depth_dtc = depth\n",
    "print('F1-мера наилучшей модели на валидационной выборке:', best_result_dtc, 'Глубина дерева:', best_depth_dtc)"
   ]
  },
  {
   "cell_type": "code",
   "execution_count": 61,
   "metadata": {},
   "outputs": [
    {
     "name": "stdout",
     "output_type": "stream",
     "text": [
      "Площадь под кривой ROC: 0.81104\n"
     ]
    },
    {
     "data": {
      "image/png": "[encoded data removed]",
      "text/plain": [
       "<Figure size 504x504 with 1 Axes>"
      ]
     },
     "metadata": {
      "needs_background": "light"
     },
     "output_type": "display_data"
    }
   ],
   "source": [
    "roc_auc(best_model_dtc)"
   ]
  },
  {
   "cell_type": "markdown",
   "metadata": {},
   "source": [
    "При fraction=0,25, F1-мера наилучшей модели на валидационной выборке составляет 0.55779427359491 при глубине дерева: 4. Площадь под кривой ROC: 0.81104"
   ]
  },
  {
   "cell_type": "markdown",
   "metadata": {},
   "source": [
    "#### Случайный лес"
   ]
  },
  {
   "cell_type": "code",
   "execution_count": 62,
   "metadata": {},
   "outputs": [
    {
     "name": "stdout",
     "output_type": "stream",
     "text": [
      "F1-мера наилучшей модели на валидационной выборке: 0.5859030837004405 Количество деревьев: 20 Максимальная глубина: 19\n"
     ]
    }
   ],
   "source": [
    "best_model_rfc = None\n",
    "best_result_rfc = 0\n",
    "best_depth = 0\n",
    "best_est_rfc = 0\n",
    "for est in range(20, 100, 5):\n",
    "    for depth in range (1, 20, 1):\n",
    "        model_rfc = RandomForestClassifier(random_state=12345, n_estimators=est, max_depth=depth)\n",
    "        model_rfc.fit(features_downsampled, target_downsampled)\n",
    "        predictions_valid_rfc = model_rfc.predict(features_valid)\n",
    "        result_rfc = f1_score(target_valid, predictions_valid_rfc)\n",
    "        if result_rfc > best_result_rfc:\n",
    "            best_model_rfc = model_rfc\n",
    "            best_result_rfc = result_rfc\n",
    "            best_depth_rfc = depth\n",
    "            best_est_rfc = est\n",
    "print('F1-мера наилучшей модели на валидационной выборке:', best_result_rfc, 'Количество деревьев:', best_est_rfc, 'Максимальная глубина:', depth)"
   ]
  },
  {
   "cell_type": "code",
   "execution_count": 63,
   "metadata": {},
   "outputs": [
    {
     "name": "stdout",
     "output_type": "stream",
     "text": [
      "Площадь под кривой ROC: 0.85130\n"
     ]
    },
    {
     "data": {
      "image/png": "[encoded data removed]",
      "text/plain": [
       "<Figure size 504x504 with 1 Axes>"
      ]
     },
     "metadata": {
      "needs_background": "light"
     },
     "output_type": "display_data"
    }
   ],
   "source": [
    "roc_auc(best_model_rfc)"
   ]
  },
  {
   "cell_type": "markdown",
   "metadata": {},
   "source": [
    "При fraction=0,25, F1-мера наилучшей модели на валидационной выборке составляет 0.5859030837004405 при количестве деревьев: 20 и максимальной глубине: 19. Площадь под кривой ROC: 0.85130"
   ]
  },
  {
   "cell_type": "markdown",
   "metadata": {},
   "source": [
    "#### Логистическая регрессия"
   ]
  },
  {
   "cell_type": "code",
   "execution_count": 64,
   "metadata": {},
   "outputs": [
    {
     "name": "stdout",
     "output_type": "stream",
     "text": [
      "F1-мера модели на валидационной выборке: 0.509433962264151\n"
     ]
    }
   ],
   "source": [
    "model = LogisticRegression(random_state=12345, solver='liblinear')\n",
    "model.fit(features_downsampled, target_downsampled)\n",
    "predicted_valid = model.predict(features_valid)\n",
    "print('F1-мера модели на валидационной выборке:', f1_score(target_valid, predicted_valid))"
   ]
  },
  {
   "cell_type": "code",
   "execution_count": 65,
   "metadata": {},
   "outputs": [
    {
     "name": "stdout",
     "output_type": "stream",
     "text": [
      "Площадь под кривой ROC: 0.77950\n"
     ]
    },
    {
     "data": {
      "image/png": "[encoded data removed]",
      "text/plain": [
       "<Figure size 504x504 with 1 Axes>"
      ]
     },
     "metadata": {
      "needs_background": "light"
     },
     "output_type": "display_data"
    }
   ],
   "source": [
    "roc_auc(model)"
   ]
  },
  {
   "cell_type": "markdown",
   "metadata": {},
   "source": [
    "При уменьшении выбоки значение F1-меры составляет 0,509 и является самым максимальным при обучении модели логистической регрессии. Но все же ниже значения, которое необходимо в задании. Площадь под кривой ROC: 0.77950"
   ]
  },
  {
   "cell_type": "markdown",
   "metadata": {},
   "source": [
    "### Изменение порога классификации"
   ]
  },
  {
   "cell_type": "markdown",
   "metadata": {},
   "source": [
    "Изменю значение порога и посмотрю, какими станут метрики."
   ]
  },
  {
   "cell_type": "markdown",
   "metadata": {},
   "source": [
    "#### Решающее дерево"
   ]
  },
  {
   "cell_type": "code",
   "execution_count": 66,
   "metadata": {},
   "outputs": [
    {
     "name": "stdout",
     "output_type": "stream",
     "text": [
      "F1-мера наилучшей модели на валидационной выборке: 0.5128205128205128 Лучший порог: 0.52\n"
     ]
    }
   ],
   "source": [
    "best_model_dtc = None\n",
    "best_result_dtc = 0.512\n",
    "predicted_best = []\n",
    "threshold_dtc = 0\n",
    "model_dtc = DecisionTreeClassifier(random_state=12345, max_depth=19) \n",
    "model_dtc.fit(features_train, target_train)\n",
    "probabilities_valid = model.predict_proba(features_valid)\n",
    "probabilities_one_valid = probabilities_valid[:, 1]\n",
    "    \n",
    "for threshold in np.arange(0, 1.0, 0.02):\n",
    "    predicted_valid = probabilities_one_valid > threshold\n",
    "    result_dtc = f1_score(target_valid, predicted_valid)\n",
    "    if result_dtc > best_result_dtc:        \n",
    "        best_model_dtc = model_dtc\n",
    "        best_result_dtc = result_dtc\n",
    "        threshold_dtc = threshold\n",
    "        predicted_best = predicted_valid\n",
    "print('F1-мера наилучшей модели на валидационной выборке:', best_result_dtc, 'Лучший порог:', threshold_dtc) "
   ]
  },
  {
   "cell_type": "code",
   "execution_count": 67,
   "metadata": {},
   "outputs": [
    {
     "name": "stdout",
     "output_type": "stream",
     "text": [
      "Площадь под кривой ROC: 0.69802\n"
     ]
    },
    {
     "data": {
      "image/png": "[encoded data removed]",
      "text/plain": [
       "<Figure size 504x504 with 1 Axes>"
      ]
     },
     "metadata": {
      "needs_background": "light"
     },
     "output_type": "display_data"
    }
   ],
   "source": [
    "roc_auc(best_model_dtc)"
   ]
  },
  {
   "cell_type": "markdown",
   "metadata": {},
   "source": [
    "Максимальное значение критерия F1-мера при наилучшем пороге - 0,52 составляет 0,5128, а значение AUC-ROC: 0.69802. Данные показатели далеки от идеальных."
   ]
  },
  {
   "cell_type": "markdown",
   "metadata": {},
   "source": [
    "#### Случайный лес"
   ]
  },
  {
   "cell_type": "code",
   "execution_count": 68,
   "metadata": {},
   "outputs": [
    {
     "name": "stdout",
     "output_type": "stream",
     "text": [
      "F1-мера наилучшей модели на валидационной выборке: 0.5128205128205128 Лучший порог: 0.52\n"
     ]
    }
   ],
   "source": [
    "best_model_rfc = None\n",
    "best_result_rfc = 0\n",
    "threshold_rfc = 0\n",
    "predicted_best = []\n",
    "model_rfc = RandomForestClassifier(random_state=12345, n_estimators=35, max_depth=19)\n",
    "model_rfc.fit(features_train, target_train)\n",
    "probabilities_valid = model.predict_proba(features_valid)\n",
    "probabilities_one_valid = probabilities_valid[:, 1]\n",
    "\n",
    "for threshold in np.arange(0, 1.0, 0.02):\n",
    "    predicted_valid = probabilities_one_valid > threshold\n",
    "    result_rfc = f1_score(target_valid, predicted_valid)\n",
    "    if result_rfc > best_result_rfc:        \n",
    "        best_model_rfc = model_rfc\n",
    "        best_result_rfc = result_rfc\n",
    "        threshold_rfc = threshold\n",
    "        predicted_best = predicted_valid\n",
    "print('F1-мера наилучшей модели на валидационной выборке:', best_result_rfc, 'Лучший порог:', threshold_rfc) \n"
   ]
  },
  {
   "cell_type": "code",
   "execution_count": 69,
   "metadata": {},
   "outputs": [
    {
     "name": "stdout",
     "output_type": "stream",
     "text": [
      "Площадь под кривой ROC: 0.83427\n"
     ]
    },
    {
     "data": {
      "image/png": "[encoded data removed]",
      "text/plain": [
       "<Figure size 504x504 with 1 Axes>"
      ]
     },
     "metadata": {
      "needs_background": "light"
     },
     "output_type": "display_data"
    }
   ],
   "source": [
    "roc_auc(best_model_rfc)"
   ]
  },
  {
   "cell_type": "markdown",
   "metadata": {},
   "source": [
    "Максимальное значение критерия F1-мера при наилучшем пороге составляет 0,5128, а вот значение AUC-ROC: 0.83427."
   ]
  },
  {
   "cell_type": "markdown",
   "metadata": {},
   "source": [
    "#### Логистическая регрессия"
   ]
  },
  {
   "cell_type": "code",
   "execution_count": 70,
   "metadata": {},
   "outputs": [
    {
     "name": "stdout",
     "output_type": "stream",
     "text": [
      "F1-мера наилучшей модели на валидационной выборке: 0.5 Лучший порог: 0.3\n"
     ]
    }
   ],
   "source": [
    "best_model = None\n",
    "best_result = 0\n",
    "best_threshold = 0\n",
    "model = LogisticRegression(random_state=12345, solver='liblinear')\n",
    "model.fit(features_train, target_train)\n",
    "probabilities_valid = model.predict_proba(features_valid)\n",
    "probabilities_one_valid = probabilities_valid[:, 1]\n",
    "\n",
    "for threshold in np.arange(0, 1.0, 0.02):\n",
    "    predicted_valid = probabilities_one_valid > threshold\n",
    "    result = f1_score(target_valid, predicted_valid)\n",
    "    if result > best_result:        \n",
    "        best_model = model\n",
    "        best_result = result\n",
    "        best_threshold = threshold\n",
    "print('F1-мера наилучшей модели на валидационной выборке:', best_result, 'Лучший порог:', best_threshold) "
   ]
  },
  {
   "cell_type": "code",
   "execution_count": 71,
   "metadata": {},
   "outputs": [
    {
     "name": "stdout",
     "output_type": "stream",
     "text": [
      "Площадь под кривой ROC: 0.77436\n"
     ]
    },
    {
     "data": {
      "image/png": "[encoded data removed]",
      "text/plain": [
       "<Figure size 504x504 with 1 Axes>"
      ]
     },
     "metadata": {
      "needs_background": "light"
     },
     "output_type": "display_data"
    }
   ],
   "source": [
    "roc_auc(best_model)"
   ]
  },
  {
   "cell_type": "markdown",
   "metadata": {},
   "source": [
    "Максимальное значение критерия F1-мера при наилучшем пороге - 0,3 составляет 0,5, а значение AUC-ROC: 0.77436. Данные значения очень низкие и не соответствуют поставленной задачи."
   ]
  },
  {
   "cell_type": "markdown",
   "metadata": {},
   "source": [
    "**Вывод:**\n",
    "\n",
    "В данном разделе были исследованы балансы классов, обучены модели без учёта дисбаланса. Было улучшено качество моделей, учитывая дисбаланс классов. Обучены разные модели и найдена лучшая.\n",
    "Необходимое качество, которое соответствует поставленной задачи (метрика доведена до 0,59) смогла достигнуть модель случайного леса при увеличении выборки с количеством деревьев: 30 и максимальной глубиной: 19, показатели F1-мера:0,6115, значение AUC-ROC: 0.83746.\n",
    "Лучшей моделью является модель случайного леса со значением **F1-меры = 0,6115.**"
   ]
  },
  {
   "cell_type": "markdown",
   "metadata": {},
   "source": [
    "## Тестирование модели"
   ]
  },
  {
   "cell_type": "markdown",
   "metadata": {},
   "source": [
    "По результатам проверки на валидационной выборке, лучшей моделью является модель случайного леса со значением F1-меры = 0,6115, количеством деревьев 30 и максимальной глубиной 19.\n",
    "\n",
    "Проверю данную модель на тестовой выборке, чтобы убедиться в качестве модели."
   ]
  },
  {
   "cell_type": "code",
   "execution_count": 72,
   "metadata": {},
   "outputs": [
    {
     "name": "stdout",
     "output_type": "stream",
     "text": [
      "F1-мера наилучшей модели на тестовой выборке: 0.6044444444444445\n"
     ]
    }
   ],
   "source": [
    "best_model = RandomForestClassifier(random_state=12345, n_estimators=30, max_depth=19)\n",
    "best_model.fit(features_upsampled, target_upsampled)\n",
    "predictions_test = best_model.predict(features_test)\n",
    "result = f1_score(target_test, predictions_test)\n",
    "print('F1-мера наилучшей модели на тестовой выборке:', result)"
   ]
  },
  {
   "cell_type": "code",
   "execution_count": 74,
   "metadata": {},
   "outputs": [
    {
     "name": "stdout",
     "output_type": "stream",
     "text": [
      "Площадь под кривой ROC: 0.85547\n"
     ]
    },
    {
     "data": {
      "image/png": "[encoded data removed]",
      "text/plain": [
       "<Figure size 504x504 with 1 Axes>"
      ]
     },
     "metadata": {
      "needs_background": "light"
     },
     "output_type": "display_data"
    }
   ],
   "source": [
    "probabilities_test = best_model.predict_proba(features_test)\n",
    "probabilities_one_test = probabilities_test[:, 1]\n",
    "print('Площадь под кривой ROC: {:.5f}'.format(roc_auc_score(target_test, probabilities_one_test)))\n",
    "fpr, tpr, thresholds = roc_curve(target_test, probabilities_one_test) \n",
    "plt.figure(figsize=(7,7))\n",
    "plt.plot(fpr, tpr)\n",
    "plt.plot([0, 1], [0, 1], linestyle='--')\n",
    "plt.xlim([0.0, 1.0])\n",
    "plt.ylim([0.0, 1.0])\n",
    "plt.xlabel('False Positive Rate')\n",
    "plt.ylabel('True Positive Rate')\n",
    "plt.title('ROC-кривая')\n",
    "plt.show()"
   ]
  },
  {
   "cell_type": "markdown",
   "metadata": {},
   "source": [
    "При проверки лучшей модели на тестовой выборке значение F1-меры равно 0.604, а значение AUC-ROC: 0.85547. Данные показатели полностью соответствуют поставленной задачи."
   ]
  },
  {
   "cell_type": "markdown",
   "metadata": {},
   "source": [
    "## Общий вывод"
   ]
  },
  {
   "cell_type": "markdown",
   "metadata": {},
   "source": [
    "Подготовлены данные к обучению:\n",
    " - исключены пропуски, регистр приведен к стандартному формату;\n",
    " - составлен портрет клиента, который уходит из банка: клиенты женского пола, из Германии, в возрасте от 38 до 50 лет, имеют небольшой баланс на счете, низкую активность в банке и имеющие только 1 продукт банка;\n",
    " - данные разделены на признаки и целевой признак;\n",
    " - данные разбиты на выборки: обучающую, валидационную и тестовую в соотношении 3:1:1;\n",
    " - преобразованы категориальные признаки методом прямого кодирования One-Hot Encoder;\n",
    " - количественные признаки стандартизированы.\n",
    " \n",
    "Проведен анализ моделей без учета дисбаланса классов:\n",
    " - обучены модели решающего дерева, случайного дерева и логистической регрессии;\n",
    " - рассмотрены метрики F1-меры и AUC-ROC, максимальное значение, которых соответствует модели случайного дерева F1-мера = 0,587, AUC-ROC = 0,83402.\n",
    " \n",
    "Проведен анализ дисбаланса классов:. Обучите разные модели и найдите лучшую. Кратко опишите выводы\n",
    " - применены техники для увеличения качества при дисбалансе классов - взвешивание классов, upsampling, downsampling и изменение порога классификации;\n",
    " - обучены модели и получены показатели соответствующие поставленной задачи, лучшей моделью является модель случайного леса с F1-мера = 0,6115 и AUC-ROC = 0,83746.\n",
    " \n",
    "Проведено тестирование лучшей модели:\n",
    " - итоговые показатели качества модели соответствуют поставленной задачи: F1-мера = 0,604 и AUC-ROC = 0,83746."
   ]
  }
 ],
 "metadata": {
  "ExecuteTimeLog": [
   {
    "duration": 455,
    "start_time": "2022-12-07T08:41:45.670Z"
   },
   {
    "duration": 89,
    "start_time": "2022-12-07T08:41:48.498Z"
   },
   {
    "duration": 23,
    "start_time": "2022-12-07T08:43:07.862Z"
   },
   {
    "duration": 13,
    "start_time": "2022-12-07T08:43:37.998Z"
   },
   {
    "duration": 12,
    "start_time": "2022-12-07T08:43:45.378Z"
   },
   {
    "duration": 50,
    "start_time": "2022-12-07T08:44:58.669Z"
   },
   {
    "duration": 10,
    "start_time": "2022-12-07T08:45:12.831Z"
   },
   {
    "duration": 3,
    "start_time": "2022-12-07T09:47:28.198Z"
   },
   {
    "duration": 4,
    "start_time": "2022-12-07T09:49:10.742Z"
   },
   {
    "duration": 5,
    "start_time": "2022-12-07T09:49:19.100Z"
   },
   {
    "duration": 19,
    "start_time": "2022-12-07T09:51:24.818Z"
   },
   {
    "duration": 18,
    "start_time": "2022-12-07T09:51:27.235Z"
   },
   {
    "duration": 17,
    "start_time": "2022-12-07T09:51:47.110Z"
   },
   {
    "duration": 19,
    "start_time": "2022-12-07T10:02:01.554Z"
   },
   {
    "duration": 16,
    "start_time": "2022-12-07T10:02:20.206Z"
   },
   {
    "duration": 717,
    "start_time": "2022-12-07T10:12:39.781Z"
   },
   {
    "duration": 8,
    "start_time": "2022-12-07T10:12:48.379Z"
   },
   {
    "duration": 6,
    "start_time": "2022-12-07T10:13:04.191Z"
   },
   {
    "duration": 8,
    "start_time": "2022-12-07T10:15:47.111Z"
   },
   {
    "duration": 9,
    "start_time": "2022-12-07T10:16:04.555Z"
   },
   {
    "duration": 7,
    "start_time": "2022-12-07T10:16:24.101Z"
   },
   {
    "duration": 8,
    "start_time": "2022-12-07T10:17:32.840Z"
   },
   {
    "duration": 8,
    "start_time": "2022-12-07T10:18:01.556Z"
   },
   {
    "duration": 9,
    "start_time": "2022-12-07T10:20:42.045Z"
   },
   {
    "duration": 7,
    "start_time": "2022-12-07T10:21:04.320Z"
   },
   {
    "duration": 8,
    "start_time": "2022-12-07T10:21:07.799Z"
   },
   {
    "duration": 5,
    "start_time": "2022-12-07T10:21:58.873Z"
   },
   {
    "duration": 7,
    "start_time": "2022-12-07T10:22:31.335Z"
   },
   {
    "duration": 7,
    "start_time": "2022-12-07T10:23:19.661Z"
   },
   {
    "duration": 6,
    "start_time": "2022-12-07T10:23:45.462Z"
   },
   {
    "duration": 8,
    "start_time": "2022-12-07T10:36:00.460Z"
   },
   {
    "duration": 9,
    "start_time": "2022-12-07T11:00:28.048Z"
   },
   {
    "duration": 7,
    "start_time": "2022-12-07T11:00:40.760Z"
   },
   {
    "duration": 11,
    "start_time": "2022-12-07T11:06:45.828Z"
   },
   {
    "duration": 2,
    "start_time": "2022-12-07T11:10:11.870Z"
   },
   {
    "duration": 1006,
    "start_time": "2022-12-07T12:37:21.741Z"
   },
   {
    "duration": 6,
    "start_time": "2022-12-07T12:38:13.962Z"
   },
   {
    "duration": 68,
    "start_time": "2022-12-07T12:38:17.616Z"
   },
   {
    "duration": 3,
    "start_time": "2022-12-07T12:38:41.677Z"
   },
   {
    "duration": 510,
    "start_time": "2022-12-07T12:38:48.903Z"
   },
   {
    "duration": 4,
    "start_time": "2022-12-07T12:39:10.467Z"
   },
   {
    "duration": 1447,
    "start_time": "2022-12-07T12:39:13.016Z"
   },
   {
    "duration": 3,
    "start_time": "2022-12-07T12:39:42.570Z"
   },
   {
    "duration": 5,
    "start_time": "2022-12-07T12:39:49.427Z"
   },
   {
    "duration": 1456,
    "start_time": "2022-12-07T12:40:00.191Z"
   },
   {
    "duration": 5,
    "start_time": "2022-12-07T12:41:33.251Z"
   },
   {
    "duration": 1359,
    "start_time": "2022-12-07T12:41:37.496Z"
   },
   {
    "duration": 6,
    "start_time": "2022-12-07T12:46:19.890Z"
   },
   {
    "duration": 15,
    "start_time": "2022-12-07T12:46:23.538Z"
   },
   {
    "duration": 4,
    "start_time": "2022-12-07T12:49:11.775Z"
   },
   {
    "duration": 19,
    "start_time": "2022-12-07T12:49:15.778Z"
   },
   {
    "duration": 4,
    "start_time": "2022-12-07T12:50:14.581Z"
   },
   {
    "duration": 1071,
    "start_time": "2022-12-07T12:50:16.266Z"
   },
   {
    "duration": 5,
    "start_time": "2022-12-07T12:54:51.669Z"
   },
   {
    "duration": 8,
    "start_time": "2022-12-07T12:54:54.275Z"
   },
   {
    "duration": 156,
    "start_time": "2022-12-07T12:55:14.474Z"
   },
   {
    "duration": 3,
    "start_time": "2022-12-07T12:58:59.740Z"
   },
   {
    "duration": 141,
    "start_time": "2022-12-07T12:59:02.068Z"
   },
   {
    "duration": 4,
    "start_time": "2022-12-07T14:29:33.167Z"
   },
   {
    "duration": 152,
    "start_time": "2022-12-07T14:29:35.361Z"
   },
   {
    "duration": 4,
    "start_time": "2022-12-07T14:30:38.020Z"
   },
   {
    "duration": 134,
    "start_time": "2022-12-07T14:30:42.413Z"
   },
   {
    "duration": 163,
    "start_time": "2022-12-07T14:32:06.745Z"
   },
   {
    "duration": 12,
    "start_time": "2022-12-07T14:46:47.543Z"
   },
   {
    "duration": 4,
    "start_time": "2022-12-07T14:49:27.370Z"
   },
   {
    "duration": 15,
    "start_time": "2022-12-07T14:49:38.797Z"
   },
   {
    "duration": 709,
    "start_time": "2022-12-07T14:51:47.967Z"
   },
   {
    "duration": 671,
    "start_time": "2022-12-07T14:52:17.932Z"
   },
   {
    "duration": 392,
    "start_time": "2022-12-07T15:12:21.863Z"
   },
   {
    "duration": 5,
    "start_time": "2022-12-07T15:23:36.038Z"
   },
   {
    "duration": 4,
    "start_time": "2022-12-07T15:24:27.844Z"
   },
   {
    "duration": 184,
    "start_time": "2022-12-07T15:24:29.951Z"
   },
   {
    "duration": 1445,
    "start_time": "2022-12-07T15:25:50.993Z"
   },
   {
    "duration": 5,
    "start_time": "2022-12-07T15:29:13.766Z"
   },
   {
    "duration": 1614,
    "start_time": "2022-12-07T15:29:15.466Z"
   },
   {
    "duration": 4,
    "start_time": "2022-12-07T15:30:48.394Z"
   },
   {
    "duration": 1367,
    "start_time": "2022-12-07T15:30:51.021Z"
   },
   {
    "duration": 4,
    "start_time": "2022-12-07T15:31:07.502Z"
   },
   {
    "duration": 1377,
    "start_time": "2022-12-07T15:31:09.183Z"
   },
   {
    "duration": 4,
    "start_time": "2022-12-07T15:31:27.387Z"
   },
   {
    "duration": 1386,
    "start_time": "2022-12-07T15:31:32.522Z"
   },
   {
    "duration": 4,
    "start_time": "2022-12-07T15:32:13.469Z"
   },
   {
    "duration": 338,
    "start_time": "2022-12-07T15:32:27.184Z"
   },
   {
    "duration": 4,
    "start_time": "2022-12-07T15:33:28.333Z"
   },
   {
    "duration": 318,
    "start_time": "2022-12-07T15:33:30.110Z"
   },
   {
    "duration": 3,
    "start_time": "2022-12-07T15:33:40.969Z"
   },
   {
    "duration": 1398,
    "start_time": "2022-12-07T15:33:44.044Z"
   },
   {
    "duration": 4,
    "start_time": "2022-12-07T15:34:38.815Z"
   },
   {
    "duration": 1384,
    "start_time": "2022-12-07T15:34:41.169Z"
   },
   {
    "duration": 3,
    "start_time": "2022-12-07T15:35:00.511Z"
   },
   {
    "duration": 1381,
    "start_time": "2022-12-07T15:35:02.322Z"
   },
   {
    "duration": 4,
    "start_time": "2022-12-07T15:35:08.192Z"
   },
   {
    "duration": 1332,
    "start_time": "2022-12-07T15:35:10.067Z"
   },
   {
    "duration": 4,
    "start_time": "2022-12-07T15:35:22.911Z"
   },
   {
    "duration": 1445,
    "start_time": "2022-12-07T15:35:24.625Z"
   },
   {
    "duration": 4,
    "start_time": "2022-12-07T15:37:17.657Z"
   },
   {
    "duration": 1304,
    "start_time": "2022-12-07T15:37:19.228Z"
   },
   {
    "duration": 4,
    "start_time": "2022-12-07T15:37:35.010Z"
   },
   {
    "duration": 1283,
    "start_time": "2022-12-07T15:37:37.096Z"
   },
   {
    "duration": 1910,
    "start_time": "2022-12-07T15:38:33.527Z"
   },
   {
    "duration": 13,
    "start_time": "2022-12-07T15:44:35.377Z"
   },
   {
    "duration": 1502,
    "start_time": "2022-12-07T15:46:01.565Z"
   },
   {
    "duration": 8,
    "start_time": "2022-12-07T15:46:37.444Z"
   },
   {
    "duration": 1384,
    "start_time": "2022-12-07T15:46:48.353Z"
   },
   {
    "duration": 4,
    "start_time": "2022-12-07T15:48:18.975Z"
   },
   {
    "duration": 1351,
    "start_time": "2022-12-07T15:48:21.323Z"
   },
   {
    "duration": 1328,
    "start_time": "2022-12-07T16:00:35.771Z"
   },
   {
    "duration": 5,
    "start_time": "2022-12-07T16:04:45.393Z"
   },
   {
    "duration": 1424,
    "start_time": "2022-12-07T16:04:47.381Z"
   },
   {
    "duration": 4,
    "start_time": "2022-12-07T16:04:56.327Z"
   },
   {
    "duration": 1403,
    "start_time": "2022-12-07T16:04:58.579Z"
   },
   {
    "duration": 1155,
    "start_time": "2022-12-07T16:11:55.411Z"
   },
   {
    "duration": 1053,
    "start_time": "2022-12-07T16:16:27.123Z"
   },
   {
    "duration": 1030,
    "start_time": "2022-12-07T16:16:41.587Z"
   },
   {
    "duration": 1144,
    "start_time": "2022-12-07T16:16:49.922Z"
   },
   {
    "duration": 152,
    "start_time": "2022-12-07T16:38:58.331Z"
   },
   {
    "duration": 78,
    "start_time": "2022-12-07T16:39:11.752Z"
   },
   {
    "duration": 16,
    "start_time": "2022-12-07T16:42:26.651Z"
   },
   {
    "duration": 12,
    "start_time": "2022-12-07T16:44:17.366Z"
   },
   {
    "duration": 1104,
    "start_time": "2022-12-07T16:44:31.227Z"
   },
   {
    "duration": 3,
    "start_time": "2022-12-07T16:44:32.333Z"
   },
   {
    "duration": 55,
    "start_time": "2022-12-07T16:44:32.337Z"
   },
   {
    "duration": 16,
    "start_time": "2022-12-07T16:44:32.394Z"
   },
   {
    "duration": 26,
    "start_time": "2022-12-07T16:44:32.412Z"
   },
   {
    "duration": 33,
    "start_time": "2022-12-07T16:44:32.440Z"
   },
   {
    "duration": 54,
    "start_time": "2022-12-07T16:44:32.475Z"
   },
   {
    "duration": 4,
    "start_time": "2022-12-07T16:44:32.530Z"
   },
   {
    "duration": 29,
    "start_time": "2022-12-07T16:44:32.535Z"
   },
   {
    "duration": 31,
    "start_time": "2022-12-07T16:44:32.566Z"
   },
   {
    "duration": 47,
    "start_time": "2022-12-07T16:44:32.599Z"
   },
   {
    "duration": 41,
    "start_time": "2022-12-07T16:44:32.648Z"
   },
   {
    "duration": 43,
    "start_time": "2022-12-07T16:44:32.691Z"
   },
   {
    "duration": 9,
    "start_time": "2022-12-07T16:44:32.735Z"
   },
   {
    "duration": 45,
    "start_time": "2022-12-07T16:44:32.745Z"
   },
   {
    "duration": 9,
    "start_time": "2022-12-07T16:44:32.791Z"
   },
   {
    "duration": 28,
    "start_time": "2022-12-07T16:44:32.802Z"
   },
   {
    "duration": 34,
    "start_time": "2022-12-07T16:44:32.831Z"
   },
   {
    "duration": 39,
    "start_time": "2022-12-07T16:44:32.866Z"
   },
   {
    "duration": 29,
    "start_time": "2022-12-07T16:44:32.907Z"
   },
   {
    "duration": 21,
    "start_time": "2022-12-07T16:44:32.937Z"
   },
   {
    "duration": 9,
    "start_time": "2022-12-07T16:44:32.959Z"
   },
   {
    "duration": 24,
    "start_time": "2022-12-07T16:44:32.969Z"
   },
   {
    "duration": 16,
    "start_time": "2022-12-07T16:44:32.995Z"
   },
   {
    "duration": 24,
    "start_time": "2022-12-07T16:44:33.013Z"
   },
   {
    "duration": 1200,
    "start_time": "2022-12-07T16:44:33.038Z"
   },
   {
    "duration": 4,
    "start_time": "2022-12-07T16:44:34.239Z"
   },
   {
    "duration": 1245,
    "start_time": "2022-12-07T16:44:34.245Z"
   },
   {
    "duration": 810,
    "start_time": "2022-12-07T16:44:35.492Z"
   },
   {
    "duration": 16,
    "start_time": "2022-12-07T16:44:36.304Z"
   },
   {
    "duration": 97,
    "start_time": "2022-12-07T16:45:03.773Z"
   },
   {
    "duration": 1102,
    "start_time": "2022-12-07T16:45:15.428Z"
   },
   {
    "duration": 3,
    "start_time": "2022-12-07T16:45:16.532Z"
   },
   {
    "duration": 52,
    "start_time": "2022-12-07T16:45:16.537Z"
   },
   {
    "duration": 15,
    "start_time": "2022-12-07T16:45:16.591Z"
   },
   {
    "duration": 33,
    "start_time": "2022-12-07T16:45:16.607Z"
   },
   {
    "duration": 22,
    "start_time": "2022-12-07T16:45:16.641Z"
   },
   {
    "duration": 56,
    "start_time": "2022-12-07T16:45:16.666Z"
   },
   {
    "duration": 4,
    "start_time": "2022-12-07T16:45:16.724Z"
   },
   {
    "duration": 26,
    "start_time": "2022-12-07T16:45:16.729Z"
   },
   {
    "duration": 26,
    "start_time": "2022-12-07T16:45:16.758Z"
   },
   {
    "duration": 21,
    "start_time": "2022-12-07T16:45:16.786Z"
   },
   {
    "duration": 31,
    "start_time": "2022-12-07T16:45:16.808Z"
   },
   {
    "duration": 24,
    "start_time": "2022-12-07T16:45:16.841Z"
   },
   {
    "duration": 15,
    "start_time": "2022-12-07T16:45:16.866Z"
   },
   {
    "duration": 27,
    "start_time": "2022-12-07T16:45:16.883Z"
   },
   {
    "duration": 7,
    "start_time": "2022-12-07T16:45:16.912Z"
   },
   {
    "duration": 12,
    "start_time": "2022-12-07T16:45:16.920Z"
   },
   {
    "duration": 23,
    "start_time": "2022-12-07T16:45:16.935Z"
   },
   {
    "duration": 29,
    "start_time": "2022-12-07T16:45:16.960Z"
   },
   {
    "duration": 30,
    "start_time": "2022-12-07T16:45:16.990Z"
   },
   {
    "duration": 43,
    "start_time": "2022-12-07T16:45:17.022Z"
   },
   {
    "duration": 11,
    "start_time": "2022-12-07T16:45:17.066Z"
   },
   {
    "duration": 26,
    "start_time": "2022-12-07T16:45:17.078Z"
   },
   {
    "duration": 8,
    "start_time": "2022-12-07T16:45:17.106Z"
   },
   {
    "duration": 17,
    "start_time": "2022-12-07T16:45:17.115Z"
   },
   {
    "duration": 1155,
    "start_time": "2022-12-07T16:45:17.133Z"
   },
   {
    "duration": 8,
    "start_time": "2022-12-07T16:45:18.290Z"
   },
   {
    "duration": 1141,
    "start_time": "2022-12-07T16:45:18.301Z"
   },
   {
    "duration": 806,
    "start_time": "2022-12-07T16:45:19.444Z"
   },
   {
    "duration": 17,
    "start_time": "2022-12-07T16:45:20.252Z"
   },
   {
    "duration": 4,
    "start_time": "2022-12-07T16:46:55.253Z"
   },
   {
    "duration": 206,
    "start_time": "2022-12-07T16:46:59.153Z"
   },
   {
    "duration": 4,
    "start_time": "2022-12-07T16:47:14.607Z"
   },
   {
    "duration": 100,
    "start_time": "2022-12-07T16:47:16.850Z"
   },
   {
    "duration": 4,
    "start_time": "2022-12-07T16:47:34.825Z"
   },
   {
    "duration": 114,
    "start_time": "2022-12-07T16:47:36.596Z"
   },
   {
    "duration": 4,
    "start_time": "2022-12-07T16:48:16.806Z"
   },
   {
    "duration": 95,
    "start_time": "2022-12-07T16:48:18.375Z"
   },
   {
    "duration": 1136,
    "start_time": "2022-12-07T16:48:29.091Z"
   },
   {
    "duration": 3,
    "start_time": "2022-12-07T16:48:30.229Z"
   },
   {
    "duration": 69,
    "start_time": "2022-12-07T16:48:30.234Z"
   },
   {
    "duration": 16,
    "start_time": "2022-12-07T16:48:30.305Z"
   },
   {
    "duration": 21,
    "start_time": "2022-12-07T16:48:30.323Z"
   },
   {
    "duration": 62,
    "start_time": "2022-12-07T16:48:30.345Z"
   },
   {
    "duration": 59,
    "start_time": "2022-12-07T16:48:30.409Z"
   },
   {
    "duration": 4,
    "start_time": "2022-12-07T16:48:30.470Z"
   },
   {
    "duration": 26,
    "start_time": "2022-12-07T16:48:30.475Z"
   },
   {
    "duration": 50,
    "start_time": "2022-12-07T16:48:30.504Z"
   },
   {
    "duration": 26,
    "start_time": "2022-12-07T16:48:30.556Z"
   },
   {
    "duration": 32,
    "start_time": "2022-12-07T16:48:30.583Z"
   },
   {
    "duration": 22,
    "start_time": "2022-12-07T16:48:30.616Z"
   },
   {
    "duration": 8,
    "start_time": "2022-12-07T16:48:30.640Z"
   },
   {
    "duration": 46,
    "start_time": "2022-12-07T16:48:30.649Z"
   },
   {
    "duration": 28,
    "start_time": "2022-12-07T16:48:30.697Z"
   },
   {
    "duration": 48,
    "start_time": "2022-12-07T16:48:30.727Z"
   },
   {
    "duration": 72,
    "start_time": "2022-12-07T16:48:30.777Z"
   },
   {
    "duration": 110,
    "start_time": "2022-12-07T16:48:30.850Z"
   },
   {
    "duration": 62,
    "start_time": "2022-12-07T16:48:30.962Z"
   },
   {
    "duration": 24,
    "start_time": "2022-12-07T16:48:31.026Z"
   },
   {
    "duration": 65,
    "start_time": "2022-12-07T16:48:31.051Z"
   },
   {
    "duration": 23,
    "start_time": "2022-12-07T16:48:31.118Z"
   },
   {
    "duration": 5,
    "start_time": "2022-12-07T16:48:31.143Z"
   },
   {
    "duration": 19,
    "start_time": "2022-12-07T16:48:31.150Z"
   },
   {
    "duration": 1164,
    "start_time": "2022-12-07T16:48:31.171Z"
   },
   {
    "duration": 3,
    "start_time": "2022-12-07T16:48:32.337Z"
   },
   {
    "duration": 1115,
    "start_time": "2022-12-07T16:48:32.343Z"
   },
   {
    "duration": 903,
    "start_time": "2022-12-07T16:48:33.459Z"
   },
   {
    "duration": 18,
    "start_time": "2022-12-07T16:48:34.364Z"
   },
   {
    "duration": 1279,
    "start_time": "2022-12-07T16:49:24.293Z"
   },
   {
    "duration": 3,
    "start_time": "2022-12-07T16:49:25.574Z"
   },
   {
    "duration": 59,
    "start_time": "2022-12-07T16:49:25.579Z"
   },
   {
    "duration": 17,
    "start_time": "2022-12-07T16:49:25.641Z"
   },
   {
    "duration": 19,
    "start_time": "2022-12-07T16:49:25.660Z"
   },
   {
    "duration": 24,
    "start_time": "2022-12-07T16:49:25.681Z"
   },
   {
    "duration": 48,
    "start_time": "2022-12-07T16:49:25.707Z"
   },
   {
    "duration": 4,
    "start_time": "2022-12-07T16:49:25.756Z"
   },
   {
    "duration": 8,
    "start_time": "2022-12-07T16:49:25.762Z"
   },
   {
    "duration": 12,
    "start_time": "2022-12-07T16:49:25.772Z"
   },
   {
    "duration": 24,
    "start_time": "2022-12-07T16:49:25.786Z"
   },
   {
    "duration": 39,
    "start_time": "2022-12-07T16:49:25.812Z"
   },
   {
    "duration": 21,
    "start_time": "2022-12-07T16:49:25.855Z"
   },
   {
    "duration": 8,
    "start_time": "2022-12-07T16:49:25.877Z"
   },
   {
    "duration": 21,
    "start_time": "2022-12-07T16:49:25.886Z"
   },
   {
    "duration": 13,
    "start_time": "2022-12-07T16:49:25.909Z"
   },
   {
    "duration": 11,
    "start_time": "2022-12-07T16:49:25.924Z"
   },
   {
    "duration": 11,
    "start_time": "2022-12-07T16:49:25.937Z"
   },
   {
    "duration": 8,
    "start_time": "2022-12-07T16:49:25.950Z"
   },
   {
    "duration": 38,
    "start_time": "2022-12-07T16:49:25.960Z"
   },
   {
    "duration": 7,
    "start_time": "2022-12-07T16:49:26.001Z"
   },
   {
    "duration": 11,
    "start_time": "2022-12-07T16:49:26.010Z"
   },
   {
    "duration": 16,
    "start_time": "2022-12-07T16:49:26.023Z"
   },
   {
    "duration": 5,
    "start_time": "2022-12-07T16:49:26.042Z"
   },
   {
    "duration": 9,
    "start_time": "2022-12-07T16:49:26.049Z"
   },
   {
    "duration": 1218,
    "start_time": "2022-12-07T16:49:26.060Z"
   },
   {
    "duration": 4,
    "start_time": "2022-12-07T16:49:27.279Z"
   },
   {
    "duration": 1099,
    "start_time": "2022-12-07T16:49:27.298Z"
   },
   {
    "duration": 832,
    "start_time": "2022-12-07T16:49:28.398Z"
   },
   {
    "duration": 17,
    "start_time": "2022-12-07T16:49:29.232Z"
   },
   {
    "duration": 1055,
    "start_time": "2022-12-07T16:50:39.937Z"
   },
   {
    "duration": 2,
    "start_time": "2022-12-07T16:50:40.997Z"
   },
   {
    "duration": 43,
    "start_time": "2022-12-07T16:50:41.003Z"
   },
   {
    "duration": 15,
    "start_time": "2022-12-07T16:50:41.048Z"
   },
   {
    "duration": 11,
    "start_time": "2022-12-07T16:50:41.065Z"
   },
   {
    "duration": 14,
    "start_time": "2022-12-07T16:50:41.077Z"
   },
   {
    "duration": 37,
    "start_time": "2022-12-07T16:50:41.092Z"
   },
   {
    "duration": 3,
    "start_time": "2022-12-07T16:50:41.130Z"
   },
   {
    "duration": 5,
    "start_time": "2022-12-07T16:50:41.135Z"
   },
   {
    "duration": 6,
    "start_time": "2022-12-07T16:50:41.141Z"
   },
   {
    "duration": 16,
    "start_time": "2022-12-07T16:50:41.148Z"
   },
   {
    "duration": 11,
    "start_time": "2022-12-07T16:50:41.166Z"
   },
   {
    "duration": 12,
    "start_time": "2022-12-07T16:50:41.198Z"
   },
   {
    "duration": 6,
    "start_time": "2022-12-07T16:50:41.211Z"
   },
   {
    "duration": 13,
    "start_time": "2022-12-07T16:50:41.219Z"
   },
   {
    "duration": 7,
    "start_time": "2022-12-07T16:50:41.234Z"
   },
   {
    "duration": 6,
    "start_time": "2022-12-07T16:50:41.242Z"
   },
   {
    "duration": 12,
    "start_time": "2022-12-07T16:50:41.249Z"
   },
   {
    "duration": 5,
    "start_time": "2022-12-07T16:50:41.262Z"
   },
   {
    "duration": 6,
    "start_time": "2022-12-07T16:50:41.297Z"
   },
   {
    "duration": 7,
    "start_time": "2022-12-07T16:50:41.304Z"
   },
   {
    "duration": 9,
    "start_time": "2022-12-07T16:50:41.312Z"
   },
   {
    "duration": 13,
    "start_time": "2022-12-07T16:50:41.322Z"
   },
   {
    "duration": 8,
    "start_time": "2022-12-07T16:50:41.336Z"
   },
   {
    "duration": 3,
    "start_time": "2022-12-07T16:50:41.346Z"
   },
   {
    "duration": 1090,
    "start_time": "2022-12-07T16:50:41.350Z"
   },
   {
    "duration": 3,
    "start_time": "2022-12-07T16:50:42.443Z"
   },
   {
    "duration": 1064,
    "start_time": "2022-12-07T16:50:42.447Z"
   },
   {
    "duration": 794,
    "start_time": "2022-12-07T16:50:43.512Z"
   },
   {
    "duration": 17,
    "start_time": "2022-12-07T16:50:44.308Z"
   },
   {
    "duration": 5,
    "start_time": "2022-12-07T16:55:11.741Z"
   },
   {
    "duration": 193,
    "start_time": "2022-12-07T16:55:47.192Z"
   },
   {
    "duration": 115,
    "start_time": "2022-12-07T17:25:08.299Z"
   },
   {
    "duration": 4,
    "start_time": "2022-12-07T17:25:47.182Z"
   },
   {
    "duration": 27,
    "start_time": "2022-12-07T17:25:50.185Z"
   },
   {
    "duration": 7,
    "start_time": "2022-12-07T17:26:11.743Z"
   },
   {
    "duration": 1293,
    "start_time": "2022-12-07T17:27:20.532Z"
   },
   {
    "duration": 2,
    "start_time": "2022-12-07T17:27:21.827Z"
   },
   {
    "duration": 48,
    "start_time": "2022-12-07T17:27:21.831Z"
   },
   {
    "duration": 15,
    "start_time": "2022-12-07T17:27:21.881Z"
   },
   {
    "duration": 14,
    "start_time": "2022-12-07T17:27:21.897Z"
   },
   {
    "duration": 16,
    "start_time": "2022-12-07T17:27:21.913Z"
   },
   {
    "duration": 46,
    "start_time": "2022-12-07T17:27:21.930Z"
   },
   {
    "duration": 3,
    "start_time": "2022-12-07T17:27:21.978Z"
   },
   {
    "duration": 6,
    "start_time": "2022-12-07T17:27:22.005Z"
   },
   {
    "duration": 4,
    "start_time": "2022-12-07T17:27:22.015Z"
   },
   {
    "duration": 16,
    "start_time": "2022-12-07T17:27:22.021Z"
   },
   {
    "duration": 11,
    "start_time": "2022-12-07T17:27:22.039Z"
   },
   {
    "duration": 16,
    "start_time": "2022-12-07T17:27:22.052Z"
   },
   {
    "duration": 6,
    "start_time": "2022-12-07T17:27:22.069Z"
   },
   {
    "duration": 34,
    "start_time": "2022-12-07T17:27:22.077Z"
   },
   {
    "duration": 9,
    "start_time": "2022-12-07T17:27:22.113Z"
   },
   {
    "duration": 7,
    "start_time": "2022-12-07T17:27:22.123Z"
   },
   {
    "duration": 12,
    "start_time": "2022-12-07T17:27:22.131Z"
   },
   {
    "duration": 12,
    "start_time": "2022-12-07T17:27:22.145Z"
   },
   {
    "duration": 11,
    "start_time": "2022-12-07T17:27:22.159Z"
   },
   {
    "duration": 29,
    "start_time": "2022-12-07T17:27:22.171Z"
   },
   {
    "duration": 9,
    "start_time": "2022-12-07T17:27:22.201Z"
   },
   {
    "duration": 27,
    "start_time": "2022-12-07T17:27:22.211Z"
   },
   {
    "duration": 5,
    "start_time": "2022-12-07T17:27:22.239Z"
   },
   {
    "duration": 15,
    "start_time": "2022-12-07T17:27:22.245Z"
   },
   {
    "duration": 1316,
    "start_time": "2022-12-07T17:27:22.262Z"
   },
   {
    "duration": 3,
    "start_time": "2022-12-07T17:27:23.580Z"
   },
   {
    "duration": 1070,
    "start_time": "2022-12-07T17:27:23.586Z"
   },
   {
    "duration": 884,
    "start_time": "2022-12-07T17:27:24.658Z"
   },
   {
    "duration": 16,
    "start_time": "2022-12-07T17:27:25.544Z"
   },
   {
    "duration": 4,
    "start_time": "2022-12-07T17:27:25.562Z"
   },
   {
    "duration": 121,
    "start_time": "2022-12-07T17:27:25.567Z"
   },
   {
    "duration": 0,
    "start_time": "2022-12-07T17:27:25.690Z"
   },
   {
    "duration": 11,
    "start_time": "2022-12-07T17:29:07.110Z"
   },
   {
    "duration": 9,
    "start_time": "2022-12-07T17:29:15.320Z"
   },
   {
    "duration": 11,
    "start_time": "2022-12-07T17:32:26.629Z"
   },
   {
    "duration": 19,
    "start_time": "2022-12-07T17:32:30.395Z"
   },
   {
    "duration": 3,
    "start_time": "2022-12-07T17:42:35.473Z"
   },
   {
    "duration": 24,
    "start_time": "2022-12-07T17:47:24.223Z"
   },
   {
    "duration": 41,
    "start_time": "2022-12-07T18:21:42.661Z"
   },
   {
    "duration": 5,
    "start_time": "2022-12-07T18:22:16.874Z"
   },
   {
    "duration": 34,
    "start_time": "2022-12-07T18:22:32.917Z"
   },
   {
    "duration": 1151,
    "start_time": "2022-12-07T18:33:12.215Z"
   },
   {
    "duration": 102,
    "start_time": "2022-12-07T18:41:32.078Z"
   },
   {
    "duration": 71,
    "start_time": "2022-12-07T18:44:55.675Z"
   },
   {
    "duration": 169,
    "start_time": "2022-12-07T18:45:20.098Z"
   },
   {
    "duration": 1316,
    "start_time": "2022-12-07T18:46:22.606Z"
   },
   {
    "duration": 3,
    "start_time": "2022-12-07T18:46:23.924Z"
   },
   {
    "duration": 58,
    "start_time": "2022-12-07T18:46:23.928Z"
   },
   {
    "duration": 19,
    "start_time": "2022-12-07T18:46:23.988Z"
   },
   {
    "duration": 26,
    "start_time": "2022-12-07T18:46:24.009Z"
   },
   {
    "duration": 32,
    "start_time": "2022-12-07T18:46:24.037Z"
   },
   {
    "duration": 49,
    "start_time": "2022-12-07T18:46:24.070Z"
   },
   {
    "duration": 3,
    "start_time": "2022-12-07T18:46:24.120Z"
   },
   {
    "duration": 18,
    "start_time": "2022-12-07T18:46:24.125Z"
   },
   {
    "duration": 25,
    "start_time": "2022-12-07T18:46:24.146Z"
   },
   {
    "duration": 26,
    "start_time": "2022-12-07T18:46:24.172Z"
   },
   {
    "duration": 22,
    "start_time": "2022-12-07T18:46:24.200Z"
   },
   {
    "duration": 31,
    "start_time": "2022-12-07T18:46:24.223Z"
   },
   {
    "duration": 14,
    "start_time": "2022-12-07T18:46:24.256Z"
   },
   {
    "duration": 32,
    "start_time": "2022-12-07T18:46:24.271Z"
   },
   {
    "duration": 15,
    "start_time": "2022-12-07T18:46:24.304Z"
   },
   {
    "duration": 20,
    "start_time": "2022-12-07T18:46:24.320Z"
   },
   {
    "duration": 18,
    "start_time": "2022-12-07T18:46:24.342Z"
   },
   {
    "duration": 23,
    "start_time": "2022-12-07T18:46:24.361Z"
   },
   {
    "duration": 17,
    "start_time": "2022-12-07T18:46:24.386Z"
   },
   {
    "duration": 20,
    "start_time": "2022-12-07T18:46:24.405Z"
   },
   {
    "duration": 17,
    "start_time": "2022-12-07T18:46:24.427Z"
   },
   {
    "duration": 22,
    "start_time": "2022-12-07T18:46:24.445Z"
   },
   {
    "duration": 23,
    "start_time": "2022-12-07T18:46:24.468Z"
   },
   {
    "duration": 6,
    "start_time": "2022-12-07T18:46:24.493Z"
   },
   {
    "duration": 1306,
    "start_time": "2022-12-07T18:46:24.501Z"
   },
   {
    "duration": 4,
    "start_time": "2022-12-07T18:46:25.809Z"
   },
   {
    "duration": 1075,
    "start_time": "2022-12-07T18:46:25.815Z"
   },
   {
    "duration": 807,
    "start_time": "2022-12-07T18:46:26.891Z"
   },
   {
    "duration": 17,
    "start_time": "2022-12-07T18:46:27.700Z"
   },
   {
    "duration": 16,
    "start_time": "2022-12-07T18:46:27.718Z"
   },
   {
    "duration": 43,
    "start_time": "2022-12-07T18:46:27.735Z"
   },
   {
    "duration": 23,
    "start_time": "2022-12-07T18:46:27.779Z"
   },
   {
    "duration": 127,
    "start_time": "2022-12-07T18:46:27.804Z"
   },
   {
    "duration": 1139,
    "start_time": "2022-12-07T18:46:27.933Z"
   },
   {
    "duration": 258,
    "start_time": "2022-12-07T18:46:29.073Z"
   },
   {
    "duration": 5959,
    "start_time": "2022-12-07T18:48:13.547Z"
   },
   {
    "duration": 11,
    "start_time": "2022-12-07T18:54:35.204Z"
   },
   {
    "duration": 27627,
    "start_time": "2022-12-07T18:55:05.171Z"
   },
   {
    "duration": 5449,
    "start_time": "2022-12-07T18:55:46.877Z"
   },
   {
    "duration": 28724,
    "start_time": "2022-12-07T18:56:20.348Z"
   },
   {
    "duration": 1829,
    "start_time": "2022-12-07T18:57:05.479Z"
   },
   {
    "duration": 27354,
    "start_time": "2022-12-07T18:58:01.870Z"
   },
   {
    "duration": 5520,
    "start_time": "2022-12-07T18:59:12.041Z"
   },
   {
    "duration": 5133,
    "start_time": "2022-12-07T19:00:08.932Z"
   },
   {
    "duration": 1797,
    "start_time": "2022-12-07T19:00:38.173Z"
   },
   {
    "duration": 1823,
    "start_time": "2022-12-07T19:00:46.520Z"
   },
   {
    "duration": 5296,
    "start_time": "2022-12-07T19:01:13.251Z"
   },
   {
    "duration": 1882,
    "start_time": "2022-12-07T19:01:41.204Z"
   },
   {
    "duration": 81424,
    "start_time": "2022-12-07T19:03:43.947Z"
   },
   {
    "duration": 72,
    "start_time": "2022-12-07T19:07:37.037Z"
   },
   {
    "duration": 1117,
    "start_time": "2022-12-07T19:36:22.215Z"
   },
   {
    "duration": 78633,
    "start_time": "2022-12-07T19:39:31.099Z"
   },
   {
    "duration": 147,
    "start_time": "2022-12-07T19:48:31.452Z"
   },
   {
    "duration": 20,
    "start_time": "2022-12-07T20:02:41.596Z"
   },
   {
    "duration": 4,
    "start_time": "2022-12-07T20:03:11.806Z"
   },
   {
    "duration": 13,
    "start_time": "2022-12-07T20:03:19.160Z"
   },
   {
    "duration": 11,
    "start_time": "2022-12-07T20:03:23.549Z"
   },
   {
    "duration": 1846,
    "start_time": "2022-12-07T20:05:05.956Z"
   },
   {
    "duration": 144124,
    "start_time": "2022-12-07T20:07:19.794Z"
   },
   {
    "duration": 140987,
    "start_time": "2022-12-07T20:21:58.895Z"
   },
   {
    "duration": 38,
    "start_time": "2022-12-07T20:24:48.689Z"
   },
   {
    "duration": 4,
    "start_time": "2022-12-07T20:28:16.798Z"
   },
   {
    "duration": 11,
    "start_time": "2022-12-07T20:32:47.446Z"
   },
   {
    "duration": 444,
    "start_time": "2022-12-07T20:34:09.777Z"
   },
   {
    "duration": 9,
    "start_time": "2022-12-07T20:34:28.753Z"
   },
   {
    "duration": 497,
    "start_time": "2022-12-07T20:34:32.647Z"
   },
   {
    "duration": 10,
    "start_time": "2022-12-07T20:34:42.268Z"
   },
   {
    "duration": 566,
    "start_time": "2022-12-07T20:34:49.617Z"
   },
   {
    "duration": 9,
    "start_time": "2022-12-07T20:35:13.347Z"
   },
   {
    "duration": 525,
    "start_time": "2022-12-07T20:35:15.038Z"
   },
   {
    "duration": 45632,
    "start_time": "2022-12-07T20:38:00.082Z"
   },
   {
    "duration": 3,
    "start_time": "2022-12-07T20:40:24.397Z"
   },
   {
    "duration": 14,
    "start_time": "2022-12-07T20:40:39.492Z"
   },
   {
    "duration": 22,
    "start_time": "2022-12-07T21:04:24.880Z"
   },
   {
    "duration": 3,
    "start_time": "2022-12-07T21:05:03.795Z"
   },
   {
    "duration": 11035,
    "start_time": "2022-12-07T21:05:18.809Z"
   },
   {
    "duration": 10473,
    "start_time": "2022-12-07T21:08:49.174Z"
   },
   {
    "duration": 9949,
    "start_time": "2022-12-07T21:10:15.299Z"
   },
   {
    "duration": 197,
    "start_time": "2022-12-07T21:14:47.543Z"
   },
   {
    "duration": 246,
    "start_time": "2022-12-07T21:19:45.502Z"
   },
   {
    "duration": 213,
    "start_time": "2022-12-07T21:19:55.203Z"
   },
   {
    "duration": 231,
    "start_time": "2022-12-07T21:20:05.008Z"
   },
   {
    "duration": 247,
    "start_time": "2022-12-07T21:22:16.387Z"
   },
   {
    "duration": 257,
    "start_time": "2022-12-07T21:22:40.802Z"
   },
   {
    "duration": 242,
    "start_time": "2022-12-07T21:24:36.812Z"
   },
   {
    "duration": 225,
    "start_time": "2022-12-07T21:26:18.633Z"
   },
   {
    "duration": 259,
    "start_time": "2022-12-07T21:28:34.996Z"
   },
   {
    "duration": 250,
    "start_time": "2022-12-07T21:29:10.887Z"
   },
   {
    "duration": 264,
    "start_time": "2022-12-07T21:30:57.685Z"
   },
   {
    "duration": 232,
    "start_time": "2022-12-07T21:31:20.908Z"
   },
   {
    "duration": 54,
    "start_time": "2022-12-07T21:31:56.987Z"
   },
   {
    "duration": 202,
    "start_time": "2022-12-07T21:32:10.637Z"
   },
   {
    "duration": 461,
    "start_time": "2022-12-07T21:39:03.590Z"
   },
   {
    "duration": 475,
    "start_time": "2022-12-07T21:40:22.745Z"
   },
   {
    "duration": 415,
    "start_time": "2022-12-07T21:42:09.032Z"
   },
   {
    "duration": 361,
    "start_time": "2022-12-07T21:42:39.281Z"
   },
   {
    "duration": 201,
    "start_time": "2022-12-07T21:50:33.248Z"
   },
   {
    "duration": 240,
    "start_time": "2022-12-07T21:53:08.395Z"
   },
   {
    "duration": 4,
    "start_time": "2022-12-07T22:17:59.010Z"
   },
   {
    "duration": 1249,
    "start_time": "2022-12-07T22:23:09.213Z"
   },
   {
    "duration": 44,
    "start_time": "2022-12-07T22:27:54.044Z"
   },
   {
    "duration": 8,
    "start_time": "2022-12-07T22:28:06.474Z"
   },
   {
    "duration": 4,
    "start_time": "2022-12-07T22:28:13.599Z"
   },
   {
    "duration": 15,
    "start_time": "2022-12-07T22:28:17.307Z"
   },
   {
    "duration": 5,
    "start_time": "2022-12-07T22:28:51.658Z"
   },
   {
    "duration": 3,
    "start_time": "2022-12-07T22:28:54.794Z"
   },
   {
    "duration": 1238,
    "start_time": "2022-12-07T22:29:04.729Z"
   },
   {
    "duration": 108,
    "start_time": "2022-12-07T22:29:07.014Z"
   },
   {
    "duration": 5,
    "start_time": "2022-12-07T22:39:24.686Z"
   },
   {
    "duration": 130,
    "start_time": "2022-12-07T22:40:04.800Z"
   },
   {
    "duration": 4,
    "start_time": "2022-12-07T22:40:28.306Z"
   },
   {
    "duration": 112,
    "start_time": "2022-12-07T22:40:35.486Z"
   },
   {
    "duration": 1109,
    "start_time": "2022-12-07T22:41:06.531Z"
   },
   {
    "duration": 132,
    "start_time": "2022-12-07T22:44:16.300Z"
   },
   {
    "duration": 249,
    "start_time": "2022-12-07T22:45:29.956Z"
   },
   {
    "duration": 123,
    "start_time": "2022-12-07T22:47:30.582Z"
   },
   {
    "duration": 135,
    "start_time": "2022-12-07T22:48:34.016Z"
   },
   {
    "duration": 77246,
    "start_time": "2022-12-07T22:48:57.633Z"
   },
   {
    "duration": 123,
    "start_time": "2022-12-07T22:52:34.964Z"
   },
   {
    "duration": 1342,
    "start_time": "2022-12-07T22:58:33.594Z"
   },
   {
    "duration": 3,
    "start_time": "2022-12-07T22:58:34.937Z"
   },
   {
    "duration": 61,
    "start_time": "2022-12-07T22:58:34.941Z"
   },
   {
    "duration": 15,
    "start_time": "2022-12-07T22:58:35.004Z"
   },
   {
    "duration": 13,
    "start_time": "2022-12-07T22:58:35.020Z"
   },
   {
    "duration": 15,
    "start_time": "2022-12-07T22:58:35.034Z"
   },
   {
    "duration": 57,
    "start_time": "2022-12-07T22:58:35.050Z"
   },
   {
    "duration": 2,
    "start_time": "2022-12-07T22:58:35.109Z"
   },
   {
    "duration": 6,
    "start_time": "2022-12-07T22:58:35.113Z"
   },
   {
    "duration": 6,
    "start_time": "2022-12-07T22:58:35.121Z"
   },
   {
    "duration": 14,
    "start_time": "2022-12-07T22:58:35.128Z"
   },
   {
    "duration": 111,
    "start_time": "2022-12-07T22:58:35.143Z"
   },
   {
    "duration": 0,
    "start_time": "2022-12-07T22:58:35.256Z"
   },
   {
    "duration": 0,
    "start_time": "2022-12-07T22:58:35.257Z"
   },
   {
    "duration": 0,
    "start_time": "2022-12-07T22:58:35.258Z"
   },
   {
    "duration": 0,
    "start_time": "2022-12-07T22:58:35.259Z"
   },
   {
    "duration": 0,
    "start_time": "2022-12-07T22:58:35.260Z"
   },
   {
    "duration": 0,
    "start_time": "2022-12-07T22:58:35.261Z"
   },
   {
    "duration": 0,
    "start_time": "2022-12-07T22:58:35.262Z"
   },
   {
    "duration": 0,
    "start_time": "2022-12-07T22:58:35.263Z"
   },
   {
    "duration": 0,
    "start_time": "2022-12-07T22:58:35.264Z"
   },
   {
    "duration": 0,
    "start_time": "2022-12-07T22:58:35.265Z"
   },
   {
    "duration": 0,
    "start_time": "2022-12-07T22:58:35.265Z"
   },
   {
    "duration": 0,
    "start_time": "2022-12-07T22:58:35.266Z"
   },
   {
    "duration": 0,
    "start_time": "2022-12-07T22:58:35.268Z"
   },
   {
    "duration": 0,
    "start_time": "2022-12-07T22:58:35.297Z"
   },
   {
    "duration": 0,
    "start_time": "2022-12-07T22:58:35.299Z"
   },
   {
    "duration": 0,
    "start_time": "2022-12-07T22:58:35.300Z"
   },
   {
    "duration": 0,
    "start_time": "2022-12-07T22:58:35.301Z"
   },
   {
    "duration": 0,
    "start_time": "2022-12-07T22:58:35.302Z"
   },
   {
    "duration": 0,
    "start_time": "2022-12-07T22:58:35.304Z"
   },
   {
    "duration": 0,
    "start_time": "2022-12-07T22:58:35.305Z"
   },
   {
    "duration": 0,
    "start_time": "2022-12-07T22:58:35.306Z"
   },
   {
    "duration": 0,
    "start_time": "2022-12-07T22:58:35.307Z"
   },
   {
    "duration": 0,
    "start_time": "2022-12-07T22:58:35.308Z"
   },
   {
    "duration": 0,
    "start_time": "2022-12-07T22:58:35.309Z"
   },
   {
    "duration": 0,
    "start_time": "2022-12-07T22:58:35.311Z"
   },
   {
    "duration": 0,
    "start_time": "2022-12-07T22:58:35.312Z"
   },
   {
    "duration": 0,
    "start_time": "2022-12-07T22:58:35.313Z"
   },
   {
    "duration": 0,
    "start_time": "2022-12-07T22:58:35.314Z"
   },
   {
    "duration": 0,
    "start_time": "2022-12-07T22:58:35.315Z"
   },
   {
    "duration": 0,
    "start_time": "2022-12-07T22:58:35.316Z"
   },
   {
    "duration": 0,
    "start_time": "2022-12-07T22:58:35.318Z"
   },
   {
    "duration": 0,
    "start_time": "2022-12-07T22:58:35.319Z"
   },
   {
    "duration": 0,
    "start_time": "2022-12-07T22:58:35.320Z"
   },
   {
    "duration": 0,
    "start_time": "2022-12-07T22:58:35.321Z"
   },
   {
    "duration": 0,
    "start_time": "2022-12-07T22:58:35.322Z"
   },
   {
    "duration": 0,
    "start_time": "2022-12-07T22:58:35.323Z"
   },
   {
    "duration": 0,
    "start_time": "2022-12-07T22:58:35.324Z"
   },
   {
    "duration": 1,
    "start_time": "2022-12-07T22:58:35.325Z"
   },
   {
    "duration": 0,
    "start_time": "2022-12-07T22:58:35.327Z"
   },
   {
    "duration": 0,
    "start_time": "2022-12-07T22:58:35.327Z"
   },
   {
    "duration": 0,
    "start_time": "2022-12-07T22:58:35.329Z"
   },
   {
    "duration": 10,
    "start_time": "2022-12-07T22:58:35.524Z"
   },
   {
    "duration": 0,
    "start_time": "2022-12-07T22:58:35.536Z"
   },
   {
    "duration": 0,
    "start_time": "2022-12-07T22:58:35.537Z"
   },
   {
    "duration": 8,
    "start_time": "2022-12-07T22:58:35.539Z"
   },
   {
    "duration": 0,
    "start_time": "2022-12-07T22:58:35.549Z"
   },
   {
    "duration": 0,
    "start_time": "2022-12-07T22:58:35.550Z"
   },
   {
    "duration": 11,
    "start_time": "2022-12-07T22:58:35.834Z"
   },
   {
    "duration": 0,
    "start_time": "2022-12-07T22:58:35.846Z"
   },
   {
    "duration": 0,
    "start_time": "2022-12-07T22:58:35.848Z"
   },
   {
    "duration": 0,
    "start_time": "2022-12-07T22:58:35.849Z"
   },
   {
    "duration": 11,
    "start_time": "2022-12-07T22:58:36.120Z"
   },
   {
    "duration": 0,
    "start_time": "2022-12-07T22:58:36.132Z"
   },
   {
    "duration": 0,
    "start_time": "2022-12-07T22:58:36.133Z"
   },
   {
    "duration": 0,
    "start_time": "2022-12-07T22:58:36.135Z"
   },
   {
    "duration": 9,
    "start_time": "2022-12-07T22:58:36.139Z"
   },
   {
    "duration": 0,
    "start_time": "2022-12-07T22:58:36.149Z"
   },
   {
    "duration": 1280,
    "start_time": "2022-12-07T22:59:38.545Z"
   },
   {
    "duration": 2,
    "start_time": "2022-12-07T22:59:39.827Z"
   },
   {
    "duration": 47,
    "start_time": "2022-12-07T22:59:39.831Z"
   },
   {
    "duration": 15,
    "start_time": "2022-12-07T22:59:39.880Z"
   },
   {
    "duration": 11,
    "start_time": "2022-12-07T22:59:39.896Z"
   },
   {
    "duration": 16,
    "start_time": "2022-12-07T22:59:39.908Z"
   },
   {
    "duration": 37,
    "start_time": "2022-12-07T22:59:39.925Z"
   },
   {
    "duration": 3,
    "start_time": "2022-12-07T22:59:39.963Z"
   },
   {
    "duration": 10,
    "start_time": "2022-12-07T22:59:39.968Z"
   },
   {
    "duration": 19,
    "start_time": "2022-12-07T22:59:39.980Z"
   },
   {
    "duration": 13,
    "start_time": "2022-12-07T22:59:40.001Z"
   },
   {
    "duration": 13,
    "start_time": "2022-12-07T22:59:40.015Z"
   },
   {
    "duration": 20,
    "start_time": "2022-12-07T22:59:40.029Z"
   },
   {
    "duration": 7,
    "start_time": "2022-12-07T22:59:40.050Z"
   },
   {
    "duration": 18,
    "start_time": "2022-12-07T22:59:40.058Z"
   },
   {
    "duration": 11,
    "start_time": "2022-12-07T22:59:40.098Z"
   },
   {
    "duration": 6,
    "start_time": "2022-12-07T22:59:40.111Z"
   },
   {
    "duration": 10,
    "start_time": "2022-12-07T22:59:40.119Z"
   },
   {
    "duration": 8,
    "start_time": "2022-12-07T22:59:40.130Z"
   },
   {
    "duration": 8,
    "start_time": "2022-12-07T22:59:40.139Z"
   },
   {
    "duration": 5,
    "start_time": "2022-12-07T22:59:40.148Z"
   },
   {
    "duration": 8,
    "start_time": "2022-12-07T22:59:40.154Z"
   },
   {
    "duration": 43,
    "start_time": "2022-12-07T22:59:40.163Z"
   },
   {
    "duration": 4,
    "start_time": "2022-12-07T22:59:40.207Z"
   },
   {
    "duration": 4,
    "start_time": "2022-12-07T22:59:40.212Z"
   },
   {
    "duration": 1150,
    "start_time": "2022-12-07T22:59:40.218Z"
   },
   {
    "duration": 4,
    "start_time": "2022-12-07T22:59:41.369Z"
   },
   {
    "duration": 995,
    "start_time": "2022-12-07T22:59:41.376Z"
   },
   {
    "duration": 796,
    "start_time": "2022-12-07T22:59:42.372Z"
   },
   {
    "duration": 17,
    "start_time": "2022-12-07T22:59:43.170Z"
   },
   {
    "duration": 4,
    "start_time": "2022-12-07T22:59:43.189Z"
   },
   {
    "duration": 14,
    "start_time": "2022-12-07T22:59:43.194Z"
   },
   {
    "duration": 9,
    "start_time": "2022-12-07T22:59:43.209Z"
   },
   {
    "duration": 126,
    "start_time": "2022-12-07T22:59:43.219Z"
   },
   {
    "duration": 5,
    "start_time": "2022-12-07T22:59:43.347Z"
   },
   {
    "duration": 127,
    "start_time": "2022-12-07T22:59:43.354Z"
   },
   {
    "duration": 0,
    "start_time": "2022-12-07T22:59:43.483Z"
   },
   {
    "duration": 0,
    "start_time": "2022-12-07T22:59:43.484Z"
   },
   {
    "duration": 0,
    "start_time": "2022-12-07T22:59:43.485Z"
   },
   {
    "duration": 0,
    "start_time": "2022-12-07T22:59:43.497Z"
   },
   {
    "duration": 0,
    "start_time": "2022-12-07T22:59:43.498Z"
   },
   {
    "duration": 0,
    "start_time": "2022-12-07T22:59:43.500Z"
   },
   {
    "duration": 0,
    "start_time": "2022-12-07T22:59:43.502Z"
   },
   {
    "duration": 0,
    "start_time": "2022-12-07T22:59:43.503Z"
   },
   {
    "duration": 0,
    "start_time": "2022-12-07T22:59:43.504Z"
   },
   {
    "duration": 0,
    "start_time": "2022-12-07T22:59:43.505Z"
   },
   {
    "duration": 0,
    "start_time": "2022-12-07T22:59:43.507Z"
   },
   {
    "duration": 0,
    "start_time": "2022-12-07T22:59:43.508Z"
   },
   {
    "duration": 0,
    "start_time": "2022-12-07T22:59:43.509Z"
   },
   {
    "duration": 0,
    "start_time": "2022-12-07T22:59:43.511Z"
   },
   {
    "duration": 0,
    "start_time": "2022-12-07T22:59:43.512Z"
   },
   {
    "duration": 0,
    "start_time": "2022-12-07T22:59:43.513Z"
   },
   {
    "duration": 0,
    "start_time": "2022-12-07T22:59:43.515Z"
   },
   {
    "duration": 0,
    "start_time": "2022-12-07T22:59:43.516Z"
   },
   {
    "duration": 0,
    "start_time": "2022-12-07T22:59:43.518Z"
   },
   {
    "duration": 0,
    "start_time": "2022-12-07T22:59:43.519Z"
   },
   {
    "duration": 0,
    "start_time": "2022-12-07T22:59:43.520Z"
   },
   {
    "duration": 0,
    "start_time": "2022-12-07T22:59:43.522Z"
   },
   {
    "duration": 0,
    "start_time": "2022-12-07T22:59:43.523Z"
   },
   {
    "duration": 0,
    "start_time": "2022-12-07T22:59:43.524Z"
   },
   {
    "duration": 0,
    "start_time": "2022-12-07T22:59:43.526Z"
   },
   {
    "duration": 0,
    "start_time": "2022-12-07T22:59:43.527Z"
   },
   {
    "duration": 0,
    "start_time": "2022-12-07T22:59:43.528Z"
   },
   {
    "duration": 0,
    "start_time": "2022-12-07T22:59:43.530Z"
   },
   {
    "duration": 0,
    "start_time": "2022-12-07T22:59:43.531Z"
   },
   {
    "duration": 0,
    "start_time": "2022-12-07T22:59:43.533Z"
   },
   {
    "duration": 0,
    "start_time": "2022-12-07T22:59:43.534Z"
   },
   {
    "duration": 0,
    "start_time": "2022-12-07T22:59:43.535Z"
   },
   {
    "duration": 0,
    "start_time": "2022-12-07T22:59:43.597Z"
   },
   {
    "duration": 44,
    "start_time": "2022-12-07T23:00:48.533Z"
   },
   {
    "duration": 1265,
    "start_time": "2022-12-07T23:00:48.643Z"
   },
   {
    "duration": 4,
    "start_time": "2022-12-07T23:00:49.910Z"
   },
   {
    "duration": 78,
    "start_time": "2022-12-07T23:00:49.915Z"
   },
   {
    "duration": 16,
    "start_time": "2022-12-07T23:00:49.995Z"
   },
   {
    "duration": 42,
    "start_time": "2022-12-07T23:00:50.013Z"
   },
   {
    "duration": 41,
    "start_time": "2022-12-07T23:00:50.056Z"
   },
   {
    "duration": 47,
    "start_time": "2022-12-07T23:00:50.098Z"
   },
   {
    "duration": 9,
    "start_time": "2022-12-07T23:00:50.146Z"
   },
   {
    "duration": 21,
    "start_time": "2022-12-07T23:00:50.156Z"
   },
   {
    "duration": 25,
    "start_time": "2022-12-07T23:00:50.179Z"
   },
   {
    "duration": 30,
    "start_time": "2022-12-07T23:00:50.205Z"
   },
   {
    "duration": 34,
    "start_time": "2022-12-07T23:00:50.237Z"
   },
   {
    "duration": 34,
    "start_time": "2022-12-07T23:00:50.272Z"
   },
   {
    "duration": 10,
    "start_time": "2022-12-07T23:00:50.307Z"
   },
   {
    "duration": 32,
    "start_time": "2022-12-07T23:00:50.319Z"
   },
   {
    "duration": 8,
    "start_time": "2022-12-07T23:00:50.352Z"
   },
   {
    "duration": 23,
    "start_time": "2022-12-07T23:00:50.362Z"
   },
   {
    "duration": 18,
    "start_time": "2022-12-07T23:00:50.387Z"
   },
   {
    "duration": 17,
    "start_time": "2022-12-07T23:00:50.407Z"
   },
   {
    "duration": 10,
    "start_time": "2022-12-07T23:00:50.426Z"
   },
   {
    "duration": 16,
    "start_time": "2022-12-07T23:00:50.438Z"
   },
   {
    "duration": 28,
    "start_time": "2022-12-07T23:00:50.455Z"
   },
   {
    "duration": 44,
    "start_time": "2022-12-07T23:00:50.484Z"
   },
   {
    "duration": 14,
    "start_time": "2022-12-07T23:00:50.529Z"
   },
   {
    "duration": 23,
    "start_time": "2022-12-07T23:00:50.544Z"
   },
   {
    "duration": 1131,
    "start_time": "2022-12-07T23:00:50.568Z"
   },
   {
    "duration": 4,
    "start_time": "2022-12-07T23:00:51.701Z"
   },
   {
    "duration": 984,
    "start_time": "2022-12-07T23:00:51.709Z"
   },
   {
    "duration": 777,
    "start_time": "2022-12-07T23:00:52.697Z"
   },
   {
    "duration": 16,
    "start_time": "2022-12-07T23:00:53.476Z"
   },
   {
    "duration": 3,
    "start_time": "2022-12-07T23:00:53.494Z"
   },
   {
    "duration": 15,
    "start_time": "2022-12-07T23:00:53.499Z"
   },
   {
    "duration": 11,
    "start_time": "2022-12-07T23:00:53.515Z"
   },
   {
    "duration": 125,
    "start_time": "2022-12-07T23:00:53.527Z"
   },
   {
    "duration": 4,
    "start_time": "2022-12-07T23:00:53.654Z"
   },
   {
    "duration": 1151,
    "start_time": "2022-12-07T23:00:53.659Z"
   },
   {
    "duration": 118,
    "start_time": "2022-12-07T23:00:54.811Z"
   },
   {
    "duration": 77134,
    "start_time": "2022-12-07T23:00:54.931Z"
   },
   {
    "duration": 131,
    "start_time": "2022-12-07T23:02:12.066Z"
   },
   {
    "duration": 200,
    "start_time": "2022-12-07T23:02:12.199Z"
   },
   {
    "duration": 386,
    "start_time": "2022-12-07T23:02:12.402Z"
   },
   {
    "duration": 1111,
    "start_time": "2022-12-07T23:02:12.789Z"
   },
   {
    "duration": 131,
    "start_time": "2022-12-07T23:02:13.902Z"
   },
   {
    "duration": 77779,
    "start_time": "2022-12-07T23:02:14.035Z"
   },
   {
    "duration": 134,
    "start_time": "2022-12-07T23:03:31.816Z"
   },
   {
    "duration": 248,
    "start_time": "2022-12-07T23:03:31.952Z"
   },
   {
    "duration": 318,
    "start_time": "2022-12-07T23:03:32.202Z"
   },
   {
    "duration": 13,
    "start_time": "2022-12-07T23:03:32.522Z"
   },
   {
    "duration": 10,
    "start_time": "2022-12-07T23:03:32.536Z"
   },
   {
    "duration": 1900,
    "start_time": "2022-12-07T23:03:32.548Z"
   },
   {
    "duration": 134,
    "start_time": "2022-12-07T23:03:34.450Z"
   },
   {
    "duration": 138595,
    "start_time": "2022-12-07T23:03:34.585Z"
   },
   {
    "duration": 146,
    "start_time": "2022-12-07T23:05:53.182Z"
   },
   {
    "duration": 76,
    "start_time": "2022-12-07T23:05:53.330Z"
   },
   {
    "duration": 399,
    "start_time": "2022-12-07T23:05:53.407Z"
   },
   {
    "duration": 4,
    "start_time": "2022-12-07T23:05:53.807Z"
   },
   {
    "duration": 36,
    "start_time": "2022-12-07T23:05:53.812Z"
   },
   {
    "duration": 557,
    "start_time": "2022-12-07T23:05:53.850Z"
   },
   {
    "duration": 123,
    "start_time": "2022-12-07T23:05:54.409Z"
   },
   {
    "duration": 46708,
    "start_time": "2022-12-07T23:05:54.534Z"
   },
   {
    "duration": 120,
    "start_time": "2022-12-07T23:06:41.243Z"
   },
   {
    "duration": 39,
    "start_time": "2022-12-07T23:06:41.364Z"
   },
   {
    "duration": 396,
    "start_time": "2022-12-07T23:06:41.405Z"
   },
   {
    "duration": 235,
    "start_time": "2022-12-07T23:06:41.802Z"
   },
   {
    "duration": 206,
    "start_time": "2022-12-07T23:06:42.039Z"
   },
   {
    "duration": 386,
    "start_time": "2022-12-07T23:06:42.247Z"
   },
   {
    "duration": 140,
    "start_time": "2022-12-07T23:06:42.634Z"
   },
   {
    "duration": 258,
    "start_time": "2022-12-07T23:06:42.776Z"
   },
   {
    "duration": 269,
    "start_time": "2022-12-07T23:06:43.036Z"
   },
   {
    "duration": 264,
    "start_time": "2022-12-07T23:57:29.141Z"
   },
   {
    "duration": 282,
    "start_time": "2022-12-08T00:10:37.510Z"
   },
   {
    "duration": 291,
    "start_time": "2022-12-08T00:10:56.102Z"
   },
   {
    "duration": 276,
    "start_time": "2022-12-08T00:12:14.346Z"
   },
   {
    "duration": 491,
    "start_time": "2022-12-08T00:13:22.868Z"
   },
   {
    "duration": 1347,
    "start_time": "2022-12-08T00:15:48.191Z"
   },
   {
    "duration": 2,
    "start_time": "2022-12-08T00:15:49.542Z"
   },
   {
    "duration": 47,
    "start_time": "2022-12-08T00:15:49.545Z"
   },
   {
    "duration": 16,
    "start_time": "2022-12-08T00:15:49.594Z"
   },
   {
    "duration": 15,
    "start_time": "2022-12-08T00:15:49.611Z"
   },
   {
    "duration": 17,
    "start_time": "2022-12-08T00:15:49.627Z"
   },
   {
    "duration": 36,
    "start_time": "2022-12-08T00:15:49.645Z"
   },
   {
    "duration": 16,
    "start_time": "2022-12-08T00:15:49.683Z"
   },
   {
    "duration": 6,
    "start_time": "2022-12-08T00:15:49.701Z"
   },
   {
    "duration": 7,
    "start_time": "2022-12-08T00:15:49.709Z"
   },
   {
    "duration": 18,
    "start_time": "2022-12-08T00:15:49.717Z"
   },
   {
    "duration": 11,
    "start_time": "2022-12-08T00:15:49.736Z"
   },
   {
    "duration": 13,
    "start_time": "2022-12-08T00:15:49.748Z"
   },
   {
    "duration": 7,
    "start_time": "2022-12-08T00:15:49.762Z"
   },
   {
    "duration": 33,
    "start_time": "2022-12-08T00:15:49.770Z"
   },
   {
    "duration": 8,
    "start_time": "2022-12-08T00:15:49.805Z"
   },
   {
    "duration": 8,
    "start_time": "2022-12-08T00:15:49.814Z"
   },
   {
    "duration": 9,
    "start_time": "2022-12-08T00:15:49.823Z"
   },
   {
    "duration": 8,
    "start_time": "2022-12-08T00:15:49.833Z"
   },
   {
    "duration": 9,
    "start_time": "2022-12-08T00:15:49.842Z"
   },
   {
    "duration": 5,
    "start_time": "2022-12-08T00:15:49.852Z"
   },
   {
    "duration": 8,
    "start_time": "2022-12-08T00:15:49.858Z"
   },
   {
    "duration": 38,
    "start_time": "2022-12-08T00:15:49.867Z"
   },
   {
    "duration": 4,
    "start_time": "2022-12-08T00:15:49.906Z"
   },
   {
    "duration": 5,
    "start_time": "2022-12-08T00:15:49.911Z"
   },
   {
    "duration": 1167,
    "start_time": "2022-12-08T00:15:49.917Z"
   },
   {
    "duration": 4,
    "start_time": "2022-12-08T00:15:51.085Z"
   },
   {
    "duration": 1337,
    "start_time": "2022-12-08T00:15:51.096Z"
   },
   {
    "duration": 1164,
    "start_time": "2022-12-08T00:15:52.434Z"
   },
   {
    "duration": 17,
    "start_time": "2022-12-08T00:15:53.600Z"
   },
   {
    "duration": 4,
    "start_time": "2022-12-08T00:15:53.619Z"
   },
   {
    "duration": 11,
    "start_time": "2022-12-08T00:15:53.624Z"
   },
   {
    "duration": 9,
    "start_time": "2022-12-08T00:15:53.636Z"
   },
   {
    "duration": 141,
    "start_time": "2022-12-08T00:15:53.646Z"
   },
   {
    "duration": 9,
    "start_time": "2022-12-08T00:15:53.788Z"
   },
   {
    "duration": 1124,
    "start_time": "2022-12-08T00:15:53.799Z"
   },
   {
    "duration": 131,
    "start_time": "2022-12-08T00:15:54.925Z"
   },
   {
    "duration": 78417,
    "start_time": "2022-12-08T00:15:55.058Z"
   },
   {
    "duration": 132,
    "start_time": "2022-12-08T00:17:13.476Z"
   },
   {
    "duration": 193,
    "start_time": "2022-12-08T00:17:13.609Z"
   },
   {
    "duration": 379,
    "start_time": "2022-12-08T00:17:13.807Z"
   },
   {
    "duration": 1138,
    "start_time": "2022-12-08T00:17:14.187Z"
   },
   {
    "duration": 119,
    "start_time": "2022-12-08T00:17:15.327Z"
   },
   {
    "duration": 77393,
    "start_time": "2022-12-08T00:17:15.447Z"
   },
   {
    "duration": 275,
    "start_time": "2022-12-08T00:18:32.842Z"
   },
   {
    "duration": 137,
    "start_time": "2022-12-08T00:18:33.119Z"
   },
   {
    "duration": 241,
    "start_time": "2022-12-08T00:18:33.258Z"
   },
   {
    "duration": 302,
    "start_time": "2022-12-08T00:18:33.501Z"
   },
   {
    "duration": 12,
    "start_time": "2022-12-08T00:18:33.804Z"
   },
   {
    "duration": 10,
    "start_time": "2022-12-08T00:18:33.817Z"
   },
   {
    "duration": 1887,
    "start_time": "2022-12-08T00:18:33.828Z"
   },
   {
    "duration": 115,
    "start_time": "2022-12-08T00:18:35.717Z"
   },
   {
    "duration": 50276,
    "start_time": "2022-12-08T00:18:35.834Z"
   },
   {
    "duration": 0,
    "start_time": "2022-12-08T00:19:26.113Z"
   },
   {
    "duration": 0,
    "start_time": "2022-12-08T00:19:26.114Z"
   },
   {
    "duration": 0,
    "start_time": "2022-12-08T00:19:26.115Z"
   },
   {
    "duration": 0,
    "start_time": "2022-12-08T00:19:26.117Z"
   },
   {
    "duration": 0,
    "start_time": "2022-12-08T00:19:26.118Z"
   },
   {
    "duration": 0,
    "start_time": "2022-12-08T00:19:26.120Z"
   },
   {
    "duration": 0,
    "start_time": "2022-12-08T00:19:26.121Z"
   },
   {
    "duration": 0,
    "start_time": "2022-12-08T00:19:26.122Z"
   },
   {
    "duration": 0,
    "start_time": "2022-12-08T00:19:26.123Z"
   },
   {
    "duration": 0,
    "start_time": "2022-12-08T00:19:26.125Z"
   },
   {
    "duration": 0,
    "start_time": "2022-12-08T00:19:26.126Z"
   },
   {
    "duration": 0,
    "start_time": "2022-12-08T00:19:26.127Z"
   },
   {
    "duration": 0,
    "start_time": "2022-12-08T00:19:26.129Z"
   },
   {
    "duration": 0,
    "start_time": "2022-12-08T00:19:26.131Z"
   },
   {
    "duration": 0,
    "start_time": "2022-12-08T00:19:26.132Z"
   },
   {
    "duration": 0,
    "start_time": "2022-12-08T00:19:26.133Z"
   },
   {
    "duration": 0,
    "start_time": "2022-12-08T00:19:26.135Z"
   },
   {
    "duration": 0,
    "start_time": "2022-12-08T00:19:26.137Z"
   },
   {
    "duration": 1917,
    "start_time": "2022-12-08T00:21:55.608Z"
   },
   {
    "duration": 1818,
    "start_time": "2022-12-08T00:22:34.759Z"
   },
   {
    "duration": 5301,
    "start_time": "2022-12-08T00:25:14.614Z"
   },
   {
    "duration": 2543,
    "start_time": "2022-12-08T00:26:48.937Z"
   },
   {
    "duration": 3326,
    "start_time": "2022-12-08T00:27:01.160Z"
   },
   {
    "duration": 3835,
    "start_time": "2022-12-08T00:27:12.277Z"
   },
   {
    "duration": 1279,
    "start_time": "2022-12-08T00:31:14.339Z"
   },
   {
    "duration": 3,
    "start_time": "2022-12-08T00:31:15.620Z"
   },
   {
    "duration": 56,
    "start_time": "2022-12-08T00:31:15.624Z"
   },
   {
    "duration": 16,
    "start_time": "2022-12-08T00:31:15.682Z"
   },
   {
    "duration": 16,
    "start_time": "2022-12-08T00:31:15.700Z"
   },
   {
    "duration": 14,
    "start_time": "2022-12-08T00:31:15.718Z"
   },
   {
    "duration": 36,
    "start_time": "2022-12-08T00:31:15.733Z"
   },
   {
    "duration": 3,
    "start_time": "2022-12-08T00:31:15.770Z"
   },
   {
    "duration": 4,
    "start_time": "2022-12-08T00:31:15.797Z"
   },
   {
    "duration": 7,
    "start_time": "2022-12-08T00:31:15.803Z"
   },
   {
    "duration": 14,
    "start_time": "2022-12-08T00:31:15.811Z"
   },
   {
    "duration": 12,
    "start_time": "2022-12-08T00:31:15.827Z"
   },
   {
    "duration": 14,
    "start_time": "2022-12-08T00:31:15.840Z"
   },
   {
    "duration": 7,
    "start_time": "2022-12-08T00:31:15.858Z"
   },
   {
    "duration": 37,
    "start_time": "2022-12-08T00:31:15.867Z"
   },
   {
    "duration": 8,
    "start_time": "2022-12-08T00:31:15.906Z"
   },
   {
    "duration": 6,
    "start_time": "2022-12-08T00:31:15.916Z"
   },
   {
    "duration": 24,
    "start_time": "2022-12-08T00:31:15.923Z"
   },
   {
    "duration": 7,
    "start_time": "2022-12-08T00:31:15.948Z"
   },
   {
    "duration": 22,
    "start_time": "2022-12-08T00:31:15.956Z"
   },
   {
    "duration": 12,
    "start_time": "2022-12-08T00:31:15.980Z"
   },
   {
    "duration": 7,
    "start_time": "2022-12-08T00:31:15.996Z"
   },
   {
    "duration": 14,
    "start_time": "2022-12-08T00:31:16.004Z"
   },
   {
    "duration": 4,
    "start_time": "2022-12-08T00:31:16.020Z"
   },
   {
    "duration": 9,
    "start_time": "2022-12-08T00:31:16.025Z"
   },
   {
    "duration": 1147,
    "start_time": "2022-12-08T00:31:16.035Z"
   },
   {
    "duration": 3,
    "start_time": "2022-12-08T00:31:17.184Z"
   },
   {
    "duration": 958,
    "start_time": "2022-12-08T00:31:17.196Z"
   },
   {
    "duration": 787,
    "start_time": "2022-12-08T00:31:18.155Z"
   },
   {
    "duration": 16,
    "start_time": "2022-12-08T00:31:18.944Z"
   },
   {
    "duration": 4,
    "start_time": "2022-12-08T00:31:18.962Z"
   },
   {
    "duration": 24,
    "start_time": "2022-12-08T00:31:18.967Z"
   },
   {
    "duration": 15,
    "start_time": "2022-12-08T00:31:18.993Z"
   },
   {
    "duration": 128,
    "start_time": "2022-12-08T00:31:19.010Z"
   },
   {
    "duration": 5,
    "start_time": "2022-12-08T00:31:19.139Z"
   },
   {
    "duration": 1133,
    "start_time": "2022-12-08T00:31:19.145Z"
   },
   {
    "duration": 120,
    "start_time": "2022-12-08T00:31:20.280Z"
   },
   {
    "duration": 76846,
    "start_time": "2022-12-08T00:31:20.402Z"
   },
   {
    "duration": 147,
    "start_time": "2022-12-08T00:32:37.250Z"
   },
   {
    "duration": 199,
    "start_time": "2022-12-08T00:32:37.399Z"
   },
   {
    "duration": 399,
    "start_time": "2022-12-08T00:32:37.605Z"
   },
   {
    "duration": 1123,
    "start_time": "2022-12-08T00:32:38.006Z"
   },
   {
    "duration": 121,
    "start_time": "2022-12-08T00:32:39.130Z"
   },
   {
    "duration": 83842,
    "start_time": "2022-12-08T00:32:39.252Z"
   },
   {
    "duration": 103,
    "start_time": "2022-12-08T00:34:03.097Z"
   },
   {
    "duration": 0,
    "start_time": "2022-12-08T00:34:03.202Z"
   },
   {
    "duration": 0,
    "start_time": "2022-12-08T00:34:03.203Z"
   },
   {
    "duration": 0,
    "start_time": "2022-12-08T00:34:03.204Z"
   },
   {
    "duration": 0,
    "start_time": "2022-12-08T00:34:03.205Z"
   },
   {
    "duration": 0,
    "start_time": "2022-12-08T00:34:03.206Z"
   },
   {
    "duration": 0,
    "start_time": "2022-12-08T00:34:03.208Z"
   },
   {
    "duration": 0,
    "start_time": "2022-12-08T00:34:03.208Z"
   },
   {
    "duration": 0,
    "start_time": "2022-12-08T00:34:03.209Z"
   },
   {
    "duration": 0,
    "start_time": "2022-12-08T00:34:03.210Z"
   },
   {
    "duration": 0,
    "start_time": "2022-12-08T00:34:03.211Z"
   },
   {
    "duration": 0,
    "start_time": "2022-12-08T00:34:03.212Z"
   },
   {
    "duration": 0,
    "start_time": "2022-12-08T00:34:03.213Z"
   },
   {
    "duration": 0,
    "start_time": "2022-12-08T00:34:03.214Z"
   },
   {
    "duration": 0,
    "start_time": "2022-12-08T00:34:03.214Z"
   },
   {
    "duration": 0,
    "start_time": "2022-12-08T00:34:03.216Z"
   },
   {
    "duration": 0,
    "start_time": "2022-12-08T00:34:03.216Z"
   },
   {
    "duration": 0,
    "start_time": "2022-12-08T00:34:03.217Z"
   },
   {
    "duration": 0,
    "start_time": "2022-12-08T00:34:03.219Z"
   },
   {
    "duration": 0,
    "start_time": "2022-12-08T00:34:03.219Z"
   },
   {
    "duration": 0,
    "start_time": "2022-12-08T00:34:03.220Z"
   },
   {
    "duration": 0,
    "start_time": "2022-12-08T00:34:03.221Z"
   },
   {
    "duration": 0,
    "start_time": "2022-12-08T00:34:03.222Z"
   },
   {
    "duration": 0,
    "start_time": "2022-12-08T00:34:03.223Z"
   },
   {
    "duration": 0,
    "start_time": "2022-12-08T00:34:03.224Z"
   },
   {
    "duration": 0,
    "start_time": "2022-12-08T00:34:03.225Z"
   },
   {
    "duration": 0,
    "start_time": "2022-12-08T00:34:03.227Z"
   },
   {
    "duration": 1257,
    "start_time": "2022-12-08T00:37:47.342Z"
   },
   {
    "duration": 2,
    "start_time": "2022-12-08T00:37:48.601Z"
   },
   {
    "duration": 47,
    "start_time": "2022-12-08T00:37:48.604Z"
   },
   {
    "duration": 14,
    "start_time": "2022-12-08T00:37:48.653Z"
   },
   {
    "duration": 10,
    "start_time": "2022-12-08T00:37:48.669Z"
   },
   {
    "duration": 13,
    "start_time": "2022-12-08T00:37:48.681Z"
   },
   {
    "duration": 36,
    "start_time": "2022-12-08T00:37:48.696Z"
   },
   {
    "duration": 3,
    "start_time": "2022-12-08T00:37:48.734Z"
   },
   {
    "duration": 8,
    "start_time": "2022-12-08T00:37:48.738Z"
   },
   {
    "duration": 7,
    "start_time": "2022-12-08T00:37:48.749Z"
   },
   {
    "duration": 14,
    "start_time": "2022-12-08T00:37:48.757Z"
   },
   {
    "duration": 31,
    "start_time": "2022-12-08T00:37:48.773Z"
   },
   {
    "duration": 13,
    "start_time": "2022-12-08T00:37:48.805Z"
   },
   {
    "duration": 7,
    "start_time": "2022-12-08T00:37:48.819Z"
   },
   {
    "duration": 12,
    "start_time": "2022-12-08T00:37:48.827Z"
   },
   {
    "duration": 8,
    "start_time": "2022-12-08T00:37:48.840Z"
   },
   {
    "duration": 6,
    "start_time": "2022-12-08T00:37:48.849Z"
   },
   {
    "duration": 8,
    "start_time": "2022-12-08T00:37:48.856Z"
   },
   {
    "duration": 8,
    "start_time": "2022-12-08T00:37:48.897Z"
   },
   {
    "duration": 8,
    "start_time": "2022-12-08T00:37:48.906Z"
   },
   {
    "duration": 6,
    "start_time": "2022-12-08T00:37:48.915Z"
   },
   {
    "duration": 8,
    "start_time": "2022-12-08T00:37:48.922Z"
   },
   {
    "duration": 12,
    "start_time": "2022-12-08T00:37:48.931Z"
   },
   {
    "duration": 5,
    "start_time": "2022-12-08T00:37:48.944Z"
   },
   {
    "duration": 4,
    "start_time": "2022-12-08T00:37:48.951Z"
   },
   {
    "duration": 1210,
    "start_time": "2022-12-08T00:37:48.956Z"
   },
   {
    "duration": 4,
    "start_time": "2022-12-08T00:37:50.168Z"
   },
   {
    "duration": 973,
    "start_time": "2022-12-08T00:37:50.177Z"
   },
   {
    "duration": 762,
    "start_time": "2022-12-08T00:37:51.152Z"
   },
   {
    "duration": 16,
    "start_time": "2022-12-08T00:37:51.915Z"
   },
   {
    "duration": 4,
    "start_time": "2022-12-08T00:37:51.933Z"
   },
   {
    "duration": 18,
    "start_time": "2022-12-08T00:37:51.939Z"
   },
   {
    "duration": 23,
    "start_time": "2022-12-08T00:37:51.958Z"
   },
   {
    "duration": 112,
    "start_time": "2022-12-08T00:37:51.983Z"
   },
   {
    "duration": 5,
    "start_time": "2022-12-08T00:37:52.096Z"
   },
   {
    "duration": 1090,
    "start_time": "2022-12-08T00:37:52.103Z"
   },
   {
    "duration": 117,
    "start_time": "2022-12-08T00:37:53.198Z"
   },
   {
    "duration": 76930,
    "start_time": "2022-12-08T00:37:53.317Z"
   },
   {
    "duration": 131,
    "start_time": "2022-12-08T00:39:10.249Z"
   },
   {
    "duration": 217,
    "start_time": "2022-12-08T00:39:10.382Z"
   },
   {
    "duration": 306,
    "start_time": "2022-12-08T00:39:10.601Z"
   },
   {
    "duration": 1101,
    "start_time": "2022-12-08T00:39:10.908Z"
   },
   {
    "duration": 114,
    "start_time": "2022-12-08T00:39:12.010Z"
   },
   {
    "duration": 83441,
    "start_time": "2022-12-08T00:39:12.125Z"
   },
   {
    "duration": 151,
    "start_time": "2022-12-08T00:40:35.567Z"
   },
   {
    "duration": 185,
    "start_time": "2022-12-08T00:40:35.720Z"
   },
   {
    "duration": 314,
    "start_time": "2022-12-08T00:40:35.996Z"
   },
   {
    "duration": 13,
    "start_time": "2022-12-08T00:40:36.311Z"
   },
   {
    "duration": 9,
    "start_time": "2022-12-08T00:40:36.326Z"
   },
   {
    "duration": 1858,
    "start_time": "2022-12-08T00:40:36.337Z"
   },
   {
    "duration": 113,
    "start_time": "2022-12-08T00:40:38.197Z"
   },
   {
    "duration": 116421,
    "start_time": "2022-12-08T00:40:38.311Z"
   },
   {
    "duration": 0,
    "start_time": "2022-12-08T00:42:34.733Z"
   },
   {
    "duration": 0,
    "start_time": "2022-12-08T00:42:34.735Z"
   },
   {
    "duration": 0,
    "start_time": "2022-12-08T00:42:34.735Z"
   },
   {
    "duration": 0,
    "start_time": "2022-12-08T00:42:34.736Z"
   },
   {
    "duration": 0,
    "start_time": "2022-12-08T00:42:34.737Z"
   },
   {
    "duration": 0,
    "start_time": "2022-12-08T00:42:34.738Z"
   },
   {
    "duration": 0,
    "start_time": "2022-12-08T00:42:34.739Z"
   },
   {
    "duration": 0,
    "start_time": "2022-12-08T00:42:34.740Z"
   },
   {
    "duration": 0,
    "start_time": "2022-12-08T00:42:34.741Z"
   },
   {
    "duration": 0,
    "start_time": "2022-12-08T00:42:34.742Z"
   },
   {
    "duration": 0,
    "start_time": "2022-12-08T00:42:34.743Z"
   },
   {
    "duration": 0,
    "start_time": "2022-12-08T00:42:34.744Z"
   },
   {
    "duration": 0,
    "start_time": "2022-12-08T00:42:34.744Z"
   },
   {
    "duration": 0,
    "start_time": "2022-12-08T00:42:34.745Z"
   },
   {
    "duration": 0,
    "start_time": "2022-12-08T00:42:34.746Z"
   },
   {
    "duration": 0,
    "start_time": "2022-12-08T00:42:34.747Z"
   },
   {
    "duration": 0,
    "start_time": "2022-12-08T00:42:34.748Z"
   },
   {
    "duration": 0,
    "start_time": "2022-12-08T00:42:34.749Z"
   },
   {
    "duration": 1283,
    "start_time": "2022-12-08T00:42:56.361Z"
   },
   {
    "duration": 3,
    "start_time": "2022-12-08T00:42:57.646Z"
   },
   {
    "duration": 44,
    "start_time": "2022-12-08T00:42:57.650Z"
   },
   {
    "duration": 15,
    "start_time": "2022-12-08T00:42:57.696Z"
   },
   {
    "duration": 10,
    "start_time": "2022-12-08T00:42:57.713Z"
   },
   {
    "duration": 13,
    "start_time": "2022-12-08T00:42:57.725Z"
   },
   {
    "duration": 58,
    "start_time": "2022-12-08T00:42:57.740Z"
   },
   {
    "duration": 3,
    "start_time": "2022-12-08T00:42:57.799Z"
   },
   {
    "duration": 7,
    "start_time": "2022-12-08T00:42:57.803Z"
   },
   {
    "duration": 9,
    "start_time": "2022-12-08T00:42:57.813Z"
   },
   {
    "duration": 17,
    "start_time": "2022-12-08T00:42:57.823Z"
   },
   {
    "duration": 11,
    "start_time": "2022-12-08T00:42:57.841Z"
   },
   {
    "duration": 26,
    "start_time": "2022-12-08T00:42:57.854Z"
   },
   {
    "duration": 6,
    "start_time": "2022-12-08T00:42:57.882Z"
   },
   {
    "duration": 14,
    "start_time": "2022-12-08T00:42:57.897Z"
   },
   {
    "duration": 8,
    "start_time": "2022-12-08T00:42:57.912Z"
   },
   {
    "duration": 19,
    "start_time": "2022-12-08T00:42:57.921Z"
   },
   {
    "duration": 15,
    "start_time": "2022-12-08T00:42:57.942Z"
   },
   {
    "duration": 11,
    "start_time": "2022-12-08T00:42:57.958Z"
   },
   {
    "duration": 9,
    "start_time": "2022-12-08T00:42:57.970Z"
   },
   {
    "duration": 16,
    "start_time": "2022-12-08T00:42:57.981Z"
   },
   {
    "duration": 7,
    "start_time": "2022-12-08T00:42:57.998Z"
   },
   {
    "duration": 13,
    "start_time": "2022-12-08T00:42:58.006Z"
   },
   {
    "duration": 6,
    "start_time": "2022-12-08T00:42:58.020Z"
   },
   {
    "duration": 8,
    "start_time": "2022-12-08T00:42:58.027Z"
   },
   {
    "duration": 1214,
    "start_time": "2022-12-08T00:42:58.036Z"
   },
   {
    "duration": 3,
    "start_time": "2022-12-08T00:42:59.252Z"
   },
   {
    "duration": 1050,
    "start_time": "2022-12-08T00:42:59.259Z"
   },
   {
    "duration": 776,
    "start_time": "2022-12-08T00:43:00.310Z"
   },
   {
    "duration": 18,
    "start_time": "2022-12-08T00:43:01.087Z"
   },
   {
    "duration": 5,
    "start_time": "2022-12-08T00:43:01.106Z"
   },
   {
    "duration": 26,
    "start_time": "2022-12-08T00:43:01.113Z"
   },
   {
    "duration": 15,
    "start_time": "2022-12-08T00:43:01.140Z"
   },
   {
    "duration": 128,
    "start_time": "2022-12-08T00:43:01.157Z"
   },
   {
    "duration": 10,
    "start_time": "2022-12-08T00:43:01.287Z"
   },
   {
    "duration": 1133,
    "start_time": "2022-12-08T00:43:01.299Z"
   },
   {
    "duration": 124,
    "start_time": "2022-12-08T00:43:02.434Z"
   },
   {
    "duration": 79165,
    "start_time": "2022-12-08T00:43:02.560Z"
   },
   {
    "duration": 142,
    "start_time": "2022-12-08T00:44:21.727Z"
   },
   {
    "duration": 228,
    "start_time": "2022-12-08T00:44:21.871Z"
   },
   {
    "duration": 403,
    "start_time": "2022-12-08T00:44:22.101Z"
   },
   {
    "duration": 1124,
    "start_time": "2022-12-08T00:44:22.506Z"
   },
   {
    "duration": 127,
    "start_time": "2022-12-08T00:44:23.631Z"
   },
   {
    "duration": 85728,
    "start_time": "2022-12-08T00:44:23.760Z"
   },
   {
    "duration": 135,
    "start_time": "2022-12-08T00:45:49.489Z"
   },
   {
    "duration": 177,
    "start_time": "2022-12-08T00:45:49.625Z"
   },
   {
    "duration": 395,
    "start_time": "2022-12-08T00:45:49.804Z"
   },
   {
    "duration": 5,
    "start_time": "2022-12-08T00:45:50.201Z"
   },
   {
    "duration": 12,
    "start_time": "2022-12-08T00:45:50.207Z"
   },
   {
    "duration": 1376,
    "start_time": "2022-12-08T00:45:50.220Z"
   },
   {
    "duration": 119,
    "start_time": "2022-12-08T00:45:51.598Z"
   },
   {
    "duration": 103450,
    "start_time": "2022-12-08T00:45:51.718Z"
   },
   {
    "duration": 131,
    "start_time": "2022-12-08T00:47:35.169Z"
   },
   {
    "duration": 21,
    "start_time": "2022-12-08T00:47:35.302Z"
   },
   {
    "duration": 396,
    "start_time": "2022-12-08T00:47:35.324Z"
   },
   {
    "duration": 4,
    "start_time": "2022-12-08T00:47:35.721Z"
   },
   {
    "duration": 16,
    "start_time": "2022-12-08T00:47:35.726Z"
   },
   {
    "duration": 512,
    "start_time": "2022-12-08T00:47:35.743Z"
   },
   {
    "duration": 116,
    "start_time": "2022-12-08T00:47:36.257Z"
   },
   {
    "duration": 45833,
    "start_time": "2022-12-08T00:47:36.375Z"
   },
   {
    "duration": 126,
    "start_time": "2022-12-08T00:48:22.210Z"
   },
   {
    "duration": 59,
    "start_time": "2022-12-08T00:48:22.338Z"
   },
   {
    "duration": 311,
    "start_time": "2022-12-08T00:48:22.401Z"
   },
   {
    "duration": 220,
    "start_time": "2022-12-08T00:48:22.714Z"
   },
   {
    "duration": 212,
    "start_time": "2022-12-08T00:48:22.936Z"
   },
   {
    "duration": 382,
    "start_time": "2022-12-08T00:48:23.149Z"
   },
   {
    "duration": 139,
    "start_time": "2022-12-08T00:48:23.532Z"
   },
   {
    "duration": 264,
    "start_time": "2022-12-08T00:48:23.672Z"
   },
   {
    "duration": 267,
    "start_time": "2022-12-08T00:48:23.938Z"
   },
   {
    "duration": 12,
    "start_time": "2022-12-08T00:48:24.207Z"
   },
   {
    "duration": 239,
    "start_time": "2022-12-08T00:50:40.680Z"
   },
   {
    "duration": 125,
    "start_time": "2022-12-08T01:00:07.381Z"
   },
   {
    "duration": 1862,
    "start_time": "2022-12-09T07:16:11.369Z"
   },
   {
    "duration": 4,
    "start_time": "2022-12-09T07:16:13.233Z"
   },
   {
    "duration": 210,
    "start_time": "2022-12-09T07:16:13.239Z"
   },
   {
    "duration": 23,
    "start_time": "2022-12-09T07:16:13.452Z"
   },
   {
    "duration": 27,
    "start_time": "2022-12-09T07:16:13.476Z"
   },
   {
    "duration": 26,
    "start_time": "2022-12-09T07:16:13.505Z"
   },
   {
    "duration": 67,
    "start_time": "2022-12-09T07:16:13.532Z"
   },
   {
    "duration": 6,
    "start_time": "2022-12-09T07:16:13.602Z"
   },
   {
    "duration": 15,
    "start_time": "2022-12-09T07:16:13.610Z"
   },
   {
    "duration": 20,
    "start_time": "2022-12-09T07:16:13.628Z"
   },
   {
    "duration": 24,
    "start_time": "2022-12-09T07:16:13.650Z"
   },
   {
    "duration": 17,
    "start_time": "2022-12-09T07:16:13.676Z"
   },
   {
    "duration": 31,
    "start_time": "2022-12-09T07:16:13.695Z"
   },
   {
    "duration": 21,
    "start_time": "2022-12-09T07:16:13.730Z"
   },
   {
    "duration": 23,
    "start_time": "2022-12-09T07:16:13.753Z"
   },
   {
    "duration": 22,
    "start_time": "2022-12-09T07:16:13.778Z"
   },
   {
    "duration": 10,
    "start_time": "2022-12-09T07:16:13.802Z"
   },
   {
    "duration": 15,
    "start_time": "2022-12-09T07:16:13.814Z"
   },
   {
    "duration": 13,
    "start_time": "2022-12-09T07:16:13.850Z"
   },
   {
    "duration": 24,
    "start_time": "2022-12-09T07:16:13.865Z"
   },
   {
    "duration": 7,
    "start_time": "2022-12-09T07:16:13.891Z"
   },
   {
    "duration": 10,
    "start_time": "2022-12-09T07:16:13.899Z"
   },
   {
    "duration": 16,
    "start_time": "2022-12-09T07:16:13.911Z"
   },
   {
    "duration": 27,
    "start_time": "2022-12-09T07:16:13.929Z"
   },
   {
    "duration": 6,
    "start_time": "2022-12-09T07:16:13.958Z"
   },
   {
    "duration": 1831,
    "start_time": "2022-12-09T07:16:13.966Z"
   },
   {
    "duration": 5,
    "start_time": "2022-12-09T07:16:15.800Z"
   },
   {
    "duration": 1500,
    "start_time": "2022-12-09T07:16:15.810Z"
   },
   {
    "duration": 1168,
    "start_time": "2022-12-09T07:16:17.312Z"
   },
   {
    "duration": 6,
    "start_time": "2022-12-09T07:16:18.483Z"
   },
   {
    "duration": 27,
    "start_time": "2022-12-09T07:16:18.491Z"
   },
   {
    "duration": 14,
    "start_time": "2022-12-09T07:16:18.521Z"
   },
   {
    "duration": 186,
    "start_time": "2022-12-09T07:16:18.537Z"
   },
   {
    "duration": 5,
    "start_time": "2022-12-09T07:20:31.024Z"
   },
   {
    "duration": 29,
    "start_time": "2022-12-09T07:20:31.032Z"
   },
   {
    "duration": 59,
    "start_time": "2022-12-09T07:20:31.063Z"
   },
   {
    "duration": 13,
    "start_time": "2022-12-09T07:20:31.124Z"
   },
   {
    "duration": 52,
    "start_time": "2022-12-09T07:20:31.140Z"
   },
   {
    "duration": 26,
    "start_time": "2022-12-09T07:20:31.194Z"
   },
   {
    "duration": 81,
    "start_time": "2022-12-09T07:20:31.222Z"
   },
   {
    "duration": 3,
    "start_time": "2022-12-09T07:20:31.305Z"
   },
   {
    "duration": 21,
    "start_time": "2022-12-09T07:20:31.310Z"
   },
   {
    "duration": 45,
    "start_time": "2022-12-09T07:20:31.333Z"
   },
   {
    "duration": 36,
    "start_time": "2022-12-09T07:20:31.380Z"
   },
   {
    "duration": 22,
    "start_time": "2022-12-09T07:20:31.417Z"
   },
   {
    "duration": 55,
    "start_time": "2022-12-09T07:20:31.440Z"
   },
   {
    "duration": 8,
    "start_time": "2022-12-09T07:20:31.496Z"
   },
   {
    "duration": 18,
    "start_time": "2022-12-09T07:20:31.506Z"
   },
   {
    "duration": 7,
    "start_time": "2022-12-09T07:20:31.526Z"
   },
   {
    "duration": 36,
    "start_time": "2022-12-09T07:20:31.535Z"
   },
   {
    "duration": 19,
    "start_time": "2022-12-09T07:20:31.573Z"
   },
   {
    "duration": 29,
    "start_time": "2022-12-09T07:20:31.594Z"
   },
   {
    "duration": 23,
    "start_time": "2022-12-09T07:20:31.625Z"
   },
   {
    "duration": 27,
    "start_time": "2022-12-09T07:20:31.650Z"
   },
   {
    "duration": 15,
    "start_time": "2022-12-09T07:20:31.678Z"
   },
   {
    "duration": 21,
    "start_time": "2022-12-09T07:20:31.694Z"
   },
   {
    "duration": 5,
    "start_time": "2022-12-09T07:20:31.716Z"
   },
   {
    "duration": 15,
    "start_time": "2022-12-09T07:20:31.723Z"
   },
   {
    "duration": 1398,
    "start_time": "2022-12-09T07:20:31.739Z"
   },
   {
    "duration": 4,
    "start_time": "2022-12-09T07:20:33.138Z"
   },
   {
    "duration": 1366,
    "start_time": "2022-12-09T07:20:33.150Z"
   },
   {
    "duration": 922,
    "start_time": "2022-12-09T07:20:34.519Z"
   },
   {
    "duration": 20,
    "start_time": "2022-12-09T07:20:35.442Z"
   },
   {
    "duration": 80,
    "start_time": "2022-12-09T07:20:35.464Z"
   },
   {
    "duration": 70,
    "start_time": "2022-12-09T07:20:35.546Z"
   },
   {
    "duration": 80,
    "start_time": "2022-12-09T07:20:35.617Z"
   },
   {
    "duration": 5,
    "start_time": "2022-12-09T07:23:32.639Z"
   },
   {
    "duration": 51,
    "start_time": "2022-12-09T07:23:32.646Z"
   },
   {
    "duration": 73,
    "start_time": "2022-12-09T07:23:32.699Z"
   },
   {
    "duration": 17,
    "start_time": "2022-12-09T07:23:32.774Z"
   },
   {
    "duration": 36,
    "start_time": "2022-12-09T07:23:32.793Z"
   },
   {
    "duration": 56,
    "start_time": "2022-12-09T07:23:32.832Z"
   },
   {
    "duration": 78,
    "start_time": "2022-12-09T07:23:32.890Z"
   },
   {
    "duration": 4,
    "start_time": "2022-12-09T07:23:32.969Z"
   },
   {
    "duration": 50,
    "start_time": "2022-12-09T07:23:32.975Z"
   },
   {
    "duration": 14,
    "start_time": "2022-12-09T07:23:33.027Z"
   },
   {
    "duration": 70,
    "start_time": "2022-12-09T07:23:33.045Z"
   },
   {
    "duration": 23,
    "start_time": "2022-12-09T07:23:33.116Z"
   },
   {
    "duration": 71,
    "start_time": "2022-12-09T07:23:33.141Z"
   },
   {
    "duration": 36,
    "start_time": "2022-12-09T07:23:33.214Z"
   },
   {
    "duration": 53,
    "start_time": "2022-12-09T07:23:33.255Z"
   },
   {
    "duration": 29,
    "start_time": "2022-12-09T07:23:33.310Z"
   },
   {
    "duration": 41,
    "start_time": "2022-12-09T07:23:33.341Z"
   },
   {
    "duration": 25,
    "start_time": "2022-12-09T07:23:33.384Z"
   },
   {
    "duration": 33,
    "start_time": "2022-12-09T07:23:33.411Z"
   },
   {
    "duration": 46,
    "start_time": "2022-12-09T07:23:33.446Z"
   },
   {
    "duration": 36,
    "start_time": "2022-12-09T07:23:33.493Z"
   },
   {
    "duration": 51,
    "start_time": "2022-12-09T07:23:33.531Z"
   },
   {
    "duration": 47,
    "start_time": "2022-12-09T07:23:33.584Z"
   },
   {
    "duration": 6,
    "start_time": "2022-12-09T07:23:33.632Z"
   },
   {
    "duration": 51,
    "start_time": "2022-12-09T07:23:33.639Z"
   },
   {
    "duration": 1721,
    "start_time": "2022-12-09T07:23:33.692Z"
   },
   {
    "duration": 3,
    "start_time": "2022-12-09T07:23:35.415Z"
   },
   {
    "duration": 1467,
    "start_time": "2022-12-09T07:23:35.420Z"
   },
   {
    "duration": 988,
    "start_time": "2022-12-09T07:23:36.891Z"
   },
   {
    "duration": 5,
    "start_time": "2022-12-09T07:23:37.881Z"
   },
   {
    "duration": 16,
    "start_time": "2022-12-09T07:23:37.888Z"
   },
   {
    "duration": 13,
    "start_time": "2022-12-09T07:23:37.906Z"
   },
   {
    "duration": 64,
    "start_time": "2022-12-09T07:23:37.921Z"
   },
   {
    "duration": 5,
    "start_time": "2022-12-09T07:25:35.211Z"
   },
   {
    "duration": 6,
    "start_time": "2022-12-09T07:25:35.219Z"
   },
   {
    "duration": 60,
    "start_time": "2022-12-09T07:25:35.227Z"
   },
   {
    "duration": 14,
    "start_time": "2022-12-09T07:25:35.288Z"
   },
   {
    "duration": 22,
    "start_time": "2022-12-09T07:25:35.306Z"
   },
   {
    "duration": 28,
    "start_time": "2022-12-09T07:25:35.331Z"
   },
   {
    "duration": 44,
    "start_time": "2022-12-09T07:25:35.363Z"
   },
   {
    "duration": 3,
    "start_time": "2022-12-09T07:25:35.409Z"
   },
   {
    "duration": 13,
    "start_time": "2022-12-09T07:25:35.414Z"
   },
   {
    "duration": 13,
    "start_time": "2022-12-09T07:25:35.429Z"
   },
   {
    "duration": 24,
    "start_time": "2022-12-09T07:25:35.450Z"
   },
   {
    "duration": 18,
    "start_time": "2022-12-09T07:25:35.476Z"
   },
   {
    "duration": 30,
    "start_time": "2022-12-09T07:25:35.496Z"
   },
   {
    "duration": 29,
    "start_time": "2022-12-09T07:25:35.530Z"
   },
   {
    "duration": 17,
    "start_time": "2022-12-09T07:25:35.566Z"
   },
   {
    "duration": 8,
    "start_time": "2022-12-09T07:25:35.585Z"
   },
   {
    "duration": 8,
    "start_time": "2022-12-09T07:25:35.595Z"
   },
   {
    "duration": 12,
    "start_time": "2022-12-09T07:25:35.604Z"
   },
   {
    "duration": 13,
    "start_time": "2022-12-09T07:25:35.618Z"
   },
   {
    "duration": 34,
    "start_time": "2022-12-09T07:25:35.633Z"
   },
   {
    "duration": 11,
    "start_time": "2022-12-09T07:25:35.670Z"
   },
   {
    "duration": 17,
    "start_time": "2022-12-09T07:25:35.682Z"
   },
   {
    "duration": 16,
    "start_time": "2022-12-09T07:25:35.701Z"
   },
   {
    "duration": 6,
    "start_time": "2022-12-09T07:25:35.719Z"
   },
   {
    "duration": 10,
    "start_time": "2022-12-09T07:25:35.726Z"
   },
   {
    "duration": 1504,
    "start_time": "2022-12-09T07:25:35.737Z"
   },
   {
    "duration": 11,
    "start_time": "2022-12-09T07:25:37.243Z"
   },
   {
    "duration": 1388,
    "start_time": "2022-12-09T07:25:37.256Z"
   },
   {
    "duration": 1021,
    "start_time": "2022-12-09T07:25:38.650Z"
   },
   {
    "duration": 9,
    "start_time": "2022-12-09T07:25:39.675Z"
   },
   {
    "duration": 51,
    "start_time": "2022-12-09T07:25:39.686Z"
   },
   {
    "duration": 57,
    "start_time": "2022-12-09T07:25:39.739Z"
   },
   {
    "duration": 43,
    "start_time": "2022-12-09T07:25:39.799Z"
   },
   {
    "duration": 93,
    "start_time": "2022-12-09T07:25:39.844Z"
   },
   {
    "duration": 6,
    "start_time": "2022-12-09T07:25:39.939Z"
   },
   {
    "duration": 245,
    "start_time": "2022-12-09T07:25:39.946Z"
   },
   {
    "duration": 0,
    "start_time": "2022-12-09T07:25:40.197Z"
   },
   {
    "duration": 0,
    "start_time": "2022-12-09T07:25:40.198Z"
   },
   {
    "duration": 0,
    "start_time": "2022-12-09T07:25:40.200Z"
   },
   {
    "duration": 0,
    "start_time": "2022-12-09T07:25:40.201Z"
   },
   {
    "duration": 0,
    "start_time": "2022-12-09T07:25:40.203Z"
   },
   {
    "duration": 0,
    "start_time": "2022-12-09T07:25:40.205Z"
   },
   {
    "duration": 0,
    "start_time": "2022-12-09T07:25:40.206Z"
   },
   {
    "duration": 0,
    "start_time": "2022-12-09T07:25:40.209Z"
   },
   {
    "duration": 0,
    "start_time": "2022-12-09T07:25:40.210Z"
   },
   {
    "duration": 0,
    "start_time": "2022-12-09T07:25:40.212Z"
   },
   {
    "duration": 0,
    "start_time": "2022-12-09T07:25:40.214Z"
   },
   {
    "duration": 0,
    "start_time": "2022-12-09T07:25:40.216Z"
   },
   {
    "duration": 0,
    "start_time": "2022-12-09T07:25:40.218Z"
   },
   {
    "duration": 0,
    "start_time": "2022-12-09T07:25:40.220Z"
   },
   {
    "duration": 0,
    "start_time": "2022-12-09T07:25:40.250Z"
   },
   {
    "duration": 0,
    "start_time": "2022-12-09T07:25:40.251Z"
   },
   {
    "duration": 0,
    "start_time": "2022-12-09T07:25:40.252Z"
   },
   {
    "duration": 0,
    "start_time": "2022-12-09T07:25:40.253Z"
   },
   {
    "duration": 0,
    "start_time": "2022-12-09T07:25:40.254Z"
   },
   {
    "duration": 0,
    "start_time": "2022-12-09T07:25:40.255Z"
   },
   {
    "duration": 0,
    "start_time": "2022-12-09T07:25:40.256Z"
   },
   {
    "duration": 0,
    "start_time": "2022-12-09T07:25:40.257Z"
   },
   {
    "duration": 0,
    "start_time": "2022-12-09T07:25:40.258Z"
   },
   {
    "duration": 0,
    "start_time": "2022-12-09T07:25:40.259Z"
   },
   {
    "duration": 0,
    "start_time": "2022-12-09T07:25:40.260Z"
   },
   {
    "duration": 0,
    "start_time": "2022-12-09T07:25:40.261Z"
   },
   {
    "duration": 0,
    "start_time": "2022-12-09T07:25:40.262Z"
   },
   {
    "duration": 0,
    "start_time": "2022-12-09T07:25:40.263Z"
   },
   {
    "duration": 0,
    "start_time": "2022-12-09T07:25:40.264Z"
   },
   {
    "duration": 0,
    "start_time": "2022-12-09T07:25:40.265Z"
   },
   {
    "duration": 0,
    "start_time": "2022-12-09T07:25:40.267Z"
   },
   {
    "duration": 0,
    "start_time": "2022-12-09T07:25:40.267Z"
   },
   {
    "duration": 1905,
    "start_time": "2022-12-09T07:27:48.747Z"
   },
   {
    "duration": 3,
    "start_time": "2022-12-09T07:27:50.654Z"
   },
   {
    "duration": 72,
    "start_time": "2022-12-09T07:27:50.664Z"
   },
   {
    "duration": 22,
    "start_time": "2022-12-09T07:27:50.738Z"
   },
   {
    "duration": 47,
    "start_time": "2022-12-09T07:27:50.762Z"
   },
   {
    "duration": 17,
    "start_time": "2022-12-09T07:27:50.811Z"
   },
   {
    "duration": 59,
    "start_time": "2022-12-09T07:27:50.830Z"
   },
   {
    "duration": 4,
    "start_time": "2022-12-09T07:27:50.891Z"
   },
   {
    "duration": 8,
    "start_time": "2022-12-09T07:27:50.897Z"
   },
   {
    "duration": 9,
    "start_time": "2022-12-09T07:27:50.908Z"
   },
   {
    "duration": 20,
    "start_time": "2022-12-09T07:27:50.919Z"
   },
   {
    "duration": 29,
    "start_time": "2022-12-09T07:27:50.941Z"
   },
   {
    "duration": 38,
    "start_time": "2022-12-09T07:27:50.972Z"
   },
   {
    "duration": 14,
    "start_time": "2022-12-09T07:27:51.012Z"
   },
   {
    "duration": 19,
    "start_time": "2022-12-09T07:27:51.028Z"
   },
   {
    "duration": 16,
    "start_time": "2022-12-09T07:27:51.049Z"
   },
   {
    "duration": 27,
    "start_time": "2022-12-09T07:27:51.067Z"
   },
   {
    "duration": 19,
    "start_time": "2022-12-09T07:27:51.096Z"
   },
   {
    "duration": 23,
    "start_time": "2022-12-09T07:27:51.117Z"
   },
   {
    "duration": 43,
    "start_time": "2022-12-09T07:27:51.142Z"
   },
   {
    "duration": 17,
    "start_time": "2022-12-09T07:27:51.188Z"
   },
   {
    "duration": 30,
    "start_time": "2022-12-09T07:27:51.207Z"
   },
   {
    "duration": 58,
    "start_time": "2022-12-09T07:27:51.239Z"
   },
   {
    "duration": 6,
    "start_time": "2022-12-09T07:27:51.299Z"
   },
   {
    "duration": 10,
    "start_time": "2022-12-09T07:27:51.306Z"
   },
   {
    "duration": 1683,
    "start_time": "2022-12-09T07:27:51.317Z"
   },
   {
    "duration": 4,
    "start_time": "2022-12-09T07:27:53.002Z"
   },
   {
    "duration": 1474,
    "start_time": "2022-12-09T07:27:53.012Z"
   },
   {
    "duration": 1036,
    "start_time": "2022-12-09T07:27:54.488Z"
   },
   {
    "duration": 5,
    "start_time": "2022-12-09T07:27:55.526Z"
   },
   {
    "duration": 53,
    "start_time": "2022-12-09T07:27:55.534Z"
   },
   {
    "duration": 14,
    "start_time": "2022-12-09T07:27:55.589Z"
   },
   {
    "duration": 143,
    "start_time": "2022-12-09T07:27:55.605Z"
   },
   {
    "duration": 46,
    "start_time": "2022-12-09T07:27:55.749Z"
   },
   {
    "duration": 4,
    "start_time": "2022-12-09T07:27:55.797Z"
   },
   {
    "duration": 196,
    "start_time": "2022-12-09T07:27:55.803Z"
   },
   {
    "duration": 0,
    "start_time": "2022-12-09T07:27:56.000Z"
   },
   {
    "duration": 0,
    "start_time": "2022-12-09T07:27:56.002Z"
   },
   {
    "duration": 0,
    "start_time": "2022-12-09T07:27:56.003Z"
   },
   {
    "duration": 0,
    "start_time": "2022-12-09T07:27:56.004Z"
   },
   {
    "duration": 0,
    "start_time": "2022-12-09T07:27:56.005Z"
   },
   {
    "duration": 0,
    "start_time": "2022-12-09T07:27:56.006Z"
   },
   {
    "duration": 0,
    "start_time": "2022-12-09T07:27:56.007Z"
   },
   {
    "duration": 0,
    "start_time": "2022-12-09T07:27:56.008Z"
   },
   {
    "duration": 0,
    "start_time": "2022-12-09T07:27:56.009Z"
   },
   {
    "duration": 0,
    "start_time": "2022-12-09T07:27:56.010Z"
   },
   {
    "duration": 0,
    "start_time": "2022-12-09T07:27:56.012Z"
   },
   {
    "duration": 0,
    "start_time": "2022-12-09T07:27:56.013Z"
   },
   {
    "duration": 0,
    "start_time": "2022-12-09T07:27:56.014Z"
   },
   {
    "duration": 0,
    "start_time": "2022-12-09T07:27:56.016Z"
   },
   {
    "duration": 0,
    "start_time": "2022-12-09T07:27:56.017Z"
   },
   {
    "duration": 0,
    "start_time": "2022-12-09T07:27:56.018Z"
   },
   {
    "duration": 0,
    "start_time": "2022-12-09T07:27:56.019Z"
   },
   {
    "duration": 0,
    "start_time": "2022-12-09T07:27:56.056Z"
   },
   {
    "duration": 0,
    "start_time": "2022-12-09T07:27:56.057Z"
   },
   {
    "duration": 0,
    "start_time": "2022-12-09T07:27:56.058Z"
   },
   {
    "duration": 0,
    "start_time": "2022-12-09T07:27:56.059Z"
   },
   {
    "duration": 0,
    "start_time": "2022-12-09T07:27:56.062Z"
   },
   {
    "duration": 0,
    "start_time": "2022-12-09T07:27:56.064Z"
   },
   {
    "duration": 0,
    "start_time": "2022-12-09T07:27:56.068Z"
   },
   {
    "duration": 0,
    "start_time": "2022-12-09T07:27:56.069Z"
   },
   {
    "duration": 0,
    "start_time": "2022-12-09T07:27:56.070Z"
   },
   {
    "duration": 0,
    "start_time": "2022-12-09T07:27:56.071Z"
   },
   {
    "duration": 0,
    "start_time": "2022-12-09T07:27:56.074Z"
   },
   {
    "duration": 0,
    "start_time": "2022-12-09T07:27:56.075Z"
   },
   {
    "duration": 0,
    "start_time": "2022-12-09T07:27:56.077Z"
   },
   {
    "duration": 0,
    "start_time": "2022-12-09T07:27:56.078Z"
   },
   {
    "duration": 0,
    "start_time": "2022-12-09T07:27:56.080Z"
   },
   {
    "duration": 0,
    "start_time": "2022-12-09T07:27:56.083Z"
   },
   {
    "duration": 0,
    "start_time": "2022-12-09T07:27:56.084Z"
   },
   {
    "duration": 0,
    "start_time": "2022-12-09T07:27:56.086Z"
   },
   {
    "duration": 11,
    "start_time": "2022-12-09T07:30:42.383Z"
   },
   {
    "duration": 5,
    "start_time": "2022-12-09T07:31:44.402Z"
   },
   {
    "duration": 3,
    "start_time": "2022-12-09T07:31:46.614Z"
   },
   {
    "duration": 55,
    "start_time": "2022-12-09T07:31:48.535Z"
   },
   {
    "duration": 21,
    "start_time": "2022-12-09T07:31:50.945Z"
   },
   {
    "duration": 13,
    "start_time": "2022-12-09T07:31:56.022Z"
   },
   {
    "duration": 13,
    "start_time": "2022-12-09T07:31:57.426Z"
   },
   {
    "duration": 43,
    "start_time": "2022-12-09T07:32:02.094Z"
   },
   {
    "duration": 4,
    "start_time": "2022-12-09T07:32:06.128Z"
   },
   {
    "duration": 5,
    "start_time": "2022-12-09T07:32:08.311Z"
   },
   {
    "duration": 5,
    "start_time": "2022-12-09T07:32:10.066Z"
   },
   {
    "duration": 13,
    "start_time": "2022-12-09T07:32:13.934Z"
   },
   {
    "duration": 14,
    "start_time": "2022-12-09T07:32:17.577Z"
   },
   {
    "duration": 18,
    "start_time": "2022-12-09T07:32:19.695Z"
   },
   {
    "duration": 9,
    "start_time": "2022-12-09T07:32:26.199Z"
   },
   {
    "duration": 21,
    "start_time": "2022-12-09T07:32:29.724Z"
   },
   {
    "duration": 10,
    "start_time": "2022-12-09T07:33:02.912Z"
   },
   {
    "duration": 9,
    "start_time": "2022-12-09T07:33:03.992Z"
   },
   {
    "duration": 8,
    "start_time": "2022-12-09T07:33:07.727Z"
   },
   {
    "duration": 9,
    "start_time": "2022-12-09T07:33:08.698Z"
   },
   {
    "duration": 9,
    "start_time": "2022-12-09T07:33:12.673Z"
   },
   {
    "duration": 12,
    "start_time": "2022-12-09T07:33:14.160Z"
   },
   {
    "duration": 8,
    "start_time": "2022-12-09T07:33:16.698Z"
   },
   {
    "duration": 19,
    "start_time": "2022-12-09T07:33:19.869Z"
   },
   {
    "duration": 5,
    "start_time": "2022-12-09T07:33:28.230Z"
   },
   {
    "duration": 5,
    "start_time": "2022-12-09T07:33:33.648Z"
   },
   {
    "duration": 1495,
    "start_time": "2022-12-09T07:33:35.472Z"
   },
   {
    "duration": 7,
    "start_time": "2022-12-09T07:33:40.120Z"
   },
   {
    "duration": 1478,
    "start_time": "2022-12-09T07:33:45.104Z"
   },
   {
    "duration": 985,
    "start_time": "2022-12-09T07:33:51.971Z"
   },
   {
    "duration": 5,
    "start_time": "2022-12-09T07:34:00.779Z"
   },
   {
    "duration": 8,
    "start_time": "2022-12-09T07:34:25.078Z"
   },
   {
    "duration": 14,
    "start_time": "2022-12-09T07:34:37.709Z"
   },
   {
    "duration": 13,
    "start_time": "2022-12-09T07:34:43.995Z"
   },
   {
    "duration": 25,
    "start_time": "2022-12-09T07:34:52.465Z"
   },
   {
    "duration": 57,
    "start_time": "2022-12-09T07:34:55.643Z"
   },
   {
    "duration": 13,
    "start_time": "2022-12-09T07:35:09.704Z"
   },
   {
    "duration": 15,
    "start_time": "2022-12-09T07:35:21.779Z"
   },
   {
    "duration": 7,
    "start_time": "2022-12-09T07:35:25.697Z"
   },
   {
    "duration": 7,
    "start_time": "2022-12-09T07:35:27.179Z"
   },
   {
    "duration": 14,
    "start_time": "2022-12-09T07:35:28.926Z"
   },
   {
    "duration": 13,
    "start_time": "2022-12-09T07:35:31.594Z"
   },
   {
    "duration": 28,
    "start_time": "2022-12-09T07:35:39.120Z"
   },
   {
    "duration": 13,
    "start_time": "2022-12-09T07:36:08.073Z"
   },
   {
    "duration": 8,
    "start_time": "2022-12-09T07:41:28.357Z"
   },
   {
    "duration": 21,
    "start_time": "2022-12-09T07:52:06.383Z"
   },
   {
    "duration": 11,
    "start_time": "2022-12-09T07:52:08.489Z"
   },
   {
    "duration": 17,
    "start_time": "2022-12-09T07:52:21.628Z"
   },
   {
    "duration": 12,
    "start_time": "2022-12-09T07:52:23.473Z"
   },
   {
    "duration": 24,
    "start_time": "2022-12-09T07:53:12.441Z"
   },
   {
    "duration": 13,
    "start_time": "2022-12-09T07:53:14.231Z"
   },
   {
    "duration": 6,
    "start_time": "2022-12-09T07:53:38.582Z"
   },
   {
    "duration": 12,
    "start_time": "2022-12-09T07:53:38.591Z"
   },
   {
    "duration": 53,
    "start_time": "2022-12-09T07:53:38.605Z"
   },
   {
    "duration": 20,
    "start_time": "2022-12-09T07:53:38.664Z"
   },
   {
    "duration": 17,
    "start_time": "2022-12-09T07:53:38.686Z"
   },
   {
    "duration": 19,
    "start_time": "2022-12-09T07:53:38.706Z"
   },
   {
    "duration": 75,
    "start_time": "2022-12-09T07:53:38.727Z"
   },
   {
    "duration": 4,
    "start_time": "2022-12-09T07:53:38.804Z"
   },
   {
    "duration": 7,
    "start_time": "2022-12-09T07:53:38.812Z"
   },
   {
    "duration": 10,
    "start_time": "2022-12-09T07:53:38.821Z"
   },
   {
    "duration": 41,
    "start_time": "2022-12-09T07:53:38.833Z"
   },
   {
    "duration": 16,
    "start_time": "2022-12-09T07:53:38.876Z"
   },
   {
    "duration": 17,
    "start_time": "2022-12-09T07:53:38.894Z"
   },
   {
    "duration": 9,
    "start_time": "2022-12-09T07:53:38.912Z"
   },
   {
    "duration": 44,
    "start_time": "2022-12-09T07:53:38.923Z"
   },
   {
    "duration": 16,
    "start_time": "2022-12-09T07:53:38.969Z"
   },
   {
    "duration": 12,
    "start_time": "2022-12-09T07:53:38.987Z"
   },
   {
    "duration": 13,
    "start_time": "2022-12-09T07:53:39.001Z"
   },
   {
    "duration": 11,
    "start_time": "2022-12-09T07:53:39.016Z"
   },
   {
    "duration": 39,
    "start_time": "2022-12-09T07:53:39.028Z"
   },
   {
    "duration": 19,
    "start_time": "2022-12-09T07:53:39.069Z"
   },
   {
    "duration": 11,
    "start_time": "2022-12-09T07:53:39.090Z"
   },
   {
    "duration": 14,
    "start_time": "2022-12-09T07:53:39.103Z"
   },
   {
    "duration": 6,
    "start_time": "2022-12-09T07:53:39.120Z"
   },
   {
    "duration": 8,
    "start_time": "2022-12-09T07:53:39.127Z"
   },
   {
    "duration": 1850,
    "start_time": "2022-12-09T07:53:39.152Z"
   },
   {
    "duration": 4,
    "start_time": "2022-12-09T07:53:41.004Z"
   },
   {
    "duration": 1399,
    "start_time": "2022-12-09T07:53:41.010Z"
   },
   {
    "duration": 988,
    "start_time": "2022-12-09T07:53:42.411Z"
   },
   {
    "duration": 5,
    "start_time": "2022-12-09T07:53:43.401Z"
   },
   {
    "duration": 9,
    "start_time": "2022-12-09T07:53:43.408Z"
   },
   {
    "duration": 14,
    "start_time": "2022-12-09T07:53:43.419Z"
   },
   {
    "duration": 13,
    "start_time": "2022-12-09T07:53:43.453Z"
   },
   {
    "duration": 34,
    "start_time": "2022-12-09T07:53:43.470Z"
   },
   {
    "duration": 11,
    "start_time": "2022-12-09T07:53:43.506Z"
   },
   {
    "duration": 5,
    "start_time": "2022-12-09T07:53:43.519Z"
   },
   {
    "duration": 1565,
    "start_time": "2022-12-09T07:59:49.569Z"
   },
   {
    "duration": 3,
    "start_time": "2022-12-09T07:59:51.136Z"
   },
   {
    "duration": 59,
    "start_time": "2022-12-09T07:59:51.141Z"
   },
   {
    "duration": 18,
    "start_time": "2022-12-09T07:59:51.202Z"
   },
   {
    "duration": 13,
    "start_time": "2022-12-09T07:59:51.221Z"
   },
   {
    "duration": 29,
    "start_time": "2022-12-09T07:59:51.236Z"
   },
   {
    "duration": 47,
    "start_time": "2022-12-09T07:59:51.267Z"
   },
   {
    "duration": 3,
    "start_time": "2022-12-09T07:59:51.316Z"
   },
   {
    "duration": 12,
    "start_time": "2022-12-09T07:59:51.321Z"
   },
   {
    "duration": 9,
    "start_time": "2022-12-09T07:59:51.336Z"
   },
   {
    "duration": 22,
    "start_time": "2022-12-09T07:59:51.350Z"
   },
   {
    "duration": 18,
    "start_time": "2022-12-09T07:59:51.374Z"
   },
   {
    "duration": 17,
    "start_time": "2022-12-09T07:59:51.394Z"
   },
   {
    "duration": 8,
    "start_time": "2022-12-09T07:59:51.412Z"
   },
   {
    "duration": 46,
    "start_time": "2022-12-09T07:59:51.421Z"
   },
   {
    "duration": 10,
    "start_time": "2022-12-09T07:59:51.468Z"
   },
   {
    "duration": 9,
    "start_time": "2022-12-09T07:59:51.480Z"
   },
   {
    "duration": 17,
    "start_time": "2022-12-09T07:59:51.491Z"
   },
   {
    "duration": 19,
    "start_time": "2022-12-09T07:59:51.510Z"
   },
   {
    "duration": 11,
    "start_time": "2022-12-09T07:59:51.530Z"
   },
   {
    "duration": 10,
    "start_time": "2022-12-09T07:59:51.555Z"
   },
   {
    "duration": 13,
    "start_time": "2022-12-09T07:59:51.568Z"
   },
   {
    "duration": 15,
    "start_time": "2022-12-09T07:59:51.582Z"
   },
   {
    "duration": 8,
    "start_time": "2022-12-09T07:59:51.598Z"
   },
   {
    "duration": 11,
    "start_time": "2022-12-09T07:59:51.607Z"
   },
   {
    "duration": 1527,
    "start_time": "2022-12-09T07:59:51.620Z"
   },
   {
    "duration": 8,
    "start_time": "2022-12-09T07:59:53.149Z"
   },
   {
    "duration": 1364,
    "start_time": "2022-12-09T07:59:53.166Z"
   },
   {
    "duration": 1016,
    "start_time": "2022-12-09T07:59:54.532Z"
   },
   {
    "duration": 11,
    "start_time": "2022-12-09T07:59:55.550Z"
   },
   {
    "duration": 10,
    "start_time": "2022-12-09T07:59:55.566Z"
   },
   {
    "duration": 16,
    "start_time": "2022-12-09T07:59:55.577Z"
   },
   {
    "duration": 10,
    "start_time": "2022-12-09T07:59:55.595Z"
   },
   {
    "duration": 158,
    "start_time": "2022-12-09T07:59:55.607Z"
   },
   {
    "duration": 28,
    "start_time": "2022-12-09T07:59:55.767Z"
   },
   {
    "duration": 10,
    "start_time": "2022-12-09T07:59:55.797Z"
   },
   {
    "duration": 7,
    "start_time": "2022-12-09T07:59:55.809Z"
   },
   {
    "duration": 1418,
    "start_time": "2022-12-09T07:59:55.818Z"
   },
   {
    "duration": 165,
    "start_time": "2022-12-09T07:59:57.238Z"
   },
   {
    "duration": 100979,
    "start_time": "2022-12-09T07:59:57.405Z"
   },
   {
    "duration": 189,
    "start_time": "2022-12-09T08:01:38.386Z"
   },
   {
    "duration": 409,
    "start_time": "2022-12-09T08:01:38.576Z"
   },
   {
    "duration": 403,
    "start_time": "2022-12-09T08:01:39.076Z"
   },
   {
    "duration": 1524,
    "start_time": "2022-12-09T08:01:39.481Z"
   },
   {
    "duration": 160,
    "start_time": "2022-12-09T08:01:41.008Z"
   },
   {
    "duration": 109473,
    "start_time": "2022-12-09T08:01:41.170Z"
   },
   {
    "duration": 178,
    "start_time": "2022-12-09T08:03:30.651Z"
   },
   {
    "duration": 330,
    "start_time": "2022-12-09T08:03:30.831Z"
   },
   {
    "duration": 331,
    "start_time": "2022-12-09T08:03:31.165Z"
   },
   {
    "duration": 5,
    "start_time": "2022-12-09T08:03:31.498Z"
   },
   {
    "duration": 32,
    "start_time": "2022-12-09T08:03:31.505Z"
   },
   {
    "duration": 1868,
    "start_time": "2022-12-09T08:03:31.539Z"
   },
   {
    "duration": 166,
    "start_time": "2022-12-09T08:03:33.408Z"
   },
   {
    "duration": 141598,
    "start_time": "2022-12-09T08:03:33.576Z"
   },
   {
    "duration": 194,
    "start_time": "2022-12-09T08:05:55.175Z"
   },
   {
    "duration": 34,
    "start_time": "2022-12-09T08:05:55.371Z"
   },
   {
    "duration": 325,
    "start_time": "2022-12-09T08:05:55.452Z"
   },
   {
    "duration": 6,
    "start_time": "2022-12-09T08:05:55.779Z"
   },
   {
    "duration": 18,
    "start_time": "2022-12-09T08:05:55.787Z"
   },
   {
    "duration": 738,
    "start_time": "2022-12-09T08:05:55.807Z"
   },
   {
    "duration": 177,
    "start_time": "2022-12-09T08:05:56.550Z"
   },
   {
    "duration": 61508,
    "start_time": "2022-12-09T08:05:56.729Z"
   },
   {
    "duration": 186,
    "start_time": "2022-12-09T08:06:58.239Z"
   },
   {
    "duration": 30,
    "start_time": "2022-12-09T08:06:58.427Z"
   },
   {
    "duration": 331,
    "start_time": "2022-12-09T08:06:58.459Z"
   },
   {
    "duration": 208,
    "start_time": "2022-12-09T08:06:58.792Z"
   },
   {
    "duration": 301,
    "start_time": "2022-12-09T08:06:59.002Z"
   },
   {
    "duration": 543,
    "start_time": "2022-12-09T08:06:59.305Z"
   },
   {
    "duration": 189,
    "start_time": "2022-12-09T08:06:59.851Z"
   },
   {
    "duration": 258,
    "start_time": "2022-12-09T08:07:00.042Z"
   },
   {
    "duration": 312,
    "start_time": "2022-12-09T08:07:00.302Z"
   },
   {
    "duration": 390,
    "start_time": "2022-12-09T08:07:00.616Z"
   },
   {
    "duration": 189,
    "start_time": "2022-12-09T08:07:01.009Z"
   },
   {
    "duration": 0,
    "start_time": "2022-12-09T08:07:01.200Z"
   },
   {
    "duration": 172,
    "start_time": "2022-12-09T08:08:43.225Z"
   }
  ],
  "kernelspec": {
   "display_name": "Python 3 (ipykernel)",
   "language": "python",
   "name": "python3"
  },
  "language_info": {
   "codemirror_mode": {
    "name": "ipython",
    "version": 3
   },
   "file_extension": ".py",
   "mimetype": "text/x-python",
   "name": "python",
   "nbconvert_exporter": "python",
   "pygments_lexer": "ipython3",
   "version": "3.9.12"
  },
  "toc": {
   "base_numbering": 1,
   "nav_menu": {},
   "number_sections": true,
   "sideBar": true,
   "skip_h1_title": true,
   "title_cell": "Содержание",
   "title_sidebar": "Contents",
   "toc_cell": true,
   "toc_position": {
    "height": "calc(100% - 180px)",
    "left": "10px",
    "top": "150px",
    "width": "366.188px"
   },
   "toc_section_display": true,
   "toc_window_display": true
  }
 },
 "nbformat": 4,
 "nbformat_minor": 2
}
