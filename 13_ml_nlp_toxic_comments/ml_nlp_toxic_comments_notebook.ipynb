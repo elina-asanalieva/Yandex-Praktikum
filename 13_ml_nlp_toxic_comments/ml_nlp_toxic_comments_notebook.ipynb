{
 "cells": [
  {
   "cell_type": "markdown",
   "metadata": {
    "id": "uh1qBEU7QGrg"
   },
   "source": [
    "# Проект для «Викишоп»"
   ]
  },
  {
   "cell_type": "markdown",
   "metadata": {
    "id": "QkptlWJPQGrh"
   },
   "source": [
    "Интернет-магазин «Викишоп» запускает новый сервис. Теперь пользователи могут редактировать и дополнять описания товаров, как в вики-сообществах. То есть клиенты предлагают свои правки и комментируют изменения других. Магазину нужен инструмент, который будет искать токсичные комментарии и отправлять их на модерацию. \n",
    "\n",
    "Обучите модель классифицировать комментарии на позитивные и негативные. В вашем распоряжении набор данных с разметкой о токсичности правок.\n",
    "\n",
    "Постройте модель со значением метрики качества *F1* не меньше 0.75. \n",
    "\n",
    "**Инструкция по выполнению проекта**\n",
    "\n",
    "1. Загрузите и подготовьте данные.\n",
    "2. Обучите разные модели. \n",
    "3. Сделайте выводы.\n",
    "\n",
    "Для выполнения проекта применять *BERT* необязательно, но вы можете попробовать.\n",
    "\n",
    "**Описание данных**\n",
    "\n",
    "Данные находятся в файле `toxic_comments.csv`. Столбец *text* в нём содержит текст комментария, а *toxic* — целевой признак."
   ]
  },
  {
   "cell_type": "markdown",
   "metadata": {
    "toc": true
   },
   "source": [
    "<h1>Содержание<span class=\"tocSkip\"></span></h1>\n",
    "<div class=\"toc\"><ul class=\"toc-item\"><li><span><a href=\"#Подготовка\" data-toc-modified-id=\"Подготовка-1\"><span class=\"toc-item-num\">1&nbsp;&nbsp;</span>Подготовка</a></span></li><li><span><a href=\"#Обучение\" data-toc-modified-id=\"Обучение-2\"><span class=\"toc-item-num\">2&nbsp;&nbsp;</span>Обучение</a></span></li><li><span><a href=\"#Выводы\" data-toc-modified-id=\"Выводы-3\"><span class=\"toc-item-num\">3&nbsp;&nbsp;</span>Выводы</a></span></li><li><span><a href=\"#Чек-лист-проверки\" data-toc-modified-id=\"Чек-лист-проверки-4\"><span class=\"toc-item-num\">4&nbsp;&nbsp;</span>Чек-лист проверки</a></span></li></ul></div>"
   ]
  },
  {
   "cell_type": "markdown",
   "metadata": {
    "id": "s-_WMU-RQGrh"
   },
   "source": [
    "## Подготовка"
   ]
  },
  {
   "cell_type": "markdown",
   "metadata": {
    "id": "UIJFtmsFQGrh"
   },
   "source": [
    "Подгружаю необходимые библиотеки и открываю файл с данными."
   ]
  },
  {
   "cell_type": "code",
   "execution_count": 1,
   "metadata": {
    "colab": {
     "base_uri": "https://localhost:8080/"
    },
    "id": "8BRBo9rdTzeJ",
    "outputId": "d2f40e03-be94-48d9-be1c-98734a201003",
    "scrolled": true
   },
   "outputs": [],
   "source": [
    "!pip install -q --upgrade gdown"
   ]
  },
  {
   "cell_type": "code",
   "execution_count": 2,
   "metadata": {
    "id": "oC8D_8KnQGrh"
   },
   "outputs": [],
   "source": [
    "import pandas as pd\n",
    "import numpy as np\n",
    "import matplotlib.pyplot as plt\n",
    "\n",
    "import nltk\n",
    "from nltk.corpus import stopwords as nltk_stopwords\n",
    "from nltk.corpus import wordnet\n",
    "from nltk.tokenize import word_tokenize\n",
    "from nltk.stem import WordNetLemmatizer\n",
    "import re\n",
    "\n",
    "from sklearn.model_selection import train_test_split, RandomizedSearchCV, KFold\n",
    "from sklearn.pipeline import Pipeline\n",
    "from sklearn.feature_extraction.text import TfidfVectorizer\n",
    "from sklearn.metrics import f1_score\n",
    "\n",
    "from sklearn.linear_model import LogisticRegression\n",
    "from sklearn.tree import DecisionTreeClassifier\n",
    "from sklearn.ensemble import RandomForestClassifier\n",
    "from lightgbm import LGBMClassifier\n",
    "\n",
    "from tqdm.notebook import tqdm\n",
    "tqdm.pandas()\n",
    "\n",
    "import warnings\n",
    "warnings.filterwarnings('ignore')"
   ]
  },
  {
   "cell_type": "code",
   "execution_count": 3,
   "metadata": {
    "colab": {
     "base_uri": "https://localhost:8080/"
    },
    "id": "IpWb9Ct0QGri",
    "outputId": "9e202610-72b8-4b12-b95d-4f645b42b4c5"
   },
   "outputs": [
    {
     "name": "stderr",
     "output_type": "stream",
     "text": [
      "[nltk_data] Downloading package stopwords to /home/jovyan/nltk_data...\n",
      "[nltk_data]   Package stopwords is already up-to-date!\n",
      "[nltk_data] Downloading package punkt to /home/jovyan/nltk_data...\n",
      "[nltk_data]   Package punkt is already up-to-date!\n",
      "[nltk_data] Downloading package wordnet to /home/jovyan/nltk_data...\n",
      "[nltk_data]   Package wordnet is already up-to-date!\n",
      "[nltk_data] Downloading package omw-1.4 to /home/jovyan/nltk_data...\n",
      "[nltk_data]   Package omw-1.4 is already up-to-date!\n",
      "[nltk_data] Downloading package averaged_perceptron_tagger to\n",
      "[nltk_data]     /home/jovyan/nltk_data...\n",
      "[nltk_data]   Package averaged_perceptron_tagger is already up-to-\n",
      "[nltk_data]       date!\n"
     ]
    },
    {
     "data": {
      "text/plain": [
       "True"
      ]
     },
     "execution_count": 3,
     "metadata": {},
     "output_type": "execute_result"
    }
   ],
   "source": [
    "nltk.download('stopwords')\n",
    "nltk.download('punkt')\n",
    "nltk.download('wordnet')\n",
    "nltk.download('omw-1.4')\n",
    "nltk.download('averaged_perceptron_tagger')"
   ]
  },
  {
   "cell_type": "code",
   "execution_count": 4,
   "metadata": {},
   "outputs": [
    {
     "name": "stdout",
     "output_type": "stream",
     "text": [
      "lightgbm                          3.3.1\r\n"
     ]
    }
   ],
   "source": [
    "!pip list |grep lightgbm"
   ]
  },
  {
   "cell_type": "code",
   "execution_count": 5,
   "metadata": {
    "colab": {
     "base_uri": "https://localhost:8080/",
     "height": 363
    },
    "id": "6ss4Gx5qQGri",
    "outputId": "8a6891c9-9058-479a-f253-9f48bf9c68ea"
   },
   "outputs": [
    {
     "data": {
      "text/html": [
       "<div>\n",
       "<style scoped>\n",
       "    .dataframe tbody tr th:only-of-type {\n",
       "        vertical-align: middle;\n",
       "    }\n",
       "\n",
       "    .dataframe tbody tr th {\n",
       "        vertical-align: top;\n",
       "    }\n",
       "\n",
       "    .dataframe thead th {\n",
       "        text-align: right;\n",
       "    }\n",
       "</style>\n",
       "<table border=\"1\" class=\"dataframe\">\n",
       "  <thead>\n",
       "    <tr style=\"text-align: right;\">\n",
       "      <th></th>\n",
       "      <th>text</th>\n",
       "      <th>toxic</th>\n",
       "    </tr>\n",
       "  </thead>\n",
       "  <tbody>\n",
       "    <tr>\n",
       "      <th>0</th>\n",
       "      <td>Explanation\\nWhy the edits made under my usern...</td>\n",
       "      <td>0</td>\n",
       "    </tr>\n",
       "    <tr>\n",
       "      <th>1</th>\n",
       "      <td>D'aww! He matches this background colour I'm s...</td>\n",
       "      <td>0</td>\n",
       "    </tr>\n",
       "    <tr>\n",
       "      <th>2</th>\n",
       "      <td>Hey man, I'm really not trying to edit war. It...</td>\n",
       "      <td>0</td>\n",
       "    </tr>\n",
       "    <tr>\n",
       "      <th>3</th>\n",
       "      <td>\"\\nMore\\nI can't make any real suggestions on ...</td>\n",
       "      <td>0</td>\n",
       "    </tr>\n",
       "    <tr>\n",
       "      <th>4</th>\n",
       "      <td>You, sir, are my hero. Any chance you remember...</td>\n",
       "      <td>0</td>\n",
       "    </tr>\n",
       "    <tr>\n",
       "      <th>5</th>\n",
       "      <td>\"\\n\\nCongratulations from me as well, use the ...</td>\n",
       "      <td>0</td>\n",
       "    </tr>\n",
       "    <tr>\n",
       "      <th>6</th>\n",
       "      <td>COCKSUCKER BEFORE YOU PISS AROUND ON MY WORK</td>\n",
       "      <td>1</td>\n",
       "    </tr>\n",
       "    <tr>\n",
       "      <th>7</th>\n",
       "      <td>Your vandalism to the Matt Shirvington article...</td>\n",
       "      <td>0</td>\n",
       "    </tr>\n",
       "    <tr>\n",
       "      <th>8</th>\n",
       "      <td>Sorry if the word 'nonsense' was offensive to ...</td>\n",
       "      <td>0</td>\n",
       "    </tr>\n",
       "    <tr>\n",
       "      <th>9</th>\n",
       "      <td>alignment on this subject and which are contra...</td>\n",
       "      <td>0</td>\n",
       "    </tr>\n",
       "  </tbody>\n",
       "</table>\n",
       "</div>"
      ],
      "text/plain": [
       "                                                text  toxic\n",
       "0  Explanation\\nWhy the edits made under my usern...      0\n",
       "1  D'aww! He matches this background colour I'm s...      0\n",
       "2  Hey man, I'm really not trying to edit war. It...      0\n",
       "3  \"\\nMore\\nI can't make any real suggestions on ...      0\n",
       "4  You, sir, are my hero. Any chance you remember...      0\n",
       "5  \"\\n\\nCongratulations from me as well, use the ...      0\n",
       "6       COCKSUCKER BEFORE YOU PISS AROUND ON MY WORK      1\n",
       "7  Your vandalism to the Matt Shirvington article...      0\n",
       "8  Sorry if the word 'nonsense' was offensive to ...      0\n",
       "9  alignment on this subject and which are contra...      0"
      ]
     },
     "execution_count": 5,
     "metadata": {},
     "output_type": "execute_result"
    }
   ],
   "source": [
    "try:\n",
    "    df = pd.read_csv('/datasets/toxic_comments.csv', index_col=0)\n",
    "except:\n",
    "    df = pd.read_csv('/content/toxic_comments.csv', index_col=0)\n",
    "\n",
    "df.head(10)"
   ]
  },
  {
   "cell_type": "markdown",
   "metadata": {
    "id": "u68KqyswQGrj"
   },
   "source": [
    "Теперь рассмотрю данные представленные в датасете."
   ]
  },
  {
   "cell_type": "code",
   "execution_count": 6,
   "metadata": {
    "colab": {
     "base_uri": "https://localhost:8080/"
    },
    "id": "RM_gQ7v8QGrj",
    "outputId": "94b5ac49-b7d0-4709-e31f-a701cc839de0"
   },
   "outputs": [
    {
     "name": "stdout",
     "output_type": "stream",
     "text": [
      "<class 'pandas.core.frame.DataFrame'>\n",
      "Int64Index: 159292 entries, 0 to 159450\n",
      "Data columns (total 2 columns):\n",
      " #   Column  Non-Null Count   Dtype \n",
      "---  ------  --------------   ----- \n",
      " 0   text    159292 non-null  object\n",
      " 1   toxic   159292 non-null  int64 \n",
      "dtypes: int64(1), object(1)\n",
      "memory usage: 3.6+ MB\n"
     ]
    }
   ],
   "source": [
    "df.info()"
   ]
  },
  {
   "cell_type": "code",
   "execution_count": 7,
   "metadata": {
    "colab": {
     "base_uri": "https://localhost:8080/"
    },
    "id": "gCbs1XlRQGrj",
    "outputId": "cb2361c0-fa11-48ff-8436-2bcd6f6dbb38",
    "scrolled": true
   },
   "outputs": [
    {
     "data": {
      "text/plain": [
       "text     0\n",
       "toxic    0\n",
       "dtype: int64"
      ]
     },
     "execution_count": 7,
     "metadata": {},
     "output_type": "execute_result"
    }
   ],
   "source": [
    "df.isna().sum()"
   ]
  },
  {
   "cell_type": "code",
   "execution_count": 8,
   "metadata": {
    "colab": {
     "base_uri": "https://localhost:8080/"
    },
    "id": "veS_z_2KQGrj",
    "outputId": "0c09df6c-ec62-416b-d4f1-6eb57d2df60a"
   },
   "outputs": [
    {
     "data": {
      "text/plain": [
       "0"
      ]
     },
     "execution_count": 8,
     "metadata": {},
     "output_type": "execute_result"
    }
   ],
   "source": [
    "df.duplicated().sum()"
   ]
  },
  {
   "cell_type": "code",
   "execution_count": 9,
   "metadata": {
    "colab": {
     "base_uri": "https://localhost:8080/",
     "height": 278
    },
    "id": "HaDX2Lq1QGrj",
    "outputId": "8d2666d0-795e-430d-bd1b-24bdd24550a6"
   },
   "outputs": [
    {
     "data": {
      "image/png": "[encoded data removed]",
      "text/plain": [
       "<Figure size 432x288 with 1 Axes>"
      ]
     },
     "metadata": {
      "needs_background": "light"
     },
     "output_type": "display_data"
    }
   ],
   "source": [
    "df['toxic'].value_counts().plot(kind='bar', label='toxic')\n",
    "plt.legend()\n",
    "plt.title('Распределение токсичных комментариев');\n",
    "plt.show()"
   ]
  },
  {
   "cell_type": "code",
   "execution_count": 10,
   "metadata": {
    "colab": {
     "base_uri": "https://localhost:8080/"
    },
    "id": "MsV0QRUIQGrj",
    "outputId": "e7b9870a-ae47-45e9-c4b6-abc2a9eaea61",
    "scrolled": true
   },
   "outputs": [
    {
     "name": "stdout",
     "output_type": "stream",
     "text": [
      "Процент объектов класса 1 к общему объёму датасета: 10.16%\n"
     ]
    }
   ],
   "source": [
    "print(f\"Процент объектов класса 1 к общему объёму датасета: {(sum(df['toxic']) / len(df) * 100):.2f}%\")"
   ]
  },
  {
   "cell_type": "markdown",
   "metadata": {
    "id": "9oKKpq7IQGrk"
   },
   "source": [
    "По результатам анализа видно, что отсутствуют пропуски в датасете и присутствует дисбаланс классов."
   ]
  },
  {
   "cell_type": "markdown",
   "metadata": {
    "id": "bBuJE0hVQGrk"
   },
   "source": [
    "Теперь создам функцию в которой приведу текст к нижнему регистру, очищу текст от лишних символов и лемматизирую его."
   ]
  },
  {
   "cell_type": "code",
   "execution_count": 11,
   "metadata": {
    "id": "QWpyAuVUQGrl"
   },
   "outputs": [],
   "source": [
    "stopwords = set(nltk_stopwords.words('english'))"
   ]
  },
  {
   "cell_type": "code",
   "execution_count": 12,
   "metadata": {
    "id": "bySRMwqOqha_"
   },
   "outputs": [],
   "source": [
    "def get_wordnet_pos(word):\n",
    "    tag = nltk.pos_tag([word])[0][1][0].upper()\n",
    "    tag_dict = {\"J\": wordnet.ADJ,\n",
    "                \"N\": wordnet.NOUN,\n",
    "                \"V\": wordnet.VERB,\n",
    "                \"R\": wordnet.ADV}\n",
    "    return tag_dict.get(tag, wordnet.NOUN)"
   ]
  },
  {
   "cell_type": "code",
   "execution_count": 13,
   "metadata": {
    "id": "_7P_NCKGQGrk"
   },
   "outputs": [],
   "source": [
    "lemmatizer = WordNetLemmatizer()\n",
    "def lemm_text(text):\n",
    "    text = re.sub(r'[^a-zA-z ]', ' ', text.lower())\n",
    "    tokens = nltk.word_tokenize(text)\n",
    "    text = [word for word in tokens if word not in stopwords]\n",
    "    text = [lemmatizer.lemmatize(word, get_wordnet_pos(word)) for word in tokens] \n",
    "    clean_text = ' '.join(text)\n",
    "    return clean_text"
   ]
  },
  {
   "cell_type": "code",
   "execution_count": 14,
   "metadata": {
    "colab": {
     "base_uri": "https://localhost:8080/"
    },
    "id": "_A-dT6e4QGrk",
    "outputId": "07400744-0ce3-426b-944f-30254efaced3"
   },
   "outputs": [
    {
     "data": {
      "application/vnd.jupyter.widget-view+json": {
       "model_id": "9520cf58e19d4a1e976314e7a327d133",
       "version_major": 2,
       "version_minor": 0
      },
      "text/plain": [
       "  0%|          | 0/159292 [00:00<?, ?it/s]"
      ]
     },
     "metadata": {},
     "output_type": "display_data"
    },
    {
     "name": "stdout",
     "output_type": "stream",
     "text": [
      "CPU times: user 17min 30s, sys: 1min 42s, total: 19min 13s\n",
      "Wall time: 19min 42s\n"
     ]
    }
   ],
   "source": [
    "%%time\n",
    "df['lemm_text'] = df['text'].progress_apply(lemm_text)"
   ]
  },
  {
   "cell_type": "code",
   "execution_count": 15,
   "metadata": {
    "scrolled": true
   },
   "outputs": [
    {
     "name": "stdout",
     "output_type": "stream",
     "text": [
      "<class 'pandas.core.frame.DataFrame'>\n",
      "Int64Index: 159292 entries, 0 to 159450\n",
      "Data columns (total 3 columns):\n",
      " #   Column     Non-Null Count   Dtype \n",
      "---  ------     --------------   ----- \n",
      " 0   text       159292 non-null  object\n",
      " 1   toxic      159292 non-null  int64 \n",
      " 2   lemm_text  159292 non-null  object\n",
      "dtypes: int64(1), object(2)\n",
      "memory usage: 4.9+ MB\n"
     ]
    }
   ],
   "source": [
    "df.info()"
   ]
  },
  {
   "cell_type": "code",
   "execution_count": 19,
   "metadata": {
    "colab": {
     "base_uri": "https://localhost:8080/",
     "height": 206
    },
    "id": "lJ9m2T_-QGrk",
    "outputId": "7b04a197-1e46-42b2-f9fb-65168d12ef36"
   },
   "outputs": [
    {
     "data": {
      "text/html": [
       "<div>\n",
       "<style scoped>\n",
       "    .dataframe tbody tr th:only-of-type {\n",
       "        vertical-align: middle;\n",
       "    }\n",
       "\n",
       "    .dataframe tbody tr th {\n",
       "        vertical-align: top;\n",
       "    }\n",
       "\n",
       "    .dataframe thead th {\n",
       "        text-align: right;\n",
       "    }\n",
       "</style>\n",
       "<table border=\"1\" class=\"dataframe\">\n",
       "  <thead>\n",
       "    <tr style=\"text-align: right;\">\n",
       "      <th></th>\n",
       "      <th>text</th>\n",
       "      <th>toxic</th>\n",
       "      <th>lemm_text</th>\n",
       "    </tr>\n",
       "  </thead>\n",
       "  <tbody>\n",
       "    <tr>\n",
       "      <th>0</th>\n",
       "      <td>Explanation\\nWhy the edits made under my usern...</td>\n",
       "      <td>0</td>\n",
       "      <td>explanation why the edits make under my userna...</td>\n",
       "    </tr>\n",
       "    <tr>\n",
       "      <th>1</th>\n",
       "      <td>D'aww! He matches this background colour I'm s...</td>\n",
       "      <td>0</td>\n",
       "      <td>d aww he match this background colour i m seem...</td>\n",
       "    </tr>\n",
       "    <tr>\n",
       "      <th>2</th>\n",
       "      <td>Hey man, I'm really not trying to edit war. It...</td>\n",
       "      <td>0</td>\n",
       "      <td>hey man i m really not try to edit war it s ju...</td>\n",
       "    </tr>\n",
       "    <tr>\n",
       "      <th>3</th>\n",
       "      <td>\"\\nMore\\nI can't make any real suggestions on ...</td>\n",
       "      <td>0</td>\n",
       "      <td>more i can t make any real suggestion on impro...</td>\n",
       "    </tr>\n",
       "    <tr>\n",
       "      <th>4</th>\n",
       "      <td>You, sir, are my hero. Any chance you remember...</td>\n",
       "      <td>0</td>\n",
       "      <td>you sir be my hero any chance you remember wha...</td>\n",
       "    </tr>\n",
       "  </tbody>\n",
       "</table>\n",
       "</div>"
      ],
      "text/plain": [
       "                                                text  toxic  \\\n",
       "0  Explanation\\nWhy the edits made under my usern...      0   \n",
       "1  D'aww! He matches this background colour I'm s...      0   \n",
       "2  Hey man, I'm really not trying to edit war. It...      0   \n",
       "3  \"\\nMore\\nI can't make any real suggestions on ...      0   \n",
       "4  You, sir, are my hero. Any chance you remember...      0   \n",
       "\n",
       "                                           lemm_text  \n",
       "0  explanation why the edits make under my userna...  \n",
       "1  d aww he match this background colour i m seem...  \n",
       "2  hey man i m really not try to edit war it s ju...  \n",
       "3  more i can t make any real suggestion on impro...  \n",
       "4  you sir be my hero any chance you remember wha...  "
      ]
     },
     "execution_count": 19,
     "metadata": {},
     "output_type": "execute_result"
    }
   ],
   "source": [
    "df.head()"
   ]
  },
  {
   "cell_type": "markdown",
   "metadata": {
    "id": "8xzIUgyfQGrk"
   },
   "source": [
    "Далее разделю датасет на обучающую и тестовую выборки."
   ]
  },
  {
   "cell_type": "code",
   "execution_count": 20,
   "metadata": {
    "id": "uHhbF0gdQGrk"
   },
   "outputs": [],
   "source": [
    "features = df.drop('toxic', axis=1)\n",
    "target = df['toxic']"
   ]
  },
  {
   "cell_type": "code",
   "execution_count": 21,
   "metadata": {
    "id": "ee_LXFIDQGrl"
   },
   "outputs": [],
   "source": [
    "features_train, features_test, target_train, target_test = train_test_split(\n",
    "    features, target, test_size=0.1, random_state=42, stratify=target)"
   ]
  },
  {
   "cell_type": "code",
   "execution_count": 22,
   "metadata": {
    "id": "tMs5LzsOQGrl"
   },
   "outputs": [],
   "source": [
    "corpus_train = features_train['lemm_text']\n",
    "corpus_test = features_test['lemm_text']"
   ]
  },
  {
   "cell_type": "markdown",
   "metadata": {
    "id": "XxsO49OmQGrl"
   },
   "source": [
    "**Вывод:**\n",
    "\n",
    "Проведена подготовка данных перед обучением моделей, в ходе которой было выполнено следующее:\n",
    "- Подгружены и рассмотрены данные:\n",
    "    - пропуски в данных отсутствуют;\n",
    "    - присутствует дисбаланс классов целевого признака.\n",
    "- Проведена предобработка текста комментариев:\n",
    "    - текст приведен к нижнему регистру;\n",
    "    - текст разбит на токены и лемматизирован;\n",
    "    - текст очищен от символов.\n",
    "- Датасет разделен на обучающую и тестовую выборку, размер тестовой выборки составляет 10%.\n",
    "- Выделены корпусы текста для каждой выборки."
   ]
  },
  {
   "cell_type": "markdown",
   "metadata": {
    "id": "sWApXRQsQGrl"
   },
   "source": [
    "## Обучение"
   ]
  },
  {
   "cell_type": "markdown",
   "metadata": {
    "id": "xXzmd0ROQGrl"
   },
   "source": [
    "Рассмотрю модели логистической регрессии, дерева решений, случайного леса и LightGBM. Для подбора параметров буду использовать RandomizedSearchCV и пайплайн."
   ]
  },
  {
   "cell_type": "code",
   "execution_count": 24,
   "metadata": {
    "id": "KHscLhzyQGrm"
   },
   "outputs": [],
   "source": [
    "model = ['LogisticRegression', 'DecisionTreeClassifier', 'RandomForestClassifier', 'LGBMClassifier']"
   ]
  },
  {
   "cell_type": "code",
   "execution_count": 25,
   "metadata": {
    "id": "ru73V-gtQGrm"
   },
   "outputs": [],
   "source": [
    "cv = KFold(n_splits=5, shuffle=True, random_state=42)"
   ]
  },
  {
   "cell_type": "markdown",
   "metadata": {
    "id": "QSE-hca3QGrm"
   },
   "source": [
    "Напишу функцию для подбора параметров и обучения моделей."
   ]
  },
  {
   "cell_type": "code",
   "execution_count": 26,
   "metadata": {
    "id": "mWdJJWj_QGrm"
   },
   "outputs": [],
   "source": [
    "def model_training(model, params):\n",
    "    pipeline = Pipeline([\n",
    "        ('tfidf', TfidfVectorizer(min_df = 1)),\n",
    "        ('model', model)])\n",
    "    random_model = RandomizedSearchCV(pipeline, param_distributions = params,\n",
    "                                   cv=cv, scoring = 'f1', n_jobs = -1, random_state = 42, verbose=False)\n",
    "    random_model.fit(corpus_train, target_train)\n",
    "    print('Метрика качества F1: ', random_model.best_score_)\n",
    "    print('Best params: ', random_model.best_params_)\n",
    "    return random_model"
   ]
  },
  {
   "cell_type": "markdown",
   "metadata": {
    "id": "CS1rqbWfQGrm"
   },
   "source": [
    "**Логистическая регрессия**"
   ]
  },
  {
   "cell_type": "code",
   "execution_count": 27,
   "metadata": {
    "colab": {
     "base_uri": "https://localhost:8080/"
    },
    "id": "_gvYa22XQGrm",
    "outputId": "0b62da4e-b91f-4507-d53d-94e4f3c114e8"
   },
   "outputs": [
    {
     "name": "stdout",
     "output_type": "stream",
     "text": [
      "Метрика качества F1:  0.7717962888152403\n",
      "Best params:  {'model__penalty': 'l2', 'model__max_iter': 1000, 'model__class_weight': 'balanced', 'model__C': 10}\n",
      "CPU times: user 5min 46s, sys: 10min 14s, total: 16min\n",
      "Wall time: 16min 1s\n"
     ]
    }
   ],
   "source": [
    "%%time\n",
    "model_lr = LogisticRegression()\n",
    "#param_lr = {'model__penalty': ['l1', 'l2', 'elasticnet', 'none'],\n",
    "#    'model__max_iter': [1000], 'model__C': [0.1, 1, 5, 10, 15, 20], 'model__class_weight': ['balanced']}\n",
    "param_lr = {'model__penalty': ['l2'], 'model__class_weight': ['balanced'],\n",
    "    'model__max_iter': [1000], 'model__C': [10]}\n",
    "model_lr_f = model_training(model_lr, param_lr)"
   ]
  },
  {
   "cell_type": "markdown",
   "metadata": {
    "id": "dhlO9b7iQGrm"
   },
   "source": [
    "**Дерево решений**"
   ]
  },
  {
   "cell_type": "code",
   "execution_count": 28,
   "metadata": {
    "colab": {
     "base_uri": "https://localhost:8080/"
    },
    "id": "Yk4y15hkQGrm",
    "outputId": "52f5f1b7-47e6-4df0-e73b-30babf98be93"
   },
   "outputs": [
    {
     "name": "stdout",
     "output_type": "stream",
     "text": [
      "Метрика качества F1:  0.6948146519233674\n",
      "Best params:  {'model__max_depth': 37, 'model__criterion': 'gini'}\n",
      "CPU times: user 3min 46s, sys: 2.27 s, total: 3min 48s\n",
      "Wall time: 3min 48s\n"
     ]
    }
   ],
   "source": [
    "%%time\n",
    "model_dtc = DecisionTreeClassifier(random_state=42)\n",
    "#param_dtc = {'model__max_depth': range(5, 41, 4),\n",
    "#    'model__criterion':['gini','entropy']}\n",
    "param_dtc = {'model__max_depth': [37],\n",
    "    'model__criterion':['gini']}\n",
    "model_dtc_f = model_training(model_dtc, param_dtc)"
   ]
  },
  {
   "cell_type": "markdown",
   "metadata": {
    "id": "nSmlgjNIQGrm"
   },
   "source": [
    "**Случайный лес**"
   ]
  },
  {
   "cell_type": "code",
   "execution_count": 29,
   "metadata": {
    "colab": {
     "base_uri": "https://localhost:8080/"
    },
    "id": "A75mJEeKQGrn",
    "outputId": "c4f32494-b1df-48a3-f6b1-136c93ce53e6"
   },
   "outputs": [
    {
     "name": "stdout",
     "output_type": "stream",
     "text": [
      "Метрика качества F1:  0.0005481616033704858\n",
      "Best params:  {'model__n_estimators': 50, 'model__min_samples_split': 5, 'model__max_depth': 17}\n",
      "CPU times: user 1min 1s, sys: 1.08 s, total: 1min 2s\n",
      "Wall time: 1min 2s\n"
     ]
    }
   ],
   "source": [
    "%%time\n",
    "model_rfc = RandomForestClassifier(random_state=42)\n",
    "#param_rfc = {'model__max_depth': range(5, 21, 4),\n",
    "#            'model__n_estimators': [50, 200, 310],\n",
    "#            'model__min_samples_split': [5, 10, 20]}\n",
    "param_rfc = {'model__max_depth': [17],\n",
    "            'model__n_estimators': [50],\n",
    "             'model__min_samples_split': [5]}\n",
    "model_rfc_f = model_training(model_rfc, param_rfc)"
   ]
  },
  {
   "cell_type": "markdown",
   "metadata": {
    "id": "CK_BsLK5QGrn"
   },
   "source": [
    "**LGBMClassifier**"
   ]
  },
  {
   "cell_type": "code",
   "execution_count": 30,
   "metadata": {
    "colab": {
     "base_uri": "https://localhost:8080/"
    },
    "id": "AhsDbY6qJsq2",
    "outputId": "1e75b3f9-45e7-4314-e380-ea233ca0524a"
   },
   "outputs": [
    {
     "name": "stdout",
     "output_type": "stream",
     "text": [
      "Метрика качества F1:  0.7813869681757001\n",
      "Best params:  {'model__num_leaves': 15, 'model__num_iterations': 500, 'model__max_depth': 18, 'model__is_unbalance': False}\n",
      "CPU times: user 1h 2min 25s, sys: 0 ns, total: 1h 2min 25s\n",
      "Wall time: 1h 2min 54s\n"
     ]
    }
   ],
   "source": [
    "%%time\n",
    "model_lgbmc = LGBMClassifier(objective='binary') #\n",
    "#param_lgbmc = {'model__num_iterations': [500, 1000],\n",
    "#             'model__max_depth': [10, 18],\n",
    "#             'model__is_unbalance': [True, False],\n",
    "#             'model__num_leaves': [5, 10, 15]}\n",
    "param_lgbmc = {'model__max_depth': [18], 'model__is_unbalance': [False],\n",
    "               'model__num_leaves': [15], 'model__num_iterations': [500]}\n",
    "model_lgbmc_f = model_training(model_lgbmc, param_lgbmc)"
   ]
  },
  {
   "cell_type": "code",
   "execution_count": 31,
   "metadata": {
    "colab": {
     "base_uri": "https://localhost:8080/",
     "height": 175
    },
    "id": "yynivorjQGrn",
    "outputId": "ee850a45-cebf-43f3-e2de-e3b2507d5656"
   },
   "outputs": [
    {
     "data": {
      "text/html": [
       "<div>\n",
       "<style scoped>\n",
       "    .dataframe tbody tr th:only-of-type {\n",
       "        vertical-align: middle;\n",
       "    }\n",
       "\n",
       "    .dataframe tbody tr th {\n",
       "        vertical-align: top;\n",
       "    }\n",
       "\n",
       "    .dataframe thead th {\n",
       "        text-align: right;\n",
       "    }\n",
       "</style>\n",
       "<table border=\"1\" class=\"dataframe\">\n",
       "  <thead>\n",
       "    <tr style=\"text-align: right;\">\n",
       "      <th></th>\n",
       "      <th>F1_score</th>\n",
       "    </tr>\n",
       "  </thead>\n",
       "  <tbody>\n",
       "    <tr>\n",
       "      <th>LGBMClassifier</th>\n",
       "      <td>0.781387</td>\n",
       "    </tr>\n",
       "    <tr>\n",
       "      <th>LogisticRegression</th>\n",
       "      <td>0.771796</td>\n",
       "    </tr>\n",
       "    <tr>\n",
       "      <th>DecisionTreeClassifier</th>\n",
       "      <td>0.694815</td>\n",
       "    </tr>\n",
       "    <tr>\n",
       "      <th>RandomForestClassifier</th>\n",
       "      <td>0.000548</td>\n",
       "    </tr>\n",
       "  </tbody>\n",
       "</table>\n",
       "</div>"
      ],
      "text/plain": [
       "                        F1_score\n",
       "LGBMClassifier          0.781387\n",
       "LogisticRegression      0.771796\n",
       "DecisionTreeClassifier  0.694815\n",
       "RandomForestClassifier  0.000548"
      ]
     },
     "execution_count": 31,
     "metadata": {},
     "output_type": "execute_result"
    }
   ],
   "source": [
    "results = pd.DataFrame({'F1_score' : [model_lr_f.best_score_, model_dtc_f.best_score_,\n",
    "                                      model_rfc_f.best_score_, model_lgbmc_f.best_score_]},\n",
    "                       index=model).sort_values(by='F1_score', ascending=False)\n",
    "results"
   ]
  },
  {
   "cell_type": "markdown",
   "metadata": {
    "id": "yghqtIXLxgRg"
   },
   "source": [
    "Результат со значением метрики качества F1 не меньше 0.75 показали только две модели - LGBMClassifier и LogisticRegression. Но значение у модели LGBMClassifier не много выше, поэтому данную модель признаю лучшей и проверю ее качество на тестовой выборке."
   ]
  },
  {
   "cell_type": "code",
   "execution_count": 32,
   "metadata": {
    "colab": {
     "base_uri": "https://localhost:8080/"
    },
    "id": "E5WgivZRzjPz",
    "outputId": "6aea515a-a0a6-41bb-a024-e2850e67a199"
   },
   "outputs": [
    {
     "name": "stdout",
     "output_type": "stream",
     "text": [
      "Значение метрики F1 лучшей модели на тестовой выборке:  0.791927627000696\n",
      "CPU times: user 4.58 s, sys: 0 ns, total: 4.58 s\n",
      "Wall time: 4.57 s\n"
     ]
    }
   ],
   "source": [
    "%%time\n",
    "final_pred = model_lgbmc_f.predict(corpus_test)\n",
    "print('Значение метрики F1 лучшей модели на тестовой выборке: ', f1_score(target_test, final_pred))"
   ]
  },
  {
   "cell_type": "markdown",
   "metadata": {
    "id": "mxH6nibAQGro"
   },
   "source": [
    "## Выводы"
   ]
  },
  {
   "cell_type": "markdown",
   "metadata": {
    "id": "RhBOQq8rGMCB"
   },
   "source": [
    "В ходе выполнения проекта были выполнены основные операции:\n",
    "- Проведена подготовка данных перед обучением моделей\n",
    "  - Подгружены и рассмотрены данные.\n",
    "  - Проведена предобработка текста комментариев.\n",
    "  - Датасет разделен на обучающую и тестовую выборку, размер тестовой выборки составляет 10%.\n",
    "  - Выделены корпусы текста для каждой выборки.\n",
    "- Проведено обучение моделей:\n",
    "  - LogisticRegression.\n",
    "  - DecisionTreeClassifier.\n",
    "  - RandomForestClassifier.\n",
    "  - LGBMClassifier.\n",
    "- Рассчитано значение метрики F1 с применением кросс-валидации.\n",
    "- Найдена лучшая модель и проверена на тестовой выборке. \n",
    "\n",
    "Лучше всего себя показала модель LogisticRegression, а хуже всего RandomForestClassifier.\n",
    "\n",
    "Значение метрики F1 модели на тестовой выборке показало отличный результат, он практически не отличается от значения на обучающей выборке. Модель предсказывает со значением метрики качества F1 не меньше 0.75. Значит модель можно использовать и она подходит по критериям Заказчику."
   ]
  }
 ],
 "metadata": {
  "ExecuteTimeLog": [
   {
    "duration": 379,
    "start_time": "2023-03-04T12:54:18.657Z"
   },
   {
    "duration": 105,
    "start_time": "2023-03-04T12:54:20.870Z"
   },
   {
    "duration": 3778,
    "start_time": "2023-03-04T12:54:56.787Z"
   },
   {
    "duration": 920,
    "start_time": "2023-03-04T12:55:33.812Z"
   },
   {
    "duration": 957,
    "start_time": "2023-03-04T13:43:07.697Z"
   },
   {
    "duration": 48,
    "start_time": "2023-03-04T13:43:32.396Z"
   },
   {
    "duration": 34,
    "start_time": "2023-03-04T13:43:55.496Z"
   },
   {
    "duration": 239,
    "start_time": "2023-03-04T13:44:15.322Z"
   },
   {
    "duration": 197,
    "start_time": "2023-03-04T13:45:39.730Z"
   },
   {
    "duration": 21,
    "start_time": "2023-03-04T13:46:57.116Z"
   },
   {
    "duration": 3,
    "start_time": "2023-03-04T13:47:02.699Z"
   },
   {
    "duration": 142,
    "start_time": "2023-03-04T13:47:05.966Z"
   },
   {
    "duration": 141,
    "start_time": "2023-03-04T13:48:46.670Z"
   },
   {
    "duration": 51,
    "start_time": "2023-03-04T13:59:27.008Z"
   },
   {
    "duration": 165,
    "start_time": "2023-03-04T13:59:41.631Z"
   },
   {
    "duration": 177,
    "start_time": "2023-03-04T14:00:14.457Z"
   },
   {
    "duration": 18,
    "start_time": "2023-03-04T14:01:44.743Z"
   },
   {
    "duration": 417,
    "start_time": "2023-03-04T14:03:23.187Z"
   },
   {
    "duration": 0,
    "start_time": "2023-03-04T14:04:28.771Z"
   },
   {
    "duration": 619,
    "start_time": "2023-03-04T14:05:51.557Z"
   },
   {
    "duration": 894,
    "start_time": "2023-03-04T14:05:52.178Z"
   },
   {
    "duration": 43,
    "start_time": "2023-03-04T14:05:53.073Z"
   },
   {
    "duration": 28,
    "start_time": "2023-03-04T14:05:53.118Z"
   },
   {
    "duration": 238,
    "start_time": "2023-03-04T14:05:53.148Z"
   },
   {
    "duration": 163,
    "start_time": "2023-03-04T14:05:53.387Z"
   },
   {
    "duration": 13,
    "start_time": "2023-03-04T14:11:49.897Z"
   },
   {
    "duration": 147,
    "start_time": "2023-03-04T14:57:33.410Z"
   },
   {
    "duration": 140,
    "start_time": "2023-03-04T15:01:11.424Z"
   },
   {
    "duration": 927,
    "start_time": "2023-03-04T15:08:51.187Z"
   },
   {
    "duration": 1517,
    "start_time": "2023-03-04T15:34:21.937Z"
   },
   {
    "duration": 179,
    "start_time": "2023-03-04T15:34:23.456Z"
   },
   {
    "duration": 874,
    "start_time": "2023-03-04T15:34:23.637Z"
   },
   {
    "duration": 35,
    "start_time": "2023-03-04T15:34:24.512Z"
   },
   {
    "duration": 29,
    "start_time": "2023-03-04T15:34:24.549Z"
   },
   {
    "duration": 256,
    "start_time": "2023-03-04T15:34:24.581Z"
   },
   {
    "duration": 153,
    "start_time": "2023-03-04T15:34:24.839Z"
   },
   {
    "duration": 12,
    "start_time": "2023-03-04T15:34:24.994Z"
   },
   {
    "duration": 9,
    "start_time": "2023-03-04T15:34:25.012Z"
   },
   {
    "duration": 308,
    "start_time": "2023-03-04T15:34:25.023Z"
   },
   {
    "duration": 0,
    "start_time": "2023-03-04T15:34:25.333Z"
   },
   {
    "duration": 0,
    "start_time": "2023-03-04T15:34:25.335Z"
   },
   {
    "duration": 0,
    "start_time": "2023-03-04T15:34:25.336Z"
   },
   {
    "duration": 3,
    "start_time": "2023-03-04T15:35:32.199Z"
   },
   {
    "duration": 197,
    "start_time": "2023-03-04T15:35:34.827Z"
   },
   {
    "duration": 1542,
    "start_time": "2023-03-04T15:39:29.720Z"
   },
   {
    "duration": 228,
    "start_time": "2023-03-04T15:39:31.263Z"
   },
   {
    "duration": 844,
    "start_time": "2023-03-04T15:39:31.493Z"
   },
   {
    "duration": 32,
    "start_time": "2023-03-04T15:39:32.339Z"
   },
   {
    "duration": 39,
    "start_time": "2023-03-04T15:39:32.374Z"
   },
   {
    "duration": 247,
    "start_time": "2023-03-04T15:39:32.415Z"
   },
   {
    "duration": 149,
    "start_time": "2023-03-04T15:39:32.663Z"
   },
   {
    "duration": 12,
    "start_time": "2023-03-04T15:39:32.814Z"
   },
   {
    "duration": 5,
    "start_time": "2023-03-04T15:39:32.827Z"
   },
   {
    "duration": 3,
    "start_time": "2023-03-04T15:39:32.834Z"
   },
   {
    "duration": 11,
    "start_time": "2023-03-04T15:39:32.839Z"
   },
   {
    "duration": 12,
    "start_time": "2023-03-04T15:39:32.852Z"
   },
   {
    "duration": 17,
    "start_time": "2023-03-04T15:39:32.865Z"
   },
   {
    "duration": 324,
    "start_time": "2023-03-04T15:42:56.482Z"
   },
   {
    "duration": 2,
    "start_time": "2023-03-04T15:45:52.845Z"
   },
   {
    "duration": 4,
    "start_time": "2023-03-04T15:47:40.236Z"
   },
   {
    "duration": 80319,
    "start_time": "2023-03-04T15:47:44.977Z"
   },
   {
    "duration": 8,
    "start_time": "2023-03-04T15:49:28.991Z"
   },
   {
    "duration": 12,
    "start_time": "2023-03-04T16:09:11.621Z"
   },
   {
    "duration": 5,
    "start_time": "2023-03-04T16:12:09.683Z"
   },
   {
    "duration": 5,
    "start_time": "2023-03-04T16:12:26.093Z"
   },
   {
    "duration": 1390,
    "start_time": "2023-03-04T16:20:59.471Z"
   },
   {
    "duration": 174,
    "start_time": "2023-03-04T16:21:00.864Z"
   },
   {
    "duration": 841,
    "start_time": "2023-03-04T16:21:01.039Z"
   },
   {
    "duration": 37,
    "start_time": "2023-03-04T16:21:01.882Z"
   },
   {
    "duration": 27,
    "start_time": "2023-03-04T16:21:01.920Z"
   },
   {
    "duration": 236,
    "start_time": "2023-03-04T16:21:01.949Z"
   },
   {
    "duration": 150,
    "start_time": "2023-03-04T16:21:02.187Z"
   },
   {
    "duration": 16,
    "start_time": "2023-03-04T16:21:02.339Z"
   },
   {
    "duration": 6,
    "start_time": "2023-03-04T16:21:02.357Z"
   },
   {
    "duration": 79481,
    "start_time": "2023-03-04T16:21:02.367Z"
   },
   {
    "duration": 8,
    "start_time": "2023-03-04T16:22:21.850Z"
   },
   {
    "duration": 5,
    "start_time": "2023-03-04T16:22:21.860Z"
   },
   {
    "duration": 5,
    "start_time": "2023-03-04T16:22:21.866Z"
   },
   {
    "duration": 5,
    "start_time": "2023-03-04T16:22:21.872Z"
   },
   {
    "duration": 6,
    "start_time": "2023-03-04T16:22:21.879Z"
   },
   {
    "duration": 127,
    "start_time": "2023-03-04T16:28:07.435Z"
   },
   {
    "duration": 4,
    "start_time": "2023-03-04T16:28:35.571Z"
   },
   {
    "duration": 73,
    "start_time": "2023-03-04T16:28:40.633Z"
   },
   {
    "duration": 36,
    "start_time": "2023-03-04T16:30:46.717Z"
   },
   {
    "duration": 82,
    "start_time": "2023-03-04T16:30:48.276Z"
   },
   {
    "duration": 5,
    "start_time": "2023-03-04T16:31:28.075Z"
   },
   {
    "duration": 4,
    "start_time": "2023-03-04T17:30:34.364Z"
   },
   {
    "duration": 7677,
    "start_time": "2023-03-04T17:39:35.091Z"
   },
   {
    "duration": 7793,
    "start_time": "2023-03-04T17:40:43.378Z"
   },
   {
    "duration": 4,
    "start_time": "2023-03-04T18:41:44.264Z"
   },
   {
    "duration": 4,
    "start_time": "2023-03-04T18:41:46.133Z"
   },
   {
    "duration": 66,
    "start_time": "2023-03-04T18:41:47.686Z"
   },
   {
    "duration": 4,
    "start_time": "2023-03-04T18:41:53.865Z"
   },
   {
    "duration": 73,
    "start_time": "2023-03-04T18:55:19.694Z"
   },
   {
    "duration": 3,
    "start_time": "2023-03-04T18:56:15.307Z"
   },
   {
    "duration": 1661,
    "start_time": "2023-03-04T19:19:13.485Z"
   },
   {
    "duration": 226,
    "start_time": "2023-03-04T19:19:15.148Z"
   },
   {
    "duration": 798,
    "start_time": "2023-03-04T19:19:15.375Z"
   },
   {
    "duration": 41,
    "start_time": "2023-03-04T19:19:16.175Z"
   },
   {
    "duration": 28,
    "start_time": "2023-03-04T19:19:16.217Z"
   },
   {
    "duration": 240,
    "start_time": "2023-03-04T19:19:16.247Z"
   },
   {
    "duration": 149,
    "start_time": "2023-03-04T19:19:16.488Z"
   },
   {
    "duration": 13,
    "start_time": "2023-03-04T19:19:16.638Z"
   },
   {
    "duration": 7,
    "start_time": "2023-03-04T19:19:16.652Z"
   },
   {
    "duration": 79379,
    "start_time": "2023-03-04T19:19:16.662Z"
   },
   {
    "duration": 8,
    "start_time": "2023-03-04T19:20:36.042Z"
   },
   {
    "duration": 36,
    "start_time": "2023-03-04T19:20:36.052Z"
   },
   {
    "duration": 84,
    "start_time": "2023-03-04T19:20:36.090Z"
   },
   {
    "duration": 4,
    "start_time": "2023-03-04T19:20:36.175Z"
   },
   {
    "duration": 5,
    "start_time": "2023-03-04T19:20:36.180Z"
   },
   {
    "duration": 6469,
    "start_time": "2023-03-04T19:20:36.187Z"
   },
   {
    "duration": 3,
    "start_time": "2023-03-04T19:20:42.658Z"
   },
   {
    "duration": 13,
    "start_time": "2023-03-04T19:20:42.662Z"
   },
   {
    "duration": 31,
    "start_time": "2023-03-04T19:20:42.677Z"
   },
   {
    "duration": 1114,
    "start_time": "2023-03-06T18:38:57.557Z"
   },
   {
    "duration": 826,
    "start_time": "2023-03-06T18:39:02.423Z"
   },
   {
    "duration": 373,
    "start_time": "2023-03-06T18:40:40.702Z"
   },
   {
    "duration": 765,
    "start_time": "2023-03-06T18:40:44.751Z"
   },
   {
    "duration": 2388,
    "start_time": "2023-03-06T19:42:00.056Z"
   },
   {
    "duration": 1599,
    "start_time": "2023-03-06T19:42:06.550Z"
   },
   {
    "duration": 259,
    "start_time": "2023-03-06T19:42:12.549Z"
   },
   {
    "duration": 2178,
    "start_time": "2023-03-06T19:53:51.621Z"
   },
   {
    "duration": 2365,
    "start_time": "2023-03-06T19:54:12.641Z"
   },
   {
    "duration": 1640,
    "start_time": "2023-03-06T19:54:16.629Z"
   },
   {
    "duration": 264,
    "start_time": "2023-03-06T19:54:21.134Z"
   },
   {
    "duration": 831,
    "start_time": "2023-03-06T19:54:27.131Z"
   },
   {
    "duration": 890,
    "start_time": "2023-03-06T19:54:33.025Z"
   },
   {
    "duration": 38,
    "start_time": "2023-03-06T19:54:36.533Z"
   },
   {
    "duration": 29,
    "start_time": "2023-03-06T19:54:38.624Z"
   },
   {
    "duration": 238,
    "start_time": "2023-03-06T19:54:41.144Z"
   },
   {
    "duration": 138,
    "start_time": "2023-03-06T19:54:43.286Z"
   },
   {
    "duration": 13,
    "start_time": "2023-03-06T19:54:47.613Z"
   },
   {
    "duration": 4,
    "start_time": "2023-03-06T19:54:52.405Z"
   },
   {
    "duration": 4,
    "start_time": "2023-03-06T19:54:54.216Z"
   },
   {
    "duration": 4,
    "start_time": "2023-03-06T19:54:56.527Z"
   },
   {
    "duration": 199,
    "start_time": "2023-03-06T19:55:17.332Z"
   },
   {
    "duration": 86,
    "start_time": "2023-03-06T19:58:11.008Z"
   },
   {
    "duration": 79,
    "start_time": "2023-03-06T19:58:59.409Z"
   },
   {
    "duration": 52,
    "start_time": "2023-03-06T20:00:31.210Z"
   },
   {
    "duration": 299737,
    "start_time": "2023-03-06T20:00:40.630Z"
   },
   {
    "duration": 3162,
    "start_time": "2023-03-06T20:05:40.370Z"
   },
   {
    "duration": 11525,
    "start_time": "2023-03-06T20:05:43.534Z"
   },
   {
    "duration": 72,
    "start_time": "2023-03-06T20:12:21.541Z"
   },
   {
    "duration": 1727,
    "start_time": "2023-03-06T20:12:28.268Z"
   },
   {
    "duration": 1564,
    "start_time": "2023-03-06T20:14:48.211Z"
   },
   {
    "duration": 89,
    "start_time": "2023-03-06T20:24:52.208Z"
   },
   {
    "duration": 8,
    "start_time": "2023-03-06T20:25:11.816Z"
   },
   {
    "duration": 2320,
    "start_time": "2023-03-06T20:29:23.608Z"
   },
   {
    "duration": 74,
    "start_time": "2023-03-06T20:29:27.380Z"
   },
   {
    "duration": 69,
    "start_time": "2023-03-06T20:29:42.908Z"
   },
   {
    "duration": 49,
    "start_time": "2023-03-06T20:30:00.340Z"
   },
   {
    "duration": 6,
    "start_time": "2023-03-06T20:30:16.112Z"
   },
   {
    "duration": 2192,
    "start_time": "2023-03-06T20:32:55.800Z"
   },
   {
    "duration": 1752,
    "start_time": "2023-03-06T20:32:57.994Z"
   },
   {
    "duration": 304,
    "start_time": "2023-03-06T20:32:59.748Z"
   },
   {
    "duration": 908,
    "start_time": "2023-03-06T20:33:00.053Z"
   },
   {
    "duration": 827,
    "start_time": "2023-03-06T20:33:00.964Z"
   },
   {
    "duration": 38,
    "start_time": "2023-03-06T20:33:01.793Z"
   },
   {
    "duration": 42,
    "start_time": "2023-03-06T20:33:01.833Z"
   },
   {
    "duration": 253,
    "start_time": "2023-03-06T20:33:01.877Z"
   },
   {
    "duration": 147,
    "start_time": "2023-03-06T20:33:02.132Z"
   },
   {
    "duration": 12,
    "start_time": "2023-03-06T20:33:02.281Z"
   },
   {
    "duration": 4,
    "start_time": "2023-03-06T20:33:02.302Z"
   },
   {
    "duration": 7,
    "start_time": "2023-03-06T20:33:02.307Z"
   },
   {
    "duration": 10,
    "start_time": "2023-03-06T20:33:02.315Z"
   },
   {
    "duration": 1182324,
    "start_time": "2023-03-06T20:33:02.329Z"
   },
   {
    "duration": 70,
    "start_time": "2023-03-06T20:52:44.655Z"
   },
   {
    "duration": 3,
    "start_time": "2023-03-06T20:52:44.726Z"
   },
   {
    "duration": 6,
    "start_time": "2023-03-06T20:52:44.731Z"
   },
   {
    "duration": 6,
    "start_time": "2023-03-06T20:52:44.738Z"
   },
   {
    "duration": 11,
    "start_time": "2023-03-06T20:52:44.746Z"
   },
   {
    "duration": 55,
    "start_time": "2023-03-06T20:52:44.759Z"
   },
   {
    "duration": 71,
    "start_time": "2023-03-06T20:52:44.816Z"
   },
   {
    "duration": 14,
    "start_time": "2023-03-06T20:52:44.889Z"
   },
   {
    "duration": 6,
    "start_time": "2023-03-06T20:52:44.904Z"
   },
   {
    "duration": 5,
    "start_time": "2023-03-06T20:52:44.911Z"
   },
   {
    "duration": 7,
    "start_time": "2023-03-06T20:52:44.917Z"
   },
   {
    "duration": 7,
    "start_time": "2023-03-06T20:52:44.926Z"
   },
   {
    "duration": 961670,
    "start_time": "2023-03-06T20:52:44.934Z"
   },
   {
    "duration": 228724,
    "start_time": "2023-03-06T21:08:46.605Z"
   },
   {
    "duration": 62855,
    "start_time": "2023-03-06T21:12:35.331Z"
   },
   {
    "duration": 3774829,
    "start_time": "2023-03-06T21:13:38.188Z"
   },
   {
    "duration": 8,
    "start_time": "2023-03-06T22:16:33.020Z"
   },
   {
    "duration": 4581,
    "start_time": "2023-03-06T22:16:33.030Z"
   }
  ],
  "colab": {
   "provenance": []
  },
  "kernelspec": {
   "display_name": "Python 3 (ipykernel)",
   "language": "python",
   "name": "python3"
  },
  "language_info": {
   "codemirror_mode": {
    "name": "ipython",
    "version": 3
   },
   "file_extension": ".py",
   "mimetype": "text/x-python",
   "name": "python",
   "nbconvert_exporter": "python",
   "pygments_lexer": "ipython3",
   "version": "3.9.12"
  },
  "toc": {
   "base_numbering": 1,
   "nav_menu": {},
   "number_sections": true,
   "sideBar": true,
   "skip_h1_title": true,
   "title_cell": "Содержание",
   "title_sidebar": "Contents",
   "toc_cell": true,
   "toc_position": {
    "height": "calc(100% - 180px)",
    "left": "10px",
    "top": "150px",
    "width": "302.391px"
   },
   "toc_section_display": true,
   "toc_window_display": true
  }
 },
 "nbformat": 4,
 "nbformat_minor": 1
}
