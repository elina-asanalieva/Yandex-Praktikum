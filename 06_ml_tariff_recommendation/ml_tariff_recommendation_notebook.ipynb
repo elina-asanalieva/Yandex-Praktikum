{
 "cells": [
  {
   "cell_type": "markdown",
   "metadata": {},
   "source": [
    "# Рекомендация тарифов"
   ]
  },
  {
   "cell_type": "markdown",
   "metadata": {},
   "source": [
    "Оператор мобильной связи «Мегалайн» выяснил: многие клиенты пользуются архивными тарифами. Они хотят построить систему, способную проанализировать поведение клиентов и предложить пользователям новый тариф: «Смарт» или «Ультра».\n",
    "\n",
    "В моем распоряжении данные о поведении клиентов, которые уже перешли на эти тарифы. Нужно построить модель для задачи классификации, которая выберет подходящий тариф. Предобработка данных не понадобится.\n",
    "\n",
    "Необходимо построить модель с максимально большим значением *accuracy*. Нужно довести долю правильных ответов по крайней мере до 0.75 и проверить *accuracy* на тестовой выборке."
   ]
  },
  {
   "cell_type": "markdown",
   "metadata": {},
   "source": [
    "# Описание данных"
   ]
  },
  {
   "cell_type": "markdown",
   "metadata": {},
   "source": [
    "Каждый объект в наборе данных — это информация о поведении одного пользователя за месяц. Известно:\n",
    " - сalls — количество звонков,\n",
    " - minutes — суммарная длительность звонков в минутах,\n",
    " - messages — количество sms-сообщений,\n",
    " - mb_used — израсходованный интернет-трафик в Мб,\n",
    " - is_ultra — каким тарифом пользовался в течение месяца («Ультра» — 1, «Смарт» — 0)."
   ]
  },
  {
   "cell_type": "markdown",
   "metadata": {},
   "source": [
    "## Открытие и изучение файла с данными"
   ]
  },
  {
   "cell_type": "markdown",
   "metadata": {},
   "source": [
    "Импортирую библиотеки и открываю файл с данными"
   ]
  },
  {
   "cell_type": "code",
   "execution_count": 1,
   "metadata": {},
   "outputs": [],
   "source": [
    "import pandas as pd\n",
    "from sklearn.model_selection import train_test_split\n",
    "from sklearn.tree import DecisionTreeClassifier\n",
    "from sklearn.metrics import accuracy_score\n",
    "from sklearn.ensemble import RandomForestClassifier\n",
    "from sklearn.linear_model import LogisticRegression\n",
    "from sklearn.dummy import DummyClassifier\n",
    "import matplotlib.pyplot as plt\n",
    "import warnings\n",
    "warnings.filterwarnings('ignore')"
   ]
  },
  {
   "cell_type": "code",
   "execution_count": 2,
   "metadata": {},
   "outputs": [],
   "source": [
    "df = pd.read_csv('/datasets/users_behavior.csv')"
   ]
  },
  {
   "cell_type": "markdown",
   "metadata": {},
   "source": [
    "Изучаю общую информацию о таблице"
   ]
  },
  {
   "cell_type": "code",
   "execution_count": 3,
   "metadata": {},
   "outputs": [
    {
     "data": {
      "text/html": [
       "<div>\n",
       "<style scoped>\n",
       "    .dataframe tbody tr th:only-of-type {\n",
       "        vertical-align: middle;\n",
       "    }\n",
       "\n",
       "    .dataframe tbody tr th {\n",
       "        vertical-align: top;\n",
       "    }\n",
       "\n",
       "    .dataframe thead th {\n",
       "        text-align: right;\n",
       "    }\n",
       "</style>\n",
       "<table border=\"1\" class=\"dataframe\">\n",
       "  <thead>\n",
       "    <tr style=\"text-align: right;\">\n",
       "      <th></th>\n",
       "      <th>calls</th>\n",
       "      <th>minutes</th>\n",
       "      <th>messages</th>\n",
       "      <th>mb_used</th>\n",
       "      <th>is_ultra</th>\n",
       "    </tr>\n",
       "  </thead>\n",
       "  <tbody>\n",
       "    <tr>\n",
       "      <th>0</th>\n",
       "      <td>40.0</td>\n",
       "      <td>311.90</td>\n",
       "      <td>83.0</td>\n",
       "      <td>19915.42</td>\n",
       "      <td>0</td>\n",
       "    </tr>\n",
       "    <tr>\n",
       "      <th>1</th>\n",
       "      <td>85.0</td>\n",
       "      <td>516.75</td>\n",
       "      <td>56.0</td>\n",
       "      <td>22696.96</td>\n",
       "      <td>0</td>\n",
       "    </tr>\n",
       "    <tr>\n",
       "      <th>2</th>\n",
       "      <td>77.0</td>\n",
       "      <td>467.66</td>\n",
       "      <td>86.0</td>\n",
       "      <td>21060.45</td>\n",
       "      <td>0</td>\n",
       "    </tr>\n",
       "    <tr>\n",
       "      <th>3</th>\n",
       "      <td>106.0</td>\n",
       "      <td>745.53</td>\n",
       "      <td>81.0</td>\n",
       "      <td>8437.39</td>\n",
       "      <td>1</td>\n",
       "    </tr>\n",
       "    <tr>\n",
       "      <th>4</th>\n",
       "      <td>66.0</td>\n",
       "      <td>418.74</td>\n",
       "      <td>1.0</td>\n",
       "      <td>14502.75</td>\n",
       "      <td>0</td>\n",
       "    </tr>\n",
       "  </tbody>\n",
       "</table>\n",
       "</div>"
      ],
      "text/plain": [
       "   calls  minutes  messages   mb_used  is_ultra\n",
       "0   40.0   311.90      83.0  19915.42         0\n",
       "1   85.0   516.75      56.0  22696.96         0\n",
       "2   77.0   467.66      86.0  21060.45         0\n",
       "3  106.0   745.53      81.0   8437.39         1\n",
       "4   66.0   418.74       1.0  14502.75         0"
      ]
     },
     "execution_count": 3,
     "metadata": {},
     "output_type": "execute_result"
    }
   ],
   "source": [
    "df.head()"
   ]
  },
  {
   "cell_type": "code",
   "execution_count": 4,
   "metadata": {},
   "outputs": [
    {
     "data": {
      "text/html": [
       "<div>\n",
       "<style scoped>\n",
       "    .dataframe tbody tr th:only-of-type {\n",
       "        vertical-align: middle;\n",
       "    }\n",
       "\n",
       "    .dataframe tbody tr th {\n",
       "        vertical-align: top;\n",
       "    }\n",
       "\n",
       "    .dataframe thead th {\n",
       "        text-align: right;\n",
       "    }\n",
       "</style>\n",
       "<table border=\"1\" class=\"dataframe\">\n",
       "  <thead>\n",
       "    <tr style=\"text-align: right;\">\n",
       "      <th></th>\n",
       "      <th>calls</th>\n",
       "      <th>minutes</th>\n",
       "      <th>messages</th>\n",
       "      <th>mb_used</th>\n",
       "      <th>is_ultra</th>\n",
       "    </tr>\n",
       "  </thead>\n",
       "  <tbody>\n",
       "    <tr>\n",
       "      <th>3209</th>\n",
       "      <td>122.0</td>\n",
       "      <td>910.98</td>\n",
       "      <td>20.0</td>\n",
       "      <td>35124.90</td>\n",
       "      <td>1</td>\n",
       "    </tr>\n",
       "    <tr>\n",
       "      <th>3210</th>\n",
       "      <td>25.0</td>\n",
       "      <td>190.36</td>\n",
       "      <td>0.0</td>\n",
       "      <td>3275.61</td>\n",
       "      <td>0</td>\n",
       "    </tr>\n",
       "    <tr>\n",
       "      <th>3211</th>\n",
       "      <td>97.0</td>\n",
       "      <td>634.44</td>\n",
       "      <td>70.0</td>\n",
       "      <td>13974.06</td>\n",
       "      <td>0</td>\n",
       "    </tr>\n",
       "    <tr>\n",
       "      <th>3212</th>\n",
       "      <td>64.0</td>\n",
       "      <td>462.32</td>\n",
       "      <td>90.0</td>\n",
       "      <td>31239.78</td>\n",
       "      <td>0</td>\n",
       "    </tr>\n",
       "    <tr>\n",
       "      <th>3213</th>\n",
       "      <td>80.0</td>\n",
       "      <td>566.09</td>\n",
       "      <td>6.0</td>\n",
       "      <td>29480.52</td>\n",
       "      <td>1</td>\n",
       "    </tr>\n",
       "  </tbody>\n",
       "</table>\n",
       "</div>"
      ],
      "text/plain": [
       "      calls  minutes  messages   mb_used  is_ultra\n",
       "3209  122.0   910.98      20.0  35124.90         1\n",
       "3210   25.0   190.36       0.0   3275.61         0\n",
       "3211   97.0   634.44      70.0  13974.06         0\n",
       "3212   64.0   462.32      90.0  31239.78         0\n",
       "3213   80.0   566.09       6.0  29480.52         1"
      ]
     },
     "execution_count": 4,
     "metadata": {},
     "output_type": "execute_result"
    }
   ],
   "source": [
    "df.tail()"
   ]
  },
  {
   "cell_type": "code",
   "execution_count": 5,
   "metadata": {},
   "outputs": [
    {
     "name": "stdout",
     "output_type": "stream",
     "text": [
      "<class 'pandas.core.frame.DataFrame'>\n",
      "RangeIndex: 3214 entries, 0 to 3213\n",
      "Data columns (total 5 columns):\n",
      " #   Column    Non-Null Count  Dtype  \n",
      "---  ------    --------------  -----  \n",
      " 0   calls     3214 non-null   float64\n",
      " 1   minutes   3214 non-null   float64\n",
      " 2   messages  3214 non-null   float64\n",
      " 3   mb_used   3214 non-null   float64\n",
      " 4   is_ultra  3214 non-null   int64  \n",
      "dtypes: float64(4), int64(1)\n",
      "memory usage: 125.7 KB\n"
     ]
    }
   ],
   "source": [
    "df.info()"
   ]
  },
  {
   "cell_type": "code",
   "execution_count": 6,
   "metadata": {},
   "outputs": [
    {
     "data": {
      "text/html": [
       "<div>\n",
       "<style scoped>\n",
       "    .dataframe tbody tr th:only-of-type {\n",
       "        vertical-align: middle;\n",
       "    }\n",
       "\n",
       "    .dataframe tbody tr th {\n",
       "        vertical-align: top;\n",
       "    }\n",
       "\n",
       "    .dataframe thead th {\n",
       "        text-align: right;\n",
       "    }\n",
       "</style>\n",
       "<table border=\"1\" class=\"dataframe\">\n",
       "  <thead>\n",
       "    <tr style=\"text-align: right;\">\n",
       "      <th></th>\n",
       "      <th>calls</th>\n",
       "      <th>minutes</th>\n",
       "      <th>messages</th>\n",
       "      <th>mb_used</th>\n",
       "      <th>is_ultra</th>\n",
       "    </tr>\n",
       "  </thead>\n",
       "  <tbody>\n",
       "    <tr>\n",
       "      <th>count</th>\n",
       "      <td>3214.000000</td>\n",
       "      <td>3214.000000</td>\n",
       "      <td>3214.000000</td>\n",
       "      <td>3214.000000</td>\n",
       "      <td>3214.000000</td>\n",
       "    </tr>\n",
       "    <tr>\n",
       "      <th>mean</th>\n",
       "      <td>63.038892</td>\n",
       "      <td>438.208787</td>\n",
       "      <td>38.281269</td>\n",
       "      <td>17207.673836</td>\n",
       "      <td>0.306472</td>\n",
       "    </tr>\n",
       "    <tr>\n",
       "      <th>std</th>\n",
       "      <td>33.236368</td>\n",
       "      <td>234.569872</td>\n",
       "      <td>36.148326</td>\n",
       "      <td>7570.968246</td>\n",
       "      <td>0.461100</td>\n",
       "    </tr>\n",
       "    <tr>\n",
       "      <th>min</th>\n",
       "      <td>0.000000</td>\n",
       "      <td>0.000000</td>\n",
       "      <td>0.000000</td>\n",
       "      <td>0.000000</td>\n",
       "      <td>0.000000</td>\n",
       "    </tr>\n",
       "    <tr>\n",
       "      <th>25%</th>\n",
       "      <td>40.000000</td>\n",
       "      <td>274.575000</td>\n",
       "      <td>9.000000</td>\n",
       "      <td>12491.902500</td>\n",
       "      <td>0.000000</td>\n",
       "    </tr>\n",
       "    <tr>\n",
       "      <th>50%</th>\n",
       "      <td>62.000000</td>\n",
       "      <td>430.600000</td>\n",
       "      <td>30.000000</td>\n",
       "      <td>16943.235000</td>\n",
       "      <td>0.000000</td>\n",
       "    </tr>\n",
       "    <tr>\n",
       "      <th>75%</th>\n",
       "      <td>82.000000</td>\n",
       "      <td>571.927500</td>\n",
       "      <td>57.000000</td>\n",
       "      <td>21424.700000</td>\n",
       "      <td>1.000000</td>\n",
       "    </tr>\n",
       "    <tr>\n",
       "      <th>max</th>\n",
       "      <td>244.000000</td>\n",
       "      <td>1632.060000</td>\n",
       "      <td>224.000000</td>\n",
       "      <td>49745.730000</td>\n",
       "      <td>1.000000</td>\n",
       "    </tr>\n",
       "  </tbody>\n",
       "</table>\n",
       "</div>"
      ],
      "text/plain": [
       "             calls      minutes     messages       mb_used     is_ultra\n",
       "count  3214.000000  3214.000000  3214.000000   3214.000000  3214.000000\n",
       "mean     63.038892   438.208787    38.281269  17207.673836     0.306472\n",
       "std      33.236368   234.569872    36.148326   7570.968246     0.461100\n",
       "min       0.000000     0.000000     0.000000      0.000000     0.000000\n",
       "25%      40.000000   274.575000     9.000000  12491.902500     0.000000\n",
       "50%      62.000000   430.600000    30.000000  16943.235000     0.000000\n",
       "75%      82.000000   571.927500    57.000000  21424.700000     1.000000\n",
       "max     244.000000  1632.060000   224.000000  49745.730000     1.000000"
      ]
     },
     "execution_count": 6,
     "metadata": {},
     "output_type": "execute_result"
    }
   ],
   "source": [
    "df.describe()"
   ]
  },
  {
   "cell_type": "code",
   "execution_count": 7,
   "metadata": {
    "scrolled": true
   },
   "outputs": [
    {
     "data": {
      "text/plain": [
       "0"
      ]
     },
     "execution_count": 7,
     "metadata": {},
     "output_type": "execute_result"
    }
   ],
   "source": [
    "df.duplicated().sum()"
   ]
  },
  {
   "cell_type": "markdown",
   "metadata": {},
   "source": [
    "Глядя на данные файла, можно сказать, что файл прошел предобработку, отсутствуют пропущенные значения, в строковых значениях однородный регистр. Явные дубликаты в строках отсутствуют. Изменю только тип данных в колонке со звонками и сообщениями на целочисленный тип, так как количество звонков и количество сообщений не отображаются в дробном виде. "
   ]
  },
  {
   "cell_type": "code",
   "execution_count": 8,
   "metadata": {},
   "outputs": [],
   "source": [
    "df['calls'] = df['calls'].astype('int')"
   ]
  },
  {
   "cell_type": "code",
   "execution_count": 9,
   "metadata": {},
   "outputs": [],
   "source": [
    "df['messages'] = df['messages'].astype('int')"
   ]
  },
  {
   "cell_type": "code",
   "execution_count": 10,
   "metadata": {
    "scrolled": true
   },
   "outputs": [
    {
     "name": "stdout",
     "output_type": "stream",
     "text": [
      "<class 'pandas.core.frame.DataFrame'>\n",
      "RangeIndex: 3214 entries, 0 to 3213\n",
      "Data columns (total 5 columns):\n",
      " #   Column    Non-Null Count  Dtype  \n",
      "---  ------    --------------  -----  \n",
      " 0   calls     3214 non-null   int64  \n",
      " 1   minutes   3214 non-null   float64\n",
      " 2   messages  3214 non-null   int64  \n",
      " 3   mb_used   3214 non-null   float64\n",
      " 4   is_ultra  3214 non-null   int64  \n",
      "dtypes: float64(2), int64(3)\n",
      "memory usage: 125.7 KB\n"
     ]
    }
   ],
   "source": [
    "df.info()"
   ]
  },
  {
   "cell_type": "markdown",
   "metadata": {},
   "source": [
    "**Вывод:**\n",
    "\n",
    "1. Таблица импортирована\n",
    "2. Типы данных приведены в соответствие\n",
    "3. В наименовании столбцов используется однородный регистр\n",
    "4. Отсутствуют явные дубликаты"
   ]
  },
  {
   "cell_type": "markdown",
   "metadata": {},
   "source": [
    "## Разделение данных на выборки"
   ]
  },
  {
   "cell_type": "markdown",
   "metadata": {},
   "source": [
    "Перед тем как разбить данные на выборки, объявлю две переменные, в которых разделю таблицу на признаки и целевой признак. В соответствии с поставленной задачей, целевым признаком является колонка `is_ultra`."
   ]
  },
  {
   "cell_type": "code",
   "execution_count": 11,
   "metadata": {},
   "outputs": [],
   "source": [
    "#переменная содержащая признаки\n",
    "features = df.drop('is_ultra', axis=1)\n",
    "#переменная содержащая целевой признак\n",
    "target = df['is_ultra']"
   ]
  },
  {
   "cell_type": "markdown",
   "metadata": {},
   "source": [
    "Теперь, после разделения таблицы на признаки, необходимо разобить данные на выборки. Так как тестовой выборки у нас нет, разобью данные на обучающую, валидационную и тестовую выборки в соотношении 3:1:1. Для разбивки на выборки использую функцию `train_test_split` библиотеки `sklearn`."
   ]
  },
  {
   "cell_type": "code",
   "execution_count": 12,
   "metadata": {},
   "outputs": [],
   "source": [
    "#разбиваю данные на тренировочную и валидационную выборки\n",
    "features_train, features_valid, target_train, target_valid = train_test_split(\n",
    "                                                            features, target, test_size=0.4,\n",
    "                                                            random_state=12345)\n",
    "#разбиваю валидационную выборку на валидационную и тестовую выборки\n",
    "features_test, features_valid, target_test, target_valid = train_test_split(\n",
    "                                                            features_valid, target_valid, \n",
    "                                                            test_size=0.5, random_state=12345)"
   ]
  },
  {
   "cell_type": "code",
   "execution_count": 13,
   "metadata": {},
   "outputs": [
    {
     "data": {
      "text/plain": [
       "(1928, 4)"
      ]
     },
     "metadata": {},
     "output_type": "display_data"
    },
    {
     "data": {
      "text/plain": [
       "(1928,)"
      ]
     },
     "metadata": {},
     "output_type": "display_data"
    },
    {
     "data": {
      "text/plain": [
       "(643, 4)"
      ]
     },
     "metadata": {},
     "output_type": "display_data"
    },
    {
     "data": {
      "text/plain": [
       "(643,)"
      ]
     },
     "metadata": {},
     "output_type": "display_data"
    },
    {
     "data": {
      "text/plain": [
       "(643, 4)"
      ]
     },
     "metadata": {},
     "output_type": "display_data"
    },
    {
     "data": {
      "text/plain": [
       "(643,)"
      ]
     },
     "metadata": {},
     "output_type": "display_data"
    }
   ],
   "source": [
    "display(features_train.shape)\n",
    "display(target_train.shape)\n",
    "display(features_valid.shape)\n",
    "display(target_valid.shape)\n",
    "display(features_test.shape)\n",
    "display(target_test.shape)"
   ]
  },
  {
   "cell_type": "markdown",
   "metadata": {},
   "source": [
    "**Вывод:**\n",
    "\n",
    "- данные таблицы разделены на признаки и целевой признак\n",
    "- целевым признаком является колонка `is_ultra`\n",
    "- данные разбиты на обучающую, валидационную и тестовую выборки в соотношении 3:1:1 (60%, 20%, 20%)."
   ]
  },
  {
   "cell_type": "markdown",
   "metadata": {},
   "source": [
    "## Обучение моделей"
   ]
  },
  {
   "cell_type": "markdown",
   "metadata": {},
   "source": [
    "### Решающее дерево"
   ]
  },
  {
   "cell_type": "markdown",
   "metadata": {},
   "source": [
    "Проверю качество обученной модели на основе валидационной выборки. Инициирую модель `DecisionTreeClassifier` из библиотеки `sklearn`.\n",
    "Вычисление точности проведу с помощью метода `accuracy_score`."
   ]
  },
  {
   "cell_type": "code",
   "execution_count": 15,
   "metadata": {},
   "outputs": [
    {
     "name": "stdout",
     "output_type": "stream",
     "text": [
      "Accuracy наилучшей модели на валидационной выборке: 0.7993779160186625 Глубина дерева: 7\n"
     ]
    },
    {
     "data": {
      "image/png": "[encoded data removed]",
      "text/plain": [
       "<Figure size 432x288 with 1 Axes>"
      ]
     },
     "metadata": {
      "needs_background": "light"
     },
     "output_type": "display_data"
    }
   ],
   "source": [
    "best_model_dtc = None\n",
    "best_result_dtc = 0\n",
    "best_depth_dtc = 0\n",
    "depth_valid = []\n",
    "result_valid = []\n",
    "for depth in range(1, 50):\n",
    "    model_dtc = DecisionTreeClassifier(random_state=12345, max_depth=depth) # обучаю модель с заданной глубиной дерева\n",
    "    model_dtc.fit(features_train, target_train) # обучаю модель на тренировочной выборке\n",
    "    predictions_valid_dtc = model_dtc.predict(features_valid) # получаю предсказания модели на валидационной выборке\n",
    "    result_dtc = accuracy_score(target_valid, predictions_valid_dtc) # считаю качество модели на валидационной выборке\n",
    "    depth_valid.append(depth)\n",
    "    result_valid.append(result_dtc)\n",
    "    if result_dtc > best_result_dtc:\n",
    "        best_model_dtc = model_dtc # сохраняю наилучшую модель\n",
    "        best_result_dtc = result_dtc #  сохраняю наилучшее значение метрики accuracy на валидационных данных\n",
    "        best_depth_dtc = depth # сохраняю наилучшую глубину дерева\n",
    "print('Accuracy наилучшей модели на валидационной выборке:', best_result_dtc, 'Глубина дерева:', best_depth_dtc)\n",
    "\n",
    "plt.plot(depth_valid, result_valid)\n",
    "plt.xlabel('Depth')\n",
    "plt.ylabel('Accuracy')\n",
    "plt.show()"
   ]
  },
  {
   "cell_type": "markdown",
   "metadata": {},
   "source": [
    "Наилучшая точность модели решающего дерева на валидационной выборке соответствует **79,9%** при глубине дерева **7**."
   ]
  },
  {
   "cell_type": "markdown",
   "metadata": {},
   "source": [
    "### Случайный лес"
   ]
  },
  {
   "cell_type": "markdown",
   "metadata": {},
   "source": [
    "Теперь найду наилучшую точность обученной модели на основе валидационной выборки с помощью модели `RandomForestClassifier` из библиотеки `sklearn`.\n",
    "Вычисление точности также проведу с помощью метода `accuracy_score`."
   ]
  },
  {
   "cell_type": "code",
   "execution_count": 16,
   "metadata": {},
   "outputs": [
    {
     "name": "stdout",
     "output_type": "stream",
     "text": [
      "Accuracy наилучшей модели на валидационной выборке: 0.8133748055987559 Количество деревьев: 10 Максимальная глубина: 19\n"
     ]
    },
    {
     "data": {
      "image/png": "[encoded data removed]",
      "text/plain": [
       "<Figure size 432x288 with 1 Axes>"
      ]
     },
     "metadata": {
      "needs_background": "light"
     },
     "output_type": "display_data"
    }
   ],
   "source": [
    "best_model_rfc = None\n",
    "best_result_rfc = 0\n",
    "best_est_rfc = 0\n",
    "best_depth_rfc = 0\n",
    "est_valid = []\n",
    "result_valid = []\n",
    "for est in range(10, 60, 5):\n",
    "    for depth in range (1, 20):\n",
    "        # инициализирую модель RandomForestRegressor с параметрами random_state=12345, n_estimators=est и max_depth=depth\n",
    "        model_rfc = RandomForestClassifier(random_state=12345, n_estimators=est, max_depth=depth)\n",
    "        # обучаю модель на тренировочной выборке\n",
    "        model_rfc.fit(features_train, target_train)\n",
    "        # получаю предсказания модели на валидационной выборке\n",
    "        predictions_valid_rfc = model_rfc.predict(features_valid)\n",
    "        # считаю качество модели\n",
    "        result_rfc = accuracy_score(target_valid, predictions_valid_rfc)\n",
    "        est_valid.append(est)\n",
    "        result_valid.append(result_rfc)\n",
    "        if result_rfc > best_result_rfc:\n",
    "            best_model_rfc = model_rfc\n",
    "            best_result_rfc = result_rfc\n",
    "            best_est_rfc = est\n",
    "            best_depth_rfc = depth\n",
    "\n",
    "print('Accuracy наилучшей модели на валидационной выборке:', best_result_rfc, 'Количество деревьев:', best_est_rfc, 'Максимальная глубина:', depth)\n",
    "\n",
    "plt.plot(est_valid, result_valid)\n",
    "plt.xlabel('Est')\n",
    "plt.ylabel('Accuracy')\n",
    "plt.show()"
   ]
  },
  {
   "cell_type": "markdown",
   "metadata": {},
   "source": [
    "Наилучшее качество модели случайного леса соответствует **81%** при количестве деревьев **10** и глубине деревьев **19**, что почти на 2% выше, чем у модели решающего дерева."
   ]
  },
  {
   "cell_type": "markdown",
   "metadata": {},
   "source": [
    "### Логистическая регрессия"
   ]
  },
  {
   "cell_type": "markdown",
   "metadata": {},
   "source": [
    "Далее необходимо рассмотреть, как обучается модель при логистической регресии. Применю модель `LogisticRegression` из библиотеки `sklearn` и вычислю `accuracy`."
   ]
  },
  {
   "cell_type": "code",
   "execution_count": 17,
   "metadata": {},
   "outputs": [
    {
     "name": "stdout",
     "output_type": "stream",
     "text": [
      "Accuracy модели на валидационной выборке: 0.6842923794712286\n"
     ]
    }
   ],
   "source": [
    "model_lr = LogisticRegression(random_state=12345, max_iter=10000)\n",
    "model_lr.fit(features_train, target_train)\n",
    "predictions_valid_lr = model_lr.predict(features_valid)\n",
    "result_lr = accuracy_score(target_valid, predictions_valid_lr)\n",
    "\n",
    "              \n",
    "print('Accuracy модели на валидационной выборке:', result_lr)"
   ]
  },
  {
   "cell_type": "markdown",
   "metadata": {},
   "source": [
    "У логистической регрессии оказалась самая наименьшая точность модели **68%**."
   ]
  },
  {
   "cell_type": "markdown",
   "metadata": {},
   "source": [
    "**Вывод:**\n",
    "\n",
    "- Наилучшая точность модели решающего дерева составляет 79,9%\n",
    "- Наилучшая точность модели случайного леса составляет 81%\n",
    "- Точность модели логистической регрессии составляет 68%"
   ]
  },
  {
   "cell_type": "markdown",
   "metadata": {},
   "source": [
    "## Проверка лучшей модели на тестовой выборке"
   ]
  },
  {
   "cell_type": "markdown",
   "metadata": {},
   "source": [
    "По результатам проверки на валидационной выборке, лучшей моделью является модель случайного леса с точностью 81%, количеством деревьев 10 и максимальной глубиной 19.\n",
    "\n",
    "Проверю данную модель на тестовой выборке, чтобы убедиться в работоспособности модели."
   ]
  },
  {
   "cell_type": "code",
   "execution_count": 18,
   "metadata": {},
   "outputs": [
    {
     "name": "stdout",
     "output_type": "stream",
     "text": [
      "Accuracy модели на тестовой выборке: 0.7853810264385692\n"
     ]
    }
   ],
   "source": [
    "predictions_test_rfc = best_model_rfc.predict(features_test)\n",
    "result_rfc_test = accuracy_score(target_test, predictions_test_rfc)\n",
    "print('Accuracy модели на тестовой выборке:', result_rfc_test)"
   ]
  },
  {
   "cell_type": "markdown",
   "metadata": {},
   "source": [
    "Точность модели на тестовой выборке случайного леса составляет 78,5%, точность не много ниже, чем при проверке на валидационной выборке, но все же соответствует требованию с точностью правильных ответов (accuracy) не менее 75%. "
   ]
  },
  {
   "cell_type": "markdown",
   "metadata": {},
   "source": [
    "## Проверка модели на адекватность"
   ]
  },
  {
   "cell_type": "markdown",
   "metadata": {},
   "source": [
    "Чтобы оценить адекватность модели или проверить ее на вменяемость, необходимо сравнивайте модель со случайной. Проведу проверку модели на адекватность с помощью классификатора `DummyClassifier` из библиотеки `sklearn`. Применю параметр `uniform`, который генерирует прогнозы равномерно случайным образом и каждый класс имеет равную вероятность."
   ]
  },
  {
   "cell_type": "code",
   "execution_count": 19,
   "metadata": {},
   "outputs": [
    {
     "data": {
      "text/plain": [
       "0.4979253112033195"
      ]
     },
     "execution_count": 19,
     "metadata": {},
     "output_type": "execute_result"
    }
   ],
   "source": [
    "dummy_clf = DummyClassifier(strategy='uniform')\n",
    "dummy_clf.fit(features_train, target_train)\n",
    "dummy_clf.predict(features_valid)\n",
    "dummy_clf.score(features_train, target_train)"
   ]
  },
  {
   "cell_type": "markdown",
   "metadata": {},
   "source": [
    "Качество случайной модели составляет всего 49%, качество моделей при проверке на валидационной и тестовой выборках значительно выше, что говорит об адекватности и вменяемости моделей."
   ]
  },
  {
   "cell_type": "markdown",
   "metadata": {},
   "source": [
    "## Общий вывод"
   ]
  },
  {
   "cell_type": "markdown",
   "metadata": {},
   "source": [
    "В ходе выполнения проекта, было выполнено следущее:\n",
    "\n",
    "- разбиты данные на выборки:обучающую, валидационную и тестовую в соотношении 3:1:1;\n",
    "- выделены признаки и целевой признак;\n",
    "- созданы и обучены модели для задач классификации: решающее дерево, случайный лес и логистическая регрессия;\n",
    "- рассчитана точность моделей для валидационной выборки, наилучшая точность соответствует модели случайного леса;\n",
    "- проверена точность моделей на тестовой выборке, наилучшей точностью, также соответствует модель случайного леса;\n",
    "- проверена модель на адекватность и вменяемость."
   ]
  }
 ],
 "metadata": {
  "ExecuteTimeLog": [
   {
    "duration": 392,
    "start_time": "2022-11-21T14:58:04.309Z"
   },
   {
    "duration": 155,
    "start_time": "2022-11-21T14:58:54.076Z"
   },
   {
    "duration": 16,
    "start_time": "2022-11-21T14:59:59.269Z"
   },
   {
    "duration": 12,
    "start_time": "2022-11-21T15:00:05.196Z"
   },
   {
    "duration": 12,
    "start_time": "2022-11-21T15:00:27.804Z"
   },
   {
    "duration": 23,
    "start_time": "2022-11-21T15:06:47.687Z"
   },
   {
    "duration": 6,
    "start_time": "2022-11-21T15:07:25.604Z"
   },
   {
    "duration": 704,
    "start_time": "2022-11-21T15:59:51.785Z"
   },
   {
    "duration": 29,
    "start_time": "2022-11-21T15:59:52.491Z"
   },
   {
    "duration": 9,
    "start_time": "2022-11-21T15:59:52.522Z"
   },
   {
    "duration": 19,
    "start_time": "2022-11-21T15:59:52.532Z"
   },
   {
    "duration": 12,
    "start_time": "2022-11-21T15:59:52.553Z"
   },
   {
    "duration": 23,
    "start_time": "2022-11-21T15:59:52.566Z"
   },
   {
    "duration": 6,
    "start_time": "2022-11-21T15:59:52.590Z"
   },
   {
    "duration": 3,
    "start_time": "2022-11-21T16:00:00.014Z"
   },
   {
    "duration": 41,
    "start_time": "2022-11-21T16:00:00.020Z"
   },
   {
    "duration": 12,
    "start_time": "2022-11-21T16:00:00.063Z"
   },
   {
    "duration": 30,
    "start_time": "2022-11-21T16:00:00.077Z"
   },
   {
    "duration": 29,
    "start_time": "2022-11-21T16:00:00.110Z"
   },
   {
    "duration": 63,
    "start_time": "2022-11-21T16:00:00.141Z"
   },
   {
    "duration": 8,
    "start_time": "2022-11-21T16:00:00.206Z"
   },
   {
    "duration": 4,
    "start_time": "2022-11-21T16:00:02.962Z"
   },
   {
    "duration": 82,
    "start_time": "2022-11-21T16:00:02.968Z"
   },
   {
    "duration": 10,
    "start_time": "2022-11-21T16:00:03.052Z"
   },
   {
    "duration": 30,
    "start_time": "2022-11-21T16:00:03.064Z"
   },
   {
    "duration": 35,
    "start_time": "2022-11-21T16:00:03.096Z"
   },
   {
    "duration": 42,
    "start_time": "2022-11-21T16:00:03.133Z"
   },
   {
    "duration": 14,
    "start_time": "2022-11-21T16:00:03.177Z"
   },
   {
    "duration": 4,
    "start_time": "2022-11-21T16:00:09.115Z"
   },
   {
    "duration": 33,
    "start_time": "2022-11-21T16:00:09.121Z"
   },
   {
    "duration": 10,
    "start_time": "2022-11-21T16:00:09.155Z"
   },
   {
    "duration": 22,
    "start_time": "2022-11-21T16:00:09.166Z"
   },
   {
    "duration": 18,
    "start_time": "2022-11-21T16:00:09.190Z"
   },
   {
    "duration": 28,
    "start_time": "2022-11-21T16:00:09.209Z"
   },
   {
    "duration": 5,
    "start_time": "2022-11-21T16:00:09.238Z"
   },
   {
    "duration": 44,
    "start_time": "2022-11-27T12:22:03.284Z"
   },
   {
    "duration": 983,
    "start_time": "2022-11-27T12:22:09.794Z"
   },
   {
    "duration": 64,
    "start_time": "2022-11-27T12:22:10.779Z"
   },
   {
    "duration": 18,
    "start_time": "2022-11-27T12:22:10.846Z"
   },
   {
    "duration": 8,
    "start_time": "2022-11-27T12:22:10.866Z"
   },
   {
    "duration": 13,
    "start_time": "2022-11-27T12:22:10.876Z"
   },
   {
    "duration": 22,
    "start_time": "2022-11-27T12:22:10.891Z"
   },
   {
    "duration": 6,
    "start_time": "2022-11-27T12:22:10.914Z"
   },
   {
    "duration": 6,
    "start_time": "2022-11-27T12:22:10.921Z"
   },
   {
    "duration": 5,
    "start_time": "2022-11-27T12:23:16.331Z"
   },
   {
    "duration": 5,
    "start_time": "2022-11-27T12:23:50.537Z"
   },
   {
    "duration": 4,
    "start_time": "2022-11-27T12:24:22.641Z"
   },
   {
    "duration": 10,
    "start_time": "2022-11-27T12:24:50.639Z"
   },
   {
    "duration": 5,
    "start_time": "2022-11-27T12:46:57.822Z"
   },
   {
    "duration": 5,
    "start_time": "2022-11-27T13:11:17.173Z"
   },
   {
    "duration": 5,
    "start_time": "2022-11-27T13:15:33.323Z"
   },
   {
    "duration": 7,
    "start_time": "2022-11-27T13:23:03.347Z"
   },
   {
    "duration": 1055,
    "start_time": "2022-11-27T13:27:03.292Z"
   },
   {
    "duration": 30,
    "start_time": "2022-11-27T13:27:04.349Z"
   },
   {
    "duration": 17,
    "start_time": "2022-11-27T13:27:04.381Z"
   },
   {
    "duration": 8,
    "start_time": "2022-11-27T13:27:04.400Z"
   },
   {
    "duration": 16,
    "start_time": "2022-11-27T13:27:04.410Z"
   },
   {
    "duration": 25,
    "start_time": "2022-11-27T13:27:04.427Z"
   },
   {
    "duration": 5,
    "start_time": "2022-11-27T13:27:04.453Z"
   },
   {
    "duration": 9,
    "start_time": "2022-11-27T13:27:04.460Z"
   },
   {
    "duration": 8,
    "start_time": "2022-11-27T13:27:04.470Z"
   },
   {
    "duration": 21,
    "start_time": "2022-11-27T13:27:04.480Z"
   },
   {
    "duration": 8,
    "start_time": "2022-11-27T13:27:04.502Z"
   },
   {
    "duration": 17,
    "start_time": "2022-11-27T13:27:04.512Z"
   },
   {
    "duration": 89,
    "start_time": "2022-11-27T13:50:40.573Z"
   },
   {
    "duration": 39,
    "start_time": "2022-11-27T13:50:47.306Z"
   },
   {
    "duration": 28,
    "start_time": "2022-11-27T13:50:47.347Z"
   },
   {
    "duration": 9,
    "start_time": "2022-11-27T13:50:47.377Z"
   },
   {
    "duration": 11,
    "start_time": "2022-11-27T13:50:47.387Z"
   },
   {
    "duration": 10,
    "start_time": "2022-11-27T13:50:47.401Z"
   },
   {
    "duration": 20,
    "start_time": "2022-11-27T13:50:47.413Z"
   },
   {
    "duration": 5,
    "start_time": "2022-11-27T13:50:47.434Z"
   },
   {
    "duration": 13,
    "start_time": "2022-11-27T13:50:47.441Z"
   },
   {
    "duration": 6,
    "start_time": "2022-11-27T13:50:47.455Z"
   },
   {
    "duration": 11,
    "start_time": "2022-11-27T13:50:47.463Z"
   },
   {
    "duration": 5,
    "start_time": "2022-11-27T13:50:47.475Z"
   },
   {
    "duration": 8,
    "start_time": "2022-11-27T13:50:47.481Z"
   },
   {
    "duration": 456,
    "start_time": "2022-11-27T13:50:47.490Z"
   },
   {
    "duration": 20,
    "start_time": "2022-11-27T14:04:58.543Z"
   },
   {
    "duration": 3,
    "start_time": "2022-11-27T14:05:16.390Z"
   },
   {
    "duration": 35,
    "start_time": "2022-11-27T14:05:16.395Z"
   },
   {
    "duration": 10,
    "start_time": "2022-11-27T14:05:16.432Z"
   },
   {
    "duration": 21,
    "start_time": "2022-11-27T14:05:16.444Z"
   },
   {
    "duration": 19,
    "start_time": "2022-11-27T14:05:16.468Z"
   },
   {
    "duration": 26,
    "start_time": "2022-11-27T14:05:16.489Z"
   },
   {
    "duration": 6,
    "start_time": "2022-11-27T14:05:16.517Z"
   },
   {
    "duration": 8,
    "start_time": "2022-11-27T14:05:16.525Z"
   },
   {
    "duration": 5,
    "start_time": "2022-11-27T14:05:16.535Z"
   },
   {
    "duration": 31,
    "start_time": "2022-11-27T14:05:16.542Z"
   },
   {
    "duration": 10,
    "start_time": "2022-11-27T14:05:16.575Z"
   },
   {
    "duration": 7,
    "start_time": "2022-11-27T14:05:16.587Z"
   },
   {
    "duration": 24,
    "start_time": "2022-11-27T14:05:16.596Z"
   },
   {
    "duration": 22,
    "start_time": "2022-11-27T14:05:55.210Z"
   },
   {
    "duration": 23,
    "start_time": "2022-11-27T14:06:15.741Z"
   },
   {
    "duration": 22,
    "start_time": "2022-11-27T14:06:55.028Z"
   },
   {
    "duration": 14,
    "start_time": "2022-11-27T14:10:02.744Z"
   },
   {
    "duration": 17,
    "start_time": "2022-11-27T14:10:46.661Z"
   },
   {
    "duration": 99,
    "start_time": "2022-11-27T14:11:10.248Z"
   },
   {
    "duration": 243,
    "start_time": "2022-11-27T14:11:23.896Z"
   },
   {
    "duration": 450,
    "start_time": "2022-11-27T14:11:30.097Z"
   },
   {
    "duration": 9,
    "start_time": "2022-11-27T14:18:26.381Z"
   },
   {
    "duration": 445,
    "start_time": "2022-11-27T14:19:23.731Z"
   },
   {
    "duration": 5,
    "start_time": "2022-11-27T14:19:29.750Z"
   },
   {
    "duration": 53,
    "start_time": "2022-11-27T14:19:29.761Z"
   },
   {
    "duration": 10,
    "start_time": "2022-11-27T14:19:29.816Z"
   },
   {
    "duration": 21,
    "start_time": "2022-11-27T14:19:29.828Z"
   },
   {
    "duration": 30,
    "start_time": "2022-11-27T14:19:29.851Z"
   },
   {
    "duration": 37,
    "start_time": "2022-11-27T14:19:29.883Z"
   },
   {
    "duration": 17,
    "start_time": "2022-11-27T14:19:29.922Z"
   },
   {
    "duration": 4,
    "start_time": "2022-11-27T14:19:29.941Z"
   },
   {
    "duration": 29,
    "start_time": "2022-11-27T14:19:29.946Z"
   },
   {
    "duration": 24,
    "start_time": "2022-11-27T14:19:29.977Z"
   },
   {
    "duration": 20,
    "start_time": "2022-11-27T14:19:30.003Z"
   },
   {
    "duration": 19,
    "start_time": "2022-11-27T14:19:30.025Z"
   },
   {
    "duration": 489,
    "start_time": "2022-11-27T14:19:30.046Z"
   },
   {
    "duration": 22,
    "start_time": "2022-11-27T14:19:30.537Z"
   },
   {
    "duration": 9,
    "start_time": "2022-11-27T14:21:36.319Z"
   },
   {
    "duration": 5,
    "start_time": "2022-11-27T14:26:44.454Z"
   },
   {
    "duration": 10,
    "start_time": "2022-11-27T14:28:39.534Z"
   },
   {
    "duration": 11,
    "start_time": "2022-11-27T14:29:17.526Z"
   },
   {
    "duration": 1476,
    "start_time": "2022-11-27T14:29:47.150Z"
   },
   {
    "duration": 35,
    "start_time": "2022-11-27T14:29:48.628Z"
   },
   {
    "duration": 20,
    "start_time": "2022-11-27T14:29:48.665Z"
   },
   {
    "duration": 9,
    "start_time": "2022-11-27T14:29:48.687Z"
   },
   {
    "duration": 16,
    "start_time": "2022-11-27T14:29:48.697Z"
   },
   {
    "duration": 49,
    "start_time": "2022-11-27T14:29:48.714Z"
   },
   {
    "duration": 10,
    "start_time": "2022-11-27T14:29:48.766Z"
   },
   {
    "duration": 6,
    "start_time": "2022-11-27T14:29:48.778Z"
   },
   {
    "duration": 7,
    "start_time": "2022-11-27T14:29:48.786Z"
   },
   {
    "duration": 15,
    "start_time": "2022-11-27T14:29:48.795Z"
   },
   {
    "duration": 9,
    "start_time": "2022-11-27T14:29:48.812Z"
   },
   {
    "duration": 14,
    "start_time": "2022-11-27T14:29:48.824Z"
   },
   {
    "duration": 20,
    "start_time": "2022-11-27T14:29:48.852Z"
   },
   {
    "duration": 549,
    "start_time": "2022-11-27T14:29:48.874Z"
   },
   {
    "duration": 105,
    "start_time": "2022-11-27T14:29:49.431Z"
   },
   {
    "duration": 58,
    "start_time": "2022-11-27T14:30:20.748Z"
   },
   {
    "duration": 29,
    "start_time": "2022-11-27T14:30:20.808Z"
   },
   {
    "duration": 10,
    "start_time": "2022-11-27T14:30:20.838Z"
   },
   {
    "duration": 19,
    "start_time": "2022-11-27T14:30:20.851Z"
   },
   {
    "duration": 12,
    "start_time": "2022-11-27T14:30:20.871Z"
   },
   {
    "duration": 22,
    "start_time": "2022-11-27T14:30:20.885Z"
   },
   {
    "duration": 7,
    "start_time": "2022-11-27T14:30:20.909Z"
   },
   {
    "duration": 5,
    "start_time": "2022-11-27T14:30:20.917Z"
   },
   {
    "duration": 7,
    "start_time": "2022-11-27T14:30:20.923Z"
   },
   {
    "duration": 34,
    "start_time": "2022-11-27T14:30:20.932Z"
   },
   {
    "duration": 6,
    "start_time": "2022-11-27T14:30:20.968Z"
   },
   {
    "duration": 9,
    "start_time": "2022-11-27T14:30:20.976Z"
   },
   {
    "duration": 29,
    "start_time": "2022-11-27T14:30:20.986Z"
   },
   {
    "duration": 499,
    "start_time": "2022-11-27T14:30:21.018Z"
   },
   {
    "duration": 15,
    "start_time": "2022-11-27T14:30:21.519Z"
   },
   {
    "duration": 298,
    "start_time": "2022-11-27T14:31:53.197Z"
   },
   {
    "duration": 12,
    "start_time": "2022-11-27T14:32:29.427Z"
   },
   {
    "duration": 8,
    "start_time": "2022-11-27T14:32:43.001Z"
   },
   {
    "duration": 275,
    "start_time": "2022-11-27T14:33:12.607Z"
   },
   {
    "duration": 261,
    "start_time": "2022-11-27T14:34:06.654Z"
   },
   {
    "duration": 541,
    "start_time": "2022-11-27T14:45:33.224Z"
   },
   {
    "duration": 489,
    "start_time": "2022-11-27T14:46:02.561Z"
   },
   {
    "duration": 466,
    "start_time": "2022-11-27T14:46:23.772Z"
   },
   {
    "duration": 504,
    "start_time": "2022-11-27T14:46:34.633Z"
   },
   {
    "duration": 472,
    "start_time": "2022-11-27T14:47:05.419Z"
   },
   {
    "duration": 472,
    "start_time": "2022-11-27T14:47:14.277Z"
   },
   {
    "duration": 11,
    "start_time": "2022-11-27T15:03:13.962Z"
   },
   {
    "duration": 30,
    "start_time": "2022-11-27T15:03:13.975Z"
   },
   {
    "duration": 11,
    "start_time": "2022-11-27T15:03:14.006Z"
   },
   {
    "duration": 13,
    "start_time": "2022-11-27T15:03:14.019Z"
   },
   {
    "duration": 16,
    "start_time": "2022-11-27T15:03:14.033Z"
   },
   {
    "duration": 23,
    "start_time": "2022-11-27T15:03:14.051Z"
   },
   {
    "duration": 6,
    "start_time": "2022-11-27T15:03:14.076Z"
   },
   {
    "duration": 9,
    "start_time": "2022-11-27T15:03:14.084Z"
   },
   {
    "duration": 6,
    "start_time": "2022-11-27T15:03:14.094Z"
   },
   {
    "duration": 11,
    "start_time": "2022-11-27T15:03:14.102Z"
   },
   {
    "duration": 4,
    "start_time": "2022-11-27T15:03:14.115Z"
   },
   {
    "duration": 35,
    "start_time": "2022-11-27T15:03:14.120Z"
   },
   {
    "duration": 14,
    "start_time": "2022-11-27T15:03:14.156Z"
   },
   {
    "duration": 467,
    "start_time": "2022-11-27T15:03:14.172Z"
   },
   {
    "duration": 3,
    "start_time": "2022-11-27T15:03:14.641Z"
   },
   {
    "duration": 40,
    "start_time": "2022-11-27T15:03:14.652Z"
   },
   {
    "duration": 43,
    "start_time": "2022-11-27T15:03:46.218Z"
   },
   {
    "duration": 101610,
    "start_time": "2022-11-27T15:06:52.694Z"
   },
   {
    "duration": 17878,
    "start_time": "2022-11-27T15:09:53.426Z"
   },
   {
    "duration": 1194,
    "start_time": "2022-11-27T15:21:03.848Z"
   },
   {
    "duration": 30,
    "start_time": "2022-11-27T15:21:05.044Z"
   },
   {
    "duration": 17,
    "start_time": "2022-11-27T15:21:05.076Z"
   },
   {
    "duration": 12,
    "start_time": "2022-11-27T15:21:05.096Z"
   },
   {
    "duration": 12,
    "start_time": "2022-11-27T15:21:05.109Z"
   },
   {
    "duration": 22,
    "start_time": "2022-11-27T15:21:05.123Z"
   },
   {
    "duration": 7,
    "start_time": "2022-11-27T15:21:05.152Z"
   },
   {
    "duration": 5,
    "start_time": "2022-11-27T15:21:05.160Z"
   },
   {
    "duration": 8,
    "start_time": "2022-11-27T15:21:05.166Z"
   },
   {
    "duration": 12,
    "start_time": "2022-11-27T15:21:05.177Z"
   },
   {
    "duration": 5,
    "start_time": "2022-11-27T15:21:05.191Z"
   },
   {
    "duration": 7,
    "start_time": "2022-11-27T15:21:05.198Z"
   },
   {
    "duration": 10,
    "start_time": "2022-11-27T15:21:05.207Z"
   },
   {
    "duration": 473,
    "start_time": "2022-11-27T15:21:05.219Z"
   },
   {
    "duration": 17545,
    "start_time": "2022-11-27T15:21:05.693Z"
   },
   {
    "duration": 207,
    "start_time": "2022-11-27T15:36:47.341Z"
   },
   {
    "duration": 31,
    "start_time": "2022-11-27T15:36:47.549Z"
   },
   {
    "duration": 11,
    "start_time": "2022-11-27T15:36:47.581Z"
   },
   {
    "duration": 15,
    "start_time": "2022-11-27T15:36:47.593Z"
   },
   {
    "duration": 13,
    "start_time": "2022-11-27T15:36:47.610Z"
   },
   {
    "duration": 23,
    "start_time": "2022-11-27T15:36:47.624Z"
   },
   {
    "duration": 6,
    "start_time": "2022-11-27T15:36:47.652Z"
   },
   {
    "duration": 4,
    "start_time": "2022-11-27T15:36:47.660Z"
   },
   {
    "duration": 5,
    "start_time": "2022-11-27T15:36:47.666Z"
   },
   {
    "duration": 13,
    "start_time": "2022-11-27T15:36:47.673Z"
   },
   {
    "duration": 4,
    "start_time": "2022-11-27T15:36:47.688Z"
   },
   {
    "duration": 10,
    "start_time": "2022-11-27T15:36:47.693Z"
   },
   {
    "duration": 47,
    "start_time": "2022-11-27T15:36:47.705Z"
   },
   {
    "duration": 452,
    "start_time": "2022-11-27T15:36:47.754Z"
   },
   {
    "duration": 17695,
    "start_time": "2022-11-27T15:36:48.208Z"
   },
   {
    "duration": 2,
    "start_time": "2022-11-27T15:37:05.905Z"
   },
   {
    "duration": 9,
    "start_time": "2022-11-27T15:37:05.908Z"
   },
   {
    "duration": 643,
    "start_time": "2022-11-27T15:38:46.243Z"
   },
   {
    "duration": 576,
    "start_time": "2022-11-27T15:50:31.876Z"
   },
   {
    "duration": 681,
    "start_time": "2022-11-27T15:54:52.400Z"
   },
   {
    "duration": 575,
    "start_time": "2022-11-27T16:03:16.957Z"
   },
   {
    "duration": 599,
    "start_time": "2022-11-27T16:07:52.172Z"
   },
   {
    "duration": 759,
    "start_time": "2022-11-27T16:08:26.503Z"
   },
   {
    "duration": 631,
    "start_time": "2022-11-27T16:16:05.544Z"
   },
   {
    "duration": 20428,
    "start_time": "2022-11-27T16:21:27.162Z"
   },
   {
    "duration": 34,
    "start_time": "2022-11-27T16:42:46.989Z"
   },
   {
    "duration": 27,
    "start_time": "2022-11-27T16:42:56.231Z"
   },
   {
    "duration": 1375,
    "start_time": "2022-11-27T16:55:37.076Z"
   },
   {
    "duration": 32,
    "start_time": "2022-11-27T16:55:38.453Z"
   },
   {
    "duration": 18,
    "start_time": "2022-11-27T16:55:38.487Z"
   },
   {
    "duration": 31,
    "start_time": "2022-11-27T16:55:38.506Z"
   },
   {
    "duration": 32,
    "start_time": "2022-11-27T16:55:38.540Z"
   },
   {
    "duration": 44,
    "start_time": "2022-11-27T16:55:38.574Z"
   },
   {
    "duration": 8,
    "start_time": "2022-11-27T16:55:38.619Z"
   },
   {
    "duration": 21,
    "start_time": "2022-11-27T16:55:38.629Z"
   },
   {
    "duration": 21,
    "start_time": "2022-11-27T16:55:38.652Z"
   },
   {
    "duration": 24,
    "start_time": "2022-11-27T16:55:38.676Z"
   },
   {
    "duration": 21,
    "start_time": "2022-11-27T16:55:38.702Z"
   },
   {
    "duration": 13,
    "start_time": "2022-11-27T16:55:38.724Z"
   },
   {
    "duration": 22,
    "start_time": "2022-11-27T16:55:38.738Z"
   },
   {
    "duration": 617,
    "start_time": "2022-11-27T16:55:38.764Z"
   },
   {
    "duration": 1423,
    "start_time": "2022-11-27T16:55:59.382Z"
   },
   {
    "duration": 31,
    "start_time": "2022-11-27T16:56:00.809Z"
   },
   {
    "duration": 19,
    "start_time": "2022-11-27T16:56:00.841Z"
   },
   {
    "duration": 15,
    "start_time": "2022-11-27T16:56:00.864Z"
   },
   {
    "duration": 25,
    "start_time": "2022-11-27T16:56:00.880Z"
   },
   {
    "duration": 29,
    "start_time": "2022-11-27T16:56:00.907Z"
   },
   {
    "duration": 6,
    "start_time": "2022-11-27T16:56:00.938Z"
   },
   {
    "duration": 14,
    "start_time": "2022-11-27T16:56:00.945Z"
   },
   {
    "duration": 14,
    "start_time": "2022-11-27T16:56:00.961Z"
   },
   {
    "duration": 17,
    "start_time": "2022-11-27T16:56:00.978Z"
   },
   {
    "duration": 8,
    "start_time": "2022-11-27T16:56:00.997Z"
   },
   {
    "duration": 22,
    "start_time": "2022-11-27T16:56:01.007Z"
   },
   {
    "duration": 34,
    "start_time": "2022-11-27T16:56:01.031Z"
   },
   {
    "duration": 630,
    "start_time": "2022-11-27T16:56:01.067Z"
   },
   {
    "duration": 19032,
    "start_time": "2022-11-27T16:56:01.699Z"
   },
   {
    "duration": 117,
    "start_time": "2022-11-27T16:56:20.733Z"
   },
   {
    "duration": 0,
    "start_time": "2022-11-27T16:56:20.851Z"
   },
   {
    "duration": 1,
    "start_time": "2022-11-27T16:56:20.852Z"
   },
   {
    "duration": 0,
    "start_time": "2022-11-27T16:56:20.854Z"
   },
   {
    "duration": 33,
    "start_time": "2022-11-27T16:56:29.254Z"
   },
   {
    "duration": 27,
    "start_time": "2022-11-27T16:56:45.391Z"
   },
   {
    "duration": 26,
    "start_time": "2022-11-27T16:56:54.374Z"
   },
   {
    "duration": 27,
    "start_time": "2022-11-27T16:57:40.526Z"
   },
   {
    "duration": 35,
    "start_time": "2022-11-27T17:03:04.741Z"
   },
   {
    "duration": 34,
    "start_time": "2022-11-27T17:03:14.964Z"
   },
   {
    "duration": 12,
    "start_time": "2022-11-27T17:04:29.816Z"
   },
   {
    "duration": 19,
    "start_time": "2022-11-27T17:04:41.868Z"
   },
   {
    "duration": 24,
    "start_time": "2022-11-27T17:07:27.216Z"
   },
   {
    "duration": 99,
    "start_time": "2022-11-27T17:18:51.945Z"
   },
   {
    "duration": 27,
    "start_time": "2022-11-27T17:19:29.936Z"
   },
   {
    "duration": 11,
    "start_time": "2022-11-27T17:20:09.070Z"
   },
   {
    "duration": 14,
    "start_time": "2022-11-27T17:20:50.265Z"
   },
   {
    "duration": 11,
    "start_time": "2022-11-27T17:21:22.693Z"
   },
   {
    "duration": 11,
    "start_time": "2022-11-27T17:24:58.883Z"
   },
   {
    "duration": 10,
    "start_time": "2022-11-27T17:25:41.012Z"
   },
   {
    "duration": 25,
    "start_time": "2022-11-27T17:25:51.516Z"
   },
   {
    "duration": 32,
    "start_time": "2022-11-27T17:26:01.259Z"
   },
   {
    "duration": 23,
    "start_time": "2022-11-27T17:26:07.882Z"
   },
   {
    "duration": 34,
    "start_time": "2022-11-27T17:26:30.933Z"
   },
   {
    "duration": 23,
    "start_time": "2022-11-27T17:39:29.497Z"
   },
   {
    "duration": 24,
    "start_time": "2022-11-27T17:39:48.876Z"
   },
   {
    "duration": 1375,
    "start_time": "2022-11-27T17:43:53.605Z"
   },
   {
    "duration": 32,
    "start_time": "2022-11-27T17:43:54.983Z"
   },
   {
    "duration": 14,
    "start_time": "2022-11-27T17:43:55.016Z"
   },
   {
    "duration": 10,
    "start_time": "2022-11-27T17:43:55.032Z"
   },
   {
    "duration": 24,
    "start_time": "2022-11-27T17:43:55.045Z"
   },
   {
    "duration": 24,
    "start_time": "2022-11-27T17:43:55.072Z"
   },
   {
    "duration": 6,
    "start_time": "2022-11-27T17:43:55.098Z"
   },
   {
    "duration": 4,
    "start_time": "2022-11-27T17:43:55.105Z"
   },
   {
    "duration": 9,
    "start_time": "2022-11-27T17:43:55.110Z"
   },
   {
    "duration": 15,
    "start_time": "2022-11-27T17:43:55.120Z"
   },
   {
    "duration": 26,
    "start_time": "2022-11-27T17:43:55.136Z"
   },
   {
    "duration": 13,
    "start_time": "2022-11-27T17:43:55.164Z"
   },
   {
    "duration": 13,
    "start_time": "2022-11-27T17:43:55.179Z"
   },
   {
    "duration": 119,
    "start_time": "2022-11-27T17:43:55.195Z"
   },
   {
    "duration": 0,
    "start_time": "2022-11-27T17:43:55.315Z"
   },
   {
    "duration": 0,
    "start_time": "2022-11-27T17:43:55.317Z"
   },
   {
    "duration": 0,
    "start_time": "2022-11-27T17:43:55.318Z"
   },
   {
    "duration": 0,
    "start_time": "2022-11-27T17:43:55.319Z"
   },
   {
    "duration": 0,
    "start_time": "2022-11-27T17:43:55.319Z"
   },
   {
    "duration": 484,
    "start_time": "2022-11-27T17:44:25.564Z"
   },
   {
    "duration": 636,
    "start_time": "2022-11-27T17:45:03.345Z"
   },
   {
    "duration": 42,
    "start_time": "2022-11-27T17:45:32.078Z"
   },
   {
    "duration": 42,
    "start_time": "2022-11-27T17:45:48.855Z"
   },
   {
    "duration": 18905,
    "start_time": "2022-11-27T17:46:00.355Z"
   },
   {
    "duration": 25,
    "start_time": "2022-11-27T17:59:57.784Z"
   },
   {
    "duration": 9,
    "start_time": "2022-11-27T18:08:41.412Z"
   },
   {
    "duration": 6,
    "start_time": "2022-11-27T18:09:57.628Z"
   },
   {
    "duration": 8,
    "start_time": "2022-11-27T18:12:36.885Z"
   },
   {
    "duration": 6,
    "start_time": "2022-11-27T18:13:49.929Z"
   },
   {
    "duration": 8,
    "start_time": "2022-11-27T19:50:55.565Z"
   },
   {
    "duration": 6,
    "start_time": "2022-11-27T19:55:13.316Z"
   },
   {
    "duration": 5,
    "start_time": "2022-11-27T20:26:42.921Z"
   },
   {
    "duration": 89,
    "start_time": "2022-11-27T20:52:22.864Z"
   },
   {
    "duration": 8,
    "start_time": "2022-11-27T20:53:52.572Z"
   },
   {
    "duration": 6,
    "start_time": "2022-11-27T20:55:06.777Z"
   },
   {
    "duration": 7,
    "start_time": "2022-11-27T20:55:20.517Z"
   },
   {
    "duration": 1317,
    "start_time": "2022-11-27T20:56:58.655Z"
   },
   {
    "duration": 31,
    "start_time": "2022-11-27T20:56:59.974Z"
   },
   {
    "duration": 14,
    "start_time": "2022-11-27T20:57:00.007Z"
   },
   {
    "duration": 10,
    "start_time": "2022-11-27T20:57:00.024Z"
   },
   {
    "duration": 14,
    "start_time": "2022-11-27T20:57:00.036Z"
   },
   {
    "duration": 23,
    "start_time": "2022-11-27T20:57:00.052Z"
   },
   {
    "duration": 7,
    "start_time": "2022-11-27T20:57:00.077Z"
   },
   {
    "duration": 4,
    "start_time": "2022-11-27T20:57:00.085Z"
   },
   {
    "duration": 6,
    "start_time": "2022-11-27T20:57:00.091Z"
   },
   {
    "duration": 19,
    "start_time": "2022-11-27T20:57:00.100Z"
   },
   {
    "duration": 9,
    "start_time": "2022-11-27T20:57:00.121Z"
   },
   {
    "duration": 21,
    "start_time": "2022-11-27T20:57:00.132Z"
   },
   {
    "duration": 19,
    "start_time": "2022-11-27T20:57:00.155Z"
   },
   {
    "duration": 584,
    "start_time": "2022-11-27T20:57:00.176Z"
   },
   {
    "duration": 17921,
    "start_time": "2022-11-27T20:57:00.761Z"
   },
   {
    "duration": 32,
    "start_time": "2022-11-27T20:57:18.684Z"
   },
   {
    "duration": 7,
    "start_time": "2022-11-27T20:57:18.717Z"
   },
   {
    "duration": 35,
    "start_time": "2022-11-27T20:57:18.725Z"
   },
   {
    "duration": 7,
    "start_time": "2022-11-27T20:57:18.761Z"
   },
   {
    "duration": 7,
    "start_time": "2022-11-27T20:57:18.770Z"
   },
   {
    "duration": 58,
    "start_time": "2022-11-28T10:58:22.984Z"
   },
   {
    "duration": 52,
    "start_time": "2022-11-28T11:20:33.235Z"
   },
   {
    "duration": 1629,
    "start_time": "2022-11-28T11:35:12.404Z"
   },
   {
    "duration": 131,
    "start_time": "2022-11-28T11:35:14.036Z"
   },
   {
    "duration": 20,
    "start_time": "2022-11-28T11:35:14.170Z"
   },
   {
    "duration": 15,
    "start_time": "2022-11-28T11:35:14.193Z"
   },
   {
    "duration": 24,
    "start_time": "2022-11-28T11:35:14.210Z"
   },
   {
    "duration": 52,
    "start_time": "2022-11-28T11:35:14.235Z"
   },
   {
    "duration": 6,
    "start_time": "2022-11-28T11:35:14.289Z"
   },
   {
    "duration": 13,
    "start_time": "2022-11-28T11:35:14.297Z"
   },
   {
    "duration": 17,
    "start_time": "2022-11-28T11:35:14.312Z"
   },
   {
    "duration": 21,
    "start_time": "2022-11-28T11:35:14.332Z"
   },
   {
    "duration": 10,
    "start_time": "2022-11-28T11:35:14.355Z"
   },
   {
    "duration": 24,
    "start_time": "2022-11-28T11:35:14.367Z"
   },
   {
    "duration": 15,
    "start_time": "2022-11-28T11:35:14.393Z"
   },
   {
    "duration": 3428,
    "start_time": "2022-11-28T11:35:14.410Z"
   },
   {
    "duration": 635,
    "start_time": "2022-11-28T11:35:17.840Z"
   },
   {
    "duration": 20086,
    "start_time": "2022-11-28T11:35:18.476Z"
   },
   {
    "duration": 28,
    "start_time": "2022-11-28T11:35:38.564Z"
   },
   {
    "duration": 73,
    "start_time": "2022-11-28T11:35:38.594Z"
   },
   {
    "duration": 9,
    "start_time": "2022-11-28T11:35:38.669Z"
   },
   {
    "duration": 7,
    "start_time": "2022-11-28T11:35:38.679Z"
   },
   {
    "duration": 11,
    "start_time": "2022-11-28T11:35:38.688Z"
   },
   {
    "duration": 42,
    "start_time": "2022-11-28T11:37:18.078Z"
   },
   {
    "duration": 29,
    "start_time": "2022-11-28T11:37:26.030Z"
   },
   {
    "duration": 70,
    "start_time": "2022-11-28T11:37:32.720Z"
   },
   {
    "duration": 47,
    "start_time": "2022-11-28T11:37:38.865Z"
   },
   {
    "duration": 42,
    "start_time": "2022-11-28T11:40:37.043Z"
   },
   {
    "duration": 40,
    "start_time": "2022-11-28T11:40:49.402Z"
   },
   {
    "duration": 45,
    "start_time": "2022-11-28T11:41:04.826Z"
   },
   {
    "duration": 6538,
    "start_time": "2022-11-28T11:41:40.214Z"
   },
   {
    "duration": 6497,
    "start_time": "2022-11-28T11:42:44.103Z"
   },
   {
    "duration": 19138,
    "start_time": "2022-11-28T11:43:22.129Z"
   },
   {
    "duration": 45,
    "start_time": "2022-11-28T11:44:03.197Z"
   },
   {
    "duration": 50,
    "start_time": "2022-11-28T11:44:21.078Z"
   },
   {
    "duration": 1366,
    "start_time": "2022-11-28T11:50:55.246Z"
   },
   {
    "duration": 30,
    "start_time": "2022-11-28T11:50:56.614Z"
   },
   {
    "duration": 16,
    "start_time": "2022-11-28T11:50:56.645Z"
   },
   {
    "duration": 21,
    "start_time": "2022-11-28T11:50:56.663Z"
   },
   {
    "duration": 27,
    "start_time": "2022-11-28T11:50:56.686Z"
   },
   {
    "duration": 35,
    "start_time": "2022-11-28T11:50:56.715Z"
   },
   {
    "duration": 8,
    "start_time": "2022-11-28T11:50:56.752Z"
   },
   {
    "duration": 25,
    "start_time": "2022-11-28T11:50:56.762Z"
   },
   {
    "duration": 9,
    "start_time": "2022-11-28T11:50:56.788Z"
   },
   {
    "duration": 16,
    "start_time": "2022-11-28T11:50:56.798Z"
   },
   {
    "duration": 12,
    "start_time": "2022-11-28T11:50:56.816Z"
   },
   {
    "duration": 14,
    "start_time": "2022-11-28T11:50:56.829Z"
   },
   {
    "duration": 25,
    "start_time": "2022-11-28T11:50:56.845Z"
   },
   {
    "duration": 2212,
    "start_time": "2022-11-28T11:50:56.872Z"
   },
   {
    "duration": 585,
    "start_time": "2022-11-28T11:50:59.086Z"
   },
   {
    "duration": 19244,
    "start_time": "2022-11-28T11:50:59.673Z"
   },
   {
    "duration": 36,
    "start_time": "2022-11-28T11:51:18.919Z"
   },
   {
    "duration": 11,
    "start_time": "2022-11-28T11:51:18.965Z"
   },
   {
    "duration": 19,
    "start_time": "2022-11-28T11:51:18.978Z"
   }
  ],
  "kernelspec": {
   "display_name": "Python 3 (ipykernel)",
   "language": "python",
   "name": "python3"
  },
  "language_info": {
   "codemirror_mode": {
    "name": "ipython",
    "version": 3
   },
   "file_extension": ".py",
   "mimetype": "text/x-python",
   "name": "python",
   "nbconvert_exporter": "python",
   "pygments_lexer": "ipython3",
   "version": "3.9.12"
  },
  "toc": {
   "base_numbering": 1,
   "nav_menu": {},
   "number_sections": true,
   "sideBar": true,
   "skip_h1_title": true,
   "title_cell": "Table of Contents",
   "title_sidebar": "Contents",
   "toc_cell": false,
   "toc_position": {},
   "toc_section_display": true,
   "toc_window_display": true
  }
 },
 "nbformat": 4,
 "nbformat_minor": 2
}
